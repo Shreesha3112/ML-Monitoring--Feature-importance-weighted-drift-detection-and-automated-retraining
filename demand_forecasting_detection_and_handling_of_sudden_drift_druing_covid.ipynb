{
 "cells": [
  {
   "cell_type": "markdown",
   "id": "bc63de82",
   "metadata": {},
   "source": [
    "# ML Monitoring - Feature importance weighted drift detection and automated-retraining\n",
    "\n",
    "## Overview\n",
    "\n",
    "Every model over time is impacted by model performance decay due to data drift and concept drift. One of many solution is to perform drift detection and set up automated retraining of the model. Drift in every feature does't have the same impact on model performance. In this project we combine feature importance of a particular feature with its drift score obtained through statistical test to determine wether to retrain model or not. Thus model will be retrained only when there is drift on features with higher importance and also when feature with lower importance faces higher data drift.\n",
    "\n",
    "## Dataset:\n",
    "\n",
    "* Contains warehouse demand data from 2017-01-01 to 2020-11-15\n",
    "* Working with preprocessed data\n",
    "* No data leakage as missing values were filled without requirement of any transformation\n",
    "\n",
    "## Assumptions\n",
    "\n",
    "* Initial model deployment on march 2019\n",
    "* True labels/ actual demand available over the weekend\n",
    "* Model monitored on weekly basis"
   ]
  },
  {
   "cell_type": "markdown",
   "id": "20bc077d",
   "metadata": {},
   "source": [
    "## Libraries"
   ]
  },
  {
   "cell_type": "code",
   "execution_count": 1,
   "id": "2150e659",
   "metadata": {},
   "outputs": [],
   "source": [
    "import pandas as pd\n",
    "import numpy as np\n",
    "from datetime import date,datetime,timedelta\n",
    "from sklearn.model_selection import train_test_split\n",
    "from rdt import HyperTransformer\n",
    "import xgboost as xgb\n",
    "import optuna\n",
    "import traceback\n",
    "import shap\n",
    "import pickle\n",
    "import logging\n",
    "from importlib import reload\n",
    "import logging\n",
    "from sklearn.metrics import mean_squared_error, mean_absolute_percentage_error, mean_absolute_error\n",
    "from evidently import ColumnMapping\n",
    "from evidently.analyzers.stattests import StatTest\n",
    "from evidently.dashboard import Dashboard\n",
    "from evidently.dashboard.tabs import DataDriftTab, CatTargetDriftTab, NumTargetDriftTab, RegressionPerformanceTab\n",
    "from evidently.options import DataDriftOptions\n",
    "from evidently.model_profile import Profile\n",
    "from evidently.model_profile.sections import DataDriftProfileSection, NumTargetDriftProfileSection\n",
    "import plotly.graph_objects as go\n",
    "import plotly.figure_factory as ff\n",
    "import plotly.express as px\n",
    "import os\n",
    "import json\n",
    "import mlflow\n",
    "from functools import wraps\n",
    "from mlflow.tracking import MlflowClient\n",
    "import plotly.io as pio\n",
    "pio.renderers.default = \"plotly_mimetype\"\n",
    "%matplotlib inline"
   ]
  },
  {
   "cell_type": "code",
   "execution_count": 4,
   "id": "a8149581",
   "metadata": {},
   "outputs": [],
   "source": [
    "# set up logging\n",
    "reload(logging)\n",
    "logging.basicConfig(format='%(asctime)s %(levelname)s:%(message)s', level=logging.INFO, datefmt='%I:%M:%S')"
   ]
  },
  {
   "cell_type": "code",
   "execution_count": 5,
   "id": "9a7fe6d4",
   "metadata": {},
   "outputs": [],
   "source": [
    "# mlflow runner\n",
    "def mlflow_runner(func):\n",
    "    @wraps(func)\n",
    "    def wrapper(*args, **kwargs):\n",
    "        # log into MLflow\n",
    "        client = MlflowClient()\n",
    "        experiment_name = kwargs['experiment_name']\n",
    "        try:\n",
    "            mlflow.set_experiment(experiment_name)\n",
    "        except Exception:\n",
    "            logging.error('Experiment does not exists')\n",
    "            logging.error('Stack trace:{}'.format(traceback.format_exc()))\n",
    "            experiment_id = mlflow.create_experiment(experiment_name)\n",
    "            mlflow.set_experiment(experiment_name)\n",
    "        finally:\n",
    "            with mlflow.start_run() as run:\n",
    "                rv = func(*args, **kwargs)\n",
    "            return rv\n",
    "\n",
    "    return wrapper"
   ]
  },
  {
   "cell_type": "markdown",
   "id": "fe10566d",
   "metadata": {},
   "source": [
    "## Data"
   ]
  },
  {
   "cell_type": "markdown",
   "id": "2e080f13",
   "metadata": {},
   "source": [
    "### Load data"
   ]
  },
  {
   "cell_type": "code",
   "execution_count": 6,
   "id": "3b082e99",
   "metadata": {},
   "outputs": [],
   "source": [
    "df = pd.read_csv('cpp_demand_forecasting_clean_data_v2.csv', index_col=0)"
   ]
  },
  {
   "cell_type": "code",
   "execution_count": 7,
   "id": "f2e957d5",
   "metadata": {},
   "outputs": [
    {
     "name": "stderr",
     "output_type": "stream",
     "text": [
      "01:50:16 INFO:dataset shape : (13315, 33)\n"
     ]
    }
   ],
   "source": [
    "logging.info(f'dataset shape : {df.shape}')"
   ]
  },
  {
   "cell_type": "code",
   "execution_count": 8,
   "id": "2de736f2",
   "metadata": {},
   "outputs": [],
   "source": [
    "# set random state\n",
    "rng = np.random.RandomState(0)"
   ]
  },
  {
   "cell_type": "code",
   "execution_count": 9,
   "id": "7ce62229",
   "metadata": {},
   "outputs": [
    {
     "data": {
      "text/html": [
       "<div>\n",
       "<style scoped>\n",
       "    .dataframe tbody tr th:only-of-type {\n",
       "        vertical-align: middle;\n",
       "    }\n",
       "\n",
       "    .dataframe tbody tr th {\n",
       "        vertical-align: top;\n",
       "    }\n",
       "\n",
       "    .dataframe thead th {\n",
       "        text-align: right;\n",
       "    }\n",
       "</style>\n",
       "<table border=\"1\" class=\"dataframe\">\n",
       "  <thead>\n",
       "    <tr style=\"text-align: right;\">\n",
       "      <th></th>\n",
       "      <th>date</th>\n",
       "      <th>warehouse_ID</th>\n",
       "      <th>Latitude</th>\n",
       "      <th>Longitude</th>\n",
       "      <th>Product_Type</th>\n",
       "      <th>year</th>\n",
       "      <th>month</th>\n",
       "      <th>is_weekend</th>\n",
       "      <th>is_warehouse_closed</th>\n",
       "      <th>daily_dispatch_count</th>\n",
       "      <th>...</th>\n",
       "      <th>statewise_land_area_per_sqmile</th>\n",
       "      <th>statewise_population_per_sqmile</th>\n",
       "      <th>statewise_geographic_region</th>\n",
       "      <th>geographic_region_division</th>\n",
       "      <th>statewise_median_age</th>\n",
       "      <th>statewise_median_household_income</th>\n",
       "      <th>total_count</th>\n",
       "      <th>yearly_count</th>\n",
       "      <th>monthly_count</th>\n",
       "      <th>weekly_count</th>\n",
       "    </tr>\n",
       "    <tr>\n",
       "      <th>ID</th>\n",
       "      <th></th>\n",
       "      <th></th>\n",
       "      <th></th>\n",
       "      <th></th>\n",
       "      <th></th>\n",
       "      <th></th>\n",
       "      <th></th>\n",
       "      <th></th>\n",
       "      <th></th>\n",
       "      <th></th>\n",
       "      <th></th>\n",
       "      <th></th>\n",
       "      <th></th>\n",
       "      <th></th>\n",
       "      <th></th>\n",
       "      <th></th>\n",
       "      <th></th>\n",
       "      <th></th>\n",
       "      <th></th>\n",
       "      <th></th>\n",
       "      <th></th>\n",
       "    </tr>\n",
       "  </thead>\n",
       "  <tbody>\n",
       "    <tr>\n",
       "      <th>0x2710</th>\n",
       "      <td>2017-01-01</td>\n",
       "      <td>WH_0x3e9</td>\n",
       "      <td>41.681471</td>\n",
       "      <td>-72.794746</td>\n",
       "      <td>Type_A</td>\n",
       "      <td>2017</td>\n",
       "      <td>1</td>\n",
       "      <td>Yes</td>\n",
       "      <td>No</td>\n",
       "      <td>5.5</td>\n",
       "      <td>...</td>\n",
       "      <td>4842</td>\n",
       "      <td>744.722016</td>\n",
       "      <td>new_england</td>\n",
       "      <td>north_east</td>\n",
       "      <td>41.2</td>\n",
       "      <td>78833</td>\n",
       "      <td>0</td>\n",
       "      <td>0</td>\n",
       "      <td>0</td>\n",
       "      <td>0</td>\n",
       "    </tr>\n",
       "    <tr>\n",
       "      <th>0x33e6</th>\n",
       "      <td>2017-01-01</td>\n",
       "      <td>WH_0x3ea</td>\n",
       "      <td>38.749077</td>\n",
       "      <td>-105.183060</td>\n",
       "      <td>Type_A</td>\n",
       "      <td>2017</td>\n",
       "      <td>1</td>\n",
       "      <td>Yes</td>\n",
       "      <td>No</td>\n",
       "      <td>6.1</td>\n",
       "      <td>...</td>\n",
       "      <td>103642</td>\n",
       "      <td>56.078318</td>\n",
       "      <td>mountain</td>\n",
       "      <td>west</td>\n",
       "      <td>37.3</td>\n",
       "      <td>41053</td>\n",
       "      <td>0</td>\n",
       "      <td>0</td>\n",
       "      <td>0</td>\n",
       "      <td>0</td>\n",
       "    </tr>\n",
       "  </tbody>\n",
       "</table>\n",
       "<p>2 rows × 33 columns</p>\n",
       "</div>"
      ],
      "text/plain": [
       "              date warehouse_ID   Latitude   Longitude Product_Type  year  \\\n",
       "ID                                                                          \n",
       "0x2710  2017-01-01     WH_0x3e9  41.681471  -72.794746       Type_A  2017   \n",
       "0x33e6  2017-01-01     WH_0x3ea  38.749077 -105.183060       Type_A  2017   \n",
       "\n",
       "        month is_weekend is_warehouse_closed  daily_dispatch_count  ...  \\\n",
       "ID                                                                  ...   \n",
       "0x2710      1        Yes                  No                   5.5  ...   \n",
       "0x33e6      1        Yes                  No                   6.1  ...   \n",
       "\n",
       "        statewise_land_area_per_sqmile  statewise_population_per_sqmile  \\\n",
       "ID                                                                        \n",
       "0x2710                            4842                       744.722016   \n",
       "0x33e6                          103642                        56.078318   \n",
       "\n",
       "       statewise_geographic_region geographic_region_division  \\\n",
       "ID                                                              \n",
       "0x2710                 new_england                 north_east   \n",
       "0x33e6                    mountain                       west   \n",
       "\n",
       "        statewise_median_age  statewise_median_household_income  total_count  \\\n",
       "ID                                                                             \n",
       "0x2710                  41.2                              78833            0   \n",
       "0x33e6                  37.3                              41053            0   \n",
       "\n",
       "        yearly_count  monthly_count  weekly_count  \n",
       "ID                                                 \n",
       "0x2710             0              0             0  \n",
       "0x33e6             0              0             0  \n",
       "\n",
       "[2 rows x 33 columns]"
      ]
     },
     "execution_count": 9,
     "metadata": {},
     "output_type": "execute_result"
    }
   ],
   "source": [
    "df.head(2)"
   ]
  },
  {
   "cell_type": "code",
   "execution_count": 10,
   "id": "b32c9da2",
   "metadata": {},
   "outputs": [],
   "source": [
    "df.date = pd.to_datetime(df.date)"
   ]
  },
  {
   "cell_type": "markdown",
   "id": "9a90b42c",
   "metadata": {},
   "source": [
    "<b> Data available during initial model deployment is from 2017-01-01 to 2019-03-01"
   ]
  },
  {
   "cell_type": "code",
   "execution_count": 11,
   "id": "29f7d1f2",
   "metadata": {},
   "outputs": [],
   "source": [
    "intial_df = df[df.date < datetime(2019,3,1)]"
   ]
  },
  {
   "cell_type": "code",
   "execution_count": 12,
   "id": "644635c4",
   "metadata": {},
   "outputs": [],
   "source": [
    "# Split the dataset\n",
    "train_df, test_df = train_test_split(intial_df,\n",
    "                                     test_size=0.3,\n",
    "                                     shuffle=False,\n",
    "                                     random_state=rng)\n",
    "eval_df, serve_df = train_test_split(test_df,\n",
    "                                     test_size=0.5,\n",
    "                                     shuffle=False,\n",
    "                                     random_state=rng)"
   ]
  },
  {
   "cell_type": "code",
   "execution_count": 13,
   "id": "430f225a",
   "metadata": {},
   "outputs": [
    {
     "name": "stderr",
     "output_type": "stream",
     "text": [
      "01:50:19 INFO:train_df shape : (2794, 33)\n",
      "01:50:19 INFO:eval_df shape : (599, 33)\n",
      "01:50:19 INFO:serve_df shape : (599, 33)\n"
     ]
    }
   ],
   "source": [
    "logging.info(f'train_df shape : {train_df.shape}')\n",
    "logging.info(f'eval_df shape : {eval_df.shape}')\n",
    "logging.info(f'serve_df shape : {serve_df.shape}')"
   ]
  },
  {
   "cell_type": "markdown",
   "id": "c82dfa3e",
   "metadata": {},
   "source": [
    "### Data preprocessing"
   ]
  },
  {
   "cell_type": "code",
   "execution_count": 14,
   "id": "96ed4416",
   "metadata": {},
   "outputs": [],
   "source": [
    "def split_features_target(df):\n",
    "    target =  'daily_dispatch_count'\n",
    "    drop_feats = ['weekly_dispatch_count']\n",
    "    y = df[target]\n",
    "    X = df.drop(columns = drop_feats+[target])\n",
    "    return X,y"
   ]
  },
  {
   "cell_type": "code",
   "execution_count": 15,
   "id": "bf66ace6",
   "metadata": {},
   "outputs": [],
   "source": [
    "X,y = split_features_target(train_df)\n",
    "X_eval,y_eval = split_features_target(eval_df)\n",
    "X_serve,y_serve = split_features_target(serve_df)"
   ]
  },
  {
   "cell_type": "markdown",
   "id": "9d8fa920",
   "metadata": {},
   "source": [
    "### Data transformation"
   ]
  },
  {
   "cell_type": "code",
   "execution_count": 16,
   "id": "d2d332e6",
   "metadata": {},
   "outputs": [],
   "source": [
    "ht = HyperTransformer()"
   ]
  },
  {
   "cell_type": "code",
   "execution_count": 17,
   "id": "2a7a1fae",
   "metadata": {},
   "outputs": [
    {
     "name": "stdout",
     "output_type": "stream",
     "text": [
      "Detecting a new config from the data ... SUCCESS\n",
      "Setting the new config ... SUCCESS\n",
      "Config:\n",
      "{\n",
      "    \"sdtypes\": {\n",
      "        \"date\": \"datetime\",\n",
      "        \"warehouse_ID\": \"categorical\",\n",
      "        \"Latitude\": \"numerical\",\n",
      "        \"Longitude\": \"numerical\",\n",
      "        \"Product_Type\": \"categorical\",\n",
      "        \"year\": \"numerical\",\n",
      "        \"month\": \"numerical\",\n",
      "        \"is_weekend\": \"categorical\",\n",
      "        \"is_warehouse_closed\": \"categorical\",\n",
      "        \"week\": \"numerical\",\n",
      "        \"state\": \"categorical\",\n",
      "        \"county\": \"categorical\",\n",
      "        \"state_cases\": \"numerical\",\n",
      "        \"state_deaths\": \"numerical\",\n",
      "        \"county_cases\": \"numerical\",\n",
      "        \"county_deaths\": \"numerical\",\n",
      "        \"day_of_week\": \"numerical\",\n",
      "        \"days_since_warehouse_started\": \"numerical\",\n",
      "        \"state_abbr\": \"categorical\",\n",
      "        \"is_holiday\": \"numerical\",\n",
      "        \"statewise_population\": \"numerical\",\n",
      "        \"statewise_land_area_per_sqmile\": \"numerical\",\n",
      "        \"statewise_population_per_sqmile\": \"numerical\",\n",
      "        \"statewise_geographic_region\": \"categorical\",\n",
      "        \"geographic_region_division\": \"categorical\",\n",
      "        \"statewise_median_age\": \"numerical\",\n",
      "        \"statewise_median_household_income\": \"numerical\",\n",
      "        \"total_count\": \"numerical\",\n",
      "        \"yearly_count\": \"numerical\",\n",
      "        \"monthly_count\": \"numerical\",\n",
      "        \"weekly_count\": \"numerical\"\n",
      "    },\n",
      "    \"transformers\": {\n",
      "        \"date\": UnixTimestampEncoder(missing_value_replacement='mean'),\n",
      "        \"warehouse_ID\": FrequencyEncoder(),\n",
      "        \"Latitude\": FloatFormatter(missing_value_replacement='mean'),\n",
      "        \"Longitude\": FloatFormatter(missing_value_replacement='mean'),\n",
      "        \"Product_Type\": FrequencyEncoder(),\n",
      "        \"year\": FloatFormatter(missing_value_replacement='mean'),\n",
      "        \"month\": FloatFormatter(missing_value_replacement='mean'),\n",
      "        \"is_weekend\": FrequencyEncoder(),\n",
      "        \"is_warehouse_closed\": FrequencyEncoder(),\n",
      "        \"week\": FloatFormatter(missing_value_replacement='mean'),\n",
      "        \"state\": FrequencyEncoder(),\n",
      "        \"county\": FrequencyEncoder(),\n",
      "        \"state_cases\": FloatFormatter(missing_value_replacement='mean'),\n",
      "        \"state_deaths\": FloatFormatter(missing_value_replacement='mean'),\n",
      "        \"county_cases\": FloatFormatter(missing_value_replacement='mean'),\n",
      "        \"county_deaths\": FloatFormatter(missing_value_replacement='mean'),\n",
      "        \"day_of_week\": FloatFormatter(missing_value_replacement='mean'),\n",
      "        \"days_since_warehouse_started\": FloatFormatter(missing_value_replacement='mean'),\n",
      "        \"state_abbr\": FrequencyEncoder(),\n",
      "        \"is_holiday\": FloatFormatter(missing_value_replacement='mean'),\n",
      "        \"statewise_population\": FloatFormatter(missing_value_replacement='mean'),\n",
      "        \"statewise_land_area_per_sqmile\": FloatFormatter(missing_value_replacement='mean'),\n",
      "        \"statewise_population_per_sqmile\": FloatFormatter(missing_value_replacement='mean'),\n",
      "        \"statewise_geographic_region\": FrequencyEncoder(),\n",
      "        \"geographic_region_division\": FrequencyEncoder(),\n",
      "        \"statewise_median_age\": FloatFormatter(missing_value_replacement='mean'),\n",
      "        \"statewise_median_household_income\": FloatFormatter(missing_value_replacement='mean'),\n",
      "        \"total_count\": FloatFormatter(missing_value_replacement='mean'),\n",
      "        \"yearly_count\": FloatFormatter(missing_value_replacement='mean'),\n",
      "        \"monthly_count\": FloatFormatter(missing_value_replacement='mean'),\n",
      "        \"weekly_count\": FloatFormatter(missing_value_replacement='mean')\n",
      "    }\n",
      "}\n"
     ]
    }
   ],
   "source": [
    "ht.detect_initial_config(data=X)"
   ]
  },
  {
   "cell_type": "code",
   "execution_count": 18,
   "id": "2cc976fc",
   "metadata": {},
   "outputs": [
    {
     "name": "stderr",
     "output_type": "stream",
     "text": [
      "d:\\anaconda\\envs\\anaconda_env\\lib\\site-packages\\rdt\\transformers\\categorical.py:182: UserWarning:\n",
      "\n",
      "The data contains 116 new categories that were not seen in the original data (examples: {'WH_0x3ed'}). Assigning them random values. If you want to model new categories, please fit the transformer again with the new data.\n",
      "\n",
      "d:\\anaconda\\envs\\anaconda_env\\lib\\site-packages\\rdt\\transformers\\categorical.py:182: UserWarning:\n",
      "\n",
      "The data contains 116 new categories that were not seen in the original data (examples: {'florida'}). Assigning them random values. If you want to model new categories, please fit the transformer again with the new data.\n",
      "\n",
      "d:\\anaconda\\envs\\anaconda_env\\lib\\site-packages\\rdt\\transformers\\categorical.py:182: UserWarning:\n",
      "\n",
      "The data contains 116 new categories that were not seen in the original data (examples: {'miami-dade'}). Assigning them random values. If you want to model new categories, please fit the transformer again with the new data.\n",
      "\n",
      "d:\\anaconda\\envs\\anaconda_env\\lib\\site-packages\\rdt\\transformers\\categorical.py:182: UserWarning:\n",
      "\n",
      "The data contains 116 new categories that were not seen in the original data (examples: {'FL'}). Assigning them random values. If you want to model new categories, please fit the transformer again with the new data.\n",
      "\n",
      "d:\\anaconda\\envs\\anaconda_env\\lib\\site-packages\\rdt\\transformers\\categorical.py:182: UserWarning:\n",
      "\n",
      "The data contains 116 new categories that were not seen in the original data (examples: {'mid_atlantic'}). Assigning them random values. If you want to model new categories, please fit the transformer again with the new data.\n",
      "\n"
     ]
    }
   ],
   "source": [
    "ht.fit(X)\n",
    "X_transformed = ht.transform(X)\n",
    "X_eval_transformed = ht.transform(X_eval)\n",
    "X_serve_transformed = ht.transform(X_serve)"
   ]
  },
  {
   "cell_type": "markdown",
   "id": "687fe7af",
   "metadata": {},
   "source": [
    "## Modelling"
   ]
  },
  {
   "cell_type": "code",
   "execution_count": 19,
   "id": "71544a73",
   "metadata": {},
   "outputs": [],
   "source": [
    "### Hypertuning"
   ]
  },
  {
   "cell_type": "markdown",
   "id": "2f924f2a",
   "metadata": {},
   "source": [
    "def objective(trial,data=X_transformed, target=y):\n",
    "    \n",
    "    param = {\n",
    "        \"n_estimators\" : trial.suggest_int('n_estimators', 0, 500),\n",
    "        'max_depth':trial.suggest_int('max_depth', 2, 20),\n",
    "        'lambda': trial.suggest_loguniform('lambda', 1e-3, 10.0),\n",
    "        'alpha': trial.suggest_loguniform('alpha', 1e-3, 10.0),\n",
    "        'min_child_weight': trial.suggest_int('min_child_weight', 1, 300),\n",
    "        'learning_rate':trial.suggest_loguniform('learning_rate',0.005,0.5),\n",
    "        'colsample_bytree':trial.suggest_uniform('colsample_bytree',0.3,0.9),\n",
    "        'subsample':trial.suggest_uniform('subsample',0.4,0.9),\n",
    "        'random_state': trial.suggest_categorical('random_state',[rng]),\n",
    "        'nthread' : trial.suggest_categorical('nthread',[-1])\n",
    "    }\n",
    "    model = xgb.XGBRegressor(**param)  \n",
    "    \n",
    "    model.fit(X_transformed,y,eval_set=[(X_eval_transformed,y_eval)],early_stopping_rounds=20,verbose=False)\n",
    "    \n",
    "    preds = model.predict(X_eval_transformed)\n",
    "    \n",
    "    r2 = r2_score(y_eval, preds)\n",
    "    \n",
    "    return r2\n",
    "optuna.logging.set_verbosity(0)\n",
    "study = optuna.create_study(direction=\"maximize\")\n",
    "study.optimize(objective, n_trials=100)"
   ]
  },
  {
   "cell_type": "code",
   "execution_count": 20,
   "id": "abf1f83c",
   "metadata": {},
   "outputs": [],
   "source": [
    "@mlflow_runner\n",
    "def fit_model(X,y, X_test,y_test, params=None,mlflow_log = False, experiment_name=None):\n",
    "    if params:\n",
    "        reg = xgb.XGBRegressor(**params)\n",
    "    else:\n",
    "        reg = xgb.XGBRegressor()\n",
    "    reg.fit(X,y,eval_set=[(X_test,y_test)],early_stopping_rounds=10,verbose=False)\n",
    "    if mlflow_log:\n",
    "        mlflow.log_dict(reg.get_params(),'xgboost_regressor_params')\n",
    "        \n",
    "    return reg"
   ]
  },
  {
   "cell_type": "code",
   "execution_count": 21,
   "id": "6de3ac8d",
   "metadata": {},
   "outputs": [
    {
     "name": "stderr",
     "output_type": "stream",
     "text": [
      "d:\\anaconda\\envs\\anaconda_env\\lib\\site-packages\\xgboost\\sklearn.py:793: UserWarning:\n",
      "\n",
      "`early_stopping_rounds` in `fit` method is deprecated for better compatibility with scikit-learn, use `early_stopping_rounds` in constructor or`set_params` instead.\n",
      "\n"
     ]
    }
   ],
   "source": [
    "reg = fit_model(X_transformed,y, X_eval_transformed,y_eval, mlflow_log=True,experiment_name='warehouse_demand_forecasting')"
   ]
  },
  {
   "cell_type": "markdown",
   "id": "3504fbd4",
   "metadata": {},
   "source": [
    "#### Model evaluation"
   ]
  },
  {
   "cell_type": "code",
   "execution_count": 22,
   "id": "a466160e",
   "metadata": {},
   "outputs": [],
   "source": [
    "def rewrite_name(df_type, error_type):\n",
    "    return f\"{df_type}{'_'}{error_type}\"\n",
    "\n",
    "def get_scores(y_actual, y_predicted,df_type='train'):\n",
    "    #y_predicted = np.expm1(y_predicted)\n",
    "    #y_actual = np.expm1(y_actual)\n",
    "    rmse = mean_squared_error(y_actual, y_predicted, squared=False)\n",
    "    mse = mean_squared_error(y_actual, y_predicted, squared=True)\n",
    "    mae = mean_absolute_error(y_actual, y_predicted)\n",
    "    mape = mean_absolute_percentage_error(y_actual, y_predicted)\n",
    "    return {rewrite_name(df_type, 'rmse'):rmse, rewrite_name(df_type, 'mse'):mse, rewrite_name(df_type, 'mae'):mae, rewrite_name(df_type, 'mape'):mape}\n",
    "\n",
    "def dataset_results(X,y, model, df_type):\n",
    "\n",
    "    y_pred = model.predict(X)\n",
    "    \n",
    "    return get_scores(y,y_pred,df_type)\n",
    "    "
   ]
  },
  {
   "cell_type": "markdown",
   "id": "893a6ea5",
   "metadata": {},
   "source": [
    "#### Train score"
   ]
  },
  {
   "cell_type": "code",
   "execution_count": 23,
   "id": "fd277adc",
   "metadata": {},
   "outputs": [
    {
     "data": {
      "text/plain": [
       "{'train_rmse': 0.8588220704988938,\n",
       " 'train_mse': 0.7375753487760068,\n",
       " 'train_mae': 0.6316703897078888,\n",
       " 'train_mape': 0.0849176099824632}"
      ]
     },
     "execution_count": 23,
     "metadata": {},
     "output_type": "execute_result"
    }
   ],
   "source": [
    "dataset_results(X_transformed,y, reg, 'train')"
   ]
  },
  {
   "cell_type": "markdown",
   "id": "ddbbe97e",
   "metadata": {},
   "source": [
    "#### Eval score"
   ]
  },
  {
   "cell_type": "code",
   "execution_count": 24,
   "id": "1823f7fa",
   "metadata": {},
   "outputs": [
    {
     "data": {
      "text/plain": [
       "{'eval_rmse': 0.9780817870850148,\n",
       " 'eval_mse': 0.9566439822274162,\n",
       " 'eval_mae': 0.7291432013694751,\n",
       " 'eval_mape': 0.11933018414067095}"
      ]
     },
     "execution_count": 24,
     "metadata": {},
     "output_type": "execute_result"
    }
   ],
   "source": [
    "dataset_results(X_eval_transformed,y_eval, reg, 'eval')"
   ]
  },
  {
   "cell_type": "markdown",
   "id": "d5e8910e",
   "metadata": {},
   "source": [
    "#### Serve score"
   ]
  },
  {
   "cell_type": "code",
   "execution_count": 25,
   "id": "7546784a",
   "metadata": {},
   "outputs": [
    {
     "data": {
      "text/plain": [
       "{'serve_rmse': 1.0249423523219174,\n",
       " 'serve_mse': 1.0505068255831853,\n",
       " 'serve_mae': 0.786426289133317,\n",
       " 'serve_mape': 0.16883210631046547}"
      ]
     },
     "execution_count": 25,
     "metadata": {},
     "output_type": "execute_result"
    }
   ],
   "source": [
    "dataset_results(X_serve_transformed,y_serve, reg, 'serve')"
   ]
  },
  {
   "cell_type": "markdown",
   "id": "efeb5727",
   "metadata": {},
   "source": [
    "#### Final model trained using data from 2017-01-01 to 2019-03-01"
   ]
  },
  {
   "cell_type": "code",
   "execution_count": 26,
   "id": "dc30ba2b",
   "metadata": {},
   "outputs": [
    {
     "name": "stderr",
     "output_type": "stream",
     "text": [
      "d:\\anaconda\\envs\\anaconda_env\\lib\\site-packages\\xgboost\\sklearn.py:793: UserWarning:\n",
      "\n",
      "`early_stopping_rounds` in `fit` method is deprecated for better compatibility with scikit-learn, use `early_stopping_rounds` in constructor or`set_params` instead.\n",
      "\n"
     ]
    }
   ],
   "source": [
    "final_X, final_y = split_features_target(intial_df)\n",
    "ht.fit(final_X)\n",
    "final_X_transform = ht.transform(final_X)\n",
    "reg_final = fit_model(final_X_transform,final_y, X_eval_transformed,y_eval, mlflow_log=True,experiment_name='warehouse_demand_forecasting')"
   ]
  },
  {
   "cell_type": "markdown",
   "id": "06ca9616",
   "metadata": {},
   "source": [
    "### Feature attribution weighted drift detection"
   ]
  },
  {
   "cell_type": "code",
   "execution_count": 27,
   "id": "7c90ef31",
   "metadata": {},
   "outputs": [],
   "source": [
    "def get_feature_importance(model, X):\n",
    "    # DF, based on which importance is checked\n",
    "\n",
    "    # Explain model predictions using shap library:\n",
    "    explainer = shap.TreeExplainer(model)\n",
    "    shap_scores = explainer.shap_values(X)\n",
    "\n",
    "    # mean of absolute shap values for every feature\n",
    "    mean_abs_shap_values = pd.Series(\n",
    "        np.abs(shap_scores).mean(axis=0),\n",
    "        index=X.columns).sort_values(ascending=False)\n",
    "    return mean_abs_shap_values"
   ]
  },
  {
   "cell_type": "code",
   "execution_count": 28,
   "id": "12b275d4",
   "metadata": {},
   "outputs": [],
   "source": [
    "def get_relative_feature_importance_to_max(feature_importance):\n",
    "    \n",
    "    # maximum feature importance\n",
    "    max_feature_importance = feature_importance.max()\n",
    "\n",
    "    # relative_feature_importance_to_max is relative feature importance w.r.t max_feature_importance\n",
    "    relative_feature_importance_to_max = feature_importance / max_feature_importance\n",
    "    return relative_feature_importance_to_max.to_dict()"
   ]
  },
  {
   "cell_type": "code",
   "execution_count": 29,
   "id": "ed903d3c",
   "metadata": {},
   "outputs": [
    {
     "data": {
      "text/plain": [
       "Index(['date', 'warehouse_ID', 'Latitude', 'Longitude', 'Product_Type', 'year',\n",
       "       'month', 'is_weekend', 'is_warehouse_closed', 'daily_dispatch_count',\n",
       "       'weekly_dispatch_count', 'week', 'state', 'county', 'state_cases',\n",
       "       'state_deaths', 'county_cases', 'county_deaths', 'day_of_week',\n",
       "       'days_since_warehouse_started', 'state_abbr', 'is_holiday',\n",
       "       'statewise_population', 'statewise_land_area_per_sqmile',\n",
       "       'statewise_population_per_sqmile', 'statewise_geographic_region',\n",
       "       'geographic_region_division', 'statewise_median_age',\n",
       "       'statewise_median_household_income', 'total_count', 'yearly_count',\n",
       "       'monthly_count', 'weekly_count'],\n",
       "      dtype='object')"
      ]
     },
     "execution_count": 29,
     "metadata": {},
     "output_type": "execute_result"
    }
   ],
   "source": [
    "df.columns"
   ]
  },
  {
   "cell_type": "code",
   "execution_count": 30,
   "id": "4b8b02f4",
   "metadata": {},
   "outputs": [],
   "source": [
    "numerical_features = [\n",
    "    'statewise_population_per_sqmile', 'state_cases', 'state_deaths'\n",
    "]\n",
    "numerical_features_value = [\n",
    "    feature + '.value' for feature in numerical_features\n",
    "]\n",
    "categorical_features = [\n",
    "    'warehouse_ID', 'Product_Type', 'is_weekend', 'is_warehouse_closed',\n",
    "    'state', 'day_of_week', 'is_holiday', 'county'\n",
    "]\n",
    "categorical_features_value = [\n",
    "    feature + '.value' for feature in categorical_features\n",
    "]\n",
    "column_mapping = ColumnMapping(id='ID',\n",
    "                               datetime='date',\n",
    "                               numerical_features=numerical_features_value,\n",
    "                               categorical_features=categorical_features_value,\n",
    "                               task='regression',\n",
    "                               target='daily_dispatch_count',\n",
    "                               prediction='y_pred')"
   ]
  },
  {
   "cell_type": "code",
   "execution_count": 31,
   "id": "919f9d05",
   "metadata": {},
   "outputs": [],
   "source": [
    "def get_drift_profile(reference, production, profile, mlflow_log=False):\n",
    "\n",
    "    drift_profile = Profile(sections=[profile()])\n",
    "    drift_profile.calculate(reference,\n",
    "                                 production,\n",
    "                                 column_mapping=column_mapping)\n",
    "    report = drift_profile.json()\n",
    "    drift_profile_report = json.loads(report)\n",
    "    \n",
    "    if mlflow_log:\n",
    "        if profile == DataDriftProfileSection:\n",
    "            name = 'data_drift_profile'\n",
    "        elif profile == NumTargetDriftProfileSection:\n",
    "            name = 'num_target_drift_profile'\n",
    "        else:\n",
    "            pass\n",
    "        mlflow.log_dict(drift_profile_report, f\"{name}.json\")\n",
    "    \n",
    "    \n",
    "    return drift_profile_report"
   ]
  },
  {
   "cell_type": "code",
   "execution_count": 32,
   "id": "ce721f93",
   "metadata": {},
   "outputs": [],
   "source": [
    "def get_data_drift(drift_profile):\n",
    "\n",
    "    drifts = []\n",
    "    for feature in column_mapping.numerical_features + column_mapping.categorical_features:\n",
    "        drifts.append(\n",
    "            (feature, drift_profile['data_drift']['data']['metrics'][feature]['drift_score'], \n",
    "             drift_profile['data_drift']['data']['metrics'][feature]['stattest_name'], \n",
    "             drift_profile['data_drift']['data']['metrics'][feature]['drift_detected']))\n",
    "    return  pd.DataFrame(\n",
    "        drifts,\n",
    "        columns=['feature', 'drift_score', 'stattest_name', 'drift_detected'])"
   ]
  },
  {
   "cell_type": "code",
   "execution_count": 33,
   "id": "6389e86e",
   "metadata": {},
   "outputs": [],
   "source": [
    "def get_weighted_data_drift_score(drift, feature_importance, relative_feature_importance_to_max_dict, threshold, stattest_type):\n",
    "    \n",
    "    #feature_importance\n",
    "    drift['feature_importance'] = drift['feature'].map(feature_importance)\n",
    "    \n",
    "    # map relative feature importance\n",
    "    drift['relative_feature_importance'] = drift['feature'].map(relative_feature_importance_to_max_dict)\n",
    "    if stattest_type == 'p_value':\n",
    "        # relative feature importance weighted drift score\n",
    "        inverse_feature_importance_wrt_max_feature_importance = drift.relative_feature_importance.max() / drift.relative_feature_importance\n",
    "        drift['feature_importance_weighted_drift_score'] = (drift.drift_score * inverse_feature_importance_wrt_max_feature_importance).replace(np.inf, 1)\n",
    "\n",
    "        # drift detection based on the weighted drift score based on threshold\n",
    "        drift['feature_importance_weighted_drift_detected'] = drift[\n",
    "            'feature_importance_weighted_drift_score'] < threshold\n",
    "    else:\n",
    "        # relative feature importance weighted drift score\n",
    "        drift['feature_importance_weighted_drift_score'] = drift[\n",
    "            'relative_feature_importance'] * drift['drift_score']\n",
    "\n",
    "        # drift detection based on the weighted drift score based on threshold\n",
    "        drift['feature_importance_weighted_drift_detected'] = drift[\n",
    "            'feature_importance_weighted_drift_score'] > threshold\n",
    "\n",
    "    return drift"
   ]
  },
  {
   "cell_type": "code",
   "execution_count": 34,
   "id": "f67fc66c",
   "metadata": {},
   "outputs": [],
   "source": [
    "def is_weighted_data_drift_detected(data_drift_profile, production,  model):\n",
    "    drift_detected = False\n",
    "    \n",
    "    feature_importance = get_feature_importance(model, production)\n",
    "    # relative feature importance based on mean shap values\n",
    "    relative_feature_importance_to_max_dict = get_relative_feature_importance_to_max(feature_importance)\n",
    "    drift_scores = get_data_drift(data_drift_profile)\n",
    "    stattest_type = drift_scores['stattest_name'].iloc[0].split()[1]\n",
    "    if stattest_type == 'p_value':\n",
    "        threshold = 0.05\n",
    "    else:\n",
    "        threshold = 0.1\n",
    "    weighted_drift_scores = get_weighted_data_drift_score(drift_scores, feature_importance, relative_feature_importance_to_max_dict,\n",
    "                                                     threshold, stattest_type)\n",
    "\n",
    "    if weighted_drift_scores['feature_importance_weighted_drift_detected'].sum(\n",
    "    ) > 0:\n",
    "        drift_detected = True\n",
    "    else:\n",
    "        drift_detected = False\n",
    "    return drift_detected, weighted_drift_scores"
   ]
  },
  {
   "cell_type": "code",
   "execution_count": 35,
   "id": "ff083a07",
   "metadata": {},
   "outputs": [],
   "source": [
    "def overlay_distribution(data1, data2, feature,  opacity=0.5, plot_display = True, mlflow_log=False):\n",
    "    normalization_type = 'probability density'\n",
    "    fig = go.Figure()\n",
    "    fig.add_trace(go.Histogram(x=data1, name=\"training\",\n",
    "                  histnorm=normalization_type))\n",
    "    fig.add_trace(go.Histogram(x=data2, name=\"production\",\n",
    "                  histnorm=normalization_type))\n",
    "    feature = feature.split('.')[0]\n",
    "    # Overlay both histograms\n",
    "    fig.update_layout(barmode='overlay', title=feature+\" Distribution\",\n",
    "                      xaxis_title=feature,\n",
    "                      yaxis_title=normalization_type, autosize=False,\n",
    "                      width=700,\n",
    "                      height=300)\n",
    "    # Reduce opacity to see both histograms\n",
    "    fig.update_traces(opacity=opacity)\n",
    "    if mlflow_log:\n",
    "        mlflow.log_figure(fig, f\"{feature}_Distribution.html\")\n",
    "    if plot_display:\n",
    "        fig.show()\n"
   ]
  },
  {
   "cell_type": "code",
   "execution_count": 36,
   "id": "f0f4ae38",
   "metadata": {},
   "outputs": [],
   "source": [
    "def display_drifted_features(reference, production, drift_df, plot_display = False, mlflow_log = False):\n",
    "    reference_rdt = ht.reverse_transform(reference)\n",
    "    production_rdt = ht.reverse_transform(production)\n",
    "    for index, row in drift_df.iterrows():\n",
    "        if row['feature_importance_weighted_drift_detected']:\n",
    "\n",
    "            logging.info(f\"drift detected for {row['feature']}\")\n",
    "            logging.info(f\"drift_score : {row['drift_score']}\")\n",
    "            logging.info(f\"stattest_name : {row['stattest_name']}\")\n",
    "            logging.info(f\"raw_feature_importance : {row['feature_importance']}\") \n",
    "            logging.info(f\"relative_feature_importance : {row['relative_feature_importance']}\") \n",
    "            logging.info(f\"feature_importance_weighted_drift_score : {row['feature_importance_weighted_drift_score']}\")\n",
    "            \n",
    "            overlay_distribution(reference_rdt[row['feature'].split('.')[0]], production_rdt[row['feature'].split('.')[0]], row['feature'], opacity = .4, \n",
    "            plot_display = plot_display, mlflow_log=True)\n",
    "        if mlflow_log:\n",
    "                mlflow.log_param(f\"{row['feature']}_feature_importance_weighted_drift_detected\", row['feature_importance_weighted_drift_detected'])\n",
    "                mlflow.log_param(f\"{row['feature']}_drift_score\", row['drift_score'])\n",
    "                mlflow.log_param(f\"{row['feature']}_stattest_name\", row['stattest_name'])\n",
    "                mlflow.log_param(f\"{row['feature']}_raw_feature_importance\", row['feature_importance'])\n",
    "                mlflow.log_param(f\"{row['feature']}_relative_feature_importance\", row['relative_feature_importance'])\n",
    "                mlflow.log_param(f\"{row['feature']}_feature_importance_weighted_drift_score\", row['feature_importance_weighted_drift_score'])\n",
    "\n",
    "    "
   ]
  },
  {
   "cell_type": "code",
   "execution_count": 37,
   "id": "37eebb67",
   "metadata": {},
   "outputs": [],
   "source": [
    "def display_target_drift(y_reference, y_production, target_name, target_drift_detected, drift_score, stattest_type, plot_display = False, mlflow_log = False):\n",
    "    logging.info(f\"Target drift detected for for {target_name}\")\n",
    "    logging.info(f\"drift_score : {drift_score}\")\n",
    "    logging.info(f\"stattest_name : {stattest_type}\")\n",
    "    if mlflow_log:\n",
    "        mlflow.log_param(f\"{target_name}_drift_detected\", target_drift_detected)\n",
    "        mlflow.log_param(f\"{target_name}_target_drift_score\", drift_score)\n",
    "        mlflow.log_param(f\"{target_name}_target_stattest_name\", stattest_type)\n",
    "    overlay_distribution(y_reference, y_production, target_name, opacity = .4, plot_display = plot_display, mlflow_log=True)\n",
    "            "
   ]
  },
  {
   "cell_type": "markdown",
   "id": "1b65acc7",
   "metadata": {},
   "source": [
    "#### Test for target drift"
   ]
  },
  {
   "cell_type": "code",
   "execution_count": 38,
   "id": "4ec5f57c",
   "metadata": {},
   "outputs": [],
   "source": [
    "def determine_test_type(reference):\n",
    "\n",
    "    num_data = reference.shape[0]\n",
    "\n",
    "    if num_data <= 1000:\n",
    "        return 'p_value'\n",
    "    else:\n",
    "        return 'distance'"
   ]
  },
  {
   "cell_type": "code",
   "execution_count": 39,
   "id": "c7a4ccc9",
   "metadata": {},
   "outputs": [],
   "source": [
    "def test_target_drift(X_reference, y_reference, X_production, y_production, plot_display = False, mlflow_log = False):\n",
    "    target_drift_detected = False\n",
    "    # get target drift report\n",
    "    if column_mapping.task == 'regression':\n",
    "        profile = NumTargetDriftProfileSection\n",
    "        drift_name = 'num_target_drift'\n",
    "    else:\n",
    "        pass\n",
    "    target_drift_profile = get_drift_profile(X_reference.join(y_reference), X_production.join(y_production), profile, mlflow_log)\n",
    "    \n",
    "    drift_score = target_drift_profile[drift_name]['data']['metrics']['target_drift']\n",
    "    target_name = target_drift_profile[drift_name]['data']['utility_columns']['target']\n",
    "    stattest_type = determine_test_type(X_reference)\n",
    "    if stattest_type == 'p_value':\n",
    "        threshold = 0.05\n",
    "        if drift_score <= threshold:\n",
    "\n",
    "            target_drift_detected = True\n",
    "\n",
    "    else:\n",
    "        threshold = 0.1\n",
    "        if drift_score >= threshold:\n",
    "\n",
    "            target_drift_detected = True\n",
    "   \n",
    "    if mlflow_log:\n",
    "        display_target_drift(y_reference, y_production, target_name, target_drift_detected, drift_score, stattest_type, plot_display, mlflow_log = True)\n",
    "    return target_drift_detected\n",
    "      "
   ]
  },
  {
   "cell_type": "code",
   "execution_count": 40,
   "id": "7deb4137",
   "metadata": {},
   "outputs": [],
   "source": [
    "def test_for_drift(X_reference, y_reference, X_production, y_production, model, plot_display = False, mlflow_log = False):\n",
    "\n",
    "    \n",
    "    target_drift_detected = test_target_drift(X_reference, y_reference, X_production, y_production, mlflow_log)\n",
    "\n",
    "    logging.info(f\"target drift detect: {target_drift_detected}\")\n",
    "    # get data drift report\n",
    "    data_drift_profile = get_drift_profile(X_reference, X_production,\n",
    "                                           DataDriftProfileSection, mlflow_log)\n",
    "    # data drift detected?\n",
    "    drift_detected, drift_df = is_weighted_data_drift_detected(data_drift_profile,\n",
    "                                                     X_production,  model)\n",
    "    \n",
    "    if drift_detected:\n",
    "        logging.info('data set drift detected')\n",
    "        display_drifted_features(X_reference, X_production, drift_df, plot_display, mlflow_log)\n",
    "    else:\n",
    "        logging.info('drift not detected')\n",
    "    drift_detected = drift_detected or target_drift_detected\n",
    "    return drift_detected"
   ]
  },
  {
   "cell_type": "code",
   "execution_count": 41,
   "id": "a7e03226",
   "metadata": {},
   "outputs": [],
   "source": [
    "@mlflow_runner\n",
    "def test_mlflow(experiment_name):\n",
    "    # Log parameters\n",
    "    mlflow.log_param(\"begin\", datetime(2020,1,2))\n",
    "    mlflow.log_param(\"end\", datetime(2022,1,2))\n",
    "    mlflow.log_dict(X_transformed.sample(500).to_dict(), 'input_features.json')\n",
    "    mlflow.log_dict(X_eval_transformed.sample(500).to_dict(), 'target.json')\n",
    "    return test_for_drift(X_transformed.sample(500), y.sample(500), X_eval_transformed.sample(500), y_eval.sample(500) ,reg, plot_display = True, mlflow_log = True)\n"
   ]
  },
  {
   "cell_type": "code",
   "execution_count": 42,
   "id": "9c4b160c",
   "metadata": {},
   "outputs": [
    {
     "name": "stderr",
     "output_type": "stream",
     "text": [
      "01:50:39 INFO:target drift detect: True\n",
      "d:\\anaconda\\envs\\anaconda_env\\lib\\site-packages\\xgboost\\core.py:90: UserWarning:\n",
      "\n",
      "ntree_limit is deprecated, use `iteration_range` or model slicing instead.\n",
      "\n",
      "01:50:39 INFO:data set drift detected\n",
      "01:50:39 INFO:drift detected for statewise_population_per_sqmile.value\n",
      "01:50:39 INFO:drift_score : 4.1392528559552015e-15\n",
      "01:50:39 INFO:stattest_name : chi-square p_value\n",
      "01:50:39 INFO:raw_feature_importance : 0.05485296994447708\n",
      "01:50:39 INFO:relative_feature_importance : 0.02359633892774582\n",
      "01:50:39 INFO:feature_importance_weighted_drift_score : 1.7541928299258535e-13\n"
     ]
    },
    {
     "data": {
      "application/vnd.plotly.v1+json": {
       "config": {
        "plotlyServerURL": "https://plot.ly"
       },
       "data": [
        {
         "histnorm": "probability density",
         "name": "training",
         "opacity": 0.4,
         "type": "histogram",
         "x": [
          10.660025668871556,
          56.07831767044249,
          56.07831767044249,
          10.660025668871556,
          56.07831767044249,
          744.7220156959934,
          744.7220156959934,
          744.7220156959934,
          64.05546067573992,
          64.05546067573992,
          64.05546067573992,
          56.07831767044249,
          744.7220156959934,
          56.07831767044249,
          744.7220156959934,
          56.07831767044249,
          56.07831767044249,
          56.07831767044249,
          744.7220156959934,
          10.660025668871556,
          56.07831767044249,
          744.7220156959934,
          64.05546067573992,
          56.07831767044249,
          10.660025668871556,
          56.07831767044249,
          744.7220156959934,
          56.07831767044249,
          744.7220156959934,
          56.07831767044249,
          744.7220156959934,
          64.05546067573992,
          744.7220156959934,
          56.07831767044249,
          56.07831767044249,
          10.660025668871556,
          56.07831767044249,
          744.7220156959934,
          56.07831767044249,
          56.07831767044249,
          10.660025668871556,
          744.7220156959934,
          744.7220156959934,
          64.05546067573992,
          64.05546067573992,
          10.660025668871556,
          744.7220156959934,
          64.05546067573992,
          744.7220156959934,
          744.7220156959934,
          10.660025668871556,
          56.07831767044249,
          56.07831767044249,
          56.07831767044249,
          56.07831767044249,
          10.660025668871556,
          744.7220156959934,
          56.07831767044249,
          744.7220156959934,
          744.7220156959934,
          56.07831767044249,
          64.05546067573992,
          10.660025668871556,
          744.7220156959934,
          64.05546067573992,
          56.07831767044249,
          56.07831767044249,
          744.7220156959934,
          744.7220156959934,
          64.05546067573992,
          10.660025668871556,
          744.7220156959934,
          56.07831767044249,
          64.05546067573992,
          56.07831767044249,
          10.660025668871556,
          744.7220156959934,
          56.07831767044249,
          64.05546067573992,
          744.7220156959934,
          56.07831767044249,
          56.07831767044249,
          10.660025668871556,
          56.07831767044249,
          10.660025668871556,
          744.7220156959934,
          56.07831767044249,
          56.07831767044249,
          744.7220156959934,
          56.07831767044249,
          56.07831767044249,
          744.7220156959934,
          56.07831767044249,
          10.660025668871556,
          56.07831767044249,
          10.660025668871556,
          56.07831767044249,
          56.07831767044249,
          744.7220156959934,
          744.7220156959934,
          10.660025668871556,
          744.7220156959934,
          64.05546067573992,
          56.07831767044249,
          744.7220156959934,
          64.05546067573992,
          56.07831767044249,
          744.7220156959934,
          10.660025668871556,
          744.7220156959934,
          56.07831767044249,
          744.7220156959934,
          56.07831767044249,
          56.07831767044249,
          64.05546067573992,
          64.05546067573992,
          56.07831767044249,
          744.7220156959934,
          744.7220156959934,
          56.07831767044249,
          64.05546067573992,
          744.7220156959934,
          56.07831767044249,
          64.05546067573992,
          64.05546067573992,
          56.07831767044249,
          56.07831767044249,
          56.07831767044249,
          64.05546067573992,
          64.05546067573992,
          744.7220156959934,
          64.05546067573992,
          744.7220156959934,
          64.05546067573992,
          744.7220156959934,
          744.7220156959934,
          56.07831767044249,
          744.7220156959934,
          56.07831767044249,
          56.07831767044249,
          744.7220156959934,
          56.07831767044249,
          56.07831767044249,
          744.7220156959934,
          10.660025668871556,
          64.05546067573992,
          64.05546067573992,
          744.7220156959934,
          744.7220156959934,
          744.7220156959934,
          64.05546067573992,
          56.07831767044249,
          744.7220156959934,
          744.7220156959934,
          10.660025668871556,
          56.07831767044249,
          10.660025668871556,
          64.05546067573992,
          64.05546067573992,
          10.660025668871556,
          744.7220156959934,
          744.7220156959934,
          744.7220156959934,
          744.7220156959934,
          56.07831767044249,
          64.05546067573992,
          744.7220156959934,
          744.7220156959934,
          744.7220156959934,
          64.05546067573992,
          56.07831767044249,
          744.7220156959934,
          10.660025668871556,
          744.7220156959934,
          56.07831767044249,
          744.7220156959934,
          744.7220156959934,
          56.07831767044249,
          744.7220156959934,
          64.05546067573992,
          64.05546067573992,
          56.07831767044249,
          744.7220156959934,
          56.07831767044249,
          56.07831767044249,
          744.7220156959934,
          744.7220156959934,
          64.05546067573992,
          744.7220156959934,
          56.07831767044249,
          56.07831767044249,
          64.05546067573992,
          744.7220156959934,
          56.07831767044249,
          56.07831767044249,
          744.7220156959934,
          56.07831767044249,
          56.07831767044249,
          56.07831767044249,
          64.05546067573992,
          56.07831767044249,
          744.7220156959934,
          744.7220156959934,
          744.7220156959934,
          56.07831767044249,
          56.07831767044249,
          56.07831767044249,
          56.07831767044249,
          56.07831767044249,
          10.660025668871556,
          56.07831767044249,
          64.05546067573992,
          56.07831767044249,
          744.7220156959934,
          10.660025668871556,
          56.07831767044249,
          10.660025668871556,
          744.7220156959934,
          744.7220156959934,
          56.07831767044249,
          56.07831767044249,
          56.07831767044249,
          64.05546067573992,
          56.07831767044249,
          64.05546067573992,
          56.07831767044249,
          64.05546067573992,
          744.7220156959934,
          744.7220156959934,
          56.07831767044249,
          744.7220156959934,
          744.7220156959934,
          64.05546067573992,
          744.7220156959934,
          64.05546067573992,
          744.7220156959934,
          56.07831767044249,
          56.07831767044249,
          744.7220156959934,
          56.07831767044249,
          64.05546067573992,
          56.07831767044249,
          56.07831767044249,
          56.07831767044249,
          744.7220156959934,
          744.7220156959934,
          56.07831767044249,
          64.05546067573992,
          56.07831767044249,
          56.07831767044249,
          10.660025668871556,
          744.7220156959934,
          64.05546067573992,
          10.660025668871556,
          56.07831767044249,
          56.07831767044249,
          744.7220156959934,
          64.05546067573992,
          64.05546067573992,
          744.7220156959934,
          10.660025668871556,
          744.7220156959934,
          56.07831767044249,
          64.05546067573992,
          10.660025668871556,
          744.7220156959934,
          64.05546067573992,
          64.05546067573992,
          56.07831767044249,
          64.05546067573992,
          744.7220156959934,
          744.7220156959934,
          56.07831767044249,
          744.7220156959934,
          56.07831767044249,
          10.660025668871556,
          56.07831767044249,
          64.05546067573992,
          56.07831767044249,
          744.7220156959934,
          64.05546067573992,
          744.7220156959934,
          744.7220156959934,
          744.7220156959934,
          744.7220156959934,
          56.07831767044249,
          744.7220156959934,
          10.660025668871556,
          56.07831767044249,
          744.7220156959934,
          56.07831767044249,
          64.05546067573992,
          744.7220156959934,
          56.07831767044249,
          744.7220156959934,
          56.07831767044249,
          56.07831767044249,
          64.05546067573992,
          64.05546067573992,
          56.07831767044249,
          64.05546067573992,
          56.07831767044249,
          56.07831767044249,
          56.07831767044249,
          10.660025668871556,
          744.7220156959934,
          744.7220156959934,
          64.05546067573992,
          744.7220156959934,
          56.07831767044249,
          744.7220156959934,
          10.660025668871556,
          64.05546067573992,
          56.07831767044249,
          56.07831767044249,
          744.7220156959934,
          64.05546067573992,
          64.05546067573992,
          56.07831767044249,
          744.7220156959934,
          56.07831767044249,
          56.07831767044249,
          56.07831767044249,
          744.7220156959934,
          744.7220156959934,
          744.7220156959934,
          64.05546067573992,
          744.7220156959934,
          744.7220156959934,
          64.05546067573992,
          744.7220156959934,
          744.7220156959934,
          10.660025668871556,
          64.05546067573992,
          10.660025668871556,
          64.05546067573992,
          64.05546067573992,
          744.7220156959934,
          744.7220156959934,
          56.07831767044249,
          744.7220156959934,
          64.05546067573992,
          10.660025668871556,
          56.07831767044249,
          744.7220156959934,
          64.05546067573992,
          56.07831767044249,
          744.7220156959934,
          56.07831767044249,
          10.660025668871556,
          64.05546067573992,
          64.05546067573992,
          10.660025668871556,
          56.07831767044249,
          56.07831767044249,
          744.7220156959934,
          56.07831767044249,
          64.05546067573992,
          10.660025668871556,
          56.07831767044249,
          744.7220156959934,
          56.07831767044249,
          64.05546067573992,
          744.7220156959934,
          10.660025668871556,
          744.7220156959934,
          56.07831767044249,
          64.05546067573992,
          64.05546067573992,
          744.7220156959934,
          744.7220156959934,
          56.07831767044249,
          56.07831767044249,
          56.07831767044249,
          56.07831767044249,
          744.7220156959934,
          744.7220156959934,
          56.07831767044249,
          744.7220156959934,
          64.05546067573992,
          56.07831767044249,
          744.7220156959934,
          64.05546067573992,
          56.07831767044249,
          10.660025668871556,
          744.7220156959934,
          744.7220156959934,
          744.7220156959934,
          744.7220156959934,
          744.7220156959934,
          64.05546067573992,
          56.07831767044249,
          744.7220156959934,
          56.07831767044249,
          56.07831767044249,
          56.07831767044249,
          744.7220156959934,
          64.05546067573992,
          56.07831767044249,
          744.7220156959934,
          744.7220156959934,
          744.7220156959934,
          64.05546067573992,
          744.7220156959934,
          744.7220156959934,
          744.7220156959934,
          744.7220156959934,
          56.07831767044249,
          64.05546067573992,
          10.660025668871556,
          744.7220156959934,
          744.7220156959934,
          56.07831767044249,
          10.660025668871556,
          64.05546067573992,
          56.07831767044249,
          744.7220156959934,
          744.7220156959934,
          10.660025668871556,
          56.07831767044249,
          744.7220156959934,
          64.05546067573992,
          744.7220156959934,
          10.660025668871556,
          64.05546067573992,
          10.660025668871556,
          64.05546067573992,
          10.660025668871556,
          56.07831767044249,
          56.07831767044249,
          10.660025668871556,
          56.07831767044249,
          56.07831767044249,
          744.7220156959934,
          10.660025668871556,
          56.07831767044249,
          744.7220156959934,
          56.07831767044249,
          56.07831767044249,
          744.7220156959934,
          744.7220156959934,
          744.7220156959934,
          10.660025668871556,
          56.07831767044249,
          64.05546067573992,
          10.660025668871556,
          56.07831767044249,
          744.7220156959934,
          56.07831767044249,
          10.660025668871556,
          64.05546067573992,
          10.660025668871556,
          744.7220156959934,
          744.7220156959934,
          744.7220156959934,
          10.660025668871556,
          744.7220156959934,
          744.7220156959934,
          10.660025668871556,
          56.07831767044249,
          56.07831767044249,
          56.07831767044249,
          744.7220156959934,
          744.7220156959934,
          56.07831767044249,
          10.660025668871556,
          744.7220156959934,
          56.07831767044249,
          56.07831767044249,
          744.7220156959934,
          56.07831767044249,
          56.07831767044249,
          744.7220156959934,
          56.07831767044249,
          56.07831767044249,
          744.7220156959934,
          10.660025668871556,
          744.7220156959934,
          744.7220156959934,
          744.7220156959934,
          744.7220156959934,
          56.07831767044249,
          56.07831767044249,
          10.660025668871556,
          56.07831767044249,
          10.660025668871556,
          744.7220156959934,
          10.660025668871556,
          64.05546067573992,
          56.07831767044249,
          10.660025668871556,
          10.660025668871556,
          744.7220156959934,
          744.7220156959934,
          10.660025668871556,
          744.7220156959934,
          56.07831767044249,
          56.07831767044249,
          744.7220156959934,
          56.07831767044249
         ]
        },
        {
         "histnorm": "probability density",
         "name": "production",
         "opacity": 0.4,
         "type": "histogram",
         "x": [
          64.05546067573992,
          56.07831767044249,
          64.05546067573992,
          744.7220156959934,
          64.05546067573992,
          744.7220156959934,
          64.05546067573992,
          10.660025668871556,
          56.07831767044249,
          10.660025668871556,
          744.7220156959934,
          64.05546067573992,
          64.05546067573992,
          56.07831767044249,
          10.660025668871556,
          744.7220156959934,
          56.07831767044249,
          56.07831767044249,
          56.07831767044249,
          56.07831767044249,
          56.07831767044249,
          744.7220156959934,
          64.05546067573992,
          10.660025668871556,
          744.7220156959934,
          10.660025668871556,
          10.660025668871556,
          64.05546067573992,
          10.660025668871556,
          56.07831767044249,
          64.05546067573992,
          64.05546067573992,
          64.05546067573992,
          64.05546067573992,
          64.05546067573992,
          10.660025668871556,
          64.05546067573992,
          56.07831767044249,
          56.07831767044249,
          56.07831767044249,
          10.660025668871556,
          744.7220156959934,
          64.05546067573992,
          744.7220156959934,
          56.07831767044249,
          744.7220156959934,
          64.05546067573992,
          64.05546067573992,
          56.07831767044249,
          10.660025668871556,
          10.660025668871556,
          744.7220156959934,
          56.07831767044249,
          10.660025668871556,
          744.7220156959934,
          744.7220156959934,
          64.05546067573992,
          744.7220156959934,
          744.7220156959934,
          10.660025668871556,
          10.660025668871556,
          744.7220156959934,
          744.7220156959934,
          64.05546067573992,
          744.7220156959934,
          744.7220156959934,
          10.660025668871556,
          56.07831767044249,
          64.05546067573992,
          56.07831767044249,
          10.660025668871556,
          64.05546067573992,
          10.660025668871556,
          10.660025668871556,
          10.660025668871556,
          64.05546067573992,
          56.07831767044249,
          744.7220156959934,
          744.7220156959934,
          10.660025668871556,
          64.05546067573992,
          10.660025668871556,
          744.7220156959934,
          64.05546067573992,
          10.660025668871556,
          56.07831767044249,
          56.07831767044249,
          64.05546067573992,
          744.7220156959934,
          10.660025668871556,
          56.07831767044249,
          56.07831767044249,
          10.660025668871556,
          56.07831767044249,
          64.05546067573992,
          56.07831767044249,
          56.07831767044249,
          64.05546067573992,
          64.05546067573992,
          56.07831767044249,
          64.05546067573992,
          56.07831767044249,
          10.660025668871556,
          56.07831767044249,
          744.7220156959934,
          56.07831767044249,
          56.07831767044249,
          10.660025668871556,
          10.660025668871556,
          56.07831767044249,
          744.7220156959934,
          64.05546067573992,
          64.05546067573992,
          56.07831767044249,
          744.7220156959934,
          744.7220156959934,
          64.05546067573992,
          56.07831767044249,
          56.07831767044249,
          744.7220156959934,
          64.05546067573992,
          10.660025668871556,
          56.07831767044249,
          744.7220156959934,
          64.05546067573992,
          56.07831767044249,
          64.05546067573992,
          56.07831767044249,
          10.660025668871556,
          10.660025668871556,
          64.05546067573992,
          10.660025668871556,
          10.660025668871556,
          56.07831767044249,
          10.660025668871556,
          744.7220156959934,
          64.05546067573992,
          10.660025668871556,
          744.7220156959934,
          10.660025668871556,
          56.07831767044249,
          56.07831767044249,
          64.05546067573992,
          56.07831767044249,
          10.660025668871556,
          56.07831767044249,
          64.05546067573992,
          744.7220156959934,
          744.7220156959934,
          56.07831767044249,
          56.07831767044249,
          64.05546067573992,
          56.07831767044249,
          10.660025668871556,
          10.660025668871556,
          56.07831767044249,
          56.07831767044249,
          744.7220156959934,
          56.07831767044249,
          744.7220156959934,
          64.05546067573992,
          64.05546067573992,
          744.7220156959934,
          10.660025668871556,
          744.7220156959934,
          10.660025668871556,
          10.660025668871556,
          56.07831767044249,
          10.660025668871556,
          744.7220156959934,
          744.7220156959934,
          744.7220156959934,
          64.05546067573992,
          64.05546067573992,
          56.07831767044249,
          744.7220156959934,
          64.05546067573992,
          744.7220156959934,
          744.7220156959934,
          64.05546067573992,
          10.660025668871556,
          744.7220156959934,
          744.7220156959934,
          10.660025668871556,
          10.660025668871556,
          10.660025668871556,
          744.7220156959934,
          10.660025668871556,
          56.07831767044249,
          64.05546067573992,
          10.660025668871556,
          56.07831767044249,
          10.660025668871556,
          56.07831767044249,
          10.660025668871556,
          10.660025668871556,
          744.7220156959934,
          64.05546067573992,
          744.7220156959934,
          744.7220156959934,
          744.7220156959934,
          64.05546067573992,
          56.07831767044249,
          744.7220156959934,
          744.7220156959934,
          64.05546067573992,
          56.07831767044249,
          64.05546067573992,
          56.07831767044249,
          10.660025668871556,
          64.05546067573992,
          10.660025668871556,
          64.05546067573992,
          64.05546067573992,
          64.05546067573992,
          64.05546067573992,
          64.05546067573992,
          744.7220156959934,
          64.05546067573992,
          56.07831767044249,
          64.05546067573992,
          64.05546067573992,
          744.7220156959934,
          56.07831767044249,
          10.660025668871556,
          64.05546067573992,
          56.07831767044249,
          56.07831767044249,
          744.7220156959934,
          10.660025668871556,
          10.660025668871556,
          744.7220156959934,
          744.7220156959934,
          10.660025668871556,
          744.7220156959934,
          744.7220156959934,
          56.07831767044249,
          64.05546067573992,
          64.05546067573992,
          56.07831767044249,
          10.660025668871556,
          10.660025668871556,
          10.660025668871556,
          744.7220156959934,
          744.7220156959934,
          64.05546067573992,
          64.05546067573992,
          744.7220156959934,
          744.7220156959934,
          56.07831767044249,
          10.660025668871556,
          744.7220156959934,
          10.660025668871556,
          64.05546067573992,
          64.05546067573992,
          10.660025668871556,
          744.7220156959934,
          64.05546067573992,
          56.07831767044249,
          10.660025668871556,
          744.7220156959934,
          56.07831767044249,
          10.660025668871556,
          744.7220156959934,
          64.05546067573992,
          64.05546067573992,
          10.660025668871556,
          744.7220156959934,
          64.05546067573992,
          56.07831767044249,
          10.660025668871556,
          10.660025668871556,
          56.07831767044249,
          744.7220156959934,
          56.07831767044249,
          10.660025668871556,
          56.07831767044249,
          10.660025668871556,
          10.660025668871556,
          744.7220156959934,
          744.7220156959934,
          10.660025668871556,
          744.7220156959934,
          56.07831767044249,
          744.7220156959934,
          10.660025668871556,
          56.07831767044249,
          10.660025668871556,
          10.660025668871556,
          744.7220156959934,
          744.7220156959934,
          56.07831767044249,
          56.07831767044249,
          744.7220156959934,
          56.07831767044249,
          56.07831767044249,
          64.05546067573992,
          10.660025668871556,
          10.660025668871556,
          744.7220156959934,
          10.660025668871556,
          744.7220156959934,
          10.660025668871556,
          10.660025668871556,
          10.660025668871556,
          744.7220156959934,
          744.7220156959934,
          64.05546067573992,
          64.05546067573992,
          744.7220156959934,
          10.660025668871556,
          64.05546067573992,
          744.7220156959934,
          56.07831767044249,
          56.07831767044249,
          56.07831767044249,
          64.05546067573992,
          10.660025668871556,
          744.7220156959934,
          10.660025668871556,
          64.05546067573992,
          64.05546067573992,
          10.660025668871556,
          56.07831767044249,
          744.7220156959934,
          744.7220156959934,
          744.7220156959934,
          56.07831767044249,
          10.660025668871556,
          64.05546067573992,
          56.07831767044249,
          56.07831767044249,
          10.660025668871556,
          744.7220156959934,
          744.7220156959934,
          64.05546067573992,
          56.07831767044249,
          56.07831767044249,
          10.660025668871556,
          64.05546067573992,
          56.07831767044249,
          56.07831767044249,
          10.660025668871556,
          64.05546067573992,
          64.05546067573992,
          10.660025668871556,
          744.7220156959934,
          10.660025668871556,
          64.05546067573992,
          56.07831767044249,
          744.7220156959934,
          64.05546067573992,
          64.05546067573992,
          56.07831767044249,
          744.7220156959934,
          56.07831767044249,
          56.07831767044249,
          10.660025668871556,
          64.05546067573992,
          744.7220156959934,
          56.07831767044249,
          744.7220156959934,
          64.05546067573992,
          64.05546067573992,
          64.05546067573992,
          56.07831767044249,
          56.07831767044249,
          744.7220156959934,
          64.05546067573992,
          56.07831767044249,
          56.07831767044249,
          10.660025668871556,
          56.07831767044249,
          56.07831767044249,
          56.07831767044249,
          64.05546067573992,
          56.07831767044249,
          744.7220156959934,
          56.07831767044249,
          10.660025668871556,
          56.07831767044249,
          56.07831767044249,
          10.660025668871556,
          64.05546067573992,
          64.05546067573992,
          744.7220156959934,
          64.05546067573992,
          744.7220156959934,
          56.07831767044249,
          744.7220156959934,
          10.660025668871556,
          744.7220156959934,
          744.7220156959934,
          56.07831767044249,
          10.660025668871556,
          56.07831767044249,
          56.07831767044249,
          64.05546067573992,
          64.05546067573992,
          64.05546067573992,
          744.7220156959934,
          10.660025668871556,
          744.7220156959934,
          56.07831767044249,
          56.07831767044249,
          10.660025668871556,
          10.660025668871556,
          56.07831767044249,
          64.05546067573992,
          10.660025668871556,
          64.05546067573992,
          744.7220156959934,
          56.07831767044249,
          10.660025668871556,
          744.7220156959934,
          56.07831767044249,
          744.7220156959934,
          10.660025668871556,
          744.7220156959934,
          744.7220156959934,
          64.05546067573992,
          10.660025668871556,
          744.7220156959934,
          56.07831767044249,
          64.05546067573992,
          744.7220156959934,
          744.7220156959934,
          744.7220156959934,
          56.07831767044249,
          56.07831767044249,
          744.7220156959934,
          744.7220156959934,
          744.7220156959934,
          56.07831767044249,
          56.07831767044249,
          64.05546067573992,
          10.660025668871556,
          744.7220156959934,
          10.660025668871556,
          10.660025668871556,
          10.660025668871556,
          10.660025668871556,
          10.660025668871556,
          10.660025668871556,
          744.7220156959934,
          64.05546067573992,
          56.07831767044249,
          64.05546067573992,
          744.7220156959934,
          744.7220156959934,
          56.07831767044249,
          744.7220156959934,
          64.05546067573992,
          744.7220156959934,
          10.660025668871556,
          64.05546067573992,
          64.05546067573992,
          56.07831767044249,
          10.660025668871556,
          744.7220156959934,
          64.05546067573992,
          64.05546067573992,
          56.07831767044249,
          744.7220156959934,
          744.7220156959934,
          56.07831767044249,
          64.05546067573992,
          64.05546067573992,
          56.07831767044249,
          64.05546067573992,
          64.05546067573992,
          10.660025668871556,
          56.07831767044249,
          744.7220156959934,
          56.07831767044249,
          56.07831767044249,
          10.660025668871556,
          64.05546067573992,
          10.660025668871556,
          10.660025668871556,
          10.660025668871556,
          56.07831767044249,
          56.07831767044249,
          10.660025668871556,
          56.07831767044249,
          10.660025668871556,
          56.07831767044249,
          64.05546067573992,
          56.07831767044249,
          64.05546067573992,
          64.05546067573992,
          744.7220156959934,
          744.7220156959934,
          64.05546067573992,
          56.07831767044249,
          10.660025668871556,
          64.05546067573992,
          744.7220156959934,
          64.05546067573992,
          64.05546067573992
         ]
        }
       ],
       "layout": {
        "autosize": false,
        "barmode": "overlay",
        "height": 300,
        "template": {
         "data": {
          "bar": [
           {
            "error_x": {
             "color": "#2a3f5f"
            },
            "error_y": {
             "color": "#2a3f5f"
            },
            "marker": {
             "line": {
              "color": "#E5ECF6",
              "width": 0.5
             },
             "pattern": {
              "fillmode": "overlay",
              "size": 10,
              "solidity": 0.2
             }
            },
            "type": "bar"
           }
          ],
          "barpolar": [
           {
            "marker": {
             "line": {
              "color": "#E5ECF6",
              "width": 0.5
             },
             "pattern": {
              "fillmode": "overlay",
              "size": 10,
              "solidity": 0.2
             }
            },
            "type": "barpolar"
           }
          ],
          "carpet": [
           {
            "aaxis": {
             "endlinecolor": "#2a3f5f",
             "gridcolor": "white",
             "linecolor": "white",
             "minorgridcolor": "white",
             "startlinecolor": "#2a3f5f"
            },
            "baxis": {
             "endlinecolor": "#2a3f5f",
             "gridcolor": "white",
             "linecolor": "white",
             "minorgridcolor": "white",
             "startlinecolor": "#2a3f5f"
            },
            "type": "carpet"
           }
          ],
          "choropleth": [
           {
            "colorbar": {
             "outlinewidth": 0,
             "ticks": ""
            },
            "type": "choropleth"
           }
          ],
          "contour": [
           {
            "colorbar": {
             "outlinewidth": 0,
             "ticks": ""
            },
            "colorscale": [
             [
              0,
              "#0d0887"
             ],
             [
              0.1111111111111111,
              "#46039f"
             ],
             [
              0.2222222222222222,
              "#7201a8"
             ],
             [
              0.3333333333333333,
              "#9c179e"
             ],
             [
              0.4444444444444444,
              "#bd3786"
             ],
             [
              0.5555555555555556,
              "#d8576b"
             ],
             [
              0.6666666666666666,
              "#ed7953"
             ],
             [
              0.7777777777777778,
              "#fb9f3a"
             ],
             [
              0.8888888888888888,
              "#fdca26"
             ],
             [
              1,
              "#f0f921"
             ]
            ],
            "type": "contour"
           }
          ],
          "contourcarpet": [
           {
            "colorbar": {
             "outlinewidth": 0,
             "ticks": ""
            },
            "type": "contourcarpet"
           }
          ],
          "heatmap": [
           {
            "colorbar": {
             "outlinewidth": 0,
             "ticks": ""
            },
            "colorscale": [
             [
              0,
              "#0d0887"
             ],
             [
              0.1111111111111111,
              "#46039f"
             ],
             [
              0.2222222222222222,
              "#7201a8"
             ],
             [
              0.3333333333333333,
              "#9c179e"
             ],
             [
              0.4444444444444444,
              "#bd3786"
             ],
             [
              0.5555555555555556,
              "#d8576b"
             ],
             [
              0.6666666666666666,
              "#ed7953"
             ],
             [
              0.7777777777777778,
              "#fb9f3a"
             ],
             [
              0.8888888888888888,
              "#fdca26"
             ],
             [
              1,
              "#f0f921"
             ]
            ],
            "type": "heatmap"
           }
          ],
          "heatmapgl": [
           {
            "colorbar": {
             "outlinewidth": 0,
             "ticks": ""
            },
            "colorscale": [
             [
              0,
              "#0d0887"
             ],
             [
              0.1111111111111111,
              "#46039f"
             ],
             [
              0.2222222222222222,
              "#7201a8"
             ],
             [
              0.3333333333333333,
              "#9c179e"
             ],
             [
              0.4444444444444444,
              "#bd3786"
             ],
             [
              0.5555555555555556,
              "#d8576b"
             ],
             [
              0.6666666666666666,
              "#ed7953"
             ],
             [
              0.7777777777777778,
              "#fb9f3a"
             ],
             [
              0.8888888888888888,
              "#fdca26"
             ],
             [
              1,
              "#f0f921"
             ]
            ],
            "type": "heatmapgl"
           }
          ],
          "histogram": [
           {
            "marker": {
             "pattern": {
              "fillmode": "overlay",
              "size": 10,
              "solidity": 0.2
             }
            },
            "type": "histogram"
           }
          ],
          "histogram2d": [
           {
            "colorbar": {
             "outlinewidth": 0,
             "ticks": ""
            },
            "colorscale": [
             [
              0,
              "#0d0887"
             ],
             [
              0.1111111111111111,
              "#46039f"
             ],
             [
              0.2222222222222222,
              "#7201a8"
             ],
             [
              0.3333333333333333,
              "#9c179e"
             ],
             [
              0.4444444444444444,
              "#bd3786"
             ],
             [
              0.5555555555555556,
              "#d8576b"
             ],
             [
              0.6666666666666666,
              "#ed7953"
             ],
             [
              0.7777777777777778,
              "#fb9f3a"
             ],
             [
              0.8888888888888888,
              "#fdca26"
             ],
             [
              1,
              "#f0f921"
             ]
            ],
            "type": "histogram2d"
           }
          ],
          "histogram2dcontour": [
           {
            "colorbar": {
             "outlinewidth": 0,
             "ticks": ""
            },
            "colorscale": [
             [
              0,
              "#0d0887"
             ],
             [
              0.1111111111111111,
              "#46039f"
             ],
             [
              0.2222222222222222,
              "#7201a8"
             ],
             [
              0.3333333333333333,
              "#9c179e"
             ],
             [
              0.4444444444444444,
              "#bd3786"
             ],
             [
              0.5555555555555556,
              "#d8576b"
             ],
             [
              0.6666666666666666,
              "#ed7953"
             ],
             [
              0.7777777777777778,
              "#fb9f3a"
             ],
             [
              0.8888888888888888,
              "#fdca26"
             ],
             [
              1,
              "#f0f921"
             ]
            ],
            "type": "histogram2dcontour"
           }
          ],
          "mesh3d": [
           {
            "colorbar": {
             "outlinewidth": 0,
             "ticks": ""
            },
            "type": "mesh3d"
           }
          ],
          "parcoords": [
           {
            "line": {
             "colorbar": {
              "outlinewidth": 0,
              "ticks": ""
             }
            },
            "type": "parcoords"
           }
          ],
          "pie": [
           {
            "automargin": true,
            "type": "pie"
           }
          ],
          "scatter": [
           {
            "fillpattern": {
             "fillmode": "overlay",
             "size": 10,
             "solidity": 0.2
            },
            "type": "scatter"
           }
          ],
          "scatter3d": [
           {
            "line": {
             "colorbar": {
              "outlinewidth": 0,
              "ticks": ""
             }
            },
            "marker": {
             "colorbar": {
              "outlinewidth": 0,
              "ticks": ""
             }
            },
            "type": "scatter3d"
           }
          ],
          "scattercarpet": [
           {
            "marker": {
             "colorbar": {
              "outlinewidth": 0,
              "ticks": ""
             }
            },
            "type": "scattercarpet"
           }
          ],
          "scattergeo": [
           {
            "marker": {
             "colorbar": {
              "outlinewidth": 0,
              "ticks": ""
             }
            },
            "type": "scattergeo"
           }
          ],
          "scattergl": [
           {
            "marker": {
             "colorbar": {
              "outlinewidth": 0,
              "ticks": ""
             }
            },
            "type": "scattergl"
           }
          ],
          "scattermapbox": [
           {
            "marker": {
             "colorbar": {
              "outlinewidth": 0,
              "ticks": ""
             }
            },
            "type": "scattermapbox"
           }
          ],
          "scatterpolar": [
           {
            "marker": {
             "colorbar": {
              "outlinewidth": 0,
              "ticks": ""
             }
            },
            "type": "scatterpolar"
           }
          ],
          "scatterpolargl": [
           {
            "marker": {
             "colorbar": {
              "outlinewidth": 0,
              "ticks": ""
             }
            },
            "type": "scatterpolargl"
           }
          ],
          "scatterternary": [
           {
            "marker": {
             "colorbar": {
              "outlinewidth": 0,
              "ticks": ""
             }
            },
            "type": "scatterternary"
           }
          ],
          "surface": [
           {
            "colorbar": {
             "outlinewidth": 0,
             "ticks": ""
            },
            "colorscale": [
             [
              0,
              "#0d0887"
             ],
             [
              0.1111111111111111,
              "#46039f"
             ],
             [
              0.2222222222222222,
              "#7201a8"
             ],
             [
              0.3333333333333333,
              "#9c179e"
             ],
             [
              0.4444444444444444,
              "#bd3786"
             ],
             [
              0.5555555555555556,
              "#d8576b"
             ],
             [
              0.6666666666666666,
              "#ed7953"
             ],
             [
              0.7777777777777778,
              "#fb9f3a"
             ],
             [
              0.8888888888888888,
              "#fdca26"
             ],
             [
              1,
              "#f0f921"
             ]
            ],
            "type": "surface"
           }
          ],
          "table": [
           {
            "cells": {
             "fill": {
              "color": "#EBF0F8"
             },
             "line": {
              "color": "white"
             }
            },
            "header": {
             "fill": {
              "color": "#C8D4E3"
             },
             "line": {
              "color": "white"
             }
            },
            "type": "table"
           }
          ]
         },
         "layout": {
          "annotationdefaults": {
           "arrowcolor": "#2a3f5f",
           "arrowhead": 0,
           "arrowwidth": 1
          },
          "autotypenumbers": "strict",
          "coloraxis": {
           "colorbar": {
            "outlinewidth": 0,
            "ticks": ""
           }
          },
          "colorscale": {
           "diverging": [
            [
             0,
             "#8e0152"
            ],
            [
             0.1,
             "#c51b7d"
            ],
            [
             0.2,
             "#de77ae"
            ],
            [
             0.3,
             "#f1b6da"
            ],
            [
             0.4,
             "#fde0ef"
            ],
            [
             0.5,
             "#f7f7f7"
            ],
            [
             0.6,
             "#e6f5d0"
            ],
            [
             0.7,
             "#b8e186"
            ],
            [
             0.8,
             "#7fbc41"
            ],
            [
             0.9,
             "#4d9221"
            ],
            [
             1,
             "#276419"
            ]
           ],
           "sequential": [
            [
             0,
             "#0d0887"
            ],
            [
             0.1111111111111111,
             "#46039f"
            ],
            [
             0.2222222222222222,
             "#7201a8"
            ],
            [
             0.3333333333333333,
             "#9c179e"
            ],
            [
             0.4444444444444444,
             "#bd3786"
            ],
            [
             0.5555555555555556,
             "#d8576b"
            ],
            [
             0.6666666666666666,
             "#ed7953"
            ],
            [
             0.7777777777777778,
             "#fb9f3a"
            ],
            [
             0.8888888888888888,
             "#fdca26"
            ],
            [
             1,
             "#f0f921"
            ]
           ],
           "sequentialminus": [
            [
             0,
             "#0d0887"
            ],
            [
             0.1111111111111111,
             "#46039f"
            ],
            [
             0.2222222222222222,
             "#7201a8"
            ],
            [
             0.3333333333333333,
             "#9c179e"
            ],
            [
             0.4444444444444444,
             "#bd3786"
            ],
            [
             0.5555555555555556,
             "#d8576b"
            ],
            [
             0.6666666666666666,
             "#ed7953"
            ],
            [
             0.7777777777777778,
             "#fb9f3a"
            ],
            [
             0.8888888888888888,
             "#fdca26"
            ],
            [
             1,
             "#f0f921"
            ]
           ]
          },
          "colorway": [
           "#636efa",
           "#EF553B",
           "#00cc96",
           "#ab63fa",
           "#FFA15A",
           "#19d3f3",
           "#FF6692",
           "#B6E880",
           "#FF97FF",
           "#FECB52"
          ],
          "font": {
           "color": "#2a3f5f"
          },
          "geo": {
           "bgcolor": "white",
           "lakecolor": "white",
           "landcolor": "#E5ECF6",
           "showlakes": true,
           "showland": true,
           "subunitcolor": "white"
          },
          "hoverlabel": {
           "align": "left"
          },
          "hovermode": "closest",
          "mapbox": {
           "style": "light"
          },
          "paper_bgcolor": "white",
          "plot_bgcolor": "#E5ECF6",
          "polar": {
           "angularaxis": {
            "gridcolor": "white",
            "linecolor": "white",
            "ticks": ""
           },
           "bgcolor": "#E5ECF6",
           "radialaxis": {
            "gridcolor": "white",
            "linecolor": "white",
            "ticks": ""
           }
          },
          "scene": {
           "xaxis": {
            "backgroundcolor": "#E5ECF6",
            "gridcolor": "white",
            "gridwidth": 2,
            "linecolor": "white",
            "showbackground": true,
            "ticks": "",
            "zerolinecolor": "white"
           },
           "yaxis": {
            "backgroundcolor": "#E5ECF6",
            "gridcolor": "white",
            "gridwidth": 2,
            "linecolor": "white",
            "showbackground": true,
            "ticks": "",
            "zerolinecolor": "white"
           },
           "zaxis": {
            "backgroundcolor": "#E5ECF6",
            "gridcolor": "white",
            "gridwidth": 2,
            "linecolor": "white",
            "showbackground": true,
            "ticks": "",
            "zerolinecolor": "white"
           }
          },
          "shapedefaults": {
           "line": {
            "color": "#2a3f5f"
           }
          },
          "ternary": {
           "aaxis": {
            "gridcolor": "white",
            "linecolor": "white",
            "ticks": ""
           },
           "baxis": {
            "gridcolor": "white",
            "linecolor": "white",
            "ticks": ""
           },
           "bgcolor": "#E5ECF6",
           "caxis": {
            "gridcolor": "white",
            "linecolor": "white",
            "ticks": ""
           }
          },
          "title": {
           "x": 0.05
          },
          "xaxis": {
           "automargin": true,
           "gridcolor": "white",
           "linecolor": "white",
           "ticks": "",
           "title": {
            "standoff": 15
           },
           "zerolinecolor": "white",
           "zerolinewidth": 2
          },
          "yaxis": {
           "automargin": true,
           "gridcolor": "white",
           "linecolor": "white",
           "ticks": "",
           "title": {
            "standoff": 15
           },
           "zerolinecolor": "white",
           "zerolinewidth": 2
          }
         }
        },
        "title": {
         "text": "statewise_population_per_sqmile Distribution"
        },
        "width": 700,
        "xaxis": {
         "title": {
          "text": "statewise_population_per_sqmile"
         }
        },
        "yaxis": {
         "title": {
          "text": "probability density"
         }
        }
       }
      }
     },
     "metadata": {},
     "output_type": "display_data"
    },
    {
     "name": "stderr",
     "output_type": "stream",
     "text": [
      "01:50:39 INFO:drift detected for warehouse_ID.value\n",
      "01:50:39 INFO:drift_score : 4.1392528559552015e-15\n",
      "01:50:39 INFO:stattest_name : chi-square p_value\n",
      "01:50:39 INFO:raw_feature_importance : 0.34592437744140625\n",
      "01:50:39 INFO:relative_feature_importance : 0.14880777895450592\n",
      "01:50:39 INFO:feature_importance_weighted_drift_score : 2.7816105347696035e-14\n"
     ]
    },
    {
     "data": {
      "application/vnd.plotly.v1+json": {
       "config": {
        "plotlyServerURL": "https://plot.ly"
       },
       "data": [
        {
         "histnorm": "probability density",
         "name": "training",
         "opacity": 0.4,
         "type": "histogram",
         "x": [
          "WH_0x3ec",
          "WH_0x3ea",
          "WH_0x3ea",
          "WH_0x3ec",
          "WH_0x3ea",
          "WH_0x3e9",
          "WH_0x3e9",
          "WH_0x3e9",
          "WH_0x3eb",
          "WH_0x3eb",
          "WH_0x3eb",
          "WH_0x3ea",
          "WH_0x3e9",
          "WH_0x3ea",
          "WH_0x3e9",
          "WH_0x3ea",
          "WH_0x3ea",
          "WH_0x3ea",
          "WH_0x3e9",
          "WH_0x3ec",
          "WH_0x3ea",
          "WH_0x3e9",
          "WH_0x3eb",
          "WH_0x3ea",
          "WH_0x3ec",
          "WH_0x3ea",
          "WH_0x3e9",
          "WH_0x3ea",
          "WH_0x3e9",
          "WH_0x3ea",
          "WH_0x3e9",
          "WH_0x3eb",
          "WH_0x3e9",
          "WH_0x3ea",
          "WH_0x3ea",
          "WH_0x3ec",
          "WH_0x3ea",
          "WH_0x3e9",
          "WH_0x3ea",
          "WH_0x3ea",
          "WH_0x3ec",
          "WH_0x3e9",
          "WH_0x3e9",
          "WH_0x3eb",
          "WH_0x3eb",
          "WH_0x3ec",
          "WH_0x3e9",
          "WH_0x3eb",
          "WH_0x3e9",
          "WH_0x3e9",
          "WH_0x3ec",
          "WH_0x3ea",
          "WH_0x3ea",
          "WH_0x3ea",
          "WH_0x3ea",
          "WH_0x3ec",
          "WH_0x3e9",
          "WH_0x3ea",
          "WH_0x3e9",
          "WH_0x3e9",
          "WH_0x3ea",
          "WH_0x3eb",
          "WH_0x3ec",
          "WH_0x3e9",
          "WH_0x3eb",
          "WH_0x3ea",
          "WH_0x3ea",
          "WH_0x3e9",
          "WH_0x3e9",
          "WH_0x3eb",
          "WH_0x3ec",
          "WH_0x3e9",
          "WH_0x3ea",
          "WH_0x3eb",
          "WH_0x3ea",
          "WH_0x3ec",
          "WH_0x3e9",
          "WH_0x3ea",
          "WH_0x3eb",
          "WH_0x3e9",
          "WH_0x3ea",
          "WH_0x3ea",
          "WH_0x3ec",
          "WH_0x3ea",
          "WH_0x3ec",
          "WH_0x3e9",
          "WH_0x3ea",
          "WH_0x3ea",
          "WH_0x3e9",
          "WH_0x3ea",
          "WH_0x3ea",
          "WH_0x3e9",
          "WH_0x3ea",
          "WH_0x3ec",
          "WH_0x3ea",
          "WH_0x3ec",
          "WH_0x3ea",
          "WH_0x3ea",
          "WH_0x3e9",
          "WH_0x3e9",
          "WH_0x3ec",
          "WH_0x3e9",
          "WH_0x3eb",
          "WH_0x3ea",
          "WH_0x3e9",
          "WH_0x3eb",
          "WH_0x3ea",
          "WH_0x3e9",
          "WH_0x3ec",
          "WH_0x3e9",
          "WH_0x3ea",
          "WH_0x3e9",
          "WH_0x3ea",
          "WH_0x3ea",
          "WH_0x3eb",
          "WH_0x3eb",
          "WH_0x3ea",
          "WH_0x3e9",
          "WH_0x3e9",
          "WH_0x3ea",
          "WH_0x3eb",
          "WH_0x3e9",
          "WH_0x3ea",
          "WH_0x3eb",
          "WH_0x3eb",
          "WH_0x3ea",
          "WH_0x3ea",
          "WH_0x3ea",
          "WH_0x3eb",
          "WH_0x3eb",
          "WH_0x3e9",
          "WH_0x3eb",
          "WH_0x3e9",
          "WH_0x3eb",
          "WH_0x3e9",
          "WH_0x3e9",
          "WH_0x3ea",
          "WH_0x3e9",
          "WH_0x3ea",
          "WH_0x3ea",
          "WH_0x3e9",
          "WH_0x3ea",
          "WH_0x3ea",
          "WH_0x3e9",
          "WH_0x3ec",
          "WH_0x3eb",
          "WH_0x3eb",
          "WH_0x3e9",
          "WH_0x3e9",
          "WH_0x3e9",
          "WH_0x3eb",
          "WH_0x3ea",
          "WH_0x3e9",
          "WH_0x3e9",
          "WH_0x3ec",
          "WH_0x3ea",
          "WH_0x3ec",
          "WH_0x3eb",
          "WH_0x3eb",
          "WH_0x3ec",
          "WH_0x3e9",
          "WH_0x3e9",
          "WH_0x3e9",
          "WH_0x3e9",
          "WH_0x3ea",
          "WH_0x3eb",
          "WH_0x3e9",
          "WH_0x3e9",
          "WH_0x3e9",
          "WH_0x3eb",
          "WH_0x3ea",
          "WH_0x3e9",
          "WH_0x3ec",
          "WH_0x3e9",
          "WH_0x3ea",
          "WH_0x3e9",
          "WH_0x3e9",
          "WH_0x3ea",
          "WH_0x3e9",
          "WH_0x3eb",
          "WH_0x3eb",
          "WH_0x3ea",
          "WH_0x3e9",
          "WH_0x3ea",
          "WH_0x3ea",
          "WH_0x3e9",
          "WH_0x3e9",
          "WH_0x3eb",
          "WH_0x3e9",
          "WH_0x3ea",
          "WH_0x3ea",
          "WH_0x3eb",
          "WH_0x3e9",
          "WH_0x3ea",
          "WH_0x3ea",
          "WH_0x3e9",
          "WH_0x3ea",
          "WH_0x3ea",
          "WH_0x3ea",
          "WH_0x3eb",
          "WH_0x3ea",
          "WH_0x3e9",
          "WH_0x3e9",
          "WH_0x3e9",
          "WH_0x3ea",
          "WH_0x3ea",
          "WH_0x3ea",
          "WH_0x3ea",
          "WH_0x3ea",
          "WH_0x3ec",
          "WH_0x3ea",
          "WH_0x3eb",
          "WH_0x3ea",
          "WH_0x3e9",
          "WH_0x3ec",
          "WH_0x3ea",
          "WH_0x3ec",
          "WH_0x3e9",
          "WH_0x3e9",
          "WH_0x3ea",
          "WH_0x3ea",
          "WH_0x3ea",
          "WH_0x3eb",
          "WH_0x3ea",
          "WH_0x3eb",
          "WH_0x3ea",
          "WH_0x3eb",
          "WH_0x3e9",
          "WH_0x3e9",
          "WH_0x3ea",
          "WH_0x3e9",
          "WH_0x3e9",
          "WH_0x3eb",
          "WH_0x3e9",
          "WH_0x3eb",
          "WH_0x3e9",
          "WH_0x3ea",
          "WH_0x3ea",
          "WH_0x3e9",
          "WH_0x3ea",
          "WH_0x3eb",
          "WH_0x3ea",
          "WH_0x3ea",
          "WH_0x3ea",
          "WH_0x3e9",
          "WH_0x3e9",
          "WH_0x3ea",
          "WH_0x3eb",
          "WH_0x3ea",
          "WH_0x3ea",
          "WH_0x3ec",
          "WH_0x3e9",
          "WH_0x3eb",
          "WH_0x3ec",
          "WH_0x3ea",
          "WH_0x3ea",
          "WH_0x3e9",
          "WH_0x3eb",
          "WH_0x3eb",
          "WH_0x3e9",
          "WH_0x3ec",
          "WH_0x3e9",
          "WH_0x3ea",
          "WH_0x3eb",
          "WH_0x3ec",
          "WH_0x3e9",
          "WH_0x3eb",
          "WH_0x3eb",
          "WH_0x3ea",
          "WH_0x3eb",
          "WH_0x3e9",
          "WH_0x3e9",
          "WH_0x3ea",
          "WH_0x3e9",
          "WH_0x3ea",
          "WH_0x3ec",
          "WH_0x3ea",
          "WH_0x3eb",
          "WH_0x3ea",
          "WH_0x3e9",
          "WH_0x3eb",
          "WH_0x3e9",
          "WH_0x3e9",
          "WH_0x3e9",
          "WH_0x3e9",
          "WH_0x3ea",
          "WH_0x3e9",
          "WH_0x3ec",
          "WH_0x3ea",
          "WH_0x3e9",
          "WH_0x3ea",
          "WH_0x3eb",
          "WH_0x3e9",
          "WH_0x3ea",
          "WH_0x3e9",
          "WH_0x3ea",
          "WH_0x3ea",
          "WH_0x3eb",
          "WH_0x3eb",
          "WH_0x3ea",
          "WH_0x3eb",
          "WH_0x3ea",
          "WH_0x3ea",
          "WH_0x3ea",
          "WH_0x3ec",
          "WH_0x3e9",
          "WH_0x3e9",
          "WH_0x3eb",
          "WH_0x3e9",
          "WH_0x3ea",
          "WH_0x3e9",
          "WH_0x3ec",
          "WH_0x3eb",
          "WH_0x3ea",
          "WH_0x3ea",
          "WH_0x3e9",
          "WH_0x3eb",
          "WH_0x3eb",
          "WH_0x3ea",
          "WH_0x3e9",
          "WH_0x3ea",
          "WH_0x3ea",
          "WH_0x3ea",
          "WH_0x3e9",
          "WH_0x3e9",
          "WH_0x3e9",
          "WH_0x3eb",
          "WH_0x3e9",
          "WH_0x3e9",
          "WH_0x3eb",
          "WH_0x3e9",
          "WH_0x3e9",
          "WH_0x3ec",
          "WH_0x3eb",
          "WH_0x3ec",
          "WH_0x3eb",
          "WH_0x3eb",
          "WH_0x3e9",
          "WH_0x3e9",
          "WH_0x3ea",
          "WH_0x3e9",
          "WH_0x3eb",
          "WH_0x3ec",
          "WH_0x3ea",
          "WH_0x3e9",
          "WH_0x3eb",
          "WH_0x3ea",
          "WH_0x3e9",
          "WH_0x3ea",
          "WH_0x3ec",
          "WH_0x3eb",
          "WH_0x3eb",
          "WH_0x3ec",
          "WH_0x3ea",
          "WH_0x3ea",
          "WH_0x3e9",
          "WH_0x3ea",
          "WH_0x3eb",
          "WH_0x3ec",
          "WH_0x3ea",
          "WH_0x3e9",
          "WH_0x3ea",
          "WH_0x3eb",
          "WH_0x3e9",
          "WH_0x3ec",
          "WH_0x3e9",
          "WH_0x3ea",
          "WH_0x3eb",
          "WH_0x3eb",
          "WH_0x3e9",
          "WH_0x3e9",
          "WH_0x3ea",
          "WH_0x3ea",
          "WH_0x3ea",
          "WH_0x3ea",
          "WH_0x3e9",
          "WH_0x3e9",
          "WH_0x3ea",
          "WH_0x3e9",
          "WH_0x3eb",
          "WH_0x3ea",
          "WH_0x3e9",
          "WH_0x3eb",
          "WH_0x3ea",
          "WH_0x3ec",
          "WH_0x3e9",
          "WH_0x3e9",
          "WH_0x3e9",
          "WH_0x3e9",
          "WH_0x3e9",
          "WH_0x3eb",
          "WH_0x3ea",
          "WH_0x3e9",
          "WH_0x3ea",
          "WH_0x3ea",
          "WH_0x3ea",
          "WH_0x3e9",
          "WH_0x3eb",
          "WH_0x3ea",
          "WH_0x3e9",
          "WH_0x3e9",
          "WH_0x3e9",
          "WH_0x3eb",
          "WH_0x3e9",
          "WH_0x3e9",
          "WH_0x3e9",
          "WH_0x3e9",
          "WH_0x3ea",
          "WH_0x3eb",
          "WH_0x3ec",
          "WH_0x3e9",
          "WH_0x3e9",
          "WH_0x3ea",
          "WH_0x3ec",
          "WH_0x3eb",
          "WH_0x3ea",
          "WH_0x3e9",
          "WH_0x3e9",
          "WH_0x3ec",
          "WH_0x3ea",
          "WH_0x3e9",
          "WH_0x3eb",
          "WH_0x3e9",
          "WH_0x3ec",
          "WH_0x3eb",
          "WH_0x3ec",
          "WH_0x3eb",
          "WH_0x3ec",
          "WH_0x3ea",
          "WH_0x3ea",
          "WH_0x3ec",
          "WH_0x3ea",
          "WH_0x3ea",
          "WH_0x3e9",
          "WH_0x3ec",
          "WH_0x3ea",
          "WH_0x3e9",
          "WH_0x3ea",
          "WH_0x3ea",
          "WH_0x3e9",
          "WH_0x3e9",
          "WH_0x3e9",
          "WH_0x3ec",
          "WH_0x3ea",
          "WH_0x3eb",
          "WH_0x3ec",
          "WH_0x3ea",
          "WH_0x3e9",
          "WH_0x3ea",
          "WH_0x3ec",
          "WH_0x3eb",
          "WH_0x3ec",
          "WH_0x3e9",
          "WH_0x3e9",
          "WH_0x3e9",
          "WH_0x3ec",
          "WH_0x3e9",
          "WH_0x3e9",
          "WH_0x3ec",
          "WH_0x3ea",
          "WH_0x3ea",
          "WH_0x3ea",
          "WH_0x3e9",
          "WH_0x3e9",
          "WH_0x3ea",
          "WH_0x3ec",
          "WH_0x3e9",
          "WH_0x3ea",
          "WH_0x3ea",
          "WH_0x3e9",
          "WH_0x3ea",
          "WH_0x3ea",
          "WH_0x3e9",
          "WH_0x3ea",
          "WH_0x3ea",
          "WH_0x3e9",
          "WH_0x3ec",
          "WH_0x3e9",
          "WH_0x3e9",
          "WH_0x3e9",
          "WH_0x3e9",
          "WH_0x3ea",
          "WH_0x3ea",
          "WH_0x3ec",
          "WH_0x3ea",
          "WH_0x3ec",
          "WH_0x3e9",
          "WH_0x3ec",
          "WH_0x3eb",
          "WH_0x3ea",
          "WH_0x3ec",
          "WH_0x3ec",
          "WH_0x3e9",
          "WH_0x3e9",
          "WH_0x3ec",
          "WH_0x3e9",
          "WH_0x3ea",
          "WH_0x3ea",
          "WH_0x3e9",
          "WH_0x3ea"
         ]
        },
        {
         "histnorm": "probability density",
         "name": "production",
         "opacity": 0.4,
         "type": "histogram",
         "x": [
          "WH_0x3eb",
          "WH_0x3ea",
          "WH_0x3eb",
          "WH_0x3e9",
          "WH_0x3eb",
          "WH_0x3e9",
          "WH_0x3eb",
          "WH_0x3ec",
          "WH_0x3ea",
          "WH_0x3ec",
          "WH_0x3e9",
          "WH_0x3eb",
          "WH_0x3eb",
          "WH_0x3ea",
          "WH_0x3ec",
          "WH_0x3e9",
          "WH_0x3ea",
          "WH_0x3ea",
          "WH_0x3ea",
          "WH_0x3ea",
          "WH_0x3ea",
          "WH_0x3e9",
          "WH_0x3eb",
          "WH_0x3ec",
          "WH_0x3e9",
          "WH_0x3ec",
          "WH_0x3ec",
          "WH_0x3eb",
          "WH_0x3ec",
          "WH_0x3ea",
          "WH_0x3eb",
          "WH_0x3eb",
          "WH_0x3eb",
          "WH_0x3eb",
          "WH_0x3eb",
          "WH_0x3ec",
          "WH_0x3eb",
          "WH_0x3ea",
          "WH_0x3ea",
          "WH_0x3ea",
          "WH_0x3ec",
          "WH_0x3e9",
          "WH_0x3eb",
          "WH_0x3e9",
          "WH_0x3ea",
          "WH_0x3e9",
          "WH_0x3eb",
          "WH_0x3eb",
          "WH_0x3ea",
          "WH_0x3ec",
          "WH_0x3ec",
          "WH_0x3e9",
          "WH_0x3ea",
          "WH_0x3ec",
          "WH_0x3e9",
          "WH_0x3e9",
          "WH_0x3eb",
          "WH_0x3e9",
          "WH_0x3e9",
          "WH_0x3ec",
          "WH_0x3ec",
          "WH_0x3e9",
          "WH_0x3e9",
          "WH_0x3eb",
          "WH_0x3e9",
          "WH_0x3e9",
          "WH_0x3ec",
          "WH_0x3ea",
          "WH_0x3eb",
          "WH_0x3ea",
          "WH_0x3ec",
          "WH_0x3eb",
          "WH_0x3ec",
          "WH_0x3ec",
          "WH_0x3ec",
          "WH_0x3eb",
          "WH_0x3ea",
          "WH_0x3e9",
          "WH_0x3e9",
          "WH_0x3ec",
          "WH_0x3eb",
          "WH_0x3ec",
          "WH_0x3e9",
          "WH_0x3eb",
          "WH_0x3ec",
          "WH_0x3ea",
          "WH_0x3ea",
          "WH_0x3eb",
          "WH_0x3e9",
          "WH_0x3ec",
          "WH_0x3ea",
          "WH_0x3ea",
          "WH_0x3ec",
          "WH_0x3ea",
          "WH_0x3eb",
          "WH_0x3ea",
          "WH_0x3ea",
          "WH_0x3eb",
          "WH_0x3eb",
          "WH_0x3ea",
          "WH_0x3eb",
          "WH_0x3ea",
          "WH_0x3ec",
          "WH_0x3ea",
          "WH_0x3e9",
          "WH_0x3ea",
          "WH_0x3ea",
          "WH_0x3ec",
          "WH_0x3ec",
          "WH_0x3ea",
          "WH_0x3e9",
          "WH_0x3eb",
          "WH_0x3eb",
          "WH_0x3ea",
          "WH_0x3e9",
          "WH_0x3e9",
          "WH_0x3eb",
          "WH_0x3ea",
          "WH_0x3ea",
          "WH_0x3e9",
          "WH_0x3eb",
          "WH_0x3ec",
          "WH_0x3ea",
          "WH_0x3e9",
          "WH_0x3eb",
          "WH_0x3ea",
          "WH_0x3eb",
          "WH_0x3ea",
          "WH_0x3ec",
          "WH_0x3ec",
          "WH_0x3eb",
          "WH_0x3ec",
          "WH_0x3ec",
          "WH_0x3ea",
          "WH_0x3ec",
          "WH_0x3e9",
          "WH_0x3eb",
          "WH_0x3ec",
          "WH_0x3e9",
          "WH_0x3ec",
          "WH_0x3ea",
          "WH_0x3ea",
          "WH_0x3eb",
          "WH_0x3ea",
          "WH_0x3ec",
          "WH_0x3ea",
          "WH_0x3eb",
          "WH_0x3e9",
          "WH_0x3e9",
          "WH_0x3ea",
          "WH_0x3ea",
          "WH_0x3eb",
          "WH_0x3ea",
          "WH_0x3ec",
          "WH_0x3ec",
          "WH_0x3ea",
          "WH_0x3ea",
          "WH_0x3e9",
          "WH_0x3ea",
          "WH_0x3e9",
          "WH_0x3eb",
          "WH_0x3eb",
          "WH_0x3e9",
          "WH_0x3ec",
          "WH_0x3e9",
          "WH_0x3ec",
          "WH_0x3ec",
          "WH_0x3ea",
          "WH_0x3ec",
          "WH_0x3e9",
          "WH_0x3e9",
          "WH_0x3e9",
          "WH_0x3eb",
          "WH_0x3eb",
          "WH_0x3ea",
          "WH_0x3e9",
          "WH_0x3eb",
          "WH_0x3e9",
          "WH_0x3e9",
          "WH_0x3eb",
          "WH_0x3ec",
          "WH_0x3e9",
          "WH_0x3e9",
          "WH_0x3ec",
          "WH_0x3ec",
          "WH_0x3ec",
          "WH_0x3e9",
          "WH_0x3ec",
          "WH_0x3ea",
          "WH_0x3eb",
          "WH_0x3ec",
          "WH_0x3ea",
          "WH_0x3ec",
          "WH_0x3ea",
          "WH_0x3ec",
          "WH_0x3ec",
          "WH_0x3e9",
          "WH_0x3eb",
          "WH_0x3e9",
          "WH_0x3e9",
          "WH_0x3e9",
          "WH_0x3eb",
          "WH_0x3ea",
          "WH_0x3e9",
          "WH_0x3e9",
          "WH_0x3eb",
          "WH_0x3ea",
          "WH_0x3eb",
          "WH_0x3ea",
          "WH_0x3ec",
          "WH_0x3eb",
          "WH_0x3ec",
          "WH_0x3eb",
          "WH_0x3eb",
          "WH_0x3eb",
          "WH_0x3eb",
          "WH_0x3eb",
          "WH_0x3e9",
          "WH_0x3eb",
          "WH_0x3ea",
          "WH_0x3eb",
          "WH_0x3eb",
          "WH_0x3e9",
          "WH_0x3ea",
          "WH_0x3ec",
          "WH_0x3eb",
          "WH_0x3ea",
          "WH_0x3ea",
          "WH_0x3e9",
          "WH_0x3ec",
          "WH_0x3ec",
          "WH_0x3e9",
          "WH_0x3e9",
          "WH_0x3ec",
          "WH_0x3e9",
          "WH_0x3e9",
          "WH_0x3ea",
          "WH_0x3eb",
          "WH_0x3eb",
          "WH_0x3ea",
          "WH_0x3ec",
          "WH_0x3ec",
          "WH_0x3ec",
          "WH_0x3e9",
          "WH_0x3e9",
          "WH_0x3eb",
          "WH_0x3eb",
          "WH_0x3e9",
          "WH_0x3e9",
          "WH_0x3ea",
          "WH_0x3ec",
          "WH_0x3e9",
          "WH_0x3ec",
          "WH_0x3eb",
          "WH_0x3eb",
          "WH_0x3ec",
          "WH_0x3e9",
          "WH_0x3eb",
          "WH_0x3ea",
          "WH_0x3ec",
          "WH_0x3e9",
          "WH_0x3ea",
          "WH_0x3ec",
          "WH_0x3e9",
          "WH_0x3eb",
          "WH_0x3eb",
          "WH_0x3ec",
          "WH_0x3e9",
          "WH_0x3eb",
          "WH_0x3ea",
          "WH_0x3ec",
          "WH_0x3ec",
          "WH_0x3ea",
          "WH_0x3e9",
          "WH_0x3ea",
          "WH_0x3ec",
          "WH_0x3ea",
          "WH_0x3ec",
          "WH_0x3ec",
          "WH_0x3e9",
          "WH_0x3e9",
          "WH_0x3ec",
          "WH_0x3e9",
          "WH_0x3ea",
          "WH_0x3e9",
          "WH_0x3ec",
          "WH_0x3ea",
          "WH_0x3ec",
          "WH_0x3ec",
          "WH_0x3e9",
          "WH_0x3e9",
          "WH_0x3ea",
          "WH_0x3ea",
          "WH_0x3e9",
          "WH_0x3ea",
          "WH_0x3ea",
          "WH_0x3eb",
          "WH_0x3ec",
          "WH_0x3ec",
          "WH_0x3e9",
          "WH_0x3ec",
          "WH_0x3e9",
          "WH_0x3ec",
          "WH_0x3ec",
          "WH_0x3ec",
          "WH_0x3e9",
          "WH_0x3e9",
          "WH_0x3eb",
          "WH_0x3eb",
          "WH_0x3e9",
          "WH_0x3ec",
          "WH_0x3eb",
          "WH_0x3e9",
          "WH_0x3ea",
          "WH_0x3ea",
          "WH_0x3ea",
          "WH_0x3eb",
          "WH_0x3ec",
          "WH_0x3e9",
          "WH_0x3ec",
          "WH_0x3eb",
          "WH_0x3eb",
          "WH_0x3ec",
          "WH_0x3ea",
          "WH_0x3e9",
          "WH_0x3e9",
          "WH_0x3e9",
          "WH_0x3ea",
          "WH_0x3ec",
          "WH_0x3eb",
          "WH_0x3ea",
          "WH_0x3ea",
          "WH_0x3ec",
          "WH_0x3e9",
          "WH_0x3e9",
          "WH_0x3eb",
          "WH_0x3ea",
          "WH_0x3ea",
          "WH_0x3ec",
          "WH_0x3eb",
          "WH_0x3ea",
          "WH_0x3ea",
          "WH_0x3ec",
          "WH_0x3eb",
          "WH_0x3eb",
          "WH_0x3ec",
          "WH_0x3e9",
          "WH_0x3ec",
          "WH_0x3eb",
          "WH_0x3ea",
          "WH_0x3e9",
          "WH_0x3eb",
          "WH_0x3eb",
          "WH_0x3ea",
          "WH_0x3e9",
          "WH_0x3ea",
          "WH_0x3ea",
          "WH_0x3ec",
          "WH_0x3eb",
          "WH_0x3e9",
          "WH_0x3ea",
          "WH_0x3e9",
          "WH_0x3eb",
          "WH_0x3eb",
          "WH_0x3eb",
          "WH_0x3ea",
          "WH_0x3ea",
          "WH_0x3e9",
          "WH_0x3eb",
          "WH_0x3ea",
          "WH_0x3ea",
          "WH_0x3ec",
          "WH_0x3ea",
          "WH_0x3ea",
          "WH_0x3ea",
          "WH_0x3eb",
          "WH_0x3ea",
          "WH_0x3e9",
          "WH_0x3ea",
          "WH_0x3ec",
          "WH_0x3ea",
          "WH_0x3ea",
          "WH_0x3ec",
          "WH_0x3eb",
          "WH_0x3eb",
          "WH_0x3e9",
          "WH_0x3eb",
          "WH_0x3e9",
          "WH_0x3ea",
          "WH_0x3e9",
          "WH_0x3ec",
          "WH_0x3e9",
          "WH_0x3e9",
          "WH_0x3ea",
          "WH_0x3ec",
          "WH_0x3ea",
          "WH_0x3ea",
          "WH_0x3eb",
          "WH_0x3eb",
          "WH_0x3eb",
          "WH_0x3e9",
          "WH_0x3ec",
          "WH_0x3e9",
          "WH_0x3ea",
          "WH_0x3ea",
          "WH_0x3ec",
          "WH_0x3ec",
          "WH_0x3ea",
          "WH_0x3eb",
          "WH_0x3ec",
          "WH_0x3eb",
          "WH_0x3e9",
          "WH_0x3ea",
          "WH_0x3ec",
          "WH_0x3e9",
          "WH_0x3ea",
          "WH_0x3e9",
          "WH_0x3ec",
          "WH_0x3e9",
          "WH_0x3e9",
          "WH_0x3eb",
          "WH_0x3ec",
          "WH_0x3e9",
          "WH_0x3ea",
          "WH_0x3eb",
          "WH_0x3e9",
          "WH_0x3e9",
          "WH_0x3e9",
          "WH_0x3ea",
          "WH_0x3ea",
          "WH_0x3e9",
          "WH_0x3e9",
          "WH_0x3e9",
          "WH_0x3ea",
          "WH_0x3ea",
          "WH_0x3eb",
          "WH_0x3ec",
          "WH_0x3e9",
          "WH_0x3ec",
          "WH_0x3ec",
          "WH_0x3ec",
          "WH_0x3ec",
          "WH_0x3ec",
          "WH_0x3ec",
          "WH_0x3e9",
          "WH_0x3eb",
          "WH_0x3ea",
          "WH_0x3eb",
          "WH_0x3e9",
          "WH_0x3e9",
          "WH_0x3ea",
          "WH_0x3e9",
          "WH_0x3eb",
          "WH_0x3e9",
          "WH_0x3ec",
          "WH_0x3eb",
          "WH_0x3eb",
          "WH_0x3ea",
          "WH_0x3ec",
          "WH_0x3e9",
          "WH_0x3eb",
          "WH_0x3eb",
          "WH_0x3ea",
          "WH_0x3e9",
          "WH_0x3e9",
          "WH_0x3ea",
          "WH_0x3eb",
          "WH_0x3eb",
          "WH_0x3ea",
          "WH_0x3eb",
          "WH_0x3eb",
          "WH_0x3ec",
          "WH_0x3ea",
          "WH_0x3e9",
          "WH_0x3ea",
          "WH_0x3ea",
          "WH_0x3ec",
          "WH_0x3eb",
          "WH_0x3ec",
          "WH_0x3ec",
          "WH_0x3ec",
          "WH_0x3ea",
          "WH_0x3ea",
          "WH_0x3ec",
          "WH_0x3ea",
          "WH_0x3ec",
          "WH_0x3ea",
          "WH_0x3eb",
          "WH_0x3ea",
          "WH_0x3eb",
          "WH_0x3eb",
          "WH_0x3e9",
          "WH_0x3e9",
          "WH_0x3eb",
          "WH_0x3ea",
          "WH_0x3ec",
          "WH_0x3eb",
          "WH_0x3e9",
          "WH_0x3eb",
          "WH_0x3eb"
         ]
        }
       ],
       "layout": {
        "autosize": false,
        "barmode": "overlay",
        "height": 300,
        "template": {
         "data": {
          "bar": [
           {
            "error_x": {
             "color": "#2a3f5f"
            },
            "error_y": {
             "color": "#2a3f5f"
            },
            "marker": {
             "line": {
              "color": "#E5ECF6",
              "width": 0.5
             },
             "pattern": {
              "fillmode": "overlay",
              "size": 10,
              "solidity": 0.2
             }
            },
            "type": "bar"
           }
          ],
          "barpolar": [
           {
            "marker": {
             "line": {
              "color": "#E5ECF6",
              "width": 0.5
             },
             "pattern": {
              "fillmode": "overlay",
              "size": 10,
              "solidity": 0.2
             }
            },
            "type": "barpolar"
           }
          ],
          "carpet": [
           {
            "aaxis": {
             "endlinecolor": "#2a3f5f",
             "gridcolor": "white",
             "linecolor": "white",
             "minorgridcolor": "white",
             "startlinecolor": "#2a3f5f"
            },
            "baxis": {
             "endlinecolor": "#2a3f5f",
             "gridcolor": "white",
             "linecolor": "white",
             "minorgridcolor": "white",
             "startlinecolor": "#2a3f5f"
            },
            "type": "carpet"
           }
          ],
          "choropleth": [
           {
            "colorbar": {
             "outlinewidth": 0,
             "ticks": ""
            },
            "type": "choropleth"
           }
          ],
          "contour": [
           {
            "colorbar": {
             "outlinewidth": 0,
             "ticks": ""
            },
            "colorscale": [
             [
              0,
              "#0d0887"
             ],
             [
              0.1111111111111111,
              "#46039f"
             ],
             [
              0.2222222222222222,
              "#7201a8"
             ],
             [
              0.3333333333333333,
              "#9c179e"
             ],
             [
              0.4444444444444444,
              "#bd3786"
             ],
             [
              0.5555555555555556,
              "#d8576b"
             ],
             [
              0.6666666666666666,
              "#ed7953"
             ],
             [
              0.7777777777777778,
              "#fb9f3a"
             ],
             [
              0.8888888888888888,
              "#fdca26"
             ],
             [
              1,
              "#f0f921"
             ]
            ],
            "type": "contour"
           }
          ],
          "contourcarpet": [
           {
            "colorbar": {
             "outlinewidth": 0,
             "ticks": ""
            },
            "type": "contourcarpet"
           }
          ],
          "heatmap": [
           {
            "colorbar": {
             "outlinewidth": 0,
             "ticks": ""
            },
            "colorscale": [
             [
              0,
              "#0d0887"
             ],
             [
              0.1111111111111111,
              "#46039f"
             ],
             [
              0.2222222222222222,
              "#7201a8"
             ],
             [
              0.3333333333333333,
              "#9c179e"
             ],
             [
              0.4444444444444444,
              "#bd3786"
             ],
             [
              0.5555555555555556,
              "#d8576b"
             ],
             [
              0.6666666666666666,
              "#ed7953"
             ],
             [
              0.7777777777777778,
              "#fb9f3a"
             ],
             [
              0.8888888888888888,
              "#fdca26"
             ],
             [
              1,
              "#f0f921"
             ]
            ],
            "type": "heatmap"
           }
          ],
          "heatmapgl": [
           {
            "colorbar": {
             "outlinewidth": 0,
             "ticks": ""
            },
            "colorscale": [
             [
              0,
              "#0d0887"
             ],
             [
              0.1111111111111111,
              "#46039f"
             ],
             [
              0.2222222222222222,
              "#7201a8"
             ],
             [
              0.3333333333333333,
              "#9c179e"
             ],
             [
              0.4444444444444444,
              "#bd3786"
             ],
             [
              0.5555555555555556,
              "#d8576b"
             ],
             [
              0.6666666666666666,
              "#ed7953"
             ],
             [
              0.7777777777777778,
              "#fb9f3a"
             ],
             [
              0.8888888888888888,
              "#fdca26"
             ],
             [
              1,
              "#f0f921"
             ]
            ],
            "type": "heatmapgl"
           }
          ],
          "histogram": [
           {
            "marker": {
             "pattern": {
              "fillmode": "overlay",
              "size": 10,
              "solidity": 0.2
             }
            },
            "type": "histogram"
           }
          ],
          "histogram2d": [
           {
            "colorbar": {
             "outlinewidth": 0,
             "ticks": ""
            },
            "colorscale": [
             [
              0,
              "#0d0887"
             ],
             [
              0.1111111111111111,
              "#46039f"
             ],
             [
              0.2222222222222222,
              "#7201a8"
             ],
             [
              0.3333333333333333,
              "#9c179e"
             ],
             [
              0.4444444444444444,
              "#bd3786"
             ],
             [
              0.5555555555555556,
              "#d8576b"
             ],
             [
              0.6666666666666666,
              "#ed7953"
             ],
             [
              0.7777777777777778,
              "#fb9f3a"
             ],
             [
              0.8888888888888888,
              "#fdca26"
             ],
             [
              1,
              "#f0f921"
             ]
            ],
            "type": "histogram2d"
           }
          ],
          "histogram2dcontour": [
           {
            "colorbar": {
             "outlinewidth": 0,
             "ticks": ""
            },
            "colorscale": [
             [
              0,
              "#0d0887"
             ],
             [
              0.1111111111111111,
              "#46039f"
             ],
             [
              0.2222222222222222,
              "#7201a8"
             ],
             [
              0.3333333333333333,
              "#9c179e"
             ],
             [
              0.4444444444444444,
              "#bd3786"
             ],
             [
              0.5555555555555556,
              "#d8576b"
             ],
             [
              0.6666666666666666,
              "#ed7953"
             ],
             [
              0.7777777777777778,
              "#fb9f3a"
             ],
             [
              0.8888888888888888,
              "#fdca26"
             ],
             [
              1,
              "#f0f921"
             ]
            ],
            "type": "histogram2dcontour"
           }
          ],
          "mesh3d": [
           {
            "colorbar": {
             "outlinewidth": 0,
             "ticks": ""
            },
            "type": "mesh3d"
           }
          ],
          "parcoords": [
           {
            "line": {
             "colorbar": {
              "outlinewidth": 0,
              "ticks": ""
             }
            },
            "type": "parcoords"
           }
          ],
          "pie": [
           {
            "automargin": true,
            "type": "pie"
           }
          ],
          "scatter": [
           {
            "fillpattern": {
             "fillmode": "overlay",
             "size": 10,
             "solidity": 0.2
            },
            "type": "scatter"
           }
          ],
          "scatter3d": [
           {
            "line": {
             "colorbar": {
              "outlinewidth": 0,
              "ticks": ""
             }
            },
            "marker": {
             "colorbar": {
              "outlinewidth": 0,
              "ticks": ""
             }
            },
            "type": "scatter3d"
           }
          ],
          "scattercarpet": [
           {
            "marker": {
             "colorbar": {
              "outlinewidth": 0,
              "ticks": ""
             }
            },
            "type": "scattercarpet"
           }
          ],
          "scattergeo": [
           {
            "marker": {
             "colorbar": {
              "outlinewidth": 0,
              "ticks": ""
             }
            },
            "type": "scattergeo"
           }
          ],
          "scattergl": [
           {
            "marker": {
             "colorbar": {
              "outlinewidth": 0,
              "ticks": ""
             }
            },
            "type": "scattergl"
           }
          ],
          "scattermapbox": [
           {
            "marker": {
             "colorbar": {
              "outlinewidth": 0,
              "ticks": ""
             }
            },
            "type": "scattermapbox"
           }
          ],
          "scatterpolar": [
           {
            "marker": {
             "colorbar": {
              "outlinewidth": 0,
              "ticks": ""
             }
            },
            "type": "scatterpolar"
           }
          ],
          "scatterpolargl": [
           {
            "marker": {
             "colorbar": {
              "outlinewidth": 0,
              "ticks": ""
             }
            },
            "type": "scatterpolargl"
           }
          ],
          "scatterternary": [
           {
            "marker": {
             "colorbar": {
              "outlinewidth": 0,
              "ticks": ""
             }
            },
            "type": "scatterternary"
           }
          ],
          "surface": [
           {
            "colorbar": {
             "outlinewidth": 0,
             "ticks": ""
            },
            "colorscale": [
             [
              0,
              "#0d0887"
             ],
             [
              0.1111111111111111,
              "#46039f"
             ],
             [
              0.2222222222222222,
              "#7201a8"
             ],
             [
              0.3333333333333333,
              "#9c179e"
             ],
             [
              0.4444444444444444,
              "#bd3786"
             ],
             [
              0.5555555555555556,
              "#d8576b"
             ],
             [
              0.6666666666666666,
              "#ed7953"
             ],
             [
              0.7777777777777778,
              "#fb9f3a"
             ],
             [
              0.8888888888888888,
              "#fdca26"
             ],
             [
              1,
              "#f0f921"
             ]
            ],
            "type": "surface"
           }
          ],
          "table": [
           {
            "cells": {
             "fill": {
              "color": "#EBF0F8"
             },
             "line": {
              "color": "white"
             }
            },
            "header": {
             "fill": {
              "color": "#C8D4E3"
             },
             "line": {
              "color": "white"
             }
            },
            "type": "table"
           }
          ]
         },
         "layout": {
          "annotationdefaults": {
           "arrowcolor": "#2a3f5f",
           "arrowhead": 0,
           "arrowwidth": 1
          },
          "autotypenumbers": "strict",
          "coloraxis": {
           "colorbar": {
            "outlinewidth": 0,
            "ticks": ""
           }
          },
          "colorscale": {
           "diverging": [
            [
             0,
             "#8e0152"
            ],
            [
             0.1,
             "#c51b7d"
            ],
            [
             0.2,
             "#de77ae"
            ],
            [
             0.3,
             "#f1b6da"
            ],
            [
             0.4,
             "#fde0ef"
            ],
            [
             0.5,
             "#f7f7f7"
            ],
            [
             0.6,
             "#e6f5d0"
            ],
            [
             0.7,
             "#b8e186"
            ],
            [
             0.8,
             "#7fbc41"
            ],
            [
             0.9,
             "#4d9221"
            ],
            [
             1,
             "#276419"
            ]
           ],
           "sequential": [
            [
             0,
             "#0d0887"
            ],
            [
             0.1111111111111111,
             "#46039f"
            ],
            [
             0.2222222222222222,
             "#7201a8"
            ],
            [
             0.3333333333333333,
             "#9c179e"
            ],
            [
             0.4444444444444444,
             "#bd3786"
            ],
            [
             0.5555555555555556,
             "#d8576b"
            ],
            [
             0.6666666666666666,
             "#ed7953"
            ],
            [
             0.7777777777777778,
             "#fb9f3a"
            ],
            [
             0.8888888888888888,
             "#fdca26"
            ],
            [
             1,
             "#f0f921"
            ]
           ],
           "sequentialminus": [
            [
             0,
             "#0d0887"
            ],
            [
             0.1111111111111111,
             "#46039f"
            ],
            [
             0.2222222222222222,
             "#7201a8"
            ],
            [
             0.3333333333333333,
             "#9c179e"
            ],
            [
             0.4444444444444444,
             "#bd3786"
            ],
            [
             0.5555555555555556,
             "#d8576b"
            ],
            [
             0.6666666666666666,
             "#ed7953"
            ],
            [
             0.7777777777777778,
             "#fb9f3a"
            ],
            [
             0.8888888888888888,
             "#fdca26"
            ],
            [
             1,
             "#f0f921"
            ]
           ]
          },
          "colorway": [
           "#636efa",
           "#EF553B",
           "#00cc96",
           "#ab63fa",
           "#FFA15A",
           "#19d3f3",
           "#FF6692",
           "#B6E880",
           "#FF97FF",
           "#FECB52"
          ],
          "font": {
           "color": "#2a3f5f"
          },
          "geo": {
           "bgcolor": "white",
           "lakecolor": "white",
           "landcolor": "#E5ECF6",
           "showlakes": true,
           "showland": true,
           "subunitcolor": "white"
          },
          "hoverlabel": {
           "align": "left"
          },
          "hovermode": "closest",
          "mapbox": {
           "style": "light"
          },
          "paper_bgcolor": "white",
          "plot_bgcolor": "#E5ECF6",
          "polar": {
           "angularaxis": {
            "gridcolor": "white",
            "linecolor": "white",
            "ticks": ""
           },
           "bgcolor": "#E5ECF6",
           "radialaxis": {
            "gridcolor": "white",
            "linecolor": "white",
            "ticks": ""
           }
          },
          "scene": {
           "xaxis": {
            "backgroundcolor": "#E5ECF6",
            "gridcolor": "white",
            "gridwidth": 2,
            "linecolor": "white",
            "showbackground": true,
            "ticks": "",
            "zerolinecolor": "white"
           },
           "yaxis": {
            "backgroundcolor": "#E5ECF6",
            "gridcolor": "white",
            "gridwidth": 2,
            "linecolor": "white",
            "showbackground": true,
            "ticks": "",
            "zerolinecolor": "white"
           },
           "zaxis": {
            "backgroundcolor": "#E5ECF6",
            "gridcolor": "white",
            "gridwidth": 2,
            "linecolor": "white",
            "showbackground": true,
            "ticks": "",
            "zerolinecolor": "white"
           }
          },
          "shapedefaults": {
           "line": {
            "color": "#2a3f5f"
           }
          },
          "ternary": {
           "aaxis": {
            "gridcolor": "white",
            "linecolor": "white",
            "ticks": ""
           },
           "baxis": {
            "gridcolor": "white",
            "linecolor": "white",
            "ticks": ""
           },
           "bgcolor": "#E5ECF6",
           "caxis": {
            "gridcolor": "white",
            "linecolor": "white",
            "ticks": ""
           }
          },
          "title": {
           "x": 0.05
          },
          "xaxis": {
           "automargin": true,
           "gridcolor": "white",
           "linecolor": "white",
           "ticks": "",
           "title": {
            "standoff": 15
           },
           "zerolinecolor": "white",
           "zerolinewidth": 2
          },
          "yaxis": {
           "automargin": true,
           "gridcolor": "white",
           "linecolor": "white",
           "ticks": "",
           "title": {
            "standoff": 15
           },
           "zerolinecolor": "white",
           "zerolinewidth": 2
          }
         }
        },
        "title": {
         "text": "warehouse_ID Distribution"
        },
        "width": 700,
        "xaxis": {
         "title": {
          "text": "warehouse_ID"
         }
        },
        "yaxis": {
         "title": {
          "text": "probability density"
         }
        }
       }
      }
     },
     "metadata": {},
     "output_type": "display_data"
    },
    {
     "name": "stderr",
     "output_type": "stream",
     "text": [
      "01:50:39 INFO:drift detected for Product_Type.value\n",
      "01:50:39 INFO:drift_score : 5.9582691662063425e-05\n",
      "01:50:39 INFO:stattest_name : Z-test p_value\n",
      "01:50:39 INFO:raw_feature_importance : 2.324639081954956\n",
      "01:50:39 INFO:relative_feature_importance : 1.0\n",
      "01:50:39 INFO:feature_importance_weighted_drift_score : 5.9582691662063425e-05\n"
     ]
    },
    {
     "data": {
      "application/vnd.plotly.v1+json": {
       "config": {
        "plotlyServerURL": "https://plot.ly"
       },
       "data": [
        {
         "histnorm": "probability density",
         "name": "training",
         "opacity": 0.4,
         "type": "histogram",
         "x": [
          "Type_B",
          "Type_A",
          "Type_A",
          "Type_A",
          "Type_A",
          "Type_B",
          "Type_A",
          "Type_A",
          "Type_A",
          "Type_A",
          "Type_B",
          "Type_A",
          "Type_B",
          "Type_A",
          "Type_A",
          "Type_A",
          "Type_A",
          "Type_A",
          "Type_A",
          "Type_B",
          "Type_A",
          "Type_A",
          "Type_B",
          "Type_A",
          "Type_B",
          "Type_A",
          "Type_A",
          "Type_A",
          "Type_A",
          "Type_A",
          "Type_A",
          "Type_B",
          "Type_A",
          "Type_B",
          "Type_A",
          "Type_B",
          "Type_B",
          "Type_B",
          "Type_A",
          "Type_A",
          "Type_A",
          "Type_A",
          "Type_A",
          "Type_B",
          "Type_B",
          "Type_A",
          "Type_B",
          "Type_A",
          "Type_B",
          "Type_A",
          "Type_B",
          "Type_A",
          "Type_A",
          "Type_A",
          "Type_A",
          "Type_B",
          "Type_A",
          "Type_A",
          "Type_A",
          "Type_A",
          "Type_B",
          "Type_B",
          "Type_B",
          "Type_A",
          "Type_B",
          "Type_A",
          "Type_B",
          "Type_A",
          "Type_B",
          "Type_A",
          "Type_B",
          "Type_B",
          "Type_A",
          "Type_B",
          "Type_A",
          "Type_B",
          "Type_A",
          "Type_A",
          "Type_B",
          "Type_A",
          "Type_A",
          "Type_B",
          "Type_B",
          "Type_B",
          "Type_A",
          "Type_B",
          "Type_B",
          "Type_B",
          "Type_A",
          "Type_A",
          "Type_A",
          "Type_A",
          "Type_B",
          "Type_B",
          "Type_A",
          "Type_A",
          "Type_A",
          "Type_B",
          "Type_A",
          "Type_A",
          "Type_A",
          "Type_B",
          "Type_B",
          "Type_A",
          "Type_A",
          "Type_B",
          "Type_A",
          "Type_B",
          "Type_A",
          "Type_A",
          "Type_A",
          "Type_A",
          "Type_A",
          "Type_A",
          "Type_A",
          "Type_B",
          "Type_A",
          "Type_A",
          "Type_A",
          "Type_A",
          "Type_B",
          "Type_B",
          "Type_B",
          "Type_A",
          "Type_A",
          "Type_A",
          "Type_A",
          "Type_B",
          "Type_A",
          "Type_B",
          "Type_A",
          "Type_B",
          "Type_A",
          "Type_B",
          "Type_B",
          "Type_B",
          "Type_A",
          "Type_B",
          "Type_B",
          "Type_A",
          "Type_A",
          "Type_A",
          "Type_A",
          "Type_A",
          "Type_A",
          "Type_B",
          "Type_B",
          "Type_A",
          "Type_A",
          "Type_A",
          "Type_A",
          "Type_A",
          "Type_B",
          "Type_A",
          "Type_A",
          "Type_B",
          "Type_A",
          "Type_A",
          "Type_A",
          "Type_A",
          "Type_A",
          "Type_A",
          "Type_A",
          "Type_A",
          "Type_A",
          "Type_A",
          "Type_A",
          "Type_B",
          "Type_A",
          "Type_B",
          "Type_B",
          "Type_B",
          "Type_A",
          "Type_B",
          "Type_A",
          "Type_B",
          "Type_B",
          "Type_A",
          "Type_A",
          "Type_A",
          "Type_A",
          "Type_A",
          "Type_B",
          "Type_A",
          "Type_A",
          "Type_B",
          "Type_A",
          "Type_A",
          "Type_B",
          "Type_B",
          "Type_A",
          "Type_B",
          "Type_B",
          "Type_A",
          "Type_B",
          "Type_A",
          "Type_B",
          "Type_A",
          "Type_A",
          "Type_B",
          "Type_B",
          "Type_B",
          "Type_A",
          "Type_A",
          "Type_B",
          "Type_A",
          "Type_A",
          "Type_A",
          "Type_A",
          "Type_B",
          "Type_A",
          "Type_A",
          "Type_A",
          "Type_A",
          "Type_A",
          "Type_A",
          "Type_B",
          "Type_B",
          "Type_A",
          "Type_B",
          "Type_A",
          "Type_A",
          "Type_A",
          "Type_A",
          "Type_A",
          "Type_B",
          "Type_A",
          "Type_B",
          "Type_B",
          "Type_A",
          "Type_B",
          "Type_B",
          "Type_A",
          "Type_A",
          "Type_A",
          "Type_B",
          "Type_B",
          "Type_A",
          "Type_A",
          "Type_A",
          "Type_B",
          "Type_A",
          "Type_A",
          "Type_A",
          "Type_A",
          "Type_A",
          "Type_A",
          "Type_A",
          "Type_A",
          "Type_A",
          "Type_A",
          "Type_A",
          "Type_B",
          "Type_B",
          "Type_B",
          "Type_A",
          "Type_A",
          "Type_B",
          "Type_B",
          "Type_B",
          "Type_B",
          "Type_A",
          "Type_B",
          "Type_A",
          "Type_B",
          "Type_A",
          "Type_B",
          "Type_B",
          "Type_A",
          "Type_B",
          "Type_B",
          "Type_A",
          "Type_B",
          "Type_B",
          "Type_A",
          "Type_B",
          "Type_A",
          "Type_B",
          "Type_A",
          "Type_A",
          "Type_A",
          "Type_B",
          "Type_A",
          "Type_A",
          "Type_A",
          "Type_A",
          "Type_B",
          "Type_A",
          "Type_A",
          "Type_B",
          "Type_B",
          "Type_B",
          "Type_A",
          "Type_B",
          "Type_A",
          "Type_A",
          "Type_A",
          "Type_A",
          "Type_B",
          "Type_A",
          "Type_A",
          "Type_B",
          "Type_A",
          "Type_A",
          "Type_A",
          "Type_A",
          "Type_A",
          "Type_B",
          "Type_A",
          "Type_A",
          "Type_A",
          "Type_A",
          "Type_A",
          "Type_A",
          "Type_B",
          "Type_A",
          "Type_A",
          "Type_A",
          "Type_B",
          "Type_A",
          "Type_B",
          "Type_A",
          "Type_A",
          "Type_A",
          "Type_A",
          "Type_A",
          "Type_A",
          "Type_A",
          "Type_A",
          "Type_A",
          "Type_A",
          "Type_A",
          "Type_B",
          "Type_A",
          "Type_A",
          "Type_B",
          "Type_B",
          "Type_A",
          "Type_A",
          "Type_A",
          "Type_A",
          "Type_A",
          "Type_A",
          "Type_A",
          "Type_B",
          "Type_A",
          "Type_A",
          "Type_A",
          "Type_B",
          "Type_B",
          "Type_B",
          "Type_A",
          "Type_B",
          "Type_B",
          "Type_A",
          "Type_A",
          "Type_B",
          "Type_A",
          "Type_A",
          "Type_A",
          "Type_A",
          "Type_B",
          "Type_A",
          "Type_B",
          "Type_A",
          "Type_B",
          "Type_B",
          "Type_B",
          "Type_B",
          "Type_A",
          "Type_B",
          "Type_B",
          "Type_B",
          "Type_A",
          "Type_A",
          "Type_A",
          "Type_A",
          "Type_A",
          "Type_B",
          "Type_B",
          "Type_B",
          "Type_A",
          "Type_A",
          "Type_A",
          "Type_A",
          "Type_A",
          "Type_A",
          "Type_A",
          "Type_A",
          "Type_B",
          "Type_A",
          "Type_B",
          "Type_A",
          "Type_B",
          "Type_B",
          "Type_B",
          "Type_A",
          "Type_B",
          "Type_A",
          "Type_B",
          "Type_A",
          "Type_B",
          "Type_A",
          "Type_B",
          "Type_A",
          "Type_A",
          "Type_B",
          "Type_B",
          "Type_A",
          "Type_A",
          "Type_A",
          "Type_B",
          "Type_B",
          "Type_A",
          "Type_B",
          "Type_A",
          "Type_A",
          "Type_A",
          "Type_B",
          "Type_A",
          "Type_A",
          "Type_A",
          "Type_A",
          "Type_B",
          "Type_A",
          "Type_A",
          "Type_A",
          "Type_A",
          "Type_B",
          "Type_A",
          "Type_B",
          "Type_B",
          "Type_A",
          "Type_B",
          "Type_B",
          "Type_A",
          "Type_B",
          "Type_A",
          "Type_B",
          "Type_A",
          "Type_A",
          "Type_B",
          "Type_B",
          "Type_A",
          "Type_A",
          "Type_A",
          "Type_A",
          "Type_B",
          "Type_A",
          "Type_A",
          "Type_B",
          "Type_A",
          "Type_B",
          "Type_A",
          "Type_B",
          "Type_A",
          "Type_A",
          "Type_A",
          "Type_B",
          "Type_B",
          "Type_A",
          "Type_B",
          "Type_A",
          "Type_A",
          "Type_A",
          "Type_A",
          "Type_B",
          "Type_B",
          "Type_B",
          "Type_B",
          "Type_B",
          "Type_A",
          "Type_A",
          "Type_A",
          "Type_B",
          "Type_A",
          "Type_A",
          "Type_A",
          "Type_B",
          "Type_A",
          "Type_A",
          "Type_A",
          "Type_A",
          "Type_A",
          "Type_B",
          "Type_B",
          "Type_B",
          "Type_B",
          "Type_B",
          "Type_A",
          "Type_A",
          "Type_B",
          "Type_B",
          "Type_B",
          "Type_B",
          "Type_A",
          "Type_A",
          "Type_A",
          "Type_A",
          "Type_A"
         ]
        },
        {
         "histnorm": "probability density",
         "name": "production",
         "opacity": 0.4,
         "type": "histogram",
         "x": [
          "Type_B",
          "Type_A",
          "Type_A",
          "Type_A",
          "Type_A",
          "Type_B",
          "Type_B",
          "Type_A",
          "Type_A",
          "Type_A",
          "Type_A",
          "Type_B",
          "Type_B",
          "Type_A",
          "Type_B",
          "Type_A",
          "Type_A",
          "Type_A",
          "Type_A",
          "Type_A",
          "Type_B",
          "Type_B",
          "Type_A",
          "Type_A",
          "Type_B",
          "Type_A",
          "Type_B",
          "Type_B",
          "Type_B",
          "Type_A",
          "Type_A",
          "Type_B",
          "Type_B",
          "Type_B",
          "Type_A",
          "Type_B",
          "Type_B",
          "Type_A",
          "Type_A",
          "Type_B",
          "Type_B",
          "Type_A",
          "Type_A",
          "Type_A",
          "Type_A",
          "Type_B",
          "Type_A",
          "Type_A",
          "Type_B",
          "Type_A",
          "Type_B",
          "Type_B",
          "Type_A",
          "Type_A",
          "Type_B",
          "Type_B",
          "Type_B",
          "Type_B",
          "Type_A",
          "Type_B",
          "Type_B",
          "Type_A",
          "Type_B",
          "Type_A",
          "Type_A",
          "Type_B",
          "Type_B",
          "Type_A",
          "Type_B",
          "Type_A",
          "Type_B",
          "Type_A",
          "Type_A",
          "Type_A",
          "Type_A",
          "Type_B",
          "Type_B",
          "Type_B",
          "Type_B",
          "Type_A",
          "Type_B",
          "Type_B",
          "Type_B",
          "Type_A",
          "Type_A",
          "Type_A",
          "Type_A",
          "Type_A",
          "Type_B",
          "Type_B",
          "Type_B",
          "Type_B",
          "Type_A",
          "Type_A",
          "Type_B",
          "Type_A",
          "Type_A",
          "Type_A",
          "Type_B",
          "Type_A",
          "Type_B",
          "Type_B",
          "Type_B",
          "Type_B",
          "Type_A",
          "Type_A",
          "Type_B",
          "Type_B",
          "Type_B",
          "Type_B",
          "Type_B",
          "Type_A",
          "Type_B",
          "Type_A",
          "Type_B",
          "Type_A",
          "Type_B",
          "Type_A",
          "Type_B",
          "Type_A",
          "Type_A",
          "Type_A",
          "Type_A",
          "Type_A",
          "Type_A",
          "Type_A",
          "Type_A",
          "Type_A",
          "Type_B",
          "Type_B",
          "Type_A",
          "Type_B",
          "Type_B",
          "Type_B",
          "Type_B",
          "Type_A",
          "Type_A",
          "Type_A",
          "Type_A",
          "Type_B",
          "Type_B",
          "Type_B",
          "Type_A",
          "Type_B",
          "Type_B",
          "Type_B",
          "Type_A",
          "Type_A",
          "Type_B",
          "Type_B",
          "Type_B",
          "Type_A",
          "Type_B",
          "Type_B",
          "Type_B",
          "Type_A",
          "Type_B",
          "Type_A",
          "Type_B",
          "Type_A",
          "Type_B",
          "Type_A",
          "Type_B",
          "Type_B",
          "Type_B",
          "Type_A",
          "Type_B",
          "Type_B",
          "Type_B",
          "Type_B",
          "Type_A",
          "Type_B",
          "Type_B",
          "Type_B",
          "Type_B",
          "Type_A",
          "Type_B",
          "Type_B",
          "Type_A",
          "Type_A",
          "Type_A",
          "Type_B",
          "Type_B",
          "Type_B",
          "Type_A",
          "Type_B",
          "Type_B",
          "Type_A",
          "Type_A",
          "Type_B",
          "Type_A",
          "Type_B",
          "Type_B",
          "Type_B",
          "Type_B",
          "Type_B",
          "Type_A",
          "Type_B",
          "Type_A",
          "Type_B",
          "Type_A",
          "Type_A",
          "Type_B",
          "Type_B",
          "Type_B",
          "Type_A",
          "Type_B",
          "Type_B",
          "Type_A",
          "Type_A",
          "Type_B",
          "Type_B",
          "Type_B",
          "Type_B",
          "Type_A",
          "Type_A",
          "Type_A",
          "Type_B",
          "Type_A",
          "Type_B",
          "Type_A",
          "Type_B",
          "Type_A",
          "Type_B",
          "Type_B",
          "Type_A",
          "Type_A",
          "Type_A",
          "Type_B",
          "Type_B",
          "Type_A",
          "Type_B",
          "Type_B",
          "Type_B",
          "Type_B",
          "Type_A",
          "Type_A",
          "Type_A",
          "Type_A",
          "Type_A",
          "Type_A",
          "Type_B",
          "Type_A",
          "Type_A",
          "Type_A",
          "Type_B",
          "Type_A",
          "Type_A",
          "Type_B",
          "Type_B",
          "Type_A",
          "Type_A",
          "Type_B",
          "Type_B",
          "Type_B",
          "Type_A",
          "Type_B",
          "Type_B",
          "Type_B",
          "Type_A",
          "Type_A",
          "Type_B",
          "Type_B",
          "Type_B",
          "Type_B",
          "Type_B",
          "Type_A",
          "Type_A",
          "Type_B",
          "Type_A",
          "Type_B",
          "Type_B",
          "Type_B",
          "Type_A",
          "Type_B",
          "Type_B",
          "Type_B",
          "Type_A",
          "Type_B",
          "Type_B",
          "Type_A",
          "Type_B",
          "Type_B",
          "Type_B",
          "Type_A",
          "Type_B",
          "Type_B",
          "Type_B",
          "Type_B",
          "Type_B",
          "Type_B",
          "Type_B",
          "Type_A",
          "Type_A",
          "Type_B",
          "Type_B",
          "Type_B",
          "Type_A",
          "Type_B",
          "Type_A",
          "Type_A",
          "Type_A",
          "Type_A",
          "Type_A",
          "Type_B",
          "Type_B",
          "Type_A",
          "Type_A",
          "Type_B",
          "Type_B",
          "Type_A",
          "Type_B",
          "Type_A",
          "Type_B",
          "Type_A",
          "Type_B",
          "Type_A",
          "Type_B",
          "Type_B",
          "Type_B",
          "Type_A",
          "Type_A",
          "Type_A",
          "Type_B",
          "Type_A",
          "Type_A",
          "Type_B",
          "Type_A",
          "Type_A",
          "Type_B",
          "Type_A",
          "Type_B",
          "Type_B",
          "Type_A",
          "Type_A",
          "Type_A",
          "Type_A",
          "Type_B",
          "Type_A",
          "Type_A",
          "Type_A",
          "Type_B",
          "Type_A",
          "Type_B",
          "Type_A",
          "Type_B",
          "Type_B",
          "Type_B",
          "Type_A",
          "Type_A",
          "Type_A",
          "Type_B",
          "Type_B",
          "Type_A",
          "Type_A",
          "Type_A",
          "Type_A",
          "Type_A",
          "Type_B",
          "Type_A",
          "Type_A",
          "Type_A",
          "Type_A",
          "Type_A",
          "Type_A",
          "Type_B",
          "Type_A",
          "Type_B",
          "Type_B",
          "Type_A",
          "Type_A",
          "Type_A",
          "Type_A",
          "Type_A",
          "Type_B",
          "Type_A",
          "Type_B",
          "Type_B",
          "Type_B",
          "Type_A",
          "Type_A",
          "Type_A",
          "Type_B",
          "Type_A",
          "Type_B",
          "Type_A",
          "Type_B",
          "Type_A",
          "Type_A",
          "Type_B",
          "Type_A",
          "Type_A",
          "Type_A",
          "Type_B",
          "Type_A",
          "Type_A",
          "Type_A",
          "Type_B",
          "Type_A",
          "Type_B",
          "Type_B",
          "Type_B",
          "Type_A",
          "Type_B",
          "Type_A",
          "Type_B",
          "Type_A",
          "Type_A",
          "Type_B",
          "Type_B",
          "Type_B",
          "Type_B",
          "Type_B",
          "Type_A",
          "Type_A",
          "Type_B",
          "Type_B",
          "Type_A",
          "Type_A",
          "Type_A",
          "Type_A",
          "Type_A",
          "Type_B",
          "Type_A",
          "Type_A",
          "Type_B",
          "Type_A",
          "Type_B",
          "Type_A",
          "Type_A",
          "Type_A",
          "Type_B",
          "Type_B",
          "Type_B",
          "Type_A",
          "Type_A",
          "Type_B",
          "Type_A",
          "Type_A",
          "Type_A",
          "Type_A",
          "Type_A",
          "Type_A",
          "Type_A",
          "Type_A",
          "Type_B",
          "Type_B",
          "Type_B",
          "Type_A",
          "Type_A",
          "Type_B",
          "Type_B",
          "Type_B",
          "Type_A",
          "Type_B",
          "Type_A",
          "Type_B",
          "Type_A",
          "Type_A",
          "Type_B",
          "Type_B",
          "Type_B",
          "Type_A",
          "Type_A",
          "Type_B",
          "Type_B",
          "Type_B",
          "Type_A",
          "Type_B",
          "Type_A",
          "Type_B",
          "Type_A",
          "Type_B",
          "Type_A",
          "Type_B",
          "Type_A",
          "Type_A",
          "Type_A",
          "Type_B",
          "Type_B",
          "Type_A",
          "Type_B",
          "Type_B",
          "Type_B",
          "Type_A",
          "Type_B",
          "Type_B",
          "Type_B",
          "Type_A",
          "Type_B",
          "Type_A",
          "Type_A",
          "Type_A",
          "Type_A",
          "Type_B",
          "Type_A",
          "Type_A",
          "Type_B",
          "Type_A",
          "Type_B"
         ]
        }
       ],
       "layout": {
        "autosize": false,
        "barmode": "overlay",
        "height": 300,
        "template": {
         "data": {
          "bar": [
           {
            "error_x": {
             "color": "#2a3f5f"
            },
            "error_y": {
             "color": "#2a3f5f"
            },
            "marker": {
             "line": {
              "color": "#E5ECF6",
              "width": 0.5
             },
             "pattern": {
              "fillmode": "overlay",
              "size": 10,
              "solidity": 0.2
             }
            },
            "type": "bar"
           }
          ],
          "barpolar": [
           {
            "marker": {
             "line": {
              "color": "#E5ECF6",
              "width": 0.5
             },
             "pattern": {
              "fillmode": "overlay",
              "size": 10,
              "solidity": 0.2
             }
            },
            "type": "barpolar"
           }
          ],
          "carpet": [
           {
            "aaxis": {
             "endlinecolor": "#2a3f5f",
             "gridcolor": "white",
             "linecolor": "white",
             "minorgridcolor": "white",
             "startlinecolor": "#2a3f5f"
            },
            "baxis": {
             "endlinecolor": "#2a3f5f",
             "gridcolor": "white",
             "linecolor": "white",
             "minorgridcolor": "white",
             "startlinecolor": "#2a3f5f"
            },
            "type": "carpet"
           }
          ],
          "choropleth": [
           {
            "colorbar": {
             "outlinewidth": 0,
             "ticks": ""
            },
            "type": "choropleth"
           }
          ],
          "contour": [
           {
            "colorbar": {
             "outlinewidth": 0,
             "ticks": ""
            },
            "colorscale": [
             [
              0,
              "#0d0887"
             ],
             [
              0.1111111111111111,
              "#46039f"
             ],
             [
              0.2222222222222222,
              "#7201a8"
             ],
             [
              0.3333333333333333,
              "#9c179e"
             ],
             [
              0.4444444444444444,
              "#bd3786"
             ],
             [
              0.5555555555555556,
              "#d8576b"
             ],
             [
              0.6666666666666666,
              "#ed7953"
             ],
             [
              0.7777777777777778,
              "#fb9f3a"
             ],
             [
              0.8888888888888888,
              "#fdca26"
             ],
             [
              1,
              "#f0f921"
             ]
            ],
            "type": "contour"
           }
          ],
          "contourcarpet": [
           {
            "colorbar": {
             "outlinewidth": 0,
             "ticks": ""
            },
            "type": "contourcarpet"
           }
          ],
          "heatmap": [
           {
            "colorbar": {
             "outlinewidth": 0,
             "ticks": ""
            },
            "colorscale": [
             [
              0,
              "#0d0887"
             ],
             [
              0.1111111111111111,
              "#46039f"
             ],
             [
              0.2222222222222222,
              "#7201a8"
             ],
             [
              0.3333333333333333,
              "#9c179e"
             ],
             [
              0.4444444444444444,
              "#bd3786"
             ],
             [
              0.5555555555555556,
              "#d8576b"
             ],
             [
              0.6666666666666666,
              "#ed7953"
             ],
             [
              0.7777777777777778,
              "#fb9f3a"
             ],
             [
              0.8888888888888888,
              "#fdca26"
             ],
             [
              1,
              "#f0f921"
             ]
            ],
            "type": "heatmap"
           }
          ],
          "heatmapgl": [
           {
            "colorbar": {
             "outlinewidth": 0,
             "ticks": ""
            },
            "colorscale": [
             [
              0,
              "#0d0887"
             ],
             [
              0.1111111111111111,
              "#46039f"
             ],
             [
              0.2222222222222222,
              "#7201a8"
             ],
             [
              0.3333333333333333,
              "#9c179e"
             ],
             [
              0.4444444444444444,
              "#bd3786"
             ],
             [
              0.5555555555555556,
              "#d8576b"
             ],
             [
              0.6666666666666666,
              "#ed7953"
             ],
             [
              0.7777777777777778,
              "#fb9f3a"
             ],
             [
              0.8888888888888888,
              "#fdca26"
             ],
             [
              1,
              "#f0f921"
             ]
            ],
            "type": "heatmapgl"
           }
          ],
          "histogram": [
           {
            "marker": {
             "pattern": {
              "fillmode": "overlay",
              "size": 10,
              "solidity": 0.2
             }
            },
            "type": "histogram"
           }
          ],
          "histogram2d": [
           {
            "colorbar": {
             "outlinewidth": 0,
             "ticks": ""
            },
            "colorscale": [
             [
              0,
              "#0d0887"
             ],
             [
              0.1111111111111111,
              "#46039f"
             ],
             [
              0.2222222222222222,
              "#7201a8"
             ],
             [
              0.3333333333333333,
              "#9c179e"
             ],
             [
              0.4444444444444444,
              "#bd3786"
             ],
             [
              0.5555555555555556,
              "#d8576b"
             ],
             [
              0.6666666666666666,
              "#ed7953"
             ],
             [
              0.7777777777777778,
              "#fb9f3a"
             ],
             [
              0.8888888888888888,
              "#fdca26"
             ],
             [
              1,
              "#f0f921"
             ]
            ],
            "type": "histogram2d"
           }
          ],
          "histogram2dcontour": [
           {
            "colorbar": {
             "outlinewidth": 0,
             "ticks": ""
            },
            "colorscale": [
             [
              0,
              "#0d0887"
             ],
             [
              0.1111111111111111,
              "#46039f"
             ],
             [
              0.2222222222222222,
              "#7201a8"
             ],
             [
              0.3333333333333333,
              "#9c179e"
             ],
             [
              0.4444444444444444,
              "#bd3786"
             ],
             [
              0.5555555555555556,
              "#d8576b"
             ],
             [
              0.6666666666666666,
              "#ed7953"
             ],
             [
              0.7777777777777778,
              "#fb9f3a"
             ],
             [
              0.8888888888888888,
              "#fdca26"
             ],
             [
              1,
              "#f0f921"
             ]
            ],
            "type": "histogram2dcontour"
           }
          ],
          "mesh3d": [
           {
            "colorbar": {
             "outlinewidth": 0,
             "ticks": ""
            },
            "type": "mesh3d"
           }
          ],
          "parcoords": [
           {
            "line": {
             "colorbar": {
              "outlinewidth": 0,
              "ticks": ""
             }
            },
            "type": "parcoords"
           }
          ],
          "pie": [
           {
            "automargin": true,
            "type": "pie"
           }
          ],
          "scatter": [
           {
            "fillpattern": {
             "fillmode": "overlay",
             "size": 10,
             "solidity": 0.2
            },
            "type": "scatter"
           }
          ],
          "scatter3d": [
           {
            "line": {
             "colorbar": {
              "outlinewidth": 0,
              "ticks": ""
             }
            },
            "marker": {
             "colorbar": {
              "outlinewidth": 0,
              "ticks": ""
             }
            },
            "type": "scatter3d"
           }
          ],
          "scattercarpet": [
           {
            "marker": {
             "colorbar": {
              "outlinewidth": 0,
              "ticks": ""
             }
            },
            "type": "scattercarpet"
           }
          ],
          "scattergeo": [
           {
            "marker": {
             "colorbar": {
              "outlinewidth": 0,
              "ticks": ""
             }
            },
            "type": "scattergeo"
           }
          ],
          "scattergl": [
           {
            "marker": {
             "colorbar": {
              "outlinewidth": 0,
              "ticks": ""
             }
            },
            "type": "scattergl"
           }
          ],
          "scattermapbox": [
           {
            "marker": {
             "colorbar": {
              "outlinewidth": 0,
              "ticks": ""
             }
            },
            "type": "scattermapbox"
           }
          ],
          "scatterpolar": [
           {
            "marker": {
             "colorbar": {
              "outlinewidth": 0,
              "ticks": ""
             }
            },
            "type": "scatterpolar"
           }
          ],
          "scatterpolargl": [
           {
            "marker": {
             "colorbar": {
              "outlinewidth": 0,
              "ticks": ""
             }
            },
            "type": "scatterpolargl"
           }
          ],
          "scatterternary": [
           {
            "marker": {
             "colorbar": {
              "outlinewidth": 0,
              "ticks": ""
             }
            },
            "type": "scatterternary"
           }
          ],
          "surface": [
           {
            "colorbar": {
             "outlinewidth": 0,
             "ticks": ""
            },
            "colorscale": [
             [
              0,
              "#0d0887"
             ],
             [
              0.1111111111111111,
              "#46039f"
             ],
             [
              0.2222222222222222,
              "#7201a8"
             ],
             [
              0.3333333333333333,
              "#9c179e"
             ],
             [
              0.4444444444444444,
              "#bd3786"
             ],
             [
              0.5555555555555556,
              "#d8576b"
             ],
             [
              0.6666666666666666,
              "#ed7953"
             ],
             [
              0.7777777777777778,
              "#fb9f3a"
             ],
             [
              0.8888888888888888,
              "#fdca26"
             ],
             [
              1,
              "#f0f921"
             ]
            ],
            "type": "surface"
           }
          ],
          "table": [
           {
            "cells": {
             "fill": {
              "color": "#EBF0F8"
             },
             "line": {
              "color": "white"
             }
            },
            "header": {
             "fill": {
              "color": "#C8D4E3"
             },
             "line": {
              "color": "white"
             }
            },
            "type": "table"
           }
          ]
         },
         "layout": {
          "annotationdefaults": {
           "arrowcolor": "#2a3f5f",
           "arrowhead": 0,
           "arrowwidth": 1
          },
          "autotypenumbers": "strict",
          "coloraxis": {
           "colorbar": {
            "outlinewidth": 0,
            "ticks": ""
           }
          },
          "colorscale": {
           "diverging": [
            [
             0,
             "#8e0152"
            ],
            [
             0.1,
             "#c51b7d"
            ],
            [
             0.2,
             "#de77ae"
            ],
            [
             0.3,
             "#f1b6da"
            ],
            [
             0.4,
             "#fde0ef"
            ],
            [
             0.5,
             "#f7f7f7"
            ],
            [
             0.6,
             "#e6f5d0"
            ],
            [
             0.7,
             "#b8e186"
            ],
            [
             0.8,
             "#7fbc41"
            ],
            [
             0.9,
             "#4d9221"
            ],
            [
             1,
             "#276419"
            ]
           ],
           "sequential": [
            [
             0,
             "#0d0887"
            ],
            [
             0.1111111111111111,
             "#46039f"
            ],
            [
             0.2222222222222222,
             "#7201a8"
            ],
            [
             0.3333333333333333,
             "#9c179e"
            ],
            [
             0.4444444444444444,
             "#bd3786"
            ],
            [
             0.5555555555555556,
             "#d8576b"
            ],
            [
             0.6666666666666666,
             "#ed7953"
            ],
            [
             0.7777777777777778,
             "#fb9f3a"
            ],
            [
             0.8888888888888888,
             "#fdca26"
            ],
            [
             1,
             "#f0f921"
            ]
           ],
           "sequentialminus": [
            [
             0,
             "#0d0887"
            ],
            [
             0.1111111111111111,
             "#46039f"
            ],
            [
             0.2222222222222222,
             "#7201a8"
            ],
            [
             0.3333333333333333,
             "#9c179e"
            ],
            [
             0.4444444444444444,
             "#bd3786"
            ],
            [
             0.5555555555555556,
             "#d8576b"
            ],
            [
             0.6666666666666666,
             "#ed7953"
            ],
            [
             0.7777777777777778,
             "#fb9f3a"
            ],
            [
             0.8888888888888888,
             "#fdca26"
            ],
            [
             1,
             "#f0f921"
            ]
           ]
          },
          "colorway": [
           "#636efa",
           "#EF553B",
           "#00cc96",
           "#ab63fa",
           "#FFA15A",
           "#19d3f3",
           "#FF6692",
           "#B6E880",
           "#FF97FF",
           "#FECB52"
          ],
          "font": {
           "color": "#2a3f5f"
          },
          "geo": {
           "bgcolor": "white",
           "lakecolor": "white",
           "landcolor": "#E5ECF6",
           "showlakes": true,
           "showland": true,
           "subunitcolor": "white"
          },
          "hoverlabel": {
           "align": "left"
          },
          "hovermode": "closest",
          "mapbox": {
           "style": "light"
          },
          "paper_bgcolor": "white",
          "plot_bgcolor": "#E5ECF6",
          "polar": {
           "angularaxis": {
            "gridcolor": "white",
            "linecolor": "white",
            "ticks": ""
           },
           "bgcolor": "#E5ECF6",
           "radialaxis": {
            "gridcolor": "white",
            "linecolor": "white",
            "ticks": ""
           }
          },
          "scene": {
           "xaxis": {
            "backgroundcolor": "#E5ECF6",
            "gridcolor": "white",
            "gridwidth": 2,
            "linecolor": "white",
            "showbackground": true,
            "ticks": "",
            "zerolinecolor": "white"
           },
           "yaxis": {
            "backgroundcolor": "#E5ECF6",
            "gridcolor": "white",
            "gridwidth": 2,
            "linecolor": "white",
            "showbackground": true,
            "ticks": "",
            "zerolinecolor": "white"
           },
           "zaxis": {
            "backgroundcolor": "#E5ECF6",
            "gridcolor": "white",
            "gridwidth": 2,
            "linecolor": "white",
            "showbackground": true,
            "ticks": "",
            "zerolinecolor": "white"
           }
          },
          "shapedefaults": {
           "line": {
            "color": "#2a3f5f"
           }
          },
          "ternary": {
           "aaxis": {
            "gridcolor": "white",
            "linecolor": "white",
            "ticks": ""
           },
           "baxis": {
            "gridcolor": "white",
            "linecolor": "white",
            "ticks": ""
           },
           "bgcolor": "#E5ECF6",
           "caxis": {
            "gridcolor": "white",
            "linecolor": "white",
            "ticks": ""
           }
          },
          "title": {
           "x": 0.05
          },
          "xaxis": {
           "automargin": true,
           "gridcolor": "white",
           "linecolor": "white",
           "ticks": "",
           "title": {
            "standoff": 15
           },
           "zerolinecolor": "white",
           "zerolinewidth": 2
          },
          "yaxis": {
           "automargin": true,
           "gridcolor": "white",
           "linecolor": "white",
           "ticks": "",
           "title": {
            "standoff": 15
           },
           "zerolinecolor": "white",
           "zerolinewidth": 2
          }
         }
        },
        "title": {
         "text": "Product_Type Distribution"
        },
        "width": 700,
        "xaxis": {
         "title": {
          "text": "Product_Type"
         }
        },
        "yaxis": {
         "title": {
          "text": "probability density"
         }
        }
       }
      }
     },
     "metadata": {},
     "output_type": "display_data"
    },
    {
     "data": {
      "text/plain": [
       "True"
      ]
     },
     "execution_count": 42,
     "metadata": {},
     "output_type": "execute_result"
    }
   ],
   "source": [
    "test_mlflow(experiment_name = 'mlflow drift detection test')"
   ]
  },
  {
   "cell_type": "markdown",
   "id": "54fd2d36",
   "metadata": {},
   "source": [
    "#### Simulate model on data from 2019-03-01 to 2020-11-15"
   ]
  },
  {
   "cell_type": "code",
   "execution_count": 98,
   "id": "50130bfa",
   "metadata": {},
   "outputs": [],
   "source": [
    "simulate_df = df[df.date >= datetime(2019,3,1)]"
   ]
  },
  {
   "cell_type": "code",
   "execution_count": 99,
   "id": "45e01019",
   "metadata": {},
   "outputs": [],
   "source": [
    "@mlflow_runner\n",
    "def simulate_Weekly_experiment(df, model, preds, experiment_name, week_num,plot_display =False):\n",
    "    # Get weekly data\n",
    "        row = df.iloc[0]\n",
    "        dt = row['date']\n",
    "        start = dt - timedelta(days=row['date'].weekday())\n",
    "        end = start + timedelta(days=6)\n",
    "        sub_df = df.set_index('date')[start:end]\n",
    "        sub_df = sub_df.reset_index().set_index('ID')\n",
    "        df = df[(df.date.dt.date > end.date())]\n",
    "        print(f'Experiment week {week_num}')\n",
    "        print('---------------------------------')\n",
    "        print(f\"Experiment start date : {start.to_pydatetime()}\")\n",
    "        print(f\"Experiment end_date : {end.to_pydatetime()}\")\n",
    "        mlflow.log_param('experiment_week',week_num)\n",
    "        mlflow.log_param('week_begin_experiment_start_date',start)\n",
    "        mlflow.log_param('week_end_experiment_end_date',end)\n",
    "        \n",
    "        # Transform sub_df to X, y\n",
    "        X_prod,y_prod = split_features_target(sub_df)\n",
    "        X_prod_transformed = ht.transform(X_prod)\n",
    "        mlflow.log_dict(X_prod_transformed.to_dict(), 'input_features.json')\n",
    "        mlflow.log_dict(y_prod.to_dict(), 'target.json')\n",
    "        # weekly_prediction\n",
    "        weekly_predictions = model.predict(X_prod_transformed)\n",
    "\n",
    "        mlflow.log_dict(pd.Series(weekly_predictions,name=y_prod.name, index = y_prod.index).to_dict(),'weekly_predictions.json')\n",
    "        # Predict for X,y\n",
    "        scores_dict = get_scores(y_prod,weekly_predictions,f\"weekly\")\n",
    "        mlflow.log_metrics(scores_dict)\n",
    "        preds.extend(weekly_predictions.tolist())\n",
    "        ht.fit(X_prod)\n",
    "        if test_for_drift(X_transformed, y, X_prod_transformed, y_prod, reg, plot_display, mlflow_log=True):\n",
    "            # retrain model\n",
    "            # test for drift an\n",
    "            logging.info('Retraining model')\n",
    "            model.fit(X_prod_transformed, y_prod)\n",
    "        else:\n",
    "            logging.info('No Drift detection')\n",
    "        return df, preds"
   ]
  },
  {
   "cell_type": "code",
   "execution_count": 100,
   "id": "245dc46d",
   "metadata": {},
   "outputs": [],
   "source": [
    "def simulate_model(df, model, experiment_name, plot_display =False):\n",
    "    \n",
    "    preds = []\n",
    "    df = df.reset_index()\n",
    "    current_df = df\n",
    "    week_num = 1\n",
    "    while current_df.shape[0] > 0:\n",
    "\n",
    "        current_df, preds = simulate_Weekly_experiment(current_df, model, preds, experiment_name = experiment_name, \n",
    "        week_num=week_num, plot_display = plot_display)\n",
    "        week_num +=1\n",
    "    return preds   "
   ]
  },
  {
   "cell_type": "code",
   "execution_count": 101,
   "id": "b4ca0118",
   "metadata": {},
   "outputs": [
    {
     "name": "stdout",
     "output_type": "stream",
     "text": [
      "Experiment week 1\n",
      "---------------------------------\n",
      "Experiment start date : 2019-02-25 00:00:00\n",
      "Experiment end_date : 2019-03-03 00:00:00\n"
     ]
    },
    {
     "name": "stderr",
     "output_type": "stream",
     "text": [
      "11:54:19 INFO:target drift detect: True\n",
      "d:\\anaconda\\envs\\anaconda_env\\lib\\site-packages\\xgboost\\core.py:90: UserWarning:\n",
      "\n",
      "ntree_limit is deprecated, use `iteration_range` or model slicing instead.\n",
      "\n",
      "11:54:19 INFO:data set drift detected\n",
      "11:54:19 INFO:drift detected for warehouse_ID.value\n",
      "11:54:19 INFO:drift_score : 0.8325546111576977\n",
      "11:54:19 INFO:stattest_name : Jensen-Shannon distance\n",
      "11:54:19 INFO:raw_feature_importance : 0.3413332402706146\n",
      "11:54:19 INFO:relative_feature_importance : 0.14489641785621643\n",
      "11:54:19 INFO:feature_importance_weighted_drift_score : 0.12063418082642556\n",
      "11:54:19 INFO:drift detected for Product_Type.value\n",
      "11:54:19 INFO:drift_score : 0.8325546111576977\n",
      "11:54:19 INFO:stattest_name : Jensen-Shannon distance\n",
      "11:54:19 INFO:raw_feature_importance : 2.3557052612304688\n",
      "11:54:19 INFO:relative_feature_importance : 1.0\n",
      "11:54:19 INFO:feature_importance_weighted_drift_score : 0.8325546111576977\n",
      "11:54:19 INFO:drift detected for is_weekend.value\n",
      "11:54:19 INFO:drift_score : 0.8325546111576977\n",
      "11:54:19 INFO:stattest_name : Jensen-Shannon distance\n",
      "11:54:19 INFO:raw_feature_importance : 0.5882567763328552\n",
      "11:54:19 INFO:relative_feature_importance : 0.24971577525138855\n",
      "11:54:19 INFO:feature_importance_weighted_drift_score : 0.20790202016436282\n",
      "11:54:19 INFO:Retraining model\n"
     ]
    },
    {
     "name": "stdout",
     "output_type": "stream",
     "text": [
      "Experiment week 2\n",
      "---------------------------------\n",
      "Experiment start date : 2019-03-04 00:00:00\n",
      "Experiment end_date : 2019-03-10 00:00:00\n"
     ]
    },
    {
     "name": "stderr",
     "output_type": "stream",
     "text": [
      "11:54:20 INFO:target drift detect: True\n",
      "d:\\anaconda\\envs\\anaconda_env\\lib\\site-packages\\xgboost\\core.py:90: UserWarning:\n",
      "\n",
      "ntree_limit is deprecated, use `iteration_range` or model slicing instead.\n",
      "\n",
      "11:54:20 INFO:data set drift detected\n",
      "11:54:20 INFO:drift detected for warehouse_ID.value\n",
      "11:54:20 INFO:drift_score : 0.8325546111576977\n",
      "11:54:20 INFO:stattest_name : Jensen-Shannon distance\n",
      "11:54:20 INFO:raw_feature_importance : 0.33701515197753906\n",
      "11:54:20 INFO:relative_feature_importance : 0.15324300527572632\n",
      "11:54:20 INFO:feature_importance_weighted_drift_score : 0.12758317066996935\n",
      "11:54:20 INFO:drift detected for Product_Type.value\n",
      "11:54:20 INFO:drift_score : 0.8325546111576977\n",
      "11:54:20 INFO:stattest_name : Jensen-Shannon distance\n",
      "11:54:20 INFO:raw_feature_importance : 2.1992204189300537\n",
      "11:54:20 INFO:relative_feature_importance : 1.0\n",
      "11:54:20 INFO:feature_importance_weighted_drift_score : 0.8325546111576977\n",
      "11:54:20 INFO:drift detected for is_weekend.value\n",
      "11:54:20 INFO:drift_score : 0.8325546111576977\n",
      "11:54:20 INFO:stattest_name : Jensen-Shannon distance\n",
      "11:54:20 INFO:raw_feature_importance : 0.5421505570411682\n",
      "11:54:20 INFO:relative_feature_importance : 0.24651943147182465\n",
      "11:54:20 INFO:feature_importance_weighted_drift_score : 0.20524088941184168\n",
      "11:54:21 INFO:Retraining model\n"
     ]
    },
    {
     "name": "stdout",
     "output_type": "stream",
     "text": [
      "Experiment week 3\n",
      "---------------------------------\n",
      "Experiment start date : 2019-03-11 00:00:00\n",
      "Experiment end_date : 2019-03-17 00:00:00\n"
     ]
    },
    {
     "name": "stderr",
     "output_type": "stream",
     "text": [
      "11:54:21 INFO:target drift detect: True\n",
      "d:\\anaconda\\envs\\anaconda_env\\lib\\site-packages\\xgboost\\core.py:90: UserWarning:\n",
      "\n",
      "ntree_limit is deprecated, use `iteration_range` or model slicing instead.\n",
      "\n",
      "11:54:21 INFO:data set drift detected\n",
      "11:54:22 INFO:drift detected for warehouse_ID.value\n",
      "11:54:22 INFO:drift_score : 0.8325546111576977\n",
      "11:54:22 INFO:stattest_name : Jensen-Shannon distance\n",
      "11:54:22 INFO:raw_feature_importance : 0.3642272651195526\n",
      "11:54:22 INFO:relative_feature_importance : 0.16143934428691864\n",
      "11:54:22 INFO:feature_importance_weighted_drift_score : 0.13440707050834924\n",
      "11:54:22 INFO:drift detected for Product_Type.value\n",
      "11:54:22 INFO:drift_score : 0.8325546111576977\n",
      "11:54:22 INFO:stattest_name : Jensen-Shannon distance\n",
      "11:54:22 INFO:raw_feature_importance : 2.256124496459961\n",
      "11:54:22 INFO:relative_feature_importance : 1.0\n",
      "11:54:22 INFO:feature_importance_weighted_drift_score : 0.8325546111576977\n",
      "11:54:22 INFO:drift detected for is_weekend.value\n",
      "11:54:22 INFO:drift_score : 0.8325546111576977\n",
      "11:54:22 INFO:stattest_name : Jensen-Shannon distance\n",
      "11:54:22 INFO:raw_feature_importance : 0.3982665240764618\n",
      "11:54:22 INFO:relative_feature_importance : 0.17652684450149536\n",
      "11:54:22 INFO:feature_importance_weighted_drift_score : 0.14696823838283785\n",
      "11:54:22 INFO:Retraining model\n"
     ]
    },
    {
     "name": "stdout",
     "output_type": "stream",
     "text": [
      "Experiment week 4\n",
      "---------------------------------\n",
      "Experiment start date : 2019-03-18 00:00:00\n",
      "Experiment end_date : 2019-03-24 00:00:00\n"
     ]
    },
    {
     "name": "stderr",
     "output_type": "stream",
     "text": [
      "11:54:22 INFO:target drift detect: True\n",
      "d:\\anaconda\\envs\\anaconda_env\\lib\\site-packages\\xgboost\\core.py:90: UserWarning:\n",
      "\n",
      "ntree_limit is deprecated, use `iteration_range` or model slicing instead.\n",
      "\n",
      "11:54:23 INFO:data set drift detected\n",
      "11:54:23 INFO:drift detected for warehouse_ID.value\n",
      "11:54:23 INFO:drift_score : 0.8325546111576977\n",
      "11:54:23 INFO:stattest_name : Jensen-Shannon distance\n",
      "11:54:23 INFO:raw_feature_importance : 0.36378633975982666\n",
      "11:54:23 INFO:relative_feature_importance : 0.16049067676067352\n",
      "11:54:23 INFO:feature_importance_weighted_drift_score : 0.1336172529849183\n",
      "11:54:23 INFO:drift detected for Product_Type.value\n",
      "11:54:23 INFO:drift_score : 0.8325546111576977\n",
      "11:54:23 INFO:stattest_name : Jensen-Shannon distance\n",
      "11:54:23 INFO:raw_feature_importance : 2.2667131423950195\n",
      "11:54:23 INFO:relative_feature_importance : 1.0\n",
      "11:54:23 INFO:feature_importance_weighted_drift_score : 0.8325546111576977\n",
      "11:54:23 INFO:drift detected for is_weekend.value\n",
      "11:54:23 INFO:drift_score : 0.8325546111576977\n",
      "11:54:23 INFO:stattest_name : Jensen-Shannon distance\n",
      "11:54:23 INFO:raw_feature_importance : 0.39787277579307556\n",
      "11:54:23 INFO:relative_feature_importance : 0.17552851140499115\n",
      "11:54:23 INFO:feature_importance_weighted_drift_score : 0.1461370715598719\n",
      "11:54:23 INFO:Retraining model\n"
     ]
    },
    {
     "name": "stdout",
     "output_type": "stream",
     "text": [
      "Experiment week 5\n",
      "---------------------------------\n",
      "Experiment start date : 2019-03-25 00:00:00\n",
      "Experiment end_date : 2019-03-31 00:00:00\n"
     ]
    },
    {
     "name": "stderr",
     "output_type": "stream",
     "text": [
      "11:54:24 INFO:target drift detect: True\n",
      "d:\\anaconda\\envs\\anaconda_env\\lib\\site-packages\\xgboost\\core.py:90: UserWarning:\n",
      "\n",
      "ntree_limit is deprecated, use `iteration_range` or model slicing instead.\n",
      "\n",
      "11:54:24 INFO:data set drift detected\n",
      "11:54:24 INFO:drift detected for warehouse_ID.value\n",
      "11:54:24 INFO:drift_score : 0.8325546111576977\n",
      "11:54:24 INFO:stattest_name : Jensen-Shannon distance\n",
      "11:54:24 INFO:raw_feature_importance : 0.3466915190219879\n",
      "11:54:24 INFO:relative_feature_importance : 0.15159715712070465\n",
      "11:54:24 INFO:feature_importance_weighted_drift_score : 0.12621291219924066\n",
      "11:54:24 INFO:drift detected for Product_Type.value\n",
      "11:54:24 INFO:drift_score : 0.8325546111576977\n",
      "11:54:24 INFO:stattest_name : Jensen-Shannon distance\n",
      "11:54:24 INFO:raw_feature_importance : 2.28692626953125\n",
      "11:54:24 INFO:relative_feature_importance : 1.0\n",
      "11:54:24 INFO:feature_importance_weighted_drift_score : 0.8325546111576977\n",
      "11:54:24 INFO:drift detected for is_weekend.value\n",
      "11:54:24 INFO:drift_score : 0.8325546111576977\n",
      "11:54:24 INFO:stattest_name : Jensen-Shannon distance\n",
      "11:54:24 INFO:raw_feature_importance : 0.41306400299072266\n",
      "11:54:24 INFO:relative_feature_importance : 0.1806197315454483\n",
      "11:54:24 INFO:feature_importance_weighted_drift_score : 0.15037579036422846\n",
      "11:54:24 INFO:Retraining model\n"
     ]
    },
    {
     "name": "stdout",
     "output_type": "stream",
     "text": [
      "Experiment week 6\n",
      "---------------------------------\n",
      "Experiment start date : 2019-04-01 00:00:00\n",
      "Experiment end_date : 2019-04-07 00:00:00\n"
     ]
    },
    {
     "name": "stderr",
     "output_type": "stream",
     "text": [
      "11:54:25 INFO:target drift detect: True\n",
      "d:\\anaconda\\envs\\anaconda_env\\lib\\site-packages\\xgboost\\core.py:90: UserWarning:\n",
      "\n",
      "ntree_limit is deprecated, use `iteration_range` or model slicing instead.\n",
      "\n",
      "11:54:25 INFO:data set drift detected\n",
      "11:54:25 INFO:drift detected for warehouse_ID.value\n",
      "11:54:25 INFO:drift_score : 0.8325546111576977\n",
      "11:54:25 INFO:stattest_name : Jensen-Shannon distance\n",
      "11:54:25 INFO:raw_feature_importance : 0.4010472297668457\n",
      "11:54:25 INFO:relative_feature_importance : 0.16695135831832886\n",
      "11:54:25 INFO:feature_importance_weighted_drift_score : 0.13899612320696575\n",
      "11:54:25 INFO:drift detected for Product_Type.value\n",
      "11:54:25 INFO:drift_score : 0.8325546111576977\n",
      "11:54:25 INFO:stattest_name : Jensen-Shannon distance\n",
      "11:54:25 INFO:raw_feature_importance : 2.4021801948547363\n",
      "11:54:25 INFO:relative_feature_importance : 1.0\n",
      "11:54:25 INFO:feature_importance_weighted_drift_score : 0.8325546111576977\n",
      "11:54:25 INFO:drift detected for is_weekend.value\n",
      "11:54:25 INFO:drift_score : 0.8325546111576977\n",
      "11:54:25 INFO:stattest_name : Jensen-Shannon distance\n",
      "11:54:25 INFO:raw_feature_importance : 0.44510605931282043\n",
      "11:54:25 INFO:relative_feature_importance : 0.1852925419807434\n",
      "11:54:25 INFO:feature_importance_weighted_drift_score : 0.1542661602391992\n",
      "11:54:26 INFO:Retraining model\n"
     ]
    },
    {
     "name": "stdout",
     "output_type": "stream",
     "text": [
      "Experiment week 7\n",
      "---------------------------------\n",
      "Experiment start date : 2019-04-08 00:00:00\n",
      "Experiment end_date : 2019-04-14 00:00:00\n"
     ]
    },
    {
     "name": "stderr",
     "output_type": "stream",
     "text": [
      "11:54:26 INFO:target drift detect: True\n",
      "d:\\anaconda\\envs\\anaconda_env\\lib\\site-packages\\xgboost\\core.py:90: UserWarning:\n",
      "\n",
      "ntree_limit is deprecated, use `iteration_range` or model slicing instead.\n",
      "\n",
      "11:54:26 INFO:data set drift detected\n",
      "11:54:27 INFO:drift detected for warehouse_ID.value\n",
      "11:54:27 INFO:drift_score : 0.8325546111576977\n",
      "11:54:27 INFO:stattest_name : Jensen-Shannon distance\n",
      "11:54:27 INFO:raw_feature_importance : 0.4025324285030365\n",
      "11:54:27 INFO:relative_feature_importance : 0.16710545122623444\n",
      "11:54:27 INFO:feature_importance_weighted_drift_score : 0.13912441396798922\n",
      "11:54:27 INFO:drift detected for Product_Type.value\n",
      "11:54:27 INFO:drift_score : 0.8325546111576977\n",
      "11:54:27 INFO:stattest_name : Jensen-Shannon distance\n",
      "11:54:27 INFO:raw_feature_importance : 2.4088528156280518\n",
      "11:54:27 INFO:relative_feature_importance : 1.0\n",
      "11:54:27 INFO:feature_importance_weighted_drift_score : 0.8325546111576977\n",
      "11:54:27 INFO:drift detected for is_weekend.value\n",
      "11:54:27 INFO:drift_score : 0.8325546111576977\n",
      "11:54:27 INFO:stattest_name : Jensen-Shannon distance\n",
      "11:54:27 INFO:raw_feature_importance : 0.444581001996994\n",
      "11:54:27 INFO:relative_feature_importance : 0.18456129729747772\n",
      "11:54:27 INFO:feature_importance_weighted_drift_score : 0.1536573591062618\n",
      "11:54:27 INFO:Retraining model\n"
     ]
    },
    {
     "name": "stdout",
     "output_type": "stream",
     "text": [
      "Experiment week 8\n",
      "---------------------------------\n",
      "Experiment start date : 2019-04-15 00:00:00\n",
      "Experiment end_date : 2019-04-21 00:00:00\n"
     ]
    },
    {
     "name": "stderr",
     "output_type": "stream",
     "text": [
      "11:54:27 INFO:target drift detect: True\n",
      "d:\\anaconda\\envs\\anaconda_env\\lib\\site-packages\\xgboost\\core.py:90: UserWarning:\n",
      "\n",
      "ntree_limit is deprecated, use `iteration_range` or model slicing instead.\n",
      "\n",
      "11:54:28 INFO:data set drift detected\n",
      "11:54:28 INFO:drift detected for warehouse_ID.value\n",
      "11:54:28 INFO:drift_score : 0.8325546111576977\n",
      "11:54:28 INFO:stattest_name : Jensen-Shannon distance\n",
      "11:54:28 INFO:raw_feature_importance : 0.400319904088974\n",
      "11:54:28 INFO:relative_feature_importance : 0.16604112088680267\n",
      "11:54:28 INFO:feature_importance_weighted_drift_score : 0.13823830083610028\n",
      "11:54:28 INFO:drift detected for Product_Type.value\n",
      "11:54:28 INFO:drift_score : 0.8325546111576977\n",
      "11:54:28 INFO:stattest_name : Jensen-Shannon distance\n",
      "11:54:28 INFO:raw_feature_importance : 2.410968542098999\n",
      "11:54:28 INFO:relative_feature_importance : 1.0\n",
      "11:54:28 INFO:feature_importance_weighted_drift_score : 0.8325546111576977\n",
      "11:54:28 INFO:drift detected for is_weekend.value\n",
      "11:54:28 INFO:drift_score : 0.8325546111576977\n",
      "11:54:28 INFO:stattest_name : Jensen-Shannon distance\n",
      "11:54:28 INFO:raw_feature_importance : 0.44511762261390686\n",
      "11:54:28 INFO:relative_feature_importance : 0.1846219152212143\n",
      "11:54:28 INFO:feature_importance_weighted_drift_score : 0.15370782683818748\n",
      "11:54:28 INFO:Retraining model\n"
     ]
    },
    {
     "name": "stdout",
     "output_type": "stream",
     "text": [
      "Experiment week 9\n",
      "---------------------------------\n",
      "Experiment start date : 2019-04-22 00:00:00\n",
      "Experiment end_date : 2019-04-28 00:00:00\n"
     ]
    },
    {
     "name": "stderr",
     "output_type": "stream",
     "text": [
      "11:54:29 INFO:target drift detect: True\n",
      "d:\\anaconda\\envs\\anaconda_env\\lib\\site-packages\\xgboost\\core.py:90: UserWarning:\n",
      "\n",
      "ntree_limit is deprecated, use `iteration_range` or model slicing instead.\n",
      "\n",
      "11:54:29 INFO:data set drift detected\n",
      "11:54:29 INFO:drift detected for warehouse_ID.value\n",
      "11:54:29 INFO:drift_score : 0.8325546111576977\n",
      "11:54:29 INFO:stattest_name : Jensen-Shannon distance\n",
      "11:54:29 INFO:raw_feature_importance : 0.4029807150363922\n",
      "11:54:29 INFO:relative_feature_importance : 0.1669035255908966\n",
      "11:54:29 INFO:feature_importance_weighted_drift_score : 0.13895629984917776\n",
      "11:54:29 INFO:drift detected for Product_Type.value\n",
      "11:54:29 INFO:drift_score : 0.8325546111576977\n",
      "11:54:29 INFO:stattest_name : Jensen-Shannon distance\n",
      "11:54:29 INFO:raw_feature_importance : 2.4144530296325684\n",
      "11:54:29 INFO:relative_feature_importance : 1.0\n",
      "11:54:29 INFO:feature_importance_weighted_drift_score : 0.8325546111576977\n",
      "11:54:29 INFO:drift detected for is_weekend.value\n",
      "11:54:29 INFO:drift_score : 0.8325546111576977\n",
      "11:54:29 INFO:stattest_name : Jensen-Shannon distance\n",
      "11:54:29 INFO:raw_feature_importance : 0.44939789175987244\n",
      "11:54:29 INFO:relative_feature_importance : 0.18612824380397797\n",
      "11:54:29 INFO:feature_importance_weighted_drift_score : 0.15496192764568603\n",
      "11:54:30 INFO:Retraining model\n"
     ]
    },
    {
     "name": "stdout",
     "output_type": "stream",
     "text": [
      "Experiment week 10\n",
      "---------------------------------\n",
      "Experiment start date : 2019-04-29 00:00:00\n",
      "Experiment end_date : 2019-05-05 00:00:00\n"
     ]
    },
    {
     "name": "stderr",
     "output_type": "stream",
     "text": [
      "d:\\anaconda\\envs\\anaconda_env\\lib\\site-packages\\rdt\\transformers\\categorical.py:182: UserWarning:\n",
      "\n",
      "The data contains 8 new categories that were not seen in the original data (examples: {'WH_0x3ee'}). Assigning them random values. If you want to model new categories, please fit the transformer again with the new data.\n",
      "\n",
      "d:\\anaconda\\envs\\anaconda_env\\lib\\site-packages\\rdt\\transformers\\categorical.py:182: UserWarning:\n",
      "\n",
      "The data contains 8 new categories that were not seen in the original data (examples: {'columbia'}). Assigning them random values. If you want to model new categories, please fit the transformer again with the new data.\n",
      "\n",
      "11:54:30 INFO:target drift detect: True\n",
      "d:\\anaconda\\envs\\anaconda_env\\lib\\site-packages\\xgboost\\core.py:90: UserWarning:\n",
      "\n",
      "ntree_limit is deprecated, use `iteration_range` or model slicing instead.\n",
      "\n",
      "11:54:30 INFO:data set drift detected\n",
      "11:54:30 INFO:drift detected for warehouse_ID.value\n",
      "11:54:30 INFO:drift_score : 0.8325546111576977\n",
      "11:54:30 INFO:stattest_name : Jensen-Shannon distance\n",
      "11:54:30 INFO:raw_feature_importance : 0.40569940209388733\n",
      "11:54:30 INFO:relative_feature_importance : 0.16620565950870514\n",
      "11:54:30 INFO:feature_importance_weighted_drift_score : 0.1383752882244787\n",
      "11:54:30 INFO:drift detected for Product_Type.value\n",
      "11:54:30 INFO:drift_score : 0.8325546111576977\n",
      "11:54:30 INFO:stattest_name : Jensen-Shannon distance\n",
      "11:54:30 INFO:raw_feature_importance : 2.440948247909546\n",
      "11:54:30 INFO:relative_feature_importance : 1.0\n",
      "11:54:30 INFO:feature_importance_weighted_drift_score : 0.8325546111576977\n",
      "11:54:31 INFO:drift detected for is_weekend.value\n",
      "11:54:31 INFO:drift_score : 0.8325546111576977\n",
      "11:54:31 INFO:stattest_name : Jensen-Shannon distance\n",
      "11:54:31 INFO:raw_feature_importance : 0.46708932518959045\n",
      "11:54:31 INFO:relative_feature_importance : 0.19135569036006927\n",
      "11:54:31 INFO:feature_importance_weighted_drift_score : 0.15931406238054027\n",
      "11:54:31 INFO:Retraining model\n"
     ]
    },
    {
     "name": "stdout",
     "output_type": "stream",
     "text": [
      "Experiment week 11\n",
      "---------------------------------\n",
      "Experiment start date : 2019-05-06 00:00:00\n",
      "Experiment end_date : 2019-05-12 00:00:00\n"
     ]
    },
    {
     "name": "stderr",
     "output_type": "stream",
     "text": [
      "11:54:31 INFO:target drift detect: True\n",
      "d:\\anaconda\\envs\\anaconda_env\\lib\\site-packages\\xgboost\\core.py:90: UserWarning:\n",
      "\n",
      "ntree_limit is deprecated, use `iteration_range` or model slicing instead.\n",
      "\n",
      "11:54:31 INFO:data set drift detected\n",
      "11:54:32 INFO:drift detected for warehouse_ID.value\n",
      "11:54:32 INFO:drift_score : 0.8325546111576977\n",
      "11:54:32 INFO:stattest_name : Jensen-Shannon distance\n",
      "11:54:32 INFO:raw_feature_importance : 0.3790145814418793\n",
      "11:54:32 INFO:relative_feature_importance : 0.15457133948802948\n",
      "11:54:32 INFO:feature_importance_weighted_drift_score : 0.12868908144358088\n",
      "11:54:32 INFO:drift detected for Product_Type.value\n",
      "11:54:32 INFO:drift_score : 0.8325546111576977\n",
      "11:54:32 INFO:stattest_name : Jensen-Shannon distance\n",
      "11:54:32 INFO:raw_feature_importance : 2.4520366191864014\n",
      "11:54:32 INFO:relative_feature_importance : 1.0\n",
      "11:54:32 INFO:feature_importance_weighted_drift_score : 0.8325546111576977\n",
      "11:54:32 INFO:drift detected for is_weekend.value\n",
      "11:54:32 INFO:drift_score : 0.8325546111576977\n",
      "11:54:32 INFO:stattest_name : Jensen-Shannon distance\n",
      "11:54:32 INFO:raw_feature_importance : 0.4641042947769165\n",
      "11:54:32 INFO:relative_feature_importance : 0.18927298486232758\n",
      "11:54:32 INFO:feature_importance_weighted_drift_score : 0.15758009631471193\n",
      "11:54:32 INFO:Retraining model\n"
     ]
    },
    {
     "name": "stdout",
     "output_type": "stream",
     "text": [
      "Experiment week 12\n",
      "---------------------------------\n",
      "Experiment start date : 2019-05-13 00:00:00\n",
      "Experiment end_date : 2019-05-19 00:00:00\n"
     ]
    },
    {
     "name": "stderr",
     "output_type": "stream",
     "text": [
      "11:54:32 INFO:target drift detect: True\n",
      "d:\\anaconda\\envs\\anaconda_env\\lib\\site-packages\\xgboost\\core.py:90: UserWarning:\n",
      "\n",
      "ntree_limit is deprecated, use `iteration_range` or model slicing instead.\n",
      "\n",
      "11:54:33 INFO:data set drift detected\n",
      "11:54:33 INFO:drift detected for warehouse_ID.value\n",
      "11:54:33 INFO:drift_score : 0.8325546111576977\n",
      "11:54:33 INFO:stattest_name : Jensen-Shannon distance\n",
      "11:54:33 INFO:raw_feature_importance : 0.37991416454315186\n",
      "11:54:33 INFO:relative_feature_importance : 0.15483635663986206\n",
      "11:54:33 INFO:feature_importance_weighted_drift_score : 0.12890972269537496\n",
      "11:54:33 INFO:drift detected for Product_Type.value\n",
      "11:54:33 INFO:drift_score : 0.8325546111576977\n",
      "11:54:33 INFO:stattest_name : Jensen-Shannon distance\n",
      "11:54:33 INFO:raw_feature_importance : 2.4536495208740234\n",
      "11:54:33 INFO:relative_feature_importance : 1.0\n",
      "11:54:33 INFO:feature_importance_weighted_drift_score : 0.8325546111576977\n",
      "11:54:33 INFO:drift detected for is_weekend.value\n",
      "11:54:33 INFO:drift_score : 0.8325546111576977\n",
      "11:54:33 INFO:stattest_name : Jensen-Shannon distance\n",
      "11:54:33 INFO:raw_feature_importance : 0.45947015285491943\n",
      "11:54:33 INFO:relative_feature_importance : 0.18725989758968353\n",
      "11:54:33 INFO:feature_importance_weighted_drift_score : 0.15590409122320925\n",
      "11:54:33 INFO:Retraining model\n"
     ]
    },
    {
     "name": "stdout",
     "output_type": "stream",
     "text": [
      "Experiment week 13\n",
      "---------------------------------\n",
      "Experiment start date : 2019-05-20 00:00:00\n",
      "Experiment end_date : 2019-05-26 00:00:00\n"
     ]
    },
    {
     "name": "stderr",
     "output_type": "stream",
     "text": [
      "11:54:34 INFO:target drift detect: True\n",
      "d:\\anaconda\\envs\\anaconda_env\\lib\\site-packages\\xgboost\\core.py:90: UserWarning:\n",
      "\n",
      "ntree_limit is deprecated, use `iteration_range` or model slicing instead.\n",
      "\n",
      "11:54:34 INFO:data set drift detected\n",
      "11:54:34 INFO:drift detected for warehouse_ID.value\n",
      "11:54:34 INFO:drift_score : 0.8325546111576977\n",
      "11:54:34 INFO:stattest_name : Jensen-Shannon distance\n",
      "11:54:34 INFO:raw_feature_importance : 0.38010507822036743\n",
      "11:54:34 INFO:relative_feature_importance : 0.15469412505626678\n",
      "11:54:34 INFO:feature_importance_weighted_drift_score : 0.12879130713460046\n",
      "11:54:34 INFO:drift detected for Product_Type.value\n",
      "11:54:34 INFO:drift_score : 0.8325546111576977\n",
      "11:54:34 INFO:stattest_name : Jensen-Shannon distance\n",
      "11:54:34 INFO:raw_feature_importance : 2.457139730453491\n",
      "11:54:34 INFO:relative_feature_importance : 1.0\n",
      "11:54:34 INFO:feature_importance_weighted_drift_score : 0.8325546111576977\n",
      "11:54:34 INFO:drift detected for is_weekend.value\n",
      "11:54:34 INFO:drift_score : 0.8325546111576977\n",
      "11:54:34 INFO:stattest_name : Jensen-Shannon distance\n",
      "11:54:34 INFO:raw_feature_importance : 0.46199503540992737\n",
      "11:54:34 INFO:relative_feature_importance : 0.1880214810371399\n",
      "11:54:34 INFO:feature_importance_weighted_drift_score : 0.15653815103417043\n",
      "11:54:35 INFO:Retraining model\n"
     ]
    },
    {
     "name": "stdout",
     "output_type": "stream",
     "text": [
      "Experiment week 14\n",
      "---------------------------------\n",
      "Experiment start date : 2019-05-27 00:00:00\n",
      "Experiment end_date : 2019-06-02 00:00:00\n"
     ]
    },
    {
     "name": "stderr",
     "output_type": "stream",
     "text": [
      "11:54:35 INFO:target drift detect: True\n",
      "d:\\anaconda\\envs\\anaconda_env\\lib\\site-packages\\xgboost\\core.py:90: UserWarning:\n",
      "\n",
      "ntree_limit is deprecated, use `iteration_range` or model slicing instead.\n",
      "\n",
      "11:54:36 INFO:data set drift detected\n",
      "11:54:36 INFO:drift detected for warehouse_ID.value\n",
      "11:54:36 INFO:drift_score : 0.8325546111576977\n",
      "11:54:36 INFO:stattest_name : Jensen-Shannon distance\n",
      "11:54:36 INFO:raw_feature_importance : 0.39308515191078186\n",
      "11:54:36 INFO:relative_feature_importance : 0.15927577018737793\n",
      "11:54:36 INFO:feature_importance_weighted_drift_score : 0.13260577691519526\n",
      "11:54:36 INFO:drift detected for Product_Type.value\n",
      "11:54:36 INFO:drift_score : 0.8325546111576977\n",
      "11:54:36 INFO:stattest_name : Jensen-Shannon distance\n",
      "11:54:36 INFO:raw_feature_importance : 2.4679532051086426\n",
      "11:54:36 INFO:relative_feature_importance : 1.0\n",
      "11:54:36 INFO:feature_importance_weighted_drift_score : 0.8325546111576977\n",
      "11:54:36 INFO:drift detected for is_weekend.value\n",
      "11:54:36 INFO:drift_score : 0.8325546111576977\n",
      "11:54:36 INFO:stattest_name : Jensen-Shannon distance\n",
      "11:54:36 INFO:raw_feature_importance : 0.45232927799224854\n",
      "11:54:36 INFO:relative_feature_importance : 0.18328113853931427\n",
      "11:54:36 INFO:feature_importance_weighted_drift_score : 0.1525915570291389\n",
      "11:54:36 INFO:Retraining model\n"
     ]
    },
    {
     "name": "stdout",
     "output_type": "stream",
     "text": [
      "Experiment week 15\n",
      "---------------------------------\n",
      "Experiment start date : 2019-06-03 00:00:00\n",
      "Experiment end_date : 2019-06-09 00:00:00\n"
     ]
    },
    {
     "name": "stderr",
     "output_type": "stream",
     "text": [
      "11:54:37 INFO:target drift detect: True\n",
      "d:\\anaconda\\envs\\anaconda_env\\lib\\site-packages\\xgboost\\core.py:90: UserWarning:\n",
      "\n",
      "ntree_limit is deprecated, use `iteration_range` or model slicing instead.\n",
      "\n",
      "11:54:37 INFO:data set drift detected\n",
      "11:54:37 INFO:drift detected for warehouse_ID.value\n",
      "11:54:37 INFO:drift_score : 0.8325546111576977\n",
      "11:54:37 INFO:stattest_name : Jensen-Shannon distance\n",
      "11:54:37 INFO:raw_feature_importance : 0.38500621914863586\n",
      "11:54:37 INFO:relative_feature_importance : 0.15609271824359894\n",
      "11:54:37 INFO:feature_importance_weighted_drift_score : 0.12995571234184758\n",
      "11:54:37 INFO:drift detected for Product_Type.value\n",
      "11:54:37 INFO:drift_score : 0.8325546111576977\n",
      "11:54:37 INFO:stattest_name : Jensen-Shannon distance\n",
      "11:54:37 INFO:raw_feature_importance : 2.466522693634033\n",
      "11:54:37 INFO:relative_feature_importance : 1.0\n",
      "11:54:37 INFO:feature_importance_weighted_drift_score : 0.8325546111576977\n",
      "11:54:37 INFO:drift detected for is_weekend.value\n",
      "11:54:37 INFO:drift_score : 0.8325546111576977\n",
      "11:54:37 INFO:stattest_name : Jensen-Shannon distance\n",
      "11:54:37 INFO:raw_feature_importance : 0.46448254585266113\n",
      "11:54:37 INFO:relative_feature_importance : 0.18831472098827362\n",
      "11:54:37 INFO:feature_importance_weighted_drift_score : 0.15678228930766247\n",
      "11:54:37 INFO:Retraining model\n"
     ]
    },
    {
     "name": "stdout",
     "output_type": "stream",
     "text": [
      "Experiment week 16\n",
      "---------------------------------\n",
      "Experiment start date : 2019-06-10 00:00:00\n",
      "Experiment end_date : 2019-06-16 00:00:00\n"
     ]
    },
    {
     "name": "stderr",
     "output_type": "stream",
     "text": [
      "11:54:38 INFO:target drift detect: True\n",
      "d:\\anaconda\\envs\\anaconda_env\\lib\\site-packages\\xgboost\\core.py:90: UserWarning:\n",
      "\n",
      "ntree_limit is deprecated, use `iteration_range` or model slicing instead.\n",
      "\n",
      "11:54:38 INFO:data set drift detected\n",
      "11:54:38 INFO:drift detected for warehouse_ID.value\n",
      "11:54:38 INFO:drift_score : 0.8325546111576977\n",
      "11:54:38 INFO:stattest_name : Jensen-Shannon distance\n",
      "11:54:38 INFO:raw_feature_importance : 0.38587498664855957\n",
      "11:54:38 INFO:relative_feature_importance : 0.15632280707359314\n",
      "11:54:38 INFO:feature_importance_weighted_drift_score : 0.13014727385823513\n",
      "11:54:38 INFO:drift detected for Product_Type.value\n",
      "11:54:38 INFO:drift_score : 0.8325546111576977\n",
      "11:54:38 INFO:stattest_name : Jensen-Shannon distance\n",
      "11:54:38 INFO:raw_feature_importance : 2.468449592590332\n",
      "11:54:38 INFO:relative_feature_importance : 1.0\n",
      "11:54:38 INFO:feature_importance_weighted_drift_score : 0.8325546111576977\n",
      "11:54:39 INFO:drift detected for is_weekend.value\n",
      "11:54:39 INFO:drift_score : 0.8325546111576977\n",
      "11:54:39 INFO:stattest_name : Jensen-Shannon distance\n",
      "11:54:39 INFO:raw_feature_importance : 0.4602481722831726\n",
      "11:54:39 INFO:relative_feature_importance : 0.18645232915878296\n",
      "11:54:39 INFO:feature_importance_weighted_drift_score : 0.1552317464022376\n",
      "11:54:39 INFO:Retraining model\n"
     ]
    },
    {
     "name": "stdout",
     "output_type": "stream",
     "text": [
      "Experiment week 17\n",
      "---------------------------------\n",
      "Experiment start date : 2019-06-17 00:00:00\n",
      "Experiment end_date : 2019-06-23 00:00:00\n"
     ]
    },
    {
     "name": "stderr",
     "output_type": "stream",
     "text": [
      "11:54:39 INFO:target drift detect: True\n",
      "d:\\anaconda\\envs\\anaconda_env\\lib\\site-packages\\xgboost\\core.py:90: UserWarning:\n",
      "\n",
      "ntree_limit is deprecated, use `iteration_range` or model slicing instead.\n",
      "\n",
      "11:54:39 INFO:data set drift detected\n",
      "11:54:40 INFO:drift detected for warehouse_ID.value\n",
      "11:54:40 INFO:drift_score : 0.8325546111576977\n",
      "11:54:40 INFO:stattest_name : Jensen-Shannon distance\n",
      "11:54:40 INFO:raw_feature_importance : 0.38367003202438354\n",
      "11:54:40 INFO:relative_feature_importance : 0.15524409711360931\n",
      "11:54:40 INFO:feature_importance_weighted_drift_score : 0.12924918890694886\n",
      "11:54:40 INFO:drift detected for Product_Type.value\n",
      "11:54:40 INFO:drift_score : 0.8325546111576977\n",
      "11:54:40 INFO:stattest_name : Jensen-Shannon distance\n",
      "11:54:40 INFO:raw_feature_importance : 2.4713985919952393\n",
      "11:54:40 INFO:relative_feature_importance : 1.0\n",
      "11:54:40 INFO:feature_importance_weighted_drift_score : 0.8325546111576977\n",
      "11:54:40 INFO:drift detected for is_weekend.value\n",
      "11:54:40 INFO:drift_score : 0.8325546111576977\n",
      "11:54:40 INFO:stattest_name : Jensen-Shannon distance\n",
      "11:54:40 INFO:raw_feature_importance : 0.46013933420181274\n",
      "11:54:40 INFO:relative_feature_importance : 0.1861858069896698\n",
      "11:54:40 INFO:feature_importance_weighted_drift_score : 0.1550098521413667\n",
      "11:54:40 INFO:Retraining model\n"
     ]
    },
    {
     "name": "stdout",
     "output_type": "stream",
     "text": [
      "Experiment week 18\n",
      "---------------------------------\n",
      "Experiment start date : 2019-06-24 00:00:00\n",
      "Experiment end_date : 2019-06-30 00:00:00\n"
     ]
    },
    {
     "name": "stderr",
     "output_type": "stream",
     "text": [
      "11:54:40 INFO:target drift detect: True\n",
      "d:\\anaconda\\envs\\anaconda_env\\lib\\site-packages\\xgboost\\core.py:90: UserWarning:\n",
      "\n",
      "ntree_limit is deprecated, use `iteration_range` or model slicing instead.\n",
      "\n",
      "11:54:40 INFO:data set drift detected\n",
      "11:54:41 INFO:drift detected for warehouse_ID.value\n",
      "11:54:41 INFO:drift_score : 0.8325546111576977\n",
      "11:54:41 INFO:stattest_name : Jensen-Shannon distance\n",
      "11:54:41 INFO:raw_feature_importance : 0.3874461352825165\n",
      "11:54:41 INFO:relative_feature_importance : 0.1558689922094345\n",
      "11:54:41 INFO:feature_importance_weighted_drift_score : 0.12976944820046796\n",
      "11:54:41 INFO:drift detected for Product_Type.value\n",
      "11:54:41 INFO:drift_score : 0.8325546111576977\n",
      "11:54:41 INFO:stattest_name : Jensen-Shannon distance\n",
      "11:54:41 INFO:raw_feature_importance : 2.4857165813446045\n",
      "11:54:41 INFO:relative_feature_importance : 1.0\n",
      "11:54:41 INFO:feature_importance_weighted_drift_score : 0.8325546111576977\n",
      "11:54:41 INFO:drift detected for is_weekend.value\n",
      "11:54:41 INFO:drift_score : 0.8325546111576977\n",
      "11:54:41 INFO:stattest_name : Jensen-Shannon distance\n",
      "11:54:41 INFO:raw_feature_importance : 0.46522679924964905\n",
      "11:54:41 INFO:relative_feature_importance : 0.18716003000736237\n",
      "11:54:41 INFO:feature_importance_weighted_drift_score : 0.1558209460070426\n",
      "11:54:41 INFO:Retraining model\n"
     ]
    },
    {
     "name": "stdout",
     "output_type": "stream",
     "text": [
      "Experiment week 19\n",
      "---------------------------------\n",
      "Experiment start date : 2019-07-01 00:00:00\n",
      "Experiment end_date : 2019-07-07 00:00:00\n"
     ]
    },
    {
     "name": "stderr",
     "output_type": "stream",
     "text": [
      "11:54:42 INFO:target drift detect: True\n",
      "d:\\anaconda\\envs\\anaconda_env\\lib\\site-packages\\xgboost\\core.py:90: UserWarning:\n",
      "\n",
      "ntree_limit is deprecated, use `iteration_range` or model slicing instead.\n",
      "\n",
      "11:54:42 INFO:data set drift detected\n",
      "11:54:42 INFO:drift detected for warehouse_ID.value\n",
      "11:54:42 INFO:drift_score : 0.8325546111576977\n",
      "11:54:42 INFO:stattest_name : Jensen-Shannon distance\n",
      "11:54:42 INFO:raw_feature_importance : 0.39254412055015564\n",
      "11:54:42 INFO:relative_feature_importance : 0.15778295695781708\n",
      "11:54:42 INFO:feature_importance_weighted_drift_score : 0.13136292837732716\n",
      "11:54:42 INFO:drift detected for Product_Type.value\n",
      "11:54:42 INFO:drift_score : 0.8325546111576977\n",
      "11:54:42 INFO:stattest_name : Jensen-Shannon distance\n",
      "11:54:42 INFO:raw_feature_importance : 2.4878740310668945\n",
      "11:54:42 INFO:relative_feature_importance : 1.0\n",
      "11:54:42 INFO:feature_importance_weighted_drift_score : 0.8325546111576977\n",
      "11:54:42 INFO:drift detected for is_weekend.value\n",
      "11:54:42 INFO:drift_score : 0.8325546111576977\n",
      "11:54:42 INFO:stattest_name : Jensen-Shannon distance\n",
      "11:54:42 INFO:raw_feature_importance : 0.4647793471813202\n",
      "11:54:42 INFO:relative_feature_importance : 0.18681788444519043\n",
      "11:54:42 INFO:feature_importance_weighted_drift_score : 0.15553609114156922\n",
      "11:54:42 INFO:Retraining model\n"
     ]
    },
    {
     "name": "stdout",
     "output_type": "stream",
     "text": [
      "Experiment week 20\n",
      "---------------------------------\n",
      "Experiment start date : 2019-07-08 00:00:00\n",
      "Experiment end_date : 2019-07-14 00:00:00\n"
     ]
    },
    {
     "name": "stderr",
     "output_type": "stream",
     "text": [
      "11:54:43 INFO:target drift detect: True\n",
      "d:\\anaconda\\envs\\anaconda_env\\lib\\site-packages\\xgboost\\core.py:90: UserWarning:\n",
      "\n",
      "ntree_limit is deprecated, use `iteration_range` or model slicing instead.\n",
      "\n",
      "11:54:43 INFO:data set drift detected\n",
      "11:54:43 INFO:drift detected for warehouse_ID.value\n",
      "11:54:43 INFO:drift_score : 0.8325546111576977\n",
      "11:54:43 INFO:stattest_name : Jensen-Shannon distance\n",
      "11:54:43 INFO:raw_feature_importance : 0.38685962557792664\n",
      "11:54:43 INFO:relative_feature_importance : 0.15602685511112213\n",
      "11:54:43 INFO:feature_importance_weighted_drift_score : 0.1299008776871987\n",
      "11:54:43 INFO:drift detected for Product_Type.value\n",
      "11:54:43 INFO:drift_score : 0.8325546111576977\n",
      "11:54:43 INFO:stattest_name : Jensen-Shannon distance\n",
      "11:54:43 INFO:raw_feature_importance : 2.479442596435547\n",
      "11:54:43 INFO:relative_feature_importance : 1.0\n",
      "11:54:43 INFO:feature_importance_weighted_drift_score : 0.8325546111576977\n",
      "11:54:43 INFO:drift detected for is_weekend.value\n",
      "11:54:44 INFO:drift_score : 0.8325546111576977\n",
      "11:54:44 INFO:stattest_name : Jensen-Shannon distance\n",
      "11:54:44 INFO:raw_feature_importance : 0.4594363570213318\n",
      "11:54:44 INFO:relative_feature_importance : 0.18529824912548065\n",
      "11:54:44 INFO:feature_importance_weighted_drift_score : 0.15427091174886673\n",
      "11:54:44 INFO:Retraining model\n"
     ]
    },
    {
     "name": "stdout",
     "output_type": "stream",
     "text": [
      "Experiment week 21\n",
      "---------------------------------\n",
      "Experiment start date : 2019-07-15 00:00:00\n",
      "Experiment end_date : 2019-07-21 00:00:00\n"
     ]
    },
    {
     "name": "stderr",
     "output_type": "stream",
     "text": [
      "11:54:44 INFO:target drift detect: True\n",
      "d:\\anaconda\\envs\\anaconda_env\\lib\\site-packages\\xgboost\\core.py:90: UserWarning:\n",
      "\n",
      "ntree_limit is deprecated, use `iteration_range` or model slicing instead.\n",
      "\n",
      "11:54:44 INFO:data set drift detected\n",
      "11:54:45 INFO:drift detected for warehouse_ID.value\n",
      "11:54:45 INFO:drift_score : 0.8325546111576977\n",
      "11:54:45 INFO:stattest_name : Jensen-Shannon distance\n",
      "11:54:45 INFO:raw_feature_importance : 0.38418060541152954\n",
      "11:54:45 INFO:relative_feature_importance : 0.15482129156589508\n",
      "11:54:45 INFO:feature_importance_weighted_drift_score : 0.12889718019857632\n",
      "11:54:45 INFO:drift detected for Product_Type.value\n",
      "11:54:45 INFO:drift_score : 0.8325546111576977\n",
      "11:54:45 INFO:stattest_name : Jensen-Shannon distance\n",
      "11:54:45 INFO:raw_feature_importance : 2.481445550918579\n",
      "11:54:45 INFO:relative_feature_importance : 1.0\n",
      "11:54:45 INFO:feature_importance_weighted_drift_score : 0.8325546111576977\n",
      "11:54:45 INFO:drift detected for is_weekend.value\n",
      "11:54:45 INFO:drift_score : 0.8325546111576977\n",
      "11:54:45 INFO:stattest_name : Jensen-Shannon distance\n",
      "11:54:45 INFO:raw_feature_importance : 0.45997437834739685\n",
      "11:54:45 INFO:relative_feature_importance : 0.1853654980659485\n",
      "11:54:45 INFO:feature_importance_weighted_drift_score : 0.15432690016434872\n",
      "11:54:45 INFO:Retraining model\n"
     ]
    },
    {
     "name": "stdout",
     "output_type": "stream",
     "text": [
      "Experiment week 22\n",
      "---------------------------------\n",
      "Experiment start date : 2019-07-22 00:00:00\n",
      "Experiment end_date : 2019-07-28 00:00:00\n"
     ]
    },
    {
     "name": "stderr",
     "output_type": "stream",
     "text": [
      "11:54:46 INFO:target drift detect: True\n",
      "d:\\anaconda\\envs\\anaconda_env\\lib\\site-packages\\xgboost\\core.py:90: UserWarning:\n",
      "\n",
      "ntree_limit is deprecated, use `iteration_range` or model slicing instead.\n",
      "\n",
      "11:54:46 INFO:data set drift detected\n",
      "11:54:46 INFO:drift detected for warehouse_ID.value\n",
      "11:54:46 INFO:drift_score : 0.8325546111576977\n",
      "11:54:46 INFO:stattest_name : Jensen-Shannon distance\n",
      "11:54:46 INFO:raw_feature_importance : 0.3858434557914734\n",
      "11:54:46 INFO:relative_feature_importance : 0.1552126705646515\n",
      "11:54:46 INFO:feature_importance_weighted_drift_score : 0.12922302458870125\n",
      "11:54:46 INFO:drift detected for Product_Type.value\n",
      "11:54:46 INFO:drift_score : 0.8325546111576977\n",
      "11:54:46 INFO:stattest_name : Jensen-Shannon distance\n",
      "11:54:46 INFO:raw_feature_importance : 2.4859018325805664\n",
      "11:54:46 INFO:relative_feature_importance : 1.0\n",
      "11:54:46 INFO:feature_importance_weighted_drift_score : 0.8325546111576977\n",
      "11:54:46 INFO:drift detected for is_weekend.value\n",
      "11:54:46 INFO:drift_score : 0.8325546111576977\n",
      "11:54:46 INFO:stattest_name : Jensen-Shannon distance\n",
      "11:54:46 INFO:raw_feature_importance : 0.46486151218414307\n",
      "11:54:46 INFO:relative_feature_importance : 0.1869991421699524\n",
      "11:54:46 INFO:feature_importance_weighted_drift_score : 0.15568699809612774\n",
      "11:54:46 INFO:Retraining model\n"
     ]
    },
    {
     "name": "stdout",
     "output_type": "stream",
     "text": [
      "Experiment week 23\n",
      "---------------------------------\n",
      "Experiment start date : 2019-07-29 00:00:00\n",
      "Experiment end_date : 2019-08-04 00:00:00\n"
     ]
    },
    {
     "name": "stderr",
     "output_type": "stream",
     "text": [
      "11:54:47 INFO:target drift detect: True\n",
      "d:\\anaconda\\envs\\anaconda_env\\lib\\site-packages\\xgboost\\core.py:90: UserWarning:\n",
      "\n",
      "ntree_limit is deprecated, use `iteration_range` or model slicing instead.\n",
      "\n",
      "11:54:47 INFO:data set drift detected\n",
      "11:54:47 INFO:drift detected for warehouse_ID.value\n",
      "11:54:47 INFO:drift_score : 0.8325546111576977\n",
      "11:54:47 INFO:stattest_name : Jensen-Shannon distance\n",
      "11:54:47 INFO:raw_feature_importance : 0.388266921043396\n",
      "11:54:47 INFO:relative_feature_importance : 0.1576598882675171\n",
      "11:54:47 INFO:feature_importance_weighted_drift_score : 0.13126046697172875\n",
      "11:54:47 INFO:drift detected for Product_Type.value\n",
      "11:54:47 INFO:drift_score : 0.8325546111576977\n",
      "11:54:47 INFO:stattest_name : Jensen-Shannon distance\n",
      "11:54:47 INFO:raw_feature_importance : 2.462686777114868\n",
      "11:54:47 INFO:relative_feature_importance : 1.0\n",
      "11:54:47 INFO:feature_importance_weighted_drift_score : 0.8325546111576977\n",
      "11:54:47 INFO:drift detected for is_weekend.value\n",
      "11:54:47 INFO:drift_score : 0.8325546111576977\n",
      "11:54:47 INFO:stattest_name : Jensen-Shannon distance\n",
      "11:54:47 INFO:raw_feature_importance : 0.4564337134361267\n",
      "11:54:47 INFO:relative_feature_importance : 0.18533973395824432\n",
      "11:54:48 INFO:feature_importance_weighted_drift_score : 0.15430545013767724\n",
      "11:54:48 INFO:Retraining model\n"
     ]
    },
    {
     "name": "stdout",
     "output_type": "stream",
     "text": [
      "Experiment week 24\n",
      "---------------------------------\n",
      "Experiment start date : 2019-08-05 00:00:00\n",
      "Experiment end_date : 2019-08-11 00:00:00\n"
     ]
    },
    {
     "name": "stderr",
     "output_type": "stream",
     "text": [
      "11:54:48 INFO:target drift detect: True\n",
      "d:\\anaconda\\envs\\anaconda_env\\lib\\site-packages\\xgboost\\core.py:90: UserWarning:\n",
      "\n",
      "ntree_limit is deprecated, use `iteration_range` or model slicing instead.\n",
      "\n",
      "11:54:48 INFO:data set drift detected\n",
      "11:54:49 INFO:drift detected for warehouse_ID.value\n",
      "11:54:49 INFO:drift_score : 0.8325546111576977\n",
      "11:54:49 INFO:stattest_name : Jensen-Shannon distance\n",
      "11:54:49 INFO:raw_feature_importance : 0.38621947169303894\n",
      "11:54:49 INFO:relative_feature_importance : 0.15694354474544525\n",
      "11:54:49 INFO:feature_importance_weighted_drift_score : 0.1306640718692549\n",
      "11:54:49 INFO:drift detected for Product_Type.value\n",
      "11:54:49 INFO:drift_score : 0.8325546111576977\n",
      "11:54:49 INFO:stattest_name : Jensen-Shannon distance\n",
      "11:54:49 INFO:raw_feature_importance : 2.460881471633911\n",
      "11:54:49 INFO:relative_feature_importance : 1.0\n",
      "11:54:49 INFO:feature_importance_weighted_drift_score : 0.8325546111576977\n",
      "11:54:49 INFO:drift detected for is_weekend.value\n",
      "11:54:49 INFO:drift_score : 0.8325546111576977\n",
      "11:54:49 INFO:stattest_name : Jensen-Shannon distance\n",
      "11:54:49 INFO:raw_feature_importance : 0.47073817253112793\n",
      "11:54:49 INFO:relative_feature_importance : 0.19128844141960144\n",
      "11:54:49 INFO:feature_importance_weighted_drift_score : 0.1592580739650583\n",
      "11:54:49 INFO:Retraining model\n"
     ]
    },
    {
     "name": "stdout",
     "output_type": "stream",
     "text": [
      "Experiment week 25\n",
      "---------------------------------\n",
      "Experiment start date : 2019-08-12 00:00:00\n",
      "Experiment end_date : 2019-08-18 00:00:00\n"
     ]
    },
    {
     "name": "stderr",
     "output_type": "stream",
     "text": [
      "11:54:50 INFO:target drift detect: True\n",
      "d:\\anaconda\\envs\\anaconda_env\\lib\\site-packages\\xgboost\\core.py:90: UserWarning:\n",
      "\n",
      "ntree_limit is deprecated, use `iteration_range` or model slicing instead.\n",
      "\n",
      "11:54:50 INFO:data set drift detected\n",
      "11:54:50 INFO:drift detected for warehouse_ID.value\n",
      "11:54:50 INFO:drift_score : 0.8325546111576977\n",
      "11:54:50 INFO:stattest_name : Jensen-Shannon distance\n",
      "11:54:50 INFO:raw_feature_importance : 0.38674989342689514\n",
      "11:54:50 INFO:relative_feature_importance : 0.15709121525287628\n",
      "11:54:50 INFO:feature_importance_weighted_drift_score : 0.1307870156311486\n",
      "11:54:50 INFO:drift detected for Product_Type.value\n",
      "11:54:50 INFO:drift_score : 0.8325546111576977\n",
      "11:54:50 INFO:stattest_name : Jensen-Shannon distance\n",
      "11:54:50 INFO:raw_feature_importance : 2.461944818496704\n",
      "11:54:50 INFO:relative_feature_importance : 1.0\n",
      "11:54:50 INFO:feature_importance_weighted_drift_score : 0.8325546111576977\n",
      "11:54:50 INFO:drift detected for is_weekend.value\n",
      "11:54:50 INFO:drift_score : 0.8325546111576977\n",
      "11:54:50 INFO:stattest_name : Jensen-Shannon distance\n",
      "11:54:50 INFO:raw_feature_importance : 0.46839627623558044\n",
      "11:54:50 INFO:relative_feature_importance : 0.1902545839548111\n",
      "11:54:50 INFO:feature_importance_weighted_drift_score : 0.1583973311654673\n",
      "11:54:50 INFO:Retraining model\n"
     ]
    },
    {
     "name": "stdout",
     "output_type": "stream",
     "text": [
      "Experiment week 26\n",
      "---------------------------------\n",
      "Experiment start date : 2019-08-19 00:00:00\n",
      "Experiment end_date : 2019-08-25 00:00:00\n"
     ]
    },
    {
     "name": "stderr",
     "output_type": "stream",
     "text": [
      "11:54:51 INFO:target drift detect: True\n",
      "d:\\anaconda\\envs\\anaconda_env\\lib\\site-packages\\xgboost\\core.py:90: UserWarning:\n",
      "\n",
      "ntree_limit is deprecated, use `iteration_range` or model slicing instead.\n",
      "\n",
      "11:54:51 INFO:data set drift detected\n",
      "11:54:51 INFO:drift detected for warehouse_ID.value\n",
      "11:54:51 INFO:drift_score : 0.8325546111576977\n",
      "11:54:51 INFO:stattest_name : Jensen-Shannon distance\n",
      "11:54:51 INFO:raw_feature_importance : 0.38597360253334045\n",
      "11:54:51 INFO:relative_feature_importance : 0.15662457048892975\n",
      "11:54:51 INFO:feature_importance_weighted_drift_score : 0.13039850838115233\n",
      "11:54:52 INFO:drift detected for Product_Type.value\n",
      "11:54:52 INFO:drift_score : 0.8325546111576977\n",
      "11:54:52 INFO:stattest_name : Jensen-Shannon distance\n",
      "11:54:52 INFO:raw_feature_importance : 2.4643235206604004\n",
      "11:54:52 INFO:relative_feature_importance : 1.0\n",
      "11:54:52 INFO:feature_importance_weighted_drift_score : 0.8325546111576977\n",
      "11:54:52 INFO:drift detected for is_weekend.value\n",
      "11:54:52 INFO:drift_score : 0.8325546111576977\n",
      "11:54:52 INFO:stattest_name : Jensen-Shannon distance\n",
      "11:54:52 INFO:raw_feature_importance : 0.47032150626182556\n",
      "11:54:52 INFO:relative_feature_importance : 0.19085218012332916\n",
      "11:54:52 INFO:feature_importance_weighted_drift_score : 0.1588948626111772\n",
      "11:54:52 INFO:Retraining model\n"
     ]
    },
    {
     "name": "stdout",
     "output_type": "stream",
     "text": [
      "Experiment week 27\n",
      "---------------------------------\n",
      "Experiment start date : 2019-08-26 00:00:00\n",
      "Experiment end_date : 2019-09-01 00:00:00\n"
     ]
    },
    {
     "name": "stderr",
     "output_type": "stream",
     "text": [
      "11:54:52 INFO:target drift detect: True\n",
      "d:\\anaconda\\envs\\anaconda_env\\lib\\site-packages\\xgboost\\core.py:90: UserWarning:\n",
      "\n",
      "ntree_limit is deprecated, use `iteration_range` or model slicing instead.\n",
      "\n",
      "11:54:52 INFO:data set drift detected\n",
      "11:54:53 INFO:drift detected for warehouse_ID.value\n",
      "11:54:53 INFO:drift_score : 0.8325546111576977\n",
      "11:54:53 INFO:stattest_name : Jensen-Shannon distance\n",
      "11:54:53 INFO:raw_feature_importance : 0.3868390917778015\n",
      "11:54:53 INFO:relative_feature_importance : 0.15712042152881622\n",
      "11:54:53 INFO:feature_importance_weighted_drift_score : 0.13081133145085713\n",
      "11:54:53 INFO:drift detected for Product_Type.value\n",
      "11:54:53 INFO:drift_score : 0.8325546111576977\n",
      "11:54:53 INFO:stattest_name : Jensen-Shannon distance\n",
      "11:54:53 INFO:raw_feature_importance : 2.46205472946167\n",
      "11:54:53 INFO:relative_feature_importance : 1.0\n",
      "11:54:53 INFO:feature_importance_weighted_drift_score : 0.8325546111576977\n",
      "11:54:53 INFO:drift detected for is_weekend.value\n",
      "11:54:53 INFO:drift_score : 0.8325546111576977\n",
      "11:54:53 INFO:stattest_name : Jensen-Shannon distance\n",
      "11:54:53 INFO:raw_feature_importance : 0.46687543392181396\n",
      "11:54:53 INFO:relative_feature_importance : 0.18962837755680084\n",
      "11:54:53 INFO:feature_importance_weighted_drift_score : 0.1578759801412674\n",
      "11:54:53 INFO:Retraining model\n"
     ]
    },
    {
     "name": "stdout",
     "output_type": "stream",
     "text": [
      "Experiment week 28\n",
      "---------------------------------\n",
      "Experiment start date : 2019-09-02 00:00:00\n",
      "Experiment end_date : 2019-09-08 00:00:00\n"
     ]
    },
    {
     "name": "stderr",
     "output_type": "stream",
     "text": [
      "11:54:54 INFO:target drift detect: True\n",
      "d:\\anaconda\\envs\\anaconda_env\\lib\\site-packages\\xgboost\\core.py:90: UserWarning:\n",
      "\n",
      "ntree_limit is deprecated, use `iteration_range` or model slicing instead.\n",
      "\n",
      "11:54:54 INFO:data set drift detected\n",
      "11:54:54 INFO:drift detected for warehouse_ID.value\n",
      "11:54:54 INFO:drift_score : 0.8325546111576977\n",
      "11:54:54 INFO:stattest_name : Jensen-Shannon distance\n",
      "11:54:54 INFO:raw_feature_importance : 0.3654038906097412\n",
      "11:54:54 INFO:relative_feature_importance : 0.15430058538913727\n",
      "11:54:54 INFO:feature_importance_weighted_drift_score : 0.1284636638700583\n",
      "11:54:54 INFO:drift detected for Product_Type.value\n",
      "11:54:54 INFO:drift_score : 0.8325546111576977\n",
      "11:54:54 INFO:stattest_name : Jensen-Shannon distance\n",
      "11:54:54 INFO:raw_feature_importance : 2.3681302070617676\n",
      "11:54:54 INFO:relative_feature_importance : 1.0\n",
      "11:54:54 INFO:feature_importance_weighted_drift_score : 0.8325546111576977\n",
      "11:54:54 INFO:drift detected for is_weekend.value\n",
      "11:54:54 INFO:drift_score : 0.8325546111576977\n",
      "11:54:54 INFO:stattest_name : Jensen-Shannon distance\n",
      "11:54:54 INFO:raw_feature_importance : 0.4635741412639618\n",
      "11:54:54 INFO:relative_feature_importance : 0.19575534760951996\n",
      "11:54:54 INFO:feature_importance_weighted_drift_score : 0.16297701731108383\n",
      "11:54:54 INFO:Retraining model\n"
     ]
    },
    {
     "name": "stdout",
     "output_type": "stream",
     "text": [
      "Experiment week 29\n",
      "---------------------------------\n",
      "Experiment start date : 2019-09-09 00:00:00\n",
      "Experiment end_date : 2019-09-15 00:00:00\n"
     ]
    },
    {
     "name": "stderr",
     "output_type": "stream",
     "text": [
      "11:54:55 INFO:target drift detect: True\n",
      "d:\\anaconda\\envs\\anaconda_env\\lib\\site-packages\\xgboost\\core.py:90: UserWarning:\n",
      "\n",
      "ntree_limit is deprecated, use `iteration_range` or model slicing instead.\n",
      "\n",
      "11:54:55 INFO:data set drift detected\n",
      "11:54:56 INFO:drift detected for warehouse_ID.value\n",
      "11:54:56 INFO:drift_score : 0.8325546111576977\n",
      "11:54:56 INFO:stattest_name : Jensen-Shannon distance\n",
      "11:54:56 INFO:raw_feature_importance : 0.36767128109931946\n",
      "11:54:56 INFO:relative_feature_importance : 0.15539667010307312\n",
      "11:54:56 INFO:feature_importance_weighted_drift_score : 0.12937621425286508\n",
      "11:54:56 INFO:drift detected for Product_Type.value\n",
      "11:54:56 INFO:drift_score : 0.8325546111576977\n",
      "11:54:56 INFO:stattest_name : Jensen-Shannon distance\n",
      "11:54:56 INFO:raw_feature_importance : 2.3660178184509277\n",
      "11:54:56 INFO:relative_feature_importance : 1.0\n",
      "11:54:56 INFO:feature_importance_weighted_drift_score : 0.8325546111576977\n",
      "11:54:56 INFO:drift detected for is_weekend.value\n",
      "11:54:56 INFO:drift_score : 0.8325546111576977\n",
      "11:54:56 INFO:stattest_name : Jensen-Shannon distance\n",
      "11:54:56 INFO:raw_feature_importance : 0.45693668723106384\n",
      "11:54:56 INFO:relative_feature_importance : 0.19312478601932526\n",
      "11:54:56 INFO:feature_importance_weighted_drift_score : 0.1607869311292329\n",
      "11:54:56 INFO:Retraining model\n"
     ]
    },
    {
     "name": "stdout",
     "output_type": "stream",
     "text": [
      "Experiment week 30\n",
      "---------------------------------\n",
      "Experiment start date : 2019-09-16 00:00:00\n",
      "Experiment end_date : 2019-09-22 00:00:00\n"
     ]
    },
    {
     "name": "stderr",
     "output_type": "stream",
     "text": [
      "11:54:57 INFO:target drift detect: True\n",
      "d:\\anaconda\\envs\\anaconda_env\\lib\\site-packages\\xgboost\\core.py:90: UserWarning:\n",
      "\n",
      "ntree_limit is deprecated, use `iteration_range` or model slicing instead.\n",
      "\n",
      "11:54:57 INFO:data set drift detected\n",
      "11:54:57 INFO:drift detected for warehouse_ID.value\n",
      "11:54:57 INFO:drift_score : 0.8325546111576977\n",
      "11:54:57 INFO:stattest_name : Jensen-Shannon distance\n",
      "11:54:57 INFO:raw_feature_importance : 0.36571499705314636\n",
      "11:54:57 INFO:relative_feature_importance : 0.15450459718704224\n",
      "11:54:57 INFO:feature_importance_weighted_drift_score : 0.12863351483313465\n",
      "11:54:57 INFO:drift detected for Product_Type.value\n",
      "11:54:57 INFO:drift_score : 0.8325546111576977\n",
      "11:54:57 INFO:stattest_name : Jensen-Shannon distance\n",
      "11:54:57 INFO:raw_feature_importance : 2.3670170307159424\n",
      "11:54:57 INFO:relative_feature_importance : 1.0\n",
      "11:54:57 INFO:feature_importance_weighted_drift_score : 0.8325546111576977\n",
      "11:54:57 INFO:drift detected for is_weekend.value\n",
      "11:54:57 INFO:drift_score : 0.8325546111576977\n",
      "11:54:57 INFO:stattest_name : Jensen-Shannon distance\n",
      "11:54:57 INFO:raw_feature_importance : 0.4571155905723572\n",
      "11:54:57 INFO:relative_feature_importance : 0.1931188404560089\n",
      "11:54:57 INFO:feature_importance_weighted_drift_score : 0.16078198112307795\n",
      "11:54:58 INFO:Retraining model\n"
     ]
    },
    {
     "name": "stdout",
     "output_type": "stream",
     "text": [
      "Experiment week 31\n",
      "---------------------------------\n",
      "Experiment start date : 2019-09-23 00:00:00\n",
      "Experiment end_date : 2019-09-29 00:00:00\n"
     ]
    },
    {
     "name": "stderr",
     "output_type": "stream",
     "text": [
      "11:54:58 INFO:target drift detect: True\n",
      "d:\\anaconda\\envs\\anaconda_env\\lib\\site-packages\\xgboost\\core.py:90: UserWarning:\n",
      "\n",
      "ntree_limit is deprecated, use `iteration_range` or model slicing instead.\n",
      "\n",
      "11:54:58 INFO:data set drift detected\n",
      "11:54:59 INFO:drift detected for warehouse_ID.value\n",
      "11:54:59 INFO:drift_score : 0.8325546111576977\n",
      "11:54:59 INFO:stattest_name : Jensen-Shannon distance\n",
      "11:54:59 INFO:raw_feature_importance : 0.36851054430007935\n",
      "11:54:59 INFO:relative_feature_importance : 0.15554291009902954\n",
      "11:54:59 INFO:feature_importance_weighted_drift_score : 0.12949796703583427\n",
      "11:54:59 INFO:drift detected for Product_Type.value\n",
      "11:54:59 INFO:drift_score : 0.8325546111576977\n",
      "11:54:59 INFO:stattest_name : Jensen-Shannon distance\n",
      "11:54:59 INFO:raw_feature_importance : 2.3691890239715576\n",
      "11:54:59 INFO:relative_feature_importance : 1.0\n",
      "11:54:59 INFO:feature_importance_weighted_drift_score : 0.8325546111576977\n",
      "11:54:59 INFO:drift detected for is_weekend.value\n",
      "11:54:59 INFO:drift_score : 0.8325546111576977\n",
      "11:54:59 INFO:stattest_name : Jensen-Shannon distance\n",
      "11:54:59 INFO:raw_feature_importance : 0.46273231506347656\n",
      "11:54:59 INFO:relative_feature_importance : 0.1953125298023224\n",
      "11:54:59 INFO:feature_importance_weighted_drift_score : 0.16260834730379875\n",
      "11:54:59 INFO:Retraining model\n"
     ]
    },
    {
     "name": "stdout",
     "output_type": "stream",
     "text": [
      "Experiment week 32\n",
      "---------------------------------\n",
      "Experiment start date : 2019-09-30 00:00:00\n",
      "Experiment end_date : 2019-10-06 00:00:00\n"
     ]
    },
    {
     "name": "stderr",
     "output_type": "stream",
     "text": [
      "11:54:59 INFO:target drift detect: True\n",
      "d:\\anaconda\\envs\\anaconda_env\\lib\\site-packages\\xgboost\\core.py:90: UserWarning:\n",
      "\n",
      "ntree_limit is deprecated, use `iteration_range` or model slicing instead.\n",
      "\n",
      "11:55:00 INFO:data set drift detected\n",
      "11:55:00 INFO:drift detected for warehouse_ID.value\n",
      "11:55:00 INFO:drift_score : 0.8325546111576977\n",
      "11:55:00 INFO:stattest_name : Jensen-Shannon distance\n",
      "11:55:00 INFO:raw_feature_importance : 0.37830138206481934\n",
      "11:55:00 INFO:relative_feature_importance : 0.1615932583808899\n",
      "11:55:00 INFO:feature_importance_weighted_drift_score : 0.13453521239700716\n",
      "11:55:00 INFO:drift detected for Product_Type.value\n",
      "11:55:00 INFO:drift_score : 0.8325546111576977\n",
      "11:55:00 INFO:stattest_name : Jensen-Shannon distance\n",
      "11:55:00 INFO:raw_feature_importance : 2.341071605682373\n",
      "11:55:00 INFO:relative_feature_importance : 1.0\n",
      "11:55:00 INFO:feature_importance_weighted_drift_score : 0.8325546111576977\n",
      "11:55:00 INFO:drift detected for is_weekend.value\n",
      "11:55:00 INFO:drift_score : 0.8325546111576977\n",
      "11:55:00 INFO:stattest_name : Jensen-Shannon distance\n",
      "11:55:00 INFO:raw_feature_importance : 0.4496029019355774\n",
      "11:55:00 INFO:relative_feature_importance : 0.192050039768219\n",
      "11:55:00 INFO:feature_importance_weighted_drift_score : 0.15989214618204994\n",
      "11:55:00 INFO:Retraining model\n"
     ]
    },
    {
     "name": "stdout",
     "output_type": "stream",
     "text": [
      "Experiment week 33\n",
      "---------------------------------\n",
      "Experiment start date : 2019-10-07 00:00:00\n",
      "Experiment end_date : 2019-10-13 00:00:00\n"
     ]
    },
    {
     "name": "stderr",
     "output_type": "stream",
     "text": [
      "11:55:01 INFO:target drift detect: True\n",
      "d:\\anaconda\\envs\\anaconda_env\\lib\\site-packages\\xgboost\\core.py:90: UserWarning:\n",
      "\n",
      "ntree_limit is deprecated, use `iteration_range` or model slicing instead.\n",
      "\n",
      "11:55:01 INFO:data set drift detected\n",
      "11:55:01 INFO:drift detected for warehouse_ID.value\n",
      "11:55:01 INFO:drift_score : 0.8325546111576977\n",
      "11:55:01 INFO:stattest_name : Jensen-Shannon distance\n",
      "11:55:01 INFO:raw_feature_importance : 0.3714189827442169\n",
      "11:55:01 INFO:relative_feature_importance : 0.1592157632112503\n",
      "11:55:01 INFO:feature_importance_weighted_drift_score : 0.13255581783051856\n",
      "11:55:01 INFO:drift detected for Product_Type.value\n",
      "11:55:01 INFO:drift_score : 0.8325546111576977\n",
      "11:55:01 INFO:stattest_name : Jensen-Shannon distance\n",
      "11:55:01 INFO:raw_feature_importance : 2.3328027725219727\n",
      "11:55:01 INFO:relative_feature_importance : 1.0\n",
      "11:55:01 INFO:feature_importance_weighted_drift_score : 0.8325546111576977\n",
      "11:55:01 INFO:drift detected for is_weekend.value\n",
      "11:55:01 INFO:drift_score : 0.8325546111576977\n",
      "11:55:01 INFO:stattest_name : Jensen-Shannon distance\n",
      "11:55:01 INFO:raw_feature_importance : 0.44688379764556885\n",
      "11:55:01 INFO:relative_feature_importance : 0.19156518578529358\n",
      "11:55:01 INFO:feature_importance_weighted_drift_score : 0.1594884787628272\n",
      "11:55:02 INFO:Retraining model\n"
     ]
    },
    {
     "name": "stdout",
     "output_type": "stream",
     "text": [
      "Experiment week 34\n",
      "---------------------------------\n",
      "Experiment start date : 2019-10-14 00:00:00\n",
      "Experiment end_date : 2019-10-20 00:00:00\n"
     ]
    },
    {
     "name": "stderr",
     "output_type": "stream",
     "text": [
      "11:55:02 INFO:target drift detect: True\n",
      "d:\\anaconda\\envs\\anaconda_env\\lib\\site-packages\\xgboost\\core.py:90: UserWarning:\n",
      "\n",
      "ntree_limit is deprecated, use `iteration_range` or model slicing instead.\n",
      "\n",
      "11:55:02 INFO:data set drift detected\n",
      "11:55:02 INFO:drift detected for warehouse_ID.value\n",
      "11:55:02 INFO:drift_score : 0.8325546111576977\n",
      "11:55:02 INFO:stattest_name : Jensen-Shannon distance\n",
      "11:55:02 INFO:raw_feature_importance : 0.37091344594955444\n",
      "11:55:02 INFO:relative_feature_importance : 0.15897192060947418\n",
      "11:55:02 INFO:feature_importance_weighted_drift_score : 0.13235280554801315\n",
      "11:55:02 INFO:drift detected for Product_Type.value\n",
      "11:55:02 INFO:drift_score : 0.8325546111576977\n",
      "11:55:02 INFO:stattest_name : Jensen-Shannon distance\n",
      "11:55:02 INFO:raw_feature_importance : 2.3332009315490723\n",
      "11:55:02 INFO:relative_feature_importance : 1.0\n",
      "11:55:02 INFO:feature_importance_weighted_drift_score : 0.8325546111576977\n",
      "11:55:03 INFO:drift detected for is_weekend.value\n",
      "11:55:03 INFO:drift_score : 0.8325546111576977\n",
      "11:55:03 INFO:stattest_name : Jensen-Shannon distance\n",
      "11:55:03 INFO:raw_feature_importance : 0.4462306499481201\n",
      "11:55:03 INFO:relative_feature_importance : 0.19125255942344666\n",
      "11:55:03 INFO:feature_importance_weighted_drift_score : 0.1592282002437021\n",
      "11:55:03 INFO:Retraining model\n"
     ]
    },
    {
     "name": "stdout",
     "output_type": "stream",
     "text": [
      "Experiment week 35\n",
      "---------------------------------\n",
      "Experiment start date : 2019-10-21 00:00:00\n",
      "Experiment end_date : 2019-10-27 00:00:00\n"
     ]
    },
    {
     "name": "stderr",
     "output_type": "stream",
     "text": [
      "11:55:03 INFO:target drift detect: True\n",
      "d:\\anaconda\\envs\\anaconda_env\\lib\\site-packages\\xgboost\\core.py:90: UserWarning:\n",
      "\n",
      "ntree_limit is deprecated, use `iteration_range` or model slicing instead.\n",
      "\n",
      "11:55:03 INFO:data set drift detected\n",
      "11:55:04 INFO:drift detected for warehouse_ID.value\n",
      "11:55:04 INFO:drift_score : 0.8325546111576977\n",
      "11:55:04 INFO:stattest_name : Jensen-Shannon distance\n",
      "11:55:04 INFO:raw_feature_importance : 0.3711075186729431\n",
      "11:55:04 INFO:relative_feature_importance : 0.15861466526985168\n",
      "11:55:04 INFO:feature_importance_weighted_drift_score : 0.13205537096764974\n",
      "11:55:04 INFO:drift detected for Product_Type.value\n",
      "11:55:04 INFO:drift_score : 0.8325546111576977\n",
      "11:55:04 INFO:stattest_name : Jensen-Shannon distance\n",
      "11:55:04 INFO:raw_feature_importance : 2.339679718017578\n",
      "11:55:04 INFO:relative_feature_importance : 1.0\n",
      "11:55:04 INFO:feature_importance_weighted_drift_score : 0.8325546111576977\n",
      "11:55:04 INFO:drift detected for is_weekend.value\n",
      "11:55:04 INFO:drift_score : 0.8325546111576977\n",
      "11:55:04 INFO:stattest_name : Jensen-Shannon distance\n",
      "11:55:04 INFO:raw_feature_importance : 0.45045560598373413\n",
      "11:55:04 INFO:relative_feature_importance : 0.19252875447273254\n",
      "11:55:04 INFO:feature_importance_weighted_drift_score : 0.16029070231672168\n",
      "11:55:04 INFO:Retraining model\n"
     ]
    },
    {
     "name": "stdout",
     "output_type": "stream",
     "text": [
      "Experiment week 36\n",
      "---------------------------------\n",
      "Experiment start date : 2019-10-28 00:00:00\n",
      "Experiment end_date : 2019-11-03 00:00:00\n"
     ]
    },
    {
     "name": "stderr",
     "output_type": "stream",
     "text": [
      "11:55:05 INFO:target drift detect: True\n",
      "d:\\anaconda\\envs\\anaconda_env\\lib\\site-packages\\xgboost\\core.py:90: UserWarning:\n",
      "\n",
      "ntree_limit is deprecated, use `iteration_range` or model slicing instead.\n",
      "\n",
      "11:55:05 INFO:data set drift detected\n",
      "11:55:05 INFO:drift detected for warehouse_ID.value\n",
      "11:55:05 INFO:drift_score : 0.8325546111576977\n",
      "11:55:05 INFO:stattest_name : Jensen-Shannon distance\n",
      "11:55:05 INFO:raw_feature_importance : 0.3803751468658447\n",
      "11:55:05 INFO:relative_feature_importance : 0.16269074380397797\n",
      "11:55:05 INFO:feature_importance_weighted_drift_score : 0.13544892894667748\n",
      "11:55:05 INFO:drift detected for Product_Type.value\n",
      "11:55:05 INFO:drift_score : 0.8325546111576977\n",
      "11:55:05 INFO:stattest_name : Jensen-Shannon distance\n",
      "11:55:05 INFO:raw_feature_importance : 2.3380258083343506\n",
      "11:55:05 INFO:relative_feature_importance : 1.0\n",
      "11:55:05 INFO:feature_importance_weighted_drift_score : 0.8325546111576977\n",
      "11:55:06 INFO:drift detected for is_weekend.value\n",
      "11:55:06 INFO:drift_score : 0.8325546111576977\n",
      "11:55:06 INFO:stattest_name : Jensen-Shannon distance\n",
      "11:55:06 INFO:raw_feature_importance : 0.4361921548843384\n",
      "11:55:06 INFO:relative_feature_importance : 0.18656429648399353\n",
      "11:55:06 INFO:feature_importance_weighted_drift_score : 0.15532496531514067\n",
      "11:55:06 INFO:Retraining model\n"
     ]
    },
    {
     "name": "stdout",
     "output_type": "stream",
     "text": [
      "Experiment week 37\n",
      "---------------------------------\n",
      "Experiment start date : 2019-11-04 00:00:00\n",
      "Experiment end_date : 2019-11-10 00:00:00\n"
     ]
    },
    {
     "name": "stderr",
     "output_type": "stream",
     "text": [
      "11:55:06 INFO:target drift detect: True\n",
      "d:\\anaconda\\envs\\anaconda_env\\lib\\site-packages\\xgboost\\core.py:90: UserWarning:\n",
      "\n",
      "ntree_limit is deprecated, use `iteration_range` or model slicing instead.\n",
      "\n",
      "11:55:06 INFO:data set drift detected\n",
      "11:55:07 INFO:drift detected for warehouse_ID.value\n",
      "11:55:07 INFO:drift_score : 0.8325546111576977\n",
      "11:55:07 INFO:stattest_name : Jensen-Shannon distance\n",
      "11:55:07 INFO:raw_feature_importance : 0.37043794989585876\n",
      "11:55:07 INFO:relative_feature_importance : 0.15880775451660156\n",
      "11:55:07 INFO:feature_importance_weighted_drift_score : 0.13221612831039634\n",
      "11:55:07 INFO:drift detected for Product_Type.value\n",
      "11:55:07 INFO:drift_score : 0.8325546111576977\n",
      "11:55:07 INFO:stattest_name : Jensen-Shannon distance\n",
      "11:55:07 INFO:raw_feature_importance : 2.3326187133789062\n",
      "11:55:07 INFO:relative_feature_importance : 1.0\n",
      "11:55:07 INFO:feature_importance_weighted_drift_score : 0.8325546111576977\n",
      "11:55:07 INFO:drift detected for is_weekend.value\n",
      "11:55:07 INFO:drift_score : 0.8325546111576977\n",
      "11:55:07 INFO:stattest_name : Jensen-Shannon distance\n",
      "11:55:07 INFO:raw_feature_importance : 0.4491409957408905\n",
      "11:55:07 INFO:relative_feature_importance : 0.1925479620695114\n",
      "11:55:07 INFO:feature_importance_weighted_drift_score : 0.1603066936899892\n",
      "11:55:07 INFO:Retraining model\n"
     ]
    },
    {
     "name": "stdout",
     "output_type": "stream",
     "text": [
      "Experiment week 38\n",
      "---------------------------------\n",
      "Experiment start date : 2019-11-11 00:00:00\n",
      "Experiment end_date : 2019-11-17 00:00:00\n"
     ]
    },
    {
     "name": "stderr",
     "output_type": "stream",
     "text": [
      "11:55:08 INFO:target drift detect: True\n",
      "d:\\anaconda\\envs\\anaconda_env\\lib\\site-packages\\xgboost\\core.py:90: UserWarning:\n",
      "\n",
      "ntree_limit is deprecated, use `iteration_range` or model slicing instead.\n",
      "\n",
      "11:55:08 INFO:data set drift detected\n",
      "11:55:08 INFO:drift detected for warehouse_ID.value\n",
      "11:55:08 INFO:drift_score : 0.8325546111576977\n",
      "11:55:08 INFO:stattest_name : Jensen-Shannon distance\n",
      "11:55:08 INFO:raw_feature_importance : 0.3716452121734619\n",
      "11:55:08 INFO:relative_feature_importance : 0.15932819247245789\n",
      "11:55:08 INFO:feature_importance_weighted_drift_score : 0.132649421330366\n",
      "11:55:08 INFO:drift detected for Product_Type.value\n",
      "11:55:08 INFO:drift_score : 0.8325546111576977\n",
      "11:55:08 INFO:stattest_name : Jensen-Shannon distance\n",
      "11:55:08 INFO:raw_feature_importance : 2.3325765132904053\n",
      "11:55:08 INFO:relative_feature_importance : 1.0\n",
      "11:55:08 INFO:feature_importance_weighted_drift_score : 0.8325546111576977\n",
      "11:55:08 INFO:drift detected for is_weekend.value\n",
      "11:55:08 INFO:drift_score : 0.8325546111576977\n",
      "11:55:08 INFO:stattest_name : Jensen-Shannon distance\n",
      "11:55:08 INFO:raw_feature_importance : 0.44644618034362793\n",
      "11:55:08 INFO:relative_feature_importance : 0.19139616191387177\n",
      "11:55:08 INFO:feature_importance_weighted_drift_score : 0.15934775715927926\n",
      "11:55:08 INFO:Retraining model\n"
     ]
    },
    {
     "name": "stdout",
     "output_type": "stream",
     "text": [
      "Experiment week 39\n",
      "---------------------------------\n",
      "Experiment start date : 2019-11-18 00:00:00\n",
      "Experiment end_date : 2019-11-24 00:00:00\n"
     ]
    },
    {
     "name": "stderr",
     "output_type": "stream",
     "text": [
      "11:55:09 INFO:target drift detect: True\n",
      "d:\\anaconda\\envs\\anaconda_env\\lib\\site-packages\\xgboost\\core.py:90: UserWarning:\n",
      "\n",
      "ntree_limit is deprecated, use `iteration_range` or model slicing instead.\n",
      "\n",
      "11:55:09 INFO:data set drift detected\n",
      "11:55:09 INFO:drift detected for warehouse_ID.value\n",
      "11:55:09 INFO:drift_score : 0.8325546111576977\n",
      "11:55:09 INFO:stattest_name : Jensen-Shannon distance\n",
      "11:55:09 INFO:raw_feature_importance : 0.36946213245391846\n",
      "11:55:09 INFO:relative_feature_importance : 0.15815767645835876\n",
      "11:55:09 INFO:feature_importance_weighted_drift_score : 0.13167490282539385\n",
      "11:55:09 INFO:drift detected for Product_Type.value\n",
      "11:55:09 INFO:drift_score : 0.8325546111576977\n",
      "11:55:09 INFO:stattest_name : Jensen-Shannon distance\n",
      "11:55:09 INFO:raw_feature_importance : 2.3360366821289062\n",
      "11:55:09 INFO:relative_feature_importance : 1.0\n",
      "11:55:09 INFO:feature_importance_weighted_drift_score : 0.8325546111576977\n",
      "11:55:09 INFO:drift detected for is_weekend.value\n",
      "11:55:09 INFO:drift_score : 0.8325546111576977\n",
      "11:55:09 INFO:stattest_name : Jensen-Shannon distance\n",
      "11:55:09 INFO:raw_feature_importance : 0.4478166997432709\n",
      "11:55:09 INFO:relative_feature_importance : 0.1916993409395218\n",
      "11:55:09 INFO:feature_importance_weighted_drift_score : 0.1596001702550905\n",
      "11:55:09 INFO:Retraining model\n"
     ]
    },
    {
     "name": "stdout",
     "output_type": "stream",
     "text": [
      "Experiment week 40\n",
      "---------------------------------\n",
      "Experiment start date : 2019-11-25 00:00:00\n",
      "Experiment end_date : 2019-12-01 00:00:00\n"
     ]
    },
    {
     "name": "stderr",
     "output_type": "stream",
     "text": [
      "11:55:10 INFO:target drift detect: True\n",
      "d:\\anaconda\\envs\\anaconda_env\\lib\\site-packages\\xgboost\\core.py:90: UserWarning:\n",
      "\n",
      "ntree_limit is deprecated, use `iteration_range` or model slicing instead.\n",
      "\n",
      "11:55:10 INFO:data set drift detected\n",
      "11:55:10 INFO:drift detected for warehouse_ID.value\n",
      "11:55:10 INFO:drift_score : 0.8325546111576977\n",
      "11:55:10 INFO:stattest_name : Jensen-Shannon distance\n",
      "11:55:10 INFO:raw_feature_importance : 0.37927430868148804\n",
      "11:55:10 INFO:relative_feature_importance : 0.16220907866954803\n",
      "11:55:10 INFO:feature_importance_weighted_drift_score : 0.13504791641797395\n",
      "11:55:10 INFO:drift detected for Product_Type.value\n",
      "11:55:10 INFO:drift_score : 0.8325546111576977\n",
      "11:55:10 INFO:stattest_name : Jensen-Shannon distance\n",
      "11:55:10 INFO:raw_feature_importance : 2.338181734085083\n",
      "11:55:10 INFO:relative_feature_importance : 1.0\n",
      "11:55:10 INFO:feature_importance_weighted_drift_score : 0.8325546111576977\n",
      "11:55:10 INFO:drift detected for is_weekend.value\n",
      "11:55:10 INFO:drift_score : 0.8325546111576977\n",
      "11:55:10 INFO:stattest_name : Jensen-Shannon distance\n",
      "11:55:10 INFO:raw_feature_importance : 0.44689005613327026\n",
      "11:55:10 INFO:relative_feature_importance : 0.19112716615200043\n",
      "11:55:10 INFO:feature_importance_weighted_drift_score : 0.1591238034973514\n",
      "11:55:11 INFO:Retraining model\n"
     ]
    },
    {
     "name": "stdout",
     "output_type": "stream",
     "text": [
      "Experiment week 41\n",
      "---------------------------------\n",
      "Experiment start date : 2019-12-02 00:00:00\n",
      "Experiment end_date : 2019-12-08 00:00:00\n"
     ]
    },
    {
     "name": "stderr",
     "output_type": "stream",
     "text": [
      "11:55:11 INFO:target drift detect: True\n",
      "d:\\anaconda\\envs\\anaconda_env\\lib\\site-packages\\xgboost\\core.py:90: UserWarning:\n",
      "\n",
      "ntree_limit is deprecated, use `iteration_range` or model slicing instead.\n",
      "\n",
      "11:55:11 INFO:data set drift detected\n",
      "11:55:11 INFO:drift detected for warehouse_ID.value\n",
      "11:55:11 INFO:drift_score : 0.8325546111576977\n",
      "11:55:11 INFO:stattest_name : Jensen-Shannon distance\n",
      "11:55:11 INFO:raw_feature_importance : 0.3705402910709381\n",
      "11:55:11 INFO:relative_feature_importance : 0.16708064079284668\n",
      "11:55:11 INFO:feature_importance_weighted_drift_score : 0.13910375792726742\n",
      "11:55:12 INFO:drift detected for Product_Type.value\n",
      "11:55:12 INFO:drift_score : 0.8325546111576977\n",
      "11:55:12 INFO:stattest_name : Jensen-Shannon distance\n",
      "11:55:12 INFO:raw_feature_importance : 2.217733144760132\n",
      "11:55:12 INFO:relative_feature_importance : 1.0\n",
      "11:55:12 INFO:feature_importance_weighted_drift_score : 0.8325546111576977\n",
      "11:55:12 INFO:drift detected for is_weekend.value\n",
      "11:55:12 INFO:drift_score : 0.8325546111576977\n",
      "11:55:12 INFO:stattest_name : Jensen-Shannon distance\n",
      "11:55:12 INFO:raw_feature_importance : 0.4292677044868469\n",
      "11:55:12 INFO:relative_feature_importance : 0.19356147944927216\n",
      "11:55:12 INFO:feature_importance_weighted_drift_score : 0.16115050225799749\n",
      "11:55:12 INFO:Retraining model\n"
     ]
    },
    {
     "name": "stdout",
     "output_type": "stream",
     "text": [
      "Experiment week 42\n",
      "---------------------------------\n",
      "Experiment start date : 2019-12-09 00:00:00\n",
      "Experiment end_date : 2019-12-15 00:00:00\n"
     ]
    },
    {
     "name": "stderr",
     "output_type": "stream",
     "text": [
      "11:55:13 INFO:target drift detect: True\n",
      "d:\\anaconda\\envs\\anaconda_env\\lib\\site-packages\\xgboost\\core.py:90: UserWarning:\n",
      "\n",
      "ntree_limit is deprecated, use `iteration_range` or model slicing instead.\n",
      "\n",
      "11:55:13 INFO:data set drift detected\n",
      "11:55:13 INFO:drift detected for warehouse_ID.value\n",
      "11:55:13 INFO:drift_score : 0.8325546111576977\n",
      "11:55:13 INFO:stattest_name : Jensen-Shannon distance\n",
      "11:55:13 INFO:raw_feature_importance : 0.36960187554359436\n",
      "11:55:13 INFO:relative_feature_importance : 0.16713488101959229\n",
      "11:55:13 INFO:feature_importance_weighted_drift_score : 0.13914891587815473\n",
      "11:55:13 INFO:drift detected for Product_Type.value\n",
      "11:55:13 INFO:drift_score : 0.8325546111576977\n",
      "11:55:13 INFO:stattest_name : Jensen-Shannon distance\n",
      "11:55:13 INFO:raw_feature_importance : 2.2113988399505615\n",
      "11:55:13 INFO:relative_feature_importance : 1.0\n",
      "11:55:13 INFO:feature_importance_weighted_drift_score : 0.8325546111576977\n",
      "11:55:13 INFO:drift detected for is_weekend.value\n",
      "11:55:13 INFO:drift_score : 0.8325546111576977\n",
      "11:55:13 INFO:stattest_name : Jensen-Shannon distance\n",
      "11:55:13 INFO:raw_feature_importance : 0.4241187572479248\n",
      "11:55:13 INFO:relative_feature_importance : 0.19178754091262817\n",
      "11:55:13 INFO:feature_importance_weighted_drift_score : 0.1596736015494042\n",
      "11:55:13 INFO:Retraining model\n"
     ]
    },
    {
     "name": "stdout",
     "output_type": "stream",
     "text": [
      "Experiment week 43\n",
      "---------------------------------\n",
      "Experiment start date : 2019-12-16 00:00:00\n",
      "Experiment end_date : 2019-12-22 00:00:00\n"
     ]
    },
    {
     "name": "stderr",
     "output_type": "stream",
     "text": [
      "11:55:14 INFO:target drift detect: True\n",
      "d:\\anaconda\\envs\\anaconda_env\\lib\\site-packages\\xgboost\\core.py:90: UserWarning:\n",
      "\n",
      "ntree_limit is deprecated, use `iteration_range` or model slicing instead.\n",
      "\n",
      "11:55:14 INFO:data set drift detected\n",
      "11:55:14 INFO:drift detected for warehouse_ID.value\n",
      "11:55:14 INFO:drift_score : 0.8325546111576977\n",
      "11:55:14 INFO:stattest_name : Jensen-Shannon distance\n",
      "11:55:14 INFO:raw_feature_importance : 0.367506742477417\n",
      "11:55:14 INFO:relative_feature_importance : 0.16611284017562866\n",
      "11:55:14 INFO:feature_importance_weighted_drift_score : 0.13829801106072132\n",
      "11:55:15 INFO:drift detected for Product_Type.value\n",
      "11:55:15 INFO:drift_score : 0.8325546111576977\n",
      "11:55:15 INFO:stattest_name : Jensen-Shannon distance\n",
      "11:55:15 INFO:raw_feature_importance : 2.2123920917510986\n",
      "11:55:15 INFO:relative_feature_importance : 1.0\n",
      "11:55:15 INFO:feature_importance_weighted_drift_score : 0.8325546111576977\n",
      "11:55:15 INFO:drift detected for is_weekend.value\n",
      "11:55:15 INFO:drift_score : 0.8325546111576977\n",
      "11:55:15 INFO:stattest_name : Jensen-Shannon distance\n",
      "11:55:15 INFO:raw_feature_importance : 0.424989253282547\n",
      "11:55:15 INFO:relative_feature_importance : 0.19209490716457367\n",
      "11:55:15 INFO:feature_importance_weighted_drift_score : 0.15992950073977566\n",
      "11:55:15 INFO:Retraining model\n"
     ]
    },
    {
     "name": "stdout",
     "output_type": "stream",
     "text": [
      "Experiment week 44\n",
      "---------------------------------\n",
      "Experiment start date : 2019-12-23 00:00:00\n",
      "Experiment end_date : 2019-12-29 00:00:00\n"
     ]
    },
    {
     "name": "stderr",
     "output_type": "stream",
     "text": [
      "11:55:15 INFO:target drift detect: True\n",
      "d:\\anaconda\\envs\\anaconda_env\\lib\\site-packages\\xgboost\\core.py:90: UserWarning:\n",
      "\n",
      "ntree_limit is deprecated, use `iteration_range` or model slicing instead.\n",
      "\n",
      "11:55:16 INFO:data set drift detected\n",
      "11:55:16 INFO:drift detected for warehouse_ID.value\n",
      "11:55:16 INFO:drift_score : 0.8325546111576977\n",
      "11:55:16 INFO:stattest_name : Jensen-Shannon distance\n",
      "11:55:16 INFO:raw_feature_importance : 0.3704635500907898\n",
      "11:55:16 INFO:relative_feature_importance : 0.16695058345794678\n",
      "11:55:16 INFO:feature_importance_weighted_drift_score : 0.13899547809338164\n",
      "11:55:16 INFO:drift detected for Product_Type.value\n",
      "11:55:16 INFO:drift_score : 0.8325546111576977\n",
      "11:55:16 INFO:stattest_name : Jensen-Shannon distance\n",
      "11:55:16 INFO:raw_feature_importance : 2.219001293182373\n",
      "11:55:16 INFO:relative_feature_importance : 1.0\n",
      "11:55:16 INFO:feature_importance_weighted_drift_score : 0.8325546111576977\n",
      "11:55:16 INFO:drift detected for is_weekend.value\n",
      "11:55:16 INFO:drift_score : 0.8325546111576977\n",
      "11:55:16 INFO:stattest_name : Jensen-Shannon distance\n",
      "11:55:16 INFO:raw_feature_importance : 0.4293678402900696\n",
      "11:55:16 INFO:relative_feature_importance : 0.1934959888458252\n",
      "11:55:16 INFO:feature_importance_weighted_drift_score : 0.1610959777541102\n",
      "11:55:16 INFO:Retraining model\n"
     ]
    },
    {
     "name": "stdout",
     "output_type": "stream",
     "text": [
      "Experiment week 45\n",
      "---------------------------------\n",
      "Experiment start date : 2019-12-30 00:00:00\n",
      "Experiment end_date : 2020-01-05 00:00:00\n"
     ]
    },
    {
     "name": "stderr",
     "output_type": "stream",
     "text": [
      "d:\\anaconda\\envs\\anaconda_env\\lib\\site-packages\\rdt\\transformers\\categorical.py:182: UserWarning:\n",
      "\n",
      "The data contains 8 new categories that were not seen in the original data (examples: {'WH_0x3ef'}). Assigning them random values. If you want to model new categories, please fit the transformer again with the new data.\n",
      "\n",
      "d:\\anaconda\\envs\\anaconda_env\\lib\\site-packages\\rdt\\transformers\\categorical.py:182: UserWarning:\n",
      "\n",
      "The data contains 8 new categories that were not seen in the original data (examples: {'illinois'}). Assigning them random values. If you want to model new categories, please fit the transformer again with the new data.\n",
      "\n",
      "d:\\anaconda\\envs\\anaconda_env\\lib\\site-packages\\rdt\\transformers\\categorical.py:182: UserWarning:\n",
      "\n",
      "The data contains 8 new categories that were not seen in the original data (examples: {'cook'}). Assigning them random values. If you want to model new categories, please fit the transformer again with the new data.\n",
      "\n",
      "d:\\anaconda\\envs\\anaconda_env\\lib\\site-packages\\rdt\\transformers\\categorical.py:182: UserWarning:\n",
      "\n",
      "The data contains 8 new categories that were not seen in the original data (examples: {'IL'}). Assigning them random values. If you want to model new categories, please fit the transformer again with the new data.\n",
      "\n",
      "d:\\anaconda\\envs\\anaconda_env\\lib\\site-packages\\rdt\\transformers\\categorical.py:182: UserWarning:\n",
      "\n",
      "The data contains 8 new categories that were not seen in the original data (examples: {'east_north_central'}). Assigning them random values. If you want to model new categories, please fit the transformer again with the new data.\n",
      "\n",
      "d:\\anaconda\\envs\\anaconda_env\\lib\\site-packages\\rdt\\transformers\\categorical.py:182: UserWarning:\n",
      "\n",
      "The data contains 8 new categories that were not seen in the original data (examples: {'mid_west'}). Assigning them random values. If you want to model new categories, please fit the transformer again with the new data.\n",
      "\n",
      "11:55:17 INFO:target drift detect: True\n",
      "d:\\anaconda\\envs\\anaconda_env\\lib\\site-packages\\xgboost\\core.py:90: UserWarning:\n",
      "\n",
      "ntree_limit is deprecated, use `iteration_range` or model slicing instead.\n",
      "\n",
      "11:55:17 INFO:data set drift detected\n",
      "11:55:17 INFO:drift detected for warehouse_ID.value\n",
      "11:55:17 INFO:drift_score : 0.8325546111576977\n",
      "11:55:17 INFO:stattest_name : Jensen-Shannon distance\n",
      "11:55:17 INFO:raw_feature_importance : 0.3612388074398041\n",
      "11:55:17 INFO:relative_feature_importance : 0.17131035029888153\n",
      "11:55:17 INFO:feature_importance_weighted_drift_score : 0.1426252220803743\n",
      "11:55:17 INFO:drift detected for Product_Type.value\n",
      "11:55:17 INFO:drift_score : 0.8325546111576977\n",
      "11:55:17 INFO:stattest_name : Jensen-Shannon distance\n",
      "11:55:17 INFO:raw_feature_importance : 2.108680486679077\n",
      "11:55:17 INFO:relative_feature_importance : 1.0\n",
      "11:55:17 INFO:feature_importance_weighted_drift_score : 0.8325546111576977\n",
      "11:55:17 INFO:drift detected for is_weekend.value\n",
      "11:55:17 INFO:drift_score : 0.8325546111576977\n",
      "11:55:17 INFO:stattest_name : Jensen-Shannon distance\n",
      "11:55:17 INFO:raw_feature_importance : 0.38893741369247437\n",
      "11:55:17 INFO:relative_feature_importance : 0.18444587290287018\n",
      "11:55:17 INFO:feature_importance_weighted_drift_score : 0.1535612619942912\n",
      "11:55:17 INFO:Retraining model\n"
     ]
    },
    {
     "name": "stdout",
     "output_type": "stream",
     "text": [
      "Experiment week 46\n",
      "---------------------------------\n",
      "Experiment start date : 2020-01-06 00:00:00\n",
      "Experiment end_date : 2020-01-12 00:00:00\n"
     ]
    },
    {
     "name": "stderr",
     "output_type": "stream",
     "text": [
      "11:55:18 INFO:target drift detect: True\n",
      "d:\\anaconda\\envs\\anaconda_env\\lib\\site-packages\\xgboost\\core.py:90: UserWarning:\n",
      "\n",
      "ntree_limit is deprecated, use `iteration_range` or model slicing instead.\n",
      "\n",
      "11:55:18 INFO:data set drift detected\n",
      "11:55:18 INFO:drift detected for warehouse_ID.value\n",
      "11:55:18 INFO:drift_score : 0.8325546111576978\n",
      "11:55:18 INFO:stattest_name : Jensen-Shannon distance\n",
      "11:55:18 INFO:raw_feature_importance : 0.31867000460624695\n",
      "11:55:18 INFO:relative_feature_importance : 0.15634408593177795\n",
      "11:55:18 INFO:feature_importance_weighted_drift_score : 0.13016498966973708\n",
      "11:55:18 INFO:drift detected for Product_Type.value\n",
      "11:55:18 INFO:drift_score : 0.8325546111576977\n",
      "11:55:18 INFO:stattest_name : Jensen-Shannon distance\n",
      "11:55:18 INFO:raw_feature_importance : 2.0382606983184814\n",
      "11:55:18 INFO:relative_feature_importance : 1.0\n",
      "11:55:18 INFO:feature_importance_weighted_drift_score : 0.8325546111576977\n",
      "11:55:18 INFO:drift detected for is_weekend.value\n",
      "11:55:18 INFO:drift_score : 0.8325546111576977\n",
      "11:55:18 INFO:stattest_name : Jensen-Shannon distance\n",
      "11:55:18 INFO:raw_feature_importance : 0.37884652614593506\n",
      "11:55:18 INFO:relative_feature_importance : 0.1858675479888916\n",
      "11:55:18 INFO:feature_importance_weighted_drift_score : 0.15474488414272636\n",
      "11:55:18 INFO:Retraining model\n"
     ]
    },
    {
     "name": "stdout",
     "output_type": "stream",
     "text": [
      "Experiment week 47\n",
      "---------------------------------\n",
      "Experiment start date : 2020-01-13 00:00:00\n",
      "Experiment end_date : 2020-01-19 00:00:00\n"
     ]
    },
    {
     "name": "stderr",
     "output_type": "stream",
     "text": [
      "11:55:19 INFO:target drift detect: True\n",
      "d:\\anaconda\\envs\\anaconda_env\\lib\\site-packages\\xgboost\\core.py:90: UserWarning:\n",
      "\n",
      "ntree_limit is deprecated, use `iteration_range` or model slicing instead.\n",
      "\n",
      "11:55:19 INFO:data set drift detected\n",
      "11:55:19 INFO:drift detected for warehouse_ID.value\n",
      "11:55:19 INFO:drift_score : 0.8325546111576978\n",
      "11:55:19 INFO:stattest_name : Jensen-Shannon distance\n",
      "11:55:19 INFO:raw_feature_importance : 0.3291347920894623\n",
      "11:55:19 INFO:relative_feature_importance : 0.1612783670425415\n",
      "11:55:19 INFO:feature_importance_weighted_drift_score : 0.1342730481612516\n",
      "11:55:19 INFO:drift detected for Product_Type.value\n",
      "11:55:19 INFO:drift_score : 0.8325546111576977\n",
      "11:55:19 INFO:stattest_name : Jensen-Shannon distance\n",
      "11:55:19 INFO:raw_feature_importance : 2.0407869815826416\n",
      "11:55:19 INFO:relative_feature_importance : 1.0\n",
      "11:55:19 INFO:feature_importance_weighted_drift_score : 0.8325546111576977\n",
      "11:55:19 INFO:drift detected for is_weekend.value\n",
      "11:55:19 INFO:drift_score : 0.8325546111576977\n",
      "11:55:19 INFO:stattest_name : Jensen-Shannon distance\n",
      "11:55:19 INFO:raw_feature_importance : 0.37300196290016174\n",
      "11:55:19 INFO:relative_feature_importance : 0.18277359008789062\n",
      "11:55:19 INFO:feature_importance_weighted_drift_score : 0.15216899522552021\n",
      "11:55:20 INFO:Retraining model\n"
     ]
    },
    {
     "name": "stdout",
     "output_type": "stream",
     "text": [
      "Experiment week 48\n",
      "---------------------------------\n",
      "Experiment start date : 2020-01-20 00:00:00\n",
      "Experiment end_date : 2020-01-26 00:00:00\n"
     ]
    },
    {
     "name": "stderr",
     "output_type": "stream",
     "text": [
      "11:55:20 INFO:target drift detect: True\n",
      "d:\\anaconda\\envs\\anaconda_env\\lib\\site-packages\\xgboost\\core.py:90: UserWarning:\n",
      "\n",
      "ntree_limit is deprecated, use `iteration_range` or model slicing instead.\n",
      "\n",
      "11:55:20 INFO:data set drift detected\n",
      "11:55:21 INFO:drift detected for warehouse_ID.value\n",
      "11:55:21 INFO:drift_score : 0.8325546111576978\n",
      "11:55:21 INFO:stattest_name : Jensen-Shannon distance\n",
      "11:55:21 INFO:raw_feature_importance : 0.3304557502269745\n",
      "11:55:21 INFO:relative_feature_importance : 0.16233257949352264\n",
      "11:55:21 INFO:feature_importance_weighted_drift_score : 0.1351507375984558\n",
      "11:55:21 INFO:drift detected for Product_Type.value\n",
      "11:55:21 INFO:drift_score : 0.8325546111576977\n",
      "11:55:21 INFO:stattest_name : Jensen-Shannon distance\n",
      "11:55:21 INFO:raw_feature_importance : 2.0356712341308594\n",
      "11:55:21 INFO:relative_feature_importance : 1.0\n",
      "11:55:21 INFO:feature_importance_weighted_drift_score : 0.8325546111576977\n",
      "11:55:21 INFO:drift detected for is_weekend.value\n",
      "11:55:21 INFO:drift_score : 0.8325546111576977\n",
      "11:55:21 INFO:stattest_name : Jensen-Shannon distance\n",
      "11:55:21 INFO:raw_feature_importance : 0.37734729051589966\n",
      "11:55:21 INFO:relative_feature_importance : 0.18536749482154846\n",
      "11:55:21 INFO:feature_importance_weighted_drift_score : 0.15432856257243083\n",
      "11:55:21 INFO:Retraining model\n"
     ]
    },
    {
     "name": "stdout",
     "output_type": "stream",
     "text": [
      "Experiment week 49\n",
      "---------------------------------\n",
      "Experiment start date : 2020-01-27 00:00:00\n",
      "Experiment end_date : 2020-02-02 00:00:00\n"
     ]
    },
    {
     "name": "stderr",
     "output_type": "stream",
     "text": [
      "d:\\anaconda\\envs\\anaconda_env\\lib\\site-packages\\rdt\\transformers\\categorical.py:182: UserWarning:\n",
      "\n",
      "The data contains 2 new categories that were not seen in the original data (examples: {'WH_0x3f1'}). Assigning them random values. If you want to model new categories, please fit the transformer again with the new data.\n",
      "\n",
      "d:\\anaconda\\envs\\anaconda_env\\lib\\site-packages\\rdt\\transformers\\categorical.py:182: UserWarning:\n",
      "\n",
      "The data contains 2 new categories that were not seen in the original data (examples: {'idaho'}). Assigning them random values. If you want to model new categories, please fit the transformer again with the new data.\n",
      "\n",
      "d:\\anaconda\\envs\\anaconda_env\\lib\\site-packages\\rdt\\transformers\\categorical.py:182: UserWarning:\n",
      "\n",
      "The data contains 2 new categories that were not seen in the original data (examples: {'boundary'}). Assigning them random values. If you want to model new categories, please fit the transformer again with the new data.\n",
      "\n",
      "d:\\anaconda\\envs\\anaconda_env\\lib\\site-packages\\rdt\\transformers\\categorical.py:182: UserWarning:\n",
      "\n",
      "The data contains 2 new categories that were not seen in the original data (examples: {'ID'}). Assigning them random values. If you want to model new categories, please fit the transformer again with the new data.\n",
      "\n",
      "11:55:21 INFO:target drift detect: True\n",
      "d:\\anaconda\\envs\\anaconda_env\\lib\\site-packages\\xgboost\\core.py:90: UserWarning:\n",
      "\n",
      "ntree_limit is deprecated, use `iteration_range` or model slicing instead.\n",
      "\n",
      "11:55:21 INFO:data set drift detected\n",
      "11:55:22 INFO:drift detected for warehouse_ID.value\n",
      "11:55:22 INFO:drift_score : 0.8325546111576978\n",
      "11:55:22 INFO:stattest_name : Jensen-Shannon distance\n",
      "11:55:22 INFO:raw_feature_importance : 0.3425765633583069\n",
      "11:55:22 INFO:relative_feature_importance : 0.16491085290908813\n",
      "11:55:22 INFO:feature_importance_weighted_drift_score : 0.13729729101941016\n",
      "11:55:22 INFO:drift detected for Product_Type.value\n",
      "11:55:22 INFO:drift_score : 0.8325546111576977\n",
      "11:55:22 INFO:stattest_name : Jensen-Shannon distance\n",
      "11:55:22 INFO:raw_feature_importance : 2.0773439407348633\n",
      "11:55:22 INFO:relative_feature_importance : 1.0\n",
      "11:55:22 INFO:feature_importance_weighted_drift_score : 0.8325546111576977\n",
      "11:55:22 INFO:drift detected for is_weekend.value\n",
      "11:55:22 INFO:drift_score : 0.8325546111576977\n",
      "11:55:22 INFO:stattest_name : Jensen-Shannon distance\n",
      "11:55:22 INFO:raw_feature_importance : 0.37026000022888184\n",
      "11:55:22 INFO:relative_feature_importance : 0.1782372146844864\n",
      "11:55:22 INFO:feature_importance_weighted_drift_score : 0.14839221496547364\n",
      "11:55:22 INFO:Retraining model\n"
     ]
    },
    {
     "name": "stdout",
     "output_type": "stream",
     "text": [
      "Experiment week 50\n",
      "---------------------------------\n",
      "Experiment start date : 2020-02-03 00:00:00\n",
      "Experiment end_date : 2020-02-09 00:00:00\n"
     ]
    },
    {
     "name": "stderr",
     "output_type": "stream",
     "text": [
      "11:55:23 INFO:target drift detect: True\n",
      "d:\\anaconda\\envs\\anaconda_env\\lib\\site-packages\\xgboost\\core.py:90: UserWarning:\n",
      "\n",
      "ntree_limit is deprecated, use `iteration_range` or model slicing instead.\n",
      "\n",
      "11:55:23 INFO:data set drift detected\n",
      "11:55:23 INFO:drift detected for warehouse_ID.value\n",
      "11:55:23 INFO:drift_score : 0.8325546111576977\n",
      "11:55:23 INFO:stattest_name : Jensen-Shannon distance\n",
      "11:55:23 INFO:raw_feature_importance : 0.31328216195106506\n",
      "11:55:23 INFO:relative_feature_importance : 0.15259046852588654\n",
      "11:55:23 INFO:feature_importance_weighted_drift_score : 0.12703989818994038\n",
      "11:55:23 INFO:drift detected for Product_Type.value\n",
      "11:55:23 INFO:drift_score : 0.8325546111576977\n",
      "11:55:23 INFO:stattest_name : Jensen-Shannon distance\n",
      "11:55:23 INFO:raw_feature_importance : 2.053091287612915\n",
      "11:55:23 INFO:relative_feature_importance : 1.0\n",
      "11:55:23 INFO:feature_importance_weighted_drift_score : 0.8325546111576977\n",
      "11:55:23 INFO:drift detected for is_weekend.value\n",
      "11:55:23 INFO:drift_score : 0.8325546111576977\n",
      "11:55:23 INFO:stattest_name : Jensen-Shannon distance\n",
      "11:55:23 INFO:raw_feature_importance : 0.37978726625442505\n",
      "11:55:23 INFO:relative_feature_importance : 0.18498313426971436\n",
      "11:55:23 INFO:feature_importance_weighted_drift_score : 0.1540085614226542\n",
      "11:55:23 INFO:Retraining model\n"
     ]
    },
    {
     "name": "stdout",
     "output_type": "stream",
     "text": [
      "Experiment week 51\n",
      "---------------------------------\n",
      "Experiment start date : 2020-02-10 00:00:00\n",
      "Experiment end_date : 2020-02-16 00:00:00\n"
     ]
    },
    {
     "name": "stderr",
     "output_type": "stream",
     "text": [
      "11:55:24 INFO:target drift detect: True\n",
      "d:\\anaconda\\envs\\anaconda_env\\lib\\site-packages\\xgboost\\core.py:90: UserWarning:\n",
      "\n",
      "ntree_limit is deprecated, use `iteration_range` or model slicing instead.\n",
      "\n",
      "11:55:24 INFO:data set drift detected\n",
      "11:55:24 INFO:drift detected for warehouse_ID.value\n",
      "11:55:24 INFO:drift_score : 0.8325546111576977\n",
      "11:55:24 INFO:stattest_name : Jensen-Shannon distance\n",
      "11:55:24 INFO:raw_feature_importance : 0.33632272481918335\n",
      "11:55:24 INFO:relative_feature_importance : 0.16537263989448547\n",
      "11:55:24 INFO:feature_importance_weighted_drift_score : 0.1376817539034753\n",
      "11:55:24 INFO:drift detected for Product_Type.value\n",
      "11:55:24 INFO:drift_score : 0.8325546111576977\n",
      "11:55:24 INFO:stattest_name : Jensen-Shannon distance\n",
      "11:55:24 INFO:raw_feature_importance : 2.033726453781128\n",
      "11:55:24 INFO:relative_feature_importance : 1.0\n",
      "11:55:24 INFO:feature_importance_weighted_drift_score : 0.8325546111576977\n",
      "11:55:24 INFO:drift detected for is_weekend.value\n",
      "11:55:24 INFO:drift_score : 0.8325546111576977\n",
      "11:55:24 INFO:stattest_name : Jensen-Shannon distance\n",
      "11:55:24 INFO:raw_feature_importance : 0.37284156680107117\n",
      "11:55:24 INFO:relative_feature_importance : 0.1833292543888092\n",
      "11:55:24 INFO:feature_importance_weighted_drift_score : 0.1526316161015057\n",
      "11:55:25 INFO:Retraining model\n"
     ]
    },
    {
     "name": "stdout",
     "output_type": "stream",
     "text": [
      "Experiment week 52\n",
      "---------------------------------\n",
      "Experiment start date : 2020-02-17 00:00:00\n",
      "Experiment end_date : 2020-02-23 00:00:00\n"
     ]
    },
    {
     "name": "stderr",
     "output_type": "stream",
     "text": [
      "11:55:25 INFO:target drift detect: True\n",
      "d:\\anaconda\\envs\\anaconda_env\\lib\\site-packages\\xgboost\\core.py:90: UserWarning:\n",
      "\n",
      "ntree_limit is deprecated, use `iteration_range` or model slicing instead.\n",
      "\n",
      "11:55:25 INFO:data set drift detected\n",
      "11:55:25 INFO:drift detected for warehouse_ID.value\n",
      "11:55:25 INFO:drift_score : 0.8325546111576977\n",
      "11:55:25 INFO:stattest_name : Jensen-Shannon distance\n",
      "11:55:25 INFO:raw_feature_importance : 0.33754855394363403\n",
      "11:55:25 INFO:relative_feature_importance : 0.16581329703330994\n",
      "11:55:25 INFO:feature_importance_weighted_drift_score : 0.1380486250363432\n",
      "11:55:26 INFO:drift detected for Product_Type.value\n",
      "11:55:26 INFO:drift_score : 0.8325546111576977\n",
      "11:55:26 INFO:stattest_name : Jensen-Shannon distance\n",
      "11:55:26 INFO:raw_feature_importance : 2.035714626312256\n",
      "11:55:26 INFO:relative_feature_importance : 1.0\n",
      "11:55:26 INFO:feature_importance_weighted_drift_score : 0.8325546111576977\n",
      "11:55:26 INFO:drift detected for is_weekend.value\n",
      "11:55:26 INFO:drift_score : 0.8325546111576977\n",
      "11:55:26 INFO:stattest_name : Jensen-Shannon distance\n",
      "11:55:26 INFO:raw_feature_importance : 0.3718702495098114\n",
      "11:55:26 INFO:relative_feature_importance : 0.18267308175563812\n",
      "11:55:26 INFO:feature_importance_weighted_drift_score : 0.15208531655004362\n",
      "11:55:26 INFO:Retraining model\n"
     ]
    },
    {
     "name": "stdout",
     "output_type": "stream",
     "text": [
      "Experiment week 53\n",
      "---------------------------------\n",
      "Experiment start date : 2020-02-24 00:00:00\n",
      "Experiment end_date : 2020-03-01 00:00:00\n"
     ]
    },
    {
     "name": "stderr",
     "output_type": "stream",
     "text": [
      "11:55:26 INFO:target drift detect: True\n",
      "d:\\anaconda\\envs\\anaconda_env\\lib\\site-packages\\xgboost\\core.py:90: UserWarning:\n",
      "\n",
      "ntree_limit is deprecated, use `iteration_range` or model slicing instead.\n",
      "\n",
      "11:55:26 INFO:data set drift detected\n",
      "11:55:27 INFO:drift detected for warehouse_ID.value\n",
      "11:55:27 INFO:drift_score : 0.8325546111576977\n",
      "11:55:27 INFO:stattest_name : Jensen-Shannon distance\n",
      "11:55:27 INFO:raw_feature_importance : 0.35129645466804504\n",
      "11:55:27 INFO:relative_feature_importance : 0.16805998980998993\n",
      "11:55:27 INFO:feature_importance_weighted_drift_score : 0.1399191194674228\n",
      "11:55:27 INFO:drift detected for Product_Type.value\n",
      "11:55:27 INFO:drift_score : 0.8325546111576977\n",
      "11:55:27 INFO:stattest_name : Jensen-Shannon distance\n",
      "11:55:27 INFO:raw_feature_importance : 2.090303897857666\n",
      "11:55:27 INFO:relative_feature_importance : 1.0\n",
      "11:55:27 INFO:feature_importance_weighted_drift_score : 0.8325546111576977\n",
      "11:55:27 INFO:drift detected for is_weekend.value\n",
      "11:55:27 INFO:drift_score : 0.8325546111576977\n",
      "11:55:27 INFO:stattest_name : Jensen-Shannon distance\n",
      "11:55:27 INFO:raw_feature_importance : 0.38303908705711365\n",
      "11:55:27 INFO:relative_feature_importance : 0.18324564397335052\n",
      "11:55:27 INFO:feature_importance_weighted_drift_score : 0.15256200586457475\n",
      "11:55:27 INFO:Retraining model\n"
     ]
    },
    {
     "name": "stdout",
     "output_type": "stream",
     "text": [
      "Experiment week 54\n",
      "---------------------------------\n",
      "Experiment start date : 2020-03-02 00:00:00\n",
      "Experiment end_date : 2020-03-08 00:00:00\n"
     ]
    },
    {
     "name": "stderr",
     "output_type": "stream",
     "text": [
      "11:55:28 INFO:target drift detect: True\n",
      "d:\\anaconda\\envs\\anaconda_env\\lib\\site-packages\\xgboost\\core.py:90: UserWarning:\n",
      "\n",
      "ntree_limit is deprecated, use `iteration_range` or model slicing instead.\n",
      "\n",
      "11:55:28 INFO:data set drift detected\n",
      "11:55:28 INFO:drift detected for warehouse_ID.value\n",
      "11:55:28 INFO:drift_score : 0.8325546111576977\n",
      "11:55:28 INFO:stattest_name : Jensen-Shannon distance\n",
      "11:55:28 INFO:raw_feature_importance : 0.35902565717697144\n",
      "11:55:28 INFO:relative_feature_importance : 0.15867914259433746\n",
      "11:55:28 INFO:feature_importance_weighted_drift_score : 0.1321090518614655\n",
      "11:55:28 INFO:drift detected for Product_Type.value\n",
      "11:55:28 INFO:drift_score : 0.8325546111576977\n",
      "11:55:28 INFO:stattest_name : Jensen-Shannon distance\n",
      "11:55:28 INFO:raw_feature_importance : 2.2625887393951416\n",
      "11:55:28 INFO:relative_feature_importance : 1.0\n",
      "11:55:28 INFO:feature_importance_weighted_drift_score : 0.8325546111576977\n",
      "11:55:28 INFO:drift detected for is_weekend.value\n",
      "11:55:28 INFO:drift_score : 0.8325546111576977\n",
      "11:55:28 INFO:stattest_name : Jensen-Shannon distance\n",
      "11:55:28 INFO:raw_feature_importance : 0.4168682396411896\n",
      "11:55:28 INFO:relative_feature_importance : 0.18424393236637115\n",
      "11:55:28 INFO:feature_importance_weighted_drift_score : 0.1533931354694493\n",
      "11:55:28 INFO:Retraining model\n"
     ]
    },
    {
     "name": "stdout",
     "output_type": "stream",
     "text": [
      "Experiment week 55\n",
      "---------------------------------\n",
      "Experiment start date : 2020-03-09 00:00:00\n",
      "Experiment end_date : 2020-03-15 00:00:00\n"
     ]
    },
    {
     "name": "stderr",
     "output_type": "stream",
     "text": [
      "11:55:29 INFO:target drift detect: True\n",
      "d:\\anaconda\\envs\\anaconda_env\\lib\\site-packages\\xgboost\\core.py:90: UserWarning:\n",
      "\n",
      "ntree_limit is deprecated, use `iteration_range` or model slicing instead.\n",
      "\n",
      "11:55:29 INFO:data set drift detected\n",
      "11:55:29 INFO:drift detected for warehouse_ID.value\n",
      "11:55:29 INFO:drift_score : 0.8325546111576977\n",
      "11:55:29 INFO:stattest_name : Jensen-Shannon distance\n",
      "11:55:29 INFO:raw_feature_importance : 0.35871705412864685\n",
      "11:55:29 INFO:relative_feature_importance : 0.15878792107105255\n",
      "11:55:29 INFO:feature_importance_weighted_drift_score : 0.13219961588384935\n",
      "11:55:29 INFO:drift detected for Product_Type.value\n",
      "11:55:29 INFO:drift_score : 0.8325546111576977\n",
      "11:55:29 INFO:stattest_name : Jensen-Shannon distance\n",
      "11:55:29 INFO:raw_feature_importance : 2.2590954303741455\n",
      "11:55:29 INFO:relative_feature_importance : 1.0\n",
      "11:55:29 INFO:feature_importance_weighted_drift_score : 0.8325546111576977\n",
      "11:55:29 INFO:drift detected for is_weekend.value\n",
      "11:55:29 INFO:drift_score : 0.8325546111576977\n",
      "11:55:29 INFO:stattest_name : Jensen-Shannon distance\n",
      "11:55:29 INFO:raw_feature_importance : 0.41096988320350647\n",
      "11:55:29 INFO:relative_feature_importance : 0.18191789090633392\n",
      "11:55:29 INFO:feature_importance_weighted_drift_score : 0.1514565789261513\n",
      "11:55:29 INFO:Retraining model\n"
     ]
    },
    {
     "name": "stdout",
     "output_type": "stream",
     "text": [
      "Experiment week 56\n",
      "---------------------------------\n",
      "Experiment start date : 2020-03-16 00:00:00\n",
      "Experiment end_date : 2020-03-22 00:00:00\n"
     ]
    },
    {
     "name": "stderr",
     "output_type": "stream",
     "text": [
      "d:\\anaconda\\envs\\anaconda_env\\lib\\site-packages\\rdt\\transformers\\categorical.py:182: UserWarning:\n",
      "\n",
      "The data contains 1 new categories that were not seen in the original data (examples: {'Yes'}). Assigning them random values. If you want to model new categories, please fit the transformer again with the new data.\n",
      "\n",
      "11:55:30 INFO:target drift detect: True\n",
      "d:\\anaconda\\envs\\anaconda_env\\lib\\site-packages\\xgboost\\core.py:90: UserWarning:\n",
      "\n",
      "ntree_limit is deprecated, use `iteration_range` or model slicing instead.\n",
      "\n",
      "11:55:30 INFO:data set drift detected\n",
      "11:55:30 INFO:drift detected for warehouse_ID.value\n",
      "11:55:30 INFO:drift_score : 0.8325546111576977\n",
      "11:55:30 INFO:stattest_name : Jensen-Shannon distance\n",
      "11:55:30 INFO:raw_feature_importance : 0.36079540848731995\n",
      "11:55:30 INFO:relative_feature_importance : 0.15857675671577454\n",
      "11:55:30 INFO:feature_importance_weighted_drift_score : 0.1320238100261505\n",
      "11:55:30 INFO:drift detected for Product_Type.value\n",
      "11:55:30 INFO:drift_score : 0.8325546111576977\n",
      "11:55:30 INFO:stattest_name : Jensen-Shannon distance\n",
      "11:55:31 INFO:raw_feature_importance : 2.275209903717041\n",
      "11:55:31 INFO:relative_feature_importance : 1.0\n",
      "11:55:31 INFO:feature_importance_weighted_drift_score : 0.8325546111576977\n",
      "11:55:31 INFO:drift detected for is_weekend.value\n",
      "11:55:31 INFO:drift_score : 0.8325546111576977\n",
      "11:55:31 INFO:stattest_name : Jensen-Shannon distance\n",
      "11:55:31 INFO:raw_feature_importance : 0.40913060307502747\n",
      "11:55:31 INFO:relative_feature_importance : 0.17982102930545807\n",
      "11:55:31 INFO:feature_importance_weighted_drift_score : 0.1497108271313826\n",
      "11:55:31 INFO:Retraining model\n"
     ]
    },
    {
     "name": "stdout",
     "output_type": "stream",
     "text": [
      "Experiment week 57\n",
      "---------------------------------\n",
      "Experiment start date : 2020-03-23 00:00:00\n",
      "Experiment end_date : 2020-03-29 00:00:00\n"
     ]
    },
    {
     "name": "stderr",
     "output_type": "stream",
     "text": [
      "11:55:31 INFO:target drift detect: True\n",
      "d:\\anaconda\\envs\\anaconda_env\\lib\\site-packages\\xgboost\\core.py:90: UserWarning:\n",
      "\n",
      "ntree_limit is deprecated, use `iteration_range` or model slicing instead.\n",
      "\n",
      "11:55:32 INFO:data set drift detected\n",
      "11:55:32 INFO:drift detected for warehouse_ID.value\n",
      "11:55:32 INFO:drift_score : 0.8325546111576977\n",
      "11:55:32 INFO:stattest_name : Jensen-Shannon distance\n",
      "11:55:32 INFO:raw_feature_importance : 0.35402682423591614\n",
      "11:55:32 INFO:relative_feature_importance : 0.15476156771183014\n",
      "11:55:32 INFO:feature_importance_weighted_drift_score : 0.12884745682847845\n",
      "11:55:32 INFO:drift detected for Product_Type.value\n",
      "11:55:32 INFO:drift_score : 0.8325546111576977\n",
      "11:55:32 INFO:stattest_name : Jensen-Shannon distance\n",
      "11:55:32 INFO:raw_feature_importance : 2.287562847137451\n",
      "11:55:32 INFO:relative_feature_importance : 1.0\n",
      "11:55:32 INFO:feature_importance_weighted_drift_score : 0.8325546111576977\n",
      "11:55:32 INFO:drift detected for is_weekend.value\n",
      "11:55:32 INFO:drift_score : 0.8325546111576977\n",
      "11:55:32 INFO:stattest_name : Jensen-Shannon distance\n",
      "11:55:32 INFO:raw_feature_importance : 0.42077651619911194\n",
      "11:55:32 INFO:relative_feature_importance : 0.18394096195697784\n",
      "11:55:32 INFO:feature_importance_weighted_drift_score : 0.15314089605806455\n",
      "11:55:32 INFO:Retraining model\n"
     ]
    },
    {
     "name": "stdout",
     "output_type": "stream",
     "text": [
      "Experiment week 58\n",
      "---------------------------------\n",
      "Experiment start date : 2020-03-30 00:00:00\n",
      "Experiment end_date : 2020-04-05 00:00:00\n"
     ]
    },
    {
     "name": "stderr",
     "output_type": "stream",
     "text": [
      "11:55:33 INFO:target drift detect: True\n",
      "d:\\anaconda\\envs\\anaconda_env\\lib\\site-packages\\xgboost\\core.py:90: UserWarning:\n",
      "\n",
      "ntree_limit is deprecated, use `iteration_range` or model slicing instead.\n",
      "\n",
      "11:55:33 INFO:data set drift detected\n",
      "11:55:33 INFO:drift detected for warehouse_ID.value\n",
      "11:55:33 INFO:drift_score : 0.8325546111576977\n",
      "11:55:33 INFO:stattest_name : Jensen-Shannon distance\n",
      "11:55:33 INFO:raw_feature_importance : 0.37765663862228394\n",
      "11:55:33 INFO:relative_feature_importance : 0.15807397663593292\n",
      "11:55:33 INFO:feature_importance_weighted_drift_score : 0.13160521815228013\n",
      "11:55:33 INFO:drift detected for Product_Type.value\n",
      "11:55:33 INFO:drift_score : 0.8325546111576977\n",
      "11:55:33 INFO:stattest_name : Jensen-Shannon distance\n",
      "11:55:33 INFO:raw_feature_importance : 2.389113187789917\n",
      "11:55:33 INFO:relative_feature_importance : 1.0\n",
      "11:55:33 INFO:feature_importance_weighted_drift_score : 0.8325546111576977\n",
      "11:55:33 INFO:drift detected for is_weekend.value\n",
      "11:55:33 INFO:drift_score : 0.8325546111576977\n",
      "11:55:33 INFO:stattest_name : Jensen-Shannon distance\n",
      "11:55:33 INFO:raw_feature_importance : 0.440380334854126\n",
      "11:55:33 INFO:relative_feature_importance : 0.18432794511318207\n",
      "11:55:33 INFO:feature_importance_weighted_drift_score : 0.15346308066920275\n",
      "11:55:34 INFO:Retraining model\n"
     ]
    },
    {
     "name": "stdout",
     "output_type": "stream",
     "text": [
      "Experiment week 59\n",
      "---------------------------------\n",
      "Experiment start date : 2020-04-06 00:00:00\n",
      "Experiment end_date : 2020-04-12 00:00:00\n"
     ]
    },
    {
     "name": "stderr",
     "output_type": "stream",
     "text": [
      "11:55:34 INFO:target drift detect: True\n",
      "d:\\anaconda\\envs\\anaconda_env\\lib\\site-packages\\xgboost\\core.py:90: UserWarning:\n",
      "\n",
      "ntree_limit is deprecated, use `iteration_range` or model slicing instead.\n",
      "\n",
      "11:55:34 INFO:data set drift detected\n",
      "11:55:35 INFO:drift detected for warehouse_ID.value\n",
      "11:55:35 INFO:drift_score : 0.8325546111576977\n",
      "11:55:35 INFO:stattest_name : Jensen-Shannon distance\n",
      "11:55:35 INFO:raw_feature_importance : 0.4005674719810486\n",
      "11:55:35 INFO:relative_feature_importance : 0.16593782603740692\n",
      "11:55:35 INFO:feature_importance_weighted_drift_score : 0.13815230223292702\n",
      "11:55:35 INFO:drift detected for Product_Type.value\n",
      "11:55:35 INFO:drift_score : 0.8325546111576977\n",
      "11:55:35 INFO:stattest_name : Jensen-Shannon distance\n",
      "11:55:35 INFO:raw_feature_importance : 2.413961172103882\n",
      "11:55:35 INFO:relative_feature_importance : 1.0\n",
      "11:55:35 INFO:feature_importance_weighted_drift_score : 0.8325546111576977\n",
      "11:55:35 INFO:drift detected for is_weekend.value\n",
      "11:55:35 INFO:drift_score : 0.8325546111576977\n",
      "11:55:35 INFO:stattest_name : Jensen-Shannon distance\n",
      "11:55:35 INFO:raw_feature_importance : 0.45232653617858887\n",
      "11:55:35 INFO:relative_feature_importance : 0.1873793751001358\n",
      "11:55:35 INFO:feature_importance_weighted_drift_score : 0.15600356277546595\n",
      "11:55:35 INFO:Retraining model\n"
     ]
    },
    {
     "name": "stdout",
     "output_type": "stream",
     "text": [
      "Experiment week 60\n",
      "---------------------------------\n",
      "Experiment start date : 2020-04-13 00:00:00\n",
      "Experiment end_date : 2020-04-19 00:00:00\n"
     ]
    },
    {
     "name": "stderr",
     "output_type": "stream",
     "text": [
      "11:55:35 INFO:target drift detect: True\n",
      "d:\\anaconda\\envs\\anaconda_env\\lib\\site-packages\\xgboost\\core.py:90: UserWarning:\n",
      "\n",
      "ntree_limit is deprecated, use `iteration_range` or model slicing instead.\n",
      "\n",
      "11:55:35 INFO:data set drift detected\n",
      "11:55:36 INFO:drift detected for warehouse_ID.value\n",
      "11:55:36 INFO:drift_score : 0.8325546111576977\n",
      "11:55:36 INFO:stattest_name : Jensen-Shannon distance\n",
      "11:55:36 INFO:raw_feature_importance : 0.40023142099380493\n",
      "11:55:36 INFO:relative_feature_importance : 0.165744811296463\n",
      "11:55:36 INFO:feature_importance_weighted_drift_score : 0.13799160692033274\n",
      "11:55:36 INFO:drift detected for Product_Type.value\n",
      "11:55:36 INFO:drift_score : 0.8325546111576977\n",
      "11:55:36 INFO:stattest_name : Jensen-Shannon distance\n",
      "11:55:36 INFO:raw_feature_importance : 2.4147448539733887\n",
      "11:55:36 INFO:relative_feature_importance : 1.0\n",
      "11:55:36 INFO:feature_importance_weighted_drift_score : 0.8325546111576977\n",
      "11:55:36 INFO:drift detected for is_weekend.value\n",
      "11:55:36 INFO:drift_score : 0.8325546111576977\n",
      "11:55:36 INFO:stattest_name : Jensen-Shannon distance\n",
      "11:55:36 INFO:raw_feature_importance : 0.4507758617401123\n",
      "11:55:36 INFO:relative_feature_importance : 0.18667639791965485\n",
      "11:55:36 INFO:feature_importance_weighted_drift_score : 0.1554182958823179\n",
      "11:55:36 INFO:Retraining model\n"
     ]
    },
    {
     "name": "stdout",
     "output_type": "stream",
     "text": [
      "Experiment week 61\n",
      "---------------------------------\n",
      "Experiment start date : 2020-04-20 00:00:00\n",
      "Experiment end_date : 2020-04-26 00:00:00\n"
     ]
    },
    {
     "name": "stderr",
     "output_type": "stream",
     "text": [
      "11:55:37 INFO:target drift detect: True\n",
      "d:\\anaconda\\envs\\anaconda_env\\lib\\site-packages\\xgboost\\core.py:90: UserWarning:\n",
      "\n",
      "ntree_limit is deprecated, use `iteration_range` or model slicing instead.\n",
      "\n",
      "11:55:37 INFO:data set drift detected\n",
      "11:55:37 INFO:drift detected for warehouse_ID.value\n",
      "11:55:37 INFO:drift_score : 0.8325546111576977\n",
      "11:55:37 INFO:stattest_name : Jensen-Shannon distance\n",
      "11:55:37 INFO:raw_feature_importance : 0.39958906173706055\n",
      "11:55:37 INFO:relative_feature_importance : 0.16526058316230774\n",
      "11:55:37 INFO:feature_importance_weighted_drift_score : 0.13758846055438947\n",
      "11:55:37 INFO:drift detected for Product_Type.value\n",
      "11:55:37 INFO:drift_score : 0.8325546111576977\n",
      "11:55:37 INFO:stattest_name : Jensen-Shannon distance\n",
      "11:55:37 INFO:raw_feature_importance : 2.417933225631714\n",
      "11:55:37 INFO:relative_feature_importance : 1.0\n",
      "11:55:37 INFO:feature_importance_weighted_drift_score : 0.8325546111576977\n",
      "11:55:37 INFO:drift detected for is_weekend.value\n",
      "11:55:37 INFO:drift_score : 0.8325546111576977\n",
      "11:55:37 INFO:stattest_name : Jensen-Shannon distance\n",
      "11:55:37 INFO:raw_feature_importance : 0.45331165194511414\n",
      "11:55:37 INFO:relative_feature_importance : 0.18747897446155548\n",
      "11:55:37 INFO:feature_importance_weighted_drift_score : 0.15608648468308425\n",
      "11:55:37 INFO:Retraining model\n"
     ]
    },
    {
     "name": "stdout",
     "output_type": "stream",
     "text": [
      "Experiment week 62\n",
      "---------------------------------\n",
      "Experiment start date : 2020-04-27 00:00:00\n",
      "Experiment end_date : 2020-05-03 00:00:00\n"
     ]
    },
    {
     "name": "stderr",
     "output_type": "stream",
     "text": [
      "d:\\anaconda\\envs\\anaconda_env\\lib\\site-packages\\rdt\\transformers\\categorical.py:182: UserWarning:\n",
      "\n",
      "The data contains 4 new categories that were not seen in the original data (examples: {'WH_0x3f0'}). Assigning them random values. If you want to model new categories, please fit the transformer again with the new data.\n",
      "\n",
      "d:\\anaconda\\envs\\anaconda_env\\lib\\site-packages\\rdt\\transformers\\categorical.py:182: UserWarning:\n",
      "\n",
      "The data contains 4 new categories that were not seen in the original data (examples: {'randolph'}). Assigning them random values. If you want to model new categories, please fit the transformer again with the new data.\n",
      "\n",
      "11:55:38 INFO:target drift detect: True\n",
      "d:\\anaconda\\envs\\anaconda_env\\lib\\site-packages\\xgboost\\core.py:90: UserWarning:\n",
      "\n",
      "ntree_limit is deprecated, use `iteration_range` or model slicing instead.\n",
      "\n",
      "11:55:38 INFO:data set drift detected\n",
      "11:55:38 INFO:drift detected for warehouse_ID.value\n",
      "11:55:38 INFO:drift_score : 0.8325546111576977\n",
      "11:55:38 INFO:stattest_name : Jensen-Shannon distance\n",
      "11:55:38 INFO:raw_feature_importance : 0.40228143334388733\n",
      "11:55:38 INFO:relative_feature_importance : 0.16477185487747192\n",
      "11:55:38 INFO:feature_importance_weighted_drift_score : 0.13718156756724623\n",
      "11:55:38 INFO:drift detected for Product_Type.value\n",
      "11:55:38 INFO:drift_score : 0.8325546111576977\n",
      "11:55:38 INFO:stattest_name : Jensen-Shannon distance\n",
      "11:55:38 INFO:raw_feature_importance : 2.4414451122283936\n",
      "11:55:38 INFO:relative_feature_importance : 1.0\n",
      "11:55:38 INFO:feature_importance_weighted_drift_score : 0.8325546111576977\n",
      "11:55:38 INFO:drift detected for is_weekend.value\n",
      "11:55:38 INFO:drift_score : 0.8325546111576977\n",
      "11:55:38 INFO:stattest_name : Jensen-Shannon distance\n",
      "11:55:38 INFO:raw_feature_importance : 0.4647505581378937\n",
      "11:55:38 INFO:relative_feature_importance : 0.19035880267620087\n",
      "11:55:38 INFO:feature_importance_weighted_drift_score : 0.15848409894252932\n",
      "11:55:39 INFO:Retraining model\n"
     ]
    },
    {
     "name": "stdout",
     "output_type": "stream",
     "text": [
      "Experiment week 63\n",
      "---------------------------------\n",
      "Experiment start date : 2020-05-04 00:00:00\n",
      "Experiment end_date : 2020-05-10 00:00:00\n"
     ]
    },
    {
     "name": "stderr",
     "output_type": "stream",
     "text": [
      "11:55:39 INFO:target drift detect: True\n",
      "d:\\anaconda\\envs\\anaconda_env\\lib\\site-packages\\xgboost\\core.py:90: UserWarning:\n",
      "\n",
      "ntree_limit is deprecated, use `iteration_range` or model slicing instead.\n",
      "\n",
      "11:55:39 INFO:data set drift detected\n",
      "11:55:40 INFO:drift detected for warehouse_ID.value\n",
      "11:55:40 INFO:drift_score : 0.8325546111576977\n",
      "11:55:40 INFO:stattest_name : Jensen-Shannon distance\n",
      "11:55:40 INFO:raw_feature_importance : 0.3795677721500397\n",
      "11:55:40 INFO:relative_feature_importance : 0.1544717699289322\n",
      "11:55:40 INFO:feature_importance_weighted_drift_score : 0.12860618434802348\n",
      "11:55:40 INFO:drift detected for Product_Type.value\n",
      "11:55:40 INFO:drift_score : 0.8325546111576977\n",
      "11:55:40 INFO:stattest_name : Jensen-Shannon distance\n",
      "11:55:40 INFO:raw_feature_importance : 2.45719838142395\n",
      "11:55:40 INFO:relative_feature_importance : 1.0\n",
      "11:55:40 INFO:feature_importance_weighted_drift_score : 0.8325546111576977\n",
      "11:55:40 INFO:drift detected for is_weekend.value\n",
      "11:55:40 INFO:drift_score : 0.8325546111576977\n",
      "11:55:40 INFO:stattest_name : Jensen-Shannon distance\n",
      "11:55:40 INFO:raw_feature_importance : 0.47044265270233154\n",
      "11:55:40 INFO:relative_feature_importance : 0.19145488739013672\n",
      "11:55:40 INFO:feature_importance_weighted_drift_score : 0.15939664932533607\n",
      "11:55:40 INFO:Retraining model\n"
     ]
    },
    {
     "name": "stdout",
     "output_type": "stream",
     "text": [
      "Experiment week 64\n",
      "---------------------------------\n",
      "Experiment start date : 2020-05-11 00:00:00\n",
      "Experiment end_date : 2020-05-17 00:00:00\n"
     ]
    },
    {
     "name": "stderr",
     "output_type": "stream",
     "text": [
      "11:55:40 INFO:target drift detect: True\n",
      "d:\\anaconda\\envs\\anaconda_env\\lib\\site-packages\\xgboost\\core.py:90: UserWarning:\n",
      "\n",
      "ntree_limit is deprecated, use `iteration_range` or model slicing instead.\n",
      "\n",
      "11:55:40 INFO:data set drift detected\n",
      "11:55:41 INFO:drift detected for warehouse_ID.value\n",
      "11:55:41 INFO:drift_score : 0.8325546111576977\n",
      "11:55:41 INFO:stattest_name : Jensen-Shannon distance\n",
      "11:55:41 INFO:raw_feature_importance : 0.37994319200515747\n",
      "11:55:41 INFO:relative_feature_importance : 0.1545223444700241\n",
      "11:55:41 INFO:feature_importance_weighted_drift_score : 0.12864829041541673\n",
      "11:55:41 INFO:drift detected for Product_Type.value\n",
      "11:55:41 INFO:drift_score : 0.8325546111576977\n",
      "11:55:41 INFO:stattest_name : Jensen-Shannon distance\n",
      "11:55:41 INFO:raw_feature_importance : 2.4588236808776855\n",
      "11:55:41 INFO:relative_feature_importance : 1.0\n",
      "11:55:41 INFO:feature_importance_weighted_drift_score : 0.8325546111576977\n",
      "11:55:41 INFO:drift detected for is_weekend.value\n",
      "11:55:41 INFO:drift_score : 0.8325546111576977\n",
      "11:55:41 INFO:stattest_name : Jensen-Shannon distance\n",
      "11:55:41 INFO:raw_feature_importance : 0.4657110273838043\n",
      "11:55:41 INFO:relative_feature_importance : 0.18940399587154388\n",
      "11:55:41 INFO:feature_importance_weighted_drift_score : 0.1576891701345474\n",
      "11:55:41 INFO:Retraining model\n"
     ]
    },
    {
     "name": "stdout",
     "output_type": "stream",
     "text": [
      "Experiment week 65\n",
      "---------------------------------\n",
      "Experiment start date : 2020-05-18 00:00:00\n",
      "Experiment end_date : 2020-05-24 00:00:00\n"
     ]
    },
    {
     "name": "stderr",
     "output_type": "stream",
     "text": [
      "11:55:42 INFO:target drift detect: True\n",
      "d:\\anaconda\\envs\\anaconda_env\\lib\\site-packages\\xgboost\\core.py:90: UserWarning:\n",
      "\n",
      "ntree_limit is deprecated, use `iteration_range` or model slicing instead.\n",
      "\n",
      "11:55:42 INFO:data set drift detected\n",
      "11:55:42 INFO:drift detected for warehouse_ID.value\n",
      "11:55:42 INFO:drift_score : 0.8325546111576977\n",
      "11:55:42 INFO:stattest_name : Jensen-Shannon distance\n",
      "11:55:42 INFO:raw_feature_importance : 0.3788580894470215\n",
      "11:55:42 INFO:relative_feature_importance : 0.15400126576423645\n",
      "11:55:42 INFO:feature_importance_weighted_drift_score : 0.12821446393613714\n",
      "11:55:42 INFO:drift detected for Product_Type.value\n",
      "11:55:42 INFO:drift_score : 0.8325546111576977\n",
      "11:55:42 INFO:stattest_name : Jensen-Shannon distance\n",
      "11:55:42 INFO:raw_feature_importance : 2.460097312927246\n",
      "11:55:42 INFO:relative_feature_importance : 1.0\n",
      "11:55:42 INFO:feature_importance_weighted_drift_score : 0.8325546111576977\n",
      "11:55:42 INFO:drift detected for is_weekend.value\n",
      "11:55:42 INFO:drift_score : 0.8325546111576977\n",
      "11:55:42 INFO:stattest_name : Jensen-Shannon distance\n",
      "11:55:42 INFO:raw_feature_importance : 0.4654994308948517\n",
      "11:55:42 INFO:relative_feature_importance : 0.18921992182731628\n",
      "11:55:42 INFO:feature_importance_weighted_drift_score : 0.15753591844023127\n",
      "11:55:42 INFO:Retraining model\n"
     ]
    },
    {
     "name": "stdout",
     "output_type": "stream",
     "text": [
      "Experiment week 66\n",
      "---------------------------------\n",
      "Experiment start date : 2020-05-25 00:00:00\n",
      "Experiment end_date : 2020-05-31 00:00:00\n"
     ]
    },
    {
     "name": "stderr",
     "output_type": "stream",
     "text": [
      "11:55:43 INFO:target drift detect: True\n",
      "d:\\anaconda\\envs\\anaconda_env\\lib\\site-packages\\xgboost\\core.py:90: UserWarning:\n",
      "\n",
      "ntree_limit is deprecated, use `iteration_range` or model slicing instead.\n",
      "\n",
      "11:55:43 INFO:data set drift detected\n",
      "11:55:44 INFO:drift detected for warehouse_ID.value\n",
      "11:55:44 INFO:drift_score : 0.8325546111576977\n",
      "11:55:44 INFO:stattest_name : Jensen-Shannon distance\n",
      "11:55:44 INFO:raw_feature_importance : 0.38394734263420105\n",
      "11:55:44 INFO:relative_feature_importance : 0.15580926835536957\n",
      "11:55:44 INFO:feature_importance_weighted_drift_score : 0.1297197248303701\n",
      "11:55:44 INFO:drift detected for Product_Type.value\n",
      "11:55:44 INFO:drift_score : 0.8325546111576977\n",
      "11:55:44 INFO:stattest_name : Jensen-Shannon distance\n",
      "11:55:44 INFO:raw_feature_importance : 2.4642138481140137\n",
      "11:55:44 INFO:relative_feature_importance : 1.0\n",
      "11:55:44 INFO:feature_importance_weighted_drift_score : 0.8325546111576977\n",
      "11:55:44 INFO:drift detected for is_weekend.value\n",
      "11:55:44 INFO:drift_score : 0.8325546111576977\n",
      "11:55:44 INFO:stattest_name : Jensen-Shannon distance\n",
      "11:55:44 INFO:raw_feature_importance : 0.4711080491542816\n",
      "11:55:44 INFO:relative_feature_importance : 0.19117985665798187\n",
      "11:55:44 INFO:feature_importance_weighted_drift_score : 0.15916767122107048\n",
      "11:55:44 INFO:Retraining model\n"
     ]
    },
    {
     "name": "stdout",
     "output_type": "stream",
     "text": [
      "Experiment week 67\n",
      "---------------------------------\n",
      "Experiment start date : 2020-06-01 00:00:00\n",
      "Experiment end_date : 2020-06-07 00:00:00\n"
     ]
    },
    {
     "name": "stderr",
     "output_type": "stream",
     "text": [
      "d:\\anaconda\\envs\\anaconda_env\\lib\\site-packages\\rdt\\transformers\\categorical.py:182: UserWarning:\n",
      "\n",
      "The data contains 12 new categories that were not seen in the original data (examples: {'WH_0x3f2'}). Assigning them random values. If you want to model new categories, please fit the transformer again with the new data.\n",
      "\n",
      "d:\\anaconda\\envs\\anaconda_env\\lib\\site-packages\\rdt\\transformers\\categorical.py:182: UserWarning:\n",
      "\n",
      "The data contains 3 new categories that were not seen in the original data (examples: {'Yes'}). Assigning them random values. If you want to model new categories, please fit the transformer again with the new data.\n",
      "\n",
      "d:\\anaconda\\envs\\anaconda_env\\lib\\site-packages\\rdt\\transformers\\categorical.py:182: UserWarning:\n",
      "\n",
      "The data contains 12 new categories that were not seen in the original data (examples: {'alaska'}). Assigning them random values. If you want to model new categories, please fit the transformer again with the new data.\n",
      "\n",
      "d:\\anaconda\\envs\\anaconda_env\\lib\\site-packages\\rdt\\transformers\\categorical.py:182: UserWarning:\n",
      "\n",
      "The data contains 12 new categories that were not seen in the original data (examples: {'matanuska-susitna'}). Assigning them random values. If you want to model new categories, please fit the transformer again with the new data.\n",
      "\n",
      "d:\\anaconda\\envs\\anaconda_env\\lib\\site-packages\\rdt\\transformers\\categorical.py:182: UserWarning:\n",
      "\n",
      "The data contains 12 new categories that were not seen in the original data (examples: {'AK'}). Assigning them random values. If you want to model new categories, please fit the transformer again with the new data.\n",
      "\n",
      "d:\\anaconda\\envs\\anaconda_env\\lib\\site-packages\\rdt\\transformers\\categorical.py:182: UserWarning:\n",
      "\n",
      "The data contains 12 new categories that were not seen in the original data (examples: {'pacific'}). Assigning them random values. If you want to model new categories, please fit the transformer again with the new data.\n",
      "\n",
      "11:55:45 INFO:target drift detect: True\n",
      "d:\\anaconda\\envs\\anaconda_env\\lib\\site-packages\\xgboost\\core.py:90: UserWarning:\n",
      "\n",
      "ntree_limit is deprecated, use `iteration_range` or model slicing instead.\n",
      "\n",
      "11:55:45 INFO:data set drift detected\n",
      "11:55:45 INFO:drift detected for warehouse_ID.value\n",
      "11:55:45 INFO:drift_score : 0.8325546111576978\n",
      "11:55:45 INFO:stattest_name : Jensen-Shannon distance\n",
      "11:55:45 INFO:raw_feature_importance : 0.3822197914123535\n",
      "11:55:45 INFO:relative_feature_importance : 0.15420740842819214\n",
      "11:55:45 INFO:feature_importance_weighted_drift_score : 0.1283860889615698\n",
      "11:55:45 INFO:drift detected for Product_Type.value\n",
      "11:55:45 INFO:drift_score : 0.8325546111576977\n",
      "11:55:45 INFO:stattest_name : Jensen-Shannon distance\n",
      "11:55:45 INFO:raw_feature_importance : 2.4786083698272705\n",
      "11:55:45 INFO:relative_feature_importance : 1.0\n",
      "11:55:45 INFO:feature_importance_weighted_drift_score : 0.8325546111576977\n",
      "11:55:45 INFO:drift detected for is_weekend.value\n",
      "11:55:45 INFO:drift_score : 0.8325546111576977\n",
      "11:55:45 INFO:stattest_name : Jensen-Shannon distance\n",
      "11:55:45 INFO:raw_feature_importance : 0.47316455841064453\n",
      "11:55:45 INFO:relative_feature_importance : 0.19089928269386292\n",
      "11:55:45 INFO:feature_importance_weighted_drift_score : 0.15893407807347246\n",
      "11:55:45 INFO:Retraining model\n"
     ]
    },
    {
     "name": "stdout",
     "output_type": "stream",
     "text": [
      "Experiment week 68\n",
      "---------------------------------\n",
      "Experiment start date : 2020-06-08 00:00:00\n",
      "Experiment end_date : 2020-06-14 00:00:00\n"
     ]
    },
    {
     "name": "stderr",
     "output_type": "stream",
     "text": [
      "11:55:46 INFO:target drift detect: True\n",
      "d:\\anaconda\\envs\\anaconda_env\\lib\\site-packages\\xgboost\\core.py:90: UserWarning:\n",
      "\n",
      "ntree_limit is deprecated, use `iteration_range` or model slicing instead.\n",
      "\n",
      "11:55:46 INFO:data set drift detected\n",
      "11:55:46 INFO:drift detected for warehouse_ID.value\n",
      "11:55:46 INFO:drift_score : 0.8325546111576978\n",
      "11:55:46 INFO:stattest_name : Jensen-Shannon distance\n",
      "11:55:46 INFO:raw_feature_importance : 0.3738642632961273\n",
      "11:55:46 INFO:relative_feature_importance : 0.15118218958377838\n",
      "11:55:46 INFO:feature_importance_weighted_drift_score : 0.12586742906289197\n",
      "11:55:46 INFO:drift detected for Product_Type.value\n",
      "11:55:46 INFO:drift_score : 0.8325546111576977\n",
      "11:55:46 INFO:stattest_name : Jensen-Shannon distance\n",
      "11:55:46 INFO:raw_feature_importance : 2.4729385375976562\n",
      "11:55:46 INFO:relative_feature_importance : 1.0\n",
      "11:55:46 INFO:feature_importance_weighted_drift_score : 0.8325546111576977\n",
      "11:55:46 INFO:drift detected for is_weekend.value\n",
      "11:55:46 INFO:drift_score : 0.8325546111576977\n",
      "11:55:46 INFO:stattest_name : Jensen-Shannon distance\n",
      "11:55:46 INFO:raw_feature_importance : 0.46433427929878235\n",
      "11:55:46 INFO:relative_feature_importance : 0.1877662092447281\n",
      "11:55:46 INFO:feature_importance_weighted_drift_score : 0.15632562332629948\n",
      "11:55:47 INFO:Retraining model\n"
     ]
    },
    {
     "name": "stdout",
     "output_type": "stream",
     "text": [
      "Experiment week 69\n",
      "---------------------------------\n",
      "Experiment start date : 2020-06-15 00:00:00\n",
      "Experiment end_date : 2020-06-21 00:00:00\n"
     ]
    },
    {
     "name": "stderr",
     "output_type": "stream",
     "text": [
      "11:55:47 INFO:target drift detect: True\n",
      "d:\\anaconda\\envs\\anaconda_env\\lib\\site-packages\\xgboost\\core.py:90: UserWarning:\n",
      "\n",
      "ntree_limit is deprecated, use `iteration_range` or model slicing instead.\n",
      "\n",
      "11:55:47 INFO:data set drift detected\n",
      "11:55:48 INFO:drift detected for warehouse_ID.value\n",
      "11:55:48 INFO:drift_score : 0.8325546111576978\n",
      "11:55:48 INFO:stattest_name : Jensen-Shannon distance\n",
      "11:55:48 INFO:raw_feature_importance : 0.3731027841567993\n",
      "11:55:48 INFO:relative_feature_importance : 0.15063653886318207\n",
      "11:55:48 INFO:feature_importance_weighted_drift_score : 0.12541314503937798\n",
      "11:55:48 INFO:drift detected for Product_Type.value\n",
      "11:55:48 INFO:drift_score : 0.8325546111576977\n",
      "11:55:48 INFO:stattest_name : Jensen-Shannon distance\n",
      "11:55:48 INFO:raw_feature_importance : 2.4768412113189697\n",
      "11:55:48 INFO:relative_feature_importance : 1.0\n",
      "11:55:48 INFO:feature_importance_weighted_drift_score : 0.8325546111576977\n",
      "11:55:48 INFO:drift detected for is_weekend.value\n",
      "11:55:48 INFO:drift_score : 0.8325546111576977\n",
      "11:55:48 INFO:stattest_name : Jensen-Shannon distance\n",
      "11:55:48 INFO:raw_feature_importance : 0.46360674500465393\n",
      "11:55:48 INFO:relative_feature_importance : 0.18717661499977112\n",
      "11:55:48 INFO:feature_importance_weighted_drift_score : 0.15583475391894852\n",
      "11:55:48 INFO:Retraining model\n"
     ]
    },
    {
     "name": "stdout",
     "output_type": "stream",
     "text": [
      "Experiment week 70\n",
      "---------------------------------\n",
      "Experiment start date : 2020-06-22 00:00:00\n",
      "Experiment end_date : 2020-06-28 00:00:00\n"
     ]
    },
    {
     "name": "stderr",
     "output_type": "stream",
     "text": [
      "11:55:49 INFO:target drift detect: True\n",
      "d:\\anaconda\\envs\\anaconda_env\\lib\\site-packages\\xgboost\\core.py:90: UserWarning:\n",
      "\n",
      "ntree_limit is deprecated, use `iteration_range` or model slicing instead.\n",
      "\n",
      "11:55:49 INFO:data set drift detected\n",
      "11:55:49 INFO:drift detected for warehouse_ID.value\n",
      "11:55:49 INFO:drift_score : 0.8325546111576978\n",
      "11:55:49 INFO:stattest_name : Jensen-Shannon distance\n",
      "11:55:49 INFO:raw_feature_importance : 0.37603503465652466\n",
      "11:55:49 INFO:relative_feature_importance : 0.15115460753440857\n",
      "11:55:49 INFO:feature_importance_weighted_drift_score : 0.12584446550050393\n",
      "11:55:49 INFO:drift detected for Product_Type.value\n",
      "11:55:49 INFO:drift_score : 0.8325546111576977\n",
      "11:55:49 INFO:stattest_name : Jensen-Shannon distance\n",
      "11:55:49 INFO:raw_feature_importance : 2.487751007080078\n",
      "11:55:49 INFO:relative_feature_importance : 1.0\n",
      "11:55:49 INFO:feature_importance_weighted_drift_score : 0.8325546111576977\n",
      "11:55:49 INFO:drift detected for is_weekend.value\n",
      "11:55:49 INFO:drift_score : 0.8325546111576977\n",
      "11:55:49 INFO:stattest_name : Jensen-Shannon distance\n",
      "11:55:49 INFO:raw_feature_importance : 0.46752575039863586\n",
      "11:55:49 INFO:relative_feature_importance : 0.187931090593338\n",
      "11:55:49 INFO:feature_importance_weighted_drift_score : 0.1564628960533786\n",
      "11:55:49 INFO:Retraining model\n"
     ]
    },
    {
     "name": "stdout",
     "output_type": "stream",
     "text": [
      "Experiment week 71\n",
      "---------------------------------\n",
      "Experiment start date : 2020-06-29 00:00:00\n",
      "Experiment end_date : 2020-07-05 00:00:00\n"
     ]
    },
    {
     "name": "stderr",
     "output_type": "stream",
     "text": [
      "11:55:50 INFO:target drift detect: True\n",
      "d:\\anaconda\\envs\\anaconda_env\\lib\\site-packages\\xgboost\\core.py:90: UserWarning:\n",
      "\n",
      "ntree_limit is deprecated, use `iteration_range` or model slicing instead.\n",
      "\n",
      "11:55:50 INFO:data set drift detected\n",
      "11:55:50 INFO:drift detected for warehouse_ID.value\n",
      "11:55:50 INFO:drift_score : 0.8325546111576978\n",
      "11:55:50 INFO:stattest_name : Jensen-Shannon distance\n",
      "11:55:50 INFO:raw_feature_importance : 0.3882918059825897\n",
      "11:55:50 INFO:relative_feature_importance : 0.15581312775611877\n",
      "11:55:50 INFO:feature_importance_weighted_drift_score : 0.12972293799226015\n",
      "11:55:50 INFO:drift detected for Product_Type.value\n",
      "11:55:50 INFO:drift_score : 0.8325546111576977\n",
      "11:55:50 INFO:stattest_name : Jensen-Shannon distance\n",
      "11:55:50 INFO:raw_feature_importance : 2.492035150527954\n",
      "11:55:50 INFO:relative_feature_importance : 1.0\n",
      "11:55:50 INFO:feature_importance_weighted_drift_score : 0.8325546111576977\n",
      "11:55:50 INFO:drift detected for is_weekend.value\n",
      "11:55:50 INFO:drift_score : 0.8325546111576977\n",
      "11:55:50 INFO:stattest_name : Jensen-Shannon distance\n",
      "11:55:50 INFO:raw_feature_importance : 0.46195346117019653\n",
      "11:55:50 INFO:relative_feature_importance : 0.18537196516990662\n",
      "11:55:50 INFO:feature_importance_weighted_drift_score : 0.15433228438156987\n",
      "11:55:50 INFO:Retraining model\n"
     ]
    },
    {
     "name": "stdout",
     "output_type": "stream",
     "text": [
      "Experiment week 72\n",
      "---------------------------------\n",
      "Experiment start date : 2020-07-06 00:00:00\n",
      "Experiment end_date : 2020-07-12 00:00:00\n"
     ]
    },
    {
     "name": "stderr",
     "output_type": "stream",
     "text": [
      "11:55:51 INFO:target drift detect: True\n",
      "d:\\anaconda\\envs\\anaconda_env\\lib\\site-packages\\xgboost\\core.py:90: UserWarning:\n",
      "\n",
      "ntree_limit is deprecated, use `iteration_range` or model slicing instead.\n",
      "\n",
      "11:55:51 INFO:data set drift detected\n",
      "11:55:51 INFO:drift detected for warehouse_ID.value\n",
      "11:55:51 INFO:drift_score : 0.8325546111576978\n",
      "11:55:51 INFO:stattest_name : Jensen-Shannon distance\n",
      "11:55:51 INFO:raw_feature_importance : 0.3783084452152252\n",
      "11:55:51 INFO:relative_feature_importance : 0.1520039141178131\n",
      "11:55:51 INFO:feature_importance_weighted_drift_score : 0.12655155961280398\n",
      "11:55:51 INFO:drift detected for Product_Type.value\n",
      "11:55:51 INFO:drift_score : 0.8325546111576977\n",
      "11:55:51 INFO:stattest_name : Jensen-Shannon distance\n",
      "11:55:51 INFO:raw_feature_importance : 2.488807201385498\n",
      "11:55:51 INFO:relative_feature_importance : 1.0\n",
      "11:55:51 INFO:feature_importance_weighted_drift_score : 0.8325546111576977\n",
      "11:55:52 INFO:drift detected for is_weekend.value\n",
      "11:55:52 INFO:drift_score : 0.8325546111576977\n",
      "11:55:52 INFO:stattest_name : Jensen-Shannon distance\n",
      "11:55:52 INFO:raw_feature_importance : 0.46526265144348145\n",
      "11:55:52 INFO:relative_feature_importance : 0.18694202601909637\n",
      "11:55:52 INFO:feature_importance_weighted_drift_score : 0.155639445781361\n",
      "11:55:52 INFO:Retraining model\n"
     ]
    },
    {
     "name": "stdout",
     "output_type": "stream",
     "text": [
      "Experiment week 73\n",
      "---------------------------------\n",
      "Experiment start date : 2020-07-13 00:00:00\n",
      "Experiment end_date : 2020-07-19 00:00:00\n"
     ]
    },
    {
     "name": "stderr",
     "output_type": "stream",
     "text": [
      "11:55:52 INFO:target drift detect: True\n",
      "d:\\anaconda\\envs\\anaconda_env\\lib\\site-packages\\xgboost\\core.py:90: UserWarning:\n",
      "\n",
      "ntree_limit is deprecated, use `iteration_range` or model slicing instead.\n",
      "\n",
      "11:55:52 INFO:data set drift detected\n",
      "11:55:53 INFO:drift detected for warehouse_ID.value\n",
      "11:55:53 INFO:drift_score : 0.8325546111576978\n",
      "11:55:53 INFO:stattest_name : Jensen-Shannon distance\n",
      "11:55:53 INFO:raw_feature_importance : 0.3781117796897888\n",
      "11:55:53 INFO:relative_feature_importance : 0.15182547271251678\n",
      "11:55:53 INFO:feature_importance_weighted_drift_score : 0.12640299739800306\n",
      "11:55:53 INFO:drift detected for Product_Type.value\n",
      "11:55:53 INFO:drift_score : 0.8325546111576977\n",
      "11:55:53 INFO:stattest_name : Jensen-Shannon distance\n",
      "11:55:53 INFO:raw_feature_importance : 2.4904370307922363\n",
      "11:55:53 INFO:relative_feature_importance : 1.0\n",
      "11:55:53 INFO:feature_importance_weighted_drift_score : 0.8325546111576977\n",
      "11:55:53 INFO:drift detected for is_weekend.value\n",
      "11:55:53 INFO:drift_score : 0.8325546111576977\n",
      "11:55:53 INFO:stattest_name : Jensen-Shannon distance\n",
      "11:55:53 INFO:raw_feature_importance : 0.46346402168273926\n",
      "11:55:53 INFO:relative_feature_importance : 0.18609747290611267\n",
      "11:55:53 INFO:feature_importance_weighted_drift_score : 0.15493630919277881\n",
      "11:55:53 INFO:Retraining model\n"
     ]
    },
    {
     "name": "stdout",
     "output_type": "stream",
     "text": [
      "Experiment week 74\n",
      "---------------------------------\n",
      "Experiment start date : 2020-07-20 00:00:00\n",
      "Experiment end_date : 2020-07-26 00:00:00\n"
     ]
    },
    {
     "name": "stderr",
     "output_type": "stream",
     "text": [
      "11:55:53 INFO:target drift detect: True\n",
      "d:\\anaconda\\envs\\anaconda_env\\lib\\site-packages\\xgboost\\core.py:90: UserWarning:\n",
      "\n",
      "ntree_limit is deprecated, use `iteration_range` or model slicing instead.\n",
      "\n",
      "11:55:54 INFO:data set drift detected\n",
      "11:55:54 INFO:drift detected for warehouse_ID.value\n",
      "11:55:54 INFO:drift_score : 0.8325546111576978\n",
      "11:55:54 INFO:stattest_name : Jensen-Shannon distance\n",
      "11:55:54 INFO:raw_feature_importance : 0.37758201360702515\n",
      "11:55:54 INFO:relative_feature_importance : 0.15130625665187836\n",
      "11:55:54 INFO:feature_importance_weighted_drift_score : 0.1259707216725314\n",
      "11:55:54 INFO:drift detected for Product_Type.value\n",
      "11:55:54 INFO:drift_score : 0.8325546111576977\n",
      "11:55:54 INFO:stattest_name : Jensen-Shannon distance\n",
      "11:55:54 INFO:raw_feature_importance : 2.4954817295074463\n",
      "11:55:54 INFO:relative_feature_importance : 1.0\n",
      "11:55:54 INFO:feature_importance_weighted_drift_score : 0.8325546111576977\n",
      "11:55:54 INFO:drift detected for is_weekend.value\n",
      "11:55:54 INFO:drift_score : 0.8325546111576977\n",
      "11:55:54 INFO:stattest_name : Jensen-Shannon distance\n",
      "11:55:54 INFO:raw_feature_importance : 0.4662361741065979\n",
      "11:55:54 INFO:relative_feature_importance : 0.18683212995529175\n",
      "11:55:54 INFO:feature_importance_weighted_drift_score : 0.15554795130669236\n",
      "11:55:54 INFO:Retraining model\n"
     ]
    },
    {
     "name": "stdout",
     "output_type": "stream",
     "text": [
      "Experiment week 75\n",
      "---------------------------------\n",
      "Experiment start date : 2020-07-27 00:00:00\n",
      "Experiment end_date : 2020-08-02 00:00:00\n"
     ]
    },
    {
     "name": "stderr",
     "output_type": "stream",
     "text": [
      "11:55:55 INFO:target drift detect: True\n",
      "d:\\anaconda\\envs\\anaconda_env\\lib\\site-packages\\xgboost\\core.py:90: UserWarning:\n",
      "\n",
      "ntree_limit is deprecated, use `iteration_range` or model slicing instead.\n",
      "\n",
      "11:55:55 INFO:data set drift detected\n",
      "11:55:55 INFO:drift detected for warehouse_ID.value\n",
      "11:55:55 INFO:drift_score : 0.8325546111576978\n",
      "11:55:55 INFO:stattest_name : Jensen-Shannon distance\n",
      "11:55:55 INFO:raw_feature_importance : 0.38303548097610474\n",
      "11:55:55 INFO:relative_feature_importance : 0.15352265536785126\n",
      "11:55:55 INFO:feature_importance_weighted_drift_score : 0.12781599464367865\n",
      "11:55:55 INFO:drift detected for Product_Type.value\n",
      "11:55:55 INFO:drift_score : 0.8325546111576977\n",
      "11:55:55 INFO:stattest_name : Jensen-Shannon distance\n",
      "11:55:55 INFO:raw_feature_importance : 2.4949769973754883\n",
      "11:55:55 INFO:relative_feature_importance : 1.0\n",
      "11:55:55 INFO:feature_importance_weighted_drift_score : 0.8325546111576977\n",
      "11:55:55 INFO:drift detected for is_weekend.value\n",
      "11:55:55 INFO:drift_score : 0.8325546111576977\n",
      "11:55:55 INFO:stattest_name : Jensen-Shannon distance\n",
      "11:55:55 INFO:raw_feature_importance : 0.45467409491539\n",
      "11:55:55 INFO:relative_feature_importance : 0.18223579227924347\n",
      "11:55:55 INFO:feature_importance_weighted_drift_score : 0.15172124918006052\n",
      "11:55:55 INFO:Retraining model\n"
     ]
    },
    {
     "name": "stdout",
     "output_type": "stream",
     "text": [
      "Experiment week 76\n",
      "---------------------------------\n",
      "Experiment start date : 2020-08-03 00:00:00\n",
      "Experiment end_date : 2020-08-09 00:00:00\n"
     ]
    },
    {
     "name": "stderr",
     "output_type": "stream",
     "text": [
      "11:55:56 INFO:target drift detect: True\n",
      "d:\\anaconda\\envs\\anaconda_env\\lib\\site-packages\\xgboost\\core.py:90: UserWarning:\n",
      "\n",
      "ntree_limit is deprecated, use `iteration_range` or model slicing instead.\n",
      "\n",
      "11:55:56 INFO:data set drift detected\n",
      "11:55:56 INFO:drift detected for warehouse_ID.value\n",
      "11:55:56 INFO:drift_score : 0.8325546111576978\n",
      "11:55:56 INFO:stattest_name : Jensen-Shannon distance\n",
      "11:55:56 INFO:raw_feature_importance : 0.37888097763061523\n",
      "11:55:56 INFO:relative_feature_importance : 0.15341731905937195\n",
      "11:55:56 INFO:feature_importance_weighted_drift_score : 0.12772829641433187\n",
      "11:55:56 INFO:drift detected for Product_Type.value\n",
      "11:55:56 INFO:drift_score : 0.8325546111576977\n",
      "11:55:56 INFO:stattest_name : Jensen-Shannon distance\n",
      "11:55:56 INFO:raw_feature_importance : 2.4696102142333984\n",
      "11:55:56 INFO:relative_feature_importance : 1.0\n",
      "11:55:56 INFO:feature_importance_weighted_drift_score : 0.8325546111576977\n",
      "11:55:57 INFO:drift detected for is_weekend.value\n",
      "11:55:57 INFO:drift_score : 0.8325546111576977\n",
      "11:55:57 INFO:stattest_name : Jensen-Shannon distance\n",
      "11:55:57 INFO:raw_feature_importance : 0.4733481705188751\n",
      "11:55:57 INFO:relative_feature_importance : 0.19166918098926544\n",
      "11:55:57 INFO:feature_importance_weighted_drift_score : 0.15957506044943226\n",
      "11:55:57 INFO:Retraining model\n"
     ]
    },
    {
     "name": "stdout",
     "output_type": "stream",
     "text": [
      "Experiment week 77\n",
      "---------------------------------\n",
      "Experiment start date : 2020-08-10 00:00:00\n",
      "Experiment end_date : 2020-08-16 00:00:00\n"
     ]
    },
    {
     "name": "stderr",
     "output_type": "stream",
     "text": [
      "11:55:57 INFO:target drift detect: True\n",
      "d:\\anaconda\\envs\\anaconda_env\\lib\\site-packages\\xgboost\\core.py:90: UserWarning:\n",
      "\n",
      "ntree_limit is deprecated, use `iteration_range` or model slicing instead.\n",
      "\n",
      "11:55:57 INFO:data set drift detected\n",
      "11:55:58 INFO:drift detected for warehouse_ID.value\n",
      "11:55:58 INFO:drift_score : 0.8325546111576978\n",
      "11:55:58 INFO:stattest_name : Jensen-Shannon distance\n",
      "11:55:58 INFO:raw_feature_importance : 0.3799814283847809\n",
      "11:55:58 INFO:relative_feature_importance : 0.15379415452480316\n",
      "11:55:58 INFO:feature_importance_weighted_drift_score : 0.1280420325187244\n",
      "11:55:58 INFO:drift detected for Product_Type.value\n",
      "11:55:58 INFO:drift_score : 0.8325546111576977\n",
      "11:55:58 INFO:stattest_name : Jensen-Shannon distance\n",
      "11:55:58 INFO:raw_feature_importance : 2.4707143306732178\n",
      "11:55:58 INFO:relative_feature_importance : 1.0\n",
      "11:55:58 INFO:feature_importance_weighted_drift_score : 0.8325546111576977\n",
      "11:55:58 INFO:drift detected for is_weekend.value\n",
      "11:55:58 INFO:drift_score : 0.8325546111576977\n",
      "11:55:58 INFO:stattest_name : Jensen-Shannon distance\n",
      "11:55:58 INFO:raw_feature_importance : 0.46882280707359314\n",
      "11:55:58 INFO:relative_feature_importance : 0.18975192308425903\n",
      "11:55:58 INFO:feature_importance_weighted_drift_score : 0.15797883853984063\n",
      "11:55:58 INFO:Retraining model\n"
     ]
    },
    {
     "name": "stdout",
     "output_type": "stream",
     "text": [
      "Experiment week 78\n",
      "---------------------------------\n",
      "Experiment start date : 2020-08-17 00:00:00\n",
      "Experiment end_date : 2020-08-23 00:00:00\n"
     ]
    },
    {
     "name": "stderr",
     "output_type": "stream",
     "text": [
      "11:55:58 INFO:target drift detect: True\n",
      "d:\\anaconda\\envs\\anaconda_env\\lib\\site-packages\\xgboost\\core.py:90: UserWarning:\n",
      "\n",
      "ntree_limit is deprecated, use `iteration_range` or model slicing instead.\n",
      "\n",
      "11:55:59 INFO:data set drift detected\n",
      "11:55:59 INFO:drift detected for warehouse_ID.value\n",
      "11:55:59 INFO:drift_score : 0.8325546111576978\n",
      "11:55:59 INFO:stattest_name : Jensen-Shannon distance\n",
      "11:55:59 INFO:raw_feature_importance : 0.37760356068611145\n",
      "11:55:59 INFO:relative_feature_importance : 0.15279237926006317\n",
      "11:55:59 INFO:feature_importance_weighted_drift_score : 0.12720799990272139\n",
      "11:55:59 INFO:drift detected for Product_Type.value\n",
      "11:55:59 INFO:drift_score : 0.8325546111576977\n",
      "11:55:59 INFO:stattest_name : Jensen-Shannon distance\n",
      "11:55:59 INFO:raw_feature_importance : 2.47135066986084\n",
      "11:55:59 INFO:relative_feature_importance : 1.0\n",
      "11:55:59 INFO:feature_importance_weighted_drift_score : 0.8325546111576977\n",
      "11:55:59 INFO:drift detected for is_weekend.value\n",
      "11:55:59 INFO:drift_score : 0.8325546111576977\n",
      "11:55:59 INFO:stattest_name : Jensen-Shannon distance\n",
      "11:55:59 INFO:raw_feature_importance : 0.46902328729629517\n",
      "11:55:59 INFO:relative_feature_importance : 0.1897841840982437\n",
      "11:55:59 INFO:feature_importance_weighted_drift_score : 0.15800569759579422\n",
      "11:55:59 INFO:Retraining model\n"
     ]
    },
    {
     "name": "stdout",
     "output_type": "stream",
     "text": [
      "Experiment week 79\n",
      "---------------------------------\n",
      "Experiment start date : 2020-08-24 00:00:00\n",
      "Experiment end_date : 2020-08-30 00:00:00\n"
     ]
    },
    {
     "name": "stderr",
     "output_type": "stream",
     "text": [
      "11:56:00 INFO:target drift detect: True\n",
      "d:\\anaconda\\envs\\anaconda_env\\lib\\site-packages\\xgboost\\core.py:90: UserWarning:\n",
      "\n",
      "ntree_limit is deprecated, use `iteration_range` or model slicing instead.\n",
      "\n",
      "11:56:00 INFO:data set drift detected\n",
      "11:56:00 INFO:drift detected for warehouse_ID.value\n",
      "11:56:00 INFO:drift_score : 0.8325546111576978\n",
      "11:56:00 INFO:stattest_name : Jensen-Shannon distance\n",
      "11:56:00 INFO:raw_feature_importance : 0.3789680004119873\n",
      "11:56:00 INFO:relative_feature_importance : 0.15295083820819855\n",
      "11:56:00 INFO:feature_importance_weighted_drift_score : 0.1273399256306707\n",
      "11:56:00 INFO:drift detected for Product_Type.value\n",
      "11:56:00 INFO:drift_score : 0.8325546111576977\n",
      "11:56:00 INFO:stattest_name : Jensen-Shannon distance\n",
      "11:56:00 INFO:raw_feature_importance : 2.4777112007141113\n",
      "11:56:00 INFO:relative_feature_importance : 1.0\n",
      "11:56:00 INFO:feature_importance_weighted_drift_score : 0.8325546111576977\n",
      "11:56:00 INFO:drift detected for is_weekend.value\n",
      "11:56:00 INFO:drift_score : 0.8325546111576977\n",
      "11:56:00 INFO:stattest_name : Jensen-Shannon distance\n",
      "11:56:00 INFO:raw_feature_importance : 0.47476086020469666\n",
      "11:56:00 INFO:relative_feature_importance : 0.19161267578601837\n",
      "11:56:00 INFO:feature_importance_weighted_drift_score : 0.15952801678191453\n",
      "11:56:00 INFO:Retraining model\n"
     ]
    },
    {
     "name": "stdout",
     "output_type": "stream",
     "text": [
      "Experiment week 80\n",
      "---------------------------------\n",
      "Experiment start date : 2020-08-31 00:00:00\n",
      "Experiment end_date : 2020-09-06 00:00:00\n"
     ]
    },
    {
     "name": "stderr",
     "output_type": "stream",
     "text": [
      "11:56:01 INFO:target drift detect: True\n",
      "d:\\anaconda\\envs\\anaconda_env\\lib\\site-packages\\xgboost\\core.py:90: UserWarning:\n",
      "\n",
      "ntree_limit is deprecated, use `iteration_range` or model slicing instead.\n",
      "\n",
      "11:56:01 INFO:data set drift detected\n",
      "11:56:01 INFO:drift detected for warehouse_ID.value\n",
      "11:56:01 INFO:drift_score : 0.8325546111576978\n",
      "11:56:01 INFO:stattest_name : Jensen-Shannon distance\n",
      "11:56:01 INFO:raw_feature_importance : 0.36231958866119385\n",
      "11:56:01 INFO:relative_feature_importance : 0.15106898546218872\n",
      "11:56:01 INFO:feature_importance_weighted_drift_score : 0.12577318044946043\n",
      "11:56:01 INFO:drift detected for Product_Type.value\n",
      "11:56:01 INFO:drift_score : 0.8325546111576977\n",
      "11:56:01 INFO:stattest_name : Jensen-Shannon distance\n",
      "11:56:01 INFO:raw_feature_importance : 2.398371696472168\n",
      "11:56:01 INFO:relative_feature_importance : 1.0\n",
      "11:56:01 INFO:feature_importance_weighted_drift_score : 0.8325546111576977\n",
      "11:56:02 INFO:drift detected for is_weekend.value\n",
      "11:56:02 INFO:drift_score : 0.8325546111576977\n",
      "11:56:02 INFO:stattest_name : Jensen-Shannon distance\n",
      "11:56:02 INFO:raw_feature_importance : 0.46451181173324585\n",
      "11:56:02 INFO:relative_feature_importance : 0.19367799162864685\n",
      "11:56:02 INFO:feature_importance_weighted_drift_score : 0.16124750501019192\n",
      "11:56:02 INFO:Retraining model\n"
     ]
    },
    {
     "name": "stdout",
     "output_type": "stream",
     "text": [
      "Experiment week 81\n",
      "---------------------------------\n",
      "Experiment start date : 2020-09-07 00:00:00\n",
      "Experiment end_date : 2020-09-13 00:00:00\n"
     ]
    },
    {
     "name": "stderr",
     "output_type": "stream",
     "text": [
      "11:56:02 INFO:target drift detect: True\n",
      "d:\\anaconda\\envs\\anaconda_env\\lib\\site-packages\\xgboost\\core.py:90: UserWarning:\n",
      "\n",
      "ntree_limit is deprecated, use `iteration_range` or model slicing instead.\n",
      "\n",
      "11:56:02 INFO:data set drift detected\n",
      "11:56:03 INFO:drift detected for warehouse_ID.value\n",
      "11:56:03 INFO:drift_score : 0.8325546111576978\n",
      "11:56:03 INFO:stattest_name : Jensen-Shannon distance\n",
      "11:56:03 INFO:raw_feature_importance : 0.35329580307006836\n",
      "11:56:03 INFO:relative_feature_importance : 0.14876440167427063\n",
      "11:56:03 INFO:feature_importance_weighted_drift_score : 0.12385448859002995\n",
      "11:56:03 INFO:drift detected for Product_Type.value\n",
      "11:56:03 INFO:drift_score : 0.8325546111576977\n",
      "11:56:03 INFO:stattest_name : Jensen-Shannon distance\n",
      "11:56:03 INFO:raw_feature_importance : 2.3748679161071777\n",
      "11:56:03 INFO:relative_feature_importance : 1.0\n",
      "11:56:03 INFO:feature_importance_weighted_drift_score : 0.8325546111576977\n",
      "11:56:03 INFO:drift detected for is_weekend.value\n",
      "11:56:03 INFO:drift_score : 0.8325546111576977\n",
      "11:56:03 INFO:stattest_name : Jensen-Shannon distance\n",
      "11:56:03 INFO:raw_feature_importance : 0.46086356043815613\n",
      "11:56:03 INFO:relative_feature_importance : 0.1940586119890213\n",
      "11:56:03 INFO:feature_importance_weighted_drift_score : 0.16156439224632216\n",
      "11:56:03 INFO:Retraining model\n"
     ]
    },
    {
     "name": "stdout",
     "output_type": "stream",
     "text": [
      "Experiment week 82\n",
      "---------------------------------\n",
      "Experiment start date : 2020-09-14 00:00:00\n",
      "Experiment end_date : 2020-09-20 00:00:00\n"
     ]
    },
    {
     "name": "stderr",
     "output_type": "stream",
     "text": [
      "11:56:03 INFO:target drift detect: True\n",
      "d:\\anaconda\\envs\\anaconda_env\\lib\\site-packages\\xgboost\\core.py:90: UserWarning:\n",
      "\n",
      "ntree_limit is deprecated, use `iteration_range` or model slicing instead.\n",
      "\n",
      "11:56:04 INFO:data set drift detected\n",
      "11:56:04 INFO:drift detected for warehouse_ID.value\n",
      "11:56:04 INFO:drift_score : 0.8325546111576978\n",
      "11:56:04 INFO:stattest_name : Jensen-Shannon distance\n",
      "11:56:04 INFO:raw_feature_importance : 0.3523440361022949\n",
      "11:56:04 INFO:relative_feature_importance : 0.14808300137519836\n",
      "11:56:04 INFO:feature_importance_weighted_drift_score : 0.1232871856289931\n",
      "11:56:04 INFO:drift detected for Product_Type.value\n",
      "11:56:04 INFO:drift_score : 0.8325546111576977\n",
      "11:56:04 INFO:stattest_name : Jensen-Shannon distance\n",
      "11:56:04 INFO:raw_feature_importance : 2.379368543624878\n",
      "11:56:04 INFO:relative_feature_importance : 1.0\n",
      "11:56:04 INFO:feature_importance_weighted_drift_score : 0.8325546111576977\n",
      "11:56:04 INFO:drift detected for is_weekend.value\n",
      "11:56:04 INFO:drift_score : 0.8325546111576977\n",
      "11:56:04 INFO:stattest_name : Jensen-Shannon distance\n",
      "11:56:04 INFO:raw_feature_importance : 0.4602310061454773\n",
      "11:56:04 INFO:relative_feature_importance : 0.19342568516731262\n",
      "11:56:04 INFO:feature_importance_weighted_drift_score : 0.1610374461023832\n",
      "11:56:04 INFO:Retraining model\n"
     ]
    },
    {
     "name": "stdout",
     "output_type": "stream",
     "text": [
      "Experiment week 83\n",
      "---------------------------------\n",
      "Experiment start date : 2020-09-21 00:00:00\n",
      "Experiment end_date : 2020-09-27 00:00:00\n"
     ]
    },
    {
     "name": "stderr",
     "output_type": "stream",
     "text": [
      "11:56:05 INFO:target drift detect: True\n",
      "d:\\anaconda\\envs\\anaconda_env\\lib\\site-packages\\xgboost\\core.py:90: UserWarning:\n",
      "\n",
      "ntree_limit is deprecated, use `iteration_range` or model slicing instead.\n",
      "\n",
      "11:56:05 INFO:data set drift detected\n",
      "11:56:05 INFO:drift detected for warehouse_ID.value\n",
      "11:56:05 INFO:drift_score : 0.8325546111576978\n",
      "11:56:05 INFO:stattest_name : Jensen-Shannon distance\n",
      "11:56:05 INFO:raw_feature_importance : 0.35279616713523865\n",
      "11:56:05 INFO:relative_feature_importance : 0.1480720490217209\n",
      "11:56:05 INFO:feature_importance_weighted_drift_score : 0.1232780671966024\n",
      "11:56:05 INFO:drift detected for Product_Type.value\n",
      "11:56:05 INFO:drift_score : 0.8325546111576977\n",
      "11:56:05 INFO:stattest_name : Jensen-Shannon distance\n",
      "11:56:05 INFO:raw_feature_importance : 2.3825979232788086\n",
      "11:56:05 INFO:relative_feature_importance : 1.0\n",
      "11:56:05 INFO:feature_importance_weighted_drift_score : 0.8325546111576977\n",
      "11:56:05 INFO:drift detected for is_weekend.value\n",
      "11:56:05 INFO:drift_score : 0.8325546111576977\n",
      "11:56:05 INFO:stattest_name : Jensen-Shannon distance\n",
      "11:56:05 INFO:raw_feature_importance : 0.4640950858592987\n",
      "11:56:05 INFO:relative_feature_importance : 0.19478531181812286\n",
      "11:56:05 INFO:feature_importance_weighted_drift_score : 0.16216940953996817\n",
      "11:56:05 INFO:Retraining model\n"
     ]
    },
    {
     "name": "stdout",
     "output_type": "stream",
     "text": [
      "Experiment week 84\n",
      "---------------------------------\n",
      "Experiment start date : 2020-09-28 00:00:00\n",
      "Experiment end_date : 2020-10-04 00:00:00\n"
     ]
    },
    {
     "name": "stderr",
     "output_type": "stream",
     "text": [
      "11:56:06 INFO:target drift detect: True\n",
      "d:\\anaconda\\envs\\anaconda_env\\lib\\site-packages\\xgboost\\core.py:90: UserWarning:\n",
      "\n",
      "ntree_limit is deprecated, use `iteration_range` or model slicing instead.\n",
      "\n",
      "11:56:06 INFO:data set drift detected\n",
      "11:56:06 INFO:drift detected for warehouse_ID.value\n",
      "11:56:06 INFO:drift_score : 0.8325546111576978\n",
      "11:56:06 INFO:stattest_name : Jensen-Shannon distance\n",
      "11:56:06 INFO:raw_feature_importance : 0.3641328513622284\n",
      "11:56:06 INFO:relative_feature_importance : 0.154433473944664\n",
      "11:56:06 INFO:feature_importance_weighted_drift_score : 0.1285743008497322\n",
      "11:56:06 INFO:drift detected for Product_Type.value\n",
      "11:56:06 INFO:drift_score : 0.8325546111576977\n",
      "11:56:06 INFO:stattest_name : Jensen-Shannon distance\n",
      "11:56:06 INFO:raw_feature_importance : 2.3578622341156006\n",
      "11:56:06 INFO:relative_feature_importance : 1.0\n",
      "11:56:06 INFO:feature_importance_weighted_drift_score : 0.8325546111576977\n",
      "11:56:06 INFO:drift detected for is_weekend.value\n",
      "11:56:06 INFO:drift_score : 0.8325546111576977\n",
      "11:56:06 INFO:stattest_name : Jensen-Shannon distance\n",
      "11:56:06 INFO:raw_feature_importance : 0.4460497200489044\n",
      "11:56:06 INFO:relative_feature_importance : 0.18917548656463623\n",
      "11:56:07 INFO:feature_importance_weighted_drift_score : 0.157498923657389\n",
      "11:56:07 INFO:Retraining model\n"
     ]
    },
    {
     "name": "stdout",
     "output_type": "stream",
     "text": [
      "Experiment week 85\n",
      "---------------------------------\n",
      "Experiment start date : 2020-10-05 00:00:00\n",
      "Experiment end_date : 2020-10-11 00:00:00\n"
     ]
    },
    {
     "name": "stderr",
     "output_type": "stream",
     "text": [
      "11:56:07 INFO:target drift detect: True\n",
      "d:\\anaconda\\envs\\anaconda_env\\lib\\site-packages\\xgboost\\core.py:90: UserWarning:\n",
      "\n",
      "ntree_limit is deprecated, use `iteration_range` or model slicing instead.\n",
      "\n",
      "11:56:07 INFO:data set drift detected\n",
      "11:56:08 INFO:drift detected for warehouse_ID.value\n",
      "11:56:08 INFO:drift_score : 0.8325546111576978\n",
      "11:56:08 INFO:stattest_name : Jensen-Shannon distance\n",
      "11:56:08 INFO:raw_feature_importance : 0.3584882318973541\n",
      "11:56:08 INFO:relative_feature_importance : 0.15283001959323883\n",
      "11:56:08 INFO:feature_importance_weighted_drift_score : 0.1272393375356723\n",
      "11:56:08 INFO:drift detected for Product_Type.value\n",
      "11:56:08 INFO:drift_score : 0.8325546111576977\n",
      "11:56:08 INFO:stattest_name : Jensen-Shannon distance\n",
      "11:56:08 INFO:raw_feature_importance : 2.3456664085388184\n",
      "11:56:08 INFO:relative_feature_importance : 1.0\n",
      "11:56:08 INFO:feature_importance_weighted_drift_score : 0.8325546111576977\n",
      "11:56:08 INFO:drift detected for is_weekend.value\n",
      "11:56:08 INFO:drift_score : 0.8325546111576977\n",
      "11:56:08 INFO:stattest_name : Jensen-Shannon distance\n",
      "11:56:08 INFO:raw_feature_importance : 0.45000869035720825\n",
      "11:56:08 INFO:relative_feature_importance : 0.1918468475341797\n",
      "11:56:08 INFO:feature_importance_weighted_drift_score : 0.15972297755064907\n",
      "11:56:08 INFO:Retraining model\n"
     ]
    },
    {
     "name": "stdout",
     "output_type": "stream",
     "text": [
      "Experiment week 86\n",
      "---------------------------------\n",
      "Experiment start date : 2020-10-12 00:00:00\n",
      "Experiment end_date : 2020-10-18 00:00:00\n"
     ]
    },
    {
     "name": "stderr",
     "output_type": "stream",
     "text": [
      "11:56:08 INFO:target drift detect: True\n",
      "d:\\anaconda\\envs\\anaconda_env\\lib\\site-packages\\xgboost\\core.py:90: UserWarning:\n",
      "\n",
      "ntree_limit is deprecated, use `iteration_range` or model slicing instead.\n",
      "\n",
      "11:56:09 INFO:data set drift detected\n",
      "11:56:09 INFO:drift detected for warehouse_ID.value\n",
      "11:56:09 INFO:drift_score : 0.8325546111576978\n",
      "11:56:09 INFO:stattest_name : Jensen-Shannon distance\n",
      "11:56:09 INFO:raw_feature_importance : 0.35921958088874817\n",
      "11:56:09 INFO:relative_feature_importance : 0.15318448841571808\n",
      "11:56:09 INFO:feature_importance_weighted_drift_score : 0.12753445218833903\n",
      "11:56:09 INFO:drift detected for Product_Type.value\n",
      "11:56:09 INFO:drift_score : 0.8325546111576977\n",
      "11:56:09 INFO:stattest_name : Jensen-Shannon distance\n",
      "11:56:09 INFO:raw_feature_importance : 2.345012664794922\n",
      "11:56:09 INFO:relative_feature_importance : 1.0\n",
      "11:56:09 INFO:feature_importance_weighted_drift_score : 0.8325546111576977\n",
      "11:56:09 INFO:drift detected for is_weekend.value\n",
      "11:56:09 INFO:drift_score : 0.8325546111576977\n",
      "11:56:09 INFO:stattest_name : Jensen-Shannon distance\n",
      "11:56:09 INFO:raw_feature_importance : 0.44783198833465576\n",
      "11:56:09 INFO:relative_feature_importance : 0.19097210466861725\n",
      "11:56:09 INFO:feature_importance_weighted_drift_score : 0.15899470634434779\n",
      "11:56:09 INFO:Retraining model\n"
     ]
    },
    {
     "name": "stdout",
     "output_type": "stream",
     "text": [
      "Experiment week 87\n",
      "---------------------------------\n",
      "Experiment start date : 2020-10-19 00:00:00\n",
      "Experiment end_date : 2020-10-25 00:00:00\n"
     ]
    },
    {
     "name": "stderr",
     "output_type": "stream",
     "text": [
      "11:56:10 INFO:target drift detect: True\n",
      "d:\\anaconda\\envs\\anaconda_env\\lib\\site-packages\\xgboost\\core.py:90: UserWarning:\n",
      "\n",
      "ntree_limit is deprecated, use `iteration_range` or model slicing instead.\n",
      "\n",
      "11:56:10 INFO:data set drift detected\n",
      "11:56:10 INFO:drift detected for warehouse_ID.value\n",
      "11:56:10 INFO:drift_score : 0.8325546111576978\n",
      "11:56:10 INFO:stattest_name : Jensen-Shannon distance\n",
      "11:56:10 INFO:raw_feature_importance : 0.3579806089401245\n",
      "11:56:10 INFO:relative_feature_importance : 0.15232279896736145\n",
      "11:56:10 INFO:feature_importance_weighted_drift_score : 0.1268170486647238\n",
      "11:56:10 INFO:drift detected for Product_Type.value\n",
      "11:56:10 INFO:drift_score : 0.8325546111576977\n",
      "11:56:10 INFO:stattest_name : Jensen-Shannon distance\n",
      "11:56:10 INFO:raw_feature_importance : 2.350144624710083\n",
      "11:56:10 INFO:relative_feature_importance : 1.0\n",
      "11:56:10 INFO:feature_importance_weighted_drift_score : 0.8325546111576977\n",
      "11:56:10 INFO:drift detected for is_weekend.value\n",
      "11:56:10 INFO:drift_score : 0.8325546111576977\n",
      "11:56:10 INFO:stattest_name : Jensen-Shannon distance\n",
      "11:56:10 INFO:raw_feature_importance : 0.44977661967277527\n",
      "11:56:10 INFO:relative_feature_importance : 0.1913825273513794\n",
      "11:56:10 INFO:feature_importance_weighted_drift_score : 0.1593364056414051\n",
      "11:56:10 INFO:Retraining model\n"
     ]
    },
    {
     "name": "stdout",
     "output_type": "stream",
     "text": [
      "Experiment week 88\n",
      "---------------------------------\n",
      "Experiment start date : 2020-10-26 00:00:00\n",
      "Experiment end_date : 2020-11-01 00:00:00\n"
     ]
    },
    {
     "name": "stderr",
     "output_type": "stream",
     "text": [
      "11:56:11 INFO:target drift detect: True\n",
      "d:\\anaconda\\envs\\anaconda_env\\lib\\site-packages\\xgboost\\core.py:90: UserWarning:\n",
      "\n",
      "ntree_limit is deprecated, use `iteration_range` or model slicing instead.\n",
      "\n",
      "11:56:11 INFO:data set drift detected\n",
      "11:56:11 INFO:drift detected for warehouse_ID.value\n",
      "11:56:11 INFO:drift_score : 0.8325546111576978\n",
      "11:56:11 INFO:stattest_name : Jensen-Shannon distance\n",
      "11:56:11 INFO:raw_feature_importance : 0.3664536476135254\n",
      "11:56:11 INFO:relative_feature_importance : 0.15577463805675507\n",
      "11:56:11 INFO:feature_importance_weighted_drift_score : 0.12969089321557284\n",
      "11:56:11 INFO:drift detected for Product_Type.value\n",
      "11:56:11 INFO:drift_score : 0.8325546111576977\n",
      "11:56:11 INFO:stattest_name : Jensen-Shannon distance\n",
      "11:56:11 INFO:raw_feature_importance : 2.3524603843688965\n",
      "11:56:11 INFO:relative_feature_importance : 1.0\n",
      "11:56:11 INFO:feature_importance_weighted_drift_score : 0.8325546111576977\n",
      "11:56:11 INFO:drift detected for is_weekend.value\n",
      "11:56:11 INFO:drift_score : 0.8325546111576977\n",
      "11:56:11 INFO:stattest_name : Jensen-Shannon distance\n",
      "11:56:11 INFO:raw_feature_importance : 0.4487159550189972\n",
      "11:56:11 INFO:relative_feature_importance : 0.19074325263500214\n",
      "11:56:11 INFO:feature_importance_weighted_drift_score : 0.1588041745284887\n",
      "11:56:12 INFO:Retraining model\n"
     ]
    },
    {
     "name": "stdout",
     "output_type": "stream",
     "text": [
      "Experiment week 89\n",
      "---------------------------------\n",
      "Experiment start date : 2020-11-02 00:00:00\n",
      "Experiment end_date : 2020-11-08 00:00:00\n"
     ]
    },
    {
     "name": "stderr",
     "output_type": "stream",
     "text": [
      "11:56:12 INFO:target drift detect: True\n",
      "d:\\anaconda\\envs\\anaconda_env\\lib\\site-packages\\xgboost\\core.py:90: UserWarning:\n",
      "\n",
      "ntree_limit is deprecated, use `iteration_range` or model slicing instead.\n",
      "\n",
      "11:56:12 INFO:data set drift detected\n",
      "11:56:12 INFO:drift detected for warehouse_ID.value\n",
      "11:56:12 INFO:drift_score : 0.8325546111576978\n",
      "11:56:12 INFO:stattest_name : Jensen-Shannon distance\n",
      "11:56:12 INFO:raw_feature_importance : 0.36078178882598877\n",
      "11:56:12 INFO:relative_feature_importance : 0.1535196751356125\n",
      "11:56:12 INFO:feature_importance_weighted_drift_score : 0.12781351343758593\n",
      "11:56:13 INFO:drift detected for Product_Type.value\n",
      "11:56:13 INFO:drift_score : 0.8325546111576977\n",
      "11:56:13 INFO:stattest_name : Jensen-Shannon distance\n",
      "11:56:13 INFO:raw_feature_importance : 2.3500688076019287\n",
      "11:56:13 INFO:relative_feature_importance : 1.0\n",
      "11:56:13 INFO:feature_importance_weighted_drift_score : 0.8325546111576977\n",
      "11:56:13 INFO:drift detected for is_weekend.value\n",
      "11:56:13 INFO:drift_score : 0.8325546111576977\n",
      "11:56:13 INFO:stattest_name : Jensen-Shannon distance\n",
      "11:56:13 INFO:raw_feature_importance : 0.4534967839717865\n",
      "11:56:13 INFO:relative_feature_importance : 0.19297170639038086\n",
      "11:56:13 INFO:feature_importance_weighted_drift_score : 0.16065948397828095\n",
      "11:56:13 INFO:Retraining model\n"
     ]
    },
    {
     "name": "stdout",
     "output_type": "stream",
     "text": [
      "Experiment week 90\n",
      "---------------------------------\n",
      "Experiment start date : 2020-11-09 00:00:00\n",
      "Experiment end_date : 2020-11-15 00:00:00\n"
     ]
    },
    {
     "name": "stderr",
     "output_type": "stream",
     "text": [
      "11:56:13 INFO:target drift detect: True\n",
      "d:\\anaconda\\envs\\anaconda_env\\lib\\site-packages\\xgboost\\core.py:90: UserWarning:\n",
      "\n",
      "ntree_limit is deprecated, use `iteration_range` or model slicing instead.\n",
      "\n",
      "11:56:13 INFO:data set drift detected\n",
      "11:56:14 INFO:drift detected for warehouse_ID.value\n",
      "11:56:14 INFO:drift_score : 0.8325546111576977\n",
      "11:56:14 INFO:stattest_name : Jensen-Shannon distance\n",
      "11:56:14 INFO:raw_feature_importance : 0.3696640431880951\n",
      "11:56:14 INFO:relative_feature_importance : 0.15767651796340942\n",
      "11:56:14 INFO:feature_importance_weighted_drift_score : 0.13127431210172608\n",
      "11:56:14 INFO:drift detected for Product_Type.value\n",
      "11:56:14 INFO:drift_score : 0.8325546111576977\n",
      "11:56:14 INFO:stattest_name : Jensen-Shannon distance\n",
      "11:56:14 INFO:raw_feature_importance : 2.3444457054138184\n",
      "11:56:14 INFO:relative_feature_importance : 1.0\n",
      "11:56:14 INFO:feature_importance_weighted_drift_score : 0.8325546111576977\n",
      "11:56:14 INFO:drift detected for is_weekend.value\n",
      "11:56:14 INFO:drift_score : 0.8325546111576977\n",
      "11:56:14 INFO:stattest_name : Jensen-Shannon distance\n",
      "11:56:14 INFO:raw_feature_importance : 0.4301363229751587\n",
      "11:56:14 INFO:relative_feature_importance : 0.18347036838531494\n",
      "11:56:14 INFO:feature_importance_weighted_drift_score : 0.15274910120999544\n",
      "11:56:14 INFO:Retraining model\n"
     ]
    }
   ],
   "source": [
    "preds = simulate_model(simulate_df, reg_final, experiment_name='weekly_ml_monitoring')"
   ]
  },
  {
   "cell_type": "markdown",
   "id": "ed27f370",
   "metadata": {},
   "source": [
    "#### Drift detection graphs"
   ]
  },
  {
   "cell_type": "code",
   "execution_count": 102,
   "id": "98d58f44",
   "metadata": {},
   "outputs": [],
   "source": [
    "expirement_results = mlflow.search_runs(experiment_names=['weekly_ml_monitoring'])"
   ]
  },
  {
   "cell_type": "code",
   "execution_count": 103,
   "id": "73898a73",
   "metadata": {},
   "outputs": [],
   "source": [
    "expirement_results.set_index('params.week_end_experiment_end_date',inplace=True)\n",
    "expirement_results.sort_index(ascending=True,inplace=True)"
   ]
  },
  {
   "cell_type": "code",
   "execution_count": 104,
   "id": "77f027a9",
   "metadata": {},
   "outputs": [
    {
     "data": {
      "text/html": [
       "<div>\n",
       "<style scoped>\n",
       "    .dataframe tbody tr th:only-of-type {\n",
       "        vertical-align: middle;\n",
       "    }\n",
       "\n",
       "    .dataframe tbody tr th {\n",
       "        vertical-align: top;\n",
       "    }\n",
       "\n",
       "    .dataframe thead th {\n",
       "        text-align: right;\n",
       "    }\n",
       "</style>\n",
       "<table border=\"1\" class=\"dataframe\">\n",
       "  <thead>\n",
       "    <tr style=\"text-align: right;\">\n",
       "      <th></th>\n",
       "      <th>run_id</th>\n",
       "      <th>experiment_id</th>\n",
       "      <th>status</th>\n",
       "      <th>artifact_uri</th>\n",
       "      <th>start_time</th>\n",
       "      <th>end_time</th>\n",
       "      <th>metrics.weekly_mape</th>\n",
       "      <th>metrics.weekly_rmse</th>\n",
       "      <th>metrics.weekly_mse</th>\n",
       "      <th>metrics.weekly_mae</th>\n",
       "      <th>...</th>\n",
       "      <th>params.is_warehouse_closed.value_feature_importance_weighted_drift_detected</th>\n",
       "      <th>params.is_warehouse_closed.value_feature_importance_weighted_drift_score</th>\n",
       "      <th>params.day_of_week.value_stattest_name</th>\n",
       "      <th>params.Product_Type.value_stattest_name</th>\n",
       "      <th>params.statewise_population_per_sqmile.value_drift_score</th>\n",
       "      <th>params.county.value_drift_score</th>\n",
       "      <th>params.is_weekend.value_feature_importance_weighted_drift_score</th>\n",
       "      <th>tags.mlflow.source.name</th>\n",
       "      <th>tags.mlflow.user</th>\n",
       "      <th>tags.mlflow.source.type</th>\n",
       "    </tr>\n",
       "    <tr>\n",
       "      <th>params.week_end_experiment_end_date</th>\n",
       "      <th></th>\n",
       "      <th></th>\n",
       "      <th></th>\n",
       "      <th></th>\n",
       "      <th></th>\n",
       "      <th></th>\n",
       "      <th></th>\n",
       "      <th></th>\n",
       "      <th></th>\n",
       "      <th></th>\n",
       "      <th></th>\n",
       "      <th></th>\n",
       "      <th></th>\n",
       "      <th></th>\n",
       "      <th></th>\n",
       "      <th></th>\n",
       "      <th></th>\n",
       "      <th></th>\n",
       "      <th></th>\n",
       "      <th></th>\n",
       "      <th></th>\n",
       "    </tr>\n",
       "  </thead>\n",
       "  <tbody>\n",
       "    <tr>\n",
       "      <th>2019-03-03 00:00:00</th>\n",
       "      <td>233e6d65806c4765ab1730f4fea499a2</td>\n",
       "      <td>2</td>\n",
       "      <td>FINISHED</td>\n",
       "      <td>file:///C:/Users/shree/projects/ML_Monitoring/...</td>\n",
       "      <td>2022-06-28 06:24:19.019000+00:00</td>\n",
       "      <td>2022-06-28 06:24:20.097000+00:00</td>\n",
       "      <td>0.116231</td>\n",
       "      <td>0.760827</td>\n",
       "      <td>0.578857</td>\n",
       "      <td>0.624194</td>\n",
       "      <td>...</td>\n",
       "      <td>False</td>\n",
       "      <td>0.0</td>\n",
       "      <td>Jensen-Shannon distance</td>\n",
       "      <td>Jensen-Shannon distance</td>\n",
       "      <td>0.3035827078296602</td>\n",
       "      <td>0.8325546111576977</td>\n",
       "      <td>0.20790202016436282</td>\n",
       "      <td>d:\\anaconda\\envs\\anaconda_env\\lib\\site-package...</td>\n",
       "      <td>shree</td>\n",
       "      <td>LOCAL</td>\n",
       "    </tr>\n",
       "    <tr>\n",
       "      <th>2019-03-03 00:00:00</th>\n",
       "      <td>3f62247c967f4572828f1f24d0dddf87</td>\n",
       "      <td>2</td>\n",
       "      <td>FINISHED</td>\n",
       "      <td>file:///C:/Users/shree/projects/ML_Monitoring/...</td>\n",
       "      <td>2022-06-28 06:19:06.956000+00:00</td>\n",
       "      <td>2022-06-28 06:19:07.990000+00:00</td>\n",
       "      <td>0.116231</td>\n",
       "      <td>0.760827</td>\n",
       "      <td>0.578857</td>\n",
       "      <td>0.624194</td>\n",
       "      <td>...</td>\n",
       "      <td>False</td>\n",
       "      <td>0.0</td>\n",
       "      <td>Jensen-Shannon distance</td>\n",
       "      <td>Jensen-Shannon distance</td>\n",
       "      <td>0.3035827078296602</td>\n",
       "      <td>0.8325546111576977</td>\n",
       "      <td>0.20790202016436282</td>\n",
       "      <td>d:\\anaconda\\envs\\anaconda_env\\lib\\site-package...</td>\n",
       "      <td>shree</td>\n",
       "      <td>LOCAL</td>\n",
       "    </tr>\n",
       "  </tbody>\n",
       "</table>\n",
       "<p>2 rows × 81 columns</p>\n",
       "</div>"
      ],
      "text/plain": [
       "                                                               run_id  \\\n",
       "params.week_end_experiment_end_date                                     \n",
       "2019-03-03 00:00:00                  233e6d65806c4765ab1730f4fea499a2   \n",
       "2019-03-03 00:00:00                  3f62247c967f4572828f1f24d0dddf87   \n",
       "\n",
       "                                    experiment_id    status  \\\n",
       "params.week_end_experiment_end_date                           \n",
       "2019-03-03 00:00:00                             2  FINISHED   \n",
       "2019-03-03 00:00:00                             2  FINISHED   \n",
       "\n",
       "                                                                          artifact_uri  \\\n",
       "params.week_end_experiment_end_date                                                      \n",
       "2019-03-03 00:00:00                  file:///C:/Users/shree/projects/ML_Monitoring/...   \n",
       "2019-03-03 00:00:00                  file:///C:/Users/shree/projects/ML_Monitoring/...   \n",
       "\n",
       "                                                          start_time  \\\n",
       "params.week_end_experiment_end_date                                    \n",
       "2019-03-03 00:00:00                 2022-06-28 06:24:19.019000+00:00   \n",
       "2019-03-03 00:00:00                 2022-06-28 06:19:06.956000+00:00   \n",
       "\n",
       "                                                            end_time  \\\n",
       "params.week_end_experiment_end_date                                    \n",
       "2019-03-03 00:00:00                 2022-06-28 06:24:20.097000+00:00   \n",
       "2019-03-03 00:00:00                 2022-06-28 06:19:07.990000+00:00   \n",
       "\n",
       "                                     metrics.weekly_mape  metrics.weekly_rmse  \\\n",
       "params.week_end_experiment_end_date                                             \n",
       "2019-03-03 00:00:00                             0.116231             0.760827   \n",
       "2019-03-03 00:00:00                             0.116231             0.760827   \n",
       "\n",
       "                                     metrics.weekly_mse  metrics.weekly_mae  \\\n",
       "params.week_end_experiment_end_date                                           \n",
       "2019-03-03 00:00:00                            0.578857            0.624194   \n",
       "2019-03-03 00:00:00                            0.578857            0.624194   \n",
       "\n",
       "                                     ...  \\\n",
       "params.week_end_experiment_end_date  ...   \n",
       "2019-03-03 00:00:00                  ...   \n",
       "2019-03-03 00:00:00                  ...   \n",
       "\n",
       "                                    params.is_warehouse_closed.value_feature_importance_weighted_drift_detected  \\\n",
       "params.week_end_experiment_end_date                                                                               \n",
       "2019-03-03 00:00:00                                                              False                            \n",
       "2019-03-03 00:00:00                                                              False                            \n",
       "\n",
       "                                    params.is_warehouse_closed.value_feature_importance_weighted_drift_score  \\\n",
       "params.week_end_experiment_end_date                                                                            \n",
       "2019-03-03 00:00:00                                                                0.0                         \n",
       "2019-03-03 00:00:00                                                                0.0                         \n",
       "\n",
       "                                    params.day_of_week.value_stattest_name  \\\n",
       "params.week_end_experiment_end_date                                          \n",
       "2019-03-03 00:00:00                                Jensen-Shannon distance   \n",
       "2019-03-03 00:00:00                                Jensen-Shannon distance   \n",
       "\n",
       "                                    params.Product_Type.value_stattest_name  \\\n",
       "params.week_end_experiment_end_date                                           \n",
       "2019-03-03 00:00:00                                 Jensen-Shannon distance   \n",
       "2019-03-03 00:00:00                                 Jensen-Shannon distance   \n",
       "\n",
       "                                    params.statewise_population_per_sqmile.value_drift_score  \\\n",
       "params.week_end_experiment_end_date                                                            \n",
       "2019-03-03 00:00:00                                                 0.3035827078296602         \n",
       "2019-03-03 00:00:00                                                 0.3035827078296602         \n",
       "\n",
       "                                    params.county.value_drift_score  \\\n",
       "params.week_end_experiment_end_date                                   \n",
       "2019-03-03 00:00:00                              0.8325546111576977   \n",
       "2019-03-03 00:00:00                              0.8325546111576977   \n",
       "\n",
       "                                    params.is_weekend.value_feature_importance_weighted_drift_score  \\\n",
       "params.week_end_experiment_end_date                                                                   \n",
       "2019-03-03 00:00:00                                                0.20790202016436282                \n",
       "2019-03-03 00:00:00                                                0.20790202016436282                \n",
       "\n",
       "                                                               tags.mlflow.source.name  \\\n",
       "params.week_end_experiment_end_date                                                      \n",
       "2019-03-03 00:00:00                  d:\\anaconda\\envs\\anaconda_env\\lib\\site-package...   \n",
       "2019-03-03 00:00:00                  d:\\anaconda\\envs\\anaconda_env\\lib\\site-package...   \n",
       "\n",
       "                                    tags.mlflow.user tags.mlflow.source.type  \n",
       "params.week_end_experiment_end_date                                           \n",
       "2019-03-03 00:00:00                            shree                   LOCAL  \n",
       "2019-03-03 00:00:00                            shree                   LOCAL  \n",
       "\n",
       "[2 rows x 81 columns]"
      ]
     },
     "execution_count": 104,
     "metadata": {},
     "output_type": "execute_result"
    }
   ],
   "source": [
    "expirement_results.head(2)"
   ]
  },
  {
   "cell_type": "code",
   "execution_count": 105,
   "id": "2f57fddc",
   "metadata": {},
   "outputs": [
    {
     "data": {
      "text/plain": [
       "'file:///C:/Users/shree/projects/ML_Monitoring/Feature_importance_weighted_drift_detection_and_automated_retraining/mlruns/2/233e6d65806c4765ab1730f4fea499a2/artifacts'"
      ]
     },
     "execution_count": 105,
     "metadata": {},
     "output_type": "execute_result"
    }
   ],
   "source": [
    "expirement_results.artifact_uri.iloc[0]"
   ]
  },
  {
   "cell_type": "code",
   "execution_count": 106,
   "id": "8e9214c9",
   "metadata": {},
   "outputs": [],
   "source": [
    "all_cols = expirement_results.columns\n",
    "drift_detection_cols = all_cols[all_cols.str.endswith('drift_detected')]\n",
    "drift_score_cols = all_cols[all_cols.str.endswith('drift_score')]"
   ]
  },
  {
   "cell_type": "code",
   "execution_count": 107,
   "id": "5d4186c4",
   "metadata": {},
   "outputs": [],
   "source": [
    "for col in drift_detection_cols:\n",
    "    expirement_results[col] = expirement_results[col].replace([None],False).replace('False',False).astype(bool).astype(int)"
   ]
  },
  {
   "cell_type": "code",
   "execution_count": 108,
   "id": "575f515d",
   "metadata": {},
   "outputs": [],
   "source": [
    "for col in drift_score_cols:\n",
    "    expirement_results[col] = expirement_results[col].replace([None],0).astype(float)"
   ]
  },
  {
   "cell_type": "code",
   "execution_count": 109,
   "id": "8c6b8f8f",
   "metadata": {},
   "outputs": [],
   "source": [
    "drift_detected_cols = []\n",
    "for col in drift_detection_cols:\n",
    "    if expirement_results[col].sum() > 0:\n",
    "        drift_detected_cols.append(col)\n"
   ]
  },
  {
   "cell_type": "code",
   "execution_count": 110,
   "id": "77e54ce0",
   "metadata": {},
   "outputs": [
    {
     "data": {
      "text/plain": [
       "['params.is_weekend.value_feature_importance_weighted_drift_detected',\n",
       " 'params.Product_Type.value_feature_importance_weighted_drift_detected',\n",
       " 'params.warehouse_ID.value_feature_importance_weighted_drift_detected']"
      ]
     },
     "execution_count": 110,
     "metadata": {},
     "output_type": "execute_result"
    }
   ],
   "source": [
    "drift_detected_cols"
   ]
  },
  {
   "cell_type": "code",
   "execution_count": 111,
   "id": "c4216a0a",
   "metadata": {},
   "outputs": [],
   "source": [
    "drift_detected_features = pd.Series(drift_detected_cols).map(lambda x:x.split('.')[1]).str.replace('_drift_detected','').to_list()"
   ]
  },
  {
   "cell_type": "code",
   "execution_count": 112,
   "id": "867f8dff",
   "metadata": {},
   "outputs": [],
   "source": [
    "drift_detected_experiment_cols = all_cols[[any([(feature in col) for feature in drift_detected_features]) for col in all_cols.to_list()]]"
   ]
  },
  {
   "cell_type": "code",
   "execution_count": 113,
   "id": "ead71010",
   "metadata": {},
   "outputs": [],
   "source": [
    "drift_detected_experiment_results = expirement_results[drift_detected_experiment_cols]"
   ]
  },
  {
   "cell_type": "code",
   "execution_count": 114,
   "id": "a473c7ec",
   "metadata": {},
   "outputs": [
    {
     "ename": "ValueError",
     "evalue": "Value of 'y' is not the name of a column in 'data_frame'. Expected one of ['params.warehouse_ID.value_feature_importance_weighted_drift_score', 'params.is_weekend.value_drift_score', 'params.warehouse_ID.value_raw_feature_importance', 'params.Product_Type.value_relative_feature_importance', 'params.is_weekend.value_raw_feature_importance', 'params.Product_Type.value_drift_score', 'params.is_weekend.value_feature_importance_weighted_drift_detected', 'params.warehouse_ID.value_drift_score', 'params.warehouse_ID.value_relative_feature_importance', 'params.Product_Type.value_feature_importance_weighted_drift_detected', 'params.Product_Type.value_raw_feature_importance', 'params.is_weekend.value_stattest_name', 'params.Product_Type.value_feature_importance_weighted_drift_score', 'params.warehouse_ID.value_feature_importance_weighted_drift_detected', 'params.warehouse_ID.value_stattest_name', 'params.is_weekend.value_relative_feature_importance', 'params.Product_Type.value_stattest_name', 'params.is_weekend.value_feature_importance_weighted_drift_score'] but received: params.daily_dispatch_count_target_drift_score",
     "output_type": "error",
     "traceback": [
      "\u001b[1;31m---------------------------------------------------------------------------\u001b[0m",
      "\u001b[1;31mValueError\u001b[0m                                Traceback (most recent call last)",
      "\u001b[1;32mc:\\Users\\shree\\projects\\ML_Monitoring\\Feature_importance_weighted_drift_detection_and_automated_retraining\\demand_forecasting_detection_and_handling_of_sudden_drift_druing_covid.ipynb Cell 75'\u001b[0m in \u001b[0;36m<cell line: 1>\u001b[1;34m()\u001b[0m\n\u001b[1;32m----> <a href='vscode-notebook-cell:/c%3A/Users/shree/projects/ML_Monitoring/Feature_importance_weighted_drift_detection_and_automated_retraining/demand_forecasting_detection_and_handling_of_sudden_drift_druing_covid.ipynb#ch0000063?line=0'>1</a>\u001b[0m fig \u001b[39m=\u001b[39m px\u001b[39m.\u001b[39;49mline(drift_detected_experiment_results,  y\u001b[39m=\u001b[39;49m\u001b[39m'\u001b[39;49m\u001b[39mparams.daily_dispatch_count_target_drift_score\u001b[39;49m\u001b[39m'\u001b[39;49m, markers\u001b[39m=\u001b[39;49m\u001b[39mTrue\u001b[39;49;00m)\n\u001b[0;32m      <a href='vscode-notebook-cell:/c%3A/Users/shree/projects/ML_Monitoring/Feature_importance_weighted_drift_detection_and_automated_retraining/demand_forecasting_detection_and_handling_of_sudden_drift_druing_covid.ipynb#ch0000063?line=1'>2</a>\u001b[0m fig\u001b[39m.\u001b[39mshow()\n",
      "File \u001b[1;32md:\\anaconda\\envs\\anaconda_env\\lib\\site-packages\\plotly\\express\\_chart_types.py:264\u001b[0m, in \u001b[0;36mline\u001b[1;34m(data_frame, x, y, line_group, color, line_dash, symbol, hover_name, hover_data, custom_data, text, facet_row, facet_col, facet_col_wrap, facet_row_spacing, facet_col_spacing, error_x, error_x_minus, error_y, error_y_minus, animation_frame, animation_group, category_orders, labels, orientation, color_discrete_sequence, color_discrete_map, line_dash_sequence, line_dash_map, symbol_sequence, symbol_map, markers, log_x, log_y, range_x, range_y, line_shape, render_mode, title, template, width, height)\u001b[0m\n\u001b[0;32m    216\u001b[0m \u001b[39mdef\u001b[39;00m \u001b[39mline\u001b[39m(\n\u001b[0;32m    217\u001b[0m     data_frame\u001b[39m=\u001b[39m\u001b[39mNone\u001b[39;00m,\n\u001b[0;32m    218\u001b[0m     x\u001b[39m=\u001b[39m\u001b[39mNone\u001b[39;00m,\n\u001b[1;32m   (...)\u001b[0m\n\u001b[0;32m    258\u001b[0m     height\u001b[39m=\u001b[39m\u001b[39mNone\u001b[39;00m,\n\u001b[0;32m    259\u001b[0m ) \u001b[39m-\u001b[39m\u001b[39m>\u001b[39m go\u001b[39m.\u001b[39mFigure:\n\u001b[0;32m    260\u001b[0m     \u001b[39m\"\"\"\u001b[39;00m\n\u001b[0;32m    261\u001b[0m \u001b[39m    In a 2D line plot, each row of `data_frame` is represented as vertex of\u001b[39;00m\n\u001b[0;32m    262\u001b[0m \u001b[39m    a polyline mark in 2D space.\u001b[39;00m\n\u001b[0;32m    263\u001b[0m \u001b[39m    \"\"\"\u001b[39;00m\n\u001b[1;32m--> 264\u001b[0m     \u001b[39mreturn\u001b[39;00m make_figure(args\u001b[39m=\u001b[39;49m\u001b[39mlocals\u001b[39;49m(), constructor\u001b[39m=\u001b[39;49mgo\u001b[39m.\u001b[39;49mScatter)\n",
      "File \u001b[1;32md:\\anaconda\\envs\\anaconda_env\\lib\\site-packages\\plotly\\express\\_core.py:1948\u001b[0m, in \u001b[0;36mmake_figure\u001b[1;34m(args, constructor, trace_patch, layout_patch)\u001b[0m\n\u001b[0;32m   1945\u001b[0m layout_patch \u001b[39m=\u001b[39m layout_patch \u001b[39mor\u001b[39;00m {}\n\u001b[0;32m   1946\u001b[0m apply_default_cascade(args)\n\u001b[1;32m-> 1948\u001b[0m args \u001b[39m=\u001b[39m build_dataframe(args, constructor)\n\u001b[0;32m   1949\u001b[0m \u001b[39mif\u001b[39;00m constructor \u001b[39min\u001b[39;00m [go\u001b[39m.\u001b[39mTreemap, go\u001b[39m.\u001b[39mSunburst, go\u001b[39m.\u001b[39mIcicle] \u001b[39mand\u001b[39;00m args[\u001b[39m\"\u001b[39m\u001b[39mpath\u001b[39m\u001b[39m\"\u001b[39m] \u001b[39mis\u001b[39;00m \u001b[39mnot\u001b[39;00m \u001b[39mNone\u001b[39;00m:\n\u001b[0;32m   1950\u001b[0m     args \u001b[39m=\u001b[39m process_dataframe_hierarchy(args)\n",
      "File \u001b[1;32md:\\anaconda\\envs\\anaconda_env\\lib\\site-packages\\plotly\\express\\_core.py:1405\u001b[0m, in \u001b[0;36mbuild_dataframe\u001b[1;34m(args, constructor)\u001b[0m\n\u001b[0;32m   1402\u001b[0m     args[\u001b[39m\"\u001b[39m\u001b[39mcolor\u001b[39m\u001b[39m\"\u001b[39m] \u001b[39m=\u001b[39m \u001b[39mNone\u001b[39;00m\n\u001b[0;32m   1403\u001b[0m \u001b[39m# now that things have been prepped, we do the systematic rewriting of `args`\u001b[39;00m\n\u001b[1;32m-> 1405\u001b[0m df_output, wide_id_vars \u001b[39m=\u001b[39m process_args_into_dataframe(\n\u001b[0;32m   1406\u001b[0m     args, wide_mode, var_name, value_name\n\u001b[0;32m   1407\u001b[0m )\n\u001b[0;32m   1409\u001b[0m \u001b[39m# now that `df_output` exists and `args` contains only references, we complete\u001b[39;00m\n\u001b[0;32m   1410\u001b[0m \u001b[39m# the special-case and wide-mode handling by further rewriting args and/or mutating\u001b[39;00m\n\u001b[0;32m   1411\u001b[0m \u001b[39m# df_output\u001b[39;00m\n\u001b[0;32m   1413\u001b[0m count_name \u001b[39m=\u001b[39m _escape_col_name(df_output, \u001b[39m\"\u001b[39m\u001b[39mcount\u001b[39m\u001b[39m\"\u001b[39m, [var_name, value_name])\n",
      "File \u001b[1;32md:\\anaconda\\envs\\anaconda_env\\lib\\site-packages\\plotly\\express\\_core.py:1207\u001b[0m, in \u001b[0;36mprocess_args_into_dataframe\u001b[1;34m(args, wide_mode, var_name, value_name)\u001b[0m\n\u001b[0;32m   1205\u001b[0m         \u001b[39mif\u001b[39;00m argument \u001b[39m==\u001b[39m \u001b[39m\"\u001b[39m\u001b[39mindex\u001b[39m\u001b[39m\"\u001b[39m:\n\u001b[0;32m   1206\u001b[0m             err_msg \u001b[39m+\u001b[39m\u001b[39m=\u001b[39m \u001b[39m\"\u001b[39m\u001b[39m\\n\u001b[39;00m\u001b[39m To use the index, pass it in directly as `df.index`.\u001b[39m\u001b[39m\"\u001b[39m\n\u001b[1;32m-> 1207\u001b[0m         \u001b[39mraise\u001b[39;00m \u001b[39mValueError\u001b[39;00m(err_msg)\n\u001b[0;32m   1208\u001b[0m \u001b[39melif\u001b[39;00m length \u001b[39mand\u001b[39;00m \u001b[39mlen\u001b[39m(df_input[argument]) \u001b[39m!=\u001b[39m length:\n\u001b[0;32m   1209\u001b[0m     \u001b[39mraise\u001b[39;00m \u001b[39mValueError\u001b[39;00m(\n\u001b[0;32m   1210\u001b[0m         \u001b[39m\"\u001b[39m\u001b[39mAll arguments should have the same length. \u001b[39m\u001b[39m\"\u001b[39m\n\u001b[0;32m   1211\u001b[0m         \u001b[39m\"\u001b[39m\u001b[39mThe length of column argument `df[\u001b[39m\u001b[39m%s\u001b[39;00m\u001b[39m]` is \u001b[39m\u001b[39m%d\u001b[39;00m\u001b[39m, whereas the \u001b[39m\u001b[39m\"\u001b[39m\n\u001b[1;32m   (...)\u001b[0m\n\u001b[0;32m   1218\u001b[0m         )\n\u001b[0;32m   1219\u001b[0m     )\n",
      "\u001b[1;31mValueError\u001b[0m: Value of 'y' is not the name of a column in 'data_frame'. Expected one of ['params.warehouse_ID.value_feature_importance_weighted_drift_score', 'params.is_weekend.value_drift_score', 'params.warehouse_ID.value_raw_feature_importance', 'params.Product_Type.value_relative_feature_importance', 'params.is_weekend.value_raw_feature_importance', 'params.Product_Type.value_drift_score', 'params.is_weekend.value_feature_importance_weighted_drift_detected', 'params.warehouse_ID.value_drift_score', 'params.warehouse_ID.value_relative_feature_importance', 'params.Product_Type.value_feature_importance_weighted_drift_detected', 'params.Product_Type.value_raw_feature_importance', 'params.is_weekend.value_stattest_name', 'params.Product_Type.value_feature_importance_weighted_drift_score', 'params.warehouse_ID.value_feature_importance_weighted_drift_detected', 'params.warehouse_ID.value_stattest_name', 'params.is_weekend.value_relative_feature_importance', 'params.Product_Type.value_stattest_name', 'params.is_weekend.value_feature_importance_weighted_drift_score'] but received: params.daily_dispatch_count_target_drift_score"
     ]
    }
   ],
   "source": [
    "fig = px.line(drift_detected_experiment_results,  y='params.daily_dispatch_count_target_drift_score', markers=True)\n",
    "fig.show()"
   ]
  },
  {
   "cell_type": "code",
   "execution_count": null,
   "id": "4fd2eb80",
   "metadata": {},
   "outputs": [
    {
     "data": {
      "application/vnd.plotly.v1+json": {
       "config": {
        "plotlyServerURL": "https://plot.ly"
       },
       "data": [
        {
         "hovertemplate": "params.week_end_experiment_end_date=%{x}<br>params.Product_Type.value_feature_importance_weighted_drift_detected=%{y}<extra></extra>",
         "legendgroup": "",
         "line": {
          "color": "#636efa",
          "dash": "solid"
         },
         "marker": {
          "symbol": "circle"
         },
         "mode": "lines+markers",
         "name": "",
         "orientation": "v",
         "showlegend": false,
         "type": "scatter",
         "x": [
          "2018-12-30 00:00:00",
          "2018-12-30 00:00:00",
          "2018-12-30 00:00:00",
          "2018-12-30 00:00:00",
          "2019-01-06 00:00:00",
          "2019-01-06 00:00:00",
          "2019-01-06 00:00:00",
          "2019-01-13 00:00:00",
          "2019-01-13 00:00:00",
          "2019-01-13 00:00:00",
          "2019-01-20 00:00:00",
          "2019-01-20 00:00:00",
          "2019-01-20 00:00:00",
          "2019-01-27 00:00:00",
          "2019-01-27 00:00:00",
          "2019-01-27 00:00:00",
          "2019-02-03 00:00:00",
          "2019-02-03 00:00:00",
          "2019-02-03 00:00:00",
          "2019-02-10 00:00:00",
          "2019-02-10 00:00:00",
          "2019-02-10 00:00:00",
          "2019-02-17 00:00:00",
          "2019-02-17 00:00:00",
          "2019-02-17 00:00:00",
          "2019-02-24 00:00:00",
          "2019-02-24 00:00:00",
          "2019-02-24 00:00:00",
          "2019-03-03 00:00:00",
          "2019-03-03 00:00:00",
          "2019-03-03 00:00:00",
          "2019-03-03 00:00:00",
          "2019-03-03 00:00:00",
          "2019-03-03 00:00:00",
          "2019-03-03 00:00:00",
          "2019-03-10 00:00:00",
          "2019-03-10 00:00:00",
          "2019-03-10 00:00:00",
          "2019-03-10 00:00:00",
          "2019-03-17 00:00:00",
          "2019-03-17 00:00:00",
          "2019-03-17 00:00:00",
          "2019-03-17 00:00:00",
          "2019-03-24 00:00:00",
          "2019-03-24 00:00:00",
          "2019-03-24 00:00:00",
          "2019-03-24 00:00:00",
          "2019-03-31 00:00:00",
          "2019-03-31 00:00:00",
          "2019-03-31 00:00:00",
          "2019-03-31 00:00:00",
          "2019-04-07 00:00:00",
          "2019-04-07 00:00:00",
          "2019-04-07 00:00:00",
          "2019-04-07 00:00:00",
          "2019-04-14 00:00:00",
          "2019-04-14 00:00:00",
          "2019-04-14 00:00:00",
          "2019-04-14 00:00:00",
          "2019-04-21 00:00:00",
          "2019-04-21 00:00:00",
          "2019-04-21 00:00:00",
          "2019-04-21 00:00:00",
          "2019-04-28 00:00:00",
          "2019-04-28 00:00:00",
          "2019-04-28 00:00:00",
          "2019-04-28 00:00:00",
          "2019-05-05 00:00:00",
          "2019-05-05 00:00:00",
          "2019-05-05 00:00:00",
          "2019-05-05 00:00:00",
          "2019-05-12 00:00:00",
          "2019-05-12 00:00:00",
          "2019-05-12 00:00:00",
          "2019-05-12 00:00:00",
          "2019-05-19 00:00:00",
          "2019-05-19 00:00:00",
          "2019-05-19 00:00:00",
          "2019-05-19 00:00:00",
          "2019-05-26 00:00:00",
          "2019-05-26 00:00:00",
          "2019-05-26 00:00:00",
          "2019-05-26 00:00:00",
          "2019-06-02 00:00:00",
          "2019-06-02 00:00:00",
          "2019-06-02 00:00:00",
          "2019-06-02 00:00:00",
          "2019-06-09 00:00:00",
          "2019-06-09 00:00:00",
          "2019-06-09 00:00:00",
          "2019-06-09 00:00:00",
          "2019-06-16 00:00:00",
          "2019-06-16 00:00:00",
          "2019-06-16 00:00:00",
          "2019-06-16 00:00:00",
          "2019-06-23 00:00:00",
          "2019-06-23 00:00:00",
          "2019-06-23 00:00:00",
          "2019-06-23 00:00:00",
          "2019-06-30 00:00:00",
          "2019-06-30 00:00:00",
          "2019-06-30 00:00:00",
          "2019-06-30 00:00:00",
          "2019-07-07 00:00:00",
          "2019-07-07 00:00:00",
          "2019-07-07 00:00:00",
          "2019-07-07 00:00:00",
          "2019-07-14 00:00:00",
          "2019-07-14 00:00:00",
          "2019-07-14 00:00:00",
          "2019-07-14 00:00:00",
          "2019-07-21 00:00:00",
          "2019-07-21 00:00:00",
          "2019-07-21 00:00:00",
          "2019-07-21 00:00:00",
          "2019-07-28 00:00:00",
          "2019-07-28 00:00:00",
          "2019-07-28 00:00:00",
          "2019-07-28 00:00:00",
          "2019-08-04 00:00:00",
          "2019-08-04 00:00:00",
          "2019-08-04 00:00:00",
          "2019-08-04 00:00:00",
          "2019-08-11 00:00:00",
          "2019-08-11 00:00:00",
          "2019-08-11 00:00:00",
          "2019-08-11 00:00:00",
          "2019-08-18 00:00:00",
          "2019-08-18 00:00:00",
          "2019-08-18 00:00:00",
          "2019-08-18 00:00:00",
          "2019-08-25 00:00:00",
          "2019-08-25 00:00:00",
          "2019-08-25 00:00:00",
          "2019-08-25 00:00:00",
          "2019-09-01 00:00:00",
          "2019-09-01 00:00:00",
          "2019-09-01 00:00:00",
          "2019-09-01 00:00:00",
          "2019-09-08 00:00:00",
          "2019-09-08 00:00:00",
          "2019-09-08 00:00:00",
          "2019-09-08 00:00:00",
          "2019-09-15 00:00:00",
          "2019-09-15 00:00:00",
          "2019-09-15 00:00:00",
          "2019-09-15 00:00:00",
          "2019-09-22 00:00:00",
          "2019-09-22 00:00:00",
          "2019-09-22 00:00:00",
          "2019-09-22 00:00:00",
          "2019-09-29 00:00:00",
          "2019-09-29 00:00:00",
          "2019-09-29 00:00:00",
          "2019-09-29 00:00:00",
          "2019-10-06 00:00:00",
          "2019-10-06 00:00:00",
          "2019-10-06 00:00:00",
          "2019-10-06 00:00:00",
          "2019-10-13 00:00:00",
          "2019-10-13 00:00:00",
          "2019-10-13 00:00:00",
          "2019-10-13 00:00:00",
          "2019-10-20 00:00:00",
          "2019-10-20 00:00:00",
          "2019-10-20 00:00:00",
          "2019-10-20 00:00:00",
          "2019-10-27 00:00:00",
          "2019-10-27 00:00:00",
          "2019-10-27 00:00:00",
          "2019-10-27 00:00:00",
          "2019-11-03 00:00:00",
          "2019-11-03 00:00:00",
          "2019-11-03 00:00:00",
          "2019-11-03 00:00:00",
          "2019-11-10 00:00:00",
          "2019-11-10 00:00:00",
          "2019-11-10 00:00:00",
          "2019-11-10 00:00:00",
          "2019-11-17 00:00:00",
          "2019-11-17 00:00:00",
          "2019-11-17 00:00:00",
          "2019-11-17 00:00:00",
          "2019-11-24 00:00:00",
          "2019-11-24 00:00:00",
          "2019-11-24 00:00:00",
          "2019-11-24 00:00:00",
          "2019-12-01 00:00:00",
          "2019-12-01 00:00:00",
          "2019-12-01 00:00:00",
          "2019-12-01 00:00:00",
          "2019-12-08 00:00:00",
          "2019-12-08 00:00:00",
          "2019-12-08 00:00:00",
          "2019-12-08 00:00:00",
          "2019-12-15 00:00:00",
          "2019-12-15 00:00:00",
          "2019-12-15 00:00:00",
          "2019-12-15 00:00:00",
          "2019-12-22 00:00:00",
          "2019-12-22 00:00:00",
          "2019-12-22 00:00:00",
          "2019-12-22 00:00:00",
          "2019-12-29 00:00:00",
          "2019-12-29 00:00:00",
          "2019-12-29 00:00:00",
          "2019-12-29 00:00:00",
          "2020-01-05 00:00:00",
          "2020-01-05 00:00:00",
          "2020-01-05 00:00:00",
          "2020-01-05 00:00:00",
          "2020-01-12 00:00:00",
          "2020-01-12 00:00:00",
          "2020-01-12 00:00:00",
          "2020-01-12 00:00:00",
          "2020-01-19 00:00:00",
          "2020-01-19 00:00:00",
          "2020-01-19 00:00:00",
          "2020-01-19 00:00:00",
          "2020-01-26 00:00:00",
          "2020-01-26 00:00:00",
          "2020-01-26 00:00:00",
          "2020-01-26 00:00:00",
          "2020-02-02 00:00:00",
          "2020-02-02 00:00:00",
          "2020-02-02 00:00:00",
          "2020-02-02 00:00:00",
          "2020-02-09 00:00:00",
          "2020-02-09 00:00:00",
          "2020-02-09 00:00:00",
          "2020-02-09 00:00:00",
          "2020-02-16 00:00:00",
          "2020-02-16 00:00:00",
          "2020-02-16 00:00:00",
          "2020-02-16 00:00:00",
          "2020-02-23 00:00:00",
          "2020-02-23 00:00:00",
          "2020-02-23 00:00:00",
          "2020-02-23 00:00:00",
          "2020-03-01 00:00:00",
          "2020-03-01 00:00:00",
          "2020-03-01 00:00:00",
          "2020-03-01 00:00:00",
          "2020-03-08 00:00:00",
          "2020-03-08 00:00:00",
          "2020-03-08 00:00:00",
          "2020-03-08 00:00:00",
          "2020-03-15 00:00:00",
          "2020-03-15 00:00:00",
          "2020-03-15 00:00:00",
          "2020-03-15 00:00:00",
          "2020-03-22 00:00:00",
          "2020-03-22 00:00:00",
          "2020-03-22 00:00:00",
          "2020-03-22 00:00:00",
          "2020-03-29 00:00:00",
          "2020-03-29 00:00:00",
          "2020-03-29 00:00:00",
          "2020-03-29 00:00:00",
          "2020-04-05 00:00:00",
          "2020-04-05 00:00:00",
          "2020-04-05 00:00:00",
          "2020-04-05 00:00:00",
          "2020-04-12 00:00:00",
          "2020-04-12 00:00:00",
          "2020-04-12 00:00:00",
          "2020-04-12 00:00:00",
          "2020-04-19 00:00:00",
          "2020-04-19 00:00:00",
          "2020-04-19 00:00:00",
          "2020-04-19 00:00:00",
          "2020-04-26 00:00:00",
          "2020-04-26 00:00:00",
          "2020-04-26 00:00:00",
          "2020-04-26 00:00:00",
          "2020-05-03 00:00:00",
          "2020-05-03 00:00:00",
          "2020-05-03 00:00:00",
          "2020-05-03 00:00:00",
          "2020-05-10 00:00:00",
          "2020-05-10 00:00:00",
          "2020-05-10 00:00:00",
          "2020-05-10 00:00:00",
          "2020-05-17 00:00:00",
          "2020-05-17 00:00:00",
          "2020-05-17 00:00:00",
          "2020-05-17 00:00:00",
          "2020-05-24 00:00:00",
          "2020-05-24 00:00:00",
          "2020-05-24 00:00:00",
          "2020-05-24 00:00:00",
          "2020-05-31 00:00:00",
          "2020-05-31 00:00:00",
          "2020-05-31 00:00:00",
          "2020-05-31 00:00:00",
          "2020-06-07 00:00:00",
          "2020-06-07 00:00:00",
          "2020-06-07 00:00:00",
          "2020-06-07 00:00:00",
          "2020-06-14 00:00:00",
          "2020-06-14 00:00:00",
          "2020-06-14 00:00:00",
          "2020-06-14 00:00:00",
          "2020-06-21 00:00:00",
          "2020-06-21 00:00:00",
          "2020-06-21 00:00:00",
          "2020-06-21 00:00:00",
          "2020-06-28 00:00:00",
          "2020-06-28 00:00:00",
          "2020-06-28 00:00:00",
          "2020-06-28 00:00:00",
          "2020-07-05 00:00:00",
          "2020-07-05 00:00:00",
          "2020-07-05 00:00:00",
          "2020-07-05 00:00:00",
          "2020-07-12 00:00:00",
          "2020-07-12 00:00:00",
          "2020-07-12 00:00:00",
          "2020-07-12 00:00:00",
          "2020-07-19 00:00:00",
          "2020-07-19 00:00:00",
          "2020-07-19 00:00:00",
          "2020-07-19 00:00:00",
          "2020-07-26 00:00:00",
          "2020-07-26 00:00:00",
          "2020-07-26 00:00:00",
          "2020-07-26 00:00:00",
          "2020-08-02 00:00:00",
          "2020-08-02 00:00:00",
          "2020-08-02 00:00:00",
          "2020-08-02 00:00:00",
          "2020-08-09 00:00:00",
          "2020-08-09 00:00:00",
          "2020-08-09 00:00:00",
          "2020-08-09 00:00:00",
          "2020-08-16 00:00:00",
          "2020-08-16 00:00:00",
          "2020-08-16 00:00:00",
          "2020-08-16 00:00:00",
          "2020-08-23 00:00:00",
          "2020-08-23 00:00:00",
          "2020-08-23 00:00:00",
          "2020-08-23 00:00:00",
          "2020-08-30 00:00:00",
          "2020-08-30 00:00:00",
          "2020-08-30 00:00:00",
          "2020-08-30 00:00:00",
          "2020-09-06 00:00:00",
          "2020-09-06 00:00:00",
          "2020-09-06 00:00:00",
          "2020-09-06 00:00:00",
          "2020-09-13 00:00:00",
          "2020-09-13 00:00:00",
          "2020-09-13 00:00:00",
          "2020-09-13 00:00:00",
          "2020-09-20 00:00:00",
          "2020-09-20 00:00:00",
          "2020-09-20 00:00:00",
          "2020-09-20 00:00:00",
          "2020-09-27 00:00:00",
          "2020-09-27 00:00:00",
          "2020-09-27 00:00:00",
          "2020-09-27 00:00:00",
          "2020-10-04 00:00:00",
          "2020-10-04 00:00:00",
          "2020-10-04 00:00:00",
          "2020-10-04 00:00:00",
          "2020-10-11 00:00:00",
          "2020-10-11 00:00:00",
          "2020-10-11 00:00:00",
          "2020-10-11 00:00:00",
          "2020-10-18 00:00:00",
          "2020-10-18 00:00:00",
          "2020-10-18 00:00:00",
          "2020-10-18 00:00:00",
          "2020-10-25 00:00:00",
          "2020-10-25 00:00:00",
          "2020-10-25 00:00:00",
          "2020-10-25 00:00:00",
          "2020-11-01 00:00:00",
          "2020-11-01 00:00:00",
          "2020-11-01 00:00:00",
          "2020-11-01 00:00:00",
          "2020-11-08 00:00:00",
          "2020-11-08 00:00:00",
          "2020-11-08 00:00:00",
          "2020-11-08 00:00:00",
          "2020-11-15 00:00:00",
          "2020-11-15 00:00:00",
          "2020-11-15 00:00:00",
          "2020-11-15 00:00:00"
         ],
         "xaxis": "x",
         "y": [
          1,
          1,
          0,
          1,
          1,
          1,
          1,
          1,
          1,
          1,
          1,
          1,
          1,
          1,
          1,
          1,
          1,
          1,
          1,
          1,
          1,
          1,
          1,
          1,
          1,
          1,
          1,
          1,
          1,
          1,
          1,
          1,
          1,
          1,
          1,
          1,
          1,
          1,
          1,
          1,
          1,
          1,
          1,
          1,
          1,
          1,
          1,
          1,
          1,
          1,
          1,
          1,
          1,
          1,
          1,
          1,
          1,
          1,
          1,
          1,
          1,
          1,
          1,
          1,
          1,
          1,
          1,
          1,
          1,
          1,
          1,
          1,
          1,
          1,
          1,
          1,
          1,
          1,
          1,
          1,
          1,
          1,
          1,
          1,
          1,
          1,
          1,
          1,
          1,
          1,
          1,
          1,
          1,
          1,
          1,
          1,
          1,
          1,
          1,
          1,
          1,
          1,
          1,
          1,
          1,
          1,
          1,
          1,
          1,
          1,
          1,
          1,
          1,
          1,
          1,
          1,
          1,
          1,
          1,
          1,
          1,
          1,
          1,
          1,
          1,
          1,
          1,
          1,
          1,
          1,
          1,
          1,
          1,
          1,
          1,
          1,
          1,
          1,
          1,
          1,
          1,
          1,
          1,
          1,
          1,
          1,
          1,
          1,
          1,
          1,
          1,
          1,
          1,
          1,
          1,
          1,
          1,
          1,
          1,
          1,
          1,
          1,
          1,
          1,
          1,
          1,
          1,
          1,
          1,
          1,
          1,
          1,
          1,
          1,
          1,
          1,
          1,
          1,
          1,
          1,
          1,
          1,
          1,
          1,
          1,
          1,
          1,
          1,
          1,
          1,
          1,
          1,
          1,
          1,
          1,
          1,
          1,
          1,
          1,
          1,
          1,
          1,
          1,
          1,
          1,
          1,
          1,
          1,
          1,
          1,
          1,
          1,
          1,
          1,
          1,
          1,
          1,
          1,
          1,
          1,
          1,
          1,
          1,
          1,
          1,
          1,
          1,
          1,
          1,
          1,
          1,
          1,
          1,
          1,
          1,
          1,
          1,
          1,
          1,
          1,
          1,
          1,
          1,
          1,
          1,
          1,
          1,
          1,
          1,
          1,
          1,
          1,
          1,
          1,
          1,
          1,
          1,
          1,
          1,
          1,
          1,
          1,
          1,
          1,
          1,
          1,
          1,
          1,
          1,
          1,
          1,
          1,
          1,
          1,
          1,
          1,
          1,
          1,
          1,
          1,
          1,
          1,
          1,
          1,
          1,
          1,
          1,
          1,
          1,
          1,
          1,
          1,
          1,
          1,
          1,
          1,
          1,
          1,
          1,
          1,
          1,
          1,
          1,
          1,
          1,
          1,
          1,
          1,
          1,
          1,
          1,
          1,
          1,
          1,
          1,
          1,
          1,
          1,
          1,
          1,
          1,
          1,
          1,
          1,
          1,
          1,
          1,
          1,
          1,
          1,
          1,
          1,
          1,
          1,
          1,
          1,
          1,
          1,
          1,
          1,
          1,
          1,
          1,
          1,
          1,
          1,
          1,
          1,
          1,
          1,
          1,
          1,
          1,
          1,
          1,
          1,
          1,
          1,
          1,
          1,
          1,
          1,
          1,
          1,
          1,
          1,
          1,
          1,
          1,
          1,
          1,
          1,
          1,
          1,
          1,
          1,
          1,
          1,
          1,
          1,
          1,
          1,
          1,
          1,
          1,
          1,
          1,
          1,
          1,
          1,
          1
         ],
         "yaxis": "y"
        }
       ],
       "layout": {
        "legend": {
         "tracegroupgap": 0
        },
        "margin": {
         "t": 60
        },
        "template": {
         "data": {
          "bar": [
           {
            "error_x": {
             "color": "#2a3f5f"
            },
            "error_y": {
             "color": "#2a3f5f"
            },
            "marker": {
             "line": {
              "color": "#E5ECF6",
              "width": 0.5
             },
             "pattern": {
              "fillmode": "overlay",
              "size": 10,
              "solidity": 0.2
             }
            },
            "type": "bar"
           }
          ],
          "barpolar": [
           {
            "marker": {
             "line": {
              "color": "#E5ECF6",
              "width": 0.5
             },
             "pattern": {
              "fillmode": "overlay",
              "size": 10,
              "solidity": 0.2
             }
            },
            "type": "barpolar"
           }
          ],
          "carpet": [
           {
            "aaxis": {
             "endlinecolor": "#2a3f5f",
             "gridcolor": "white",
             "linecolor": "white",
             "minorgridcolor": "white",
             "startlinecolor": "#2a3f5f"
            },
            "baxis": {
             "endlinecolor": "#2a3f5f",
             "gridcolor": "white",
             "linecolor": "white",
             "minorgridcolor": "white",
             "startlinecolor": "#2a3f5f"
            },
            "type": "carpet"
           }
          ],
          "choropleth": [
           {
            "colorbar": {
             "outlinewidth": 0,
             "ticks": ""
            },
            "type": "choropleth"
           }
          ],
          "contour": [
           {
            "colorbar": {
             "outlinewidth": 0,
             "ticks": ""
            },
            "colorscale": [
             [
              0,
              "#0d0887"
             ],
             [
              0.1111111111111111,
              "#46039f"
             ],
             [
              0.2222222222222222,
              "#7201a8"
             ],
             [
              0.3333333333333333,
              "#9c179e"
             ],
             [
              0.4444444444444444,
              "#bd3786"
             ],
             [
              0.5555555555555556,
              "#d8576b"
             ],
             [
              0.6666666666666666,
              "#ed7953"
             ],
             [
              0.7777777777777778,
              "#fb9f3a"
             ],
             [
              0.8888888888888888,
              "#fdca26"
             ],
             [
              1,
              "#f0f921"
             ]
            ],
            "type": "contour"
           }
          ],
          "contourcarpet": [
           {
            "colorbar": {
             "outlinewidth": 0,
             "ticks": ""
            },
            "type": "contourcarpet"
           }
          ],
          "heatmap": [
           {
            "colorbar": {
             "outlinewidth": 0,
             "ticks": ""
            },
            "colorscale": [
             [
              0,
              "#0d0887"
             ],
             [
              0.1111111111111111,
              "#46039f"
             ],
             [
              0.2222222222222222,
              "#7201a8"
             ],
             [
              0.3333333333333333,
              "#9c179e"
             ],
             [
              0.4444444444444444,
              "#bd3786"
             ],
             [
              0.5555555555555556,
              "#d8576b"
             ],
             [
              0.6666666666666666,
              "#ed7953"
             ],
             [
              0.7777777777777778,
              "#fb9f3a"
             ],
             [
              0.8888888888888888,
              "#fdca26"
             ],
             [
              1,
              "#f0f921"
             ]
            ],
            "type": "heatmap"
           }
          ],
          "heatmapgl": [
           {
            "colorbar": {
             "outlinewidth": 0,
             "ticks": ""
            },
            "colorscale": [
             [
              0,
              "#0d0887"
             ],
             [
              0.1111111111111111,
              "#46039f"
             ],
             [
              0.2222222222222222,
              "#7201a8"
             ],
             [
              0.3333333333333333,
              "#9c179e"
             ],
             [
              0.4444444444444444,
              "#bd3786"
             ],
             [
              0.5555555555555556,
              "#d8576b"
             ],
             [
              0.6666666666666666,
              "#ed7953"
             ],
             [
              0.7777777777777778,
              "#fb9f3a"
             ],
             [
              0.8888888888888888,
              "#fdca26"
             ],
             [
              1,
              "#f0f921"
             ]
            ],
            "type": "heatmapgl"
           }
          ],
          "histogram": [
           {
            "marker": {
             "pattern": {
              "fillmode": "overlay",
              "size": 10,
              "solidity": 0.2
             }
            },
            "type": "histogram"
           }
          ],
          "histogram2d": [
           {
            "colorbar": {
             "outlinewidth": 0,
             "ticks": ""
            },
            "colorscale": [
             [
              0,
              "#0d0887"
             ],
             [
              0.1111111111111111,
              "#46039f"
             ],
             [
              0.2222222222222222,
              "#7201a8"
             ],
             [
              0.3333333333333333,
              "#9c179e"
             ],
             [
              0.4444444444444444,
              "#bd3786"
             ],
             [
              0.5555555555555556,
              "#d8576b"
             ],
             [
              0.6666666666666666,
              "#ed7953"
             ],
             [
              0.7777777777777778,
              "#fb9f3a"
             ],
             [
              0.8888888888888888,
              "#fdca26"
             ],
             [
              1,
              "#f0f921"
             ]
            ],
            "type": "histogram2d"
           }
          ],
          "histogram2dcontour": [
           {
            "colorbar": {
             "outlinewidth": 0,
             "ticks": ""
            },
            "colorscale": [
             [
              0,
              "#0d0887"
             ],
             [
              0.1111111111111111,
              "#46039f"
             ],
             [
              0.2222222222222222,
              "#7201a8"
             ],
             [
              0.3333333333333333,
              "#9c179e"
             ],
             [
              0.4444444444444444,
              "#bd3786"
             ],
             [
              0.5555555555555556,
              "#d8576b"
             ],
             [
              0.6666666666666666,
              "#ed7953"
             ],
             [
              0.7777777777777778,
              "#fb9f3a"
             ],
             [
              0.8888888888888888,
              "#fdca26"
             ],
             [
              1,
              "#f0f921"
             ]
            ],
            "type": "histogram2dcontour"
           }
          ],
          "mesh3d": [
           {
            "colorbar": {
             "outlinewidth": 0,
             "ticks": ""
            },
            "type": "mesh3d"
           }
          ],
          "parcoords": [
           {
            "line": {
             "colorbar": {
              "outlinewidth": 0,
              "ticks": ""
             }
            },
            "type": "parcoords"
           }
          ],
          "pie": [
           {
            "automargin": true,
            "type": "pie"
           }
          ],
          "scatter": [
           {
            "fillpattern": {
             "fillmode": "overlay",
             "size": 10,
             "solidity": 0.2
            },
            "type": "scatter"
           }
          ],
          "scatter3d": [
           {
            "line": {
             "colorbar": {
              "outlinewidth": 0,
              "ticks": ""
             }
            },
            "marker": {
             "colorbar": {
              "outlinewidth": 0,
              "ticks": ""
             }
            },
            "type": "scatter3d"
           }
          ],
          "scattercarpet": [
           {
            "marker": {
             "colorbar": {
              "outlinewidth": 0,
              "ticks": ""
             }
            },
            "type": "scattercarpet"
           }
          ],
          "scattergeo": [
           {
            "marker": {
             "colorbar": {
              "outlinewidth": 0,
              "ticks": ""
             }
            },
            "type": "scattergeo"
           }
          ],
          "scattergl": [
           {
            "marker": {
             "colorbar": {
              "outlinewidth": 0,
              "ticks": ""
             }
            },
            "type": "scattergl"
           }
          ],
          "scattermapbox": [
           {
            "marker": {
             "colorbar": {
              "outlinewidth": 0,
              "ticks": ""
             }
            },
            "type": "scattermapbox"
           }
          ],
          "scatterpolar": [
           {
            "marker": {
             "colorbar": {
              "outlinewidth": 0,
              "ticks": ""
             }
            },
            "type": "scatterpolar"
           }
          ],
          "scatterpolargl": [
           {
            "marker": {
             "colorbar": {
              "outlinewidth": 0,
              "ticks": ""
             }
            },
            "type": "scatterpolargl"
           }
          ],
          "scatterternary": [
           {
            "marker": {
             "colorbar": {
              "outlinewidth": 0,
              "ticks": ""
             }
            },
            "type": "scatterternary"
           }
          ],
          "surface": [
           {
            "colorbar": {
             "outlinewidth": 0,
             "ticks": ""
            },
            "colorscale": [
             [
              0,
              "#0d0887"
             ],
             [
              0.1111111111111111,
              "#46039f"
             ],
             [
              0.2222222222222222,
              "#7201a8"
             ],
             [
              0.3333333333333333,
              "#9c179e"
             ],
             [
              0.4444444444444444,
              "#bd3786"
             ],
             [
              0.5555555555555556,
              "#d8576b"
             ],
             [
              0.6666666666666666,
              "#ed7953"
             ],
             [
              0.7777777777777778,
              "#fb9f3a"
             ],
             [
              0.8888888888888888,
              "#fdca26"
             ],
             [
              1,
              "#f0f921"
             ]
            ],
            "type": "surface"
           }
          ],
          "table": [
           {
            "cells": {
             "fill": {
              "color": "#EBF0F8"
             },
             "line": {
              "color": "white"
             }
            },
            "header": {
             "fill": {
              "color": "#C8D4E3"
             },
             "line": {
              "color": "white"
             }
            },
            "type": "table"
           }
          ]
         },
         "layout": {
          "annotationdefaults": {
           "arrowcolor": "#2a3f5f",
           "arrowhead": 0,
           "arrowwidth": 1
          },
          "autotypenumbers": "strict",
          "coloraxis": {
           "colorbar": {
            "outlinewidth": 0,
            "ticks": ""
           }
          },
          "colorscale": {
           "diverging": [
            [
             0,
             "#8e0152"
            ],
            [
             0.1,
             "#c51b7d"
            ],
            [
             0.2,
             "#de77ae"
            ],
            [
             0.3,
             "#f1b6da"
            ],
            [
             0.4,
             "#fde0ef"
            ],
            [
             0.5,
             "#f7f7f7"
            ],
            [
             0.6,
             "#e6f5d0"
            ],
            [
             0.7,
             "#b8e186"
            ],
            [
             0.8,
             "#7fbc41"
            ],
            [
             0.9,
             "#4d9221"
            ],
            [
             1,
             "#276419"
            ]
           ],
           "sequential": [
            [
             0,
             "#0d0887"
            ],
            [
             0.1111111111111111,
             "#46039f"
            ],
            [
             0.2222222222222222,
             "#7201a8"
            ],
            [
             0.3333333333333333,
             "#9c179e"
            ],
            [
             0.4444444444444444,
             "#bd3786"
            ],
            [
             0.5555555555555556,
             "#d8576b"
            ],
            [
             0.6666666666666666,
             "#ed7953"
            ],
            [
             0.7777777777777778,
             "#fb9f3a"
            ],
            [
             0.8888888888888888,
             "#fdca26"
            ],
            [
             1,
             "#f0f921"
            ]
           ],
           "sequentialminus": [
            [
             0,
             "#0d0887"
            ],
            [
             0.1111111111111111,
             "#46039f"
            ],
            [
             0.2222222222222222,
             "#7201a8"
            ],
            [
             0.3333333333333333,
             "#9c179e"
            ],
            [
             0.4444444444444444,
             "#bd3786"
            ],
            [
             0.5555555555555556,
             "#d8576b"
            ],
            [
             0.6666666666666666,
             "#ed7953"
            ],
            [
             0.7777777777777778,
             "#fb9f3a"
            ],
            [
             0.8888888888888888,
             "#fdca26"
            ],
            [
             1,
             "#f0f921"
            ]
           ]
          },
          "colorway": [
           "#636efa",
           "#EF553B",
           "#00cc96",
           "#ab63fa",
           "#FFA15A",
           "#19d3f3",
           "#FF6692",
           "#B6E880",
           "#FF97FF",
           "#FECB52"
          ],
          "font": {
           "color": "#2a3f5f"
          },
          "geo": {
           "bgcolor": "white",
           "lakecolor": "white",
           "landcolor": "#E5ECF6",
           "showlakes": true,
           "showland": true,
           "subunitcolor": "white"
          },
          "hoverlabel": {
           "align": "left"
          },
          "hovermode": "closest",
          "mapbox": {
           "style": "light"
          },
          "paper_bgcolor": "white",
          "plot_bgcolor": "#E5ECF6",
          "polar": {
           "angularaxis": {
            "gridcolor": "white",
            "linecolor": "white",
            "ticks": ""
           },
           "bgcolor": "#E5ECF6",
           "radialaxis": {
            "gridcolor": "white",
            "linecolor": "white",
            "ticks": ""
           }
          },
          "scene": {
           "xaxis": {
            "backgroundcolor": "#E5ECF6",
            "gridcolor": "white",
            "gridwidth": 2,
            "linecolor": "white",
            "showbackground": true,
            "ticks": "",
            "zerolinecolor": "white"
           },
           "yaxis": {
            "backgroundcolor": "#E5ECF6",
            "gridcolor": "white",
            "gridwidth": 2,
            "linecolor": "white",
            "showbackground": true,
            "ticks": "",
            "zerolinecolor": "white"
           },
           "zaxis": {
            "backgroundcolor": "#E5ECF6",
            "gridcolor": "white",
            "gridwidth": 2,
            "linecolor": "white",
            "showbackground": true,
            "ticks": "",
            "zerolinecolor": "white"
           }
          },
          "shapedefaults": {
           "line": {
            "color": "#2a3f5f"
           }
          },
          "ternary": {
           "aaxis": {
            "gridcolor": "white",
            "linecolor": "white",
            "ticks": ""
           },
           "baxis": {
            "gridcolor": "white",
            "linecolor": "white",
            "ticks": ""
           },
           "bgcolor": "#E5ECF6",
           "caxis": {
            "gridcolor": "white",
            "linecolor": "white",
            "ticks": ""
           }
          },
          "title": {
           "x": 0.05
          },
          "xaxis": {
           "automargin": true,
           "gridcolor": "white",
           "linecolor": "white",
           "ticks": "",
           "title": {
            "standoff": 15
           },
           "zerolinecolor": "white",
           "zerolinewidth": 2
          },
          "yaxis": {
           "automargin": true,
           "gridcolor": "white",
           "linecolor": "white",
           "ticks": "",
           "title": {
            "standoff": 15
           },
           "zerolinecolor": "white",
           "zerolinewidth": 2
          }
         }
        },
        "xaxis": {
         "anchor": "y",
         "domain": [
          0,
          1
         ],
         "title": {
          "text": "params.week_end_experiment_end_date"
         }
        },
        "yaxis": {
         "anchor": "x",
         "domain": [
          0,
          1
         ],
         "title": {
          "text": "params.Product_Type.value_feature_importance_weighted_drift_detected"
         }
        }
       }
      },
      "text/html": [
       "<div>                            <div id=\"1b133f4b-af8e-42a6-9e99-dd8b32a909ff\" class=\"plotly-graph-div\" style=\"height:525px; width:100%;\"></div>            <script type=\"text/javascript\">                require([\"plotly\"], function(Plotly) {                    window.PLOTLYENV=window.PLOTLYENV || {};                                    if (document.getElementById(\"1b133f4b-af8e-42a6-9e99-dd8b32a909ff\")) {                    Plotly.newPlot(                        \"1b133f4b-af8e-42a6-9e99-dd8b32a909ff\",                        [{\"hovertemplate\":\"params.week_end_experiment_end_date=%{x}<br>params.Product_Type.value_feature_importance_weighted_drift_detected=%{y}<extra></extra>\",\"legendgroup\":\"\",\"line\":{\"color\":\"#636efa\",\"dash\":\"solid\"},\"marker\":{\"symbol\":\"circle\"},\"mode\":\"lines+markers\",\"name\":\"\",\"orientation\":\"v\",\"showlegend\":false,\"x\":[\"2018-12-30 00:00:00\",\"2018-12-30 00:00:00\",\"2018-12-30 00:00:00\",\"2018-12-30 00:00:00\",\"2019-01-06 00:00:00\",\"2019-01-06 00:00:00\",\"2019-01-06 00:00:00\",\"2019-01-13 00:00:00\",\"2019-01-13 00:00:00\",\"2019-01-13 00:00:00\",\"2019-01-20 00:00:00\",\"2019-01-20 00:00:00\",\"2019-01-20 00:00:00\",\"2019-01-27 00:00:00\",\"2019-01-27 00:00:00\",\"2019-01-27 00:00:00\",\"2019-02-03 00:00:00\",\"2019-02-03 00:00:00\",\"2019-02-03 00:00:00\",\"2019-02-10 00:00:00\",\"2019-02-10 00:00:00\",\"2019-02-10 00:00:00\",\"2019-02-17 00:00:00\",\"2019-02-17 00:00:00\",\"2019-02-17 00:00:00\",\"2019-02-24 00:00:00\",\"2019-02-24 00:00:00\",\"2019-02-24 00:00:00\",\"2019-03-03 00:00:00\",\"2019-03-03 00:00:00\",\"2019-03-03 00:00:00\",\"2019-03-03 00:00:00\",\"2019-03-03 00:00:00\",\"2019-03-03 00:00:00\",\"2019-03-03 00:00:00\",\"2019-03-10 00:00:00\",\"2019-03-10 00:00:00\",\"2019-03-10 00:00:00\",\"2019-03-10 00:00:00\",\"2019-03-17 00:00:00\",\"2019-03-17 00:00:00\",\"2019-03-17 00:00:00\",\"2019-03-17 00:00:00\",\"2019-03-24 00:00:00\",\"2019-03-24 00:00:00\",\"2019-03-24 00:00:00\",\"2019-03-24 00:00:00\",\"2019-03-31 00:00:00\",\"2019-03-31 00:00:00\",\"2019-03-31 00:00:00\",\"2019-03-31 00:00:00\",\"2019-04-07 00:00:00\",\"2019-04-07 00:00:00\",\"2019-04-07 00:00:00\",\"2019-04-07 00:00:00\",\"2019-04-14 00:00:00\",\"2019-04-14 00:00:00\",\"2019-04-14 00:00:00\",\"2019-04-14 00:00:00\",\"2019-04-21 00:00:00\",\"2019-04-21 00:00:00\",\"2019-04-21 00:00:00\",\"2019-04-21 00:00:00\",\"2019-04-28 00:00:00\",\"2019-04-28 00:00:00\",\"2019-04-28 00:00:00\",\"2019-04-28 00:00:00\",\"2019-05-05 00:00:00\",\"2019-05-05 00:00:00\",\"2019-05-05 00:00:00\",\"2019-05-05 00:00:00\",\"2019-05-12 00:00:00\",\"2019-05-12 00:00:00\",\"2019-05-12 00:00:00\",\"2019-05-12 00:00:00\",\"2019-05-19 00:00:00\",\"2019-05-19 00:00:00\",\"2019-05-19 00:00:00\",\"2019-05-19 00:00:00\",\"2019-05-26 00:00:00\",\"2019-05-26 00:00:00\",\"2019-05-26 00:00:00\",\"2019-05-26 00:00:00\",\"2019-06-02 00:00:00\",\"2019-06-02 00:00:00\",\"2019-06-02 00:00:00\",\"2019-06-02 00:00:00\",\"2019-06-09 00:00:00\",\"2019-06-09 00:00:00\",\"2019-06-09 00:00:00\",\"2019-06-09 00:00:00\",\"2019-06-16 00:00:00\",\"2019-06-16 00:00:00\",\"2019-06-16 00:00:00\",\"2019-06-16 00:00:00\",\"2019-06-23 00:00:00\",\"2019-06-23 00:00:00\",\"2019-06-23 00:00:00\",\"2019-06-23 00:00:00\",\"2019-06-30 00:00:00\",\"2019-06-30 00:00:00\",\"2019-06-30 00:00:00\",\"2019-06-30 00:00:00\",\"2019-07-07 00:00:00\",\"2019-07-07 00:00:00\",\"2019-07-07 00:00:00\",\"2019-07-07 00:00:00\",\"2019-07-14 00:00:00\",\"2019-07-14 00:00:00\",\"2019-07-14 00:00:00\",\"2019-07-14 00:00:00\",\"2019-07-21 00:00:00\",\"2019-07-21 00:00:00\",\"2019-07-21 00:00:00\",\"2019-07-21 00:00:00\",\"2019-07-28 00:00:00\",\"2019-07-28 00:00:00\",\"2019-07-28 00:00:00\",\"2019-07-28 00:00:00\",\"2019-08-04 00:00:00\",\"2019-08-04 00:00:00\",\"2019-08-04 00:00:00\",\"2019-08-04 00:00:00\",\"2019-08-11 00:00:00\",\"2019-08-11 00:00:00\",\"2019-08-11 00:00:00\",\"2019-08-11 00:00:00\",\"2019-08-18 00:00:00\",\"2019-08-18 00:00:00\",\"2019-08-18 00:00:00\",\"2019-08-18 00:00:00\",\"2019-08-25 00:00:00\",\"2019-08-25 00:00:00\",\"2019-08-25 00:00:00\",\"2019-08-25 00:00:00\",\"2019-09-01 00:00:00\",\"2019-09-01 00:00:00\",\"2019-09-01 00:00:00\",\"2019-09-01 00:00:00\",\"2019-09-08 00:00:00\",\"2019-09-08 00:00:00\",\"2019-09-08 00:00:00\",\"2019-09-08 00:00:00\",\"2019-09-15 00:00:00\",\"2019-09-15 00:00:00\",\"2019-09-15 00:00:00\",\"2019-09-15 00:00:00\",\"2019-09-22 00:00:00\",\"2019-09-22 00:00:00\",\"2019-09-22 00:00:00\",\"2019-09-22 00:00:00\",\"2019-09-29 00:00:00\",\"2019-09-29 00:00:00\",\"2019-09-29 00:00:00\",\"2019-09-29 00:00:00\",\"2019-10-06 00:00:00\",\"2019-10-06 00:00:00\",\"2019-10-06 00:00:00\",\"2019-10-06 00:00:00\",\"2019-10-13 00:00:00\",\"2019-10-13 00:00:00\",\"2019-10-13 00:00:00\",\"2019-10-13 00:00:00\",\"2019-10-20 00:00:00\",\"2019-10-20 00:00:00\",\"2019-10-20 00:00:00\",\"2019-10-20 00:00:00\",\"2019-10-27 00:00:00\",\"2019-10-27 00:00:00\",\"2019-10-27 00:00:00\",\"2019-10-27 00:00:00\",\"2019-11-03 00:00:00\",\"2019-11-03 00:00:00\",\"2019-11-03 00:00:00\",\"2019-11-03 00:00:00\",\"2019-11-10 00:00:00\",\"2019-11-10 00:00:00\",\"2019-11-10 00:00:00\",\"2019-11-10 00:00:00\",\"2019-11-17 00:00:00\",\"2019-11-17 00:00:00\",\"2019-11-17 00:00:00\",\"2019-11-17 00:00:00\",\"2019-11-24 00:00:00\",\"2019-11-24 00:00:00\",\"2019-11-24 00:00:00\",\"2019-11-24 00:00:00\",\"2019-12-01 00:00:00\",\"2019-12-01 00:00:00\",\"2019-12-01 00:00:00\",\"2019-12-01 00:00:00\",\"2019-12-08 00:00:00\",\"2019-12-08 00:00:00\",\"2019-12-08 00:00:00\",\"2019-12-08 00:00:00\",\"2019-12-15 00:00:00\",\"2019-12-15 00:00:00\",\"2019-12-15 00:00:00\",\"2019-12-15 00:00:00\",\"2019-12-22 00:00:00\",\"2019-12-22 00:00:00\",\"2019-12-22 00:00:00\",\"2019-12-22 00:00:00\",\"2019-12-29 00:00:00\",\"2019-12-29 00:00:00\",\"2019-12-29 00:00:00\",\"2019-12-29 00:00:00\",\"2020-01-05 00:00:00\",\"2020-01-05 00:00:00\",\"2020-01-05 00:00:00\",\"2020-01-05 00:00:00\",\"2020-01-12 00:00:00\",\"2020-01-12 00:00:00\",\"2020-01-12 00:00:00\",\"2020-01-12 00:00:00\",\"2020-01-19 00:00:00\",\"2020-01-19 00:00:00\",\"2020-01-19 00:00:00\",\"2020-01-19 00:00:00\",\"2020-01-26 00:00:00\",\"2020-01-26 00:00:00\",\"2020-01-26 00:00:00\",\"2020-01-26 00:00:00\",\"2020-02-02 00:00:00\",\"2020-02-02 00:00:00\",\"2020-02-02 00:00:00\",\"2020-02-02 00:00:00\",\"2020-02-09 00:00:00\",\"2020-02-09 00:00:00\",\"2020-02-09 00:00:00\",\"2020-02-09 00:00:00\",\"2020-02-16 00:00:00\",\"2020-02-16 00:00:00\",\"2020-02-16 00:00:00\",\"2020-02-16 00:00:00\",\"2020-02-23 00:00:00\",\"2020-02-23 00:00:00\",\"2020-02-23 00:00:00\",\"2020-02-23 00:00:00\",\"2020-03-01 00:00:00\",\"2020-03-01 00:00:00\",\"2020-03-01 00:00:00\",\"2020-03-01 00:00:00\",\"2020-03-08 00:00:00\",\"2020-03-08 00:00:00\",\"2020-03-08 00:00:00\",\"2020-03-08 00:00:00\",\"2020-03-15 00:00:00\",\"2020-03-15 00:00:00\",\"2020-03-15 00:00:00\",\"2020-03-15 00:00:00\",\"2020-03-22 00:00:00\",\"2020-03-22 00:00:00\",\"2020-03-22 00:00:00\",\"2020-03-22 00:00:00\",\"2020-03-29 00:00:00\",\"2020-03-29 00:00:00\",\"2020-03-29 00:00:00\",\"2020-03-29 00:00:00\",\"2020-04-05 00:00:00\",\"2020-04-05 00:00:00\",\"2020-04-05 00:00:00\",\"2020-04-05 00:00:00\",\"2020-04-12 00:00:00\",\"2020-04-12 00:00:00\",\"2020-04-12 00:00:00\",\"2020-04-12 00:00:00\",\"2020-04-19 00:00:00\",\"2020-04-19 00:00:00\",\"2020-04-19 00:00:00\",\"2020-04-19 00:00:00\",\"2020-04-26 00:00:00\",\"2020-04-26 00:00:00\",\"2020-04-26 00:00:00\",\"2020-04-26 00:00:00\",\"2020-05-03 00:00:00\",\"2020-05-03 00:00:00\",\"2020-05-03 00:00:00\",\"2020-05-03 00:00:00\",\"2020-05-10 00:00:00\",\"2020-05-10 00:00:00\",\"2020-05-10 00:00:00\",\"2020-05-10 00:00:00\",\"2020-05-17 00:00:00\",\"2020-05-17 00:00:00\",\"2020-05-17 00:00:00\",\"2020-05-17 00:00:00\",\"2020-05-24 00:00:00\",\"2020-05-24 00:00:00\",\"2020-05-24 00:00:00\",\"2020-05-24 00:00:00\",\"2020-05-31 00:00:00\",\"2020-05-31 00:00:00\",\"2020-05-31 00:00:00\",\"2020-05-31 00:00:00\",\"2020-06-07 00:00:00\",\"2020-06-07 00:00:00\",\"2020-06-07 00:00:00\",\"2020-06-07 00:00:00\",\"2020-06-14 00:00:00\",\"2020-06-14 00:00:00\",\"2020-06-14 00:00:00\",\"2020-06-14 00:00:00\",\"2020-06-21 00:00:00\",\"2020-06-21 00:00:00\",\"2020-06-21 00:00:00\",\"2020-06-21 00:00:00\",\"2020-06-28 00:00:00\",\"2020-06-28 00:00:00\",\"2020-06-28 00:00:00\",\"2020-06-28 00:00:00\",\"2020-07-05 00:00:00\",\"2020-07-05 00:00:00\",\"2020-07-05 00:00:00\",\"2020-07-05 00:00:00\",\"2020-07-12 00:00:00\",\"2020-07-12 00:00:00\",\"2020-07-12 00:00:00\",\"2020-07-12 00:00:00\",\"2020-07-19 00:00:00\",\"2020-07-19 00:00:00\",\"2020-07-19 00:00:00\",\"2020-07-19 00:00:00\",\"2020-07-26 00:00:00\",\"2020-07-26 00:00:00\",\"2020-07-26 00:00:00\",\"2020-07-26 00:00:00\",\"2020-08-02 00:00:00\",\"2020-08-02 00:00:00\",\"2020-08-02 00:00:00\",\"2020-08-02 00:00:00\",\"2020-08-09 00:00:00\",\"2020-08-09 00:00:00\",\"2020-08-09 00:00:00\",\"2020-08-09 00:00:00\",\"2020-08-16 00:00:00\",\"2020-08-16 00:00:00\",\"2020-08-16 00:00:00\",\"2020-08-16 00:00:00\",\"2020-08-23 00:00:00\",\"2020-08-23 00:00:00\",\"2020-08-23 00:00:00\",\"2020-08-23 00:00:00\",\"2020-08-30 00:00:00\",\"2020-08-30 00:00:00\",\"2020-08-30 00:00:00\",\"2020-08-30 00:00:00\",\"2020-09-06 00:00:00\",\"2020-09-06 00:00:00\",\"2020-09-06 00:00:00\",\"2020-09-06 00:00:00\",\"2020-09-13 00:00:00\",\"2020-09-13 00:00:00\",\"2020-09-13 00:00:00\",\"2020-09-13 00:00:00\",\"2020-09-20 00:00:00\",\"2020-09-20 00:00:00\",\"2020-09-20 00:00:00\",\"2020-09-20 00:00:00\",\"2020-09-27 00:00:00\",\"2020-09-27 00:00:00\",\"2020-09-27 00:00:00\",\"2020-09-27 00:00:00\",\"2020-10-04 00:00:00\",\"2020-10-04 00:00:00\",\"2020-10-04 00:00:00\",\"2020-10-04 00:00:00\",\"2020-10-11 00:00:00\",\"2020-10-11 00:00:00\",\"2020-10-11 00:00:00\",\"2020-10-11 00:00:00\",\"2020-10-18 00:00:00\",\"2020-10-18 00:00:00\",\"2020-10-18 00:00:00\",\"2020-10-18 00:00:00\",\"2020-10-25 00:00:00\",\"2020-10-25 00:00:00\",\"2020-10-25 00:00:00\",\"2020-10-25 00:00:00\",\"2020-11-01 00:00:00\",\"2020-11-01 00:00:00\",\"2020-11-01 00:00:00\",\"2020-11-01 00:00:00\",\"2020-11-08 00:00:00\",\"2020-11-08 00:00:00\",\"2020-11-08 00:00:00\",\"2020-11-08 00:00:00\",\"2020-11-15 00:00:00\",\"2020-11-15 00:00:00\",\"2020-11-15 00:00:00\",\"2020-11-15 00:00:00\"],\"xaxis\":\"x\",\"y\":[1,1,0,1,1,1,1,1,1,1,1,1,1,1,1,1,1,1,1,1,1,1,1,1,1,1,1,1,1,1,1,1,1,1,1,1,1,1,1,1,1,1,1,1,1,1,1,1,1,1,1,1,1,1,1,1,1,1,1,1,1,1,1,1,1,1,1,1,1,1,1,1,1,1,1,1,1,1,1,1,1,1,1,1,1,1,1,1,1,1,1,1,1,1,1,1,1,1,1,1,1,1,1,1,1,1,1,1,1,1,1,1,1,1,1,1,1,1,1,1,1,1,1,1,1,1,1,1,1,1,1,1,1,1,1,1,1,1,1,1,1,1,1,1,1,1,1,1,1,1,1,1,1,1,1,1,1,1,1,1,1,1,1,1,1,1,1,1,1,1,1,1,1,1,1,1,1,1,1,1,1,1,1,1,1,1,1,1,1,1,1,1,1,1,1,1,1,1,1,1,1,1,1,1,1,1,1,1,1,1,1,1,1,1,1,1,1,1,1,1,1,1,1,1,1,1,1,1,1,1,1,1,1,1,1,1,1,1,1,1,1,1,1,1,1,1,1,1,1,1,1,1,1,1,1,1,1,1,1,1,1,1,1,1,1,1,1,1,1,1,1,1,1,1,1,1,1,1,1,1,1,1,1,1,1,1,1,1,1,1,1,1,1,1,1,1,1,1,1,1,1,1,1,1,1,1,1,1,1,1,1,1,1,1,1,1,1,1,1,1,1,1,1,1,1,1,1,1,1,1,1,1,1,1,1,1,1,1,1,1,1,1,1,1,1,1,1,1,1,1,1,1,1,1,1,1,1,1,1,1,1,1,1,1,1,1,1,1,1,1,1,1,1,1,1,1,1,1,1,1,1,1,1,1,1,1,1,1,1,1,1],\"yaxis\":\"y\",\"type\":\"scatter\"}],                        {\"template\":{\"data\":{\"histogram2dcontour\":[{\"type\":\"histogram2dcontour\",\"colorbar\":{\"outlinewidth\":0,\"ticks\":\"\"},\"colorscale\":[[0.0,\"#0d0887\"],[0.1111111111111111,\"#46039f\"],[0.2222222222222222,\"#7201a8\"],[0.3333333333333333,\"#9c179e\"],[0.4444444444444444,\"#bd3786\"],[0.5555555555555556,\"#d8576b\"],[0.6666666666666666,\"#ed7953\"],[0.7777777777777778,\"#fb9f3a\"],[0.8888888888888888,\"#fdca26\"],[1.0,\"#f0f921\"]]}],\"choropleth\":[{\"type\":\"choropleth\",\"colorbar\":{\"outlinewidth\":0,\"ticks\":\"\"}}],\"histogram2d\":[{\"type\":\"histogram2d\",\"colorbar\":{\"outlinewidth\":0,\"ticks\":\"\"},\"colorscale\":[[0.0,\"#0d0887\"],[0.1111111111111111,\"#46039f\"],[0.2222222222222222,\"#7201a8\"],[0.3333333333333333,\"#9c179e\"],[0.4444444444444444,\"#bd3786\"],[0.5555555555555556,\"#d8576b\"],[0.6666666666666666,\"#ed7953\"],[0.7777777777777778,\"#fb9f3a\"],[0.8888888888888888,\"#fdca26\"],[1.0,\"#f0f921\"]]}],\"heatmap\":[{\"type\":\"heatmap\",\"colorbar\":{\"outlinewidth\":0,\"ticks\":\"\"},\"colorscale\":[[0.0,\"#0d0887\"],[0.1111111111111111,\"#46039f\"],[0.2222222222222222,\"#7201a8\"],[0.3333333333333333,\"#9c179e\"],[0.4444444444444444,\"#bd3786\"],[0.5555555555555556,\"#d8576b\"],[0.6666666666666666,\"#ed7953\"],[0.7777777777777778,\"#fb9f3a\"],[0.8888888888888888,\"#fdca26\"],[1.0,\"#f0f921\"]]}],\"heatmapgl\":[{\"type\":\"heatmapgl\",\"colorbar\":{\"outlinewidth\":0,\"ticks\":\"\"},\"colorscale\":[[0.0,\"#0d0887\"],[0.1111111111111111,\"#46039f\"],[0.2222222222222222,\"#7201a8\"],[0.3333333333333333,\"#9c179e\"],[0.4444444444444444,\"#bd3786\"],[0.5555555555555556,\"#d8576b\"],[0.6666666666666666,\"#ed7953\"],[0.7777777777777778,\"#fb9f3a\"],[0.8888888888888888,\"#fdca26\"],[1.0,\"#f0f921\"]]}],\"contourcarpet\":[{\"type\":\"contourcarpet\",\"colorbar\":{\"outlinewidth\":0,\"ticks\":\"\"}}],\"contour\":[{\"type\":\"contour\",\"colorbar\":{\"outlinewidth\":0,\"ticks\":\"\"},\"colorscale\":[[0.0,\"#0d0887\"],[0.1111111111111111,\"#46039f\"],[0.2222222222222222,\"#7201a8\"],[0.3333333333333333,\"#9c179e\"],[0.4444444444444444,\"#bd3786\"],[0.5555555555555556,\"#d8576b\"],[0.6666666666666666,\"#ed7953\"],[0.7777777777777778,\"#fb9f3a\"],[0.8888888888888888,\"#fdca26\"],[1.0,\"#f0f921\"]]}],\"surface\":[{\"type\":\"surface\",\"colorbar\":{\"outlinewidth\":0,\"ticks\":\"\"},\"colorscale\":[[0.0,\"#0d0887\"],[0.1111111111111111,\"#46039f\"],[0.2222222222222222,\"#7201a8\"],[0.3333333333333333,\"#9c179e\"],[0.4444444444444444,\"#bd3786\"],[0.5555555555555556,\"#d8576b\"],[0.6666666666666666,\"#ed7953\"],[0.7777777777777778,\"#fb9f3a\"],[0.8888888888888888,\"#fdca26\"],[1.0,\"#f0f921\"]]}],\"mesh3d\":[{\"type\":\"mesh3d\",\"colorbar\":{\"outlinewidth\":0,\"ticks\":\"\"}}],\"scatter\":[{\"fillpattern\":{\"fillmode\":\"overlay\",\"size\":10,\"solidity\":0.2},\"type\":\"scatter\"}],\"parcoords\":[{\"type\":\"parcoords\",\"line\":{\"colorbar\":{\"outlinewidth\":0,\"ticks\":\"\"}}}],\"scatterpolargl\":[{\"type\":\"scatterpolargl\",\"marker\":{\"colorbar\":{\"outlinewidth\":0,\"ticks\":\"\"}}}],\"bar\":[{\"error_x\":{\"color\":\"#2a3f5f\"},\"error_y\":{\"color\":\"#2a3f5f\"},\"marker\":{\"line\":{\"color\":\"#E5ECF6\",\"width\":0.5},\"pattern\":{\"fillmode\":\"overlay\",\"size\":10,\"solidity\":0.2}},\"type\":\"bar\"}],\"scattergeo\":[{\"type\":\"scattergeo\",\"marker\":{\"colorbar\":{\"outlinewidth\":0,\"ticks\":\"\"}}}],\"scatterpolar\":[{\"type\":\"scatterpolar\",\"marker\":{\"colorbar\":{\"outlinewidth\":0,\"ticks\":\"\"}}}],\"histogram\":[{\"marker\":{\"pattern\":{\"fillmode\":\"overlay\",\"size\":10,\"solidity\":0.2}},\"type\":\"histogram\"}],\"scattergl\":[{\"type\":\"scattergl\",\"marker\":{\"colorbar\":{\"outlinewidth\":0,\"ticks\":\"\"}}}],\"scatter3d\":[{\"type\":\"scatter3d\",\"line\":{\"colorbar\":{\"outlinewidth\":0,\"ticks\":\"\"}},\"marker\":{\"colorbar\":{\"outlinewidth\":0,\"ticks\":\"\"}}}],\"scattermapbox\":[{\"type\":\"scattermapbox\",\"marker\":{\"colorbar\":{\"outlinewidth\":0,\"ticks\":\"\"}}}],\"scatterternary\":[{\"type\":\"scatterternary\",\"marker\":{\"colorbar\":{\"outlinewidth\":0,\"ticks\":\"\"}}}],\"scattercarpet\":[{\"type\":\"scattercarpet\",\"marker\":{\"colorbar\":{\"outlinewidth\":0,\"ticks\":\"\"}}}],\"carpet\":[{\"aaxis\":{\"endlinecolor\":\"#2a3f5f\",\"gridcolor\":\"white\",\"linecolor\":\"white\",\"minorgridcolor\":\"white\",\"startlinecolor\":\"#2a3f5f\"},\"baxis\":{\"endlinecolor\":\"#2a3f5f\",\"gridcolor\":\"white\",\"linecolor\":\"white\",\"minorgridcolor\":\"white\",\"startlinecolor\":\"#2a3f5f\"},\"type\":\"carpet\"}],\"table\":[{\"cells\":{\"fill\":{\"color\":\"#EBF0F8\"},\"line\":{\"color\":\"white\"}},\"header\":{\"fill\":{\"color\":\"#C8D4E3\"},\"line\":{\"color\":\"white\"}},\"type\":\"table\"}],\"barpolar\":[{\"marker\":{\"line\":{\"color\":\"#E5ECF6\",\"width\":0.5},\"pattern\":{\"fillmode\":\"overlay\",\"size\":10,\"solidity\":0.2}},\"type\":\"barpolar\"}],\"pie\":[{\"automargin\":true,\"type\":\"pie\"}]},\"layout\":{\"autotypenumbers\":\"strict\",\"colorway\":[\"#636efa\",\"#EF553B\",\"#00cc96\",\"#ab63fa\",\"#FFA15A\",\"#19d3f3\",\"#FF6692\",\"#B6E880\",\"#FF97FF\",\"#FECB52\"],\"font\":{\"color\":\"#2a3f5f\"},\"hovermode\":\"closest\",\"hoverlabel\":{\"align\":\"left\"},\"paper_bgcolor\":\"white\",\"plot_bgcolor\":\"#E5ECF6\",\"polar\":{\"bgcolor\":\"#E5ECF6\",\"angularaxis\":{\"gridcolor\":\"white\",\"linecolor\":\"white\",\"ticks\":\"\"},\"radialaxis\":{\"gridcolor\":\"white\",\"linecolor\":\"white\",\"ticks\":\"\"}},\"ternary\":{\"bgcolor\":\"#E5ECF6\",\"aaxis\":{\"gridcolor\":\"white\",\"linecolor\":\"white\",\"ticks\":\"\"},\"baxis\":{\"gridcolor\":\"white\",\"linecolor\":\"white\",\"ticks\":\"\"},\"caxis\":{\"gridcolor\":\"white\",\"linecolor\":\"white\",\"ticks\":\"\"}},\"coloraxis\":{\"colorbar\":{\"outlinewidth\":0,\"ticks\":\"\"}},\"colorscale\":{\"sequential\":[[0.0,\"#0d0887\"],[0.1111111111111111,\"#46039f\"],[0.2222222222222222,\"#7201a8\"],[0.3333333333333333,\"#9c179e\"],[0.4444444444444444,\"#bd3786\"],[0.5555555555555556,\"#d8576b\"],[0.6666666666666666,\"#ed7953\"],[0.7777777777777778,\"#fb9f3a\"],[0.8888888888888888,\"#fdca26\"],[1.0,\"#f0f921\"]],\"sequentialminus\":[[0.0,\"#0d0887\"],[0.1111111111111111,\"#46039f\"],[0.2222222222222222,\"#7201a8\"],[0.3333333333333333,\"#9c179e\"],[0.4444444444444444,\"#bd3786\"],[0.5555555555555556,\"#d8576b\"],[0.6666666666666666,\"#ed7953\"],[0.7777777777777778,\"#fb9f3a\"],[0.8888888888888888,\"#fdca26\"],[1.0,\"#f0f921\"]],\"diverging\":[[0,\"#8e0152\"],[0.1,\"#c51b7d\"],[0.2,\"#de77ae\"],[0.3,\"#f1b6da\"],[0.4,\"#fde0ef\"],[0.5,\"#f7f7f7\"],[0.6,\"#e6f5d0\"],[0.7,\"#b8e186\"],[0.8,\"#7fbc41\"],[0.9,\"#4d9221\"],[1,\"#276419\"]]},\"xaxis\":{\"gridcolor\":\"white\",\"linecolor\":\"white\",\"ticks\":\"\",\"title\":{\"standoff\":15},\"zerolinecolor\":\"white\",\"automargin\":true,\"zerolinewidth\":2},\"yaxis\":{\"gridcolor\":\"white\",\"linecolor\":\"white\",\"ticks\":\"\",\"title\":{\"standoff\":15},\"zerolinecolor\":\"white\",\"automargin\":true,\"zerolinewidth\":2},\"scene\":{\"xaxis\":{\"backgroundcolor\":\"#E5ECF6\",\"gridcolor\":\"white\",\"linecolor\":\"white\",\"showbackground\":true,\"ticks\":\"\",\"zerolinecolor\":\"white\",\"gridwidth\":2},\"yaxis\":{\"backgroundcolor\":\"#E5ECF6\",\"gridcolor\":\"white\",\"linecolor\":\"white\",\"showbackground\":true,\"ticks\":\"\",\"zerolinecolor\":\"white\",\"gridwidth\":2},\"zaxis\":{\"backgroundcolor\":\"#E5ECF6\",\"gridcolor\":\"white\",\"linecolor\":\"white\",\"showbackground\":true,\"ticks\":\"\",\"zerolinecolor\":\"white\",\"gridwidth\":2}},\"shapedefaults\":{\"line\":{\"color\":\"#2a3f5f\"}},\"annotationdefaults\":{\"arrowcolor\":\"#2a3f5f\",\"arrowhead\":0,\"arrowwidth\":1},\"geo\":{\"bgcolor\":\"white\",\"landcolor\":\"#E5ECF6\",\"subunitcolor\":\"white\",\"showland\":true,\"showlakes\":true,\"lakecolor\":\"white\"},\"title\":{\"x\":0.05},\"mapbox\":{\"style\":\"light\"}}},\"xaxis\":{\"anchor\":\"y\",\"domain\":[0.0,1.0],\"title\":{\"text\":\"params.week_end_experiment_end_date\"}},\"yaxis\":{\"anchor\":\"x\",\"domain\":[0.0,1.0],\"title\":{\"text\":\"params.Product_Type.value_feature_importance_weighted_drift_detected\"}},\"legend\":{\"tracegroupgap\":0},\"margin\":{\"t\":60}},                        {\"responsive\": true}                    ).then(function(){\n",
       "                            \n",
       "var gd = document.getElementById('1b133f4b-af8e-42a6-9e99-dd8b32a909ff');\n",
       "var x = new MutationObserver(function (mutations, observer) {{\n",
       "        var display = window.getComputedStyle(gd).display;\n",
       "        if (!display || display === 'none') {{\n",
       "            console.log([gd, 'removed!']);\n",
       "            Plotly.purge(gd);\n",
       "            observer.disconnect();\n",
       "        }}\n",
       "}});\n",
       "\n",
       "// Listen for the removal of the full notebook cells\n",
       "var notebookContainer = gd.closest('#notebook-container');\n",
       "if (notebookContainer) {{\n",
       "    x.observe(notebookContainer, {childList: true});\n",
       "}}\n",
       "\n",
       "// Listen for the clearing of the current output cell\n",
       "var outputEl = gd.closest('.output');\n",
       "if (outputEl) {{\n",
       "    x.observe(outputEl, {childList: true});\n",
       "}}\n",
       "\n",
       "                        })                };                });            </script>        </div>"
      ]
     },
     "metadata": {},
     "output_type": "display_data"
    }
   ],
   "source": [
    "fig = px.line(drift_detected_experiment_results,  y='params.Product_Type.value_feature_importance_weighted_drift_detected', markers=True)\n",
    "fig.show()"
   ]
  },
  {
   "cell_type": "code",
   "execution_count": null,
   "id": "73506130",
   "metadata": {},
   "outputs": [
    {
     "data": {
      "application/vnd.plotly.v1+json": {
       "config": {
        "plotlyServerURL": "https://plot.ly"
       },
       "data": [
        {
         "hovertemplate": "params.week_end_experiment_end_date=%{x}<br>params.daily_dispatch_count_drift_detected=%{y}<extra></extra>",
         "legendgroup": "",
         "line": {
          "color": "#636efa",
          "dash": "solid"
         },
         "marker": {
          "symbol": "circle"
         },
         "mode": "lines+markers",
         "name": "",
         "orientation": "v",
         "showlegend": false,
         "type": "scatter",
         "x": [
          "2018-12-30 00:00:00",
          "2018-12-30 00:00:00",
          "2018-12-30 00:00:00",
          "2018-12-30 00:00:00",
          "2019-01-06 00:00:00",
          "2019-01-06 00:00:00",
          "2019-01-06 00:00:00",
          "2019-01-13 00:00:00",
          "2019-01-13 00:00:00",
          "2019-01-13 00:00:00",
          "2019-01-20 00:00:00",
          "2019-01-20 00:00:00",
          "2019-01-20 00:00:00",
          "2019-01-27 00:00:00",
          "2019-01-27 00:00:00",
          "2019-01-27 00:00:00",
          "2019-02-03 00:00:00",
          "2019-02-03 00:00:00",
          "2019-02-03 00:00:00",
          "2019-02-10 00:00:00",
          "2019-02-10 00:00:00",
          "2019-02-10 00:00:00",
          "2019-02-17 00:00:00",
          "2019-02-17 00:00:00",
          "2019-02-17 00:00:00",
          "2019-02-24 00:00:00",
          "2019-02-24 00:00:00",
          "2019-02-24 00:00:00",
          "2019-03-03 00:00:00",
          "2019-03-03 00:00:00",
          "2019-03-03 00:00:00",
          "2019-03-03 00:00:00",
          "2019-03-03 00:00:00",
          "2019-03-03 00:00:00",
          "2019-03-03 00:00:00",
          "2019-03-10 00:00:00",
          "2019-03-10 00:00:00",
          "2019-03-10 00:00:00",
          "2019-03-10 00:00:00",
          "2019-03-17 00:00:00",
          "2019-03-17 00:00:00",
          "2019-03-17 00:00:00",
          "2019-03-17 00:00:00",
          "2019-03-24 00:00:00",
          "2019-03-24 00:00:00",
          "2019-03-24 00:00:00",
          "2019-03-24 00:00:00",
          "2019-03-31 00:00:00",
          "2019-03-31 00:00:00",
          "2019-03-31 00:00:00",
          "2019-03-31 00:00:00",
          "2019-04-07 00:00:00",
          "2019-04-07 00:00:00",
          "2019-04-07 00:00:00",
          "2019-04-07 00:00:00",
          "2019-04-14 00:00:00",
          "2019-04-14 00:00:00",
          "2019-04-14 00:00:00",
          "2019-04-14 00:00:00",
          "2019-04-21 00:00:00",
          "2019-04-21 00:00:00",
          "2019-04-21 00:00:00",
          "2019-04-21 00:00:00",
          "2019-04-28 00:00:00",
          "2019-04-28 00:00:00",
          "2019-04-28 00:00:00",
          "2019-04-28 00:00:00",
          "2019-05-05 00:00:00",
          "2019-05-05 00:00:00",
          "2019-05-05 00:00:00",
          "2019-05-05 00:00:00",
          "2019-05-12 00:00:00",
          "2019-05-12 00:00:00",
          "2019-05-12 00:00:00",
          "2019-05-12 00:00:00",
          "2019-05-19 00:00:00",
          "2019-05-19 00:00:00",
          "2019-05-19 00:00:00",
          "2019-05-19 00:00:00",
          "2019-05-26 00:00:00",
          "2019-05-26 00:00:00",
          "2019-05-26 00:00:00",
          "2019-05-26 00:00:00",
          "2019-06-02 00:00:00",
          "2019-06-02 00:00:00",
          "2019-06-02 00:00:00",
          "2019-06-02 00:00:00",
          "2019-06-09 00:00:00",
          "2019-06-09 00:00:00",
          "2019-06-09 00:00:00",
          "2019-06-09 00:00:00",
          "2019-06-16 00:00:00",
          "2019-06-16 00:00:00",
          "2019-06-16 00:00:00",
          "2019-06-16 00:00:00",
          "2019-06-23 00:00:00",
          "2019-06-23 00:00:00",
          "2019-06-23 00:00:00",
          "2019-06-23 00:00:00",
          "2019-06-30 00:00:00",
          "2019-06-30 00:00:00",
          "2019-06-30 00:00:00",
          "2019-06-30 00:00:00",
          "2019-07-07 00:00:00",
          "2019-07-07 00:00:00",
          "2019-07-07 00:00:00",
          "2019-07-07 00:00:00",
          "2019-07-14 00:00:00",
          "2019-07-14 00:00:00",
          "2019-07-14 00:00:00",
          "2019-07-14 00:00:00",
          "2019-07-21 00:00:00",
          "2019-07-21 00:00:00",
          "2019-07-21 00:00:00",
          "2019-07-21 00:00:00",
          "2019-07-28 00:00:00",
          "2019-07-28 00:00:00",
          "2019-07-28 00:00:00",
          "2019-07-28 00:00:00",
          "2019-08-04 00:00:00",
          "2019-08-04 00:00:00",
          "2019-08-04 00:00:00",
          "2019-08-04 00:00:00",
          "2019-08-11 00:00:00",
          "2019-08-11 00:00:00",
          "2019-08-11 00:00:00",
          "2019-08-11 00:00:00",
          "2019-08-18 00:00:00",
          "2019-08-18 00:00:00",
          "2019-08-18 00:00:00",
          "2019-08-18 00:00:00",
          "2019-08-25 00:00:00",
          "2019-08-25 00:00:00",
          "2019-08-25 00:00:00",
          "2019-08-25 00:00:00",
          "2019-09-01 00:00:00",
          "2019-09-01 00:00:00",
          "2019-09-01 00:00:00",
          "2019-09-01 00:00:00",
          "2019-09-08 00:00:00",
          "2019-09-08 00:00:00",
          "2019-09-08 00:00:00",
          "2019-09-08 00:00:00",
          "2019-09-15 00:00:00",
          "2019-09-15 00:00:00",
          "2019-09-15 00:00:00",
          "2019-09-15 00:00:00",
          "2019-09-22 00:00:00",
          "2019-09-22 00:00:00",
          "2019-09-22 00:00:00",
          "2019-09-22 00:00:00",
          "2019-09-29 00:00:00",
          "2019-09-29 00:00:00",
          "2019-09-29 00:00:00",
          "2019-09-29 00:00:00",
          "2019-10-06 00:00:00",
          "2019-10-06 00:00:00",
          "2019-10-06 00:00:00",
          "2019-10-06 00:00:00",
          "2019-10-13 00:00:00",
          "2019-10-13 00:00:00",
          "2019-10-13 00:00:00",
          "2019-10-13 00:00:00",
          "2019-10-20 00:00:00",
          "2019-10-20 00:00:00",
          "2019-10-20 00:00:00",
          "2019-10-20 00:00:00",
          "2019-10-27 00:00:00",
          "2019-10-27 00:00:00",
          "2019-10-27 00:00:00",
          "2019-10-27 00:00:00",
          "2019-11-03 00:00:00",
          "2019-11-03 00:00:00",
          "2019-11-03 00:00:00",
          "2019-11-03 00:00:00",
          "2019-11-10 00:00:00",
          "2019-11-10 00:00:00",
          "2019-11-10 00:00:00",
          "2019-11-10 00:00:00",
          "2019-11-17 00:00:00",
          "2019-11-17 00:00:00",
          "2019-11-17 00:00:00",
          "2019-11-17 00:00:00",
          "2019-11-24 00:00:00",
          "2019-11-24 00:00:00",
          "2019-11-24 00:00:00",
          "2019-11-24 00:00:00",
          "2019-12-01 00:00:00",
          "2019-12-01 00:00:00",
          "2019-12-01 00:00:00",
          "2019-12-01 00:00:00",
          "2019-12-08 00:00:00",
          "2019-12-08 00:00:00",
          "2019-12-08 00:00:00",
          "2019-12-08 00:00:00",
          "2019-12-15 00:00:00",
          "2019-12-15 00:00:00",
          "2019-12-15 00:00:00",
          "2019-12-15 00:00:00",
          "2019-12-22 00:00:00",
          "2019-12-22 00:00:00",
          "2019-12-22 00:00:00",
          "2019-12-22 00:00:00",
          "2019-12-29 00:00:00",
          "2019-12-29 00:00:00",
          "2019-12-29 00:00:00",
          "2019-12-29 00:00:00",
          "2020-01-05 00:00:00",
          "2020-01-05 00:00:00",
          "2020-01-05 00:00:00",
          "2020-01-05 00:00:00",
          "2020-01-12 00:00:00",
          "2020-01-12 00:00:00",
          "2020-01-12 00:00:00",
          "2020-01-12 00:00:00",
          "2020-01-19 00:00:00",
          "2020-01-19 00:00:00",
          "2020-01-19 00:00:00",
          "2020-01-19 00:00:00",
          "2020-01-26 00:00:00",
          "2020-01-26 00:00:00",
          "2020-01-26 00:00:00",
          "2020-01-26 00:00:00",
          "2020-02-02 00:00:00",
          "2020-02-02 00:00:00",
          "2020-02-02 00:00:00",
          "2020-02-02 00:00:00",
          "2020-02-09 00:00:00",
          "2020-02-09 00:00:00",
          "2020-02-09 00:00:00",
          "2020-02-09 00:00:00",
          "2020-02-16 00:00:00",
          "2020-02-16 00:00:00",
          "2020-02-16 00:00:00",
          "2020-02-16 00:00:00",
          "2020-02-23 00:00:00",
          "2020-02-23 00:00:00",
          "2020-02-23 00:00:00",
          "2020-02-23 00:00:00",
          "2020-03-01 00:00:00",
          "2020-03-01 00:00:00",
          "2020-03-01 00:00:00",
          "2020-03-01 00:00:00",
          "2020-03-08 00:00:00",
          "2020-03-08 00:00:00",
          "2020-03-08 00:00:00",
          "2020-03-08 00:00:00",
          "2020-03-15 00:00:00",
          "2020-03-15 00:00:00",
          "2020-03-15 00:00:00",
          "2020-03-15 00:00:00",
          "2020-03-22 00:00:00",
          "2020-03-22 00:00:00",
          "2020-03-22 00:00:00",
          "2020-03-22 00:00:00",
          "2020-03-29 00:00:00",
          "2020-03-29 00:00:00",
          "2020-03-29 00:00:00",
          "2020-03-29 00:00:00",
          "2020-04-05 00:00:00",
          "2020-04-05 00:00:00",
          "2020-04-05 00:00:00",
          "2020-04-05 00:00:00",
          "2020-04-12 00:00:00",
          "2020-04-12 00:00:00",
          "2020-04-12 00:00:00",
          "2020-04-12 00:00:00",
          "2020-04-19 00:00:00",
          "2020-04-19 00:00:00",
          "2020-04-19 00:00:00",
          "2020-04-19 00:00:00",
          "2020-04-26 00:00:00",
          "2020-04-26 00:00:00",
          "2020-04-26 00:00:00",
          "2020-04-26 00:00:00",
          "2020-05-03 00:00:00",
          "2020-05-03 00:00:00",
          "2020-05-03 00:00:00",
          "2020-05-03 00:00:00",
          "2020-05-10 00:00:00",
          "2020-05-10 00:00:00",
          "2020-05-10 00:00:00",
          "2020-05-10 00:00:00",
          "2020-05-17 00:00:00",
          "2020-05-17 00:00:00",
          "2020-05-17 00:00:00",
          "2020-05-17 00:00:00",
          "2020-05-24 00:00:00",
          "2020-05-24 00:00:00",
          "2020-05-24 00:00:00",
          "2020-05-24 00:00:00",
          "2020-05-31 00:00:00",
          "2020-05-31 00:00:00",
          "2020-05-31 00:00:00",
          "2020-05-31 00:00:00",
          "2020-06-07 00:00:00",
          "2020-06-07 00:00:00",
          "2020-06-07 00:00:00",
          "2020-06-07 00:00:00",
          "2020-06-14 00:00:00",
          "2020-06-14 00:00:00",
          "2020-06-14 00:00:00",
          "2020-06-14 00:00:00",
          "2020-06-21 00:00:00",
          "2020-06-21 00:00:00",
          "2020-06-21 00:00:00",
          "2020-06-21 00:00:00",
          "2020-06-28 00:00:00",
          "2020-06-28 00:00:00",
          "2020-06-28 00:00:00",
          "2020-06-28 00:00:00",
          "2020-07-05 00:00:00",
          "2020-07-05 00:00:00",
          "2020-07-05 00:00:00",
          "2020-07-05 00:00:00",
          "2020-07-12 00:00:00",
          "2020-07-12 00:00:00",
          "2020-07-12 00:00:00",
          "2020-07-12 00:00:00",
          "2020-07-19 00:00:00",
          "2020-07-19 00:00:00",
          "2020-07-19 00:00:00",
          "2020-07-19 00:00:00",
          "2020-07-26 00:00:00",
          "2020-07-26 00:00:00",
          "2020-07-26 00:00:00",
          "2020-07-26 00:00:00",
          "2020-08-02 00:00:00",
          "2020-08-02 00:00:00",
          "2020-08-02 00:00:00",
          "2020-08-02 00:00:00",
          "2020-08-09 00:00:00",
          "2020-08-09 00:00:00",
          "2020-08-09 00:00:00",
          "2020-08-09 00:00:00",
          "2020-08-16 00:00:00",
          "2020-08-16 00:00:00",
          "2020-08-16 00:00:00",
          "2020-08-16 00:00:00",
          "2020-08-23 00:00:00",
          "2020-08-23 00:00:00",
          "2020-08-23 00:00:00",
          "2020-08-23 00:00:00",
          "2020-08-30 00:00:00",
          "2020-08-30 00:00:00",
          "2020-08-30 00:00:00",
          "2020-08-30 00:00:00",
          "2020-09-06 00:00:00",
          "2020-09-06 00:00:00",
          "2020-09-06 00:00:00",
          "2020-09-06 00:00:00",
          "2020-09-13 00:00:00",
          "2020-09-13 00:00:00",
          "2020-09-13 00:00:00",
          "2020-09-13 00:00:00",
          "2020-09-20 00:00:00",
          "2020-09-20 00:00:00",
          "2020-09-20 00:00:00",
          "2020-09-20 00:00:00",
          "2020-09-27 00:00:00",
          "2020-09-27 00:00:00",
          "2020-09-27 00:00:00",
          "2020-09-27 00:00:00",
          "2020-10-04 00:00:00",
          "2020-10-04 00:00:00",
          "2020-10-04 00:00:00",
          "2020-10-04 00:00:00",
          "2020-10-11 00:00:00",
          "2020-10-11 00:00:00",
          "2020-10-11 00:00:00",
          "2020-10-11 00:00:00",
          "2020-10-18 00:00:00",
          "2020-10-18 00:00:00",
          "2020-10-18 00:00:00",
          "2020-10-18 00:00:00",
          "2020-10-25 00:00:00",
          "2020-10-25 00:00:00",
          "2020-10-25 00:00:00",
          "2020-10-25 00:00:00",
          "2020-11-01 00:00:00",
          "2020-11-01 00:00:00",
          "2020-11-01 00:00:00",
          "2020-11-01 00:00:00",
          "2020-11-08 00:00:00",
          "2020-11-08 00:00:00",
          "2020-11-08 00:00:00",
          "2020-11-08 00:00:00",
          "2020-11-15 00:00:00",
          "2020-11-15 00:00:00",
          "2020-11-15 00:00:00",
          "2020-11-15 00:00:00"
         ],
         "xaxis": "x",
         "y": [
          1,
          1,
          1,
          1,
          1,
          1,
          1,
          1,
          1,
          1,
          1,
          1,
          1,
          1,
          1,
          1,
          1,
          1,
          1,
          1,
          1,
          1,
          1,
          1,
          1,
          1,
          1,
          1,
          0,
          0,
          1,
          1,
          1,
          1,
          1,
          1,
          1,
          0,
          0,
          0,
          0,
          1,
          1,
          0,
          0,
          1,
          1,
          0,
          1,
          0,
          1,
          1,
          1,
          0,
          0,
          1,
          0,
          1,
          0,
          0,
          0,
          1,
          1,
          1,
          0,
          1,
          0,
          1,
          1,
          0,
          0,
          0,
          1,
          0,
          1,
          0,
          0,
          1,
          1,
          0,
          1,
          0,
          1,
          1,
          1,
          0,
          0,
          1,
          0,
          0,
          1,
          0,
          0,
          1,
          1,
          1,
          1,
          0,
          0,
          1,
          1,
          0,
          0,
          1,
          0,
          0,
          1,
          1,
          0,
          0,
          1,
          1,
          0,
          0,
          1,
          0,
          1,
          0,
          1,
          1,
          0,
          0,
          1,
          1,
          0,
          0,
          1,
          0,
          0,
          1,
          1,
          0,
          0,
          1,
          1,
          1,
          1,
          0,
          0,
          1,
          0,
          1,
          0,
          1,
          0,
          1,
          0,
          0,
          0,
          1,
          1,
          0,
          0,
          1,
          1,
          1,
          0,
          0,
          1,
          0,
          0,
          1,
          1,
          1,
          0,
          1,
          0,
          1,
          0,
          1,
          0,
          0,
          0,
          1,
          1,
          1,
          0,
          0,
          1,
          1,
          1,
          0,
          0,
          1,
          0,
          1,
          0,
          1,
          0,
          1,
          0,
          1,
          1,
          0,
          0,
          1,
          0,
          1,
          0,
          1,
          0,
          1,
          0,
          1,
          1,
          0,
          0,
          1,
          0,
          0,
          1,
          1,
          0,
          1,
          0,
          0,
          1,
          0,
          1,
          0,
          0,
          1,
          1,
          1,
          0,
          0,
          1,
          1,
          1,
          0,
          0,
          1,
          0,
          0,
          1,
          1,
          0,
          1,
          0,
          1,
          0,
          0,
          1,
          0,
          0,
          1,
          1,
          0,
          1,
          1,
          0,
          1,
          1,
          0,
          0,
          1,
          1,
          0,
          0,
          1,
          1,
          0,
          0,
          0,
          1,
          0,
          1,
          0,
          1,
          0,
          1,
          1,
          0,
          1,
          0,
          0,
          0,
          1,
          1,
          0,
          0,
          1,
          1,
          0,
          0,
          1,
          1,
          0,
          1,
          1,
          0,
          0,
          1,
          1,
          0,
          1,
          1,
          0,
          0,
          0,
          1,
          1,
          0,
          1,
          0,
          1,
          0,
          0,
          1,
          0,
          1,
          1,
          1,
          0,
          0,
          0,
          1,
          0,
          1,
          0,
          0,
          1,
          1,
          0,
          0,
          1,
          1,
          1,
          0,
          1,
          0,
          1,
          0,
          1,
          0,
          0,
          1,
          0,
          1,
          0,
          1,
          0,
          1,
          1,
          1,
          0,
          0,
          0,
          0,
          1,
          1,
          1,
          0,
          0,
          1,
          1,
          0,
          0,
          1,
          0,
          0,
          1,
          1,
          1,
          0,
          0,
          1,
          0,
          1,
          0,
          1,
          1,
          0,
          1,
          0,
          1,
          0,
          0,
          1,
          1,
          0,
          1,
          0,
          1,
          0,
          0,
          1,
          1,
          0,
          1,
          0
         ],
         "yaxis": "y"
        }
       ],
       "layout": {
        "legend": {
         "tracegroupgap": 0
        },
        "margin": {
         "t": 60
        },
        "template": {
         "data": {
          "bar": [
           {
            "error_x": {
             "color": "#2a3f5f"
            },
            "error_y": {
             "color": "#2a3f5f"
            },
            "marker": {
             "line": {
              "color": "#E5ECF6",
              "width": 0.5
             },
             "pattern": {
              "fillmode": "overlay",
              "size": 10,
              "solidity": 0.2
             }
            },
            "type": "bar"
           }
          ],
          "barpolar": [
           {
            "marker": {
             "line": {
              "color": "#E5ECF6",
              "width": 0.5
             },
             "pattern": {
              "fillmode": "overlay",
              "size": 10,
              "solidity": 0.2
             }
            },
            "type": "barpolar"
           }
          ],
          "carpet": [
           {
            "aaxis": {
             "endlinecolor": "#2a3f5f",
             "gridcolor": "white",
             "linecolor": "white",
             "minorgridcolor": "white",
             "startlinecolor": "#2a3f5f"
            },
            "baxis": {
             "endlinecolor": "#2a3f5f",
             "gridcolor": "white",
             "linecolor": "white",
             "minorgridcolor": "white",
             "startlinecolor": "#2a3f5f"
            },
            "type": "carpet"
           }
          ],
          "choropleth": [
           {
            "colorbar": {
             "outlinewidth": 0,
             "ticks": ""
            },
            "type": "choropleth"
           }
          ],
          "contour": [
           {
            "colorbar": {
             "outlinewidth": 0,
             "ticks": ""
            },
            "colorscale": [
             [
              0,
              "#0d0887"
             ],
             [
              0.1111111111111111,
              "#46039f"
             ],
             [
              0.2222222222222222,
              "#7201a8"
             ],
             [
              0.3333333333333333,
              "#9c179e"
             ],
             [
              0.4444444444444444,
              "#bd3786"
             ],
             [
              0.5555555555555556,
              "#d8576b"
             ],
             [
              0.6666666666666666,
              "#ed7953"
             ],
             [
              0.7777777777777778,
              "#fb9f3a"
             ],
             [
              0.8888888888888888,
              "#fdca26"
             ],
             [
              1,
              "#f0f921"
             ]
            ],
            "type": "contour"
           }
          ],
          "contourcarpet": [
           {
            "colorbar": {
             "outlinewidth": 0,
             "ticks": ""
            },
            "type": "contourcarpet"
           }
          ],
          "heatmap": [
           {
            "colorbar": {
             "outlinewidth": 0,
             "ticks": ""
            },
            "colorscale": [
             [
              0,
              "#0d0887"
             ],
             [
              0.1111111111111111,
              "#46039f"
             ],
             [
              0.2222222222222222,
              "#7201a8"
             ],
             [
              0.3333333333333333,
              "#9c179e"
             ],
             [
              0.4444444444444444,
              "#bd3786"
             ],
             [
              0.5555555555555556,
              "#d8576b"
             ],
             [
              0.6666666666666666,
              "#ed7953"
             ],
             [
              0.7777777777777778,
              "#fb9f3a"
             ],
             [
              0.8888888888888888,
              "#fdca26"
             ],
             [
              1,
              "#f0f921"
             ]
            ],
            "type": "heatmap"
           }
          ],
          "heatmapgl": [
           {
            "colorbar": {
             "outlinewidth": 0,
             "ticks": ""
            },
            "colorscale": [
             [
              0,
              "#0d0887"
             ],
             [
              0.1111111111111111,
              "#46039f"
             ],
             [
              0.2222222222222222,
              "#7201a8"
             ],
             [
              0.3333333333333333,
              "#9c179e"
             ],
             [
              0.4444444444444444,
              "#bd3786"
             ],
             [
              0.5555555555555556,
              "#d8576b"
             ],
             [
              0.6666666666666666,
              "#ed7953"
             ],
             [
              0.7777777777777778,
              "#fb9f3a"
             ],
             [
              0.8888888888888888,
              "#fdca26"
             ],
             [
              1,
              "#f0f921"
             ]
            ],
            "type": "heatmapgl"
           }
          ],
          "histogram": [
           {
            "marker": {
             "pattern": {
              "fillmode": "overlay",
              "size": 10,
              "solidity": 0.2
             }
            },
            "type": "histogram"
           }
          ],
          "histogram2d": [
           {
            "colorbar": {
             "outlinewidth": 0,
             "ticks": ""
            },
            "colorscale": [
             [
              0,
              "#0d0887"
             ],
             [
              0.1111111111111111,
              "#46039f"
             ],
             [
              0.2222222222222222,
              "#7201a8"
             ],
             [
              0.3333333333333333,
              "#9c179e"
             ],
             [
              0.4444444444444444,
              "#bd3786"
             ],
             [
              0.5555555555555556,
              "#d8576b"
             ],
             [
              0.6666666666666666,
              "#ed7953"
             ],
             [
              0.7777777777777778,
              "#fb9f3a"
             ],
             [
              0.8888888888888888,
              "#fdca26"
             ],
             [
              1,
              "#f0f921"
             ]
            ],
            "type": "histogram2d"
           }
          ],
          "histogram2dcontour": [
           {
            "colorbar": {
             "outlinewidth": 0,
             "ticks": ""
            },
            "colorscale": [
             [
              0,
              "#0d0887"
             ],
             [
              0.1111111111111111,
              "#46039f"
             ],
             [
              0.2222222222222222,
              "#7201a8"
             ],
             [
              0.3333333333333333,
              "#9c179e"
             ],
             [
              0.4444444444444444,
              "#bd3786"
             ],
             [
              0.5555555555555556,
              "#d8576b"
             ],
             [
              0.6666666666666666,
              "#ed7953"
             ],
             [
              0.7777777777777778,
              "#fb9f3a"
             ],
             [
              0.8888888888888888,
              "#fdca26"
             ],
             [
              1,
              "#f0f921"
             ]
            ],
            "type": "histogram2dcontour"
           }
          ],
          "mesh3d": [
           {
            "colorbar": {
             "outlinewidth": 0,
             "ticks": ""
            },
            "type": "mesh3d"
           }
          ],
          "parcoords": [
           {
            "line": {
             "colorbar": {
              "outlinewidth": 0,
              "ticks": ""
             }
            },
            "type": "parcoords"
           }
          ],
          "pie": [
           {
            "automargin": true,
            "type": "pie"
           }
          ],
          "scatter": [
           {
            "fillpattern": {
             "fillmode": "overlay",
             "size": 10,
             "solidity": 0.2
            },
            "type": "scatter"
           }
          ],
          "scatter3d": [
           {
            "line": {
             "colorbar": {
              "outlinewidth": 0,
              "ticks": ""
             }
            },
            "marker": {
             "colorbar": {
              "outlinewidth": 0,
              "ticks": ""
             }
            },
            "type": "scatter3d"
           }
          ],
          "scattercarpet": [
           {
            "marker": {
             "colorbar": {
              "outlinewidth": 0,
              "ticks": ""
             }
            },
            "type": "scattercarpet"
           }
          ],
          "scattergeo": [
           {
            "marker": {
             "colorbar": {
              "outlinewidth": 0,
              "ticks": ""
             }
            },
            "type": "scattergeo"
           }
          ],
          "scattergl": [
           {
            "marker": {
             "colorbar": {
              "outlinewidth": 0,
              "ticks": ""
             }
            },
            "type": "scattergl"
           }
          ],
          "scattermapbox": [
           {
            "marker": {
             "colorbar": {
              "outlinewidth": 0,
              "ticks": ""
             }
            },
            "type": "scattermapbox"
           }
          ],
          "scatterpolar": [
           {
            "marker": {
             "colorbar": {
              "outlinewidth": 0,
              "ticks": ""
             }
            },
            "type": "scatterpolar"
           }
          ],
          "scatterpolargl": [
           {
            "marker": {
             "colorbar": {
              "outlinewidth": 0,
              "ticks": ""
             }
            },
            "type": "scatterpolargl"
           }
          ],
          "scatterternary": [
           {
            "marker": {
             "colorbar": {
              "outlinewidth": 0,
              "ticks": ""
             }
            },
            "type": "scatterternary"
           }
          ],
          "surface": [
           {
            "colorbar": {
             "outlinewidth": 0,
             "ticks": ""
            },
            "colorscale": [
             [
              0,
              "#0d0887"
             ],
             [
              0.1111111111111111,
              "#46039f"
             ],
             [
              0.2222222222222222,
              "#7201a8"
             ],
             [
              0.3333333333333333,
              "#9c179e"
             ],
             [
              0.4444444444444444,
              "#bd3786"
             ],
             [
              0.5555555555555556,
              "#d8576b"
             ],
             [
              0.6666666666666666,
              "#ed7953"
             ],
             [
              0.7777777777777778,
              "#fb9f3a"
             ],
             [
              0.8888888888888888,
              "#fdca26"
             ],
             [
              1,
              "#f0f921"
             ]
            ],
            "type": "surface"
           }
          ],
          "table": [
           {
            "cells": {
             "fill": {
              "color": "#EBF0F8"
             },
             "line": {
              "color": "white"
             }
            },
            "header": {
             "fill": {
              "color": "#C8D4E3"
             },
             "line": {
              "color": "white"
             }
            },
            "type": "table"
           }
          ]
         },
         "layout": {
          "annotationdefaults": {
           "arrowcolor": "#2a3f5f",
           "arrowhead": 0,
           "arrowwidth": 1
          },
          "autotypenumbers": "strict",
          "coloraxis": {
           "colorbar": {
            "outlinewidth": 0,
            "ticks": ""
           }
          },
          "colorscale": {
           "diverging": [
            [
             0,
             "#8e0152"
            ],
            [
             0.1,
             "#c51b7d"
            ],
            [
             0.2,
             "#de77ae"
            ],
            [
             0.3,
             "#f1b6da"
            ],
            [
             0.4,
             "#fde0ef"
            ],
            [
             0.5,
             "#f7f7f7"
            ],
            [
             0.6,
             "#e6f5d0"
            ],
            [
             0.7,
             "#b8e186"
            ],
            [
             0.8,
             "#7fbc41"
            ],
            [
             0.9,
             "#4d9221"
            ],
            [
             1,
             "#276419"
            ]
           ],
           "sequential": [
            [
             0,
             "#0d0887"
            ],
            [
             0.1111111111111111,
             "#46039f"
            ],
            [
             0.2222222222222222,
             "#7201a8"
            ],
            [
             0.3333333333333333,
             "#9c179e"
            ],
            [
             0.4444444444444444,
             "#bd3786"
            ],
            [
             0.5555555555555556,
             "#d8576b"
            ],
            [
             0.6666666666666666,
             "#ed7953"
            ],
            [
             0.7777777777777778,
             "#fb9f3a"
            ],
            [
             0.8888888888888888,
             "#fdca26"
            ],
            [
             1,
             "#f0f921"
            ]
           ],
           "sequentialminus": [
            [
             0,
             "#0d0887"
            ],
            [
             0.1111111111111111,
             "#46039f"
            ],
            [
             0.2222222222222222,
             "#7201a8"
            ],
            [
             0.3333333333333333,
             "#9c179e"
            ],
            [
             0.4444444444444444,
             "#bd3786"
            ],
            [
             0.5555555555555556,
             "#d8576b"
            ],
            [
             0.6666666666666666,
             "#ed7953"
            ],
            [
             0.7777777777777778,
             "#fb9f3a"
            ],
            [
             0.8888888888888888,
             "#fdca26"
            ],
            [
             1,
             "#f0f921"
            ]
           ]
          },
          "colorway": [
           "#636efa",
           "#EF553B",
           "#00cc96",
           "#ab63fa",
           "#FFA15A",
           "#19d3f3",
           "#FF6692",
           "#B6E880",
           "#FF97FF",
           "#FECB52"
          ],
          "font": {
           "color": "#2a3f5f"
          },
          "geo": {
           "bgcolor": "white",
           "lakecolor": "white",
           "landcolor": "#E5ECF6",
           "showlakes": true,
           "showland": true,
           "subunitcolor": "white"
          },
          "hoverlabel": {
           "align": "left"
          },
          "hovermode": "closest",
          "mapbox": {
           "style": "light"
          },
          "paper_bgcolor": "white",
          "plot_bgcolor": "#E5ECF6",
          "polar": {
           "angularaxis": {
            "gridcolor": "white",
            "linecolor": "white",
            "ticks": ""
           },
           "bgcolor": "#E5ECF6",
           "radialaxis": {
            "gridcolor": "white",
            "linecolor": "white",
            "ticks": ""
           }
          },
          "scene": {
           "xaxis": {
            "backgroundcolor": "#E5ECF6",
            "gridcolor": "white",
            "gridwidth": 2,
            "linecolor": "white",
            "showbackground": true,
            "ticks": "",
            "zerolinecolor": "white"
           },
           "yaxis": {
            "backgroundcolor": "#E5ECF6",
            "gridcolor": "white",
            "gridwidth": 2,
            "linecolor": "white",
            "showbackground": true,
            "ticks": "",
            "zerolinecolor": "white"
           },
           "zaxis": {
            "backgroundcolor": "#E5ECF6",
            "gridcolor": "white",
            "gridwidth": 2,
            "linecolor": "white",
            "showbackground": true,
            "ticks": "",
            "zerolinecolor": "white"
           }
          },
          "shapedefaults": {
           "line": {
            "color": "#2a3f5f"
           }
          },
          "ternary": {
           "aaxis": {
            "gridcolor": "white",
            "linecolor": "white",
            "ticks": ""
           },
           "baxis": {
            "gridcolor": "white",
            "linecolor": "white",
            "ticks": ""
           },
           "bgcolor": "#E5ECF6",
           "caxis": {
            "gridcolor": "white",
            "linecolor": "white",
            "ticks": ""
           }
          },
          "title": {
           "x": 0.05
          },
          "xaxis": {
           "automargin": true,
           "gridcolor": "white",
           "linecolor": "white",
           "ticks": "",
           "title": {
            "standoff": 15
           },
           "zerolinecolor": "white",
           "zerolinewidth": 2
          },
          "yaxis": {
           "automargin": true,
           "gridcolor": "white",
           "linecolor": "white",
           "ticks": "",
           "title": {
            "standoff": 15
           },
           "zerolinecolor": "white",
           "zerolinewidth": 2
          }
         }
        },
        "xaxis": {
         "anchor": "y",
         "domain": [
          0,
          1
         ],
         "title": {
          "text": "params.week_end_experiment_end_date"
         }
        },
        "yaxis": {
         "anchor": "x",
         "domain": [
          0,
          1
         ],
         "title": {
          "text": "params.daily_dispatch_count_drift_detected"
         }
        }
       }
      },
      "text/html": [
       "<div>                            <div id=\"a4e7fd65-a1d5-4156-8592-f09f4eba3ae3\" class=\"plotly-graph-div\" style=\"height:525px; width:100%;\"></div>            <script type=\"text/javascript\">                require([\"plotly\"], function(Plotly) {                    window.PLOTLYENV=window.PLOTLYENV || {};                                    if (document.getElementById(\"a4e7fd65-a1d5-4156-8592-f09f4eba3ae3\")) {                    Plotly.newPlot(                        \"a4e7fd65-a1d5-4156-8592-f09f4eba3ae3\",                        [{\"hovertemplate\":\"params.week_end_experiment_end_date=%{x}<br>params.daily_dispatch_count_drift_detected=%{y}<extra></extra>\",\"legendgroup\":\"\",\"line\":{\"color\":\"#636efa\",\"dash\":\"solid\"},\"marker\":{\"symbol\":\"circle\"},\"mode\":\"lines+markers\",\"name\":\"\",\"orientation\":\"v\",\"showlegend\":false,\"x\":[\"2018-12-30 00:00:00\",\"2018-12-30 00:00:00\",\"2018-12-30 00:00:00\",\"2018-12-30 00:00:00\",\"2019-01-06 00:00:00\",\"2019-01-06 00:00:00\",\"2019-01-06 00:00:00\",\"2019-01-13 00:00:00\",\"2019-01-13 00:00:00\",\"2019-01-13 00:00:00\",\"2019-01-20 00:00:00\",\"2019-01-20 00:00:00\",\"2019-01-20 00:00:00\",\"2019-01-27 00:00:00\",\"2019-01-27 00:00:00\",\"2019-01-27 00:00:00\",\"2019-02-03 00:00:00\",\"2019-02-03 00:00:00\",\"2019-02-03 00:00:00\",\"2019-02-10 00:00:00\",\"2019-02-10 00:00:00\",\"2019-02-10 00:00:00\",\"2019-02-17 00:00:00\",\"2019-02-17 00:00:00\",\"2019-02-17 00:00:00\",\"2019-02-24 00:00:00\",\"2019-02-24 00:00:00\",\"2019-02-24 00:00:00\",\"2019-03-03 00:00:00\",\"2019-03-03 00:00:00\",\"2019-03-03 00:00:00\",\"2019-03-03 00:00:00\",\"2019-03-03 00:00:00\",\"2019-03-03 00:00:00\",\"2019-03-03 00:00:00\",\"2019-03-10 00:00:00\",\"2019-03-10 00:00:00\",\"2019-03-10 00:00:00\",\"2019-03-10 00:00:00\",\"2019-03-17 00:00:00\",\"2019-03-17 00:00:00\",\"2019-03-17 00:00:00\",\"2019-03-17 00:00:00\",\"2019-03-24 00:00:00\",\"2019-03-24 00:00:00\",\"2019-03-24 00:00:00\",\"2019-03-24 00:00:00\",\"2019-03-31 00:00:00\",\"2019-03-31 00:00:00\",\"2019-03-31 00:00:00\",\"2019-03-31 00:00:00\",\"2019-04-07 00:00:00\",\"2019-04-07 00:00:00\",\"2019-04-07 00:00:00\",\"2019-04-07 00:00:00\",\"2019-04-14 00:00:00\",\"2019-04-14 00:00:00\",\"2019-04-14 00:00:00\",\"2019-04-14 00:00:00\",\"2019-04-21 00:00:00\",\"2019-04-21 00:00:00\",\"2019-04-21 00:00:00\",\"2019-04-21 00:00:00\",\"2019-04-28 00:00:00\",\"2019-04-28 00:00:00\",\"2019-04-28 00:00:00\",\"2019-04-28 00:00:00\",\"2019-05-05 00:00:00\",\"2019-05-05 00:00:00\",\"2019-05-05 00:00:00\",\"2019-05-05 00:00:00\",\"2019-05-12 00:00:00\",\"2019-05-12 00:00:00\",\"2019-05-12 00:00:00\",\"2019-05-12 00:00:00\",\"2019-05-19 00:00:00\",\"2019-05-19 00:00:00\",\"2019-05-19 00:00:00\",\"2019-05-19 00:00:00\",\"2019-05-26 00:00:00\",\"2019-05-26 00:00:00\",\"2019-05-26 00:00:00\",\"2019-05-26 00:00:00\",\"2019-06-02 00:00:00\",\"2019-06-02 00:00:00\",\"2019-06-02 00:00:00\",\"2019-06-02 00:00:00\",\"2019-06-09 00:00:00\",\"2019-06-09 00:00:00\",\"2019-06-09 00:00:00\",\"2019-06-09 00:00:00\",\"2019-06-16 00:00:00\",\"2019-06-16 00:00:00\",\"2019-06-16 00:00:00\",\"2019-06-16 00:00:00\",\"2019-06-23 00:00:00\",\"2019-06-23 00:00:00\",\"2019-06-23 00:00:00\",\"2019-06-23 00:00:00\",\"2019-06-30 00:00:00\",\"2019-06-30 00:00:00\",\"2019-06-30 00:00:00\",\"2019-06-30 00:00:00\",\"2019-07-07 00:00:00\",\"2019-07-07 00:00:00\",\"2019-07-07 00:00:00\",\"2019-07-07 00:00:00\",\"2019-07-14 00:00:00\",\"2019-07-14 00:00:00\",\"2019-07-14 00:00:00\",\"2019-07-14 00:00:00\",\"2019-07-21 00:00:00\",\"2019-07-21 00:00:00\",\"2019-07-21 00:00:00\",\"2019-07-21 00:00:00\",\"2019-07-28 00:00:00\",\"2019-07-28 00:00:00\",\"2019-07-28 00:00:00\",\"2019-07-28 00:00:00\",\"2019-08-04 00:00:00\",\"2019-08-04 00:00:00\",\"2019-08-04 00:00:00\",\"2019-08-04 00:00:00\",\"2019-08-11 00:00:00\",\"2019-08-11 00:00:00\",\"2019-08-11 00:00:00\",\"2019-08-11 00:00:00\",\"2019-08-18 00:00:00\",\"2019-08-18 00:00:00\",\"2019-08-18 00:00:00\",\"2019-08-18 00:00:00\",\"2019-08-25 00:00:00\",\"2019-08-25 00:00:00\",\"2019-08-25 00:00:00\",\"2019-08-25 00:00:00\",\"2019-09-01 00:00:00\",\"2019-09-01 00:00:00\",\"2019-09-01 00:00:00\",\"2019-09-01 00:00:00\",\"2019-09-08 00:00:00\",\"2019-09-08 00:00:00\",\"2019-09-08 00:00:00\",\"2019-09-08 00:00:00\",\"2019-09-15 00:00:00\",\"2019-09-15 00:00:00\",\"2019-09-15 00:00:00\",\"2019-09-15 00:00:00\",\"2019-09-22 00:00:00\",\"2019-09-22 00:00:00\",\"2019-09-22 00:00:00\",\"2019-09-22 00:00:00\",\"2019-09-29 00:00:00\",\"2019-09-29 00:00:00\",\"2019-09-29 00:00:00\",\"2019-09-29 00:00:00\",\"2019-10-06 00:00:00\",\"2019-10-06 00:00:00\",\"2019-10-06 00:00:00\",\"2019-10-06 00:00:00\",\"2019-10-13 00:00:00\",\"2019-10-13 00:00:00\",\"2019-10-13 00:00:00\",\"2019-10-13 00:00:00\",\"2019-10-20 00:00:00\",\"2019-10-20 00:00:00\",\"2019-10-20 00:00:00\",\"2019-10-20 00:00:00\",\"2019-10-27 00:00:00\",\"2019-10-27 00:00:00\",\"2019-10-27 00:00:00\",\"2019-10-27 00:00:00\",\"2019-11-03 00:00:00\",\"2019-11-03 00:00:00\",\"2019-11-03 00:00:00\",\"2019-11-03 00:00:00\",\"2019-11-10 00:00:00\",\"2019-11-10 00:00:00\",\"2019-11-10 00:00:00\",\"2019-11-10 00:00:00\",\"2019-11-17 00:00:00\",\"2019-11-17 00:00:00\",\"2019-11-17 00:00:00\",\"2019-11-17 00:00:00\",\"2019-11-24 00:00:00\",\"2019-11-24 00:00:00\",\"2019-11-24 00:00:00\",\"2019-11-24 00:00:00\",\"2019-12-01 00:00:00\",\"2019-12-01 00:00:00\",\"2019-12-01 00:00:00\",\"2019-12-01 00:00:00\",\"2019-12-08 00:00:00\",\"2019-12-08 00:00:00\",\"2019-12-08 00:00:00\",\"2019-12-08 00:00:00\",\"2019-12-15 00:00:00\",\"2019-12-15 00:00:00\",\"2019-12-15 00:00:00\",\"2019-12-15 00:00:00\",\"2019-12-22 00:00:00\",\"2019-12-22 00:00:00\",\"2019-12-22 00:00:00\",\"2019-12-22 00:00:00\",\"2019-12-29 00:00:00\",\"2019-12-29 00:00:00\",\"2019-12-29 00:00:00\",\"2019-12-29 00:00:00\",\"2020-01-05 00:00:00\",\"2020-01-05 00:00:00\",\"2020-01-05 00:00:00\",\"2020-01-05 00:00:00\",\"2020-01-12 00:00:00\",\"2020-01-12 00:00:00\",\"2020-01-12 00:00:00\",\"2020-01-12 00:00:00\",\"2020-01-19 00:00:00\",\"2020-01-19 00:00:00\",\"2020-01-19 00:00:00\",\"2020-01-19 00:00:00\",\"2020-01-26 00:00:00\",\"2020-01-26 00:00:00\",\"2020-01-26 00:00:00\",\"2020-01-26 00:00:00\",\"2020-02-02 00:00:00\",\"2020-02-02 00:00:00\",\"2020-02-02 00:00:00\",\"2020-02-02 00:00:00\",\"2020-02-09 00:00:00\",\"2020-02-09 00:00:00\",\"2020-02-09 00:00:00\",\"2020-02-09 00:00:00\",\"2020-02-16 00:00:00\",\"2020-02-16 00:00:00\",\"2020-02-16 00:00:00\",\"2020-02-16 00:00:00\",\"2020-02-23 00:00:00\",\"2020-02-23 00:00:00\",\"2020-02-23 00:00:00\",\"2020-02-23 00:00:00\",\"2020-03-01 00:00:00\",\"2020-03-01 00:00:00\",\"2020-03-01 00:00:00\",\"2020-03-01 00:00:00\",\"2020-03-08 00:00:00\",\"2020-03-08 00:00:00\",\"2020-03-08 00:00:00\",\"2020-03-08 00:00:00\",\"2020-03-15 00:00:00\",\"2020-03-15 00:00:00\",\"2020-03-15 00:00:00\",\"2020-03-15 00:00:00\",\"2020-03-22 00:00:00\",\"2020-03-22 00:00:00\",\"2020-03-22 00:00:00\",\"2020-03-22 00:00:00\",\"2020-03-29 00:00:00\",\"2020-03-29 00:00:00\",\"2020-03-29 00:00:00\",\"2020-03-29 00:00:00\",\"2020-04-05 00:00:00\",\"2020-04-05 00:00:00\",\"2020-04-05 00:00:00\",\"2020-04-05 00:00:00\",\"2020-04-12 00:00:00\",\"2020-04-12 00:00:00\",\"2020-04-12 00:00:00\",\"2020-04-12 00:00:00\",\"2020-04-19 00:00:00\",\"2020-04-19 00:00:00\",\"2020-04-19 00:00:00\",\"2020-04-19 00:00:00\",\"2020-04-26 00:00:00\",\"2020-04-26 00:00:00\",\"2020-04-26 00:00:00\",\"2020-04-26 00:00:00\",\"2020-05-03 00:00:00\",\"2020-05-03 00:00:00\",\"2020-05-03 00:00:00\",\"2020-05-03 00:00:00\",\"2020-05-10 00:00:00\",\"2020-05-10 00:00:00\",\"2020-05-10 00:00:00\",\"2020-05-10 00:00:00\",\"2020-05-17 00:00:00\",\"2020-05-17 00:00:00\",\"2020-05-17 00:00:00\",\"2020-05-17 00:00:00\",\"2020-05-24 00:00:00\",\"2020-05-24 00:00:00\",\"2020-05-24 00:00:00\",\"2020-05-24 00:00:00\",\"2020-05-31 00:00:00\",\"2020-05-31 00:00:00\",\"2020-05-31 00:00:00\",\"2020-05-31 00:00:00\",\"2020-06-07 00:00:00\",\"2020-06-07 00:00:00\",\"2020-06-07 00:00:00\",\"2020-06-07 00:00:00\",\"2020-06-14 00:00:00\",\"2020-06-14 00:00:00\",\"2020-06-14 00:00:00\",\"2020-06-14 00:00:00\",\"2020-06-21 00:00:00\",\"2020-06-21 00:00:00\",\"2020-06-21 00:00:00\",\"2020-06-21 00:00:00\",\"2020-06-28 00:00:00\",\"2020-06-28 00:00:00\",\"2020-06-28 00:00:00\",\"2020-06-28 00:00:00\",\"2020-07-05 00:00:00\",\"2020-07-05 00:00:00\",\"2020-07-05 00:00:00\",\"2020-07-05 00:00:00\",\"2020-07-12 00:00:00\",\"2020-07-12 00:00:00\",\"2020-07-12 00:00:00\",\"2020-07-12 00:00:00\",\"2020-07-19 00:00:00\",\"2020-07-19 00:00:00\",\"2020-07-19 00:00:00\",\"2020-07-19 00:00:00\",\"2020-07-26 00:00:00\",\"2020-07-26 00:00:00\",\"2020-07-26 00:00:00\",\"2020-07-26 00:00:00\",\"2020-08-02 00:00:00\",\"2020-08-02 00:00:00\",\"2020-08-02 00:00:00\",\"2020-08-02 00:00:00\",\"2020-08-09 00:00:00\",\"2020-08-09 00:00:00\",\"2020-08-09 00:00:00\",\"2020-08-09 00:00:00\",\"2020-08-16 00:00:00\",\"2020-08-16 00:00:00\",\"2020-08-16 00:00:00\",\"2020-08-16 00:00:00\",\"2020-08-23 00:00:00\",\"2020-08-23 00:00:00\",\"2020-08-23 00:00:00\",\"2020-08-23 00:00:00\",\"2020-08-30 00:00:00\",\"2020-08-30 00:00:00\",\"2020-08-30 00:00:00\",\"2020-08-30 00:00:00\",\"2020-09-06 00:00:00\",\"2020-09-06 00:00:00\",\"2020-09-06 00:00:00\",\"2020-09-06 00:00:00\",\"2020-09-13 00:00:00\",\"2020-09-13 00:00:00\",\"2020-09-13 00:00:00\",\"2020-09-13 00:00:00\",\"2020-09-20 00:00:00\",\"2020-09-20 00:00:00\",\"2020-09-20 00:00:00\",\"2020-09-20 00:00:00\",\"2020-09-27 00:00:00\",\"2020-09-27 00:00:00\",\"2020-09-27 00:00:00\",\"2020-09-27 00:00:00\",\"2020-10-04 00:00:00\",\"2020-10-04 00:00:00\",\"2020-10-04 00:00:00\",\"2020-10-04 00:00:00\",\"2020-10-11 00:00:00\",\"2020-10-11 00:00:00\",\"2020-10-11 00:00:00\",\"2020-10-11 00:00:00\",\"2020-10-18 00:00:00\",\"2020-10-18 00:00:00\",\"2020-10-18 00:00:00\",\"2020-10-18 00:00:00\",\"2020-10-25 00:00:00\",\"2020-10-25 00:00:00\",\"2020-10-25 00:00:00\",\"2020-10-25 00:00:00\",\"2020-11-01 00:00:00\",\"2020-11-01 00:00:00\",\"2020-11-01 00:00:00\",\"2020-11-01 00:00:00\",\"2020-11-08 00:00:00\",\"2020-11-08 00:00:00\",\"2020-11-08 00:00:00\",\"2020-11-08 00:00:00\",\"2020-11-15 00:00:00\",\"2020-11-15 00:00:00\",\"2020-11-15 00:00:00\",\"2020-11-15 00:00:00\"],\"xaxis\":\"x\",\"y\":[1,1,1,1,1,1,1,1,1,1,1,1,1,1,1,1,1,1,1,1,1,1,1,1,1,1,1,1,0,0,1,1,1,1,1,1,1,0,0,0,0,1,1,0,0,1,1,0,1,0,1,1,1,0,0,1,0,1,0,0,0,1,1,1,0,1,0,1,1,0,0,0,1,0,1,0,0,1,1,0,1,0,1,1,1,0,0,1,0,0,1,0,0,1,1,1,1,0,0,1,1,0,0,1,0,0,1,1,0,0,1,1,0,0,1,0,1,0,1,1,0,0,1,1,0,0,1,0,0,1,1,0,0,1,1,1,1,0,0,1,0,1,0,1,0,1,0,0,0,1,1,0,0,1,1,1,0,0,1,0,0,1,1,1,0,1,0,1,0,1,0,0,0,1,1,1,0,0,1,1,1,0,0,1,0,1,0,1,0,1,0,1,1,0,0,1,0,1,0,1,0,1,0,1,1,0,0,1,0,0,1,1,0,1,0,0,1,0,1,0,0,1,1,1,0,0,1,1,1,0,0,1,0,0,1,1,0,1,0,1,0,0,1,0,0,1,1,0,1,1,0,1,1,0,0,1,1,0,0,1,1,0,0,0,1,0,1,0,1,0,1,1,0,1,0,0,0,1,1,0,0,1,1,0,0,1,1,0,1,1,0,0,1,1,0,1,1,0,0,0,1,1,0,1,0,1,0,0,1,0,1,1,1,0,0,0,1,0,1,0,0,1,1,0,0,1,1,1,0,1,0,1,0,1,0,0,1,0,1,0,1,0,1,1,1,0,0,0,0,1,1,1,0,0,1,1,0,0,1,0,0,1,1,1,0,0,1,0,1,0,1,1,0,1,0,1,0,0,1,1,0,1,0,1,0,0,1,1,0,1,0],\"yaxis\":\"y\",\"type\":\"scatter\"}],                        {\"template\":{\"data\":{\"histogram2dcontour\":[{\"type\":\"histogram2dcontour\",\"colorbar\":{\"outlinewidth\":0,\"ticks\":\"\"},\"colorscale\":[[0.0,\"#0d0887\"],[0.1111111111111111,\"#46039f\"],[0.2222222222222222,\"#7201a8\"],[0.3333333333333333,\"#9c179e\"],[0.4444444444444444,\"#bd3786\"],[0.5555555555555556,\"#d8576b\"],[0.6666666666666666,\"#ed7953\"],[0.7777777777777778,\"#fb9f3a\"],[0.8888888888888888,\"#fdca26\"],[1.0,\"#f0f921\"]]}],\"choropleth\":[{\"type\":\"choropleth\",\"colorbar\":{\"outlinewidth\":0,\"ticks\":\"\"}}],\"histogram2d\":[{\"type\":\"histogram2d\",\"colorbar\":{\"outlinewidth\":0,\"ticks\":\"\"},\"colorscale\":[[0.0,\"#0d0887\"],[0.1111111111111111,\"#46039f\"],[0.2222222222222222,\"#7201a8\"],[0.3333333333333333,\"#9c179e\"],[0.4444444444444444,\"#bd3786\"],[0.5555555555555556,\"#d8576b\"],[0.6666666666666666,\"#ed7953\"],[0.7777777777777778,\"#fb9f3a\"],[0.8888888888888888,\"#fdca26\"],[1.0,\"#f0f921\"]]}],\"heatmap\":[{\"type\":\"heatmap\",\"colorbar\":{\"outlinewidth\":0,\"ticks\":\"\"},\"colorscale\":[[0.0,\"#0d0887\"],[0.1111111111111111,\"#46039f\"],[0.2222222222222222,\"#7201a8\"],[0.3333333333333333,\"#9c179e\"],[0.4444444444444444,\"#bd3786\"],[0.5555555555555556,\"#d8576b\"],[0.6666666666666666,\"#ed7953\"],[0.7777777777777778,\"#fb9f3a\"],[0.8888888888888888,\"#fdca26\"],[1.0,\"#f0f921\"]]}],\"heatmapgl\":[{\"type\":\"heatmapgl\",\"colorbar\":{\"outlinewidth\":0,\"ticks\":\"\"},\"colorscale\":[[0.0,\"#0d0887\"],[0.1111111111111111,\"#46039f\"],[0.2222222222222222,\"#7201a8\"],[0.3333333333333333,\"#9c179e\"],[0.4444444444444444,\"#bd3786\"],[0.5555555555555556,\"#d8576b\"],[0.6666666666666666,\"#ed7953\"],[0.7777777777777778,\"#fb9f3a\"],[0.8888888888888888,\"#fdca26\"],[1.0,\"#f0f921\"]]}],\"contourcarpet\":[{\"type\":\"contourcarpet\",\"colorbar\":{\"outlinewidth\":0,\"ticks\":\"\"}}],\"contour\":[{\"type\":\"contour\",\"colorbar\":{\"outlinewidth\":0,\"ticks\":\"\"},\"colorscale\":[[0.0,\"#0d0887\"],[0.1111111111111111,\"#46039f\"],[0.2222222222222222,\"#7201a8\"],[0.3333333333333333,\"#9c179e\"],[0.4444444444444444,\"#bd3786\"],[0.5555555555555556,\"#d8576b\"],[0.6666666666666666,\"#ed7953\"],[0.7777777777777778,\"#fb9f3a\"],[0.8888888888888888,\"#fdca26\"],[1.0,\"#f0f921\"]]}],\"surface\":[{\"type\":\"surface\",\"colorbar\":{\"outlinewidth\":0,\"ticks\":\"\"},\"colorscale\":[[0.0,\"#0d0887\"],[0.1111111111111111,\"#46039f\"],[0.2222222222222222,\"#7201a8\"],[0.3333333333333333,\"#9c179e\"],[0.4444444444444444,\"#bd3786\"],[0.5555555555555556,\"#d8576b\"],[0.6666666666666666,\"#ed7953\"],[0.7777777777777778,\"#fb9f3a\"],[0.8888888888888888,\"#fdca26\"],[1.0,\"#f0f921\"]]}],\"mesh3d\":[{\"type\":\"mesh3d\",\"colorbar\":{\"outlinewidth\":0,\"ticks\":\"\"}}],\"scatter\":[{\"fillpattern\":{\"fillmode\":\"overlay\",\"size\":10,\"solidity\":0.2},\"type\":\"scatter\"}],\"parcoords\":[{\"type\":\"parcoords\",\"line\":{\"colorbar\":{\"outlinewidth\":0,\"ticks\":\"\"}}}],\"scatterpolargl\":[{\"type\":\"scatterpolargl\",\"marker\":{\"colorbar\":{\"outlinewidth\":0,\"ticks\":\"\"}}}],\"bar\":[{\"error_x\":{\"color\":\"#2a3f5f\"},\"error_y\":{\"color\":\"#2a3f5f\"},\"marker\":{\"line\":{\"color\":\"#E5ECF6\",\"width\":0.5},\"pattern\":{\"fillmode\":\"overlay\",\"size\":10,\"solidity\":0.2}},\"type\":\"bar\"}],\"scattergeo\":[{\"type\":\"scattergeo\",\"marker\":{\"colorbar\":{\"outlinewidth\":0,\"ticks\":\"\"}}}],\"scatterpolar\":[{\"type\":\"scatterpolar\",\"marker\":{\"colorbar\":{\"outlinewidth\":0,\"ticks\":\"\"}}}],\"histogram\":[{\"marker\":{\"pattern\":{\"fillmode\":\"overlay\",\"size\":10,\"solidity\":0.2}},\"type\":\"histogram\"}],\"scattergl\":[{\"type\":\"scattergl\",\"marker\":{\"colorbar\":{\"outlinewidth\":0,\"ticks\":\"\"}}}],\"scatter3d\":[{\"type\":\"scatter3d\",\"line\":{\"colorbar\":{\"outlinewidth\":0,\"ticks\":\"\"}},\"marker\":{\"colorbar\":{\"outlinewidth\":0,\"ticks\":\"\"}}}],\"scattermapbox\":[{\"type\":\"scattermapbox\",\"marker\":{\"colorbar\":{\"outlinewidth\":0,\"ticks\":\"\"}}}],\"scatterternary\":[{\"type\":\"scatterternary\",\"marker\":{\"colorbar\":{\"outlinewidth\":0,\"ticks\":\"\"}}}],\"scattercarpet\":[{\"type\":\"scattercarpet\",\"marker\":{\"colorbar\":{\"outlinewidth\":0,\"ticks\":\"\"}}}],\"carpet\":[{\"aaxis\":{\"endlinecolor\":\"#2a3f5f\",\"gridcolor\":\"white\",\"linecolor\":\"white\",\"minorgridcolor\":\"white\",\"startlinecolor\":\"#2a3f5f\"},\"baxis\":{\"endlinecolor\":\"#2a3f5f\",\"gridcolor\":\"white\",\"linecolor\":\"white\",\"minorgridcolor\":\"white\",\"startlinecolor\":\"#2a3f5f\"},\"type\":\"carpet\"}],\"table\":[{\"cells\":{\"fill\":{\"color\":\"#EBF0F8\"},\"line\":{\"color\":\"white\"}},\"header\":{\"fill\":{\"color\":\"#C8D4E3\"},\"line\":{\"color\":\"white\"}},\"type\":\"table\"}],\"barpolar\":[{\"marker\":{\"line\":{\"color\":\"#E5ECF6\",\"width\":0.5},\"pattern\":{\"fillmode\":\"overlay\",\"size\":10,\"solidity\":0.2}},\"type\":\"barpolar\"}],\"pie\":[{\"automargin\":true,\"type\":\"pie\"}]},\"layout\":{\"autotypenumbers\":\"strict\",\"colorway\":[\"#636efa\",\"#EF553B\",\"#00cc96\",\"#ab63fa\",\"#FFA15A\",\"#19d3f3\",\"#FF6692\",\"#B6E880\",\"#FF97FF\",\"#FECB52\"],\"font\":{\"color\":\"#2a3f5f\"},\"hovermode\":\"closest\",\"hoverlabel\":{\"align\":\"left\"},\"paper_bgcolor\":\"white\",\"plot_bgcolor\":\"#E5ECF6\",\"polar\":{\"bgcolor\":\"#E5ECF6\",\"angularaxis\":{\"gridcolor\":\"white\",\"linecolor\":\"white\",\"ticks\":\"\"},\"radialaxis\":{\"gridcolor\":\"white\",\"linecolor\":\"white\",\"ticks\":\"\"}},\"ternary\":{\"bgcolor\":\"#E5ECF6\",\"aaxis\":{\"gridcolor\":\"white\",\"linecolor\":\"white\",\"ticks\":\"\"},\"baxis\":{\"gridcolor\":\"white\",\"linecolor\":\"white\",\"ticks\":\"\"},\"caxis\":{\"gridcolor\":\"white\",\"linecolor\":\"white\",\"ticks\":\"\"}},\"coloraxis\":{\"colorbar\":{\"outlinewidth\":0,\"ticks\":\"\"}},\"colorscale\":{\"sequential\":[[0.0,\"#0d0887\"],[0.1111111111111111,\"#46039f\"],[0.2222222222222222,\"#7201a8\"],[0.3333333333333333,\"#9c179e\"],[0.4444444444444444,\"#bd3786\"],[0.5555555555555556,\"#d8576b\"],[0.6666666666666666,\"#ed7953\"],[0.7777777777777778,\"#fb9f3a\"],[0.8888888888888888,\"#fdca26\"],[1.0,\"#f0f921\"]],\"sequentialminus\":[[0.0,\"#0d0887\"],[0.1111111111111111,\"#46039f\"],[0.2222222222222222,\"#7201a8\"],[0.3333333333333333,\"#9c179e\"],[0.4444444444444444,\"#bd3786\"],[0.5555555555555556,\"#d8576b\"],[0.6666666666666666,\"#ed7953\"],[0.7777777777777778,\"#fb9f3a\"],[0.8888888888888888,\"#fdca26\"],[1.0,\"#f0f921\"]],\"diverging\":[[0,\"#8e0152\"],[0.1,\"#c51b7d\"],[0.2,\"#de77ae\"],[0.3,\"#f1b6da\"],[0.4,\"#fde0ef\"],[0.5,\"#f7f7f7\"],[0.6,\"#e6f5d0\"],[0.7,\"#b8e186\"],[0.8,\"#7fbc41\"],[0.9,\"#4d9221\"],[1,\"#276419\"]]},\"xaxis\":{\"gridcolor\":\"white\",\"linecolor\":\"white\",\"ticks\":\"\",\"title\":{\"standoff\":15},\"zerolinecolor\":\"white\",\"automargin\":true,\"zerolinewidth\":2},\"yaxis\":{\"gridcolor\":\"white\",\"linecolor\":\"white\",\"ticks\":\"\",\"title\":{\"standoff\":15},\"zerolinecolor\":\"white\",\"automargin\":true,\"zerolinewidth\":2},\"scene\":{\"xaxis\":{\"backgroundcolor\":\"#E5ECF6\",\"gridcolor\":\"white\",\"linecolor\":\"white\",\"showbackground\":true,\"ticks\":\"\",\"zerolinecolor\":\"white\",\"gridwidth\":2},\"yaxis\":{\"backgroundcolor\":\"#E5ECF6\",\"gridcolor\":\"white\",\"linecolor\":\"white\",\"showbackground\":true,\"ticks\":\"\",\"zerolinecolor\":\"white\",\"gridwidth\":2},\"zaxis\":{\"backgroundcolor\":\"#E5ECF6\",\"gridcolor\":\"white\",\"linecolor\":\"white\",\"showbackground\":true,\"ticks\":\"\",\"zerolinecolor\":\"white\",\"gridwidth\":2}},\"shapedefaults\":{\"line\":{\"color\":\"#2a3f5f\"}},\"annotationdefaults\":{\"arrowcolor\":\"#2a3f5f\",\"arrowhead\":0,\"arrowwidth\":1},\"geo\":{\"bgcolor\":\"white\",\"landcolor\":\"#E5ECF6\",\"subunitcolor\":\"white\",\"showland\":true,\"showlakes\":true,\"lakecolor\":\"white\"},\"title\":{\"x\":0.05},\"mapbox\":{\"style\":\"light\"}}},\"xaxis\":{\"anchor\":\"y\",\"domain\":[0.0,1.0],\"title\":{\"text\":\"params.week_end_experiment_end_date\"}},\"yaxis\":{\"anchor\":\"x\",\"domain\":[0.0,1.0],\"title\":{\"text\":\"params.daily_dispatch_count_drift_detected\"}},\"legend\":{\"tracegroupgap\":0},\"margin\":{\"t\":60}},                        {\"responsive\": true}                    ).then(function(){\n",
       "                            \n",
       "var gd = document.getElementById('a4e7fd65-a1d5-4156-8592-f09f4eba3ae3');\n",
       "var x = new MutationObserver(function (mutations, observer) {{\n",
       "        var display = window.getComputedStyle(gd).display;\n",
       "        if (!display || display === 'none') {{\n",
       "            console.log([gd, 'removed!']);\n",
       "            Plotly.purge(gd);\n",
       "            observer.disconnect();\n",
       "        }}\n",
       "}});\n",
       "\n",
       "// Listen for the removal of the full notebook cells\n",
       "var notebookContainer = gd.closest('#notebook-container');\n",
       "if (notebookContainer) {{\n",
       "    x.observe(notebookContainer, {childList: true});\n",
       "}}\n",
       "\n",
       "// Listen for the clearing of the current output cell\n",
       "var outputEl = gd.closest('.output');\n",
       "if (outputEl) {{\n",
       "    x.observe(outputEl, {childList: true});\n",
       "}}\n",
       "\n",
       "                        })                };                });            </script>        </div>"
      ]
     },
     "metadata": {},
     "output_type": "display_data"
    }
   ],
   "source": [
    "fig = px.line(drift_detected_experiment_results,  y='params.daily_dispatch_count_drift_detected', markers=True)\n",
    "fig.show()"
   ]
  },
  {
   "cell_type": "code",
   "execution_count": null,
   "id": "b6a5927a",
   "metadata": {},
   "outputs": [
    {
     "data": {
      "application/vnd.plotly.v1+json": {
       "config": {
        "plotlyServerURL": "https://plot.ly"
       },
       "data": [
        {
         "hovertemplate": "params.week_end_experiment_end_date=%{x}<br>params.Product_Type.value_drift_score=%{y}<extra></extra>",
         "legendgroup": "",
         "line": {
          "color": "#636efa",
          "dash": "solid"
         },
         "marker": {
          "symbol": "circle"
         },
         "mode": "lines+markers",
         "name": "",
         "orientation": "v",
         "showlegend": false,
         "type": "scatter",
         "x": [
          "2018-12-30 00:00:00",
          "2018-12-30 00:00:00",
          "2018-12-30 00:00:00",
          "2018-12-30 00:00:00",
          "2019-01-06 00:00:00",
          "2019-01-06 00:00:00",
          "2019-01-06 00:00:00",
          "2019-01-13 00:00:00",
          "2019-01-13 00:00:00",
          "2019-01-13 00:00:00",
          "2019-01-20 00:00:00",
          "2019-01-20 00:00:00",
          "2019-01-20 00:00:00",
          "2019-01-27 00:00:00",
          "2019-01-27 00:00:00",
          "2019-01-27 00:00:00",
          "2019-02-03 00:00:00",
          "2019-02-03 00:00:00",
          "2019-02-03 00:00:00",
          "2019-02-10 00:00:00",
          "2019-02-10 00:00:00",
          "2019-02-10 00:00:00",
          "2019-02-17 00:00:00",
          "2019-02-17 00:00:00",
          "2019-02-17 00:00:00",
          "2019-02-24 00:00:00",
          "2019-02-24 00:00:00",
          "2019-02-24 00:00:00",
          "2019-03-03 00:00:00",
          "2019-03-03 00:00:00",
          "2019-03-03 00:00:00",
          "2019-03-03 00:00:00",
          "2019-03-03 00:00:00",
          "2019-03-03 00:00:00",
          "2019-03-03 00:00:00",
          "2019-03-10 00:00:00",
          "2019-03-10 00:00:00",
          "2019-03-10 00:00:00",
          "2019-03-10 00:00:00",
          "2019-03-17 00:00:00",
          "2019-03-17 00:00:00",
          "2019-03-17 00:00:00",
          "2019-03-17 00:00:00",
          "2019-03-24 00:00:00",
          "2019-03-24 00:00:00",
          "2019-03-24 00:00:00",
          "2019-03-24 00:00:00",
          "2019-03-31 00:00:00",
          "2019-03-31 00:00:00",
          "2019-03-31 00:00:00",
          "2019-03-31 00:00:00",
          "2019-04-07 00:00:00",
          "2019-04-07 00:00:00",
          "2019-04-07 00:00:00",
          "2019-04-07 00:00:00",
          "2019-04-14 00:00:00",
          "2019-04-14 00:00:00",
          "2019-04-14 00:00:00",
          "2019-04-14 00:00:00",
          "2019-04-21 00:00:00",
          "2019-04-21 00:00:00",
          "2019-04-21 00:00:00",
          "2019-04-21 00:00:00",
          "2019-04-28 00:00:00",
          "2019-04-28 00:00:00",
          "2019-04-28 00:00:00",
          "2019-04-28 00:00:00",
          "2019-05-05 00:00:00",
          "2019-05-05 00:00:00",
          "2019-05-05 00:00:00",
          "2019-05-05 00:00:00",
          "2019-05-12 00:00:00",
          "2019-05-12 00:00:00",
          "2019-05-12 00:00:00",
          "2019-05-12 00:00:00",
          "2019-05-19 00:00:00",
          "2019-05-19 00:00:00",
          "2019-05-19 00:00:00",
          "2019-05-19 00:00:00",
          "2019-05-26 00:00:00",
          "2019-05-26 00:00:00",
          "2019-05-26 00:00:00",
          "2019-05-26 00:00:00",
          "2019-06-02 00:00:00",
          "2019-06-02 00:00:00",
          "2019-06-02 00:00:00",
          "2019-06-02 00:00:00",
          "2019-06-09 00:00:00",
          "2019-06-09 00:00:00",
          "2019-06-09 00:00:00",
          "2019-06-09 00:00:00",
          "2019-06-16 00:00:00",
          "2019-06-16 00:00:00",
          "2019-06-16 00:00:00",
          "2019-06-16 00:00:00",
          "2019-06-23 00:00:00",
          "2019-06-23 00:00:00",
          "2019-06-23 00:00:00",
          "2019-06-23 00:00:00",
          "2019-06-30 00:00:00",
          "2019-06-30 00:00:00",
          "2019-06-30 00:00:00",
          "2019-06-30 00:00:00",
          "2019-07-07 00:00:00",
          "2019-07-07 00:00:00",
          "2019-07-07 00:00:00",
          "2019-07-07 00:00:00",
          "2019-07-14 00:00:00",
          "2019-07-14 00:00:00",
          "2019-07-14 00:00:00",
          "2019-07-14 00:00:00",
          "2019-07-21 00:00:00",
          "2019-07-21 00:00:00",
          "2019-07-21 00:00:00",
          "2019-07-21 00:00:00",
          "2019-07-28 00:00:00",
          "2019-07-28 00:00:00",
          "2019-07-28 00:00:00",
          "2019-07-28 00:00:00",
          "2019-08-04 00:00:00",
          "2019-08-04 00:00:00",
          "2019-08-04 00:00:00",
          "2019-08-04 00:00:00",
          "2019-08-11 00:00:00",
          "2019-08-11 00:00:00",
          "2019-08-11 00:00:00",
          "2019-08-11 00:00:00",
          "2019-08-18 00:00:00",
          "2019-08-18 00:00:00",
          "2019-08-18 00:00:00",
          "2019-08-18 00:00:00",
          "2019-08-25 00:00:00",
          "2019-08-25 00:00:00",
          "2019-08-25 00:00:00",
          "2019-08-25 00:00:00",
          "2019-09-01 00:00:00",
          "2019-09-01 00:00:00",
          "2019-09-01 00:00:00",
          "2019-09-01 00:00:00",
          "2019-09-08 00:00:00",
          "2019-09-08 00:00:00",
          "2019-09-08 00:00:00",
          "2019-09-08 00:00:00",
          "2019-09-15 00:00:00",
          "2019-09-15 00:00:00",
          "2019-09-15 00:00:00",
          "2019-09-15 00:00:00",
          "2019-09-22 00:00:00",
          "2019-09-22 00:00:00",
          "2019-09-22 00:00:00",
          "2019-09-22 00:00:00",
          "2019-09-29 00:00:00",
          "2019-09-29 00:00:00",
          "2019-09-29 00:00:00",
          "2019-09-29 00:00:00",
          "2019-10-06 00:00:00",
          "2019-10-06 00:00:00",
          "2019-10-06 00:00:00",
          "2019-10-06 00:00:00",
          "2019-10-13 00:00:00",
          "2019-10-13 00:00:00",
          "2019-10-13 00:00:00",
          "2019-10-13 00:00:00",
          "2019-10-20 00:00:00",
          "2019-10-20 00:00:00",
          "2019-10-20 00:00:00",
          "2019-10-20 00:00:00",
          "2019-10-27 00:00:00",
          "2019-10-27 00:00:00",
          "2019-10-27 00:00:00",
          "2019-10-27 00:00:00",
          "2019-11-03 00:00:00",
          "2019-11-03 00:00:00",
          "2019-11-03 00:00:00",
          "2019-11-03 00:00:00",
          "2019-11-10 00:00:00",
          "2019-11-10 00:00:00",
          "2019-11-10 00:00:00",
          "2019-11-10 00:00:00",
          "2019-11-17 00:00:00",
          "2019-11-17 00:00:00",
          "2019-11-17 00:00:00",
          "2019-11-17 00:00:00",
          "2019-11-24 00:00:00",
          "2019-11-24 00:00:00",
          "2019-11-24 00:00:00",
          "2019-11-24 00:00:00",
          "2019-12-01 00:00:00",
          "2019-12-01 00:00:00",
          "2019-12-01 00:00:00",
          "2019-12-01 00:00:00",
          "2019-12-08 00:00:00",
          "2019-12-08 00:00:00",
          "2019-12-08 00:00:00",
          "2019-12-08 00:00:00",
          "2019-12-15 00:00:00",
          "2019-12-15 00:00:00",
          "2019-12-15 00:00:00",
          "2019-12-15 00:00:00",
          "2019-12-22 00:00:00",
          "2019-12-22 00:00:00",
          "2019-12-22 00:00:00",
          "2019-12-22 00:00:00",
          "2019-12-29 00:00:00",
          "2019-12-29 00:00:00",
          "2019-12-29 00:00:00",
          "2019-12-29 00:00:00",
          "2020-01-05 00:00:00",
          "2020-01-05 00:00:00",
          "2020-01-05 00:00:00",
          "2020-01-05 00:00:00",
          "2020-01-12 00:00:00",
          "2020-01-12 00:00:00",
          "2020-01-12 00:00:00",
          "2020-01-12 00:00:00",
          "2020-01-19 00:00:00",
          "2020-01-19 00:00:00",
          "2020-01-19 00:00:00",
          "2020-01-19 00:00:00",
          "2020-01-26 00:00:00",
          "2020-01-26 00:00:00",
          "2020-01-26 00:00:00",
          "2020-01-26 00:00:00",
          "2020-02-02 00:00:00",
          "2020-02-02 00:00:00",
          "2020-02-02 00:00:00",
          "2020-02-02 00:00:00",
          "2020-02-09 00:00:00",
          "2020-02-09 00:00:00",
          "2020-02-09 00:00:00",
          "2020-02-09 00:00:00",
          "2020-02-16 00:00:00",
          "2020-02-16 00:00:00",
          "2020-02-16 00:00:00",
          "2020-02-16 00:00:00",
          "2020-02-23 00:00:00",
          "2020-02-23 00:00:00",
          "2020-02-23 00:00:00",
          "2020-02-23 00:00:00",
          "2020-03-01 00:00:00",
          "2020-03-01 00:00:00",
          "2020-03-01 00:00:00",
          "2020-03-01 00:00:00",
          "2020-03-08 00:00:00",
          "2020-03-08 00:00:00",
          "2020-03-08 00:00:00",
          "2020-03-08 00:00:00",
          "2020-03-15 00:00:00",
          "2020-03-15 00:00:00",
          "2020-03-15 00:00:00",
          "2020-03-15 00:00:00",
          "2020-03-22 00:00:00",
          "2020-03-22 00:00:00",
          "2020-03-22 00:00:00",
          "2020-03-22 00:00:00",
          "2020-03-29 00:00:00",
          "2020-03-29 00:00:00",
          "2020-03-29 00:00:00",
          "2020-03-29 00:00:00",
          "2020-04-05 00:00:00",
          "2020-04-05 00:00:00",
          "2020-04-05 00:00:00",
          "2020-04-05 00:00:00",
          "2020-04-12 00:00:00",
          "2020-04-12 00:00:00",
          "2020-04-12 00:00:00",
          "2020-04-12 00:00:00",
          "2020-04-19 00:00:00",
          "2020-04-19 00:00:00",
          "2020-04-19 00:00:00",
          "2020-04-19 00:00:00",
          "2020-04-26 00:00:00",
          "2020-04-26 00:00:00",
          "2020-04-26 00:00:00",
          "2020-04-26 00:00:00",
          "2020-05-03 00:00:00",
          "2020-05-03 00:00:00",
          "2020-05-03 00:00:00",
          "2020-05-03 00:00:00",
          "2020-05-10 00:00:00",
          "2020-05-10 00:00:00",
          "2020-05-10 00:00:00",
          "2020-05-10 00:00:00",
          "2020-05-17 00:00:00",
          "2020-05-17 00:00:00",
          "2020-05-17 00:00:00",
          "2020-05-17 00:00:00",
          "2020-05-24 00:00:00",
          "2020-05-24 00:00:00",
          "2020-05-24 00:00:00",
          "2020-05-24 00:00:00",
          "2020-05-31 00:00:00",
          "2020-05-31 00:00:00",
          "2020-05-31 00:00:00",
          "2020-05-31 00:00:00",
          "2020-06-07 00:00:00",
          "2020-06-07 00:00:00",
          "2020-06-07 00:00:00",
          "2020-06-07 00:00:00",
          "2020-06-14 00:00:00",
          "2020-06-14 00:00:00",
          "2020-06-14 00:00:00",
          "2020-06-14 00:00:00",
          "2020-06-21 00:00:00",
          "2020-06-21 00:00:00",
          "2020-06-21 00:00:00",
          "2020-06-21 00:00:00",
          "2020-06-28 00:00:00",
          "2020-06-28 00:00:00",
          "2020-06-28 00:00:00",
          "2020-06-28 00:00:00",
          "2020-07-05 00:00:00",
          "2020-07-05 00:00:00",
          "2020-07-05 00:00:00",
          "2020-07-05 00:00:00",
          "2020-07-12 00:00:00",
          "2020-07-12 00:00:00",
          "2020-07-12 00:00:00",
          "2020-07-12 00:00:00",
          "2020-07-19 00:00:00",
          "2020-07-19 00:00:00",
          "2020-07-19 00:00:00",
          "2020-07-19 00:00:00",
          "2020-07-26 00:00:00",
          "2020-07-26 00:00:00",
          "2020-07-26 00:00:00",
          "2020-07-26 00:00:00",
          "2020-08-02 00:00:00",
          "2020-08-02 00:00:00",
          "2020-08-02 00:00:00",
          "2020-08-02 00:00:00",
          "2020-08-09 00:00:00",
          "2020-08-09 00:00:00",
          "2020-08-09 00:00:00",
          "2020-08-09 00:00:00",
          "2020-08-16 00:00:00",
          "2020-08-16 00:00:00",
          "2020-08-16 00:00:00",
          "2020-08-16 00:00:00",
          "2020-08-23 00:00:00",
          "2020-08-23 00:00:00",
          "2020-08-23 00:00:00",
          "2020-08-23 00:00:00",
          "2020-08-30 00:00:00",
          "2020-08-30 00:00:00",
          "2020-08-30 00:00:00",
          "2020-08-30 00:00:00",
          "2020-09-06 00:00:00",
          "2020-09-06 00:00:00",
          "2020-09-06 00:00:00",
          "2020-09-06 00:00:00",
          "2020-09-13 00:00:00",
          "2020-09-13 00:00:00",
          "2020-09-13 00:00:00",
          "2020-09-13 00:00:00",
          "2020-09-20 00:00:00",
          "2020-09-20 00:00:00",
          "2020-09-20 00:00:00",
          "2020-09-20 00:00:00",
          "2020-09-27 00:00:00",
          "2020-09-27 00:00:00",
          "2020-09-27 00:00:00",
          "2020-09-27 00:00:00",
          "2020-10-04 00:00:00",
          "2020-10-04 00:00:00",
          "2020-10-04 00:00:00",
          "2020-10-04 00:00:00",
          "2020-10-11 00:00:00",
          "2020-10-11 00:00:00",
          "2020-10-11 00:00:00",
          "2020-10-11 00:00:00",
          "2020-10-18 00:00:00",
          "2020-10-18 00:00:00",
          "2020-10-18 00:00:00",
          "2020-10-18 00:00:00",
          "2020-10-25 00:00:00",
          "2020-10-25 00:00:00",
          "2020-10-25 00:00:00",
          "2020-10-25 00:00:00",
          "2020-11-01 00:00:00",
          "2020-11-01 00:00:00",
          "2020-11-01 00:00:00",
          "2020-11-01 00:00:00",
          "2020-11-08 00:00:00",
          "2020-11-08 00:00:00",
          "2020-11-08 00:00:00",
          "2020-11-08 00:00:00",
          "2020-11-15 00:00:00",
          "2020-11-15 00:00:00",
          "2020-11-15 00:00:00",
          "2020-11-15 00:00:00"
         ],
         "xaxis": "x",
         "y": [
          0.8325546111576977,
          0.8325546111576977,
          0,
          0.8325546111576977,
          0.8325546111576977,
          0.8325546111576977,
          0.8325546111576977,
          0.8325546111576977,
          0.8325546111576977,
          0.8325546111576977,
          0.8325546111576977,
          0.8325546111576977,
          0.8325546111576977,
          0.8325546111576977,
          0.8325546111576977,
          0.8325546111576977,
          0.8325546111576977,
          0.8325546111576977,
          0.8325546111576977,
          0.8325546111576977,
          0.8325546111576977,
          0.8325546111576977,
          0.8325546111576977,
          0.8325546111576977,
          0.8325546111576977,
          0.8325546111576977,
          0.8325546111576977,
          0.8325546111576977,
          0.8325546111576977,
          0.8325546111576977,
          0.8325546111576977,
          0.8325546111576977,
          0.8325546111576977,
          0.8325546111576977,
          0.8325546111576977,
          0.8325546111576977,
          0.8325546111576977,
          0.8325546111576977,
          0.8325546111576977,
          0.8325546111576977,
          0.8325546111576977,
          0.8325546111576977,
          0.8325546111576977,
          0.8325546111576977,
          0.8325546111576977,
          0.8325546111576977,
          0.8325546111576977,
          0.8325546111576977,
          0.8325546111576977,
          0.8325546111576977,
          0.8325546111576977,
          0.8325546111576977,
          0.8325546111576977,
          0.8325546111576977,
          0.8325546111576977,
          0.8325546111576977,
          0.8325546111576977,
          0.8325546111576977,
          0.8325546111576977,
          0.8325546111576977,
          0.8325546111576977,
          0.8325546111576977,
          0.8325546111576977,
          0.8325546111576977,
          0.8325546111576977,
          0.8325546111576977,
          0.8325546111576977,
          0.8325546111576977,
          0.8325546111576977,
          0.8325546111576977,
          0.8325546111576977,
          0.8325546111576977,
          0.8325546111576977,
          0.8325546111576977,
          0.8325546111576977,
          0.8325546111576977,
          0.8325546111576977,
          0.8325546111576977,
          0.8325546111576977,
          0.8325546111576977,
          0.8325546111576977,
          0.8325546111576977,
          0.8325546111576977,
          0.8325546111576977,
          0.8325546111576977,
          0.8325546111576977,
          0.8325546111576977,
          0.8325546111576977,
          0.8325546111576977,
          0.8325546111576977,
          0.8325546111576977,
          0.8325546111576977,
          0.8325546111576977,
          0.8325546111576977,
          0.8325546111576977,
          0.8325546111576977,
          0.8325546111576977,
          0.8325546111576977,
          0.8325546111576977,
          0.8325546111576977,
          0.8325546111576977,
          0.8325546111576977,
          0.8325546111576977,
          0.8325546111576977,
          0.8325546111576977,
          0.8325546111576977,
          0.8325546111576977,
          0.8325546111576977,
          0.8325546111576977,
          0.8325546111576977,
          0.8325546111576977,
          0.8325546111576977,
          0.8325546111576977,
          0.8325546111576977,
          0.8325546111576977,
          0.8325546111576977,
          0.8325546111576977,
          0.8325546111576977,
          0.8325546111576977,
          0.8325546111576977,
          0.8325546111576977,
          0.8325546111576977,
          0.8325546111576977,
          0.8325546111576977,
          0.8325546111576977,
          0.8325546111576977,
          0.8325546111576977,
          0.8325546111576977,
          0.8325546111576977,
          0.8325546111576977,
          0.8325546111576977,
          0.8325546111576977,
          0.8325546111576977,
          0.8325546111576977,
          0.8325546111576977,
          0.8325546111576977,
          0.8325546111576977,
          0.8325546111576977,
          0.8325546111576977,
          0.8325546111576977,
          0.8325546111576977,
          0.8325546111576977,
          0.8325546111576977,
          0.8325546111576977,
          0.8325546111576977,
          0.8325546111576977,
          0.8325546111576977,
          0.8325546111576977,
          0.8325546111576977,
          0.8325546111576977,
          0.8325546111576977,
          0.8325546111576977,
          0.8325546111576977,
          0.8325546111576977,
          0.8325546111576977,
          0.8325546111576977,
          0.8325546111576977,
          0.8325546111576977,
          0.8325546111576977,
          0.8325546111576977,
          0.8325546111576977,
          0.8325546111576977,
          0.8325546111576977,
          0.8325546111576977,
          0.8325546111576977,
          0.8325546111576977,
          0.8325546111576977,
          0.8325546111576977,
          0.8325546111576977,
          0.8325546111576977,
          0.8325546111576977,
          0.8325546111576977,
          0.8325546111576977,
          0.8325546111576977,
          0.8325546111576977,
          0.8325546111576977,
          0.8325546111576977,
          0.8325546111576977,
          0.8325546111576977,
          0.8325546111576977,
          0.8325546111576977,
          0.8325546111576977,
          0.8325546111576977,
          0.8325546111576977,
          0.8325546111576977,
          0.8325546111576977,
          0.8325546111576977,
          0.8325546111576977,
          0.8325546111576977,
          0.8325546111576977,
          0.8325546111576977,
          0.8325546111576977,
          0.8325546111576977,
          0.8325546111576977,
          0.8325546111576977,
          0.8325546111576977,
          0.8325546111576977,
          0.8325546111576977,
          0.8325546111576977,
          0.8325546111576977,
          0.8325546111576977,
          0.8325546111576977,
          0.8325546111576977,
          0.8325546111576977,
          0.8325546111576977,
          0.8325546111576977,
          0.8325546111576977,
          0.8325546111576977,
          0.8325546111576977,
          0.8325546111576977,
          0.8325546111576977,
          0.8325546111576977,
          0.8325546111576977,
          0.8325546111576977,
          0.8325546111576977,
          0.8325546111576977,
          0.8325546111576977,
          0.8325546111576977,
          0.8325546111576977,
          0.8325546111576977,
          0.8325546111576977,
          0.8325546111576977,
          0.8325546111576977,
          0.8325546111576977,
          0.8325546111576977,
          0.8325546111576977,
          0.8325546111576977,
          0.8325546111576977,
          0.8325546111576977,
          0.8325546111576977,
          0.8325546111576977,
          0.8325546111576977,
          0.8325546111576977,
          0.8325546111576977,
          0.8325546111576977,
          0.8325546111576977,
          0.8325546111576977,
          0.8325546111576977,
          0.8325546111576977,
          0.8325546111576977,
          0.8325546111576977,
          0.8325546111576977,
          0.8325546111576977,
          0.8325546111576977,
          0.8325546111576977,
          0.8325546111576977,
          0.8325546111576977,
          0.8325546111576977,
          0.8325546111576977,
          0.8325546111576977,
          0.8325546111576977,
          0.8325546111576977,
          0.8325546111576977,
          0.8325546111576977,
          0.8325546111576977,
          0.8325546111576977,
          0.8325546111576977,
          0.8325546111576977,
          0.8325546111576977,
          0.8325546111576977,
          0.8325546111576977,
          0.8325546111576977,
          0.8325546111576977,
          0.8325546111576977,
          0.8325546111576977,
          0.8325546111576977,
          0.8325546111576977,
          0.8325546111576977,
          0.8325546111576977,
          0.8325546111576977,
          0.8325546111576977,
          0.8325546111576977,
          0.8325546111576977,
          0.8325546111576977,
          0.8325546111576977,
          0.8325546111576977,
          0.8325546111576977,
          0.8325546111576977,
          0.8325546111576977,
          0.8325546111576977,
          0.8325546111576977,
          0.8325546111576977,
          0.8325546111576977,
          0.8325546111576977,
          0.8325546111576977,
          0.8325546111576977,
          0.8325546111576977,
          0.8325546111576977,
          0.8325546111576977,
          0.8325546111576977,
          0.8325546111576977,
          0.8325546111576977,
          0.8325546111576977,
          0.8325546111576977,
          0.8325546111576977,
          0.8325546111576977,
          0.8325546111576977,
          0.8325546111576977,
          0.8325546111576977,
          0.8325546111576977,
          0.8325546111576977,
          0.8325546111576977,
          0.8325546111576977,
          0.8325546111576977,
          0.8325546111576977,
          0.8325546111576977,
          0.8325546111576977,
          0.8325546111576977,
          0.8325546111576977,
          0.8325546111576977,
          0.8325546111576977,
          0.8325546111576977,
          0.8325546111576977,
          0.8325546111576977,
          0.8325546111576977,
          0.8325546111576977,
          0.8325546111576977,
          0.8325546111576977,
          0.8325546111576977,
          0.8325546111576977,
          0.8325546111576977,
          0.8325546111576977,
          0.8325546111576977,
          0.8325546111576977,
          0.8325546111576977,
          0.8325546111576977,
          0.8325546111576977,
          0.8325546111576977,
          0.8325546111576977,
          0.8325546111576977,
          0.8325546111576977,
          0.8325546111576977,
          0.8325546111576977,
          0.8325546111576977,
          0.8325546111576977,
          0.8325546111576977,
          0.8325546111576977,
          0.8325546111576977,
          0.8325546111576977,
          0.8325546111576977,
          0.8325546111576977,
          0.8325546111576977,
          0.8325546111576977,
          0.8325546111576977,
          0.8325546111576977,
          0.8325546111576977,
          0.8325546111576977,
          0.8325546111576977,
          0.8325546111576977,
          0.8325546111576977,
          0.8325546111576977,
          0.8325546111576977,
          0.8325546111576977,
          0.8325546111576977,
          0.8325546111576977,
          0.8325546111576977,
          0.8325546111576977,
          0.8325546111576977,
          0.8325546111576977,
          0.8325546111576977,
          0.8325546111576977,
          0.8325546111576977,
          0.8325546111576977,
          0.8325546111576977,
          0.8325546111576977,
          0.8325546111576977,
          0.8325546111576977,
          0.8325546111576977,
          0.8325546111576977,
          0.8325546111576977,
          0.8325546111576977,
          0.8325546111576977,
          0.8325546111576977,
          0.8325546111576977,
          0.8325546111576977,
          0.8325546111576977,
          0.8325546111576977,
          0.8325546111576977,
          0.8325546111576977,
          0.8325546111576977,
          0.8325546111576977,
          0.8325546111576977,
          0.8325546111576977,
          0.8325546111576977,
          0.8325546111576977,
          0.8325546111576977,
          0.8325546111576977,
          0.8325546111576977,
          0.8325546111576977,
          0.8325546111576977,
          0.8325546111576977
         ],
         "yaxis": "y"
        }
       ],
       "layout": {
        "legend": {
         "tracegroupgap": 0
        },
        "margin": {
         "t": 60
        },
        "template": {
         "data": {
          "bar": [
           {
            "error_x": {
             "color": "#2a3f5f"
            },
            "error_y": {
             "color": "#2a3f5f"
            },
            "marker": {
             "line": {
              "color": "#E5ECF6",
              "width": 0.5
             },
             "pattern": {
              "fillmode": "overlay",
              "size": 10,
              "solidity": 0.2
             }
            },
            "type": "bar"
           }
          ],
          "barpolar": [
           {
            "marker": {
             "line": {
              "color": "#E5ECF6",
              "width": 0.5
             },
             "pattern": {
              "fillmode": "overlay",
              "size": 10,
              "solidity": 0.2
             }
            },
            "type": "barpolar"
           }
          ],
          "carpet": [
           {
            "aaxis": {
             "endlinecolor": "#2a3f5f",
             "gridcolor": "white",
             "linecolor": "white",
             "minorgridcolor": "white",
             "startlinecolor": "#2a3f5f"
            },
            "baxis": {
             "endlinecolor": "#2a3f5f",
             "gridcolor": "white",
             "linecolor": "white",
             "minorgridcolor": "white",
             "startlinecolor": "#2a3f5f"
            },
            "type": "carpet"
           }
          ],
          "choropleth": [
           {
            "colorbar": {
             "outlinewidth": 0,
             "ticks": ""
            },
            "type": "choropleth"
           }
          ],
          "contour": [
           {
            "colorbar": {
             "outlinewidth": 0,
             "ticks": ""
            },
            "colorscale": [
             [
              0,
              "#0d0887"
             ],
             [
              0.1111111111111111,
              "#46039f"
             ],
             [
              0.2222222222222222,
              "#7201a8"
             ],
             [
              0.3333333333333333,
              "#9c179e"
             ],
             [
              0.4444444444444444,
              "#bd3786"
             ],
             [
              0.5555555555555556,
              "#d8576b"
             ],
             [
              0.6666666666666666,
              "#ed7953"
             ],
             [
              0.7777777777777778,
              "#fb9f3a"
             ],
             [
              0.8888888888888888,
              "#fdca26"
             ],
             [
              1,
              "#f0f921"
             ]
            ],
            "type": "contour"
           }
          ],
          "contourcarpet": [
           {
            "colorbar": {
             "outlinewidth": 0,
             "ticks": ""
            },
            "type": "contourcarpet"
           }
          ],
          "heatmap": [
           {
            "colorbar": {
             "outlinewidth": 0,
             "ticks": ""
            },
            "colorscale": [
             [
              0,
              "#0d0887"
             ],
             [
              0.1111111111111111,
              "#46039f"
             ],
             [
              0.2222222222222222,
              "#7201a8"
             ],
             [
              0.3333333333333333,
              "#9c179e"
             ],
             [
              0.4444444444444444,
              "#bd3786"
             ],
             [
              0.5555555555555556,
              "#d8576b"
             ],
             [
              0.6666666666666666,
              "#ed7953"
             ],
             [
              0.7777777777777778,
              "#fb9f3a"
             ],
             [
              0.8888888888888888,
              "#fdca26"
             ],
             [
              1,
              "#f0f921"
             ]
            ],
            "type": "heatmap"
           }
          ],
          "heatmapgl": [
           {
            "colorbar": {
             "outlinewidth": 0,
             "ticks": ""
            },
            "colorscale": [
             [
              0,
              "#0d0887"
             ],
             [
              0.1111111111111111,
              "#46039f"
             ],
             [
              0.2222222222222222,
              "#7201a8"
             ],
             [
              0.3333333333333333,
              "#9c179e"
             ],
             [
              0.4444444444444444,
              "#bd3786"
             ],
             [
              0.5555555555555556,
              "#d8576b"
             ],
             [
              0.6666666666666666,
              "#ed7953"
             ],
             [
              0.7777777777777778,
              "#fb9f3a"
             ],
             [
              0.8888888888888888,
              "#fdca26"
             ],
             [
              1,
              "#f0f921"
             ]
            ],
            "type": "heatmapgl"
           }
          ],
          "histogram": [
           {
            "marker": {
             "pattern": {
              "fillmode": "overlay",
              "size": 10,
              "solidity": 0.2
             }
            },
            "type": "histogram"
           }
          ],
          "histogram2d": [
           {
            "colorbar": {
             "outlinewidth": 0,
             "ticks": ""
            },
            "colorscale": [
             [
              0,
              "#0d0887"
             ],
             [
              0.1111111111111111,
              "#46039f"
             ],
             [
              0.2222222222222222,
              "#7201a8"
             ],
             [
              0.3333333333333333,
              "#9c179e"
             ],
             [
              0.4444444444444444,
              "#bd3786"
             ],
             [
              0.5555555555555556,
              "#d8576b"
             ],
             [
              0.6666666666666666,
              "#ed7953"
             ],
             [
              0.7777777777777778,
              "#fb9f3a"
             ],
             [
              0.8888888888888888,
              "#fdca26"
             ],
             [
              1,
              "#f0f921"
             ]
            ],
            "type": "histogram2d"
           }
          ],
          "histogram2dcontour": [
           {
            "colorbar": {
             "outlinewidth": 0,
             "ticks": ""
            },
            "colorscale": [
             [
              0,
              "#0d0887"
             ],
             [
              0.1111111111111111,
              "#46039f"
             ],
             [
              0.2222222222222222,
              "#7201a8"
             ],
             [
              0.3333333333333333,
              "#9c179e"
             ],
             [
              0.4444444444444444,
              "#bd3786"
             ],
             [
              0.5555555555555556,
              "#d8576b"
             ],
             [
              0.6666666666666666,
              "#ed7953"
             ],
             [
              0.7777777777777778,
              "#fb9f3a"
             ],
             [
              0.8888888888888888,
              "#fdca26"
             ],
             [
              1,
              "#f0f921"
             ]
            ],
            "type": "histogram2dcontour"
           }
          ],
          "mesh3d": [
           {
            "colorbar": {
             "outlinewidth": 0,
             "ticks": ""
            },
            "type": "mesh3d"
           }
          ],
          "parcoords": [
           {
            "line": {
             "colorbar": {
              "outlinewidth": 0,
              "ticks": ""
             }
            },
            "type": "parcoords"
           }
          ],
          "pie": [
           {
            "automargin": true,
            "type": "pie"
           }
          ],
          "scatter": [
           {
            "fillpattern": {
             "fillmode": "overlay",
             "size": 10,
             "solidity": 0.2
            },
            "type": "scatter"
           }
          ],
          "scatter3d": [
           {
            "line": {
             "colorbar": {
              "outlinewidth": 0,
              "ticks": ""
             }
            },
            "marker": {
             "colorbar": {
              "outlinewidth": 0,
              "ticks": ""
             }
            },
            "type": "scatter3d"
           }
          ],
          "scattercarpet": [
           {
            "marker": {
             "colorbar": {
              "outlinewidth": 0,
              "ticks": ""
             }
            },
            "type": "scattercarpet"
           }
          ],
          "scattergeo": [
           {
            "marker": {
             "colorbar": {
              "outlinewidth": 0,
              "ticks": ""
             }
            },
            "type": "scattergeo"
           }
          ],
          "scattergl": [
           {
            "marker": {
             "colorbar": {
              "outlinewidth": 0,
              "ticks": ""
             }
            },
            "type": "scattergl"
           }
          ],
          "scattermapbox": [
           {
            "marker": {
             "colorbar": {
              "outlinewidth": 0,
              "ticks": ""
             }
            },
            "type": "scattermapbox"
           }
          ],
          "scatterpolar": [
           {
            "marker": {
             "colorbar": {
              "outlinewidth": 0,
              "ticks": ""
             }
            },
            "type": "scatterpolar"
           }
          ],
          "scatterpolargl": [
           {
            "marker": {
             "colorbar": {
              "outlinewidth": 0,
              "ticks": ""
             }
            },
            "type": "scatterpolargl"
           }
          ],
          "scatterternary": [
           {
            "marker": {
             "colorbar": {
              "outlinewidth": 0,
              "ticks": ""
             }
            },
            "type": "scatterternary"
           }
          ],
          "surface": [
           {
            "colorbar": {
             "outlinewidth": 0,
             "ticks": ""
            },
            "colorscale": [
             [
              0,
              "#0d0887"
             ],
             [
              0.1111111111111111,
              "#46039f"
             ],
             [
              0.2222222222222222,
              "#7201a8"
             ],
             [
              0.3333333333333333,
              "#9c179e"
             ],
             [
              0.4444444444444444,
              "#bd3786"
             ],
             [
              0.5555555555555556,
              "#d8576b"
             ],
             [
              0.6666666666666666,
              "#ed7953"
             ],
             [
              0.7777777777777778,
              "#fb9f3a"
             ],
             [
              0.8888888888888888,
              "#fdca26"
             ],
             [
              1,
              "#f0f921"
             ]
            ],
            "type": "surface"
           }
          ],
          "table": [
           {
            "cells": {
             "fill": {
              "color": "#EBF0F8"
             },
             "line": {
              "color": "white"
             }
            },
            "header": {
             "fill": {
              "color": "#C8D4E3"
             },
             "line": {
              "color": "white"
             }
            },
            "type": "table"
           }
          ]
         },
         "layout": {
          "annotationdefaults": {
           "arrowcolor": "#2a3f5f",
           "arrowhead": 0,
           "arrowwidth": 1
          },
          "autotypenumbers": "strict",
          "coloraxis": {
           "colorbar": {
            "outlinewidth": 0,
            "ticks": ""
           }
          },
          "colorscale": {
           "diverging": [
            [
             0,
             "#8e0152"
            ],
            [
             0.1,
             "#c51b7d"
            ],
            [
             0.2,
             "#de77ae"
            ],
            [
             0.3,
             "#f1b6da"
            ],
            [
             0.4,
             "#fde0ef"
            ],
            [
             0.5,
             "#f7f7f7"
            ],
            [
             0.6,
             "#e6f5d0"
            ],
            [
             0.7,
             "#b8e186"
            ],
            [
             0.8,
             "#7fbc41"
            ],
            [
             0.9,
             "#4d9221"
            ],
            [
             1,
             "#276419"
            ]
           ],
           "sequential": [
            [
             0,
             "#0d0887"
            ],
            [
             0.1111111111111111,
             "#46039f"
            ],
            [
             0.2222222222222222,
             "#7201a8"
            ],
            [
             0.3333333333333333,
             "#9c179e"
            ],
            [
             0.4444444444444444,
             "#bd3786"
            ],
            [
             0.5555555555555556,
             "#d8576b"
            ],
            [
             0.6666666666666666,
             "#ed7953"
            ],
            [
             0.7777777777777778,
             "#fb9f3a"
            ],
            [
             0.8888888888888888,
             "#fdca26"
            ],
            [
             1,
             "#f0f921"
            ]
           ],
           "sequentialminus": [
            [
             0,
             "#0d0887"
            ],
            [
             0.1111111111111111,
             "#46039f"
            ],
            [
             0.2222222222222222,
             "#7201a8"
            ],
            [
             0.3333333333333333,
             "#9c179e"
            ],
            [
             0.4444444444444444,
             "#bd3786"
            ],
            [
             0.5555555555555556,
             "#d8576b"
            ],
            [
             0.6666666666666666,
             "#ed7953"
            ],
            [
             0.7777777777777778,
             "#fb9f3a"
            ],
            [
             0.8888888888888888,
             "#fdca26"
            ],
            [
             1,
             "#f0f921"
            ]
           ]
          },
          "colorway": [
           "#636efa",
           "#EF553B",
           "#00cc96",
           "#ab63fa",
           "#FFA15A",
           "#19d3f3",
           "#FF6692",
           "#B6E880",
           "#FF97FF",
           "#FECB52"
          ],
          "font": {
           "color": "#2a3f5f"
          },
          "geo": {
           "bgcolor": "white",
           "lakecolor": "white",
           "landcolor": "#E5ECF6",
           "showlakes": true,
           "showland": true,
           "subunitcolor": "white"
          },
          "hoverlabel": {
           "align": "left"
          },
          "hovermode": "closest",
          "mapbox": {
           "style": "light"
          },
          "paper_bgcolor": "white",
          "plot_bgcolor": "#E5ECF6",
          "polar": {
           "angularaxis": {
            "gridcolor": "white",
            "linecolor": "white",
            "ticks": ""
           },
           "bgcolor": "#E5ECF6",
           "radialaxis": {
            "gridcolor": "white",
            "linecolor": "white",
            "ticks": ""
           }
          },
          "scene": {
           "xaxis": {
            "backgroundcolor": "#E5ECF6",
            "gridcolor": "white",
            "gridwidth": 2,
            "linecolor": "white",
            "showbackground": true,
            "ticks": "",
            "zerolinecolor": "white"
           },
           "yaxis": {
            "backgroundcolor": "#E5ECF6",
            "gridcolor": "white",
            "gridwidth": 2,
            "linecolor": "white",
            "showbackground": true,
            "ticks": "",
            "zerolinecolor": "white"
           },
           "zaxis": {
            "backgroundcolor": "#E5ECF6",
            "gridcolor": "white",
            "gridwidth": 2,
            "linecolor": "white",
            "showbackground": true,
            "ticks": "",
            "zerolinecolor": "white"
           }
          },
          "shapedefaults": {
           "line": {
            "color": "#2a3f5f"
           }
          },
          "ternary": {
           "aaxis": {
            "gridcolor": "white",
            "linecolor": "white",
            "ticks": ""
           },
           "baxis": {
            "gridcolor": "white",
            "linecolor": "white",
            "ticks": ""
           },
           "bgcolor": "#E5ECF6",
           "caxis": {
            "gridcolor": "white",
            "linecolor": "white",
            "ticks": ""
           }
          },
          "title": {
           "x": 0.05
          },
          "xaxis": {
           "automargin": true,
           "gridcolor": "white",
           "linecolor": "white",
           "ticks": "",
           "title": {
            "standoff": 15
           },
           "zerolinecolor": "white",
           "zerolinewidth": 2
          },
          "yaxis": {
           "automargin": true,
           "gridcolor": "white",
           "linecolor": "white",
           "ticks": "",
           "title": {
            "standoff": 15
           },
           "zerolinecolor": "white",
           "zerolinewidth": 2
          }
         }
        },
        "xaxis": {
         "anchor": "y",
         "domain": [
          0,
          1
         ],
         "title": {
          "text": "params.week_end_experiment_end_date"
         }
        },
        "yaxis": {
         "anchor": "x",
         "domain": [
          0,
          1
         ],
         "title": {
          "text": "params.Product_Type.value_drift_score"
         }
        }
       }
      },
      "text/html": [
       "<div>                            <div id=\"cf3e6bb7-fb53-4ddf-ba34-2b85ca82a1af\" class=\"plotly-graph-div\" style=\"height:525px; width:100%;\"></div>            <script type=\"text/javascript\">                require([\"plotly\"], function(Plotly) {                    window.PLOTLYENV=window.PLOTLYENV || {};                                    if (document.getElementById(\"cf3e6bb7-fb53-4ddf-ba34-2b85ca82a1af\")) {                    Plotly.newPlot(                        \"cf3e6bb7-fb53-4ddf-ba34-2b85ca82a1af\",                        [{\"hovertemplate\":\"params.week_end_experiment_end_date=%{x}<br>params.Product_Type.value_drift_score=%{y}<extra></extra>\",\"legendgroup\":\"\",\"line\":{\"color\":\"#636efa\",\"dash\":\"solid\"},\"marker\":{\"symbol\":\"circle\"},\"mode\":\"lines+markers\",\"name\":\"\",\"orientation\":\"v\",\"showlegend\":false,\"x\":[\"2018-12-30 00:00:00\",\"2018-12-30 00:00:00\",\"2018-12-30 00:00:00\",\"2018-12-30 00:00:00\",\"2019-01-06 00:00:00\",\"2019-01-06 00:00:00\",\"2019-01-06 00:00:00\",\"2019-01-13 00:00:00\",\"2019-01-13 00:00:00\",\"2019-01-13 00:00:00\",\"2019-01-20 00:00:00\",\"2019-01-20 00:00:00\",\"2019-01-20 00:00:00\",\"2019-01-27 00:00:00\",\"2019-01-27 00:00:00\",\"2019-01-27 00:00:00\",\"2019-02-03 00:00:00\",\"2019-02-03 00:00:00\",\"2019-02-03 00:00:00\",\"2019-02-10 00:00:00\",\"2019-02-10 00:00:00\",\"2019-02-10 00:00:00\",\"2019-02-17 00:00:00\",\"2019-02-17 00:00:00\",\"2019-02-17 00:00:00\",\"2019-02-24 00:00:00\",\"2019-02-24 00:00:00\",\"2019-02-24 00:00:00\",\"2019-03-03 00:00:00\",\"2019-03-03 00:00:00\",\"2019-03-03 00:00:00\",\"2019-03-03 00:00:00\",\"2019-03-03 00:00:00\",\"2019-03-03 00:00:00\",\"2019-03-03 00:00:00\",\"2019-03-10 00:00:00\",\"2019-03-10 00:00:00\",\"2019-03-10 00:00:00\",\"2019-03-10 00:00:00\",\"2019-03-17 00:00:00\",\"2019-03-17 00:00:00\",\"2019-03-17 00:00:00\",\"2019-03-17 00:00:00\",\"2019-03-24 00:00:00\",\"2019-03-24 00:00:00\",\"2019-03-24 00:00:00\",\"2019-03-24 00:00:00\",\"2019-03-31 00:00:00\",\"2019-03-31 00:00:00\",\"2019-03-31 00:00:00\",\"2019-03-31 00:00:00\",\"2019-04-07 00:00:00\",\"2019-04-07 00:00:00\",\"2019-04-07 00:00:00\",\"2019-04-07 00:00:00\",\"2019-04-14 00:00:00\",\"2019-04-14 00:00:00\",\"2019-04-14 00:00:00\",\"2019-04-14 00:00:00\",\"2019-04-21 00:00:00\",\"2019-04-21 00:00:00\",\"2019-04-21 00:00:00\",\"2019-04-21 00:00:00\",\"2019-04-28 00:00:00\",\"2019-04-28 00:00:00\",\"2019-04-28 00:00:00\",\"2019-04-28 00:00:00\",\"2019-05-05 00:00:00\",\"2019-05-05 00:00:00\",\"2019-05-05 00:00:00\",\"2019-05-05 00:00:00\",\"2019-05-12 00:00:00\",\"2019-05-12 00:00:00\",\"2019-05-12 00:00:00\",\"2019-05-12 00:00:00\",\"2019-05-19 00:00:00\",\"2019-05-19 00:00:00\",\"2019-05-19 00:00:00\",\"2019-05-19 00:00:00\",\"2019-05-26 00:00:00\",\"2019-05-26 00:00:00\",\"2019-05-26 00:00:00\",\"2019-05-26 00:00:00\",\"2019-06-02 00:00:00\",\"2019-06-02 00:00:00\",\"2019-06-02 00:00:00\",\"2019-06-02 00:00:00\",\"2019-06-09 00:00:00\",\"2019-06-09 00:00:00\",\"2019-06-09 00:00:00\",\"2019-06-09 00:00:00\",\"2019-06-16 00:00:00\",\"2019-06-16 00:00:00\",\"2019-06-16 00:00:00\",\"2019-06-16 00:00:00\",\"2019-06-23 00:00:00\",\"2019-06-23 00:00:00\",\"2019-06-23 00:00:00\",\"2019-06-23 00:00:00\",\"2019-06-30 00:00:00\",\"2019-06-30 00:00:00\",\"2019-06-30 00:00:00\",\"2019-06-30 00:00:00\",\"2019-07-07 00:00:00\",\"2019-07-07 00:00:00\",\"2019-07-07 00:00:00\",\"2019-07-07 00:00:00\",\"2019-07-14 00:00:00\",\"2019-07-14 00:00:00\",\"2019-07-14 00:00:00\",\"2019-07-14 00:00:00\",\"2019-07-21 00:00:00\",\"2019-07-21 00:00:00\",\"2019-07-21 00:00:00\",\"2019-07-21 00:00:00\",\"2019-07-28 00:00:00\",\"2019-07-28 00:00:00\",\"2019-07-28 00:00:00\",\"2019-07-28 00:00:00\",\"2019-08-04 00:00:00\",\"2019-08-04 00:00:00\",\"2019-08-04 00:00:00\",\"2019-08-04 00:00:00\",\"2019-08-11 00:00:00\",\"2019-08-11 00:00:00\",\"2019-08-11 00:00:00\",\"2019-08-11 00:00:00\",\"2019-08-18 00:00:00\",\"2019-08-18 00:00:00\",\"2019-08-18 00:00:00\",\"2019-08-18 00:00:00\",\"2019-08-25 00:00:00\",\"2019-08-25 00:00:00\",\"2019-08-25 00:00:00\",\"2019-08-25 00:00:00\",\"2019-09-01 00:00:00\",\"2019-09-01 00:00:00\",\"2019-09-01 00:00:00\",\"2019-09-01 00:00:00\",\"2019-09-08 00:00:00\",\"2019-09-08 00:00:00\",\"2019-09-08 00:00:00\",\"2019-09-08 00:00:00\",\"2019-09-15 00:00:00\",\"2019-09-15 00:00:00\",\"2019-09-15 00:00:00\",\"2019-09-15 00:00:00\",\"2019-09-22 00:00:00\",\"2019-09-22 00:00:00\",\"2019-09-22 00:00:00\",\"2019-09-22 00:00:00\",\"2019-09-29 00:00:00\",\"2019-09-29 00:00:00\",\"2019-09-29 00:00:00\",\"2019-09-29 00:00:00\",\"2019-10-06 00:00:00\",\"2019-10-06 00:00:00\",\"2019-10-06 00:00:00\",\"2019-10-06 00:00:00\",\"2019-10-13 00:00:00\",\"2019-10-13 00:00:00\",\"2019-10-13 00:00:00\",\"2019-10-13 00:00:00\",\"2019-10-20 00:00:00\",\"2019-10-20 00:00:00\",\"2019-10-20 00:00:00\",\"2019-10-20 00:00:00\",\"2019-10-27 00:00:00\",\"2019-10-27 00:00:00\",\"2019-10-27 00:00:00\",\"2019-10-27 00:00:00\",\"2019-11-03 00:00:00\",\"2019-11-03 00:00:00\",\"2019-11-03 00:00:00\",\"2019-11-03 00:00:00\",\"2019-11-10 00:00:00\",\"2019-11-10 00:00:00\",\"2019-11-10 00:00:00\",\"2019-11-10 00:00:00\",\"2019-11-17 00:00:00\",\"2019-11-17 00:00:00\",\"2019-11-17 00:00:00\",\"2019-11-17 00:00:00\",\"2019-11-24 00:00:00\",\"2019-11-24 00:00:00\",\"2019-11-24 00:00:00\",\"2019-11-24 00:00:00\",\"2019-12-01 00:00:00\",\"2019-12-01 00:00:00\",\"2019-12-01 00:00:00\",\"2019-12-01 00:00:00\",\"2019-12-08 00:00:00\",\"2019-12-08 00:00:00\",\"2019-12-08 00:00:00\",\"2019-12-08 00:00:00\",\"2019-12-15 00:00:00\",\"2019-12-15 00:00:00\",\"2019-12-15 00:00:00\",\"2019-12-15 00:00:00\",\"2019-12-22 00:00:00\",\"2019-12-22 00:00:00\",\"2019-12-22 00:00:00\",\"2019-12-22 00:00:00\",\"2019-12-29 00:00:00\",\"2019-12-29 00:00:00\",\"2019-12-29 00:00:00\",\"2019-12-29 00:00:00\",\"2020-01-05 00:00:00\",\"2020-01-05 00:00:00\",\"2020-01-05 00:00:00\",\"2020-01-05 00:00:00\",\"2020-01-12 00:00:00\",\"2020-01-12 00:00:00\",\"2020-01-12 00:00:00\",\"2020-01-12 00:00:00\",\"2020-01-19 00:00:00\",\"2020-01-19 00:00:00\",\"2020-01-19 00:00:00\",\"2020-01-19 00:00:00\",\"2020-01-26 00:00:00\",\"2020-01-26 00:00:00\",\"2020-01-26 00:00:00\",\"2020-01-26 00:00:00\",\"2020-02-02 00:00:00\",\"2020-02-02 00:00:00\",\"2020-02-02 00:00:00\",\"2020-02-02 00:00:00\",\"2020-02-09 00:00:00\",\"2020-02-09 00:00:00\",\"2020-02-09 00:00:00\",\"2020-02-09 00:00:00\",\"2020-02-16 00:00:00\",\"2020-02-16 00:00:00\",\"2020-02-16 00:00:00\",\"2020-02-16 00:00:00\",\"2020-02-23 00:00:00\",\"2020-02-23 00:00:00\",\"2020-02-23 00:00:00\",\"2020-02-23 00:00:00\",\"2020-03-01 00:00:00\",\"2020-03-01 00:00:00\",\"2020-03-01 00:00:00\",\"2020-03-01 00:00:00\",\"2020-03-08 00:00:00\",\"2020-03-08 00:00:00\",\"2020-03-08 00:00:00\",\"2020-03-08 00:00:00\",\"2020-03-15 00:00:00\",\"2020-03-15 00:00:00\",\"2020-03-15 00:00:00\",\"2020-03-15 00:00:00\",\"2020-03-22 00:00:00\",\"2020-03-22 00:00:00\",\"2020-03-22 00:00:00\",\"2020-03-22 00:00:00\",\"2020-03-29 00:00:00\",\"2020-03-29 00:00:00\",\"2020-03-29 00:00:00\",\"2020-03-29 00:00:00\",\"2020-04-05 00:00:00\",\"2020-04-05 00:00:00\",\"2020-04-05 00:00:00\",\"2020-04-05 00:00:00\",\"2020-04-12 00:00:00\",\"2020-04-12 00:00:00\",\"2020-04-12 00:00:00\",\"2020-04-12 00:00:00\",\"2020-04-19 00:00:00\",\"2020-04-19 00:00:00\",\"2020-04-19 00:00:00\",\"2020-04-19 00:00:00\",\"2020-04-26 00:00:00\",\"2020-04-26 00:00:00\",\"2020-04-26 00:00:00\",\"2020-04-26 00:00:00\",\"2020-05-03 00:00:00\",\"2020-05-03 00:00:00\",\"2020-05-03 00:00:00\",\"2020-05-03 00:00:00\",\"2020-05-10 00:00:00\",\"2020-05-10 00:00:00\",\"2020-05-10 00:00:00\",\"2020-05-10 00:00:00\",\"2020-05-17 00:00:00\",\"2020-05-17 00:00:00\",\"2020-05-17 00:00:00\",\"2020-05-17 00:00:00\",\"2020-05-24 00:00:00\",\"2020-05-24 00:00:00\",\"2020-05-24 00:00:00\",\"2020-05-24 00:00:00\",\"2020-05-31 00:00:00\",\"2020-05-31 00:00:00\",\"2020-05-31 00:00:00\",\"2020-05-31 00:00:00\",\"2020-06-07 00:00:00\",\"2020-06-07 00:00:00\",\"2020-06-07 00:00:00\",\"2020-06-07 00:00:00\",\"2020-06-14 00:00:00\",\"2020-06-14 00:00:00\",\"2020-06-14 00:00:00\",\"2020-06-14 00:00:00\",\"2020-06-21 00:00:00\",\"2020-06-21 00:00:00\",\"2020-06-21 00:00:00\",\"2020-06-21 00:00:00\",\"2020-06-28 00:00:00\",\"2020-06-28 00:00:00\",\"2020-06-28 00:00:00\",\"2020-06-28 00:00:00\",\"2020-07-05 00:00:00\",\"2020-07-05 00:00:00\",\"2020-07-05 00:00:00\",\"2020-07-05 00:00:00\",\"2020-07-12 00:00:00\",\"2020-07-12 00:00:00\",\"2020-07-12 00:00:00\",\"2020-07-12 00:00:00\",\"2020-07-19 00:00:00\",\"2020-07-19 00:00:00\",\"2020-07-19 00:00:00\",\"2020-07-19 00:00:00\",\"2020-07-26 00:00:00\",\"2020-07-26 00:00:00\",\"2020-07-26 00:00:00\",\"2020-07-26 00:00:00\",\"2020-08-02 00:00:00\",\"2020-08-02 00:00:00\",\"2020-08-02 00:00:00\",\"2020-08-02 00:00:00\",\"2020-08-09 00:00:00\",\"2020-08-09 00:00:00\",\"2020-08-09 00:00:00\",\"2020-08-09 00:00:00\",\"2020-08-16 00:00:00\",\"2020-08-16 00:00:00\",\"2020-08-16 00:00:00\",\"2020-08-16 00:00:00\",\"2020-08-23 00:00:00\",\"2020-08-23 00:00:00\",\"2020-08-23 00:00:00\",\"2020-08-23 00:00:00\",\"2020-08-30 00:00:00\",\"2020-08-30 00:00:00\",\"2020-08-30 00:00:00\",\"2020-08-30 00:00:00\",\"2020-09-06 00:00:00\",\"2020-09-06 00:00:00\",\"2020-09-06 00:00:00\",\"2020-09-06 00:00:00\",\"2020-09-13 00:00:00\",\"2020-09-13 00:00:00\",\"2020-09-13 00:00:00\",\"2020-09-13 00:00:00\",\"2020-09-20 00:00:00\",\"2020-09-20 00:00:00\",\"2020-09-20 00:00:00\",\"2020-09-20 00:00:00\",\"2020-09-27 00:00:00\",\"2020-09-27 00:00:00\",\"2020-09-27 00:00:00\",\"2020-09-27 00:00:00\",\"2020-10-04 00:00:00\",\"2020-10-04 00:00:00\",\"2020-10-04 00:00:00\",\"2020-10-04 00:00:00\",\"2020-10-11 00:00:00\",\"2020-10-11 00:00:00\",\"2020-10-11 00:00:00\",\"2020-10-11 00:00:00\",\"2020-10-18 00:00:00\",\"2020-10-18 00:00:00\",\"2020-10-18 00:00:00\",\"2020-10-18 00:00:00\",\"2020-10-25 00:00:00\",\"2020-10-25 00:00:00\",\"2020-10-25 00:00:00\",\"2020-10-25 00:00:00\",\"2020-11-01 00:00:00\",\"2020-11-01 00:00:00\",\"2020-11-01 00:00:00\",\"2020-11-01 00:00:00\",\"2020-11-08 00:00:00\",\"2020-11-08 00:00:00\",\"2020-11-08 00:00:00\",\"2020-11-08 00:00:00\",\"2020-11-15 00:00:00\",\"2020-11-15 00:00:00\",\"2020-11-15 00:00:00\",\"2020-11-15 00:00:00\"],\"xaxis\":\"x\",\"y\":[0.8325546111576977,0.8325546111576977,0.0,0.8325546111576977,0.8325546111576977,0.8325546111576977,0.8325546111576977,0.8325546111576977,0.8325546111576977,0.8325546111576977,0.8325546111576977,0.8325546111576977,0.8325546111576977,0.8325546111576977,0.8325546111576977,0.8325546111576977,0.8325546111576977,0.8325546111576977,0.8325546111576977,0.8325546111576977,0.8325546111576977,0.8325546111576977,0.8325546111576977,0.8325546111576977,0.8325546111576977,0.8325546111576977,0.8325546111576977,0.8325546111576977,0.8325546111576977,0.8325546111576977,0.8325546111576977,0.8325546111576977,0.8325546111576977,0.8325546111576977,0.8325546111576977,0.8325546111576977,0.8325546111576977,0.8325546111576977,0.8325546111576977,0.8325546111576977,0.8325546111576977,0.8325546111576977,0.8325546111576977,0.8325546111576977,0.8325546111576977,0.8325546111576977,0.8325546111576977,0.8325546111576977,0.8325546111576977,0.8325546111576977,0.8325546111576977,0.8325546111576977,0.8325546111576977,0.8325546111576977,0.8325546111576977,0.8325546111576977,0.8325546111576977,0.8325546111576977,0.8325546111576977,0.8325546111576977,0.8325546111576977,0.8325546111576977,0.8325546111576977,0.8325546111576977,0.8325546111576977,0.8325546111576977,0.8325546111576977,0.8325546111576977,0.8325546111576977,0.8325546111576977,0.8325546111576977,0.8325546111576977,0.8325546111576977,0.8325546111576977,0.8325546111576977,0.8325546111576977,0.8325546111576977,0.8325546111576977,0.8325546111576977,0.8325546111576977,0.8325546111576977,0.8325546111576977,0.8325546111576977,0.8325546111576977,0.8325546111576977,0.8325546111576977,0.8325546111576977,0.8325546111576977,0.8325546111576977,0.8325546111576977,0.8325546111576977,0.8325546111576977,0.8325546111576977,0.8325546111576977,0.8325546111576977,0.8325546111576977,0.8325546111576977,0.8325546111576977,0.8325546111576977,0.8325546111576977,0.8325546111576977,0.8325546111576977,0.8325546111576977,0.8325546111576977,0.8325546111576977,0.8325546111576977,0.8325546111576977,0.8325546111576977,0.8325546111576977,0.8325546111576977,0.8325546111576977,0.8325546111576977,0.8325546111576977,0.8325546111576977,0.8325546111576977,0.8325546111576977,0.8325546111576977,0.8325546111576977,0.8325546111576977,0.8325546111576977,0.8325546111576977,0.8325546111576977,0.8325546111576977,0.8325546111576977,0.8325546111576977,0.8325546111576977,0.8325546111576977,0.8325546111576977,0.8325546111576977,0.8325546111576977,0.8325546111576977,0.8325546111576977,0.8325546111576977,0.8325546111576977,0.8325546111576977,0.8325546111576977,0.8325546111576977,0.8325546111576977,0.8325546111576977,0.8325546111576977,0.8325546111576977,0.8325546111576977,0.8325546111576977,0.8325546111576977,0.8325546111576977,0.8325546111576977,0.8325546111576977,0.8325546111576977,0.8325546111576977,0.8325546111576977,0.8325546111576977,0.8325546111576977,0.8325546111576977,0.8325546111576977,0.8325546111576977,0.8325546111576977,0.8325546111576977,0.8325546111576977,0.8325546111576977,0.8325546111576977,0.8325546111576977,0.8325546111576977,0.8325546111576977,0.8325546111576977,0.8325546111576977,0.8325546111576977,0.8325546111576977,0.8325546111576977,0.8325546111576977,0.8325546111576977,0.8325546111576977,0.8325546111576977,0.8325546111576977,0.8325546111576977,0.8325546111576977,0.8325546111576977,0.8325546111576977,0.8325546111576977,0.8325546111576977,0.8325546111576977,0.8325546111576977,0.8325546111576977,0.8325546111576977,0.8325546111576977,0.8325546111576977,0.8325546111576977,0.8325546111576977,0.8325546111576977,0.8325546111576977,0.8325546111576977,0.8325546111576977,0.8325546111576977,0.8325546111576977,0.8325546111576977,0.8325546111576977,0.8325546111576977,0.8325546111576977,0.8325546111576977,0.8325546111576977,0.8325546111576977,0.8325546111576977,0.8325546111576977,0.8325546111576977,0.8325546111576977,0.8325546111576977,0.8325546111576977,0.8325546111576977,0.8325546111576977,0.8325546111576977,0.8325546111576977,0.8325546111576977,0.8325546111576977,0.8325546111576977,0.8325546111576977,0.8325546111576977,0.8325546111576977,0.8325546111576977,0.8325546111576977,0.8325546111576977,0.8325546111576977,0.8325546111576977,0.8325546111576977,0.8325546111576977,0.8325546111576977,0.8325546111576977,0.8325546111576977,0.8325546111576977,0.8325546111576977,0.8325546111576977,0.8325546111576977,0.8325546111576977,0.8325546111576977,0.8325546111576977,0.8325546111576977,0.8325546111576977,0.8325546111576977,0.8325546111576977,0.8325546111576977,0.8325546111576977,0.8325546111576977,0.8325546111576977,0.8325546111576977,0.8325546111576977,0.8325546111576977,0.8325546111576977,0.8325546111576977,0.8325546111576977,0.8325546111576977,0.8325546111576977,0.8325546111576977,0.8325546111576977,0.8325546111576977,0.8325546111576977,0.8325546111576977,0.8325546111576977,0.8325546111576977,0.8325546111576977,0.8325546111576977,0.8325546111576977,0.8325546111576977,0.8325546111576977,0.8325546111576977,0.8325546111576977,0.8325546111576977,0.8325546111576977,0.8325546111576977,0.8325546111576977,0.8325546111576977,0.8325546111576977,0.8325546111576977,0.8325546111576977,0.8325546111576977,0.8325546111576977,0.8325546111576977,0.8325546111576977,0.8325546111576977,0.8325546111576977,0.8325546111576977,0.8325546111576977,0.8325546111576977,0.8325546111576977,0.8325546111576977,0.8325546111576977,0.8325546111576977,0.8325546111576977,0.8325546111576977,0.8325546111576977,0.8325546111576977,0.8325546111576977,0.8325546111576977,0.8325546111576977,0.8325546111576977,0.8325546111576977,0.8325546111576977,0.8325546111576977,0.8325546111576977,0.8325546111576977,0.8325546111576977,0.8325546111576977,0.8325546111576977,0.8325546111576977,0.8325546111576977,0.8325546111576977,0.8325546111576977,0.8325546111576977,0.8325546111576977,0.8325546111576977,0.8325546111576977,0.8325546111576977,0.8325546111576977,0.8325546111576977,0.8325546111576977,0.8325546111576977,0.8325546111576977,0.8325546111576977,0.8325546111576977,0.8325546111576977,0.8325546111576977,0.8325546111576977,0.8325546111576977,0.8325546111576977,0.8325546111576977,0.8325546111576977,0.8325546111576977,0.8325546111576977,0.8325546111576977,0.8325546111576977,0.8325546111576977,0.8325546111576977,0.8325546111576977,0.8325546111576977,0.8325546111576977,0.8325546111576977,0.8325546111576977,0.8325546111576977,0.8325546111576977,0.8325546111576977,0.8325546111576977,0.8325546111576977,0.8325546111576977,0.8325546111576977,0.8325546111576977,0.8325546111576977,0.8325546111576977,0.8325546111576977,0.8325546111576977,0.8325546111576977,0.8325546111576977,0.8325546111576977,0.8325546111576977,0.8325546111576977,0.8325546111576977,0.8325546111576977,0.8325546111576977,0.8325546111576977,0.8325546111576977,0.8325546111576977,0.8325546111576977,0.8325546111576977,0.8325546111576977,0.8325546111576977,0.8325546111576977,0.8325546111576977,0.8325546111576977,0.8325546111576977,0.8325546111576977,0.8325546111576977,0.8325546111576977,0.8325546111576977,0.8325546111576977,0.8325546111576977,0.8325546111576977,0.8325546111576977,0.8325546111576977,0.8325546111576977,0.8325546111576977,0.8325546111576977,0.8325546111576977,0.8325546111576977,0.8325546111576977,0.8325546111576977,0.8325546111576977,0.8325546111576977,0.8325546111576977,0.8325546111576977,0.8325546111576977,0.8325546111576977,0.8325546111576977,0.8325546111576977,0.8325546111576977,0.8325546111576977],\"yaxis\":\"y\",\"type\":\"scatter\"}],                        {\"template\":{\"data\":{\"histogram2dcontour\":[{\"type\":\"histogram2dcontour\",\"colorbar\":{\"outlinewidth\":0,\"ticks\":\"\"},\"colorscale\":[[0.0,\"#0d0887\"],[0.1111111111111111,\"#46039f\"],[0.2222222222222222,\"#7201a8\"],[0.3333333333333333,\"#9c179e\"],[0.4444444444444444,\"#bd3786\"],[0.5555555555555556,\"#d8576b\"],[0.6666666666666666,\"#ed7953\"],[0.7777777777777778,\"#fb9f3a\"],[0.8888888888888888,\"#fdca26\"],[1.0,\"#f0f921\"]]}],\"choropleth\":[{\"type\":\"choropleth\",\"colorbar\":{\"outlinewidth\":0,\"ticks\":\"\"}}],\"histogram2d\":[{\"type\":\"histogram2d\",\"colorbar\":{\"outlinewidth\":0,\"ticks\":\"\"},\"colorscale\":[[0.0,\"#0d0887\"],[0.1111111111111111,\"#46039f\"],[0.2222222222222222,\"#7201a8\"],[0.3333333333333333,\"#9c179e\"],[0.4444444444444444,\"#bd3786\"],[0.5555555555555556,\"#d8576b\"],[0.6666666666666666,\"#ed7953\"],[0.7777777777777778,\"#fb9f3a\"],[0.8888888888888888,\"#fdca26\"],[1.0,\"#f0f921\"]]}],\"heatmap\":[{\"type\":\"heatmap\",\"colorbar\":{\"outlinewidth\":0,\"ticks\":\"\"},\"colorscale\":[[0.0,\"#0d0887\"],[0.1111111111111111,\"#46039f\"],[0.2222222222222222,\"#7201a8\"],[0.3333333333333333,\"#9c179e\"],[0.4444444444444444,\"#bd3786\"],[0.5555555555555556,\"#d8576b\"],[0.6666666666666666,\"#ed7953\"],[0.7777777777777778,\"#fb9f3a\"],[0.8888888888888888,\"#fdca26\"],[1.0,\"#f0f921\"]]}],\"heatmapgl\":[{\"type\":\"heatmapgl\",\"colorbar\":{\"outlinewidth\":0,\"ticks\":\"\"},\"colorscale\":[[0.0,\"#0d0887\"],[0.1111111111111111,\"#46039f\"],[0.2222222222222222,\"#7201a8\"],[0.3333333333333333,\"#9c179e\"],[0.4444444444444444,\"#bd3786\"],[0.5555555555555556,\"#d8576b\"],[0.6666666666666666,\"#ed7953\"],[0.7777777777777778,\"#fb9f3a\"],[0.8888888888888888,\"#fdca26\"],[1.0,\"#f0f921\"]]}],\"contourcarpet\":[{\"type\":\"contourcarpet\",\"colorbar\":{\"outlinewidth\":0,\"ticks\":\"\"}}],\"contour\":[{\"type\":\"contour\",\"colorbar\":{\"outlinewidth\":0,\"ticks\":\"\"},\"colorscale\":[[0.0,\"#0d0887\"],[0.1111111111111111,\"#46039f\"],[0.2222222222222222,\"#7201a8\"],[0.3333333333333333,\"#9c179e\"],[0.4444444444444444,\"#bd3786\"],[0.5555555555555556,\"#d8576b\"],[0.6666666666666666,\"#ed7953\"],[0.7777777777777778,\"#fb9f3a\"],[0.8888888888888888,\"#fdca26\"],[1.0,\"#f0f921\"]]}],\"surface\":[{\"type\":\"surface\",\"colorbar\":{\"outlinewidth\":0,\"ticks\":\"\"},\"colorscale\":[[0.0,\"#0d0887\"],[0.1111111111111111,\"#46039f\"],[0.2222222222222222,\"#7201a8\"],[0.3333333333333333,\"#9c179e\"],[0.4444444444444444,\"#bd3786\"],[0.5555555555555556,\"#d8576b\"],[0.6666666666666666,\"#ed7953\"],[0.7777777777777778,\"#fb9f3a\"],[0.8888888888888888,\"#fdca26\"],[1.0,\"#f0f921\"]]}],\"mesh3d\":[{\"type\":\"mesh3d\",\"colorbar\":{\"outlinewidth\":0,\"ticks\":\"\"}}],\"scatter\":[{\"fillpattern\":{\"fillmode\":\"overlay\",\"size\":10,\"solidity\":0.2},\"type\":\"scatter\"}],\"parcoords\":[{\"type\":\"parcoords\",\"line\":{\"colorbar\":{\"outlinewidth\":0,\"ticks\":\"\"}}}],\"scatterpolargl\":[{\"type\":\"scatterpolargl\",\"marker\":{\"colorbar\":{\"outlinewidth\":0,\"ticks\":\"\"}}}],\"bar\":[{\"error_x\":{\"color\":\"#2a3f5f\"},\"error_y\":{\"color\":\"#2a3f5f\"},\"marker\":{\"line\":{\"color\":\"#E5ECF6\",\"width\":0.5},\"pattern\":{\"fillmode\":\"overlay\",\"size\":10,\"solidity\":0.2}},\"type\":\"bar\"}],\"scattergeo\":[{\"type\":\"scattergeo\",\"marker\":{\"colorbar\":{\"outlinewidth\":0,\"ticks\":\"\"}}}],\"scatterpolar\":[{\"type\":\"scatterpolar\",\"marker\":{\"colorbar\":{\"outlinewidth\":0,\"ticks\":\"\"}}}],\"histogram\":[{\"marker\":{\"pattern\":{\"fillmode\":\"overlay\",\"size\":10,\"solidity\":0.2}},\"type\":\"histogram\"}],\"scattergl\":[{\"type\":\"scattergl\",\"marker\":{\"colorbar\":{\"outlinewidth\":0,\"ticks\":\"\"}}}],\"scatter3d\":[{\"type\":\"scatter3d\",\"line\":{\"colorbar\":{\"outlinewidth\":0,\"ticks\":\"\"}},\"marker\":{\"colorbar\":{\"outlinewidth\":0,\"ticks\":\"\"}}}],\"scattermapbox\":[{\"type\":\"scattermapbox\",\"marker\":{\"colorbar\":{\"outlinewidth\":0,\"ticks\":\"\"}}}],\"scatterternary\":[{\"type\":\"scatterternary\",\"marker\":{\"colorbar\":{\"outlinewidth\":0,\"ticks\":\"\"}}}],\"scattercarpet\":[{\"type\":\"scattercarpet\",\"marker\":{\"colorbar\":{\"outlinewidth\":0,\"ticks\":\"\"}}}],\"carpet\":[{\"aaxis\":{\"endlinecolor\":\"#2a3f5f\",\"gridcolor\":\"white\",\"linecolor\":\"white\",\"minorgridcolor\":\"white\",\"startlinecolor\":\"#2a3f5f\"},\"baxis\":{\"endlinecolor\":\"#2a3f5f\",\"gridcolor\":\"white\",\"linecolor\":\"white\",\"minorgridcolor\":\"white\",\"startlinecolor\":\"#2a3f5f\"},\"type\":\"carpet\"}],\"table\":[{\"cells\":{\"fill\":{\"color\":\"#EBF0F8\"},\"line\":{\"color\":\"white\"}},\"header\":{\"fill\":{\"color\":\"#C8D4E3\"},\"line\":{\"color\":\"white\"}},\"type\":\"table\"}],\"barpolar\":[{\"marker\":{\"line\":{\"color\":\"#E5ECF6\",\"width\":0.5},\"pattern\":{\"fillmode\":\"overlay\",\"size\":10,\"solidity\":0.2}},\"type\":\"barpolar\"}],\"pie\":[{\"automargin\":true,\"type\":\"pie\"}]},\"layout\":{\"autotypenumbers\":\"strict\",\"colorway\":[\"#636efa\",\"#EF553B\",\"#00cc96\",\"#ab63fa\",\"#FFA15A\",\"#19d3f3\",\"#FF6692\",\"#B6E880\",\"#FF97FF\",\"#FECB52\"],\"font\":{\"color\":\"#2a3f5f\"},\"hovermode\":\"closest\",\"hoverlabel\":{\"align\":\"left\"},\"paper_bgcolor\":\"white\",\"plot_bgcolor\":\"#E5ECF6\",\"polar\":{\"bgcolor\":\"#E5ECF6\",\"angularaxis\":{\"gridcolor\":\"white\",\"linecolor\":\"white\",\"ticks\":\"\"},\"radialaxis\":{\"gridcolor\":\"white\",\"linecolor\":\"white\",\"ticks\":\"\"}},\"ternary\":{\"bgcolor\":\"#E5ECF6\",\"aaxis\":{\"gridcolor\":\"white\",\"linecolor\":\"white\",\"ticks\":\"\"},\"baxis\":{\"gridcolor\":\"white\",\"linecolor\":\"white\",\"ticks\":\"\"},\"caxis\":{\"gridcolor\":\"white\",\"linecolor\":\"white\",\"ticks\":\"\"}},\"coloraxis\":{\"colorbar\":{\"outlinewidth\":0,\"ticks\":\"\"}},\"colorscale\":{\"sequential\":[[0.0,\"#0d0887\"],[0.1111111111111111,\"#46039f\"],[0.2222222222222222,\"#7201a8\"],[0.3333333333333333,\"#9c179e\"],[0.4444444444444444,\"#bd3786\"],[0.5555555555555556,\"#d8576b\"],[0.6666666666666666,\"#ed7953\"],[0.7777777777777778,\"#fb9f3a\"],[0.8888888888888888,\"#fdca26\"],[1.0,\"#f0f921\"]],\"sequentialminus\":[[0.0,\"#0d0887\"],[0.1111111111111111,\"#46039f\"],[0.2222222222222222,\"#7201a8\"],[0.3333333333333333,\"#9c179e\"],[0.4444444444444444,\"#bd3786\"],[0.5555555555555556,\"#d8576b\"],[0.6666666666666666,\"#ed7953\"],[0.7777777777777778,\"#fb9f3a\"],[0.8888888888888888,\"#fdca26\"],[1.0,\"#f0f921\"]],\"diverging\":[[0,\"#8e0152\"],[0.1,\"#c51b7d\"],[0.2,\"#de77ae\"],[0.3,\"#f1b6da\"],[0.4,\"#fde0ef\"],[0.5,\"#f7f7f7\"],[0.6,\"#e6f5d0\"],[0.7,\"#b8e186\"],[0.8,\"#7fbc41\"],[0.9,\"#4d9221\"],[1,\"#276419\"]]},\"xaxis\":{\"gridcolor\":\"white\",\"linecolor\":\"white\",\"ticks\":\"\",\"title\":{\"standoff\":15},\"zerolinecolor\":\"white\",\"automargin\":true,\"zerolinewidth\":2},\"yaxis\":{\"gridcolor\":\"white\",\"linecolor\":\"white\",\"ticks\":\"\",\"title\":{\"standoff\":15},\"zerolinecolor\":\"white\",\"automargin\":true,\"zerolinewidth\":2},\"scene\":{\"xaxis\":{\"backgroundcolor\":\"#E5ECF6\",\"gridcolor\":\"white\",\"linecolor\":\"white\",\"showbackground\":true,\"ticks\":\"\",\"zerolinecolor\":\"white\",\"gridwidth\":2},\"yaxis\":{\"backgroundcolor\":\"#E5ECF6\",\"gridcolor\":\"white\",\"linecolor\":\"white\",\"showbackground\":true,\"ticks\":\"\",\"zerolinecolor\":\"white\",\"gridwidth\":2},\"zaxis\":{\"backgroundcolor\":\"#E5ECF6\",\"gridcolor\":\"white\",\"linecolor\":\"white\",\"showbackground\":true,\"ticks\":\"\",\"zerolinecolor\":\"white\",\"gridwidth\":2}},\"shapedefaults\":{\"line\":{\"color\":\"#2a3f5f\"}},\"annotationdefaults\":{\"arrowcolor\":\"#2a3f5f\",\"arrowhead\":0,\"arrowwidth\":1},\"geo\":{\"bgcolor\":\"white\",\"landcolor\":\"#E5ECF6\",\"subunitcolor\":\"white\",\"showland\":true,\"showlakes\":true,\"lakecolor\":\"white\"},\"title\":{\"x\":0.05},\"mapbox\":{\"style\":\"light\"}}},\"xaxis\":{\"anchor\":\"y\",\"domain\":[0.0,1.0],\"title\":{\"text\":\"params.week_end_experiment_end_date\"}},\"yaxis\":{\"anchor\":\"x\",\"domain\":[0.0,1.0],\"title\":{\"text\":\"params.Product_Type.value_drift_score\"}},\"legend\":{\"tracegroupgap\":0},\"margin\":{\"t\":60}},                        {\"responsive\": true}                    ).then(function(){\n",
       "                            \n",
       "var gd = document.getElementById('cf3e6bb7-fb53-4ddf-ba34-2b85ca82a1af');\n",
       "var x = new MutationObserver(function (mutations, observer) {{\n",
       "        var display = window.getComputedStyle(gd).display;\n",
       "        if (!display || display === 'none') {{\n",
       "            console.log([gd, 'removed!']);\n",
       "            Plotly.purge(gd);\n",
       "            observer.disconnect();\n",
       "        }}\n",
       "}});\n",
       "\n",
       "// Listen for the removal of the full notebook cells\n",
       "var notebookContainer = gd.closest('#notebook-container');\n",
       "if (notebookContainer) {{\n",
       "    x.observe(notebookContainer, {childList: true});\n",
       "}}\n",
       "\n",
       "// Listen for the clearing of the current output cell\n",
       "var outputEl = gd.closest('.output');\n",
       "if (outputEl) {{\n",
       "    x.observe(outputEl, {childList: true});\n",
       "}}\n",
       "\n",
       "                        })                };                });            </script>        </div>"
      ]
     },
     "metadata": {},
     "output_type": "display_data"
    }
   ],
   "source": [
    "fig = px.line(drift_detected_experiment_results,  y='params.Product_Type.value_drift_score', markers=True)\n",
    "fig.show()"
   ]
  },
  {
   "cell_type": "code",
   "execution_count": null,
   "id": "e65b3642",
   "metadata": {},
   "outputs": [
    {
     "data": {
      "text/html": [
       "<div>\n",
       "<style scoped>\n",
       "    .dataframe tbody tr th:only-of-type {\n",
       "        vertical-align: middle;\n",
       "    }\n",
       "\n",
       "    .dataframe tbody tr th {\n",
       "        vertical-align: top;\n",
       "    }\n",
       "\n",
       "    .dataframe thead th {\n",
       "        text-align: right;\n",
       "    }\n",
       "</style>\n",
       "<table border=\"1\" class=\"dataframe\">\n",
       "  <thead>\n",
       "    <tr style=\"text-align: right;\">\n",
       "      <th></th>\n",
       "      <th>params.warehouse_ID.value_raw_feature_importance</th>\n",
       "      <th>params.statewise_population_per_sqmile.value_drift_score</th>\n",
       "      <th>params.state_cases.value_feature_importance_weighted_drift_score</th>\n",
       "      <th>params.is_warehouse_closed.value_feature_importance_weighted_drift_score</th>\n",
       "      <th>params.statewise_population_per_sqmile.value_relative_feature_importance</th>\n",
       "      <th>params.is_weekend.value_stattest_name</th>\n",
       "      <th>params.state.value_drift_score</th>\n",
       "      <th>params.state.value_relative_feature_importance</th>\n",
       "      <th>params.is_warehouse_closed.value_stattest_name</th>\n",
       "      <th>params.county.value_feature_importance_weighted_drift_detected</th>\n",
       "      <th>...</th>\n",
       "      <th>params.county.value_raw_feature_importance</th>\n",
       "      <th>params.Product_Type.value_drift_score</th>\n",
       "      <th>params.warehouse_ID.value_drift_score</th>\n",
       "      <th>params.state_deaths.value_feature_importance_weighted_drift_score</th>\n",
       "      <th>params.state.value_feature_importance_weighted_drift_score</th>\n",
       "      <th>params.warehouse_ID.value_relative_feature_importance</th>\n",
       "      <th>params.state_cases.value_feature_importance_weighted_drift_detected</th>\n",
       "      <th>params.daily_dispatch_count_target_stattest_name</th>\n",
       "      <th>params.daily_dispatch_count_target_drift_score</th>\n",
       "      <th>params.daily_dispatch_count_drift_detected</th>\n",
       "    </tr>\n",
       "    <tr>\n",
       "      <th>params.week_end_experiment_end_date</th>\n",
       "      <th></th>\n",
       "      <th></th>\n",
       "      <th></th>\n",
       "      <th></th>\n",
       "      <th></th>\n",
       "      <th></th>\n",
       "      <th></th>\n",
       "      <th></th>\n",
       "      <th></th>\n",
       "      <th></th>\n",
       "      <th></th>\n",
       "      <th></th>\n",
       "      <th></th>\n",
       "      <th></th>\n",
       "      <th></th>\n",
       "      <th></th>\n",
       "      <th></th>\n",
       "      <th></th>\n",
       "      <th></th>\n",
       "      <th></th>\n",
       "      <th></th>\n",
       "    </tr>\n",
       "  </thead>\n",
       "  <tbody>\n",
       "    <tr>\n",
       "      <th>2018-12-30 00:00:00</th>\n",
       "      <td>0.02292817272245884</td>\n",
       "      <td>0.588372</td>\n",
       "      <td>0.000000e+00</td>\n",
       "      <td>0.000000</td>\n",
       "      <td>0.0</td>\n",
       "      <td>Jensen-Shannon distance</td>\n",
       "      <td>0.832555</td>\n",
       "      <td>0.0</td>\n",
       "      <td>Jensen-Shannon distance</td>\n",
       "      <td>0</td>\n",
       "      <td>...</td>\n",
       "      <td>0.0</td>\n",
       "      <td>0.832555</td>\n",
       "      <td>0.832555</td>\n",
       "      <td>0.000000</td>\n",
       "      <td>0.000000</td>\n",
       "      <td>0.013138306327164173</td>\n",
       "      <td>0</td>\n",
       "      <td>distance</td>\n",
       "      <td>0.850697</td>\n",
       "      <td>1</td>\n",
       "    </tr>\n",
       "    <tr>\n",
       "      <th>2018-12-30 00:00:00</th>\n",
       "      <td>0.026244498789310455</td>\n",
       "      <td>0.588372</td>\n",
       "      <td>0.000000e+00</td>\n",
       "      <td>0.000000</td>\n",
       "      <td>0.02968338318169117</td>\n",
       "      <td>Jensen-Shannon distance</td>\n",
       "      <td>0.832555</td>\n",
       "      <td>0.0</td>\n",
       "      <td>Jensen-Shannon distance</td>\n",
       "      <td>0</td>\n",
       "      <td>...</td>\n",
       "      <td>0.0</td>\n",
       "      <td>0.832555</td>\n",
       "      <td>0.832555</td>\n",
       "      <td>0.000000</td>\n",
       "      <td>0.000000</td>\n",
       "      <td>0.014780729077756405</td>\n",
       "      <td>0</td>\n",
       "      <td>distance</td>\n",
       "      <td>0.850697</td>\n",
       "      <td>1</td>\n",
       "    </tr>\n",
       "    <tr>\n",
       "      <th>2018-12-30 00:00:00</th>\n",
       "      <td>None</td>\n",
       "      <td>0.000000</td>\n",
       "      <td>0.000000e+00</td>\n",
       "      <td>0.000000</td>\n",
       "      <td>None</td>\n",
       "      <td>None</td>\n",
       "      <td>0.000000</td>\n",
       "      <td>None</td>\n",
       "      <td>None</td>\n",
       "      <td>0</td>\n",
       "      <td>...</td>\n",
       "      <td>None</td>\n",
       "      <td>0.000000</td>\n",
       "      <td>0.000000</td>\n",
       "      <td>0.000000</td>\n",
       "      <td>0.000000</td>\n",
       "      <td>None</td>\n",
       "      <td>0</td>\n",
       "      <td>distance</td>\n",
       "      <td>0.850697</td>\n",
       "      <td>1</td>\n",
       "    </tr>\n",
       "    <tr>\n",
       "      <th>2018-12-30 00:00:00</th>\n",
       "      <td>0.017281191423535347</td>\n",
       "      <td>0.588372</td>\n",
       "      <td>0.000000e+00</td>\n",
       "      <td>0.000000</td>\n",
       "      <td>0.002893036464229226</td>\n",
       "      <td>Jensen-Shannon distance</td>\n",
       "      <td>0.832555</td>\n",
       "      <td>0.0</td>\n",
       "      <td>Jensen-Shannon distance</td>\n",
       "      <td>0</td>\n",
       "      <td>...</td>\n",
       "      <td>0.0</td>\n",
       "      <td>0.832555</td>\n",
       "      <td>0.832555</td>\n",
       "      <td>0.000000</td>\n",
       "      <td>0.000000</td>\n",
       "      <td>0.007265902124345303</td>\n",
       "      <td>0</td>\n",
       "      <td>distance</td>\n",
       "      <td>0.850697</td>\n",
       "      <td>1</td>\n",
       "    </tr>\n",
       "    <tr>\n",
       "      <th>2019-01-06 00:00:00</th>\n",
       "      <td>0.028664948418736458</td>\n",
       "      <td>0.270989</td>\n",
       "      <td>0.000000e+00</td>\n",
       "      <td>0.000000</td>\n",
       "      <td>0.0</td>\n",
       "      <td>Jensen-Shannon distance</td>\n",
       "      <td>0.832555</td>\n",
       "      <td>0.0</td>\n",
       "      <td>Jensen-Shannon distance</td>\n",
       "      <td>0</td>\n",
       "      <td>...</td>\n",
       "      <td>0.0</td>\n",
       "      <td>0.832555</td>\n",
       "      <td>0.832555</td>\n",
       "      <td>0.000000</td>\n",
       "      <td>0.000000</td>\n",
       "      <td>0.01135654840618372</td>\n",
       "      <td>0</td>\n",
       "      <td>distance</td>\n",
       "      <td>0.760357</td>\n",
       "      <td>1</td>\n",
       "    </tr>\n",
       "    <tr>\n",
       "      <th>...</th>\n",
       "      <td>...</td>\n",
       "      <td>...</td>\n",
       "      <td>...</td>\n",
       "      <td>...</td>\n",
       "      <td>...</td>\n",
       "      <td>...</td>\n",
       "      <td>...</td>\n",
       "      <td>...</td>\n",
       "      <td>...</td>\n",
       "      <td>...</td>\n",
       "      <td>...</td>\n",
       "      <td>...</td>\n",
       "      <td>...</td>\n",
       "      <td>...</td>\n",
       "      <td>...</td>\n",
       "      <td>...</td>\n",
       "      <td>...</td>\n",
       "      <td>...</td>\n",
       "      <td>...</td>\n",
       "      <td>...</td>\n",
       "      <td>...</td>\n",
       "    </tr>\n",
       "    <tr>\n",
       "      <th>2020-11-08 00:00:00</th>\n",
       "      <td>0.6924689412117004</td>\n",
       "      <td>0.000000</td>\n",
       "      <td>0.000000e+00</td>\n",
       "      <td>0.099654</td>\n",
       "      <td>None</td>\n",
       "      <td>Jensen-Shannon distance</td>\n",
       "      <td>0.832555</td>\n",
       "      <td>0.0745820552110672</td>\n",
       "      <td>Jensen-Shannon distance</td>\n",
       "      <td>0</td>\n",
       "      <td>...</td>\n",
       "      <td>0.0</td>\n",
       "      <td>0.832555</td>\n",
       "      <td>0.832555</td>\n",
       "      <td>0.000000</td>\n",
       "      <td>0.062094</td>\n",
       "      <td>0.3131217360496521</td>\n",
       "      <td>0</td>\n",
       "      <td>distance</td>\n",
       "      <td>1.191264</td>\n",
       "      <td>1</td>\n",
       "    </tr>\n",
       "    <tr>\n",
       "      <th>2020-11-15 00:00:00</th>\n",
       "      <td>0.07313749194145203</td>\n",
       "      <td>0.354193</td>\n",
       "      <td>1.006836e+08</td>\n",
       "      <td>0.082321</td>\n",
       "      <td>0.0</td>\n",
       "      <td>Jensen-Shannon distance</td>\n",
       "      <td>0.832555</td>\n",
       "      <td>0.00015179661568254232</td>\n",
       "      <td>Jensen-Shannon distance</td>\n",
       "      <td>0</td>\n",
       "      <td>...</td>\n",
       "      <td>0.0</td>\n",
       "      <td>0.832555</td>\n",
       "      <td>0.832555</td>\n",
       "      <td>516194.346449</td>\n",
       "      <td>0.000126</td>\n",
       "      <td>0.038636695593595505</td>\n",
       "      <td>1</td>\n",
       "      <td>distance</td>\n",
       "      <td>1.139090</td>\n",
       "      <td>1</td>\n",
       "    </tr>\n",
       "    <tr>\n",
       "      <th>2020-11-15 00:00:00</th>\n",
       "      <td>0.07313749194145203</td>\n",
       "      <td>0.354193</td>\n",
       "      <td>1.006836e+08</td>\n",
       "      <td>0.082321</td>\n",
       "      <td>0.0</td>\n",
       "      <td>Jensen-Shannon distance</td>\n",
       "      <td>0.832555</td>\n",
       "      <td>0.00015179661568254232</td>\n",
       "      <td>Jensen-Shannon distance</td>\n",
       "      <td>0</td>\n",
       "      <td>...</td>\n",
       "      <td>0.0</td>\n",
       "      <td>0.832555</td>\n",
       "      <td>0.832555</td>\n",
       "      <td>516194.346449</td>\n",
       "      <td>0.000126</td>\n",
       "      <td>0.038636695593595505</td>\n",
       "      <td>1</td>\n",
       "      <td>None</td>\n",
       "      <td>0.000000</td>\n",
       "      <td>0</td>\n",
       "    </tr>\n",
       "    <tr>\n",
       "      <th>2020-11-15 00:00:00</th>\n",
       "      <td>0.6925688982009888</td>\n",
       "      <td>0.000000</td>\n",
       "      <td>0.000000e+00</td>\n",
       "      <td>0.100450</td>\n",
       "      <td>None</td>\n",
       "      <td>Jensen-Shannon distance</td>\n",
       "      <td>0.832555</td>\n",
       "      <td>0.19884724915027618</td>\n",
       "      <td>Jensen-Shannon distance</td>\n",
       "      <td>0</td>\n",
       "      <td>...</td>\n",
       "      <td>0.0</td>\n",
       "      <td>0.832555</td>\n",
       "      <td>0.832555</td>\n",
       "      <td>0.000000</td>\n",
       "      <td>0.165551</td>\n",
       "      <td>0.3557678163051605</td>\n",
       "      <td>0</td>\n",
       "      <td>distance</td>\n",
       "      <td>1.139090</td>\n",
       "      <td>1</td>\n",
       "    </tr>\n",
       "    <tr>\n",
       "      <th>2020-11-15 00:00:00</th>\n",
       "      <td>0.07313749194145203</td>\n",
       "      <td>0.354193</td>\n",
       "      <td>1.006836e+08</td>\n",
       "      <td>0.082321</td>\n",
       "      <td>0.0</td>\n",
       "      <td>Jensen-Shannon distance</td>\n",
       "      <td>0.832555</td>\n",
       "      <td>0.00015179661568254232</td>\n",
       "      <td>Jensen-Shannon distance</td>\n",
       "      <td>0</td>\n",
       "      <td>...</td>\n",
       "      <td>0.0</td>\n",
       "      <td>0.832555</td>\n",
       "      <td>0.832555</td>\n",
       "      <td>516194.346449</td>\n",
       "      <td>0.000126</td>\n",
       "      <td>0.038636695593595505</td>\n",
       "      <td>1</td>\n",
       "      <td>None</td>\n",
       "      <td>0.000000</td>\n",
       "      <td>0</td>\n",
       "    </tr>\n",
       "  </tbody>\n",
       "</table>\n",
       "<p>391 rows × 57 columns</p>\n",
       "</div>"
      ],
      "text/plain": [
       "                                    params.warehouse_ID.value_raw_feature_importance  \\\n",
       "params.week_end_experiment_end_date                                                    \n",
       "2018-12-30 00:00:00                                              0.02292817272245884   \n",
       "2018-12-30 00:00:00                                             0.026244498789310455   \n",
       "2018-12-30 00:00:00                                                             None   \n",
       "2018-12-30 00:00:00                                             0.017281191423535347   \n",
       "2019-01-06 00:00:00                                             0.028664948418736458   \n",
       "...                                                                              ...   \n",
       "2020-11-08 00:00:00                                               0.6924689412117004   \n",
       "2020-11-15 00:00:00                                              0.07313749194145203   \n",
       "2020-11-15 00:00:00                                              0.07313749194145203   \n",
       "2020-11-15 00:00:00                                               0.6925688982009888   \n",
       "2020-11-15 00:00:00                                              0.07313749194145203   \n",
       "\n",
       "                                     params.statewise_population_per_sqmile.value_drift_score  \\\n",
       "params.week_end_experiment_end_date                                                             \n",
       "2018-12-30 00:00:00                                                           0.588372          \n",
       "2018-12-30 00:00:00                                                           0.588372          \n",
       "2018-12-30 00:00:00                                                           0.000000          \n",
       "2018-12-30 00:00:00                                                           0.588372          \n",
       "2019-01-06 00:00:00                                                           0.270989          \n",
       "...                                                                                ...          \n",
       "2020-11-08 00:00:00                                                           0.000000          \n",
       "2020-11-15 00:00:00                                                           0.354193          \n",
       "2020-11-15 00:00:00                                                           0.354193          \n",
       "2020-11-15 00:00:00                                                           0.000000          \n",
       "2020-11-15 00:00:00                                                           0.354193          \n",
       "\n",
       "                                     params.state_cases.value_feature_importance_weighted_drift_score  \\\n",
       "params.week_end_experiment_end_date                                                                     \n",
       "2018-12-30 00:00:00                                                       0.000000e+00                  \n",
       "2018-12-30 00:00:00                                                       0.000000e+00                  \n",
       "2018-12-30 00:00:00                                                       0.000000e+00                  \n",
       "2018-12-30 00:00:00                                                       0.000000e+00                  \n",
       "2019-01-06 00:00:00                                                       0.000000e+00                  \n",
       "...                                                                                ...                  \n",
       "2020-11-08 00:00:00                                                       0.000000e+00                  \n",
       "2020-11-15 00:00:00                                                       1.006836e+08                  \n",
       "2020-11-15 00:00:00                                                       1.006836e+08                  \n",
       "2020-11-15 00:00:00                                                       0.000000e+00                  \n",
       "2020-11-15 00:00:00                                                       1.006836e+08                  \n",
       "\n",
       "                                     params.is_warehouse_closed.value_feature_importance_weighted_drift_score  \\\n",
       "params.week_end_experiment_end_date                                                                             \n",
       "2018-12-30 00:00:00                                                           0.000000                          \n",
       "2018-12-30 00:00:00                                                           0.000000                          \n",
       "2018-12-30 00:00:00                                                           0.000000                          \n",
       "2018-12-30 00:00:00                                                           0.000000                          \n",
       "2019-01-06 00:00:00                                                           0.000000                          \n",
       "...                                                                                ...                          \n",
       "2020-11-08 00:00:00                                                           0.099654                          \n",
       "2020-11-15 00:00:00                                                           0.082321                          \n",
       "2020-11-15 00:00:00                                                           0.082321                          \n",
       "2020-11-15 00:00:00                                                           0.100450                          \n",
       "2020-11-15 00:00:00                                                           0.082321                          \n",
       "\n",
       "                                    params.statewise_population_per_sqmile.value_relative_feature_importance  \\\n",
       "params.week_end_experiment_end_date                                                                            \n",
       "2018-12-30 00:00:00                                                                0.0                         \n",
       "2018-12-30 00:00:00                                                0.02968338318169117                         \n",
       "2018-12-30 00:00:00                                                               None                         \n",
       "2018-12-30 00:00:00                                               0.002893036464229226                         \n",
       "2019-01-06 00:00:00                                                                0.0                         \n",
       "...                                                                                ...                         \n",
       "2020-11-08 00:00:00                                                               None                         \n",
       "2020-11-15 00:00:00                                                                0.0                         \n",
       "2020-11-15 00:00:00                                                                0.0                         \n",
       "2020-11-15 00:00:00                                                               None                         \n",
       "2020-11-15 00:00:00                                                                0.0                         \n",
       "\n",
       "                                    params.is_weekend.value_stattest_name  \\\n",
       "params.week_end_experiment_end_date                                         \n",
       "2018-12-30 00:00:00                               Jensen-Shannon distance   \n",
       "2018-12-30 00:00:00                               Jensen-Shannon distance   \n",
       "2018-12-30 00:00:00                                                  None   \n",
       "2018-12-30 00:00:00                               Jensen-Shannon distance   \n",
       "2019-01-06 00:00:00                               Jensen-Shannon distance   \n",
       "...                                                                   ...   \n",
       "2020-11-08 00:00:00                               Jensen-Shannon distance   \n",
       "2020-11-15 00:00:00                               Jensen-Shannon distance   \n",
       "2020-11-15 00:00:00                               Jensen-Shannon distance   \n",
       "2020-11-15 00:00:00                               Jensen-Shannon distance   \n",
       "2020-11-15 00:00:00                               Jensen-Shannon distance   \n",
       "\n",
       "                                     params.state.value_drift_score  \\\n",
       "params.week_end_experiment_end_date                                   \n",
       "2018-12-30 00:00:00                                        0.832555   \n",
       "2018-12-30 00:00:00                                        0.832555   \n",
       "2018-12-30 00:00:00                                        0.000000   \n",
       "2018-12-30 00:00:00                                        0.832555   \n",
       "2019-01-06 00:00:00                                        0.832555   \n",
       "...                                                             ...   \n",
       "2020-11-08 00:00:00                                        0.832555   \n",
       "2020-11-15 00:00:00                                        0.832555   \n",
       "2020-11-15 00:00:00                                        0.832555   \n",
       "2020-11-15 00:00:00                                        0.832555   \n",
       "2020-11-15 00:00:00                                        0.832555   \n",
       "\n",
       "                                    params.state.value_relative_feature_importance  \\\n",
       "params.week_end_experiment_end_date                                                  \n",
       "2018-12-30 00:00:00                                                            0.0   \n",
       "2018-12-30 00:00:00                                                            0.0   \n",
       "2018-12-30 00:00:00                                                           None   \n",
       "2018-12-30 00:00:00                                                            0.0   \n",
       "2019-01-06 00:00:00                                                            0.0   \n",
       "...                                                                            ...   \n",
       "2020-11-08 00:00:00                                             0.0745820552110672   \n",
       "2020-11-15 00:00:00                                         0.00015179661568254232   \n",
       "2020-11-15 00:00:00                                         0.00015179661568254232   \n",
       "2020-11-15 00:00:00                                            0.19884724915027618   \n",
       "2020-11-15 00:00:00                                         0.00015179661568254232   \n",
       "\n",
       "                                    params.is_warehouse_closed.value_stattest_name  \\\n",
       "params.week_end_experiment_end_date                                                  \n",
       "2018-12-30 00:00:00                                        Jensen-Shannon distance   \n",
       "2018-12-30 00:00:00                                        Jensen-Shannon distance   \n",
       "2018-12-30 00:00:00                                                           None   \n",
       "2018-12-30 00:00:00                                        Jensen-Shannon distance   \n",
       "2019-01-06 00:00:00                                        Jensen-Shannon distance   \n",
       "...                                                                            ...   \n",
       "2020-11-08 00:00:00                                        Jensen-Shannon distance   \n",
       "2020-11-15 00:00:00                                        Jensen-Shannon distance   \n",
       "2020-11-15 00:00:00                                        Jensen-Shannon distance   \n",
       "2020-11-15 00:00:00                                        Jensen-Shannon distance   \n",
       "2020-11-15 00:00:00                                        Jensen-Shannon distance   \n",
       "\n",
       "                                     params.county.value_feature_importance_weighted_drift_detected  \\\n",
       "params.week_end_experiment_end_date                                                                   \n",
       "2018-12-30 00:00:00                                                                  0                \n",
       "2018-12-30 00:00:00                                                                  0                \n",
       "2018-12-30 00:00:00                                                                  0                \n",
       "2018-12-30 00:00:00                                                                  0                \n",
       "2019-01-06 00:00:00                                                                  0                \n",
       "...                                                                                ...                \n",
       "2020-11-08 00:00:00                                                                  0                \n",
       "2020-11-15 00:00:00                                                                  0                \n",
       "2020-11-15 00:00:00                                                                  0                \n",
       "2020-11-15 00:00:00                                                                  0                \n",
       "2020-11-15 00:00:00                                                                  0                \n",
       "\n",
       "                                     ...  \\\n",
       "params.week_end_experiment_end_date  ...   \n",
       "2018-12-30 00:00:00                  ...   \n",
       "2018-12-30 00:00:00                  ...   \n",
       "2018-12-30 00:00:00                  ...   \n",
       "2018-12-30 00:00:00                  ...   \n",
       "2019-01-06 00:00:00                  ...   \n",
       "...                                  ...   \n",
       "2020-11-08 00:00:00                  ...   \n",
       "2020-11-15 00:00:00                  ...   \n",
       "2020-11-15 00:00:00                  ...   \n",
       "2020-11-15 00:00:00                  ...   \n",
       "2020-11-15 00:00:00                  ...   \n",
       "\n",
       "                                     params.county.value_raw_feature_importance  \\\n",
       "params.week_end_experiment_end_date                                               \n",
       "2018-12-30 00:00:00                                                         0.0   \n",
       "2018-12-30 00:00:00                                                         0.0   \n",
       "2018-12-30 00:00:00                                                        None   \n",
       "2018-12-30 00:00:00                                                         0.0   \n",
       "2019-01-06 00:00:00                                                         0.0   \n",
       "...                                                                         ...   \n",
       "2020-11-08 00:00:00                                                         0.0   \n",
       "2020-11-15 00:00:00                                                         0.0   \n",
       "2020-11-15 00:00:00                                                         0.0   \n",
       "2020-11-15 00:00:00                                                         0.0   \n",
       "2020-11-15 00:00:00                                                         0.0   \n",
       "\n",
       "                                    params.Product_Type.value_drift_score  \\\n",
       "params.week_end_experiment_end_date                                         \n",
       "2018-12-30 00:00:00                                              0.832555   \n",
       "2018-12-30 00:00:00                                              0.832555   \n",
       "2018-12-30 00:00:00                                              0.000000   \n",
       "2018-12-30 00:00:00                                              0.832555   \n",
       "2019-01-06 00:00:00                                              0.832555   \n",
       "...                                                                   ...   \n",
       "2020-11-08 00:00:00                                              0.832555   \n",
       "2020-11-15 00:00:00                                              0.832555   \n",
       "2020-11-15 00:00:00                                              0.832555   \n",
       "2020-11-15 00:00:00                                              0.832555   \n",
       "2020-11-15 00:00:00                                              0.832555   \n",
       "\n",
       "                                     params.warehouse_ID.value_drift_score  \\\n",
       "params.week_end_experiment_end_date                                          \n",
       "2018-12-30 00:00:00                                               0.832555   \n",
       "2018-12-30 00:00:00                                               0.832555   \n",
       "2018-12-30 00:00:00                                               0.000000   \n",
       "2018-12-30 00:00:00                                               0.832555   \n",
       "2019-01-06 00:00:00                                               0.832555   \n",
       "...                                                                    ...   \n",
       "2020-11-08 00:00:00                                               0.832555   \n",
       "2020-11-15 00:00:00                                               0.832555   \n",
       "2020-11-15 00:00:00                                               0.832555   \n",
       "2020-11-15 00:00:00                                               0.832555   \n",
       "2020-11-15 00:00:00                                               0.832555   \n",
       "\n",
       "                                    params.state_deaths.value_feature_importance_weighted_drift_score  \\\n",
       "params.week_end_experiment_end_date                                                                     \n",
       "2018-12-30 00:00:00                                                           0.000000                  \n",
       "2018-12-30 00:00:00                                                           0.000000                  \n",
       "2018-12-30 00:00:00                                                           0.000000                  \n",
       "2018-12-30 00:00:00                                                           0.000000                  \n",
       "2019-01-06 00:00:00                                                           0.000000                  \n",
       "...                                                                                ...                  \n",
       "2020-11-08 00:00:00                                                           0.000000                  \n",
       "2020-11-15 00:00:00                                                      516194.346449                  \n",
       "2020-11-15 00:00:00                                                      516194.346449                  \n",
       "2020-11-15 00:00:00                                                           0.000000                  \n",
       "2020-11-15 00:00:00                                                      516194.346449                  \n",
       "\n",
       "                                    params.state.value_feature_importance_weighted_drift_score  \\\n",
       "params.week_end_experiment_end_date                                                              \n",
       "2018-12-30 00:00:00                                                           0.000000           \n",
       "2018-12-30 00:00:00                                                           0.000000           \n",
       "2018-12-30 00:00:00                                                           0.000000           \n",
       "2018-12-30 00:00:00                                                           0.000000           \n",
       "2019-01-06 00:00:00                                                           0.000000           \n",
       "...                                                                                ...           \n",
       "2020-11-08 00:00:00                                                           0.062094           \n",
       "2020-11-15 00:00:00                                                           0.000126           \n",
       "2020-11-15 00:00:00                                                           0.000126           \n",
       "2020-11-15 00:00:00                                                           0.165551           \n",
       "2020-11-15 00:00:00                                                           0.000126           \n",
       "\n",
       "                                    params.warehouse_ID.value_relative_feature_importance  \\\n",
       "params.week_end_experiment_end_date                                                         \n",
       "2018-12-30 00:00:00                                               0.013138306327164173      \n",
       "2018-12-30 00:00:00                                               0.014780729077756405      \n",
       "2018-12-30 00:00:00                                                               None      \n",
       "2018-12-30 00:00:00                                               0.007265902124345303      \n",
       "2019-01-06 00:00:00                                                0.01135654840618372      \n",
       "...                                                                                ...      \n",
       "2020-11-08 00:00:00                                                 0.3131217360496521      \n",
       "2020-11-15 00:00:00                                               0.038636695593595505      \n",
       "2020-11-15 00:00:00                                               0.038636695593595505      \n",
       "2020-11-15 00:00:00                                                 0.3557678163051605      \n",
       "2020-11-15 00:00:00                                               0.038636695593595505      \n",
       "\n",
       "                                    params.state_cases.value_feature_importance_weighted_drift_detected  \\\n",
       "params.week_end_experiment_end_date                                                                       \n",
       "2018-12-30 00:00:00                                                                  0                    \n",
       "2018-12-30 00:00:00                                                                  0                    \n",
       "2018-12-30 00:00:00                                                                  0                    \n",
       "2018-12-30 00:00:00                                                                  0                    \n",
       "2019-01-06 00:00:00                                                                  0                    \n",
       "...                                                                                ...                    \n",
       "2020-11-08 00:00:00                                                                  0                    \n",
       "2020-11-15 00:00:00                                                                  1                    \n",
       "2020-11-15 00:00:00                                                                  1                    \n",
       "2020-11-15 00:00:00                                                                  0                    \n",
       "2020-11-15 00:00:00                                                                  1                    \n",
       "\n",
       "                                     params.daily_dispatch_count_target_stattest_name  \\\n",
       "params.week_end_experiment_end_date                                                     \n",
       "2018-12-30 00:00:00                                                          distance   \n",
       "2018-12-30 00:00:00                                                          distance   \n",
       "2018-12-30 00:00:00                                                          distance   \n",
       "2018-12-30 00:00:00                                                          distance   \n",
       "2019-01-06 00:00:00                                                          distance   \n",
       "...                                                                               ...   \n",
       "2020-11-08 00:00:00                                                          distance   \n",
       "2020-11-15 00:00:00                                                          distance   \n",
       "2020-11-15 00:00:00                                                              None   \n",
       "2020-11-15 00:00:00                                                          distance   \n",
       "2020-11-15 00:00:00                                                              None   \n",
       "\n",
       "                                     params.daily_dispatch_count_target_drift_score  \\\n",
       "params.week_end_experiment_end_date                                                   \n",
       "2018-12-30 00:00:00                                                        0.850697   \n",
       "2018-12-30 00:00:00                                                        0.850697   \n",
       "2018-12-30 00:00:00                                                        0.850697   \n",
       "2018-12-30 00:00:00                                                        0.850697   \n",
       "2019-01-06 00:00:00                                                        0.760357   \n",
       "...                                                                             ...   \n",
       "2020-11-08 00:00:00                                                        1.191264   \n",
       "2020-11-15 00:00:00                                                        1.139090   \n",
       "2020-11-15 00:00:00                                                        0.000000   \n",
       "2020-11-15 00:00:00                                                        1.139090   \n",
       "2020-11-15 00:00:00                                                        0.000000   \n",
       "\n",
       "                                     params.daily_dispatch_count_drift_detected  \n",
       "params.week_end_experiment_end_date                                              \n",
       "2018-12-30 00:00:00                                                           1  \n",
       "2018-12-30 00:00:00                                                           1  \n",
       "2018-12-30 00:00:00                                                           1  \n",
       "2018-12-30 00:00:00                                                           1  \n",
       "2019-01-06 00:00:00                                                           1  \n",
       "...                                                                         ...  \n",
       "2020-11-08 00:00:00                                                           1  \n",
       "2020-11-15 00:00:00                                                           1  \n",
       "2020-11-15 00:00:00                                                           0  \n",
       "2020-11-15 00:00:00                                                           1  \n",
       "2020-11-15 00:00:00                                                           0  \n",
       "\n",
       "[391 rows x 57 columns]"
      ]
     },
     "execution_count": 692,
     "metadata": {},
     "output_type": "execute_result"
    }
   ],
   "source": [
    "drift_detected_experiment_results"
   ]
  },
  {
   "cell_type": "code",
   "execution_count": null,
   "id": "60b0a695",
   "metadata": {},
   "outputs": [],
   "source": []
  }
 ],
 "metadata": {
  "hide_input": false,
  "kernelspec": {
   "display_name": "anaconda_env",
   "language": "python",
   "name": "anaconda_env"
  },
  "language_info": {
   "codemirror_mode": {
    "name": "ipython",
    "version": 3
   },
   "file_extension": ".py",
   "mimetype": "text/x-python",
   "name": "python",
   "nbconvert_exporter": "python",
   "pygments_lexer": "ipython3",
   "version": "3.9.12"
  },
  "toc": {
   "base_numbering": 1,
   "nav_menu": {},
   "number_sections": true,
   "sideBar": true,
   "skip_h1_title": false,
   "title_cell": "Table of Contents",
   "title_sidebar": "Contents",
   "toc_cell": false,
   "toc_position": {
    "height": "calc(100% - 180px)",
    "left": "10px",
    "top": "150px",
    "width": "384px"
   },
   "toc_section_display": true,
   "toc_window_display": false
  },
  "varInspector": {
   "cols": {
    "lenName": 16,
    "lenType": 16,
    "lenVar": 40
   },
   "kernels_config": {
    "python": {
     "delete_cmd_postfix": "",
     "delete_cmd_prefix": "del ",
     "library": "var_list.py",
     "varRefreshCmd": "print(var_dic_list())"
    },
    "r": {
     "delete_cmd_postfix": ") ",
     "delete_cmd_prefix": "rm(",
     "library": "var_list.r",
     "varRefreshCmd": "cat(var_dic_list()) "
    }
   },
   "types_to_exclude": [
    "module",
    "function",
    "builtin_function_or_method",
    "instance",
    "_Feature"
   ],
   "window_display": false
  }
 },
 "nbformat": 4,
 "nbformat_minor": 5
}
