{
 "cells": [
  {
   "cell_type": "markdown",
   "id": "bc63de82",
   "metadata": {},
   "source": [
    "# ML Monitoring - Feature importance weighted drift detection and automated-retraining\n",
    "\n",
    "## Overview\n",
    "\n",
    "Every model over time is impacted by model performance decay due to data drift and concept drift. One of many solution is to perform drift detection and set up automated retraining of the model. Drift in every feature does't have the same impact on model performance. In this project we combine feature importance of a particular feature with its drift score obtained through statistical test to determine wether to retrain model or not. Thus model will be retrained only when there is drift on features with higher importance and also when feature with lower importance faces higher data drift.\n",
    "\n",
    "## Dataset:\n",
    "\n",
    "* Contains warehouse demand data from 2017-01-01 to 2020-11-15\n",
    "* Working with preprocessed data\n",
    "* No data leakage as missing values were filled without requirement of any transformation\n",
    "\n",
    "## Assumptions\n",
    "\n",
    "* Initial model deployment on march 2019\n",
    "* True labels/ actual demand available over the weekend\n",
    "* Model monitored on weekly basis"
   ]
  },
  {
   "cell_type": "markdown",
   "id": "20bc077d",
   "metadata": {},
   "source": [
    "## Libraries"
   ]
  },
  {
   "cell_type": "code",
   "execution_count": 632,
   "id": "2150e659",
   "metadata": {},
   "outputs": [
    {
     "data": {
      "text/html": [
       "        <script type=\"text/javascript\">\n",
       "        window.PlotlyConfig = {MathJaxConfig: 'local'};\n",
       "        if (window.MathJax && window.MathJax.Hub && window.MathJax.Hub.Config) {window.MathJax.Hub.Config({SVG: {font: \"STIX-Web\"}});}\n",
       "        if (typeof require !== 'undefined') {\n",
       "        require.undef(\"plotly\");\n",
       "        requirejs.config({\n",
       "            paths: {\n",
       "                'plotly': ['https://cdn.plot.ly/plotly-2.12.1.min']\n",
       "            }\n",
       "        });\n",
       "        require(['plotly'], function(Plotly) {\n",
       "            window._Plotly = Plotly;\n",
       "        });\n",
       "        }\n",
       "        </script>\n",
       "        "
      ]
     },
     "metadata": {},
     "output_type": "display_data"
    }
   ],
   "source": [
    "import pandas as pd\n",
    "import numpy as np\n",
    "from datetime import date,datetime,timedelta\n",
    "from sklearn.model_selection import train_test_split\n",
    "from rdt import HyperTransformer\n",
    "import xgboost as xgb\n",
    "import optuna\n",
    "import traceback\n",
    "import shap\n",
    "import pickle\n",
    "import logging\n",
    "from importlib import reload\n",
    "import logging\n",
    "from sklearn.metrics import mean_squared_error, mean_absolute_percentage_error, mean_absolute_error\n",
    "from evidently import ColumnMapping\n",
    "from evidently.analyzers.stattests import StatTest\n",
    "from evidently.dashboard import Dashboard\n",
    "from evidently.dashboard.tabs import DataDriftTab, CatTargetDriftTab, NumTargetDriftTab, RegressionPerformanceTab\n",
    "from evidently.options import DataDriftOptions\n",
    "from evidently.model_profile import Profile\n",
    "from evidently.model_profile.sections import DataDriftProfileSection, NumTargetDriftProfileSection\n",
    "import plotly.graph_objects as go\n",
    "import plotly.figure_factory as ff\n",
    "import plotly.express as px\n",
    "import plotly.offline as py\n",
    "from plotly.offline import iplot\n",
    "import os\n",
    "import json\n",
    "import mlflow\n",
    "from functools import wraps\n",
    "from mlflow.tracking import MlflowClient\n",
    "py.init_notebook_mode(connected=True)\n",
    "%matplotlib inline"
   ]
  },
  {
   "cell_type": "code",
   "execution_count": 633,
   "id": "a8149581",
   "metadata": {},
   "outputs": [],
   "source": [
    "# set up logging\n",
    "reload(logging)\n",
    "logging.basicConfig(format='%(asctime)s %(levelname)s:%(message)s', level=logging.INFO, datefmt='%I:%M:%S')"
   ]
  },
  {
   "cell_type": "code",
   "execution_count": 634,
   "id": "9a7fe6d4",
   "metadata": {},
   "outputs": [],
   "source": [
    "# mlflow runner\n",
    "def mlflow_runner(func):\n",
    "    @wraps(func)\n",
    "    def wrapper(*args, **kwargs):\n",
    "        # log into MLflow\n",
    "        client = MlflowClient()\n",
    "        experiment_name = kwargs['experiment_name']\n",
    "        try:\n",
    "            mlflow.set_experiment(experiment_name)\n",
    "        except Exception:\n",
    "            logging.error('Experiment does not exists')\n",
    "            logging.error('Stack trace:{}'.format(traceback.format_exc()))\n",
    "            experiment_id = mlflow.create_experiment(experiment_name)\n",
    "            mlflow.set_experiment(experiment_name)\n",
    "        finally:\n",
    "            with mlflow.start_run() as run:\n",
    "                rv = func(*args, **kwargs)\n",
    "            return rv\n",
    "\n",
    "    return wrapper"
   ]
  },
  {
   "cell_type": "markdown",
   "id": "fe10566d",
   "metadata": {},
   "source": [
    "## Data"
   ]
  },
  {
   "cell_type": "markdown",
   "id": "2e080f13",
   "metadata": {},
   "source": [
    "### Load data"
   ]
  },
  {
   "cell_type": "code",
   "execution_count": 635,
   "id": "3b082e99",
   "metadata": {},
   "outputs": [],
   "source": [
    "df = pd.read_csv('cpp_demand_forecasting_clean_data_v2.csv', index_col=0)"
   ]
  },
  {
   "cell_type": "code",
   "execution_count": 636,
   "id": "f2e957d5",
   "metadata": {},
   "outputs": [
    {
     "name": "stderr",
     "output_type": "stream",
     "text": [
      "11:24:46 INFO:dataset shape : (13315, 33)\n"
     ]
    }
   ],
   "source": [
    "logging.info(f'dataset shape : {df.shape}')"
   ]
  },
  {
   "cell_type": "code",
   "execution_count": 637,
   "id": "2de736f2",
   "metadata": {},
   "outputs": [],
   "source": [
    "# set random state\n",
    "rng = np.random.RandomState(0)"
   ]
  },
  {
   "cell_type": "code",
   "execution_count": 638,
   "id": "7ce62229",
   "metadata": {},
   "outputs": [
    {
     "data": {
      "text/html": [
       "<div>\n",
       "<style scoped>\n",
       "    .dataframe tbody tr th:only-of-type {\n",
       "        vertical-align: middle;\n",
       "    }\n",
       "\n",
       "    .dataframe tbody tr th {\n",
       "        vertical-align: top;\n",
       "    }\n",
       "\n",
       "    .dataframe thead th {\n",
       "        text-align: right;\n",
       "    }\n",
       "</style>\n",
       "<table border=\"1\" class=\"dataframe\">\n",
       "  <thead>\n",
       "    <tr style=\"text-align: right;\">\n",
       "      <th></th>\n",
       "      <th>date</th>\n",
       "      <th>warehouse_ID</th>\n",
       "      <th>Latitude</th>\n",
       "      <th>Longitude</th>\n",
       "      <th>Product_Type</th>\n",
       "      <th>year</th>\n",
       "      <th>month</th>\n",
       "      <th>is_weekend</th>\n",
       "      <th>is_warehouse_closed</th>\n",
       "      <th>daily_dispatch_count</th>\n",
       "      <th>...</th>\n",
       "      <th>statewise_land_area_per_sqmile</th>\n",
       "      <th>statewise_population_per_sqmile</th>\n",
       "      <th>statewise_geographic_region</th>\n",
       "      <th>geographic_region_division</th>\n",
       "      <th>statewise_median_age</th>\n",
       "      <th>statewise_median_household_income</th>\n",
       "      <th>total_count</th>\n",
       "      <th>yearly_count</th>\n",
       "      <th>monthly_count</th>\n",
       "      <th>weekly_count</th>\n",
       "    </tr>\n",
       "    <tr>\n",
       "      <th>ID</th>\n",
       "      <th></th>\n",
       "      <th></th>\n",
       "      <th></th>\n",
       "      <th></th>\n",
       "      <th></th>\n",
       "      <th></th>\n",
       "      <th></th>\n",
       "      <th></th>\n",
       "      <th></th>\n",
       "      <th></th>\n",
       "      <th></th>\n",
       "      <th></th>\n",
       "      <th></th>\n",
       "      <th></th>\n",
       "      <th></th>\n",
       "      <th></th>\n",
       "      <th></th>\n",
       "      <th></th>\n",
       "      <th></th>\n",
       "      <th></th>\n",
       "      <th></th>\n",
       "    </tr>\n",
       "  </thead>\n",
       "  <tbody>\n",
       "    <tr>\n",
       "      <th>0x2710</th>\n",
       "      <td>2017-01-01</td>\n",
       "      <td>WH_0x3e9</td>\n",
       "      <td>41.681471</td>\n",
       "      <td>-72.794746</td>\n",
       "      <td>Type_A</td>\n",
       "      <td>2017</td>\n",
       "      <td>1</td>\n",
       "      <td>Yes</td>\n",
       "      <td>No</td>\n",
       "      <td>5.5</td>\n",
       "      <td>...</td>\n",
       "      <td>4842</td>\n",
       "      <td>744.722016</td>\n",
       "      <td>new_england</td>\n",
       "      <td>north_east</td>\n",
       "      <td>41.2</td>\n",
       "      <td>78833</td>\n",
       "      <td>0</td>\n",
       "      <td>0</td>\n",
       "      <td>0</td>\n",
       "      <td>0</td>\n",
       "    </tr>\n",
       "    <tr>\n",
       "      <th>0x33e6</th>\n",
       "      <td>2017-01-01</td>\n",
       "      <td>WH_0x3ea</td>\n",
       "      <td>38.749077</td>\n",
       "      <td>-105.183060</td>\n",
       "      <td>Type_A</td>\n",
       "      <td>2017</td>\n",
       "      <td>1</td>\n",
       "      <td>Yes</td>\n",
       "      <td>No</td>\n",
       "      <td>6.1</td>\n",
       "      <td>...</td>\n",
       "      <td>103642</td>\n",
       "      <td>56.078318</td>\n",
       "      <td>mountain</td>\n",
       "      <td>west</td>\n",
       "      <td>37.3</td>\n",
       "      <td>41053</td>\n",
       "      <td>0</td>\n",
       "      <td>0</td>\n",
       "      <td>0</td>\n",
       "      <td>0</td>\n",
       "    </tr>\n",
       "  </tbody>\n",
       "</table>\n",
       "<p>2 rows × 33 columns</p>\n",
       "</div>"
      ],
      "text/plain": [
       "              date warehouse_ID   Latitude   Longitude Product_Type  year  \\\n",
       "ID                                                                          \n",
       "0x2710  2017-01-01     WH_0x3e9  41.681471  -72.794746       Type_A  2017   \n",
       "0x33e6  2017-01-01     WH_0x3ea  38.749077 -105.183060       Type_A  2017   \n",
       "\n",
       "        month is_weekend is_warehouse_closed  daily_dispatch_count  ...  \\\n",
       "ID                                                                  ...   \n",
       "0x2710      1        Yes                  No                   5.5  ...   \n",
       "0x33e6      1        Yes                  No                   6.1  ...   \n",
       "\n",
       "        statewise_land_area_per_sqmile  statewise_population_per_sqmile  \\\n",
       "ID                                                                        \n",
       "0x2710                            4842                       744.722016   \n",
       "0x33e6                          103642                        56.078318   \n",
       "\n",
       "       statewise_geographic_region geographic_region_division  \\\n",
       "ID                                                              \n",
       "0x2710                 new_england                 north_east   \n",
       "0x33e6                    mountain                       west   \n",
       "\n",
       "        statewise_median_age  statewise_median_household_income  total_count  \\\n",
       "ID                                                                             \n",
       "0x2710                  41.2                              78833            0   \n",
       "0x33e6                  37.3                              41053            0   \n",
       "\n",
       "        yearly_count  monthly_count  weekly_count  \n",
       "ID                                                 \n",
       "0x2710             0              0             0  \n",
       "0x33e6             0              0             0  \n",
       "\n",
       "[2 rows x 33 columns]"
      ]
     },
     "execution_count": 638,
     "metadata": {},
     "output_type": "execute_result"
    }
   ],
   "source": [
    "df.head(2)"
   ]
  },
  {
   "cell_type": "code",
   "execution_count": 639,
   "id": "b32c9da2",
   "metadata": {},
   "outputs": [],
   "source": [
    "df.date = pd.to_datetime(df.date)"
   ]
  },
  {
   "cell_type": "markdown",
   "id": "9a90b42c",
   "metadata": {},
   "source": [
    "<b> Data available during initial model deployment is from 2017-01-01 to 2019-03-01"
   ]
  },
  {
   "cell_type": "code",
   "execution_count": 640,
   "id": "29f7d1f2",
   "metadata": {},
   "outputs": [],
   "source": [
    "intial_df = df[df.date < datetime(2019,3,1)]"
   ]
  },
  {
   "cell_type": "code",
   "execution_count": 641,
   "id": "644635c4",
   "metadata": {},
   "outputs": [],
   "source": [
    "# Split the dataset\n",
    "train_df, test_df = train_test_split(intial_df,\n",
    "                                     test_size=0.3,\n",
    "                                     shuffle=False,\n",
    "                                     random_state=rng)\n",
    "eval_df, serve_df = train_test_split(test_df,\n",
    "                                     test_size=0.5,\n",
    "                                     shuffle=False,\n",
    "                                     random_state=rng)"
   ]
  },
  {
   "cell_type": "code",
   "execution_count": 642,
   "id": "430f225a",
   "metadata": {},
   "outputs": [
    {
     "name": "stderr",
     "output_type": "stream",
     "text": [
      "11:24:47 INFO:train_df shape : (2794, 33)\n",
      "11:24:47 INFO:eval_df shape : (599, 33)\n",
      "11:24:47 INFO:serve_df shape : (599, 33)\n"
     ]
    }
   ],
   "source": [
    "logging.info(f'train_df shape : {train_df.shape}')\n",
    "logging.info(f'eval_df shape : {eval_df.shape}')\n",
    "logging.info(f'serve_df shape : {serve_df.shape}')"
   ]
  },
  {
   "cell_type": "markdown",
   "id": "c82dfa3e",
   "metadata": {},
   "source": [
    "### Data preprocessing"
   ]
  },
  {
   "cell_type": "code",
   "execution_count": 643,
   "id": "96ed4416",
   "metadata": {},
   "outputs": [],
   "source": [
    "def split_features_target(df):\n",
    "    target =  'daily_dispatch_count'\n",
    "    drop_feats = ['weekly_dispatch_count']\n",
    "    y = df[target]\n",
    "    X = df.drop(columns = drop_feats+[target])\n",
    "    return X,y"
   ]
  },
  {
   "cell_type": "code",
   "execution_count": 644,
   "id": "bf66ace6",
   "metadata": {},
   "outputs": [],
   "source": [
    "X,y = split_features_target(train_df)\n",
    "X_eval,y_eval = split_features_target(eval_df)\n",
    "X_serve,y_serve = split_features_target(serve_df)"
   ]
  },
  {
   "cell_type": "markdown",
   "id": "9d8fa920",
   "metadata": {},
   "source": [
    "### Data transformation"
   ]
  },
  {
   "cell_type": "code",
   "execution_count": 645,
   "id": "d2d332e6",
   "metadata": {},
   "outputs": [],
   "source": [
    "ht = HyperTransformer()"
   ]
  },
  {
   "cell_type": "code",
   "execution_count": 646,
   "id": "2a7a1fae",
   "metadata": {},
   "outputs": [
    {
     "name": "stdout",
     "output_type": "stream",
     "text": [
      "Detecting a new config from the data ... SUCCESS\n",
      "Setting the new config ... SUCCESS\n",
      "Config:\n",
      "{\n",
      "    \"sdtypes\": {\n",
      "        \"date\": \"datetime\",\n",
      "        \"warehouse_ID\": \"categorical\",\n",
      "        \"Latitude\": \"numerical\",\n",
      "        \"Longitude\": \"numerical\",\n",
      "        \"Product_Type\": \"categorical\",\n",
      "        \"year\": \"numerical\",\n",
      "        \"month\": \"numerical\",\n",
      "        \"is_weekend\": \"categorical\",\n",
      "        \"is_warehouse_closed\": \"categorical\",\n",
      "        \"week\": \"numerical\",\n",
      "        \"state\": \"categorical\",\n",
      "        \"county\": \"categorical\",\n",
      "        \"state_cases\": \"numerical\",\n",
      "        \"state_deaths\": \"numerical\",\n",
      "        \"county_cases\": \"numerical\",\n",
      "        \"county_deaths\": \"numerical\",\n",
      "        \"day_of_week\": \"numerical\",\n",
      "        \"days_since_warehouse_started\": \"numerical\",\n",
      "        \"state_abbr\": \"categorical\",\n",
      "        \"is_holiday\": \"numerical\",\n",
      "        \"statewise_population\": \"numerical\",\n",
      "        \"statewise_land_area_per_sqmile\": \"numerical\",\n",
      "        \"statewise_population_per_sqmile\": \"numerical\",\n",
      "        \"statewise_geographic_region\": \"categorical\",\n",
      "        \"geographic_region_division\": \"categorical\",\n",
      "        \"statewise_median_age\": \"numerical\",\n",
      "        \"statewise_median_household_income\": \"numerical\",\n",
      "        \"total_count\": \"numerical\",\n",
      "        \"yearly_count\": \"numerical\",\n",
      "        \"monthly_count\": \"numerical\",\n",
      "        \"weekly_count\": \"numerical\"\n",
      "    },\n",
      "    \"transformers\": {\n",
      "        \"date\": UnixTimestampEncoder(missing_value_replacement='mean'),\n",
      "        \"warehouse_ID\": FrequencyEncoder(),\n",
      "        \"Latitude\": FloatFormatter(missing_value_replacement='mean'),\n",
      "        \"Longitude\": FloatFormatter(missing_value_replacement='mean'),\n",
      "        \"Product_Type\": FrequencyEncoder(),\n",
      "        \"year\": FloatFormatter(missing_value_replacement='mean'),\n",
      "        \"month\": FloatFormatter(missing_value_replacement='mean'),\n",
      "        \"is_weekend\": FrequencyEncoder(),\n",
      "        \"is_warehouse_closed\": FrequencyEncoder(),\n",
      "        \"week\": FloatFormatter(missing_value_replacement='mean'),\n",
      "        \"state\": FrequencyEncoder(),\n",
      "        \"county\": FrequencyEncoder(),\n",
      "        \"state_cases\": FloatFormatter(missing_value_replacement='mean'),\n",
      "        \"state_deaths\": FloatFormatter(missing_value_replacement='mean'),\n",
      "        \"county_cases\": FloatFormatter(missing_value_replacement='mean'),\n",
      "        \"county_deaths\": FloatFormatter(missing_value_replacement='mean'),\n",
      "        \"day_of_week\": FloatFormatter(missing_value_replacement='mean'),\n",
      "        \"days_since_warehouse_started\": FloatFormatter(missing_value_replacement='mean'),\n",
      "        \"state_abbr\": FrequencyEncoder(),\n",
      "        \"is_holiday\": FloatFormatter(missing_value_replacement='mean'),\n",
      "        \"statewise_population\": FloatFormatter(missing_value_replacement='mean'),\n",
      "        \"statewise_land_area_per_sqmile\": FloatFormatter(missing_value_replacement='mean'),\n",
      "        \"statewise_population_per_sqmile\": FloatFormatter(missing_value_replacement='mean'),\n",
      "        \"statewise_geographic_region\": FrequencyEncoder(),\n",
      "        \"geographic_region_division\": FrequencyEncoder(),\n",
      "        \"statewise_median_age\": FloatFormatter(missing_value_replacement='mean'),\n",
      "        \"statewise_median_household_income\": FloatFormatter(missing_value_replacement='mean'),\n",
      "        \"total_count\": FloatFormatter(missing_value_replacement='mean'),\n",
      "        \"yearly_count\": FloatFormatter(missing_value_replacement='mean'),\n",
      "        \"monthly_count\": FloatFormatter(missing_value_replacement='mean'),\n",
      "        \"weekly_count\": FloatFormatter(missing_value_replacement='mean')\n",
      "    }\n",
      "}\n"
     ]
    }
   ],
   "source": [
    "ht.detect_initial_config(data=X)"
   ]
  },
  {
   "cell_type": "code",
   "execution_count": 647,
   "id": "2cc976fc",
   "metadata": {},
   "outputs": [
    {
     "name": "stderr",
     "output_type": "stream",
     "text": [
      "d:\\anaconda\\envs\\anaconda_env\\lib\\site-packages\\rdt\\transformers\\categorical.py:182: UserWarning:\n",
      "\n",
      "The data contains 116 new categories that were not seen in the original data (examples: {'WH_0x3ed'}). Assigning them random values. If you want to model new categories, please fit the transformer again with the new data.\n",
      "\n",
      "d:\\anaconda\\envs\\anaconda_env\\lib\\site-packages\\rdt\\transformers\\categorical.py:182: UserWarning:\n",
      "\n",
      "The data contains 116 new categories that were not seen in the original data (examples: {'florida'}). Assigning them random values. If you want to model new categories, please fit the transformer again with the new data.\n",
      "\n",
      "d:\\anaconda\\envs\\anaconda_env\\lib\\site-packages\\rdt\\transformers\\categorical.py:182: UserWarning:\n",
      "\n",
      "The data contains 116 new categories that were not seen in the original data (examples: {'miami-dade'}). Assigning them random values. If you want to model new categories, please fit the transformer again with the new data.\n",
      "\n",
      "d:\\anaconda\\envs\\anaconda_env\\lib\\site-packages\\rdt\\transformers\\categorical.py:182: UserWarning:\n",
      "\n",
      "The data contains 116 new categories that were not seen in the original data (examples: {'FL'}). Assigning them random values. If you want to model new categories, please fit the transformer again with the new data.\n",
      "\n",
      "d:\\anaconda\\envs\\anaconda_env\\lib\\site-packages\\rdt\\transformers\\categorical.py:182: UserWarning:\n",
      "\n",
      "The data contains 116 new categories that were not seen in the original data (examples: {'mid_atlantic'}). Assigning them random values. If you want to model new categories, please fit the transformer again with the new data.\n",
      "\n"
     ]
    }
   ],
   "source": [
    "ht.fit(X)\n",
    "X_transformed = ht.transform(X)\n",
    "X_eval_transformed = ht.transform(X_eval)\n",
    "X_serve_transformed = ht.transform(X_serve)"
   ]
  },
  {
   "cell_type": "markdown",
   "id": "687fe7af",
   "metadata": {},
   "source": [
    "## Modelling"
   ]
  },
  {
   "cell_type": "code",
   "execution_count": 648,
   "id": "71544a73",
   "metadata": {},
   "outputs": [],
   "source": [
    "### Hypertuning"
   ]
  },
  {
   "cell_type": "markdown",
   "id": "2f924f2a",
   "metadata": {},
   "source": [
    "def objective(trial,data=X_transformed, target=y):\n",
    "    \n",
    "    param = {\n",
    "        \"n_estimators\" : trial.suggest_int('n_estimators', 0, 500),\n",
    "        'max_depth':trial.suggest_int('max_depth', 2, 20),\n",
    "        'lambda': trial.suggest_loguniform('lambda', 1e-3, 10.0),\n",
    "        'alpha': trial.suggest_loguniform('alpha', 1e-3, 10.0),\n",
    "        'min_child_weight': trial.suggest_int('min_child_weight', 1, 300),\n",
    "        'learning_rate':trial.suggest_loguniform('learning_rate',0.005,0.5),\n",
    "        'colsample_bytree':trial.suggest_uniform('colsample_bytree',0.3,0.9),\n",
    "        'subsample':trial.suggest_uniform('subsample',0.4,0.9),\n",
    "        'random_state': trial.suggest_categorical('random_state',[rng]),\n",
    "        'nthread' : trial.suggest_categorical('nthread',[-1])\n",
    "    }\n",
    "    model = xgb.XGBRegressor(**param)  \n",
    "    \n",
    "    model.fit(X_transformed,y,eval_set=[(X_eval_transformed,y_eval)],early_stopping_rounds=20,verbose=False)\n",
    "    \n",
    "    preds = model.predict(X_eval_transformed)\n",
    "    \n",
    "    r2 = r2_score(y_eval, preds)\n",
    "    \n",
    "    return r2\n",
    "optuna.logging.set_verbosity(0)\n",
    "study = optuna.create_study(direction=\"maximize\")\n",
    "study.optimize(objective, n_trials=100)"
   ]
  },
  {
   "cell_type": "code",
   "execution_count": 649,
   "id": "abf1f83c",
   "metadata": {},
   "outputs": [],
   "source": [
    "@mlflow_runner\n",
    "def fit_model(X,y, X_test,y_test, params=None,mlflow_log = False, experiment_name=None):\n",
    "    if params:\n",
    "        reg = xgb.XGBRegressor(**params)\n",
    "    else:\n",
    "        reg = xgb.XGBRegressor()\n",
    "    reg.fit(X,y,eval_set=[(X_test,y_test)],early_stopping_rounds=10,verbose=False)\n",
    "    if mlflow_log:\n",
    "        mlflow.log_dict(reg.get_params(),'xgboost_regressor_params')\n",
    "        \n",
    "    return reg"
   ]
  },
  {
   "cell_type": "code",
   "execution_count": 650,
   "id": "6de3ac8d",
   "metadata": {},
   "outputs": [
    {
     "name": "stderr",
     "output_type": "stream",
     "text": [
      "d:\\anaconda\\envs\\anaconda_env\\lib\\site-packages\\xgboost\\sklearn.py:793: UserWarning:\n",
      "\n",
      "`early_stopping_rounds` in `fit` method is deprecated for better compatibility with scikit-learn, use `early_stopping_rounds` in constructor or`set_params` instead.\n",
      "\n"
     ]
    }
   ],
   "source": [
    "reg = fit_model(X_transformed,y, X_eval_transformed,y_eval, mlflow_log=True,experiment_name='warehouse_demand_forecasting')"
   ]
  },
  {
   "cell_type": "markdown",
   "id": "3504fbd4",
   "metadata": {},
   "source": [
    "#### Model evaluation"
   ]
  },
  {
   "cell_type": "code",
   "execution_count": 651,
   "id": "a466160e",
   "metadata": {},
   "outputs": [],
   "source": [
    "def rewrite_name(df_type, error_type):\n",
    "    return f\"{df_type}{'_'}{error_type}\"\n",
    "\n",
    "def get_scores(y_actual, y_predicted,df_type='train'):\n",
    "    #y_predicted = np.expm1(y_predicted)\n",
    "    #y_actual = np.expm1(y_actual)\n",
    "    rmse = mean_squared_error(y_actual, y_predicted, squared=False)\n",
    "    mse = mean_squared_error(y_actual, y_predicted, squared=True)\n",
    "    mae = mean_absolute_error(y_actual, y_predicted)\n",
    "    mape = mean_absolute_percentage_error(y_actual, y_predicted)\n",
    "    return {rewrite_name(df_type, 'rmse'):rmse, rewrite_name(df_type, 'mse'):mse, rewrite_name(df_type, 'mae'):mae, rewrite_name(df_type, 'mape'):mape}\n",
    "\n",
    "def dataset_results(X,y, model, df_type):\n",
    "\n",
    "    y_pred = model.predict(X)\n",
    "    \n",
    "    return get_scores(y,y_pred,df_type)\n",
    "    "
   ]
  },
  {
   "cell_type": "markdown",
   "id": "893a6ea5",
   "metadata": {},
   "source": [
    "#### Train score"
   ]
  },
  {
   "cell_type": "code",
   "execution_count": 652,
   "id": "fd277adc",
   "metadata": {},
   "outputs": [
    {
     "data": {
      "text/plain": [
       "{'train_rmse': 0.8588220704988938,\n",
       " 'train_mse': 0.7375753487760068,\n",
       " 'train_mae': 0.6316703897078888,\n",
       " 'train_mape': 0.0849176099824632}"
      ]
     },
     "execution_count": 652,
     "metadata": {},
     "output_type": "execute_result"
    }
   ],
   "source": [
    "dataset_results(X_transformed,y, reg, 'train')"
   ]
  },
  {
   "cell_type": "markdown",
   "id": "ddbbe97e",
   "metadata": {},
   "source": [
    "#### Eval score"
   ]
  },
  {
   "cell_type": "code",
   "execution_count": 653,
   "id": "1823f7fa",
   "metadata": {},
   "outputs": [
    {
     "data": {
      "text/plain": [
       "{'eval_rmse': 0.9780817870850148,\n",
       " 'eval_mse': 0.9566439822274162,\n",
       " 'eval_mae': 0.7291432013694751,\n",
       " 'eval_mape': 0.11933018414067095}"
      ]
     },
     "execution_count": 653,
     "metadata": {},
     "output_type": "execute_result"
    }
   ],
   "source": [
    "dataset_results(X_eval_transformed,y_eval, reg, 'eval')"
   ]
  },
  {
   "cell_type": "markdown",
   "id": "d5e8910e",
   "metadata": {},
   "source": [
    "#### Serve score"
   ]
  },
  {
   "cell_type": "code",
   "execution_count": 654,
   "id": "7546784a",
   "metadata": {},
   "outputs": [
    {
     "data": {
      "text/plain": [
       "{'serve_rmse': 1.0193019778535233,\n",
       " 'serve_mse': 1.0389765220561042,\n",
       " 'serve_mae': 0.78251612389426,\n",
       " 'serve_mape': 0.1678078223803742}"
      ]
     },
     "execution_count": 654,
     "metadata": {},
     "output_type": "execute_result"
    }
   ],
   "source": [
    "dataset_results(X_serve_transformed,y_serve, reg, 'serve')"
   ]
  },
  {
   "cell_type": "markdown",
   "id": "efeb5727",
   "metadata": {},
   "source": [
    "#### Final model trained using data from 2017-01-01 to 2019-03-01"
   ]
  },
  {
   "cell_type": "code",
   "execution_count": 655,
   "id": "dc30ba2b",
   "metadata": {},
   "outputs": [
    {
     "name": "stderr",
     "output_type": "stream",
     "text": [
      "d:\\anaconda\\envs\\anaconda_env\\lib\\site-packages\\xgboost\\sklearn.py:793: UserWarning:\n",
      "\n",
      "`early_stopping_rounds` in `fit` method is deprecated for better compatibility with scikit-learn, use `early_stopping_rounds` in constructor or`set_params` instead.\n",
      "\n"
     ]
    }
   ],
   "source": [
    "final_X, final_y = split_features_target(intial_df)\n",
    "ht.fit(final_X)\n",
    "final_X_transform = ht.transform(final_X)\n",
    "reg_final = fit_model(final_X_transform,final_y, X_eval_transformed,y_eval, mlflow_log=True,experiment_name='warehouse_demand_forecasting')"
   ]
  },
  {
   "cell_type": "markdown",
   "id": "06ca9616",
   "metadata": {},
   "source": [
    "### Feature attribution weighted drift detection"
   ]
  },
  {
   "cell_type": "code",
   "execution_count": 656,
   "id": "7c90ef31",
   "metadata": {},
   "outputs": [],
   "source": [
    "def get_feature_importance(model, X):\n",
    "    # DF, based on which importance is checked\n",
    "\n",
    "    # Explain model predictions using shap library:\n",
    "    explainer = shap.TreeExplainer(model)\n",
    "    shap_scores = explainer.shap_values(X)\n",
    "\n",
    "    # mean of absolute shap values for every feature\n",
    "    mean_abs_shap_values = pd.Series(\n",
    "        np.abs(shap_scores).mean(axis=0),\n",
    "        index=X.columns).sort_values(ascending=False)\n",
    "    return mean_abs_shap_values"
   ]
  },
  {
   "cell_type": "code",
   "execution_count": 657,
   "id": "12b275d4",
   "metadata": {},
   "outputs": [],
   "source": [
    "def get_relative_feature_importance_to_max(feature_importance):\n",
    "    \n",
    "    # maximum feature importance\n",
    "    max_feature_importance = feature_importance.max()\n",
    "\n",
    "    # relative_feature_importance_to_max is relative feature importance w.r.t max_feature_importance\n",
    "    relative_feature_importance_to_max = feature_importance / max_feature_importance\n",
    "    return relative_feature_importance_to_max.to_dict()"
   ]
  },
  {
   "cell_type": "code",
   "execution_count": 658,
   "id": "ed903d3c",
   "metadata": {},
   "outputs": [
    {
     "data": {
      "text/plain": [
       "Index(['date', 'warehouse_ID', 'Latitude', 'Longitude', 'Product_Type', 'year',\n",
       "       'month', 'is_weekend', 'is_warehouse_closed', 'daily_dispatch_count',\n",
       "       'weekly_dispatch_count', 'week', 'state', 'county', 'state_cases',\n",
       "       'state_deaths', 'county_cases', 'county_deaths', 'day_of_week',\n",
       "       'days_since_warehouse_started', 'state_abbr', 'is_holiday',\n",
       "       'statewise_population', 'statewise_land_area_per_sqmile',\n",
       "       'statewise_population_per_sqmile', 'statewise_geographic_region',\n",
       "       'geographic_region_division', 'statewise_median_age',\n",
       "       'statewise_median_household_income', 'total_count', 'yearly_count',\n",
       "       'monthly_count', 'weekly_count'],\n",
       "      dtype='object')"
      ]
     },
     "execution_count": 658,
     "metadata": {},
     "output_type": "execute_result"
    }
   ],
   "source": [
    "df.columns"
   ]
  },
  {
   "cell_type": "code",
   "execution_count": 659,
   "id": "4b8b02f4",
   "metadata": {},
   "outputs": [],
   "source": [
    "numerical_features = [\n",
    "    'statewise_population_per_sqmile', 'state_cases', 'state_deaths'\n",
    "]\n",
    "numerical_features_value = [\n",
    "    feature + '.value' for feature in numerical_features\n",
    "]\n",
    "categorical_features = [\n",
    "    'warehouse_ID', 'Product_Type', 'is_weekend', 'is_warehouse_closed',\n",
    "    'state', 'day_of_week', 'is_holiday', 'county'\n",
    "]\n",
    "categorical_features_value = [\n",
    "    feature + '.value' for feature in categorical_features\n",
    "]\n",
    "column_mapping = ColumnMapping(id='ID',\n",
    "                               datetime='date',\n",
    "                               numerical_features=numerical_features_value,\n",
    "                               categorical_features=categorical_features_value,\n",
    "                               task='regression',\n",
    "                               target='daily_dispatch_count',\n",
    "                               prediction='y_pred')"
   ]
  },
  {
   "cell_type": "code",
   "execution_count": 660,
   "id": "919f9d05",
   "metadata": {},
   "outputs": [],
   "source": [
    "def get_drift_profile(reference, production, profile, mlflow_log=False):\n",
    "\n",
    "    drift_profile = Profile(sections=[profile()])\n",
    "    drift_profile.calculate(reference,\n",
    "                                 production,\n",
    "                                 column_mapping=column_mapping)\n",
    "    report = drift_profile.json()\n",
    "    drift_profile_report = json.loads(report)\n",
    "    \n",
    "    if mlflow_log:\n",
    "        if profile == DataDriftProfileSection:\n",
    "            name = 'data_drift_profile'\n",
    "        elif profile == NumTargetDriftProfileSection:\n",
    "            name = 'num_target_drift_profile'\n",
    "        else:\n",
    "            pass\n",
    "        mlflow.log_dict(drift_profile_report, f\"{name}.json\")\n",
    "    \n",
    "    \n",
    "    return drift_profile_report"
   ]
  },
  {
   "cell_type": "code",
   "execution_count": 661,
   "id": "ce721f93",
   "metadata": {},
   "outputs": [],
   "source": [
    "def get_data_drift(drift_profile):\n",
    "\n",
    "    drifts = []\n",
    "    for feature in column_mapping.numerical_features + column_mapping.categorical_features:\n",
    "        drifts.append(\n",
    "            (feature, drift_profile['data_drift']['data']['metrics'][feature]['drift_score'], \n",
    "             drift_profile['data_drift']['data']['metrics'][feature]['stattest_name'], \n",
    "             drift_profile['data_drift']['data']['metrics'][feature]['drift_detected']))\n",
    "    return  pd.DataFrame(\n",
    "        drifts,\n",
    "        columns=['feature', 'drift_score', 'stattest_name', 'drift_detected'])"
   ]
  },
  {
   "cell_type": "code",
   "execution_count": 662,
   "id": "6389e86e",
   "metadata": {},
   "outputs": [],
   "source": [
    "def get_weighted_data_drift_score(drift, feature_importance, relative_feature_importance_to_max_dict, threshold, stattest_type):\n",
    "    \n",
    "    #feature_importance\n",
    "    drift['feature_importance'] = drift['feature'].map(feature_importance)\n",
    "    \n",
    "    # map relative feature importance\n",
    "    drift['relative_feature_importance'] = drift['feature'].map(relative_feature_importance_to_max_dict)\n",
    "    if stattest_type == 'p_value':\n",
    "        # relative feature importance weighted drift score\n",
    "        inverse_feature_importance_wrt_max_feature_importance = drift.relative_feature_importance.max() / drift.relative_feature_importance\n",
    "        drift['feature_importance_weighted_drift_score'] = (drift.drift_score * inverse_feature_importance_wrt_max_feature_importance).replace(np.inf, 1)\n",
    "\n",
    "        # drift detection based on the weighted drift score based on threshold\n",
    "        drift['feature_importance_weighted_drift_detected'] = drift[\n",
    "            'feature_importance_weighted_drift_score'] < threshold\n",
    "    else:\n",
    "        # relative feature importance weighted drift score\n",
    "        drift['feature_importance_weighted_drift_score'] = drift[\n",
    "            'relative_feature_importance'] * drift['drift_score']\n",
    "\n",
    "        # drift detection based on the weighted drift score based on threshold\n",
    "        drift['feature_importance_weighted_drift_detected'] = drift[\n",
    "            'feature_importance_weighted_drift_score'] > threshold\n",
    "\n",
    "    return drift"
   ]
  },
  {
   "cell_type": "code",
   "execution_count": 663,
   "id": "f67fc66c",
   "metadata": {},
   "outputs": [],
   "source": [
    "def is_weighted_data_drift_detected(data_drift_profile, production,  model):\n",
    "    drift_detected = False\n",
    "    \n",
    "    feature_importance = get_feature_importance(model, production)\n",
    "    # relative feature importance based on mean shap values\n",
    "    relative_feature_importance_to_max_dict = get_relative_feature_importance_to_max(feature_importance)\n",
    "    drift_scores = get_data_drift(data_drift_profile)\n",
    "    stattest_type = drift_scores['stattest_name'].iloc[0].split()[1]\n",
    "    if stattest_type == 'p_value':\n",
    "        threshold = 0.05\n",
    "    else:\n",
    "        threshold = 0.1\n",
    "    weighted_drift_scores = get_weighted_data_drift_score(drift_scores, feature_importance, relative_feature_importance_to_max_dict,\n",
    "                                                     threshold, stattest_type)\n",
    "\n",
    "    if weighted_drift_scores['feature_importance_weighted_drift_detected'].sum(\n",
    "    ) > 0:\n",
    "        drift_detected = True\n",
    "    else:\n",
    "        drift_detected = False\n",
    "    return drift_detected, weighted_drift_scores"
   ]
  },
  {
   "cell_type": "code",
   "execution_count": 664,
   "id": "ff083a07",
   "metadata": {},
   "outputs": [],
   "source": [
    "def overlay_distribution(data1, data2, feature,  opacity=0.5, plot_display = True, mlflow_log=False):\n",
    "    normalization_type = 'probability density'\n",
    "    fig = go.Figure()\n",
    "    fig.add_trace(go.Histogram(x=data1, name=\"training\",\n",
    "                  histnorm=normalization_type))\n",
    "    fig.add_trace(go.Histogram(x=data2, name=\"production\",\n",
    "                  histnorm=normalization_type))\n",
    "    feature = feature.split('.')[0]\n",
    "    # Overlay both histograms\n",
    "    fig.update_layout(barmode='overlay', title=feature+\" Distribution\",\n",
    "                      xaxis_title=feature,\n",
    "                      yaxis_title=normalization_type, autosize=False,\n",
    "                      width=700,\n",
    "                      height=300)\n",
    "    # Reduce opacity to see both histograms\n",
    "    fig.update_traces(opacity=opacity)\n",
    "    if mlflow_log:\n",
    "        mlflow.log_figure(fig, f\"{feature}_Distribution.html\")\n",
    "    if plot_display:\n",
    "        fig.show()\n"
   ]
  },
  {
   "cell_type": "code",
   "execution_count": 665,
   "id": "f0f4ae38",
   "metadata": {},
   "outputs": [],
   "source": [
    "def display_drifted_features(reference, production, drift_df, plot_display = False, mlflow_log = False):\n",
    "    reference_rdt = ht.reverse_transform(reference)\n",
    "    production_rdt = ht.reverse_transform(production)\n",
    "    for index, row in drift_df.iterrows():\n",
    "        if row['feature_importance_weighted_drift_detected']:\n",
    "\n",
    "            logging.info(f\"drift detected for {row['feature']}\")\n",
    "            logging.info(f\"drift_score : {row['drift_score']}\")\n",
    "            logging.info(f\"stattest_name : {row['stattest_name']}\")\n",
    "            logging.info(f\"raw_feature_importance : {row['feature_importance']}\") \n",
    "            logging.info(f\"relative_feature_importance : {row['relative_feature_importance']}\") \n",
    "            logging.info(f\"feature_importance_weighted_drift_score : {row['feature_importance_weighted_drift_score']}\")\n",
    "            \n",
    "            overlay_distribution(reference_rdt[row['feature'].split('.')[0]], production_rdt[row['feature'].split('.')[0]], row['feature'], opacity = .4, \n",
    "            plot_display = plot_display, mlflow_log=True)\n",
    "        if mlflow_log:\n",
    "                mlflow.log_param(f\"{row['feature']}_feature_importance_weighted_drift_detected\", row['feature_importance_weighted_drift_detected'])\n",
    "                mlflow.log_param(f\"{row['feature']}_drift_score\", row['drift_score'])\n",
    "                mlflow.log_param(f\"{row['feature']}_stattest_name\", row['stattest_name'])\n",
    "                mlflow.log_param(f\"{row['feature']}_raw_feature_importance\", row['feature_importance'])\n",
    "                mlflow.log_param(f\"{row['feature']}_relative_feature_importance\", row['relative_feature_importance'])\n",
    "                mlflow.log_param(f\"{row['feature']}_feature_importance_weighted_drift_score\", row['feature_importance_weighted_drift_score'])\n",
    "\n",
    "    "
   ]
  },
  {
   "cell_type": "code",
   "execution_count": 666,
   "id": "37eebb67",
   "metadata": {},
   "outputs": [],
   "source": [
    "def display_target_drift(y_reference, y_production, target_name, target_drift_detected, drift_score, stattest_type, plot_display = False, mlflow_log = False):\n",
    "    logging.info(f\"Target drift detected for for {target_name}\")\n",
    "    logging.info(f\"drift_score : {drift_score}\")\n",
    "    logging.info(f\"stattest_name : {stattest_type}\")\n",
    "    if mlflow_log:\n",
    "        mlflow.log_param(f\"{target_name}_drift_detected\", target_drift_detected)\n",
    "        mlflow.log_param(f\"{target_name}_target_drift_score\", drift_score)\n",
    "        mlflow.log_param(f\"{target_name}_target_stattest_name\", stattest_type)\n",
    "    overlay_distribution(y_reference, y_production, target_name, opacity = .4, plot_display = plot_display, mlflow_log=True)\n",
    "            "
   ]
  },
  {
   "cell_type": "markdown",
   "id": "1b65acc7",
   "metadata": {},
   "source": [
    "#### Test for target drift"
   ]
  },
  {
   "cell_type": "code",
   "execution_count": 667,
   "id": "4ec5f57c",
   "metadata": {},
   "outputs": [],
   "source": [
    "def determine_test_type(reference):\n",
    "\n",
    "    num_data = reference.shape[0]\n",
    "\n",
    "    if num_data <= 1000:\n",
    "        return 'p_value'\n",
    "    else:\n",
    "        return 'distance'"
   ]
  },
  {
   "cell_type": "code",
   "execution_count": 668,
   "id": "c7a4ccc9",
   "metadata": {},
   "outputs": [],
   "source": [
    "def test_target_drift(X_reference, y_reference, X_production, y_production, plot_display = False, mlflow_log = False):\n",
    "    target_drift_detected = False\n",
    "    # get target drift report\n",
    "    if column_mapping.task == 'regression':\n",
    "        profile = NumTargetDriftProfileSection\n",
    "        drift_name = 'num_target_drift'\n",
    "    else:\n",
    "        pass\n",
    "    target_drift_profile = get_drift_profile(X_reference.join(y_reference), X_production.join(y_production), profile, mlflow_log)\n",
    "    \n",
    "    drift_score = target_drift_profile[drift_name]['data']['metrics']['target_drift']\n",
    "    target_name = target_drift_profile[drift_name]['data']['utility_columns']['target']\n",
    "    stattest_type = determine_test_type(X_reference)\n",
    "    if stattest_type == 'p_value':\n",
    "        threshold = 0.05\n",
    "        if drift_score <= threshold:\n",
    "\n",
    "            target_drift_detected = True\n",
    "\n",
    "    else:\n",
    "        threshold = 0.1\n",
    "        if drift_score >= threshold:\n",
    "\n",
    "            target_drift_detected = True\n",
    "   \n",
    "    if mlflow_log:\n",
    "        display_target_drift(y_reference, y_production, target_name, target_drift_detected, drift_score, stattest_type, plot_display, mlflow_log = True)\n",
    "    return target_drift_detected\n",
    "      "
   ]
  },
  {
   "cell_type": "code",
   "execution_count": 669,
   "id": "7deb4137",
   "metadata": {},
   "outputs": [],
   "source": [
    "def test_for_drift(X_reference, y_reference, X_production, y_production, model, plot_display = False, mlflow_log = False):\n",
    "\n",
    "    \n",
    "    target_drift_detected = test_target_drift(X_reference, y_reference, X_production, y_production, mlflow_log)\n",
    "\n",
    "    logging.info(f\"target drift detect: {target_drift_detected}\")\n",
    "    # get data drift report\n",
    "    data_drift_profile = get_drift_profile(X_reference, X_production,\n",
    "                                           DataDriftProfileSection, mlflow_log)\n",
    "    # data drift detected?\n",
    "    drift_detected, drift_df = is_weighted_data_drift_detected(data_drift_profile,\n",
    "                                                     X_production,  model)\n",
    "    \n",
    "    if drift_detected:\n",
    "        logging.info('data set drift detected')\n",
    "        display_drifted_features(X_reference, X_production, drift_df, plot_display, mlflow_log)\n",
    "    else:\n",
    "        logging.info('drift not detected')\n",
    "    drift_detected = drift_detected or target_drift_detected\n",
    "    return drift_detected"
   ]
  },
  {
   "cell_type": "code",
   "execution_count": 670,
   "id": "a7e03226",
   "metadata": {},
   "outputs": [],
   "source": [
    "@mlflow_runner\n",
    "def test_mlflow(experiment_name):\n",
    "    # Log parameters\n",
    "    mlflow.log_param(\"begin\", datetime(2020,1,2))\n",
    "    mlflow.log_param(\"end\", datetime(2022,1,2))\n",
    "    mlflow.log_dict(X_transformed.sample(500).to_dict(), 'input_features.json')\n",
    "    mlflow.log_dict(X_eval_transformed.sample(500).to_dict(), 'target.json')\n",
    "    return test_for_drift(X_transformed.sample(500), y.sample(500), X_eval_transformed.sample(500), y_eval.sample(500) ,reg, plot_display = True, mlflow_log = True)\n"
   ]
  },
  {
   "cell_type": "code",
   "execution_count": 671,
   "id": "9c4b160c",
   "metadata": {},
   "outputs": [
    {
     "name": "stderr",
     "output_type": "stream",
     "text": [
      "11:24:54 INFO:target drift detect: True\n",
      "d:\\anaconda\\envs\\anaconda_env\\lib\\site-packages\\xgboost\\core.py:90: UserWarning:\n",
      "\n",
      "ntree_limit is deprecated, use `iteration_range` or model slicing instead.\n",
      "\n",
      "11:24:54 INFO:data set drift detected\n",
      "11:24:54 INFO:drift detected for statewise_population_per_sqmile.value\n",
      "11:24:54 INFO:drift_score : 3.1606552687212877e-14\n",
      "11:24:54 INFO:stattest_name : chi-square p_value\n",
      "11:24:54 INFO:raw_feature_importance : 0.05483601614832878\n",
      "11:24:54 INFO:relative_feature_importance : 0.023738155141472816\n",
      "11:24:54 INFO:feature_importance_weighted_drift_score : 1.3314662617565095e-12\n"
     ]
    },
    {
     "data": {
      "application/vnd.plotly.v1+json": {
       "config": {
        "plotlyServerURL": "https://plot.ly"
       },
       "data": [
        {
         "histnorm": "probability density",
         "name": "training",
         "opacity": 0.4,
         "type": "histogram",
         "x": [
          744.7220156959934,
          64.05546067573992,
          744.7220156959934,
          56.07831767044249,
          744.7220156959934,
          56.07831767044249,
          64.05546067573992,
          744.7220156959934,
          56.07831767044249,
          56.07831767044249,
          744.7220156959934,
          64.05546067573992,
          744.7220156959934,
          744.7220156959934,
          744.7220156959934,
          744.7220156959934,
          744.7220156959934,
          64.05546067573992,
          64.05546067573992,
          56.07831767044249,
          744.7220156959934,
          64.05546067573992,
          744.7220156959934,
          64.05546067573992,
          10.660025668871556,
          56.07831767044249,
          64.05546067573992,
          56.07831767044249,
          744.7220156959934,
          56.07831767044249,
          10.660025668871556,
          64.05546067573992,
          10.660025668871556,
          56.07831767044249,
          10.660025668871556,
          744.7220156959934,
          744.7220156959934,
          64.05546067573992,
          64.05546067573992,
          64.05546067573992,
          56.07831767044249,
          64.05546067573992,
          744.7220156959934,
          744.7220156959934,
          56.07831767044249,
          744.7220156959934,
          56.07831767044249,
          10.660025668871556,
          56.07831767044249,
          56.07831767044249,
          744.7220156959934,
          56.07831767044249,
          744.7220156959934,
          744.7220156959934,
          744.7220156959934,
          64.05546067573992,
          744.7220156959934,
          56.07831767044249,
          10.660025668871556,
          10.660025668871556,
          56.07831767044249,
          10.660025668871556,
          744.7220156959934,
          64.05546067573992,
          64.05546067573992,
          744.7220156959934,
          56.07831767044249,
          744.7220156959934,
          10.660025668871556,
          744.7220156959934,
          56.07831767044249,
          744.7220156959934,
          64.05546067573992,
          64.05546067573992,
          744.7220156959934,
          56.07831767044249,
          10.660025668871556,
          56.07831767044249,
          56.07831767044249,
          10.660025668871556,
          744.7220156959934,
          10.660025668871556,
          56.07831767044249,
          64.05546067573992,
          56.07831767044249,
          744.7220156959934,
          744.7220156959934,
          64.05546067573992,
          56.07831767044249,
          64.05546067573992,
          64.05546067573992,
          744.7220156959934,
          744.7220156959934,
          744.7220156959934,
          56.07831767044249,
          56.07831767044249,
          10.660025668871556,
          64.05546067573992,
          744.7220156959934,
          64.05546067573992,
          64.05546067573992,
          10.660025668871556,
          56.07831767044249,
          56.07831767044249,
          56.07831767044249,
          744.7220156959934,
          56.07831767044249,
          56.07831767044249,
          64.05546067573992,
          56.07831767044249,
          744.7220156959934,
          56.07831767044249,
          56.07831767044249,
          10.660025668871556,
          56.07831767044249,
          744.7220156959934,
          744.7220156959934,
          56.07831767044249,
          56.07831767044249,
          744.7220156959934,
          56.07831767044249,
          64.05546067573992,
          744.7220156959934,
          56.07831767044249,
          744.7220156959934,
          744.7220156959934,
          64.05546067573992,
          744.7220156959934,
          64.05546067573992,
          64.05546067573992,
          56.07831767044249,
          56.07831767044249,
          10.660025668871556,
          64.05546067573992,
          56.07831767044249,
          64.05546067573992,
          56.07831767044249,
          744.7220156959934,
          56.07831767044249,
          56.07831767044249,
          56.07831767044249,
          744.7220156959934,
          744.7220156959934,
          64.05546067573992,
          744.7220156959934,
          744.7220156959934,
          56.07831767044249,
          56.07831767044249,
          744.7220156959934,
          56.07831767044249,
          744.7220156959934,
          56.07831767044249,
          64.05546067573992,
          744.7220156959934,
          744.7220156959934,
          744.7220156959934,
          64.05546067573992,
          56.07831767044249,
          64.05546067573992,
          56.07831767044249,
          64.05546067573992,
          744.7220156959934,
          10.660025668871556,
          56.07831767044249,
          56.07831767044249,
          64.05546067573992,
          56.07831767044249,
          56.07831767044249,
          744.7220156959934,
          56.07831767044249,
          744.7220156959934,
          56.07831767044249,
          56.07831767044249,
          64.05546067573992,
          744.7220156959934,
          56.07831767044249,
          744.7220156959934,
          744.7220156959934,
          64.05546067573992,
          744.7220156959934,
          64.05546067573992,
          744.7220156959934,
          744.7220156959934,
          64.05546067573992,
          64.05546067573992,
          64.05546067573992,
          56.07831767044249,
          744.7220156959934,
          744.7220156959934,
          56.07831767044249,
          744.7220156959934,
          744.7220156959934,
          56.07831767044249,
          744.7220156959934,
          56.07831767044249,
          64.05546067573992,
          10.660025668871556,
          56.07831767044249,
          56.07831767044249,
          64.05546067573992,
          64.05546067573992,
          744.7220156959934,
          64.05546067573992,
          64.05546067573992,
          64.05546067573992,
          64.05546067573992,
          56.07831767044249,
          56.07831767044249,
          744.7220156959934,
          64.05546067573992,
          56.07831767044249,
          10.660025668871556,
          56.07831767044249,
          10.660025668871556,
          744.7220156959934,
          56.07831767044249,
          56.07831767044249,
          56.07831767044249,
          56.07831767044249,
          56.07831767044249,
          10.660025668871556,
          744.7220156959934,
          744.7220156959934,
          744.7220156959934,
          10.660025668871556,
          64.05546067573992,
          10.660025668871556,
          744.7220156959934,
          744.7220156959934,
          744.7220156959934,
          56.07831767044249,
          56.07831767044249,
          744.7220156959934,
          56.07831767044249,
          744.7220156959934,
          64.05546067573992,
          56.07831767044249,
          744.7220156959934,
          64.05546067573992,
          56.07831767044249,
          744.7220156959934,
          64.05546067573992,
          56.07831767044249,
          10.660025668871556,
          744.7220156959934,
          64.05546067573992,
          64.05546067573992,
          744.7220156959934,
          56.07831767044249,
          10.660025668871556,
          744.7220156959934,
          64.05546067573992,
          56.07831767044249,
          64.05546067573992,
          744.7220156959934,
          10.660025668871556,
          744.7220156959934,
          64.05546067573992,
          10.660025668871556,
          64.05546067573992,
          56.07831767044249,
          56.07831767044249,
          10.660025668871556,
          56.07831767044249,
          744.7220156959934,
          56.07831767044249,
          10.660025668871556,
          10.660025668871556,
          56.07831767044249,
          64.05546067573992,
          744.7220156959934,
          744.7220156959934,
          744.7220156959934,
          56.07831767044249,
          744.7220156959934,
          10.660025668871556,
          64.05546067573992,
          56.07831767044249,
          56.07831767044249,
          56.07831767044249,
          56.07831767044249,
          64.05546067573992,
          64.05546067573992,
          744.7220156959934,
          744.7220156959934,
          744.7220156959934,
          10.660025668871556,
          10.660025668871556,
          10.660025668871556,
          744.7220156959934,
          64.05546067573992,
          56.07831767044249,
          56.07831767044249,
          10.660025668871556,
          744.7220156959934,
          744.7220156959934,
          56.07831767044249,
          744.7220156959934,
          744.7220156959934,
          744.7220156959934,
          56.07831767044249,
          744.7220156959934,
          10.660025668871556,
          744.7220156959934,
          744.7220156959934,
          56.07831767044249,
          744.7220156959934,
          744.7220156959934,
          10.660025668871556,
          744.7220156959934,
          744.7220156959934,
          10.660025668871556,
          64.05546067573992,
          64.05546067573992,
          56.07831767044249,
          56.07831767044249,
          744.7220156959934,
          64.05546067573992,
          744.7220156959934,
          64.05546067573992,
          64.05546067573992,
          64.05546067573992,
          56.07831767044249,
          56.07831767044249,
          10.660025668871556,
          56.07831767044249,
          56.07831767044249,
          64.05546067573992,
          56.07831767044249,
          64.05546067573992,
          744.7220156959934,
          744.7220156959934,
          56.07831767044249,
          744.7220156959934,
          744.7220156959934,
          10.660025668871556,
          56.07831767044249,
          744.7220156959934,
          744.7220156959934,
          10.660025668871556,
          744.7220156959934,
          744.7220156959934,
          56.07831767044249,
          744.7220156959934,
          744.7220156959934,
          56.07831767044249,
          744.7220156959934,
          10.660025668871556,
          10.660025668871556,
          64.05546067573992,
          744.7220156959934,
          744.7220156959934,
          64.05546067573992,
          56.07831767044249,
          10.660025668871556,
          744.7220156959934,
          744.7220156959934,
          64.05546067573992,
          10.660025668871556,
          56.07831767044249,
          56.07831767044249,
          56.07831767044249,
          64.05546067573992,
          64.05546067573992,
          56.07831767044249,
          744.7220156959934,
          56.07831767044249,
          64.05546067573992,
          56.07831767044249,
          64.05546067573992,
          56.07831767044249,
          744.7220156959934,
          64.05546067573992,
          744.7220156959934,
          56.07831767044249,
          56.07831767044249,
          56.07831767044249,
          744.7220156959934,
          10.660025668871556,
          56.07831767044249,
          744.7220156959934,
          56.07831767044249,
          64.05546067573992,
          56.07831767044249,
          744.7220156959934,
          744.7220156959934,
          64.05546067573992,
          56.07831767044249,
          56.07831767044249,
          56.07831767044249,
          56.07831767044249,
          744.7220156959934,
          10.660025668871556,
          744.7220156959934,
          64.05546067573992,
          10.660025668871556,
          10.660025668871556,
          56.07831767044249,
          56.07831767044249,
          56.07831767044249,
          744.7220156959934,
          744.7220156959934,
          56.07831767044249,
          56.07831767044249,
          744.7220156959934,
          744.7220156959934,
          10.660025668871556,
          10.660025668871556,
          56.07831767044249,
          744.7220156959934,
          56.07831767044249,
          56.07831767044249,
          56.07831767044249,
          744.7220156959934,
          56.07831767044249,
          744.7220156959934,
          64.05546067573992,
          64.05546067573992,
          56.07831767044249,
          56.07831767044249,
          744.7220156959934,
          744.7220156959934,
          64.05546067573992,
          10.660025668871556,
          64.05546067573992,
          744.7220156959934,
          56.07831767044249,
          10.660025668871556,
          10.660025668871556,
          56.07831767044249,
          56.07831767044249,
          56.07831767044249,
          56.07831767044249,
          744.7220156959934,
          744.7220156959934,
          56.07831767044249,
          56.07831767044249,
          64.05546067573992,
          56.07831767044249,
          744.7220156959934,
          10.660025668871556,
          64.05546067573992,
          56.07831767044249,
          64.05546067573992,
          56.07831767044249,
          744.7220156959934,
          10.660025668871556,
          56.07831767044249,
          744.7220156959934,
          56.07831767044249,
          56.07831767044249,
          56.07831767044249,
          744.7220156959934,
          56.07831767044249,
          744.7220156959934,
          744.7220156959934,
          56.07831767044249,
          56.07831767044249,
          744.7220156959934,
          64.05546067573992,
          10.660025668871556,
          64.05546067573992,
          56.07831767044249,
          56.07831767044249,
          744.7220156959934,
          10.660025668871556,
          56.07831767044249,
          64.05546067573992,
          744.7220156959934,
          744.7220156959934,
          744.7220156959934,
          56.07831767044249,
          56.07831767044249,
          10.660025668871556,
          744.7220156959934,
          56.07831767044249,
          10.660025668871556,
          744.7220156959934,
          744.7220156959934,
          64.05546067573992,
          64.05546067573992,
          56.07831767044249,
          10.660025668871556,
          64.05546067573992,
          744.7220156959934,
          56.07831767044249,
          744.7220156959934,
          56.07831767044249,
          10.660025668871556,
          744.7220156959934,
          56.07831767044249,
          56.07831767044249,
          56.07831767044249,
          56.07831767044249,
          10.660025668871556,
          744.7220156959934,
          56.07831767044249,
          744.7220156959934,
          744.7220156959934,
          744.7220156959934
         ]
        },
        {
         "histnorm": "probability density",
         "name": "production",
         "opacity": 0.4,
         "type": "histogram",
         "x": [
          56.07831767044249,
          56.07831767044249,
          64.05546067573992,
          744.7220156959934,
          56.07831767044249,
          56.07831767044249,
          10.660025668871556,
          744.7220156959934,
          56.07831767044249,
          56.07831767044249,
          744.7220156959934,
          744.7220156959934,
          56.07831767044249,
          56.07831767044249,
          64.05546067573992,
          56.07831767044249,
          10.660025668871556,
          744.7220156959934,
          10.660025668871556,
          10.660025668871556,
          10.660025668871556,
          56.07831767044249,
          744.7220156959934,
          56.07831767044249,
          64.05546067573992,
          744.7220156959934,
          744.7220156959934,
          64.05546067573992,
          64.05546067573992,
          64.05546067573992,
          56.07831767044249,
          56.07831767044249,
          10.660025668871556,
          64.05546067573992,
          56.07831767044249,
          744.7220156959934,
          10.660025668871556,
          56.07831767044249,
          64.05546067573992,
          744.7220156959934,
          10.660025668871556,
          56.07831767044249,
          64.05546067573992,
          10.660025668871556,
          64.05546067573992,
          64.05546067573992,
          744.7220156959934,
          744.7220156959934,
          10.660025668871556,
          744.7220156959934,
          10.660025668871556,
          64.05546067573992,
          744.7220156959934,
          10.660025668871556,
          744.7220156959934,
          10.660025668871556,
          744.7220156959934,
          10.660025668871556,
          64.05546067573992,
          744.7220156959934,
          64.05546067573992,
          10.660025668871556,
          744.7220156959934,
          744.7220156959934,
          10.660025668871556,
          744.7220156959934,
          10.660025668871556,
          56.07831767044249,
          56.07831767044249,
          64.05546067573992,
          56.07831767044249,
          64.05546067573992,
          744.7220156959934,
          64.05546067573992,
          64.05546067573992,
          744.7220156959934,
          744.7220156959934,
          10.660025668871556,
          64.05546067573992,
          744.7220156959934,
          64.05546067573992,
          10.660025668871556,
          56.07831767044249,
          744.7220156959934,
          56.07831767044249,
          10.660025668871556,
          64.05546067573992,
          64.05546067573992,
          64.05546067573992,
          64.05546067573992,
          10.660025668871556,
          10.660025668871556,
          56.07831767044249,
          64.05546067573992,
          10.660025668871556,
          64.05546067573992,
          744.7220156959934,
          744.7220156959934,
          744.7220156959934,
          10.660025668871556,
          744.7220156959934,
          744.7220156959934,
          10.660025668871556,
          744.7220156959934,
          744.7220156959934,
          56.07831767044249,
          10.660025668871556,
          64.05546067573992,
          56.07831767044249,
          64.05546067573992,
          56.07831767044249,
          744.7220156959934,
          64.05546067573992,
          744.7220156959934,
          64.05546067573992,
          744.7220156959934,
          56.07831767044249,
          744.7220156959934,
          744.7220156959934,
          64.05546067573992,
          64.05546067573992,
          10.660025668871556,
          744.7220156959934,
          10.660025668871556,
          744.7220156959934,
          744.7220156959934,
          744.7220156959934,
          744.7220156959934,
          64.05546067573992,
          744.7220156959934,
          10.660025668871556,
          64.05546067573992,
          10.660025668871556,
          10.660025668871556,
          744.7220156959934,
          64.05546067573992,
          10.660025668871556,
          744.7220156959934,
          56.07831767044249,
          744.7220156959934,
          64.05546067573992,
          10.660025668871556,
          56.07831767044249,
          56.07831767044249,
          64.05546067573992,
          64.05546067573992,
          64.05546067573992,
          64.05546067573992,
          744.7220156959934,
          56.07831767044249,
          56.07831767044249,
          56.07831767044249,
          56.07831767044249,
          64.05546067573992,
          744.7220156959934,
          744.7220156959934,
          10.660025668871556,
          56.07831767044249,
          64.05546067573992,
          56.07831767044249,
          10.660025668871556,
          64.05546067573992,
          64.05546067573992,
          64.05546067573992,
          56.07831767044249,
          744.7220156959934,
          64.05546067573992,
          744.7220156959934,
          56.07831767044249,
          56.07831767044249,
          744.7220156959934,
          744.7220156959934,
          744.7220156959934,
          56.07831767044249,
          744.7220156959934,
          744.7220156959934,
          64.05546067573992,
          64.05546067573992,
          744.7220156959934,
          744.7220156959934,
          64.05546067573992,
          64.05546067573992,
          56.07831767044249,
          10.660025668871556,
          56.07831767044249,
          744.7220156959934,
          10.660025668871556,
          56.07831767044249,
          10.660025668871556,
          744.7220156959934,
          64.05546067573992,
          64.05546067573992,
          56.07831767044249,
          56.07831767044249,
          56.07831767044249,
          744.7220156959934,
          744.7220156959934,
          56.07831767044249,
          10.660025668871556,
          10.660025668871556,
          64.05546067573992,
          56.07831767044249,
          10.660025668871556,
          10.660025668871556,
          10.660025668871556,
          744.7220156959934,
          64.05546067573992,
          744.7220156959934,
          64.05546067573992,
          56.07831767044249,
          744.7220156959934,
          64.05546067573992,
          744.7220156959934,
          56.07831767044249,
          10.660025668871556,
          64.05546067573992,
          744.7220156959934,
          10.660025668871556,
          10.660025668871556,
          744.7220156959934,
          10.660025668871556,
          64.05546067573992,
          56.07831767044249,
          64.05546067573992,
          744.7220156959934,
          744.7220156959934,
          56.07831767044249,
          64.05546067573992,
          64.05546067573992,
          64.05546067573992,
          10.660025668871556,
          64.05546067573992,
          744.7220156959934,
          56.07831767044249,
          64.05546067573992,
          10.660025668871556,
          56.07831767044249,
          10.660025668871556,
          744.7220156959934,
          56.07831767044249,
          56.07831767044249,
          744.7220156959934,
          10.660025668871556,
          56.07831767044249,
          10.660025668871556,
          64.05546067573992,
          744.7220156959934,
          744.7220156959934,
          64.05546067573992,
          10.660025668871556,
          56.07831767044249,
          744.7220156959934,
          56.07831767044249,
          64.05546067573992,
          10.660025668871556,
          744.7220156959934,
          744.7220156959934,
          10.660025668871556,
          56.07831767044249,
          56.07831767044249,
          56.07831767044249,
          64.05546067573992,
          744.7220156959934,
          10.660025668871556,
          744.7220156959934,
          10.660025668871556,
          56.07831767044249,
          744.7220156959934,
          56.07831767044249,
          744.7220156959934,
          10.660025668871556,
          744.7220156959934,
          56.07831767044249,
          64.05546067573992,
          10.660025668871556,
          744.7220156959934,
          56.07831767044249,
          744.7220156959934,
          744.7220156959934,
          744.7220156959934,
          64.05546067573992,
          64.05546067573992,
          64.05546067573992,
          56.07831767044249,
          10.660025668871556,
          10.660025668871556,
          744.7220156959934,
          744.7220156959934,
          744.7220156959934,
          56.07831767044249,
          56.07831767044249,
          64.05546067573992,
          64.05546067573992,
          744.7220156959934,
          10.660025668871556,
          56.07831767044249,
          10.660025668871556,
          64.05546067573992,
          64.05546067573992,
          744.7220156959934,
          744.7220156959934,
          64.05546067573992,
          64.05546067573992,
          10.660025668871556,
          10.660025668871556,
          64.05546067573992,
          10.660025668871556,
          744.7220156959934,
          56.07831767044249,
          10.660025668871556,
          64.05546067573992,
          10.660025668871556,
          64.05546067573992,
          744.7220156959934,
          10.660025668871556,
          744.7220156959934,
          744.7220156959934,
          10.660025668871556,
          10.660025668871556,
          744.7220156959934,
          56.07831767044249,
          10.660025668871556,
          10.660025668871556,
          64.05546067573992,
          56.07831767044249,
          744.7220156959934,
          10.660025668871556,
          10.660025668871556,
          10.660025668871556,
          64.05546067573992,
          64.05546067573992,
          10.660025668871556,
          56.07831767044249,
          10.660025668871556,
          64.05546067573992,
          56.07831767044249,
          64.05546067573992,
          10.660025668871556,
          64.05546067573992,
          10.660025668871556,
          56.07831767044249,
          64.05546067573992,
          10.660025668871556,
          64.05546067573992,
          56.07831767044249,
          10.660025668871556,
          10.660025668871556,
          10.660025668871556,
          56.07831767044249,
          10.660025668871556,
          56.07831767044249,
          744.7220156959934,
          64.05546067573992,
          64.05546067573992,
          744.7220156959934,
          56.07831767044249,
          64.05546067573992,
          10.660025668871556,
          56.07831767044249,
          744.7220156959934,
          10.660025668871556,
          10.660025668871556,
          744.7220156959934,
          64.05546067573992,
          56.07831767044249,
          744.7220156959934,
          10.660025668871556,
          56.07831767044249,
          56.07831767044249,
          64.05546067573992,
          64.05546067573992,
          56.07831767044249,
          64.05546067573992,
          56.07831767044249,
          10.660025668871556,
          10.660025668871556,
          10.660025668871556,
          56.07831767044249,
          56.07831767044249,
          64.05546067573992,
          744.7220156959934,
          56.07831767044249,
          744.7220156959934,
          744.7220156959934,
          744.7220156959934,
          10.660025668871556,
          744.7220156959934,
          10.660025668871556,
          744.7220156959934,
          744.7220156959934,
          56.07831767044249,
          56.07831767044249,
          64.05546067573992,
          56.07831767044249,
          64.05546067573992,
          56.07831767044249,
          56.07831767044249,
          56.07831767044249,
          744.7220156959934,
          744.7220156959934,
          10.660025668871556,
          744.7220156959934,
          10.660025668871556,
          10.660025668871556,
          10.660025668871556,
          744.7220156959934,
          744.7220156959934,
          64.05546067573992,
          10.660025668871556,
          10.660025668871556,
          744.7220156959934,
          56.07831767044249,
          56.07831767044249,
          56.07831767044249,
          64.05546067573992,
          56.07831767044249,
          64.05546067573992,
          744.7220156959934,
          10.660025668871556,
          56.07831767044249,
          56.07831767044249,
          10.660025668871556,
          64.05546067573992,
          744.7220156959934,
          64.05546067573992,
          56.07831767044249,
          10.660025668871556,
          64.05546067573992,
          64.05546067573992,
          56.07831767044249,
          744.7220156959934,
          10.660025668871556,
          56.07831767044249,
          10.660025668871556,
          10.660025668871556,
          10.660025668871556,
          64.05546067573992,
          64.05546067573992,
          10.660025668871556,
          10.660025668871556,
          744.7220156959934,
          10.660025668871556,
          10.660025668871556,
          10.660025668871556,
          744.7220156959934,
          64.05546067573992,
          64.05546067573992,
          10.660025668871556,
          10.660025668871556,
          64.05546067573992,
          56.07831767044249,
          64.05546067573992,
          56.07831767044249,
          64.05546067573992,
          64.05546067573992,
          744.7220156959934,
          56.07831767044249,
          64.05546067573992,
          10.660025668871556,
          744.7220156959934,
          744.7220156959934,
          56.07831767044249,
          56.07831767044249,
          744.7220156959934,
          56.07831767044249,
          744.7220156959934,
          56.07831767044249,
          56.07831767044249,
          64.05546067573992,
          64.05546067573992,
          56.07831767044249,
          744.7220156959934,
          10.660025668871556,
          10.660025668871556,
          64.05546067573992,
          56.07831767044249,
          10.660025668871556,
          10.660025668871556,
          744.7220156959934,
          744.7220156959934,
          64.05546067573992,
          64.05546067573992,
          10.660025668871556,
          64.05546067573992,
          744.7220156959934,
          10.660025668871556,
          744.7220156959934,
          56.07831767044249,
          10.660025668871556,
          56.07831767044249,
          56.07831767044249,
          56.07831767044249,
          10.660025668871556,
          64.05546067573992,
          10.660025668871556,
          10.660025668871556,
          56.07831767044249,
          56.07831767044249,
          744.7220156959934,
          744.7220156959934
         ]
        }
       ],
       "layout": {
        "autosize": false,
        "barmode": "overlay",
        "height": 300,
        "template": {
         "data": {
          "bar": [
           {
            "error_x": {
             "color": "#2a3f5f"
            },
            "error_y": {
             "color": "#2a3f5f"
            },
            "marker": {
             "line": {
              "color": "#E5ECF6",
              "width": 0.5
             },
             "pattern": {
              "fillmode": "overlay",
              "size": 10,
              "solidity": 0.2
             }
            },
            "type": "bar"
           }
          ],
          "barpolar": [
           {
            "marker": {
             "line": {
              "color": "#E5ECF6",
              "width": 0.5
             },
             "pattern": {
              "fillmode": "overlay",
              "size": 10,
              "solidity": 0.2
             }
            },
            "type": "barpolar"
           }
          ],
          "carpet": [
           {
            "aaxis": {
             "endlinecolor": "#2a3f5f",
             "gridcolor": "white",
             "linecolor": "white",
             "minorgridcolor": "white",
             "startlinecolor": "#2a3f5f"
            },
            "baxis": {
             "endlinecolor": "#2a3f5f",
             "gridcolor": "white",
             "linecolor": "white",
             "minorgridcolor": "white",
             "startlinecolor": "#2a3f5f"
            },
            "type": "carpet"
           }
          ],
          "choropleth": [
           {
            "colorbar": {
             "outlinewidth": 0,
             "ticks": ""
            },
            "type": "choropleth"
           }
          ],
          "contour": [
           {
            "colorbar": {
             "outlinewidth": 0,
             "ticks": ""
            },
            "colorscale": [
             [
              0,
              "#0d0887"
             ],
             [
              0.1111111111111111,
              "#46039f"
             ],
             [
              0.2222222222222222,
              "#7201a8"
             ],
             [
              0.3333333333333333,
              "#9c179e"
             ],
             [
              0.4444444444444444,
              "#bd3786"
             ],
             [
              0.5555555555555556,
              "#d8576b"
             ],
             [
              0.6666666666666666,
              "#ed7953"
             ],
             [
              0.7777777777777778,
              "#fb9f3a"
             ],
             [
              0.8888888888888888,
              "#fdca26"
             ],
             [
              1,
              "#f0f921"
             ]
            ],
            "type": "contour"
           }
          ],
          "contourcarpet": [
           {
            "colorbar": {
             "outlinewidth": 0,
             "ticks": ""
            },
            "type": "contourcarpet"
           }
          ],
          "heatmap": [
           {
            "colorbar": {
             "outlinewidth": 0,
             "ticks": ""
            },
            "colorscale": [
             [
              0,
              "#0d0887"
             ],
             [
              0.1111111111111111,
              "#46039f"
             ],
             [
              0.2222222222222222,
              "#7201a8"
             ],
             [
              0.3333333333333333,
              "#9c179e"
             ],
             [
              0.4444444444444444,
              "#bd3786"
             ],
             [
              0.5555555555555556,
              "#d8576b"
             ],
             [
              0.6666666666666666,
              "#ed7953"
             ],
             [
              0.7777777777777778,
              "#fb9f3a"
             ],
             [
              0.8888888888888888,
              "#fdca26"
             ],
             [
              1,
              "#f0f921"
             ]
            ],
            "type": "heatmap"
           }
          ],
          "heatmapgl": [
           {
            "colorbar": {
             "outlinewidth": 0,
             "ticks": ""
            },
            "colorscale": [
             [
              0,
              "#0d0887"
             ],
             [
              0.1111111111111111,
              "#46039f"
             ],
             [
              0.2222222222222222,
              "#7201a8"
             ],
             [
              0.3333333333333333,
              "#9c179e"
             ],
             [
              0.4444444444444444,
              "#bd3786"
             ],
             [
              0.5555555555555556,
              "#d8576b"
             ],
             [
              0.6666666666666666,
              "#ed7953"
             ],
             [
              0.7777777777777778,
              "#fb9f3a"
             ],
             [
              0.8888888888888888,
              "#fdca26"
             ],
             [
              1,
              "#f0f921"
             ]
            ],
            "type": "heatmapgl"
           }
          ],
          "histogram": [
           {
            "marker": {
             "pattern": {
              "fillmode": "overlay",
              "size": 10,
              "solidity": 0.2
             }
            },
            "type": "histogram"
           }
          ],
          "histogram2d": [
           {
            "colorbar": {
             "outlinewidth": 0,
             "ticks": ""
            },
            "colorscale": [
             [
              0,
              "#0d0887"
             ],
             [
              0.1111111111111111,
              "#46039f"
             ],
             [
              0.2222222222222222,
              "#7201a8"
             ],
             [
              0.3333333333333333,
              "#9c179e"
             ],
             [
              0.4444444444444444,
              "#bd3786"
             ],
             [
              0.5555555555555556,
              "#d8576b"
             ],
             [
              0.6666666666666666,
              "#ed7953"
             ],
             [
              0.7777777777777778,
              "#fb9f3a"
             ],
             [
              0.8888888888888888,
              "#fdca26"
             ],
             [
              1,
              "#f0f921"
             ]
            ],
            "type": "histogram2d"
           }
          ],
          "histogram2dcontour": [
           {
            "colorbar": {
             "outlinewidth": 0,
             "ticks": ""
            },
            "colorscale": [
             [
              0,
              "#0d0887"
             ],
             [
              0.1111111111111111,
              "#46039f"
             ],
             [
              0.2222222222222222,
              "#7201a8"
             ],
             [
              0.3333333333333333,
              "#9c179e"
             ],
             [
              0.4444444444444444,
              "#bd3786"
             ],
             [
              0.5555555555555556,
              "#d8576b"
             ],
             [
              0.6666666666666666,
              "#ed7953"
             ],
             [
              0.7777777777777778,
              "#fb9f3a"
             ],
             [
              0.8888888888888888,
              "#fdca26"
             ],
             [
              1,
              "#f0f921"
             ]
            ],
            "type": "histogram2dcontour"
           }
          ],
          "mesh3d": [
           {
            "colorbar": {
             "outlinewidth": 0,
             "ticks": ""
            },
            "type": "mesh3d"
           }
          ],
          "parcoords": [
           {
            "line": {
             "colorbar": {
              "outlinewidth": 0,
              "ticks": ""
             }
            },
            "type": "parcoords"
           }
          ],
          "pie": [
           {
            "automargin": true,
            "type": "pie"
           }
          ],
          "scatter": [
           {
            "fillpattern": {
             "fillmode": "overlay",
             "size": 10,
             "solidity": 0.2
            },
            "type": "scatter"
           }
          ],
          "scatter3d": [
           {
            "line": {
             "colorbar": {
              "outlinewidth": 0,
              "ticks": ""
             }
            },
            "marker": {
             "colorbar": {
              "outlinewidth": 0,
              "ticks": ""
             }
            },
            "type": "scatter3d"
           }
          ],
          "scattercarpet": [
           {
            "marker": {
             "colorbar": {
              "outlinewidth": 0,
              "ticks": ""
             }
            },
            "type": "scattercarpet"
           }
          ],
          "scattergeo": [
           {
            "marker": {
             "colorbar": {
              "outlinewidth": 0,
              "ticks": ""
             }
            },
            "type": "scattergeo"
           }
          ],
          "scattergl": [
           {
            "marker": {
             "colorbar": {
              "outlinewidth": 0,
              "ticks": ""
             }
            },
            "type": "scattergl"
           }
          ],
          "scattermapbox": [
           {
            "marker": {
             "colorbar": {
              "outlinewidth": 0,
              "ticks": ""
             }
            },
            "type": "scattermapbox"
           }
          ],
          "scatterpolar": [
           {
            "marker": {
             "colorbar": {
              "outlinewidth": 0,
              "ticks": ""
             }
            },
            "type": "scatterpolar"
           }
          ],
          "scatterpolargl": [
           {
            "marker": {
             "colorbar": {
              "outlinewidth": 0,
              "ticks": ""
             }
            },
            "type": "scatterpolargl"
           }
          ],
          "scatterternary": [
           {
            "marker": {
             "colorbar": {
              "outlinewidth": 0,
              "ticks": ""
             }
            },
            "type": "scatterternary"
           }
          ],
          "surface": [
           {
            "colorbar": {
             "outlinewidth": 0,
             "ticks": ""
            },
            "colorscale": [
             [
              0,
              "#0d0887"
             ],
             [
              0.1111111111111111,
              "#46039f"
             ],
             [
              0.2222222222222222,
              "#7201a8"
             ],
             [
              0.3333333333333333,
              "#9c179e"
             ],
             [
              0.4444444444444444,
              "#bd3786"
             ],
             [
              0.5555555555555556,
              "#d8576b"
             ],
             [
              0.6666666666666666,
              "#ed7953"
             ],
             [
              0.7777777777777778,
              "#fb9f3a"
             ],
             [
              0.8888888888888888,
              "#fdca26"
             ],
             [
              1,
              "#f0f921"
             ]
            ],
            "type": "surface"
           }
          ],
          "table": [
           {
            "cells": {
             "fill": {
              "color": "#EBF0F8"
             },
             "line": {
              "color": "white"
             }
            },
            "header": {
             "fill": {
              "color": "#C8D4E3"
             },
             "line": {
              "color": "white"
             }
            },
            "type": "table"
           }
          ]
         },
         "layout": {
          "annotationdefaults": {
           "arrowcolor": "#2a3f5f",
           "arrowhead": 0,
           "arrowwidth": 1
          },
          "autotypenumbers": "strict",
          "coloraxis": {
           "colorbar": {
            "outlinewidth": 0,
            "ticks": ""
           }
          },
          "colorscale": {
           "diverging": [
            [
             0,
             "#8e0152"
            ],
            [
             0.1,
             "#c51b7d"
            ],
            [
             0.2,
             "#de77ae"
            ],
            [
             0.3,
             "#f1b6da"
            ],
            [
             0.4,
             "#fde0ef"
            ],
            [
             0.5,
             "#f7f7f7"
            ],
            [
             0.6,
             "#e6f5d0"
            ],
            [
             0.7,
             "#b8e186"
            ],
            [
             0.8,
             "#7fbc41"
            ],
            [
             0.9,
             "#4d9221"
            ],
            [
             1,
             "#276419"
            ]
           ],
           "sequential": [
            [
             0,
             "#0d0887"
            ],
            [
             0.1111111111111111,
             "#46039f"
            ],
            [
             0.2222222222222222,
             "#7201a8"
            ],
            [
             0.3333333333333333,
             "#9c179e"
            ],
            [
             0.4444444444444444,
             "#bd3786"
            ],
            [
             0.5555555555555556,
             "#d8576b"
            ],
            [
             0.6666666666666666,
             "#ed7953"
            ],
            [
             0.7777777777777778,
             "#fb9f3a"
            ],
            [
             0.8888888888888888,
             "#fdca26"
            ],
            [
             1,
             "#f0f921"
            ]
           ],
           "sequentialminus": [
            [
             0,
             "#0d0887"
            ],
            [
             0.1111111111111111,
             "#46039f"
            ],
            [
             0.2222222222222222,
             "#7201a8"
            ],
            [
             0.3333333333333333,
             "#9c179e"
            ],
            [
             0.4444444444444444,
             "#bd3786"
            ],
            [
             0.5555555555555556,
             "#d8576b"
            ],
            [
             0.6666666666666666,
             "#ed7953"
            ],
            [
             0.7777777777777778,
             "#fb9f3a"
            ],
            [
             0.8888888888888888,
             "#fdca26"
            ],
            [
             1,
             "#f0f921"
            ]
           ]
          },
          "colorway": [
           "#636efa",
           "#EF553B",
           "#00cc96",
           "#ab63fa",
           "#FFA15A",
           "#19d3f3",
           "#FF6692",
           "#B6E880",
           "#FF97FF",
           "#FECB52"
          ],
          "font": {
           "color": "#2a3f5f"
          },
          "geo": {
           "bgcolor": "white",
           "lakecolor": "white",
           "landcolor": "#E5ECF6",
           "showlakes": true,
           "showland": true,
           "subunitcolor": "white"
          },
          "hoverlabel": {
           "align": "left"
          },
          "hovermode": "closest",
          "mapbox": {
           "style": "light"
          },
          "paper_bgcolor": "white",
          "plot_bgcolor": "#E5ECF6",
          "polar": {
           "angularaxis": {
            "gridcolor": "white",
            "linecolor": "white",
            "ticks": ""
           },
           "bgcolor": "#E5ECF6",
           "radialaxis": {
            "gridcolor": "white",
            "linecolor": "white",
            "ticks": ""
           }
          },
          "scene": {
           "xaxis": {
            "backgroundcolor": "#E5ECF6",
            "gridcolor": "white",
            "gridwidth": 2,
            "linecolor": "white",
            "showbackground": true,
            "ticks": "",
            "zerolinecolor": "white"
           },
           "yaxis": {
            "backgroundcolor": "#E5ECF6",
            "gridcolor": "white",
            "gridwidth": 2,
            "linecolor": "white",
            "showbackground": true,
            "ticks": "",
            "zerolinecolor": "white"
           },
           "zaxis": {
            "backgroundcolor": "#E5ECF6",
            "gridcolor": "white",
            "gridwidth": 2,
            "linecolor": "white",
            "showbackground": true,
            "ticks": "",
            "zerolinecolor": "white"
           }
          },
          "shapedefaults": {
           "line": {
            "color": "#2a3f5f"
           }
          },
          "ternary": {
           "aaxis": {
            "gridcolor": "white",
            "linecolor": "white",
            "ticks": ""
           },
           "baxis": {
            "gridcolor": "white",
            "linecolor": "white",
            "ticks": ""
           },
           "bgcolor": "#E5ECF6",
           "caxis": {
            "gridcolor": "white",
            "linecolor": "white",
            "ticks": ""
           }
          },
          "title": {
           "x": 0.05
          },
          "xaxis": {
           "automargin": true,
           "gridcolor": "white",
           "linecolor": "white",
           "ticks": "",
           "title": {
            "standoff": 15
           },
           "zerolinecolor": "white",
           "zerolinewidth": 2
          },
          "yaxis": {
           "automargin": true,
           "gridcolor": "white",
           "linecolor": "white",
           "ticks": "",
           "title": {
            "standoff": 15
           },
           "zerolinecolor": "white",
           "zerolinewidth": 2
          }
         }
        },
        "title": {
         "text": "statewise_population_per_sqmile Distribution"
        },
        "width": 700,
        "xaxis": {
         "title": {
          "text": "statewise_population_per_sqmile"
         }
        },
        "yaxis": {
         "title": {
          "text": "probability density"
         }
        }
       }
      },
      "text/html": [
       "<div>                            <div id=\"95324c6d-f885-493a-8360-000b59d9ce05\" class=\"plotly-graph-div\" style=\"height:300px; width:700px;\"></div>            <script type=\"text/javascript\">                require([\"plotly\"], function(Plotly) {                    window.PLOTLYENV=window.PLOTLYENV || {};                                    if (document.getElementById(\"95324c6d-f885-493a-8360-000b59d9ce05\")) {                    Plotly.newPlot(                        \"95324c6d-f885-493a-8360-000b59d9ce05\",                        [{\"histnorm\":\"probability density\",\"name\":\"training\",\"x\":[744.7220156959934,64.05546067573992,744.7220156959934,56.07831767044249,744.7220156959934,56.07831767044249,64.05546067573992,744.7220156959934,56.07831767044249,56.07831767044249,744.7220156959934,64.05546067573992,744.7220156959934,744.7220156959934,744.7220156959934,744.7220156959934,744.7220156959934,64.05546067573992,64.05546067573992,56.07831767044249,744.7220156959934,64.05546067573992,744.7220156959934,64.05546067573992,10.660025668871556,56.07831767044249,64.05546067573992,56.07831767044249,744.7220156959934,56.07831767044249,10.660025668871556,64.05546067573992,10.660025668871556,56.07831767044249,10.660025668871556,744.7220156959934,744.7220156959934,64.05546067573992,64.05546067573992,64.05546067573992,56.07831767044249,64.05546067573992,744.7220156959934,744.7220156959934,56.07831767044249,744.7220156959934,56.07831767044249,10.660025668871556,56.07831767044249,56.07831767044249,744.7220156959934,56.07831767044249,744.7220156959934,744.7220156959934,744.7220156959934,64.05546067573992,744.7220156959934,56.07831767044249,10.660025668871556,10.660025668871556,56.07831767044249,10.660025668871556,744.7220156959934,64.05546067573992,64.05546067573992,744.7220156959934,56.07831767044249,744.7220156959934,10.660025668871556,744.7220156959934,56.07831767044249,744.7220156959934,64.05546067573992,64.05546067573992,744.7220156959934,56.07831767044249,10.660025668871556,56.07831767044249,56.07831767044249,10.660025668871556,744.7220156959934,10.660025668871556,56.07831767044249,64.05546067573992,56.07831767044249,744.7220156959934,744.7220156959934,64.05546067573992,56.07831767044249,64.05546067573992,64.05546067573992,744.7220156959934,744.7220156959934,744.7220156959934,56.07831767044249,56.07831767044249,10.660025668871556,64.05546067573992,744.7220156959934,64.05546067573992,64.05546067573992,10.660025668871556,56.07831767044249,56.07831767044249,56.07831767044249,744.7220156959934,56.07831767044249,56.07831767044249,64.05546067573992,56.07831767044249,744.7220156959934,56.07831767044249,56.07831767044249,10.660025668871556,56.07831767044249,744.7220156959934,744.7220156959934,56.07831767044249,56.07831767044249,744.7220156959934,56.07831767044249,64.05546067573992,744.7220156959934,56.07831767044249,744.7220156959934,744.7220156959934,64.05546067573992,744.7220156959934,64.05546067573992,64.05546067573992,56.07831767044249,56.07831767044249,10.660025668871556,64.05546067573992,56.07831767044249,64.05546067573992,56.07831767044249,744.7220156959934,56.07831767044249,56.07831767044249,56.07831767044249,744.7220156959934,744.7220156959934,64.05546067573992,744.7220156959934,744.7220156959934,56.07831767044249,56.07831767044249,744.7220156959934,56.07831767044249,744.7220156959934,56.07831767044249,64.05546067573992,744.7220156959934,744.7220156959934,744.7220156959934,64.05546067573992,56.07831767044249,64.05546067573992,56.07831767044249,64.05546067573992,744.7220156959934,10.660025668871556,56.07831767044249,56.07831767044249,64.05546067573992,56.07831767044249,56.07831767044249,744.7220156959934,56.07831767044249,744.7220156959934,56.07831767044249,56.07831767044249,64.05546067573992,744.7220156959934,56.07831767044249,744.7220156959934,744.7220156959934,64.05546067573992,744.7220156959934,64.05546067573992,744.7220156959934,744.7220156959934,64.05546067573992,64.05546067573992,64.05546067573992,56.07831767044249,744.7220156959934,744.7220156959934,56.07831767044249,744.7220156959934,744.7220156959934,56.07831767044249,744.7220156959934,56.07831767044249,64.05546067573992,10.660025668871556,56.07831767044249,56.07831767044249,64.05546067573992,64.05546067573992,744.7220156959934,64.05546067573992,64.05546067573992,64.05546067573992,64.05546067573992,56.07831767044249,56.07831767044249,744.7220156959934,64.05546067573992,56.07831767044249,10.660025668871556,56.07831767044249,10.660025668871556,744.7220156959934,56.07831767044249,56.07831767044249,56.07831767044249,56.07831767044249,56.07831767044249,10.660025668871556,744.7220156959934,744.7220156959934,744.7220156959934,10.660025668871556,64.05546067573992,10.660025668871556,744.7220156959934,744.7220156959934,744.7220156959934,56.07831767044249,56.07831767044249,744.7220156959934,56.07831767044249,744.7220156959934,64.05546067573992,56.07831767044249,744.7220156959934,64.05546067573992,56.07831767044249,744.7220156959934,64.05546067573992,56.07831767044249,10.660025668871556,744.7220156959934,64.05546067573992,64.05546067573992,744.7220156959934,56.07831767044249,10.660025668871556,744.7220156959934,64.05546067573992,56.07831767044249,64.05546067573992,744.7220156959934,10.660025668871556,744.7220156959934,64.05546067573992,10.660025668871556,64.05546067573992,56.07831767044249,56.07831767044249,10.660025668871556,56.07831767044249,744.7220156959934,56.07831767044249,10.660025668871556,10.660025668871556,56.07831767044249,64.05546067573992,744.7220156959934,744.7220156959934,744.7220156959934,56.07831767044249,744.7220156959934,10.660025668871556,64.05546067573992,56.07831767044249,56.07831767044249,56.07831767044249,56.07831767044249,64.05546067573992,64.05546067573992,744.7220156959934,744.7220156959934,744.7220156959934,10.660025668871556,10.660025668871556,10.660025668871556,744.7220156959934,64.05546067573992,56.07831767044249,56.07831767044249,10.660025668871556,744.7220156959934,744.7220156959934,56.07831767044249,744.7220156959934,744.7220156959934,744.7220156959934,56.07831767044249,744.7220156959934,10.660025668871556,744.7220156959934,744.7220156959934,56.07831767044249,744.7220156959934,744.7220156959934,10.660025668871556,744.7220156959934,744.7220156959934,10.660025668871556,64.05546067573992,64.05546067573992,56.07831767044249,56.07831767044249,744.7220156959934,64.05546067573992,744.7220156959934,64.05546067573992,64.05546067573992,64.05546067573992,56.07831767044249,56.07831767044249,10.660025668871556,56.07831767044249,56.07831767044249,64.05546067573992,56.07831767044249,64.05546067573992,744.7220156959934,744.7220156959934,56.07831767044249,744.7220156959934,744.7220156959934,10.660025668871556,56.07831767044249,744.7220156959934,744.7220156959934,10.660025668871556,744.7220156959934,744.7220156959934,56.07831767044249,744.7220156959934,744.7220156959934,56.07831767044249,744.7220156959934,10.660025668871556,10.660025668871556,64.05546067573992,744.7220156959934,744.7220156959934,64.05546067573992,56.07831767044249,10.660025668871556,744.7220156959934,744.7220156959934,64.05546067573992,10.660025668871556,56.07831767044249,56.07831767044249,56.07831767044249,64.05546067573992,64.05546067573992,56.07831767044249,744.7220156959934,56.07831767044249,64.05546067573992,56.07831767044249,64.05546067573992,56.07831767044249,744.7220156959934,64.05546067573992,744.7220156959934,56.07831767044249,56.07831767044249,56.07831767044249,744.7220156959934,10.660025668871556,56.07831767044249,744.7220156959934,56.07831767044249,64.05546067573992,56.07831767044249,744.7220156959934,744.7220156959934,64.05546067573992,56.07831767044249,56.07831767044249,56.07831767044249,56.07831767044249,744.7220156959934,10.660025668871556,744.7220156959934,64.05546067573992,10.660025668871556,10.660025668871556,56.07831767044249,56.07831767044249,56.07831767044249,744.7220156959934,744.7220156959934,56.07831767044249,56.07831767044249,744.7220156959934,744.7220156959934,10.660025668871556,10.660025668871556,56.07831767044249,744.7220156959934,56.07831767044249,56.07831767044249,56.07831767044249,744.7220156959934,56.07831767044249,744.7220156959934,64.05546067573992,64.05546067573992,56.07831767044249,56.07831767044249,744.7220156959934,744.7220156959934,64.05546067573992,10.660025668871556,64.05546067573992,744.7220156959934,56.07831767044249,10.660025668871556,10.660025668871556,56.07831767044249,56.07831767044249,56.07831767044249,56.07831767044249,744.7220156959934,744.7220156959934,56.07831767044249,56.07831767044249,64.05546067573992,56.07831767044249,744.7220156959934,10.660025668871556,64.05546067573992,56.07831767044249,64.05546067573992,56.07831767044249,744.7220156959934,10.660025668871556,56.07831767044249,744.7220156959934,56.07831767044249,56.07831767044249,56.07831767044249,744.7220156959934,56.07831767044249,744.7220156959934,744.7220156959934,56.07831767044249,56.07831767044249,744.7220156959934,64.05546067573992,10.660025668871556,64.05546067573992,56.07831767044249,56.07831767044249,744.7220156959934,10.660025668871556,56.07831767044249,64.05546067573992,744.7220156959934,744.7220156959934,744.7220156959934,56.07831767044249,56.07831767044249,10.660025668871556,744.7220156959934,56.07831767044249,10.660025668871556,744.7220156959934,744.7220156959934,64.05546067573992,64.05546067573992,56.07831767044249,10.660025668871556,64.05546067573992,744.7220156959934,56.07831767044249,744.7220156959934,56.07831767044249,10.660025668871556,744.7220156959934,56.07831767044249,56.07831767044249,56.07831767044249,56.07831767044249,10.660025668871556,744.7220156959934,56.07831767044249,744.7220156959934,744.7220156959934,744.7220156959934],\"type\":\"histogram\",\"opacity\":0.4},{\"histnorm\":\"probability density\",\"name\":\"production\",\"x\":[56.07831767044249,56.07831767044249,64.05546067573992,744.7220156959934,56.07831767044249,56.07831767044249,10.660025668871556,744.7220156959934,56.07831767044249,56.07831767044249,744.7220156959934,744.7220156959934,56.07831767044249,56.07831767044249,64.05546067573992,56.07831767044249,10.660025668871556,744.7220156959934,10.660025668871556,10.660025668871556,10.660025668871556,56.07831767044249,744.7220156959934,56.07831767044249,64.05546067573992,744.7220156959934,744.7220156959934,64.05546067573992,64.05546067573992,64.05546067573992,56.07831767044249,56.07831767044249,10.660025668871556,64.05546067573992,56.07831767044249,744.7220156959934,10.660025668871556,56.07831767044249,64.05546067573992,744.7220156959934,10.660025668871556,56.07831767044249,64.05546067573992,10.660025668871556,64.05546067573992,64.05546067573992,744.7220156959934,744.7220156959934,10.660025668871556,744.7220156959934,10.660025668871556,64.05546067573992,744.7220156959934,10.660025668871556,744.7220156959934,10.660025668871556,744.7220156959934,10.660025668871556,64.05546067573992,744.7220156959934,64.05546067573992,10.660025668871556,744.7220156959934,744.7220156959934,10.660025668871556,744.7220156959934,10.660025668871556,56.07831767044249,56.07831767044249,64.05546067573992,56.07831767044249,64.05546067573992,744.7220156959934,64.05546067573992,64.05546067573992,744.7220156959934,744.7220156959934,10.660025668871556,64.05546067573992,744.7220156959934,64.05546067573992,10.660025668871556,56.07831767044249,744.7220156959934,56.07831767044249,10.660025668871556,64.05546067573992,64.05546067573992,64.05546067573992,64.05546067573992,10.660025668871556,10.660025668871556,56.07831767044249,64.05546067573992,10.660025668871556,64.05546067573992,744.7220156959934,744.7220156959934,744.7220156959934,10.660025668871556,744.7220156959934,744.7220156959934,10.660025668871556,744.7220156959934,744.7220156959934,56.07831767044249,10.660025668871556,64.05546067573992,56.07831767044249,64.05546067573992,56.07831767044249,744.7220156959934,64.05546067573992,744.7220156959934,64.05546067573992,744.7220156959934,56.07831767044249,744.7220156959934,744.7220156959934,64.05546067573992,64.05546067573992,10.660025668871556,744.7220156959934,10.660025668871556,744.7220156959934,744.7220156959934,744.7220156959934,744.7220156959934,64.05546067573992,744.7220156959934,10.660025668871556,64.05546067573992,10.660025668871556,10.660025668871556,744.7220156959934,64.05546067573992,10.660025668871556,744.7220156959934,56.07831767044249,744.7220156959934,64.05546067573992,10.660025668871556,56.07831767044249,56.07831767044249,64.05546067573992,64.05546067573992,64.05546067573992,64.05546067573992,744.7220156959934,56.07831767044249,56.07831767044249,56.07831767044249,56.07831767044249,64.05546067573992,744.7220156959934,744.7220156959934,10.660025668871556,56.07831767044249,64.05546067573992,56.07831767044249,10.660025668871556,64.05546067573992,64.05546067573992,64.05546067573992,56.07831767044249,744.7220156959934,64.05546067573992,744.7220156959934,56.07831767044249,56.07831767044249,744.7220156959934,744.7220156959934,744.7220156959934,56.07831767044249,744.7220156959934,744.7220156959934,64.05546067573992,64.05546067573992,744.7220156959934,744.7220156959934,64.05546067573992,64.05546067573992,56.07831767044249,10.660025668871556,56.07831767044249,744.7220156959934,10.660025668871556,56.07831767044249,10.660025668871556,744.7220156959934,64.05546067573992,64.05546067573992,56.07831767044249,56.07831767044249,56.07831767044249,744.7220156959934,744.7220156959934,56.07831767044249,10.660025668871556,10.660025668871556,64.05546067573992,56.07831767044249,10.660025668871556,10.660025668871556,10.660025668871556,744.7220156959934,64.05546067573992,744.7220156959934,64.05546067573992,56.07831767044249,744.7220156959934,64.05546067573992,744.7220156959934,56.07831767044249,10.660025668871556,64.05546067573992,744.7220156959934,10.660025668871556,10.660025668871556,744.7220156959934,10.660025668871556,64.05546067573992,56.07831767044249,64.05546067573992,744.7220156959934,744.7220156959934,56.07831767044249,64.05546067573992,64.05546067573992,64.05546067573992,10.660025668871556,64.05546067573992,744.7220156959934,56.07831767044249,64.05546067573992,10.660025668871556,56.07831767044249,10.660025668871556,744.7220156959934,56.07831767044249,56.07831767044249,744.7220156959934,10.660025668871556,56.07831767044249,10.660025668871556,64.05546067573992,744.7220156959934,744.7220156959934,64.05546067573992,10.660025668871556,56.07831767044249,744.7220156959934,56.07831767044249,64.05546067573992,10.660025668871556,744.7220156959934,744.7220156959934,10.660025668871556,56.07831767044249,56.07831767044249,56.07831767044249,64.05546067573992,744.7220156959934,10.660025668871556,744.7220156959934,10.660025668871556,56.07831767044249,744.7220156959934,56.07831767044249,744.7220156959934,10.660025668871556,744.7220156959934,56.07831767044249,64.05546067573992,10.660025668871556,744.7220156959934,56.07831767044249,744.7220156959934,744.7220156959934,744.7220156959934,64.05546067573992,64.05546067573992,64.05546067573992,56.07831767044249,10.660025668871556,10.660025668871556,744.7220156959934,744.7220156959934,744.7220156959934,56.07831767044249,56.07831767044249,64.05546067573992,64.05546067573992,744.7220156959934,10.660025668871556,56.07831767044249,10.660025668871556,64.05546067573992,64.05546067573992,744.7220156959934,744.7220156959934,64.05546067573992,64.05546067573992,10.660025668871556,10.660025668871556,64.05546067573992,10.660025668871556,744.7220156959934,56.07831767044249,10.660025668871556,64.05546067573992,10.660025668871556,64.05546067573992,744.7220156959934,10.660025668871556,744.7220156959934,744.7220156959934,10.660025668871556,10.660025668871556,744.7220156959934,56.07831767044249,10.660025668871556,10.660025668871556,64.05546067573992,56.07831767044249,744.7220156959934,10.660025668871556,10.660025668871556,10.660025668871556,64.05546067573992,64.05546067573992,10.660025668871556,56.07831767044249,10.660025668871556,64.05546067573992,56.07831767044249,64.05546067573992,10.660025668871556,64.05546067573992,10.660025668871556,56.07831767044249,64.05546067573992,10.660025668871556,64.05546067573992,56.07831767044249,10.660025668871556,10.660025668871556,10.660025668871556,56.07831767044249,10.660025668871556,56.07831767044249,744.7220156959934,64.05546067573992,64.05546067573992,744.7220156959934,56.07831767044249,64.05546067573992,10.660025668871556,56.07831767044249,744.7220156959934,10.660025668871556,10.660025668871556,744.7220156959934,64.05546067573992,56.07831767044249,744.7220156959934,10.660025668871556,56.07831767044249,56.07831767044249,64.05546067573992,64.05546067573992,56.07831767044249,64.05546067573992,56.07831767044249,10.660025668871556,10.660025668871556,10.660025668871556,56.07831767044249,56.07831767044249,64.05546067573992,744.7220156959934,56.07831767044249,744.7220156959934,744.7220156959934,744.7220156959934,10.660025668871556,744.7220156959934,10.660025668871556,744.7220156959934,744.7220156959934,56.07831767044249,56.07831767044249,64.05546067573992,56.07831767044249,64.05546067573992,56.07831767044249,56.07831767044249,56.07831767044249,744.7220156959934,744.7220156959934,10.660025668871556,744.7220156959934,10.660025668871556,10.660025668871556,10.660025668871556,744.7220156959934,744.7220156959934,64.05546067573992,10.660025668871556,10.660025668871556,744.7220156959934,56.07831767044249,56.07831767044249,56.07831767044249,64.05546067573992,56.07831767044249,64.05546067573992,744.7220156959934,10.660025668871556,56.07831767044249,56.07831767044249,10.660025668871556,64.05546067573992,744.7220156959934,64.05546067573992,56.07831767044249,10.660025668871556,64.05546067573992,64.05546067573992,56.07831767044249,744.7220156959934,10.660025668871556,56.07831767044249,10.660025668871556,10.660025668871556,10.660025668871556,64.05546067573992,64.05546067573992,10.660025668871556,10.660025668871556,744.7220156959934,10.660025668871556,10.660025668871556,10.660025668871556,744.7220156959934,64.05546067573992,64.05546067573992,10.660025668871556,10.660025668871556,64.05546067573992,56.07831767044249,64.05546067573992,56.07831767044249,64.05546067573992,64.05546067573992,744.7220156959934,56.07831767044249,64.05546067573992,10.660025668871556,744.7220156959934,744.7220156959934,56.07831767044249,56.07831767044249,744.7220156959934,56.07831767044249,744.7220156959934,56.07831767044249,56.07831767044249,64.05546067573992,64.05546067573992,56.07831767044249,744.7220156959934,10.660025668871556,10.660025668871556,64.05546067573992,56.07831767044249,10.660025668871556,10.660025668871556,744.7220156959934,744.7220156959934,64.05546067573992,64.05546067573992,10.660025668871556,64.05546067573992,744.7220156959934,10.660025668871556,744.7220156959934,56.07831767044249,10.660025668871556,56.07831767044249,56.07831767044249,56.07831767044249,10.660025668871556,64.05546067573992,10.660025668871556,10.660025668871556,56.07831767044249,56.07831767044249,744.7220156959934,744.7220156959934],\"type\":\"histogram\",\"opacity\":0.4}],                        {\"template\":{\"data\":{\"histogram2dcontour\":[{\"type\":\"histogram2dcontour\",\"colorbar\":{\"outlinewidth\":0,\"ticks\":\"\"},\"colorscale\":[[0.0,\"#0d0887\"],[0.1111111111111111,\"#46039f\"],[0.2222222222222222,\"#7201a8\"],[0.3333333333333333,\"#9c179e\"],[0.4444444444444444,\"#bd3786\"],[0.5555555555555556,\"#d8576b\"],[0.6666666666666666,\"#ed7953\"],[0.7777777777777778,\"#fb9f3a\"],[0.8888888888888888,\"#fdca26\"],[1.0,\"#f0f921\"]]}],\"choropleth\":[{\"type\":\"choropleth\",\"colorbar\":{\"outlinewidth\":0,\"ticks\":\"\"}}],\"histogram2d\":[{\"type\":\"histogram2d\",\"colorbar\":{\"outlinewidth\":0,\"ticks\":\"\"},\"colorscale\":[[0.0,\"#0d0887\"],[0.1111111111111111,\"#46039f\"],[0.2222222222222222,\"#7201a8\"],[0.3333333333333333,\"#9c179e\"],[0.4444444444444444,\"#bd3786\"],[0.5555555555555556,\"#d8576b\"],[0.6666666666666666,\"#ed7953\"],[0.7777777777777778,\"#fb9f3a\"],[0.8888888888888888,\"#fdca26\"],[1.0,\"#f0f921\"]]}],\"heatmap\":[{\"type\":\"heatmap\",\"colorbar\":{\"outlinewidth\":0,\"ticks\":\"\"},\"colorscale\":[[0.0,\"#0d0887\"],[0.1111111111111111,\"#46039f\"],[0.2222222222222222,\"#7201a8\"],[0.3333333333333333,\"#9c179e\"],[0.4444444444444444,\"#bd3786\"],[0.5555555555555556,\"#d8576b\"],[0.6666666666666666,\"#ed7953\"],[0.7777777777777778,\"#fb9f3a\"],[0.8888888888888888,\"#fdca26\"],[1.0,\"#f0f921\"]]}],\"heatmapgl\":[{\"type\":\"heatmapgl\",\"colorbar\":{\"outlinewidth\":0,\"ticks\":\"\"},\"colorscale\":[[0.0,\"#0d0887\"],[0.1111111111111111,\"#46039f\"],[0.2222222222222222,\"#7201a8\"],[0.3333333333333333,\"#9c179e\"],[0.4444444444444444,\"#bd3786\"],[0.5555555555555556,\"#d8576b\"],[0.6666666666666666,\"#ed7953\"],[0.7777777777777778,\"#fb9f3a\"],[0.8888888888888888,\"#fdca26\"],[1.0,\"#f0f921\"]]}],\"contourcarpet\":[{\"type\":\"contourcarpet\",\"colorbar\":{\"outlinewidth\":0,\"ticks\":\"\"}}],\"contour\":[{\"type\":\"contour\",\"colorbar\":{\"outlinewidth\":0,\"ticks\":\"\"},\"colorscale\":[[0.0,\"#0d0887\"],[0.1111111111111111,\"#46039f\"],[0.2222222222222222,\"#7201a8\"],[0.3333333333333333,\"#9c179e\"],[0.4444444444444444,\"#bd3786\"],[0.5555555555555556,\"#d8576b\"],[0.6666666666666666,\"#ed7953\"],[0.7777777777777778,\"#fb9f3a\"],[0.8888888888888888,\"#fdca26\"],[1.0,\"#f0f921\"]]}],\"surface\":[{\"type\":\"surface\",\"colorbar\":{\"outlinewidth\":0,\"ticks\":\"\"},\"colorscale\":[[0.0,\"#0d0887\"],[0.1111111111111111,\"#46039f\"],[0.2222222222222222,\"#7201a8\"],[0.3333333333333333,\"#9c179e\"],[0.4444444444444444,\"#bd3786\"],[0.5555555555555556,\"#d8576b\"],[0.6666666666666666,\"#ed7953\"],[0.7777777777777778,\"#fb9f3a\"],[0.8888888888888888,\"#fdca26\"],[1.0,\"#f0f921\"]]}],\"mesh3d\":[{\"type\":\"mesh3d\",\"colorbar\":{\"outlinewidth\":0,\"ticks\":\"\"}}],\"scatter\":[{\"fillpattern\":{\"fillmode\":\"overlay\",\"size\":10,\"solidity\":0.2},\"type\":\"scatter\"}],\"parcoords\":[{\"type\":\"parcoords\",\"line\":{\"colorbar\":{\"outlinewidth\":0,\"ticks\":\"\"}}}],\"scatterpolargl\":[{\"type\":\"scatterpolargl\",\"marker\":{\"colorbar\":{\"outlinewidth\":0,\"ticks\":\"\"}}}],\"bar\":[{\"error_x\":{\"color\":\"#2a3f5f\"},\"error_y\":{\"color\":\"#2a3f5f\"},\"marker\":{\"line\":{\"color\":\"#E5ECF6\",\"width\":0.5},\"pattern\":{\"fillmode\":\"overlay\",\"size\":10,\"solidity\":0.2}},\"type\":\"bar\"}],\"scattergeo\":[{\"type\":\"scattergeo\",\"marker\":{\"colorbar\":{\"outlinewidth\":0,\"ticks\":\"\"}}}],\"scatterpolar\":[{\"type\":\"scatterpolar\",\"marker\":{\"colorbar\":{\"outlinewidth\":0,\"ticks\":\"\"}}}],\"histogram\":[{\"marker\":{\"pattern\":{\"fillmode\":\"overlay\",\"size\":10,\"solidity\":0.2}},\"type\":\"histogram\"}],\"scattergl\":[{\"type\":\"scattergl\",\"marker\":{\"colorbar\":{\"outlinewidth\":0,\"ticks\":\"\"}}}],\"scatter3d\":[{\"type\":\"scatter3d\",\"line\":{\"colorbar\":{\"outlinewidth\":0,\"ticks\":\"\"}},\"marker\":{\"colorbar\":{\"outlinewidth\":0,\"ticks\":\"\"}}}],\"scattermapbox\":[{\"type\":\"scattermapbox\",\"marker\":{\"colorbar\":{\"outlinewidth\":0,\"ticks\":\"\"}}}],\"scatterternary\":[{\"type\":\"scatterternary\",\"marker\":{\"colorbar\":{\"outlinewidth\":0,\"ticks\":\"\"}}}],\"scattercarpet\":[{\"type\":\"scattercarpet\",\"marker\":{\"colorbar\":{\"outlinewidth\":0,\"ticks\":\"\"}}}],\"carpet\":[{\"aaxis\":{\"endlinecolor\":\"#2a3f5f\",\"gridcolor\":\"white\",\"linecolor\":\"white\",\"minorgridcolor\":\"white\",\"startlinecolor\":\"#2a3f5f\"},\"baxis\":{\"endlinecolor\":\"#2a3f5f\",\"gridcolor\":\"white\",\"linecolor\":\"white\",\"minorgridcolor\":\"white\",\"startlinecolor\":\"#2a3f5f\"},\"type\":\"carpet\"}],\"table\":[{\"cells\":{\"fill\":{\"color\":\"#EBF0F8\"},\"line\":{\"color\":\"white\"}},\"header\":{\"fill\":{\"color\":\"#C8D4E3\"},\"line\":{\"color\":\"white\"}},\"type\":\"table\"}],\"barpolar\":[{\"marker\":{\"line\":{\"color\":\"#E5ECF6\",\"width\":0.5},\"pattern\":{\"fillmode\":\"overlay\",\"size\":10,\"solidity\":0.2}},\"type\":\"barpolar\"}],\"pie\":[{\"automargin\":true,\"type\":\"pie\"}]},\"layout\":{\"autotypenumbers\":\"strict\",\"colorway\":[\"#636efa\",\"#EF553B\",\"#00cc96\",\"#ab63fa\",\"#FFA15A\",\"#19d3f3\",\"#FF6692\",\"#B6E880\",\"#FF97FF\",\"#FECB52\"],\"font\":{\"color\":\"#2a3f5f\"},\"hovermode\":\"closest\",\"hoverlabel\":{\"align\":\"left\"},\"paper_bgcolor\":\"white\",\"plot_bgcolor\":\"#E5ECF6\",\"polar\":{\"bgcolor\":\"#E5ECF6\",\"angularaxis\":{\"gridcolor\":\"white\",\"linecolor\":\"white\",\"ticks\":\"\"},\"radialaxis\":{\"gridcolor\":\"white\",\"linecolor\":\"white\",\"ticks\":\"\"}},\"ternary\":{\"bgcolor\":\"#E5ECF6\",\"aaxis\":{\"gridcolor\":\"white\",\"linecolor\":\"white\",\"ticks\":\"\"},\"baxis\":{\"gridcolor\":\"white\",\"linecolor\":\"white\",\"ticks\":\"\"},\"caxis\":{\"gridcolor\":\"white\",\"linecolor\":\"white\",\"ticks\":\"\"}},\"coloraxis\":{\"colorbar\":{\"outlinewidth\":0,\"ticks\":\"\"}},\"colorscale\":{\"sequential\":[[0.0,\"#0d0887\"],[0.1111111111111111,\"#46039f\"],[0.2222222222222222,\"#7201a8\"],[0.3333333333333333,\"#9c179e\"],[0.4444444444444444,\"#bd3786\"],[0.5555555555555556,\"#d8576b\"],[0.6666666666666666,\"#ed7953\"],[0.7777777777777778,\"#fb9f3a\"],[0.8888888888888888,\"#fdca26\"],[1.0,\"#f0f921\"]],\"sequentialminus\":[[0.0,\"#0d0887\"],[0.1111111111111111,\"#46039f\"],[0.2222222222222222,\"#7201a8\"],[0.3333333333333333,\"#9c179e\"],[0.4444444444444444,\"#bd3786\"],[0.5555555555555556,\"#d8576b\"],[0.6666666666666666,\"#ed7953\"],[0.7777777777777778,\"#fb9f3a\"],[0.8888888888888888,\"#fdca26\"],[1.0,\"#f0f921\"]],\"diverging\":[[0,\"#8e0152\"],[0.1,\"#c51b7d\"],[0.2,\"#de77ae\"],[0.3,\"#f1b6da\"],[0.4,\"#fde0ef\"],[0.5,\"#f7f7f7\"],[0.6,\"#e6f5d0\"],[0.7,\"#b8e186\"],[0.8,\"#7fbc41\"],[0.9,\"#4d9221\"],[1,\"#276419\"]]},\"xaxis\":{\"gridcolor\":\"white\",\"linecolor\":\"white\",\"ticks\":\"\",\"title\":{\"standoff\":15},\"zerolinecolor\":\"white\",\"automargin\":true,\"zerolinewidth\":2},\"yaxis\":{\"gridcolor\":\"white\",\"linecolor\":\"white\",\"ticks\":\"\",\"title\":{\"standoff\":15},\"zerolinecolor\":\"white\",\"automargin\":true,\"zerolinewidth\":2},\"scene\":{\"xaxis\":{\"backgroundcolor\":\"#E5ECF6\",\"gridcolor\":\"white\",\"linecolor\":\"white\",\"showbackground\":true,\"ticks\":\"\",\"zerolinecolor\":\"white\",\"gridwidth\":2},\"yaxis\":{\"backgroundcolor\":\"#E5ECF6\",\"gridcolor\":\"white\",\"linecolor\":\"white\",\"showbackground\":true,\"ticks\":\"\",\"zerolinecolor\":\"white\",\"gridwidth\":2},\"zaxis\":{\"backgroundcolor\":\"#E5ECF6\",\"gridcolor\":\"white\",\"linecolor\":\"white\",\"showbackground\":true,\"ticks\":\"\",\"zerolinecolor\":\"white\",\"gridwidth\":2}},\"shapedefaults\":{\"line\":{\"color\":\"#2a3f5f\"}},\"annotationdefaults\":{\"arrowcolor\":\"#2a3f5f\",\"arrowhead\":0,\"arrowwidth\":1},\"geo\":{\"bgcolor\":\"white\",\"landcolor\":\"#E5ECF6\",\"subunitcolor\":\"white\",\"showland\":true,\"showlakes\":true,\"lakecolor\":\"white\"},\"title\":{\"x\":0.05},\"mapbox\":{\"style\":\"light\"}}},\"barmode\":\"overlay\",\"title\":{\"text\":\"statewise_population_per_sqmile Distribution\"},\"xaxis\":{\"title\":{\"text\":\"statewise_population_per_sqmile\"}},\"yaxis\":{\"title\":{\"text\":\"probability density\"}},\"autosize\":false,\"width\":700,\"height\":300},                        {\"responsive\": true}                    ).then(function(){\n",
       "                            \n",
       "var gd = document.getElementById('95324c6d-f885-493a-8360-000b59d9ce05');\n",
       "var x = new MutationObserver(function (mutations, observer) {{\n",
       "        var display = window.getComputedStyle(gd).display;\n",
       "        if (!display || display === 'none') {{\n",
       "            console.log([gd, 'removed!']);\n",
       "            Plotly.purge(gd);\n",
       "            observer.disconnect();\n",
       "        }}\n",
       "}});\n",
       "\n",
       "// Listen for the removal of the full notebook cells\n",
       "var notebookContainer = gd.closest('#notebook-container');\n",
       "if (notebookContainer) {{\n",
       "    x.observe(notebookContainer, {childList: true});\n",
       "}}\n",
       "\n",
       "// Listen for the clearing of the current output cell\n",
       "var outputEl = gd.closest('.output');\n",
       "if (outputEl) {{\n",
       "    x.observe(outputEl, {childList: true});\n",
       "}}\n",
       "\n",
       "                        })                };                });            </script>        </div>"
      ]
     },
     "metadata": {},
     "output_type": "display_data"
    },
    {
     "name": "stderr",
     "output_type": "stream",
     "text": [
      "11:24:54 INFO:drift detected for warehouse_ID.value\n",
      "11:24:54 INFO:drift_score : 3.1606552687212877e-14\n",
      "11:24:54 INFO:stattest_name : chi-square p_value\n",
      "11:24:54 INFO:raw_feature_importance : 0.3473161458969116\n",
      "11:24:54 INFO:relative_feature_importance : 0.1503509134054184\n",
      "11:24:54 INFO:feature_importance_weighted_drift_score : 2.102185611735288e-13\n"
     ]
    },
    {
     "data": {
      "application/vnd.plotly.v1+json": {
       "config": {
        "plotlyServerURL": "https://plot.ly"
       },
       "data": [
        {
         "histnorm": "probability density",
         "name": "training",
         "opacity": 0.4,
         "type": "histogram",
         "x": [
          "WH_0x3e9",
          "WH_0x3eb",
          "WH_0x3e9",
          "WH_0x3ea",
          "WH_0x3e9",
          "WH_0x3ea",
          "WH_0x3eb",
          "WH_0x3e9",
          "WH_0x3ea",
          "WH_0x3ea",
          "WH_0x3e9",
          "WH_0x3eb",
          "WH_0x3e9",
          "WH_0x3e9",
          "WH_0x3e9",
          "WH_0x3e9",
          "WH_0x3e9",
          "WH_0x3eb",
          "WH_0x3eb",
          "WH_0x3ea",
          "WH_0x3e9",
          "WH_0x3eb",
          "WH_0x3e9",
          "WH_0x3eb",
          "WH_0x3ec",
          "WH_0x3ea",
          "WH_0x3eb",
          "WH_0x3ea",
          "WH_0x3e9",
          "WH_0x3ea",
          "WH_0x3ec",
          "WH_0x3eb",
          "WH_0x3ec",
          "WH_0x3ea",
          "WH_0x3ec",
          "WH_0x3e9",
          "WH_0x3e9",
          "WH_0x3eb",
          "WH_0x3eb",
          "WH_0x3eb",
          "WH_0x3ea",
          "WH_0x3eb",
          "WH_0x3e9",
          "WH_0x3e9",
          "WH_0x3ea",
          "WH_0x3e9",
          "WH_0x3ea",
          "WH_0x3ec",
          "WH_0x3ea",
          "WH_0x3ea",
          "WH_0x3e9",
          "WH_0x3ea",
          "WH_0x3e9",
          "WH_0x3e9",
          "WH_0x3e9",
          "WH_0x3eb",
          "WH_0x3e9",
          "WH_0x3ea",
          "WH_0x3ec",
          "WH_0x3ec",
          "WH_0x3ea",
          "WH_0x3ec",
          "WH_0x3e9",
          "WH_0x3eb",
          "WH_0x3eb",
          "WH_0x3e9",
          "WH_0x3ea",
          "WH_0x3e9",
          "WH_0x3ec",
          "WH_0x3e9",
          "WH_0x3ea",
          "WH_0x3e9",
          "WH_0x3eb",
          "WH_0x3eb",
          "WH_0x3e9",
          "WH_0x3ea",
          "WH_0x3ec",
          "WH_0x3ea",
          "WH_0x3ea",
          "WH_0x3ec",
          "WH_0x3e9",
          "WH_0x3ec",
          "WH_0x3ea",
          "WH_0x3eb",
          "WH_0x3ea",
          "WH_0x3e9",
          "WH_0x3e9",
          "WH_0x3eb",
          "WH_0x3ea",
          "WH_0x3eb",
          "WH_0x3eb",
          "WH_0x3e9",
          "WH_0x3e9",
          "WH_0x3e9",
          "WH_0x3ea",
          "WH_0x3ea",
          "WH_0x3ec",
          "WH_0x3eb",
          "WH_0x3e9",
          "WH_0x3eb",
          "WH_0x3eb",
          "WH_0x3ec",
          "WH_0x3ea",
          "WH_0x3ea",
          "WH_0x3ea",
          "WH_0x3e9",
          "WH_0x3ea",
          "WH_0x3ea",
          "WH_0x3eb",
          "WH_0x3ea",
          "WH_0x3e9",
          "WH_0x3ea",
          "WH_0x3ea",
          "WH_0x3ec",
          "WH_0x3ea",
          "WH_0x3e9",
          "WH_0x3e9",
          "WH_0x3ea",
          "WH_0x3ea",
          "WH_0x3e9",
          "WH_0x3ea",
          "WH_0x3eb",
          "WH_0x3e9",
          "WH_0x3ea",
          "WH_0x3e9",
          "WH_0x3e9",
          "WH_0x3eb",
          "WH_0x3e9",
          "WH_0x3eb",
          "WH_0x3eb",
          "WH_0x3ea",
          "WH_0x3ea",
          "WH_0x3ec",
          "WH_0x3eb",
          "WH_0x3ea",
          "WH_0x3eb",
          "WH_0x3ea",
          "WH_0x3e9",
          "WH_0x3ea",
          "WH_0x3ea",
          "WH_0x3ea",
          "WH_0x3e9",
          "WH_0x3e9",
          "WH_0x3eb",
          "WH_0x3e9",
          "WH_0x3e9",
          "WH_0x3ea",
          "WH_0x3ea",
          "WH_0x3e9",
          "WH_0x3ea",
          "WH_0x3e9",
          "WH_0x3ea",
          "WH_0x3eb",
          "WH_0x3e9",
          "WH_0x3e9",
          "WH_0x3e9",
          "WH_0x3eb",
          "WH_0x3ea",
          "WH_0x3eb",
          "WH_0x3ea",
          "WH_0x3eb",
          "WH_0x3e9",
          "WH_0x3ec",
          "WH_0x3ea",
          "WH_0x3ea",
          "WH_0x3eb",
          "WH_0x3ea",
          "WH_0x3ea",
          "WH_0x3e9",
          "WH_0x3ea",
          "WH_0x3e9",
          "WH_0x3ea",
          "WH_0x3ea",
          "WH_0x3eb",
          "WH_0x3e9",
          "WH_0x3ea",
          "WH_0x3e9",
          "WH_0x3e9",
          "WH_0x3eb",
          "WH_0x3e9",
          "WH_0x3eb",
          "WH_0x3e9",
          "WH_0x3e9",
          "WH_0x3eb",
          "WH_0x3eb",
          "WH_0x3eb",
          "WH_0x3ea",
          "WH_0x3e9",
          "WH_0x3e9",
          "WH_0x3ea",
          "WH_0x3e9",
          "WH_0x3e9",
          "WH_0x3ea",
          "WH_0x3e9",
          "WH_0x3ea",
          "WH_0x3eb",
          "WH_0x3ec",
          "WH_0x3ea",
          "WH_0x3ea",
          "WH_0x3eb",
          "WH_0x3eb",
          "WH_0x3e9",
          "WH_0x3eb",
          "WH_0x3eb",
          "WH_0x3eb",
          "WH_0x3eb",
          "WH_0x3ea",
          "WH_0x3ea",
          "WH_0x3e9",
          "WH_0x3eb",
          "WH_0x3ea",
          "WH_0x3ec",
          "WH_0x3ea",
          "WH_0x3ec",
          "WH_0x3e9",
          "WH_0x3ea",
          "WH_0x3ea",
          "WH_0x3ea",
          "WH_0x3ea",
          "WH_0x3ea",
          "WH_0x3ec",
          "WH_0x3e9",
          "WH_0x3e9",
          "WH_0x3e9",
          "WH_0x3ec",
          "WH_0x3eb",
          "WH_0x3ec",
          "WH_0x3e9",
          "WH_0x3e9",
          "WH_0x3e9",
          "WH_0x3ea",
          "WH_0x3ea",
          "WH_0x3e9",
          "WH_0x3ea",
          "WH_0x3e9",
          "WH_0x3eb",
          "WH_0x3ea",
          "WH_0x3e9",
          "WH_0x3eb",
          "WH_0x3ea",
          "WH_0x3e9",
          "WH_0x3eb",
          "WH_0x3ea",
          "WH_0x3ec",
          "WH_0x3e9",
          "WH_0x3eb",
          "WH_0x3eb",
          "WH_0x3e9",
          "WH_0x3ea",
          "WH_0x3ec",
          "WH_0x3e9",
          "WH_0x3eb",
          "WH_0x3ea",
          "WH_0x3eb",
          "WH_0x3e9",
          "WH_0x3ec",
          "WH_0x3e9",
          "WH_0x3eb",
          "WH_0x3ec",
          "WH_0x3eb",
          "WH_0x3ea",
          "WH_0x3ea",
          "WH_0x3ec",
          "WH_0x3ea",
          "WH_0x3e9",
          "WH_0x3ea",
          "WH_0x3ec",
          "WH_0x3ec",
          "WH_0x3ea",
          "WH_0x3eb",
          "WH_0x3e9",
          "WH_0x3e9",
          "WH_0x3e9",
          "WH_0x3ea",
          "WH_0x3e9",
          "WH_0x3ec",
          "WH_0x3eb",
          "WH_0x3ea",
          "WH_0x3ea",
          "WH_0x3ea",
          "WH_0x3ea",
          "WH_0x3eb",
          "WH_0x3eb",
          "WH_0x3e9",
          "WH_0x3e9",
          "WH_0x3e9",
          "WH_0x3ec",
          "WH_0x3ec",
          "WH_0x3ec",
          "WH_0x3e9",
          "WH_0x3eb",
          "WH_0x3ea",
          "WH_0x3ea",
          "WH_0x3ec",
          "WH_0x3e9",
          "WH_0x3e9",
          "WH_0x3ea",
          "WH_0x3e9",
          "WH_0x3e9",
          "WH_0x3e9",
          "WH_0x3ea",
          "WH_0x3e9",
          "WH_0x3ec",
          "WH_0x3e9",
          "WH_0x3e9",
          "WH_0x3ea",
          "WH_0x3e9",
          "WH_0x3e9",
          "WH_0x3ec",
          "WH_0x3e9",
          "WH_0x3e9",
          "WH_0x3ec",
          "WH_0x3eb",
          "WH_0x3eb",
          "WH_0x3ea",
          "WH_0x3ea",
          "WH_0x3e9",
          "WH_0x3eb",
          "WH_0x3e9",
          "WH_0x3eb",
          "WH_0x3eb",
          "WH_0x3eb",
          "WH_0x3ea",
          "WH_0x3ea",
          "WH_0x3ec",
          "WH_0x3ea",
          "WH_0x3ea",
          "WH_0x3eb",
          "WH_0x3ea",
          "WH_0x3eb",
          "WH_0x3e9",
          "WH_0x3e9",
          "WH_0x3ea",
          "WH_0x3e9",
          "WH_0x3e9",
          "WH_0x3ec",
          "WH_0x3ea",
          "WH_0x3e9",
          "WH_0x3e9",
          "WH_0x3ec",
          "WH_0x3e9",
          "WH_0x3e9",
          "WH_0x3ea",
          "WH_0x3e9",
          "WH_0x3e9",
          "WH_0x3ea",
          "WH_0x3e9",
          "WH_0x3ec",
          "WH_0x3ec",
          "WH_0x3eb",
          "WH_0x3e9",
          "WH_0x3e9",
          "WH_0x3eb",
          "WH_0x3ea",
          "WH_0x3ec",
          "WH_0x3e9",
          "WH_0x3e9",
          "WH_0x3eb",
          "WH_0x3ec",
          "WH_0x3ea",
          "WH_0x3ea",
          "WH_0x3ea",
          "WH_0x3eb",
          "WH_0x3eb",
          "WH_0x3ea",
          "WH_0x3e9",
          "WH_0x3ea",
          "WH_0x3eb",
          "WH_0x3ea",
          "WH_0x3eb",
          "WH_0x3ea",
          "WH_0x3e9",
          "WH_0x3eb",
          "WH_0x3e9",
          "WH_0x3ea",
          "WH_0x3ea",
          "WH_0x3ea",
          "WH_0x3e9",
          "WH_0x3ec",
          "WH_0x3ea",
          "WH_0x3e9",
          "WH_0x3ea",
          "WH_0x3eb",
          "WH_0x3ea",
          "WH_0x3e9",
          "WH_0x3e9",
          "WH_0x3eb",
          "WH_0x3ea",
          "WH_0x3ea",
          "WH_0x3ea",
          "WH_0x3ea",
          "WH_0x3e9",
          "WH_0x3ec",
          "WH_0x3e9",
          "WH_0x3eb",
          "WH_0x3ec",
          "WH_0x3ec",
          "WH_0x3ea",
          "WH_0x3ea",
          "WH_0x3ea",
          "WH_0x3e9",
          "WH_0x3e9",
          "WH_0x3ea",
          "WH_0x3ea",
          "WH_0x3e9",
          "WH_0x3e9",
          "WH_0x3ec",
          "WH_0x3ec",
          "WH_0x3ea",
          "WH_0x3e9",
          "WH_0x3ea",
          "WH_0x3ea",
          "WH_0x3ea",
          "WH_0x3e9",
          "WH_0x3ea",
          "WH_0x3e9",
          "WH_0x3eb",
          "WH_0x3eb",
          "WH_0x3ea",
          "WH_0x3ea",
          "WH_0x3e9",
          "WH_0x3e9",
          "WH_0x3eb",
          "WH_0x3ec",
          "WH_0x3eb",
          "WH_0x3e9",
          "WH_0x3ea",
          "WH_0x3ec",
          "WH_0x3ec",
          "WH_0x3ea",
          "WH_0x3ea",
          "WH_0x3ea",
          "WH_0x3ea",
          "WH_0x3e9",
          "WH_0x3e9",
          "WH_0x3ea",
          "WH_0x3ea",
          "WH_0x3eb",
          "WH_0x3ea",
          "WH_0x3e9",
          "WH_0x3ec",
          "WH_0x3eb",
          "WH_0x3ea",
          "WH_0x3eb",
          "WH_0x3ea",
          "WH_0x3e9",
          "WH_0x3ec",
          "WH_0x3ea",
          "WH_0x3e9",
          "WH_0x3ea",
          "WH_0x3ea",
          "WH_0x3ea",
          "WH_0x3e9",
          "WH_0x3ea",
          "WH_0x3e9",
          "WH_0x3e9",
          "WH_0x3ea",
          "WH_0x3ea",
          "WH_0x3e9",
          "WH_0x3eb",
          "WH_0x3ec",
          "WH_0x3eb",
          "WH_0x3ea",
          "WH_0x3ea",
          "WH_0x3e9",
          "WH_0x3ec",
          "WH_0x3ea",
          "WH_0x3eb",
          "WH_0x3e9",
          "WH_0x3e9",
          "WH_0x3e9",
          "WH_0x3ea",
          "WH_0x3ea",
          "WH_0x3ec",
          "WH_0x3e9",
          "WH_0x3ea",
          "WH_0x3ec",
          "WH_0x3e9",
          "WH_0x3e9",
          "WH_0x3eb",
          "WH_0x3eb",
          "WH_0x3ea",
          "WH_0x3ec",
          "WH_0x3eb",
          "WH_0x3e9",
          "WH_0x3ea",
          "WH_0x3e9",
          "WH_0x3ea",
          "WH_0x3ec",
          "WH_0x3e9",
          "WH_0x3ea",
          "WH_0x3ea",
          "WH_0x3ea",
          "WH_0x3ea",
          "WH_0x3ec",
          "WH_0x3e9",
          "WH_0x3ea",
          "WH_0x3e9",
          "WH_0x3e9",
          "WH_0x3e9"
         ]
        },
        {
         "histnorm": "probability density",
         "name": "production",
         "opacity": 0.4,
         "type": "histogram",
         "x": [
          "WH_0x3ea",
          "WH_0x3ea",
          "WH_0x3eb",
          "WH_0x3e9",
          "WH_0x3ea",
          "WH_0x3ea",
          "WH_0x3ec",
          "WH_0x3e9",
          "WH_0x3ea",
          "WH_0x3ea",
          "WH_0x3e9",
          "WH_0x3e9",
          "WH_0x3ea",
          "WH_0x3ea",
          "WH_0x3eb",
          "WH_0x3ea",
          "WH_0x3ec",
          "WH_0x3e9",
          "WH_0x3ec",
          "WH_0x3ec",
          "WH_0x3ec",
          "WH_0x3ea",
          "WH_0x3e9",
          "WH_0x3ea",
          "WH_0x3eb",
          "WH_0x3e9",
          "WH_0x3e9",
          "WH_0x3eb",
          "WH_0x3eb",
          "WH_0x3eb",
          "WH_0x3ea",
          "WH_0x3ea",
          "WH_0x3ec",
          "WH_0x3eb",
          "WH_0x3ea",
          "WH_0x3e9",
          "WH_0x3ec",
          "WH_0x3ea",
          "WH_0x3eb",
          "WH_0x3e9",
          "WH_0x3ec",
          "WH_0x3ea",
          "WH_0x3eb",
          "WH_0x3ec",
          "WH_0x3eb",
          "WH_0x3eb",
          "WH_0x3e9",
          "WH_0x3e9",
          "WH_0x3ec",
          "WH_0x3e9",
          "WH_0x3ec",
          "WH_0x3eb",
          "WH_0x3e9",
          "WH_0x3ec",
          "WH_0x3e9",
          "WH_0x3ec",
          "WH_0x3e9",
          "WH_0x3ec",
          "WH_0x3eb",
          "WH_0x3e9",
          "WH_0x3eb",
          "WH_0x3ec",
          "WH_0x3e9",
          "WH_0x3e9",
          "WH_0x3ec",
          "WH_0x3e9",
          "WH_0x3ec",
          "WH_0x3ea",
          "WH_0x3ea",
          "WH_0x3eb",
          "WH_0x3ea",
          "WH_0x3eb",
          "WH_0x3e9",
          "WH_0x3eb",
          "WH_0x3eb",
          "WH_0x3e9",
          "WH_0x3e9",
          "WH_0x3ec",
          "WH_0x3eb",
          "WH_0x3e9",
          "WH_0x3eb",
          "WH_0x3ec",
          "WH_0x3ea",
          "WH_0x3e9",
          "WH_0x3ea",
          "WH_0x3ec",
          "WH_0x3eb",
          "WH_0x3eb",
          "WH_0x3eb",
          "WH_0x3eb",
          "WH_0x3ec",
          "WH_0x3ec",
          "WH_0x3ea",
          "WH_0x3eb",
          "WH_0x3ec",
          "WH_0x3eb",
          "WH_0x3e9",
          "WH_0x3e9",
          "WH_0x3e9",
          "WH_0x3ec",
          "WH_0x3e9",
          "WH_0x3e9",
          "WH_0x3ec",
          "WH_0x3e9",
          "WH_0x3e9",
          "WH_0x3ea",
          "WH_0x3ec",
          "WH_0x3eb",
          "WH_0x3ea",
          "WH_0x3eb",
          "WH_0x3ea",
          "WH_0x3e9",
          "WH_0x3eb",
          "WH_0x3e9",
          "WH_0x3eb",
          "WH_0x3e9",
          "WH_0x3ea",
          "WH_0x3e9",
          "WH_0x3e9",
          "WH_0x3eb",
          "WH_0x3eb",
          "WH_0x3ec",
          "WH_0x3e9",
          "WH_0x3ec",
          "WH_0x3e9",
          "WH_0x3e9",
          "WH_0x3e9",
          "WH_0x3e9",
          "WH_0x3eb",
          "WH_0x3e9",
          "WH_0x3ec",
          "WH_0x3eb",
          "WH_0x3ec",
          "WH_0x3ec",
          "WH_0x3e9",
          "WH_0x3eb",
          "WH_0x3ec",
          "WH_0x3e9",
          "WH_0x3ea",
          "WH_0x3e9",
          "WH_0x3eb",
          "WH_0x3ec",
          "WH_0x3ea",
          "WH_0x3ea",
          "WH_0x3eb",
          "WH_0x3eb",
          "WH_0x3eb",
          "WH_0x3eb",
          "WH_0x3e9",
          "WH_0x3ea",
          "WH_0x3ea",
          "WH_0x3ea",
          "WH_0x3ea",
          "WH_0x3eb",
          "WH_0x3e9",
          "WH_0x3e9",
          "WH_0x3ec",
          "WH_0x3ea",
          "WH_0x3eb",
          "WH_0x3ea",
          "WH_0x3ec",
          "WH_0x3eb",
          "WH_0x3eb",
          "WH_0x3eb",
          "WH_0x3ea",
          "WH_0x3e9",
          "WH_0x3eb",
          "WH_0x3e9",
          "WH_0x3ea",
          "WH_0x3ea",
          "WH_0x3e9",
          "WH_0x3e9",
          "WH_0x3e9",
          "WH_0x3ea",
          "WH_0x3e9",
          "WH_0x3e9",
          "WH_0x3eb",
          "WH_0x3eb",
          "WH_0x3e9",
          "WH_0x3e9",
          "WH_0x3eb",
          "WH_0x3eb",
          "WH_0x3ea",
          "WH_0x3ec",
          "WH_0x3ea",
          "WH_0x3e9",
          "WH_0x3ec",
          "WH_0x3ea",
          "WH_0x3ec",
          "WH_0x3e9",
          "WH_0x3eb",
          "WH_0x3eb",
          "WH_0x3ea",
          "WH_0x3ea",
          "WH_0x3ea",
          "WH_0x3e9",
          "WH_0x3e9",
          "WH_0x3ea",
          "WH_0x3ec",
          "WH_0x3ec",
          "WH_0x3eb",
          "WH_0x3ea",
          "WH_0x3ec",
          "WH_0x3ec",
          "WH_0x3ec",
          "WH_0x3e9",
          "WH_0x3eb",
          "WH_0x3e9",
          "WH_0x3eb",
          "WH_0x3ea",
          "WH_0x3e9",
          "WH_0x3eb",
          "WH_0x3e9",
          "WH_0x3ea",
          "WH_0x3ec",
          "WH_0x3eb",
          "WH_0x3e9",
          "WH_0x3ec",
          "WH_0x3ec",
          "WH_0x3e9",
          "WH_0x3ec",
          "WH_0x3eb",
          "WH_0x3ea",
          "WH_0x3eb",
          "WH_0x3e9",
          "WH_0x3e9",
          "WH_0x3ea",
          "WH_0x3eb",
          "WH_0x3eb",
          "WH_0x3eb",
          "WH_0x3ec",
          "WH_0x3eb",
          "WH_0x3e9",
          "WH_0x3ea",
          "WH_0x3eb",
          "WH_0x3ec",
          "WH_0x3ea",
          "WH_0x3ec",
          "WH_0x3e9",
          "WH_0x3ea",
          "WH_0x3ea",
          "WH_0x3e9",
          "WH_0x3ec",
          "WH_0x3ea",
          "WH_0x3ec",
          "WH_0x3eb",
          "WH_0x3e9",
          "WH_0x3e9",
          "WH_0x3eb",
          "WH_0x3ec",
          "WH_0x3ea",
          "WH_0x3e9",
          "WH_0x3ea",
          "WH_0x3eb",
          "WH_0x3ec",
          "WH_0x3e9",
          "WH_0x3e9",
          "WH_0x3ec",
          "WH_0x3ea",
          "WH_0x3ea",
          "WH_0x3ea",
          "WH_0x3eb",
          "WH_0x3e9",
          "WH_0x3ec",
          "WH_0x3e9",
          "WH_0x3ec",
          "WH_0x3ea",
          "WH_0x3e9",
          "WH_0x3ea",
          "WH_0x3e9",
          "WH_0x3ec",
          "WH_0x3e9",
          "WH_0x3ea",
          "WH_0x3eb",
          "WH_0x3ec",
          "WH_0x3e9",
          "WH_0x3ea",
          "WH_0x3e9",
          "WH_0x3e9",
          "WH_0x3e9",
          "WH_0x3eb",
          "WH_0x3eb",
          "WH_0x3eb",
          "WH_0x3ea",
          "WH_0x3ec",
          "WH_0x3ec",
          "WH_0x3e9",
          "WH_0x3e9",
          "WH_0x3e9",
          "WH_0x3ea",
          "WH_0x3ea",
          "WH_0x3eb",
          "WH_0x3eb",
          "WH_0x3e9",
          "WH_0x3ec",
          "WH_0x3ea",
          "WH_0x3ec",
          "WH_0x3eb",
          "WH_0x3eb",
          "WH_0x3e9",
          "WH_0x3e9",
          "WH_0x3eb",
          "WH_0x3eb",
          "WH_0x3ec",
          "WH_0x3ec",
          "WH_0x3eb",
          "WH_0x3ec",
          "WH_0x3e9",
          "WH_0x3ea",
          "WH_0x3ec",
          "WH_0x3eb",
          "WH_0x3ec",
          "WH_0x3eb",
          "WH_0x3e9",
          "WH_0x3ec",
          "WH_0x3e9",
          "WH_0x3e9",
          "WH_0x3ec",
          "WH_0x3ec",
          "WH_0x3e9",
          "WH_0x3ea",
          "WH_0x3ec",
          "WH_0x3ec",
          "WH_0x3eb",
          "WH_0x3ea",
          "WH_0x3e9",
          "WH_0x3ec",
          "WH_0x3ec",
          "WH_0x3ec",
          "WH_0x3eb",
          "WH_0x3eb",
          "WH_0x3ec",
          "WH_0x3ea",
          "WH_0x3ec",
          "WH_0x3eb",
          "WH_0x3ea",
          "WH_0x3eb",
          "WH_0x3ec",
          "WH_0x3eb",
          "WH_0x3ec",
          "WH_0x3ea",
          "WH_0x3eb",
          "WH_0x3ec",
          "WH_0x3eb",
          "WH_0x3ea",
          "WH_0x3ec",
          "WH_0x3ec",
          "WH_0x3ec",
          "WH_0x3ea",
          "WH_0x3ec",
          "WH_0x3ea",
          "WH_0x3e9",
          "WH_0x3eb",
          "WH_0x3eb",
          "WH_0x3e9",
          "WH_0x3ea",
          "WH_0x3eb",
          "WH_0x3ec",
          "WH_0x3ea",
          "WH_0x3e9",
          "WH_0x3ec",
          "WH_0x3ec",
          "WH_0x3e9",
          "WH_0x3eb",
          "WH_0x3ea",
          "WH_0x3e9",
          "WH_0x3ec",
          "WH_0x3ea",
          "WH_0x3ea",
          "WH_0x3eb",
          "WH_0x3eb",
          "WH_0x3ea",
          "WH_0x3eb",
          "WH_0x3ea",
          "WH_0x3ec",
          "WH_0x3ec",
          "WH_0x3ec",
          "WH_0x3ea",
          "WH_0x3ea",
          "WH_0x3eb",
          "WH_0x3e9",
          "WH_0x3ea",
          "WH_0x3e9",
          "WH_0x3e9",
          "WH_0x3e9",
          "WH_0x3ec",
          "WH_0x3e9",
          "WH_0x3ec",
          "WH_0x3e9",
          "WH_0x3e9",
          "WH_0x3ea",
          "WH_0x3ea",
          "WH_0x3eb",
          "WH_0x3ea",
          "WH_0x3eb",
          "WH_0x3ea",
          "WH_0x3ea",
          "WH_0x3ea",
          "WH_0x3e9",
          "WH_0x3e9",
          "WH_0x3ec",
          "WH_0x3e9",
          "WH_0x3ec",
          "WH_0x3ec",
          "WH_0x3ec",
          "WH_0x3e9",
          "WH_0x3e9",
          "WH_0x3eb",
          "WH_0x3ec",
          "WH_0x3ec",
          "WH_0x3e9",
          "WH_0x3ea",
          "WH_0x3ea",
          "WH_0x3ea",
          "WH_0x3eb",
          "WH_0x3ea",
          "WH_0x3eb",
          "WH_0x3e9",
          "WH_0x3ec",
          "WH_0x3ea",
          "WH_0x3ea",
          "WH_0x3ec",
          "WH_0x3eb",
          "WH_0x3e9",
          "WH_0x3eb",
          "WH_0x3ea",
          "WH_0x3ec",
          "WH_0x3eb",
          "WH_0x3eb",
          "WH_0x3ea",
          "WH_0x3e9",
          "WH_0x3ec",
          "WH_0x3ea",
          "WH_0x3ec",
          "WH_0x3ec",
          "WH_0x3ec",
          "WH_0x3eb",
          "WH_0x3eb",
          "WH_0x3ec",
          "WH_0x3ec",
          "WH_0x3e9",
          "WH_0x3ec",
          "WH_0x3ec",
          "WH_0x3ec",
          "WH_0x3e9",
          "WH_0x3eb",
          "WH_0x3eb",
          "WH_0x3ec",
          "WH_0x3ec",
          "WH_0x3eb",
          "WH_0x3ea",
          "WH_0x3eb",
          "WH_0x3ea",
          "WH_0x3eb",
          "WH_0x3eb",
          "WH_0x3e9",
          "WH_0x3ea",
          "WH_0x3eb",
          "WH_0x3ec",
          "WH_0x3e9",
          "WH_0x3e9",
          "WH_0x3ea",
          "WH_0x3ea",
          "WH_0x3e9",
          "WH_0x3ea",
          "WH_0x3e9",
          "WH_0x3ea",
          "WH_0x3ea",
          "WH_0x3eb",
          "WH_0x3eb",
          "WH_0x3ea",
          "WH_0x3e9",
          "WH_0x3ec",
          "WH_0x3ec",
          "WH_0x3eb",
          "WH_0x3ea",
          "WH_0x3ec",
          "WH_0x3ec",
          "WH_0x3e9",
          "WH_0x3e9",
          "WH_0x3eb",
          "WH_0x3eb",
          "WH_0x3ec",
          "WH_0x3eb",
          "WH_0x3e9",
          "WH_0x3ec",
          "WH_0x3e9",
          "WH_0x3ea",
          "WH_0x3ec",
          "WH_0x3ea",
          "WH_0x3ea",
          "WH_0x3ea",
          "WH_0x3ec",
          "WH_0x3eb",
          "WH_0x3ec",
          "WH_0x3ec",
          "WH_0x3ea",
          "WH_0x3ea",
          "WH_0x3e9",
          "WH_0x3e9"
         ]
        }
       ],
       "layout": {
        "autosize": false,
        "barmode": "overlay",
        "height": 300,
        "template": {
         "data": {
          "bar": [
           {
            "error_x": {
             "color": "#2a3f5f"
            },
            "error_y": {
             "color": "#2a3f5f"
            },
            "marker": {
             "line": {
              "color": "#E5ECF6",
              "width": 0.5
             },
             "pattern": {
              "fillmode": "overlay",
              "size": 10,
              "solidity": 0.2
             }
            },
            "type": "bar"
           }
          ],
          "barpolar": [
           {
            "marker": {
             "line": {
              "color": "#E5ECF6",
              "width": 0.5
             },
             "pattern": {
              "fillmode": "overlay",
              "size": 10,
              "solidity": 0.2
             }
            },
            "type": "barpolar"
           }
          ],
          "carpet": [
           {
            "aaxis": {
             "endlinecolor": "#2a3f5f",
             "gridcolor": "white",
             "linecolor": "white",
             "minorgridcolor": "white",
             "startlinecolor": "#2a3f5f"
            },
            "baxis": {
             "endlinecolor": "#2a3f5f",
             "gridcolor": "white",
             "linecolor": "white",
             "minorgridcolor": "white",
             "startlinecolor": "#2a3f5f"
            },
            "type": "carpet"
           }
          ],
          "choropleth": [
           {
            "colorbar": {
             "outlinewidth": 0,
             "ticks": ""
            },
            "type": "choropleth"
           }
          ],
          "contour": [
           {
            "colorbar": {
             "outlinewidth": 0,
             "ticks": ""
            },
            "colorscale": [
             [
              0,
              "#0d0887"
             ],
             [
              0.1111111111111111,
              "#46039f"
             ],
             [
              0.2222222222222222,
              "#7201a8"
             ],
             [
              0.3333333333333333,
              "#9c179e"
             ],
             [
              0.4444444444444444,
              "#bd3786"
             ],
             [
              0.5555555555555556,
              "#d8576b"
             ],
             [
              0.6666666666666666,
              "#ed7953"
             ],
             [
              0.7777777777777778,
              "#fb9f3a"
             ],
             [
              0.8888888888888888,
              "#fdca26"
             ],
             [
              1,
              "#f0f921"
             ]
            ],
            "type": "contour"
           }
          ],
          "contourcarpet": [
           {
            "colorbar": {
             "outlinewidth": 0,
             "ticks": ""
            },
            "type": "contourcarpet"
           }
          ],
          "heatmap": [
           {
            "colorbar": {
             "outlinewidth": 0,
             "ticks": ""
            },
            "colorscale": [
             [
              0,
              "#0d0887"
             ],
             [
              0.1111111111111111,
              "#46039f"
             ],
             [
              0.2222222222222222,
              "#7201a8"
             ],
             [
              0.3333333333333333,
              "#9c179e"
             ],
             [
              0.4444444444444444,
              "#bd3786"
             ],
             [
              0.5555555555555556,
              "#d8576b"
             ],
             [
              0.6666666666666666,
              "#ed7953"
             ],
             [
              0.7777777777777778,
              "#fb9f3a"
             ],
             [
              0.8888888888888888,
              "#fdca26"
             ],
             [
              1,
              "#f0f921"
             ]
            ],
            "type": "heatmap"
           }
          ],
          "heatmapgl": [
           {
            "colorbar": {
             "outlinewidth": 0,
             "ticks": ""
            },
            "colorscale": [
             [
              0,
              "#0d0887"
             ],
             [
              0.1111111111111111,
              "#46039f"
             ],
             [
              0.2222222222222222,
              "#7201a8"
             ],
             [
              0.3333333333333333,
              "#9c179e"
             ],
             [
              0.4444444444444444,
              "#bd3786"
             ],
             [
              0.5555555555555556,
              "#d8576b"
             ],
             [
              0.6666666666666666,
              "#ed7953"
             ],
             [
              0.7777777777777778,
              "#fb9f3a"
             ],
             [
              0.8888888888888888,
              "#fdca26"
             ],
             [
              1,
              "#f0f921"
             ]
            ],
            "type": "heatmapgl"
           }
          ],
          "histogram": [
           {
            "marker": {
             "pattern": {
              "fillmode": "overlay",
              "size": 10,
              "solidity": 0.2
             }
            },
            "type": "histogram"
           }
          ],
          "histogram2d": [
           {
            "colorbar": {
             "outlinewidth": 0,
             "ticks": ""
            },
            "colorscale": [
             [
              0,
              "#0d0887"
             ],
             [
              0.1111111111111111,
              "#46039f"
             ],
             [
              0.2222222222222222,
              "#7201a8"
             ],
             [
              0.3333333333333333,
              "#9c179e"
             ],
             [
              0.4444444444444444,
              "#bd3786"
             ],
             [
              0.5555555555555556,
              "#d8576b"
             ],
             [
              0.6666666666666666,
              "#ed7953"
             ],
             [
              0.7777777777777778,
              "#fb9f3a"
             ],
             [
              0.8888888888888888,
              "#fdca26"
             ],
             [
              1,
              "#f0f921"
             ]
            ],
            "type": "histogram2d"
           }
          ],
          "histogram2dcontour": [
           {
            "colorbar": {
             "outlinewidth": 0,
             "ticks": ""
            },
            "colorscale": [
             [
              0,
              "#0d0887"
             ],
             [
              0.1111111111111111,
              "#46039f"
             ],
             [
              0.2222222222222222,
              "#7201a8"
             ],
             [
              0.3333333333333333,
              "#9c179e"
             ],
             [
              0.4444444444444444,
              "#bd3786"
             ],
             [
              0.5555555555555556,
              "#d8576b"
             ],
             [
              0.6666666666666666,
              "#ed7953"
             ],
             [
              0.7777777777777778,
              "#fb9f3a"
             ],
             [
              0.8888888888888888,
              "#fdca26"
             ],
             [
              1,
              "#f0f921"
             ]
            ],
            "type": "histogram2dcontour"
           }
          ],
          "mesh3d": [
           {
            "colorbar": {
             "outlinewidth": 0,
             "ticks": ""
            },
            "type": "mesh3d"
           }
          ],
          "parcoords": [
           {
            "line": {
             "colorbar": {
              "outlinewidth": 0,
              "ticks": ""
             }
            },
            "type": "parcoords"
           }
          ],
          "pie": [
           {
            "automargin": true,
            "type": "pie"
           }
          ],
          "scatter": [
           {
            "fillpattern": {
             "fillmode": "overlay",
             "size": 10,
             "solidity": 0.2
            },
            "type": "scatter"
           }
          ],
          "scatter3d": [
           {
            "line": {
             "colorbar": {
              "outlinewidth": 0,
              "ticks": ""
             }
            },
            "marker": {
             "colorbar": {
              "outlinewidth": 0,
              "ticks": ""
             }
            },
            "type": "scatter3d"
           }
          ],
          "scattercarpet": [
           {
            "marker": {
             "colorbar": {
              "outlinewidth": 0,
              "ticks": ""
             }
            },
            "type": "scattercarpet"
           }
          ],
          "scattergeo": [
           {
            "marker": {
             "colorbar": {
              "outlinewidth": 0,
              "ticks": ""
             }
            },
            "type": "scattergeo"
           }
          ],
          "scattergl": [
           {
            "marker": {
             "colorbar": {
              "outlinewidth": 0,
              "ticks": ""
             }
            },
            "type": "scattergl"
           }
          ],
          "scattermapbox": [
           {
            "marker": {
             "colorbar": {
              "outlinewidth": 0,
              "ticks": ""
             }
            },
            "type": "scattermapbox"
           }
          ],
          "scatterpolar": [
           {
            "marker": {
             "colorbar": {
              "outlinewidth": 0,
              "ticks": ""
             }
            },
            "type": "scatterpolar"
           }
          ],
          "scatterpolargl": [
           {
            "marker": {
             "colorbar": {
              "outlinewidth": 0,
              "ticks": ""
             }
            },
            "type": "scatterpolargl"
           }
          ],
          "scatterternary": [
           {
            "marker": {
             "colorbar": {
              "outlinewidth": 0,
              "ticks": ""
             }
            },
            "type": "scatterternary"
           }
          ],
          "surface": [
           {
            "colorbar": {
             "outlinewidth": 0,
             "ticks": ""
            },
            "colorscale": [
             [
              0,
              "#0d0887"
             ],
             [
              0.1111111111111111,
              "#46039f"
             ],
             [
              0.2222222222222222,
              "#7201a8"
             ],
             [
              0.3333333333333333,
              "#9c179e"
             ],
             [
              0.4444444444444444,
              "#bd3786"
             ],
             [
              0.5555555555555556,
              "#d8576b"
             ],
             [
              0.6666666666666666,
              "#ed7953"
             ],
             [
              0.7777777777777778,
              "#fb9f3a"
             ],
             [
              0.8888888888888888,
              "#fdca26"
             ],
             [
              1,
              "#f0f921"
             ]
            ],
            "type": "surface"
           }
          ],
          "table": [
           {
            "cells": {
             "fill": {
              "color": "#EBF0F8"
             },
             "line": {
              "color": "white"
             }
            },
            "header": {
             "fill": {
              "color": "#C8D4E3"
             },
             "line": {
              "color": "white"
             }
            },
            "type": "table"
           }
          ]
         },
         "layout": {
          "annotationdefaults": {
           "arrowcolor": "#2a3f5f",
           "arrowhead": 0,
           "arrowwidth": 1
          },
          "autotypenumbers": "strict",
          "coloraxis": {
           "colorbar": {
            "outlinewidth": 0,
            "ticks": ""
           }
          },
          "colorscale": {
           "diverging": [
            [
             0,
             "#8e0152"
            ],
            [
             0.1,
             "#c51b7d"
            ],
            [
             0.2,
             "#de77ae"
            ],
            [
             0.3,
             "#f1b6da"
            ],
            [
             0.4,
             "#fde0ef"
            ],
            [
             0.5,
             "#f7f7f7"
            ],
            [
             0.6,
             "#e6f5d0"
            ],
            [
             0.7,
             "#b8e186"
            ],
            [
             0.8,
             "#7fbc41"
            ],
            [
             0.9,
             "#4d9221"
            ],
            [
             1,
             "#276419"
            ]
           ],
           "sequential": [
            [
             0,
             "#0d0887"
            ],
            [
             0.1111111111111111,
             "#46039f"
            ],
            [
             0.2222222222222222,
             "#7201a8"
            ],
            [
             0.3333333333333333,
             "#9c179e"
            ],
            [
             0.4444444444444444,
             "#bd3786"
            ],
            [
             0.5555555555555556,
             "#d8576b"
            ],
            [
             0.6666666666666666,
             "#ed7953"
            ],
            [
             0.7777777777777778,
             "#fb9f3a"
            ],
            [
             0.8888888888888888,
             "#fdca26"
            ],
            [
             1,
             "#f0f921"
            ]
           ],
           "sequentialminus": [
            [
             0,
             "#0d0887"
            ],
            [
             0.1111111111111111,
             "#46039f"
            ],
            [
             0.2222222222222222,
             "#7201a8"
            ],
            [
             0.3333333333333333,
             "#9c179e"
            ],
            [
             0.4444444444444444,
             "#bd3786"
            ],
            [
             0.5555555555555556,
             "#d8576b"
            ],
            [
             0.6666666666666666,
             "#ed7953"
            ],
            [
             0.7777777777777778,
             "#fb9f3a"
            ],
            [
             0.8888888888888888,
             "#fdca26"
            ],
            [
             1,
             "#f0f921"
            ]
           ]
          },
          "colorway": [
           "#636efa",
           "#EF553B",
           "#00cc96",
           "#ab63fa",
           "#FFA15A",
           "#19d3f3",
           "#FF6692",
           "#B6E880",
           "#FF97FF",
           "#FECB52"
          ],
          "font": {
           "color": "#2a3f5f"
          },
          "geo": {
           "bgcolor": "white",
           "lakecolor": "white",
           "landcolor": "#E5ECF6",
           "showlakes": true,
           "showland": true,
           "subunitcolor": "white"
          },
          "hoverlabel": {
           "align": "left"
          },
          "hovermode": "closest",
          "mapbox": {
           "style": "light"
          },
          "paper_bgcolor": "white",
          "plot_bgcolor": "#E5ECF6",
          "polar": {
           "angularaxis": {
            "gridcolor": "white",
            "linecolor": "white",
            "ticks": ""
           },
           "bgcolor": "#E5ECF6",
           "radialaxis": {
            "gridcolor": "white",
            "linecolor": "white",
            "ticks": ""
           }
          },
          "scene": {
           "xaxis": {
            "backgroundcolor": "#E5ECF6",
            "gridcolor": "white",
            "gridwidth": 2,
            "linecolor": "white",
            "showbackground": true,
            "ticks": "",
            "zerolinecolor": "white"
           },
           "yaxis": {
            "backgroundcolor": "#E5ECF6",
            "gridcolor": "white",
            "gridwidth": 2,
            "linecolor": "white",
            "showbackground": true,
            "ticks": "",
            "zerolinecolor": "white"
           },
           "zaxis": {
            "backgroundcolor": "#E5ECF6",
            "gridcolor": "white",
            "gridwidth": 2,
            "linecolor": "white",
            "showbackground": true,
            "ticks": "",
            "zerolinecolor": "white"
           }
          },
          "shapedefaults": {
           "line": {
            "color": "#2a3f5f"
           }
          },
          "ternary": {
           "aaxis": {
            "gridcolor": "white",
            "linecolor": "white",
            "ticks": ""
           },
           "baxis": {
            "gridcolor": "white",
            "linecolor": "white",
            "ticks": ""
           },
           "bgcolor": "#E5ECF6",
           "caxis": {
            "gridcolor": "white",
            "linecolor": "white",
            "ticks": ""
           }
          },
          "title": {
           "x": 0.05
          },
          "xaxis": {
           "automargin": true,
           "gridcolor": "white",
           "linecolor": "white",
           "ticks": "",
           "title": {
            "standoff": 15
           },
           "zerolinecolor": "white",
           "zerolinewidth": 2
          },
          "yaxis": {
           "automargin": true,
           "gridcolor": "white",
           "linecolor": "white",
           "ticks": "",
           "title": {
            "standoff": 15
           },
           "zerolinecolor": "white",
           "zerolinewidth": 2
          }
         }
        },
        "title": {
         "text": "warehouse_ID Distribution"
        },
        "width": 700,
        "xaxis": {
         "title": {
          "text": "warehouse_ID"
         }
        },
        "yaxis": {
         "title": {
          "text": "probability density"
         }
        }
       }
      },
      "text/html": [
       "<div>                            <div id=\"27d335b2-40e0-4dbd-9a52-385d2fee99ca\" class=\"plotly-graph-div\" style=\"height:300px; width:700px;\"></div>            <script type=\"text/javascript\">                require([\"plotly\"], function(Plotly) {                    window.PLOTLYENV=window.PLOTLYENV || {};                                    if (document.getElementById(\"27d335b2-40e0-4dbd-9a52-385d2fee99ca\")) {                    Plotly.newPlot(                        \"27d335b2-40e0-4dbd-9a52-385d2fee99ca\",                        [{\"histnorm\":\"probability density\",\"name\":\"training\",\"x\":[\"WH_0x3e9\",\"WH_0x3eb\",\"WH_0x3e9\",\"WH_0x3ea\",\"WH_0x3e9\",\"WH_0x3ea\",\"WH_0x3eb\",\"WH_0x3e9\",\"WH_0x3ea\",\"WH_0x3ea\",\"WH_0x3e9\",\"WH_0x3eb\",\"WH_0x3e9\",\"WH_0x3e9\",\"WH_0x3e9\",\"WH_0x3e9\",\"WH_0x3e9\",\"WH_0x3eb\",\"WH_0x3eb\",\"WH_0x3ea\",\"WH_0x3e9\",\"WH_0x3eb\",\"WH_0x3e9\",\"WH_0x3eb\",\"WH_0x3ec\",\"WH_0x3ea\",\"WH_0x3eb\",\"WH_0x3ea\",\"WH_0x3e9\",\"WH_0x3ea\",\"WH_0x3ec\",\"WH_0x3eb\",\"WH_0x3ec\",\"WH_0x3ea\",\"WH_0x3ec\",\"WH_0x3e9\",\"WH_0x3e9\",\"WH_0x3eb\",\"WH_0x3eb\",\"WH_0x3eb\",\"WH_0x3ea\",\"WH_0x3eb\",\"WH_0x3e9\",\"WH_0x3e9\",\"WH_0x3ea\",\"WH_0x3e9\",\"WH_0x3ea\",\"WH_0x3ec\",\"WH_0x3ea\",\"WH_0x3ea\",\"WH_0x3e9\",\"WH_0x3ea\",\"WH_0x3e9\",\"WH_0x3e9\",\"WH_0x3e9\",\"WH_0x3eb\",\"WH_0x3e9\",\"WH_0x3ea\",\"WH_0x3ec\",\"WH_0x3ec\",\"WH_0x3ea\",\"WH_0x3ec\",\"WH_0x3e9\",\"WH_0x3eb\",\"WH_0x3eb\",\"WH_0x3e9\",\"WH_0x3ea\",\"WH_0x3e9\",\"WH_0x3ec\",\"WH_0x3e9\",\"WH_0x3ea\",\"WH_0x3e9\",\"WH_0x3eb\",\"WH_0x3eb\",\"WH_0x3e9\",\"WH_0x3ea\",\"WH_0x3ec\",\"WH_0x3ea\",\"WH_0x3ea\",\"WH_0x3ec\",\"WH_0x3e9\",\"WH_0x3ec\",\"WH_0x3ea\",\"WH_0x3eb\",\"WH_0x3ea\",\"WH_0x3e9\",\"WH_0x3e9\",\"WH_0x3eb\",\"WH_0x3ea\",\"WH_0x3eb\",\"WH_0x3eb\",\"WH_0x3e9\",\"WH_0x3e9\",\"WH_0x3e9\",\"WH_0x3ea\",\"WH_0x3ea\",\"WH_0x3ec\",\"WH_0x3eb\",\"WH_0x3e9\",\"WH_0x3eb\",\"WH_0x3eb\",\"WH_0x3ec\",\"WH_0x3ea\",\"WH_0x3ea\",\"WH_0x3ea\",\"WH_0x3e9\",\"WH_0x3ea\",\"WH_0x3ea\",\"WH_0x3eb\",\"WH_0x3ea\",\"WH_0x3e9\",\"WH_0x3ea\",\"WH_0x3ea\",\"WH_0x3ec\",\"WH_0x3ea\",\"WH_0x3e9\",\"WH_0x3e9\",\"WH_0x3ea\",\"WH_0x3ea\",\"WH_0x3e9\",\"WH_0x3ea\",\"WH_0x3eb\",\"WH_0x3e9\",\"WH_0x3ea\",\"WH_0x3e9\",\"WH_0x3e9\",\"WH_0x3eb\",\"WH_0x3e9\",\"WH_0x3eb\",\"WH_0x3eb\",\"WH_0x3ea\",\"WH_0x3ea\",\"WH_0x3ec\",\"WH_0x3eb\",\"WH_0x3ea\",\"WH_0x3eb\",\"WH_0x3ea\",\"WH_0x3e9\",\"WH_0x3ea\",\"WH_0x3ea\",\"WH_0x3ea\",\"WH_0x3e9\",\"WH_0x3e9\",\"WH_0x3eb\",\"WH_0x3e9\",\"WH_0x3e9\",\"WH_0x3ea\",\"WH_0x3ea\",\"WH_0x3e9\",\"WH_0x3ea\",\"WH_0x3e9\",\"WH_0x3ea\",\"WH_0x3eb\",\"WH_0x3e9\",\"WH_0x3e9\",\"WH_0x3e9\",\"WH_0x3eb\",\"WH_0x3ea\",\"WH_0x3eb\",\"WH_0x3ea\",\"WH_0x3eb\",\"WH_0x3e9\",\"WH_0x3ec\",\"WH_0x3ea\",\"WH_0x3ea\",\"WH_0x3eb\",\"WH_0x3ea\",\"WH_0x3ea\",\"WH_0x3e9\",\"WH_0x3ea\",\"WH_0x3e9\",\"WH_0x3ea\",\"WH_0x3ea\",\"WH_0x3eb\",\"WH_0x3e9\",\"WH_0x3ea\",\"WH_0x3e9\",\"WH_0x3e9\",\"WH_0x3eb\",\"WH_0x3e9\",\"WH_0x3eb\",\"WH_0x3e9\",\"WH_0x3e9\",\"WH_0x3eb\",\"WH_0x3eb\",\"WH_0x3eb\",\"WH_0x3ea\",\"WH_0x3e9\",\"WH_0x3e9\",\"WH_0x3ea\",\"WH_0x3e9\",\"WH_0x3e9\",\"WH_0x3ea\",\"WH_0x3e9\",\"WH_0x3ea\",\"WH_0x3eb\",\"WH_0x3ec\",\"WH_0x3ea\",\"WH_0x3ea\",\"WH_0x3eb\",\"WH_0x3eb\",\"WH_0x3e9\",\"WH_0x3eb\",\"WH_0x3eb\",\"WH_0x3eb\",\"WH_0x3eb\",\"WH_0x3ea\",\"WH_0x3ea\",\"WH_0x3e9\",\"WH_0x3eb\",\"WH_0x3ea\",\"WH_0x3ec\",\"WH_0x3ea\",\"WH_0x3ec\",\"WH_0x3e9\",\"WH_0x3ea\",\"WH_0x3ea\",\"WH_0x3ea\",\"WH_0x3ea\",\"WH_0x3ea\",\"WH_0x3ec\",\"WH_0x3e9\",\"WH_0x3e9\",\"WH_0x3e9\",\"WH_0x3ec\",\"WH_0x3eb\",\"WH_0x3ec\",\"WH_0x3e9\",\"WH_0x3e9\",\"WH_0x3e9\",\"WH_0x3ea\",\"WH_0x3ea\",\"WH_0x3e9\",\"WH_0x3ea\",\"WH_0x3e9\",\"WH_0x3eb\",\"WH_0x3ea\",\"WH_0x3e9\",\"WH_0x3eb\",\"WH_0x3ea\",\"WH_0x3e9\",\"WH_0x3eb\",\"WH_0x3ea\",\"WH_0x3ec\",\"WH_0x3e9\",\"WH_0x3eb\",\"WH_0x3eb\",\"WH_0x3e9\",\"WH_0x3ea\",\"WH_0x3ec\",\"WH_0x3e9\",\"WH_0x3eb\",\"WH_0x3ea\",\"WH_0x3eb\",\"WH_0x3e9\",\"WH_0x3ec\",\"WH_0x3e9\",\"WH_0x3eb\",\"WH_0x3ec\",\"WH_0x3eb\",\"WH_0x3ea\",\"WH_0x3ea\",\"WH_0x3ec\",\"WH_0x3ea\",\"WH_0x3e9\",\"WH_0x3ea\",\"WH_0x3ec\",\"WH_0x3ec\",\"WH_0x3ea\",\"WH_0x3eb\",\"WH_0x3e9\",\"WH_0x3e9\",\"WH_0x3e9\",\"WH_0x3ea\",\"WH_0x3e9\",\"WH_0x3ec\",\"WH_0x3eb\",\"WH_0x3ea\",\"WH_0x3ea\",\"WH_0x3ea\",\"WH_0x3ea\",\"WH_0x3eb\",\"WH_0x3eb\",\"WH_0x3e9\",\"WH_0x3e9\",\"WH_0x3e9\",\"WH_0x3ec\",\"WH_0x3ec\",\"WH_0x3ec\",\"WH_0x3e9\",\"WH_0x3eb\",\"WH_0x3ea\",\"WH_0x3ea\",\"WH_0x3ec\",\"WH_0x3e9\",\"WH_0x3e9\",\"WH_0x3ea\",\"WH_0x3e9\",\"WH_0x3e9\",\"WH_0x3e9\",\"WH_0x3ea\",\"WH_0x3e9\",\"WH_0x3ec\",\"WH_0x3e9\",\"WH_0x3e9\",\"WH_0x3ea\",\"WH_0x3e9\",\"WH_0x3e9\",\"WH_0x3ec\",\"WH_0x3e9\",\"WH_0x3e9\",\"WH_0x3ec\",\"WH_0x3eb\",\"WH_0x3eb\",\"WH_0x3ea\",\"WH_0x3ea\",\"WH_0x3e9\",\"WH_0x3eb\",\"WH_0x3e9\",\"WH_0x3eb\",\"WH_0x3eb\",\"WH_0x3eb\",\"WH_0x3ea\",\"WH_0x3ea\",\"WH_0x3ec\",\"WH_0x3ea\",\"WH_0x3ea\",\"WH_0x3eb\",\"WH_0x3ea\",\"WH_0x3eb\",\"WH_0x3e9\",\"WH_0x3e9\",\"WH_0x3ea\",\"WH_0x3e9\",\"WH_0x3e9\",\"WH_0x3ec\",\"WH_0x3ea\",\"WH_0x3e9\",\"WH_0x3e9\",\"WH_0x3ec\",\"WH_0x3e9\",\"WH_0x3e9\",\"WH_0x3ea\",\"WH_0x3e9\",\"WH_0x3e9\",\"WH_0x3ea\",\"WH_0x3e9\",\"WH_0x3ec\",\"WH_0x3ec\",\"WH_0x3eb\",\"WH_0x3e9\",\"WH_0x3e9\",\"WH_0x3eb\",\"WH_0x3ea\",\"WH_0x3ec\",\"WH_0x3e9\",\"WH_0x3e9\",\"WH_0x3eb\",\"WH_0x3ec\",\"WH_0x3ea\",\"WH_0x3ea\",\"WH_0x3ea\",\"WH_0x3eb\",\"WH_0x3eb\",\"WH_0x3ea\",\"WH_0x3e9\",\"WH_0x3ea\",\"WH_0x3eb\",\"WH_0x3ea\",\"WH_0x3eb\",\"WH_0x3ea\",\"WH_0x3e9\",\"WH_0x3eb\",\"WH_0x3e9\",\"WH_0x3ea\",\"WH_0x3ea\",\"WH_0x3ea\",\"WH_0x3e9\",\"WH_0x3ec\",\"WH_0x3ea\",\"WH_0x3e9\",\"WH_0x3ea\",\"WH_0x3eb\",\"WH_0x3ea\",\"WH_0x3e9\",\"WH_0x3e9\",\"WH_0x3eb\",\"WH_0x3ea\",\"WH_0x3ea\",\"WH_0x3ea\",\"WH_0x3ea\",\"WH_0x3e9\",\"WH_0x3ec\",\"WH_0x3e9\",\"WH_0x3eb\",\"WH_0x3ec\",\"WH_0x3ec\",\"WH_0x3ea\",\"WH_0x3ea\",\"WH_0x3ea\",\"WH_0x3e9\",\"WH_0x3e9\",\"WH_0x3ea\",\"WH_0x3ea\",\"WH_0x3e9\",\"WH_0x3e9\",\"WH_0x3ec\",\"WH_0x3ec\",\"WH_0x3ea\",\"WH_0x3e9\",\"WH_0x3ea\",\"WH_0x3ea\",\"WH_0x3ea\",\"WH_0x3e9\",\"WH_0x3ea\",\"WH_0x3e9\",\"WH_0x3eb\",\"WH_0x3eb\",\"WH_0x3ea\",\"WH_0x3ea\",\"WH_0x3e9\",\"WH_0x3e9\",\"WH_0x3eb\",\"WH_0x3ec\",\"WH_0x3eb\",\"WH_0x3e9\",\"WH_0x3ea\",\"WH_0x3ec\",\"WH_0x3ec\",\"WH_0x3ea\",\"WH_0x3ea\",\"WH_0x3ea\",\"WH_0x3ea\",\"WH_0x3e9\",\"WH_0x3e9\",\"WH_0x3ea\",\"WH_0x3ea\",\"WH_0x3eb\",\"WH_0x3ea\",\"WH_0x3e9\",\"WH_0x3ec\",\"WH_0x3eb\",\"WH_0x3ea\",\"WH_0x3eb\",\"WH_0x3ea\",\"WH_0x3e9\",\"WH_0x3ec\",\"WH_0x3ea\",\"WH_0x3e9\",\"WH_0x3ea\",\"WH_0x3ea\",\"WH_0x3ea\",\"WH_0x3e9\",\"WH_0x3ea\",\"WH_0x3e9\",\"WH_0x3e9\",\"WH_0x3ea\",\"WH_0x3ea\",\"WH_0x3e9\",\"WH_0x3eb\",\"WH_0x3ec\",\"WH_0x3eb\",\"WH_0x3ea\",\"WH_0x3ea\",\"WH_0x3e9\",\"WH_0x3ec\",\"WH_0x3ea\",\"WH_0x3eb\",\"WH_0x3e9\",\"WH_0x3e9\",\"WH_0x3e9\",\"WH_0x3ea\",\"WH_0x3ea\",\"WH_0x3ec\",\"WH_0x3e9\",\"WH_0x3ea\",\"WH_0x3ec\",\"WH_0x3e9\",\"WH_0x3e9\",\"WH_0x3eb\",\"WH_0x3eb\",\"WH_0x3ea\",\"WH_0x3ec\",\"WH_0x3eb\",\"WH_0x3e9\",\"WH_0x3ea\",\"WH_0x3e9\",\"WH_0x3ea\",\"WH_0x3ec\",\"WH_0x3e9\",\"WH_0x3ea\",\"WH_0x3ea\",\"WH_0x3ea\",\"WH_0x3ea\",\"WH_0x3ec\",\"WH_0x3e9\",\"WH_0x3ea\",\"WH_0x3e9\",\"WH_0x3e9\",\"WH_0x3e9\"],\"type\":\"histogram\",\"opacity\":0.4},{\"histnorm\":\"probability density\",\"name\":\"production\",\"x\":[\"WH_0x3ea\",\"WH_0x3ea\",\"WH_0x3eb\",\"WH_0x3e9\",\"WH_0x3ea\",\"WH_0x3ea\",\"WH_0x3ec\",\"WH_0x3e9\",\"WH_0x3ea\",\"WH_0x3ea\",\"WH_0x3e9\",\"WH_0x3e9\",\"WH_0x3ea\",\"WH_0x3ea\",\"WH_0x3eb\",\"WH_0x3ea\",\"WH_0x3ec\",\"WH_0x3e9\",\"WH_0x3ec\",\"WH_0x3ec\",\"WH_0x3ec\",\"WH_0x3ea\",\"WH_0x3e9\",\"WH_0x3ea\",\"WH_0x3eb\",\"WH_0x3e9\",\"WH_0x3e9\",\"WH_0x3eb\",\"WH_0x3eb\",\"WH_0x3eb\",\"WH_0x3ea\",\"WH_0x3ea\",\"WH_0x3ec\",\"WH_0x3eb\",\"WH_0x3ea\",\"WH_0x3e9\",\"WH_0x3ec\",\"WH_0x3ea\",\"WH_0x3eb\",\"WH_0x3e9\",\"WH_0x3ec\",\"WH_0x3ea\",\"WH_0x3eb\",\"WH_0x3ec\",\"WH_0x3eb\",\"WH_0x3eb\",\"WH_0x3e9\",\"WH_0x3e9\",\"WH_0x3ec\",\"WH_0x3e9\",\"WH_0x3ec\",\"WH_0x3eb\",\"WH_0x3e9\",\"WH_0x3ec\",\"WH_0x3e9\",\"WH_0x3ec\",\"WH_0x3e9\",\"WH_0x3ec\",\"WH_0x3eb\",\"WH_0x3e9\",\"WH_0x3eb\",\"WH_0x3ec\",\"WH_0x3e9\",\"WH_0x3e9\",\"WH_0x3ec\",\"WH_0x3e9\",\"WH_0x3ec\",\"WH_0x3ea\",\"WH_0x3ea\",\"WH_0x3eb\",\"WH_0x3ea\",\"WH_0x3eb\",\"WH_0x3e9\",\"WH_0x3eb\",\"WH_0x3eb\",\"WH_0x3e9\",\"WH_0x3e9\",\"WH_0x3ec\",\"WH_0x3eb\",\"WH_0x3e9\",\"WH_0x3eb\",\"WH_0x3ec\",\"WH_0x3ea\",\"WH_0x3e9\",\"WH_0x3ea\",\"WH_0x3ec\",\"WH_0x3eb\",\"WH_0x3eb\",\"WH_0x3eb\",\"WH_0x3eb\",\"WH_0x3ec\",\"WH_0x3ec\",\"WH_0x3ea\",\"WH_0x3eb\",\"WH_0x3ec\",\"WH_0x3eb\",\"WH_0x3e9\",\"WH_0x3e9\",\"WH_0x3e9\",\"WH_0x3ec\",\"WH_0x3e9\",\"WH_0x3e9\",\"WH_0x3ec\",\"WH_0x3e9\",\"WH_0x3e9\",\"WH_0x3ea\",\"WH_0x3ec\",\"WH_0x3eb\",\"WH_0x3ea\",\"WH_0x3eb\",\"WH_0x3ea\",\"WH_0x3e9\",\"WH_0x3eb\",\"WH_0x3e9\",\"WH_0x3eb\",\"WH_0x3e9\",\"WH_0x3ea\",\"WH_0x3e9\",\"WH_0x3e9\",\"WH_0x3eb\",\"WH_0x3eb\",\"WH_0x3ec\",\"WH_0x3e9\",\"WH_0x3ec\",\"WH_0x3e9\",\"WH_0x3e9\",\"WH_0x3e9\",\"WH_0x3e9\",\"WH_0x3eb\",\"WH_0x3e9\",\"WH_0x3ec\",\"WH_0x3eb\",\"WH_0x3ec\",\"WH_0x3ec\",\"WH_0x3e9\",\"WH_0x3eb\",\"WH_0x3ec\",\"WH_0x3e9\",\"WH_0x3ea\",\"WH_0x3e9\",\"WH_0x3eb\",\"WH_0x3ec\",\"WH_0x3ea\",\"WH_0x3ea\",\"WH_0x3eb\",\"WH_0x3eb\",\"WH_0x3eb\",\"WH_0x3eb\",\"WH_0x3e9\",\"WH_0x3ea\",\"WH_0x3ea\",\"WH_0x3ea\",\"WH_0x3ea\",\"WH_0x3eb\",\"WH_0x3e9\",\"WH_0x3e9\",\"WH_0x3ec\",\"WH_0x3ea\",\"WH_0x3eb\",\"WH_0x3ea\",\"WH_0x3ec\",\"WH_0x3eb\",\"WH_0x3eb\",\"WH_0x3eb\",\"WH_0x3ea\",\"WH_0x3e9\",\"WH_0x3eb\",\"WH_0x3e9\",\"WH_0x3ea\",\"WH_0x3ea\",\"WH_0x3e9\",\"WH_0x3e9\",\"WH_0x3e9\",\"WH_0x3ea\",\"WH_0x3e9\",\"WH_0x3e9\",\"WH_0x3eb\",\"WH_0x3eb\",\"WH_0x3e9\",\"WH_0x3e9\",\"WH_0x3eb\",\"WH_0x3eb\",\"WH_0x3ea\",\"WH_0x3ec\",\"WH_0x3ea\",\"WH_0x3e9\",\"WH_0x3ec\",\"WH_0x3ea\",\"WH_0x3ec\",\"WH_0x3e9\",\"WH_0x3eb\",\"WH_0x3eb\",\"WH_0x3ea\",\"WH_0x3ea\",\"WH_0x3ea\",\"WH_0x3e9\",\"WH_0x3e9\",\"WH_0x3ea\",\"WH_0x3ec\",\"WH_0x3ec\",\"WH_0x3eb\",\"WH_0x3ea\",\"WH_0x3ec\",\"WH_0x3ec\",\"WH_0x3ec\",\"WH_0x3e9\",\"WH_0x3eb\",\"WH_0x3e9\",\"WH_0x3eb\",\"WH_0x3ea\",\"WH_0x3e9\",\"WH_0x3eb\",\"WH_0x3e9\",\"WH_0x3ea\",\"WH_0x3ec\",\"WH_0x3eb\",\"WH_0x3e9\",\"WH_0x3ec\",\"WH_0x3ec\",\"WH_0x3e9\",\"WH_0x3ec\",\"WH_0x3eb\",\"WH_0x3ea\",\"WH_0x3eb\",\"WH_0x3e9\",\"WH_0x3e9\",\"WH_0x3ea\",\"WH_0x3eb\",\"WH_0x3eb\",\"WH_0x3eb\",\"WH_0x3ec\",\"WH_0x3eb\",\"WH_0x3e9\",\"WH_0x3ea\",\"WH_0x3eb\",\"WH_0x3ec\",\"WH_0x3ea\",\"WH_0x3ec\",\"WH_0x3e9\",\"WH_0x3ea\",\"WH_0x3ea\",\"WH_0x3e9\",\"WH_0x3ec\",\"WH_0x3ea\",\"WH_0x3ec\",\"WH_0x3eb\",\"WH_0x3e9\",\"WH_0x3e9\",\"WH_0x3eb\",\"WH_0x3ec\",\"WH_0x3ea\",\"WH_0x3e9\",\"WH_0x3ea\",\"WH_0x3eb\",\"WH_0x3ec\",\"WH_0x3e9\",\"WH_0x3e9\",\"WH_0x3ec\",\"WH_0x3ea\",\"WH_0x3ea\",\"WH_0x3ea\",\"WH_0x3eb\",\"WH_0x3e9\",\"WH_0x3ec\",\"WH_0x3e9\",\"WH_0x3ec\",\"WH_0x3ea\",\"WH_0x3e9\",\"WH_0x3ea\",\"WH_0x3e9\",\"WH_0x3ec\",\"WH_0x3e9\",\"WH_0x3ea\",\"WH_0x3eb\",\"WH_0x3ec\",\"WH_0x3e9\",\"WH_0x3ea\",\"WH_0x3e9\",\"WH_0x3e9\",\"WH_0x3e9\",\"WH_0x3eb\",\"WH_0x3eb\",\"WH_0x3eb\",\"WH_0x3ea\",\"WH_0x3ec\",\"WH_0x3ec\",\"WH_0x3e9\",\"WH_0x3e9\",\"WH_0x3e9\",\"WH_0x3ea\",\"WH_0x3ea\",\"WH_0x3eb\",\"WH_0x3eb\",\"WH_0x3e9\",\"WH_0x3ec\",\"WH_0x3ea\",\"WH_0x3ec\",\"WH_0x3eb\",\"WH_0x3eb\",\"WH_0x3e9\",\"WH_0x3e9\",\"WH_0x3eb\",\"WH_0x3eb\",\"WH_0x3ec\",\"WH_0x3ec\",\"WH_0x3eb\",\"WH_0x3ec\",\"WH_0x3e9\",\"WH_0x3ea\",\"WH_0x3ec\",\"WH_0x3eb\",\"WH_0x3ec\",\"WH_0x3eb\",\"WH_0x3e9\",\"WH_0x3ec\",\"WH_0x3e9\",\"WH_0x3e9\",\"WH_0x3ec\",\"WH_0x3ec\",\"WH_0x3e9\",\"WH_0x3ea\",\"WH_0x3ec\",\"WH_0x3ec\",\"WH_0x3eb\",\"WH_0x3ea\",\"WH_0x3e9\",\"WH_0x3ec\",\"WH_0x3ec\",\"WH_0x3ec\",\"WH_0x3eb\",\"WH_0x3eb\",\"WH_0x3ec\",\"WH_0x3ea\",\"WH_0x3ec\",\"WH_0x3eb\",\"WH_0x3ea\",\"WH_0x3eb\",\"WH_0x3ec\",\"WH_0x3eb\",\"WH_0x3ec\",\"WH_0x3ea\",\"WH_0x3eb\",\"WH_0x3ec\",\"WH_0x3eb\",\"WH_0x3ea\",\"WH_0x3ec\",\"WH_0x3ec\",\"WH_0x3ec\",\"WH_0x3ea\",\"WH_0x3ec\",\"WH_0x3ea\",\"WH_0x3e9\",\"WH_0x3eb\",\"WH_0x3eb\",\"WH_0x3e9\",\"WH_0x3ea\",\"WH_0x3eb\",\"WH_0x3ec\",\"WH_0x3ea\",\"WH_0x3e9\",\"WH_0x3ec\",\"WH_0x3ec\",\"WH_0x3e9\",\"WH_0x3eb\",\"WH_0x3ea\",\"WH_0x3e9\",\"WH_0x3ec\",\"WH_0x3ea\",\"WH_0x3ea\",\"WH_0x3eb\",\"WH_0x3eb\",\"WH_0x3ea\",\"WH_0x3eb\",\"WH_0x3ea\",\"WH_0x3ec\",\"WH_0x3ec\",\"WH_0x3ec\",\"WH_0x3ea\",\"WH_0x3ea\",\"WH_0x3eb\",\"WH_0x3e9\",\"WH_0x3ea\",\"WH_0x3e9\",\"WH_0x3e9\",\"WH_0x3e9\",\"WH_0x3ec\",\"WH_0x3e9\",\"WH_0x3ec\",\"WH_0x3e9\",\"WH_0x3e9\",\"WH_0x3ea\",\"WH_0x3ea\",\"WH_0x3eb\",\"WH_0x3ea\",\"WH_0x3eb\",\"WH_0x3ea\",\"WH_0x3ea\",\"WH_0x3ea\",\"WH_0x3e9\",\"WH_0x3e9\",\"WH_0x3ec\",\"WH_0x3e9\",\"WH_0x3ec\",\"WH_0x3ec\",\"WH_0x3ec\",\"WH_0x3e9\",\"WH_0x3e9\",\"WH_0x3eb\",\"WH_0x3ec\",\"WH_0x3ec\",\"WH_0x3e9\",\"WH_0x3ea\",\"WH_0x3ea\",\"WH_0x3ea\",\"WH_0x3eb\",\"WH_0x3ea\",\"WH_0x3eb\",\"WH_0x3e9\",\"WH_0x3ec\",\"WH_0x3ea\",\"WH_0x3ea\",\"WH_0x3ec\",\"WH_0x3eb\",\"WH_0x3e9\",\"WH_0x3eb\",\"WH_0x3ea\",\"WH_0x3ec\",\"WH_0x3eb\",\"WH_0x3eb\",\"WH_0x3ea\",\"WH_0x3e9\",\"WH_0x3ec\",\"WH_0x3ea\",\"WH_0x3ec\",\"WH_0x3ec\",\"WH_0x3ec\",\"WH_0x3eb\",\"WH_0x3eb\",\"WH_0x3ec\",\"WH_0x3ec\",\"WH_0x3e9\",\"WH_0x3ec\",\"WH_0x3ec\",\"WH_0x3ec\",\"WH_0x3e9\",\"WH_0x3eb\",\"WH_0x3eb\",\"WH_0x3ec\",\"WH_0x3ec\",\"WH_0x3eb\",\"WH_0x3ea\",\"WH_0x3eb\",\"WH_0x3ea\",\"WH_0x3eb\",\"WH_0x3eb\",\"WH_0x3e9\",\"WH_0x3ea\",\"WH_0x3eb\",\"WH_0x3ec\",\"WH_0x3e9\",\"WH_0x3e9\",\"WH_0x3ea\",\"WH_0x3ea\",\"WH_0x3e9\",\"WH_0x3ea\",\"WH_0x3e9\",\"WH_0x3ea\",\"WH_0x3ea\",\"WH_0x3eb\",\"WH_0x3eb\",\"WH_0x3ea\",\"WH_0x3e9\",\"WH_0x3ec\",\"WH_0x3ec\",\"WH_0x3eb\",\"WH_0x3ea\",\"WH_0x3ec\",\"WH_0x3ec\",\"WH_0x3e9\",\"WH_0x3e9\",\"WH_0x3eb\",\"WH_0x3eb\",\"WH_0x3ec\",\"WH_0x3eb\",\"WH_0x3e9\",\"WH_0x3ec\",\"WH_0x3e9\",\"WH_0x3ea\",\"WH_0x3ec\",\"WH_0x3ea\",\"WH_0x3ea\",\"WH_0x3ea\",\"WH_0x3ec\",\"WH_0x3eb\",\"WH_0x3ec\",\"WH_0x3ec\",\"WH_0x3ea\",\"WH_0x3ea\",\"WH_0x3e9\",\"WH_0x3e9\"],\"type\":\"histogram\",\"opacity\":0.4}],                        {\"template\":{\"data\":{\"histogram2dcontour\":[{\"type\":\"histogram2dcontour\",\"colorbar\":{\"outlinewidth\":0,\"ticks\":\"\"},\"colorscale\":[[0.0,\"#0d0887\"],[0.1111111111111111,\"#46039f\"],[0.2222222222222222,\"#7201a8\"],[0.3333333333333333,\"#9c179e\"],[0.4444444444444444,\"#bd3786\"],[0.5555555555555556,\"#d8576b\"],[0.6666666666666666,\"#ed7953\"],[0.7777777777777778,\"#fb9f3a\"],[0.8888888888888888,\"#fdca26\"],[1.0,\"#f0f921\"]]}],\"choropleth\":[{\"type\":\"choropleth\",\"colorbar\":{\"outlinewidth\":0,\"ticks\":\"\"}}],\"histogram2d\":[{\"type\":\"histogram2d\",\"colorbar\":{\"outlinewidth\":0,\"ticks\":\"\"},\"colorscale\":[[0.0,\"#0d0887\"],[0.1111111111111111,\"#46039f\"],[0.2222222222222222,\"#7201a8\"],[0.3333333333333333,\"#9c179e\"],[0.4444444444444444,\"#bd3786\"],[0.5555555555555556,\"#d8576b\"],[0.6666666666666666,\"#ed7953\"],[0.7777777777777778,\"#fb9f3a\"],[0.8888888888888888,\"#fdca26\"],[1.0,\"#f0f921\"]]}],\"heatmap\":[{\"type\":\"heatmap\",\"colorbar\":{\"outlinewidth\":0,\"ticks\":\"\"},\"colorscale\":[[0.0,\"#0d0887\"],[0.1111111111111111,\"#46039f\"],[0.2222222222222222,\"#7201a8\"],[0.3333333333333333,\"#9c179e\"],[0.4444444444444444,\"#bd3786\"],[0.5555555555555556,\"#d8576b\"],[0.6666666666666666,\"#ed7953\"],[0.7777777777777778,\"#fb9f3a\"],[0.8888888888888888,\"#fdca26\"],[1.0,\"#f0f921\"]]}],\"heatmapgl\":[{\"type\":\"heatmapgl\",\"colorbar\":{\"outlinewidth\":0,\"ticks\":\"\"},\"colorscale\":[[0.0,\"#0d0887\"],[0.1111111111111111,\"#46039f\"],[0.2222222222222222,\"#7201a8\"],[0.3333333333333333,\"#9c179e\"],[0.4444444444444444,\"#bd3786\"],[0.5555555555555556,\"#d8576b\"],[0.6666666666666666,\"#ed7953\"],[0.7777777777777778,\"#fb9f3a\"],[0.8888888888888888,\"#fdca26\"],[1.0,\"#f0f921\"]]}],\"contourcarpet\":[{\"type\":\"contourcarpet\",\"colorbar\":{\"outlinewidth\":0,\"ticks\":\"\"}}],\"contour\":[{\"type\":\"contour\",\"colorbar\":{\"outlinewidth\":0,\"ticks\":\"\"},\"colorscale\":[[0.0,\"#0d0887\"],[0.1111111111111111,\"#46039f\"],[0.2222222222222222,\"#7201a8\"],[0.3333333333333333,\"#9c179e\"],[0.4444444444444444,\"#bd3786\"],[0.5555555555555556,\"#d8576b\"],[0.6666666666666666,\"#ed7953\"],[0.7777777777777778,\"#fb9f3a\"],[0.8888888888888888,\"#fdca26\"],[1.0,\"#f0f921\"]]}],\"surface\":[{\"type\":\"surface\",\"colorbar\":{\"outlinewidth\":0,\"ticks\":\"\"},\"colorscale\":[[0.0,\"#0d0887\"],[0.1111111111111111,\"#46039f\"],[0.2222222222222222,\"#7201a8\"],[0.3333333333333333,\"#9c179e\"],[0.4444444444444444,\"#bd3786\"],[0.5555555555555556,\"#d8576b\"],[0.6666666666666666,\"#ed7953\"],[0.7777777777777778,\"#fb9f3a\"],[0.8888888888888888,\"#fdca26\"],[1.0,\"#f0f921\"]]}],\"mesh3d\":[{\"type\":\"mesh3d\",\"colorbar\":{\"outlinewidth\":0,\"ticks\":\"\"}}],\"scatter\":[{\"fillpattern\":{\"fillmode\":\"overlay\",\"size\":10,\"solidity\":0.2},\"type\":\"scatter\"}],\"parcoords\":[{\"type\":\"parcoords\",\"line\":{\"colorbar\":{\"outlinewidth\":0,\"ticks\":\"\"}}}],\"scatterpolargl\":[{\"type\":\"scatterpolargl\",\"marker\":{\"colorbar\":{\"outlinewidth\":0,\"ticks\":\"\"}}}],\"bar\":[{\"error_x\":{\"color\":\"#2a3f5f\"},\"error_y\":{\"color\":\"#2a3f5f\"},\"marker\":{\"line\":{\"color\":\"#E5ECF6\",\"width\":0.5},\"pattern\":{\"fillmode\":\"overlay\",\"size\":10,\"solidity\":0.2}},\"type\":\"bar\"}],\"scattergeo\":[{\"type\":\"scattergeo\",\"marker\":{\"colorbar\":{\"outlinewidth\":0,\"ticks\":\"\"}}}],\"scatterpolar\":[{\"type\":\"scatterpolar\",\"marker\":{\"colorbar\":{\"outlinewidth\":0,\"ticks\":\"\"}}}],\"histogram\":[{\"marker\":{\"pattern\":{\"fillmode\":\"overlay\",\"size\":10,\"solidity\":0.2}},\"type\":\"histogram\"}],\"scattergl\":[{\"type\":\"scattergl\",\"marker\":{\"colorbar\":{\"outlinewidth\":0,\"ticks\":\"\"}}}],\"scatter3d\":[{\"type\":\"scatter3d\",\"line\":{\"colorbar\":{\"outlinewidth\":0,\"ticks\":\"\"}},\"marker\":{\"colorbar\":{\"outlinewidth\":0,\"ticks\":\"\"}}}],\"scattermapbox\":[{\"type\":\"scattermapbox\",\"marker\":{\"colorbar\":{\"outlinewidth\":0,\"ticks\":\"\"}}}],\"scatterternary\":[{\"type\":\"scatterternary\",\"marker\":{\"colorbar\":{\"outlinewidth\":0,\"ticks\":\"\"}}}],\"scattercarpet\":[{\"type\":\"scattercarpet\",\"marker\":{\"colorbar\":{\"outlinewidth\":0,\"ticks\":\"\"}}}],\"carpet\":[{\"aaxis\":{\"endlinecolor\":\"#2a3f5f\",\"gridcolor\":\"white\",\"linecolor\":\"white\",\"minorgridcolor\":\"white\",\"startlinecolor\":\"#2a3f5f\"},\"baxis\":{\"endlinecolor\":\"#2a3f5f\",\"gridcolor\":\"white\",\"linecolor\":\"white\",\"minorgridcolor\":\"white\",\"startlinecolor\":\"#2a3f5f\"},\"type\":\"carpet\"}],\"table\":[{\"cells\":{\"fill\":{\"color\":\"#EBF0F8\"},\"line\":{\"color\":\"white\"}},\"header\":{\"fill\":{\"color\":\"#C8D4E3\"},\"line\":{\"color\":\"white\"}},\"type\":\"table\"}],\"barpolar\":[{\"marker\":{\"line\":{\"color\":\"#E5ECF6\",\"width\":0.5},\"pattern\":{\"fillmode\":\"overlay\",\"size\":10,\"solidity\":0.2}},\"type\":\"barpolar\"}],\"pie\":[{\"automargin\":true,\"type\":\"pie\"}]},\"layout\":{\"autotypenumbers\":\"strict\",\"colorway\":[\"#636efa\",\"#EF553B\",\"#00cc96\",\"#ab63fa\",\"#FFA15A\",\"#19d3f3\",\"#FF6692\",\"#B6E880\",\"#FF97FF\",\"#FECB52\"],\"font\":{\"color\":\"#2a3f5f\"},\"hovermode\":\"closest\",\"hoverlabel\":{\"align\":\"left\"},\"paper_bgcolor\":\"white\",\"plot_bgcolor\":\"#E5ECF6\",\"polar\":{\"bgcolor\":\"#E5ECF6\",\"angularaxis\":{\"gridcolor\":\"white\",\"linecolor\":\"white\",\"ticks\":\"\"},\"radialaxis\":{\"gridcolor\":\"white\",\"linecolor\":\"white\",\"ticks\":\"\"}},\"ternary\":{\"bgcolor\":\"#E5ECF6\",\"aaxis\":{\"gridcolor\":\"white\",\"linecolor\":\"white\",\"ticks\":\"\"},\"baxis\":{\"gridcolor\":\"white\",\"linecolor\":\"white\",\"ticks\":\"\"},\"caxis\":{\"gridcolor\":\"white\",\"linecolor\":\"white\",\"ticks\":\"\"}},\"coloraxis\":{\"colorbar\":{\"outlinewidth\":0,\"ticks\":\"\"}},\"colorscale\":{\"sequential\":[[0.0,\"#0d0887\"],[0.1111111111111111,\"#46039f\"],[0.2222222222222222,\"#7201a8\"],[0.3333333333333333,\"#9c179e\"],[0.4444444444444444,\"#bd3786\"],[0.5555555555555556,\"#d8576b\"],[0.6666666666666666,\"#ed7953\"],[0.7777777777777778,\"#fb9f3a\"],[0.8888888888888888,\"#fdca26\"],[1.0,\"#f0f921\"]],\"sequentialminus\":[[0.0,\"#0d0887\"],[0.1111111111111111,\"#46039f\"],[0.2222222222222222,\"#7201a8\"],[0.3333333333333333,\"#9c179e\"],[0.4444444444444444,\"#bd3786\"],[0.5555555555555556,\"#d8576b\"],[0.6666666666666666,\"#ed7953\"],[0.7777777777777778,\"#fb9f3a\"],[0.8888888888888888,\"#fdca26\"],[1.0,\"#f0f921\"]],\"diverging\":[[0,\"#8e0152\"],[0.1,\"#c51b7d\"],[0.2,\"#de77ae\"],[0.3,\"#f1b6da\"],[0.4,\"#fde0ef\"],[0.5,\"#f7f7f7\"],[0.6,\"#e6f5d0\"],[0.7,\"#b8e186\"],[0.8,\"#7fbc41\"],[0.9,\"#4d9221\"],[1,\"#276419\"]]},\"xaxis\":{\"gridcolor\":\"white\",\"linecolor\":\"white\",\"ticks\":\"\",\"title\":{\"standoff\":15},\"zerolinecolor\":\"white\",\"automargin\":true,\"zerolinewidth\":2},\"yaxis\":{\"gridcolor\":\"white\",\"linecolor\":\"white\",\"ticks\":\"\",\"title\":{\"standoff\":15},\"zerolinecolor\":\"white\",\"automargin\":true,\"zerolinewidth\":2},\"scene\":{\"xaxis\":{\"backgroundcolor\":\"#E5ECF6\",\"gridcolor\":\"white\",\"linecolor\":\"white\",\"showbackground\":true,\"ticks\":\"\",\"zerolinecolor\":\"white\",\"gridwidth\":2},\"yaxis\":{\"backgroundcolor\":\"#E5ECF6\",\"gridcolor\":\"white\",\"linecolor\":\"white\",\"showbackground\":true,\"ticks\":\"\",\"zerolinecolor\":\"white\",\"gridwidth\":2},\"zaxis\":{\"backgroundcolor\":\"#E5ECF6\",\"gridcolor\":\"white\",\"linecolor\":\"white\",\"showbackground\":true,\"ticks\":\"\",\"zerolinecolor\":\"white\",\"gridwidth\":2}},\"shapedefaults\":{\"line\":{\"color\":\"#2a3f5f\"}},\"annotationdefaults\":{\"arrowcolor\":\"#2a3f5f\",\"arrowhead\":0,\"arrowwidth\":1},\"geo\":{\"bgcolor\":\"white\",\"landcolor\":\"#E5ECF6\",\"subunitcolor\":\"white\",\"showland\":true,\"showlakes\":true,\"lakecolor\":\"white\"},\"title\":{\"x\":0.05},\"mapbox\":{\"style\":\"light\"}}},\"barmode\":\"overlay\",\"title\":{\"text\":\"warehouse_ID Distribution\"},\"xaxis\":{\"title\":{\"text\":\"warehouse_ID\"}},\"yaxis\":{\"title\":{\"text\":\"probability density\"}},\"autosize\":false,\"width\":700,\"height\":300},                        {\"responsive\": true}                    ).then(function(){\n",
       "                            \n",
       "var gd = document.getElementById('27d335b2-40e0-4dbd-9a52-385d2fee99ca');\n",
       "var x = new MutationObserver(function (mutations, observer) {{\n",
       "        var display = window.getComputedStyle(gd).display;\n",
       "        if (!display || display === 'none') {{\n",
       "            console.log([gd, 'removed!']);\n",
       "            Plotly.purge(gd);\n",
       "            observer.disconnect();\n",
       "        }}\n",
       "}});\n",
       "\n",
       "// Listen for the removal of the full notebook cells\n",
       "var notebookContainer = gd.closest('#notebook-container');\n",
       "if (notebookContainer) {{\n",
       "    x.observe(notebookContainer, {childList: true});\n",
       "}}\n",
       "\n",
       "// Listen for the clearing of the current output cell\n",
       "var outputEl = gd.closest('.output');\n",
       "if (outputEl) {{\n",
       "    x.observe(outputEl, {childList: true});\n",
       "}}\n",
       "\n",
       "                        })                };                });            </script>        </div>"
      ]
     },
     "metadata": {},
     "output_type": "display_data"
    },
    {
     "name": "stderr",
     "output_type": "stream",
     "text": [
      "11:24:54 INFO:drift detected for Product_Type.value\n",
      "11:24:54 INFO:drift_score : 0.0004600863327199889\n",
      "11:24:54 INFO:stattest_name : Z-test p_value\n",
      "11:24:54 INFO:raw_feature_importance : 2.3100368976593018\n",
      "11:24:54 INFO:relative_feature_importance : 1.0\n",
      "11:24:54 INFO:feature_importance_weighted_drift_score : 0.0004600863327199889\n"
     ]
    },
    {
     "data": {
      "application/vnd.plotly.v1+json": {
       "config": {
        "plotlyServerURL": "https://plot.ly"
       },
       "data": [
        {
         "histnorm": "probability density",
         "name": "training",
         "opacity": 0.4,
         "type": "histogram",
         "x": [
          "Type_A",
          "Type_B",
          "Type_B",
          "Type_A",
          "Type_A",
          "Type_A",
          "Type_A",
          "Type_A",
          "Type_A",
          "Type_A",
          "Type_A",
          "Type_B",
          "Type_A",
          "Type_A",
          "Type_A",
          "Type_A",
          "Type_A",
          "Type_A",
          "Type_B",
          "Type_B",
          "Type_B",
          "Type_B",
          "Type_A",
          "Type_B",
          "Type_A",
          "Type_A",
          "Type_B",
          "Type_B",
          "Type_B",
          "Type_B",
          "Type_B",
          "Type_B",
          "Type_B",
          "Type_A",
          "Type_B",
          "Type_A",
          "Type_B",
          "Type_A",
          "Type_B",
          "Type_A",
          "Type_B",
          "Type_B",
          "Type_A",
          "Type_B",
          "Type_A",
          "Type_A",
          "Type_B",
          "Type_A",
          "Type_A",
          "Type_B",
          "Type_A",
          "Type_B",
          "Type_A",
          "Type_B",
          "Type_A",
          "Type_A",
          "Type_A",
          "Type_A",
          "Type_B",
          "Type_B",
          "Type_B",
          "Type_A",
          "Type_B",
          "Type_B",
          "Type_B",
          "Type_B",
          "Type_A",
          "Type_B",
          "Type_A",
          "Type_B",
          "Type_B",
          "Type_B",
          "Type_A",
          "Type_B",
          "Type_A",
          "Type_A",
          "Type_B",
          "Type_A",
          "Type_A",
          "Type_B",
          "Type_A",
          "Type_A",
          "Type_B",
          "Type_A",
          "Type_A",
          "Type_B",
          "Type_A",
          "Type_A",
          "Type_A",
          "Type_B",
          "Type_A",
          "Type_B",
          "Type_A",
          "Type_A",
          "Type_A",
          "Type_B",
          "Type_A",
          "Type_A",
          "Type_A",
          "Type_B",
          "Type_B",
          "Type_A",
          "Type_A",
          "Type_B",
          "Type_A",
          "Type_A",
          "Type_A",
          "Type_A",
          "Type_A",
          "Type_A",
          "Type_A",
          "Type_B",
          "Type_A",
          "Type_A",
          "Type_A",
          "Type_A",
          "Type_B",
          "Type_A",
          "Type_A",
          "Type_A",
          "Type_A",
          "Type_A",
          "Type_A",
          "Type_A",
          "Type_B",
          "Type_A",
          "Type_A",
          "Type_A",
          "Type_B",
          "Type_B",
          "Type_B",
          "Type_A",
          "Type_A",
          "Type_A",
          "Type_A",
          "Type_A",
          "Type_B",
          "Type_B",
          "Type_A",
          "Type_A",
          "Type_B",
          "Type_A",
          "Type_A",
          "Type_A",
          "Type_B",
          "Type_A",
          "Type_A",
          "Type_A",
          "Type_B",
          "Type_B",
          "Type_A",
          "Type_A",
          "Type_A",
          "Type_A",
          "Type_B",
          "Type_B",
          "Type_A",
          "Type_A",
          "Type_A",
          "Type_A",
          "Type_A",
          "Type_A",
          "Type_B",
          "Type_B",
          "Type_A",
          "Type_B",
          "Type_B",
          "Type_A",
          "Type_A",
          "Type_A",
          "Type_B",
          "Type_A",
          "Type_B",
          "Type_A",
          "Type_A",
          "Type_A",
          "Type_A",
          "Type_A",
          "Type_A",
          "Type_B",
          "Type_A",
          "Type_B",
          "Type_B",
          "Type_A",
          "Type_A",
          "Type_A",
          "Type_A",
          "Type_A",
          "Type_A",
          "Type_A",
          "Type_A",
          "Type_B",
          "Type_A",
          "Type_A",
          "Type_A",
          "Type_B",
          "Type_A",
          "Type_B",
          "Type_A",
          "Type_B",
          "Type_B",
          "Type_A",
          "Type_B",
          "Type_B",
          "Type_A",
          "Type_B",
          "Type_A",
          "Type_A",
          "Type_A",
          "Type_B",
          "Type_A",
          "Type_B",
          "Type_A",
          "Type_A",
          "Type_B",
          "Type_B",
          "Type_A",
          "Type_A",
          "Type_A",
          "Type_A",
          "Type_A",
          "Type_A",
          "Type_A",
          "Type_B",
          "Type_A",
          "Type_A",
          "Type_A",
          "Type_A",
          "Type_B",
          "Type_A",
          "Type_A",
          "Type_A",
          "Type_B",
          "Type_B",
          "Type_B",
          "Type_B",
          "Type_A",
          "Type_A",
          "Type_A",
          "Type_B",
          "Type_A",
          "Type_A",
          "Type_A",
          "Type_B",
          "Type_A",
          "Type_B",
          "Type_A",
          "Type_A",
          "Type_A",
          "Type_A",
          "Type_A",
          "Type_A",
          "Type_B",
          "Type_A",
          "Type_B",
          "Type_A",
          "Type_A",
          "Type_A",
          "Type_B",
          "Type_A",
          "Type_B",
          "Type_B",
          "Type_A",
          "Type_B",
          "Type_A",
          "Type_B",
          "Type_A",
          "Type_A",
          "Type_B",
          "Type_A",
          "Type_A",
          "Type_B",
          "Type_A",
          "Type_A",
          "Type_A",
          "Type_B",
          "Type_B",
          "Type_A",
          "Type_B",
          "Type_B",
          "Type_A",
          "Type_A",
          "Type_A",
          "Type_A",
          "Type_B",
          "Type_A",
          "Type_A",
          "Type_A",
          "Type_B",
          "Type_B",
          "Type_B",
          "Type_A",
          "Type_B",
          "Type_A",
          "Type_B",
          "Type_A",
          "Type_B",
          "Type_B",
          "Type_A",
          "Type_B",
          "Type_B",
          "Type_B",
          "Type_B",
          "Type_A",
          "Type_B",
          "Type_B",
          "Type_A",
          "Type_A",
          "Type_B",
          "Type_B",
          "Type_A",
          "Type_B",
          "Type_A",
          "Type_B",
          "Type_A",
          "Type_A",
          "Type_A",
          "Type_A",
          "Type_B",
          "Type_B",
          "Type_B",
          "Type_A",
          "Type_A",
          "Type_A",
          "Type_A",
          "Type_B",
          "Type_A",
          "Type_B",
          "Type_B",
          "Type_B",
          "Type_A",
          "Type_A",
          "Type_B",
          "Type_A",
          "Type_A",
          "Type_A",
          "Type_A",
          "Type_A",
          "Type_B",
          "Type_A",
          "Type_A",
          "Type_B",
          "Type_B",
          "Type_B",
          "Type_B",
          "Type_A",
          "Type_B",
          "Type_A",
          "Type_B",
          "Type_B",
          "Type_A",
          "Type_B",
          "Type_B",
          "Type_A",
          "Type_A",
          "Type_B",
          "Type_A",
          "Type_B",
          "Type_A",
          "Type_A",
          "Type_B",
          "Type_A",
          "Type_A",
          "Type_B",
          "Type_A",
          "Type_A",
          "Type_A",
          "Type_B",
          "Type_A",
          "Type_A",
          "Type_B",
          "Type_A",
          "Type_B",
          "Type_A",
          "Type_B",
          "Type_A",
          "Type_B",
          "Type_A",
          "Type_B",
          "Type_A",
          "Type_A",
          "Type_B",
          "Type_A",
          "Type_B",
          "Type_A",
          "Type_A",
          "Type_A",
          "Type_A",
          "Type_B",
          "Type_B",
          "Type_B",
          "Type_A",
          "Type_A",
          "Type_B",
          "Type_A",
          "Type_A",
          "Type_B",
          "Type_A",
          "Type_B",
          "Type_B",
          "Type_B",
          "Type_A",
          "Type_A",
          "Type_A",
          "Type_A",
          "Type_A",
          "Type_B",
          "Type_A",
          "Type_A",
          "Type_A",
          "Type_A",
          "Type_A",
          "Type_A",
          "Type_A",
          "Type_A",
          "Type_B",
          "Type_A",
          "Type_A",
          "Type_A",
          "Type_B",
          "Type_A",
          "Type_B",
          "Type_B",
          "Type_B",
          "Type_A",
          "Type_A",
          "Type_A",
          "Type_A",
          "Type_A",
          "Type_A",
          "Type_A",
          "Type_A",
          "Type_A",
          "Type_A",
          "Type_B",
          "Type_A",
          "Type_A",
          "Type_B",
          "Type_A",
          "Type_A",
          "Type_A",
          "Type_B",
          "Type_A",
          "Type_B",
          "Type_B",
          "Type_A",
          "Type_A",
          "Type_B",
          "Type_B",
          "Type_A",
          "Type_A",
          "Type_B",
          "Type_A",
          "Type_A",
          "Type_A",
          "Type_A",
          "Type_A",
          "Type_A",
          "Type_A",
          "Type_B",
          "Type_A",
          "Type_B",
          "Type_A",
          "Type_A",
          "Type_A",
          "Type_B",
          "Type_A",
          "Type_B",
          "Type_A",
          "Type_A",
          "Type_B",
          "Type_A",
          "Type_A",
          "Type_B",
          "Type_A",
          "Type_A",
          "Type_B",
          "Type_A",
          "Type_A",
          "Type_B",
          "Type_B",
          "Type_B",
          "Type_B",
          "Type_B",
          "Type_A",
          "Type_A",
          "Type_A",
          "Type_B",
          "Type_A",
          "Type_B",
          "Type_B",
          "Type_B",
          "Type_A",
          "Type_A",
          "Type_B",
          "Type_B",
          "Type_A",
          "Type_A",
          "Type_B",
          "Type_A"
         ]
        },
        {
         "histnorm": "probability density",
         "name": "production",
         "opacity": 0.4,
         "type": "histogram",
         "x": [
          "Type_A",
          "Type_B",
          "Type_B",
          "Type_A",
          "Type_B",
          "Type_A",
          "Type_A",
          "Type_B",
          "Type_B",
          "Type_A",
          "Type_A",
          "Type_B",
          "Type_A",
          "Type_A",
          "Type_A",
          "Type_A",
          "Type_A",
          "Type_A",
          "Type_B",
          "Type_B",
          "Type_A",
          "Type_A",
          "Type_A",
          "Type_B",
          "Type_A",
          "Type_A",
          "Type_A",
          "Type_B",
          "Type_B",
          "Type_A",
          "Type_A",
          "Type_A",
          "Type_A",
          "Type_B",
          "Type_B",
          "Type_B",
          "Type_B",
          "Type_A",
          "Type_B",
          "Type_B",
          "Type_B",
          "Type_B",
          "Type_A",
          "Type_A",
          "Type_A",
          "Type_A",
          "Type_B",
          "Type_B",
          "Type_A",
          "Type_B",
          "Type_B",
          "Type_A",
          "Type_B",
          "Type_B",
          "Type_A",
          "Type_A",
          "Type_A",
          "Type_B",
          "Type_A",
          "Type_B",
          "Type_B",
          "Type_B",
          "Type_B",
          "Type_A",
          "Type_B",
          "Type_A",
          "Type_A",
          "Type_B",
          "Type_A",
          "Type_A",
          "Type_A",
          "Type_B",
          "Type_B",
          "Type_A",
          "Type_A",
          "Type_A",
          "Type_B",
          "Type_A",
          "Type_A",
          "Type_A",
          "Type_B",
          "Type_A",
          "Type_A",
          "Type_A",
          "Type_B",
          "Type_A",
          "Type_A",
          "Type_B",
          "Type_B",
          "Type_A",
          "Type_A",
          "Type_B",
          "Type_A",
          "Type_B",
          "Type_A",
          "Type_B",
          "Type_A",
          "Type_A",
          "Type_B",
          "Type_A",
          "Type_B",
          "Type_B",
          "Type_B",
          "Type_B",
          "Type_B",
          "Type_B",
          "Type_A",
          "Type_B",
          "Type_B",
          "Type_A",
          "Type_A",
          "Type_A",
          "Type_A",
          "Type_A",
          "Type_A",
          "Type_B",
          "Type_B",
          "Type_B",
          "Type_B",
          "Type_B",
          "Type_B",
          "Type_B",
          "Type_B",
          "Type_A",
          "Type_A",
          "Type_B",
          "Type_B",
          "Type_A",
          "Type_A",
          "Type_A",
          "Type_B",
          "Type_B",
          "Type_B",
          "Type_B",
          "Type_B",
          "Type_A",
          "Type_B",
          "Type_A",
          "Type_B",
          "Type_A",
          "Type_B",
          "Type_A",
          "Type_B",
          "Type_B",
          "Type_B",
          "Type_A",
          "Type_A",
          "Type_A",
          "Type_A",
          "Type_B",
          "Type_A",
          "Type_B",
          "Type_A",
          "Type_A",
          "Type_A",
          "Type_A",
          "Type_B",
          "Type_B",
          "Type_A",
          "Type_A",
          "Type_B",
          "Type_B",
          "Type_A",
          "Type_A",
          "Type_A",
          "Type_A",
          "Type_B",
          "Type_B",
          "Type_A",
          "Type_B",
          "Type_A",
          "Type_B",
          "Type_B",
          "Type_A",
          "Type_A",
          "Type_A",
          "Type_A",
          "Type_B",
          "Type_A",
          "Type_B",
          "Type_A",
          "Type_A",
          "Type_A",
          "Type_B",
          "Type_A",
          "Type_B",
          "Type_B",
          "Type_A",
          "Type_B",
          "Type_A",
          "Type_A",
          "Type_B",
          "Type_B",
          "Type_A",
          "Type_A",
          "Type_B",
          "Type_B",
          "Type_A",
          "Type_A",
          "Type_A",
          "Type_A",
          "Type_A",
          "Type_A",
          "Type_A",
          "Type_A",
          "Type_A",
          "Type_B",
          "Type_A",
          "Type_A",
          "Type_B",
          "Type_A",
          "Type_B",
          "Type_A",
          "Type_B",
          "Type_A",
          "Type_A",
          "Type_B",
          "Type_A",
          "Type_B",
          "Type_B",
          "Type_B",
          "Type_B",
          "Type_B",
          "Type_B",
          "Type_A",
          "Type_A",
          "Type_A",
          "Type_B",
          "Type_A",
          "Type_B",
          "Type_A",
          "Type_B",
          "Type_B",
          "Type_B",
          "Type_A",
          "Type_A",
          "Type_A",
          "Type_B",
          "Type_A",
          "Type_A",
          "Type_B",
          "Type_A",
          "Type_A",
          "Type_A",
          "Type_A",
          "Type_A",
          "Type_A",
          "Type_B",
          "Type_B",
          "Type_B",
          "Type_A",
          "Type_A",
          "Type_A",
          "Type_B",
          "Type_B",
          "Type_B",
          "Type_B",
          "Type_A",
          "Type_B",
          "Type_B",
          "Type_A",
          "Type_A",
          "Type_B",
          "Type_B",
          "Type_A",
          "Type_A",
          "Type_B",
          "Type_A",
          "Type_A",
          "Type_B",
          "Type_A",
          "Type_B",
          "Type_B",
          "Type_B",
          "Type_A",
          "Type_B",
          "Type_B",
          "Type_B",
          "Type_A",
          "Type_A",
          "Type_A",
          "Type_A",
          "Type_A",
          "Type_A",
          "Type_A",
          "Type_B",
          "Type_A",
          "Type_A",
          "Type_A",
          "Type_A",
          "Type_B",
          "Type_A",
          "Type_A",
          "Type_A",
          "Type_A",
          "Type_B",
          "Type_B",
          "Type_B",
          "Type_B",
          "Type_A",
          "Type_B",
          "Type_B",
          "Type_B",
          "Type_B",
          "Type_B",
          "Type_B",
          "Type_B",
          "Type_B",
          "Type_A",
          "Type_A",
          "Type_B",
          "Type_A",
          "Type_B",
          "Type_B",
          "Type_B",
          "Type_B",
          "Type_B",
          "Type_B",
          "Type_A",
          "Type_A",
          "Type_B",
          "Type_A",
          "Type_A",
          "Type_B",
          "Type_B",
          "Type_A",
          "Type_B",
          "Type_A",
          "Type_A",
          "Type_A",
          "Type_A",
          "Type_A",
          "Type_B",
          "Type_A",
          "Type_B",
          "Type_B",
          "Type_A",
          "Type_B",
          "Type_A",
          "Type_A",
          "Type_B",
          "Type_B",
          "Type_A",
          "Type_B",
          "Type_A",
          "Type_A",
          "Type_B",
          "Type_B",
          "Type_A",
          "Type_B",
          "Type_B",
          "Type_B",
          "Type_B",
          "Type_A",
          "Type_B",
          "Type_B",
          "Type_A",
          "Type_B",
          "Type_A",
          "Type_B",
          "Type_B",
          "Type_A",
          "Type_B",
          "Type_B",
          "Type_B",
          "Type_B",
          "Type_B",
          "Type_B",
          "Type_B",
          "Type_B",
          "Type_A",
          "Type_A",
          "Type_A",
          "Type_B",
          "Type_B",
          "Type_A",
          "Type_B",
          "Type_A",
          "Type_A",
          "Type_B",
          "Type_A",
          "Type_A",
          "Type_A",
          "Type_A",
          "Type_A",
          "Type_B",
          "Type_A",
          "Type_B",
          "Type_B",
          "Type_A",
          "Type_B",
          "Type_B",
          "Type_B",
          "Type_A",
          "Type_A",
          "Type_B",
          "Type_B",
          "Type_B",
          "Type_B",
          "Type_B",
          "Type_A",
          "Type_B",
          "Type_A",
          "Type_B",
          "Type_A",
          "Type_A",
          "Type_A",
          "Type_B",
          "Type_B",
          "Type_B",
          "Type_B",
          "Type_B",
          "Type_B",
          "Type_A",
          "Type_B",
          "Type_A",
          "Type_A",
          "Type_B",
          "Type_B",
          "Type_B",
          "Type_A",
          "Type_A",
          "Type_A",
          "Type_B",
          "Type_B",
          "Type_A",
          "Type_A",
          "Type_A",
          "Type_B",
          "Type_A",
          "Type_A",
          "Type_B",
          "Type_B",
          "Type_A",
          "Type_B",
          "Type_B",
          "Type_B",
          "Type_B",
          "Type_B",
          "Type_A",
          "Type_A",
          "Type_B",
          "Type_B",
          "Type_B",
          "Type_B",
          "Type_A",
          "Type_A",
          "Type_A",
          "Type_A",
          "Type_B",
          "Type_A",
          "Type_A",
          "Type_A",
          "Type_A",
          "Type_A",
          "Type_B",
          "Type_B",
          "Type_A",
          "Type_A",
          "Type_B",
          "Type_A",
          "Type_A",
          "Type_B",
          "Type_B",
          "Type_A",
          "Type_B",
          "Type_B",
          "Type_A",
          "Type_A",
          "Type_B",
          "Type_B",
          "Type_B",
          "Type_A",
          "Type_B",
          "Type_A",
          "Type_A",
          "Type_B",
          "Type_A",
          "Type_B",
          "Type_B",
          "Type_B",
          "Type_B",
          "Type_B",
          "Type_B",
          "Type_B",
          "Type_B",
          "Type_B",
          "Type_B",
          "Type_A",
          "Type_B",
          "Type_A",
          "Type_A",
          "Type_A",
          "Type_A",
          "Type_A",
          "Type_A",
          "Type_B",
          "Type_B",
          "Type_A",
          "Type_A"
         ]
        }
       ],
       "layout": {
        "autosize": false,
        "barmode": "overlay",
        "height": 300,
        "template": {
         "data": {
          "bar": [
           {
            "error_x": {
             "color": "#2a3f5f"
            },
            "error_y": {
             "color": "#2a3f5f"
            },
            "marker": {
             "line": {
              "color": "#E5ECF6",
              "width": 0.5
             },
             "pattern": {
              "fillmode": "overlay",
              "size": 10,
              "solidity": 0.2
             }
            },
            "type": "bar"
           }
          ],
          "barpolar": [
           {
            "marker": {
             "line": {
              "color": "#E5ECF6",
              "width": 0.5
             },
             "pattern": {
              "fillmode": "overlay",
              "size": 10,
              "solidity": 0.2
             }
            },
            "type": "barpolar"
           }
          ],
          "carpet": [
           {
            "aaxis": {
             "endlinecolor": "#2a3f5f",
             "gridcolor": "white",
             "linecolor": "white",
             "minorgridcolor": "white",
             "startlinecolor": "#2a3f5f"
            },
            "baxis": {
             "endlinecolor": "#2a3f5f",
             "gridcolor": "white",
             "linecolor": "white",
             "minorgridcolor": "white",
             "startlinecolor": "#2a3f5f"
            },
            "type": "carpet"
           }
          ],
          "choropleth": [
           {
            "colorbar": {
             "outlinewidth": 0,
             "ticks": ""
            },
            "type": "choropleth"
           }
          ],
          "contour": [
           {
            "colorbar": {
             "outlinewidth": 0,
             "ticks": ""
            },
            "colorscale": [
             [
              0,
              "#0d0887"
             ],
             [
              0.1111111111111111,
              "#46039f"
             ],
             [
              0.2222222222222222,
              "#7201a8"
             ],
             [
              0.3333333333333333,
              "#9c179e"
             ],
             [
              0.4444444444444444,
              "#bd3786"
             ],
             [
              0.5555555555555556,
              "#d8576b"
             ],
             [
              0.6666666666666666,
              "#ed7953"
             ],
             [
              0.7777777777777778,
              "#fb9f3a"
             ],
             [
              0.8888888888888888,
              "#fdca26"
             ],
             [
              1,
              "#f0f921"
             ]
            ],
            "type": "contour"
           }
          ],
          "contourcarpet": [
           {
            "colorbar": {
             "outlinewidth": 0,
             "ticks": ""
            },
            "type": "contourcarpet"
           }
          ],
          "heatmap": [
           {
            "colorbar": {
             "outlinewidth": 0,
             "ticks": ""
            },
            "colorscale": [
             [
              0,
              "#0d0887"
             ],
             [
              0.1111111111111111,
              "#46039f"
             ],
             [
              0.2222222222222222,
              "#7201a8"
             ],
             [
              0.3333333333333333,
              "#9c179e"
             ],
             [
              0.4444444444444444,
              "#bd3786"
             ],
             [
              0.5555555555555556,
              "#d8576b"
             ],
             [
              0.6666666666666666,
              "#ed7953"
             ],
             [
              0.7777777777777778,
              "#fb9f3a"
             ],
             [
              0.8888888888888888,
              "#fdca26"
             ],
             [
              1,
              "#f0f921"
             ]
            ],
            "type": "heatmap"
           }
          ],
          "heatmapgl": [
           {
            "colorbar": {
             "outlinewidth": 0,
             "ticks": ""
            },
            "colorscale": [
             [
              0,
              "#0d0887"
             ],
             [
              0.1111111111111111,
              "#46039f"
             ],
             [
              0.2222222222222222,
              "#7201a8"
             ],
             [
              0.3333333333333333,
              "#9c179e"
             ],
             [
              0.4444444444444444,
              "#bd3786"
             ],
             [
              0.5555555555555556,
              "#d8576b"
             ],
             [
              0.6666666666666666,
              "#ed7953"
             ],
             [
              0.7777777777777778,
              "#fb9f3a"
             ],
             [
              0.8888888888888888,
              "#fdca26"
             ],
             [
              1,
              "#f0f921"
             ]
            ],
            "type": "heatmapgl"
           }
          ],
          "histogram": [
           {
            "marker": {
             "pattern": {
              "fillmode": "overlay",
              "size": 10,
              "solidity": 0.2
             }
            },
            "type": "histogram"
           }
          ],
          "histogram2d": [
           {
            "colorbar": {
             "outlinewidth": 0,
             "ticks": ""
            },
            "colorscale": [
             [
              0,
              "#0d0887"
             ],
             [
              0.1111111111111111,
              "#46039f"
             ],
             [
              0.2222222222222222,
              "#7201a8"
             ],
             [
              0.3333333333333333,
              "#9c179e"
             ],
             [
              0.4444444444444444,
              "#bd3786"
             ],
             [
              0.5555555555555556,
              "#d8576b"
             ],
             [
              0.6666666666666666,
              "#ed7953"
             ],
             [
              0.7777777777777778,
              "#fb9f3a"
             ],
             [
              0.8888888888888888,
              "#fdca26"
             ],
             [
              1,
              "#f0f921"
             ]
            ],
            "type": "histogram2d"
           }
          ],
          "histogram2dcontour": [
           {
            "colorbar": {
             "outlinewidth": 0,
             "ticks": ""
            },
            "colorscale": [
             [
              0,
              "#0d0887"
             ],
             [
              0.1111111111111111,
              "#46039f"
             ],
             [
              0.2222222222222222,
              "#7201a8"
             ],
             [
              0.3333333333333333,
              "#9c179e"
             ],
             [
              0.4444444444444444,
              "#bd3786"
             ],
             [
              0.5555555555555556,
              "#d8576b"
             ],
             [
              0.6666666666666666,
              "#ed7953"
             ],
             [
              0.7777777777777778,
              "#fb9f3a"
             ],
             [
              0.8888888888888888,
              "#fdca26"
             ],
             [
              1,
              "#f0f921"
             ]
            ],
            "type": "histogram2dcontour"
           }
          ],
          "mesh3d": [
           {
            "colorbar": {
             "outlinewidth": 0,
             "ticks": ""
            },
            "type": "mesh3d"
           }
          ],
          "parcoords": [
           {
            "line": {
             "colorbar": {
              "outlinewidth": 0,
              "ticks": ""
             }
            },
            "type": "parcoords"
           }
          ],
          "pie": [
           {
            "automargin": true,
            "type": "pie"
           }
          ],
          "scatter": [
           {
            "fillpattern": {
             "fillmode": "overlay",
             "size": 10,
             "solidity": 0.2
            },
            "type": "scatter"
           }
          ],
          "scatter3d": [
           {
            "line": {
             "colorbar": {
              "outlinewidth": 0,
              "ticks": ""
             }
            },
            "marker": {
             "colorbar": {
              "outlinewidth": 0,
              "ticks": ""
             }
            },
            "type": "scatter3d"
           }
          ],
          "scattercarpet": [
           {
            "marker": {
             "colorbar": {
              "outlinewidth": 0,
              "ticks": ""
             }
            },
            "type": "scattercarpet"
           }
          ],
          "scattergeo": [
           {
            "marker": {
             "colorbar": {
              "outlinewidth": 0,
              "ticks": ""
             }
            },
            "type": "scattergeo"
           }
          ],
          "scattergl": [
           {
            "marker": {
             "colorbar": {
              "outlinewidth": 0,
              "ticks": ""
             }
            },
            "type": "scattergl"
           }
          ],
          "scattermapbox": [
           {
            "marker": {
             "colorbar": {
              "outlinewidth": 0,
              "ticks": ""
             }
            },
            "type": "scattermapbox"
           }
          ],
          "scatterpolar": [
           {
            "marker": {
             "colorbar": {
              "outlinewidth": 0,
              "ticks": ""
             }
            },
            "type": "scatterpolar"
           }
          ],
          "scatterpolargl": [
           {
            "marker": {
             "colorbar": {
              "outlinewidth": 0,
              "ticks": ""
             }
            },
            "type": "scatterpolargl"
           }
          ],
          "scatterternary": [
           {
            "marker": {
             "colorbar": {
              "outlinewidth": 0,
              "ticks": ""
             }
            },
            "type": "scatterternary"
           }
          ],
          "surface": [
           {
            "colorbar": {
             "outlinewidth": 0,
             "ticks": ""
            },
            "colorscale": [
             [
              0,
              "#0d0887"
             ],
             [
              0.1111111111111111,
              "#46039f"
             ],
             [
              0.2222222222222222,
              "#7201a8"
             ],
             [
              0.3333333333333333,
              "#9c179e"
             ],
             [
              0.4444444444444444,
              "#bd3786"
             ],
             [
              0.5555555555555556,
              "#d8576b"
             ],
             [
              0.6666666666666666,
              "#ed7953"
             ],
             [
              0.7777777777777778,
              "#fb9f3a"
             ],
             [
              0.8888888888888888,
              "#fdca26"
             ],
             [
              1,
              "#f0f921"
             ]
            ],
            "type": "surface"
           }
          ],
          "table": [
           {
            "cells": {
             "fill": {
              "color": "#EBF0F8"
             },
             "line": {
              "color": "white"
             }
            },
            "header": {
             "fill": {
              "color": "#C8D4E3"
             },
             "line": {
              "color": "white"
             }
            },
            "type": "table"
           }
          ]
         },
         "layout": {
          "annotationdefaults": {
           "arrowcolor": "#2a3f5f",
           "arrowhead": 0,
           "arrowwidth": 1
          },
          "autotypenumbers": "strict",
          "coloraxis": {
           "colorbar": {
            "outlinewidth": 0,
            "ticks": ""
           }
          },
          "colorscale": {
           "diverging": [
            [
             0,
             "#8e0152"
            ],
            [
             0.1,
             "#c51b7d"
            ],
            [
             0.2,
             "#de77ae"
            ],
            [
             0.3,
             "#f1b6da"
            ],
            [
             0.4,
             "#fde0ef"
            ],
            [
             0.5,
             "#f7f7f7"
            ],
            [
             0.6,
             "#e6f5d0"
            ],
            [
             0.7,
             "#b8e186"
            ],
            [
             0.8,
             "#7fbc41"
            ],
            [
             0.9,
             "#4d9221"
            ],
            [
             1,
             "#276419"
            ]
           ],
           "sequential": [
            [
             0,
             "#0d0887"
            ],
            [
             0.1111111111111111,
             "#46039f"
            ],
            [
             0.2222222222222222,
             "#7201a8"
            ],
            [
             0.3333333333333333,
             "#9c179e"
            ],
            [
             0.4444444444444444,
             "#bd3786"
            ],
            [
             0.5555555555555556,
             "#d8576b"
            ],
            [
             0.6666666666666666,
             "#ed7953"
            ],
            [
             0.7777777777777778,
             "#fb9f3a"
            ],
            [
             0.8888888888888888,
             "#fdca26"
            ],
            [
             1,
             "#f0f921"
            ]
           ],
           "sequentialminus": [
            [
             0,
             "#0d0887"
            ],
            [
             0.1111111111111111,
             "#46039f"
            ],
            [
             0.2222222222222222,
             "#7201a8"
            ],
            [
             0.3333333333333333,
             "#9c179e"
            ],
            [
             0.4444444444444444,
             "#bd3786"
            ],
            [
             0.5555555555555556,
             "#d8576b"
            ],
            [
             0.6666666666666666,
             "#ed7953"
            ],
            [
             0.7777777777777778,
             "#fb9f3a"
            ],
            [
             0.8888888888888888,
             "#fdca26"
            ],
            [
             1,
             "#f0f921"
            ]
           ]
          },
          "colorway": [
           "#636efa",
           "#EF553B",
           "#00cc96",
           "#ab63fa",
           "#FFA15A",
           "#19d3f3",
           "#FF6692",
           "#B6E880",
           "#FF97FF",
           "#FECB52"
          ],
          "font": {
           "color": "#2a3f5f"
          },
          "geo": {
           "bgcolor": "white",
           "lakecolor": "white",
           "landcolor": "#E5ECF6",
           "showlakes": true,
           "showland": true,
           "subunitcolor": "white"
          },
          "hoverlabel": {
           "align": "left"
          },
          "hovermode": "closest",
          "mapbox": {
           "style": "light"
          },
          "paper_bgcolor": "white",
          "plot_bgcolor": "#E5ECF6",
          "polar": {
           "angularaxis": {
            "gridcolor": "white",
            "linecolor": "white",
            "ticks": ""
           },
           "bgcolor": "#E5ECF6",
           "radialaxis": {
            "gridcolor": "white",
            "linecolor": "white",
            "ticks": ""
           }
          },
          "scene": {
           "xaxis": {
            "backgroundcolor": "#E5ECF6",
            "gridcolor": "white",
            "gridwidth": 2,
            "linecolor": "white",
            "showbackground": true,
            "ticks": "",
            "zerolinecolor": "white"
           },
           "yaxis": {
            "backgroundcolor": "#E5ECF6",
            "gridcolor": "white",
            "gridwidth": 2,
            "linecolor": "white",
            "showbackground": true,
            "ticks": "",
            "zerolinecolor": "white"
           },
           "zaxis": {
            "backgroundcolor": "#E5ECF6",
            "gridcolor": "white",
            "gridwidth": 2,
            "linecolor": "white",
            "showbackground": true,
            "ticks": "",
            "zerolinecolor": "white"
           }
          },
          "shapedefaults": {
           "line": {
            "color": "#2a3f5f"
           }
          },
          "ternary": {
           "aaxis": {
            "gridcolor": "white",
            "linecolor": "white",
            "ticks": ""
           },
           "baxis": {
            "gridcolor": "white",
            "linecolor": "white",
            "ticks": ""
           },
           "bgcolor": "#E5ECF6",
           "caxis": {
            "gridcolor": "white",
            "linecolor": "white",
            "ticks": ""
           }
          },
          "title": {
           "x": 0.05
          },
          "xaxis": {
           "automargin": true,
           "gridcolor": "white",
           "linecolor": "white",
           "ticks": "",
           "title": {
            "standoff": 15
           },
           "zerolinecolor": "white",
           "zerolinewidth": 2
          },
          "yaxis": {
           "automargin": true,
           "gridcolor": "white",
           "linecolor": "white",
           "ticks": "",
           "title": {
            "standoff": 15
           },
           "zerolinecolor": "white",
           "zerolinewidth": 2
          }
         }
        },
        "title": {
         "text": "Product_Type Distribution"
        },
        "width": 700,
        "xaxis": {
         "title": {
          "text": "Product_Type"
         }
        },
        "yaxis": {
         "title": {
          "text": "probability density"
         }
        }
       }
      },
      "text/html": [
       "<div>                            <div id=\"e4ab4f3e-5740-4836-baff-52260fde0c5f\" class=\"plotly-graph-div\" style=\"height:300px; width:700px;\"></div>            <script type=\"text/javascript\">                require([\"plotly\"], function(Plotly) {                    window.PLOTLYENV=window.PLOTLYENV || {};                                    if (document.getElementById(\"e4ab4f3e-5740-4836-baff-52260fde0c5f\")) {                    Plotly.newPlot(                        \"e4ab4f3e-5740-4836-baff-52260fde0c5f\",                        [{\"histnorm\":\"probability density\",\"name\":\"training\",\"x\":[\"Type_A\",\"Type_B\",\"Type_B\",\"Type_A\",\"Type_A\",\"Type_A\",\"Type_A\",\"Type_A\",\"Type_A\",\"Type_A\",\"Type_A\",\"Type_B\",\"Type_A\",\"Type_A\",\"Type_A\",\"Type_A\",\"Type_A\",\"Type_A\",\"Type_B\",\"Type_B\",\"Type_B\",\"Type_B\",\"Type_A\",\"Type_B\",\"Type_A\",\"Type_A\",\"Type_B\",\"Type_B\",\"Type_B\",\"Type_B\",\"Type_B\",\"Type_B\",\"Type_B\",\"Type_A\",\"Type_B\",\"Type_A\",\"Type_B\",\"Type_A\",\"Type_B\",\"Type_A\",\"Type_B\",\"Type_B\",\"Type_A\",\"Type_B\",\"Type_A\",\"Type_A\",\"Type_B\",\"Type_A\",\"Type_A\",\"Type_B\",\"Type_A\",\"Type_B\",\"Type_A\",\"Type_B\",\"Type_A\",\"Type_A\",\"Type_A\",\"Type_A\",\"Type_B\",\"Type_B\",\"Type_B\",\"Type_A\",\"Type_B\",\"Type_B\",\"Type_B\",\"Type_B\",\"Type_A\",\"Type_B\",\"Type_A\",\"Type_B\",\"Type_B\",\"Type_B\",\"Type_A\",\"Type_B\",\"Type_A\",\"Type_A\",\"Type_B\",\"Type_A\",\"Type_A\",\"Type_B\",\"Type_A\",\"Type_A\",\"Type_B\",\"Type_A\",\"Type_A\",\"Type_B\",\"Type_A\",\"Type_A\",\"Type_A\",\"Type_B\",\"Type_A\",\"Type_B\",\"Type_A\",\"Type_A\",\"Type_A\",\"Type_B\",\"Type_A\",\"Type_A\",\"Type_A\",\"Type_B\",\"Type_B\",\"Type_A\",\"Type_A\",\"Type_B\",\"Type_A\",\"Type_A\",\"Type_A\",\"Type_A\",\"Type_A\",\"Type_A\",\"Type_A\",\"Type_B\",\"Type_A\",\"Type_A\",\"Type_A\",\"Type_A\",\"Type_B\",\"Type_A\",\"Type_A\",\"Type_A\",\"Type_A\",\"Type_A\",\"Type_A\",\"Type_A\",\"Type_B\",\"Type_A\",\"Type_A\",\"Type_A\",\"Type_B\",\"Type_B\",\"Type_B\",\"Type_A\",\"Type_A\",\"Type_A\",\"Type_A\",\"Type_A\",\"Type_B\",\"Type_B\",\"Type_A\",\"Type_A\",\"Type_B\",\"Type_A\",\"Type_A\",\"Type_A\",\"Type_B\",\"Type_A\",\"Type_A\",\"Type_A\",\"Type_B\",\"Type_B\",\"Type_A\",\"Type_A\",\"Type_A\",\"Type_A\",\"Type_B\",\"Type_B\",\"Type_A\",\"Type_A\",\"Type_A\",\"Type_A\",\"Type_A\",\"Type_A\",\"Type_B\",\"Type_B\",\"Type_A\",\"Type_B\",\"Type_B\",\"Type_A\",\"Type_A\",\"Type_A\",\"Type_B\",\"Type_A\",\"Type_B\",\"Type_A\",\"Type_A\",\"Type_A\",\"Type_A\",\"Type_A\",\"Type_A\",\"Type_B\",\"Type_A\",\"Type_B\",\"Type_B\",\"Type_A\",\"Type_A\",\"Type_A\",\"Type_A\",\"Type_A\",\"Type_A\",\"Type_A\",\"Type_A\",\"Type_B\",\"Type_A\",\"Type_A\",\"Type_A\",\"Type_B\",\"Type_A\",\"Type_B\",\"Type_A\",\"Type_B\",\"Type_B\",\"Type_A\",\"Type_B\",\"Type_B\",\"Type_A\",\"Type_B\",\"Type_A\",\"Type_A\",\"Type_A\",\"Type_B\",\"Type_A\",\"Type_B\",\"Type_A\",\"Type_A\",\"Type_B\",\"Type_B\",\"Type_A\",\"Type_A\",\"Type_A\",\"Type_A\",\"Type_A\",\"Type_A\",\"Type_A\",\"Type_B\",\"Type_A\",\"Type_A\",\"Type_A\",\"Type_A\",\"Type_B\",\"Type_A\",\"Type_A\",\"Type_A\",\"Type_B\",\"Type_B\",\"Type_B\",\"Type_B\",\"Type_A\",\"Type_A\",\"Type_A\",\"Type_B\",\"Type_A\",\"Type_A\",\"Type_A\",\"Type_B\",\"Type_A\",\"Type_B\",\"Type_A\",\"Type_A\",\"Type_A\",\"Type_A\",\"Type_A\",\"Type_A\",\"Type_B\",\"Type_A\",\"Type_B\",\"Type_A\",\"Type_A\",\"Type_A\",\"Type_B\",\"Type_A\",\"Type_B\",\"Type_B\",\"Type_A\",\"Type_B\",\"Type_A\",\"Type_B\",\"Type_A\",\"Type_A\",\"Type_B\",\"Type_A\",\"Type_A\",\"Type_B\",\"Type_A\",\"Type_A\",\"Type_A\",\"Type_B\",\"Type_B\",\"Type_A\",\"Type_B\",\"Type_B\",\"Type_A\",\"Type_A\",\"Type_A\",\"Type_A\",\"Type_B\",\"Type_A\",\"Type_A\",\"Type_A\",\"Type_B\",\"Type_B\",\"Type_B\",\"Type_A\",\"Type_B\",\"Type_A\",\"Type_B\",\"Type_A\",\"Type_B\",\"Type_B\",\"Type_A\",\"Type_B\",\"Type_B\",\"Type_B\",\"Type_B\",\"Type_A\",\"Type_B\",\"Type_B\",\"Type_A\",\"Type_A\",\"Type_B\",\"Type_B\",\"Type_A\",\"Type_B\",\"Type_A\",\"Type_B\",\"Type_A\",\"Type_A\",\"Type_A\",\"Type_A\",\"Type_B\",\"Type_B\",\"Type_B\",\"Type_A\",\"Type_A\",\"Type_A\",\"Type_A\",\"Type_B\",\"Type_A\",\"Type_B\",\"Type_B\",\"Type_B\",\"Type_A\",\"Type_A\",\"Type_B\",\"Type_A\",\"Type_A\",\"Type_A\",\"Type_A\",\"Type_A\",\"Type_B\",\"Type_A\",\"Type_A\",\"Type_B\",\"Type_B\",\"Type_B\",\"Type_B\",\"Type_A\",\"Type_B\",\"Type_A\",\"Type_B\",\"Type_B\",\"Type_A\",\"Type_B\",\"Type_B\",\"Type_A\",\"Type_A\",\"Type_B\",\"Type_A\",\"Type_B\",\"Type_A\",\"Type_A\",\"Type_B\",\"Type_A\",\"Type_A\",\"Type_B\",\"Type_A\",\"Type_A\",\"Type_A\",\"Type_B\",\"Type_A\",\"Type_A\",\"Type_B\",\"Type_A\",\"Type_B\",\"Type_A\",\"Type_B\",\"Type_A\",\"Type_B\",\"Type_A\",\"Type_B\",\"Type_A\",\"Type_A\",\"Type_B\",\"Type_A\",\"Type_B\",\"Type_A\",\"Type_A\",\"Type_A\",\"Type_A\",\"Type_B\",\"Type_B\",\"Type_B\",\"Type_A\",\"Type_A\",\"Type_B\",\"Type_A\",\"Type_A\",\"Type_B\",\"Type_A\",\"Type_B\",\"Type_B\",\"Type_B\",\"Type_A\",\"Type_A\",\"Type_A\",\"Type_A\",\"Type_A\",\"Type_B\",\"Type_A\",\"Type_A\",\"Type_A\",\"Type_A\",\"Type_A\",\"Type_A\",\"Type_A\",\"Type_A\",\"Type_B\",\"Type_A\",\"Type_A\",\"Type_A\",\"Type_B\",\"Type_A\",\"Type_B\",\"Type_B\",\"Type_B\",\"Type_A\",\"Type_A\",\"Type_A\",\"Type_A\",\"Type_A\",\"Type_A\",\"Type_A\",\"Type_A\",\"Type_A\",\"Type_A\",\"Type_B\",\"Type_A\",\"Type_A\",\"Type_B\",\"Type_A\",\"Type_A\",\"Type_A\",\"Type_B\",\"Type_A\",\"Type_B\",\"Type_B\",\"Type_A\",\"Type_A\",\"Type_B\",\"Type_B\",\"Type_A\",\"Type_A\",\"Type_B\",\"Type_A\",\"Type_A\",\"Type_A\",\"Type_A\",\"Type_A\",\"Type_A\",\"Type_A\",\"Type_B\",\"Type_A\",\"Type_B\",\"Type_A\",\"Type_A\",\"Type_A\",\"Type_B\",\"Type_A\",\"Type_B\",\"Type_A\",\"Type_A\",\"Type_B\",\"Type_A\",\"Type_A\",\"Type_B\",\"Type_A\",\"Type_A\",\"Type_B\",\"Type_A\",\"Type_A\",\"Type_B\",\"Type_B\",\"Type_B\",\"Type_B\",\"Type_B\",\"Type_A\",\"Type_A\",\"Type_A\",\"Type_B\",\"Type_A\",\"Type_B\",\"Type_B\",\"Type_B\",\"Type_A\",\"Type_A\",\"Type_B\",\"Type_B\",\"Type_A\",\"Type_A\",\"Type_B\",\"Type_A\"],\"type\":\"histogram\",\"opacity\":0.4},{\"histnorm\":\"probability density\",\"name\":\"production\",\"x\":[\"Type_A\",\"Type_B\",\"Type_B\",\"Type_A\",\"Type_B\",\"Type_A\",\"Type_A\",\"Type_B\",\"Type_B\",\"Type_A\",\"Type_A\",\"Type_B\",\"Type_A\",\"Type_A\",\"Type_A\",\"Type_A\",\"Type_A\",\"Type_A\",\"Type_B\",\"Type_B\",\"Type_A\",\"Type_A\",\"Type_A\",\"Type_B\",\"Type_A\",\"Type_A\",\"Type_A\",\"Type_B\",\"Type_B\",\"Type_A\",\"Type_A\",\"Type_A\",\"Type_A\",\"Type_B\",\"Type_B\",\"Type_B\",\"Type_B\",\"Type_A\",\"Type_B\",\"Type_B\",\"Type_B\",\"Type_B\",\"Type_A\",\"Type_A\",\"Type_A\",\"Type_A\",\"Type_B\",\"Type_B\",\"Type_A\",\"Type_B\",\"Type_B\",\"Type_A\",\"Type_B\",\"Type_B\",\"Type_A\",\"Type_A\",\"Type_A\",\"Type_B\",\"Type_A\",\"Type_B\",\"Type_B\",\"Type_B\",\"Type_B\",\"Type_A\",\"Type_B\",\"Type_A\",\"Type_A\",\"Type_B\",\"Type_A\",\"Type_A\",\"Type_A\",\"Type_B\",\"Type_B\",\"Type_A\",\"Type_A\",\"Type_A\",\"Type_B\",\"Type_A\",\"Type_A\",\"Type_A\",\"Type_B\",\"Type_A\",\"Type_A\",\"Type_A\",\"Type_B\",\"Type_A\",\"Type_A\",\"Type_B\",\"Type_B\",\"Type_A\",\"Type_A\",\"Type_B\",\"Type_A\",\"Type_B\",\"Type_A\",\"Type_B\",\"Type_A\",\"Type_A\",\"Type_B\",\"Type_A\",\"Type_B\",\"Type_B\",\"Type_B\",\"Type_B\",\"Type_B\",\"Type_B\",\"Type_A\",\"Type_B\",\"Type_B\",\"Type_A\",\"Type_A\",\"Type_A\",\"Type_A\",\"Type_A\",\"Type_A\",\"Type_B\",\"Type_B\",\"Type_B\",\"Type_B\",\"Type_B\",\"Type_B\",\"Type_B\",\"Type_B\",\"Type_A\",\"Type_A\",\"Type_B\",\"Type_B\",\"Type_A\",\"Type_A\",\"Type_A\",\"Type_B\",\"Type_B\",\"Type_B\",\"Type_B\",\"Type_B\",\"Type_A\",\"Type_B\",\"Type_A\",\"Type_B\",\"Type_A\",\"Type_B\",\"Type_A\",\"Type_B\",\"Type_B\",\"Type_B\",\"Type_A\",\"Type_A\",\"Type_A\",\"Type_A\",\"Type_B\",\"Type_A\",\"Type_B\",\"Type_A\",\"Type_A\",\"Type_A\",\"Type_A\",\"Type_B\",\"Type_B\",\"Type_A\",\"Type_A\",\"Type_B\",\"Type_B\",\"Type_A\",\"Type_A\",\"Type_A\",\"Type_A\",\"Type_B\",\"Type_B\",\"Type_A\",\"Type_B\",\"Type_A\",\"Type_B\",\"Type_B\",\"Type_A\",\"Type_A\",\"Type_A\",\"Type_A\",\"Type_B\",\"Type_A\",\"Type_B\",\"Type_A\",\"Type_A\",\"Type_A\",\"Type_B\",\"Type_A\",\"Type_B\",\"Type_B\",\"Type_A\",\"Type_B\",\"Type_A\",\"Type_A\",\"Type_B\",\"Type_B\",\"Type_A\",\"Type_A\",\"Type_B\",\"Type_B\",\"Type_A\",\"Type_A\",\"Type_A\",\"Type_A\",\"Type_A\",\"Type_A\",\"Type_A\",\"Type_A\",\"Type_A\",\"Type_B\",\"Type_A\",\"Type_A\",\"Type_B\",\"Type_A\",\"Type_B\",\"Type_A\",\"Type_B\",\"Type_A\",\"Type_A\",\"Type_B\",\"Type_A\",\"Type_B\",\"Type_B\",\"Type_B\",\"Type_B\",\"Type_B\",\"Type_B\",\"Type_A\",\"Type_A\",\"Type_A\",\"Type_B\",\"Type_A\",\"Type_B\",\"Type_A\",\"Type_B\",\"Type_B\",\"Type_B\",\"Type_A\",\"Type_A\",\"Type_A\",\"Type_B\",\"Type_A\",\"Type_A\",\"Type_B\",\"Type_A\",\"Type_A\",\"Type_A\",\"Type_A\",\"Type_A\",\"Type_A\",\"Type_B\",\"Type_B\",\"Type_B\",\"Type_A\",\"Type_A\",\"Type_A\",\"Type_B\",\"Type_B\",\"Type_B\",\"Type_B\",\"Type_A\",\"Type_B\",\"Type_B\",\"Type_A\",\"Type_A\",\"Type_B\",\"Type_B\",\"Type_A\",\"Type_A\",\"Type_B\",\"Type_A\",\"Type_A\",\"Type_B\",\"Type_A\",\"Type_B\",\"Type_B\",\"Type_B\",\"Type_A\",\"Type_B\",\"Type_B\",\"Type_B\",\"Type_A\",\"Type_A\",\"Type_A\",\"Type_A\",\"Type_A\",\"Type_A\",\"Type_A\",\"Type_B\",\"Type_A\",\"Type_A\",\"Type_A\",\"Type_A\",\"Type_B\",\"Type_A\",\"Type_A\",\"Type_A\",\"Type_A\",\"Type_B\",\"Type_B\",\"Type_B\",\"Type_B\",\"Type_A\",\"Type_B\",\"Type_B\",\"Type_B\",\"Type_B\",\"Type_B\",\"Type_B\",\"Type_B\",\"Type_B\",\"Type_A\",\"Type_A\",\"Type_B\",\"Type_A\",\"Type_B\",\"Type_B\",\"Type_B\",\"Type_B\",\"Type_B\",\"Type_B\",\"Type_A\",\"Type_A\",\"Type_B\",\"Type_A\",\"Type_A\",\"Type_B\",\"Type_B\",\"Type_A\",\"Type_B\",\"Type_A\",\"Type_A\",\"Type_A\",\"Type_A\",\"Type_A\",\"Type_B\",\"Type_A\",\"Type_B\",\"Type_B\",\"Type_A\",\"Type_B\",\"Type_A\",\"Type_A\",\"Type_B\",\"Type_B\",\"Type_A\",\"Type_B\",\"Type_A\",\"Type_A\",\"Type_B\",\"Type_B\",\"Type_A\",\"Type_B\",\"Type_B\",\"Type_B\",\"Type_B\",\"Type_A\",\"Type_B\",\"Type_B\",\"Type_A\",\"Type_B\",\"Type_A\",\"Type_B\",\"Type_B\",\"Type_A\",\"Type_B\",\"Type_B\",\"Type_B\",\"Type_B\",\"Type_B\",\"Type_B\",\"Type_B\",\"Type_B\",\"Type_A\",\"Type_A\",\"Type_A\",\"Type_B\",\"Type_B\",\"Type_A\",\"Type_B\",\"Type_A\",\"Type_A\",\"Type_B\",\"Type_A\",\"Type_A\",\"Type_A\",\"Type_A\",\"Type_A\",\"Type_B\",\"Type_A\",\"Type_B\",\"Type_B\",\"Type_A\",\"Type_B\",\"Type_B\",\"Type_B\",\"Type_A\",\"Type_A\",\"Type_B\",\"Type_B\",\"Type_B\",\"Type_B\",\"Type_B\",\"Type_A\",\"Type_B\",\"Type_A\",\"Type_B\",\"Type_A\",\"Type_A\",\"Type_A\",\"Type_B\",\"Type_B\",\"Type_B\",\"Type_B\",\"Type_B\",\"Type_B\",\"Type_A\",\"Type_B\",\"Type_A\",\"Type_A\",\"Type_B\",\"Type_B\",\"Type_B\",\"Type_A\",\"Type_A\",\"Type_A\",\"Type_B\",\"Type_B\",\"Type_A\",\"Type_A\",\"Type_A\",\"Type_B\",\"Type_A\",\"Type_A\",\"Type_B\",\"Type_B\",\"Type_A\",\"Type_B\",\"Type_B\",\"Type_B\",\"Type_B\",\"Type_B\",\"Type_A\",\"Type_A\",\"Type_B\",\"Type_B\",\"Type_B\",\"Type_B\",\"Type_A\",\"Type_A\",\"Type_A\",\"Type_A\",\"Type_B\",\"Type_A\",\"Type_A\",\"Type_A\",\"Type_A\",\"Type_A\",\"Type_B\",\"Type_B\",\"Type_A\",\"Type_A\",\"Type_B\",\"Type_A\",\"Type_A\",\"Type_B\",\"Type_B\",\"Type_A\",\"Type_B\",\"Type_B\",\"Type_A\",\"Type_A\",\"Type_B\",\"Type_B\",\"Type_B\",\"Type_A\",\"Type_B\",\"Type_A\",\"Type_A\",\"Type_B\",\"Type_A\",\"Type_B\",\"Type_B\",\"Type_B\",\"Type_B\",\"Type_B\",\"Type_B\",\"Type_B\",\"Type_B\",\"Type_B\",\"Type_B\",\"Type_A\",\"Type_B\",\"Type_A\",\"Type_A\",\"Type_A\",\"Type_A\",\"Type_A\",\"Type_A\",\"Type_B\",\"Type_B\",\"Type_A\",\"Type_A\"],\"type\":\"histogram\",\"opacity\":0.4}],                        {\"template\":{\"data\":{\"histogram2dcontour\":[{\"type\":\"histogram2dcontour\",\"colorbar\":{\"outlinewidth\":0,\"ticks\":\"\"},\"colorscale\":[[0.0,\"#0d0887\"],[0.1111111111111111,\"#46039f\"],[0.2222222222222222,\"#7201a8\"],[0.3333333333333333,\"#9c179e\"],[0.4444444444444444,\"#bd3786\"],[0.5555555555555556,\"#d8576b\"],[0.6666666666666666,\"#ed7953\"],[0.7777777777777778,\"#fb9f3a\"],[0.8888888888888888,\"#fdca26\"],[1.0,\"#f0f921\"]]}],\"choropleth\":[{\"type\":\"choropleth\",\"colorbar\":{\"outlinewidth\":0,\"ticks\":\"\"}}],\"histogram2d\":[{\"type\":\"histogram2d\",\"colorbar\":{\"outlinewidth\":0,\"ticks\":\"\"},\"colorscale\":[[0.0,\"#0d0887\"],[0.1111111111111111,\"#46039f\"],[0.2222222222222222,\"#7201a8\"],[0.3333333333333333,\"#9c179e\"],[0.4444444444444444,\"#bd3786\"],[0.5555555555555556,\"#d8576b\"],[0.6666666666666666,\"#ed7953\"],[0.7777777777777778,\"#fb9f3a\"],[0.8888888888888888,\"#fdca26\"],[1.0,\"#f0f921\"]]}],\"heatmap\":[{\"type\":\"heatmap\",\"colorbar\":{\"outlinewidth\":0,\"ticks\":\"\"},\"colorscale\":[[0.0,\"#0d0887\"],[0.1111111111111111,\"#46039f\"],[0.2222222222222222,\"#7201a8\"],[0.3333333333333333,\"#9c179e\"],[0.4444444444444444,\"#bd3786\"],[0.5555555555555556,\"#d8576b\"],[0.6666666666666666,\"#ed7953\"],[0.7777777777777778,\"#fb9f3a\"],[0.8888888888888888,\"#fdca26\"],[1.0,\"#f0f921\"]]}],\"heatmapgl\":[{\"type\":\"heatmapgl\",\"colorbar\":{\"outlinewidth\":0,\"ticks\":\"\"},\"colorscale\":[[0.0,\"#0d0887\"],[0.1111111111111111,\"#46039f\"],[0.2222222222222222,\"#7201a8\"],[0.3333333333333333,\"#9c179e\"],[0.4444444444444444,\"#bd3786\"],[0.5555555555555556,\"#d8576b\"],[0.6666666666666666,\"#ed7953\"],[0.7777777777777778,\"#fb9f3a\"],[0.8888888888888888,\"#fdca26\"],[1.0,\"#f0f921\"]]}],\"contourcarpet\":[{\"type\":\"contourcarpet\",\"colorbar\":{\"outlinewidth\":0,\"ticks\":\"\"}}],\"contour\":[{\"type\":\"contour\",\"colorbar\":{\"outlinewidth\":0,\"ticks\":\"\"},\"colorscale\":[[0.0,\"#0d0887\"],[0.1111111111111111,\"#46039f\"],[0.2222222222222222,\"#7201a8\"],[0.3333333333333333,\"#9c179e\"],[0.4444444444444444,\"#bd3786\"],[0.5555555555555556,\"#d8576b\"],[0.6666666666666666,\"#ed7953\"],[0.7777777777777778,\"#fb9f3a\"],[0.8888888888888888,\"#fdca26\"],[1.0,\"#f0f921\"]]}],\"surface\":[{\"type\":\"surface\",\"colorbar\":{\"outlinewidth\":0,\"ticks\":\"\"},\"colorscale\":[[0.0,\"#0d0887\"],[0.1111111111111111,\"#46039f\"],[0.2222222222222222,\"#7201a8\"],[0.3333333333333333,\"#9c179e\"],[0.4444444444444444,\"#bd3786\"],[0.5555555555555556,\"#d8576b\"],[0.6666666666666666,\"#ed7953\"],[0.7777777777777778,\"#fb9f3a\"],[0.8888888888888888,\"#fdca26\"],[1.0,\"#f0f921\"]]}],\"mesh3d\":[{\"type\":\"mesh3d\",\"colorbar\":{\"outlinewidth\":0,\"ticks\":\"\"}}],\"scatter\":[{\"fillpattern\":{\"fillmode\":\"overlay\",\"size\":10,\"solidity\":0.2},\"type\":\"scatter\"}],\"parcoords\":[{\"type\":\"parcoords\",\"line\":{\"colorbar\":{\"outlinewidth\":0,\"ticks\":\"\"}}}],\"scatterpolargl\":[{\"type\":\"scatterpolargl\",\"marker\":{\"colorbar\":{\"outlinewidth\":0,\"ticks\":\"\"}}}],\"bar\":[{\"error_x\":{\"color\":\"#2a3f5f\"},\"error_y\":{\"color\":\"#2a3f5f\"},\"marker\":{\"line\":{\"color\":\"#E5ECF6\",\"width\":0.5},\"pattern\":{\"fillmode\":\"overlay\",\"size\":10,\"solidity\":0.2}},\"type\":\"bar\"}],\"scattergeo\":[{\"type\":\"scattergeo\",\"marker\":{\"colorbar\":{\"outlinewidth\":0,\"ticks\":\"\"}}}],\"scatterpolar\":[{\"type\":\"scatterpolar\",\"marker\":{\"colorbar\":{\"outlinewidth\":0,\"ticks\":\"\"}}}],\"histogram\":[{\"marker\":{\"pattern\":{\"fillmode\":\"overlay\",\"size\":10,\"solidity\":0.2}},\"type\":\"histogram\"}],\"scattergl\":[{\"type\":\"scattergl\",\"marker\":{\"colorbar\":{\"outlinewidth\":0,\"ticks\":\"\"}}}],\"scatter3d\":[{\"type\":\"scatter3d\",\"line\":{\"colorbar\":{\"outlinewidth\":0,\"ticks\":\"\"}},\"marker\":{\"colorbar\":{\"outlinewidth\":0,\"ticks\":\"\"}}}],\"scattermapbox\":[{\"type\":\"scattermapbox\",\"marker\":{\"colorbar\":{\"outlinewidth\":0,\"ticks\":\"\"}}}],\"scatterternary\":[{\"type\":\"scatterternary\",\"marker\":{\"colorbar\":{\"outlinewidth\":0,\"ticks\":\"\"}}}],\"scattercarpet\":[{\"type\":\"scattercarpet\",\"marker\":{\"colorbar\":{\"outlinewidth\":0,\"ticks\":\"\"}}}],\"carpet\":[{\"aaxis\":{\"endlinecolor\":\"#2a3f5f\",\"gridcolor\":\"white\",\"linecolor\":\"white\",\"minorgridcolor\":\"white\",\"startlinecolor\":\"#2a3f5f\"},\"baxis\":{\"endlinecolor\":\"#2a3f5f\",\"gridcolor\":\"white\",\"linecolor\":\"white\",\"minorgridcolor\":\"white\",\"startlinecolor\":\"#2a3f5f\"},\"type\":\"carpet\"}],\"table\":[{\"cells\":{\"fill\":{\"color\":\"#EBF0F8\"},\"line\":{\"color\":\"white\"}},\"header\":{\"fill\":{\"color\":\"#C8D4E3\"},\"line\":{\"color\":\"white\"}},\"type\":\"table\"}],\"barpolar\":[{\"marker\":{\"line\":{\"color\":\"#E5ECF6\",\"width\":0.5},\"pattern\":{\"fillmode\":\"overlay\",\"size\":10,\"solidity\":0.2}},\"type\":\"barpolar\"}],\"pie\":[{\"automargin\":true,\"type\":\"pie\"}]},\"layout\":{\"autotypenumbers\":\"strict\",\"colorway\":[\"#636efa\",\"#EF553B\",\"#00cc96\",\"#ab63fa\",\"#FFA15A\",\"#19d3f3\",\"#FF6692\",\"#B6E880\",\"#FF97FF\",\"#FECB52\"],\"font\":{\"color\":\"#2a3f5f\"},\"hovermode\":\"closest\",\"hoverlabel\":{\"align\":\"left\"},\"paper_bgcolor\":\"white\",\"plot_bgcolor\":\"#E5ECF6\",\"polar\":{\"bgcolor\":\"#E5ECF6\",\"angularaxis\":{\"gridcolor\":\"white\",\"linecolor\":\"white\",\"ticks\":\"\"},\"radialaxis\":{\"gridcolor\":\"white\",\"linecolor\":\"white\",\"ticks\":\"\"}},\"ternary\":{\"bgcolor\":\"#E5ECF6\",\"aaxis\":{\"gridcolor\":\"white\",\"linecolor\":\"white\",\"ticks\":\"\"},\"baxis\":{\"gridcolor\":\"white\",\"linecolor\":\"white\",\"ticks\":\"\"},\"caxis\":{\"gridcolor\":\"white\",\"linecolor\":\"white\",\"ticks\":\"\"}},\"coloraxis\":{\"colorbar\":{\"outlinewidth\":0,\"ticks\":\"\"}},\"colorscale\":{\"sequential\":[[0.0,\"#0d0887\"],[0.1111111111111111,\"#46039f\"],[0.2222222222222222,\"#7201a8\"],[0.3333333333333333,\"#9c179e\"],[0.4444444444444444,\"#bd3786\"],[0.5555555555555556,\"#d8576b\"],[0.6666666666666666,\"#ed7953\"],[0.7777777777777778,\"#fb9f3a\"],[0.8888888888888888,\"#fdca26\"],[1.0,\"#f0f921\"]],\"sequentialminus\":[[0.0,\"#0d0887\"],[0.1111111111111111,\"#46039f\"],[0.2222222222222222,\"#7201a8\"],[0.3333333333333333,\"#9c179e\"],[0.4444444444444444,\"#bd3786\"],[0.5555555555555556,\"#d8576b\"],[0.6666666666666666,\"#ed7953\"],[0.7777777777777778,\"#fb9f3a\"],[0.8888888888888888,\"#fdca26\"],[1.0,\"#f0f921\"]],\"diverging\":[[0,\"#8e0152\"],[0.1,\"#c51b7d\"],[0.2,\"#de77ae\"],[0.3,\"#f1b6da\"],[0.4,\"#fde0ef\"],[0.5,\"#f7f7f7\"],[0.6,\"#e6f5d0\"],[0.7,\"#b8e186\"],[0.8,\"#7fbc41\"],[0.9,\"#4d9221\"],[1,\"#276419\"]]},\"xaxis\":{\"gridcolor\":\"white\",\"linecolor\":\"white\",\"ticks\":\"\",\"title\":{\"standoff\":15},\"zerolinecolor\":\"white\",\"automargin\":true,\"zerolinewidth\":2},\"yaxis\":{\"gridcolor\":\"white\",\"linecolor\":\"white\",\"ticks\":\"\",\"title\":{\"standoff\":15},\"zerolinecolor\":\"white\",\"automargin\":true,\"zerolinewidth\":2},\"scene\":{\"xaxis\":{\"backgroundcolor\":\"#E5ECF6\",\"gridcolor\":\"white\",\"linecolor\":\"white\",\"showbackground\":true,\"ticks\":\"\",\"zerolinecolor\":\"white\",\"gridwidth\":2},\"yaxis\":{\"backgroundcolor\":\"#E5ECF6\",\"gridcolor\":\"white\",\"linecolor\":\"white\",\"showbackground\":true,\"ticks\":\"\",\"zerolinecolor\":\"white\",\"gridwidth\":2},\"zaxis\":{\"backgroundcolor\":\"#E5ECF6\",\"gridcolor\":\"white\",\"linecolor\":\"white\",\"showbackground\":true,\"ticks\":\"\",\"zerolinecolor\":\"white\",\"gridwidth\":2}},\"shapedefaults\":{\"line\":{\"color\":\"#2a3f5f\"}},\"annotationdefaults\":{\"arrowcolor\":\"#2a3f5f\",\"arrowhead\":0,\"arrowwidth\":1},\"geo\":{\"bgcolor\":\"white\",\"landcolor\":\"#E5ECF6\",\"subunitcolor\":\"white\",\"showland\":true,\"showlakes\":true,\"lakecolor\":\"white\"},\"title\":{\"x\":0.05},\"mapbox\":{\"style\":\"light\"}}},\"barmode\":\"overlay\",\"title\":{\"text\":\"Product_Type Distribution\"},\"xaxis\":{\"title\":{\"text\":\"Product_Type\"}},\"yaxis\":{\"title\":{\"text\":\"probability density\"}},\"autosize\":false,\"width\":700,\"height\":300},                        {\"responsive\": true}                    ).then(function(){\n",
       "                            \n",
       "var gd = document.getElementById('e4ab4f3e-5740-4836-baff-52260fde0c5f');\n",
       "var x = new MutationObserver(function (mutations, observer) {{\n",
       "        var display = window.getComputedStyle(gd).display;\n",
       "        if (!display || display === 'none') {{\n",
       "            console.log([gd, 'removed!']);\n",
       "            Plotly.purge(gd);\n",
       "            observer.disconnect();\n",
       "        }}\n",
       "}});\n",
       "\n",
       "// Listen for the removal of the full notebook cells\n",
       "var notebookContainer = gd.closest('#notebook-container');\n",
       "if (notebookContainer) {{\n",
       "    x.observe(notebookContainer, {childList: true});\n",
       "}}\n",
       "\n",
       "// Listen for the clearing of the current output cell\n",
       "var outputEl = gd.closest('.output');\n",
       "if (outputEl) {{\n",
       "    x.observe(outputEl, {childList: true});\n",
       "}}\n",
       "\n",
       "                        })                };                });            </script>        </div>"
      ]
     },
     "metadata": {},
     "output_type": "display_data"
    },
    {
     "data": {
      "text/plain": [
       "True"
      ]
     },
     "execution_count": 671,
     "metadata": {},
     "output_type": "execute_result"
    }
   ],
   "source": [
    "test_mlflow(experiment_name = 'mlflow drift detection test')"
   ]
  },
  {
   "cell_type": "markdown",
   "id": "54fd2d36",
   "metadata": {},
   "source": [
    "#### Simulate model on data from 2019-03-01 to 2020-11-15"
   ]
  },
  {
   "cell_type": "code",
   "execution_count": 672,
   "id": "50130bfa",
   "metadata": {},
   "outputs": [],
   "source": [
    "simulate_df = df[df.date >= datetime(2019,3,1)]"
   ]
  },
  {
   "cell_type": "code",
   "execution_count": 673,
   "id": "45e01019",
   "metadata": {},
   "outputs": [],
   "source": [
    "@mlflow_runner\n",
    "def simulate_Weekly_experiment(df, model, preds, experiment_name, week_num,plot_display =False):\n",
    "    # Get weekly data\n",
    "        row = df.iloc[0]\n",
    "        dt = row['date']\n",
    "        start = dt - timedelta(days=row['date'].weekday())\n",
    "        end = start + timedelta(days=6)\n",
    "        sub_df = df.set_index('date')[start:end]\n",
    "        sub_df = sub_df.reset_index().set_index('ID')\n",
    "        df = df[(df.date.dt.date > end.date())]\n",
    "        print(f'Experiment week {week_num}')\n",
    "        print('---------------------------------')\n",
    "        print(f\"Experiment start date : {start.to_pydatetime()}\")\n",
    "        print(f\"Experiment end_date : {end.to_pydatetime()}\")\n",
    "        mlflow.log_param('experiment_week',week_num)\n",
    "        mlflow.log_param('week_begin_experiment_start_date',start)\n",
    "        mlflow.log_param('week_end_experiment_end_date',end)\n",
    "        \n",
    "        # Transform sub_df to X, y\n",
    "        X_prod,y_prod = split_features_target(sub_df)\n",
    "        X_prod_transformed = ht.transform(X_prod)\n",
    "        mlflow.log_dict(X_prod_transformed.to_dict(), 'input_features.json')\n",
    "        mlflow.log_dict(y_prod.to_dict(), 'target.json')\n",
    "        # weekly_prediction\n",
    "        weekly_predictions = model.predict(X_prod_transformed)\n",
    "\n",
    "        mlflow.log_dict(pd.Series(weekly_predictions,name=y_prod.name, index = y_prod.index).to_dict(),'weekly_predictions.json')\n",
    "        # Predict for X,y\n",
    "        scores_dict = get_scores(y_prod,weekly_predictions,f\"weekly\")\n",
    "        mlflow.log_metrics(scores_dict)\n",
    "        preds.extend(weekly_predictions.tolist())\n",
    "        ht.fit(X_prod)\n",
    "        if test_for_drift(X_transformed, y, X_prod_transformed, y_prod, reg, plot_display, mlflow_log=True):\n",
    "            # retrain model\n",
    "            # test for drift an\n",
    "            logging.info('Retraining model')\n",
    "            model.fit(X_prod_transformed, y_prod)\n",
    "        else:\n",
    "            logging.info('No Drift detection')\n",
    "        return df, preds"
   ]
  },
  {
   "cell_type": "code",
   "execution_count": 674,
   "id": "245dc46d",
   "metadata": {},
   "outputs": [],
   "source": [
    "def simulate_model(df, model, experiment_name, plot_display =False):\n",
    "    \n",
    "    preds = []\n",
    "    df = df.reset_index()\n",
    "    current_df = df\n",
    "    week_num = 1\n",
    "    while current_df.shape[0] > 0:\n",
    "\n",
    "        current_df, preds = simulate_Weekly_experiment(current_df, model, preds, experiment_name = experiment_name, \n",
    "        week_num=week_num, plot_display = plot_display)\n",
    "        week_num +=1\n",
    "    return preds   "
   ]
  },
  {
   "cell_type": "code",
   "execution_count": 675,
   "id": "b4ca0118",
   "metadata": {},
   "outputs": [
    {
     "name": "stdout",
     "output_type": "stream",
     "text": [
      "Experiment week 1\n",
      "---------------------------------\n",
      "Experiment start date : 2019-02-25 00:00:00\n",
      "Experiment end_date : 2019-03-03 00:00:00\n"
     ]
    },
    {
     "name": "stderr",
     "output_type": "stream",
     "text": [
      "11:24:56 INFO:target drift detect: True\n",
      "d:\\anaconda\\envs\\anaconda_env\\lib\\site-packages\\xgboost\\core.py:90: UserWarning:\n",
      "\n",
      "ntree_limit is deprecated, use `iteration_range` or model slicing instead.\n",
      "\n",
      "11:24:56 INFO:data set drift detected\n",
      "11:24:57 INFO:drift detected for warehouse_ID.value\n",
      "11:24:57 INFO:drift_score : 0.8325546111576977\n",
      "11:24:57 INFO:stattest_name : Jensen-Shannon distance\n",
      "11:24:57 INFO:raw_feature_importance : 0.3413332402706146\n",
      "11:24:57 INFO:relative_feature_importance : 0.14489641785621643\n",
      "11:24:57 INFO:feature_importance_weighted_drift_score : 0.12063418082642556\n",
      "11:24:57 INFO:drift detected for Product_Type.value\n",
      "11:24:57 INFO:drift_score : 0.8325546111576977\n",
      "11:24:57 INFO:stattest_name : Jensen-Shannon distance\n",
      "11:24:57 INFO:raw_feature_importance : 2.3557052612304688\n",
      "11:24:57 INFO:relative_feature_importance : 1.0\n",
      "11:24:57 INFO:feature_importance_weighted_drift_score : 0.8325546111576977\n",
      "11:24:57 INFO:drift detected for is_weekend.value\n",
      "11:24:57 INFO:drift_score : 0.8325546111576977\n",
      "11:24:57 INFO:stattest_name : Jensen-Shannon distance\n",
      "11:24:57 INFO:raw_feature_importance : 0.5882567763328552\n",
      "11:24:57 INFO:relative_feature_importance : 0.24971577525138855\n",
      "11:24:57 INFO:feature_importance_weighted_drift_score : 0.20790202016436282\n",
      "11:24:57 INFO:Retraining model\n"
     ]
    },
    {
     "name": "stdout",
     "output_type": "stream",
     "text": [
      "Experiment week 2\n",
      "---------------------------------\n",
      "Experiment start date : 2019-03-04 00:00:00\n",
      "Experiment end_date : 2019-03-10 00:00:00\n"
     ]
    },
    {
     "name": "stderr",
     "output_type": "stream",
     "text": [
      "11:24:58 INFO:target drift detect: True\n",
      "d:\\anaconda\\envs\\anaconda_env\\lib\\site-packages\\xgboost\\core.py:90: UserWarning:\n",
      "\n",
      "ntree_limit is deprecated, use `iteration_range` or model slicing instead.\n",
      "\n",
      "11:24:58 INFO:data set drift detected\n",
      "11:24:58 INFO:drift detected for Product_Type.value\n",
      "11:24:58 INFO:drift_score : 0.8325546111576977\n",
      "11:24:58 INFO:stattest_name : Jensen-Shannon distance\n",
      "11:24:58 INFO:raw_feature_importance : 2.193288564682007\n",
      "11:24:58 INFO:relative_feature_importance : 1.0\n",
      "11:24:58 INFO:feature_importance_weighted_drift_score : 0.8325546111576977\n",
      "11:24:58 INFO:Retraining model\n"
     ]
    },
    {
     "name": "stdout",
     "output_type": "stream",
     "text": [
      "Experiment week 3\n",
      "---------------------------------\n",
      "Experiment start date : 2019-03-11 00:00:00\n",
      "Experiment end_date : 2019-03-17 00:00:00\n"
     ]
    },
    {
     "name": "stderr",
     "output_type": "stream",
     "text": [
      "11:24:59 INFO:target drift detect: True\n",
      "d:\\anaconda\\envs\\anaconda_env\\lib\\site-packages\\xgboost\\core.py:90: UserWarning:\n",
      "\n",
      "ntree_limit is deprecated, use `iteration_range` or model slicing instead.\n",
      "\n",
      "11:24:59 INFO:data set drift detected\n",
      "11:24:59 INFO:drift detected for Product_Type.value\n",
      "11:24:59 INFO:drift_score : 0.8325546111576977\n",
      "11:24:59 INFO:stattest_name : Jensen-Shannon distance\n",
      "11:24:59 INFO:raw_feature_importance : 2.0501251220703125\n",
      "11:24:59 INFO:relative_feature_importance : 1.0\n",
      "11:24:59 INFO:feature_importance_weighted_drift_score : 0.8325546111576977\n",
      "11:25:00 INFO:Retraining model\n"
     ]
    },
    {
     "name": "stdout",
     "output_type": "stream",
     "text": [
      "Experiment week 4\n",
      "---------------------------------\n",
      "Experiment start date : 2019-03-18 00:00:00\n",
      "Experiment end_date : 2019-03-24 00:00:00\n"
     ]
    },
    {
     "name": "stderr",
     "output_type": "stream",
     "text": [
      "11:25:00 INFO:target drift detect: True\n",
      "d:\\anaconda\\envs\\anaconda_env\\lib\\site-packages\\xgboost\\core.py:90: UserWarning:\n",
      "\n",
      "ntree_limit is deprecated, use `iteration_range` or model slicing instead.\n",
      "\n",
      "11:25:00 INFO:data set drift detected\n",
      "11:25:01 INFO:drift detected for Product_Type.value\n",
      "11:25:01 INFO:drift_score : 0.8325546111576977\n",
      "11:25:01 INFO:stattest_name : Jensen-Shannon distance\n",
      "11:25:01 INFO:raw_feature_importance : 2.158252477645874\n",
      "11:25:01 INFO:relative_feature_importance : 1.0\n",
      "11:25:01 INFO:feature_importance_weighted_drift_score : 0.8325546111576977\n",
      "11:25:01 INFO:Retraining model\n"
     ]
    },
    {
     "name": "stdout",
     "output_type": "stream",
     "text": [
      "Experiment week 5\n",
      "---------------------------------\n",
      "Experiment start date : 2019-03-25 00:00:00\n",
      "Experiment end_date : 2019-03-31 00:00:00\n"
     ]
    },
    {
     "name": "stderr",
     "output_type": "stream",
     "text": [
      "11:25:01 INFO:target drift detect: True\n",
      "d:\\anaconda\\envs\\anaconda_env\\lib\\site-packages\\xgboost\\core.py:90: UserWarning:\n",
      "\n",
      "ntree_limit is deprecated, use `iteration_range` or model slicing instead.\n",
      "\n",
      "11:25:01 INFO:data set drift detected\n",
      "11:25:02 INFO:drift detected for Product_Type.value\n",
      "11:25:02 INFO:drift_score : 0.8325546111576977\n",
      "11:25:02 INFO:stattest_name : Jensen-Shannon distance\n",
      "11:25:02 INFO:raw_feature_importance : 1.9569185972213745\n",
      "11:25:02 INFO:relative_feature_importance : 1.0\n",
      "11:25:02 INFO:feature_importance_weighted_drift_score : 0.8325546111576977\n",
      "11:25:02 INFO:Retraining model\n"
     ]
    },
    {
     "name": "stdout",
     "output_type": "stream",
     "text": [
      "Experiment week 6\n",
      "---------------------------------\n",
      "Experiment start date : 2019-04-01 00:00:00\n",
      "Experiment end_date : 2019-04-07 00:00:00\n"
     ]
    },
    {
     "name": "stderr",
     "output_type": "stream",
     "text": [
      "11:25:03 INFO:target drift detect: True\n",
      "d:\\anaconda\\envs\\anaconda_env\\lib\\site-packages\\xgboost\\core.py:90: UserWarning:\n",
      "\n",
      "ntree_limit is deprecated, use `iteration_range` or model slicing instead.\n",
      "\n",
      "11:25:03 INFO:data set drift detected\n",
      "11:25:03 INFO:drift detected for Product_Type.value\n",
      "11:25:03 INFO:drift_score : 0.8325546111576977\n",
      "11:25:03 INFO:stattest_name : Jensen-Shannon distance\n",
      "11:25:03 INFO:raw_feature_importance : 2.2027387619018555\n",
      "11:25:03 INFO:relative_feature_importance : 1.0\n",
      "11:25:03 INFO:feature_importance_weighted_drift_score : 0.8325546111576977\n",
      "11:25:03 INFO:Retraining model\n"
     ]
    },
    {
     "name": "stdout",
     "output_type": "stream",
     "text": [
      "Experiment week 7\n",
      "---------------------------------\n",
      "Experiment start date : 2019-04-08 00:00:00\n",
      "Experiment end_date : 2019-04-14 00:00:00\n"
     ]
    },
    {
     "name": "stderr",
     "output_type": "stream",
     "text": [
      "11:25:04 INFO:target drift detect: True\n",
      "d:\\anaconda\\envs\\anaconda_env\\lib\\site-packages\\xgboost\\core.py:90: UserWarning:\n",
      "\n",
      "ntree_limit is deprecated, use `iteration_range` or model slicing instead.\n",
      "\n",
      "11:25:04 INFO:data set drift detected\n",
      "11:25:04 INFO:drift detected for Product_Type.value\n",
      "11:25:04 INFO:drift_score : 0.8325546111576977\n",
      "11:25:04 INFO:stattest_name : Jensen-Shannon distance\n",
      "11:25:04 INFO:raw_feature_importance : 2.483466386795044\n",
      "11:25:04 INFO:relative_feature_importance : 1.0\n",
      "11:25:04 INFO:feature_importance_weighted_drift_score : 0.8325546111576977\n",
      "11:25:05 INFO:Retraining model\n"
     ]
    },
    {
     "name": "stdout",
     "output_type": "stream",
     "text": [
      "Experiment week 8\n",
      "---------------------------------\n",
      "Experiment start date : 2019-04-15 00:00:00\n",
      "Experiment end_date : 2019-04-21 00:00:00\n"
     ]
    },
    {
     "name": "stderr",
     "output_type": "stream",
     "text": [
      "11:25:05 INFO:target drift detect: True\n",
      "d:\\anaconda\\envs\\anaconda_env\\lib\\site-packages\\xgboost\\core.py:90: UserWarning:\n",
      "\n",
      "ntree_limit is deprecated, use `iteration_range` or model slicing instead.\n",
      "\n",
      "11:25:05 INFO:data set drift detected\n",
      "11:25:06 INFO:drift detected for Product_Type.value\n",
      "11:25:06 INFO:drift_score : 0.8325546111576977\n",
      "11:25:06 INFO:stattest_name : Jensen-Shannon distance\n",
      "11:25:06 INFO:raw_feature_importance : 2.3496620655059814\n",
      "11:25:06 INFO:relative_feature_importance : 1.0\n",
      "11:25:06 INFO:feature_importance_weighted_drift_score : 0.8325546111576977\n",
      "11:25:06 INFO:Retraining model\n"
     ]
    },
    {
     "name": "stdout",
     "output_type": "stream",
     "text": [
      "Experiment week 9\n",
      "---------------------------------\n",
      "Experiment start date : 2019-04-22 00:00:00\n",
      "Experiment end_date : 2019-04-28 00:00:00\n"
     ]
    },
    {
     "name": "stderr",
     "output_type": "stream",
     "text": [
      "11:25:06 INFO:target drift detect: True\n",
      "d:\\anaconda\\envs\\anaconda_env\\lib\\site-packages\\xgboost\\core.py:90: UserWarning:\n",
      "\n",
      "ntree_limit is deprecated, use `iteration_range` or model slicing instead.\n",
      "\n",
      "11:25:07 INFO:data set drift detected\n",
      "11:25:07 INFO:drift detected for Product_Type.value\n",
      "11:25:07 INFO:drift_score : 0.8325546111576977\n",
      "11:25:07 INFO:stattest_name : Jensen-Shannon distance\n",
      "11:25:07 INFO:raw_feature_importance : 2.249964952468872\n",
      "11:25:07 INFO:relative_feature_importance : 1.0\n",
      "11:25:07 INFO:feature_importance_weighted_drift_score : 0.8325546111576977\n",
      "11:25:07 INFO:Retraining model\n"
     ]
    },
    {
     "name": "stdout",
     "output_type": "stream",
     "text": [
      "Experiment week 10\n",
      "---------------------------------\n",
      "Experiment start date : 2019-04-29 00:00:00\n",
      "Experiment end_date : 2019-05-05 00:00:00\n"
     ]
    },
    {
     "name": "stderr",
     "output_type": "stream",
     "text": [
      "d:\\anaconda\\envs\\anaconda_env\\lib\\site-packages\\rdt\\transformers\\categorical.py:182: UserWarning:\n",
      "\n",
      "The data contains 8 new categories that were not seen in the original data (examples: {'WH_0x3ee'}). Assigning them random values. If you want to model new categories, please fit the transformer again with the new data.\n",
      "\n",
      "d:\\anaconda\\envs\\anaconda_env\\lib\\site-packages\\rdt\\transformers\\categorical.py:182: UserWarning:\n",
      "\n",
      "The data contains 8 new categories that were not seen in the original data (examples: {'columbia'}). Assigning them random values. If you want to model new categories, please fit the transformer again with the new data.\n",
      "\n",
      "11:25:08 INFO:target drift detect: True\n",
      "d:\\anaconda\\envs\\anaconda_env\\lib\\site-packages\\xgboost\\core.py:90: UserWarning:\n",
      "\n",
      "ntree_limit is deprecated, use `iteration_range` or model slicing instead.\n",
      "\n",
      "11:25:08 INFO:data set drift detected\n",
      "11:25:08 INFO:drift detected for Product_Type.value\n",
      "11:25:08 INFO:drift_score : 0.8325546111576977\n",
      "11:25:08 INFO:stattest_name : Jensen-Shannon distance\n",
      "11:25:08 INFO:raw_feature_importance : 2.69618821144104\n",
      "11:25:08 INFO:relative_feature_importance : 1.0\n",
      "11:25:08 INFO:feature_importance_weighted_drift_score : 0.8325546111576977\n",
      "11:25:08 INFO:Retraining model\n"
     ]
    },
    {
     "name": "stdout",
     "output_type": "stream",
     "text": [
      "Experiment week 11\n",
      "---------------------------------\n",
      "Experiment start date : 2019-05-06 00:00:00\n",
      "Experiment end_date : 2019-05-12 00:00:00\n"
     ]
    },
    {
     "name": "stderr",
     "output_type": "stream",
     "text": [
      "11:25:09 INFO:target drift detect: True\n",
      "d:\\anaconda\\envs\\anaconda_env\\lib\\site-packages\\xgboost\\core.py:90: UserWarning:\n",
      "\n",
      "ntree_limit is deprecated, use `iteration_range` or model slicing instead.\n",
      "\n",
      "11:25:09 INFO:data set drift detected\n",
      "11:25:09 INFO:drift detected for Product_Type.value\n",
      "11:25:09 INFO:drift_score : 0.8325546111576977\n",
      "11:25:09 INFO:stattest_name : Jensen-Shannon distance\n",
      "11:25:09 INFO:raw_feature_importance : 2.47459077835083\n",
      "11:25:09 INFO:relative_feature_importance : 1.0\n",
      "11:25:09 INFO:feature_importance_weighted_drift_score : 0.8325546111576977\n",
      "11:25:10 INFO:Retraining model\n"
     ]
    },
    {
     "name": "stdout",
     "output_type": "stream",
     "text": [
      "Experiment week 12\n",
      "---------------------------------\n",
      "Experiment start date : 2019-05-13 00:00:00\n",
      "Experiment end_date : 2019-05-19 00:00:00\n"
     ]
    },
    {
     "name": "stderr",
     "output_type": "stream",
     "text": [
      "11:25:10 INFO:target drift detect: True\n",
      "d:\\anaconda\\envs\\anaconda_env\\lib\\site-packages\\xgboost\\core.py:90: UserWarning:\n",
      "\n",
      "ntree_limit is deprecated, use `iteration_range` or model slicing instead.\n",
      "\n",
      "11:25:10 INFO:data set drift detected\n",
      "11:25:11 INFO:drift detected for Product_Type.value\n",
      "11:25:11 INFO:drift_score : 0.8325546111576977\n",
      "11:25:11 INFO:stattest_name : Jensen-Shannon distance\n",
      "11:25:11 INFO:raw_feature_importance : 2.596639633178711\n",
      "11:25:11 INFO:relative_feature_importance : 1.0\n",
      "11:25:11 INFO:feature_importance_weighted_drift_score : 0.8325546111576977\n",
      "11:25:11 INFO:Retraining model\n"
     ]
    },
    {
     "name": "stdout",
     "output_type": "stream",
     "text": [
      "Experiment week 13\n",
      "---------------------------------\n",
      "Experiment start date : 2019-05-20 00:00:00\n",
      "Experiment end_date : 2019-05-26 00:00:00\n"
     ]
    },
    {
     "name": "stderr",
     "output_type": "stream",
     "text": [
      "11:25:11 INFO:target drift detect: True\n",
      "d:\\anaconda\\envs\\anaconda_env\\lib\\site-packages\\xgboost\\core.py:90: UserWarning:\n",
      "\n",
      "ntree_limit is deprecated, use `iteration_range` or model slicing instead.\n",
      "\n",
      "11:25:12 INFO:data set drift detected\n",
      "11:25:12 INFO:drift detected for Product_Type.value\n",
      "11:25:12 INFO:drift_score : 0.8325546111576977\n",
      "11:25:12 INFO:stattest_name : Jensen-Shannon distance\n",
      "11:25:12 INFO:raw_feature_importance : 2.5374693870544434\n",
      "11:25:12 INFO:relative_feature_importance : 1.0\n",
      "11:25:12 INFO:feature_importance_weighted_drift_score : 0.8325546111576977\n",
      "11:25:12 INFO:Retraining model\n"
     ]
    },
    {
     "name": "stdout",
     "output_type": "stream",
     "text": [
      "Experiment week 14\n",
      "---------------------------------\n",
      "Experiment start date : 2019-05-27 00:00:00\n",
      "Experiment end_date : 2019-06-02 00:00:00\n"
     ]
    },
    {
     "name": "stderr",
     "output_type": "stream",
     "text": [
      "11:25:13 INFO:target drift detect: True\n",
      "d:\\anaconda\\envs\\anaconda_env\\lib\\site-packages\\xgboost\\core.py:90: UserWarning:\n",
      "\n",
      "ntree_limit is deprecated, use `iteration_range` or model slicing instead.\n",
      "\n",
      "11:25:13 INFO:data set drift detected\n",
      "11:25:13 INFO:drift detected for Product_Type.value\n",
      "11:25:13 INFO:drift_score : 0.8325546111576977\n",
      "11:25:13 INFO:stattest_name : Jensen-Shannon distance\n",
      "11:25:13 INFO:raw_feature_importance : 2.295356035232544\n",
      "11:25:13 INFO:relative_feature_importance : 1.0\n",
      "11:25:13 INFO:feature_importance_weighted_drift_score : 0.8325546111576977\n",
      "11:25:13 INFO:Retraining model\n"
     ]
    },
    {
     "name": "stdout",
     "output_type": "stream",
     "text": [
      "Experiment week 15\n",
      "---------------------------------\n",
      "Experiment start date : 2019-06-03 00:00:00\n",
      "Experiment end_date : 2019-06-09 00:00:00\n"
     ]
    },
    {
     "name": "stderr",
     "output_type": "stream",
     "text": [
      "11:25:14 INFO:target drift detect: True\n",
      "d:\\anaconda\\envs\\anaconda_env\\lib\\site-packages\\xgboost\\core.py:90: UserWarning:\n",
      "\n",
      "ntree_limit is deprecated, use `iteration_range` or model slicing instead.\n",
      "\n",
      "11:25:14 INFO:data set drift detected\n",
      "11:25:14 INFO:drift detected for Product_Type.value\n",
      "11:25:14 INFO:drift_score : 0.8325546111576977\n",
      "11:25:14 INFO:stattest_name : Jensen-Shannon distance\n",
      "11:25:14 INFO:raw_feature_importance : 2.56994366645813\n",
      "11:25:14 INFO:relative_feature_importance : 1.0\n",
      "11:25:14 INFO:feature_importance_weighted_drift_score : 0.8325546111576977\n",
      "11:25:15 INFO:Retraining model\n"
     ]
    },
    {
     "name": "stdout",
     "output_type": "stream",
     "text": [
      "Experiment week 16\n",
      "---------------------------------\n",
      "Experiment start date : 2019-06-10 00:00:00\n",
      "Experiment end_date : 2019-06-16 00:00:00\n"
     ]
    },
    {
     "name": "stderr",
     "output_type": "stream",
     "text": [
      "11:25:15 INFO:target drift detect: True\n",
      "d:\\anaconda\\envs\\anaconda_env\\lib\\site-packages\\xgboost\\core.py:90: UserWarning:\n",
      "\n",
      "ntree_limit is deprecated, use `iteration_range` or model slicing instead.\n",
      "\n",
      "11:25:15 INFO:data set drift detected\n",
      "11:25:15 INFO:drift detected for Product_Type.value\n",
      "11:25:15 INFO:drift_score : 0.8325546111576977\n",
      "11:25:15 INFO:stattest_name : Jensen-Shannon distance\n",
      "11:25:15 INFO:raw_feature_importance : 2.5322442054748535\n",
      "11:25:15 INFO:relative_feature_importance : 1.0\n",
      "11:25:15 INFO:feature_importance_weighted_drift_score : 0.8325546111576977\n",
      "11:25:16 INFO:Retraining model\n"
     ]
    },
    {
     "name": "stdout",
     "output_type": "stream",
     "text": [
      "Experiment week 17\n",
      "---------------------------------\n",
      "Experiment start date : 2019-06-17 00:00:00\n",
      "Experiment end_date : 2019-06-23 00:00:00\n"
     ]
    },
    {
     "name": "stderr",
     "output_type": "stream",
     "text": [
      "11:25:16 INFO:target drift detect: True\n",
      "d:\\anaconda\\envs\\anaconda_env\\lib\\site-packages\\xgboost\\core.py:90: UserWarning:\n",
      "\n",
      "ntree_limit is deprecated, use `iteration_range` or model slicing instead.\n",
      "\n",
      "11:25:16 INFO:data set drift detected\n",
      "11:25:17 INFO:drift detected for Product_Type.value\n",
      "11:25:17 INFO:drift_score : 0.8325546111576977\n",
      "11:25:17 INFO:stattest_name : Jensen-Shannon distance\n",
      "11:25:17 INFO:raw_feature_importance : 2.4850659370422363\n",
      "11:25:17 INFO:relative_feature_importance : 1.0\n",
      "11:25:17 INFO:feature_importance_weighted_drift_score : 0.8325546111576977\n",
      "11:25:17 INFO:Retraining model\n"
     ]
    },
    {
     "name": "stdout",
     "output_type": "stream",
     "text": [
      "Experiment week 18\n",
      "---------------------------------\n",
      "Experiment start date : 2019-06-24 00:00:00\n",
      "Experiment end_date : 2019-06-30 00:00:00\n"
     ]
    },
    {
     "name": "stderr",
     "output_type": "stream",
     "text": [
      "11:25:17 INFO:target drift detect: True\n",
      "d:\\anaconda\\envs\\anaconda_env\\lib\\site-packages\\xgboost\\core.py:90: UserWarning:\n",
      "\n",
      "ntree_limit is deprecated, use `iteration_range` or model slicing instead.\n",
      "\n",
      "11:25:18 INFO:data set drift detected\n",
      "11:25:18 INFO:drift detected for Product_Type.value\n",
      "11:25:18 INFO:drift_score : 0.8325546111576977\n",
      "11:25:18 INFO:stattest_name : Jensen-Shannon distance\n",
      "11:25:18 INFO:raw_feature_importance : 2.4968647956848145\n",
      "11:25:18 INFO:relative_feature_importance : 1.0\n",
      "11:25:18 INFO:feature_importance_weighted_drift_score : 0.8325546111576977\n",
      "11:25:18 INFO:Retraining model\n"
     ]
    },
    {
     "name": "stdout",
     "output_type": "stream",
     "text": [
      "Experiment week 19\n",
      "---------------------------------\n",
      "Experiment start date : 2019-07-01 00:00:00\n",
      "Experiment end_date : 2019-07-07 00:00:00\n"
     ]
    },
    {
     "name": "stderr",
     "output_type": "stream",
     "text": [
      "11:25:19 INFO:target drift detect: True\n",
      "d:\\anaconda\\envs\\anaconda_env\\lib\\site-packages\\xgboost\\core.py:90: UserWarning:\n",
      "\n",
      "ntree_limit is deprecated, use `iteration_range` or model slicing instead.\n",
      "\n",
      "11:25:19 INFO:data set drift detected\n",
      "11:25:19 INFO:drift detected for Product_Type.value\n",
      "11:25:19 INFO:drift_score : 0.8325546111576977\n",
      "11:25:19 INFO:stattest_name : Jensen-Shannon distance\n",
      "11:25:19 INFO:raw_feature_importance : 2.901125192642212\n",
      "11:25:19 INFO:relative_feature_importance : 1.0\n",
      "11:25:19 INFO:feature_importance_weighted_drift_score : 0.8325546111576977\n",
      "11:25:19 INFO:Retraining model\n"
     ]
    },
    {
     "name": "stdout",
     "output_type": "stream",
     "text": [
      "Experiment week 20\n",
      "---------------------------------\n",
      "Experiment start date : 2019-07-08 00:00:00\n",
      "Experiment end_date : 2019-07-14 00:00:00\n"
     ]
    },
    {
     "name": "stderr",
     "output_type": "stream",
     "text": [
      "11:25:20 INFO:target drift detect: True\n",
      "d:\\anaconda\\envs\\anaconda_env\\lib\\site-packages\\xgboost\\core.py:90: UserWarning:\n",
      "\n",
      "ntree_limit is deprecated, use `iteration_range` or model slicing instead.\n",
      "\n",
      "11:25:20 INFO:data set drift detected\n",
      "11:25:20 INFO:drift detected for Product_Type.value\n",
      "11:25:20 INFO:drift_score : 0.8325546111576977\n",
      "11:25:20 INFO:stattest_name : Jensen-Shannon distance\n",
      "11:25:20 INFO:raw_feature_importance : 2.8008570671081543\n",
      "11:25:20 INFO:relative_feature_importance : 1.0\n",
      "11:25:20 INFO:feature_importance_weighted_drift_score : 0.8325546111576977\n",
      "11:25:21 INFO:Retraining model\n"
     ]
    },
    {
     "name": "stdout",
     "output_type": "stream",
     "text": [
      "Experiment week 21\n",
      "---------------------------------\n",
      "Experiment start date : 2019-07-15 00:00:00\n",
      "Experiment end_date : 2019-07-21 00:00:00\n"
     ]
    },
    {
     "name": "stderr",
     "output_type": "stream",
     "text": [
      "11:25:21 INFO:target drift detect: True\n",
      "d:\\anaconda\\envs\\anaconda_env\\lib\\site-packages\\xgboost\\core.py:90: UserWarning:\n",
      "\n",
      "ntree_limit is deprecated, use `iteration_range` or model slicing instead.\n",
      "\n",
      "11:25:21 INFO:data set drift detected\n",
      "11:25:22 INFO:drift detected for Product_Type.value\n",
      "11:25:22 INFO:drift_score : 0.8325546111576977\n",
      "11:25:22 INFO:stattest_name : Jensen-Shannon distance\n",
      "11:25:22 INFO:raw_feature_importance : 3.0304081439971924\n",
      "11:25:22 INFO:relative_feature_importance : 1.0\n",
      "11:25:22 INFO:feature_importance_weighted_drift_score : 0.8325546111576977\n",
      "11:25:22 INFO:Retraining model\n"
     ]
    },
    {
     "name": "stdout",
     "output_type": "stream",
     "text": [
      "Experiment week 22\n",
      "---------------------------------\n",
      "Experiment start date : 2019-07-22 00:00:00\n",
      "Experiment end_date : 2019-07-28 00:00:00\n"
     ]
    },
    {
     "name": "stderr",
     "output_type": "stream",
     "text": [
      "11:25:22 INFO:target drift detect: True\n",
      "d:\\anaconda\\envs\\anaconda_env\\lib\\site-packages\\xgboost\\core.py:90: UserWarning:\n",
      "\n",
      "ntree_limit is deprecated, use `iteration_range` or model slicing instead.\n",
      "\n",
      "11:25:22 INFO:data set drift detected\n",
      "11:25:23 INFO:drift detected for Product_Type.value\n",
      "11:25:23 INFO:drift_score : 0.8325546111576977\n",
      "11:25:23 INFO:stattest_name : Jensen-Shannon distance\n",
      "11:25:23 INFO:raw_feature_importance : 3.036762237548828\n",
      "11:25:23 INFO:relative_feature_importance : 1.0\n",
      "11:25:23 INFO:feature_importance_weighted_drift_score : 0.8325546111576977\n",
      "11:25:23 INFO:Retraining model\n"
     ]
    },
    {
     "name": "stdout",
     "output_type": "stream",
     "text": [
      "Experiment week 23\n",
      "---------------------------------\n",
      "Experiment start date : 2019-07-29 00:00:00\n",
      "Experiment end_date : 2019-08-04 00:00:00\n"
     ]
    },
    {
     "name": "stderr",
     "output_type": "stream",
     "text": [
      "11:25:23 INFO:target drift detect: True\n",
      "d:\\anaconda\\envs\\anaconda_env\\lib\\site-packages\\xgboost\\core.py:90: UserWarning:\n",
      "\n",
      "ntree_limit is deprecated, use `iteration_range` or model slicing instead.\n",
      "\n",
      "11:25:24 INFO:data set drift detected\n",
      "11:25:24 INFO:drift detected for Product_Type.value\n",
      "11:25:24 INFO:drift_score : 0.8325546111576977\n",
      "11:25:24 INFO:stattest_name : Jensen-Shannon distance\n",
      "11:25:24 INFO:raw_feature_importance : 2.738304853439331\n",
      "11:25:24 INFO:relative_feature_importance : 1.0\n",
      "11:25:24 INFO:feature_importance_weighted_drift_score : 0.8325546111576977\n",
      "11:25:24 INFO:Retraining model\n"
     ]
    },
    {
     "name": "stdout",
     "output_type": "stream",
     "text": [
      "Experiment week 24\n",
      "---------------------------------\n",
      "Experiment start date : 2019-08-05 00:00:00\n",
      "Experiment end_date : 2019-08-11 00:00:00\n"
     ]
    },
    {
     "name": "stderr",
     "output_type": "stream",
     "text": [
      "11:25:25 INFO:target drift detect: True\n",
      "d:\\anaconda\\envs\\anaconda_env\\lib\\site-packages\\xgboost\\core.py:90: UserWarning:\n",
      "\n",
      "ntree_limit is deprecated, use `iteration_range` or model slicing instead.\n",
      "\n",
      "11:25:25 INFO:data set drift detected\n",
      "11:25:25 INFO:drift detected for Product_Type.value\n",
      "11:25:25 INFO:drift_score : 0.8325546111576977\n",
      "11:25:25 INFO:stattest_name : Jensen-Shannon distance\n",
      "11:25:25 INFO:raw_feature_importance : 2.48544979095459\n",
      "11:25:25 INFO:relative_feature_importance : 1.0\n",
      "11:25:25 INFO:feature_importance_weighted_drift_score : 0.8325546111576977\n",
      "11:25:25 INFO:Retraining model\n"
     ]
    },
    {
     "name": "stdout",
     "output_type": "stream",
     "text": [
      "Experiment week 25\n",
      "---------------------------------\n",
      "Experiment start date : 2019-08-12 00:00:00\n",
      "Experiment end_date : 2019-08-18 00:00:00\n"
     ]
    },
    {
     "name": "stderr",
     "output_type": "stream",
     "text": [
      "11:25:26 INFO:target drift detect: True\n",
      "d:\\anaconda\\envs\\anaconda_env\\lib\\site-packages\\xgboost\\core.py:90: UserWarning:\n",
      "\n",
      "ntree_limit is deprecated, use `iteration_range` or model slicing instead.\n",
      "\n",
      "11:25:26 INFO:data set drift detected\n",
      "11:25:26 INFO:drift detected for Product_Type.value\n",
      "11:25:26 INFO:drift_score : 0.8325546111576977\n",
      "11:25:26 INFO:stattest_name : Jensen-Shannon distance\n",
      "11:25:26 INFO:raw_feature_importance : 2.433576822280884\n",
      "11:25:26 INFO:relative_feature_importance : 1.0\n",
      "11:25:26 INFO:feature_importance_weighted_drift_score : 0.8325546111576977\n",
      "11:25:27 INFO:Retraining model\n"
     ]
    },
    {
     "name": "stdout",
     "output_type": "stream",
     "text": [
      "Experiment week 26\n",
      "---------------------------------\n",
      "Experiment start date : 2019-08-19 00:00:00\n",
      "Experiment end_date : 2019-08-25 00:00:00\n"
     ]
    },
    {
     "name": "stderr",
     "output_type": "stream",
     "text": [
      "11:25:27 INFO:target drift detect: True\n",
      "d:\\anaconda\\envs\\anaconda_env\\lib\\site-packages\\xgboost\\core.py:90: UserWarning:\n",
      "\n",
      "ntree_limit is deprecated, use `iteration_range` or model slicing instead.\n",
      "\n",
      "11:25:27 INFO:data set drift detected\n",
      "11:25:27 INFO:drift detected for Product_Type.value\n",
      "11:25:27 INFO:drift_score : 0.8325546111576977\n",
      "11:25:27 INFO:stattest_name : Jensen-Shannon distance\n",
      "11:25:27 INFO:raw_feature_importance : 2.361478090286255\n",
      "11:25:27 INFO:relative_feature_importance : 1.0\n",
      "11:25:27 INFO:feature_importance_weighted_drift_score : 0.8325546111576977\n",
      "11:25:28 INFO:Retraining model\n"
     ]
    },
    {
     "name": "stdout",
     "output_type": "stream",
     "text": [
      "Experiment week 27\n",
      "---------------------------------\n",
      "Experiment start date : 2019-08-26 00:00:00\n",
      "Experiment end_date : 2019-09-01 00:00:00\n"
     ]
    },
    {
     "name": "stderr",
     "output_type": "stream",
     "text": [
      "11:25:28 INFO:target drift detect: True\n",
      "d:\\anaconda\\envs\\anaconda_env\\lib\\site-packages\\xgboost\\core.py:90: UserWarning:\n",
      "\n",
      "ntree_limit is deprecated, use `iteration_range` or model slicing instead.\n",
      "\n",
      "11:25:28 INFO:data set drift detected\n",
      "11:25:29 INFO:drift detected for Product_Type.value\n",
      "11:25:29 INFO:drift_score : 0.8325546111576977\n",
      "11:25:29 INFO:stattest_name : Jensen-Shannon distance\n",
      "11:25:29 INFO:raw_feature_importance : 2.460589647293091\n",
      "11:25:29 INFO:relative_feature_importance : 1.0\n",
      "11:25:29 INFO:feature_importance_weighted_drift_score : 0.8325546111576977\n",
      "11:25:29 INFO:Retraining model\n"
     ]
    },
    {
     "name": "stdout",
     "output_type": "stream",
     "text": [
      "Experiment week 28\n",
      "---------------------------------\n",
      "Experiment start date : 2019-09-02 00:00:00\n",
      "Experiment end_date : 2019-09-08 00:00:00\n"
     ]
    },
    {
     "name": "stderr",
     "output_type": "stream",
     "text": [
      "11:25:29 INFO:target drift detect: True\n",
      "d:\\anaconda\\envs\\anaconda_env\\lib\\site-packages\\xgboost\\core.py:90: UserWarning:\n",
      "\n",
      "ntree_limit is deprecated, use `iteration_range` or model slicing instead.\n",
      "\n",
      "11:25:30 INFO:data set drift detected\n",
      "11:25:30 INFO:drift detected for Product_Type.value\n",
      "11:25:30 INFO:drift_score : 0.8325546111576977\n",
      "11:25:30 INFO:stattest_name : Jensen-Shannon distance\n",
      "11:25:30 INFO:raw_feature_importance : 2.2670881748199463\n",
      "11:25:30 INFO:relative_feature_importance : 1.0\n",
      "11:25:30 INFO:feature_importance_weighted_drift_score : 0.8325546111576977\n",
      "11:25:30 INFO:Retraining model\n"
     ]
    },
    {
     "name": "stdout",
     "output_type": "stream",
     "text": [
      "Experiment week 29\n",
      "---------------------------------\n",
      "Experiment start date : 2019-09-09 00:00:00\n",
      "Experiment end_date : 2019-09-15 00:00:00\n"
     ]
    },
    {
     "name": "stderr",
     "output_type": "stream",
     "text": [
      "11:25:31 INFO:target drift detect: True\n",
      "d:\\anaconda\\envs\\anaconda_env\\lib\\site-packages\\xgboost\\core.py:90: UserWarning:\n",
      "\n",
      "ntree_limit is deprecated, use `iteration_range` or model slicing instead.\n",
      "\n",
      "11:25:31 INFO:data set drift detected\n",
      "11:25:31 INFO:drift detected for Product_Type.value\n",
      "11:25:31 INFO:drift_score : 0.8325546111576977\n",
      "11:25:31 INFO:stattest_name : Jensen-Shannon distance\n",
      "11:25:31 INFO:raw_feature_importance : 2.366988182067871\n",
      "11:25:31 INFO:relative_feature_importance : 1.0\n",
      "11:25:31 INFO:feature_importance_weighted_drift_score : 0.8325546111576977\n",
      "11:25:31 INFO:Retraining model\n"
     ]
    },
    {
     "name": "stdout",
     "output_type": "stream",
     "text": [
      "Experiment week 30\n",
      "---------------------------------\n",
      "Experiment start date : 2019-09-16 00:00:00\n",
      "Experiment end_date : 2019-09-22 00:00:00\n"
     ]
    },
    {
     "name": "stderr",
     "output_type": "stream",
     "text": [
      "11:25:32 INFO:target drift detect: True\n",
      "d:\\anaconda\\envs\\anaconda_env\\lib\\site-packages\\xgboost\\core.py:90: UserWarning:\n",
      "\n",
      "ntree_limit is deprecated, use `iteration_range` or model slicing instead.\n",
      "\n",
      "11:25:32 INFO:data set drift detected\n",
      "11:25:32 INFO:drift detected for Product_Type.value\n",
      "11:25:32 INFO:drift_score : 0.8325546111576977\n",
      "11:25:32 INFO:stattest_name : Jensen-Shannon distance\n",
      "11:25:32 INFO:raw_feature_importance : 2.3027725219726562\n",
      "11:25:32 INFO:relative_feature_importance : 1.0\n",
      "11:25:32 INFO:feature_importance_weighted_drift_score : 0.8325546111576977\n",
      "11:25:33 INFO:Retraining model\n"
     ]
    },
    {
     "name": "stdout",
     "output_type": "stream",
     "text": [
      "Experiment week 31\n",
      "---------------------------------\n",
      "Experiment start date : 2019-09-23 00:00:00\n",
      "Experiment end_date : 2019-09-29 00:00:00\n"
     ]
    },
    {
     "name": "stderr",
     "output_type": "stream",
     "text": [
      "11:25:33 INFO:target drift detect: True\n",
      "d:\\anaconda\\envs\\anaconda_env\\lib\\site-packages\\xgboost\\core.py:90: UserWarning:\n",
      "\n",
      "ntree_limit is deprecated, use `iteration_range` or model slicing instead.\n",
      "\n",
      "11:25:33 INFO:data set drift detected\n",
      "11:25:34 INFO:drift detected for Product_Type.value\n",
      "11:25:34 INFO:drift_score : 0.8325546111576977\n",
      "11:25:34 INFO:stattest_name : Jensen-Shannon distance\n",
      "11:25:34 INFO:raw_feature_importance : 2.18032169342041\n",
      "11:25:34 INFO:relative_feature_importance : 1.0\n",
      "11:25:34 INFO:feature_importance_weighted_drift_score : 0.8325546111576977\n",
      "11:25:34 INFO:Retraining model\n"
     ]
    },
    {
     "name": "stdout",
     "output_type": "stream",
     "text": [
      "Experiment week 32\n",
      "---------------------------------\n",
      "Experiment start date : 2019-09-30 00:00:00\n",
      "Experiment end_date : 2019-10-06 00:00:00\n"
     ]
    },
    {
     "name": "stderr",
     "output_type": "stream",
     "text": [
      "11:25:35 INFO:target drift detect: True\n",
      "d:\\anaconda\\envs\\anaconda_env\\lib\\site-packages\\xgboost\\core.py:90: UserWarning:\n",
      "\n",
      "ntree_limit is deprecated, use `iteration_range` or model slicing instead.\n",
      "\n",
      "11:25:35 INFO:data set drift detected\n",
      "11:25:35 INFO:drift detected for Product_Type.value\n",
      "11:25:35 INFO:drift_score : 0.8325546111576977\n",
      "11:25:35 INFO:stattest_name : Jensen-Shannon distance\n",
      "11:25:35 INFO:raw_feature_importance : 2.314099073410034\n",
      "11:25:35 INFO:relative_feature_importance : 1.0\n",
      "11:25:35 INFO:feature_importance_weighted_drift_score : 0.8325546111576977\n",
      "11:25:35 INFO:Retraining model\n"
     ]
    },
    {
     "name": "stdout",
     "output_type": "stream",
     "text": [
      "Experiment week 33\n",
      "---------------------------------\n",
      "Experiment start date : 2019-10-07 00:00:00\n",
      "Experiment end_date : 2019-10-13 00:00:00\n"
     ]
    },
    {
     "name": "stderr",
     "output_type": "stream",
     "text": [
      "11:25:36 INFO:target drift detect: True\n",
      "d:\\anaconda\\envs\\anaconda_env\\lib\\site-packages\\xgboost\\core.py:90: UserWarning:\n",
      "\n",
      "ntree_limit is deprecated, use `iteration_range` or model slicing instead.\n",
      "\n",
      "11:25:36 INFO:data set drift detected\n",
      "11:25:36 INFO:drift detected for Product_Type.value\n",
      "11:25:36 INFO:drift_score : 0.8325546111576977\n",
      "11:25:36 INFO:stattest_name : Jensen-Shannon distance\n",
      "11:25:36 INFO:raw_feature_importance : 2.3092122077941895\n",
      "11:25:36 INFO:relative_feature_importance : 1.0\n",
      "11:25:36 INFO:feature_importance_weighted_drift_score : 0.8325546111576977\n",
      "11:25:37 INFO:Retraining model\n"
     ]
    },
    {
     "name": "stdout",
     "output_type": "stream",
     "text": [
      "Experiment week 34\n",
      "---------------------------------\n",
      "Experiment start date : 2019-10-14 00:00:00\n",
      "Experiment end_date : 2019-10-20 00:00:00\n"
     ]
    },
    {
     "name": "stderr",
     "output_type": "stream",
     "text": [
      "11:25:37 INFO:target drift detect: True\n",
      "d:\\anaconda\\envs\\anaconda_env\\lib\\site-packages\\xgboost\\core.py:90: UserWarning:\n",
      "\n",
      "ntree_limit is deprecated, use `iteration_range` or model slicing instead.\n",
      "\n",
      "11:25:37 INFO:data set drift detected\n",
      "11:25:37 INFO:drift detected for Product_Type.value\n",
      "11:25:37 INFO:drift_score : 0.8325546111576977\n",
      "11:25:37 INFO:stattest_name : Jensen-Shannon distance\n",
      "11:25:37 INFO:raw_feature_importance : 2.0150303840637207\n",
      "11:25:37 INFO:relative_feature_importance : 1.0\n",
      "11:25:37 INFO:feature_importance_weighted_drift_score : 0.8325546111576977\n",
      "11:25:38 INFO:Retraining model\n"
     ]
    },
    {
     "name": "stdout",
     "output_type": "stream",
     "text": [
      "Experiment week 35\n",
      "---------------------------------\n",
      "Experiment start date : 2019-10-21 00:00:00\n",
      "Experiment end_date : 2019-10-27 00:00:00\n"
     ]
    },
    {
     "name": "stderr",
     "output_type": "stream",
     "text": [
      "11:25:38 INFO:target drift detect: True\n",
      "d:\\anaconda\\envs\\anaconda_env\\lib\\site-packages\\xgboost\\core.py:90: UserWarning:\n",
      "\n",
      "ntree_limit is deprecated, use `iteration_range` or model slicing instead.\n",
      "\n",
      "11:25:38 INFO:data set drift detected\n",
      "11:25:39 INFO:drift detected for warehouse_ID.value\n",
      "11:25:39 INFO:drift_score : 0.8325546111576977\n",
      "11:25:39 INFO:stattest_name : Jensen-Shannon distance\n",
      "11:25:39 INFO:raw_feature_importance : 0.37373003363609314\n",
      "11:25:39 INFO:relative_feature_importance : 0.18184258043766022\n",
      "11:25:39 INFO:feature_importance_weighted_drift_score : 0.15139387884818856\n",
      "11:25:39 INFO:drift detected for Product_Type.value\n",
      "11:25:39 INFO:drift_score : 0.8325546111576977\n",
      "11:25:39 INFO:stattest_name : Jensen-Shannon distance\n",
      "11:25:39 INFO:raw_feature_importance : 2.05523943901062\n",
      "11:25:39 INFO:relative_feature_importance : 1.0\n",
      "11:25:39 INFO:feature_importance_weighted_drift_score : 0.8325546111576977\n",
      "11:25:39 INFO:Retraining model\n"
     ]
    },
    {
     "name": "stdout",
     "output_type": "stream",
     "text": [
      "Experiment week 36\n",
      "---------------------------------\n",
      "Experiment start date : 2019-10-28 00:00:00\n",
      "Experiment end_date : 2019-11-03 00:00:00\n"
     ]
    },
    {
     "name": "stderr",
     "output_type": "stream",
     "text": [
      "11:25:40 INFO:target drift detect: True\n",
      "d:\\anaconda\\envs\\anaconda_env\\lib\\site-packages\\xgboost\\core.py:90: UserWarning:\n",
      "\n",
      "ntree_limit is deprecated, use `iteration_range` or model slicing instead.\n",
      "\n",
      "11:25:40 INFO:data set drift detected\n",
      "11:25:40 INFO:drift detected for Product_Type.value\n",
      "11:25:40 INFO:drift_score : 0.8325546111576977\n",
      "11:25:40 INFO:stattest_name : Jensen-Shannon distance\n",
      "11:25:40 INFO:raw_feature_importance : 2.206885814666748\n",
      "11:25:40 INFO:relative_feature_importance : 1.0\n",
      "11:25:40 INFO:feature_importance_weighted_drift_score : 0.8325546111576977\n",
      "11:25:40 INFO:Retraining model\n"
     ]
    },
    {
     "name": "stdout",
     "output_type": "stream",
     "text": [
      "Experiment week 37\n",
      "---------------------------------\n",
      "Experiment start date : 2019-11-04 00:00:00\n",
      "Experiment end_date : 2019-11-10 00:00:00\n"
     ]
    },
    {
     "name": "stderr",
     "output_type": "stream",
     "text": [
      "11:25:41 INFO:target drift detect: True\n",
      "d:\\anaconda\\envs\\anaconda_env\\lib\\site-packages\\xgboost\\core.py:90: UserWarning:\n",
      "\n",
      "ntree_limit is deprecated, use `iteration_range` or model slicing instead.\n",
      "\n",
      "11:25:41 INFO:data set drift detected\n",
      "11:25:41 INFO:drift detected for Product_Type.value\n",
      "11:25:41 INFO:drift_score : 0.8325546111576977\n",
      "11:25:41 INFO:stattest_name : Jensen-Shannon distance\n",
      "11:25:41 INFO:raw_feature_importance : 2.2605092525482178\n",
      "11:25:41 INFO:relative_feature_importance : 1.0\n",
      "11:25:41 INFO:feature_importance_weighted_drift_score : 0.8325546111576977\n",
      "11:25:41 INFO:Retraining model\n"
     ]
    },
    {
     "name": "stdout",
     "output_type": "stream",
     "text": [
      "Experiment week 38\n",
      "---------------------------------\n",
      "Experiment start date : 2019-11-11 00:00:00\n",
      "Experiment end_date : 2019-11-17 00:00:00\n"
     ]
    },
    {
     "name": "stderr",
     "output_type": "stream",
     "text": [
      "11:25:42 INFO:target drift detect: True\n",
      "d:\\anaconda\\envs\\anaconda_env\\lib\\site-packages\\xgboost\\core.py:90: UserWarning:\n",
      "\n",
      "ntree_limit is deprecated, use `iteration_range` or model slicing instead.\n",
      "\n",
      "11:25:42 INFO:data set drift detected\n",
      "11:25:42 INFO:drift detected for Product_Type.value\n",
      "11:25:42 INFO:drift_score : 0.8325546111576977\n",
      "11:25:42 INFO:stattest_name : Jensen-Shannon distance\n",
      "11:25:42 INFO:raw_feature_importance : 2.4199869632720947\n",
      "11:25:42 INFO:relative_feature_importance : 1.0\n",
      "11:25:42 INFO:feature_importance_weighted_drift_score : 0.8325546111576977\n",
      "11:25:43 INFO:Retraining model\n"
     ]
    },
    {
     "name": "stdout",
     "output_type": "stream",
     "text": [
      "Experiment week 39\n",
      "---------------------------------\n",
      "Experiment start date : 2019-11-18 00:00:00\n",
      "Experiment end_date : 2019-11-24 00:00:00\n"
     ]
    },
    {
     "name": "stderr",
     "output_type": "stream",
     "text": [
      "11:25:43 INFO:target drift detect: True\n",
      "d:\\anaconda\\envs\\anaconda_env\\lib\\site-packages\\xgboost\\core.py:90: UserWarning:\n",
      "\n",
      "ntree_limit is deprecated, use `iteration_range` or model slicing instead.\n",
      "\n",
      "11:25:43 INFO:data set drift detected\n",
      "11:25:44 INFO:drift detected for Product_Type.value\n",
      "11:25:44 INFO:drift_score : 0.8325546111576977\n",
      "11:25:44 INFO:stattest_name : Jensen-Shannon distance\n",
      "11:25:44 INFO:raw_feature_importance : 2.2703731060028076\n",
      "11:25:44 INFO:relative_feature_importance : 1.0\n",
      "11:25:44 INFO:feature_importance_weighted_drift_score : 0.8325546111576977\n",
      "11:25:44 INFO:Retraining model\n"
     ]
    },
    {
     "name": "stdout",
     "output_type": "stream",
     "text": [
      "Experiment week 40\n",
      "---------------------------------\n",
      "Experiment start date : 2019-11-25 00:00:00\n",
      "Experiment end_date : 2019-12-01 00:00:00\n"
     ]
    },
    {
     "name": "stderr",
     "output_type": "stream",
     "text": [
      "11:25:44 INFO:target drift detect: True\n",
      "d:\\anaconda\\envs\\anaconda_env\\lib\\site-packages\\xgboost\\core.py:90: UserWarning:\n",
      "\n",
      "ntree_limit is deprecated, use `iteration_range` or model slicing instead.\n",
      "\n",
      "11:25:44 INFO:data set drift detected\n",
      "11:25:45 INFO:drift detected for Product_Type.value\n",
      "11:25:45 INFO:drift_score : 0.8325546111576977\n",
      "11:25:45 INFO:stattest_name : Jensen-Shannon distance\n",
      "11:25:45 INFO:raw_feature_importance : 2.4322173595428467\n",
      "11:25:45 INFO:relative_feature_importance : 1.0\n",
      "11:25:45 INFO:feature_importance_weighted_drift_score : 0.8325546111576977\n",
      "11:25:45 INFO:Retraining model\n"
     ]
    },
    {
     "name": "stdout",
     "output_type": "stream",
     "text": [
      "Experiment week 41\n",
      "---------------------------------\n",
      "Experiment start date : 2019-12-02 00:00:00\n",
      "Experiment end_date : 2019-12-08 00:00:00\n"
     ]
    },
    {
     "name": "stderr",
     "output_type": "stream",
     "text": [
      "11:25:46 INFO:target drift detect: True\n",
      "d:\\anaconda\\envs\\anaconda_env\\lib\\site-packages\\xgboost\\core.py:90: UserWarning:\n",
      "\n",
      "ntree_limit is deprecated, use `iteration_range` or model slicing instead.\n",
      "\n",
      "11:25:46 INFO:data set drift detected\n",
      "11:25:46 INFO:drift detected for Product_Type.value\n",
      "11:25:46 INFO:drift_score : 0.8325546111576977\n",
      "11:25:46 INFO:stattest_name : Jensen-Shannon distance\n",
      "11:25:46 INFO:raw_feature_importance : 2.0557711124420166\n",
      "11:25:46 INFO:relative_feature_importance : 1.0\n",
      "11:25:46 INFO:feature_importance_weighted_drift_score : 0.8325546111576977\n",
      "11:25:46 INFO:Retraining model\n"
     ]
    },
    {
     "name": "stdout",
     "output_type": "stream",
     "text": [
      "Experiment week 42\n",
      "---------------------------------\n",
      "Experiment start date : 2019-12-09 00:00:00\n",
      "Experiment end_date : 2019-12-15 00:00:00\n"
     ]
    },
    {
     "name": "stderr",
     "output_type": "stream",
     "text": [
      "11:25:47 INFO:target drift detect: True\n",
      "d:\\anaconda\\envs\\anaconda_env\\lib\\site-packages\\xgboost\\core.py:90: UserWarning:\n",
      "\n",
      "ntree_limit is deprecated, use `iteration_range` or model slicing instead.\n",
      "\n",
      "11:25:47 INFO:data set drift detected\n",
      "11:25:47 INFO:drift detected for Product_Type.value\n",
      "11:25:47 INFO:drift_score : 0.8325546111576977\n",
      "11:25:47 INFO:stattest_name : Jensen-Shannon distance\n",
      "11:25:47 INFO:raw_feature_importance : 1.6530424356460571\n",
      "11:25:47 INFO:relative_feature_importance : 1.0\n",
      "11:25:47 INFO:feature_importance_weighted_drift_score : 0.8325546111576977\n",
      "11:25:48 INFO:Retraining model\n"
     ]
    },
    {
     "name": "stdout",
     "output_type": "stream",
     "text": [
      "Experiment week 43\n",
      "---------------------------------\n",
      "Experiment start date : 2019-12-16 00:00:00\n",
      "Experiment end_date : 2019-12-22 00:00:00\n"
     ]
    },
    {
     "name": "stderr",
     "output_type": "stream",
     "text": [
      "11:25:48 INFO:target drift detect: True\n",
      "d:\\anaconda\\envs\\anaconda_env\\lib\\site-packages\\xgboost\\core.py:90: UserWarning:\n",
      "\n",
      "ntree_limit is deprecated, use `iteration_range` or model slicing instead.\n",
      "\n",
      "11:25:48 INFO:data set drift detected\n",
      "11:25:49 INFO:drift detected for Product_Type.value\n",
      "11:25:49 INFO:drift_score : 0.8325546111576977\n",
      "11:25:49 INFO:stattest_name : Jensen-Shannon distance\n",
      "11:25:49 INFO:raw_feature_importance : 1.7424237728118896\n",
      "11:25:49 INFO:relative_feature_importance : 1.0\n",
      "11:25:49 INFO:feature_importance_weighted_drift_score : 0.8325546111576977\n",
      "11:25:49 INFO:Retraining model\n"
     ]
    },
    {
     "name": "stdout",
     "output_type": "stream",
     "text": [
      "Experiment week 44\n",
      "---------------------------------\n",
      "Experiment start date : 2019-12-23 00:00:00\n",
      "Experiment end_date : 2019-12-29 00:00:00\n"
     ]
    },
    {
     "name": "stderr",
     "output_type": "stream",
     "text": [
      "11:25:49 INFO:target drift detect: True\n",
      "d:\\anaconda\\envs\\anaconda_env\\lib\\site-packages\\xgboost\\core.py:90: UserWarning:\n",
      "\n",
      "ntree_limit is deprecated, use `iteration_range` or model slicing instead.\n",
      "\n",
      "11:25:50 INFO:data set drift detected\n",
      "11:25:50 INFO:drift detected for Product_Type.value\n",
      "11:25:50 INFO:drift_score : 0.8325546111576977\n",
      "11:25:50 INFO:stattest_name : Jensen-Shannon distance\n",
      "11:25:50 INFO:raw_feature_importance : 1.7624571323394775\n",
      "11:25:50 INFO:relative_feature_importance : 1.0\n",
      "11:25:50 INFO:feature_importance_weighted_drift_score : 0.8325546111576977\n",
      "11:25:50 INFO:Retraining model\n"
     ]
    },
    {
     "name": "stdout",
     "output_type": "stream",
     "text": [
      "Experiment week 45\n",
      "---------------------------------\n",
      "Experiment start date : 2019-12-30 00:00:00\n",
      "Experiment end_date : 2020-01-05 00:00:00\n"
     ]
    },
    {
     "name": "stderr",
     "output_type": "stream",
     "text": [
      "d:\\anaconda\\envs\\anaconda_env\\lib\\site-packages\\rdt\\transformers\\categorical.py:182: UserWarning:\n",
      "\n",
      "The data contains 8 new categories that were not seen in the original data (examples: {'WH_0x3ef'}). Assigning them random values. If you want to model new categories, please fit the transformer again with the new data.\n",
      "\n",
      "d:\\anaconda\\envs\\anaconda_env\\lib\\site-packages\\rdt\\transformers\\categorical.py:182: UserWarning:\n",
      "\n",
      "The data contains 8 new categories that were not seen in the original data (examples: {'illinois'}). Assigning them random values. If you want to model new categories, please fit the transformer again with the new data.\n",
      "\n",
      "d:\\anaconda\\envs\\anaconda_env\\lib\\site-packages\\rdt\\transformers\\categorical.py:182: UserWarning:\n",
      "\n",
      "The data contains 8 new categories that were not seen in the original data (examples: {'cook'}). Assigning them random values. If you want to model new categories, please fit the transformer again with the new data.\n",
      "\n",
      "d:\\anaconda\\envs\\anaconda_env\\lib\\site-packages\\rdt\\transformers\\categorical.py:182: UserWarning:\n",
      "\n",
      "The data contains 8 new categories that were not seen in the original data (examples: {'IL'}). Assigning them random values. If you want to model new categories, please fit the transformer again with the new data.\n",
      "\n",
      "d:\\anaconda\\envs\\anaconda_env\\lib\\site-packages\\rdt\\transformers\\categorical.py:182: UserWarning:\n",
      "\n",
      "The data contains 8 new categories that were not seen in the original data (examples: {'east_north_central'}). Assigning them random values. If you want to model new categories, please fit the transformer again with the new data.\n",
      "\n",
      "d:\\anaconda\\envs\\anaconda_env\\lib\\site-packages\\rdt\\transformers\\categorical.py:182: UserWarning:\n",
      "\n",
      "The data contains 8 new categories that were not seen in the original data (examples: {'mid_west'}). Assigning them random values. If you want to model new categories, please fit the transformer again with the new data.\n",
      "\n",
      "11:25:51 INFO:target drift detect: True\n",
      "d:\\anaconda\\envs\\anaconda_env\\lib\\site-packages\\xgboost\\core.py:90: UserWarning:\n",
      "\n",
      "ntree_limit is deprecated, use `iteration_range` or model slicing instead.\n",
      "\n",
      "11:25:51 INFO:data set drift detected\n",
      "11:25:51 INFO:drift detected for Product_Type.value\n",
      "11:25:51 INFO:drift_score : 0.8325546111576977\n",
      "11:25:51 INFO:stattest_name : Jensen-Shannon distance\n",
      "11:25:51 INFO:raw_feature_importance : 1.4915618896484375\n",
      "11:25:51 INFO:relative_feature_importance : 1.0\n",
      "11:25:51 INFO:feature_importance_weighted_drift_score : 0.8325546111576977\n",
      "11:25:51 INFO:Retraining model\n"
     ]
    },
    {
     "name": "stdout",
     "output_type": "stream",
     "text": [
      "Experiment week 46\n",
      "---------------------------------\n",
      "Experiment start date : 2020-01-06 00:00:00\n",
      "Experiment end_date : 2020-01-12 00:00:00\n"
     ]
    },
    {
     "name": "stderr",
     "output_type": "stream",
     "text": [
      "11:25:52 INFO:target drift detect: True\n",
      "d:\\anaconda\\envs\\anaconda_env\\lib\\site-packages\\xgboost\\core.py:90: UserWarning:\n",
      "\n",
      "ntree_limit is deprecated, use `iteration_range` or model slicing instead.\n",
      "\n",
      "11:25:52 INFO:data set drift detected\n",
      "11:25:52 INFO:drift detected for statewise_population_per_sqmile.value\n",
      "11:25:52 INFO:drift_score : 0.37409687711881556\n",
      "11:25:52 INFO:stattest_name : Wasserstein distance (normed)\n",
      "11:25:52 INFO:raw_feature_importance : 0.4393700063228607\n",
      "11:25:52 INFO:relative_feature_importance : 0.2746165692806244\n",
      "11:25:52 INFO:feature_importance_weighted_drift_score : 0.10273320097296444\n",
      "11:25:52 INFO:drift detected for Product_Type.value\n",
      "11:25:52 INFO:drift_score : 0.8325546111576977\n",
      "11:25:52 INFO:stattest_name : Jensen-Shannon distance\n",
      "11:25:52 INFO:raw_feature_importance : 1.5999398231506348\n",
      "11:25:52 INFO:relative_feature_importance : 1.0\n",
      "11:25:52 INFO:feature_importance_weighted_drift_score : 0.8325546111576977\n",
      "11:25:53 INFO:Retraining model\n"
     ]
    },
    {
     "name": "stdout",
     "output_type": "stream",
     "text": [
      "Experiment week 47\n",
      "---------------------------------\n",
      "Experiment start date : 2020-01-13 00:00:00\n",
      "Experiment end_date : 2020-01-19 00:00:00\n"
     ]
    },
    {
     "name": "stderr",
     "output_type": "stream",
     "text": [
      "11:25:53 INFO:target drift detect: True\n",
      "d:\\anaconda\\envs\\anaconda_env\\lib\\site-packages\\xgboost\\core.py:90: UserWarning:\n",
      "\n",
      "ntree_limit is deprecated, use `iteration_range` or model slicing instead.\n",
      "\n",
      "11:25:53 INFO:data set drift detected\n",
      "11:25:54 INFO:drift detected for Product_Type.value\n",
      "11:25:54 INFO:drift_score : 0.8325546111576977\n",
      "11:25:54 INFO:stattest_name : Jensen-Shannon distance\n",
      "11:25:54 INFO:raw_feature_importance : 1.683242917060852\n",
      "11:25:54 INFO:relative_feature_importance : 1.0\n",
      "11:25:54 INFO:feature_importance_weighted_drift_score : 0.8325546111576977\n",
      "11:25:54 INFO:Retraining model\n"
     ]
    },
    {
     "name": "stdout",
     "output_type": "stream",
     "text": [
      "Experiment week 48\n",
      "---------------------------------\n",
      "Experiment start date : 2020-01-20 00:00:00\n",
      "Experiment end_date : 2020-01-26 00:00:00\n"
     ]
    },
    {
     "name": "stderr",
     "output_type": "stream",
     "text": [
      "11:25:54 INFO:target drift detect: True\n",
      "d:\\anaconda\\envs\\anaconda_env\\lib\\site-packages\\xgboost\\core.py:90: UserWarning:\n",
      "\n",
      "ntree_limit is deprecated, use `iteration_range` or model slicing instead.\n",
      "\n",
      "11:25:55 INFO:data set drift detected\n",
      "11:25:55 INFO:drift detected for Product_Type.value\n",
      "11:25:55 INFO:drift_score : 0.8325546111576977\n",
      "11:25:55 INFO:stattest_name : Jensen-Shannon distance\n",
      "11:25:55 INFO:raw_feature_importance : 1.5880743265151978\n",
      "11:25:55 INFO:relative_feature_importance : 1.0\n",
      "11:25:55 INFO:feature_importance_weighted_drift_score : 0.8325546111576977\n",
      "11:25:55 INFO:Retraining model\n"
     ]
    },
    {
     "name": "stdout",
     "output_type": "stream",
     "text": [
      "Experiment week 49\n",
      "---------------------------------\n",
      "Experiment start date : 2020-01-27 00:00:00\n",
      "Experiment end_date : 2020-02-02 00:00:00\n"
     ]
    },
    {
     "name": "stderr",
     "output_type": "stream",
     "text": [
      "d:\\anaconda\\envs\\anaconda_env\\lib\\site-packages\\rdt\\transformers\\categorical.py:182: UserWarning:\n",
      "\n",
      "The data contains 2 new categories that were not seen in the original data (examples: {'WH_0x3f1'}). Assigning them random values. If you want to model new categories, please fit the transformer again with the new data.\n",
      "\n",
      "d:\\anaconda\\envs\\anaconda_env\\lib\\site-packages\\rdt\\transformers\\categorical.py:182: UserWarning:\n",
      "\n",
      "The data contains 2 new categories that were not seen in the original data (examples: {'idaho'}). Assigning them random values. If you want to model new categories, please fit the transformer again with the new data.\n",
      "\n",
      "d:\\anaconda\\envs\\anaconda_env\\lib\\site-packages\\rdt\\transformers\\categorical.py:182: UserWarning:\n",
      "\n",
      "The data contains 2 new categories that were not seen in the original data (examples: {'boundary'}). Assigning them random values. If you want to model new categories, please fit the transformer again with the new data.\n",
      "\n",
      "d:\\anaconda\\envs\\anaconda_env\\lib\\site-packages\\rdt\\transformers\\categorical.py:182: UserWarning:\n",
      "\n",
      "The data contains 2 new categories that were not seen in the original data (examples: {'ID'}). Assigning them random values. If you want to model new categories, please fit the transformer again with the new data.\n",
      "\n",
      "11:25:56 INFO:target drift detect: True\n",
      "d:\\anaconda\\envs\\anaconda_env\\lib\\site-packages\\xgboost\\core.py:90: UserWarning:\n",
      "\n",
      "ntree_limit is deprecated, use `iteration_range` or model slicing instead.\n",
      "\n",
      "11:25:56 INFO:data set drift detected\n",
      "11:25:56 INFO:drift detected for Product_Type.value\n",
      "11:25:56 INFO:drift_score : 0.8325546111576977\n",
      "11:25:56 INFO:stattest_name : Jensen-Shannon distance\n",
      "11:25:56 INFO:raw_feature_importance : 1.6035363674163818\n",
      "11:25:56 INFO:relative_feature_importance : 1.0\n",
      "11:25:56 INFO:feature_importance_weighted_drift_score : 0.8325546111576977\n",
      "11:25:56 INFO:Retraining model\n"
     ]
    },
    {
     "name": "stdout",
     "output_type": "stream",
     "text": [
      "Experiment week 50\n",
      "---------------------------------\n",
      "Experiment start date : 2020-02-03 00:00:00\n",
      "Experiment end_date : 2020-02-09 00:00:00\n"
     ]
    },
    {
     "name": "stderr",
     "output_type": "stream",
     "text": [
      "11:25:57 INFO:target drift detect: True\n",
      "d:\\anaconda\\envs\\anaconda_env\\lib\\site-packages\\xgboost\\core.py:90: UserWarning:\n",
      "\n",
      "ntree_limit is deprecated, use `iteration_range` or model slicing instead.\n",
      "\n",
      "11:25:57 INFO:data set drift detected\n",
      "11:25:57 INFO:drift detected for Product_Type.value\n",
      "11:25:57 INFO:drift_score : 0.8325546111576977\n",
      "11:25:57 INFO:stattest_name : Jensen-Shannon distance\n",
      "11:25:57 INFO:raw_feature_importance : 1.6866651773452759\n",
      "11:25:57 INFO:relative_feature_importance : 1.0\n",
      "11:25:57 INFO:feature_importance_weighted_drift_score : 0.8325546111576977\n",
      "11:25:58 INFO:drift detected for county.value\n",
      "11:25:58 INFO:drift_score : 0.8325546111576977\n",
      "11:25:58 INFO:stattest_name : Jensen-Shannon distance\n",
      "11:25:58 INFO:raw_feature_importance : 0.26945704221725464\n",
      "11:25:58 INFO:relative_feature_importance : 0.15975728631019592\n",
      "11:25:58 INFO:feature_importance_weighted_drift_score : 0.13300666538359415\n",
      "11:25:58 INFO:Retraining model\n"
     ]
    },
    {
     "name": "stdout",
     "output_type": "stream",
     "text": [
      "Experiment week 51\n",
      "---------------------------------\n",
      "Experiment start date : 2020-02-10 00:00:00\n",
      "Experiment end_date : 2020-02-16 00:00:00\n"
     ]
    },
    {
     "name": "stderr",
     "output_type": "stream",
     "text": [
      "11:25:58 INFO:target drift detect: True\n",
      "d:\\anaconda\\envs\\anaconda_env\\lib\\site-packages\\xgboost\\core.py:90: UserWarning:\n",
      "\n",
      "ntree_limit is deprecated, use `iteration_range` or model slicing instead.\n",
      "\n",
      "11:25:58 INFO:data set drift detected\n",
      "11:25:59 INFO:drift detected for Product_Type.value\n",
      "11:25:59 INFO:drift_score : 0.8325546111576977\n",
      "11:25:59 INFO:stattest_name : Jensen-Shannon distance\n",
      "11:25:59 INFO:raw_feature_importance : 1.7227860689163208\n",
      "11:25:59 INFO:relative_feature_importance : 1.0\n",
      "11:25:59 INFO:feature_importance_weighted_drift_score : 0.8325546111576977\n",
      "11:25:59 INFO:Retraining model\n"
     ]
    },
    {
     "name": "stdout",
     "output_type": "stream",
     "text": [
      "Experiment week 52\n",
      "---------------------------------\n",
      "Experiment start date : 2020-02-17 00:00:00\n",
      "Experiment end_date : 2020-02-23 00:00:00\n"
     ]
    },
    {
     "name": "stderr",
     "output_type": "stream",
     "text": [
      "11:26:00 INFO:target drift detect: True\n",
      "d:\\anaconda\\envs\\anaconda_env\\lib\\site-packages\\xgboost\\core.py:90: UserWarning:\n",
      "\n",
      "ntree_limit is deprecated, use `iteration_range` or model slicing instead.\n",
      "\n",
      "11:26:00 INFO:data set drift detected\n",
      "11:26:00 INFO:drift detected for Product_Type.value\n",
      "11:26:00 INFO:drift_score : 0.8325546111576977\n",
      "11:26:00 INFO:stattest_name : Jensen-Shannon distance\n",
      "11:26:00 INFO:raw_feature_importance : 1.6459057331085205\n",
      "11:26:00 INFO:relative_feature_importance : 1.0\n",
      "11:26:00 INFO:feature_importance_weighted_drift_score : 0.8325546111576977\n",
      "11:26:00 INFO:Retraining model\n"
     ]
    },
    {
     "name": "stdout",
     "output_type": "stream",
     "text": [
      "Experiment week 53\n",
      "---------------------------------\n",
      "Experiment start date : 2020-02-24 00:00:00\n",
      "Experiment end_date : 2020-03-01 00:00:00\n"
     ]
    },
    {
     "name": "stderr",
     "output_type": "stream",
     "text": [
      "11:26:01 INFO:target drift detect: True\n",
      "d:\\anaconda\\envs\\anaconda_env\\lib\\site-packages\\xgboost\\core.py:90: UserWarning:\n",
      "\n",
      "ntree_limit is deprecated, use `iteration_range` or model slicing instead.\n",
      "\n",
      "11:26:01 INFO:data set drift detected\n",
      "11:26:01 INFO:drift detected for Product_Type.value\n",
      "11:26:01 INFO:drift_score : 0.8325546111576977\n",
      "11:26:01 INFO:stattest_name : Jensen-Shannon distance\n",
      "11:26:01 INFO:raw_feature_importance : 1.8433468341827393\n",
      "11:26:01 INFO:relative_feature_importance : 1.0\n",
      "11:26:01 INFO:feature_importance_weighted_drift_score : 0.8325546111576977\n",
      "11:26:02 INFO:Retraining model\n"
     ]
    },
    {
     "name": "stdout",
     "output_type": "stream",
     "text": [
      "Experiment week 54\n",
      "---------------------------------\n",
      "Experiment start date : 2020-03-02 00:00:00\n",
      "Experiment end_date : 2020-03-08 00:00:00\n"
     ]
    },
    {
     "name": "stderr",
     "output_type": "stream",
     "text": [
      "11:26:02 INFO:target drift detect: True\n",
      "d:\\anaconda\\envs\\anaconda_env\\lib\\site-packages\\xgboost\\core.py:90: UserWarning:\n",
      "\n",
      "ntree_limit is deprecated, use `iteration_range` or model slicing instead.\n",
      "\n",
      "11:26:02 INFO:data set drift detected\n",
      "11:26:02 INFO:drift detected for state_cases.value\n",
      "11:26:02 INFO:drift_score : 3053.5714285714284\n",
      "11:26:02 INFO:stattest_name : Wasserstein distance (normed)\n",
      "11:26:02 INFO:raw_feature_importance : 0.1375526487827301\n",
      "11:26:02 INFO:relative_feature_importance : 0.06835038214921951\n",
      "11:26:02 INFO:feature_importance_weighted_drift_score : 208.7127740627953\n",
      "11:26:03 INFO:drift detected for Product_Type.value\n",
      "11:26:03 INFO:drift_score : 0.8325546111576977\n",
      "11:26:03 INFO:stattest_name : Jensen-Shannon distance\n",
      "11:26:03 INFO:raw_feature_importance : 2.0124635696411133\n",
      "11:26:03 INFO:relative_feature_importance : 1.0\n",
      "11:26:03 INFO:feature_importance_weighted_drift_score : 0.8325546111576977\n",
      "11:26:03 INFO:Retraining model\n"
     ]
    },
    {
     "name": "stdout",
     "output_type": "stream",
     "text": [
      "Experiment week 55\n",
      "---------------------------------\n",
      "Experiment start date : 2020-03-09 00:00:00\n",
      "Experiment end_date : 2020-03-15 00:00:00\n"
     ]
    },
    {
     "name": "stderr",
     "output_type": "stream",
     "text": [
      "11:26:03 INFO:target drift detect: True\n",
      "d:\\anaconda\\envs\\anaconda_env\\lib\\site-packages\\xgboost\\core.py:90: UserWarning:\n",
      "\n",
      "ntree_limit is deprecated, use `iteration_range` or model slicing instead.\n",
      "\n",
      "11:26:04 INFO:data set drift detected\n",
      "11:26:04 INFO:drift detected for state_cases.value\n",
      "11:26:04 INFO:drift_score : 29000.0\n",
      "11:26:04 INFO:stattest_name : Wasserstein distance (normed)\n",
      "11:26:04 INFO:raw_feature_importance : 0.315552294254303\n",
      "11:26:04 INFO:relative_feature_importance : 0.2524249255657196\n",
      "11:26:04 INFO:feature_importance_weighted_drift_score : 7320.3228414058685\n",
      "11:26:04 INFO:drift detected for Product_Type.value\n",
      "11:26:04 INFO:drift_score : 0.8325546111576977\n",
      "11:26:04 INFO:stattest_name : Jensen-Shannon distance\n",
      "11:26:04 INFO:raw_feature_importance : 1.2500836849212646\n",
      "11:26:04 INFO:relative_feature_importance : 1.0\n",
      "11:26:04 INFO:feature_importance_weighted_drift_score : 0.8325546111576977\n",
      "11:26:04 INFO:Retraining model\n"
     ]
    },
    {
     "name": "stdout",
     "output_type": "stream",
     "text": [
      "Experiment week 56\n",
      "---------------------------------\n",
      "Experiment start date : 2020-03-16 00:00:00\n",
      "Experiment end_date : 2020-03-22 00:00:00\n"
     ]
    },
    {
     "name": "stderr",
     "output_type": "stream",
     "text": [
      "d:\\anaconda\\envs\\anaconda_env\\lib\\site-packages\\rdt\\transformers\\categorical.py:182: UserWarning:\n",
      "\n",
      "The data contains 1 new categories that were not seen in the original data (examples: {'Yes'}). Assigning them random values. If you want to model new categories, please fit the transformer again with the new data.\n",
      "\n",
      "11:26:05 INFO:target drift detect: True\n",
      "d:\\anaconda\\envs\\anaconda_env\\lib\\site-packages\\xgboost\\core.py:90: UserWarning:\n",
      "\n",
      "ntree_limit is deprecated, use `iteration_range` or model slicing instead.\n",
      "\n",
      "11:26:05 INFO:data set drift detected\n",
      "11:26:05 INFO:drift detected for state_cases.value\n",
      "11:26:05 INFO:drift_score : 264339.28571428574\n",
      "11:26:05 INFO:stattest_name : Wasserstein distance (normed)\n",
      "11:26:05 INFO:raw_feature_importance : 0.09526854008436203\n",
      "11:26:05 INFO:relative_feature_importance : 0.09667555242776871\n",
      "11:26:05 INFO:feature_importance_weighted_drift_score : 25555.146474790363\n",
      "11:26:05 INFO:drift detected for state_deaths.value\n",
      "11:26:05 INFO:drift_score : 3553.5714285714284\n",
      "11:26:05 INFO:stattest_name : Wasserstein distance (normed)\n",
      "11:26:05 INFO:raw_feature_importance : 0.06549281626939774\n",
      "11:26:05 INFO:relative_feature_importance : 0.06646007299423218\n",
      "11:26:05 INFO:feature_importance_weighted_drift_score : 236.17061653307505\n",
      "11:26:05 INFO:drift detected for Product_Type.value\n",
      "11:26:05 INFO:drift_score : 0.8325546111576977\n",
      "11:26:05 INFO:stattest_name : Jensen-Shannon distance\n",
      "11:26:05 INFO:raw_feature_importance : 0.985446035861969\n",
      "11:26:05 INFO:relative_feature_importance : 1.0\n",
      "11:26:05 INFO:feature_importance_weighted_drift_score : 0.8325546111576977\n",
      "11:26:06 INFO:Retraining model\n"
     ]
    },
    {
     "name": "stdout",
     "output_type": "stream",
     "text": [
      "Experiment week 57\n",
      "---------------------------------\n",
      "Experiment start date : 2020-03-23 00:00:00\n",
      "Experiment end_date : 2020-03-29 00:00:00\n"
     ]
    },
    {
     "name": "stderr",
     "output_type": "stream",
     "text": [
      "11:26:06 INFO:target drift detect: True\n",
      "d:\\anaconda\\envs\\anaconda_env\\lib\\site-packages\\xgboost\\core.py:90: UserWarning:\n",
      "\n",
      "ntree_limit is deprecated, use `iteration_range` or model slicing instead.\n",
      "\n",
      "11:26:06 INFO:data set drift detected\n",
      "11:26:06 INFO:drift detected for statewise_population_per_sqmile.value\n",
      "11:26:06 INFO:drift_score : 0.3360293187843137\n",
      "11:26:06 INFO:stattest_name : Wasserstein distance (normed)\n",
      "11:26:06 INFO:raw_feature_importance : 0.4290716052055359\n",
      "11:26:06 INFO:relative_feature_importance : 0.3561953902244568\n",
      "11:26:06 INFO:feature_importance_weighted_drift_score : 0.11969209433123701\n",
      "11:26:07 INFO:drift detected for state_cases.value\n",
      "11:26:07 INFO:drift_score : 1494196.4285714286\n",
      "11:26:07 INFO:stattest_name : Wasserstein distance (normed)\n",
      "11:26:07 INFO:raw_feature_importance : 0.2905508577823639\n",
      "11:26:07 INFO:relative_feature_importance : 0.24120187759399414\n",
      "11:26:07 INFO:feature_importance_weighted_drift_score : 360402.98406566895\n",
      "11:26:07 INFO:drift detected for state_deaths.value\n",
      "11:26:07 INFO:drift_score : 21142.85714285714\n",
      "11:26:07 INFO:stattest_name : Wasserstein distance (normed)\n",
      "11:26:07 INFO:raw_feature_importance : 0.10752590000629425\n",
      "11:26:07 INFO:relative_feature_importance : 0.08926302939653397\n",
      "11:26:07 INFO:feature_importance_weighted_drift_score : 1887.2754786695753\n",
      "11:26:07 INFO:drift detected for Product_Type.value\n",
      "11:26:07 INFO:drift_score : 0.8325546111576977\n",
      "11:26:07 INFO:stattest_name : Jensen-Shannon distance\n",
      "11:26:07 INFO:raw_feature_importance : 1.2045961618423462\n",
      "11:26:07 INFO:relative_feature_importance : 1.0\n",
      "11:26:07 INFO:feature_importance_weighted_drift_score : 0.8325546111576977\n",
      "11:26:07 INFO:Retraining model\n"
     ]
    },
    {
     "name": "stdout",
     "output_type": "stream",
     "text": [
      "Experiment week 58\n",
      "---------------------------------\n",
      "Experiment start date : 2020-03-30 00:00:00\n",
      "Experiment end_date : 2020-04-05 00:00:00\n"
     ]
    },
    {
     "name": "stderr",
     "output_type": "stream",
     "text": [
      "11:26:08 INFO:target drift detect: True\n",
      "d:\\anaconda\\envs\\anaconda_env\\lib\\site-packages\\xgboost\\core.py:90: UserWarning:\n",
      "\n",
      "ntree_limit is deprecated, use `iteration_range` or model slicing instead.\n",
      "\n",
      "11:26:08 INFO:data set drift detected\n",
      "11:26:08 INFO:drift detected for statewise_population_per_sqmile.value\n",
      "11:26:08 INFO:drift_score : 0.3360293187843137\n",
      "11:26:08 INFO:stattest_name : Wasserstein distance (normed)\n",
      "11:26:08 INFO:raw_feature_importance : 0.5483280420303345\n",
      "11:26:08 INFO:relative_feature_importance : 0.4139672815799713\n",
      "11:26:08 INFO:feature_importance_weighted_drift_score : 0.13910514362831192\n",
      "11:26:08 INFO:drift detected for state_cases.value\n",
      "11:26:08 INFO:drift_score : 4729696.428571428\n",
      "11:26:08 INFO:stattest_name : Wasserstein distance (normed)\n",
      "11:26:08 INFO:raw_feature_importance : 0.3998843729496002\n",
      "11:26:08 INFO:relative_feature_importance : 0.3018978536128998\n",
      "11:26:08 INFO:feature_importance_weighted_drift_score : 1427885.200026312\n",
      "11:26:08 INFO:drift detected for state_deaths.value\n",
      "11:26:08 INFO:drift_score : 93125.0\n",
      "11:26:08 INFO:stattest_name : Wasserstein distance (normed)\n",
      "11:26:08 INFO:raw_feature_importance : 0.06417149305343628\n",
      "11:26:08 INFO:relative_feature_importance : 0.04844709113240242\n",
      "11:26:08 INFO:feature_importance_weighted_drift_score : 4511.635361704975\n",
      "11:26:08 INFO:drift detected for Product_Type.value\n",
      "11:26:08 INFO:drift_score : 0.8325546111576977\n",
      "11:26:08 INFO:stattest_name : Jensen-Shannon distance\n",
      "11:26:08 INFO:raw_feature_importance : 1.324568510055542\n",
      "11:26:08 INFO:relative_feature_importance : 1.0\n",
      "11:26:08 INFO:feature_importance_weighted_drift_score : 0.8325546111576977\n",
      "11:26:08 INFO:Retraining model\n"
     ]
    },
    {
     "name": "stdout",
     "output_type": "stream",
     "text": [
      "Experiment week 59\n",
      "---------------------------------\n",
      "Experiment start date : 2020-04-06 00:00:00\n",
      "Experiment end_date : 2020-04-12 00:00:00\n"
     ]
    },
    {
     "name": "stderr",
     "output_type": "stream",
     "text": [
      "11:26:09 INFO:target drift detect: True\n",
      "d:\\anaconda\\envs\\anaconda_env\\lib\\site-packages\\xgboost\\core.py:90: UserWarning:\n",
      "\n",
      "ntree_limit is deprecated, use `iteration_range` or model slicing instead.\n",
      "\n",
      "11:26:09 INFO:data set drift detected\n",
      "11:26:09 INFO:drift detected for state_cases.value\n",
      "11:26:09 INFO:drift_score : 9117374.999999998\n",
      "11:26:09 INFO:stattest_name : Wasserstein distance (normed)\n",
      "11:26:09 INFO:raw_feature_importance : 0.7047041654586792\n",
      "11:26:09 INFO:relative_feature_importance : 0.4145298898220062\n",
      "11:26:09 INFO:feature_importance_weighted_drift_score : 3779424.454215913\n",
      "11:26:09 INFO:drift detected for state_deaths.value\n",
      "11:26:09 INFO:drift_score : 257303.57142857145\n",
      "11:26:09 INFO:stattest_name : Wasserstein distance (normed)\n",
      "11:26:09 INFO:raw_feature_importance : 0.09517351537942886\n",
      "11:26:09 INFO:relative_feature_importance : 0.05598415806889534\n",
      "11:26:09 INFO:feature_importance_weighted_drift_score : 14404.923814548447\n",
      "11:26:09 INFO:drift detected for Product_Type.value\n",
      "11:26:09 INFO:drift_score : 0.8325546111576977\n",
      "11:26:09 INFO:stattest_name : Jensen-Shannon distance\n",
      "11:26:09 INFO:raw_feature_importance : 1.7000080347061157\n",
      "11:26:09 INFO:relative_feature_importance : 1.0\n",
      "11:26:09 INFO:feature_importance_weighted_drift_score : 0.8325546111576977\n",
      "11:26:10 INFO:Retraining model\n"
     ]
    },
    {
     "name": "stdout",
     "output_type": "stream",
     "text": [
      "Experiment week 60\n",
      "---------------------------------\n",
      "Experiment start date : 2020-04-13 00:00:00\n",
      "Experiment end_date : 2020-04-19 00:00:00\n"
     ]
    },
    {
     "name": "stderr",
     "output_type": "stream",
     "text": [
      "11:26:10 INFO:target drift detect: True\n",
      "d:\\anaconda\\envs\\anaconda_env\\lib\\site-packages\\xgboost\\core.py:90: UserWarning:\n",
      "\n",
      "ntree_limit is deprecated, use `iteration_range` or model slicing instead.\n",
      "\n",
      "11:26:10 INFO:data set drift detected\n",
      "11:26:11 INFO:drift detected for state_cases.value\n",
      "11:26:11 INFO:drift_score : 13492035.714285713\n",
      "11:26:11 INFO:stattest_name : Wasserstein distance (normed)\n",
      "11:26:11 INFO:raw_feature_importance : 0.5167227983474731\n",
      "11:26:11 INFO:relative_feature_importance : 0.34140345454216003\n",
      "11:26:11 INFO:feature_importance_weighted_drift_score : 4606227.601663342\n",
      "11:26:11 INFO:drift detected for state_deaths.value\n",
      "11:26:11 INFO:drift_score : 497803.5714285714\n",
      "11:26:11 INFO:stattest_name : Wasserstein distance (normed)\n",
      "11:26:11 INFO:raw_feature_importance : 0.32162532210350037\n",
      "11:26:11 INFO:relative_feature_importance : 0.21250078082084656\n",
      "11:26:11 INFO:feature_importance_weighted_drift_score : 105783.6476239775\n",
      "11:26:11 INFO:drift detected for Product_Type.value\n",
      "11:26:11 INFO:drift_score : 0.8325546111576977\n",
      "11:26:11 INFO:stattest_name : Jensen-Shannon distance\n",
      "11:26:11 INFO:raw_feature_importance : 1.513525366783142\n",
      "11:26:11 INFO:relative_feature_importance : 1.0\n",
      "11:26:11 INFO:feature_importance_weighted_drift_score : 0.8325546111576977\n",
      "11:26:11 INFO:Retraining model\n"
     ]
    },
    {
     "name": "stdout",
     "output_type": "stream",
     "text": [
      "Experiment week 61\n",
      "---------------------------------\n",
      "Experiment start date : 2020-04-20 00:00:00\n",
      "Experiment end_date : 2020-04-26 00:00:00\n"
     ]
    },
    {
     "name": "stderr",
     "output_type": "stream",
     "text": [
      "11:26:12 INFO:target drift detect: True\n",
      "d:\\anaconda\\envs\\anaconda_env\\lib\\site-packages\\xgboost\\core.py:90: UserWarning:\n",
      "\n",
      "ntree_limit is deprecated, use `iteration_range` or model slicing instead.\n",
      "\n",
      "11:26:12 INFO:data set drift detected\n",
      "11:26:12 INFO:drift detected for state_cases.value\n",
      "11:26:12 INFO:drift_score : 17999464.285714287\n",
      "11:26:12 INFO:stattest_name : Wasserstein distance (normed)\n",
      "11:26:12 INFO:raw_feature_importance : 0.5933514833450317\n",
      "11:26:12 INFO:relative_feature_importance : 0.4107882082462311\n",
      "11:26:12 INFO:feature_importance_weighted_drift_score : 7393967.6833206\n",
      "11:26:12 INFO:drift detected for state_deaths.value\n",
      "11:26:12 INFO:drift_score : 790857.1428571428\n",
      "11:26:12 INFO:stattest_name : Wasserstein distance (normed)\n",
      "11:26:12 INFO:raw_feature_importance : 0.068808913230896\n",
      "11:26:12 INFO:relative_feature_importance : 0.047637682408094406\n",
      "11:26:12 INFO:feature_importance_weighted_drift_score : 37674.60140160152\n",
      "11:26:12 INFO:drift detected for Product_Type.value\n",
      "11:26:12 INFO:drift_score : 0.8325546111576977\n",
      "11:26:12 INFO:stattest_name : Jensen-Shannon distance\n",
      "11:26:12 INFO:raw_feature_importance : 1.4444218873977661\n",
      "11:26:12 INFO:relative_feature_importance : 1.0\n",
      "11:26:12 INFO:feature_importance_weighted_drift_score : 0.8325546111576977\n",
      "11:26:12 INFO:Retraining model\n"
     ]
    },
    {
     "name": "stdout",
     "output_type": "stream",
     "text": [
      "Experiment week 62\n",
      "---------------------------------\n",
      "Experiment start date : 2020-04-27 00:00:00\n",
      "Experiment end_date : 2020-05-03 00:00:00\n"
     ]
    },
    {
     "name": "stderr",
     "output_type": "stream",
     "text": [
      "d:\\anaconda\\envs\\anaconda_env\\lib\\site-packages\\rdt\\transformers\\categorical.py:182: UserWarning:\n",
      "\n",
      "The data contains 4 new categories that were not seen in the original data (examples: {'WH_0x3f0'}). Assigning them random values. If you want to model new categories, please fit the transformer again with the new data.\n",
      "\n",
      "d:\\anaconda\\envs\\anaconda_env\\lib\\site-packages\\rdt\\transformers\\categorical.py:182: UserWarning:\n",
      "\n",
      "The data contains 4 new categories that were not seen in the original data (examples: {'randolph'}). Assigning them random values. If you want to model new categories, please fit the transformer again with the new data.\n",
      "\n",
      "11:26:13 INFO:target drift detect: True\n",
      "d:\\anaconda\\envs\\anaconda_env\\lib\\site-packages\\xgboost\\core.py:90: UserWarning:\n",
      "\n",
      "ntree_limit is deprecated, use `iteration_range` or model slicing instead.\n",
      "\n",
      "11:26:13 INFO:data set drift detected\n",
      "11:26:13 INFO:drift detected for state_cases.value\n",
      "11:26:13 INFO:drift_score : 23920896.551724136\n",
      "11:26:13 INFO:stattest_name : Wasserstein distance (normed)\n",
      "11:26:13 INFO:raw_feature_importance : 0.7122223973274231\n",
      "11:26:13 INFO:relative_feature_importance : 0.40489888191223145\n",
      "11:26:13 INFO:feature_importance_weighted_drift_score : 9685544.268131256\n",
      "11:26:13 INFO:drift detected for state_deaths.value\n",
      "11:26:13 INFO:drift_score : 1119431.0344827583\n",
      "11:26:13 INFO:stattest_name : Wasserstein distance (normed)\n",
      "11:26:13 INFO:raw_feature_importance : 0.22778479754924774\n",
      "11:26:13 INFO:relative_feature_importance : 0.1294957995414734\n",
      "11:26:13 INFO:feature_importance_weighted_drift_score : 144961.61684188346\n",
      "11:26:13 INFO:drift detected for Product_Type.value\n",
      "11:26:13 INFO:drift_score : 0.8325546111576977\n",
      "11:26:13 INFO:stattest_name : Jensen-Shannon distance\n",
      "11:26:13 INFO:raw_feature_importance : 1.7590129375457764\n",
      "11:26:13 INFO:relative_feature_importance : 1.0\n",
      "11:26:13 INFO:feature_importance_weighted_drift_score : 0.8325546111576977\n",
      "11:26:14 INFO:Retraining model\n"
     ]
    },
    {
     "name": "stdout",
     "output_type": "stream",
     "text": [
      "Experiment week 63\n",
      "---------------------------------\n",
      "Experiment start date : 2020-05-04 00:00:00\n",
      "Experiment end_date : 2020-05-10 00:00:00\n"
     ]
    },
    {
     "name": "stderr",
     "output_type": "stream",
     "text": [
      "11:26:14 INFO:target drift detect: True\n",
      "d:\\anaconda\\envs\\anaconda_env\\lib\\site-packages\\xgboost\\core.py:90: UserWarning:\n",
      "\n",
      "ntree_limit is deprecated, use `iteration_range` or model slicing instead.\n",
      "\n",
      "11:26:14 INFO:data set drift detected\n",
      "11:26:15 INFO:drift detected for state_cases.value\n",
      "11:26:15 INFO:drift_score : 32266746.031746026\n",
      "11:26:15 INFO:stattest_name : Wasserstein distance (normed)\n",
      "11:26:15 INFO:raw_feature_importance : 0.3969857096672058\n",
      "11:26:15 INFO:relative_feature_importance : 0.22878913581371307\n",
      "11:26:15 INFO:feature_importance_weighted_drift_score : 7382280.940123729\n",
      "11:26:15 INFO:drift detected for state_deaths.value\n",
      "11:26:15 INFO:drift_score : 1551301.5873015875\n",
      "11:26:15 INFO:stattest_name : Wasserstein distance (normed)\n",
      "11:26:15 INFO:raw_feature_importance : 0.12215407192707062\n",
      "11:26:15 INFO:relative_feature_importance : 0.07039932161569595\n",
      "11:26:15 INFO:feature_importance_weighted_drift_score : 109210.57936738408\n",
      "11:26:15 INFO:drift detected for Product_Type.value\n",
      "11:26:15 INFO:drift_score : 0.8325546111576977\n",
      "11:26:15 INFO:stattest_name : Jensen-Shannon distance\n",
      "11:26:15 INFO:raw_feature_importance : 1.7351597547531128\n",
      "11:26:15 INFO:relative_feature_importance : 1.0\n",
      "11:26:15 INFO:feature_importance_weighted_drift_score : 0.8325546111576977\n",
      "11:26:15 INFO:Retraining model\n"
     ]
    },
    {
     "name": "stdout",
     "output_type": "stream",
     "text": [
      "Experiment week 64\n",
      "---------------------------------\n",
      "Experiment start date : 2020-05-11 00:00:00\n",
      "Experiment end_date : 2020-05-17 00:00:00\n"
     ]
    },
    {
     "name": "stderr",
     "output_type": "stream",
     "text": [
      "11:26:16 INFO:target drift detect: True\n",
      "d:\\anaconda\\envs\\anaconda_env\\lib\\site-packages\\xgboost\\core.py:90: UserWarning:\n",
      "\n",
      "ntree_limit is deprecated, use `iteration_range` or model slicing instead.\n",
      "\n",
      "11:26:16 INFO:data set drift detected\n",
      "11:26:16 INFO:drift detected for state_cases.value\n",
      "11:26:16 INFO:drift_score : 38230285.71428571\n",
      "11:26:16 INFO:stattest_name : Wasserstein distance (normed)\n",
      "11:26:16 INFO:raw_feature_importance : 0.17426182329654694\n",
      "11:26:16 INFO:relative_feature_importance : 0.08971912413835526\n",
      "11:26:16 INFO:feature_importance_weighted_drift_score : 3429987.749844789\n",
      "11:26:16 INFO:drift detected for state_deaths.value\n",
      "11:26:16 INFO:drift_score : 1886682.5396825394\n",
      "11:26:16 INFO:stattest_name : Wasserstein distance (normed)\n",
      "11:26:16 INFO:raw_feature_importance : 0.08568695187568665\n",
      "11:26:16 INFO:relative_feature_importance : 0.04411613568663597\n",
      "11:26:16 INFO:feature_importance_weighted_drift_score : 83233.14291824187\n",
      "11:26:16 INFO:drift detected for Product_Type.value\n",
      "11:26:16 INFO:drift_score : 0.8325546111576977\n",
      "11:26:16 INFO:stattest_name : Jensen-Shannon distance\n",
      "11:26:16 INFO:raw_feature_importance : 1.9423041343688965\n",
      "11:26:16 INFO:relative_feature_importance : 1.0\n",
      "11:26:16 INFO:feature_importance_weighted_drift_score : 0.8325546111576977\n",
      "11:26:17 INFO:Retraining model\n"
     ]
    },
    {
     "name": "stdout",
     "output_type": "stream",
     "text": [
      "Experiment week 65\n",
      "---------------------------------\n",
      "Experiment start date : 2020-05-18 00:00:00\n",
      "Experiment end_date : 2020-05-24 00:00:00\n"
     ]
    },
    {
     "name": "stderr",
     "output_type": "stream",
     "text": [
      "11:26:17 INFO:target drift detect: True\n",
      "d:\\anaconda\\envs\\anaconda_env\\lib\\site-packages\\xgboost\\core.py:90: UserWarning:\n",
      "\n",
      "ntree_limit is deprecated, use `iteration_range` or model slicing instead.\n",
      "\n",
      "11:26:17 INFO:data set drift detected\n",
      "11:26:17 INFO:drift detected for state_cases.value\n",
      "11:26:17 INFO:drift_score : 44144460.31746031\n",
      "11:26:17 INFO:stattest_name : Wasserstein distance (normed)\n",
      "11:26:17 INFO:raw_feature_importance : 0.3973068296909332\n",
      "11:26:17 INFO:relative_feature_importance : 0.2056981474161148\n",
      "11:26:17 INFO:feature_importance_weighted_drift_score : 9080433.705985783\n",
      "11:26:17 INFO:drift detected for state_deaths.value\n",
      "11:26:17 INFO:drift_score : 2191285.714285714\n",
      "11:26:17 INFO:stattest_name : Wasserstein distance (normed)\n",
      "11:26:17 INFO:raw_feature_importance : 0.09487119317054749\n",
      "11:26:17 INFO:relative_feature_importance : 0.04911777749657631\n",
      "11:26:17 INFO:feature_importance_weighted_drift_score : 107631.084145712\n",
      "11:26:18 INFO:drift detected for Product_Type.value\n",
      "11:26:18 INFO:drift_score : 0.8325546111576977\n",
      "11:26:18 INFO:stattest_name : Jensen-Shannon distance\n",
      "11:26:18 INFO:raw_feature_importance : 1.9315041303634644\n",
      "11:26:18 INFO:relative_feature_importance : 1.0\n",
      "11:26:18 INFO:feature_importance_weighted_drift_score : 0.8325546111576977\n",
      "11:26:18 INFO:Retraining model\n"
     ]
    },
    {
     "name": "stdout",
     "output_type": "stream",
     "text": [
      "Experiment week 66\n",
      "---------------------------------\n",
      "Experiment start date : 2020-05-25 00:00:00\n",
      "Experiment end_date : 2020-05-31 00:00:00\n"
     ]
    },
    {
     "name": "stderr",
     "output_type": "stream",
     "text": [
      "11:26:18 INFO:target drift detect: True\n",
      "d:\\anaconda\\envs\\anaconda_env\\lib\\site-packages\\xgboost\\core.py:90: UserWarning:\n",
      "\n",
      "ntree_limit is deprecated, use `iteration_range` or model slicing instead.\n",
      "\n",
      "11:26:19 INFO:data set drift detected\n",
      "11:26:19 INFO:drift detected for state_cases.value\n",
      "11:26:19 INFO:drift_score : 49347206.34920635\n",
      "11:26:19 INFO:stattest_name : Wasserstein distance (normed)\n",
      "11:26:19 INFO:raw_feature_importance : 0.19142261147499084\n",
      "11:26:19 INFO:relative_feature_importance : 0.09610733389854431\n",
      "11:26:19 INFO:feature_importance_weighted_drift_score : 4742628.43756354\n",
      "11:26:19 INFO:drift detected for state_deaths.value\n",
      "11:26:19 INFO:drift_score : 2429555.5555555555\n",
      "11:26:19 INFO:stattest_name : Wasserstein distance (normed)\n",
      "11:26:19 INFO:raw_feature_importance : 0.07581911981105804\n",
      "11:26:19 INFO:relative_feature_importance : 0.03806641697883606\n",
      "11:26:19 INFO:feature_importance_weighted_drift_score : 92484.47485102547\n",
      "11:26:19 INFO:drift detected for Product_Type.value\n",
      "11:26:19 INFO:drift_score : 0.8325546111576977\n",
      "11:26:19 INFO:stattest_name : Jensen-Shannon distance\n",
      "11:26:19 INFO:raw_feature_importance : 1.9917587041854858\n",
      "11:26:19 INFO:relative_feature_importance : 1.0\n",
      "11:26:19 INFO:feature_importance_weighted_drift_score : 0.8325546111576977\n",
      "11:26:19 INFO:Retraining model\n"
     ]
    },
    {
     "name": "stdout",
     "output_type": "stream",
     "text": [
      "Experiment week 67\n",
      "---------------------------------\n",
      "Experiment start date : 2020-06-01 00:00:00\n",
      "Experiment end_date : 2020-06-07 00:00:00\n"
     ]
    },
    {
     "name": "stderr",
     "output_type": "stream",
     "text": [
      "d:\\anaconda\\envs\\anaconda_env\\lib\\site-packages\\rdt\\transformers\\categorical.py:182: UserWarning:\n",
      "\n",
      "The data contains 12 new categories that were not seen in the original data (examples: {'WH_0x3f2'}). Assigning them random values. If you want to model new categories, please fit the transformer again with the new data.\n",
      "\n",
      "d:\\anaconda\\envs\\anaconda_env\\lib\\site-packages\\rdt\\transformers\\categorical.py:182: UserWarning:\n",
      "\n",
      "The data contains 3 new categories that were not seen in the original data (examples: {'Yes'}). Assigning them random values. If you want to model new categories, please fit the transformer again with the new data.\n",
      "\n",
      "d:\\anaconda\\envs\\anaconda_env\\lib\\site-packages\\rdt\\transformers\\categorical.py:182: UserWarning:\n",
      "\n",
      "The data contains 12 new categories that were not seen in the original data (examples: {'alaska'}). Assigning them random values. If you want to model new categories, please fit the transformer again with the new data.\n",
      "\n",
      "d:\\anaconda\\envs\\anaconda_env\\lib\\site-packages\\rdt\\transformers\\categorical.py:182: UserWarning:\n",
      "\n",
      "The data contains 12 new categories that were not seen in the original data (examples: {'matanuska-susitna'}). Assigning them random values. If you want to model new categories, please fit the transformer again with the new data.\n",
      "\n",
      "d:\\anaconda\\envs\\anaconda_env\\lib\\site-packages\\rdt\\transformers\\categorical.py:182: UserWarning:\n",
      "\n",
      "The data contains 12 new categories that were not seen in the original data (examples: {'AK'}). Assigning them random values. If you want to model new categories, please fit the transformer again with the new data.\n",
      "\n",
      "d:\\anaconda\\envs\\anaconda_env\\lib\\site-packages\\rdt\\transformers\\categorical.py:182: UserWarning:\n",
      "\n",
      "The data contains 12 new categories that were not seen in the original data (examples: {'pacific'}). Assigning them random values. If you want to model new categories, please fit the transformer again with the new data.\n",
      "\n",
      "11:26:20 INFO:target drift detect: True\n",
      "d:\\anaconda\\envs\\anaconda_env\\lib\\site-packages\\xgboost\\core.py:90: UserWarning:\n",
      "\n",
      "ntree_limit is deprecated, use `iteration_range` or model slicing instead.\n",
      "\n",
      "11:26:20 INFO:data set drift detected\n",
      "11:26:20 INFO:drift detected for state_cases.value\n",
      "11:26:20 INFO:drift_score : 49450478.26086957\n",
      "11:26:20 INFO:stattest_name : Wasserstein distance (normed)\n",
      "11:26:20 INFO:raw_feature_importance : 0.31455183029174805\n",
      "11:26:20 INFO:relative_feature_importance : 0.13662472367286682\n",
      "11:26:20 INFO:feature_importance_weighted_drift_score : 6756157.927882412\n",
      "11:26:20 INFO:drift detected for state_deaths.value\n",
      "11:26:20 INFO:drift_score : 2427985.507246377\n",
      "11:26:20 INFO:stattest_name : Wasserstein distance (normed)\n",
      "11:26:20 INFO:raw_feature_importance : 0.05407373234629631\n",
      "11:26:20 INFO:relative_feature_importance : 0.023486776277422905\n",
      "11:26:20 INFO:feature_importance_weighted_drift_score : 57025.552413520825\n",
      "11:26:20 INFO:drift detected for Product_Type.value\n",
      "11:26:20 INFO:drift_score : 0.8325546111576977\n",
      "11:26:20 INFO:stattest_name : Jensen-Shannon distance\n",
      "11:26:20 INFO:raw_feature_importance : 2.3023054599761963\n",
      "11:26:20 INFO:relative_feature_importance : 1.0\n",
      "11:26:20 INFO:feature_importance_weighted_drift_score : 0.8325546111576977\n",
      "11:26:21 INFO:Retraining model\n"
     ]
    },
    {
     "name": "stdout",
     "output_type": "stream",
     "text": [
      "Experiment week 68\n",
      "---------------------------------\n",
      "Experiment start date : 2020-06-08 00:00:00\n",
      "Experiment end_date : 2020-06-14 00:00:00\n"
     ]
    },
    {
     "name": "stderr",
     "output_type": "stream",
     "text": [
      "11:26:21 INFO:target drift detect: True\n",
      "d:\\anaconda\\envs\\anaconda_env\\lib\\site-packages\\xgboost\\core.py:90: UserWarning:\n",
      "\n",
      "ntree_limit is deprecated, use `iteration_range` or model slicing instead.\n",
      "\n",
      "11:26:21 INFO:data set drift detected\n",
      "11:26:22 INFO:drift detected for state_cases.value\n",
      "11:26:22 INFO:drift_score : 53446628.57142857\n",
      "11:26:22 INFO:stattest_name : Wasserstein distance (normed)\n",
      "11:26:22 INFO:raw_feature_importance : 0.3069680333137512\n",
      "11:26:22 INFO:relative_feature_importance : 0.13768041133880615\n",
      "11:26:22 INFO:feature_importance_weighted_drift_score : 7358553.806386675\n",
      "11:26:22 INFO:drift detected for state_deaths.value\n",
      "11:26:22 INFO:drift_score : 2609242.8571428573\n",
      "11:26:22 INFO:stattest_name : Wasserstein distance (normed)\n",
      "11:26:22 INFO:raw_feature_importance : 0.08737772703170776\n",
      "11:26:22 INFO:relative_feature_importance : 0.03919040411710739\n",
      "11:26:22 INFO:feature_importance_weighted_drift_score : 102257.28201110449\n",
      "11:26:22 INFO:drift detected for Product_Type.value\n",
      "11:26:22 INFO:drift_score : 0.8325546111576977\n",
      "11:26:22 INFO:stattest_name : Jensen-Shannon distance\n",
      "11:26:22 INFO:raw_feature_importance : 2.229569435119629\n",
      "11:26:22 INFO:relative_feature_importance : 1.0\n",
      "11:26:22 INFO:feature_importance_weighted_drift_score : 0.8325546111576977\n",
      "11:26:22 INFO:drift detected for state.value\n",
      "11:26:22 INFO:drift_score : 0.8325546111576977\n",
      "11:26:22 INFO:stattest_name : Jensen-Shannon distance\n",
      "11:26:22 INFO:raw_feature_importance : 0.28604334592819214\n",
      "11:26:22 INFO:relative_feature_importance : 0.12829533219337463\n",
      "11:26:22 INFO:feature_importance_weighted_drift_score : 0.10681287040760268\n",
      "11:26:22 INFO:Retraining model\n"
     ]
    },
    {
     "name": "stdout",
     "output_type": "stream",
     "text": [
      "Experiment week 69\n",
      "---------------------------------\n",
      "Experiment start date : 2020-06-15 00:00:00\n",
      "Experiment end_date : 2020-06-21 00:00:00\n"
     ]
    },
    {
     "name": "stderr",
     "output_type": "stream",
     "text": [
      "11:26:23 INFO:target drift detect: True\n",
      "d:\\anaconda\\envs\\anaconda_env\\lib\\site-packages\\xgboost\\core.py:90: UserWarning:\n",
      "\n",
      "ntree_limit is deprecated, use `iteration_range` or model slicing instead.\n",
      "\n",
      "11:26:23 INFO:data set drift detected\n",
      "11:26:23 INFO:drift detected for state_cases.value\n",
      "11:26:23 INFO:drift_score : 59829171.42857142\n",
      "11:26:23 INFO:stattest_name : Wasserstein distance (normed)\n",
      "11:26:23 INFO:raw_feature_importance : 0.35847651958465576\n",
      "11:26:23 INFO:relative_feature_importance : 0.184648334980011\n",
      "11:26:23 INFO:feature_importance_weighted_drift_score : 11047356.887519358\n",
      "11:26:23 INFO:drift detected for state_deaths.value\n",
      "11:26:23 INFO:drift_score : 2762557.1428571423\n",
      "11:26:23 INFO:stattest_name : Wasserstein distance (normed)\n",
      "11:26:23 INFO:raw_feature_importance : 0.034981176257133484\n",
      "11:26:23 INFO:relative_feature_importance : 0.01801851950585842\n",
      "11:26:23 INFO:feature_importance_weighted_drift_score : 49777.18976461993\n",
      "11:26:23 INFO:drift detected for Product_Type.value\n",
      "11:26:23 INFO:drift_score : 0.8325546111576977\n",
      "11:26:23 INFO:stattest_name : Jensen-Shannon distance\n",
      "11:26:23 INFO:raw_feature_importance : 1.9414012432098389\n",
      "11:26:23 INFO:relative_feature_importance : 1.0\n",
      "11:26:23 INFO:feature_importance_weighted_drift_score : 0.8325546111576977\n",
      "11:26:24 INFO:Retraining model\n"
     ]
    },
    {
     "name": "stdout",
     "output_type": "stream",
     "text": [
      "Experiment week 70\n",
      "---------------------------------\n",
      "Experiment start date : 2020-06-22 00:00:00\n",
      "Experiment end_date : 2020-06-28 00:00:00\n"
     ]
    },
    {
     "name": "stderr",
     "output_type": "stream",
     "text": [
      "11:26:24 INFO:target drift detect: True\n",
      "d:\\anaconda\\envs\\anaconda_env\\lib\\site-packages\\xgboost\\core.py:90: UserWarning:\n",
      "\n",
      "ntree_limit is deprecated, use `iteration_range` or model slicing instead.\n",
      "\n",
      "11:26:24 INFO:data set drift detected\n",
      "11:26:25 INFO:drift detected for state_cases.value\n",
      "11:26:25 INFO:drift_score : 69736414.28571427\n",
      "11:26:25 INFO:stattest_name : Wasserstein distance (normed)\n",
      "11:26:25 INFO:raw_feature_importance : 0.40522798895835876\n",
      "11:26:25 INFO:relative_feature_importance : 0.2022198736667633\n",
      "11:26:25 INFO:feature_importance_weighted_drift_score : 14102088.886830207\n",
      "11:26:25 INFO:drift detected for state_deaths.value\n",
      "11:26:25 INFO:drift_score : 2908728.571428572\n",
      "11:26:25 INFO:stattest_name : Wasserstein distance (normed)\n",
      "11:26:25 INFO:raw_feature_importance : 0.11374913156032562\n",
      "11:26:25 INFO:relative_feature_importance : 0.05676393583416939\n",
      "11:26:25 INFO:feature_importance_weighted_drift_score : 165110.88198758665\n",
      "11:26:25 INFO:drift detected for Product_Type.value\n",
      "11:26:25 INFO:drift_score : 0.8325546111576977\n",
      "11:26:25 INFO:stattest_name : Jensen-Shannon distance\n",
      "11:26:25 INFO:raw_feature_importance : 2.0038979053497314\n",
      "11:26:25 INFO:relative_feature_importance : 1.0\n",
      "11:26:25 INFO:feature_importance_weighted_drift_score : 0.8325546111576977\n",
      "11:26:25 INFO:Retraining model\n"
     ]
    },
    {
     "name": "stdout",
     "output_type": "stream",
     "text": [
      "Experiment week 71\n",
      "---------------------------------\n",
      "Experiment start date : 2020-06-29 00:00:00\n",
      "Experiment end_date : 2020-07-05 00:00:00\n"
     ]
    },
    {
     "name": "stderr",
     "output_type": "stream",
     "text": [
      "11:26:26 INFO:target drift detect: True\n",
      "d:\\anaconda\\envs\\anaconda_env\\lib\\site-packages\\xgboost\\core.py:90: UserWarning:\n",
      "\n",
      "ntree_limit is deprecated, use `iteration_range` or model slicing instead.\n",
      "\n",
      "11:26:26 INFO:data set drift detected\n",
      "11:26:26 INFO:drift detected for state_cases.value\n",
      "11:26:26 INFO:drift_score : 84985385.71428572\n",
      "11:26:26 INFO:stattest_name : Wasserstein distance (normed)\n",
      "11:26:26 INFO:raw_feature_importance : 0.38578087091445923\n",
      "11:26:26 INFO:relative_feature_importance : 0.18280573189258575\n",
      "11:26:26 INFO:feature_importance_weighted_drift_score : 15535815.635673702\n",
      "11:26:26 INFO:drift detected for state_deaths.value\n",
      "11:26:26 INFO:drift_score : 3043199.9999999995\n",
      "11:26:26 INFO:stattest_name : Wasserstein distance (normed)\n",
      "11:26:26 INFO:raw_feature_importance : 0.09310607612133026\n",
      "11:26:26 INFO:relative_feature_importance : 0.04411914944648743\n",
      "11:26:26 INFO:feature_importance_weighted_drift_score : 134263.3955955505\n",
      "11:26:26 INFO:drift detected for Product_Type.value\n",
      "11:26:26 INFO:drift_score : 0.8325546111576977\n",
      "11:26:26 INFO:stattest_name : Jensen-Shannon distance\n",
      "11:26:26 INFO:raw_feature_importance : 2.110332489013672\n",
      "11:26:26 INFO:relative_feature_importance : 1.0\n",
      "11:26:26 INFO:feature_importance_weighted_drift_score : 0.8325546111576977\n",
      "11:26:27 INFO:Retraining model\n"
     ]
    },
    {
     "name": "stdout",
     "output_type": "stream",
     "text": [
      "Experiment week 72\n",
      "---------------------------------\n",
      "Experiment start date : 2020-07-06 00:00:00\n",
      "Experiment end_date : 2020-07-12 00:00:00\n"
     ]
    },
    {
     "name": "stderr",
     "output_type": "stream",
     "text": [
      "11:26:27 INFO:target drift detect: True\n",
      "d:\\anaconda\\envs\\anaconda_env\\lib\\site-packages\\xgboost\\core.py:90: UserWarning:\n",
      "\n",
      "ntree_limit is deprecated, use `iteration_range` or model slicing instead.\n",
      "\n",
      "11:26:27 INFO:data set drift detected\n",
      "11:26:28 INFO:drift detected for state_cases.value\n",
      "11:26:28 INFO:drift_score : 103007957.14285713\n",
      "11:26:28 INFO:stattest_name : Wasserstein distance (normed)\n",
      "11:26:28 INFO:raw_feature_importance : 0.31476840376853943\n",
      "11:26:28 INFO:relative_feature_importance : 0.1488395631313324\n",
      "11:26:28 INFO:feature_importance_weighted_drift_score : 15331659.340193866\n",
      "11:26:28 INFO:drift detected for state_deaths.value\n",
      "11:26:28 INFO:drift_score : 3195328.571428571\n",
      "11:26:28 INFO:stattest_name : Wasserstein distance (normed)\n",
      "11:26:28 INFO:raw_feature_importance : 0.07133713364601135\n",
      "11:26:28 INFO:relative_feature_importance : 0.03373206406831741\n",
      "11:26:28 INFO:feature_importance_weighted_drift_score : 107785.02809075371\n",
      "11:26:28 INFO:drift detected for Product_Type.value\n",
      "11:26:28 INFO:drift_score : 0.8325546111576977\n",
      "11:26:28 INFO:stattest_name : Jensen-Shannon distance\n",
      "11:26:28 INFO:raw_feature_importance : 2.114816665649414\n",
      "11:26:28 INFO:relative_feature_importance : 1.0\n",
      "11:26:28 INFO:feature_importance_weighted_drift_score : 0.8325546111576977\n",
      "11:26:28 INFO:Retraining model\n"
     ]
    },
    {
     "name": "stdout",
     "output_type": "stream",
     "text": [
      "Experiment week 73\n",
      "---------------------------------\n",
      "Experiment start date : 2020-07-13 00:00:00\n",
      "Experiment end_date : 2020-07-19 00:00:00\n"
     ]
    },
    {
     "name": "stderr",
     "output_type": "stream",
     "text": [
      "11:26:29 INFO:target drift detect: True\n",
      "d:\\anaconda\\envs\\anaconda_env\\lib\\site-packages\\xgboost\\core.py:90: UserWarning:\n",
      "\n",
      "ntree_limit is deprecated, use `iteration_range` or model slicing instead.\n",
      "\n",
      "11:26:29 INFO:data set drift detected\n",
      "11:26:29 INFO:drift detected for state_cases.value\n",
      "11:26:29 INFO:drift_score : 124737385.71428572\n",
      "11:26:29 INFO:stattest_name : Wasserstein distance (normed)\n",
      "11:26:29 INFO:raw_feature_importance : 0.10659253597259521\n",
      "11:26:29 INFO:relative_feature_importance : 0.039547767490148544\n",
      "11:26:29 INFO:feature_importance_weighted_drift_score : 4933085.127557548\n",
      "11:26:29 INFO:drift detected for state_deaths.value\n",
      "11:26:29 INFO:drift_score : 3420785.714285714\n",
      "11:26:29 INFO:stattest_name : Wasserstein distance (normed)\n",
      "11:26:29 INFO:raw_feature_importance : 0.2140805572271347\n",
      "11:26:29 INFO:relative_feature_importance : 0.07942777872085571\n",
      "11:26:29 INFO:feature_importance_weighted_drift_score : 271705.41076575004\n",
      "11:26:30 INFO:drift detected for Product_Type.value\n",
      "11:26:30 INFO:drift_score : 0.8325546111576977\n",
      "11:26:30 INFO:stattest_name : Jensen-Shannon distance\n",
      "11:26:30 INFO:raw_feature_importance : 2.6952857971191406\n",
      "11:26:30 INFO:relative_feature_importance : 1.0\n",
      "11:26:30 INFO:feature_importance_weighted_drift_score : 0.8325546111576977\n",
      "11:26:30 INFO:Retraining model\n"
     ]
    },
    {
     "name": "stdout",
     "output_type": "stream",
     "text": [
      "Experiment week 74\n",
      "---------------------------------\n",
      "Experiment start date : 2020-07-20 00:00:00\n",
      "Experiment end_date : 2020-07-26 00:00:00\n"
     ]
    },
    {
     "name": "stderr",
     "output_type": "stream",
     "text": [
      "11:26:31 INFO:target drift detect: True\n",
      "d:\\anaconda\\envs\\anaconda_env\\lib\\site-packages\\xgboost\\core.py:90: UserWarning:\n",
      "\n",
      "ntree_limit is deprecated, use `iteration_range` or model slicing instead.\n",
      "\n",
      "11:26:31 INFO:data set drift detected\n",
      "11:26:31 INFO:drift detected for state_cases.value\n",
      "11:26:31 INFO:drift_score : 145873057.14285716\n",
      "11:26:31 INFO:stattest_name : Wasserstein distance (normed)\n",
      "11:26:31 INFO:raw_feature_importance : 0.3595024049282074\n",
      "11:26:31 INFO:relative_feature_importance : 0.16112303733825684\n",
      "11:26:31 INFO:feature_importance_weighted_drift_score : 23503510.03267425\n",
      "11:26:31 INFO:drift detected for state_deaths.value\n",
      "11:26:31 INFO:drift_score : 3689842.8571428573\n",
      "11:26:31 INFO:stattest_name : Wasserstein distance (normed)\n",
      "11:26:31 INFO:raw_feature_importance : 0.3718280494213104\n",
      "11:26:31 INFO:relative_feature_importance : 0.16664718091487885\n",
      "11:26:31 INFO:feature_importance_weighted_drift_score : 614901.9101617592\n",
      "11:26:31 INFO:drift detected for Product_Type.value\n",
      "11:26:31 INFO:drift_score : 0.8325546111576977\n",
      "11:26:31 INFO:stattest_name : Jensen-Shannon distance\n",
      "11:26:31 INFO:raw_feature_importance : 2.231229066848755\n",
      "11:26:31 INFO:relative_feature_importance : 1.0\n",
      "11:26:31 INFO:feature_importance_weighted_drift_score : 0.8325546111576977\n",
      "11:26:32 INFO:Retraining model\n"
     ]
    },
    {
     "name": "stdout",
     "output_type": "stream",
     "text": [
      "Experiment week 75\n",
      "---------------------------------\n",
      "Experiment start date : 2020-07-27 00:00:00\n",
      "Experiment end_date : 2020-08-02 00:00:00\n"
     ]
    },
    {
     "name": "stderr",
     "output_type": "stream",
     "text": [
      "11:26:32 INFO:target drift detect: True\n",
      "d:\\anaconda\\envs\\anaconda_env\\lib\\site-packages\\xgboost\\core.py:90: UserWarning:\n",
      "\n",
      "ntree_limit is deprecated, use `iteration_range` or model slicing instead.\n",
      "\n",
      "11:26:32 INFO:data set drift detected\n",
      "11:26:33 INFO:drift detected for state_cases.value\n",
      "11:26:33 INFO:drift_score : 165619928.57142854\n",
      "11:26:33 INFO:stattest_name : Wasserstein distance (normed)\n",
      "11:26:33 INFO:raw_feature_importance : 0.5293304324150085\n",
      "11:26:33 INFO:relative_feature_importance : 0.22591984272003174\n",
      "11:26:33 INFO:feature_importance_weighted_drift_score : 37416828.214160025\n",
      "11:26:33 INFO:drift detected for state_deaths.value\n",
      "11:26:33 INFO:drift_score : 4006199.9999999995\n",
      "11:26:33 INFO:stattest_name : Wasserstein distance (normed)\n",
      "11:26:33 INFO:raw_feature_importance : 0.09328734129667282\n",
      "11:26:33 INFO:relative_feature_importance : 0.03981532156467438\n",
      "11:26:33 INFO:feature_importance_weighted_drift_score : 159508.14125239846\n",
      "11:26:33 INFO:drift detected for Product_Type.value\n",
      "11:26:33 INFO:drift_score : 0.8325546111576977\n",
      "11:26:33 INFO:stattest_name : Jensen-Shannon distance\n",
      "11:26:33 INFO:raw_feature_importance : 2.343001127243042\n",
      "11:26:33 INFO:relative_feature_importance : 1.0\n",
      "11:26:33 INFO:feature_importance_weighted_drift_score : 0.8325546111576977\n",
      "11:26:33 INFO:Retraining model\n"
     ]
    },
    {
     "name": "stdout",
     "output_type": "stream",
     "text": [
      "Experiment week 76\n",
      "---------------------------------\n",
      "Experiment start date : 2020-08-03 00:00:00\n",
      "Experiment end_date : 2020-08-09 00:00:00\n"
     ]
    },
    {
     "name": "stderr",
     "output_type": "stream",
     "text": [
      "11:26:34 INFO:target drift detect: True\n",
      "d:\\anaconda\\envs\\anaconda_env\\lib\\site-packages\\xgboost\\core.py:90: UserWarning:\n",
      "\n",
      "ntree_limit is deprecated, use `iteration_range` or model slicing instead.\n",
      "\n",
      "11:26:34 INFO:data set drift detected\n",
      "11:26:34 INFO:drift detected for state_cases.value\n",
      "11:26:34 INFO:drift_score : 181154357.14285713\n",
      "11:26:34 INFO:stattest_name : Wasserstein distance (normed)\n",
      "11:26:34 INFO:raw_feature_importance : 0.2581194341182709\n",
      "11:26:34 INFO:relative_feature_importance : 0.1070653647184372\n",
      "11:26:34 INFO:feature_importance_weighted_drift_score : 19395357.317834027\n",
      "11:26:34 INFO:drift detected for state_deaths.value\n",
      "11:26:34 INFO:drift_score : 4331028.571428571\n",
      "11:26:34 INFO:stattest_name : Wasserstein distance (normed)\n",
      "11:26:34 INFO:raw_feature_importance : 0.5201802849769592\n",
      "11:26:34 INFO:relative_feature_importance : 0.2157655954360962\n",
      "11:26:34 INFO:feature_importance_weighted_drift_score : 934486.9585650307\n",
      "11:26:34 INFO:drift detected for Product_Type.value\n",
      "11:26:34 INFO:drift_score : 0.8325546111576977\n",
      "11:26:34 INFO:stattest_name : Jensen-Shannon distance\n",
      "11:26:34 INFO:raw_feature_importance : 2.410858392715454\n",
      "11:26:34 INFO:relative_feature_importance : 1.0\n",
      "11:26:34 INFO:feature_importance_weighted_drift_score : 0.8325546111576977\n",
      "11:26:34 INFO:drift detected for state.value\n",
      "11:26:34 INFO:drift_score : 0.8325546111576977\n",
      "11:26:34 INFO:stattest_name : Jensen-Shannon distance\n",
      "11:26:34 INFO:raw_feature_importance : 0.3323361277580261\n",
      "11:26:34 INFO:relative_feature_importance : 0.13784970343112946\n",
      "11:26:34 INFO:feature_importance_weighted_drift_score : 0.11476740623830793\n",
      "11:26:34 INFO:Retraining model\n"
     ]
    },
    {
     "name": "stdout",
     "output_type": "stream",
     "text": [
      "Experiment week 77\n",
      "---------------------------------\n",
      "Experiment start date : 2020-08-10 00:00:00\n",
      "Experiment end_date : 2020-08-16 00:00:00\n"
     ]
    },
    {
     "name": "stderr",
     "output_type": "stream",
     "text": [
      "11:26:35 INFO:target drift detect: True\n",
      "d:\\anaconda\\envs\\anaconda_env\\lib\\site-packages\\xgboost\\core.py:90: UserWarning:\n",
      "\n",
      "ntree_limit is deprecated, use `iteration_range` or model slicing instead.\n",
      "\n",
      "11:26:35 INFO:data set drift detected\n",
      "11:26:35 INFO:drift detected for state_cases.value\n",
      "11:26:35 INFO:drift_score : 194875014.28571424\n",
      "11:26:35 INFO:stattest_name : Wasserstein distance (normed)\n",
      "11:26:35 INFO:raw_feature_importance : 0.14852099120616913\n",
      "11:26:35 INFO:relative_feature_importance : 0.06714899837970734\n",
      "11:26:35 INFO:feature_importance_weighted_drift_score : 13085662.01851687\n",
      "11:26:35 INFO:drift detected for state_deaths.value\n",
      "11:26:35 INFO:drift_score : 4653514.285714285\n",
      "11:26:35 INFO:stattest_name : Wasserstein distance (normed)\n",
      "11:26:35 INFO:raw_feature_importance : 0.0510510690510273\n",
      "11:26:35 INFO:relative_feature_importance : 0.02308110147714615\n",
      "11:26:35 INFO:feature_importance_weighted_drift_score : 107408.2354539207\n",
      "11:26:36 INFO:drift detected for Product_Type.value\n",
      "11:26:36 INFO:drift_score : 0.8325546111576977\n",
      "11:26:36 INFO:stattest_name : Jensen-Shannon distance\n",
      "11:26:36 INFO:raw_feature_importance : 2.2118124961853027\n",
      "11:26:36 INFO:relative_feature_importance : 1.0\n",
      "11:26:36 INFO:feature_importance_weighted_drift_score : 0.8325546111576977\n",
      "11:26:36 INFO:Retraining model\n"
     ]
    },
    {
     "name": "stdout",
     "output_type": "stream",
     "text": [
      "Experiment week 78\n",
      "---------------------------------\n",
      "Experiment start date : 2020-08-17 00:00:00\n",
      "Experiment end_date : 2020-08-23 00:00:00\n"
     ]
    },
    {
     "name": "stderr",
     "output_type": "stream",
     "text": [
      "11:26:36 INFO:target drift detect: True\n",
      "d:\\anaconda\\envs\\anaconda_env\\lib\\site-packages\\xgboost\\core.py:90: UserWarning:\n",
      "\n",
      "ntree_limit is deprecated, use `iteration_range` or model slicing instead.\n",
      "\n",
      "11:26:37 INFO:data set drift detected\n",
      "11:26:37 INFO:drift detected for state_cases.value\n",
      "11:26:37 INFO:drift_score : 205809314.28571427\n",
      "11:26:37 INFO:stattest_name : Wasserstein distance (normed)\n",
      "11:26:37 INFO:raw_feature_importance : 0.24569153785705566\n",
      "11:26:37 INFO:relative_feature_importance : 0.10978168994188309\n",
      "11:26:37 INFO:feature_importance_weighted_drift_score : 22594094.328065854\n",
      "11:26:37 INFO:drift detected for state_deaths.value\n",
      "11:26:37 INFO:drift_score : 4945285.714285715\n",
      "11:26:37 INFO:stattest_name : Wasserstein distance (normed)\n",
      "11:26:37 INFO:raw_feature_importance : 0.13883493840694427\n",
      "11:26:37 INFO:relative_feature_importance : 0.06203524023294449\n",
      "11:26:37 INFO:feature_importance_weighted_drift_score : 306781.9873062628\n",
      "11:26:37 INFO:drift detected for Product_Type.value\n",
      "11:26:37 INFO:drift_score : 0.8325546111576977\n",
      "11:26:37 INFO:stattest_name : Jensen-Shannon distance\n",
      "11:26:37 INFO:raw_feature_importance : 2.2380011081695557\n",
      "11:26:37 INFO:relative_feature_importance : 1.0\n",
      "11:26:37 INFO:feature_importance_weighted_drift_score : 0.8325546111576977\n",
      "11:26:37 INFO:Retraining model\n"
     ]
    },
    {
     "name": "stdout",
     "output_type": "stream",
     "text": [
      "Experiment week 79\n",
      "---------------------------------\n",
      "Experiment start date : 2020-08-24 00:00:00\n",
      "Experiment end_date : 2020-08-30 00:00:00\n"
     ]
    },
    {
     "name": "stderr",
     "output_type": "stream",
     "text": [
      "11:26:38 INFO:target drift detect: True\n",
      "d:\\anaconda\\envs\\anaconda_env\\lib\\site-packages\\xgboost\\core.py:90: UserWarning:\n",
      "\n",
      "ntree_limit is deprecated, use `iteration_range` or model slicing instead.\n",
      "\n",
      "11:26:38 INFO:data set drift detected\n",
      "11:26:39 INFO:drift detected for state_cases.value\n",
      "11:26:39 INFO:drift_score : 215109885.71428567\n",
      "11:26:39 INFO:stattest_name : Wasserstein distance (normed)\n",
      "11:26:39 INFO:raw_feature_importance : 0.1644936501979828\n",
      "11:26:39 INFO:relative_feature_importance : 0.07774798572063446\n",
      "11:26:39 INFO:feature_importance_weighted_drift_score : 16724360.322881592\n",
      "11:26:39 INFO:drift detected for state_deaths.value\n",
      "11:26:39 INFO:drift_score : 5182000.0\n",
      "11:26:39 INFO:stattest_name : Wasserstein distance (normed)\n",
      "11:26:39 INFO:raw_feature_importance : 0.038780998438596725\n",
      "11:26:39 INFO:relative_feature_importance : 0.01832985319197178\n",
      "11:26:39 INFO:feature_importance_weighted_drift_score : 94985.29924079776\n",
      "11:26:39 INFO:drift detected for Product_Type.value\n",
      "11:26:39 INFO:drift_score : 0.8325546111576977\n",
      "11:26:39 INFO:stattest_name : Jensen-Shannon distance\n",
      "11:26:39 INFO:raw_feature_importance : 2.1157288551330566\n",
      "11:26:39 INFO:relative_feature_importance : 1.0\n",
      "11:26:39 INFO:feature_importance_weighted_drift_score : 0.8325546111576977\n",
      "11:26:39 INFO:Retraining model\n"
     ]
    },
    {
     "name": "stdout",
     "output_type": "stream",
     "text": [
      "Experiment week 80\n",
      "---------------------------------\n",
      "Experiment start date : 2020-08-31 00:00:00\n",
      "Experiment end_date : 2020-09-06 00:00:00\n"
     ]
    },
    {
     "name": "stderr",
     "output_type": "stream",
     "text": [
      "11:26:40 INFO:target drift detect: True\n",
      "d:\\anaconda\\envs\\anaconda_env\\lib\\site-packages\\xgboost\\core.py:90: UserWarning:\n",
      "\n",
      "ntree_limit is deprecated, use `iteration_range` or model slicing instead.\n",
      "\n",
      "11:26:40 INFO:data set drift detected\n",
      "11:26:40 INFO:drift detected for state_cases.value\n",
      "11:26:40 INFO:drift_score : 224693099.99999997\n",
      "11:26:40 INFO:stattest_name : Wasserstein distance (normed)\n",
      "11:26:40 INFO:raw_feature_importance : 0.26444506645202637\n",
      "11:26:40 INFO:relative_feature_importance : 0.14096355438232422\n",
      "11:26:40 INFO:feature_importance_weighted_drift_score : 31673538.02118301\n",
      "11:26:40 INFO:drift detected for state_deaths.value\n",
      "11:26:40 INFO:drift_score : 5407771.428571428\n",
      "11:26:40 INFO:stattest_name : Wasserstein distance (normed)\n",
      "11:26:40 INFO:raw_feature_importance : 0.2268466353416443\n",
      "11:26:40 INFO:relative_feature_importance : 0.1209215521812439\n",
      "11:26:40 INFO:feature_importance_weighted_drift_score : 653916.1149842398\n",
      "11:26:40 INFO:drift detected for Product_Type.value\n",
      "11:26:40 INFO:drift_score : 0.8325546111576977\n",
      "11:26:40 INFO:stattest_name : Jensen-Shannon distance\n",
      "11:26:40 INFO:raw_feature_importance : 1.8759818077087402\n",
      "11:26:40 INFO:relative_feature_importance : 1.0\n",
      "11:26:40 INFO:feature_importance_weighted_drift_score : 0.8325546111576977\n",
      "11:26:41 INFO:Retraining model\n"
     ]
    },
    {
     "name": "stdout",
     "output_type": "stream",
     "text": [
      "Experiment week 81\n",
      "---------------------------------\n",
      "Experiment start date : 2020-09-07 00:00:00\n",
      "Experiment end_date : 2020-09-13 00:00:00\n"
     ]
    },
    {
     "name": "stderr",
     "output_type": "stream",
     "text": [
      "11:26:41 INFO:target drift detect: True\n",
      "d:\\anaconda\\envs\\anaconda_env\\lib\\site-packages\\xgboost\\core.py:90: UserWarning:\n",
      "\n",
      "ntree_limit is deprecated, use `iteration_range` or model slicing instead.\n",
      "\n",
      "11:26:41 INFO:data set drift detected\n",
      "11:26:41 INFO:drift detected for state_cases.value\n",
      "11:26:41 INFO:drift_score : 232828014.2857143\n",
      "11:26:41 INFO:stattest_name : Wasserstein distance (normed)\n",
      "11:26:41 INFO:raw_feature_importance : 0.3141692280769348\n",
      "11:26:41 INFO:relative_feature_importance : 0.18073993921279907\n",
      "11:26:41 INFO:feature_importance_weighted_drift_score : 42081321.14903671\n",
      "11:26:42 INFO:drift detected for state_deaths.value\n",
      "11:26:42 INFO:drift_score : 5601700.0\n",
      "11:26:42 INFO:stattest_name : Wasserstein distance (normed)\n",
      "11:26:42 INFO:raw_feature_importance : 0.18557043373584747\n",
      "11:26:42 INFO:relative_feature_importance : 0.10675771534442902\n",
      "11:26:42 INFO:feature_importance_weighted_drift_score : 598024.694044888\n",
      "11:26:42 INFO:drift detected for Product_Type.value\n",
      "11:26:42 INFO:drift_score : 0.8325546111576977\n",
      "11:26:42 INFO:stattest_name : Jensen-Shannon distance\n",
      "11:26:42 INFO:raw_feature_importance : 1.738239049911499\n",
      "11:26:42 INFO:relative_feature_importance : 1.0\n",
      "11:26:42 INFO:feature_importance_weighted_drift_score : 0.8325546111576977\n",
      "11:26:42 INFO:Retraining model\n"
     ]
    },
    {
     "name": "stdout",
     "output_type": "stream",
     "text": [
      "Experiment week 82\n",
      "---------------------------------\n",
      "Experiment start date : 2020-09-14 00:00:00\n",
      "Experiment end_date : 2020-09-20 00:00:00\n"
     ]
    },
    {
     "name": "stderr",
     "output_type": "stream",
     "text": [
      "11:26:42 INFO:target drift detect: True\n",
      "d:\\anaconda\\envs\\anaconda_env\\lib\\site-packages\\xgboost\\core.py:90: UserWarning:\n",
      "\n",
      "ntree_limit is deprecated, use `iteration_range` or model slicing instead.\n",
      "\n",
      "11:26:43 INFO:data set drift detected\n",
      "11:26:43 INFO:drift detected for state_cases.value\n",
      "11:26:43 INFO:drift_score : 240940857.1428571\n",
      "11:26:43 INFO:stattest_name : Wasserstein distance (normed)\n",
      "11:26:43 INFO:raw_feature_importance : 0.49998584389686584\n",
      "11:26:43 INFO:relative_feature_importance : 0.2646099925041199\n",
      "11:26:43 INFO:feature_importance_weighted_drift_score : 63755358.40250763\n",
      "11:26:43 INFO:drift detected for state_deaths.value\n",
      "11:26:43 INFO:drift_score : 5814385.714285714\n",
      "11:26:43 INFO:stattest_name : Wasserstein distance (normed)\n",
      "11:26:43 INFO:raw_feature_importance : 0.08179820328950882\n",
      "11:26:43 INFO:relative_feature_importance : 0.04329046979546547\n",
      "11:26:43 INFO:feature_importance_weighted_drift_score : 251707.4891434716\n",
      "11:26:43 INFO:drift detected for Product_Type.value\n",
      "11:26:43 INFO:drift_score : 0.8325546111576977\n",
      "11:26:43 INFO:stattest_name : Jensen-Shannon distance\n",
      "11:26:43 INFO:raw_feature_importance : 1.8895198106765747\n",
      "11:26:43 INFO:relative_feature_importance : 1.0\n",
      "11:26:43 INFO:feature_importance_weighted_drift_score : 0.8325546111576977\n",
      "11:26:43 INFO:Retraining model\n"
     ]
    },
    {
     "name": "stdout",
     "output_type": "stream",
     "text": [
      "Experiment week 83\n",
      "---------------------------------\n",
      "Experiment start date : 2020-09-21 00:00:00\n",
      "Experiment end_date : 2020-09-27 00:00:00\n"
     ]
    },
    {
     "name": "stderr",
     "output_type": "stream",
     "text": [
      "11:26:44 INFO:target drift detect: True\n",
      "d:\\anaconda\\envs\\anaconda_env\\lib\\site-packages\\xgboost\\core.py:90: UserWarning:\n",
      "\n",
      "ntree_limit is deprecated, use `iteration_range` or model slicing instead.\n",
      "\n",
      "11:26:44 INFO:data set drift detected\n",
      "11:26:44 INFO:drift detected for state_cases.value\n",
      "11:26:44 INFO:drift_score : 249263471.42857137\n",
      "11:26:44 INFO:stattest_name : Wasserstein distance (normed)\n",
      "11:26:44 INFO:raw_feature_importance : 0.3957287073135376\n",
      "11:26:44 INFO:relative_feature_importance : 0.21787194907665253\n",
      "11:26:44 INFO:feature_importance_weighted_drift_score : 54307518.35375533\n",
      "11:26:44 INFO:drift detected for state_deaths.value\n",
      "11:26:44 INFO:drift_score : 6012485.714285715\n",
      "11:26:44 INFO:stattest_name : Wasserstein distance (normed)\n",
      "11:26:44 INFO:raw_feature_importance : 0.20993058383464813\n",
      "11:26:44 INFO:relative_feature_importance : 0.11557915061712265\n",
      "11:26:44 INFO:feature_importance_weighted_drift_score : 694917.9919547269\n",
      "11:26:44 INFO:drift detected for Product_Type.value\n",
      "11:26:44 INFO:drift_score : 0.8325546111576977\n",
      "11:26:44 INFO:stattest_name : Jensen-Shannon distance\n",
      "11:26:44 INFO:raw_feature_importance : 1.8163361549377441\n",
      "11:26:44 INFO:relative_feature_importance : 1.0\n",
      "11:26:44 INFO:feature_importance_weighted_drift_score : 0.8325546111576977\n",
      "11:26:45 INFO:Retraining model\n"
     ]
    },
    {
     "name": "stdout",
     "output_type": "stream",
     "text": [
      "Experiment week 84\n",
      "---------------------------------\n",
      "Experiment start date : 2020-09-28 00:00:00\n",
      "Experiment end_date : 2020-10-04 00:00:00\n"
     ]
    },
    {
     "name": "stderr",
     "output_type": "stream",
     "text": [
      "11:26:45 INFO:target drift detect: True\n",
      "d:\\anaconda\\envs\\anaconda_env\\lib\\site-packages\\xgboost\\core.py:90: UserWarning:\n",
      "\n",
      "ntree_limit is deprecated, use `iteration_range` or model slicing instead.\n",
      "\n",
      "11:26:46 INFO:data set drift detected\n",
      "11:26:46 INFO:drift detected for state_cases.value\n",
      "11:26:46 INFO:drift_score : 257310257.14285713\n",
      "11:26:46 INFO:stattest_name : Wasserstein distance (normed)\n",
      "11:26:46 INFO:raw_feature_importance : 0.16220787167549133\n",
      "11:26:46 INFO:relative_feature_importance : 0.09193377941846848\n",
      "11:26:46 INFO:feature_importance_weighted_drift_score : 23655504.42228083\n",
      "11:26:46 INFO:drift detected for state_deaths.value\n",
      "11:26:46 INFO:drift_score : 6203542.857142858\n",
      "11:26:46 INFO:stattest_name : Wasserstein distance (normed)\n",
      "11:26:46 INFO:raw_feature_importance : 0.07846782356500626\n",
      "11:26:46 INFO:relative_feature_importance : 0.0444728322327137\n",
      "11:26:46 INFO:feature_importance_weighted_drift_score : 275889.12073416373\n",
      "11:26:46 INFO:drift detected for Product_Type.value\n",
      "11:26:46 INFO:drift_score : 0.8325546111576977\n",
      "11:26:46 INFO:stattest_name : Jensen-Shannon distance\n",
      "11:26:46 INFO:raw_feature_importance : 1.7643990516662598\n",
      "11:26:46 INFO:relative_feature_importance : 1.0\n",
      "11:26:46 INFO:feature_importance_weighted_drift_score : 0.8325546111576977\n",
      "11:26:46 INFO:Retraining model\n"
     ]
    },
    {
     "name": "stdout",
     "output_type": "stream",
     "text": [
      "Experiment week 85\n",
      "---------------------------------\n",
      "Experiment start date : 2020-10-05 00:00:00\n",
      "Experiment end_date : 2020-10-11 00:00:00\n"
     ]
    },
    {
     "name": "stderr",
     "output_type": "stream",
     "text": [
      "11:26:47 INFO:target drift detect: True\n",
      "d:\\anaconda\\envs\\anaconda_env\\lib\\site-packages\\xgboost\\core.py:90: UserWarning:\n",
      "\n",
      "ntree_limit is deprecated, use `iteration_range` or model slicing instead.\n",
      "\n",
      "11:26:47 INFO:data set drift detected\n",
      "11:26:47 INFO:drift detected for state_cases.value\n",
      "11:26:47 INFO:drift_score : 265918728.57142857\n",
      "11:26:47 INFO:stattest_name : Wasserstein distance (normed)\n",
      "11:26:47 INFO:raw_feature_importance : 0.39631199836730957\n",
      "11:26:47 INFO:relative_feature_importance : 0.2217966765165329\n",
      "11:26:47 INFO:feature_importance_weighted_drift_score : 58979890.220644854\n",
      "11:26:47 INFO:drift detected for state_deaths.value\n",
      "11:26:47 INFO:drift_score : 6393457.142857143\n",
      "11:26:47 INFO:stattest_name : Wasserstein distance (normed)\n",
      "11:26:47 INFO:raw_feature_importance : 0.07592669129371643\n",
      "11:26:47 INFO:relative_feature_importance : 0.04249250143766403\n",
      "11:26:47 INFO:feature_importance_weighted_drift_score : 271673.9868345005\n",
      "11:26:47 INFO:drift detected for Product_Type.value\n",
      "11:26:47 INFO:drift_score : 0.8325546111576977\n",
      "11:26:47 INFO:stattest_name : Jensen-Shannon distance\n",
      "11:26:47 INFO:raw_feature_importance : 1.7868256568908691\n",
      "11:26:47 INFO:relative_feature_importance : 1.0\n",
      "11:26:47 INFO:feature_importance_weighted_drift_score : 0.8325546111576977\n",
      "11:26:48 INFO:drift detected for is_warehouse_closed.value\n",
      "11:26:48 INFO:drift_score : 0.8325546111576977\n",
      "11:26:48 INFO:stattest_name : Jensen-Shannon distance\n",
      "11:26:48 INFO:raw_feature_importance : 0.3737929165363312\n",
      "11:26:48 INFO:relative_feature_importance : 0.20919384062290192\n",
      "11:26:48 INFO:feature_importance_weighted_drift_score : 0.1741652966363855\n",
      "11:26:48 INFO:Retraining model\n"
     ]
    },
    {
     "name": "stdout",
     "output_type": "stream",
     "text": [
      "Experiment week 86\n",
      "---------------------------------\n",
      "Experiment start date : 2020-10-12 00:00:00\n",
      "Experiment end_date : 2020-10-18 00:00:00\n"
     ]
    },
    {
     "name": "stderr",
     "output_type": "stream",
     "text": [
      "11:26:48 INFO:target drift detect: True\n",
      "d:\\anaconda\\envs\\anaconda_env\\lib\\site-packages\\xgboost\\core.py:90: UserWarning:\n",
      "\n",
      "ntree_limit is deprecated, use `iteration_range` or model slicing instead.\n",
      "\n",
      "11:26:48 INFO:data set drift detected\n",
      "11:26:49 INFO:drift detected for state_cases.value\n",
      "11:26:49 INFO:drift_score : 276962028.57142854\n",
      "11:26:49 INFO:stattest_name : Wasserstein distance (normed)\n",
      "11:26:49 INFO:raw_feature_importance : 0.3049793243408203\n",
      "11:26:49 INFO:relative_feature_importance : 0.19811764359474182\n",
      "11:26:49 INFO:feature_importance_weighted_drift_score : 54871064.46579098\n",
      "11:26:49 INFO:drift detected for state_deaths.value\n",
      "11:26:49 INFO:drift_score : 6602428.571428573\n",
      "11:26:49 INFO:stattest_name : Wasserstein distance (normed)\n",
      "11:26:49 INFO:raw_feature_importance : 0.07346110790967941\n",
      "11:26:49 INFO:relative_feature_importance : 0.047721076756715775\n",
      "11:26:49 INFO:feature_importance_weighted_drift_score : 315075.0006378762\n",
      "11:26:49 INFO:drift detected for Product_Type.value\n",
      "11:26:49 INFO:drift_score : 0.8325546111576977\n",
      "11:26:49 INFO:stattest_name : Jensen-Shannon distance\n",
      "11:26:49 INFO:raw_feature_importance : 1.5393849611282349\n",
      "11:26:49 INFO:relative_feature_importance : 1.0\n",
      "11:26:49 INFO:feature_importance_weighted_drift_score : 0.8325546111576977\n",
      "11:26:49 INFO:drift detected for is_warehouse_closed.value\n",
      "11:26:49 INFO:drift_score : 0.8325546111576977\n",
      "11:26:49 INFO:stattest_name : Jensen-Shannon distance\n",
      "11:26:49 INFO:raw_feature_importance : 0.2313889116048813\n",
      "11:26:49 INFO:relative_feature_importance : 0.15031257271766663\n",
      "11:26:49 INFO:feature_importance_weighted_drift_score : 0.1251434255310701\n",
      "11:26:49 INFO:Retraining model\n"
     ]
    },
    {
     "name": "stdout",
     "output_type": "stream",
     "text": [
      "Experiment week 87\n",
      "---------------------------------\n",
      "Experiment start date : 2020-10-19 00:00:00\n",
      "Experiment end_date : 2020-10-25 00:00:00\n"
     ]
    },
    {
     "name": "stderr",
     "output_type": "stream",
     "text": [
      "11:26:50 INFO:target drift detect: True\n",
      "d:\\anaconda\\envs\\anaconda_env\\lib\\site-packages\\xgboost\\core.py:90: UserWarning:\n",
      "\n",
      "ntree_limit is deprecated, use `iteration_range` or model slicing instead.\n",
      "\n",
      "11:26:50 INFO:data set drift detected\n",
      "11:26:50 INFO:drift detected for state_cases.value\n",
      "11:26:50 INFO:drift_score : 290643742.8571428\n",
      "11:26:50 INFO:stattest_name : Wasserstein distance (normed)\n",
      "11:26:50 INFO:raw_feature_importance : 0.2918088436126709\n",
      "11:26:50 INFO:relative_feature_importance : 0.22681094706058502\n",
      "11:26:50 INFO:feature_importance_weighted_drift_score : 65921182.5746617\n",
      "11:26:50 INFO:drift detected for state_deaths.value\n",
      "11:26:50 INFO:drift_score : 6793800.0\n",
      "11:26:50 INFO:stattest_name : Wasserstein distance (normed)\n",
      "11:26:50 INFO:raw_feature_importance : 0.0718553438782692\n",
      "11:26:50 INFO:relative_feature_importance : 0.055850185453891754\n",
      "11:26:50 INFO:feature_importance_weighted_drift_score : 379434.9899366498\n",
      "11:26:50 INFO:drift detected for Product_Type.value\n",
      "11:26:50 INFO:drift_score : 0.8325546111576977\n",
      "11:26:50 INFO:stattest_name : Jensen-Shannon distance\n",
      "11:26:50 INFO:raw_feature_importance : 1.286573052406311\n",
      "11:26:50 INFO:relative_feature_importance : 1.0\n",
      "11:26:50 INFO:feature_importance_weighted_drift_score : 0.8325546111576977\n",
      "11:26:50 INFO:drift detected for is_warehouse_closed.value\n",
      "11:26:50 INFO:drift_score : 0.8325546111576977\n",
      "11:26:50 INFO:stattest_name : Jensen-Shannon distance\n",
      "11:26:50 INFO:raw_feature_importance : 0.28129124641418457\n",
      "11:26:50 INFO:relative_feature_importance : 0.21863605082035065\n",
      "11:26:50 INFO:feature_importance_weighted_drift_score : 0.18202645227579167\n",
      "11:26:51 INFO:Retraining model\n"
     ]
    },
    {
     "name": "stdout",
     "output_type": "stream",
     "text": [
      "Experiment week 88\n",
      "---------------------------------\n",
      "Experiment start date : 2020-10-26 00:00:00\n",
      "Experiment end_date : 2020-11-01 00:00:00\n"
     ]
    },
    {
     "name": "stderr",
     "output_type": "stream",
     "text": [
      "11:26:51 INFO:target drift detect: True\n",
      "d:\\anaconda\\envs\\anaconda_env\\lib\\site-packages\\xgboost\\core.py:90: UserWarning:\n",
      "\n",
      "ntree_limit is deprecated, use `iteration_range` or model slicing instead.\n",
      "\n",
      "11:26:52 INFO:data set drift detected\n",
      "11:26:52 INFO:drift detected for state_cases.value\n",
      "11:26:52 INFO:drift_score : 308014428.5714286\n",
      "11:26:52 INFO:stattest_name : Wasserstein distance (normed)\n",
      "11:26:52 INFO:raw_feature_importance : 0.3180224597454071\n",
      "11:26:52 INFO:relative_feature_importance : 0.1775600165128708\n",
      "11:26:52 INFO:feature_importance_weighted_drift_score : 54691047.02334532\n",
      "11:26:52 INFO:drift detected for state_deaths.value\n",
      "11:26:52 INFO:drift_score : 6960100.0\n",
      "11:26:52 INFO:stattest_name : Wasserstein distance (normed)\n",
      "11:26:52 INFO:raw_feature_importance : 0.14335769414901733\n",
      "11:26:52 INFO:relative_feature_importance : 0.08004023879766464\n",
      "11:26:52 INFO:feature_importance_weighted_drift_score : 557088.0660556257\n",
      "11:26:52 INFO:drift detected for Product_Type.value\n",
      "11:26:52 INFO:drift_score : 0.8325546111576977\n",
      "11:26:52 INFO:stattest_name : Jensen-Shannon distance\n",
      "11:26:52 INFO:raw_feature_importance : 1.7910702228546143\n",
      "11:26:52 INFO:relative_feature_importance : 1.0\n",
      "11:26:52 INFO:feature_importance_weighted_drift_score : 0.8325546111576977\n",
      "11:26:52 INFO:drift detected for is_warehouse_closed.value\n",
      "11:26:52 INFO:drift_score : 0.8325546111576977\n",
      "11:26:52 INFO:stattest_name : Jensen-Shannon distance\n",
      "11:26:52 INFO:raw_feature_importance : 0.2645847797393799\n",
      "11:26:52 INFO:relative_feature_importance : 0.14772440493106842\n",
      "11:26:52 INFO:feature_importance_weighted_drift_score : 0.12298863450588794\n",
      "11:26:52 INFO:Retraining model\n"
     ]
    },
    {
     "name": "stdout",
     "output_type": "stream",
     "text": [
      "Experiment week 89\n",
      "---------------------------------\n",
      "Experiment start date : 2020-11-02 00:00:00\n",
      "Experiment end_date : 2020-11-08 00:00:00\n"
     ]
    },
    {
     "name": "stderr",
     "output_type": "stream",
     "text": [
      "11:26:53 INFO:target drift detect: True\n",
      "d:\\anaconda\\envs\\anaconda_env\\lib\\site-packages\\xgboost\\core.py:90: UserWarning:\n",
      "\n",
      "ntree_limit is deprecated, use `iteration_range` or model slicing instead.\n",
      "\n",
      "11:26:53 INFO:data set drift detected\n",
      "11:26:53 INFO:drift detected for state_cases.value\n",
      "11:26:53 INFO:drift_score : 330964428.57142854\n",
      "11:26:53 INFO:stattest_name : Wasserstein distance (normed)\n",
      "11:26:53 INFO:raw_feature_importance : 0.47404026985168457\n",
      "11:26:53 INFO:relative_feature_importance : 0.22392073273658752\n",
      "11:26:53 INFO:feature_importance_weighted_drift_score : 74109797.35546026\n",
      "11:26:53 INFO:drift detected for state_deaths.value\n",
      "11:26:53 INFO:drift_score : 7150871.428571427\n",
      "11:26:53 INFO:stattest_name : Wasserstein distance (normed)\n",
      "11:26:53 INFO:raw_feature_importance : 0.1438775211572647\n",
      "11:26:53 INFO:relative_feature_importance : 0.06796291470527649\n",
      "11:26:53 INFO:feature_importance_weighted_drift_score : 485994.06496839854\n",
      "11:26:54 INFO:drift detected for Product_Type.value\n",
      "11:26:54 INFO:drift_score : 0.8325546111576977\n",
      "11:26:54 INFO:stattest_name : Jensen-Shannon distance\n",
      "11:26:54 INFO:raw_feature_importance : 2.1170003414154053\n",
      "11:26:54 INFO:relative_feature_importance : 1.0\n",
      "11:26:54 INFO:feature_importance_weighted_drift_score : 0.8325546111576977\n",
      "11:26:54 INFO:drift detected for is_warehouse_closed.value\n",
      "11:26:54 INFO:drift_score : 0.8325546111576977\n",
      "11:26:54 INFO:stattest_name : Jensen-Shannon distance\n",
      "11:26:54 INFO:raw_feature_importance : 0.26737654209136963\n",
      "11:26:54 INFO:relative_feature_importance : 0.12629970908164978\n",
      "11:26:54 INFO:feature_importance_weighted_drift_score : 0.10515140518380327\n",
      "11:26:54 INFO:Retraining model\n"
     ]
    },
    {
     "name": "stdout",
     "output_type": "stream",
     "text": [
      "Experiment week 90\n",
      "---------------------------------\n",
      "Experiment start date : 2020-11-09 00:00:00\n",
      "Experiment end_date : 2020-11-15 00:00:00\n"
     ]
    },
    {
     "name": "stderr",
     "output_type": "stream",
     "text": [
      "11:26:54 INFO:target drift detect: True\n",
      "d:\\anaconda\\envs\\anaconda_env\\lib\\site-packages\\xgboost\\core.py:90: UserWarning:\n",
      "\n",
      "ntree_limit is deprecated, use `iteration_range` or model slicing instead.\n",
      "\n",
      "11:26:55 INFO:data set drift detected\n",
      "11:26:55 INFO:drift detected for state_cases.value\n",
      "11:26:55 INFO:drift_score : 361054221.3740458\n",
      "11:26:55 INFO:stattest_name : Wasserstein distance (normed)\n",
      "11:26:55 INFO:raw_feature_importance : 0.5278695225715637\n",
      "11:26:55 INFO:relative_feature_importance : 0.2788601815700531\n",
      "11:26:55 INFO:feature_importance_weighted_drift_score : 100683645.72900055\n",
      "11:26:55 INFO:drift detected for state_deaths.value\n",
      "11:26:55 INFO:drift_score : 7416053.435114504\n",
      "11:26:55 INFO:stattest_name : Wasserstein distance (normed)\n",
      "11:26:55 INFO:raw_feature_importance : 0.13175906240940094\n",
      "11:26:55 INFO:relative_feature_importance : 0.06960499286651611\n",
      "11:26:55 INFO:feature_importance_weighted_drift_score : 516194.3464488474\n",
      "11:26:55 INFO:drift detected for Product_Type.value\n",
      "11:26:55 INFO:drift_score : 0.8325546111576977\n",
      "11:26:55 INFO:stattest_name : Jensen-Shannon distance\n",
      "11:26:55 INFO:raw_feature_importance : 1.8929541110992432\n",
      "11:26:55 INFO:relative_feature_importance : 1.0\n",
      "11:26:55 INFO:feature_importance_weighted_drift_score : 0.8325546111576977\n",
      "11:26:55 INFO:Retraining model\n"
     ]
    }
   ],
   "source": [
    "preds = simulate_model(simulate_df, reg_final, experiment_name='weekly_ml_monitoring')"
   ]
  },
  {
   "cell_type": "markdown",
   "id": "ed27f370",
   "metadata": {},
   "source": [
    "#### Drift detection graphs"
   ]
  },
  {
   "cell_type": "code",
   "execution_count": 676,
   "id": "98d58f44",
   "metadata": {},
   "outputs": [],
   "source": [
    "expirement_results = mlflow.search_runs(experiment_names=['weekly_ml_monitoring'])"
   ]
  },
  {
   "cell_type": "code",
   "execution_count": 677,
   "id": "73898a73",
   "metadata": {},
   "outputs": [],
   "source": [
    "expirement_results.set_index('params.week_end_experiment_end_date',inplace=True)\n",
    "expirement_results.sort_index(ascending=True,inplace=True)"
   ]
  },
  {
   "cell_type": "code",
   "execution_count": 678,
   "id": "77f027a9",
   "metadata": {},
   "outputs": [
    {
     "data": {
      "text/html": [
       "<div>\n",
       "<style scoped>\n",
       "    .dataframe tbody tr th:only-of-type {\n",
       "        vertical-align: middle;\n",
       "    }\n",
       "\n",
       "    .dataframe tbody tr th {\n",
       "        vertical-align: top;\n",
       "    }\n",
       "\n",
       "    .dataframe thead th {\n",
       "        text-align: right;\n",
       "    }\n",
       "</style>\n",
       "<table border=\"1\" class=\"dataframe\">\n",
       "  <thead>\n",
       "    <tr style=\"text-align: right;\">\n",
       "      <th></th>\n",
       "      <th>run_id</th>\n",
       "      <th>experiment_id</th>\n",
       "      <th>status</th>\n",
       "      <th>artifact_uri</th>\n",
       "      <th>start_time</th>\n",
       "      <th>end_time</th>\n",
       "      <th>metrics.weekly_mse</th>\n",
       "      <th>metrics.weekly_rmse</th>\n",
       "      <th>metrics.weekly_mae</th>\n",
       "      <th>metrics.weekly_mape</th>\n",
       "      <th>...</th>\n",
       "      <th>params.state_deaths.value_feature_importance_weighted_drift_score</th>\n",
       "      <th>params.state.value_feature_importance_weighted_drift_score</th>\n",
       "      <th>params.warehouse_ID.value_relative_feature_importance</th>\n",
       "      <th>params.state_cases.value_feature_importance_weighted_drift_detected</th>\n",
       "      <th>params.daily_dispatch_count_target_stattest_name</th>\n",
       "      <th>params.daily_dispatch_count_target_drift_score</th>\n",
       "      <th>params.daily_dispatch_count_drift_detected</th>\n",
       "      <th>tags.mlflow.source.type</th>\n",
       "      <th>tags.mlflow.user</th>\n",
       "      <th>tags.mlflow.source.name</th>\n",
       "    </tr>\n",
       "    <tr>\n",
       "      <th>params.week_end_experiment_end_date</th>\n",
       "      <th></th>\n",
       "      <th></th>\n",
       "      <th></th>\n",
       "      <th></th>\n",
       "      <th></th>\n",
       "      <th></th>\n",
       "      <th></th>\n",
       "      <th></th>\n",
       "      <th></th>\n",
       "      <th></th>\n",
       "      <th></th>\n",
       "      <th></th>\n",
       "      <th></th>\n",
       "      <th></th>\n",
       "      <th></th>\n",
       "      <th></th>\n",
       "      <th></th>\n",
       "      <th></th>\n",
       "      <th></th>\n",
       "      <th></th>\n",
       "      <th></th>\n",
       "    </tr>\n",
       "  </thead>\n",
       "  <tbody>\n",
       "    <tr>\n",
       "      <th>2018-12-30 00:00:00</th>\n",
       "      <td>3df74c0de9f24d5e9eeb01dfbf1a7448</td>\n",
       "      <td>2</td>\n",
       "      <td>FINISHED</td>\n",
       "      <td>file:///C:/Users/shree/projects/ML_Monitoring/...</td>\n",
       "      <td>2022-06-27 10:05:43.254000+00:00</td>\n",
       "      <td>2022-06-27 10:05:44.644000+00:00</td>\n",
       "      <td>2.14723</td>\n",
       "      <td>1.465343</td>\n",
       "      <td>1.083843</td>\n",
       "      <td>0.186534</td>\n",
       "      <td>...</td>\n",
       "      <td>0.0</td>\n",
       "      <td>0.0</td>\n",
       "      <td>0.013138306327164173</td>\n",
       "      <td>False</td>\n",
       "      <td>distance</td>\n",
       "      <td>0.8506966925281619</td>\n",
       "      <td>True</td>\n",
       "      <td>LOCAL</td>\n",
       "      <td>shree</td>\n",
       "      <td>d:\\anaconda\\envs\\anaconda_env\\lib\\site-package...</td>\n",
       "    </tr>\n",
       "    <tr>\n",
       "      <th>2018-12-30 00:00:00</th>\n",
       "      <td>81d2614ab0024cc8b6c92bb370eea7a4</td>\n",
       "      <td>2</td>\n",
       "      <td>FINISHED</td>\n",
       "      <td>file:///C:/Users/shree/projects/ML_Monitoring/...</td>\n",
       "      <td>2022-06-28 04:27:07.619000+00:00</td>\n",
       "      <td>2022-06-28 04:27:08.859000+00:00</td>\n",
       "      <td>18.63799</td>\n",
       "      <td>4.317174</td>\n",
       "      <td>4.241390</td>\n",
       "      <td>1.039283</td>\n",
       "      <td>...</td>\n",
       "      <td>0.0</td>\n",
       "      <td>0.0</td>\n",
       "      <td>0.014780729077756405</td>\n",
       "      <td>False</td>\n",
       "      <td>distance</td>\n",
       "      <td>0.8506966925281619</td>\n",
       "      <td>True</td>\n",
       "      <td>LOCAL</td>\n",
       "      <td>shree</td>\n",
       "      <td>d:\\anaconda\\envs\\anaconda_env\\lib\\site-package...</td>\n",
       "    </tr>\n",
       "  </tbody>\n",
       "</table>\n",
       "<p>2 rows × 84 columns</p>\n",
       "</div>"
      ],
      "text/plain": [
       "                                                               run_id  \\\n",
       "params.week_end_experiment_end_date                                     \n",
       "2018-12-30 00:00:00                  3df74c0de9f24d5e9eeb01dfbf1a7448   \n",
       "2018-12-30 00:00:00                  81d2614ab0024cc8b6c92bb370eea7a4   \n",
       "\n",
       "                                    experiment_id    status  \\\n",
       "params.week_end_experiment_end_date                           \n",
       "2018-12-30 00:00:00                             2  FINISHED   \n",
       "2018-12-30 00:00:00                             2  FINISHED   \n",
       "\n",
       "                                                                          artifact_uri  \\\n",
       "params.week_end_experiment_end_date                                                      \n",
       "2018-12-30 00:00:00                  file:///C:/Users/shree/projects/ML_Monitoring/...   \n",
       "2018-12-30 00:00:00                  file:///C:/Users/shree/projects/ML_Monitoring/...   \n",
       "\n",
       "                                                          start_time  \\\n",
       "params.week_end_experiment_end_date                                    \n",
       "2018-12-30 00:00:00                 2022-06-27 10:05:43.254000+00:00   \n",
       "2018-12-30 00:00:00                 2022-06-28 04:27:07.619000+00:00   \n",
       "\n",
       "                                                            end_time  \\\n",
       "params.week_end_experiment_end_date                                    \n",
       "2018-12-30 00:00:00                 2022-06-27 10:05:44.644000+00:00   \n",
       "2018-12-30 00:00:00                 2022-06-28 04:27:08.859000+00:00   \n",
       "\n",
       "                                     metrics.weekly_mse  metrics.weekly_rmse  \\\n",
       "params.week_end_experiment_end_date                                            \n",
       "2018-12-30 00:00:00                             2.14723             1.465343   \n",
       "2018-12-30 00:00:00                            18.63799             4.317174   \n",
       "\n",
       "                                     metrics.weekly_mae  metrics.weekly_mape  \\\n",
       "params.week_end_experiment_end_date                                            \n",
       "2018-12-30 00:00:00                            1.083843             0.186534   \n",
       "2018-12-30 00:00:00                            4.241390             1.039283   \n",
       "\n",
       "                                     ...  \\\n",
       "params.week_end_experiment_end_date  ...   \n",
       "2018-12-30 00:00:00                  ...   \n",
       "2018-12-30 00:00:00                  ...   \n",
       "\n",
       "                                    params.state_deaths.value_feature_importance_weighted_drift_score  \\\n",
       "params.week_end_experiment_end_date                                                                     \n",
       "2018-12-30 00:00:00                                                                0.0                  \n",
       "2018-12-30 00:00:00                                                                0.0                  \n",
       "\n",
       "                                    params.state.value_feature_importance_weighted_drift_score  \\\n",
       "params.week_end_experiment_end_date                                                              \n",
       "2018-12-30 00:00:00                                                                0.0           \n",
       "2018-12-30 00:00:00                                                                0.0           \n",
       "\n",
       "                                    params.warehouse_ID.value_relative_feature_importance  \\\n",
       "params.week_end_experiment_end_date                                                         \n",
       "2018-12-30 00:00:00                                               0.013138306327164173      \n",
       "2018-12-30 00:00:00                                               0.014780729077756405      \n",
       "\n",
       "                                    params.state_cases.value_feature_importance_weighted_drift_detected  \\\n",
       "params.week_end_experiment_end_date                                                                       \n",
       "2018-12-30 00:00:00                                                              False                    \n",
       "2018-12-30 00:00:00                                                              False                    \n",
       "\n",
       "                                    params.daily_dispatch_count_target_stattest_name  \\\n",
       "params.week_end_experiment_end_date                                                    \n",
       "2018-12-30 00:00:00                                                         distance   \n",
       "2018-12-30 00:00:00                                                         distance   \n",
       "\n",
       "                                    params.daily_dispatch_count_target_drift_score  \\\n",
       "params.week_end_experiment_end_date                                                  \n",
       "2018-12-30 00:00:00                                             0.8506966925281619   \n",
       "2018-12-30 00:00:00                                             0.8506966925281619   \n",
       "\n",
       "                                    params.daily_dispatch_count_drift_detected  \\\n",
       "params.week_end_experiment_end_date                                              \n",
       "2018-12-30 00:00:00                                                       True   \n",
       "2018-12-30 00:00:00                                                       True   \n",
       "\n",
       "                                    tags.mlflow.source.type tags.mlflow.user  \\\n",
       "params.week_end_experiment_end_date                                            \n",
       "2018-12-30 00:00:00                                   LOCAL            shree   \n",
       "2018-12-30 00:00:00                                   LOCAL            shree   \n",
       "\n",
       "                                                               tags.mlflow.source.name  \n",
       "params.week_end_experiment_end_date                                                     \n",
       "2018-12-30 00:00:00                  d:\\anaconda\\envs\\anaconda_env\\lib\\site-package...  \n",
       "2018-12-30 00:00:00                  d:\\anaconda\\envs\\anaconda_env\\lib\\site-package...  \n",
       "\n",
       "[2 rows x 84 columns]"
      ]
     },
     "execution_count": 678,
     "metadata": {},
     "output_type": "execute_result"
    }
   ],
   "source": [
    "expirement_results.head(2)"
   ]
  },
  {
   "cell_type": "code",
   "execution_count": 679,
   "id": "2f57fddc",
   "metadata": {},
   "outputs": [
    {
     "data": {
      "text/plain": [
       "'file:///C:/Users/shree/projects/ML_Monitoring/Feature_importance_weighted_drift_detection_and_automated_retraining/mlruns/2/3df74c0de9f24d5e9eeb01dfbf1a7448/artifacts'"
      ]
     },
     "execution_count": 679,
     "metadata": {},
     "output_type": "execute_result"
    }
   ],
   "source": [
    "expirement_results.artifact_uri.iloc[0]"
   ]
  },
  {
   "cell_type": "code",
   "execution_count": 680,
   "id": "8e9214c9",
   "metadata": {},
   "outputs": [],
   "source": [
    "all_cols = expirement_results.columns\n",
    "drift_detection_cols = all_cols[all_cols.str.endswith('drift_detected')]\n",
    "drift_score_cols = all_cols[all_cols.str.endswith('drift_score')]"
   ]
  },
  {
   "cell_type": "code",
   "execution_count": 681,
   "id": "5d4186c4",
   "metadata": {},
   "outputs": [],
   "source": [
    "for col in drift_detection_cols:\n",
    "    expirement_results[col] = expirement_results[col].replace([None],False).replace('False',False).astype(bool).astype(int)"
   ]
  },
  {
   "cell_type": "code",
   "execution_count": 682,
   "id": "575f515d",
   "metadata": {},
   "outputs": [],
   "source": [
    "for col in drift_score_cols:\n",
    "    expirement_results[col] = expirement_results[col].replace([None],0).astype(float)"
   ]
  },
  {
   "cell_type": "code",
   "execution_count": 683,
   "id": "8c6b8f8f",
   "metadata": {},
   "outputs": [],
   "source": [
    "drift_detected_cols = []\n",
    "for col in drift_detection_cols:\n",
    "    if expirement_results[col].sum() > 0:\n",
    "        drift_detected_cols.append(col)\n"
   ]
  },
  {
   "cell_type": "code",
   "execution_count": 684,
   "id": "77e54ce0",
   "metadata": {},
   "outputs": [
    {
     "data": {
      "text/plain": [
       "['params.county.value_feature_importance_weighted_drift_detected',\n",
       " 'params.Product_Type.value_feature_importance_weighted_drift_detected',\n",
       " 'params.warehouse_ID.value_feature_importance_weighted_drift_detected',\n",
       " 'params.is_warehouse_closed.value_feature_importance_weighted_drift_detected',\n",
       " 'params.is_weekend.value_feature_importance_weighted_drift_detected',\n",
       " 'params.statewise_population_per_sqmile.value_feature_importance_weighted_drift_detected',\n",
       " 'params.state_deaths.value_feature_importance_weighted_drift_detected',\n",
       " 'params.state.value_feature_importance_weighted_drift_detected',\n",
       " 'params.state_cases.value_feature_importance_weighted_drift_detected',\n",
       " 'params.daily_dispatch_count_drift_detected']"
      ]
     },
     "execution_count": 684,
     "metadata": {},
     "output_type": "execute_result"
    }
   ],
   "source": [
    "drift_detected_cols"
   ]
  },
  {
   "cell_type": "code",
   "execution_count": 685,
   "id": "c4216a0a",
   "metadata": {},
   "outputs": [],
   "source": [
    "drift_detected_features = pd.Series(drift_detected_cols).map(lambda x:x.split('.')[1]).str.replace('_drift_detected','').to_list()"
   ]
  },
  {
   "cell_type": "code",
   "execution_count": 686,
   "id": "867f8dff",
   "metadata": {},
   "outputs": [],
   "source": [
    "drift_detected_experiment_cols = all_cols[[any([(feature in col) for feature in drift_detected_features]) for col in all_cols.to_list()]]"
   ]
  },
  {
   "cell_type": "code",
   "execution_count": 687,
   "id": "ead71010",
   "metadata": {},
   "outputs": [],
   "source": [
    "drift_detected_experiment_results = expirement_results[drift_detected_experiment_cols]"
   ]
  },
  {
   "cell_type": "code",
   "execution_count": 695,
   "id": "a473c7ec",
   "metadata": {},
   "outputs": [
    {
     "data": {
      "application/vnd.plotly.v1+json": {
       "config": {
        "plotlyServerURL": "https://plot.ly"
       },
       "data": [
        {
         "hovertemplate": "params.week_end_experiment_end_date=%{x}<br>params.daily_dispatch_count_target_drift_score=%{y}<extra></extra>",
         "legendgroup": "",
         "line": {
          "color": "#636efa",
          "dash": "solid"
         },
         "marker": {
          "symbol": "circle"
         },
         "mode": "lines+markers",
         "name": "",
         "orientation": "v",
         "showlegend": false,
         "type": "scatter",
         "x": [
          "2018-12-30 00:00:00",
          "2018-12-30 00:00:00",
          "2018-12-30 00:00:00",
          "2018-12-30 00:00:00",
          "2019-01-06 00:00:00",
          "2019-01-06 00:00:00",
          "2019-01-06 00:00:00",
          "2019-01-13 00:00:00",
          "2019-01-13 00:00:00",
          "2019-01-13 00:00:00",
          "2019-01-20 00:00:00",
          "2019-01-20 00:00:00",
          "2019-01-20 00:00:00",
          "2019-01-27 00:00:00",
          "2019-01-27 00:00:00",
          "2019-01-27 00:00:00",
          "2019-02-03 00:00:00",
          "2019-02-03 00:00:00",
          "2019-02-03 00:00:00",
          "2019-02-10 00:00:00",
          "2019-02-10 00:00:00",
          "2019-02-10 00:00:00",
          "2019-02-17 00:00:00",
          "2019-02-17 00:00:00",
          "2019-02-17 00:00:00",
          "2019-02-24 00:00:00",
          "2019-02-24 00:00:00",
          "2019-02-24 00:00:00",
          "2019-03-03 00:00:00",
          "2019-03-03 00:00:00",
          "2019-03-03 00:00:00",
          "2019-03-03 00:00:00",
          "2019-03-03 00:00:00",
          "2019-03-03 00:00:00",
          "2019-03-03 00:00:00",
          "2019-03-10 00:00:00",
          "2019-03-10 00:00:00",
          "2019-03-10 00:00:00",
          "2019-03-10 00:00:00",
          "2019-03-17 00:00:00",
          "2019-03-17 00:00:00",
          "2019-03-17 00:00:00",
          "2019-03-17 00:00:00",
          "2019-03-24 00:00:00",
          "2019-03-24 00:00:00",
          "2019-03-24 00:00:00",
          "2019-03-24 00:00:00",
          "2019-03-31 00:00:00",
          "2019-03-31 00:00:00",
          "2019-03-31 00:00:00",
          "2019-03-31 00:00:00",
          "2019-04-07 00:00:00",
          "2019-04-07 00:00:00",
          "2019-04-07 00:00:00",
          "2019-04-07 00:00:00",
          "2019-04-14 00:00:00",
          "2019-04-14 00:00:00",
          "2019-04-14 00:00:00",
          "2019-04-14 00:00:00",
          "2019-04-21 00:00:00",
          "2019-04-21 00:00:00",
          "2019-04-21 00:00:00",
          "2019-04-21 00:00:00",
          "2019-04-28 00:00:00",
          "2019-04-28 00:00:00",
          "2019-04-28 00:00:00",
          "2019-04-28 00:00:00",
          "2019-05-05 00:00:00",
          "2019-05-05 00:00:00",
          "2019-05-05 00:00:00",
          "2019-05-05 00:00:00",
          "2019-05-12 00:00:00",
          "2019-05-12 00:00:00",
          "2019-05-12 00:00:00",
          "2019-05-12 00:00:00",
          "2019-05-19 00:00:00",
          "2019-05-19 00:00:00",
          "2019-05-19 00:00:00",
          "2019-05-19 00:00:00",
          "2019-05-26 00:00:00",
          "2019-05-26 00:00:00",
          "2019-05-26 00:00:00",
          "2019-05-26 00:00:00",
          "2019-06-02 00:00:00",
          "2019-06-02 00:00:00",
          "2019-06-02 00:00:00",
          "2019-06-02 00:00:00",
          "2019-06-09 00:00:00",
          "2019-06-09 00:00:00",
          "2019-06-09 00:00:00",
          "2019-06-09 00:00:00",
          "2019-06-16 00:00:00",
          "2019-06-16 00:00:00",
          "2019-06-16 00:00:00",
          "2019-06-16 00:00:00",
          "2019-06-23 00:00:00",
          "2019-06-23 00:00:00",
          "2019-06-23 00:00:00",
          "2019-06-23 00:00:00",
          "2019-06-30 00:00:00",
          "2019-06-30 00:00:00",
          "2019-06-30 00:00:00",
          "2019-06-30 00:00:00",
          "2019-07-07 00:00:00",
          "2019-07-07 00:00:00",
          "2019-07-07 00:00:00",
          "2019-07-07 00:00:00",
          "2019-07-14 00:00:00",
          "2019-07-14 00:00:00",
          "2019-07-14 00:00:00",
          "2019-07-14 00:00:00",
          "2019-07-21 00:00:00",
          "2019-07-21 00:00:00",
          "2019-07-21 00:00:00",
          "2019-07-21 00:00:00",
          "2019-07-28 00:00:00",
          "2019-07-28 00:00:00",
          "2019-07-28 00:00:00",
          "2019-07-28 00:00:00",
          "2019-08-04 00:00:00",
          "2019-08-04 00:00:00",
          "2019-08-04 00:00:00",
          "2019-08-04 00:00:00",
          "2019-08-11 00:00:00",
          "2019-08-11 00:00:00",
          "2019-08-11 00:00:00",
          "2019-08-11 00:00:00",
          "2019-08-18 00:00:00",
          "2019-08-18 00:00:00",
          "2019-08-18 00:00:00",
          "2019-08-18 00:00:00",
          "2019-08-25 00:00:00",
          "2019-08-25 00:00:00",
          "2019-08-25 00:00:00",
          "2019-08-25 00:00:00",
          "2019-09-01 00:00:00",
          "2019-09-01 00:00:00",
          "2019-09-01 00:00:00",
          "2019-09-01 00:00:00",
          "2019-09-08 00:00:00",
          "2019-09-08 00:00:00",
          "2019-09-08 00:00:00",
          "2019-09-08 00:00:00",
          "2019-09-15 00:00:00",
          "2019-09-15 00:00:00",
          "2019-09-15 00:00:00",
          "2019-09-15 00:00:00",
          "2019-09-22 00:00:00",
          "2019-09-22 00:00:00",
          "2019-09-22 00:00:00",
          "2019-09-22 00:00:00",
          "2019-09-29 00:00:00",
          "2019-09-29 00:00:00",
          "2019-09-29 00:00:00",
          "2019-09-29 00:00:00",
          "2019-10-06 00:00:00",
          "2019-10-06 00:00:00",
          "2019-10-06 00:00:00",
          "2019-10-06 00:00:00",
          "2019-10-13 00:00:00",
          "2019-10-13 00:00:00",
          "2019-10-13 00:00:00",
          "2019-10-13 00:00:00",
          "2019-10-20 00:00:00",
          "2019-10-20 00:00:00",
          "2019-10-20 00:00:00",
          "2019-10-20 00:00:00",
          "2019-10-27 00:00:00",
          "2019-10-27 00:00:00",
          "2019-10-27 00:00:00",
          "2019-10-27 00:00:00",
          "2019-11-03 00:00:00",
          "2019-11-03 00:00:00",
          "2019-11-03 00:00:00",
          "2019-11-03 00:00:00",
          "2019-11-10 00:00:00",
          "2019-11-10 00:00:00",
          "2019-11-10 00:00:00",
          "2019-11-10 00:00:00",
          "2019-11-17 00:00:00",
          "2019-11-17 00:00:00",
          "2019-11-17 00:00:00",
          "2019-11-17 00:00:00",
          "2019-11-24 00:00:00",
          "2019-11-24 00:00:00",
          "2019-11-24 00:00:00",
          "2019-11-24 00:00:00",
          "2019-12-01 00:00:00",
          "2019-12-01 00:00:00",
          "2019-12-01 00:00:00",
          "2019-12-01 00:00:00",
          "2019-12-08 00:00:00",
          "2019-12-08 00:00:00",
          "2019-12-08 00:00:00",
          "2019-12-08 00:00:00",
          "2019-12-15 00:00:00",
          "2019-12-15 00:00:00",
          "2019-12-15 00:00:00",
          "2019-12-15 00:00:00",
          "2019-12-22 00:00:00",
          "2019-12-22 00:00:00",
          "2019-12-22 00:00:00",
          "2019-12-22 00:00:00",
          "2019-12-29 00:00:00",
          "2019-12-29 00:00:00",
          "2019-12-29 00:00:00",
          "2019-12-29 00:00:00",
          "2020-01-05 00:00:00",
          "2020-01-05 00:00:00",
          "2020-01-05 00:00:00",
          "2020-01-05 00:00:00",
          "2020-01-12 00:00:00",
          "2020-01-12 00:00:00",
          "2020-01-12 00:00:00",
          "2020-01-12 00:00:00",
          "2020-01-19 00:00:00",
          "2020-01-19 00:00:00",
          "2020-01-19 00:00:00",
          "2020-01-19 00:00:00",
          "2020-01-26 00:00:00",
          "2020-01-26 00:00:00",
          "2020-01-26 00:00:00",
          "2020-01-26 00:00:00",
          "2020-02-02 00:00:00",
          "2020-02-02 00:00:00",
          "2020-02-02 00:00:00",
          "2020-02-02 00:00:00",
          "2020-02-09 00:00:00",
          "2020-02-09 00:00:00",
          "2020-02-09 00:00:00",
          "2020-02-09 00:00:00",
          "2020-02-16 00:00:00",
          "2020-02-16 00:00:00",
          "2020-02-16 00:00:00",
          "2020-02-16 00:00:00",
          "2020-02-23 00:00:00",
          "2020-02-23 00:00:00",
          "2020-02-23 00:00:00",
          "2020-02-23 00:00:00",
          "2020-03-01 00:00:00",
          "2020-03-01 00:00:00",
          "2020-03-01 00:00:00",
          "2020-03-01 00:00:00",
          "2020-03-08 00:00:00",
          "2020-03-08 00:00:00",
          "2020-03-08 00:00:00",
          "2020-03-08 00:00:00",
          "2020-03-15 00:00:00",
          "2020-03-15 00:00:00",
          "2020-03-15 00:00:00",
          "2020-03-15 00:00:00",
          "2020-03-22 00:00:00",
          "2020-03-22 00:00:00",
          "2020-03-22 00:00:00",
          "2020-03-22 00:00:00",
          "2020-03-29 00:00:00",
          "2020-03-29 00:00:00",
          "2020-03-29 00:00:00",
          "2020-03-29 00:00:00",
          "2020-04-05 00:00:00",
          "2020-04-05 00:00:00",
          "2020-04-05 00:00:00",
          "2020-04-05 00:00:00",
          "2020-04-12 00:00:00",
          "2020-04-12 00:00:00",
          "2020-04-12 00:00:00",
          "2020-04-12 00:00:00",
          "2020-04-19 00:00:00",
          "2020-04-19 00:00:00",
          "2020-04-19 00:00:00",
          "2020-04-19 00:00:00",
          "2020-04-26 00:00:00",
          "2020-04-26 00:00:00",
          "2020-04-26 00:00:00",
          "2020-04-26 00:00:00",
          "2020-05-03 00:00:00",
          "2020-05-03 00:00:00",
          "2020-05-03 00:00:00",
          "2020-05-03 00:00:00",
          "2020-05-10 00:00:00",
          "2020-05-10 00:00:00",
          "2020-05-10 00:00:00",
          "2020-05-10 00:00:00",
          "2020-05-17 00:00:00",
          "2020-05-17 00:00:00",
          "2020-05-17 00:00:00",
          "2020-05-17 00:00:00",
          "2020-05-24 00:00:00",
          "2020-05-24 00:00:00",
          "2020-05-24 00:00:00",
          "2020-05-24 00:00:00",
          "2020-05-31 00:00:00",
          "2020-05-31 00:00:00",
          "2020-05-31 00:00:00",
          "2020-05-31 00:00:00",
          "2020-06-07 00:00:00",
          "2020-06-07 00:00:00",
          "2020-06-07 00:00:00",
          "2020-06-07 00:00:00",
          "2020-06-14 00:00:00",
          "2020-06-14 00:00:00",
          "2020-06-14 00:00:00",
          "2020-06-14 00:00:00",
          "2020-06-21 00:00:00",
          "2020-06-21 00:00:00",
          "2020-06-21 00:00:00",
          "2020-06-21 00:00:00",
          "2020-06-28 00:00:00",
          "2020-06-28 00:00:00",
          "2020-06-28 00:00:00",
          "2020-06-28 00:00:00",
          "2020-07-05 00:00:00",
          "2020-07-05 00:00:00",
          "2020-07-05 00:00:00",
          "2020-07-05 00:00:00",
          "2020-07-12 00:00:00",
          "2020-07-12 00:00:00",
          "2020-07-12 00:00:00",
          "2020-07-12 00:00:00",
          "2020-07-19 00:00:00",
          "2020-07-19 00:00:00",
          "2020-07-19 00:00:00",
          "2020-07-19 00:00:00",
          "2020-07-26 00:00:00",
          "2020-07-26 00:00:00",
          "2020-07-26 00:00:00",
          "2020-07-26 00:00:00",
          "2020-08-02 00:00:00",
          "2020-08-02 00:00:00",
          "2020-08-02 00:00:00",
          "2020-08-02 00:00:00",
          "2020-08-09 00:00:00",
          "2020-08-09 00:00:00",
          "2020-08-09 00:00:00",
          "2020-08-09 00:00:00",
          "2020-08-16 00:00:00",
          "2020-08-16 00:00:00",
          "2020-08-16 00:00:00",
          "2020-08-16 00:00:00",
          "2020-08-23 00:00:00",
          "2020-08-23 00:00:00",
          "2020-08-23 00:00:00",
          "2020-08-23 00:00:00",
          "2020-08-30 00:00:00",
          "2020-08-30 00:00:00",
          "2020-08-30 00:00:00",
          "2020-08-30 00:00:00",
          "2020-09-06 00:00:00",
          "2020-09-06 00:00:00",
          "2020-09-06 00:00:00",
          "2020-09-06 00:00:00",
          "2020-09-13 00:00:00",
          "2020-09-13 00:00:00",
          "2020-09-13 00:00:00",
          "2020-09-13 00:00:00",
          "2020-09-20 00:00:00",
          "2020-09-20 00:00:00",
          "2020-09-20 00:00:00",
          "2020-09-20 00:00:00",
          "2020-09-27 00:00:00",
          "2020-09-27 00:00:00",
          "2020-09-27 00:00:00",
          "2020-09-27 00:00:00",
          "2020-10-04 00:00:00",
          "2020-10-04 00:00:00",
          "2020-10-04 00:00:00",
          "2020-10-04 00:00:00",
          "2020-10-11 00:00:00",
          "2020-10-11 00:00:00",
          "2020-10-11 00:00:00",
          "2020-10-11 00:00:00",
          "2020-10-18 00:00:00",
          "2020-10-18 00:00:00",
          "2020-10-18 00:00:00",
          "2020-10-18 00:00:00",
          "2020-10-25 00:00:00",
          "2020-10-25 00:00:00",
          "2020-10-25 00:00:00",
          "2020-10-25 00:00:00",
          "2020-11-01 00:00:00",
          "2020-11-01 00:00:00",
          "2020-11-01 00:00:00",
          "2020-11-01 00:00:00",
          "2020-11-08 00:00:00",
          "2020-11-08 00:00:00",
          "2020-11-08 00:00:00",
          "2020-11-08 00:00:00",
          "2020-11-15 00:00:00",
          "2020-11-15 00:00:00",
          "2020-11-15 00:00:00",
          "2020-11-15 00:00:00"
         ],
         "xaxis": "x",
         "y": [
          0.8506966925281619,
          0.8506966925281619,
          0.8506966925281619,
          0.8506966925281619,
          0.7603571839965731,
          0.7603571839965731,
          0.7603571839965731,
          0.7807266090424902,
          0.7807266090424902,
          0.7807266090424902,
          0.7568025391727874,
          0.7568025391727874,
          0.7568025391727874,
          0.739195939029973,
          0.739195939029973,
          0.739195939029973,
          0.6941825430893434,
          0.6941825430893434,
          0.6941825430893434,
          0.6648371414155752,
          0.6648371414155752,
          0.6648371414155752,
          0.602266990111311,
          0.602266990111311,
          0.602266990111311,
          0.6454393335295251,
          0.6454393335295251,
          0.6454393335295251,
          0,
          0,
          0.6019716597946714,
          0.6019716597946714,
          0.39343896475272333,
          0.39343896475272333,
          0.6019716597946714,
          0.3831977614800278,
          0.3831977614800278,
          0,
          0,
          0,
          0,
          0.41204578346441006,
          0.41204578346441006,
          0,
          0,
          0.35963221798628164,
          0.35963221798628164,
          0,
          0.37695399081949776,
          0,
          0.37695399081949776,
          0.16116241245341603,
          0.16116241245341603,
          0,
          0,
          0.16034923048451308,
          0,
          0.16034923048451308,
          0,
          0,
          0,
          0.19453990072868407,
          0.19453990072868407,
          0.14165601415558146,
          0,
          0.14165601415558146,
          0,
          0.13641269942001516,
          0.13641269942001516,
          0,
          0,
          0,
          0.13543419893349962,
          0,
          0.13543419893349962,
          0,
          0,
          0.15587500882388475,
          0.15587500882388475,
          0,
          0.1499087667731444,
          0,
          0.1499087667731444,
          0.1442291322026873,
          0.1442291322026873,
          0,
          0,
          0.1353974087393432,
          0,
          0,
          0.1353974087393432,
          0,
          0,
          0.11285659083089944,
          0.11285659083089944,
          0.1626737773649716,
          0.1626737773649716,
          0,
          0,
          0.19849199832740516,
          0.19849199832740516,
          0,
          0,
          0.24025687946304408,
          0,
          0,
          0.24025687946304408,
          0.19860325899521689,
          0,
          0,
          0.19860325899521689,
          0.2571661274095254,
          0,
          0,
          0.2571661274095254,
          0,
          0.2345318505401197,
          0,
          0.2345318505401197,
          0.1431144486587701,
          0,
          0,
          0.1431144486587701,
          0.11336779651260537,
          0,
          0,
          0.11336779651260537,
          0,
          0,
          0.14651546475244143,
          0.14651546475244143,
          0,
          0,
          0.14107852678537114,
          0.14107852678537114,
          0.1486264504897241,
          0.1486264504897241,
          0,
          0,
          0.19145884064612806,
          0,
          0.19145884064612806,
          0,
          0.2034393893561035,
          0,
          0.2034393893561035,
          0,
          0,
          0,
          0.19847746026681107,
          0.19847746026681107,
          0,
          0,
          0.19495420578610378,
          0.19495420578610378,
          0.338639495844527,
          0,
          0,
          0.338639495844527,
          0,
          0,
          0.33801910636080834,
          0.33801910636080834,
          0.338639495844527,
          0,
          0.338639495844527,
          0,
          0.31004016370483767,
          0,
          0.31004016370483767,
          0,
          0,
          0,
          0.2876580776824721,
          0.2876580776824721,
          0.242753568848741,
          0,
          0,
          0.242753568848741,
          0.18710810349201515,
          0.18710810349201515,
          0,
          0,
          0.14844042265314278,
          0,
          0.14844042265314278,
          0,
          0.2755736856825391,
          0,
          0.2755736856825391,
          0,
          0.6791950487363304,
          0.6791950487363304,
          0,
          0,
          0.6911153683381304,
          0,
          0.6911153683381304,
          0,
          0.701577134758696,
          0,
          0.701577134758696,
          0,
          0.7109607111343867,
          0.7109607111343867,
          0,
          0,
          0.7432501307074569,
          0,
          0,
          0.7432501307074569,
          0.744677186293093,
          0,
          0.744677186293093,
          0,
          0,
          0.7760656644310131,
          0,
          0.7760656644310131,
          0,
          0,
          0.7621103978111894,
          0.7621103978111894,
          0.7591900684920807,
          0,
          0,
          0.7591900684920807,
          0.6362999817370592,
          0.6362999817370592,
          0,
          0,
          0.6250473003159086,
          0,
          0,
          0.6250473003159086,
          0.6228712641748453,
          0,
          0.6228712641748453,
          0,
          0.5922572238624197,
          0,
          0,
          0.5922572238624197,
          0,
          0,
          1.147307767801893,
          1.147307767801893,
          0,
          1.1902067660114273,
          1.1902067660114273,
          0,
          1.2219147212097783,
          1.2219147212097783,
          0,
          0,
          1.1404687970728369,
          1.1404687970728369,
          0,
          0,
          0.9468015805182017,
          0.9468015805182017,
          0,
          0,
          0,
          0.9617229711997786,
          0,
          0.9617229711997786,
          0,
          0.9592360727528491,
          0,
          0.9592360727528491,
          0.8728581857331459,
          0,
          0.8728581857331459,
          0,
          0,
          0,
          0.8744671377600969,
          0.8744671377600969,
          0,
          0,
          0.7663632820909829,
          0.7663632820909829,
          0,
          0,
          0.7202174997979577,
          0.7202174997979577,
          0,
          0.7710607569351833,
          0.7710607569351833,
          0,
          0,
          0.7630474174950769,
          0.7630474174950769,
          0,
          0.77655457006566,
          0.77655457006566,
          0,
          0,
          0,
          0.9313828101472388,
          0.9313828101472388,
          0,
          0.8772903656960973,
          0,
          0.8772903656960973,
          0,
          0,
          0.9336511036340516,
          0,
          0.9336511036340516,
          0.8062677859624371,
          0.8062677859624371,
          0,
          0,
          0,
          0.7446167367828327,
          0,
          0.7446167367828327,
          0,
          0,
          0.8093051131851652,
          0.8093051131851652,
          0,
          0,
          0.7693064580641493,
          0.7693064580641493,
          0.7172229362310177,
          0,
          0.7172229362310177,
          0,
          1.0427958605696805,
          0,
          1.0427958605696805,
          0,
          0,
          1.0102641313868506,
          0,
          1.0102641313868506,
          0,
          1.030361368335033,
          0,
          1.030361368335033,
          1.036329924607664,
          1.036329924607664,
          0,
          0,
          0,
          0,
          1.1666434032267698,
          1.1666434032267698,
          1.1688816118290066,
          0,
          0,
          1.1688816118290066,
          1.2066824682223352,
          0,
          0,
          1.2066824682223352,
          0,
          0,
          1.151722012545193,
          1.151722012545193,
          1.1895228689385215,
          0,
          0,
          1.1895228689385215,
          0,
          1.2211064792145263,
          0,
          1.2211064792145263,
          1.3101374436146025,
          0,
          1.3101374436146025,
          0,
          1.2763156247363612,
          0,
          0,
          1.2763156247363612,
          1.1952427353664594,
          0,
          1.1952427353664594,
          0,
          1.191263697851372,
          0,
          0,
          1.191263697851372,
          1.1390900871513998,
          0,
          1.1390900871513998,
          0
         ],
         "yaxis": "y"
        }
       ],
       "layout": {
        "legend": {
         "tracegroupgap": 0
        },
        "margin": {
         "t": 60
        },
        "template": {
         "data": {
          "bar": [
           {
            "error_x": {
             "color": "#2a3f5f"
            },
            "error_y": {
             "color": "#2a3f5f"
            },
            "marker": {
             "line": {
              "color": "#E5ECF6",
              "width": 0.5
             },
             "pattern": {
              "fillmode": "overlay",
              "size": 10,
              "solidity": 0.2
             }
            },
            "type": "bar"
           }
          ],
          "barpolar": [
           {
            "marker": {
             "line": {
              "color": "#E5ECF6",
              "width": 0.5
             },
             "pattern": {
              "fillmode": "overlay",
              "size": 10,
              "solidity": 0.2
             }
            },
            "type": "barpolar"
           }
          ],
          "carpet": [
           {
            "aaxis": {
             "endlinecolor": "#2a3f5f",
             "gridcolor": "white",
             "linecolor": "white",
             "minorgridcolor": "white",
             "startlinecolor": "#2a3f5f"
            },
            "baxis": {
             "endlinecolor": "#2a3f5f",
             "gridcolor": "white",
             "linecolor": "white",
             "minorgridcolor": "white",
             "startlinecolor": "#2a3f5f"
            },
            "type": "carpet"
           }
          ],
          "choropleth": [
           {
            "colorbar": {
             "outlinewidth": 0,
             "ticks": ""
            },
            "type": "choropleth"
           }
          ],
          "contour": [
           {
            "colorbar": {
             "outlinewidth": 0,
             "ticks": ""
            },
            "colorscale": [
             [
              0,
              "#0d0887"
             ],
             [
              0.1111111111111111,
              "#46039f"
             ],
             [
              0.2222222222222222,
              "#7201a8"
             ],
             [
              0.3333333333333333,
              "#9c179e"
             ],
             [
              0.4444444444444444,
              "#bd3786"
             ],
             [
              0.5555555555555556,
              "#d8576b"
             ],
             [
              0.6666666666666666,
              "#ed7953"
             ],
             [
              0.7777777777777778,
              "#fb9f3a"
             ],
             [
              0.8888888888888888,
              "#fdca26"
             ],
             [
              1,
              "#f0f921"
             ]
            ],
            "type": "contour"
           }
          ],
          "contourcarpet": [
           {
            "colorbar": {
             "outlinewidth": 0,
             "ticks": ""
            },
            "type": "contourcarpet"
           }
          ],
          "heatmap": [
           {
            "colorbar": {
             "outlinewidth": 0,
             "ticks": ""
            },
            "colorscale": [
             [
              0,
              "#0d0887"
             ],
             [
              0.1111111111111111,
              "#46039f"
             ],
             [
              0.2222222222222222,
              "#7201a8"
             ],
             [
              0.3333333333333333,
              "#9c179e"
             ],
             [
              0.4444444444444444,
              "#bd3786"
             ],
             [
              0.5555555555555556,
              "#d8576b"
             ],
             [
              0.6666666666666666,
              "#ed7953"
             ],
             [
              0.7777777777777778,
              "#fb9f3a"
             ],
             [
              0.8888888888888888,
              "#fdca26"
             ],
             [
              1,
              "#f0f921"
             ]
            ],
            "type": "heatmap"
           }
          ],
          "heatmapgl": [
           {
            "colorbar": {
             "outlinewidth": 0,
             "ticks": ""
            },
            "colorscale": [
             [
              0,
              "#0d0887"
             ],
             [
              0.1111111111111111,
              "#46039f"
             ],
             [
              0.2222222222222222,
              "#7201a8"
             ],
             [
              0.3333333333333333,
              "#9c179e"
             ],
             [
              0.4444444444444444,
              "#bd3786"
             ],
             [
              0.5555555555555556,
              "#d8576b"
             ],
             [
              0.6666666666666666,
              "#ed7953"
             ],
             [
              0.7777777777777778,
              "#fb9f3a"
             ],
             [
              0.8888888888888888,
              "#fdca26"
             ],
             [
              1,
              "#f0f921"
             ]
            ],
            "type": "heatmapgl"
           }
          ],
          "histogram": [
           {
            "marker": {
             "pattern": {
              "fillmode": "overlay",
              "size": 10,
              "solidity": 0.2
             }
            },
            "type": "histogram"
           }
          ],
          "histogram2d": [
           {
            "colorbar": {
             "outlinewidth": 0,
             "ticks": ""
            },
            "colorscale": [
             [
              0,
              "#0d0887"
             ],
             [
              0.1111111111111111,
              "#46039f"
             ],
             [
              0.2222222222222222,
              "#7201a8"
             ],
             [
              0.3333333333333333,
              "#9c179e"
             ],
             [
              0.4444444444444444,
              "#bd3786"
             ],
             [
              0.5555555555555556,
              "#d8576b"
             ],
             [
              0.6666666666666666,
              "#ed7953"
             ],
             [
              0.7777777777777778,
              "#fb9f3a"
             ],
             [
              0.8888888888888888,
              "#fdca26"
             ],
             [
              1,
              "#f0f921"
             ]
            ],
            "type": "histogram2d"
           }
          ],
          "histogram2dcontour": [
           {
            "colorbar": {
             "outlinewidth": 0,
             "ticks": ""
            },
            "colorscale": [
             [
              0,
              "#0d0887"
             ],
             [
              0.1111111111111111,
              "#46039f"
             ],
             [
              0.2222222222222222,
              "#7201a8"
             ],
             [
              0.3333333333333333,
              "#9c179e"
             ],
             [
              0.4444444444444444,
              "#bd3786"
             ],
             [
              0.5555555555555556,
              "#d8576b"
             ],
             [
              0.6666666666666666,
              "#ed7953"
             ],
             [
              0.7777777777777778,
              "#fb9f3a"
             ],
             [
              0.8888888888888888,
              "#fdca26"
             ],
             [
              1,
              "#f0f921"
             ]
            ],
            "type": "histogram2dcontour"
           }
          ],
          "mesh3d": [
           {
            "colorbar": {
             "outlinewidth": 0,
             "ticks": ""
            },
            "type": "mesh3d"
           }
          ],
          "parcoords": [
           {
            "line": {
             "colorbar": {
              "outlinewidth": 0,
              "ticks": ""
             }
            },
            "type": "parcoords"
           }
          ],
          "pie": [
           {
            "automargin": true,
            "type": "pie"
           }
          ],
          "scatter": [
           {
            "fillpattern": {
             "fillmode": "overlay",
             "size": 10,
             "solidity": 0.2
            },
            "type": "scatter"
           }
          ],
          "scatter3d": [
           {
            "line": {
             "colorbar": {
              "outlinewidth": 0,
              "ticks": ""
             }
            },
            "marker": {
             "colorbar": {
              "outlinewidth": 0,
              "ticks": ""
             }
            },
            "type": "scatter3d"
           }
          ],
          "scattercarpet": [
           {
            "marker": {
             "colorbar": {
              "outlinewidth": 0,
              "ticks": ""
             }
            },
            "type": "scattercarpet"
           }
          ],
          "scattergeo": [
           {
            "marker": {
             "colorbar": {
              "outlinewidth": 0,
              "ticks": ""
             }
            },
            "type": "scattergeo"
           }
          ],
          "scattergl": [
           {
            "marker": {
             "colorbar": {
              "outlinewidth": 0,
              "ticks": ""
             }
            },
            "type": "scattergl"
           }
          ],
          "scattermapbox": [
           {
            "marker": {
             "colorbar": {
              "outlinewidth": 0,
              "ticks": ""
             }
            },
            "type": "scattermapbox"
           }
          ],
          "scatterpolar": [
           {
            "marker": {
             "colorbar": {
              "outlinewidth": 0,
              "ticks": ""
             }
            },
            "type": "scatterpolar"
           }
          ],
          "scatterpolargl": [
           {
            "marker": {
             "colorbar": {
              "outlinewidth": 0,
              "ticks": ""
             }
            },
            "type": "scatterpolargl"
           }
          ],
          "scatterternary": [
           {
            "marker": {
             "colorbar": {
              "outlinewidth": 0,
              "ticks": ""
             }
            },
            "type": "scatterternary"
           }
          ],
          "surface": [
           {
            "colorbar": {
             "outlinewidth": 0,
             "ticks": ""
            },
            "colorscale": [
             [
              0,
              "#0d0887"
             ],
             [
              0.1111111111111111,
              "#46039f"
             ],
             [
              0.2222222222222222,
              "#7201a8"
             ],
             [
              0.3333333333333333,
              "#9c179e"
             ],
             [
              0.4444444444444444,
              "#bd3786"
             ],
             [
              0.5555555555555556,
              "#d8576b"
             ],
             [
              0.6666666666666666,
              "#ed7953"
             ],
             [
              0.7777777777777778,
              "#fb9f3a"
             ],
             [
              0.8888888888888888,
              "#fdca26"
             ],
             [
              1,
              "#f0f921"
             ]
            ],
            "type": "surface"
           }
          ],
          "table": [
           {
            "cells": {
             "fill": {
              "color": "#EBF0F8"
             },
             "line": {
              "color": "white"
             }
            },
            "header": {
             "fill": {
              "color": "#C8D4E3"
             },
             "line": {
              "color": "white"
             }
            },
            "type": "table"
           }
          ]
         },
         "layout": {
          "annotationdefaults": {
           "arrowcolor": "#2a3f5f",
           "arrowhead": 0,
           "arrowwidth": 1
          },
          "autotypenumbers": "strict",
          "coloraxis": {
           "colorbar": {
            "outlinewidth": 0,
            "ticks": ""
           }
          },
          "colorscale": {
           "diverging": [
            [
             0,
             "#8e0152"
            ],
            [
             0.1,
             "#c51b7d"
            ],
            [
             0.2,
             "#de77ae"
            ],
            [
             0.3,
             "#f1b6da"
            ],
            [
             0.4,
             "#fde0ef"
            ],
            [
             0.5,
             "#f7f7f7"
            ],
            [
             0.6,
             "#e6f5d0"
            ],
            [
             0.7,
             "#b8e186"
            ],
            [
             0.8,
             "#7fbc41"
            ],
            [
             0.9,
             "#4d9221"
            ],
            [
             1,
             "#276419"
            ]
           ],
           "sequential": [
            [
             0,
             "#0d0887"
            ],
            [
             0.1111111111111111,
             "#46039f"
            ],
            [
             0.2222222222222222,
             "#7201a8"
            ],
            [
             0.3333333333333333,
             "#9c179e"
            ],
            [
             0.4444444444444444,
             "#bd3786"
            ],
            [
             0.5555555555555556,
             "#d8576b"
            ],
            [
             0.6666666666666666,
             "#ed7953"
            ],
            [
             0.7777777777777778,
             "#fb9f3a"
            ],
            [
             0.8888888888888888,
             "#fdca26"
            ],
            [
             1,
             "#f0f921"
            ]
           ],
           "sequentialminus": [
            [
             0,
             "#0d0887"
            ],
            [
             0.1111111111111111,
             "#46039f"
            ],
            [
             0.2222222222222222,
             "#7201a8"
            ],
            [
             0.3333333333333333,
             "#9c179e"
            ],
            [
             0.4444444444444444,
             "#bd3786"
            ],
            [
             0.5555555555555556,
             "#d8576b"
            ],
            [
             0.6666666666666666,
             "#ed7953"
            ],
            [
             0.7777777777777778,
             "#fb9f3a"
            ],
            [
             0.8888888888888888,
             "#fdca26"
            ],
            [
             1,
             "#f0f921"
            ]
           ]
          },
          "colorway": [
           "#636efa",
           "#EF553B",
           "#00cc96",
           "#ab63fa",
           "#FFA15A",
           "#19d3f3",
           "#FF6692",
           "#B6E880",
           "#FF97FF",
           "#FECB52"
          ],
          "font": {
           "color": "#2a3f5f"
          },
          "geo": {
           "bgcolor": "white",
           "lakecolor": "white",
           "landcolor": "#E5ECF6",
           "showlakes": true,
           "showland": true,
           "subunitcolor": "white"
          },
          "hoverlabel": {
           "align": "left"
          },
          "hovermode": "closest",
          "mapbox": {
           "style": "light"
          },
          "paper_bgcolor": "white",
          "plot_bgcolor": "#E5ECF6",
          "polar": {
           "angularaxis": {
            "gridcolor": "white",
            "linecolor": "white",
            "ticks": ""
           },
           "bgcolor": "#E5ECF6",
           "radialaxis": {
            "gridcolor": "white",
            "linecolor": "white",
            "ticks": ""
           }
          },
          "scene": {
           "xaxis": {
            "backgroundcolor": "#E5ECF6",
            "gridcolor": "white",
            "gridwidth": 2,
            "linecolor": "white",
            "showbackground": true,
            "ticks": "",
            "zerolinecolor": "white"
           },
           "yaxis": {
            "backgroundcolor": "#E5ECF6",
            "gridcolor": "white",
            "gridwidth": 2,
            "linecolor": "white",
            "showbackground": true,
            "ticks": "",
            "zerolinecolor": "white"
           },
           "zaxis": {
            "backgroundcolor": "#E5ECF6",
            "gridcolor": "white",
            "gridwidth": 2,
            "linecolor": "white",
            "showbackground": true,
            "ticks": "",
            "zerolinecolor": "white"
           }
          },
          "shapedefaults": {
           "line": {
            "color": "#2a3f5f"
           }
          },
          "ternary": {
           "aaxis": {
            "gridcolor": "white",
            "linecolor": "white",
            "ticks": ""
           },
           "baxis": {
            "gridcolor": "white",
            "linecolor": "white",
            "ticks": ""
           },
           "bgcolor": "#E5ECF6",
           "caxis": {
            "gridcolor": "white",
            "linecolor": "white",
            "ticks": ""
           }
          },
          "title": {
           "x": 0.05
          },
          "xaxis": {
           "automargin": true,
           "gridcolor": "white",
           "linecolor": "white",
           "ticks": "",
           "title": {
            "standoff": 15
           },
           "zerolinecolor": "white",
           "zerolinewidth": 2
          },
          "yaxis": {
           "automargin": true,
           "gridcolor": "white",
           "linecolor": "white",
           "ticks": "",
           "title": {
            "standoff": 15
           },
           "zerolinecolor": "white",
           "zerolinewidth": 2
          }
         }
        },
        "xaxis": {
         "anchor": "y",
         "domain": [
          0,
          1
         ],
         "title": {
          "text": "params.week_end_experiment_end_date"
         }
        },
        "yaxis": {
         "anchor": "x",
         "domain": [
          0,
          1
         ],
         "title": {
          "text": "params.daily_dispatch_count_target_drift_score"
         }
        }
       }
      },
      "text/html": [
       "<div>                            <div id=\"6ec5c0d3-8525-405d-ac19-6485f91c1282\" class=\"plotly-graph-div\" style=\"height:525px; width:100%;\"></div>            <script type=\"text/javascript\">                require([\"plotly\"], function(Plotly) {                    window.PLOTLYENV=window.PLOTLYENV || {};                                    if (document.getElementById(\"6ec5c0d3-8525-405d-ac19-6485f91c1282\")) {                    Plotly.newPlot(                        \"6ec5c0d3-8525-405d-ac19-6485f91c1282\",                        [{\"hovertemplate\":\"params.week_end_experiment_end_date=%{x}<br>params.daily_dispatch_count_target_drift_score=%{y}<extra></extra>\",\"legendgroup\":\"\",\"line\":{\"color\":\"#636efa\",\"dash\":\"solid\"},\"marker\":{\"symbol\":\"circle\"},\"mode\":\"lines+markers\",\"name\":\"\",\"orientation\":\"v\",\"showlegend\":false,\"x\":[\"2018-12-30 00:00:00\",\"2018-12-30 00:00:00\",\"2018-12-30 00:00:00\",\"2018-12-30 00:00:00\",\"2019-01-06 00:00:00\",\"2019-01-06 00:00:00\",\"2019-01-06 00:00:00\",\"2019-01-13 00:00:00\",\"2019-01-13 00:00:00\",\"2019-01-13 00:00:00\",\"2019-01-20 00:00:00\",\"2019-01-20 00:00:00\",\"2019-01-20 00:00:00\",\"2019-01-27 00:00:00\",\"2019-01-27 00:00:00\",\"2019-01-27 00:00:00\",\"2019-02-03 00:00:00\",\"2019-02-03 00:00:00\",\"2019-02-03 00:00:00\",\"2019-02-10 00:00:00\",\"2019-02-10 00:00:00\",\"2019-02-10 00:00:00\",\"2019-02-17 00:00:00\",\"2019-02-17 00:00:00\",\"2019-02-17 00:00:00\",\"2019-02-24 00:00:00\",\"2019-02-24 00:00:00\",\"2019-02-24 00:00:00\",\"2019-03-03 00:00:00\",\"2019-03-03 00:00:00\",\"2019-03-03 00:00:00\",\"2019-03-03 00:00:00\",\"2019-03-03 00:00:00\",\"2019-03-03 00:00:00\",\"2019-03-03 00:00:00\",\"2019-03-10 00:00:00\",\"2019-03-10 00:00:00\",\"2019-03-10 00:00:00\",\"2019-03-10 00:00:00\",\"2019-03-17 00:00:00\",\"2019-03-17 00:00:00\",\"2019-03-17 00:00:00\",\"2019-03-17 00:00:00\",\"2019-03-24 00:00:00\",\"2019-03-24 00:00:00\",\"2019-03-24 00:00:00\",\"2019-03-24 00:00:00\",\"2019-03-31 00:00:00\",\"2019-03-31 00:00:00\",\"2019-03-31 00:00:00\",\"2019-03-31 00:00:00\",\"2019-04-07 00:00:00\",\"2019-04-07 00:00:00\",\"2019-04-07 00:00:00\",\"2019-04-07 00:00:00\",\"2019-04-14 00:00:00\",\"2019-04-14 00:00:00\",\"2019-04-14 00:00:00\",\"2019-04-14 00:00:00\",\"2019-04-21 00:00:00\",\"2019-04-21 00:00:00\",\"2019-04-21 00:00:00\",\"2019-04-21 00:00:00\",\"2019-04-28 00:00:00\",\"2019-04-28 00:00:00\",\"2019-04-28 00:00:00\",\"2019-04-28 00:00:00\",\"2019-05-05 00:00:00\",\"2019-05-05 00:00:00\",\"2019-05-05 00:00:00\",\"2019-05-05 00:00:00\",\"2019-05-12 00:00:00\",\"2019-05-12 00:00:00\",\"2019-05-12 00:00:00\",\"2019-05-12 00:00:00\",\"2019-05-19 00:00:00\",\"2019-05-19 00:00:00\",\"2019-05-19 00:00:00\",\"2019-05-19 00:00:00\",\"2019-05-26 00:00:00\",\"2019-05-26 00:00:00\",\"2019-05-26 00:00:00\",\"2019-05-26 00:00:00\",\"2019-06-02 00:00:00\",\"2019-06-02 00:00:00\",\"2019-06-02 00:00:00\",\"2019-06-02 00:00:00\",\"2019-06-09 00:00:00\",\"2019-06-09 00:00:00\",\"2019-06-09 00:00:00\",\"2019-06-09 00:00:00\",\"2019-06-16 00:00:00\",\"2019-06-16 00:00:00\",\"2019-06-16 00:00:00\",\"2019-06-16 00:00:00\",\"2019-06-23 00:00:00\",\"2019-06-23 00:00:00\",\"2019-06-23 00:00:00\",\"2019-06-23 00:00:00\",\"2019-06-30 00:00:00\",\"2019-06-30 00:00:00\",\"2019-06-30 00:00:00\",\"2019-06-30 00:00:00\",\"2019-07-07 00:00:00\",\"2019-07-07 00:00:00\",\"2019-07-07 00:00:00\",\"2019-07-07 00:00:00\",\"2019-07-14 00:00:00\",\"2019-07-14 00:00:00\",\"2019-07-14 00:00:00\",\"2019-07-14 00:00:00\",\"2019-07-21 00:00:00\",\"2019-07-21 00:00:00\",\"2019-07-21 00:00:00\",\"2019-07-21 00:00:00\",\"2019-07-28 00:00:00\",\"2019-07-28 00:00:00\",\"2019-07-28 00:00:00\",\"2019-07-28 00:00:00\",\"2019-08-04 00:00:00\",\"2019-08-04 00:00:00\",\"2019-08-04 00:00:00\",\"2019-08-04 00:00:00\",\"2019-08-11 00:00:00\",\"2019-08-11 00:00:00\",\"2019-08-11 00:00:00\",\"2019-08-11 00:00:00\",\"2019-08-18 00:00:00\",\"2019-08-18 00:00:00\",\"2019-08-18 00:00:00\",\"2019-08-18 00:00:00\",\"2019-08-25 00:00:00\",\"2019-08-25 00:00:00\",\"2019-08-25 00:00:00\",\"2019-08-25 00:00:00\",\"2019-09-01 00:00:00\",\"2019-09-01 00:00:00\",\"2019-09-01 00:00:00\",\"2019-09-01 00:00:00\",\"2019-09-08 00:00:00\",\"2019-09-08 00:00:00\",\"2019-09-08 00:00:00\",\"2019-09-08 00:00:00\",\"2019-09-15 00:00:00\",\"2019-09-15 00:00:00\",\"2019-09-15 00:00:00\",\"2019-09-15 00:00:00\",\"2019-09-22 00:00:00\",\"2019-09-22 00:00:00\",\"2019-09-22 00:00:00\",\"2019-09-22 00:00:00\",\"2019-09-29 00:00:00\",\"2019-09-29 00:00:00\",\"2019-09-29 00:00:00\",\"2019-09-29 00:00:00\",\"2019-10-06 00:00:00\",\"2019-10-06 00:00:00\",\"2019-10-06 00:00:00\",\"2019-10-06 00:00:00\",\"2019-10-13 00:00:00\",\"2019-10-13 00:00:00\",\"2019-10-13 00:00:00\",\"2019-10-13 00:00:00\",\"2019-10-20 00:00:00\",\"2019-10-20 00:00:00\",\"2019-10-20 00:00:00\",\"2019-10-20 00:00:00\",\"2019-10-27 00:00:00\",\"2019-10-27 00:00:00\",\"2019-10-27 00:00:00\",\"2019-10-27 00:00:00\",\"2019-11-03 00:00:00\",\"2019-11-03 00:00:00\",\"2019-11-03 00:00:00\",\"2019-11-03 00:00:00\",\"2019-11-10 00:00:00\",\"2019-11-10 00:00:00\",\"2019-11-10 00:00:00\",\"2019-11-10 00:00:00\",\"2019-11-17 00:00:00\",\"2019-11-17 00:00:00\",\"2019-11-17 00:00:00\",\"2019-11-17 00:00:00\",\"2019-11-24 00:00:00\",\"2019-11-24 00:00:00\",\"2019-11-24 00:00:00\",\"2019-11-24 00:00:00\",\"2019-12-01 00:00:00\",\"2019-12-01 00:00:00\",\"2019-12-01 00:00:00\",\"2019-12-01 00:00:00\",\"2019-12-08 00:00:00\",\"2019-12-08 00:00:00\",\"2019-12-08 00:00:00\",\"2019-12-08 00:00:00\",\"2019-12-15 00:00:00\",\"2019-12-15 00:00:00\",\"2019-12-15 00:00:00\",\"2019-12-15 00:00:00\",\"2019-12-22 00:00:00\",\"2019-12-22 00:00:00\",\"2019-12-22 00:00:00\",\"2019-12-22 00:00:00\",\"2019-12-29 00:00:00\",\"2019-12-29 00:00:00\",\"2019-12-29 00:00:00\",\"2019-12-29 00:00:00\",\"2020-01-05 00:00:00\",\"2020-01-05 00:00:00\",\"2020-01-05 00:00:00\",\"2020-01-05 00:00:00\",\"2020-01-12 00:00:00\",\"2020-01-12 00:00:00\",\"2020-01-12 00:00:00\",\"2020-01-12 00:00:00\",\"2020-01-19 00:00:00\",\"2020-01-19 00:00:00\",\"2020-01-19 00:00:00\",\"2020-01-19 00:00:00\",\"2020-01-26 00:00:00\",\"2020-01-26 00:00:00\",\"2020-01-26 00:00:00\",\"2020-01-26 00:00:00\",\"2020-02-02 00:00:00\",\"2020-02-02 00:00:00\",\"2020-02-02 00:00:00\",\"2020-02-02 00:00:00\",\"2020-02-09 00:00:00\",\"2020-02-09 00:00:00\",\"2020-02-09 00:00:00\",\"2020-02-09 00:00:00\",\"2020-02-16 00:00:00\",\"2020-02-16 00:00:00\",\"2020-02-16 00:00:00\",\"2020-02-16 00:00:00\",\"2020-02-23 00:00:00\",\"2020-02-23 00:00:00\",\"2020-02-23 00:00:00\",\"2020-02-23 00:00:00\",\"2020-03-01 00:00:00\",\"2020-03-01 00:00:00\",\"2020-03-01 00:00:00\",\"2020-03-01 00:00:00\",\"2020-03-08 00:00:00\",\"2020-03-08 00:00:00\",\"2020-03-08 00:00:00\",\"2020-03-08 00:00:00\",\"2020-03-15 00:00:00\",\"2020-03-15 00:00:00\",\"2020-03-15 00:00:00\",\"2020-03-15 00:00:00\",\"2020-03-22 00:00:00\",\"2020-03-22 00:00:00\",\"2020-03-22 00:00:00\",\"2020-03-22 00:00:00\",\"2020-03-29 00:00:00\",\"2020-03-29 00:00:00\",\"2020-03-29 00:00:00\",\"2020-03-29 00:00:00\",\"2020-04-05 00:00:00\",\"2020-04-05 00:00:00\",\"2020-04-05 00:00:00\",\"2020-04-05 00:00:00\",\"2020-04-12 00:00:00\",\"2020-04-12 00:00:00\",\"2020-04-12 00:00:00\",\"2020-04-12 00:00:00\",\"2020-04-19 00:00:00\",\"2020-04-19 00:00:00\",\"2020-04-19 00:00:00\",\"2020-04-19 00:00:00\",\"2020-04-26 00:00:00\",\"2020-04-26 00:00:00\",\"2020-04-26 00:00:00\",\"2020-04-26 00:00:00\",\"2020-05-03 00:00:00\",\"2020-05-03 00:00:00\",\"2020-05-03 00:00:00\",\"2020-05-03 00:00:00\",\"2020-05-10 00:00:00\",\"2020-05-10 00:00:00\",\"2020-05-10 00:00:00\",\"2020-05-10 00:00:00\",\"2020-05-17 00:00:00\",\"2020-05-17 00:00:00\",\"2020-05-17 00:00:00\",\"2020-05-17 00:00:00\",\"2020-05-24 00:00:00\",\"2020-05-24 00:00:00\",\"2020-05-24 00:00:00\",\"2020-05-24 00:00:00\",\"2020-05-31 00:00:00\",\"2020-05-31 00:00:00\",\"2020-05-31 00:00:00\",\"2020-05-31 00:00:00\",\"2020-06-07 00:00:00\",\"2020-06-07 00:00:00\",\"2020-06-07 00:00:00\",\"2020-06-07 00:00:00\",\"2020-06-14 00:00:00\",\"2020-06-14 00:00:00\",\"2020-06-14 00:00:00\",\"2020-06-14 00:00:00\",\"2020-06-21 00:00:00\",\"2020-06-21 00:00:00\",\"2020-06-21 00:00:00\",\"2020-06-21 00:00:00\",\"2020-06-28 00:00:00\",\"2020-06-28 00:00:00\",\"2020-06-28 00:00:00\",\"2020-06-28 00:00:00\",\"2020-07-05 00:00:00\",\"2020-07-05 00:00:00\",\"2020-07-05 00:00:00\",\"2020-07-05 00:00:00\",\"2020-07-12 00:00:00\",\"2020-07-12 00:00:00\",\"2020-07-12 00:00:00\",\"2020-07-12 00:00:00\",\"2020-07-19 00:00:00\",\"2020-07-19 00:00:00\",\"2020-07-19 00:00:00\",\"2020-07-19 00:00:00\",\"2020-07-26 00:00:00\",\"2020-07-26 00:00:00\",\"2020-07-26 00:00:00\",\"2020-07-26 00:00:00\",\"2020-08-02 00:00:00\",\"2020-08-02 00:00:00\",\"2020-08-02 00:00:00\",\"2020-08-02 00:00:00\",\"2020-08-09 00:00:00\",\"2020-08-09 00:00:00\",\"2020-08-09 00:00:00\",\"2020-08-09 00:00:00\",\"2020-08-16 00:00:00\",\"2020-08-16 00:00:00\",\"2020-08-16 00:00:00\",\"2020-08-16 00:00:00\",\"2020-08-23 00:00:00\",\"2020-08-23 00:00:00\",\"2020-08-23 00:00:00\",\"2020-08-23 00:00:00\",\"2020-08-30 00:00:00\",\"2020-08-30 00:00:00\",\"2020-08-30 00:00:00\",\"2020-08-30 00:00:00\",\"2020-09-06 00:00:00\",\"2020-09-06 00:00:00\",\"2020-09-06 00:00:00\",\"2020-09-06 00:00:00\",\"2020-09-13 00:00:00\",\"2020-09-13 00:00:00\",\"2020-09-13 00:00:00\",\"2020-09-13 00:00:00\",\"2020-09-20 00:00:00\",\"2020-09-20 00:00:00\",\"2020-09-20 00:00:00\",\"2020-09-20 00:00:00\",\"2020-09-27 00:00:00\",\"2020-09-27 00:00:00\",\"2020-09-27 00:00:00\",\"2020-09-27 00:00:00\",\"2020-10-04 00:00:00\",\"2020-10-04 00:00:00\",\"2020-10-04 00:00:00\",\"2020-10-04 00:00:00\",\"2020-10-11 00:00:00\",\"2020-10-11 00:00:00\",\"2020-10-11 00:00:00\",\"2020-10-11 00:00:00\",\"2020-10-18 00:00:00\",\"2020-10-18 00:00:00\",\"2020-10-18 00:00:00\",\"2020-10-18 00:00:00\",\"2020-10-25 00:00:00\",\"2020-10-25 00:00:00\",\"2020-10-25 00:00:00\",\"2020-10-25 00:00:00\",\"2020-11-01 00:00:00\",\"2020-11-01 00:00:00\",\"2020-11-01 00:00:00\",\"2020-11-01 00:00:00\",\"2020-11-08 00:00:00\",\"2020-11-08 00:00:00\",\"2020-11-08 00:00:00\",\"2020-11-08 00:00:00\",\"2020-11-15 00:00:00\",\"2020-11-15 00:00:00\",\"2020-11-15 00:00:00\",\"2020-11-15 00:00:00\"],\"xaxis\":\"x\",\"y\":[0.8506966925281619,0.8506966925281619,0.8506966925281619,0.8506966925281619,0.7603571839965731,0.7603571839965731,0.7603571839965731,0.7807266090424902,0.7807266090424902,0.7807266090424902,0.7568025391727874,0.7568025391727874,0.7568025391727874,0.739195939029973,0.739195939029973,0.739195939029973,0.6941825430893434,0.6941825430893434,0.6941825430893434,0.6648371414155752,0.6648371414155752,0.6648371414155752,0.602266990111311,0.602266990111311,0.602266990111311,0.6454393335295251,0.6454393335295251,0.6454393335295251,0.0,0.0,0.6019716597946714,0.6019716597946714,0.39343896475272333,0.39343896475272333,0.6019716597946714,0.3831977614800278,0.3831977614800278,0.0,0.0,0.0,0.0,0.41204578346441006,0.41204578346441006,0.0,0.0,0.35963221798628164,0.35963221798628164,0.0,0.37695399081949776,0.0,0.37695399081949776,0.16116241245341603,0.16116241245341603,0.0,0.0,0.16034923048451308,0.0,0.16034923048451308,0.0,0.0,0.0,0.19453990072868407,0.19453990072868407,0.14165601415558146,0.0,0.14165601415558146,0.0,0.13641269942001516,0.13641269942001516,0.0,0.0,0.0,0.13543419893349962,0.0,0.13543419893349962,0.0,0.0,0.15587500882388475,0.15587500882388475,0.0,0.1499087667731444,0.0,0.1499087667731444,0.1442291322026873,0.1442291322026873,0.0,0.0,0.1353974087393432,0.0,0.0,0.1353974087393432,0.0,0.0,0.11285659083089944,0.11285659083089944,0.1626737773649716,0.1626737773649716,0.0,0.0,0.19849199832740516,0.19849199832740516,0.0,0.0,0.24025687946304408,0.0,0.0,0.24025687946304408,0.19860325899521689,0.0,0.0,0.19860325899521689,0.2571661274095254,0.0,0.0,0.2571661274095254,0.0,0.2345318505401197,0.0,0.2345318505401197,0.1431144486587701,0.0,0.0,0.1431144486587701,0.11336779651260537,0.0,0.0,0.11336779651260537,0.0,0.0,0.14651546475244143,0.14651546475244143,0.0,0.0,0.14107852678537114,0.14107852678537114,0.1486264504897241,0.1486264504897241,0.0,0.0,0.19145884064612806,0.0,0.19145884064612806,0.0,0.2034393893561035,0.0,0.2034393893561035,0.0,0.0,0.0,0.19847746026681107,0.19847746026681107,0.0,0.0,0.19495420578610378,0.19495420578610378,0.338639495844527,0.0,0.0,0.338639495844527,0.0,0.0,0.33801910636080834,0.33801910636080834,0.338639495844527,0.0,0.338639495844527,0.0,0.31004016370483767,0.0,0.31004016370483767,0.0,0.0,0.0,0.2876580776824721,0.2876580776824721,0.242753568848741,0.0,0.0,0.242753568848741,0.18710810349201515,0.18710810349201515,0.0,0.0,0.14844042265314278,0.0,0.14844042265314278,0.0,0.2755736856825391,0.0,0.2755736856825391,0.0,0.6791950487363304,0.6791950487363304,0.0,0.0,0.6911153683381304,0.0,0.6911153683381304,0.0,0.701577134758696,0.0,0.701577134758696,0.0,0.7109607111343867,0.7109607111343867,0.0,0.0,0.7432501307074569,0.0,0.0,0.7432501307074569,0.744677186293093,0.0,0.744677186293093,0.0,0.0,0.7760656644310131,0.0,0.7760656644310131,0.0,0.0,0.7621103978111894,0.7621103978111894,0.7591900684920807,0.0,0.0,0.7591900684920807,0.6362999817370592,0.6362999817370592,0.0,0.0,0.6250473003159086,0.0,0.0,0.6250473003159086,0.6228712641748453,0.0,0.6228712641748453,0.0,0.5922572238624197,0.0,0.0,0.5922572238624197,0.0,0.0,1.147307767801893,1.147307767801893,0.0,1.1902067660114273,1.1902067660114273,0.0,1.2219147212097783,1.2219147212097783,0.0,0.0,1.1404687970728369,1.1404687970728369,0.0,0.0,0.9468015805182017,0.9468015805182017,0.0,0.0,0.0,0.9617229711997786,0.0,0.9617229711997786,0.0,0.9592360727528491,0.0,0.9592360727528491,0.8728581857331459,0.0,0.8728581857331459,0.0,0.0,0.0,0.8744671377600969,0.8744671377600969,0.0,0.0,0.7663632820909829,0.7663632820909829,0.0,0.0,0.7202174997979577,0.7202174997979577,0.0,0.7710607569351833,0.7710607569351833,0.0,0.0,0.7630474174950769,0.7630474174950769,0.0,0.77655457006566,0.77655457006566,0.0,0.0,0.0,0.9313828101472388,0.9313828101472388,0.0,0.8772903656960973,0.0,0.8772903656960973,0.0,0.0,0.9336511036340516,0.0,0.9336511036340516,0.8062677859624371,0.8062677859624371,0.0,0.0,0.0,0.7446167367828327,0.0,0.7446167367828327,0.0,0.0,0.8093051131851652,0.8093051131851652,0.0,0.0,0.7693064580641493,0.7693064580641493,0.7172229362310177,0.0,0.7172229362310177,0.0,1.0427958605696805,0.0,1.0427958605696805,0.0,0.0,1.0102641313868506,0.0,1.0102641313868506,0.0,1.030361368335033,0.0,1.030361368335033,1.036329924607664,1.036329924607664,0.0,0.0,0.0,0.0,1.1666434032267698,1.1666434032267698,1.1688816118290066,0.0,0.0,1.1688816118290066,1.2066824682223352,0.0,0.0,1.2066824682223352,0.0,0.0,1.151722012545193,1.151722012545193,1.1895228689385215,0.0,0.0,1.1895228689385215,0.0,1.2211064792145263,0.0,1.2211064792145263,1.3101374436146025,0.0,1.3101374436146025,0.0,1.2763156247363612,0.0,0.0,1.2763156247363612,1.1952427353664594,0.0,1.1952427353664594,0.0,1.191263697851372,0.0,0.0,1.191263697851372,1.1390900871513998,0.0,1.1390900871513998,0.0],\"yaxis\":\"y\",\"type\":\"scatter\"}],                        {\"template\":{\"data\":{\"histogram2dcontour\":[{\"type\":\"histogram2dcontour\",\"colorbar\":{\"outlinewidth\":0,\"ticks\":\"\"},\"colorscale\":[[0.0,\"#0d0887\"],[0.1111111111111111,\"#46039f\"],[0.2222222222222222,\"#7201a8\"],[0.3333333333333333,\"#9c179e\"],[0.4444444444444444,\"#bd3786\"],[0.5555555555555556,\"#d8576b\"],[0.6666666666666666,\"#ed7953\"],[0.7777777777777778,\"#fb9f3a\"],[0.8888888888888888,\"#fdca26\"],[1.0,\"#f0f921\"]]}],\"choropleth\":[{\"type\":\"choropleth\",\"colorbar\":{\"outlinewidth\":0,\"ticks\":\"\"}}],\"histogram2d\":[{\"type\":\"histogram2d\",\"colorbar\":{\"outlinewidth\":0,\"ticks\":\"\"},\"colorscale\":[[0.0,\"#0d0887\"],[0.1111111111111111,\"#46039f\"],[0.2222222222222222,\"#7201a8\"],[0.3333333333333333,\"#9c179e\"],[0.4444444444444444,\"#bd3786\"],[0.5555555555555556,\"#d8576b\"],[0.6666666666666666,\"#ed7953\"],[0.7777777777777778,\"#fb9f3a\"],[0.8888888888888888,\"#fdca26\"],[1.0,\"#f0f921\"]]}],\"heatmap\":[{\"type\":\"heatmap\",\"colorbar\":{\"outlinewidth\":0,\"ticks\":\"\"},\"colorscale\":[[0.0,\"#0d0887\"],[0.1111111111111111,\"#46039f\"],[0.2222222222222222,\"#7201a8\"],[0.3333333333333333,\"#9c179e\"],[0.4444444444444444,\"#bd3786\"],[0.5555555555555556,\"#d8576b\"],[0.6666666666666666,\"#ed7953\"],[0.7777777777777778,\"#fb9f3a\"],[0.8888888888888888,\"#fdca26\"],[1.0,\"#f0f921\"]]}],\"heatmapgl\":[{\"type\":\"heatmapgl\",\"colorbar\":{\"outlinewidth\":0,\"ticks\":\"\"},\"colorscale\":[[0.0,\"#0d0887\"],[0.1111111111111111,\"#46039f\"],[0.2222222222222222,\"#7201a8\"],[0.3333333333333333,\"#9c179e\"],[0.4444444444444444,\"#bd3786\"],[0.5555555555555556,\"#d8576b\"],[0.6666666666666666,\"#ed7953\"],[0.7777777777777778,\"#fb9f3a\"],[0.8888888888888888,\"#fdca26\"],[1.0,\"#f0f921\"]]}],\"contourcarpet\":[{\"type\":\"contourcarpet\",\"colorbar\":{\"outlinewidth\":0,\"ticks\":\"\"}}],\"contour\":[{\"type\":\"contour\",\"colorbar\":{\"outlinewidth\":0,\"ticks\":\"\"},\"colorscale\":[[0.0,\"#0d0887\"],[0.1111111111111111,\"#46039f\"],[0.2222222222222222,\"#7201a8\"],[0.3333333333333333,\"#9c179e\"],[0.4444444444444444,\"#bd3786\"],[0.5555555555555556,\"#d8576b\"],[0.6666666666666666,\"#ed7953\"],[0.7777777777777778,\"#fb9f3a\"],[0.8888888888888888,\"#fdca26\"],[1.0,\"#f0f921\"]]}],\"surface\":[{\"type\":\"surface\",\"colorbar\":{\"outlinewidth\":0,\"ticks\":\"\"},\"colorscale\":[[0.0,\"#0d0887\"],[0.1111111111111111,\"#46039f\"],[0.2222222222222222,\"#7201a8\"],[0.3333333333333333,\"#9c179e\"],[0.4444444444444444,\"#bd3786\"],[0.5555555555555556,\"#d8576b\"],[0.6666666666666666,\"#ed7953\"],[0.7777777777777778,\"#fb9f3a\"],[0.8888888888888888,\"#fdca26\"],[1.0,\"#f0f921\"]]}],\"mesh3d\":[{\"type\":\"mesh3d\",\"colorbar\":{\"outlinewidth\":0,\"ticks\":\"\"}}],\"scatter\":[{\"fillpattern\":{\"fillmode\":\"overlay\",\"size\":10,\"solidity\":0.2},\"type\":\"scatter\"}],\"parcoords\":[{\"type\":\"parcoords\",\"line\":{\"colorbar\":{\"outlinewidth\":0,\"ticks\":\"\"}}}],\"scatterpolargl\":[{\"type\":\"scatterpolargl\",\"marker\":{\"colorbar\":{\"outlinewidth\":0,\"ticks\":\"\"}}}],\"bar\":[{\"error_x\":{\"color\":\"#2a3f5f\"},\"error_y\":{\"color\":\"#2a3f5f\"},\"marker\":{\"line\":{\"color\":\"#E5ECF6\",\"width\":0.5},\"pattern\":{\"fillmode\":\"overlay\",\"size\":10,\"solidity\":0.2}},\"type\":\"bar\"}],\"scattergeo\":[{\"type\":\"scattergeo\",\"marker\":{\"colorbar\":{\"outlinewidth\":0,\"ticks\":\"\"}}}],\"scatterpolar\":[{\"type\":\"scatterpolar\",\"marker\":{\"colorbar\":{\"outlinewidth\":0,\"ticks\":\"\"}}}],\"histogram\":[{\"marker\":{\"pattern\":{\"fillmode\":\"overlay\",\"size\":10,\"solidity\":0.2}},\"type\":\"histogram\"}],\"scattergl\":[{\"type\":\"scattergl\",\"marker\":{\"colorbar\":{\"outlinewidth\":0,\"ticks\":\"\"}}}],\"scatter3d\":[{\"type\":\"scatter3d\",\"line\":{\"colorbar\":{\"outlinewidth\":0,\"ticks\":\"\"}},\"marker\":{\"colorbar\":{\"outlinewidth\":0,\"ticks\":\"\"}}}],\"scattermapbox\":[{\"type\":\"scattermapbox\",\"marker\":{\"colorbar\":{\"outlinewidth\":0,\"ticks\":\"\"}}}],\"scatterternary\":[{\"type\":\"scatterternary\",\"marker\":{\"colorbar\":{\"outlinewidth\":0,\"ticks\":\"\"}}}],\"scattercarpet\":[{\"type\":\"scattercarpet\",\"marker\":{\"colorbar\":{\"outlinewidth\":0,\"ticks\":\"\"}}}],\"carpet\":[{\"aaxis\":{\"endlinecolor\":\"#2a3f5f\",\"gridcolor\":\"white\",\"linecolor\":\"white\",\"minorgridcolor\":\"white\",\"startlinecolor\":\"#2a3f5f\"},\"baxis\":{\"endlinecolor\":\"#2a3f5f\",\"gridcolor\":\"white\",\"linecolor\":\"white\",\"minorgridcolor\":\"white\",\"startlinecolor\":\"#2a3f5f\"},\"type\":\"carpet\"}],\"table\":[{\"cells\":{\"fill\":{\"color\":\"#EBF0F8\"},\"line\":{\"color\":\"white\"}},\"header\":{\"fill\":{\"color\":\"#C8D4E3\"},\"line\":{\"color\":\"white\"}},\"type\":\"table\"}],\"barpolar\":[{\"marker\":{\"line\":{\"color\":\"#E5ECF6\",\"width\":0.5},\"pattern\":{\"fillmode\":\"overlay\",\"size\":10,\"solidity\":0.2}},\"type\":\"barpolar\"}],\"pie\":[{\"automargin\":true,\"type\":\"pie\"}]},\"layout\":{\"autotypenumbers\":\"strict\",\"colorway\":[\"#636efa\",\"#EF553B\",\"#00cc96\",\"#ab63fa\",\"#FFA15A\",\"#19d3f3\",\"#FF6692\",\"#B6E880\",\"#FF97FF\",\"#FECB52\"],\"font\":{\"color\":\"#2a3f5f\"},\"hovermode\":\"closest\",\"hoverlabel\":{\"align\":\"left\"},\"paper_bgcolor\":\"white\",\"plot_bgcolor\":\"#E5ECF6\",\"polar\":{\"bgcolor\":\"#E5ECF6\",\"angularaxis\":{\"gridcolor\":\"white\",\"linecolor\":\"white\",\"ticks\":\"\"},\"radialaxis\":{\"gridcolor\":\"white\",\"linecolor\":\"white\",\"ticks\":\"\"}},\"ternary\":{\"bgcolor\":\"#E5ECF6\",\"aaxis\":{\"gridcolor\":\"white\",\"linecolor\":\"white\",\"ticks\":\"\"},\"baxis\":{\"gridcolor\":\"white\",\"linecolor\":\"white\",\"ticks\":\"\"},\"caxis\":{\"gridcolor\":\"white\",\"linecolor\":\"white\",\"ticks\":\"\"}},\"coloraxis\":{\"colorbar\":{\"outlinewidth\":0,\"ticks\":\"\"}},\"colorscale\":{\"sequential\":[[0.0,\"#0d0887\"],[0.1111111111111111,\"#46039f\"],[0.2222222222222222,\"#7201a8\"],[0.3333333333333333,\"#9c179e\"],[0.4444444444444444,\"#bd3786\"],[0.5555555555555556,\"#d8576b\"],[0.6666666666666666,\"#ed7953\"],[0.7777777777777778,\"#fb9f3a\"],[0.8888888888888888,\"#fdca26\"],[1.0,\"#f0f921\"]],\"sequentialminus\":[[0.0,\"#0d0887\"],[0.1111111111111111,\"#46039f\"],[0.2222222222222222,\"#7201a8\"],[0.3333333333333333,\"#9c179e\"],[0.4444444444444444,\"#bd3786\"],[0.5555555555555556,\"#d8576b\"],[0.6666666666666666,\"#ed7953\"],[0.7777777777777778,\"#fb9f3a\"],[0.8888888888888888,\"#fdca26\"],[1.0,\"#f0f921\"]],\"diverging\":[[0,\"#8e0152\"],[0.1,\"#c51b7d\"],[0.2,\"#de77ae\"],[0.3,\"#f1b6da\"],[0.4,\"#fde0ef\"],[0.5,\"#f7f7f7\"],[0.6,\"#e6f5d0\"],[0.7,\"#b8e186\"],[0.8,\"#7fbc41\"],[0.9,\"#4d9221\"],[1,\"#276419\"]]},\"xaxis\":{\"gridcolor\":\"white\",\"linecolor\":\"white\",\"ticks\":\"\",\"title\":{\"standoff\":15},\"zerolinecolor\":\"white\",\"automargin\":true,\"zerolinewidth\":2},\"yaxis\":{\"gridcolor\":\"white\",\"linecolor\":\"white\",\"ticks\":\"\",\"title\":{\"standoff\":15},\"zerolinecolor\":\"white\",\"automargin\":true,\"zerolinewidth\":2},\"scene\":{\"xaxis\":{\"backgroundcolor\":\"#E5ECF6\",\"gridcolor\":\"white\",\"linecolor\":\"white\",\"showbackground\":true,\"ticks\":\"\",\"zerolinecolor\":\"white\",\"gridwidth\":2},\"yaxis\":{\"backgroundcolor\":\"#E5ECF6\",\"gridcolor\":\"white\",\"linecolor\":\"white\",\"showbackground\":true,\"ticks\":\"\",\"zerolinecolor\":\"white\",\"gridwidth\":2},\"zaxis\":{\"backgroundcolor\":\"#E5ECF6\",\"gridcolor\":\"white\",\"linecolor\":\"white\",\"showbackground\":true,\"ticks\":\"\",\"zerolinecolor\":\"white\",\"gridwidth\":2}},\"shapedefaults\":{\"line\":{\"color\":\"#2a3f5f\"}},\"annotationdefaults\":{\"arrowcolor\":\"#2a3f5f\",\"arrowhead\":0,\"arrowwidth\":1},\"geo\":{\"bgcolor\":\"white\",\"landcolor\":\"#E5ECF6\",\"subunitcolor\":\"white\",\"showland\":true,\"showlakes\":true,\"lakecolor\":\"white\"},\"title\":{\"x\":0.05},\"mapbox\":{\"style\":\"light\"}}},\"xaxis\":{\"anchor\":\"y\",\"domain\":[0.0,1.0],\"title\":{\"text\":\"params.week_end_experiment_end_date\"}},\"yaxis\":{\"anchor\":\"x\",\"domain\":[0.0,1.0],\"title\":{\"text\":\"params.daily_dispatch_count_target_drift_score\"}},\"legend\":{\"tracegroupgap\":0},\"margin\":{\"t\":60}},                        {\"responsive\": true}                    ).then(function(){\n",
       "                            \n",
       "var gd = document.getElementById('6ec5c0d3-8525-405d-ac19-6485f91c1282');\n",
       "var x = new MutationObserver(function (mutations, observer) {{\n",
       "        var display = window.getComputedStyle(gd).display;\n",
       "        if (!display || display === 'none') {{\n",
       "            console.log([gd, 'removed!']);\n",
       "            Plotly.purge(gd);\n",
       "            observer.disconnect();\n",
       "        }}\n",
       "}});\n",
       "\n",
       "// Listen for the removal of the full notebook cells\n",
       "var notebookContainer = gd.closest('#notebook-container');\n",
       "if (notebookContainer) {{\n",
       "    x.observe(notebookContainer, {childList: true});\n",
       "}}\n",
       "\n",
       "// Listen for the clearing of the current output cell\n",
       "var outputEl = gd.closest('.output');\n",
       "if (outputEl) {{\n",
       "    x.observe(outputEl, {childList: true});\n",
       "}}\n",
       "\n",
       "                        })                };                });            </script>        </div>"
      ]
     },
     "metadata": {},
     "output_type": "display_data"
    }
   ],
   "source": [
    "fig = px.line(drift_detected_experiment_results,  y='params.daily_dispatch_count_target_drift_score', markers=True)\n",
    "fig.show()"
   ]
  },
  {
   "cell_type": "code",
   "execution_count": 689,
   "id": "4fd2eb80",
   "metadata": {},
   "outputs": [
    {
     "data": {
      "application/vnd.plotly.v1+json": {
       "config": {
        "plotlyServerURL": "https://plot.ly"
       },
       "data": [
        {
         "hovertemplate": "params.week_end_experiment_end_date=%{x}<br>params.Product_Type.value_feature_importance_weighted_drift_detected=%{y}<extra></extra>",
         "legendgroup": "",
         "line": {
          "color": "#636efa",
          "dash": "solid"
         },
         "marker": {
          "symbol": "circle"
         },
         "mode": "lines+markers",
         "name": "",
         "orientation": "v",
         "showlegend": false,
         "type": "scatter",
         "x": [
          "2018-12-30 00:00:00",
          "2018-12-30 00:00:00",
          "2018-12-30 00:00:00",
          "2018-12-30 00:00:00",
          "2019-01-06 00:00:00",
          "2019-01-06 00:00:00",
          "2019-01-06 00:00:00",
          "2019-01-13 00:00:00",
          "2019-01-13 00:00:00",
          "2019-01-13 00:00:00",
          "2019-01-20 00:00:00",
          "2019-01-20 00:00:00",
          "2019-01-20 00:00:00",
          "2019-01-27 00:00:00",
          "2019-01-27 00:00:00",
          "2019-01-27 00:00:00",
          "2019-02-03 00:00:00",
          "2019-02-03 00:00:00",
          "2019-02-03 00:00:00",
          "2019-02-10 00:00:00",
          "2019-02-10 00:00:00",
          "2019-02-10 00:00:00",
          "2019-02-17 00:00:00",
          "2019-02-17 00:00:00",
          "2019-02-17 00:00:00",
          "2019-02-24 00:00:00",
          "2019-02-24 00:00:00",
          "2019-02-24 00:00:00",
          "2019-03-03 00:00:00",
          "2019-03-03 00:00:00",
          "2019-03-03 00:00:00",
          "2019-03-03 00:00:00",
          "2019-03-03 00:00:00",
          "2019-03-03 00:00:00",
          "2019-03-03 00:00:00",
          "2019-03-10 00:00:00",
          "2019-03-10 00:00:00",
          "2019-03-10 00:00:00",
          "2019-03-10 00:00:00",
          "2019-03-17 00:00:00",
          "2019-03-17 00:00:00",
          "2019-03-17 00:00:00",
          "2019-03-17 00:00:00",
          "2019-03-24 00:00:00",
          "2019-03-24 00:00:00",
          "2019-03-24 00:00:00",
          "2019-03-24 00:00:00",
          "2019-03-31 00:00:00",
          "2019-03-31 00:00:00",
          "2019-03-31 00:00:00",
          "2019-03-31 00:00:00",
          "2019-04-07 00:00:00",
          "2019-04-07 00:00:00",
          "2019-04-07 00:00:00",
          "2019-04-07 00:00:00",
          "2019-04-14 00:00:00",
          "2019-04-14 00:00:00",
          "2019-04-14 00:00:00",
          "2019-04-14 00:00:00",
          "2019-04-21 00:00:00",
          "2019-04-21 00:00:00",
          "2019-04-21 00:00:00",
          "2019-04-21 00:00:00",
          "2019-04-28 00:00:00",
          "2019-04-28 00:00:00",
          "2019-04-28 00:00:00",
          "2019-04-28 00:00:00",
          "2019-05-05 00:00:00",
          "2019-05-05 00:00:00",
          "2019-05-05 00:00:00",
          "2019-05-05 00:00:00",
          "2019-05-12 00:00:00",
          "2019-05-12 00:00:00",
          "2019-05-12 00:00:00",
          "2019-05-12 00:00:00",
          "2019-05-19 00:00:00",
          "2019-05-19 00:00:00",
          "2019-05-19 00:00:00",
          "2019-05-19 00:00:00",
          "2019-05-26 00:00:00",
          "2019-05-26 00:00:00",
          "2019-05-26 00:00:00",
          "2019-05-26 00:00:00",
          "2019-06-02 00:00:00",
          "2019-06-02 00:00:00",
          "2019-06-02 00:00:00",
          "2019-06-02 00:00:00",
          "2019-06-09 00:00:00",
          "2019-06-09 00:00:00",
          "2019-06-09 00:00:00",
          "2019-06-09 00:00:00",
          "2019-06-16 00:00:00",
          "2019-06-16 00:00:00",
          "2019-06-16 00:00:00",
          "2019-06-16 00:00:00",
          "2019-06-23 00:00:00",
          "2019-06-23 00:00:00",
          "2019-06-23 00:00:00",
          "2019-06-23 00:00:00",
          "2019-06-30 00:00:00",
          "2019-06-30 00:00:00",
          "2019-06-30 00:00:00",
          "2019-06-30 00:00:00",
          "2019-07-07 00:00:00",
          "2019-07-07 00:00:00",
          "2019-07-07 00:00:00",
          "2019-07-07 00:00:00",
          "2019-07-14 00:00:00",
          "2019-07-14 00:00:00",
          "2019-07-14 00:00:00",
          "2019-07-14 00:00:00",
          "2019-07-21 00:00:00",
          "2019-07-21 00:00:00",
          "2019-07-21 00:00:00",
          "2019-07-21 00:00:00",
          "2019-07-28 00:00:00",
          "2019-07-28 00:00:00",
          "2019-07-28 00:00:00",
          "2019-07-28 00:00:00",
          "2019-08-04 00:00:00",
          "2019-08-04 00:00:00",
          "2019-08-04 00:00:00",
          "2019-08-04 00:00:00",
          "2019-08-11 00:00:00",
          "2019-08-11 00:00:00",
          "2019-08-11 00:00:00",
          "2019-08-11 00:00:00",
          "2019-08-18 00:00:00",
          "2019-08-18 00:00:00",
          "2019-08-18 00:00:00",
          "2019-08-18 00:00:00",
          "2019-08-25 00:00:00",
          "2019-08-25 00:00:00",
          "2019-08-25 00:00:00",
          "2019-08-25 00:00:00",
          "2019-09-01 00:00:00",
          "2019-09-01 00:00:00",
          "2019-09-01 00:00:00",
          "2019-09-01 00:00:00",
          "2019-09-08 00:00:00",
          "2019-09-08 00:00:00",
          "2019-09-08 00:00:00",
          "2019-09-08 00:00:00",
          "2019-09-15 00:00:00",
          "2019-09-15 00:00:00",
          "2019-09-15 00:00:00",
          "2019-09-15 00:00:00",
          "2019-09-22 00:00:00",
          "2019-09-22 00:00:00",
          "2019-09-22 00:00:00",
          "2019-09-22 00:00:00",
          "2019-09-29 00:00:00",
          "2019-09-29 00:00:00",
          "2019-09-29 00:00:00",
          "2019-09-29 00:00:00",
          "2019-10-06 00:00:00",
          "2019-10-06 00:00:00",
          "2019-10-06 00:00:00",
          "2019-10-06 00:00:00",
          "2019-10-13 00:00:00",
          "2019-10-13 00:00:00",
          "2019-10-13 00:00:00",
          "2019-10-13 00:00:00",
          "2019-10-20 00:00:00",
          "2019-10-20 00:00:00",
          "2019-10-20 00:00:00",
          "2019-10-20 00:00:00",
          "2019-10-27 00:00:00",
          "2019-10-27 00:00:00",
          "2019-10-27 00:00:00",
          "2019-10-27 00:00:00",
          "2019-11-03 00:00:00",
          "2019-11-03 00:00:00",
          "2019-11-03 00:00:00",
          "2019-11-03 00:00:00",
          "2019-11-10 00:00:00",
          "2019-11-10 00:00:00",
          "2019-11-10 00:00:00",
          "2019-11-10 00:00:00",
          "2019-11-17 00:00:00",
          "2019-11-17 00:00:00",
          "2019-11-17 00:00:00",
          "2019-11-17 00:00:00",
          "2019-11-24 00:00:00",
          "2019-11-24 00:00:00",
          "2019-11-24 00:00:00",
          "2019-11-24 00:00:00",
          "2019-12-01 00:00:00",
          "2019-12-01 00:00:00",
          "2019-12-01 00:00:00",
          "2019-12-01 00:00:00",
          "2019-12-08 00:00:00",
          "2019-12-08 00:00:00",
          "2019-12-08 00:00:00",
          "2019-12-08 00:00:00",
          "2019-12-15 00:00:00",
          "2019-12-15 00:00:00",
          "2019-12-15 00:00:00",
          "2019-12-15 00:00:00",
          "2019-12-22 00:00:00",
          "2019-12-22 00:00:00",
          "2019-12-22 00:00:00",
          "2019-12-22 00:00:00",
          "2019-12-29 00:00:00",
          "2019-12-29 00:00:00",
          "2019-12-29 00:00:00",
          "2019-12-29 00:00:00",
          "2020-01-05 00:00:00",
          "2020-01-05 00:00:00",
          "2020-01-05 00:00:00",
          "2020-01-05 00:00:00",
          "2020-01-12 00:00:00",
          "2020-01-12 00:00:00",
          "2020-01-12 00:00:00",
          "2020-01-12 00:00:00",
          "2020-01-19 00:00:00",
          "2020-01-19 00:00:00",
          "2020-01-19 00:00:00",
          "2020-01-19 00:00:00",
          "2020-01-26 00:00:00",
          "2020-01-26 00:00:00",
          "2020-01-26 00:00:00",
          "2020-01-26 00:00:00",
          "2020-02-02 00:00:00",
          "2020-02-02 00:00:00",
          "2020-02-02 00:00:00",
          "2020-02-02 00:00:00",
          "2020-02-09 00:00:00",
          "2020-02-09 00:00:00",
          "2020-02-09 00:00:00",
          "2020-02-09 00:00:00",
          "2020-02-16 00:00:00",
          "2020-02-16 00:00:00",
          "2020-02-16 00:00:00",
          "2020-02-16 00:00:00",
          "2020-02-23 00:00:00",
          "2020-02-23 00:00:00",
          "2020-02-23 00:00:00",
          "2020-02-23 00:00:00",
          "2020-03-01 00:00:00",
          "2020-03-01 00:00:00",
          "2020-03-01 00:00:00",
          "2020-03-01 00:00:00",
          "2020-03-08 00:00:00",
          "2020-03-08 00:00:00",
          "2020-03-08 00:00:00",
          "2020-03-08 00:00:00",
          "2020-03-15 00:00:00",
          "2020-03-15 00:00:00",
          "2020-03-15 00:00:00",
          "2020-03-15 00:00:00",
          "2020-03-22 00:00:00",
          "2020-03-22 00:00:00",
          "2020-03-22 00:00:00",
          "2020-03-22 00:00:00",
          "2020-03-29 00:00:00",
          "2020-03-29 00:00:00",
          "2020-03-29 00:00:00",
          "2020-03-29 00:00:00",
          "2020-04-05 00:00:00",
          "2020-04-05 00:00:00",
          "2020-04-05 00:00:00",
          "2020-04-05 00:00:00",
          "2020-04-12 00:00:00",
          "2020-04-12 00:00:00",
          "2020-04-12 00:00:00",
          "2020-04-12 00:00:00",
          "2020-04-19 00:00:00",
          "2020-04-19 00:00:00",
          "2020-04-19 00:00:00",
          "2020-04-19 00:00:00",
          "2020-04-26 00:00:00",
          "2020-04-26 00:00:00",
          "2020-04-26 00:00:00",
          "2020-04-26 00:00:00",
          "2020-05-03 00:00:00",
          "2020-05-03 00:00:00",
          "2020-05-03 00:00:00",
          "2020-05-03 00:00:00",
          "2020-05-10 00:00:00",
          "2020-05-10 00:00:00",
          "2020-05-10 00:00:00",
          "2020-05-10 00:00:00",
          "2020-05-17 00:00:00",
          "2020-05-17 00:00:00",
          "2020-05-17 00:00:00",
          "2020-05-17 00:00:00",
          "2020-05-24 00:00:00",
          "2020-05-24 00:00:00",
          "2020-05-24 00:00:00",
          "2020-05-24 00:00:00",
          "2020-05-31 00:00:00",
          "2020-05-31 00:00:00",
          "2020-05-31 00:00:00",
          "2020-05-31 00:00:00",
          "2020-06-07 00:00:00",
          "2020-06-07 00:00:00",
          "2020-06-07 00:00:00",
          "2020-06-07 00:00:00",
          "2020-06-14 00:00:00",
          "2020-06-14 00:00:00",
          "2020-06-14 00:00:00",
          "2020-06-14 00:00:00",
          "2020-06-21 00:00:00",
          "2020-06-21 00:00:00",
          "2020-06-21 00:00:00",
          "2020-06-21 00:00:00",
          "2020-06-28 00:00:00",
          "2020-06-28 00:00:00",
          "2020-06-28 00:00:00",
          "2020-06-28 00:00:00",
          "2020-07-05 00:00:00",
          "2020-07-05 00:00:00",
          "2020-07-05 00:00:00",
          "2020-07-05 00:00:00",
          "2020-07-12 00:00:00",
          "2020-07-12 00:00:00",
          "2020-07-12 00:00:00",
          "2020-07-12 00:00:00",
          "2020-07-19 00:00:00",
          "2020-07-19 00:00:00",
          "2020-07-19 00:00:00",
          "2020-07-19 00:00:00",
          "2020-07-26 00:00:00",
          "2020-07-26 00:00:00",
          "2020-07-26 00:00:00",
          "2020-07-26 00:00:00",
          "2020-08-02 00:00:00",
          "2020-08-02 00:00:00",
          "2020-08-02 00:00:00",
          "2020-08-02 00:00:00",
          "2020-08-09 00:00:00",
          "2020-08-09 00:00:00",
          "2020-08-09 00:00:00",
          "2020-08-09 00:00:00",
          "2020-08-16 00:00:00",
          "2020-08-16 00:00:00",
          "2020-08-16 00:00:00",
          "2020-08-16 00:00:00",
          "2020-08-23 00:00:00",
          "2020-08-23 00:00:00",
          "2020-08-23 00:00:00",
          "2020-08-23 00:00:00",
          "2020-08-30 00:00:00",
          "2020-08-30 00:00:00",
          "2020-08-30 00:00:00",
          "2020-08-30 00:00:00",
          "2020-09-06 00:00:00",
          "2020-09-06 00:00:00",
          "2020-09-06 00:00:00",
          "2020-09-06 00:00:00",
          "2020-09-13 00:00:00",
          "2020-09-13 00:00:00",
          "2020-09-13 00:00:00",
          "2020-09-13 00:00:00",
          "2020-09-20 00:00:00",
          "2020-09-20 00:00:00",
          "2020-09-20 00:00:00",
          "2020-09-20 00:00:00",
          "2020-09-27 00:00:00",
          "2020-09-27 00:00:00",
          "2020-09-27 00:00:00",
          "2020-09-27 00:00:00",
          "2020-10-04 00:00:00",
          "2020-10-04 00:00:00",
          "2020-10-04 00:00:00",
          "2020-10-04 00:00:00",
          "2020-10-11 00:00:00",
          "2020-10-11 00:00:00",
          "2020-10-11 00:00:00",
          "2020-10-11 00:00:00",
          "2020-10-18 00:00:00",
          "2020-10-18 00:00:00",
          "2020-10-18 00:00:00",
          "2020-10-18 00:00:00",
          "2020-10-25 00:00:00",
          "2020-10-25 00:00:00",
          "2020-10-25 00:00:00",
          "2020-10-25 00:00:00",
          "2020-11-01 00:00:00",
          "2020-11-01 00:00:00",
          "2020-11-01 00:00:00",
          "2020-11-01 00:00:00",
          "2020-11-08 00:00:00",
          "2020-11-08 00:00:00",
          "2020-11-08 00:00:00",
          "2020-11-08 00:00:00",
          "2020-11-15 00:00:00",
          "2020-11-15 00:00:00",
          "2020-11-15 00:00:00",
          "2020-11-15 00:00:00"
         ],
         "xaxis": "x",
         "y": [
          1,
          1,
          0,
          1,
          1,
          1,
          1,
          1,
          1,
          1,
          1,
          1,
          1,
          1,
          1,
          1,
          1,
          1,
          1,
          1,
          1,
          1,
          1,
          1,
          1,
          1,
          1,
          1,
          1,
          1,
          1,
          1,
          1,
          1,
          1,
          1,
          1,
          1,
          1,
          1,
          1,
          1,
          1,
          1,
          1,
          1,
          1,
          1,
          1,
          1,
          1,
          1,
          1,
          1,
          1,
          1,
          1,
          1,
          1,
          1,
          1,
          1,
          1,
          1,
          1,
          1,
          1,
          1,
          1,
          1,
          1,
          1,
          1,
          1,
          1,
          1,
          1,
          1,
          1,
          1,
          1,
          1,
          1,
          1,
          1,
          1,
          1,
          1,
          1,
          1,
          1,
          1,
          1,
          1,
          1,
          1,
          1,
          1,
          1,
          1,
          1,
          1,
          1,
          1,
          1,
          1,
          1,
          1,
          1,
          1,
          1,
          1,
          1,
          1,
          1,
          1,
          1,
          1,
          1,
          1,
          1,
          1,
          1,
          1,
          1,
          1,
          1,
          1,
          1,
          1,
          1,
          1,
          1,
          1,
          1,
          1,
          1,
          1,
          1,
          1,
          1,
          1,
          1,
          1,
          1,
          1,
          1,
          1,
          1,
          1,
          1,
          1,
          1,
          1,
          1,
          1,
          1,
          1,
          1,
          1,
          1,
          1,
          1,
          1,
          1,
          1,
          1,
          1,
          1,
          1,
          1,
          1,
          1,
          1,
          1,
          1,
          1,
          1,
          1,
          1,
          1,
          1,
          1,
          1,
          1,
          1,
          1,
          1,
          1,
          1,
          1,
          1,
          1,
          1,
          1,
          1,
          1,
          1,
          1,
          1,
          1,
          1,
          1,
          1,
          1,
          1,
          1,
          1,
          1,
          1,
          1,
          1,
          1,
          1,
          1,
          1,
          1,
          1,
          1,
          1,
          1,
          1,
          1,
          1,
          1,
          1,
          1,
          1,
          1,
          1,
          1,
          1,
          1,
          1,
          1,
          1,
          1,
          1,
          1,
          1,
          1,
          1,
          1,
          1,
          1,
          1,
          1,
          1,
          1,
          1,
          1,
          1,
          1,
          1,
          1,
          1,
          1,
          1,
          1,
          1,
          1,
          1,
          1,
          1,
          1,
          1,
          1,
          1,
          1,
          1,
          1,
          1,
          1,
          1,
          1,
          1,
          1,
          1,
          1,
          1,
          1,
          1,
          1,
          1,
          1,
          1,
          1,
          1,
          1,
          1,
          1,
          1,
          1,
          1,
          1,
          1,
          1,
          1,
          1,
          1,
          1,
          1,
          1,
          1,
          1,
          1,
          1,
          1,
          1,
          1,
          1,
          1,
          1,
          1,
          1,
          1,
          1,
          1,
          1,
          1,
          1,
          1,
          1,
          1,
          1,
          1,
          1,
          1,
          1,
          1,
          1,
          1,
          1,
          1,
          1,
          1,
          1,
          1,
          1,
          1,
          1,
          1,
          1,
          1,
          1,
          1,
          1,
          1,
          1,
          1,
          1,
          1,
          1,
          1,
          1,
          1,
          1,
          1,
          1,
          1,
          1,
          1,
          1,
          1,
          1,
          1,
          1,
          1,
          1,
          1,
          1,
          1,
          1,
          1,
          1,
          1,
          1,
          1,
          1,
          1,
          1,
          1,
          1,
          1,
          1,
          1,
          1,
          1,
          1,
          1,
          1
         ],
         "yaxis": "y"
        }
       ],
       "layout": {
        "legend": {
         "tracegroupgap": 0
        },
        "margin": {
         "t": 60
        },
        "template": {
         "data": {
          "bar": [
           {
            "error_x": {
             "color": "#2a3f5f"
            },
            "error_y": {
             "color": "#2a3f5f"
            },
            "marker": {
             "line": {
              "color": "#E5ECF6",
              "width": 0.5
             },
             "pattern": {
              "fillmode": "overlay",
              "size": 10,
              "solidity": 0.2
             }
            },
            "type": "bar"
           }
          ],
          "barpolar": [
           {
            "marker": {
             "line": {
              "color": "#E5ECF6",
              "width": 0.5
             },
             "pattern": {
              "fillmode": "overlay",
              "size": 10,
              "solidity": 0.2
             }
            },
            "type": "barpolar"
           }
          ],
          "carpet": [
           {
            "aaxis": {
             "endlinecolor": "#2a3f5f",
             "gridcolor": "white",
             "linecolor": "white",
             "minorgridcolor": "white",
             "startlinecolor": "#2a3f5f"
            },
            "baxis": {
             "endlinecolor": "#2a3f5f",
             "gridcolor": "white",
             "linecolor": "white",
             "minorgridcolor": "white",
             "startlinecolor": "#2a3f5f"
            },
            "type": "carpet"
           }
          ],
          "choropleth": [
           {
            "colorbar": {
             "outlinewidth": 0,
             "ticks": ""
            },
            "type": "choropleth"
           }
          ],
          "contour": [
           {
            "colorbar": {
             "outlinewidth": 0,
             "ticks": ""
            },
            "colorscale": [
             [
              0,
              "#0d0887"
             ],
             [
              0.1111111111111111,
              "#46039f"
             ],
             [
              0.2222222222222222,
              "#7201a8"
             ],
             [
              0.3333333333333333,
              "#9c179e"
             ],
             [
              0.4444444444444444,
              "#bd3786"
             ],
             [
              0.5555555555555556,
              "#d8576b"
             ],
             [
              0.6666666666666666,
              "#ed7953"
             ],
             [
              0.7777777777777778,
              "#fb9f3a"
             ],
             [
              0.8888888888888888,
              "#fdca26"
             ],
             [
              1,
              "#f0f921"
             ]
            ],
            "type": "contour"
           }
          ],
          "contourcarpet": [
           {
            "colorbar": {
             "outlinewidth": 0,
             "ticks": ""
            },
            "type": "contourcarpet"
           }
          ],
          "heatmap": [
           {
            "colorbar": {
             "outlinewidth": 0,
             "ticks": ""
            },
            "colorscale": [
             [
              0,
              "#0d0887"
             ],
             [
              0.1111111111111111,
              "#46039f"
             ],
             [
              0.2222222222222222,
              "#7201a8"
             ],
             [
              0.3333333333333333,
              "#9c179e"
             ],
             [
              0.4444444444444444,
              "#bd3786"
             ],
             [
              0.5555555555555556,
              "#d8576b"
             ],
             [
              0.6666666666666666,
              "#ed7953"
             ],
             [
              0.7777777777777778,
              "#fb9f3a"
             ],
             [
              0.8888888888888888,
              "#fdca26"
             ],
             [
              1,
              "#f0f921"
             ]
            ],
            "type": "heatmap"
           }
          ],
          "heatmapgl": [
           {
            "colorbar": {
             "outlinewidth": 0,
             "ticks": ""
            },
            "colorscale": [
             [
              0,
              "#0d0887"
             ],
             [
              0.1111111111111111,
              "#46039f"
             ],
             [
              0.2222222222222222,
              "#7201a8"
             ],
             [
              0.3333333333333333,
              "#9c179e"
             ],
             [
              0.4444444444444444,
              "#bd3786"
             ],
             [
              0.5555555555555556,
              "#d8576b"
             ],
             [
              0.6666666666666666,
              "#ed7953"
             ],
             [
              0.7777777777777778,
              "#fb9f3a"
             ],
             [
              0.8888888888888888,
              "#fdca26"
             ],
             [
              1,
              "#f0f921"
             ]
            ],
            "type": "heatmapgl"
           }
          ],
          "histogram": [
           {
            "marker": {
             "pattern": {
              "fillmode": "overlay",
              "size": 10,
              "solidity": 0.2
             }
            },
            "type": "histogram"
           }
          ],
          "histogram2d": [
           {
            "colorbar": {
             "outlinewidth": 0,
             "ticks": ""
            },
            "colorscale": [
             [
              0,
              "#0d0887"
             ],
             [
              0.1111111111111111,
              "#46039f"
             ],
             [
              0.2222222222222222,
              "#7201a8"
             ],
             [
              0.3333333333333333,
              "#9c179e"
             ],
             [
              0.4444444444444444,
              "#bd3786"
             ],
             [
              0.5555555555555556,
              "#d8576b"
             ],
             [
              0.6666666666666666,
              "#ed7953"
             ],
             [
              0.7777777777777778,
              "#fb9f3a"
             ],
             [
              0.8888888888888888,
              "#fdca26"
             ],
             [
              1,
              "#f0f921"
             ]
            ],
            "type": "histogram2d"
           }
          ],
          "histogram2dcontour": [
           {
            "colorbar": {
             "outlinewidth": 0,
             "ticks": ""
            },
            "colorscale": [
             [
              0,
              "#0d0887"
             ],
             [
              0.1111111111111111,
              "#46039f"
             ],
             [
              0.2222222222222222,
              "#7201a8"
             ],
             [
              0.3333333333333333,
              "#9c179e"
             ],
             [
              0.4444444444444444,
              "#bd3786"
             ],
             [
              0.5555555555555556,
              "#d8576b"
             ],
             [
              0.6666666666666666,
              "#ed7953"
             ],
             [
              0.7777777777777778,
              "#fb9f3a"
             ],
             [
              0.8888888888888888,
              "#fdca26"
             ],
             [
              1,
              "#f0f921"
             ]
            ],
            "type": "histogram2dcontour"
           }
          ],
          "mesh3d": [
           {
            "colorbar": {
             "outlinewidth": 0,
             "ticks": ""
            },
            "type": "mesh3d"
           }
          ],
          "parcoords": [
           {
            "line": {
             "colorbar": {
              "outlinewidth": 0,
              "ticks": ""
             }
            },
            "type": "parcoords"
           }
          ],
          "pie": [
           {
            "automargin": true,
            "type": "pie"
           }
          ],
          "scatter": [
           {
            "fillpattern": {
             "fillmode": "overlay",
             "size": 10,
             "solidity": 0.2
            },
            "type": "scatter"
           }
          ],
          "scatter3d": [
           {
            "line": {
             "colorbar": {
              "outlinewidth": 0,
              "ticks": ""
             }
            },
            "marker": {
             "colorbar": {
              "outlinewidth": 0,
              "ticks": ""
             }
            },
            "type": "scatter3d"
           }
          ],
          "scattercarpet": [
           {
            "marker": {
             "colorbar": {
              "outlinewidth": 0,
              "ticks": ""
             }
            },
            "type": "scattercarpet"
           }
          ],
          "scattergeo": [
           {
            "marker": {
             "colorbar": {
              "outlinewidth": 0,
              "ticks": ""
             }
            },
            "type": "scattergeo"
           }
          ],
          "scattergl": [
           {
            "marker": {
             "colorbar": {
              "outlinewidth": 0,
              "ticks": ""
             }
            },
            "type": "scattergl"
           }
          ],
          "scattermapbox": [
           {
            "marker": {
             "colorbar": {
              "outlinewidth": 0,
              "ticks": ""
             }
            },
            "type": "scattermapbox"
           }
          ],
          "scatterpolar": [
           {
            "marker": {
             "colorbar": {
              "outlinewidth": 0,
              "ticks": ""
             }
            },
            "type": "scatterpolar"
           }
          ],
          "scatterpolargl": [
           {
            "marker": {
             "colorbar": {
              "outlinewidth": 0,
              "ticks": ""
             }
            },
            "type": "scatterpolargl"
           }
          ],
          "scatterternary": [
           {
            "marker": {
             "colorbar": {
              "outlinewidth": 0,
              "ticks": ""
             }
            },
            "type": "scatterternary"
           }
          ],
          "surface": [
           {
            "colorbar": {
             "outlinewidth": 0,
             "ticks": ""
            },
            "colorscale": [
             [
              0,
              "#0d0887"
             ],
             [
              0.1111111111111111,
              "#46039f"
             ],
             [
              0.2222222222222222,
              "#7201a8"
             ],
             [
              0.3333333333333333,
              "#9c179e"
             ],
             [
              0.4444444444444444,
              "#bd3786"
             ],
             [
              0.5555555555555556,
              "#d8576b"
             ],
             [
              0.6666666666666666,
              "#ed7953"
             ],
             [
              0.7777777777777778,
              "#fb9f3a"
             ],
             [
              0.8888888888888888,
              "#fdca26"
             ],
             [
              1,
              "#f0f921"
             ]
            ],
            "type": "surface"
           }
          ],
          "table": [
           {
            "cells": {
             "fill": {
              "color": "#EBF0F8"
             },
             "line": {
              "color": "white"
             }
            },
            "header": {
             "fill": {
              "color": "#C8D4E3"
             },
             "line": {
              "color": "white"
             }
            },
            "type": "table"
           }
          ]
         },
         "layout": {
          "annotationdefaults": {
           "arrowcolor": "#2a3f5f",
           "arrowhead": 0,
           "arrowwidth": 1
          },
          "autotypenumbers": "strict",
          "coloraxis": {
           "colorbar": {
            "outlinewidth": 0,
            "ticks": ""
           }
          },
          "colorscale": {
           "diverging": [
            [
             0,
             "#8e0152"
            ],
            [
             0.1,
             "#c51b7d"
            ],
            [
             0.2,
             "#de77ae"
            ],
            [
             0.3,
             "#f1b6da"
            ],
            [
             0.4,
             "#fde0ef"
            ],
            [
             0.5,
             "#f7f7f7"
            ],
            [
             0.6,
             "#e6f5d0"
            ],
            [
             0.7,
             "#b8e186"
            ],
            [
             0.8,
             "#7fbc41"
            ],
            [
             0.9,
             "#4d9221"
            ],
            [
             1,
             "#276419"
            ]
           ],
           "sequential": [
            [
             0,
             "#0d0887"
            ],
            [
             0.1111111111111111,
             "#46039f"
            ],
            [
             0.2222222222222222,
             "#7201a8"
            ],
            [
             0.3333333333333333,
             "#9c179e"
            ],
            [
             0.4444444444444444,
             "#bd3786"
            ],
            [
             0.5555555555555556,
             "#d8576b"
            ],
            [
             0.6666666666666666,
             "#ed7953"
            ],
            [
             0.7777777777777778,
             "#fb9f3a"
            ],
            [
             0.8888888888888888,
             "#fdca26"
            ],
            [
             1,
             "#f0f921"
            ]
           ],
           "sequentialminus": [
            [
             0,
             "#0d0887"
            ],
            [
             0.1111111111111111,
             "#46039f"
            ],
            [
             0.2222222222222222,
             "#7201a8"
            ],
            [
             0.3333333333333333,
             "#9c179e"
            ],
            [
             0.4444444444444444,
             "#bd3786"
            ],
            [
             0.5555555555555556,
             "#d8576b"
            ],
            [
             0.6666666666666666,
             "#ed7953"
            ],
            [
             0.7777777777777778,
             "#fb9f3a"
            ],
            [
             0.8888888888888888,
             "#fdca26"
            ],
            [
             1,
             "#f0f921"
            ]
           ]
          },
          "colorway": [
           "#636efa",
           "#EF553B",
           "#00cc96",
           "#ab63fa",
           "#FFA15A",
           "#19d3f3",
           "#FF6692",
           "#B6E880",
           "#FF97FF",
           "#FECB52"
          ],
          "font": {
           "color": "#2a3f5f"
          },
          "geo": {
           "bgcolor": "white",
           "lakecolor": "white",
           "landcolor": "#E5ECF6",
           "showlakes": true,
           "showland": true,
           "subunitcolor": "white"
          },
          "hoverlabel": {
           "align": "left"
          },
          "hovermode": "closest",
          "mapbox": {
           "style": "light"
          },
          "paper_bgcolor": "white",
          "plot_bgcolor": "#E5ECF6",
          "polar": {
           "angularaxis": {
            "gridcolor": "white",
            "linecolor": "white",
            "ticks": ""
           },
           "bgcolor": "#E5ECF6",
           "radialaxis": {
            "gridcolor": "white",
            "linecolor": "white",
            "ticks": ""
           }
          },
          "scene": {
           "xaxis": {
            "backgroundcolor": "#E5ECF6",
            "gridcolor": "white",
            "gridwidth": 2,
            "linecolor": "white",
            "showbackground": true,
            "ticks": "",
            "zerolinecolor": "white"
           },
           "yaxis": {
            "backgroundcolor": "#E5ECF6",
            "gridcolor": "white",
            "gridwidth": 2,
            "linecolor": "white",
            "showbackground": true,
            "ticks": "",
            "zerolinecolor": "white"
           },
           "zaxis": {
            "backgroundcolor": "#E5ECF6",
            "gridcolor": "white",
            "gridwidth": 2,
            "linecolor": "white",
            "showbackground": true,
            "ticks": "",
            "zerolinecolor": "white"
           }
          },
          "shapedefaults": {
           "line": {
            "color": "#2a3f5f"
           }
          },
          "ternary": {
           "aaxis": {
            "gridcolor": "white",
            "linecolor": "white",
            "ticks": ""
           },
           "baxis": {
            "gridcolor": "white",
            "linecolor": "white",
            "ticks": ""
           },
           "bgcolor": "#E5ECF6",
           "caxis": {
            "gridcolor": "white",
            "linecolor": "white",
            "ticks": ""
           }
          },
          "title": {
           "x": 0.05
          },
          "xaxis": {
           "automargin": true,
           "gridcolor": "white",
           "linecolor": "white",
           "ticks": "",
           "title": {
            "standoff": 15
           },
           "zerolinecolor": "white",
           "zerolinewidth": 2
          },
          "yaxis": {
           "automargin": true,
           "gridcolor": "white",
           "linecolor": "white",
           "ticks": "",
           "title": {
            "standoff": 15
           },
           "zerolinecolor": "white",
           "zerolinewidth": 2
          }
         }
        },
        "xaxis": {
         "anchor": "y",
         "domain": [
          0,
          1
         ],
         "title": {
          "text": "params.week_end_experiment_end_date"
         }
        },
        "yaxis": {
         "anchor": "x",
         "domain": [
          0,
          1
         ],
         "title": {
          "text": "params.Product_Type.value_feature_importance_weighted_drift_detected"
         }
        }
       }
      },
      "text/html": [
       "<div>                            <div id=\"1b133f4b-af8e-42a6-9e99-dd8b32a909ff\" class=\"plotly-graph-div\" style=\"height:525px; width:100%;\"></div>            <script type=\"text/javascript\">                require([\"plotly\"], function(Plotly) {                    window.PLOTLYENV=window.PLOTLYENV || {};                                    if (document.getElementById(\"1b133f4b-af8e-42a6-9e99-dd8b32a909ff\")) {                    Plotly.newPlot(                        \"1b133f4b-af8e-42a6-9e99-dd8b32a909ff\",                        [{\"hovertemplate\":\"params.week_end_experiment_end_date=%{x}<br>params.Product_Type.value_feature_importance_weighted_drift_detected=%{y}<extra></extra>\",\"legendgroup\":\"\",\"line\":{\"color\":\"#636efa\",\"dash\":\"solid\"},\"marker\":{\"symbol\":\"circle\"},\"mode\":\"lines+markers\",\"name\":\"\",\"orientation\":\"v\",\"showlegend\":false,\"x\":[\"2018-12-30 00:00:00\",\"2018-12-30 00:00:00\",\"2018-12-30 00:00:00\",\"2018-12-30 00:00:00\",\"2019-01-06 00:00:00\",\"2019-01-06 00:00:00\",\"2019-01-06 00:00:00\",\"2019-01-13 00:00:00\",\"2019-01-13 00:00:00\",\"2019-01-13 00:00:00\",\"2019-01-20 00:00:00\",\"2019-01-20 00:00:00\",\"2019-01-20 00:00:00\",\"2019-01-27 00:00:00\",\"2019-01-27 00:00:00\",\"2019-01-27 00:00:00\",\"2019-02-03 00:00:00\",\"2019-02-03 00:00:00\",\"2019-02-03 00:00:00\",\"2019-02-10 00:00:00\",\"2019-02-10 00:00:00\",\"2019-02-10 00:00:00\",\"2019-02-17 00:00:00\",\"2019-02-17 00:00:00\",\"2019-02-17 00:00:00\",\"2019-02-24 00:00:00\",\"2019-02-24 00:00:00\",\"2019-02-24 00:00:00\",\"2019-03-03 00:00:00\",\"2019-03-03 00:00:00\",\"2019-03-03 00:00:00\",\"2019-03-03 00:00:00\",\"2019-03-03 00:00:00\",\"2019-03-03 00:00:00\",\"2019-03-03 00:00:00\",\"2019-03-10 00:00:00\",\"2019-03-10 00:00:00\",\"2019-03-10 00:00:00\",\"2019-03-10 00:00:00\",\"2019-03-17 00:00:00\",\"2019-03-17 00:00:00\",\"2019-03-17 00:00:00\",\"2019-03-17 00:00:00\",\"2019-03-24 00:00:00\",\"2019-03-24 00:00:00\",\"2019-03-24 00:00:00\",\"2019-03-24 00:00:00\",\"2019-03-31 00:00:00\",\"2019-03-31 00:00:00\",\"2019-03-31 00:00:00\",\"2019-03-31 00:00:00\",\"2019-04-07 00:00:00\",\"2019-04-07 00:00:00\",\"2019-04-07 00:00:00\",\"2019-04-07 00:00:00\",\"2019-04-14 00:00:00\",\"2019-04-14 00:00:00\",\"2019-04-14 00:00:00\",\"2019-04-14 00:00:00\",\"2019-04-21 00:00:00\",\"2019-04-21 00:00:00\",\"2019-04-21 00:00:00\",\"2019-04-21 00:00:00\",\"2019-04-28 00:00:00\",\"2019-04-28 00:00:00\",\"2019-04-28 00:00:00\",\"2019-04-28 00:00:00\",\"2019-05-05 00:00:00\",\"2019-05-05 00:00:00\",\"2019-05-05 00:00:00\",\"2019-05-05 00:00:00\",\"2019-05-12 00:00:00\",\"2019-05-12 00:00:00\",\"2019-05-12 00:00:00\",\"2019-05-12 00:00:00\",\"2019-05-19 00:00:00\",\"2019-05-19 00:00:00\",\"2019-05-19 00:00:00\",\"2019-05-19 00:00:00\",\"2019-05-26 00:00:00\",\"2019-05-26 00:00:00\",\"2019-05-26 00:00:00\",\"2019-05-26 00:00:00\",\"2019-06-02 00:00:00\",\"2019-06-02 00:00:00\",\"2019-06-02 00:00:00\",\"2019-06-02 00:00:00\",\"2019-06-09 00:00:00\",\"2019-06-09 00:00:00\",\"2019-06-09 00:00:00\",\"2019-06-09 00:00:00\",\"2019-06-16 00:00:00\",\"2019-06-16 00:00:00\",\"2019-06-16 00:00:00\",\"2019-06-16 00:00:00\",\"2019-06-23 00:00:00\",\"2019-06-23 00:00:00\",\"2019-06-23 00:00:00\",\"2019-06-23 00:00:00\",\"2019-06-30 00:00:00\",\"2019-06-30 00:00:00\",\"2019-06-30 00:00:00\",\"2019-06-30 00:00:00\",\"2019-07-07 00:00:00\",\"2019-07-07 00:00:00\",\"2019-07-07 00:00:00\",\"2019-07-07 00:00:00\",\"2019-07-14 00:00:00\",\"2019-07-14 00:00:00\",\"2019-07-14 00:00:00\",\"2019-07-14 00:00:00\",\"2019-07-21 00:00:00\",\"2019-07-21 00:00:00\",\"2019-07-21 00:00:00\",\"2019-07-21 00:00:00\",\"2019-07-28 00:00:00\",\"2019-07-28 00:00:00\",\"2019-07-28 00:00:00\",\"2019-07-28 00:00:00\",\"2019-08-04 00:00:00\",\"2019-08-04 00:00:00\",\"2019-08-04 00:00:00\",\"2019-08-04 00:00:00\",\"2019-08-11 00:00:00\",\"2019-08-11 00:00:00\",\"2019-08-11 00:00:00\",\"2019-08-11 00:00:00\",\"2019-08-18 00:00:00\",\"2019-08-18 00:00:00\",\"2019-08-18 00:00:00\",\"2019-08-18 00:00:00\",\"2019-08-25 00:00:00\",\"2019-08-25 00:00:00\",\"2019-08-25 00:00:00\",\"2019-08-25 00:00:00\",\"2019-09-01 00:00:00\",\"2019-09-01 00:00:00\",\"2019-09-01 00:00:00\",\"2019-09-01 00:00:00\",\"2019-09-08 00:00:00\",\"2019-09-08 00:00:00\",\"2019-09-08 00:00:00\",\"2019-09-08 00:00:00\",\"2019-09-15 00:00:00\",\"2019-09-15 00:00:00\",\"2019-09-15 00:00:00\",\"2019-09-15 00:00:00\",\"2019-09-22 00:00:00\",\"2019-09-22 00:00:00\",\"2019-09-22 00:00:00\",\"2019-09-22 00:00:00\",\"2019-09-29 00:00:00\",\"2019-09-29 00:00:00\",\"2019-09-29 00:00:00\",\"2019-09-29 00:00:00\",\"2019-10-06 00:00:00\",\"2019-10-06 00:00:00\",\"2019-10-06 00:00:00\",\"2019-10-06 00:00:00\",\"2019-10-13 00:00:00\",\"2019-10-13 00:00:00\",\"2019-10-13 00:00:00\",\"2019-10-13 00:00:00\",\"2019-10-20 00:00:00\",\"2019-10-20 00:00:00\",\"2019-10-20 00:00:00\",\"2019-10-20 00:00:00\",\"2019-10-27 00:00:00\",\"2019-10-27 00:00:00\",\"2019-10-27 00:00:00\",\"2019-10-27 00:00:00\",\"2019-11-03 00:00:00\",\"2019-11-03 00:00:00\",\"2019-11-03 00:00:00\",\"2019-11-03 00:00:00\",\"2019-11-10 00:00:00\",\"2019-11-10 00:00:00\",\"2019-11-10 00:00:00\",\"2019-11-10 00:00:00\",\"2019-11-17 00:00:00\",\"2019-11-17 00:00:00\",\"2019-11-17 00:00:00\",\"2019-11-17 00:00:00\",\"2019-11-24 00:00:00\",\"2019-11-24 00:00:00\",\"2019-11-24 00:00:00\",\"2019-11-24 00:00:00\",\"2019-12-01 00:00:00\",\"2019-12-01 00:00:00\",\"2019-12-01 00:00:00\",\"2019-12-01 00:00:00\",\"2019-12-08 00:00:00\",\"2019-12-08 00:00:00\",\"2019-12-08 00:00:00\",\"2019-12-08 00:00:00\",\"2019-12-15 00:00:00\",\"2019-12-15 00:00:00\",\"2019-12-15 00:00:00\",\"2019-12-15 00:00:00\",\"2019-12-22 00:00:00\",\"2019-12-22 00:00:00\",\"2019-12-22 00:00:00\",\"2019-12-22 00:00:00\",\"2019-12-29 00:00:00\",\"2019-12-29 00:00:00\",\"2019-12-29 00:00:00\",\"2019-12-29 00:00:00\",\"2020-01-05 00:00:00\",\"2020-01-05 00:00:00\",\"2020-01-05 00:00:00\",\"2020-01-05 00:00:00\",\"2020-01-12 00:00:00\",\"2020-01-12 00:00:00\",\"2020-01-12 00:00:00\",\"2020-01-12 00:00:00\",\"2020-01-19 00:00:00\",\"2020-01-19 00:00:00\",\"2020-01-19 00:00:00\",\"2020-01-19 00:00:00\",\"2020-01-26 00:00:00\",\"2020-01-26 00:00:00\",\"2020-01-26 00:00:00\",\"2020-01-26 00:00:00\",\"2020-02-02 00:00:00\",\"2020-02-02 00:00:00\",\"2020-02-02 00:00:00\",\"2020-02-02 00:00:00\",\"2020-02-09 00:00:00\",\"2020-02-09 00:00:00\",\"2020-02-09 00:00:00\",\"2020-02-09 00:00:00\",\"2020-02-16 00:00:00\",\"2020-02-16 00:00:00\",\"2020-02-16 00:00:00\",\"2020-02-16 00:00:00\",\"2020-02-23 00:00:00\",\"2020-02-23 00:00:00\",\"2020-02-23 00:00:00\",\"2020-02-23 00:00:00\",\"2020-03-01 00:00:00\",\"2020-03-01 00:00:00\",\"2020-03-01 00:00:00\",\"2020-03-01 00:00:00\",\"2020-03-08 00:00:00\",\"2020-03-08 00:00:00\",\"2020-03-08 00:00:00\",\"2020-03-08 00:00:00\",\"2020-03-15 00:00:00\",\"2020-03-15 00:00:00\",\"2020-03-15 00:00:00\",\"2020-03-15 00:00:00\",\"2020-03-22 00:00:00\",\"2020-03-22 00:00:00\",\"2020-03-22 00:00:00\",\"2020-03-22 00:00:00\",\"2020-03-29 00:00:00\",\"2020-03-29 00:00:00\",\"2020-03-29 00:00:00\",\"2020-03-29 00:00:00\",\"2020-04-05 00:00:00\",\"2020-04-05 00:00:00\",\"2020-04-05 00:00:00\",\"2020-04-05 00:00:00\",\"2020-04-12 00:00:00\",\"2020-04-12 00:00:00\",\"2020-04-12 00:00:00\",\"2020-04-12 00:00:00\",\"2020-04-19 00:00:00\",\"2020-04-19 00:00:00\",\"2020-04-19 00:00:00\",\"2020-04-19 00:00:00\",\"2020-04-26 00:00:00\",\"2020-04-26 00:00:00\",\"2020-04-26 00:00:00\",\"2020-04-26 00:00:00\",\"2020-05-03 00:00:00\",\"2020-05-03 00:00:00\",\"2020-05-03 00:00:00\",\"2020-05-03 00:00:00\",\"2020-05-10 00:00:00\",\"2020-05-10 00:00:00\",\"2020-05-10 00:00:00\",\"2020-05-10 00:00:00\",\"2020-05-17 00:00:00\",\"2020-05-17 00:00:00\",\"2020-05-17 00:00:00\",\"2020-05-17 00:00:00\",\"2020-05-24 00:00:00\",\"2020-05-24 00:00:00\",\"2020-05-24 00:00:00\",\"2020-05-24 00:00:00\",\"2020-05-31 00:00:00\",\"2020-05-31 00:00:00\",\"2020-05-31 00:00:00\",\"2020-05-31 00:00:00\",\"2020-06-07 00:00:00\",\"2020-06-07 00:00:00\",\"2020-06-07 00:00:00\",\"2020-06-07 00:00:00\",\"2020-06-14 00:00:00\",\"2020-06-14 00:00:00\",\"2020-06-14 00:00:00\",\"2020-06-14 00:00:00\",\"2020-06-21 00:00:00\",\"2020-06-21 00:00:00\",\"2020-06-21 00:00:00\",\"2020-06-21 00:00:00\",\"2020-06-28 00:00:00\",\"2020-06-28 00:00:00\",\"2020-06-28 00:00:00\",\"2020-06-28 00:00:00\",\"2020-07-05 00:00:00\",\"2020-07-05 00:00:00\",\"2020-07-05 00:00:00\",\"2020-07-05 00:00:00\",\"2020-07-12 00:00:00\",\"2020-07-12 00:00:00\",\"2020-07-12 00:00:00\",\"2020-07-12 00:00:00\",\"2020-07-19 00:00:00\",\"2020-07-19 00:00:00\",\"2020-07-19 00:00:00\",\"2020-07-19 00:00:00\",\"2020-07-26 00:00:00\",\"2020-07-26 00:00:00\",\"2020-07-26 00:00:00\",\"2020-07-26 00:00:00\",\"2020-08-02 00:00:00\",\"2020-08-02 00:00:00\",\"2020-08-02 00:00:00\",\"2020-08-02 00:00:00\",\"2020-08-09 00:00:00\",\"2020-08-09 00:00:00\",\"2020-08-09 00:00:00\",\"2020-08-09 00:00:00\",\"2020-08-16 00:00:00\",\"2020-08-16 00:00:00\",\"2020-08-16 00:00:00\",\"2020-08-16 00:00:00\",\"2020-08-23 00:00:00\",\"2020-08-23 00:00:00\",\"2020-08-23 00:00:00\",\"2020-08-23 00:00:00\",\"2020-08-30 00:00:00\",\"2020-08-30 00:00:00\",\"2020-08-30 00:00:00\",\"2020-08-30 00:00:00\",\"2020-09-06 00:00:00\",\"2020-09-06 00:00:00\",\"2020-09-06 00:00:00\",\"2020-09-06 00:00:00\",\"2020-09-13 00:00:00\",\"2020-09-13 00:00:00\",\"2020-09-13 00:00:00\",\"2020-09-13 00:00:00\",\"2020-09-20 00:00:00\",\"2020-09-20 00:00:00\",\"2020-09-20 00:00:00\",\"2020-09-20 00:00:00\",\"2020-09-27 00:00:00\",\"2020-09-27 00:00:00\",\"2020-09-27 00:00:00\",\"2020-09-27 00:00:00\",\"2020-10-04 00:00:00\",\"2020-10-04 00:00:00\",\"2020-10-04 00:00:00\",\"2020-10-04 00:00:00\",\"2020-10-11 00:00:00\",\"2020-10-11 00:00:00\",\"2020-10-11 00:00:00\",\"2020-10-11 00:00:00\",\"2020-10-18 00:00:00\",\"2020-10-18 00:00:00\",\"2020-10-18 00:00:00\",\"2020-10-18 00:00:00\",\"2020-10-25 00:00:00\",\"2020-10-25 00:00:00\",\"2020-10-25 00:00:00\",\"2020-10-25 00:00:00\",\"2020-11-01 00:00:00\",\"2020-11-01 00:00:00\",\"2020-11-01 00:00:00\",\"2020-11-01 00:00:00\",\"2020-11-08 00:00:00\",\"2020-11-08 00:00:00\",\"2020-11-08 00:00:00\",\"2020-11-08 00:00:00\",\"2020-11-15 00:00:00\",\"2020-11-15 00:00:00\",\"2020-11-15 00:00:00\",\"2020-11-15 00:00:00\"],\"xaxis\":\"x\",\"y\":[1,1,0,1,1,1,1,1,1,1,1,1,1,1,1,1,1,1,1,1,1,1,1,1,1,1,1,1,1,1,1,1,1,1,1,1,1,1,1,1,1,1,1,1,1,1,1,1,1,1,1,1,1,1,1,1,1,1,1,1,1,1,1,1,1,1,1,1,1,1,1,1,1,1,1,1,1,1,1,1,1,1,1,1,1,1,1,1,1,1,1,1,1,1,1,1,1,1,1,1,1,1,1,1,1,1,1,1,1,1,1,1,1,1,1,1,1,1,1,1,1,1,1,1,1,1,1,1,1,1,1,1,1,1,1,1,1,1,1,1,1,1,1,1,1,1,1,1,1,1,1,1,1,1,1,1,1,1,1,1,1,1,1,1,1,1,1,1,1,1,1,1,1,1,1,1,1,1,1,1,1,1,1,1,1,1,1,1,1,1,1,1,1,1,1,1,1,1,1,1,1,1,1,1,1,1,1,1,1,1,1,1,1,1,1,1,1,1,1,1,1,1,1,1,1,1,1,1,1,1,1,1,1,1,1,1,1,1,1,1,1,1,1,1,1,1,1,1,1,1,1,1,1,1,1,1,1,1,1,1,1,1,1,1,1,1,1,1,1,1,1,1,1,1,1,1,1,1,1,1,1,1,1,1,1,1,1,1,1,1,1,1,1,1,1,1,1,1,1,1,1,1,1,1,1,1,1,1,1,1,1,1,1,1,1,1,1,1,1,1,1,1,1,1,1,1,1,1,1,1,1,1,1,1,1,1,1,1,1,1,1,1,1,1,1,1,1,1,1,1,1,1,1,1,1,1,1,1,1,1,1,1,1,1,1,1,1,1,1,1,1,1,1,1,1,1,1,1,1,1,1,1,1,1,1,1,1,1,1,1,1],\"yaxis\":\"y\",\"type\":\"scatter\"}],                        {\"template\":{\"data\":{\"histogram2dcontour\":[{\"type\":\"histogram2dcontour\",\"colorbar\":{\"outlinewidth\":0,\"ticks\":\"\"},\"colorscale\":[[0.0,\"#0d0887\"],[0.1111111111111111,\"#46039f\"],[0.2222222222222222,\"#7201a8\"],[0.3333333333333333,\"#9c179e\"],[0.4444444444444444,\"#bd3786\"],[0.5555555555555556,\"#d8576b\"],[0.6666666666666666,\"#ed7953\"],[0.7777777777777778,\"#fb9f3a\"],[0.8888888888888888,\"#fdca26\"],[1.0,\"#f0f921\"]]}],\"choropleth\":[{\"type\":\"choropleth\",\"colorbar\":{\"outlinewidth\":0,\"ticks\":\"\"}}],\"histogram2d\":[{\"type\":\"histogram2d\",\"colorbar\":{\"outlinewidth\":0,\"ticks\":\"\"},\"colorscale\":[[0.0,\"#0d0887\"],[0.1111111111111111,\"#46039f\"],[0.2222222222222222,\"#7201a8\"],[0.3333333333333333,\"#9c179e\"],[0.4444444444444444,\"#bd3786\"],[0.5555555555555556,\"#d8576b\"],[0.6666666666666666,\"#ed7953\"],[0.7777777777777778,\"#fb9f3a\"],[0.8888888888888888,\"#fdca26\"],[1.0,\"#f0f921\"]]}],\"heatmap\":[{\"type\":\"heatmap\",\"colorbar\":{\"outlinewidth\":0,\"ticks\":\"\"},\"colorscale\":[[0.0,\"#0d0887\"],[0.1111111111111111,\"#46039f\"],[0.2222222222222222,\"#7201a8\"],[0.3333333333333333,\"#9c179e\"],[0.4444444444444444,\"#bd3786\"],[0.5555555555555556,\"#d8576b\"],[0.6666666666666666,\"#ed7953\"],[0.7777777777777778,\"#fb9f3a\"],[0.8888888888888888,\"#fdca26\"],[1.0,\"#f0f921\"]]}],\"heatmapgl\":[{\"type\":\"heatmapgl\",\"colorbar\":{\"outlinewidth\":0,\"ticks\":\"\"},\"colorscale\":[[0.0,\"#0d0887\"],[0.1111111111111111,\"#46039f\"],[0.2222222222222222,\"#7201a8\"],[0.3333333333333333,\"#9c179e\"],[0.4444444444444444,\"#bd3786\"],[0.5555555555555556,\"#d8576b\"],[0.6666666666666666,\"#ed7953\"],[0.7777777777777778,\"#fb9f3a\"],[0.8888888888888888,\"#fdca26\"],[1.0,\"#f0f921\"]]}],\"contourcarpet\":[{\"type\":\"contourcarpet\",\"colorbar\":{\"outlinewidth\":0,\"ticks\":\"\"}}],\"contour\":[{\"type\":\"contour\",\"colorbar\":{\"outlinewidth\":0,\"ticks\":\"\"},\"colorscale\":[[0.0,\"#0d0887\"],[0.1111111111111111,\"#46039f\"],[0.2222222222222222,\"#7201a8\"],[0.3333333333333333,\"#9c179e\"],[0.4444444444444444,\"#bd3786\"],[0.5555555555555556,\"#d8576b\"],[0.6666666666666666,\"#ed7953\"],[0.7777777777777778,\"#fb9f3a\"],[0.8888888888888888,\"#fdca26\"],[1.0,\"#f0f921\"]]}],\"surface\":[{\"type\":\"surface\",\"colorbar\":{\"outlinewidth\":0,\"ticks\":\"\"},\"colorscale\":[[0.0,\"#0d0887\"],[0.1111111111111111,\"#46039f\"],[0.2222222222222222,\"#7201a8\"],[0.3333333333333333,\"#9c179e\"],[0.4444444444444444,\"#bd3786\"],[0.5555555555555556,\"#d8576b\"],[0.6666666666666666,\"#ed7953\"],[0.7777777777777778,\"#fb9f3a\"],[0.8888888888888888,\"#fdca26\"],[1.0,\"#f0f921\"]]}],\"mesh3d\":[{\"type\":\"mesh3d\",\"colorbar\":{\"outlinewidth\":0,\"ticks\":\"\"}}],\"scatter\":[{\"fillpattern\":{\"fillmode\":\"overlay\",\"size\":10,\"solidity\":0.2},\"type\":\"scatter\"}],\"parcoords\":[{\"type\":\"parcoords\",\"line\":{\"colorbar\":{\"outlinewidth\":0,\"ticks\":\"\"}}}],\"scatterpolargl\":[{\"type\":\"scatterpolargl\",\"marker\":{\"colorbar\":{\"outlinewidth\":0,\"ticks\":\"\"}}}],\"bar\":[{\"error_x\":{\"color\":\"#2a3f5f\"},\"error_y\":{\"color\":\"#2a3f5f\"},\"marker\":{\"line\":{\"color\":\"#E5ECF6\",\"width\":0.5},\"pattern\":{\"fillmode\":\"overlay\",\"size\":10,\"solidity\":0.2}},\"type\":\"bar\"}],\"scattergeo\":[{\"type\":\"scattergeo\",\"marker\":{\"colorbar\":{\"outlinewidth\":0,\"ticks\":\"\"}}}],\"scatterpolar\":[{\"type\":\"scatterpolar\",\"marker\":{\"colorbar\":{\"outlinewidth\":0,\"ticks\":\"\"}}}],\"histogram\":[{\"marker\":{\"pattern\":{\"fillmode\":\"overlay\",\"size\":10,\"solidity\":0.2}},\"type\":\"histogram\"}],\"scattergl\":[{\"type\":\"scattergl\",\"marker\":{\"colorbar\":{\"outlinewidth\":0,\"ticks\":\"\"}}}],\"scatter3d\":[{\"type\":\"scatter3d\",\"line\":{\"colorbar\":{\"outlinewidth\":0,\"ticks\":\"\"}},\"marker\":{\"colorbar\":{\"outlinewidth\":0,\"ticks\":\"\"}}}],\"scattermapbox\":[{\"type\":\"scattermapbox\",\"marker\":{\"colorbar\":{\"outlinewidth\":0,\"ticks\":\"\"}}}],\"scatterternary\":[{\"type\":\"scatterternary\",\"marker\":{\"colorbar\":{\"outlinewidth\":0,\"ticks\":\"\"}}}],\"scattercarpet\":[{\"type\":\"scattercarpet\",\"marker\":{\"colorbar\":{\"outlinewidth\":0,\"ticks\":\"\"}}}],\"carpet\":[{\"aaxis\":{\"endlinecolor\":\"#2a3f5f\",\"gridcolor\":\"white\",\"linecolor\":\"white\",\"minorgridcolor\":\"white\",\"startlinecolor\":\"#2a3f5f\"},\"baxis\":{\"endlinecolor\":\"#2a3f5f\",\"gridcolor\":\"white\",\"linecolor\":\"white\",\"minorgridcolor\":\"white\",\"startlinecolor\":\"#2a3f5f\"},\"type\":\"carpet\"}],\"table\":[{\"cells\":{\"fill\":{\"color\":\"#EBF0F8\"},\"line\":{\"color\":\"white\"}},\"header\":{\"fill\":{\"color\":\"#C8D4E3\"},\"line\":{\"color\":\"white\"}},\"type\":\"table\"}],\"barpolar\":[{\"marker\":{\"line\":{\"color\":\"#E5ECF6\",\"width\":0.5},\"pattern\":{\"fillmode\":\"overlay\",\"size\":10,\"solidity\":0.2}},\"type\":\"barpolar\"}],\"pie\":[{\"automargin\":true,\"type\":\"pie\"}]},\"layout\":{\"autotypenumbers\":\"strict\",\"colorway\":[\"#636efa\",\"#EF553B\",\"#00cc96\",\"#ab63fa\",\"#FFA15A\",\"#19d3f3\",\"#FF6692\",\"#B6E880\",\"#FF97FF\",\"#FECB52\"],\"font\":{\"color\":\"#2a3f5f\"},\"hovermode\":\"closest\",\"hoverlabel\":{\"align\":\"left\"},\"paper_bgcolor\":\"white\",\"plot_bgcolor\":\"#E5ECF6\",\"polar\":{\"bgcolor\":\"#E5ECF6\",\"angularaxis\":{\"gridcolor\":\"white\",\"linecolor\":\"white\",\"ticks\":\"\"},\"radialaxis\":{\"gridcolor\":\"white\",\"linecolor\":\"white\",\"ticks\":\"\"}},\"ternary\":{\"bgcolor\":\"#E5ECF6\",\"aaxis\":{\"gridcolor\":\"white\",\"linecolor\":\"white\",\"ticks\":\"\"},\"baxis\":{\"gridcolor\":\"white\",\"linecolor\":\"white\",\"ticks\":\"\"},\"caxis\":{\"gridcolor\":\"white\",\"linecolor\":\"white\",\"ticks\":\"\"}},\"coloraxis\":{\"colorbar\":{\"outlinewidth\":0,\"ticks\":\"\"}},\"colorscale\":{\"sequential\":[[0.0,\"#0d0887\"],[0.1111111111111111,\"#46039f\"],[0.2222222222222222,\"#7201a8\"],[0.3333333333333333,\"#9c179e\"],[0.4444444444444444,\"#bd3786\"],[0.5555555555555556,\"#d8576b\"],[0.6666666666666666,\"#ed7953\"],[0.7777777777777778,\"#fb9f3a\"],[0.8888888888888888,\"#fdca26\"],[1.0,\"#f0f921\"]],\"sequentialminus\":[[0.0,\"#0d0887\"],[0.1111111111111111,\"#46039f\"],[0.2222222222222222,\"#7201a8\"],[0.3333333333333333,\"#9c179e\"],[0.4444444444444444,\"#bd3786\"],[0.5555555555555556,\"#d8576b\"],[0.6666666666666666,\"#ed7953\"],[0.7777777777777778,\"#fb9f3a\"],[0.8888888888888888,\"#fdca26\"],[1.0,\"#f0f921\"]],\"diverging\":[[0,\"#8e0152\"],[0.1,\"#c51b7d\"],[0.2,\"#de77ae\"],[0.3,\"#f1b6da\"],[0.4,\"#fde0ef\"],[0.5,\"#f7f7f7\"],[0.6,\"#e6f5d0\"],[0.7,\"#b8e186\"],[0.8,\"#7fbc41\"],[0.9,\"#4d9221\"],[1,\"#276419\"]]},\"xaxis\":{\"gridcolor\":\"white\",\"linecolor\":\"white\",\"ticks\":\"\",\"title\":{\"standoff\":15},\"zerolinecolor\":\"white\",\"automargin\":true,\"zerolinewidth\":2},\"yaxis\":{\"gridcolor\":\"white\",\"linecolor\":\"white\",\"ticks\":\"\",\"title\":{\"standoff\":15},\"zerolinecolor\":\"white\",\"automargin\":true,\"zerolinewidth\":2},\"scene\":{\"xaxis\":{\"backgroundcolor\":\"#E5ECF6\",\"gridcolor\":\"white\",\"linecolor\":\"white\",\"showbackground\":true,\"ticks\":\"\",\"zerolinecolor\":\"white\",\"gridwidth\":2},\"yaxis\":{\"backgroundcolor\":\"#E5ECF6\",\"gridcolor\":\"white\",\"linecolor\":\"white\",\"showbackground\":true,\"ticks\":\"\",\"zerolinecolor\":\"white\",\"gridwidth\":2},\"zaxis\":{\"backgroundcolor\":\"#E5ECF6\",\"gridcolor\":\"white\",\"linecolor\":\"white\",\"showbackground\":true,\"ticks\":\"\",\"zerolinecolor\":\"white\",\"gridwidth\":2}},\"shapedefaults\":{\"line\":{\"color\":\"#2a3f5f\"}},\"annotationdefaults\":{\"arrowcolor\":\"#2a3f5f\",\"arrowhead\":0,\"arrowwidth\":1},\"geo\":{\"bgcolor\":\"white\",\"landcolor\":\"#E5ECF6\",\"subunitcolor\":\"white\",\"showland\":true,\"showlakes\":true,\"lakecolor\":\"white\"},\"title\":{\"x\":0.05},\"mapbox\":{\"style\":\"light\"}}},\"xaxis\":{\"anchor\":\"y\",\"domain\":[0.0,1.0],\"title\":{\"text\":\"params.week_end_experiment_end_date\"}},\"yaxis\":{\"anchor\":\"x\",\"domain\":[0.0,1.0],\"title\":{\"text\":\"params.Product_Type.value_feature_importance_weighted_drift_detected\"}},\"legend\":{\"tracegroupgap\":0},\"margin\":{\"t\":60}},                        {\"responsive\": true}                    ).then(function(){\n",
       "                            \n",
       "var gd = document.getElementById('1b133f4b-af8e-42a6-9e99-dd8b32a909ff');\n",
       "var x = new MutationObserver(function (mutations, observer) {{\n",
       "        var display = window.getComputedStyle(gd).display;\n",
       "        if (!display || display === 'none') {{\n",
       "            console.log([gd, 'removed!']);\n",
       "            Plotly.purge(gd);\n",
       "            observer.disconnect();\n",
       "        }}\n",
       "}});\n",
       "\n",
       "// Listen for the removal of the full notebook cells\n",
       "var notebookContainer = gd.closest('#notebook-container');\n",
       "if (notebookContainer) {{\n",
       "    x.observe(notebookContainer, {childList: true});\n",
       "}}\n",
       "\n",
       "// Listen for the clearing of the current output cell\n",
       "var outputEl = gd.closest('.output');\n",
       "if (outputEl) {{\n",
       "    x.observe(outputEl, {childList: true});\n",
       "}}\n",
       "\n",
       "                        })                };                });            </script>        </div>"
      ]
     },
     "metadata": {},
     "output_type": "display_data"
    }
   ],
   "source": [
    "fig = px.line(drift_detected_experiment_results,  y='params.Product_Type.value_feature_importance_weighted_drift_detected', markers=True)\n",
    "fig.show()"
   ]
  },
  {
   "cell_type": "code",
   "execution_count": 690,
   "id": "73506130",
   "metadata": {},
   "outputs": [
    {
     "data": {
      "application/vnd.plotly.v1+json": {
       "config": {
        "plotlyServerURL": "https://plot.ly"
       },
       "data": [
        {
         "hovertemplate": "params.week_end_experiment_end_date=%{x}<br>params.daily_dispatch_count_drift_detected=%{y}<extra></extra>",
         "legendgroup": "",
         "line": {
          "color": "#636efa",
          "dash": "solid"
         },
         "marker": {
          "symbol": "circle"
         },
         "mode": "lines+markers",
         "name": "",
         "orientation": "v",
         "showlegend": false,
         "type": "scatter",
         "x": [
          "2018-12-30 00:00:00",
          "2018-12-30 00:00:00",
          "2018-12-30 00:00:00",
          "2018-12-30 00:00:00",
          "2019-01-06 00:00:00",
          "2019-01-06 00:00:00",
          "2019-01-06 00:00:00",
          "2019-01-13 00:00:00",
          "2019-01-13 00:00:00",
          "2019-01-13 00:00:00",
          "2019-01-20 00:00:00",
          "2019-01-20 00:00:00",
          "2019-01-20 00:00:00",
          "2019-01-27 00:00:00",
          "2019-01-27 00:00:00",
          "2019-01-27 00:00:00",
          "2019-02-03 00:00:00",
          "2019-02-03 00:00:00",
          "2019-02-03 00:00:00",
          "2019-02-10 00:00:00",
          "2019-02-10 00:00:00",
          "2019-02-10 00:00:00",
          "2019-02-17 00:00:00",
          "2019-02-17 00:00:00",
          "2019-02-17 00:00:00",
          "2019-02-24 00:00:00",
          "2019-02-24 00:00:00",
          "2019-02-24 00:00:00",
          "2019-03-03 00:00:00",
          "2019-03-03 00:00:00",
          "2019-03-03 00:00:00",
          "2019-03-03 00:00:00",
          "2019-03-03 00:00:00",
          "2019-03-03 00:00:00",
          "2019-03-03 00:00:00",
          "2019-03-10 00:00:00",
          "2019-03-10 00:00:00",
          "2019-03-10 00:00:00",
          "2019-03-10 00:00:00",
          "2019-03-17 00:00:00",
          "2019-03-17 00:00:00",
          "2019-03-17 00:00:00",
          "2019-03-17 00:00:00",
          "2019-03-24 00:00:00",
          "2019-03-24 00:00:00",
          "2019-03-24 00:00:00",
          "2019-03-24 00:00:00",
          "2019-03-31 00:00:00",
          "2019-03-31 00:00:00",
          "2019-03-31 00:00:00",
          "2019-03-31 00:00:00",
          "2019-04-07 00:00:00",
          "2019-04-07 00:00:00",
          "2019-04-07 00:00:00",
          "2019-04-07 00:00:00",
          "2019-04-14 00:00:00",
          "2019-04-14 00:00:00",
          "2019-04-14 00:00:00",
          "2019-04-14 00:00:00",
          "2019-04-21 00:00:00",
          "2019-04-21 00:00:00",
          "2019-04-21 00:00:00",
          "2019-04-21 00:00:00",
          "2019-04-28 00:00:00",
          "2019-04-28 00:00:00",
          "2019-04-28 00:00:00",
          "2019-04-28 00:00:00",
          "2019-05-05 00:00:00",
          "2019-05-05 00:00:00",
          "2019-05-05 00:00:00",
          "2019-05-05 00:00:00",
          "2019-05-12 00:00:00",
          "2019-05-12 00:00:00",
          "2019-05-12 00:00:00",
          "2019-05-12 00:00:00",
          "2019-05-19 00:00:00",
          "2019-05-19 00:00:00",
          "2019-05-19 00:00:00",
          "2019-05-19 00:00:00",
          "2019-05-26 00:00:00",
          "2019-05-26 00:00:00",
          "2019-05-26 00:00:00",
          "2019-05-26 00:00:00",
          "2019-06-02 00:00:00",
          "2019-06-02 00:00:00",
          "2019-06-02 00:00:00",
          "2019-06-02 00:00:00",
          "2019-06-09 00:00:00",
          "2019-06-09 00:00:00",
          "2019-06-09 00:00:00",
          "2019-06-09 00:00:00",
          "2019-06-16 00:00:00",
          "2019-06-16 00:00:00",
          "2019-06-16 00:00:00",
          "2019-06-16 00:00:00",
          "2019-06-23 00:00:00",
          "2019-06-23 00:00:00",
          "2019-06-23 00:00:00",
          "2019-06-23 00:00:00",
          "2019-06-30 00:00:00",
          "2019-06-30 00:00:00",
          "2019-06-30 00:00:00",
          "2019-06-30 00:00:00",
          "2019-07-07 00:00:00",
          "2019-07-07 00:00:00",
          "2019-07-07 00:00:00",
          "2019-07-07 00:00:00",
          "2019-07-14 00:00:00",
          "2019-07-14 00:00:00",
          "2019-07-14 00:00:00",
          "2019-07-14 00:00:00",
          "2019-07-21 00:00:00",
          "2019-07-21 00:00:00",
          "2019-07-21 00:00:00",
          "2019-07-21 00:00:00",
          "2019-07-28 00:00:00",
          "2019-07-28 00:00:00",
          "2019-07-28 00:00:00",
          "2019-07-28 00:00:00",
          "2019-08-04 00:00:00",
          "2019-08-04 00:00:00",
          "2019-08-04 00:00:00",
          "2019-08-04 00:00:00",
          "2019-08-11 00:00:00",
          "2019-08-11 00:00:00",
          "2019-08-11 00:00:00",
          "2019-08-11 00:00:00",
          "2019-08-18 00:00:00",
          "2019-08-18 00:00:00",
          "2019-08-18 00:00:00",
          "2019-08-18 00:00:00",
          "2019-08-25 00:00:00",
          "2019-08-25 00:00:00",
          "2019-08-25 00:00:00",
          "2019-08-25 00:00:00",
          "2019-09-01 00:00:00",
          "2019-09-01 00:00:00",
          "2019-09-01 00:00:00",
          "2019-09-01 00:00:00",
          "2019-09-08 00:00:00",
          "2019-09-08 00:00:00",
          "2019-09-08 00:00:00",
          "2019-09-08 00:00:00",
          "2019-09-15 00:00:00",
          "2019-09-15 00:00:00",
          "2019-09-15 00:00:00",
          "2019-09-15 00:00:00",
          "2019-09-22 00:00:00",
          "2019-09-22 00:00:00",
          "2019-09-22 00:00:00",
          "2019-09-22 00:00:00",
          "2019-09-29 00:00:00",
          "2019-09-29 00:00:00",
          "2019-09-29 00:00:00",
          "2019-09-29 00:00:00",
          "2019-10-06 00:00:00",
          "2019-10-06 00:00:00",
          "2019-10-06 00:00:00",
          "2019-10-06 00:00:00",
          "2019-10-13 00:00:00",
          "2019-10-13 00:00:00",
          "2019-10-13 00:00:00",
          "2019-10-13 00:00:00",
          "2019-10-20 00:00:00",
          "2019-10-20 00:00:00",
          "2019-10-20 00:00:00",
          "2019-10-20 00:00:00",
          "2019-10-27 00:00:00",
          "2019-10-27 00:00:00",
          "2019-10-27 00:00:00",
          "2019-10-27 00:00:00",
          "2019-11-03 00:00:00",
          "2019-11-03 00:00:00",
          "2019-11-03 00:00:00",
          "2019-11-03 00:00:00",
          "2019-11-10 00:00:00",
          "2019-11-10 00:00:00",
          "2019-11-10 00:00:00",
          "2019-11-10 00:00:00",
          "2019-11-17 00:00:00",
          "2019-11-17 00:00:00",
          "2019-11-17 00:00:00",
          "2019-11-17 00:00:00",
          "2019-11-24 00:00:00",
          "2019-11-24 00:00:00",
          "2019-11-24 00:00:00",
          "2019-11-24 00:00:00",
          "2019-12-01 00:00:00",
          "2019-12-01 00:00:00",
          "2019-12-01 00:00:00",
          "2019-12-01 00:00:00",
          "2019-12-08 00:00:00",
          "2019-12-08 00:00:00",
          "2019-12-08 00:00:00",
          "2019-12-08 00:00:00",
          "2019-12-15 00:00:00",
          "2019-12-15 00:00:00",
          "2019-12-15 00:00:00",
          "2019-12-15 00:00:00",
          "2019-12-22 00:00:00",
          "2019-12-22 00:00:00",
          "2019-12-22 00:00:00",
          "2019-12-22 00:00:00",
          "2019-12-29 00:00:00",
          "2019-12-29 00:00:00",
          "2019-12-29 00:00:00",
          "2019-12-29 00:00:00",
          "2020-01-05 00:00:00",
          "2020-01-05 00:00:00",
          "2020-01-05 00:00:00",
          "2020-01-05 00:00:00",
          "2020-01-12 00:00:00",
          "2020-01-12 00:00:00",
          "2020-01-12 00:00:00",
          "2020-01-12 00:00:00",
          "2020-01-19 00:00:00",
          "2020-01-19 00:00:00",
          "2020-01-19 00:00:00",
          "2020-01-19 00:00:00",
          "2020-01-26 00:00:00",
          "2020-01-26 00:00:00",
          "2020-01-26 00:00:00",
          "2020-01-26 00:00:00",
          "2020-02-02 00:00:00",
          "2020-02-02 00:00:00",
          "2020-02-02 00:00:00",
          "2020-02-02 00:00:00",
          "2020-02-09 00:00:00",
          "2020-02-09 00:00:00",
          "2020-02-09 00:00:00",
          "2020-02-09 00:00:00",
          "2020-02-16 00:00:00",
          "2020-02-16 00:00:00",
          "2020-02-16 00:00:00",
          "2020-02-16 00:00:00",
          "2020-02-23 00:00:00",
          "2020-02-23 00:00:00",
          "2020-02-23 00:00:00",
          "2020-02-23 00:00:00",
          "2020-03-01 00:00:00",
          "2020-03-01 00:00:00",
          "2020-03-01 00:00:00",
          "2020-03-01 00:00:00",
          "2020-03-08 00:00:00",
          "2020-03-08 00:00:00",
          "2020-03-08 00:00:00",
          "2020-03-08 00:00:00",
          "2020-03-15 00:00:00",
          "2020-03-15 00:00:00",
          "2020-03-15 00:00:00",
          "2020-03-15 00:00:00",
          "2020-03-22 00:00:00",
          "2020-03-22 00:00:00",
          "2020-03-22 00:00:00",
          "2020-03-22 00:00:00",
          "2020-03-29 00:00:00",
          "2020-03-29 00:00:00",
          "2020-03-29 00:00:00",
          "2020-03-29 00:00:00",
          "2020-04-05 00:00:00",
          "2020-04-05 00:00:00",
          "2020-04-05 00:00:00",
          "2020-04-05 00:00:00",
          "2020-04-12 00:00:00",
          "2020-04-12 00:00:00",
          "2020-04-12 00:00:00",
          "2020-04-12 00:00:00",
          "2020-04-19 00:00:00",
          "2020-04-19 00:00:00",
          "2020-04-19 00:00:00",
          "2020-04-19 00:00:00",
          "2020-04-26 00:00:00",
          "2020-04-26 00:00:00",
          "2020-04-26 00:00:00",
          "2020-04-26 00:00:00",
          "2020-05-03 00:00:00",
          "2020-05-03 00:00:00",
          "2020-05-03 00:00:00",
          "2020-05-03 00:00:00",
          "2020-05-10 00:00:00",
          "2020-05-10 00:00:00",
          "2020-05-10 00:00:00",
          "2020-05-10 00:00:00",
          "2020-05-17 00:00:00",
          "2020-05-17 00:00:00",
          "2020-05-17 00:00:00",
          "2020-05-17 00:00:00",
          "2020-05-24 00:00:00",
          "2020-05-24 00:00:00",
          "2020-05-24 00:00:00",
          "2020-05-24 00:00:00",
          "2020-05-31 00:00:00",
          "2020-05-31 00:00:00",
          "2020-05-31 00:00:00",
          "2020-05-31 00:00:00",
          "2020-06-07 00:00:00",
          "2020-06-07 00:00:00",
          "2020-06-07 00:00:00",
          "2020-06-07 00:00:00",
          "2020-06-14 00:00:00",
          "2020-06-14 00:00:00",
          "2020-06-14 00:00:00",
          "2020-06-14 00:00:00",
          "2020-06-21 00:00:00",
          "2020-06-21 00:00:00",
          "2020-06-21 00:00:00",
          "2020-06-21 00:00:00",
          "2020-06-28 00:00:00",
          "2020-06-28 00:00:00",
          "2020-06-28 00:00:00",
          "2020-06-28 00:00:00",
          "2020-07-05 00:00:00",
          "2020-07-05 00:00:00",
          "2020-07-05 00:00:00",
          "2020-07-05 00:00:00",
          "2020-07-12 00:00:00",
          "2020-07-12 00:00:00",
          "2020-07-12 00:00:00",
          "2020-07-12 00:00:00",
          "2020-07-19 00:00:00",
          "2020-07-19 00:00:00",
          "2020-07-19 00:00:00",
          "2020-07-19 00:00:00",
          "2020-07-26 00:00:00",
          "2020-07-26 00:00:00",
          "2020-07-26 00:00:00",
          "2020-07-26 00:00:00",
          "2020-08-02 00:00:00",
          "2020-08-02 00:00:00",
          "2020-08-02 00:00:00",
          "2020-08-02 00:00:00",
          "2020-08-09 00:00:00",
          "2020-08-09 00:00:00",
          "2020-08-09 00:00:00",
          "2020-08-09 00:00:00",
          "2020-08-16 00:00:00",
          "2020-08-16 00:00:00",
          "2020-08-16 00:00:00",
          "2020-08-16 00:00:00",
          "2020-08-23 00:00:00",
          "2020-08-23 00:00:00",
          "2020-08-23 00:00:00",
          "2020-08-23 00:00:00",
          "2020-08-30 00:00:00",
          "2020-08-30 00:00:00",
          "2020-08-30 00:00:00",
          "2020-08-30 00:00:00",
          "2020-09-06 00:00:00",
          "2020-09-06 00:00:00",
          "2020-09-06 00:00:00",
          "2020-09-06 00:00:00",
          "2020-09-13 00:00:00",
          "2020-09-13 00:00:00",
          "2020-09-13 00:00:00",
          "2020-09-13 00:00:00",
          "2020-09-20 00:00:00",
          "2020-09-20 00:00:00",
          "2020-09-20 00:00:00",
          "2020-09-20 00:00:00",
          "2020-09-27 00:00:00",
          "2020-09-27 00:00:00",
          "2020-09-27 00:00:00",
          "2020-09-27 00:00:00",
          "2020-10-04 00:00:00",
          "2020-10-04 00:00:00",
          "2020-10-04 00:00:00",
          "2020-10-04 00:00:00",
          "2020-10-11 00:00:00",
          "2020-10-11 00:00:00",
          "2020-10-11 00:00:00",
          "2020-10-11 00:00:00",
          "2020-10-18 00:00:00",
          "2020-10-18 00:00:00",
          "2020-10-18 00:00:00",
          "2020-10-18 00:00:00",
          "2020-10-25 00:00:00",
          "2020-10-25 00:00:00",
          "2020-10-25 00:00:00",
          "2020-10-25 00:00:00",
          "2020-11-01 00:00:00",
          "2020-11-01 00:00:00",
          "2020-11-01 00:00:00",
          "2020-11-01 00:00:00",
          "2020-11-08 00:00:00",
          "2020-11-08 00:00:00",
          "2020-11-08 00:00:00",
          "2020-11-08 00:00:00",
          "2020-11-15 00:00:00",
          "2020-11-15 00:00:00",
          "2020-11-15 00:00:00",
          "2020-11-15 00:00:00"
         ],
         "xaxis": "x",
         "y": [
          1,
          1,
          1,
          1,
          1,
          1,
          1,
          1,
          1,
          1,
          1,
          1,
          1,
          1,
          1,
          1,
          1,
          1,
          1,
          1,
          1,
          1,
          1,
          1,
          1,
          1,
          1,
          1,
          0,
          0,
          1,
          1,
          1,
          1,
          1,
          1,
          1,
          0,
          0,
          0,
          0,
          1,
          1,
          0,
          0,
          1,
          1,
          0,
          1,
          0,
          1,
          1,
          1,
          0,
          0,
          1,
          0,
          1,
          0,
          0,
          0,
          1,
          1,
          1,
          0,
          1,
          0,
          1,
          1,
          0,
          0,
          0,
          1,
          0,
          1,
          0,
          0,
          1,
          1,
          0,
          1,
          0,
          1,
          1,
          1,
          0,
          0,
          1,
          0,
          0,
          1,
          0,
          0,
          1,
          1,
          1,
          1,
          0,
          0,
          1,
          1,
          0,
          0,
          1,
          0,
          0,
          1,
          1,
          0,
          0,
          1,
          1,
          0,
          0,
          1,
          0,
          1,
          0,
          1,
          1,
          0,
          0,
          1,
          1,
          0,
          0,
          1,
          0,
          0,
          1,
          1,
          0,
          0,
          1,
          1,
          1,
          1,
          0,
          0,
          1,
          0,
          1,
          0,
          1,
          0,
          1,
          0,
          0,
          0,
          1,
          1,
          0,
          0,
          1,
          1,
          1,
          0,
          0,
          1,
          0,
          0,
          1,
          1,
          1,
          0,
          1,
          0,
          1,
          0,
          1,
          0,
          0,
          0,
          1,
          1,
          1,
          0,
          0,
          1,
          1,
          1,
          0,
          0,
          1,
          0,
          1,
          0,
          1,
          0,
          1,
          0,
          1,
          1,
          0,
          0,
          1,
          0,
          1,
          0,
          1,
          0,
          1,
          0,
          1,
          1,
          0,
          0,
          1,
          0,
          0,
          1,
          1,
          0,
          1,
          0,
          0,
          1,
          0,
          1,
          0,
          0,
          1,
          1,
          1,
          0,
          0,
          1,
          1,
          1,
          0,
          0,
          1,
          0,
          0,
          1,
          1,
          0,
          1,
          0,
          1,
          0,
          0,
          1,
          0,
          0,
          1,
          1,
          0,
          1,
          1,
          0,
          1,
          1,
          0,
          0,
          1,
          1,
          0,
          0,
          1,
          1,
          0,
          0,
          0,
          1,
          0,
          1,
          0,
          1,
          0,
          1,
          1,
          0,
          1,
          0,
          0,
          0,
          1,
          1,
          0,
          0,
          1,
          1,
          0,
          0,
          1,
          1,
          0,
          1,
          1,
          0,
          0,
          1,
          1,
          0,
          1,
          1,
          0,
          0,
          0,
          1,
          1,
          0,
          1,
          0,
          1,
          0,
          0,
          1,
          0,
          1,
          1,
          1,
          0,
          0,
          0,
          1,
          0,
          1,
          0,
          0,
          1,
          1,
          0,
          0,
          1,
          1,
          1,
          0,
          1,
          0,
          1,
          0,
          1,
          0,
          0,
          1,
          0,
          1,
          0,
          1,
          0,
          1,
          1,
          1,
          0,
          0,
          0,
          0,
          1,
          1,
          1,
          0,
          0,
          1,
          1,
          0,
          0,
          1,
          0,
          0,
          1,
          1,
          1,
          0,
          0,
          1,
          0,
          1,
          0,
          1,
          1,
          0,
          1,
          0,
          1,
          0,
          0,
          1,
          1,
          0,
          1,
          0,
          1,
          0,
          0,
          1,
          1,
          0,
          1,
          0
         ],
         "yaxis": "y"
        }
       ],
       "layout": {
        "legend": {
         "tracegroupgap": 0
        },
        "margin": {
         "t": 60
        },
        "template": {
         "data": {
          "bar": [
           {
            "error_x": {
             "color": "#2a3f5f"
            },
            "error_y": {
             "color": "#2a3f5f"
            },
            "marker": {
             "line": {
              "color": "#E5ECF6",
              "width": 0.5
             },
             "pattern": {
              "fillmode": "overlay",
              "size": 10,
              "solidity": 0.2
             }
            },
            "type": "bar"
           }
          ],
          "barpolar": [
           {
            "marker": {
             "line": {
              "color": "#E5ECF6",
              "width": 0.5
             },
             "pattern": {
              "fillmode": "overlay",
              "size": 10,
              "solidity": 0.2
             }
            },
            "type": "barpolar"
           }
          ],
          "carpet": [
           {
            "aaxis": {
             "endlinecolor": "#2a3f5f",
             "gridcolor": "white",
             "linecolor": "white",
             "minorgridcolor": "white",
             "startlinecolor": "#2a3f5f"
            },
            "baxis": {
             "endlinecolor": "#2a3f5f",
             "gridcolor": "white",
             "linecolor": "white",
             "minorgridcolor": "white",
             "startlinecolor": "#2a3f5f"
            },
            "type": "carpet"
           }
          ],
          "choropleth": [
           {
            "colorbar": {
             "outlinewidth": 0,
             "ticks": ""
            },
            "type": "choropleth"
           }
          ],
          "contour": [
           {
            "colorbar": {
             "outlinewidth": 0,
             "ticks": ""
            },
            "colorscale": [
             [
              0,
              "#0d0887"
             ],
             [
              0.1111111111111111,
              "#46039f"
             ],
             [
              0.2222222222222222,
              "#7201a8"
             ],
             [
              0.3333333333333333,
              "#9c179e"
             ],
             [
              0.4444444444444444,
              "#bd3786"
             ],
             [
              0.5555555555555556,
              "#d8576b"
             ],
             [
              0.6666666666666666,
              "#ed7953"
             ],
             [
              0.7777777777777778,
              "#fb9f3a"
             ],
             [
              0.8888888888888888,
              "#fdca26"
             ],
             [
              1,
              "#f0f921"
             ]
            ],
            "type": "contour"
           }
          ],
          "contourcarpet": [
           {
            "colorbar": {
             "outlinewidth": 0,
             "ticks": ""
            },
            "type": "contourcarpet"
           }
          ],
          "heatmap": [
           {
            "colorbar": {
             "outlinewidth": 0,
             "ticks": ""
            },
            "colorscale": [
             [
              0,
              "#0d0887"
             ],
             [
              0.1111111111111111,
              "#46039f"
             ],
             [
              0.2222222222222222,
              "#7201a8"
             ],
             [
              0.3333333333333333,
              "#9c179e"
             ],
             [
              0.4444444444444444,
              "#bd3786"
             ],
             [
              0.5555555555555556,
              "#d8576b"
             ],
             [
              0.6666666666666666,
              "#ed7953"
             ],
             [
              0.7777777777777778,
              "#fb9f3a"
             ],
             [
              0.8888888888888888,
              "#fdca26"
             ],
             [
              1,
              "#f0f921"
             ]
            ],
            "type": "heatmap"
           }
          ],
          "heatmapgl": [
           {
            "colorbar": {
             "outlinewidth": 0,
             "ticks": ""
            },
            "colorscale": [
             [
              0,
              "#0d0887"
             ],
             [
              0.1111111111111111,
              "#46039f"
             ],
             [
              0.2222222222222222,
              "#7201a8"
             ],
             [
              0.3333333333333333,
              "#9c179e"
             ],
             [
              0.4444444444444444,
              "#bd3786"
             ],
             [
              0.5555555555555556,
              "#d8576b"
             ],
             [
              0.6666666666666666,
              "#ed7953"
             ],
             [
              0.7777777777777778,
              "#fb9f3a"
             ],
             [
              0.8888888888888888,
              "#fdca26"
             ],
             [
              1,
              "#f0f921"
             ]
            ],
            "type": "heatmapgl"
           }
          ],
          "histogram": [
           {
            "marker": {
             "pattern": {
              "fillmode": "overlay",
              "size": 10,
              "solidity": 0.2
             }
            },
            "type": "histogram"
           }
          ],
          "histogram2d": [
           {
            "colorbar": {
             "outlinewidth": 0,
             "ticks": ""
            },
            "colorscale": [
             [
              0,
              "#0d0887"
             ],
             [
              0.1111111111111111,
              "#46039f"
             ],
             [
              0.2222222222222222,
              "#7201a8"
             ],
             [
              0.3333333333333333,
              "#9c179e"
             ],
             [
              0.4444444444444444,
              "#bd3786"
             ],
             [
              0.5555555555555556,
              "#d8576b"
             ],
             [
              0.6666666666666666,
              "#ed7953"
             ],
             [
              0.7777777777777778,
              "#fb9f3a"
             ],
             [
              0.8888888888888888,
              "#fdca26"
             ],
             [
              1,
              "#f0f921"
             ]
            ],
            "type": "histogram2d"
           }
          ],
          "histogram2dcontour": [
           {
            "colorbar": {
             "outlinewidth": 0,
             "ticks": ""
            },
            "colorscale": [
             [
              0,
              "#0d0887"
             ],
             [
              0.1111111111111111,
              "#46039f"
             ],
             [
              0.2222222222222222,
              "#7201a8"
             ],
             [
              0.3333333333333333,
              "#9c179e"
             ],
             [
              0.4444444444444444,
              "#bd3786"
             ],
             [
              0.5555555555555556,
              "#d8576b"
             ],
             [
              0.6666666666666666,
              "#ed7953"
             ],
             [
              0.7777777777777778,
              "#fb9f3a"
             ],
             [
              0.8888888888888888,
              "#fdca26"
             ],
             [
              1,
              "#f0f921"
             ]
            ],
            "type": "histogram2dcontour"
           }
          ],
          "mesh3d": [
           {
            "colorbar": {
             "outlinewidth": 0,
             "ticks": ""
            },
            "type": "mesh3d"
           }
          ],
          "parcoords": [
           {
            "line": {
             "colorbar": {
              "outlinewidth": 0,
              "ticks": ""
             }
            },
            "type": "parcoords"
           }
          ],
          "pie": [
           {
            "automargin": true,
            "type": "pie"
           }
          ],
          "scatter": [
           {
            "fillpattern": {
             "fillmode": "overlay",
             "size": 10,
             "solidity": 0.2
            },
            "type": "scatter"
           }
          ],
          "scatter3d": [
           {
            "line": {
             "colorbar": {
              "outlinewidth": 0,
              "ticks": ""
             }
            },
            "marker": {
             "colorbar": {
              "outlinewidth": 0,
              "ticks": ""
             }
            },
            "type": "scatter3d"
           }
          ],
          "scattercarpet": [
           {
            "marker": {
             "colorbar": {
              "outlinewidth": 0,
              "ticks": ""
             }
            },
            "type": "scattercarpet"
           }
          ],
          "scattergeo": [
           {
            "marker": {
             "colorbar": {
              "outlinewidth": 0,
              "ticks": ""
             }
            },
            "type": "scattergeo"
           }
          ],
          "scattergl": [
           {
            "marker": {
             "colorbar": {
              "outlinewidth": 0,
              "ticks": ""
             }
            },
            "type": "scattergl"
           }
          ],
          "scattermapbox": [
           {
            "marker": {
             "colorbar": {
              "outlinewidth": 0,
              "ticks": ""
             }
            },
            "type": "scattermapbox"
           }
          ],
          "scatterpolar": [
           {
            "marker": {
             "colorbar": {
              "outlinewidth": 0,
              "ticks": ""
             }
            },
            "type": "scatterpolar"
           }
          ],
          "scatterpolargl": [
           {
            "marker": {
             "colorbar": {
              "outlinewidth": 0,
              "ticks": ""
             }
            },
            "type": "scatterpolargl"
           }
          ],
          "scatterternary": [
           {
            "marker": {
             "colorbar": {
              "outlinewidth": 0,
              "ticks": ""
             }
            },
            "type": "scatterternary"
           }
          ],
          "surface": [
           {
            "colorbar": {
             "outlinewidth": 0,
             "ticks": ""
            },
            "colorscale": [
             [
              0,
              "#0d0887"
             ],
             [
              0.1111111111111111,
              "#46039f"
             ],
             [
              0.2222222222222222,
              "#7201a8"
             ],
             [
              0.3333333333333333,
              "#9c179e"
             ],
             [
              0.4444444444444444,
              "#bd3786"
             ],
             [
              0.5555555555555556,
              "#d8576b"
             ],
             [
              0.6666666666666666,
              "#ed7953"
             ],
             [
              0.7777777777777778,
              "#fb9f3a"
             ],
             [
              0.8888888888888888,
              "#fdca26"
             ],
             [
              1,
              "#f0f921"
             ]
            ],
            "type": "surface"
           }
          ],
          "table": [
           {
            "cells": {
             "fill": {
              "color": "#EBF0F8"
             },
             "line": {
              "color": "white"
             }
            },
            "header": {
             "fill": {
              "color": "#C8D4E3"
             },
             "line": {
              "color": "white"
             }
            },
            "type": "table"
           }
          ]
         },
         "layout": {
          "annotationdefaults": {
           "arrowcolor": "#2a3f5f",
           "arrowhead": 0,
           "arrowwidth": 1
          },
          "autotypenumbers": "strict",
          "coloraxis": {
           "colorbar": {
            "outlinewidth": 0,
            "ticks": ""
           }
          },
          "colorscale": {
           "diverging": [
            [
             0,
             "#8e0152"
            ],
            [
             0.1,
             "#c51b7d"
            ],
            [
             0.2,
             "#de77ae"
            ],
            [
             0.3,
             "#f1b6da"
            ],
            [
             0.4,
             "#fde0ef"
            ],
            [
             0.5,
             "#f7f7f7"
            ],
            [
             0.6,
             "#e6f5d0"
            ],
            [
             0.7,
             "#b8e186"
            ],
            [
             0.8,
             "#7fbc41"
            ],
            [
             0.9,
             "#4d9221"
            ],
            [
             1,
             "#276419"
            ]
           ],
           "sequential": [
            [
             0,
             "#0d0887"
            ],
            [
             0.1111111111111111,
             "#46039f"
            ],
            [
             0.2222222222222222,
             "#7201a8"
            ],
            [
             0.3333333333333333,
             "#9c179e"
            ],
            [
             0.4444444444444444,
             "#bd3786"
            ],
            [
             0.5555555555555556,
             "#d8576b"
            ],
            [
             0.6666666666666666,
             "#ed7953"
            ],
            [
             0.7777777777777778,
             "#fb9f3a"
            ],
            [
             0.8888888888888888,
             "#fdca26"
            ],
            [
             1,
             "#f0f921"
            ]
           ],
           "sequentialminus": [
            [
             0,
             "#0d0887"
            ],
            [
             0.1111111111111111,
             "#46039f"
            ],
            [
             0.2222222222222222,
             "#7201a8"
            ],
            [
             0.3333333333333333,
             "#9c179e"
            ],
            [
             0.4444444444444444,
             "#bd3786"
            ],
            [
             0.5555555555555556,
             "#d8576b"
            ],
            [
             0.6666666666666666,
             "#ed7953"
            ],
            [
             0.7777777777777778,
             "#fb9f3a"
            ],
            [
             0.8888888888888888,
             "#fdca26"
            ],
            [
             1,
             "#f0f921"
            ]
           ]
          },
          "colorway": [
           "#636efa",
           "#EF553B",
           "#00cc96",
           "#ab63fa",
           "#FFA15A",
           "#19d3f3",
           "#FF6692",
           "#B6E880",
           "#FF97FF",
           "#FECB52"
          ],
          "font": {
           "color": "#2a3f5f"
          },
          "geo": {
           "bgcolor": "white",
           "lakecolor": "white",
           "landcolor": "#E5ECF6",
           "showlakes": true,
           "showland": true,
           "subunitcolor": "white"
          },
          "hoverlabel": {
           "align": "left"
          },
          "hovermode": "closest",
          "mapbox": {
           "style": "light"
          },
          "paper_bgcolor": "white",
          "plot_bgcolor": "#E5ECF6",
          "polar": {
           "angularaxis": {
            "gridcolor": "white",
            "linecolor": "white",
            "ticks": ""
           },
           "bgcolor": "#E5ECF6",
           "radialaxis": {
            "gridcolor": "white",
            "linecolor": "white",
            "ticks": ""
           }
          },
          "scene": {
           "xaxis": {
            "backgroundcolor": "#E5ECF6",
            "gridcolor": "white",
            "gridwidth": 2,
            "linecolor": "white",
            "showbackground": true,
            "ticks": "",
            "zerolinecolor": "white"
           },
           "yaxis": {
            "backgroundcolor": "#E5ECF6",
            "gridcolor": "white",
            "gridwidth": 2,
            "linecolor": "white",
            "showbackground": true,
            "ticks": "",
            "zerolinecolor": "white"
           },
           "zaxis": {
            "backgroundcolor": "#E5ECF6",
            "gridcolor": "white",
            "gridwidth": 2,
            "linecolor": "white",
            "showbackground": true,
            "ticks": "",
            "zerolinecolor": "white"
           }
          },
          "shapedefaults": {
           "line": {
            "color": "#2a3f5f"
           }
          },
          "ternary": {
           "aaxis": {
            "gridcolor": "white",
            "linecolor": "white",
            "ticks": ""
           },
           "baxis": {
            "gridcolor": "white",
            "linecolor": "white",
            "ticks": ""
           },
           "bgcolor": "#E5ECF6",
           "caxis": {
            "gridcolor": "white",
            "linecolor": "white",
            "ticks": ""
           }
          },
          "title": {
           "x": 0.05
          },
          "xaxis": {
           "automargin": true,
           "gridcolor": "white",
           "linecolor": "white",
           "ticks": "",
           "title": {
            "standoff": 15
           },
           "zerolinecolor": "white",
           "zerolinewidth": 2
          },
          "yaxis": {
           "automargin": true,
           "gridcolor": "white",
           "linecolor": "white",
           "ticks": "",
           "title": {
            "standoff": 15
           },
           "zerolinecolor": "white",
           "zerolinewidth": 2
          }
         }
        },
        "xaxis": {
         "anchor": "y",
         "domain": [
          0,
          1
         ],
         "title": {
          "text": "params.week_end_experiment_end_date"
         }
        },
        "yaxis": {
         "anchor": "x",
         "domain": [
          0,
          1
         ],
         "title": {
          "text": "params.daily_dispatch_count_drift_detected"
         }
        }
       }
      },
      "text/html": [
       "<div>                            <div id=\"a4e7fd65-a1d5-4156-8592-f09f4eba3ae3\" class=\"plotly-graph-div\" style=\"height:525px; width:100%;\"></div>            <script type=\"text/javascript\">                require([\"plotly\"], function(Plotly) {                    window.PLOTLYENV=window.PLOTLYENV || {};                                    if (document.getElementById(\"a4e7fd65-a1d5-4156-8592-f09f4eba3ae3\")) {                    Plotly.newPlot(                        \"a4e7fd65-a1d5-4156-8592-f09f4eba3ae3\",                        [{\"hovertemplate\":\"params.week_end_experiment_end_date=%{x}<br>params.daily_dispatch_count_drift_detected=%{y}<extra></extra>\",\"legendgroup\":\"\",\"line\":{\"color\":\"#636efa\",\"dash\":\"solid\"},\"marker\":{\"symbol\":\"circle\"},\"mode\":\"lines+markers\",\"name\":\"\",\"orientation\":\"v\",\"showlegend\":false,\"x\":[\"2018-12-30 00:00:00\",\"2018-12-30 00:00:00\",\"2018-12-30 00:00:00\",\"2018-12-30 00:00:00\",\"2019-01-06 00:00:00\",\"2019-01-06 00:00:00\",\"2019-01-06 00:00:00\",\"2019-01-13 00:00:00\",\"2019-01-13 00:00:00\",\"2019-01-13 00:00:00\",\"2019-01-20 00:00:00\",\"2019-01-20 00:00:00\",\"2019-01-20 00:00:00\",\"2019-01-27 00:00:00\",\"2019-01-27 00:00:00\",\"2019-01-27 00:00:00\",\"2019-02-03 00:00:00\",\"2019-02-03 00:00:00\",\"2019-02-03 00:00:00\",\"2019-02-10 00:00:00\",\"2019-02-10 00:00:00\",\"2019-02-10 00:00:00\",\"2019-02-17 00:00:00\",\"2019-02-17 00:00:00\",\"2019-02-17 00:00:00\",\"2019-02-24 00:00:00\",\"2019-02-24 00:00:00\",\"2019-02-24 00:00:00\",\"2019-03-03 00:00:00\",\"2019-03-03 00:00:00\",\"2019-03-03 00:00:00\",\"2019-03-03 00:00:00\",\"2019-03-03 00:00:00\",\"2019-03-03 00:00:00\",\"2019-03-03 00:00:00\",\"2019-03-10 00:00:00\",\"2019-03-10 00:00:00\",\"2019-03-10 00:00:00\",\"2019-03-10 00:00:00\",\"2019-03-17 00:00:00\",\"2019-03-17 00:00:00\",\"2019-03-17 00:00:00\",\"2019-03-17 00:00:00\",\"2019-03-24 00:00:00\",\"2019-03-24 00:00:00\",\"2019-03-24 00:00:00\",\"2019-03-24 00:00:00\",\"2019-03-31 00:00:00\",\"2019-03-31 00:00:00\",\"2019-03-31 00:00:00\",\"2019-03-31 00:00:00\",\"2019-04-07 00:00:00\",\"2019-04-07 00:00:00\",\"2019-04-07 00:00:00\",\"2019-04-07 00:00:00\",\"2019-04-14 00:00:00\",\"2019-04-14 00:00:00\",\"2019-04-14 00:00:00\",\"2019-04-14 00:00:00\",\"2019-04-21 00:00:00\",\"2019-04-21 00:00:00\",\"2019-04-21 00:00:00\",\"2019-04-21 00:00:00\",\"2019-04-28 00:00:00\",\"2019-04-28 00:00:00\",\"2019-04-28 00:00:00\",\"2019-04-28 00:00:00\",\"2019-05-05 00:00:00\",\"2019-05-05 00:00:00\",\"2019-05-05 00:00:00\",\"2019-05-05 00:00:00\",\"2019-05-12 00:00:00\",\"2019-05-12 00:00:00\",\"2019-05-12 00:00:00\",\"2019-05-12 00:00:00\",\"2019-05-19 00:00:00\",\"2019-05-19 00:00:00\",\"2019-05-19 00:00:00\",\"2019-05-19 00:00:00\",\"2019-05-26 00:00:00\",\"2019-05-26 00:00:00\",\"2019-05-26 00:00:00\",\"2019-05-26 00:00:00\",\"2019-06-02 00:00:00\",\"2019-06-02 00:00:00\",\"2019-06-02 00:00:00\",\"2019-06-02 00:00:00\",\"2019-06-09 00:00:00\",\"2019-06-09 00:00:00\",\"2019-06-09 00:00:00\",\"2019-06-09 00:00:00\",\"2019-06-16 00:00:00\",\"2019-06-16 00:00:00\",\"2019-06-16 00:00:00\",\"2019-06-16 00:00:00\",\"2019-06-23 00:00:00\",\"2019-06-23 00:00:00\",\"2019-06-23 00:00:00\",\"2019-06-23 00:00:00\",\"2019-06-30 00:00:00\",\"2019-06-30 00:00:00\",\"2019-06-30 00:00:00\",\"2019-06-30 00:00:00\",\"2019-07-07 00:00:00\",\"2019-07-07 00:00:00\",\"2019-07-07 00:00:00\",\"2019-07-07 00:00:00\",\"2019-07-14 00:00:00\",\"2019-07-14 00:00:00\",\"2019-07-14 00:00:00\",\"2019-07-14 00:00:00\",\"2019-07-21 00:00:00\",\"2019-07-21 00:00:00\",\"2019-07-21 00:00:00\",\"2019-07-21 00:00:00\",\"2019-07-28 00:00:00\",\"2019-07-28 00:00:00\",\"2019-07-28 00:00:00\",\"2019-07-28 00:00:00\",\"2019-08-04 00:00:00\",\"2019-08-04 00:00:00\",\"2019-08-04 00:00:00\",\"2019-08-04 00:00:00\",\"2019-08-11 00:00:00\",\"2019-08-11 00:00:00\",\"2019-08-11 00:00:00\",\"2019-08-11 00:00:00\",\"2019-08-18 00:00:00\",\"2019-08-18 00:00:00\",\"2019-08-18 00:00:00\",\"2019-08-18 00:00:00\",\"2019-08-25 00:00:00\",\"2019-08-25 00:00:00\",\"2019-08-25 00:00:00\",\"2019-08-25 00:00:00\",\"2019-09-01 00:00:00\",\"2019-09-01 00:00:00\",\"2019-09-01 00:00:00\",\"2019-09-01 00:00:00\",\"2019-09-08 00:00:00\",\"2019-09-08 00:00:00\",\"2019-09-08 00:00:00\",\"2019-09-08 00:00:00\",\"2019-09-15 00:00:00\",\"2019-09-15 00:00:00\",\"2019-09-15 00:00:00\",\"2019-09-15 00:00:00\",\"2019-09-22 00:00:00\",\"2019-09-22 00:00:00\",\"2019-09-22 00:00:00\",\"2019-09-22 00:00:00\",\"2019-09-29 00:00:00\",\"2019-09-29 00:00:00\",\"2019-09-29 00:00:00\",\"2019-09-29 00:00:00\",\"2019-10-06 00:00:00\",\"2019-10-06 00:00:00\",\"2019-10-06 00:00:00\",\"2019-10-06 00:00:00\",\"2019-10-13 00:00:00\",\"2019-10-13 00:00:00\",\"2019-10-13 00:00:00\",\"2019-10-13 00:00:00\",\"2019-10-20 00:00:00\",\"2019-10-20 00:00:00\",\"2019-10-20 00:00:00\",\"2019-10-20 00:00:00\",\"2019-10-27 00:00:00\",\"2019-10-27 00:00:00\",\"2019-10-27 00:00:00\",\"2019-10-27 00:00:00\",\"2019-11-03 00:00:00\",\"2019-11-03 00:00:00\",\"2019-11-03 00:00:00\",\"2019-11-03 00:00:00\",\"2019-11-10 00:00:00\",\"2019-11-10 00:00:00\",\"2019-11-10 00:00:00\",\"2019-11-10 00:00:00\",\"2019-11-17 00:00:00\",\"2019-11-17 00:00:00\",\"2019-11-17 00:00:00\",\"2019-11-17 00:00:00\",\"2019-11-24 00:00:00\",\"2019-11-24 00:00:00\",\"2019-11-24 00:00:00\",\"2019-11-24 00:00:00\",\"2019-12-01 00:00:00\",\"2019-12-01 00:00:00\",\"2019-12-01 00:00:00\",\"2019-12-01 00:00:00\",\"2019-12-08 00:00:00\",\"2019-12-08 00:00:00\",\"2019-12-08 00:00:00\",\"2019-12-08 00:00:00\",\"2019-12-15 00:00:00\",\"2019-12-15 00:00:00\",\"2019-12-15 00:00:00\",\"2019-12-15 00:00:00\",\"2019-12-22 00:00:00\",\"2019-12-22 00:00:00\",\"2019-12-22 00:00:00\",\"2019-12-22 00:00:00\",\"2019-12-29 00:00:00\",\"2019-12-29 00:00:00\",\"2019-12-29 00:00:00\",\"2019-12-29 00:00:00\",\"2020-01-05 00:00:00\",\"2020-01-05 00:00:00\",\"2020-01-05 00:00:00\",\"2020-01-05 00:00:00\",\"2020-01-12 00:00:00\",\"2020-01-12 00:00:00\",\"2020-01-12 00:00:00\",\"2020-01-12 00:00:00\",\"2020-01-19 00:00:00\",\"2020-01-19 00:00:00\",\"2020-01-19 00:00:00\",\"2020-01-19 00:00:00\",\"2020-01-26 00:00:00\",\"2020-01-26 00:00:00\",\"2020-01-26 00:00:00\",\"2020-01-26 00:00:00\",\"2020-02-02 00:00:00\",\"2020-02-02 00:00:00\",\"2020-02-02 00:00:00\",\"2020-02-02 00:00:00\",\"2020-02-09 00:00:00\",\"2020-02-09 00:00:00\",\"2020-02-09 00:00:00\",\"2020-02-09 00:00:00\",\"2020-02-16 00:00:00\",\"2020-02-16 00:00:00\",\"2020-02-16 00:00:00\",\"2020-02-16 00:00:00\",\"2020-02-23 00:00:00\",\"2020-02-23 00:00:00\",\"2020-02-23 00:00:00\",\"2020-02-23 00:00:00\",\"2020-03-01 00:00:00\",\"2020-03-01 00:00:00\",\"2020-03-01 00:00:00\",\"2020-03-01 00:00:00\",\"2020-03-08 00:00:00\",\"2020-03-08 00:00:00\",\"2020-03-08 00:00:00\",\"2020-03-08 00:00:00\",\"2020-03-15 00:00:00\",\"2020-03-15 00:00:00\",\"2020-03-15 00:00:00\",\"2020-03-15 00:00:00\",\"2020-03-22 00:00:00\",\"2020-03-22 00:00:00\",\"2020-03-22 00:00:00\",\"2020-03-22 00:00:00\",\"2020-03-29 00:00:00\",\"2020-03-29 00:00:00\",\"2020-03-29 00:00:00\",\"2020-03-29 00:00:00\",\"2020-04-05 00:00:00\",\"2020-04-05 00:00:00\",\"2020-04-05 00:00:00\",\"2020-04-05 00:00:00\",\"2020-04-12 00:00:00\",\"2020-04-12 00:00:00\",\"2020-04-12 00:00:00\",\"2020-04-12 00:00:00\",\"2020-04-19 00:00:00\",\"2020-04-19 00:00:00\",\"2020-04-19 00:00:00\",\"2020-04-19 00:00:00\",\"2020-04-26 00:00:00\",\"2020-04-26 00:00:00\",\"2020-04-26 00:00:00\",\"2020-04-26 00:00:00\",\"2020-05-03 00:00:00\",\"2020-05-03 00:00:00\",\"2020-05-03 00:00:00\",\"2020-05-03 00:00:00\",\"2020-05-10 00:00:00\",\"2020-05-10 00:00:00\",\"2020-05-10 00:00:00\",\"2020-05-10 00:00:00\",\"2020-05-17 00:00:00\",\"2020-05-17 00:00:00\",\"2020-05-17 00:00:00\",\"2020-05-17 00:00:00\",\"2020-05-24 00:00:00\",\"2020-05-24 00:00:00\",\"2020-05-24 00:00:00\",\"2020-05-24 00:00:00\",\"2020-05-31 00:00:00\",\"2020-05-31 00:00:00\",\"2020-05-31 00:00:00\",\"2020-05-31 00:00:00\",\"2020-06-07 00:00:00\",\"2020-06-07 00:00:00\",\"2020-06-07 00:00:00\",\"2020-06-07 00:00:00\",\"2020-06-14 00:00:00\",\"2020-06-14 00:00:00\",\"2020-06-14 00:00:00\",\"2020-06-14 00:00:00\",\"2020-06-21 00:00:00\",\"2020-06-21 00:00:00\",\"2020-06-21 00:00:00\",\"2020-06-21 00:00:00\",\"2020-06-28 00:00:00\",\"2020-06-28 00:00:00\",\"2020-06-28 00:00:00\",\"2020-06-28 00:00:00\",\"2020-07-05 00:00:00\",\"2020-07-05 00:00:00\",\"2020-07-05 00:00:00\",\"2020-07-05 00:00:00\",\"2020-07-12 00:00:00\",\"2020-07-12 00:00:00\",\"2020-07-12 00:00:00\",\"2020-07-12 00:00:00\",\"2020-07-19 00:00:00\",\"2020-07-19 00:00:00\",\"2020-07-19 00:00:00\",\"2020-07-19 00:00:00\",\"2020-07-26 00:00:00\",\"2020-07-26 00:00:00\",\"2020-07-26 00:00:00\",\"2020-07-26 00:00:00\",\"2020-08-02 00:00:00\",\"2020-08-02 00:00:00\",\"2020-08-02 00:00:00\",\"2020-08-02 00:00:00\",\"2020-08-09 00:00:00\",\"2020-08-09 00:00:00\",\"2020-08-09 00:00:00\",\"2020-08-09 00:00:00\",\"2020-08-16 00:00:00\",\"2020-08-16 00:00:00\",\"2020-08-16 00:00:00\",\"2020-08-16 00:00:00\",\"2020-08-23 00:00:00\",\"2020-08-23 00:00:00\",\"2020-08-23 00:00:00\",\"2020-08-23 00:00:00\",\"2020-08-30 00:00:00\",\"2020-08-30 00:00:00\",\"2020-08-30 00:00:00\",\"2020-08-30 00:00:00\",\"2020-09-06 00:00:00\",\"2020-09-06 00:00:00\",\"2020-09-06 00:00:00\",\"2020-09-06 00:00:00\",\"2020-09-13 00:00:00\",\"2020-09-13 00:00:00\",\"2020-09-13 00:00:00\",\"2020-09-13 00:00:00\",\"2020-09-20 00:00:00\",\"2020-09-20 00:00:00\",\"2020-09-20 00:00:00\",\"2020-09-20 00:00:00\",\"2020-09-27 00:00:00\",\"2020-09-27 00:00:00\",\"2020-09-27 00:00:00\",\"2020-09-27 00:00:00\",\"2020-10-04 00:00:00\",\"2020-10-04 00:00:00\",\"2020-10-04 00:00:00\",\"2020-10-04 00:00:00\",\"2020-10-11 00:00:00\",\"2020-10-11 00:00:00\",\"2020-10-11 00:00:00\",\"2020-10-11 00:00:00\",\"2020-10-18 00:00:00\",\"2020-10-18 00:00:00\",\"2020-10-18 00:00:00\",\"2020-10-18 00:00:00\",\"2020-10-25 00:00:00\",\"2020-10-25 00:00:00\",\"2020-10-25 00:00:00\",\"2020-10-25 00:00:00\",\"2020-11-01 00:00:00\",\"2020-11-01 00:00:00\",\"2020-11-01 00:00:00\",\"2020-11-01 00:00:00\",\"2020-11-08 00:00:00\",\"2020-11-08 00:00:00\",\"2020-11-08 00:00:00\",\"2020-11-08 00:00:00\",\"2020-11-15 00:00:00\",\"2020-11-15 00:00:00\",\"2020-11-15 00:00:00\",\"2020-11-15 00:00:00\"],\"xaxis\":\"x\",\"y\":[1,1,1,1,1,1,1,1,1,1,1,1,1,1,1,1,1,1,1,1,1,1,1,1,1,1,1,1,0,0,1,1,1,1,1,1,1,0,0,0,0,1,1,0,0,1,1,0,1,0,1,1,1,0,0,1,0,1,0,0,0,1,1,1,0,1,0,1,1,0,0,0,1,0,1,0,0,1,1,0,1,0,1,1,1,0,0,1,0,0,1,0,0,1,1,1,1,0,0,1,1,0,0,1,0,0,1,1,0,0,1,1,0,0,1,0,1,0,1,1,0,0,1,1,0,0,1,0,0,1,1,0,0,1,1,1,1,0,0,1,0,1,0,1,0,1,0,0,0,1,1,0,0,1,1,1,0,0,1,0,0,1,1,1,0,1,0,1,0,1,0,0,0,1,1,1,0,0,1,1,1,0,0,1,0,1,0,1,0,1,0,1,1,0,0,1,0,1,0,1,0,1,0,1,1,0,0,1,0,0,1,1,0,1,0,0,1,0,1,0,0,1,1,1,0,0,1,1,1,0,0,1,0,0,1,1,0,1,0,1,0,0,1,0,0,1,1,0,1,1,0,1,1,0,0,1,1,0,0,1,1,0,0,0,1,0,1,0,1,0,1,1,0,1,0,0,0,1,1,0,0,1,1,0,0,1,1,0,1,1,0,0,1,1,0,1,1,0,0,0,1,1,0,1,0,1,0,0,1,0,1,1,1,0,0,0,1,0,1,0,0,1,1,0,0,1,1,1,0,1,0,1,0,1,0,0,1,0,1,0,1,0,1,1,1,0,0,0,0,1,1,1,0,0,1,1,0,0,1,0,0,1,1,1,0,0,1,0,1,0,1,1,0,1,0,1,0,0,1,1,0,1,0,1,0,0,1,1,0,1,0],\"yaxis\":\"y\",\"type\":\"scatter\"}],                        {\"template\":{\"data\":{\"histogram2dcontour\":[{\"type\":\"histogram2dcontour\",\"colorbar\":{\"outlinewidth\":0,\"ticks\":\"\"},\"colorscale\":[[0.0,\"#0d0887\"],[0.1111111111111111,\"#46039f\"],[0.2222222222222222,\"#7201a8\"],[0.3333333333333333,\"#9c179e\"],[0.4444444444444444,\"#bd3786\"],[0.5555555555555556,\"#d8576b\"],[0.6666666666666666,\"#ed7953\"],[0.7777777777777778,\"#fb9f3a\"],[0.8888888888888888,\"#fdca26\"],[1.0,\"#f0f921\"]]}],\"choropleth\":[{\"type\":\"choropleth\",\"colorbar\":{\"outlinewidth\":0,\"ticks\":\"\"}}],\"histogram2d\":[{\"type\":\"histogram2d\",\"colorbar\":{\"outlinewidth\":0,\"ticks\":\"\"},\"colorscale\":[[0.0,\"#0d0887\"],[0.1111111111111111,\"#46039f\"],[0.2222222222222222,\"#7201a8\"],[0.3333333333333333,\"#9c179e\"],[0.4444444444444444,\"#bd3786\"],[0.5555555555555556,\"#d8576b\"],[0.6666666666666666,\"#ed7953\"],[0.7777777777777778,\"#fb9f3a\"],[0.8888888888888888,\"#fdca26\"],[1.0,\"#f0f921\"]]}],\"heatmap\":[{\"type\":\"heatmap\",\"colorbar\":{\"outlinewidth\":0,\"ticks\":\"\"},\"colorscale\":[[0.0,\"#0d0887\"],[0.1111111111111111,\"#46039f\"],[0.2222222222222222,\"#7201a8\"],[0.3333333333333333,\"#9c179e\"],[0.4444444444444444,\"#bd3786\"],[0.5555555555555556,\"#d8576b\"],[0.6666666666666666,\"#ed7953\"],[0.7777777777777778,\"#fb9f3a\"],[0.8888888888888888,\"#fdca26\"],[1.0,\"#f0f921\"]]}],\"heatmapgl\":[{\"type\":\"heatmapgl\",\"colorbar\":{\"outlinewidth\":0,\"ticks\":\"\"},\"colorscale\":[[0.0,\"#0d0887\"],[0.1111111111111111,\"#46039f\"],[0.2222222222222222,\"#7201a8\"],[0.3333333333333333,\"#9c179e\"],[0.4444444444444444,\"#bd3786\"],[0.5555555555555556,\"#d8576b\"],[0.6666666666666666,\"#ed7953\"],[0.7777777777777778,\"#fb9f3a\"],[0.8888888888888888,\"#fdca26\"],[1.0,\"#f0f921\"]]}],\"contourcarpet\":[{\"type\":\"contourcarpet\",\"colorbar\":{\"outlinewidth\":0,\"ticks\":\"\"}}],\"contour\":[{\"type\":\"contour\",\"colorbar\":{\"outlinewidth\":0,\"ticks\":\"\"},\"colorscale\":[[0.0,\"#0d0887\"],[0.1111111111111111,\"#46039f\"],[0.2222222222222222,\"#7201a8\"],[0.3333333333333333,\"#9c179e\"],[0.4444444444444444,\"#bd3786\"],[0.5555555555555556,\"#d8576b\"],[0.6666666666666666,\"#ed7953\"],[0.7777777777777778,\"#fb9f3a\"],[0.8888888888888888,\"#fdca26\"],[1.0,\"#f0f921\"]]}],\"surface\":[{\"type\":\"surface\",\"colorbar\":{\"outlinewidth\":0,\"ticks\":\"\"},\"colorscale\":[[0.0,\"#0d0887\"],[0.1111111111111111,\"#46039f\"],[0.2222222222222222,\"#7201a8\"],[0.3333333333333333,\"#9c179e\"],[0.4444444444444444,\"#bd3786\"],[0.5555555555555556,\"#d8576b\"],[0.6666666666666666,\"#ed7953\"],[0.7777777777777778,\"#fb9f3a\"],[0.8888888888888888,\"#fdca26\"],[1.0,\"#f0f921\"]]}],\"mesh3d\":[{\"type\":\"mesh3d\",\"colorbar\":{\"outlinewidth\":0,\"ticks\":\"\"}}],\"scatter\":[{\"fillpattern\":{\"fillmode\":\"overlay\",\"size\":10,\"solidity\":0.2},\"type\":\"scatter\"}],\"parcoords\":[{\"type\":\"parcoords\",\"line\":{\"colorbar\":{\"outlinewidth\":0,\"ticks\":\"\"}}}],\"scatterpolargl\":[{\"type\":\"scatterpolargl\",\"marker\":{\"colorbar\":{\"outlinewidth\":0,\"ticks\":\"\"}}}],\"bar\":[{\"error_x\":{\"color\":\"#2a3f5f\"},\"error_y\":{\"color\":\"#2a3f5f\"},\"marker\":{\"line\":{\"color\":\"#E5ECF6\",\"width\":0.5},\"pattern\":{\"fillmode\":\"overlay\",\"size\":10,\"solidity\":0.2}},\"type\":\"bar\"}],\"scattergeo\":[{\"type\":\"scattergeo\",\"marker\":{\"colorbar\":{\"outlinewidth\":0,\"ticks\":\"\"}}}],\"scatterpolar\":[{\"type\":\"scatterpolar\",\"marker\":{\"colorbar\":{\"outlinewidth\":0,\"ticks\":\"\"}}}],\"histogram\":[{\"marker\":{\"pattern\":{\"fillmode\":\"overlay\",\"size\":10,\"solidity\":0.2}},\"type\":\"histogram\"}],\"scattergl\":[{\"type\":\"scattergl\",\"marker\":{\"colorbar\":{\"outlinewidth\":0,\"ticks\":\"\"}}}],\"scatter3d\":[{\"type\":\"scatter3d\",\"line\":{\"colorbar\":{\"outlinewidth\":0,\"ticks\":\"\"}},\"marker\":{\"colorbar\":{\"outlinewidth\":0,\"ticks\":\"\"}}}],\"scattermapbox\":[{\"type\":\"scattermapbox\",\"marker\":{\"colorbar\":{\"outlinewidth\":0,\"ticks\":\"\"}}}],\"scatterternary\":[{\"type\":\"scatterternary\",\"marker\":{\"colorbar\":{\"outlinewidth\":0,\"ticks\":\"\"}}}],\"scattercarpet\":[{\"type\":\"scattercarpet\",\"marker\":{\"colorbar\":{\"outlinewidth\":0,\"ticks\":\"\"}}}],\"carpet\":[{\"aaxis\":{\"endlinecolor\":\"#2a3f5f\",\"gridcolor\":\"white\",\"linecolor\":\"white\",\"minorgridcolor\":\"white\",\"startlinecolor\":\"#2a3f5f\"},\"baxis\":{\"endlinecolor\":\"#2a3f5f\",\"gridcolor\":\"white\",\"linecolor\":\"white\",\"minorgridcolor\":\"white\",\"startlinecolor\":\"#2a3f5f\"},\"type\":\"carpet\"}],\"table\":[{\"cells\":{\"fill\":{\"color\":\"#EBF0F8\"},\"line\":{\"color\":\"white\"}},\"header\":{\"fill\":{\"color\":\"#C8D4E3\"},\"line\":{\"color\":\"white\"}},\"type\":\"table\"}],\"barpolar\":[{\"marker\":{\"line\":{\"color\":\"#E5ECF6\",\"width\":0.5},\"pattern\":{\"fillmode\":\"overlay\",\"size\":10,\"solidity\":0.2}},\"type\":\"barpolar\"}],\"pie\":[{\"automargin\":true,\"type\":\"pie\"}]},\"layout\":{\"autotypenumbers\":\"strict\",\"colorway\":[\"#636efa\",\"#EF553B\",\"#00cc96\",\"#ab63fa\",\"#FFA15A\",\"#19d3f3\",\"#FF6692\",\"#B6E880\",\"#FF97FF\",\"#FECB52\"],\"font\":{\"color\":\"#2a3f5f\"},\"hovermode\":\"closest\",\"hoverlabel\":{\"align\":\"left\"},\"paper_bgcolor\":\"white\",\"plot_bgcolor\":\"#E5ECF6\",\"polar\":{\"bgcolor\":\"#E5ECF6\",\"angularaxis\":{\"gridcolor\":\"white\",\"linecolor\":\"white\",\"ticks\":\"\"},\"radialaxis\":{\"gridcolor\":\"white\",\"linecolor\":\"white\",\"ticks\":\"\"}},\"ternary\":{\"bgcolor\":\"#E5ECF6\",\"aaxis\":{\"gridcolor\":\"white\",\"linecolor\":\"white\",\"ticks\":\"\"},\"baxis\":{\"gridcolor\":\"white\",\"linecolor\":\"white\",\"ticks\":\"\"},\"caxis\":{\"gridcolor\":\"white\",\"linecolor\":\"white\",\"ticks\":\"\"}},\"coloraxis\":{\"colorbar\":{\"outlinewidth\":0,\"ticks\":\"\"}},\"colorscale\":{\"sequential\":[[0.0,\"#0d0887\"],[0.1111111111111111,\"#46039f\"],[0.2222222222222222,\"#7201a8\"],[0.3333333333333333,\"#9c179e\"],[0.4444444444444444,\"#bd3786\"],[0.5555555555555556,\"#d8576b\"],[0.6666666666666666,\"#ed7953\"],[0.7777777777777778,\"#fb9f3a\"],[0.8888888888888888,\"#fdca26\"],[1.0,\"#f0f921\"]],\"sequentialminus\":[[0.0,\"#0d0887\"],[0.1111111111111111,\"#46039f\"],[0.2222222222222222,\"#7201a8\"],[0.3333333333333333,\"#9c179e\"],[0.4444444444444444,\"#bd3786\"],[0.5555555555555556,\"#d8576b\"],[0.6666666666666666,\"#ed7953\"],[0.7777777777777778,\"#fb9f3a\"],[0.8888888888888888,\"#fdca26\"],[1.0,\"#f0f921\"]],\"diverging\":[[0,\"#8e0152\"],[0.1,\"#c51b7d\"],[0.2,\"#de77ae\"],[0.3,\"#f1b6da\"],[0.4,\"#fde0ef\"],[0.5,\"#f7f7f7\"],[0.6,\"#e6f5d0\"],[0.7,\"#b8e186\"],[0.8,\"#7fbc41\"],[0.9,\"#4d9221\"],[1,\"#276419\"]]},\"xaxis\":{\"gridcolor\":\"white\",\"linecolor\":\"white\",\"ticks\":\"\",\"title\":{\"standoff\":15},\"zerolinecolor\":\"white\",\"automargin\":true,\"zerolinewidth\":2},\"yaxis\":{\"gridcolor\":\"white\",\"linecolor\":\"white\",\"ticks\":\"\",\"title\":{\"standoff\":15},\"zerolinecolor\":\"white\",\"automargin\":true,\"zerolinewidth\":2},\"scene\":{\"xaxis\":{\"backgroundcolor\":\"#E5ECF6\",\"gridcolor\":\"white\",\"linecolor\":\"white\",\"showbackground\":true,\"ticks\":\"\",\"zerolinecolor\":\"white\",\"gridwidth\":2},\"yaxis\":{\"backgroundcolor\":\"#E5ECF6\",\"gridcolor\":\"white\",\"linecolor\":\"white\",\"showbackground\":true,\"ticks\":\"\",\"zerolinecolor\":\"white\",\"gridwidth\":2},\"zaxis\":{\"backgroundcolor\":\"#E5ECF6\",\"gridcolor\":\"white\",\"linecolor\":\"white\",\"showbackground\":true,\"ticks\":\"\",\"zerolinecolor\":\"white\",\"gridwidth\":2}},\"shapedefaults\":{\"line\":{\"color\":\"#2a3f5f\"}},\"annotationdefaults\":{\"arrowcolor\":\"#2a3f5f\",\"arrowhead\":0,\"arrowwidth\":1},\"geo\":{\"bgcolor\":\"white\",\"landcolor\":\"#E5ECF6\",\"subunitcolor\":\"white\",\"showland\":true,\"showlakes\":true,\"lakecolor\":\"white\"},\"title\":{\"x\":0.05},\"mapbox\":{\"style\":\"light\"}}},\"xaxis\":{\"anchor\":\"y\",\"domain\":[0.0,1.0],\"title\":{\"text\":\"params.week_end_experiment_end_date\"}},\"yaxis\":{\"anchor\":\"x\",\"domain\":[0.0,1.0],\"title\":{\"text\":\"params.daily_dispatch_count_drift_detected\"}},\"legend\":{\"tracegroupgap\":0},\"margin\":{\"t\":60}},                        {\"responsive\": true}                    ).then(function(){\n",
       "                            \n",
       "var gd = document.getElementById('a4e7fd65-a1d5-4156-8592-f09f4eba3ae3');\n",
       "var x = new MutationObserver(function (mutations, observer) {{\n",
       "        var display = window.getComputedStyle(gd).display;\n",
       "        if (!display || display === 'none') {{\n",
       "            console.log([gd, 'removed!']);\n",
       "            Plotly.purge(gd);\n",
       "            observer.disconnect();\n",
       "        }}\n",
       "}});\n",
       "\n",
       "// Listen for the removal of the full notebook cells\n",
       "var notebookContainer = gd.closest('#notebook-container');\n",
       "if (notebookContainer) {{\n",
       "    x.observe(notebookContainer, {childList: true});\n",
       "}}\n",
       "\n",
       "// Listen for the clearing of the current output cell\n",
       "var outputEl = gd.closest('.output');\n",
       "if (outputEl) {{\n",
       "    x.observe(outputEl, {childList: true});\n",
       "}}\n",
       "\n",
       "                        })                };                });            </script>        </div>"
      ]
     },
     "metadata": {},
     "output_type": "display_data"
    }
   ],
   "source": [
    "fig = px.line(drift_detected_experiment_results,  y='params.daily_dispatch_count_drift_detected', markers=True)\n",
    "fig.show()"
   ]
  },
  {
   "cell_type": "code",
   "execution_count": 691,
   "id": "b6a5927a",
   "metadata": {},
   "outputs": [
    {
     "data": {
      "application/vnd.plotly.v1+json": {
       "config": {
        "plotlyServerURL": "https://plot.ly"
       },
       "data": [
        {
         "hovertemplate": "params.week_end_experiment_end_date=%{x}<br>params.Product_Type.value_drift_score=%{y}<extra></extra>",
         "legendgroup": "",
         "line": {
          "color": "#636efa",
          "dash": "solid"
         },
         "marker": {
          "symbol": "circle"
         },
         "mode": "lines+markers",
         "name": "",
         "orientation": "v",
         "showlegend": false,
         "type": "scatter",
         "x": [
          "2018-12-30 00:00:00",
          "2018-12-30 00:00:00",
          "2018-12-30 00:00:00",
          "2018-12-30 00:00:00",
          "2019-01-06 00:00:00",
          "2019-01-06 00:00:00",
          "2019-01-06 00:00:00",
          "2019-01-13 00:00:00",
          "2019-01-13 00:00:00",
          "2019-01-13 00:00:00",
          "2019-01-20 00:00:00",
          "2019-01-20 00:00:00",
          "2019-01-20 00:00:00",
          "2019-01-27 00:00:00",
          "2019-01-27 00:00:00",
          "2019-01-27 00:00:00",
          "2019-02-03 00:00:00",
          "2019-02-03 00:00:00",
          "2019-02-03 00:00:00",
          "2019-02-10 00:00:00",
          "2019-02-10 00:00:00",
          "2019-02-10 00:00:00",
          "2019-02-17 00:00:00",
          "2019-02-17 00:00:00",
          "2019-02-17 00:00:00",
          "2019-02-24 00:00:00",
          "2019-02-24 00:00:00",
          "2019-02-24 00:00:00",
          "2019-03-03 00:00:00",
          "2019-03-03 00:00:00",
          "2019-03-03 00:00:00",
          "2019-03-03 00:00:00",
          "2019-03-03 00:00:00",
          "2019-03-03 00:00:00",
          "2019-03-03 00:00:00",
          "2019-03-10 00:00:00",
          "2019-03-10 00:00:00",
          "2019-03-10 00:00:00",
          "2019-03-10 00:00:00",
          "2019-03-17 00:00:00",
          "2019-03-17 00:00:00",
          "2019-03-17 00:00:00",
          "2019-03-17 00:00:00",
          "2019-03-24 00:00:00",
          "2019-03-24 00:00:00",
          "2019-03-24 00:00:00",
          "2019-03-24 00:00:00",
          "2019-03-31 00:00:00",
          "2019-03-31 00:00:00",
          "2019-03-31 00:00:00",
          "2019-03-31 00:00:00",
          "2019-04-07 00:00:00",
          "2019-04-07 00:00:00",
          "2019-04-07 00:00:00",
          "2019-04-07 00:00:00",
          "2019-04-14 00:00:00",
          "2019-04-14 00:00:00",
          "2019-04-14 00:00:00",
          "2019-04-14 00:00:00",
          "2019-04-21 00:00:00",
          "2019-04-21 00:00:00",
          "2019-04-21 00:00:00",
          "2019-04-21 00:00:00",
          "2019-04-28 00:00:00",
          "2019-04-28 00:00:00",
          "2019-04-28 00:00:00",
          "2019-04-28 00:00:00",
          "2019-05-05 00:00:00",
          "2019-05-05 00:00:00",
          "2019-05-05 00:00:00",
          "2019-05-05 00:00:00",
          "2019-05-12 00:00:00",
          "2019-05-12 00:00:00",
          "2019-05-12 00:00:00",
          "2019-05-12 00:00:00",
          "2019-05-19 00:00:00",
          "2019-05-19 00:00:00",
          "2019-05-19 00:00:00",
          "2019-05-19 00:00:00",
          "2019-05-26 00:00:00",
          "2019-05-26 00:00:00",
          "2019-05-26 00:00:00",
          "2019-05-26 00:00:00",
          "2019-06-02 00:00:00",
          "2019-06-02 00:00:00",
          "2019-06-02 00:00:00",
          "2019-06-02 00:00:00",
          "2019-06-09 00:00:00",
          "2019-06-09 00:00:00",
          "2019-06-09 00:00:00",
          "2019-06-09 00:00:00",
          "2019-06-16 00:00:00",
          "2019-06-16 00:00:00",
          "2019-06-16 00:00:00",
          "2019-06-16 00:00:00",
          "2019-06-23 00:00:00",
          "2019-06-23 00:00:00",
          "2019-06-23 00:00:00",
          "2019-06-23 00:00:00",
          "2019-06-30 00:00:00",
          "2019-06-30 00:00:00",
          "2019-06-30 00:00:00",
          "2019-06-30 00:00:00",
          "2019-07-07 00:00:00",
          "2019-07-07 00:00:00",
          "2019-07-07 00:00:00",
          "2019-07-07 00:00:00",
          "2019-07-14 00:00:00",
          "2019-07-14 00:00:00",
          "2019-07-14 00:00:00",
          "2019-07-14 00:00:00",
          "2019-07-21 00:00:00",
          "2019-07-21 00:00:00",
          "2019-07-21 00:00:00",
          "2019-07-21 00:00:00",
          "2019-07-28 00:00:00",
          "2019-07-28 00:00:00",
          "2019-07-28 00:00:00",
          "2019-07-28 00:00:00",
          "2019-08-04 00:00:00",
          "2019-08-04 00:00:00",
          "2019-08-04 00:00:00",
          "2019-08-04 00:00:00",
          "2019-08-11 00:00:00",
          "2019-08-11 00:00:00",
          "2019-08-11 00:00:00",
          "2019-08-11 00:00:00",
          "2019-08-18 00:00:00",
          "2019-08-18 00:00:00",
          "2019-08-18 00:00:00",
          "2019-08-18 00:00:00",
          "2019-08-25 00:00:00",
          "2019-08-25 00:00:00",
          "2019-08-25 00:00:00",
          "2019-08-25 00:00:00",
          "2019-09-01 00:00:00",
          "2019-09-01 00:00:00",
          "2019-09-01 00:00:00",
          "2019-09-01 00:00:00",
          "2019-09-08 00:00:00",
          "2019-09-08 00:00:00",
          "2019-09-08 00:00:00",
          "2019-09-08 00:00:00",
          "2019-09-15 00:00:00",
          "2019-09-15 00:00:00",
          "2019-09-15 00:00:00",
          "2019-09-15 00:00:00",
          "2019-09-22 00:00:00",
          "2019-09-22 00:00:00",
          "2019-09-22 00:00:00",
          "2019-09-22 00:00:00",
          "2019-09-29 00:00:00",
          "2019-09-29 00:00:00",
          "2019-09-29 00:00:00",
          "2019-09-29 00:00:00",
          "2019-10-06 00:00:00",
          "2019-10-06 00:00:00",
          "2019-10-06 00:00:00",
          "2019-10-06 00:00:00",
          "2019-10-13 00:00:00",
          "2019-10-13 00:00:00",
          "2019-10-13 00:00:00",
          "2019-10-13 00:00:00",
          "2019-10-20 00:00:00",
          "2019-10-20 00:00:00",
          "2019-10-20 00:00:00",
          "2019-10-20 00:00:00",
          "2019-10-27 00:00:00",
          "2019-10-27 00:00:00",
          "2019-10-27 00:00:00",
          "2019-10-27 00:00:00",
          "2019-11-03 00:00:00",
          "2019-11-03 00:00:00",
          "2019-11-03 00:00:00",
          "2019-11-03 00:00:00",
          "2019-11-10 00:00:00",
          "2019-11-10 00:00:00",
          "2019-11-10 00:00:00",
          "2019-11-10 00:00:00",
          "2019-11-17 00:00:00",
          "2019-11-17 00:00:00",
          "2019-11-17 00:00:00",
          "2019-11-17 00:00:00",
          "2019-11-24 00:00:00",
          "2019-11-24 00:00:00",
          "2019-11-24 00:00:00",
          "2019-11-24 00:00:00",
          "2019-12-01 00:00:00",
          "2019-12-01 00:00:00",
          "2019-12-01 00:00:00",
          "2019-12-01 00:00:00",
          "2019-12-08 00:00:00",
          "2019-12-08 00:00:00",
          "2019-12-08 00:00:00",
          "2019-12-08 00:00:00",
          "2019-12-15 00:00:00",
          "2019-12-15 00:00:00",
          "2019-12-15 00:00:00",
          "2019-12-15 00:00:00",
          "2019-12-22 00:00:00",
          "2019-12-22 00:00:00",
          "2019-12-22 00:00:00",
          "2019-12-22 00:00:00",
          "2019-12-29 00:00:00",
          "2019-12-29 00:00:00",
          "2019-12-29 00:00:00",
          "2019-12-29 00:00:00",
          "2020-01-05 00:00:00",
          "2020-01-05 00:00:00",
          "2020-01-05 00:00:00",
          "2020-01-05 00:00:00",
          "2020-01-12 00:00:00",
          "2020-01-12 00:00:00",
          "2020-01-12 00:00:00",
          "2020-01-12 00:00:00",
          "2020-01-19 00:00:00",
          "2020-01-19 00:00:00",
          "2020-01-19 00:00:00",
          "2020-01-19 00:00:00",
          "2020-01-26 00:00:00",
          "2020-01-26 00:00:00",
          "2020-01-26 00:00:00",
          "2020-01-26 00:00:00",
          "2020-02-02 00:00:00",
          "2020-02-02 00:00:00",
          "2020-02-02 00:00:00",
          "2020-02-02 00:00:00",
          "2020-02-09 00:00:00",
          "2020-02-09 00:00:00",
          "2020-02-09 00:00:00",
          "2020-02-09 00:00:00",
          "2020-02-16 00:00:00",
          "2020-02-16 00:00:00",
          "2020-02-16 00:00:00",
          "2020-02-16 00:00:00",
          "2020-02-23 00:00:00",
          "2020-02-23 00:00:00",
          "2020-02-23 00:00:00",
          "2020-02-23 00:00:00",
          "2020-03-01 00:00:00",
          "2020-03-01 00:00:00",
          "2020-03-01 00:00:00",
          "2020-03-01 00:00:00",
          "2020-03-08 00:00:00",
          "2020-03-08 00:00:00",
          "2020-03-08 00:00:00",
          "2020-03-08 00:00:00",
          "2020-03-15 00:00:00",
          "2020-03-15 00:00:00",
          "2020-03-15 00:00:00",
          "2020-03-15 00:00:00",
          "2020-03-22 00:00:00",
          "2020-03-22 00:00:00",
          "2020-03-22 00:00:00",
          "2020-03-22 00:00:00",
          "2020-03-29 00:00:00",
          "2020-03-29 00:00:00",
          "2020-03-29 00:00:00",
          "2020-03-29 00:00:00",
          "2020-04-05 00:00:00",
          "2020-04-05 00:00:00",
          "2020-04-05 00:00:00",
          "2020-04-05 00:00:00",
          "2020-04-12 00:00:00",
          "2020-04-12 00:00:00",
          "2020-04-12 00:00:00",
          "2020-04-12 00:00:00",
          "2020-04-19 00:00:00",
          "2020-04-19 00:00:00",
          "2020-04-19 00:00:00",
          "2020-04-19 00:00:00",
          "2020-04-26 00:00:00",
          "2020-04-26 00:00:00",
          "2020-04-26 00:00:00",
          "2020-04-26 00:00:00",
          "2020-05-03 00:00:00",
          "2020-05-03 00:00:00",
          "2020-05-03 00:00:00",
          "2020-05-03 00:00:00",
          "2020-05-10 00:00:00",
          "2020-05-10 00:00:00",
          "2020-05-10 00:00:00",
          "2020-05-10 00:00:00",
          "2020-05-17 00:00:00",
          "2020-05-17 00:00:00",
          "2020-05-17 00:00:00",
          "2020-05-17 00:00:00",
          "2020-05-24 00:00:00",
          "2020-05-24 00:00:00",
          "2020-05-24 00:00:00",
          "2020-05-24 00:00:00",
          "2020-05-31 00:00:00",
          "2020-05-31 00:00:00",
          "2020-05-31 00:00:00",
          "2020-05-31 00:00:00",
          "2020-06-07 00:00:00",
          "2020-06-07 00:00:00",
          "2020-06-07 00:00:00",
          "2020-06-07 00:00:00",
          "2020-06-14 00:00:00",
          "2020-06-14 00:00:00",
          "2020-06-14 00:00:00",
          "2020-06-14 00:00:00",
          "2020-06-21 00:00:00",
          "2020-06-21 00:00:00",
          "2020-06-21 00:00:00",
          "2020-06-21 00:00:00",
          "2020-06-28 00:00:00",
          "2020-06-28 00:00:00",
          "2020-06-28 00:00:00",
          "2020-06-28 00:00:00",
          "2020-07-05 00:00:00",
          "2020-07-05 00:00:00",
          "2020-07-05 00:00:00",
          "2020-07-05 00:00:00",
          "2020-07-12 00:00:00",
          "2020-07-12 00:00:00",
          "2020-07-12 00:00:00",
          "2020-07-12 00:00:00",
          "2020-07-19 00:00:00",
          "2020-07-19 00:00:00",
          "2020-07-19 00:00:00",
          "2020-07-19 00:00:00",
          "2020-07-26 00:00:00",
          "2020-07-26 00:00:00",
          "2020-07-26 00:00:00",
          "2020-07-26 00:00:00",
          "2020-08-02 00:00:00",
          "2020-08-02 00:00:00",
          "2020-08-02 00:00:00",
          "2020-08-02 00:00:00",
          "2020-08-09 00:00:00",
          "2020-08-09 00:00:00",
          "2020-08-09 00:00:00",
          "2020-08-09 00:00:00",
          "2020-08-16 00:00:00",
          "2020-08-16 00:00:00",
          "2020-08-16 00:00:00",
          "2020-08-16 00:00:00",
          "2020-08-23 00:00:00",
          "2020-08-23 00:00:00",
          "2020-08-23 00:00:00",
          "2020-08-23 00:00:00",
          "2020-08-30 00:00:00",
          "2020-08-30 00:00:00",
          "2020-08-30 00:00:00",
          "2020-08-30 00:00:00",
          "2020-09-06 00:00:00",
          "2020-09-06 00:00:00",
          "2020-09-06 00:00:00",
          "2020-09-06 00:00:00",
          "2020-09-13 00:00:00",
          "2020-09-13 00:00:00",
          "2020-09-13 00:00:00",
          "2020-09-13 00:00:00",
          "2020-09-20 00:00:00",
          "2020-09-20 00:00:00",
          "2020-09-20 00:00:00",
          "2020-09-20 00:00:00",
          "2020-09-27 00:00:00",
          "2020-09-27 00:00:00",
          "2020-09-27 00:00:00",
          "2020-09-27 00:00:00",
          "2020-10-04 00:00:00",
          "2020-10-04 00:00:00",
          "2020-10-04 00:00:00",
          "2020-10-04 00:00:00",
          "2020-10-11 00:00:00",
          "2020-10-11 00:00:00",
          "2020-10-11 00:00:00",
          "2020-10-11 00:00:00",
          "2020-10-18 00:00:00",
          "2020-10-18 00:00:00",
          "2020-10-18 00:00:00",
          "2020-10-18 00:00:00",
          "2020-10-25 00:00:00",
          "2020-10-25 00:00:00",
          "2020-10-25 00:00:00",
          "2020-10-25 00:00:00",
          "2020-11-01 00:00:00",
          "2020-11-01 00:00:00",
          "2020-11-01 00:00:00",
          "2020-11-01 00:00:00",
          "2020-11-08 00:00:00",
          "2020-11-08 00:00:00",
          "2020-11-08 00:00:00",
          "2020-11-08 00:00:00",
          "2020-11-15 00:00:00",
          "2020-11-15 00:00:00",
          "2020-11-15 00:00:00",
          "2020-11-15 00:00:00"
         ],
         "xaxis": "x",
         "y": [
          0.8325546111576977,
          0.8325546111576977,
          0,
          0.8325546111576977,
          0.8325546111576977,
          0.8325546111576977,
          0.8325546111576977,
          0.8325546111576977,
          0.8325546111576977,
          0.8325546111576977,
          0.8325546111576977,
          0.8325546111576977,
          0.8325546111576977,
          0.8325546111576977,
          0.8325546111576977,
          0.8325546111576977,
          0.8325546111576977,
          0.8325546111576977,
          0.8325546111576977,
          0.8325546111576977,
          0.8325546111576977,
          0.8325546111576977,
          0.8325546111576977,
          0.8325546111576977,
          0.8325546111576977,
          0.8325546111576977,
          0.8325546111576977,
          0.8325546111576977,
          0.8325546111576977,
          0.8325546111576977,
          0.8325546111576977,
          0.8325546111576977,
          0.8325546111576977,
          0.8325546111576977,
          0.8325546111576977,
          0.8325546111576977,
          0.8325546111576977,
          0.8325546111576977,
          0.8325546111576977,
          0.8325546111576977,
          0.8325546111576977,
          0.8325546111576977,
          0.8325546111576977,
          0.8325546111576977,
          0.8325546111576977,
          0.8325546111576977,
          0.8325546111576977,
          0.8325546111576977,
          0.8325546111576977,
          0.8325546111576977,
          0.8325546111576977,
          0.8325546111576977,
          0.8325546111576977,
          0.8325546111576977,
          0.8325546111576977,
          0.8325546111576977,
          0.8325546111576977,
          0.8325546111576977,
          0.8325546111576977,
          0.8325546111576977,
          0.8325546111576977,
          0.8325546111576977,
          0.8325546111576977,
          0.8325546111576977,
          0.8325546111576977,
          0.8325546111576977,
          0.8325546111576977,
          0.8325546111576977,
          0.8325546111576977,
          0.8325546111576977,
          0.8325546111576977,
          0.8325546111576977,
          0.8325546111576977,
          0.8325546111576977,
          0.8325546111576977,
          0.8325546111576977,
          0.8325546111576977,
          0.8325546111576977,
          0.8325546111576977,
          0.8325546111576977,
          0.8325546111576977,
          0.8325546111576977,
          0.8325546111576977,
          0.8325546111576977,
          0.8325546111576977,
          0.8325546111576977,
          0.8325546111576977,
          0.8325546111576977,
          0.8325546111576977,
          0.8325546111576977,
          0.8325546111576977,
          0.8325546111576977,
          0.8325546111576977,
          0.8325546111576977,
          0.8325546111576977,
          0.8325546111576977,
          0.8325546111576977,
          0.8325546111576977,
          0.8325546111576977,
          0.8325546111576977,
          0.8325546111576977,
          0.8325546111576977,
          0.8325546111576977,
          0.8325546111576977,
          0.8325546111576977,
          0.8325546111576977,
          0.8325546111576977,
          0.8325546111576977,
          0.8325546111576977,
          0.8325546111576977,
          0.8325546111576977,
          0.8325546111576977,
          0.8325546111576977,
          0.8325546111576977,
          0.8325546111576977,
          0.8325546111576977,
          0.8325546111576977,
          0.8325546111576977,
          0.8325546111576977,
          0.8325546111576977,
          0.8325546111576977,
          0.8325546111576977,
          0.8325546111576977,
          0.8325546111576977,
          0.8325546111576977,
          0.8325546111576977,
          0.8325546111576977,
          0.8325546111576977,
          0.8325546111576977,
          0.8325546111576977,
          0.8325546111576977,
          0.8325546111576977,
          0.8325546111576977,
          0.8325546111576977,
          0.8325546111576977,
          0.8325546111576977,
          0.8325546111576977,
          0.8325546111576977,
          0.8325546111576977,
          0.8325546111576977,
          0.8325546111576977,
          0.8325546111576977,
          0.8325546111576977,
          0.8325546111576977,
          0.8325546111576977,
          0.8325546111576977,
          0.8325546111576977,
          0.8325546111576977,
          0.8325546111576977,
          0.8325546111576977,
          0.8325546111576977,
          0.8325546111576977,
          0.8325546111576977,
          0.8325546111576977,
          0.8325546111576977,
          0.8325546111576977,
          0.8325546111576977,
          0.8325546111576977,
          0.8325546111576977,
          0.8325546111576977,
          0.8325546111576977,
          0.8325546111576977,
          0.8325546111576977,
          0.8325546111576977,
          0.8325546111576977,
          0.8325546111576977,
          0.8325546111576977,
          0.8325546111576977,
          0.8325546111576977,
          0.8325546111576977,
          0.8325546111576977,
          0.8325546111576977,
          0.8325546111576977,
          0.8325546111576977,
          0.8325546111576977,
          0.8325546111576977,
          0.8325546111576977,
          0.8325546111576977,
          0.8325546111576977,
          0.8325546111576977,
          0.8325546111576977,
          0.8325546111576977,
          0.8325546111576977,
          0.8325546111576977,
          0.8325546111576977,
          0.8325546111576977,
          0.8325546111576977,
          0.8325546111576977,
          0.8325546111576977,
          0.8325546111576977,
          0.8325546111576977,
          0.8325546111576977,
          0.8325546111576977,
          0.8325546111576977,
          0.8325546111576977,
          0.8325546111576977,
          0.8325546111576977,
          0.8325546111576977,
          0.8325546111576977,
          0.8325546111576977,
          0.8325546111576977,
          0.8325546111576977,
          0.8325546111576977,
          0.8325546111576977,
          0.8325546111576977,
          0.8325546111576977,
          0.8325546111576977,
          0.8325546111576977,
          0.8325546111576977,
          0.8325546111576977,
          0.8325546111576977,
          0.8325546111576977,
          0.8325546111576977,
          0.8325546111576977,
          0.8325546111576977,
          0.8325546111576977,
          0.8325546111576977,
          0.8325546111576977,
          0.8325546111576977,
          0.8325546111576977,
          0.8325546111576977,
          0.8325546111576977,
          0.8325546111576977,
          0.8325546111576977,
          0.8325546111576977,
          0.8325546111576977,
          0.8325546111576977,
          0.8325546111576977,
          0.8325546111576977,
          0.8325546111576977,
          0.8325546111576977,
          0.8325546111576977,
          0.8325546111576977,
          0.8325546111576977,
          0.8325546111576977,
          0.8325546111576977,
          0.8325546111576977,
          0.8325546111576977,
          0.8325546111576977,
          0.8325546111576977,
          0.8325546111576977,
          0.8325546111576977,
          0.8325546111576977,
          0.8325546111576977,
          0.8325546111576977,
          0.8325546111576977,
          0.8325546111576977,
          0.8325546111576977,
          0.8325546111576977,
          0.8325546111576977,
          0.8325546111576977,
          0.8325546111576977,
          0.8325546111576977,
          0.8325546111576977,
          0.8325546111576977,
          0.8325546111576977,
          0.8325546111576977,
          0.8325546111576977,
          0.8325546111576977,
          0.8325546111576977,
          0.8325546111576977,
          0.8325546111576977,
          0.8325546111576977,
          0.8325546111576977,
          0.8325546111576977,
          0.8325546111576977,
          0.8325546111576977,
          0.8325546111576977,
          0.8325546111576977,
          0.8325546111576977,
          0.8325546111576977,
          0.8325546111576977,
          0.8325546111576977,
          0.8325546111576977,
          0.8325546111576977,
          0.8325546111576977,
          0.8325546111576977,
          0.8325546111576977,
          0.8325546111576977,
          0.8325546111576977,
          0.8325546111576977,
          0.8325546111576977,
          0.8325546111576977,
          0.8325546111576977,
          0.8325546111576977,
          0.8325546111576977,
          0.8325546111576977,
          0.8325546111576977,
          0.8325546111576977,
          0.8325546111576977,
          0.8325546111576977,
          0.8325546111576977,
          0.8325546111576977,
          0.8325546111576977,
          0.8325546111576977,
          0.8325546111576977,
          0.8325546111576977,
          0.8325546111576977,
          0.8325546111576977,
          0.8325546111576977,
          0.8325546111576977,
          0.8325546111576977,
          0.8325546111576977,
          0.8325546111576977,
          0.8325546111576977,
          0.8325546111576977,
          0.8325546111576977,
          0.8325546111576977,
          0.8325546111576977,
          0.8325546111576977,
          0.8325546111576977,
          0.8325546111576977,
          0.8325546111576977,
          0.8325546111576977,
          0.8325546111576977,
          0.8325546111576977,
          0.8325546111576977,
          0.8325546111576977,
          0.8325546111576977,
          0.8325546111576977,
          0.8325546111576977,
          0.8325546111576977,
          0.8325546111576977,
          0.8325546111576977,
          0.8325546111576977,
          0.8325546111576977,
          0.8325546111576977,
          0.8325546111576977,
          0.8325546111576977,
          0.8325546111576977,
          0.8325546111576977,
          0.8325546111576977,
          0.8325546111576977,
          0.8325546111576977,
          0.8325546111576977,
          0.8325546111576977,
          0.8325546111576977,
          0.8325546111576977,
          0.8325546111576977,
          0.8325546111576977,
          0.8325546111576977,
          0.8325546111576977,
          0.8325546111576977,
          0.8325546111576977,
          0.8325546111576977,
          0.8325546111576977,
          0.8325546111576977,
          0.8325546111576977,
          0.8325546111576977,
          0.8325546111576977,
          0.8325546111576977,
          0.8325546111576977,
          0.8325546111576977,
          0.8325546111576977,
          0.8325546111576977,
          0.8325546111576977,
          0.8325546111576977,
          0.8325546111576977,
          0.8325546111576977,
          0.8325546111576977,
          0.8325546111576977,
          0.8325546111576977,
          0.8325546111576977,
          0.8325546111576977,
          0.8325546111576977,
          0.8325546111576977,
          0.8325546111576977,
          0.8325546111576977,
          0.8325546111576977,
          0.8325546111576977,
          0.8325546111576977,
          0.8325546111576977,
          0.8325546111576977,
          0.8325546111576977,
          0.8325546111576977,
          0.8325546111576977,
          0.8325546111576977,
          0.8325546111576977,
          0.8325546111576977,
          0.8325546111576977,
          0.8325546111576977,
          0.8325546111576977,
          0.8325546111576977,
          0.8325546111576977,
          0.8325546111576977,
          0.8325546111576977,
          0.8325546111576977,
          0.8325546111576977,
          0.8325546111576977,
          0.8325546111576977,
          0.8325546111576977
         ],
         "yaxis": "y"
        }
       ],
       "layout": {
        "legend": {
         "tracegroupgap": 0
        },
        "margin": {
         "t": 60
        },
        "template": {
         "data": {
          "bar": [
           {
            "error_x": {
             "color": "#2a3f5f"
            },
            "error_y": {
             "color": "#2a3f5f"
            },
            "marker": {
             "line": {
              "color": "#E5ECF6",
              "width": 0.5
             },
             "pattern": {
              "fillmode": "overlay",
              "size": 10,
              "solidity": 0.2
             }
            },
            "type": "bar"
           }
          ],
          "barpolar": [
           {
            "marker": {
             "line": {
              "color": "#E5ECF6",
              "width": 0.5
             },
             "pattern": {
              "fillmode": "overlay",
              "size": 10,
              "solidity": 0.2
             }
            },
            "type": "barpolar"
           }
          ],
          "carpet": [
           {
            "aaxis": {
             "endlinecolor": "#2a3f5f",
             "gridcolor": "white",
             "linecolor": "white",
             "minorgridcolor": "white",
             "startlinecolor": "#2a3f5f"
            },
            "baxis": {
             "endlinecolor": "#2a3f5f",
             "gridcolor": "white",
             "linecolor": "white",
             "minorgridcolor": "white",
             "startlinecolor": "#2a3f5f"
            },
            "type": "carpet"
           }
          ],
          "choropleth": [
           {
            "colorbar": {
             "outlinewidth": 0,
             "ticks": ""
            },
            "type": "choropleth"
           }
          ],
          "contour": [
           {
            "colorbar": {
             "outlinewidth": 0,
             "ticks": ""
            },
            "colorscale": [
             [
              0,
              "#0d0887"
             ],
             [
              0.1111111111111111,
              "#46039f"
             ],
             [
              0.2222222222222222,
              "#7201a8"
             ],
             [
              0.3333333333333333,
              "#9c179e"
             ],
             [
              0.4444444444444444,
              "#bd3786"
             ],
             [
              0.5555555555555556,
              "#d8576b"
             ],
             [
              0.6666666666666666,
              "#ed7953"
             ],
             [
              0.7777777777777778,
              "#fb9f3a"
             ],
             [
              0.8888888888888888,
              "#fdca26"
             ],
             [
              1,
              "#f0f921"
             ]
            ],
            "type": "contour"
           }
          ],
          "contourcarpet": [
           {
            "colorbar": {
             "outlinewidth": 0,
             "ticks": ""
            },
            "type": "contourcarpet"
           }
          ],
          "heatmap": [
           {
            "colorbar": {
             "outlinewidth": 0,
             "ticks": ""
            },
            "colorscale": [
             [
              0,
              "#0d0887"
             ],
             [
              0.1111111111111111,
              "#46039f"
             ],
             [
              0.2222222222222222,
              "#7201a8"
             ],
             [
              0.3333333333333333,
              "#9c179e"
             ],
             [
              0.4444444444444444,
              "#bd3786"
             ],
             [
              0.5555555555555556,
              "#d8576b"
             ],
             [
              0.6666666666666666,
              "#ed7953"
             ],
             [
              0.7777777777777778,
              "#fb9f3a"
             ],
             [
              0.8888888888888888,
              "#fdca26"
             ],
             [
              1,
              "#f0f921"
             ]
            ],
            "type": "heatmap"
           }
          ],
          "heatmapgl": [
           {
            "colorbar": {
             "outlinewidth": 0,
             "ticks": ""
            },
            "colorscale": [
             [
              0,
              "#0d0887"
             ],
             [
              0.1111111111111111,
              "#46039f"
             ],
             [
              0.2222222222222222,
              "#7201a8"
             ],
             [
              0.3333333333333333,
              "#9c179e"
             ],
             [
              0.4444444444444444,
              "#bd3786"
             ],
             [
              0.5555555555555556,
              "#d8576b"
             ],
             [
              0.6666666666666666,
              "#ed7953"
             ],
             [
              0.7777777777777778,
              "#fb9f3a"
             ],
             [
              0.8888888888888888,
              "#fdca26"
             ],
             [
              1,
              "#f0f921"
             ]
            ],
            "type": "heatmapgl"
           }
          ],
          "histogram": [
           {
            "marker": {
             "pattern": {
              "fillmode": "overlay",
              "size": 10,
              "solidity": 0.2
             }
            },
            "type": "histogram"
           }
          ],
          "histogram2d": [
           {
            "colorbar": {
             "outlinewidth": 0,
             "ticks": ""
            },
            "colorscale": [
             [
              0,
              "#0d0887"
             ],
             [
              0.1111111111111111,
              "#46039f"
             ],
             [
              0.2222222222222222,
              "#7201a8"
             ],
             [
              0.3333333333333333,
              "#9c179e"
             ],
             [
              0.4444444444444444,
              "#bd3786"
             ],
             [
              0.5555555555555556,
              "#d8576b"
             ],
             [
              0.6666666666666666,
              "#ed7953"
             ],
             [
              0.7777777777777778,
              "#fb9f3a"
             ],
             [
              0.8888888888888888,
              "#fdca26"
             ],
             [
              1,
              "#f0f921"
             ]
            ],
            "type": "histogram2d"
           }
          ],
          "histogram2dcontour": [
           {
            "colorbar": {
             "outlinewidth": 0,
             "ticks": ""
            },
            "colorscale": [
             [
              0,
              "#0d0887"
             ],
             [
              0.1111111111111111,
              "#46039f"
             ],
             [
              0.2222222222222222,
              "#7201a8"
             ],
             [
              0.3333333333333333,
              "#9c179e"
             ],
             [
              0.4444444444444444,
              "#bd3786"
             ],
             [
              0.5555555555555556,
              "#d8576b"
             ],
             [
              0.6666666666666666,
              "#ed7953"
             ],
             [
              0.7777777777777778,
              "#fb9f3a"
             ],
             [
              0.8888888888888888,
              "#fdca26"
             ],
             [
              1,
              "#f0f921"
             ]
            ],
            "type": "histogram2dcontour"
           }
          ],
          "mesh3d": [
           {
            "colorbar": {
             "outlinewidth": 0,
             "ticks": ""
            },
            "type": "mesh3d"
           }
          ],
          "parcoords": [
           {
            "line": {
             "colorbar": {
              "outlinewidth": 0,
              "ticks": ""
             }
            },
            "type": "parcoords"
           }
          ],
          "pie": [
           {
            "automargin": true,
            "type": "pie"
           }
          ],
          "scatter": [
           {
            "fillpattern": {
             "fillmode": "overlay",
             "size": 10,
             "solidity": 0.2
            },
            "type": "scatter"
           }
          ],
          "scatter3d": [
           {
            "line": {
             "colorbar": {
              "outlinewidth": 0,
              "ticks": ""
             }
            },
            "marker": {
             "colorbar": {
              "outlinewidth": 0,
              "ticks": ""
             }
            },
            "type": "scatter3d"
           }
          ],
          "scattercarpet": [
           {
            "marker": {
             "colorbar": {
              "outlinewidth": 0,
              "ticks": ""
             }
            },
            "type": "scattercarpet"
           }
          ],
          "scattergeo": [
           {
            "marker": {
             "colorbar": {
              "outlinewidth": 0,
              "ticks": ""
             }
            },
            "type": "scattergeo"
           }
          ],
          "scattergl": [
           {
            "marker": {
             "colorbar": {
              "outlinewidth": 0,
              "ticks": ""
             }
            },
            "type": "scattergl"
           }
          ],
          "scattermapbox": [
           {
            "marker": {
             "colorbar": {
              "outlinewidth": 0,
              "ticks": ""
             }
            },
            "type": "scattermapbox"
           }
          ],
          "scatterpolar": [
           {
            "marker": {
             "colorbar": {
              "outlinewidth": 0,
              "ticks": ""
             }
            },
            "type": "scatterpolar"
           }
          ],
          "scatterpolargl": [
           {
            "marker": {
             "colorbar": {
              "outlinewidth": 0,
              "ticks": ""
             }
            },
            "type": "scatterpolargl"
           }
          ],
          "scatterternary": [
           {
            "marker": {
             "colorbar": {
              "outlinewidth": 0,
              "ticks": ""
             }
            },
            "type": "scatterternary"
           }
          ],
          "surface": [
           {
            "colorbar": {
             "outlinewidth": 0,
             "ticks": ""
            },
            "colorscale": [
             [
              0,
              "#0d0887"
             ],
             [
              0.1111111111111111,
              "#46039f"
             ],
             [
              0.2222222222222222,
              "#7201a8"
             ],
             [
              0.3333333333333333,
              "#9c179e"
             ],
             [
              0.4444444444444444,
              "#bd3786"
             ],
             [
              0.5555555555555556,
              "#d8576b"
             ],
             [
              0.6666666666666666,
              "#ed7953"
             ],
             [
              0.7777777777777778,
              "#fb9f3a"
             ],
             [
              0.8888888888888888,
              "#fdca26"
             ],
             [
              1,
              "#f0f921"
             ]
            ],
            "type": "surface"
           }
          ],
          "table": [
           {
            "cells": {
             "fill": {
              "color": "#EBF0F8"
             },
             "line": {
              "color": "white"
             }
            },
            "header": {
             "fill": {
              "color": "#C8D4E3"
             },
             "line": {
              "color": "white"
             }
            },
            "type": "table"
           }
          ]
         },
         "layout": {
          "annotationdefaults": {
           "arrowcolor": "#2a3f5f",
           "arrowhead": 0,
           "arrowwidth": 1
          },
          "autotypenumbers": "strict",
          "coloraxis": {
           "colorbar": {
            "outlinewidth": 0,
            "ticks": ""
           }
          },
          "colorscale": {
           "diverging": [
            [
             0,
             "#8e0152"
            ],
            [
             0.1,
             "#c51b7d"
            ],
            [
             0.2,
             "#de77ae"
            ],
            [
             0.3,
             "#f1b6da"
            ],
            [
             0.4,
             "#fde0ef"
            ],
            [
             0.5,
             "#f7f7f7"
            ],
            [
             0.6,
             "#e6f5d0"
            ],
            [
             0.7,
             "#b8e186"
            ],
            [
             0.8,
             "#7fbc41"
            ],
            [
             0.9,
             "#4d9221"
            ],
            [
             1,
             "#276419"
            ]
           ],
           "sequential": [
            [
             0,
             "#0d0887"
            ],
            [
             0.1111111111111111,
             "#46039f"
            ],
            [
             0.2222222222222222,
             "#7201a8"
            ],
            [
             0.3333333333333333,
             "#9c179e"
            ],
            [
             0.4444444444444444,
             "#bd3786"
            ],
            [
             0.5555555555555556,
             "#d8576b"
            ],
            [
             0.6666666666666666,
             "#ed7953"
            ],
            [
             0.7777777777777778,
             "#fb9f3a"
            ],
            [
             0.8888888888888888,
             "#fdca26"
            ],
            [
             1,
             "#f0f921"
            ]
           ],
           "sequentialminus": [
            [
             0,
             "#0d0887"
            ],
            [
             0.1111111111111111,
             "#46039f"
            ],
            [
             0.2222222222222222,
             "#7201a8"
            ],
            [
             0.3333333333333333,
             "#9c179e"
            ],
            [
             0.4444444444444444,
             "#bd3786"
            ],
            [
             0.5555555555555556,
             "#d8576b"
            ],
            [
             0.6666666666666666,
             "#ed7953"
            ],
            [
             0.7777777777777778,
             "#fb9f3a"
            ],
            [
             0.8888888888888888,
             "#fdca26"
            ],
            [
             1,
             "#f0f921"
            ]
           ]
          },
          "colorway": [
           "#636efa",
           "#EF553B",
           "#00cc96",
           "#ab63fa",
           "#FFA15A",
           "#19d3f3",
           "#FF6692",
           "#B6E880",
           "#FF97FF",
           "#FECB52"
          ],
          "font": {
           "color": "#2a3f5f"
          },
          "geo": {
           "bgcolor": "white",
           "lakecolor": "white",
           "landcolor": "#E5ECF6",
           "showlakes": true,
           "showland": true,
           "subunitcolor": "white"
          },
          "hoverlabel": {
           "align": "left"
          },
          "hovermode": "closest",
          "mapbox": {
           "style": "light"
          },
          "paper_bgcolor": "white",
          "plot_bgcolor": "#E5ECF6",
          "polar": {
           "angularaxis": {
            "gridcolor": "white",
            "linecolor": "white",
            "ticks": ""
           },
           "bgcolor": "#E5ECF6",
           "radialaxis": {
            "gridcolor": "white",
            "linecolor": "white",
            "ticks": ""
           }
          },
          "scene": {
           "xaxis": {
            "backgroundcolor": "#E5ECF6",
            "gridcolor": "white",
            "gridwidth": 2,
            "linecolor": "white",
            "showbackground": true,
            "ticks": "",
            "zerolinecolor": "white"
           },
           "yaxis": {
            "backgroundcolor": "#E5ECF6",
            "gridcolor": "white",
            "gridwidth": 2,
            "linecolor": "white",
            "showbackground": true,
            "ticks": "",
            "zerolinecolor": "white"
           },
           "zaxis": {
            "backgroundcolor": "#E5ECF6",
            "gridcolor": "white",
            "gridwidth": 2,
            "linecolor": "white",
            "showbackground": true,
            "ticks": "",
            "zerolinecolor": "white"
           }
          },
          "shapedefaults": {
           "line": {
            "color": "#2a3f5f"
           }
          },
          "ternary": {
           "aaxis": {
            "gridcolor": "white",
            "linecolor": "white",
            "ticks": ""
           },
           "baxis": {
            "gridcolor": "white",
            "linecolor": "white",
            "ticks": ""
           },
           "bgcolor": "#E5ECF6",
           "caxis": {
            "gridcolor": "white",
            "linecolor": "white",
            "ticks": ""
           }
          },
          "title": {
           "x": 0.05
          },
          "xaxis": {
           "automargin": true,
           "gridcolor": "white",
           "linecolor": "white",
           "ticks": "",
           "title": {
            "standoff": 15
           },
           "zerolinecolor": "white",
           "zerolinewidth": 2
          },
          "yaxis": {
           "automargin": true,
           "gridcolor": "white",
           "linecolor": "white",
           "ticks": "",
           "title": {
            "standoff": 15
           },
           "zerolinecolor": "white",
           "zerolinewidth": 2
          }
         }
        },
        "xaxis": {
         "anchor": "y",
         "domain": [
          0,
          1
         ],
         "title": {
          "text": "params.week_end_experiment_end_date"
         }
        },
        "yaxis": {
         "anchor": "x",
         "domain": [
          0,
          1
         ],
         "title": {
          "text": "params.Product_Type.value_drift_score"
         }
        }
       }
      },
      "text/html": [
       "<div>                            <div id=\"cf3e6bb7-fb53-4ddf-ba34-2b85ca82a1af\" class=\"plotly-graph-div\" style=\"height:525px; width:100%;\"></div>            <script type=\"text/javascript\">                require([\"plotly\"], function(Plotly) {                    window.PLOTLYENV=window.PLOTLYENV || {};                                    if (document.getElementById(\"cf3e6bb7-fb53-4ddf-ba34-2b85ca82a1af\")) {                    Plotly.newPlot(                        \"cf3e6bb7-fb53-4ddf-ba34-2b85ca82a1af\",                        [{\"hovertemplate\":\"params.week_end_experiment_end_date=%{x}<br>params.Product_Type.value_drift_score=%{y}<extra></extra>\",\"legendgroup\":\"\",\"line\":{\"color\":\"#636efa\",\"dash\":\"solid\"},\"marker\":{\"symbol\":\"circle\"},\"mode\":\"lines+markers\",\"name\":\"\",\"orientation\":\"v\",\"showlegend\":false,\"x\":[\"2018-12-30 00:00:00\",\"2018-12-30 00:00:00\",\"2018-12-30 00:00:00\",\"2018-12-30 00:00:00\",\"2019-01-06 00:00:00\",\"2019-01-06 00:00:00\",\"2019-01-06 00:00:00\",\"2019-01-13 00:00:00\",\"2019-01-13 00:00:00\",\"2019-01-13 00:00:00\",\"2019-01-20 00:00:00\",\"2019-01-20 00:00:00\",\"2019-01-20 00:00:00\",\"2019-01-27 00:00:00\",\"2019-01-27 00:00:00\",\"2019-01-27 00:00:00\",\"2019-02-03 00:00:00\",\"2019-02-03 00:00:00\",\"2019-02-03 00:00:00\",\"2019-02-10 00:00:00\",\"2019-02-10 00:00:00\",\"2019-02-10 00:00:00\",\"2019-02-17 00:00:00\",\"2019-02-17 00:00:00\",\"2019-02-17 00:00:00\",\"2019-02-24 00:00:00\",\"2019-02-24 00:00:00\",\"2019-02-24 00:00:00\",\"2019-03-03 00:00:00\",\"2019-03-03 00:00:00\",\"2019-03-03 00:00:00\",\"2019-03-03 00:00:00\",\"2019-03-03 00:00:00\",\"2019-03-03 00:00:00\",\"2019-03-03 00:00:00\",\"2019-03-10 00:00:00\",\"2019-03-10 00:00:00\",\"2019-03-10 00:00:00\",\"2019-03-10 00:00:00\",\"2019-03-17 00:00:00\",\"2019-03-17 00:00:00\",\"2019-03-17 00:00:00\",\"2019-03-17 00:00:00\",\"2019-03-24 00:00:00\",\"2019-03-24 00:00:00\",\"2019-03-24 00:00:00\",\"2019-03-24 00:00:00\",\"2019-03-31 00:00:00\",\"2019-03-31 00:00:00\",\"2019-03-31 00:00:00\",\"2019-03-31 00:00:00\",\"2019-04-07 00:00:00\",\"2019-04-07 00:00:00\",\"2019-04-07 00:00:00\",\"2019-04-07 00:00:00\",\"2019-04-14 00:00:00\",\"2019-04-14 00:00:00\",\"2019-04-14 00:00:00\",\"2019-04-14 00:00:00\",\"2019-04-21 00:00:00\",\"2019-04-21 00:00:00\",\"2019-04-21 00:00:00\",\"2019-04-21 00:00:00\",\"2019-04-28 00:00:00\",\"2019-04-28 00:00:00\",\"2019-04-28 00:00:00\",\"2019-04-28 00:00:00\",\"2019-05-05 00:00:00\",\"2019-05-05 00:00:00\",\"2019-05-05 00:00:00\",\"2019-05-05 00:00:00\",\"2019-05-12 00:00:00\",\"2019-05-12 00:00:00\",\"2019-05-12 00:00:00\",\"2019-05-12 00:00:00\",\"2019-05-19 00:00:00\",\"2019-05-19 00:00:00\",\"2019-05-19 00:00:00\",\"2019-05-19 00:00:00\",\"2019-05-26 00:00:00\",\"2019-05-26 00:00:00\",\"2019-05-26 00:00:00\",\"2019-05-26 00:00:00\",\"2019-06-02 00:00:00\",\"2019-06-02 00:00:00\",\"2019-06-02 00:00:00\",\"2019-06-02 00:00:00\",\"2019-06-09 00:00:00\",\"2019-06-09 00:00:00\",\"2019-06-09 00:00:00\",\"2019-06-09 00:00:00\",\"2019-06-16 00:00:00\",\"2019-06-16 00:00:00\",\"2019-06-16 00:00:00\",\"2019-06-16 00:00:00\",\"2019-06-23 00:00:00\",\"2019-06-23 00:00:00\",\"2019-06-23 00:00:00\",\"2019-06-23 00:00:00\",\"2019-06-30 00:00:00\",\"2019-06-30 00:00:00\",\"2019-06-30 00:00:00\",\"2019-06-30 00:00:00\",\"2019-07-07 00:00:00\",\"2019-07-07 00:00:00\",\"2019-07-07 00:00:00\",\"2019-07-07 00:00:00\",\"2019-07-14 00:00:00\",\"2019-07-14 00:00:00\",\"2019-07-14 00:00:00\",\"2019-07-14 00:00:00\",\"2019-07-21 00:00:00\",\"2019-07-21 00:00:00\",\"2019-07-21 00:00:00\",\"2019-07-21 00:00:00\",\"2019-07-28 00:00:00\",\"2019-07-28 00:00:00\",\"2019-07-28 00:00:00\",\"2019-07-28 00:00:00\",\"2019-08-04 00:00:00\",\"2019-08-04 00:00:00\",\"2019-08-04 00:00:00\",\"2019-08-04 00:00:00\",\"2019-08-11 00:00:00\",\"2019-08-11 00:00:00\",\"2019-08-11 00:00:00\",\"2019-08-11 00:00:00\",\"2019-08-18 00:00:00\",\"2019-08-18 00:00:00\",\"2019-08-18 00:00:00\",\"2019-08-18 00:00:00\",\"2019-08-25 00:00:00\",\"2019-08-25 00:00:00\",\"2019-08-25 00:00:00\",\"2019-08-25 00:00:00\",\"2019-09-01 00:00:00\",\"2019-09-01 00:00:00\",\"2019-09-01 00:00:00\",\"2019-09-01 00:00:00\",\"2019-09-08 00:00:00\",\"2019-09-08 00:00:00\",\"2019-09-08 00:00:00\",\"2019-09-08 00:00:00\",\"2019-09-15 00:00:00\",\"2019-09-15 00:00:00\",\"2019-09-15 00:00:00\",\"2019-09-15 00:00:00\",\"2019-09-22 00:00:00\",\"2019-09-22 00:00:00\",\"2019-09-22 00:00:00\",\"2019-09-22 00:00:00\",\"2019-09-29 00:00:00\",\"2019-09-29 00:00:00\",\"2019-09-29 00:00:00\",\"2019-09-29 00:00:00\",\"2019-10-06 00:00:00\",\"2019-10-06 00:00:00\",\"2019-10-06 00:00:00\",\"2019-10-06 00:00:00\",\"2019-10-13 00:00:00\",\"2019-10-13 00:00:00\",\"2019-10-13 00:00:00\",\"2019-10-13 00:00:00\",\"2019-10-20 00:00:00\",\"2019-10-20 00:00:00\",\"2019-10-20 00:00:00\",\"2019-10-20 00:00:00\",\"2019-10-27 00:00:00\",\"2019-10-27 00:00:00\",\"2019-10-27 00:00:00\",\"2019-10-27 00:00:00\",\"2019-11-03 00:00:00\",\"2019-11-03 00:00:00\",\"2019-11-03 00:00:00\",\"2019-11-03 00:00:00\",\"2019-11-10 00:00:00\",\"2019-11-10 00:00:00\",\"2019-11-10 00:00:00\",\"2019-11-10 00:00:00\",\"2019-11-17 00:00:00\",\"2019-11-17 00:00:00\",\"2019-11-17 00:00:00\",\"2019-11-17 00:00:00\",\"2019-11-24 00:00:00\",\"2019-11-24 00:00:00\",\"2019-11-24 00:00:00\",\"2019-11-24 00:00:00\",\"2019-12-01 00:00:00\",\"2019-12-01 00:00:00\",\"2019-12-01 00:00:00\",\"2019-12-01 00:00:00\",\"2019-12-08 00:00:00\",\"2019-12-08 00:00:00\",\"2019-12-08 00:00:00\",\"2019-12-08 00:00:00\",\"2019-12-15 00:00:00\",\"2019-12-15 00:00:00\",\"2019-12-15 00:00:00\",\"2019-12-15 00:00:00\",\"2019-12-22 00:00:00\",\"2019-12-22 00:00:00\",\"2019-12-22 00:00:00\",\"2019-12-22 00:00:00\",\"2019-12-29 00:00:00\",\"2019-12-29 00:00:00\",\"2019-12-29 00:00:00\",\"2019-12-29 00:00:00\",\"2020-01-05 00:00:00\",\"2020-01-05 00:00:00\",\"2020-01-05 00:00:00\",\"2020-01-05 00:00:00\",\"2020-01-12 00:00:00\",\"2020-01-12 00:00:00\",\"2020-01-12 00:00:00\",\"2020-01-12 00:00:00\",\"2020-01-19 00:00:00\",\"2020-01-19 00:00:00\",\"2020-01-19 00:00:00\",\"2020-01-19 00:00:00\",\"2020-01-26 00:00:00\",\"2020-01-26 00:00:00\",\"2020-01-26 00:00:00\",\"2020-01-26 00:00:00\",\"2020-02-02 00:00:00\",\"2020-02-02 00:00:00\",\"2020-02-02 00:00:00\",\"2020-02-02 00:00:00\",\"2020-02-09 00:00:00\",\"2020-02-09 00:00:00\",\"2020-02-09 00:00:00\",\"2020-02-09 00:00:00\",\"2020-02-16 00:00:00\",\"2020-02-16 00:00:00\",\"2020-02-16 00:00:00\",\"2020-02-16 00:00:00\",\"2020-02-23 00:00:00\",\"2020-02-23 00:00:00\",\"2020-02-23 00:00:00\",\"2020-02-23 00:00:00\",\"2020-03-01 00:00:00\",\"2020-03-01 00:00:00\",\"2020-03-01 00:00:00\",\"2020-03-01 00:00:00\",\"2020-03-08 00:00:00\",\"2020-03-08 00:00:00\",\"2020-03-08 00:00:00\",\"2020-03-08 00:00:00\",\"2020-03-15 00:00:00\",\"2020-03-15 00:00:00\",\"2020-03-15 00:00:00\",\"2020-03-15 00:00:00\",\"2020-03-22 00:00:00\",\"2020-03-22 00:00:00\",\"2020-03-22 00:00:00\",\"2020-03-22 00:00:00\",\"2020-03-29 00:00:00\",\"2020-03-29 00:00:00\",\"2020-03-29 00:00:00\",\"2020-03-29 00:00:00\",\"2020-04-05 00:00:00\",\"2020-04-05 00:00:00\",\"2020-04-05 00:00:00\",\"2020-04-05 00:00:00\",\"2020-04-12 00:00:00\",\"2020-04-12 00:00:00\",\"2020-04-12 00:00:00\",\"2020-04-12 00:00:00\",\"2020-04-19 00:00:00\",\"2020-04-19 00:00:00\",\"2020-04-19 00:00:00\",\"2020-04-19 00:00:00\",\"2020-04-26 00:00:00\",\"2020-04-26 00:00:00\",\"2020-04-26 00:00:00\",\"2020-04-26 00:00:00\",\"2020-05-03 00:00:00\",\"2020-05-03 00:00:00\",\"2020-05-03 00:00:00\",\"2020-05-03 00:00:00\",\"2020-05-10 00:00:00\",\"2020-05-10 00:00:00\",\"2020-05-10 00:00:00\",\"2020-05-10 00:00:00\",\"2020-05-17 00:00:00\",\"2020-05-17 00:00:00\",\"2020-05-17 00:00:00\",\"2020-05-17 00:00:00\",\"2020-05-24 00:00:00\",\"2020-05-24 00:00:00\",\"2020-05-24 00:00:00\",\"2020-05-24 00:00:00\",\"2020-05-31 00:00:00\",\"2020-05-31 00:00:00\",\"2020-05-31 00:00:00\",\"2020-05-31 00:00:00\",\"2020-06-07 00:00:00\",\"2020-06-07 00:00:00\",\"2020-06-07 00:00:00\",\"2020-06-07 00:00:00\",\"2020-06-14 00:00:00\",\"2020-06-14 00:00:00\",\"2020-06-14 00:00:00\",\"2020-06-14 00:00:00\",\"2020-06-21 00:00:00\",\"2020-06-21 00:00:00\",\"2020-06-21 00:00:00\",\"2020-06-21 00:00:00\",\"2020-06-28 00:00:00\",\"2020-06-28 00:00:00\",\"2020-06-28 00:00:00\",\"2020-06-28 00:00:00\",\"2020-07-05 00:00:00\",\"2020-07-05 00:00:00\",\"2020-07-05 00:00:00\",\"2020-07-05 00:00:00\",\"2020-07-12 00:00:00\",\"2020-07-12 00:00:00\",\"2020-07-12 00:00:00\",\"2020-07-12 00:00:00\",\"2020-07-19 00:00:00\",\"2020-07-19 00:00:00\",\"2020-07-19 00:00:00\",\"2020-07-19 00:00:00\",\"2020-07-26 00:00:00\",\"2020-07-26 00:00:00\",\"2020-07-26 00:00:00\",\"2020-07-26 00:00:00\",\"2020-08-02 00:00:00\",\"2020-08-02 00:00:00\",\"2020-08-02 00:00:00\",\"2020-08-02 00:00:00\",\"2020-08-09 00:00:00\",\"2020-08-09 00:00:00\",\"2020-08-09 00:00:00\",\"2020-08-09 00:00:00\",\"2020-08-16 00:00:00\",\"2020-08-16 00:00:00\",\"2020-08-16 00:00:00\",\"2020-08-16 00:00:00\",\"2020-08-23 00:00:00\",\"2020-08-23 00:00:00\",\"2020-08-23 00:00:00\",\"2020-08-23 00:00:00\",\"2020-08-30 00:00:00\",\"2020-08-30 00:00:00\",\"2020-08-30 00:00:00\",\"2020-08-30 00:00:00\",\"2020-09-06 00:00:00\",\"2020-09-06 00:00:00\",\"2020-09-06 00:00:00\",\"2020-09-06 00:00:00\",\"2020-09-13 00:00:00\",\"2020-09-13 00:00:00\",\"2020-09-13 00:00:00\",\"2020-09-13 00:00:00\",\"2020-09-20 00:00:00\",\"2020-09-20 00:00:00\",\"2020-09-20 00:00:00\",\"2020-09-20 00:00:00\",\"2020-09-27 00:00:00\",\"2020-09-27 00:00:00\",\"2020-09-27 00:00:00\",\"2020-09-27 00:00:00\",\"2020-10-04 00:00:00\",\"2020-10-04 00:00:00\",\"2020-10-04 00:00:00\",\"2020-10-04 00:00:00\",\"2020-10-11 00:00:00\",\"2020-10-11 00:00:00\",\"2020-10-11 00:00:00\",\"2020-10-11 00:00:00\",\"2020-10-18 00:00:00\",\"2020-10-18 00:00:00\",\"2020-10-18 00:00:00\",\"2020-10-18 00:00:00\",\"2020-10-25 00:00:00\",\"2020-10-25 00:00:00\",\"2020-10-25 00:00:00\",\"2020-10-25 00:00:00\",\"2020-11-01 00:00:00\",\"2020-11-01 00:00:00\",\"2020-11-01 00:00:00\",\"2020-11-01 00:00:00\",\"2020-11-08 00:00:00\",\"2020-11-08 00:00:00\",\"2020-11-08 00:00:00\",\"2020-11-08 00:00:00\",\"2020-11-15 00:00:00\",\"2020-11-15 00:00:00\",\"2020-11-15 00:00:00\",\"2020-11-15 00:00:00\"],\"xaxis\":\"x\",\"y\":[0.8325546111576977,0.8325546111576977,0.0,0.8325546111576977,0.8325546111576977,0.8325546111576977,0.8325546111576977,0.8325546111576977,0.8325546111576977,0.8325546111576977,0.8325546111576977,0.8325546111576977,0.8325546111576977,0.8325546111576977,0.8325546111576977,0.8325546111576977,0.8325546111576977,0.8325546111576977,0.8325546111576977,0.8325546111576977,0.8325546111576977,0.8325546111576977,0.8325546111576977,0.8325546111576977,0.8325546111576977,0.8325546111576977,0.8325546111576977,0.8325546111576977,0.8325546111576977,0.8325546111576977,0.8325546111576977,0.8325546111576977,0.8325546111576977,0.8325546111576977,0.8325546111576977,0.8325546111576977,0.8325546111576977,0.8325546111576977,0.8325546111576977,0.8325546111576977,0.8325546111576977,0.8325546111576977,0.8325546111576977,0.8325546111576977,0.8325546111576977,0.8325546111576977,0.8325546111576977,0.8325546111576977,0.8325546111576977,0.8325546111576977,0.8325546111576977,0.8325546111576977,0.8325546111576977,0.8325546111576977,0.8325546111576977,0.8325546111576977,0.8325546111576977,0.8325546111576977,0.8325546111576977,0.8325546111576977,0.8325546111576977,0.8325546111576977,0.8325546111576977,0.8325546111576977,0.8325546111576977,0.8325546111576977,0.8325546111576977,0.8325546111576977,0.8325546111576977,0.8325546111576977,0.8325546111576977,0.8325546111576977,0.8325546111576977,0.8325546111576977,0.8325546111576977,0.8325546111576977,0.8325546111576977,0.8325546111576977,0.8325546111576977,0.8325546111576977,0.8325546111576977,0.8325546111576977,0.8325546111576977,0.8325546111576977,0.8325546111576977,0.8325546111576977,0.8325546111576977,0.8325546111576977,0.8325546111576977,0.8325546111576977,0.8325546111576977,0.8325546111576977,0.8325546111576977,0.8325546111576977,0.8325546111576977,0.8325546111576977,0.8325546111576977,0.8325546111576977,0.8325546111576977,0.8325546111576977,0.8325546111576977,0.8325546111576977,0.8325546111576977,0.8325546111576977,0.8325546111576977,0.8325546111576977,0.8325546111576977,0.8325546111576977,0.8325546111576977,0.8325546111576977,0.8325546111576977,0.8325546111576977,0.8325546111576977,0.8325546111576977,0.8325546111576977,0.8325546111576977,0.8325546111576977,0.8325546111576977,0.8325546111576977,0.8325546111576977,0.8325546111576977,0.8325546111576977,0.8325546111576977,0.8325546111576977,0.8325546111576977,0.8325546111576977,0.8325546111576977,0.8325546111576977,0.8325546111576977,0.8325546111576977,0.8325546111576977,0.8325546111576977,0.8325546111576977,0.8325546111576977,0.8325546111576977,0.8325546111576977,0.8325546111576977,0.8325546111576977,0.8325546111576977,0.8325546111576977,0.8325546111576977,0.8325546111576977,0.8325546111576977,0.8325546111576977,0.8325546111576977,0.8325546111576977,0.8325546111576977,0.8325546111576977,0.8325546111576977,0.8325546111576977,0.8325546111576977,0.8325546111576977,0.8325546111576977,0.8325546111576977,0.8325546111576977,0.8325546111576977,0.8325546111576977,0.8325546111576977,0.8325546111576977,0.8325546111576977,0.8325546111576977,0.8325546111576977,0.8325546111576977,0.8325546111576977,0.8325546111576977,0.8325546111576977,0.8325546111576977,0.8325546111576977,0.8325546111576977,0.8325546111576977,0.8325546111576977,0.8325546111576977,0.8325546111576977,0.8325546111576977,0.8325546111576977,0.8325546111576977,0.8325546111576977,0.8325546111576977,0.8325546111576977,0.8325546111576977,0.8325546111576977,0.8325546111576977,0.8325546111576977,0.8325546111576977,0.8325546111576977,0.8325546111576977,0.8325546111576977,0.8325546111576977,0.8325546111576977,0.8325546111576977,0.8325546111576977,0.8325546111576977,0.8325546111576977,0.8325546111576977,0.8325546111576977,0.8325546111576977,0.8325546111576977,0.8325546111576977,0.8325546111576977,0.8325546111576977,0.8325546111576977,0.8325546111576977,0.8325546111576977,0.8325546111576977,0.8325546111576977,0.8325546111576977,0.8325546111576977,0.8325546111576977,0.8325546111576977,0.8325546111576977,0.8325546111576977,0.8325546111576977,0.8325546111576977,0.8325546111576977,0.8325546111576977,0.8325546111576977,0.8325546111576977,0.8325546111576977,0.8325546111576977,0.8325546111576977,0.8325546111576977,0.8325546111576977,0.8325546111576977,0.8325546111576977,0.8325546111576977,0.8325546111576977,0.8325546111576977,0.8325546111576977,0.8325546111576977,0.8325546111576977,0.8325546111576977,0.8325546111576977,0.8325546111576977,0.8325546111576977,0.8325546111576977,0.8325546111576977,0.8325546111576977,0.8325546111576977,0.8325546111576977,0.8325546111576977,0.8325546111576977,0.8325546111576977,0.8325546111576977,0.8325546111576977,0.8325546111576977,0.8325546111576977,0.8325546111576977,0.8325546111576977,0.8325546111576977,0.8325546111576977,0.8325546111576977,0.8325546111576977,0.8325546111576977,0.8325546111576977,0.8325546111576977,0.8325546111576977,0.8325546111576977,0.8325546111576977,0.8325546111576977,0.8325546111576977,0.8325546111576977,0.8325546111576977,0.8325546111576977,0.8325546111576977,0.8325546111576977,0.8325546111576977,0.8325546111576977,0.8325546111576977,0.8325546111576977,0.8325546111576977,0.8325546111576977,0.8325546111576977,0.8325546111576977,0.8325546111576977,0.8325546111576977,0.8325546111576977,0.8325546111576977,0.8325546111576977,0.8325546111576977,0.8325546111576977,0.8325546111576977,0.8325546111576977,0.8325546111576977,0.8325546111576977,0.8325546111576977,0.8325546111576977,0.8325546111576977,0.8325546111576977,0.8325546111576977,0.8325546111576977,0.8325546111576977,0.8325546111576977,0.8325546111576977,0.8325546111576977,0.8325546111576977,0.8325546111576977,0.8325546111576977,0.8325546111576977,0.8325546111576977,0.8325546111576977,0.8325546111576977,0.8325546111576977,0.8325546111576977,0.8325546111576977,0.8325546111576977,0.8325546111576977,0.8325546111576977,0.8325546111576977,0.8325546111576977,0.8325546111576977,0.8325546111576977,0.8325546111576977,0.8325546111576977,0.8325546111576977,0.8325546111576977,0.8325546111576977,0.8325546111576977,0.8325546111576977,0.8325546111576977,0.8325546111576977,0.8325546111576977,0.8325546111576977,0.8325546111576977,0.8325546111576977,0.8325546111576977,0.8325546111576977,0.8325546111576977,0.8325546111576977,0.8325546111576977,0.8325546111576977,0.8325546111576977,0.8325546111576977,0.8325546111576977,0.8325546111576977,0.8325546111576977,0.8325546111576977,0.8325546111576977,0.8325546111576977,0.8325546111576977,0.8325546111576977,0.8325546111576977,0.8325546111576977,0.8325546111576977,0.8325546111576977,0.8325546111576977,0.8325546111576977,0.8325546111576977,0.8325546111576977,0.8325546111576977,0.8325546111576977,0.8325546111576977,0.8325546111576977,0.8325546111576977,0.8325546111576977,0.8325546111576977,0.8325546111576977,0.8325546111576977,0.8325546111576977,0.8325546111576977,0.8325546111576977,0.8325546111576977,0.8325546111576977,0.8325546111576977,0.8325546111576977,0.8325546111576977,0.8325546111576977,0.8325546111576977,0.8325546111576977,0.8325546111576977,0.8325546111576977,0.8325546111576977,0.8325546111576977,0.8325546111576977,0.8325546111576977,0.8325546111576977,0.8325546111576977,0.8325546111576977,0.8325546111576977,0.8325546111576977,0.8325546111576977,0.8325546111576977,0.8325546111576977,0.8325546111576977,0.8325546111576977,0.8325546111576977,0.8325546111576977,0.8325546111576977,0.8325546111576977,0.8325546111576977,0.8325546111576977,0.8325546111576977],\"yaxis\":\"y\",\"type\":\"scatter\"}],                        {\"template\":{\"data\":{\"histogram2dcontour\":[{\"type\":\"histogram2dcontour\",\"colorbar\":{\"outlinewidth\":0,\"ticks\":\"\"},\"colorscale\":[[0.0,\"#0d0887\"],[0.1111111111111111,\"#46039f\"],[0.2222222222222222,\"#7201a8\"],[0.3333333333333333,\"#9c179e\"],[0.4444444444444444,\"#bd3786\"],[0.5555555555555556,\"#d8576b\"],[0.6666666666666666,\"#ed7953\"],[0.7777777777777778,\"#fb9f3a\"],[0.8888888888888888,\"#fdca26\"],[1.0,\"#f0f921\"]]}],\"choropleth\":[{\"type\":\"choropleth\",\"colorbar\":{\"outlinewidth\":0,\"ticks\":\"\"}}],\"histogram2d\":[{\"type\":\"histogram2d\",\"colorbar\":{\"outlinewidth\":0,\"ticks\":\"\"},\"colorscale\":[[0.0,\"#0d0887\"],[0.1111111111111111,\"#46039f\"],[0.2222222222222222,\"#7201a8\"],[0.3333333333333333,\"#9c179e\"],[0.4444444444444444,\"#bd3786\"],[0.5555555555555556,\"#d8576b\"],[0.6666666666666666,\"#ed7953\"],[0.7777777777777778,\"#fb9f3a\"],[0.8888888888888888,\"#fdca26\"],[1.0,\"#f0f921\"]]}],\"heatmap\":[{\"type\":\"heatmap\",\"colorbar\":{\"outlinewidth\":0,\"ticks\":\"\"},\"colorscale\":[[0.0,\"#0d0887\"],[0.1111111111111111,\"#46039f\"],[0.2222222222222222,\"#7201a8\"],[0.3333333333333333,\"#9c179e\"],[0.4444444444444444,\"#bd3786\"],[0.5555555555555556,\"#d8576b\"],[0.6666666666666666,\"#ed7953\"],[0.7777777777777778,\"#fb9f3a\"],[0.8888888888888888,\"#fdca26\"],[1.0,\"#f0f921\"]]}],\"heatmapgl\":[{\"type\":\"heatmapgl\",\"colorbar\":{\"outlinewidth\":0,\"ticks\":\"\"},\"colorscale\":[[0.0,\"#0d0887\"],[0.1111111111111111,\"#46039f\"],[0.2222222222222222,\"#7201a8\"],[0.3333333333333333,\"#9c179e\"],[0.4444444444444444,\"#bd3786\"],[0.5555555555555556,\"#d8576b\"],[0.6666666666666666,\"#ed7953\"],[0.7777777777777778,\"#fb9f3a\"],[0.8888888888888888,\"#fdca26\"],[1.0,\"#f0f921\"]]}],\"contourcarpet\":[{\"type\":\"contourcarpet\",\"colorbar\":{\"outlinewidth\":0,\"ticks\":\"\"}}],\"contour\":[{\"type\":\"contour\",\"colorbar\":{\"outlinewidth\":0,\"ticks\":\"\"},\"colorscale\":[[0.0,\"#0d0887\"],[0.1111111111111111,\"#46039f\"],[0.2222222222222222,\"#7201a8\"],[0.3333333333333333,\"#9c179e\"],[0.4444444444444444,\"#bd3786\"],[0.5555555555555556,\"#d8576b\"],[0.6666666666666666,\"#ed7953\"],[0.7777777777777778,\"#fb9f3a\"],[0.8888888888888888,\"#fdca26\"],[1.0,\"#f0f921\"]]}],\"surface\":[{\"type\":\"surface\",\"colorbar\":{\"outlinewidth\":0,\"ticks\":\"\"},\"colorscale\":[[0.0,\"#0d0887\"],[0.1111111111111111,\"#46039f\"],[0.2222222222222222,\"#7201a8\"],[0.3333333333333333,\"#9c179e\"],[0.4444444444444444,\"#bd3786\"],[0.5555555555555556,\"#d8576b\"],[0.6666666666666666,\"#ed7953\"],[0.7777777777777778,\"#fb9f3a\"],[0.8888888888888888,\"#fdca26\"],[1.0,\"#f0f921\"]]}],\"mesh3d\":[{\"type\":\"mesh3d\",\"colorbar\":{\"outlinewidth\":0,\"ticks\":\"\"}}],\"scatter\":[{\"fillpattern\":{\"fillmode\":\"overlay\",\"size\":10,\"solidity\":0.2},\"type\":\"scatter\"}],\"parcoords\":[{\"type\":\"parcoords\",\"line\":{\"colorbar\":{\"outlinewidth\":0,\"ticks\":\"\"}}}],\"scatterpolargl\":[{\"type\":\"scatterpolargl\",\"marker\":{\"colorbar\":{\"outlinewidth\":0,\"ticks\":\"\"}}}],\"bar\":[{\"error_x\":{\"color\":\"#2a3f5f\"},\"error_y\":{\"color\":\"#2a3f5f\"},\"marker\":{\"line\":{\"color\":\"#E5ECF6\",\"width\":0.5},\"pattern\":{\"fillmode\":\"overlay\",\"size\":10,\"solidity\":0.2}},\"type\":\"bar\"}],\"scattergeo\":[{\"type\":\"scattergeo\",\"marker\":{\"colorbar\":{\"outlinewidth\":0,\"ticks\":\"\"}}}],\"scatterpolar\":[{\"type\":\"scatterpolar\",\"marker\":{\"colorbar\":{\"outlinewidth\":0,\"ticks\":\"\"}}}],\"histogram\":[{\"marker\":{\"pattern\":{\"fillmode\":\"overlay\",\"size\":10,\"solidity\":0.2}},\"type\":\"histogram\"}],\"scattergl\":[{\"type\":\"scattergl\",\"marker\":{\"colorbar\":{\"outlinewidth\":0,\"ticks\":\"\"}}}],\"scatter3d\":[{\"type\":\"scatter3d\",\"line\":{\"colorbar\":{\"outlinewidth\":0,\"ticks\":\"\"}},\"marker\":{\"colorbar\":{\"outlinewidth\":0,\"ticks\":\"\"}}}],\"scattermapbox\":[{\"type\":\"scattermapbox\",\"marker\":{\"colorbar\":{\"outlinewidth\":0,\"ticks\":\"\"}}}],\"scatterternary\":[{\"type\":\"scatterternary\",\"marker\":{\"colorbar\":{\"outlinewidth\":0,\"ticks\":\"\"}}}],\"scattercarpet\":[{\"type\":\"scattercarpet\",\"marker\":{\"colorbar\":{\"outlinewidth\":0,\"ticks\":\"\"}}}],\"carpet\":[{\"aaxis\":{\"endlinecolor\":\"#2a3f5f\",\"gridcolor\":\"white\",\"linecolor\":\"white\",\"minorgridcolor\":\"white\",\"startlinecolor\":\"#2a3f5f\"},\"baxis\":{\"endlinecolor\":\"#2a3f5f\",\"gridcolor\":\"white\",\"linecolor\":\"white\",\"minorgridcolor\":\"white\",\"startlinecolor\":\"#2a3f5f\"},\"type\":\"carpet\"}],\"table\":[{\"cells\":{\"fill\":{\"color\":\"#EBF0F8\"},\"line\":{\"color\":\"white\"}},\"header\":{\"fill\":{\"color\":\"#C8D4E3\"},\"line\":{\"color\":\"white\"}},\"type\":\"table\"}],\"barpolar\":[{\"marker\":{\"line\":{\"color\":\"#E5ECF6\",\"width\":0.5},\"pattern\":{\"fillmode\":\"overlay\",\"size\":10,\"solidity\":0.2}},\"type\":\"barpolar\"}],\"pie\":[{\"automargin\":true,\"type\":\"pie\"}]},\"layout\":{\"autotypenumbers\":\"strict\",\"colorway\":[\"#636efa\",\"#EF553B\",\"#00cc96\",\"#ab63fa\",\"#FFA15A\",\"#19d3f3\",\"#FF6692\",\"#B6E880\",\"#FF97FF\",\"#FECB52\"],\"font\":{\"color\":\"#2a3f5f\"},\"hovermode\":\"closest\",\"hoverlabel\":{\"align\":\"left\"},\"paper_bgcolor\":\"white\",\"plot_bgcolor\":\"#E5ECF6\",\"polar\":{\"bgcolor\":\"#E5ECF6\",\"angularaxis\":{\"gridcolor\":\"white\",\"linecolor\":\"white\",\"ticks\":\"\"},\"radialaxis\":{\"gridcolor\":\"white\",\"linecolor\":\"white\",\"ticks\":\"\"}},\"ternary\":{\"bgcolor\":\"#E5ECF6\",\"aaxis\":{\"gridcolor\":\"white\",\"linecolor\":\"white\",\"ticks\":\"\"},\"baxis\":{\"gridcolor\":\"white\",\"linecolor\":\"white\",\"ticks\":\"\"},\"caxis\":{\"gridcolor\":\"white\",\"linecolor\":\"white\",\"ticks\":\"\"}},\"coloraxis\":{\"colorbar\":{\"outlinewidth\":0,\"ticks\":\"\"}},\"colorscale\":{\"sequential\":[[0.0,\"#0d0887\"],[0.1111111111111111,\"#46039f\"],[0.2222222222222222,\"#7201a8\"],[0.3333333333333333,\"#9c179e\"],[0.4444444444444444,\"#bd3786\"],[0.5555555555555556,\"#d8576b\"],[0.6666666666666666,\"#ed7953\"],[0.7777777777777778,\"#fb9f3a\"],[0.8888888888888888,\"#fdca26\"],[1.0,\"#f0f921\"]],\"sequentialminus\":[[0.0,\"#0d0887\"],[0.1111111111111111,\"#46039f\"],[0.2222222222222222,\"#7201a8\"],[0.3333333333333333,\"#9c179e\"],[0.4444444444444444,\"#bd3786\"],[0.5555555555555556,\"#d8576b\"],[0.6666666666666666,\"#ed7953\"],[0.7777777777777778,\"#fb9f3a\"],[0.8888888888888888,\"#fdca26\"],[1.0,\"#f0f921\"]],\"diverging\":[[0,\"#8e0152\"],[0.1,\"#c51b7d\"],[0.2,\"#de77ae\"],[0.3,\"#f1b6da\"],[0.4,\"#fde0ef\"],[0.5,\"#f7f7f7\"],[0.6,\"#e6f5d0\"],[0.7,\"#b8e186\"],[0.8,\"#7fbc41\"],[0.9,\"#4d9221\"],[1,\"#276419\"]]},\"xaxis\":{\"gridcolor\":\"white\",\"linecolor\":\"white\",\"ticks\":\"\",\"title\":{\"standoff\":15},\"zerolinecolor\":\"white\",\"automargin\":true,\"zerolinewidth\":2},\"yaxis\":{\"gridcolor\":\"white\",\"linecolor\":\"white\",\"ticks\":\"\",\"title\":{\"standoff\":15},\"zerolinecolor\":\"white\",\"automargin\":true,\"zerolinewidth\":2},\"scene\":{\"xaxis\":{\"backgroundcolor\":\"#E5ECF6\",\"gridcolor\":\"white\",\"linecolor\":\"white\",\"showbackground\":true,\"ticks\":\"\",\"zerolinecolor\":\"white\",\"gridwidth\":2},\"yaxis\":{\"backgroundcolor\":\"#E5ECF6\",\"gridcolor\":\"white\",\"linecolor\":\"white\",\"showbackground\":true,\"ticks\":\"\",\"zerolinecolor\":\"white\",\"gridwidth\":2},\"zaxis\":{\"backgroundcolor\":\"#E5ECF6\",\"gridcolor\":\"white\",\"linecolor\":\"white\",\"showbackground\":true,\"ticks\":\"\",\"zerolinecolor\":\"white\",\"gridwidth\":2}},\"shapedefaults\":{\"line\":{\"color\":\"#2a3f5f\"}},\"annotationdefaults\":{\"arrowcolor\":\"#2a3f5f\",\"arrowhead\":0,\"arrowwidth\":1},\"geo\":{\"bgcolor\":\"white\",\"landcolor\":\"#E5ECF6\",\"subunitcolor\":\"white\",\"showland\":true,\"showlakes\":true,\"lakecolor\":\"white\"},\"title\":{\"x\":0.05},\"mapbox\":{\"style\":\"light\"}}},\"xaxis\":{\"anchor\":\"y\",\"domain\":[0.0,1.0],\"title\":{\"text\":\"params.week_end_experiment_end_date\"}},\"yaxis\":{\"anchor\":\"x\",\"domain\":[0.0,1.0],\"title\":{\"text\":\"params.Product_Type.value_drift_score\"}},\"legend\":{\"tracegroupgap\":0},\"margin\":{\"t\":60}},                        {\"responsive\": true}                    ).then(function(){\n",
       "                            \n",
       "var gd = document.getElementById('cf3e6bb7-fb53-4ddf-ba34-2b85ca82a1af');\n",
       "var x = new MutationObserver(function (mutations, observer) {{\n",
       "        var display = window.getComputedStyle(gd).display;\n",
       "        if (!display || display === 'none') {{\n",
       "            console.log([gd, 'removed!']);\n",
       "            Plotly.purge(gd);\n",
       "            observer.disconnect();\n",
       "        }}\n",
       "}});\n",
       "\n",
       "// Listen for the removal of the full notebook cells\n",
       "var notebookContainer = gd.closest('#notebook-container');\n",
       "if (notebookContainer) {{\n",
       "    x.observe(notebookContainer, {childList: true});\n",
       "}}\n",
       "\n",
       "// Listen for the clearing of the current output cell\n",
       "var outputEl = gd.closest('.output');\n",
       "if (outputEl) {{\n",
       "    x.observe(outputEl, {childList: true});\n",
       "}}\n",
       "\n",
       "                        })                };                });            </script>        </div>"
      ]
     },
     "metadata": {},
     "output_type": "display_data"
    }
   ],
   "source": [
    "fig = px.line(drift_detected_experiment_results,  y='params.Product_Type.value_drift_score', markers=True)\n",
    "fig.show()"
   ]
  },
  {
   "cell_type": "code",
   "execution_count": 692,
   "id": "e65b3642",
   "metadata": {},
   "outputs": [
    {
     "data": {
      "text/html": [
       "<div>\n",
       "<style scoped>\n",
       "    .dataframe tbody tr th:only-of-type {\n",
       "        vertical-align: middle;\n",
       "    }\n",
       "\n",
       "    .dataframe tbody tr th {\n",
       "        vertical-align: top;\n",
       "    }\n",
       "\n",
       "    .dataframe thead th {\n",
       "        text-align: right;\n",
       "    }\n",
       "</style>\n",
       "<table border=\"1\" class=\"dataframe\">\n",
       "  <thead>\n",
       "    <tr style=\"text-align: right;\">\n",
       "      <th></th>\n",
       "      <th>params.warehouse_ID.value_raw_feature_importance</th>\n",
       "      <th>params.statewise_population_per_sqmile.value_drift_score</th>\n",
       "      <th>params.state_cases.value_feature_importance_weighted_drift_score</th>\n",
       "      <th>params.is_warehouse_closed.value_feature_importance_weighted_drift_score</th>\n",
       "      <th>params.statewise_population_per_sqmile.value_relative_feature_importance</th>\n",
       "      <th>params.is_weekend.value_stattest_name</th>\n",
       "      <th>params.state.value_drift_score</th>\n",
       "      <th>params.state.value_relative_feature_importance</th>\n",
       "      <th>params.is_warehouse_closed.value_stattest_name</th>\n",
       "      <th>params.county.value_feature_importance_weighted_drift_detected</th>\n",
       "      <th>...</th>\n",
       "      <th>params.county.value_raw_feature_importance</th>\n",
       "      <th>params.Product_Type.value_drift_score</th>\n",
       "      <th>params.warehouse_ID.value_drift_score</th>\n",
       "      <th>params.state_deaths.value_feature_importance_weighted_drift_score</th>\n",
       "      <th>params.state.value_feature_importance_weighted_drift_score</th>\n",
       "      <th>params.warehouse_ID.value_relative_feature_importance</th>\n",
       "      <th>params.state_cases.value_feature_importance_weighted_drift_detected</th>\n",
       "      <th>params.daily_dispatch_count_target_stattest_name</th>\n",
       "      <th>params.daily_dispatch_count_target_drift_score</th>\n",
       "      <th>params.daily_dispatch_count_drift_detected</th>\n",
       "    </tr>\n",
       "    <tr>\n",
       "      <th>params.week_end_experiment_end_date</th>\n",
       "      <th></th>\n",
       "      <th></th>\n",
       "      <th></th>\n",
       "      <th></th>\n",
       "      <th></th>\n",
       "      <th></th>\n",
       "      <th></th>\n",
       "      <th></th>\n",
       "      <th></th>\n",
       "      <th></th>\n",
       "      <th></th>\n",
       "      <th></th>\n",
       "      <th></th>\n",
       "      <th></th>\n",
       "      <th></th>\n",
       "      <th></th>\n",
       "      <th></th>\n",
       "      <th></th>\n",
       "      <th></th>\n",
       "      <th></th>\n",
       "      <th></th>\n",
       "    </tr>\n",
       "  </thead>\n",
       "  <tbody>\n",
       "    <tr>\n",
       "      <th>2018-12-30 00:00:00</th>\n",
       "      <td>0.02292817272245884</td>\n",
       "      <td>0.588372</td>\n",
       "      <td>0.000000e+00</td>\n",
       "      <td>0.000000</td>\n",
       "      <td>0.0</td>\n",
       "      <td>Jensen-Shannon distance</td>\n",
       "      <td>0.832555</td>\n",
       "      <td>0.0</td>\n",
       "      <td>Jensen-Shannon distance</td>\n",
       "      <td>0</td>\n",
       "      <td>...</td>\n",
       "      <td>0.0</td>\n",
       "      <td>0.832555</td>\n",
       "      <td>0.832555</td>\n",
       "      <td>0.000000</td>\n",
       "      <td>0.000000</td>\n",
       "      <td>0.013138306327164173</td>\n",
       "      <td>0</td>\n",
       "      <td>distance</td>\n",
       "      <td>0.850697</td>\n",
       "      <td>1</td>\n",
       "    </tr>\n",
       "    <tr>\n",
       "      <th>2018-12-30 00:00:00</th>\n",
       "      <td>0.026244498789310455</td>\n",
       "      <td>0.588372</td>\n",
       "      <td>0.000000e+00</td>\n",
       "      <td>0.000000</td>\n",
       "      <td>0.02968338318169117</td>\n",
       "      <td>Jensen-Shannon distance</td>\n",
       "      <td>0.832555</td>\n",
       "      <td>0.0</td>\n",
       "      <td>Jensen-Shannon distance</td>\n",
       "      <td>0</td>\n",
       "      <td>...</td>\n",
       "      <td>0.0</td>\n",
       "      <td>0.832555</td>\n",
       "      <td>0.832555</td>\n",
       "      <td>0.000000</td>\n",
       "      <td>0.000000</td>\n",
       "      <td>0.014780729077756405</td>\n",
       "      <td>0</td>\n",
       "      <td>distance</td>\n",
       "      <td>0.850697</td>\n",
       "      <td>1</td>\n",
       "    </tr>\n",
       "    <tr>\n",
       "      <th>2018-12-30 00:00:00</th>\n",
       "      <td>None</td>\n",
       "      <td>0.000000</td>\n",
       "      <td>0.000000e+00</td>\n",
       "      <td>0.000000</td>\n",
       "      <td>None</td>\n",
       "      <td>None</td>\n",
       "      <td>0.000000</td>\n",
       "      <td>None</td>\n",
       "      <td>None</td>\n",
       "      <td>0</td>\n",
       "      <td>...</td>\n",
       "      <td>None</td>\n",
       "      <td>0.000000</td>\n",
       "      <td>0.000000</td>\n",
       "      <td>0.000000</td>\n",
       "      <td>0.000000</td>\n",
       "      <td>None</td>\n",
       "      <td>0</td>\n",
       "      <td>distance</td>\n",
       "      <td>0.850697</td>\n",
       "      <td>1</td>\n",
       "    </tr>\n",
       "    <tr>\n",
       "      <th>2018-12-30 00:00:00</th>\n",
       "      <td>0.017281191423535347</td>\n",
       "      <td>0.588372</td>\n",
       "      <td>0.000000e+00</td>\n",
       "      <td>0.000000</td>\n",
       "      <td>0.002893036464229226</td>\n",
       "      <td>Jensen-Shannon distance</td>\n",
       "      <td>0.832555</td>\n",
       "      <td>0.0</td>\n",
       "      <td>Jensen-Shannon distance</td>\n",
       "      <td>0</td>\n",
       "      <td>...</td>\n",
       "      <td>0.0</td>\n",
       "      <td>0.832555</td>\n",
       "      <td>0.832555</td>\n",
       "      <td>0.000000</td>\n",
       "      <td>0.000000</td>\n",
       "      <td>0.007265902124345303</td>\n",
       "      <td>0</td>\n",
       "      <td>distance</td>\n",
       "      <td>0.850697</td>\n",
       "      <td>1</td>\n",
       "    </tr>\n",
       "    <tr>\n",
       "      <th>2019-01-06 00:00:00</th>\n",
       "      <td>0.028664948418736458</td>\n",
       "      <td>0.270989</td>\n",
       "      <td>0.000000e+00</td>\n",
       "      <td>0.000000</td>\n",
       "      <td>0.0</td>\n",
       "      <td>Jensen-Shannon distance</td>\n",
       "      <td>0.832555</td>\n",
       "      <td>0.0</td>\n",
       "      <td>Jensen-Shannon distance</td>\n",
       "      <td>0</td>\n",
       "      <td>...</td>\n",
       "      <td>0.0</td>\n",
       "      <td>0.832555</td>\n",
       "      <td>0.832555</td>\n",
       "      <td>0.000000</td>\n",
       "      <td>0.000000</td>\n",
       "      <td>0.01135654840618372</td>\n",
       "      <td>0</td>\n",
       "      <td>distance</td>\n",
       "      <td>0.760357</td>\n",
       "      <td>1</td>\n",
       "    </tr>\n",
       "    <tr>\n",
       "      <th>...</th>\n",
       "      <td>...</td>\n",
       "      <td>...</td>\n",
       "      <td>...</td>\n",
       "      <td>...</td>\n",
       "      <td>...</td>\n",
       "      <td>...</td>\n",
       "      <td>...</td>\n",
       "      <td>...</td>\n",
       "      <td>...</td>\n",
       "      <td>...</td>\n",
       "      <td>...</td>\n",
       "      <td>...</td>\n",
       "      <td>...</td>\n",
       "      <td>...</td>\n",
       "      <td>...</td>\n",
       "      <td>...</td>\n",
       "      <td>...</td>\n",
       "      <td>...</td>\n",
       "      <td>...</td>\n",
       "      <td>...</td>\n",
       "      <td>...</td>\n",
       "    </tr>\n",
       "    <tr>\n",
       "      <th>2020-11-08 00:00:00</th>\n",
       "      <td>0.6924689412117004</td>\n",
       "      <td>0.000000</td>\n",
       "      <td>0.000000e+00</td>\n",
       "      <td>0.099654</td>\n",
       "      <td>None</td>\n",
       "      <td>Jensen-Shannon distance</td>\n",
       "      <td>0.832555</td>\n",
       "      <td>0.0745820552110672</td>\n",
       "      <td>Jensen-Shannon distance</td>\n",
       "      <td>0</td>\n",
       "      <td>...</td>\n",
       "      <td>0.0</td>\n",
       "      <td>0.832555</td>\n",
       "      <td>0.832555</td>\n",
       "      <td>0.000000</td>\n",
       "      <td>0.062094</td>\n",
       "      <td>0.3131217360496521</td>\n",
       "      <td>0</td>\n",
       "      <td>distance</td>\n",
       "      <td>1.191264</td>\n",
       "      <td>1</td>\n",
       "    </tr>\n",
       "    <tr>\n",
       "      <th>2020-11-15 00:00:00</th>\n",
       "      <td>0.07313749194145203</td>\n",
       "      <td>0.354193</td>\n",
       "      <td>1.006836e+08</td>\n",
       "      <td>0.082321</td>\n",
       "      <td>0.0</td>\n",
       "      <td>Jensen-Shannon distance</td>\n",
       "      <td>0.832555</td>\n",
       "      <td>0.00015179661568254232</td>\n",
       "      <td>Jensen-Shannon distance</td>\n",
       "      <td>0</td>\n",
       "      <td>...</td>\n",
       "      <td>0.0</td>\n",
       "      <td>0.832555</td>\n",
       "      <td>0.832555</td>\n",
       "      <td>516194.346449</td>\n",
       "      <td>0.000126</td>\n",
       "      <td>0.038636695593595505</td>\n",
       "      <td>1</td>\n",
       "      <td>distance</td>\n",
       "      <td>1.139090</td>\n",
       "      <td>1</td>\n",
       "    </tr>\n",
       "    <tr>\n",
       "      <th>2020-11-15 00:00:00</th>\n",
       "      <td>0.07313749194145203</td>\n",
       "      <td>0.354193</td>\n",
       "      <td>1.006836e+08</td>\n",
       "      <td>0.082321</td>\n",
       "      <td>0.0</td>\n",
       "      <td>Jensen-Shannon distance</td>\n",
       "      <td>0.832555</td>\n",
       "      <td>0.00015179661568254232</td>\n",
       "      <td>Jensen-Shannon distance</td>\n",
       "      <td>0</td>\n",
       "      <td>...</td>\n",
       "      <td>0.0</td>\n",
       "      <td>0.832555</td>\n",
       "      <td>0.832555</td>\n",
       "      <td>516194.346449</td>\n",
       "      <td>0.000126</td>\n",
       "      <td>0.038636695593595505</td>\n",
       "      <td>1</td>\n",
       "      <td>None</td>\n",
       "      <td>0.000000</td>\n",
       "      <td>0</td>\n",
       "    </tr>\n",
       "    <tr>\n",
       "      <th>2020-11-15 00:00:00</th>\n",
       "      <td>0.6925688982009888</td>\n",
       "      <td>0.000000</td>\n",
       "      <td>0.000000e+00</td>\n",
       "      <td>0.100450</td>\n",
       "      <td>None</td>\n",
       "      <td>Jensen-Shannon distance</td>\n",
       "      <td>0.832555</td>\n",
       "      <td>0.19884724915027618</td>\n",
       "      <td>Jensen-Shannon distance</td>\n",
       "      <td>0</td>\n",
       "      <td>...</td>\n",
       "      <td>0.0</td>\n",
       "      <td>0.832555</td>\n",
       "      <td>0.832555</td>\n",
       "      <td>0.000000</td>\n",
       "      <td>0.165551</td>\n",
       "      <td>0.3557678163051605</td>\n",
       "      <td>0</td>\n",
       "      <td>distance</td>\n",
       "      <td>1.139090</td>\n",
       "      <td>1</td>\n",
       "    </tr>\n",
       "    <tr>\n",
       "      <th>2020-11-15 00:00:00</th>\n",
       "      <td>0.07313749194145203</td>\n",
       "      <td>0.354193</td>\n",
       "      <td>1.006836e+08</td>\n",
       "      <td>0.082321</td>\n",
       "      <td>0.0</td>\n",
       "      <td>Jensen-Shannon distance</td>\n",
       "      <td>0.832555</td>\n",
       "      <td>0.00015179661568254232</td>\n",
       "      <td>Jensen-Shannon distance</td>\n",
       "      <td>0</td>\n",
       "      <td>...</td>\n",
       "      <td>0.0</td>\n",
       "      <td>0.832555</td>\n",
       "      <td>0.832555</td>\n",
       "      <td>516194.346449</td>\n",
       "      <td>0.000126</td>\n",
       "      <td>0.038636695593595505</td>\n",
       "      <td>1</td>\n",
       "      <td>None</td>\n",
       "      <td>0.000000</td>\n",
       "      <td>0</td>\n",
       "    </tr>\n",
       "  </tbody>\n",
       "</table>\n",
       "<p>391 rows × 57 columns</p>\n",
       "</div>"
      ],
      "text/plain": [
       "                                    params.warehouse_ID.value_raw_feature_importance  \\\n",
       "params.week_end_experiment_end_date                                                    \n",
       "2018-12-30 00:00:00                                              0.02292817272245884   \n",
       "2018-12-30 00:00:00                                             0.026244498789310455   \n",
       "2018-12-30 00:00:00                                                             None   \n",
       "2018-12-30 00:00:00                                             0.017281191423535347   \n",
       "2019-01-06 00:00:00                                             0.028664948418736458   \n",
       "...                                                                              ...   \n",
       "2020-11-08 00:00:00                                               0.6924689412117004   \n",
       "2020-11-15 00:00:00                                              0.07313749194145203   \n",
       "2020-11-15 00:00:00                                              0.07313749194145203   \n",
       "2020-11-15 00:00:00                                               0.6925688982009888   \n",
       "2020-11-15 00:00:00                                              0.07313749194145203   \n",
       "\n",
       "                                     params.statewise_population_per_sqmile.value_drift_score  \\\n",
       "params.week_end_experiment_end_date                                                             \n",
       "2018-12-30 00:00:00                                                           0.588372          \n",
       "2018-12-30 00:00:00                                                           0.588372          \n",
       "2018-12-30 00:00:00                                                           0.000000          \n",
       "2018-12-30 00:00:00                                                           0.588372          \n",
       "2019-01-06 00:00:00                                                           0.270989          \n",
       "...                                                                                ...          \n",
       "2020-11-08 00:00:00                                                           0.000000          \n",
       "2020-11-15 00:00:00                                                           0.354193          \n",
       "2020-11-15 00:00:00                                                           0.354193          \n",
       "2020-11-15 00:00:00                                                           0.000000          \n",
       "2020-11-15 00:00:00                                                           0.354193          \n",
       "\n",
       "                                     params.state_cases.value_feature_importance_weighted_drift_score  \\\n",
       "params.week_end_experiment_end_date                                                                     \n",
       "2018-12-30 00:00:00                                                       0.000000e+00                  \n",
       "2018-12-30 00:00:00                                                       0.000000e+00                  \n",
       "2018-12-30 00:00:00                                                       0.000000e+00                  \n",
       "2018-12-30 00:00:00                                                       0.000000e+00                  \n",
       "2019-01-06 00:00:00                                                       0.000000e+00                  \n",
       "...                                                                                ...                  \n",
       "2020-11-08 00:00:00                                                       0.000000e+00                  \n",
       "2020-11-15 00:00:00                                                       1.006836e+08                  \n",
       "2020-11-15 00:00:00                                                       1.006836e+08                  \n",
       "2020-11-15 00:00:00                                                       0.000000e+00                  \n",
       "2020-11-15 00:00:00                                                       1.006836e+08                  \n",
       "\n",
       "                                     params.is_warehouse_closed.value_feature_importance_weighted_drift_score  \\\n",
       "params.week_end_experiment_end_date                                                                             \n",
       "2018-12-30 00:00:00                                                           0.000000                          \n",
       "2018-12-30 00:00:00                                                           0.000000                          \n",
       "2018-12-30 00:00:00                                                           0.000000                          \n",
       "2018-12-30 00:00:00                                                           0.000000                          \n",
       "2019-01-06 00:00:00                                                           0.000000                          \n",
       "...                                                                                ...                          \n",
       "2020-11-08 00:00:00                                                           0.099654                          \n",
       "2020-11-15 00:00:00                                                           0.082321                          \n",
       "2020-11-15 00:00:00                                                           0.082321                          \n",
       "2020-11-15 00:00:00                                                           0.100450                          \n",
       "2020-11-15 00:00:00                                                           0.082321                          \n",
       "\n",
       "                                    params.statewise_population_per_sqmile.value_relative_feature_importance  \\\n",
       "params.week_end_experiment_end_date                                                                            \n",
       "2018-12-30 00:00:00                                                                0.0                         \n",
       "2018-12-30 00:00:00                                                0.02968338318169117                         \n",
       "2018-12-30 00:00:00                                                               None                         \n",
       "2018-12-30 00:00:00                                               0.002893036464229226                         \n",
       "2019-01-06 00:00:00                                                                0.0                         \n",
       "...                                                                                ...                         \n",
       "2020-11-08 00:00:00                                                               None                         \n",
       "2020-11-15 00:00:00                                                                0.0                         \n",
       "2020-11-15 00:00:00                                                                0.0                         \n",
       "2020-11-15 00:00:00                                                               None                         \n",
       "2020-11-15 00:00:00                                                                0.0                         \n",
       "\n",
       "                                    params.is_weekend.value_stattest_name  \\\n",
       "params.week_end_experiment_end_date                                         \n",
       "2018-12-30 00:00:00                               Jensen-Shannon distance   \n",
       "2018-12-30 00:00:00                               Jensen-Shannon distance   \n",
       "2018-12-30 00:00:00                                                  None   \n",
       "2018-12-30 00:00:00                               Jensen-Shannon distance   \n",
       "2019-01-06 00:00:00                               Jensen-Shannon distance   \n",
       "...                                                                   ...   \n",
       "2020-11-08 00:00:00                               Jensen-Shannon distance   \n",
       "2020-11-15 00:00:00                               Jensen-Shannon distance   \n",
       "2020-11-15 00:00:00                               Jensen-Shannon distance   \n",
       "2020-11-15 00:00:00                               Jensen-Shannon distance   \n",
       "2020-11-15 00:00:00                               Jensen-Shannon distance   \n",
       "\n",
       "                                     params.state.value_drift_score  \\\n",
       "params.week_end_experiment_end_date                                   \n",
       "2018-12-30 00:00:00                                        0.832555   \n",
       "2018-12-30 00:00:00                                        0.832555   \n",
       "2018-12-30 00:00:00                                        0.000000   \n",
       "2018-12-30 00:00:00                                        0.832555   \n",
       "2019-01-06 00:00:00                                        0.832555   \n",
       "...                                                             ...   \n",
       "2020-11-08 00:00:00                                        0.832555   \n",
       "2020-11-15 00:00:00                                        0.832555   \n",
       "2020-11-15 00:00:00                                        0.832555   \n",
       "2020-11-15 00:00:00                                        0.832555   \n",
       "2020-11-15 00:00:00                                        0.832555   \n",
       "\n",
       "                                    params.state.value_relative_feature_importance  \\\n",
       "params.week_end_experiment_end_date                                                  \n",
       "2018-12-30 00:00:00                                                            0.0   \n",
       "2018-12-30 00:00:00                                                            0.0   \n",
       "2018-12-30 00:00:00                                                           None   \n",
       "2018-12-30 00:00:00                                                            0.0   \n",
       "2019-01-06 00:00:00                                                            0.0   \n",
       "...                                                                            ...   \n",
       "2020-11-08 00:00:00                                             0.0745820552110672   \n",
       "2020-11-15 00:00:00                                         0.00015179661568254232   \n",
       "2020-11-15 00:00:00                                         0.00015179661568254232   \n",
       "2020-11-15 00:00:00                                            0.19884724915027618   \n",
       "2020-11-15 00:00:00                                         0.00015179661568254232   \n",
       "\n",
       "                                    params.is_warehouse_closed.value_stattest_name  \\\n",
       "params.week_end_experiment_end_date                                                  \n",
       "2018-12-30 00:00:00                                        Jensen-Shannon distance   \n",
       "2018-12-30 00:00:00                                        Jensen-Shannon distance   \n",
       "2018-12-30 00:00:00                                                           None   \n",
       "2018-12-30 00:00:00                                        Jensen-Shannon distance   \n",
       "2019-01-06 00:00:00                                        Jensen-Shannon distance   \n",
       "...                                                                            ...   \n",
       "2020-11-08 00:00:00                                        Jensen-Shannon distance   \n",
       "2020-11-15 00:00:00                                        Jensen-Shannon distance   \n",
       "2020-11-15 00:00:00                                        Jensen-Shannon distance   \n",
       "2020-11-15 00:00:00                                        Jensen-Shannon distance   \n",
       "2020-11-15 00:00:00                                        Jensen-Shannon distance   \n",
       "\n",
       "                                     params.county.value_feature_importance_weighted_drift_detected  \\\n",
       "params.week_end_experiment_end_date                                                                   \n",
       "2018-12-30 00:00:00                                                                  0                \n",
       "2018-12-30 00:00:00                                                                  0                \n",
       "2018-12-30 00:00:00                                                                  0                \n",
       "2018-12-30 00:00:00                                                                  0                \n",
       "2019-01-06 00:00:00                                                                  0                \n",
       "...                                                                                ...                \n",
       "2020-11-08 00:00:00                                                                  0                \n",
       "2020-11-15 00:00:00                                                                  0                \n",
       "2020-11-15 00:00:00                                                                  0                \n",
       "2020-11-15 00:00:00                                                                  0                \n",
       "2020-11-15 00:00:00                                                                  0                \n",
       "\n",
       "                                     ...  \\\n",
       "params.week_end_experiment_end_date  ...   \n",
       "2018-12-30 00:00:00                  ...   \n",
       "2018-12-30 00:00:00                  ...   \n",
       "2018-12-30 00:00:00                  ...   \n",
       "2018-12-30 00:00:00                  ...   \n",
       "2019-01-06 00:00:00                  ...   \n",
       "...                                  ...   \n",
       "2020-11-08 00:00:00                  ...   \n",
       "2020-11-15 00:00:00                  ...   \n",
       "2020-11-15 00:00:00                  ...   \n",
       "2020-11-15 00:00:00                  ...   \n",
       "2020-11-15 00:00:00                  ...   \n",
       "\n",
       "                                     params.county.value_raw_feature_importance  \\\n",
       "params.week_end_experiment_end_date                                               \n",
       "2018-12-30 00:00:00                                                         0.0   \n",
       "2018-12-30 00:00:00                                                         0.0   \n",
       "2018-12-30 00:00:00                                                        None   \n",
       "2018-12-30 00:00:00                                                         0.0   \n",
       "2019-01-06 00:00:00                                                         0.0   \n",
       "...                                                                         ...   \n",
       "2020-11-08 00:00:00                                                         0.0   \n",
       "2020-11-15 00:00:00                                                         0.0   \n",
       "2020-11-15 00:00:00                                                         0.0   \n",
       "2020-11-15 00:00:00                                                         0.0   \n",
       "2020-11-15 00:00:00                                                         0.0   \n",
       "\n",
       "                                    params.Product_Type.value_drift_score  \\\n",
       "params.week_end_experiment_end_date                                         \n",
       "2018-12-30 00:00:00                                              0.832555   \n",
       "2018-12-30 00:00:00                                              0.832555   \n",
       "2018-12-30 00:00:00                                              0.000000   \n",
       "2018-12-30 00:00:00                                              0.832555   \n",
       "2019-01-06 00:00:00                                              0.832555   \n",
       "...                                                                   ...   \n",
       "2020-11-08 00:00:00                                              0.832555   \n",
       "2020-11-15 00:00:00                                              0.832555   \n",
       "2020-11-15 00:00:00                                              0.832555   \n",
       "2020-11-15 00:00:00                                              0.832555   \n",
       "2020-11-15 00:00:00                                              0.832555   \n",
       "\n",
       "                                     params.warehouse_ID.value_drift_score  \\\n",
       "params.week_end_experiment_end_date                                          \n",
       "2018-12-30 00:00:00                                               0.832555   \n",
       "2018-12-30 00:00:00                                               0.832555   \n",
       "2018-12-30 00:00:00                                               0.000000   \n",
       "2018-12-30 00:00:00                                               0.832555   \n",
       "2019-01-06 00:00:00                                               0.832555   \n",
       "...                                                                    ...   \n",
       "2020-11-08 00:00:00                                               0.832555   \n",
       "2020-11-15 00:00:00                                               0.832555   \n",
       "2020-11-15 00:00:00                                               0.832555   \n",
       "2020-11-15 00:00:00                                               0.832555   \n",
       "2020-11-15 00:00:00                                               0.832555   \n",
       "\n",
       "                                    params.state_deaths.value_feature_importance_weighted_drift_score  \\\n",
       "params.week_end_experiment_end_date                                                                     \n",
       "2018-12-30 00:00:00                                                           0.000000                  \n",
       "2018-12-30 00:00:00                                                           0.000000                  \n",
       "2018-12-30 00:00:00                                                           0.000000                  \n",
       "2018-12-30 00:00:00                                                           0.000000                  \n",
       "2019-01-06 00:00:00                                                           0.000000                  \n",
       "...                                                                                ...                  \n",
       "2020-11-08 00:00:00                                                           0.000000                  \n",
       "2020-11-15 00:00:00                                                      516194.346449                  \n",
       "2020-11-15 00:00:00                                                      516194.346449                  \n",
       "2020-11-15 00:00:00                                                           0.000000                  \n",
       "2020-11-15 00:00:00                                                      516194.346449                  \n",
       "\n",
       "                                    params.state.value_feature_importance_weighted_drift_score  \\\n",
       "params.week_end_experiment_end_date                                                              \n",
       "2018-12-30 00:00:00                                                           0.000000           \n",
       "2018-12-30 00:00:00                                                           0.000000           \n",
       "2018-12-30 00:00:00                                                           0.000000           \n",
       "2018-12-30 00:00:00                                                           0.000000           \n",
       "2019-01-06 00:00:00                                                           0.000000           \n",
       "...                                                                                ...           \n",
       "2020-11-08 00:00:00                                                           0.062094           \n",
       "2020-11-15 00:00:00                                                           0.000126           \n",
       "2020-11-15 00:00:00                                                           0.000126           \n",
       "2020-11-15 00:00:00                                                           0.165551           \n",
       "2020-11-15 00:00:00                                                           0.000126           \n",
       "\n",
       "                                    params.warehouse_ID.value_relative_feature_importance  \\\n",
       "params.week_end_experiment_end_date                                                         \n",
       "2018-12-30 00:00:00                                               0.013138306327164173      \n",
       "2018-12-30 00:00:00                                               0.014780729077756405      \n",
       "2018-12-30 00:00:00                                                               None      \n",
       "2018-12-30 00:00:00                                               0.007265902124345303      \n",
       "2019-01-06 00:00:00                                                0.01135654840618372      \n",
       "...                                                                                ...      \n",
       "2020-11-08 00:00:00                                                 0.3131217360496521      \n",
       "2020-11-15 00:00:00                                               0.038636695593595505      \n",
       "2020-11-15 00:00:00                                               0.038636695593595505      \n",
       "2020-11-15 00:00:00                                                 0.3557678163051605      \n",
       "2020-11-15 00:00:00                                               0.038636695593595505      \n",
       "\n",
       "                                    params.state_cases.value_feature_importance_weighted_drift_detected  \\\n",
       "params.week_end_experiment_end_date                                                                       \n",
       "2018-12-30 00:00:00                                                                  0                    \n",
       "2018-12-30 00:00:00                                                                  0                    \n",
       "2018-12-30 00:00:00                                                                  0                    \n",
       "2018-12-30 00:00:00                                                                  0                    \n",
       "2019-01-06 00:00:00                                                                  0                    \n",
       "...                                                                                ...                    \n",
       "2020-11-08 00:00:00                                                                  0                    \n",
       "2020-11-15 00:00:00                                                                  1                    \n",
       "2020-11-15 00:00:00                                                                  1                    \n",
       "2020-11-15 00:00:00                                                                  0                    \n",
       "2020-11-15 00:00:00                                                                  1                    \n",
       "\n",
       "                                     params.daily_dispatch_count_target_stattest_name  \\\n",
       "params.week_end_experiment_end_date                                                     \n",
       "2018-12-30 00:00:00                                                          distance   \n",
       "2018-12-30 00:00:00                                                          distance   \n",
       "2018-12-30 00:00:00                                                          distance   \n",
       "2018-12-30 00:00:00                                                          distance   \n",
       "2019-01-06 00:00:00                                                          distance   \n",
       "...                                                                               ...   \n",
       "2020-11-08 00:00:00                                                          distance   \n",
       "2020-11-15 00:00:00                                                          distance   \n",
       "2020-11-15 00:00:00                                                              None   \n",
       "2020-11-15 00:00:00                                                          distance   \n",
       "2020-11-15 00:00:00                                                              None   \n",
       "\n",
       "                                     params.daily_dispatch_count_target_drift_score  \\\n",
       "params.week_end_experiment_end_date                                                   \n",
       "2018-12-30 00:00:00                                                        0.850697   \n",
       "2018-12-30 00:00:00                                                        0.850697   \n",
       "2018-12-30 00:00:00                                                        0.850697   \n",
       "2018-12-30 00:00:00                                                        0.850697   \n",
       "2019-01-06 00:00:00                                                        0.760357   \n",
       "...                                                                             ...   \n",
       "2020-11-08 00:00:00                                                        1.191264   \n",
       "2020-11-15 00:00:00                                                        1.139090   \n",
       "2020-11-15 00:00:00                                                        0.000000   \n",
       "2020-11-15 00:00:00                                                        1.139090   \n",
       "2020-11-15 00:00:00                                                        0.000000   \n",
       "\n",
       "                                     params.daily_dispatch_count_drift_detected  \n",
       "params.week_end_experiment_end_date                                              \n",
       "2018-12-30 00:00:00                                                           1  \n",
       "2018-12-30 00:00:00                                                           1  \n",
       "2018-12-30 00:00:00                                                           1  \n",
       "2018-12-30 00:00:00                                                           1  \n",
       "2019-01-06 00:00:00                                                           1  \n",
       "...                                                                         ...  \n",
       "2020-11-08 00:00:00                                                           1  \n",
       "2020-11-15 00:00:00                                                           1  \n",
       "2020-11-15 00:00:00                                                           0  \n",
       "2020-11-15 00:00:00                                                           1  \n",
       "2020-11-15 00:00:00                                                           0  \n",
       "\n",
       "[391 rows x 57 columns]"
      ]
     },
     "execution_count": 692,
     "metadata": {},
     "output_type": "execute_result"
    }
   ],
   "source": [
    "drift_detected_experiment_results"
   ]
  },
  {
   "cell_type": "code",
   "execution_count": null,
   "id": "60b0a695",
   "metadata": {},
   "outputs": [],
   "source": []
  }
 ],
 "metadata": {
  "hide_input": false,
  "kernelspec": {
   "display_name": "anaconda_env",
   "language": "python",
   "name": "anaconda_env"
  },
  "language_info": {
   "codemirror_mode": {
    "name": "ipython",
    "version": 3
   },
   "file_extension": ".py",
   "mimetype": "text/x-python",
   "name": "python",
   "nbconvert_exporter": "python",
   "pygments_lexer": "ipython3",
   "version": "3.9.12"
  },
  "toc": {
   "base_numbering": 1,
   "nav_menu": {},
   "number_sections": true,
   "sideBar": true,
   "skip_h1_title": false,
   "title_cell": "Table of Contents",
   "title_sidebar": "Contents",
   "toc_cell": false,
   "toc_position": {
    "height": "calc(100% - 180px)",
    "left": "10px",
    "top": "150px",
    "width": "384px"
   },
   "toc_section_display": true,
   "toc_window_display": false
  },
  "varInspector": {
   "cols": {
    "lenName": 16,
    "lenType": 16,
    "lenVar": 40
   },
   "kernels_config": {
    "python": {
     "delete_cmd_postfix": "",
     "delete_cmd_prefix": "del ",
     "library": "var_list.py",
     "varRefreshCmd": "print(var_dic_list())"
    },
    "r": {
     "delete_cmd_postfix": ") ",
     "delete_cmd_prefix": "rm(",
     "library": "var_list.r",
     "varRefreshCmd": "cat(var_dic_list()) "
    }
   },
   "types_to_exclude": [
    "module",
    "function",
    "builtin_function_or_method",
    "instance",
    "_Feature"
   ],
   "window_display": false
  }
 },
 "nbformat": 4,
 "nbformat_minor": 5
}
