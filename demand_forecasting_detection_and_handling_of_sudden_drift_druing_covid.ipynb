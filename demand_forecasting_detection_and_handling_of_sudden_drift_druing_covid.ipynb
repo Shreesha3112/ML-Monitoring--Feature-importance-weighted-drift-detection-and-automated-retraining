{
 "cells": [
  {
   "cell_type": "markdown",
   "id": "bc63de82",
   "metadata": {},
   "source": [
    "# ML Monitoring - Feature importance weighted drift detection and automated-retraining\n",
    "\n",
    "## Overview\n",
    "\n",
    "Every model over time is impacted by model performance decay due to data drift and concept drift. One of many solution is to perform drift detection and set up automated retraining of the model. Drift in every feature does't have the same impact on model performance. In this project we combine feature importance of a particular feature with its drift score obtained through statistical test to determine wether to retrain model or not. Thus model will be retrained only when there is drift on features with higher importance and also when feature with lower importance faces higher data drift.\n",
    "\n",
    "## Dataset:\n",
    "\n",
    "* Contains warehouse demand data from 2017-01-01 to 2020-11-15\n",
    "* Working with preprocessed data\n",
    "* No data leakage as missing values were filled without requirement of any transformation\n",
    "\n",
    "## Assumptions\n",
    "\n",
    "* Initial model deployment on march 2019\n",
    "* True labels/ actual demand available over the weekend\n",
    "* Model monitored on weekly basis"
   ]
  },
  {
   "cell_type": "markdown",
   "id": "20bc077d",
   "metadata": {},
   "source": [
    "## Libraries"
   ]
  },
  {
   "cell_type": "code",
   "execution_count": 186,
   "id": "2150e659",
   "metadata": {},
   "outputs": [],
   "source": [
    "import pandas as pd\n",
    "import numpy as np\n",
    "from datetime import date,datetime,timedelta\n",
    "from sklearn.model_selection import train_test_split\n",
    "from rdt import HyperTransformer\n",
    "import xgboost as xgb\n",
    "import optuna\n",
    "import traceback\n",
    "import shap\n",
    "import pickle\n",
    "import logging\n",
    "from importlib import reload\n",
    "import logging\n",
    "from sklearn.metrics import mean_squared_error, mean_absolute_percentage_error, mean_absolute_error\n",
    "from evidently import ColumnMapping\n",
    "from evidently.analyzers.stattests import StatTest\n",
    "from evidently.dashboard import Dashboard\n",
    "from evidently.dashboard.tabs import DataDriftTab, CatTargetDriftTab, NumTargetDriftTab, RegressionPerformanceTab\n",
    "from evidently.options import DataDriftOptions\n",
    "from evidently.model_profile import Profile\n",
    "from evidently.model_profile.sections import DataDriftProfileSection, NumTargetDriftProfileSection\n",
    "import plotly.graph_objects as go\n",
    "import plotly.figure_factory as ff\n",
    "import plotly.express as px\n",
    "import os\n",
    "import json\n",
    "import mlflow\n",
    "from functools import wraps\n",
    "from mlflow.tracking import MlflowClient\n",
    "import plotly.io as pio\n",
    "# remove static rendering to allow interactive mode\n",
    "pio.renderers.default = \"svg\"\n",
    "%matplotlib inline"
   ]
  },
  {
   "cell_type": "code",
   "execution_count": 187,
   "id": "a8149581",
   "metadata": {},
   "outputs": [],
   "source": [
    "# set up logging\n",
    "reload(logging)\n",
    "logging.basicConfig(format='%(asctime)s %(levelname)s:%(message)s', level=logging.INFO, datefmt='%I:%M:%S')"
   ]
  },
  {
   "cell_type": "code",
   "execution_count": 188,
   "id": "9a7fe6d4",
   "metadata": {},
   "outputs": [],
   "source": [
    "# mlflow runner\n",
    "def mlflow_runner(func):\n",
    "    @wraps(func)\n",
    "    def wrapper(*args, **kwargs):\n",
    "        # log into MLflow\n",
    "        client = MlflowClient()\n",
    "        experiment_name = kwargs['experiment_name']\n",
    "        try:\n",
    "            mlflow.set_experiment(experiment_name)\n",
    "        except Exception:\n",
    "            logging.error('Experiment does not exists')\n",
    "            logging.error('Stack trace:{}'.format(traceback.format_exc()))\n",
    "            experiment_id = mlflow.create_experiment(experiment_name)\n",
    "            mlflow.set_experiment(experiment_name)\n",
    "        finally:\n",
    "            with mlflow.start_run() as run:\n",
    "                rv = func(*args, **kwargs)\n",
    "            return rv\n",
    "\n",
    "    return wrapper"
   ]
  },
  {
   "cell_type": "markdown",
   "id": "fe10566d",
   "metadata": {},
   "source": [
    "## Data"
   ]
  },
  {
   "cell_type": "markdown",
   "id": "2e080f13",
   "metadata": {},
   "source": [
    "### Load data"
   ]
  },
  {
   "cell_type": "code",
   "execution_count": 189,
   "id": "3b082e99",
   "metadata": {},
   "outputs": [],
   "source": [
    "df = pd.read_csv('cpp_demand_forecasting_clean_data_v2.csv', index_col=0)"
   ]
  },
  {
   "cell_type": "code",
   "execution_count": 190,
   "id": "f2e957d5",
   "metadata": {},
   "outputs": [
    {
     "name": "stderr",
     "output_type": "stream",
     "text": [
      "09:45:10 INFO:dataset shape : (13315, 33)\n"
     ]
    }
   ],
   "source": [
    "logging.info(f'dataset shape : {df.shape}')"
   ]
  },
  {
   "cell_type": "code",
   "execution_count": 191,
   "id": "2de736f2",
   "metadata": {},
   "outputs": [],
   "source": [
    "# set random state\n",
    "rng = np.random.RandomState(0)"
   ]
  },
  {
   "cell_type": "code",
   "execution_count": 192,
   "id": "7ce62229",
   "metadata": {},
   "outputs": [
    {
     "data": {
      "text/html": [
       "<div>\n",
       "<style scoped>\n",
       "    .dataframe tbody tr th:only-of-type {\n",
       "        vertical-align: middle;\n",
       "    }\n",
       "\n",
       "    .dataframe tbody tr th {\n",
       "        vertical-align: top;\n",
       "    }\n",
       "\n",
       "    .dataframe thead th {\n",
       "        text-align: right;\n",
       "    }\n",
       "</style>\n",
       "<table border=\"1\" class=\"dataframe\">\n",
       "  <thead>\n",
       "    <tr style=\"text-align: right;\">\n",
       "      <th></th>\n",
       "      <th>date</th>\n",
       "      <th>warehouse_ID</th>\n",
       "      <th>Latitude</th>\n",
       "      <th>Longitude</th>\n",
       "      <th>Product_Type</th>\n",
       "      <th>year</th>\n",
       "      <th>month</th>\n",
       "      <th>is_weekend</th>\n",
       "      <th>is_warehouse_closed</th>\n",
       "      <th>daily_dispatch_count</th>\n",
       "      <th>...</th>\n",
       "      <th>statewise_land_area_per_sqmile</th>\n",
       "      <th>statewise_population_per_sqmile</th>\n",
       "      <th>statewise_geographic_region</th>\n",
       "      <th>geographic_region_division</th>\n",
       "      <th>statewise_median_age</th>\n",
       "      <th>statewise_median_household_income</th>\n",
       "      <th>total_count</th>\n",
       "      <th>yearly_count</th>\n",
       "      <th>monthly_count</th>\n",
       "      <th>weekly_count</th>\n",
       "    </tr>\n",
       "    <tr>\n",
       "      <th>ID</th>\n",
       "      <th></th>\n",
       "      <th></th>\n",
       "      <th></th>\n",
       "      <th></th>\n",
       "      <th></th>\n",
       "      <th></th>\n",
       "      <th></th>\n",
       "      <th></th>\n",
       "      <th></th>\n",
       "      <th></th>\n",
       "      <th></th>\n",
       "      <th></th>\n",
       "      <th></th>\n",
       "      <th></th>\n",
       "      <th></th>\n",
       "      <th></th>\n",
       "      <th></th>\n",
       "      <th></th>\n",
       "      <th></th>\n",
       "      <th></th>\n",
       "      <th></th>\n",
       "    </tr>\n",
       "  </thead>\n",
       "  <tbody>\n",
       "    <tr>\n",
       "      <th>0x2710</th>\n",
       "      <td>2017-01-01</td>\n",
       "      <td>WH_0x3e9</td>\n",
       "      <td>41.681471</td>\n",
       "      <td>-72.794746</td>\n",
       "      <td>Type_A</td>\n",
       "      <td>2017</td>\n",
       "      <td>1</td>\n",
       "      <td>Yes</td>\n",
       "      <td>No</td>\n",
       "      <td>5.5</td>\n",
       "      <td>...</td>\n",
       "      <td>4842</td>\n",
       "      <td>744.722016</td>\n",
       "      <td>new_england</td>\n",
       "      <td>north_east</td>\n",
       "      <td>41.2</td>\n",
       "      <td>78833</td>\n",
       "      <td>0</td>\n",
       "      <td>0</td>\n",
       "      <td>0</td>\n",
       "      <td>0</td>\n",
       "    </tr>\n",
       "    <tr>\n",
       "      <th>0x33e6</th>\n",
       "      <td>2017-01-01</td>\n",
       "      <td>WH_0x3ea</td>\n",
       "      <td>38.749077</td>\n",
       "      <td>-105.183060</td>\n",
       "      <td>Type_A</td>\n",
       "      <td>2017</td>\n",
       "      <td>1</td>\n",
       "      <td>Yes</td>\n",
       "      <td>No</td>\n",
       "      <td>6.1</td>\n",
       "      <td>...</td>\n",
       "      <td>103642</td>\n",
       "      <td>56.078318</td>\n",
       "      <td>mountain</td>\n",
       "      <td>west</td>\n",
       "      <td>37.3</td>\n",
       "      <td>41053</td>\n",
       "      <td>0</td>\n",
       "      <td>0</td>\n",
       "      <td>0</td>\n",
       "      <td>0</td>\n",
       "    </tr>\n",
       "  </tbody>\n",
       "</table>\n",
       "<p>2 rows × 33 columns</p>\n",
       "</div>"
      ],
      "text/plain": [
       "              date warehouse_ID   Latitude   Longitude Product_Type  year  \\\n",
       "ID                                                                          \n",
       "0x2710  2017-01-01     WH_0x3e9  41.681471  -72.794746       Type_A  2017   \n",
       "0x33e6  2017-01-01     WH_0x3ea  38.749077 -105.183060       Type_A  2017   \n",
       "\n",
       "        month is_weekend is_warehouse_closed  daily_dispatch_count  ...  \\\n",
       "ID                                                                  ...   \n",
       "0x2710      1        Yes                  No                   5.5  ...   \n",
       "0x33e6      1        Yes                  No                   6.1  ...   \n",
       "\n",
       "        statewise_land_area_per_sqmile  statewise_population_per_sqmile  \\\n",
       "ID                                                                        \n",
       "0x2710                            4842                       744.722016   \n",
       "0x33e6                          103642                        56.078318   \n",
       "\n",
       "       statewise_geographic_region geographic_region_division  \\\n",
       "ID                                                              \n",
       "0x2710                 new_england                 north_east   \n",
       "0x33e6                    mountain                       west   \n",
       "\n",
       "        statewise_median_age  statewise_median_household_income  total_count  \\\n",
       "ID                                                                             \n",
       "0x2710                  41.2                              78833            0   \n",
       "0x33e6                  37.3                              41053            0   \n",
       "\n",
       "        yearly_count  monthly_count  weekly_count  \n",
       "ID                                                 \n",
       "0x2710             0              0             0  \n",
       "0x33e6             0              0             0  \n",
       "\n",
       "[2 rows x 33 columns]"
      ]
     },
     "execution_count": 192,
     "metadata": {},
     "output_type": "execute_result"
    }
   ],
   "source": [
    "df.head(2)"
   ]
  },
  {
   "cell_type": "code",
   "execution_count": 193,
   "id": "b32c9da2",
   "metadata": {},
   "outputs": [],
   "source": [
    "df.date = pd.to_datetime(df.date)"
   ]
  },
  {
   "cell_type": "markdown",
   "id": "9a90b42c",
   "metadata": {},
   "source": [
    "<b> Data available during initial model deployment is from 2017-01-01 to 2019-03-01"
   ]
  },
  {
   "cell_type": "code",
   "execution_count": 194,
   "id": "29f7d1f2",
   "metadata": {},
   "outputs": [],
   "source": [
    "intial_df = df[df.date < datetime(2019,3,1)]"
   ]
  },
  {
   "cell_type": "code",
   "execution_count": 195,
   "id": "644635c4",
   "metadata": {},
   "outputs": [],
   "source": [
    "# Split the dataset\n",
    "train_df, test_df = train_test_split(intial_df,\n",
    "                                     test_size=0.3,\n",
    "                                     shuffle=False,\n",
    "                                     random_state=rng)\n",
    "eval_df, serve_df = train_test_split(test_df,\n",
    "                                     test_size=0.5,\n",
    "                                     shuffle=False,\n",
    "                                     random_state=rng)"
   ]
  },
  {
   "cell_type": "code",
   "execution_count": 196,
   "id": "430f225a",
   "metadata": {},
   "outputs": [
    {
     "name": "stderr",
     "output_type": "stream",
     "text": [
      "09:45:30 INFO:train_df shape : (2794, 33)\n",
      "09:45:30 INFO:eval_df shape : (599, 33)\n",
      "09:45:30 INFO:serve_df shape : (599, 33)\n"
     ]
    }
   ],
   "source": [
    "logging.info(f'train_df shape : {train_df.shape}')\n",
    "logging.info(f'eval_df shape : {eval_df.shape}')\n",
    "logging.info(f'serve_df shape : {serve_df.shape}')"
   ]
  },
  {
   "cell_type": "markdown",
   "id": "c82dfa3e",
   "metadata": {},
   "source": [
    "### Data preprocessing"
   ]
  },
  {
   "cell_type": "code",
   "execution_count": 197,
   "id": "96ed4416",
   "metadata": {},
   "outputs": [],
   "source": [
    "def split_features_target(df):\n",
    "    target =  'daily_dispatch_count'\n",
    "    drop_feats = ['weekly_dispatch_count']\n",
    "    y = df[target]\n",
    "    X = df.drop(columns = drop_feats+[target])\n",
    "    return X,y"
   ]
  },
  {
   "cell_type": "code",
   "execution_count": 198,
   "id": "bf66ace6",
   "metadata": {},
   "outputs": [],
   "source": [
    "X,y = split_features_target(train_df)\n",
    "X_eval,y_eval = split_features_target(eval_df)\n",
    "X_serve,y_serve = split_features_target(serve_df)"
   ]
  },
  {
   "cell_type": "markdown",
   "id": "9d8fa920",
   "metadata": {},
   "source": [
    "### Data transformation"
   ]
  },
  {
   "cell_type": "code",
   "execution_count": 199,
   "id": "d2d332e6",
   "metadata": {},
   "outputs": [],
   "source": [
    "ht = HyperTransformer()"
   ]
  },
  {
   "cell_type": "code",
   "execution_count": 200,
   "id": "2a7a1fae",
   "metadata": {},
   "outputs": [
    {
     "name": "stdout",
     "output_type": "stream",
     "text": [
      "Detecting a new config from the data ... SUCCESS\n",
      "Setting the new config ... SUCCESS\n",
      "Config:\n",
      "{\n",
      "    \"sdtypes\": {\n",
      "        \"date\": \"datetime\",\n",
      "        \"warehouse_ID\": \"categorical\",\n",
      "        \"Latitude\": \"numerical\",\n",
      "        \"Longitude\": \"numerical\",\n",
      "        \"Product_Type\": \"categorical\",\n",
      "        \"year\": \"numerical\",\n",
      "        \"month\": \"numerical\",\n",
      "        \"is_weekend\": \"categorical\",\n",
      "        \"is_warehouse_closed\": \"categorical\",\n",
      "        \"week\": \"numerical\",\n",
      "        \"state\": \"categorical\",\n",
      "        \"county\": \"categorical\",\n",
      "        \"state_cases\": \"numerical\",\n",
      "        \"state_deaths\": \"numerical\",\n",
      "        \"county_cases\": \"numerical\",\n",
      "        \"county_deaths\": \"numerical\",\n",
      "        \"day_of_week\": \"numerical\",\n",
      "        \"days_since_warehouse_started\": \"numerical\",\n",
      "        \"state_abbr\": \"categorical\",\n",
      "        \"is_holiday\": \"numerical\",\n",
      "        \"statewise_population\": \"numerical\",\n",
      "        \"statewise_land_area_per_sqmile\": \"numerical\",\n",
      "        \"statewise_population_per_sqmile\": \"numerical\",\n",
      "        \"statewise_geographic_region\": \"categorical\",\n",
      "        \"geographic_region_division\": \"categorical\",\n",
      "        \"statewise_median_age\": \"numerical\",\n",
      "        \"statewise_median_household_income\": \"numerical\",\n",
      "        \"total_count\": \"numerical\",\n",
      "        \"yearly_count\": \"numerical\",\n",
      "        \"monthly_count\": \"numerical\",\n",
      "        \"weekly_count\": \"numerical\"\n",
      "    },\n",
      "    \"transformers\": {\n",
      "        \"date\": UnixTimestampEncoder(missing_value_replacement='mean'),\n",
      "        \"warehouse_ID\": FrequencyEncoder(),\n",
      "        \"Latitude\": FloatFormatter(missing_value_replacement='mean'),\n",
      "        \"Longitude\": FloatFormatter(missing_value_replacement='mean'),\n",
      "        \"Product_Type\": FrequencyEncoder(),\n",
      "        \"year\": FloatFormatter(missing_value_replacement='mean'),\n",
      "        \"month\": FloatFormatter(missing_value_replacement='mean'),\n",
      "        \"is_weekend\": FrequencyEncoder(),\n",
      "        \"is_warehouse_closed\": FrequencyEncoder(),\n",
      "        \"week\": FloatFormatter(missing_value_replacement='mean'),\n",
      "        \"state\": FrequencyEncoder(),\n",
      "        \"county\": FrequencyEncoder(),\n",
      "        \"state_cases\": FloatFormatter(missing_value_replacement='mean'),\n",
      "        \"state_deaths\": FloatFormatter(missing_value_replacement='mean'),\n",
      "        \"county_cases\": FloatFormatter(missing_value_replacement='mean'),\n",
      "        \"county_deaths\": FloatFormatter(missing_value_replacement='mean'),\n",
      "        \"day_of_week\": FloatFormatter(missing_value_replacement='mean'),\n",
      "        \"days_since_warehouse_started\": FloatFormatter(missing_value_replacement='mean'),\n",
      "        \"state_abbr\": FrequencyEncoder(),\n",
      "        \"is_holiday\": FloatFormatter(missing_value_replacement='mean'),\n",
      "        \"statewise_population\": FloatFormatter(missing_value_replacement='mean'),\n",
      "        \"statewise_land_area_per_sqmile\": FloatFormatter(missing_value_replacement='mean'),\n",
      "        \"statewise_population_per_sqmile\": FloatFormatter(missing_value_replacement='mean'),\n",
      "        \"statewise_geographic_region\": FrequencyEncoder(),\n",
      "        \"geographic_region_division\": FrequencyEncoder(),\n",
      "        \"statewise_median_age\": FloatFormatter(missing_value_replacement='mean'),\n",
      "        \"statewise_median_household_income\": FloatFormatter(missing_value_replacement='mean'),\n",
      "        \"total_count\": FloatFormatter(missing_value_replacement='mean'),\n",
      "        \"yearly_count\": FloatFormatter(missing_value_replacement='mean'),\n",
      "        \"monthly_count\": FloatFormatter(missing_value_replacement='mean'),\n",
      "        \"weekly_count\": FloatFormatter(missing_value_replacement='mean')\n",
      "    }\n",
      "}\n"
     ]
    }
   ],
   "source": [
    "ht.detect_initial_config(data=X)"
   ]
  },
  {
   "cell_type": "code",
   "execution_count": 201,
   "id": "2cc976fc",
   "metadata": {},
   "outputs": [
    {
     "name": "stderr",
     "output_type": "stream",
     "text": [
      "d:\\anaconda\\envs\\anaconda_env\\lib\\site-packages\\rdt\\transformers\\categorical.py:182: UserWarning:\n",
      "\n",
      "The data contains 116 new categories that were not seen in the original data (examples: {'WH_0x3ed'}). Assigning them random values. If you want to model new categories, please fit the transformer again with the new data.\n",
      "\n",
      "d:\\anaconda\\envs\\anaconda_env\\lib\\site-packages\\rdt\\transformers\\categorical.py:182: UserWarning:\n",
      "\n",
      "The data contains 116 new categories that were not seen in the original data (examples: {'florida'}). Assigning them random values. If you want to model new categories, please fit the transformer again with the new data.\n",
      "\n",
      "d:\\anaconda\\envs\\anaconda_env\\lib\\site-packages\\rdt\\transformers\\categorical.py:182: UserWarning:\n",
      "\n",
      "The data contains 116 new categories that were not seen in the original data (examples: {'miami-dade'}). Assigning them random values. If you want to model new categories, please fit the transformer again with the new data.\n",
      "\n",
      "d:\\anaconda\\envs\\anaconda_env\\lib\\site-packages\\rdt\\transformers\\categorical.py:182: UserWarning:\n",
      "\n",
      "The data contains 116 new categories that were not seen in the original data (examples: {'FL'}). Assigning them random values. If you want to model new categories, please fit the transformer again with the new data.\n",
      "\n",
      "d:\\anaconda\\envs\\anaconda_env\\lib\\site-packages\\rdt\\transformers\\categorical.py:182: UserWarning:\n",
      "\n",
      "The data contains 116 new categories that were not seen in the original data (examples: {'mid_atlantic'}). Assigning them random values. If you want to model new categories, please fit the transformer again with the new data.\n",
      "\n"
     ]
    }
   ],
   "source": [
    "ht.fit(X)\n",
    "X_transformed = ht.transform(X)\n",
    "X_eval_transformed = ht.transform(X_eval)\n",
    "X_serve_transformed = ht.transform(X_serve)"
   ]
  },
  {
   "cell_type": "markdown",
   "id": "687fe7af",
   "metadata": {},
   "source": [
    "## Modelling"
   ]
  },
  {
   "cell_type": "code",
   "execution_count": 202,
   "id": "abf1f83c",
   "metadata": {},
   "outputs": [],
   "source": [
    "@mlflow_runner\n",
    "def fit_model(X,y, X_test,y_test, params=None,mlflow_log = False, experiment_name=None):\n",
    "    if params:\n",
    "        reg = xgb.XGBRegressor(**params)\n",
    "    else:\n",
    "        reg = xgb.XGBRegressor()\n",
    "    reg.fit(X,y,eval_set=[(X_test,y_test)],early_stopping_rounds=10,verbose=False)\n",
    "    if mlflow_log:\n",
    "        mlflow.log_dict(reg.get_params(),'xgboost_regressor_params')\n",
    "        \n",
    "    return reg"
   ]
  },
  {
   "cell_type": "code",
   "execution_count": 203,
   "id": "6de3ac8d",
   "metadata": {},
   "outputs": [
    {
     "name": "stderr",
     "output_type": "stream",
     "text": [
      "d:\\anaconda\\envs\\anaconda_env\\lib\\site-packages\\xgboost\\sklearn.py:793: UserWarning:\n",
      "\n",
      "`early_stopping_rounds` in `fit` method is deprecated for better compatibility with scikit-learn, use `early_stopping_rounds` in constructor or`set_params` instead.\n",
      "\n"
     ]
    }
   ],
   "source": [
    "reg = fit_model(X_transformed,y, X_eval_transformed,y_eval, mlflow_log=True,experiment_name='warehouse_demand_forecasting')"
   ]
  },
  {
   "cell_type": "markdown",
   "id": "3504fbd4",
   "metadata": {},
   "source": [
    "#### Model evaluation"
   ]
  },
  {
   "cell_type": "code",
   "execution_count": 204,
   "id": "a466160e",
   "metadata": {},
   "outputs": [],
   "source": [
    "def rewrite_name(df_type, error_type):\n",
    "    return f\"{df_type}{'_'}{error_type}\"\n",
    "\n",
    "def get_scores(y_actual, y_predicted,df_type='train'):\n",
    "    #y_predicted = np.expm1(y_predicted)\n",
    "    #y_actual = np.expm1(y_actual)\n",
    "    rmse = mean_squared_error(y_actual, y_predicted, squared=False)\n",
    "    mse = mean_squared_error(y_actual, y_predicted, squared=True)\n",
    "    mae = mean_absolute_error(y_actual, y_predicted)\n",
    "    mape = mean_absolute_percentage_error(y_actual, y_predicted)\n",
    "    return {rewrite_name(df_type, 'rmse'):rmse, rewrite_name(df_type, 'mse'):mse, rewrite_name(df_type, 'mae'):mae, rewrite_name(df_type, 'mape'):mape}\n",
    "\n",
    "def dataset_results(X,y, model, df_type):\n",
    "\n",
    "    y_pred = model.predict(X)\n",
    "    \n",
    "    return get_scores(y,y_pred,df_type)\n",
    "    "
   ]
  },
  {
   "cell_type": "markdown",
   "id": "893a6ea5",
   "metadata": {},
   "source": [
    "#### Train score"
   ]
  },
  {
   "cell_type": "code",
   "execution_count": 205,
   "id": "fd277adc",
   "metadata": {},
   "outputs": [
    {
     "data": {
      "text/plain": [
       "{'train_rmse': 0.8588220704988938,\n",
       " 'train_mse': 0.7375753487760068,\n",
       " 'train_mae': 0.6316703897078888,\n",
       " 'train_mape': 0.0849176099824632}"
      ]
     },
     "execution_count": 205,
     "metadata": {},
     "output_type": "execute_result"
    }
   ],
   "source": [
    "dataset_results(X_transformed,y, reg, 'train')"
   ]
  },
  {
   "cell_type": "markdown",
   "id": "ddbbe97e",
   "metadata": {},
   "source": [
    "#### Eval score"
   ]
  },
  {
   "cell_type": "code",
   "execution_count": 206,
   "id": "1823f7fa",
   "metadata": {},
   "outputs": [
    {
     "data": {
      "text/plain": [
       "{'eval_rmse': 0.9780817870850148,\n",
       " 'eval_mse': 0.9566439822274162,\n",
       " 'eval_mae': 0.7291432013694751,\n",
       " 'eval_mape': 0.11933018414067095}"
      ]
     },
     "execution_count": 206,
     "metadata": {},
     "output_type": "execute_result"
    }
   ],
   "source": [
    "dataset_results(X_eval_transformed,y_eval, reg, 'eval')"
   ]
  },
  {
   "cell_type": "markdown",
   "id": "d5e8910e",
   "metadata": {},
   "source": [
    "#### Serve score"
   ]
  },
  {
   "cell_type": "code",
   "execution_count": 207,
   "id": "7546784a",
   "metadata": {},
   "outputs": [
    {
     "data": {
      "text/plain": [
       "{'serve_rmse': 1.01830436396952,\n",
       " 'serve_mse': 1.0369437776793686,\n",
       " 'serve_mae': 0.7832677500474831,\n",
       " 'serve_mape': 0.16869041564386766}"
      ]
     },
     "execution_count": 207,
     "metadata": {},
     "output_type": "execute_result"
    }
   ],
   "source": [
    "dataset_results(X_serve_transformed,y_serve, reg, 'serve')"
   ]
  },
  {
   "cell_type": "markdown",
   "id": "efeb5727",
   "metadata": {},
   "source": [
    "#### Final model trained using data from 2017-01-01 to 2019-03-01"
   ]
  },
  {
   "cell_type": "code",
   "execution_count": 306,
   "id": "dc30ba2b",
   "metadata": {},
   "outputs": [
    {
     "name": "stderr",
     "output_type": "stream",
     "text": [
      "d:\\anaconda\\envs\\anaconda_env\\lib\\site-packages\\xgboost\\sklearn.py:793: UserWarning:\n",
      "\n",
      "`early_stopping_rounds` in `fit` method is deprecated for better compatibility with scikit-learn, use `early_stopping_rounds` in constructor or`set_params` instead.\n",
      "\n"
     ]
    }
   ],
   "source": [
    "final_X, final_y = split_features_target(intial_df)\n",
    "ht.fit(final_X)\n",
    "final_X_transform = ht.transform(final_X)\n",
    "reg_final = fit_model(final_X_transform,final_y, X_eval_transformed,y_eval, mlflow_log=True,experiment_name='warehouse_demand_forecasting')"
   ]
  },
  {
   "cell_type": "code",
   "execution_count": 369,
   "id": "3aa9a45a",
   "metadata": {},
   "outputs": [
    {
     "data": {
      "text/html": [
       "<div>\n",
       "<style scoped>\n",
       "    .dataframe tbody tr th:only-of-type {\n",
       "        vertical-align: middle;\n",
       "    }\n",
       "\n",
       "    .dataframe tbody tr th {\n",
       "        vertical-align: top;\n",
       "    }\n",
       "\n",
       "    .dataframe thead th {\n",
       "        text-align: right;\n",
       "    }\n",
       "</style>\n",
       "<table border=\"1\" class=\"dataframe\">\n",
       "  <thead>\n",
       "    <tr style=\"text-align: right;\">\n",
       "      <th></th>\n",
       "      <th>date.value</th>\n",
       "      <th>warehouse_ID.value</th>\n",
       "      <th>Latitude.value</th>\n",
       "      <th>Longitude.value</th>\n",
       "      <th>Product_Type.value</th>\n",
       "      <th>year.value</th>\n",
       "      <th>month.value</th>\n",
       "      <th>is_weekend.value</th>\n",
       "      <th>is_warehouse_closed.value</th>\n",
       "      <th>week.value</th>\n",
       "      <th>...</th>\n",
       "      <th>statewise_land_area_per_sqmile.value</th>\n",
       "      <th>statewise_population_per_sqmile.value</th>\n",
       "      <th>statewise_geographic_region.value</th>\n",
       "      <th>geographic_region_division.value</th>\n",
       "      <th>statewise_median_age.value</th>\n",
       "      <th>statewise_median_household_income.value</th>\n",
       "      <th>total_count.value</th>\n",
       "      <th>yearly_count.value</th>\n",
       "      <th>monthly_count.value</th>\n",
       "      <th>weekly_count.value</th>\n",
       "    </tr>\n",
       "    <tr>\n",
       "      <th>ID</th>\n",
       "      <th></th>\n",
       "      <th></th>\n",
       "      <th></th>\n",
       "      <th></th>\n",
       "      <th></th>\n",
       "      <th></th>\n",
       "      <th></th>\n",
       "      <th></th>\n",
       "      <th></th>\n",
       "      <th></th>\n",
       "      <th></th>\n",
       "      <th></th>\n",
       "      <th></th>\n",
       "      <th></th>\n",
       "      <th></th>\n",
       "      <th></th>\n",
       "      <th></th>\n",
       "      <th></th>\n",
       "      <th></th>\n",
       "      <th></th>\n",
       "      <th></th>\n",
       "    </tr>\n",
       "  </thead>\n",
       "  <tbody>\n",
       "    <tr>\n",
       "      <th>0x2710</th>\n",
       "      <td>1.483229e+18</td>\n",
       "      <td>0.151804</td>\n",
       "      <td>41.681471</td>\n",
       "      <td>-72.794746</td>\n",
       "      <td>0.295842</td>\n",
       "      <td>2017</td>\n",
       "      <td>1</td>\n",
       "      <td>0.857966</td>\n",
       "      <td>0.5</td>\n",
       "      <td>52</td>\n",
       "      <td>...</td>\n",
       "      <td>4842</td>\n",
       "      <td>744.722016</td>\n",
       "      <td>0.667335</td>\n",
       "      <td>0.681864</td>\n",
       "      <td>41.2</td>\n",
       "      <td>78833</td>\n",
       "      <td>0</td>\n",
       "      <td>0</td>\n",
       "      <td>0</td>\n",
       "      <td>0</td>\n",
       "    </tr>\n",
       "    <tr>\n",
       "      <th>0x33e6</th>\n",
       "      <td>1.483229e+18</td>\n",
       "      <td>0.455411</td>\n",
       "      <td>38.749077</td>\n",
       "      <td>-105.183060</td>\n",
       "      <td>0.295842</td>\n",
       "      <td>2017</td>\n",
       "      <td>1</td>\n",
       "      <td>0.857966</td>\n",
       "      <td>0.5</td>\n",
       "      <td>52</td>\n",
       "      <td>...</td>\n",
       "      <td>103642</td>\n",
       "      <td>56.078318</td>\n",
       "      <td>0.257766</td>\n",
       "      <td>0.257766</td>\n",
       "      <td>37.3</td>\n",
       "      <td>41053</td>\n",
       "      <td>0</td>\n",
       "      <td>0</td>\n",
       "      <td>0</td>\n",
       "      <td>0</td>\n",
       "    </tr>\n",
       "    <tr>\n",
       "      <th>0x2711</th>\n",
       "      <td>1.483315e+18</td>\n",
       "      <td>0.151804</td>\n",
       "      <td>41.681471</td>\n",
       "      <td>-72.794746</td>\n",
       "      <td>0.295842</td>\n",
       "      <td>2017</td>\n",
       "      <td>1</td>\n",
       "      <td>0.357966</td>\n",
       "      <td>0.5</td>\n",
       "      <td>1</td>\n",
       "      <td>...</td>\n",
       "      <td>4842</td>\n",
       "      <td>744.722016</td>\n",
       "      <td>0.667335</td>\n",
       "      <td>0.681864</td>\n",
       "      <td>41.2</td>\n",
       "      <td>78833</td>\n",
       "      <td>1</td>\n",
       "      <td>1</td>\n",
       "      <td>1</td>\n",
       "      <td>0</td>\n",
       "    </tr>\n",
       "    <tr>\n",
       "      <th>0x33e7</th>\n",
       "      <td>1.483315e+18</td>\n",
       "      <td>0.455411</td>\n",
       "      <td>38.749077</td>\n",
       "      <td>-105.183060</td>\n",
       "      <td>0.295842</td>\n",
       "      <td>2017</td>\n",
       "      <td>1</td>\n",
       "      <td>0.357966</td>\n",
       "      <td>0.5</td>\n",
       "      <td>1</td>\n",
       "      <td>...</td>\n",
       "      <td>103642</td>\n",
       "      <td>56.078318</td>\n",
       "      <td>0.257766</td>\n",
       "      <td>0.257766</td>\n",
       "      <td>37.3</td>\n",
       "      <td>41053</td>\n",
       "      <td>1</td>\n",
       "      <td>1</td>\n",
       "      <td>1</td>\n",
       "      <td>0</td>\n",
       "    </tr>\n",
       "    <tr>\n",
       "      <th>0x2712</th>\n",
       "      <td>1.483402e+18</td>\n",
       "      <td>0.151804</td>\n",
       "      <td>41.681471</td>\n",
       "      <td>-72.794746</td>\n",
       "      <td>0.295842</td>\n",
       "      <td>2017</td>\n",
       "      <td>1</td>\n",
       "      <td>0.357966</td>\n",
       "      <td>0.5</td>\n",
       "      <td>1</td>\n",
       "      <td>...</td>\n",
       "      <td>4842</td>\n",
       "      <td>744.722016</td>\n",
       "      <td>0.667335</td>\n",
       "      <td>0.681864</td>\n",
       "      <td>41.2</td>\n",
       "      <td>78833</td>\n",
       "      <td>2</td>\n",
       "      <td>2</td>\n",
       "      <td>2</td>\n",
       "      <td>1</td>\n",
       "    </tr>\n",
       "  </tbody>\n",
       "</table>\n",
       "<p>5 rows × 31 columns</p>\n",
       "</div>"
      ],
      "text/plain": [
       "          date.value  warehouse_ID.value  Latitude.value  Longitude.value  \\\n",
       "ID                                                                          \n",
       "0x2710  1.483229e+18            0.151804       41.681471       -72.794746   \n",
       "0x33e6  1.483229e+18            0.455411       38.749077      -105.183060   \n",
       "0x2711  1.483315e+18            0.151804       41.681471       -72.794746   \n",
       "0x33e7  1.483315e+18            0.455411       38.749077      -105.183060   \n",
       "0x2712  1.483402e+18            0.151804       41.681471       -72.794746   \n",
       "\n",
       "        Product_Type.value  year.value  month.value  is_weekend.value  \\\n",
       "ID                                                                      \n",
       "0x2710            0.295842        2017            1          0.857966   \n",
       "0x33e6            0.295842        2017            1          0.857966   \n",
       "0x2711            0.295842        2017            1          0.357966   \n",
       "0x33e7            0.295842        2017            1          0.357966   \n",
       "0x2712            0.295842        2017            1          0.357966   \n",
       "\n",
       "        is_warehouse_closed.value  week.value  ...  \\\n",
       "ID                                             ...   \n",
       "0x2710                        0.5          52  ...   \n",
       "0x33e6                        0.5          52  ...   \n",
       "0x2711                        0.5           1  ...   \n",
       "0x33e7                        0.5           1  ...   \n",
       "0x2712                        0.5           1  ...   \n",
       "\n",
       "        statewise_land_area_per_sqmile.value  \\\n",
       "ID                                             \n",
       "0x2710                                  4842   \n",
       "0x33e6                                103642   \n",
       "0x2711                                  4842   \n",
       "0x33e7                                103642   \n",
       "0x2712                                  4842   \n",
       "\n",
       "        statewise_population_per_sqmile.value  \\\n",
       "ID                                              \n",
       "0x2710                             744.722016   \n",
       "0x33e6                              56.078318   \n",
       "0x2711                             744.722016   \n",
       "0x33e7                              56.078318   \n",
       "0x2712                             744.722016   \n",
       "\n",
       "        statewise_geographic_region.value  geographic_region_division.value  \\\n",
       "ID                                                                            \n",
       "0x2710                           0.667335                          0.681864   \n",
       "0x33e6                           0.257766                          0.257766   \n",
       "0x2711                           0.667335                          0.681864   \n",
       "0x33e7                           0.257766                          0.257766   \n",
       "0x2712                           0.667335                          0.681864   \n",
       "\n",
       "        statewise_median_age.value  statewise_median_household_income.value  \\\n",
       "ID                                                                            \n",
       "0x2710                        41.2                                    78833   \n",
       "0x33e6                        37.3                                    41053   \n",
       "0x2711                        41.2                                    78833   \n",
       "0x33e7                        37.3                                    41053   \n",
       "0x2712                        41.2                                    78833   \n",
       "\n",
       "        total_count.value  yearly_count.value  monthly_count.value  \\\n",
       "ID                                                                   \n",
       "0x2710                  0                   0                    0   \n",
       "0x33e6                  0                   0                    0   \n",
       "0x2711                  1                   1                    1   \n",
       "0x33e7                  1                   1                    1   \n",
       "0x2712                  2                   2                    2   \n",
       "\n",
       "        weekly_count.value  \n",
       "ID                          \n",
       "0x2710                   0  \n",
       "0x33e6                   0  \n",
       "0x2711                   0  \n",
       "0x33e7                   0  \n",
       "0x2712                   1  \n",
       "\n",
       "[5 rows x 31 columns]"
      ]
     },
     "execution_count": 369,
     "metadata": {},
     "output_type": "execute_result"
    }
   ],
   "source": [
    "final_X_transform.head()"
   ]
  },
  {
   "cell_type": "code",
   "execution_count": 370,
   "id": "f50d82f1",
   "metadata": {},
   "outputs": [
    {
     "data": {
      "text/plain": [
       "ID\n",
       "0x2710    5.5\n",
       "0x33e6    6.1\n",
       "0x2711    4.8\n",
       "0x33e7    6.7\n",
       "0x2712    5.8\n",
       "Name: daily_dispatch_count, dtype: float64"
      ]
     },
     "execution_count": 370,
     "metadata": {},
     "output_type": "execute_result"
    }
   ],
   "source": [
    "final_y.head()"
   ]
  },
  {
   "cell_type": "markdown",
   "id": "06ca9616",
   "metadata": {},
   "source": [
    "### Feature attribution weighted drift detection"
   ]
  },
  {
   "cell_type": "code",
   "execution_count": 307,
   "id": "7c90ef31",
   "metadata": {},
   "outputs": [],
   "source": [
    "def get_feature_importance(model, X):\n",
    "    # DF, based on which importance is checked\n",
    "\n",
    "    # Explain model predictions using shap library:\n",
    "    explainer = shap.TreeExplainer(model)\n",
    "    shap_scores = explainer.shap_values(X)\n",
    "\n",
    "    # mean of absolute shap values for every feature\n",
    "    mean_abs_shap_values = pd.Series(\n",
    "        np.abs(shap_scores).mean(axis=0),\n",
    "        index=X.columns).sort_values(ascending=False)\n",
    "    return mean_abs_shap_values"
   ]
  },
  {
   "cell_type": "code",
   "execution_count": 308,
   "id": "12b275d4",
   "metadata": {},
   "outputs": [],
   "source": [
    "def get_relative_feature_importance_to_max(feature_importance):\n",
    "    \n",
    "    # maximum feature importance\n",
    "    max_feature_importance = feature_importance.max()\n",
    "\n",
    "    # relative_feature_importance_to_max is relative feature importance w.r.t max_feature_importance\n",
    "    relative_feature_importance_to_max = feature_importance / max_feature_importance\n",
    "    return relative_feature_importance_to_max.to_dict()"
   ]
  },
  {
   "cell_type": "code",
   "execution_count": 309,
   "id": "4b8b02f4",
   "metadata": {},
   "outputs": [],
   "source": [
    "numerical_features = [\n",
    "    'statewise_population_per_sqmile', 'state_cases', 'state_deaths'\n",
    "]\n",
    "numerical_features_value = [\n",
    "    feature + '.value' for feature in numerical_features\n",
    "]\n",
    "categorical_features = [\n",
    "    'warehouse_ID', 'Product_Type', 'is_weekend', 'is_warehouse_closed',\n",
    "    'state', 'day_of_week', 'is_holiday', 'county'\n",
    "]\n",
    "categorical_features_value = [\n",
    "    feature + '.value' for feature in categorical_features\n",
    "]\n",
    "column_mapping = ColumnMapping(id='ID',\n",
    "                               datetime='date',\n",
    "                               numerical_features=numerical_features_value,\n",
    "                               categorical_features=categorical_features_value,\n",
    "                               task='regression',\n",
    "                               target='daily_dispatch_count',\n",
    "                               prediction='y_pred')"
   ]
  },
  {
   "cell_type": "code",
   "execution_count": 310,
   "id": "919f9d05",
   "metadata": {},
   "outputs": [],
   "source": [
    "def get_drift_profile(reference, production, profile, mlflow_log=False):\n",
    "\n",
    "    drift_profile = Profile(sections=[profile()])\n",
    "    drift_profile.calculate(reference,\n",
    "                                 production,\n",
    "                                 column_mapping=column_mapping)\n",
    "    report = drift_profile.json()\n",
    "    drift_profile_report = json.loads(report)\n",
    "    \n",
    "    if mlflow_log:\n",
    "        if profile == DataDriftProfileSection:\n",
    "            name = 'data_drift_profile'\n",
    "        elif profile == NumTargetDriftProfileSection:\n",
    "            name = 'num_target_drift_profile'\n",
    "        else:\n",
    "            pass\n",
    "        mlflow.log_dict(drift_profile_report, f\"{name}.json\")\n",
    "    \n",
    "    \n",
    "    return drift_profile_report"
   ]
  },
  {
   "cell_type": "code",
   "execution_count": 311,
   "id": "ce721f93",
   "metadata": {},
   "outputs": [],
   "source": [
    "def get_data_drift(drift_profile):\n",
    "\n",
    "    drifts = []\n",
    "    for feature in column_mapping.numerical_features + column_mapping.categorical_features:\n",
    "        drifts.append(\n",
    "            (feature, drift_profile['data_drift']['data']['metrics'][feature]['drift_score'], \n",
    "             drift_profile['data_drift']['data']['metrics'][feature]['stattest_name'], \n",
    "             drift_profile['data_drift']['data']['metrics'][feature]['drift_detected']))\n",
    "    return  pd.DataFrame(\n",
    "        drifts,\n",
    "        columns=['feature', 'drift_score', 'stattest_name', 'drift_detected'])"
   ]
  },
  {
   "cell_type": "code",
   "execution_count": 312,
   "id": "6389e86e",
   "metadata": {},
   "outputs": [],
   "source": [
    "def get_weighted_data_drift_score(drift, feature_importance, relative_feature_importance_to_max_dict, threshold, stattest_type):\n",
    "    \n",
    "    #feature_importance\n",
    "    drift['feature_importance'] = drift['feature'].map(feature_importance)\n",
    "    \n",
    "    # map relative feature importance\n",
    "    drift['relative_feature_importance'] = drift['feature'].map(relative_feature_importance_to_max_dict)\n",
    "    if stattest_type == 'p_value':\n",
    "        # relative feature importance weighted drift score\n",
    "        inverse_feature_importance_wrt_max_feature_importance = (drift.relative_feature_importance.max() / drift.relative_feature_importance)\n",
    "        drift['feature_importance_weighted_drift_score'] = (drift.drift_score * inverse_feature_importance_wrt_max_feature_importance).replace(np.inf, 1)\n",
    "        #drift['feature_importance_weighted_drift_score'] = drift.apply(lambda x:1 if x['relative_feature_importance']<=0.0 else x['feature_importance_weighted_drift_score'], axis=1)\n",
    "        # drift detection based on the weighted drift score based on threshold\n",
    "        drift['feature_importance_weighted_drift_detected'] = drift[\n",
    "            'feature_importance_weighted_drift_score'] < threshold\n",
    "    else:\n",
    "        # relative feature importance weighted drift score\n",
    "        drift['feature_importance_weighted_drift_score'] = drift[\n",
    "            'relative_feature_importance'] * drift['drift_score']\n",
    "\n",
    "        # drift detection based on the weighted drift score based on threshold\n",
    "        drift['feature_importance_weighted_drift_detected'] = drift[\n",
    "            'feature_importance_weighted_drift_score'] > threshold\n",
    "\n",
    "    return drift"
   ]
  },
  {
   "cell_type": "code",
   "execution_count": 313,
   "id": "f67fc66c",
   "metadata": {},
   "outputs": [],
   "source": [
    "def is_weighted_data_drift_detected(data_drift_profile, production,  model):\n",
    "    drift_detected = False\n",
    "    \n",
    "    feature_importance = get_feature_importance(model, production)\n",
    "    # relative feature importance based on mean shap values\n",
    "    relative_feature_importance_to_max_dict = get_relative_feature_importance_to_max(feature_importance)\n",
    "    drift_scores = get_data_drift(data_drift_profile)\n",
    "    stattest_type = drift_scores['stattest_name'].iloc[0].split()[1]\n",
    "    if stattest_type == 'p_value':\n",
    "        threshold = 0.05\n",
    "    else:\n",
    "        threshold = 0.1\n",
    "    weighted_drift_scores = get_weighted_data_drift_score(drift_scores, feature_importance, relative_feature_importance_to_max_dict,\n",
    "                                                     threshold, stattest_type)\n",
    "\n",
    "    if weighted_drift_scores['feature_importance_weighted_drift_detected'].sum(\n",
    "    ) > 0:\n",
    "        drift_detected = True\n",
    "    else:\n",
    "        drift_detected = False\n",
    "    return drift_detected, weighted_drift_scores"
   ]
  },
  {
   "cell_type": "code",
   "execution_count": 314,
   "id": "ff083a07",
   "metadata": {},
   "outputs": [],
   "source": [
    "def overlay_distribution(data1, data2, feature,  opacity=0.5, plot_display = True, mlflow_log=False):\n",
    "    normalization_type = 'probability density'\n",
    "    fig = go.Figure()\n",
    "    fig.add_trace(go.Histogram(x=data1, name=\"training\",\n",
    "                  histnorm=normalization_type))\n",
    "    fig.add_trace(go.Histogram(x=data2, name=\"production\",\n",
    "                  histnorm=normalization_type))\n",
    "    feature = feature.split('.')[0]\n",
    "    # Overlay both histograms\n",
    "    fig.update_layout(barmode='overlay', title=feature+\" Distribution\",\n",
    "                      xaxis_title=feature,\n",
    "                      yaxis_title=normalization_type, autosize=False,\n",
    "                      width=700,\n",
    "                      height=300)\n",
    "    # Reduce opacity to see both histograms\n",
    "    fig.update_traces(opacity=opacity)\n",
    "    if mlflow_log:\n",
    "        mlflow.log_figure(fig, f\"{feature}_Distribution.html\")\n",
    "    if plot_display:\n",
    "        fig.show()\n"
   ]
  },
  {
   "cell_type": "code",
   "execution_count": 315,
   "id": "f0f4ae38",
   "metadata": {},
   "outputs": [],
   "source": [
    "def display_drifted_features(reference, production, drift_df, plot_display = False, mlflow_log = False):\n",
    "    reference_rdt = ht.reverse_transform(reference)\n",
    "    production_rdt = ht.reverse_transform(production)\n",
    "    for index, row in drift_df.iterrows():\n",
    "        if row['feature_importance_weighted_drift_detected']:\n",
    "\n",
    "            logging.info(f\"drift detected for {row['feature']}\")\n",
    "            logging.info(f\"drift_score : {row['drift_score']}\")\n",
    "            logging.info(f\"stattest_name : {row['stattest_name']}\")\n",
    "            logging.info(f\"raw_feature_importance : {row['feature_importance']}\") \n",
    "            logging.info(f\"relative_feature_importance : {row['relative_feature_importance']}\") \n",
    "            logging.info(f\"feature_importance_weighted_drift_score : {row['feature_importance_weighted_drift_score']}\")\n",
    "            \n",
    "            overlay_distribution(reference_rdt[row['feature'].split('.')[0]], production_rdt[row['feature'].split('.')[0]], row['feature'], opacity = .4, \n",
    "            plot_display = plot_display, mlflow_log=True)\n",
    "        if mlflow_log:\n",
    "                mlflow.log_param(f\"{row['feature']}_feature_importance_weighted_drift_detected\", row['feature_importance_weighted_drift_detected'])\n",
    "                mlflow.log_param(f\"{row['feature']}_drift_score\", row['drift_score'])\n",
    "                mlflow.log_param(f\"{row['feature']}_stattest_name\", row['stattest_name'])\n",
    "                mlflow.log_param(f\"{row['feature']}_raw_feature_importance\", row['feature_importance'])\n",
    "                mlflow.log_param(f\"{row['feature']}_relative_feature_importance\", row['relative_feature_importance'])\n",
    "                mlflow.log_param(f\"{row['feature']}_feature_importance_weighted_drift_score\", row['feature_importance_weighted_drift_score'])\n",
    "\n",
    "    "
   ]
  },
  {
   "cell_type": "code",
   "execution_count": 316,
   "id": "37eebb67",
   "metadata": {},
   "outputs": [],
   "source": [
    "def display_target_drift(y_reference, y_production, target_name, target_drift_detected, drift_score, stattest_type, plot_display = False, mlflow_log = False):\n",
    "    logging.info(f\"Target drift detected for for {target_name}\")\n",
    "    logging.info(f\"drift_score : {drift_score}\")\n",
    "    logging.info(f\"stattest_name : {stattest_type}\")\n",
    "    if mlflow_log:\n",
    "        mlflow.log_param(f\"{target_name}_drift_detected\", target_drift_detected)\n",
    "        mlflow.log_param(f\"{target_name}_target_drift_score\", drift_score)\n",
    "        mlflow.log_param(f\"{target_name}_target_stattest_name\", stattest_type)\n",
    "    overlay_distribution(y_reference, y_production, target_name, opacity = .4, plot_display = plot_display, mlflow_log=True)\n",
    "            "
   ]
  },
  {
   "cell_type": "markdown",
   "id": "33a95bad",
   "metadata": {},
   "source": [
    "#### How feature importance weighted data drift is calculated?\n",
    "\n"
   ]
  },
  {
   "cell_type": "code",
   "execution_count": 317,
   "id": "12534f9f",
   "metadata": {},
   "outputs": [],
   "source": [
    "# set up reference and prod data\n",
    "reference_data = X_transformed.sample(500)\n",
    "prod_data = X_eval_transformed.sample(500)\n"
   ]
  },
  {
   "cell_type": "code",
   "execution_count": 318,
   "id": "f95e58ca",
   "metadata": {},
   "outputs": [
    {
     "data": {
      "text/html": [
       "<div>\n",
       "<style scoped>\n",
       "    .dataframe tbody tr th:only-of-type {\n",
       "        vertical-align: middle;\n",
       "    }\n",
       "\n",
       "    .dataframe tbody tr th {\n",
       "        vertical-align: top;\n",
       "    }\n",
       "\n",
       "    .dataframe thead th {\n",
       "        text-align: right;\n",
       "    }\n",
       "</style>\n",
       "<table border=\"1\" class=\"dataframe\">\n",
       "  <thead>\n",
       "    <tr style=\"text-align: right;\">\n",
       "      <th></th>\n",
       "      <th>feature</th>\n",
       "      <th>drift_score</th>\n",
       "      <th>stattest_name</th>\n",
       "      <th>drift_detected</th>\n",
       "    </tr>\n",
       "  </thead>\n",
       "  <tbody>\n",
       "    <tr>\n",
       "      <th>0</th>\n",
       "      <td>statewise_population_per_sqmile.value</td>\n",
       "      <td>1.347613e-13</td>\n",
       "      <td>chi-square p_value</td>\n",
       "      <td>True</td>\n",
       "    </tr>\n",
       "    <tr>\n",
       "      <th>3</th>\n",
       "      <td>warehouse_ID.value</td>\n",
       "      <td>1.347613e-13</td>\n",
       "      <td>chi-square p_value</td>\n",
       "      <td>True</td>\n",
       "    </tr>\n",
       "    <tr>\n",
       "      <th>7</th>\n",
       "      <td>state.value</td>\n",
       "      <td>1.347613e-13</td>\n",
       "      <td>chi-square p_value</td>\n",
       "      <td>True</td>\n",
       "    </tr>\n",
       "    <tr>\n",
       "      <th>10</th>\n",
       "      <td>county.value</td>\n",
       "      <td>1.347613e-13</td>\n",
       "      <td>chi-square p_value</td>\n",
       "      <td>True</td>\n",
       "    </tr>\n",
       "    <tr>\n",
       "      <th>4</th>\n",
       "      <td>Product_Type.value</td>\n",
       "      <td>3.729947e-06</td>\n",
       "      <td>Z-test p_value</td>\n",
       "      <td>True</td>\n",
       "    </tr>\n",
       "    <tr>\n",
       "      <th>9</th>\n",
       "      <td>is_holiday.value</td>\n",
       "      <td>1.427864e-02</td>\n",
       "      <td>Z-test p_value</td>\n",
       "      <td>True</td>\n",
       "    </tr>\n",
       "    <tr>\n",
       "      <th>5</th>\n",
       "      <td>is_weekend.value</td>\n",
       "      <td>7.272336e-01</td>\n",
       "      <td>Z-test p_value</td>\n",
       "      <td>False</td>\n",
       "    </tr>\n",
       "    <tr>\n",
       "      <th>8</th>\n",
       "      <td>day_of_week.value</td>\n",
       "      <td>8.162967e-01</td>\n",
       "      <td>chi-square p_value</td>\n",
       "      <td>False</td>\n",
       "    </tr>\n",
       "    <tr>\n",
       "      <th>1</th>\n",
       "      <td>state_cases.value</td>\n",
       "      <td>1.000000e+00</td>\n",
       "      <td>Z-test p_value</td>\n",
       "      <td>False</td>\n",
       "    </tr>\n",
       "    <tr>\n",
       "      <th>2</th>\n",
       "      <td>state_deaths.value</td>\n",
       "      <td>1.000000e+00</td>\n",
       "      <td>Z-test p_value</td>\n",
       "      <td>False</td>\n",
       "    </tr>\n",
       "    <tr>\n",
       "      <th>6</th>\n",
       "      <td>is_warehouse_closed.value</td>\n",
       "      <td>1.000000e+00</td>\n",
       "      <td>Z-test p_value</td>\n",
       "      <td>False</td>\n",
       "    </tr>\n",
       "  </tbody>\n",
       "</table>\n",
       "</div>"
      ],
      "text/plain": [
       "                                  feature   drift_score       stattest_name  \\\n",
       "0   statewise_population_per_sqmile.value  1.347613e-13  chi-square p_value   \n",
       "3                      warehouse_ID.value  1.347613e-13  chi-square p_value   \n",
       "7                             state.value  1.347613e-13  chi-square p_value   \n",
       "10                           county.value  1.347613e-13  chi-square p_value   \n",
       "4                      Product_Type.value  3.729947e-06      Z-test p_value   \n",
       "9                        is_holiday.value  1.427864e-02      Z-test p_value   \n",
       "5                        is_weekend.value  7.272336e-01      Z-test p_value   \n",
       "8                       day_of_week.value  8.162967e-01  chi-square p_value   \n",
       "1                       state_cases.value  1.000000e+00      Z-test p_value   \n",
       "2                      state_deaths.value  1.000000e+00      Z-test p_value   \n",
       "6               is_warehouse_closed.value  1.000000e+00      Z-test p_value   \n",
       "\n",
       "    drift_detected  \n",
       "0             True  \n",
       "3             True  \n",
       "7             True  \n",
       "10            True  \n",
       "4             True  \n",
       "9             True  \n",
       "5            False  \n",
       "8            False  \n",
       "1            False  \n",
       "2            False  \n",
       "6            False  "
      ]
     },
     "execution_count": 318,
     "metadata": {},
     "output_type": "execute_result"
    }
   ],
   "source": [
    "# Perform statistical tests and obtain data drift profile\n",
    "data_drift_profile = get_drift_profile(reference_data, prod_data,\n",
    "                                           DataDriftProfileSection)\n",
    "# get drift profile in tablular format\n",
    "drift_scores = get_data_drift(data_drift_profile)\n",
    "\n",
    "drift_scores.sort_values(by='drift_score')"
   ]
  },
  {
   "cell_type": "markdown",
   "id": "6396acf1",
   "metadata": {},
   "source": [
    "##### drift detected without feature importance wightage for these features - statewise_population_per_sqmile.value, warehouse_ID.value, Product_Type.value, state.value, county.value\t"
   ]
  },
  {
   "cell_type": "code",
   "execution_count": 319,
   "id": "828f1965",
   "metadata": {},
   "outputs": [
    {
     "name": "stderr",
     "output_type": "stream",
     "text": [
      "d:\\anaconda\\envs\\anaconda_env\\lib\\site-packages\\xgboost\\core.py:90: UserWarning:\n",
      "\n",
      "ntree_limit is deprecated, use `iteration_range` or model slicing instead.\n",
      "\n"
     ]
    },
    {
     "data": {
      "text/plain": [
       "Product_Type.value    2.320021\n",
       "is_weekend.value      0.442543\n",
       "warehouse_ID.value    0.343991\n",
       "day_of_week.value     0.204179\n",
       "date.value            0.159709\n",
       "dtype: float32"
      ]
     },
     "execution_count": 319,
     "metadata": {},
     "output_type": "execute_result"
    }
   ],
   "source": [
    "# Obtain feature importance\n",
    "feature_importance = get_feature_importance(reg, X_eval_transformed)\n",
    "feature_importance.head(5)"
   ]
  },
  {
   "cell_type": "code",
   "execution_count": 320,
   "id": "4903cd51",
   "metadata": {},
   "outputs": [
    {
     "data": {
      "text/plain": [
       "Product_Type.value    1.000000\n",
       "is_weekend.value      0.190749\n",
       "warehouse_ID.value    0.148271\n",
       "day_of_week.value     0.088007\n",
       "date.value            0.068839\n",
       "dtype: float64"
      ]
     },
     "execution_count": 320,
     "metadata": {},
     "output_type": "execute_result"
    }
   ],
   "source": [
    "# Convert feature importance to relative feature importance w.r.t most important feature for the model(Product_Type.value)\n",
    "relative_feature_importance_to_max_dict = get_relative_feature_importance_to_max(feature_importance)\n",
    "pd.Series(relative_feature_importance_to_max_dict).sort_values(ascending=False).head(5)"
   ]
  },
  {
   "cell_type": "code",
   "execution_count": 321,
   "id": "f1195994",
   "metadata": {},
   "outputs": [
    {
     "data": {
      "text/html": [
       "<div>\n",
       "<style scoped>\n",
       "    .dataframe tbody tr th:only-of-type {\n",
       "        vertical-align: middle;\n",
       "    }\n",
       "\n",
       "    .dataframe tbody tr th {\n",
       "        vertical-align: top;\n",
       "    }\n",
       "\n",
       "    .dataframe thead th {\n",
       "        text-align: right;\n",
       "    }\n",
       "</style>\n",
       "<table border=\"1\" class=\"dataframe\">\n",
       "  <thead>\n",
       "    <tr style=\"text-align: right;\">\n",
       "      <th></th>\n",
       "      <th>feature</th>\n",
       "      <th>drift_score</th>\n",
       "      <th>stattest_name</th>\n",
       "      <th>drift_detected</th>\n",
       "      <th>feature_importance</th>\n",
       "      <th>relative_feature_importance</th>\n",
       "      <th>feature_importance_weighted_drift_score</th>\n",
       "      <th>feature_importance_weighted_drift_detected</th>\n",
       "    </tr>\n",
       "  </thead>\n",
       "  <tbody>\n",
       "    <tr>\n",
       "      <th>3</th>\n",
       "      <td>warehouse_ID.value</td>\n",
       "      <td>1.347613e-13</td>\n",
       "      <td>chi-square p_value</td>\n",
       "      <td>True</td>\n",
       "      <td>0.343991</td>\n",
       "      <td>0.148271</td>\n",
       "      <td>9.088875e-13</td>\n",
       "      <td>True</td>\n",
       "    </tr>\n",
       "    <tr>\n",
       "      <th>0</th>\n",
       "      <td>statewise_population_per_sqmile.value</td>\n",
       "      <td>1.347613e-13</td>\n",
       "      <td>chi-square p_value</td>\n",
       "      <td>True</td>\n",
       "      <td>0.054936</td>\n",
       "      <td>0.023679</td>\n",
       "      <td>5.691117e-12</td>\n",
       "      <td>True</td>\n",
       "    </tr>\n",
       "    <tr>\n",
       "      <th>4</th>\n",
       "      <td>Product_Type.value</td>\n",
       "      <td>3.729947e-06</td>\n",
       "      <td>Z-test p_value</td>\n",
       "      <td>True</td>\n",
       "      <td>2.320021</td>\n",
       "      <td>1.000000</td>\n",
       "      <td>3.729947e-06</td>\n",
       "      <td>True</td>\n",
       "    </tr>\n",
       "    <tr>\n",
       "      <th>1</th>\n",
       "      <td>state_cases.value</td>\n",
       "      <td>1.000000e+00</td>\n",
       "      <td>Z-test p_value</td>\n",
       "      <td>False</td>\n",
       "      <td>0.000000</td>\n",
       "      <td>0.000000</td>\n",
       "      <td>1.000000e+00</td>\n",
       "      <td>False</td>\n",
       "    </tr>\n",
       "    <tr>\n",
       "      <th>2</th>\n",
       "      <td>state_deaths.value</td>\n",
       "      <td>1.000000e+00</td>\n",
       "      <td>Z-test p_value</td>\n",
       "      <td>False</td>\n",
       "      <td>0.000000</td>\n",
       "      <td>0.000000</td>\n",
       "      <td>1.000000e+00</td>\n",
       "      <td>False</td>\n",
       "    </tr>\n",
       "    <tr>\n",
       "      <th>6</th>\n",
       "      <td>is_warehouse_closed.value</td>\n",
       "      <td>1.000000e+00</td>\n",
       "      <td>Z-test p_value</td>\n",
       "      <td>False</td>\n",
       "      <td>0.000000</td>\n",
       "      <td>0.000000</td>\n",
       "      <td>1.000000e+00</td>\n",
       "      <td>False</td>\n",
       "    </tr>\n",
       "    <tr>\n",
       "      <th>7</th>\n",
       "      <td>state.value</td>\n",
       "      <td>1.347613e-13</td>\n",
       "      <td>chi-square p_value</td>\n",
       "      <td>True</td>\n",
       "      <td>0.000000</td>\n",
       "      <td>0.000000</td>\n",
       "      <td>1.000000e+00</td>\n",
       "      <td>False</td>\n",
       "    </tr>\n",
       "    <tr>\n",
       "      <th>10</th>\n",
       "      <td>county.value</td>\n",
       "      <td>1.347613e-13</td>\n",
       "      <td>chi-square p_value</td>\n",
       "      <td>True</td>\n",
       "      <td>0.000000</td>\n",
       "      <td>0.000000</td>\n",
       "      <td>1.000000e+00</td>\n",
       "      <td>False</td>\n",
       "    </tr>\n",
       "    <tr>\n",
       "      <th>5</th>\n",
       "      <td>is_weekend.value</td>\n",
       "      <td>7.272336e-01</td>\n",
       "      <td>Z-test p_value</td>\n",
       "      <td>False</td>\n",
       "      <td>0.442543</td>\n",
       "      <td>0.190749</td>\n",
       "      <td>3.812507e+00</td>\n",
       "      <td>False</td>\n",
       "    </tr>\n",
       "    <tr>\n",
       "      <th>8</th>\n",
       "      <td>day_of_week.value</td>\n",
       "      <td>8.162967e-01</td>\n",
       "      <td>chi-square p_value</td>\n",
       "      <td>False</td>\n",
       "      <td>0.204179</td>\n",
       "      <td>0.088007</td>\n",
       "      <td>9.275321e+00</td>\n",
       "      <td>False</td>\n",
       "    </tr>\n",
       "    <tr>\n",
       "      <th>9</th>\n",
       "      <td>is_holiday.value</td>\n",
       "      <td>1.427864e-02</td>\n",
       "      <td>Z-test p_value</td>\n",
       "      <td>True</td>\n",
       "      <td>0.001792</td>\n",
       "      <td>0.000773</td>\n",
       "      <td>1.848090e+01</td>\n",
       "      <td>False</td>\n",
       "    </tr>\n",
       "  </tbody>\n",
       "</table>\n",
       "</div>"
      ],
      "text/plain": [
       "                                  feature   drift_score       stattest_name  \\\n",
       "3                      warehouse_ID.value  1.347613e-13  chi-square p_value   \n",
       "0   statewise_population_per_sqmile.value  1.347613e-13  chi-square p_value   \n",
       "4                      Product_Type.value  3.729947e-06      Z-test p_value   \n",
       "1                       state_cases.value  1.000000e+00      Z-test p_value   \n",
       "2                      state_deaths.value  1.000000e+00      Z-test p_value   \n",
       "6               is_warehouse_closed.value  1.000000e+00      Z-test p_value   \n",
       "7                             state.value  1.347613e-13  chi-square p_value   \n",
       "10                           county.value  1.347613e-13  chi-square p_value   \n",
       "5                        is_weekend.value  7.272336e-01      Z-test p_value   \n",
       "8                       day_of_week.value  8.162967e-01  chi-square p_value   \n",
       "9                        is_holiday.value  1.427864e-02      Z-test p_value   \n",
       "\n",
       "    drift_detected  feature_importance  relative_feature_importance  \\\n",
       "3             True            0.343991                     0.148271   \n",
       "0             True            0.054936                     0.023679   \n",
       "4             True            2.320021                     1.000000   \n",
       "1            False            0.000000                     0.000000   \n",
       "2            False            0.000000                     0.000000   \n",
       "6            False            0.000000                     0.000000   \n",
       "7             True            0.000000                     0.000000   \n",
       "10            True            0.000000                     0.000000   \n",
       "5            False            0.442543                     0.190749   \n",
       "8            False            0.204179                     0.088007   \n",
       "9             True            0.001792                     0.000773   \n",
       "\n",
       "    feature_importance_weighted_drift_score  \\\n",
       "3                              9.088875e-13   \n",
       "0                              5.691117e-12   \n",
       "4                              3.729947e-06   \n",
       "1                              1.000000e+00   \n",
       "2                              1.000000e+00   \n",
       "6                              1.000000e+00   \n",
       "7                              1.000000e+00   \n",
       "10                             1.000000e+00   \n",
       "5                              3.812507e+00   \n",
       "8                              9.275321e+00   \n",
       "9                              1.848090e+01   \n",
       "\n",
       "    feature_importance_weighted_drift_detected  \n",
       "3                                         True  \n",
       "0                                         True  \n",
       "4                                         True  \n",
       "1                                        False  \n",
       "2                                        False  \n",
       "6                                        False  \n",
       "7                                        False  \n",
       "10                                       False  \n",
       "5                                        False  \n",
       "8                                        False  \n",
       "9                                        False  "
      ]
     },
     "execution_count": 321,
     "metadata": {},
     "output_type": "execute_result"
    }
   ],
   "source": [
    "weighted_drift_scores = get_weighted_data_drift_score(drift_scores, feature_importance, relative_feature_importance_to_max_dict,\n",
    "                                                     threshold = 0.05, stattest_type = 'p_value')\n",
    "weighted_drift_scores.sort_values(by='feature_importance_weighted_drift_score')"
   ]
  },
  {
   "cell_type": "markdown",
   "id": "a80c8505",
   "metadata": {},
   "source": [
    "##### drift detected with feature importance wightage for these features - statewise_population_per_sqmile.value, warehouse_ID.value, Product_Type.value\t\n",
    "\n",
    "<b>state.value and county.value are not detected because of high feature importance weighted p_value</b>"
   ]
  },
  {
   "cell_type": "markdown",
   "id": "0d29fc51",
   "metadata": {},
   "source": [
    "##### drift detected without feature importance wightage for these features - statewise_population_per_sqmile.value, warehouse_ID.value, Product_Type.value, state.value, county.value\t"
   ]
  },
  {
   "cell_type": "markdown",
   "id": "1b65acc7",
   "metadata": {},
   "source": [
    "#### Test for target drift"
   ]
  },
  {
   "cell_type": "code",
   "execution_count": 322,
   "id": "4ec5f57c",
   "metadata": {},
   "outputs": [],
   "source": [
    "def determine_test_type(reference):\n",
    "\n",
    "    num_data = reference.shape[0]\n",
    "\n",
    "    if num_data <= 1000:\n",
    "        return 'p_value'\n",
    "    else:\n",
    "        return 'distance'"
   ]
  },
  {
   "cell_type": "code",
   "execution_count": 323,
   "id": "c7a4ccc9",
   "metadata": {},
   "outputs": [],
   "source": [
    "def test_target_drift(X_reference, y_reference, X_production, y_production, plot_display = False, mlflow_log = False):\n",
    "    target_drift_detected = False\n",
    "    # get target drift report\n",
    "    if column_mapping.task == 'regression':\n",
    "        profile = NumTargetDriftProfileSection\n",
    "        drift_name = 'num_target_drift'\n",
    "    else:\n",
    "        pass\n",
    "    target_drift_profile = get_drift_profile(X_reference.join(y_reference), X_production.join(y_production), profile, mlflow_log)\n",
    "    \n",
    "    drift_score = target_drift_profile[drift_name]['data']['metrics']['target_drift']\n",
    "    target_name = target_drift_profile[drift_name]['data']['utility_columns']['target']\n",
    "    stattest_type = determine_test_type(X_reference)\n",
    "    if stattest_type == 'p_value':\n",
    "        threshold = 0.05\n",
    "        if drift_score <= threshold:\n",
    "\n",
    "            target_drift_detected = True\n",
    "\n",
    "    else:\n",
    "        threshold = 0.1\n",
    "        if drift_score >= threshold:\n",
    "\n",
    "            target_drift_detected = True\n",
    "   \n",
    "    if mlflow_log:\n",
    "        display_target_drift(y_reference, y_production, target_name, target_drift_detected, drift_score, stattest_type, plot_display, mlflow_log = True)\n",
    "    return target_drift_detected\n",
    "      "
   ]
  },
  {
   "cell_type": "code",
   "execution_count": 324,
   "id": "7deb4137",
   "metadata": {},
   "outputs": [],
   "source": [
    "def test_for_drift(X_reference, y_reference, X_production, y_production, model, plot_display = False, mlflow_log = False):\n",
    "\n",
    "    \n",
    "    target_drift_detected = test_target_drift(X_reference, y_reference, X_production, y_production, mlflow_log)\n",
    "\n",
    "    logging.info(f\"target drift detect: {target_drift_detected}\")\n",
    "    # get data drift report\n",
    "    data_drift_profile = get_drift_profile(X_reference, X_production,\n",
    "                                           DataDriftProfileSection, mlflow_log)\n",
    "    # data drift detected?\n",
    "    drift_detected, drift_df = is_weighted_data_drift_detected(data_drift_profile,\n",
    "                                                     X_production,  model)\n",
    "    \n",
    "    if drift_detected:\n",
    "        logging.info('data set drift detected')\n",
    "        display_drifted_features(X_reference, X_production, drift_df, plot_display, mlflow_log)\n",
    "    else:\n",
    "        logging.info('drift not detected')\n",
    "    drift_detected = drift_detected or target_drift_detected\n",
    "    return drift_detected"
   ]
  },
  {
   "cell_type": "code",
   "execution_count": 325,
   "id": "a7e03226",
   "metadata": {},
   "outputs": [],
   "source": [
    "@mlflow_runner\n",
    "def test_mlflow(experiment_name):\n",
    "    # Log parameters\n",
    "    mlflow.log_param(\"begin\", datetime(2020,1,2))\n",
    "    mlflow.log_param(\"end\", datetime(2022,1,2))\n",
    "    mlflow.log_dict(X_transformed.sample(500).to_dict(), 'input_features.json')\n",
    "    mlflow.log_dict(X_eval_transformed.sample(500).to_dict(), 'target.json')\n",
    "    return test_for_drift(X_transformed.sample(500), y.sample(500), X_eval_transformed.sample(500), y_eval.sample(500) ,reg, plot_display = True, mlflow_log = True)\n"
   ]
  },
  {
   "cell_type": "code",
   "execution_count": 326,
   "id": "9c4b160c",
   "metadata": {},
   "outputs": [
    {
     "name": "stderr",
     "output_type": "stream",
     "text": [
      "11:02:33 INFO:target drift detect: True\n",
      "d:\\anaconda\\envs\\anaconda_env\\lib\\site-packages\\xgboost\\core.py:90: UserWarning:\n",
      "\n",
      "ntree_limit is deprecated, use `iteration_range` or model slicing instead.\n",
      "\n",
      "11:02:33 INFO:data set drift detected\n",
      "11:02:33 INFO:drift detected for statewise_population_per_sqmile.value\n",
      "11:02:33 INFO:drift_score : 2.1994752167153156e-17\n",
      "11:02:33 INFO:stattest_name : chi-square p_value\n",
      "11:02:33 INFO:raw_feature_importance : 0.05471304431557655\n",
      "11:02:33 INFO:relative_feature_importance : 0.02342214621603489\n",
      "11:02:33 INFO:feature_importance_weighted_drift_score : 9.390579310829963e-16\n"
     ]
    },
    {
     "data": {
      "image/svg+xml": "<svg class=\"main-svg\" xmlns=\"http://www.w3.org/2000/svg\" xmlns:xlink=\"http://www.w3.org/1999/xlink\" width=\"700\" height=\"300\" style=\"\" viewBox=\"0 0 700 300\"><rect x=\"0\" y=\"0\" width=\"700\" height=\"300\" style=\"fill: rgb(255, 255, 255); fill-opacity: 1;\"/><defs id=\"defs-660bdc\"><g class=\"clips\"><clipPath id=\"clip660bdcxyplot\" class=\"plotclip\"><rect width=\"488\" height=\"120\"/></clipPath><clipPath class=\"axesclip\" id=\"clip660bdcx\"><rect x=\"80\" y=\"0\" width=\"488\" height=\"300\"/></clipPath><clipPath class=\"axesclip\" id=\"clip660bdcy\"><rect x=\"0\" y=\"100\" width=\"700\" height=\"120\"/></clipPath><clipPath class=\"axesclip\" id=\"clip660bdcxy\"><rect x=\"80\" y=\"100\" width=\"488\" height=\"120\"/></clipPath></g><g class=\"gradients\"/><g class=\"patterns\"/></defs><g class=\"bglayer\"><rect class=\"bg\" x=\"80\" y=\"100\" width=\"488\" height=\"120\" style=\"fill: rgb(229, 236, 246); fill-opacity: 1; stroke-width: 0;\"/></g><g class=\"layer-below\"><g class=\"imagelayer\"/><g class=\"shapelayer\"/></g><g class=\"cartesianlayer\"><g class=\"subplot xy\"><g class=\"layer-subplot\"><g class=\"shapelayer\"/><g class=\"imagelayer\"/></g><g class=\"minor-gridlayer\"><g class=\"x\"/><g class=\"y\"/></g><g class=\"gridlayer\"><g class=\"x\"/><g class=\"y\"><path class=\"ygrid crisp\" transform=\"translate(0,163.9)\" d=\"M80,0h488\" style=\"stroke: rgb(255, 255, 255); stroke-opacity: 1; stroke-width: 1px;\"/><path class=\"ygrid crisp\" transform=\"translate(0,107.8)\" d=\"M80,0h488\" style=\"stroke: rgb(255, 255, 255); stroke-opacity: 1; stroke-width: 1px;\"/></g></g><g class=\"zerolinelayer\"><path class=\"yzl zl crisp\" transform=\"translate(0,220)\" d=\"M80,0h488\" style=\"stroke: rgb(255, 255, 255); stroke-opacity: 1; stroke-width: 2px;\"/></g><path class=\"xlines-below\"/><path class=\"ylines-below\"/><g class=\"overlines-below\"/><g class=\"xaxislayer-below\"/><g class=\"yaxislayer-below\"/><g class=\"overaxes-below\"/><g class=\"plot\" transform=\"translate(80,100)\" clip-path=\"url(#clip660bdcxyplot)\"><g class=\"barlayer mlayer\"><g class=\"trace bars\" shape-rendering=\"crispEdges\" style=\"opacity: 0.4;\"><g class=\"points\"><g class=\"point\"><path d=\"M0,120V46.17H61V120Z\" style=\"vector-effect: non-scaling-stroke; opacity: 1; stroke-width: 0px; fill: rgb(99, 110, 250); fill-opacity: 1;\"/></g><g class=\"point\"><path d=\"M0,0Z\" style=\"vector-effect: non-scaling-stroke; opacity: 1; stroke-width: 0px; fill: rgb(99, 110, 250); fill-opacity: 1;\"/></g><g class=\"point\"><path d=\"M0,0Z\" style=\"vector-effect: non-scaling-stroke; opacity: 1; stroke-width: 0px; fill: rgb(99, 110, 250); fill-opacity: 1;\"/></g><g class=\"point\"><path d=\"M0,0Z\" style=\"vector-effect: non-scaling-stroke; opacity: 1; stroke-width: 0px; fill: rgb(99, 110, 250); fill-opacity: 1;\"/></g><g class=\"point\"><path d=\"M0,0Z\" style=\"vector-effect: non-scaling-stroke; opacity: 1; stroke-width: 0px; fill: rgb(99, 110, 250); fill-opacity: 1;\"/></g><g class=\"point\"><path d=\"M0,0Z\" style=\"vector-effect: non-scaling-stroke; opacity: 1; stroke-width: 0px; fill: rgb(99, 110, 250); fill-opacity: 1;\"/></g><g class=\"point\"><path d=\"M0,0Z\" style=\"vector-effect: non-scaling-stroke; opacity: 1; stroke-width: 0px; fill: rgb(99, 110, 250); fill-opacity: 1;\"/></g><g class=\"point\"><path d=\"M427,120V81.63H488V120Z\" style=\"vector-effect: non-scaling-stroke; opacity: 1; stroke-width: 0px; fill: rgb(99, 110, 250); fill-opacity: 1;\"/></g></g></g><g class=\"trace bars\" shape-rendering=\"crispEdges\" style=\"opacity: 0.4;\"><g class=\"points\"><g class=\"point\"><path d=\"M0,120V62.1H30.5V120Z\" style=\"vector-effect: non-scaling-stroke; opacity: 1; stroke-width: 0px; fill: rgb(239, 85, 59); fill-opacity: 1;\"/></g><g class=\"point\"><path d=\"M30.5,120V6H61V120Z\" style=\"vector-effect: non-scaling-stroke; opacity: 1; stroke-width: 0px; fill: rgb(239, 85, 59); fill-opacity: 1;\"/></g><g class=\"point\"><path d=\"M0,0Z\" style=\"vector-effect: non-scaling-stroke; opacity: 1; stroke-width: 0px; fill: rgb(239, 85, 59); fill-opacity: 1;\"/></g><g class=\"point\"><path d=\"M0,0Z\" style=\"vector-effect: non-scaling-stroke; opacity: 1; stroke-width: 0px; fill: rgb(239, 85, 59); fill-opacity: 1;\"/></g><g class=\"point\"><path d=\"M0,0Z\" style=\"vector-effect: non-scaling-stroke; opacity: 1; stroke-width: 0px; fill: rgb(239, 85, 59); fill-opacity: 1;\"/></g><g class=\"point\"><path d=\"M0,0Z\" style=\"vector-effect: non-scaling-stroke; opacity: 1; stroke-width: 0px; fill: rgb(239, 85, 59); fill-opacity: 1;\"/></g><g class=\"point\"><path d=\"M0,0Z\" style=\"vector-effect: non-scaling-stroke; opacity: 1; stroke-width: 0px; fill: rgb(239, 85, 59); fill-opacity: 1;\"/></g><g class=\"point\"><path d=\"M0,0Z\" style=\"vector-effect: non-scaling-stroke; opacity: 1; stroke-width: 0px; fill: rgb(239, 85, 59); fill-opacity: 1;\"/></g><g class=\"point\"><path d=\"M0,0Z\" style=\"vector-effect: non-scaling-stroke; opacity: 1; stroke-width: 0px; fill: rgb(239, 85, 59); fill-opacity: 1;\"/></g><g class=\"point\"><path d=\"M0,0Z\" style=\"vector-effect: non-scaling-stroke; opacity: 1; stroke-width: 0px; fill: rgb(239, 85, 59); fill-opacity: 1;\"/></g><g class=\"point\"><path d=\"M0,0Z\" style=\"vector-effect: non-scaling-stroke; opacity: 1; stroke-width: 0px; fill: rgb(239, 85, 59); fill-opacity: 1;\"/></g><g class=\"point\"><path d=\"M0,0Z\" style=\"vector-effect: non-scaling-stroke; opacity: 1; stroke-width: 0px; fill: rgb(239, 85, 59); fill-opacity: 1;\"/></g><g class=\"point\"><path d=\"M0,0Z\" style=\"vector-effect: non-scaling-stroke; opacity: 1; stroke-width: 0px; fill: rgb(239, 85, 59); fill-opacity: 1;\"/></g><g class=\"point\"><path d=\"M0,0Z\" style=\"vector-effect: non-scaling-stroke; opacity: 1; stroke-width: 0px; fill: rgb(239, 85, 59); fill-opacity: 1;\"/></g><g class=\"point\"><path d=\"M427,120V67.49H457.5V120Z\" style=\"vector-effect: non-scaling-stroke; opacity: 1; stroke-width: 0px; fill: rgb(239, 85, 59); fill-opacity: 1;\"/></g></g></g></g></g><g class=\"overplot\"/><path class=\"xlines-above crisp\" d=\"M0,0\" style=\"fill: none;\"/><path class=\"ylines-above crisp\" d=\"M0,0\" style=\"fill: none;\"/><g class=\"overlines-above\"/><g class=\"xaxislayer-above\"><g class=\"xtick\"><text text-anchor=\"middle\" x=\"0\" y=\"233\" transform=\"translate(80,0)\" style=\"font-family: 'Open Sans', verdana, arial, sans-serif; font-size: 12px; fill: rgb(42, 63, 95); fill-opacity: 1; white-space: pre; opacity: 1;\">0</text></g><g class=\"xtick\"><text text-anchor=\"middle\" x=\"0\" y=\"233\" style=\"font-family: 'Open Sans', verdana, arial, sans-serif; font-size: 12px; fill: rgb(42, 63, 95); fill-opacity: 1; white-space: pre; opacity: 1;\" transform=\"translate(202,0)\">200</text></g><g class=\"xtick\"><text text-anchor=\"middle\" x=\"0\" y=\"233\" style=\"font-family: 'Open Sans', verdana, arial, sans-serif; font-size: 12px; fill: rgb(42, 63, 95); fill-opacity: 1; white-space: pre; opacity: 1;\" transform=\"translate(324,0)\">400</text></g><g class=\"xtick\"><text text-anchor=\"middle\" x=\"0\" y=\"233\" style=\"font-family: 'Open Sans', verdana, arial, sans-serif; font-size: 12px; fill: rgb(42, 63, 95); fill-opacity: 1; white-space: pre; opacity: 1;\" transform=\"translate(446,0)\">600</text></g><g class=\"xtick\"><text text-anchor=\"middle\" x=\"0\" y=\"233\" style=\"font-family: 'Open Sans', verdana, arial, sans-serif; font-size: 12px; fill: rgb(42, 63, 95); fill-opacity: 1; white-space: pre; opacity: 1;\" transform=\"translate(568,0)\">800</text></g></g><g class=\"yaxislayer-above\"><g class=\"ytick\"><text text-anchor=\"end\" x=\"79\" y=\"4.199999999999999\" transform=\"translate(0,220)\" style=\"font-family: 'Open Sans', verdana, arial, sans-serif; font-size: 12px; fill: rgb(42, 63, 95); fill-opacity: 1; white-space: pre; opacity: 1;\">0</text></g><g class=\"ytick\"><text text-anchor=\"end\" x=\"79\" y=\"4.199999999999999\" style=\"font-family: 'Open Sans', verdana, arial, sans-serif; font-size: 12px; fill: rgb(42, 63, 95); fill-opacity: 1; white-space: pre; opacity: 1;\" transform=\"translate(0,163.9)\">0.005</text></g><g class=\"ytick\"><text text-anchor=\"end\" x=\"79\" y=\"4.199999999999999\" style=\"font-family: 'Open Sans', verdana, arial, sans-serif; font-size: 12px; fill: rgb(42, 63, 95); fill-opacity: 1; white-space: pre; opacity: 1;\" transform=\"translate(0,107.8)\">0.01</text></g></g><g class=\"overaxes-above\"/></g></g><g class=\"polarlayer\"/><g class=\"smithlayer\"/><g class=\"ternarylayer\"/><g class=\"geolayer\"/><g class=\"funnelarealayer\"/><g class=\"pielayer\"/><g class=\"iciclelayer\"/><g class=\"treemaplayer\"/><g class=\"sunburstlayer\"/><g class=\"glimages\"/><defs id=\"topdefs-660bdc\"><g class=\"clips\"/><clipPath id=\"legend660bdc\"><rect width=\"110\" height=\"48\" x=\"0\" y=\"0\"/></clipPath></defs><g class=\"layer-above\"><g class=\"imagelayer\"/><g class=\"shapelayer\"/></g><g class=\"infolayer\"><g class=\"legend\" pointer-events=\"all\" transform=\"translate(577.76,100)\"><rect class=\"bg\" shape-rendering=\"crispEdges\" width=\"110\" height=\"48\" x=\"0\" y=\"0\" style=\"stroke: rgb(68, 68, 68); stroke-opacity: 1; fill: rgb(255, 255, 255); fill-opacity: 1; stroke-width: 0px;\"/><g class=\"scrollbox\" transform=\"\" clip-path=\"url(#legend660bdc)\"><g class=\"groups\"><g class=\"traces\" transform=\"translate(0,14.5)\" style=\"opacity: 1;\"><text class=\"legendtext\" text-anchor=\"start\" x=\"40\" y=\"4.680000000000001\" style=\"font-family: 'Open Sans', verdana, arial, sans-serif; font-size: 12px; fill: rgb(42, 63, 95); fill-opacity: 1; white-space: pre;\">training</text><g class=\"layers\" style=\"opacity: 0.4;\"><g class=\"legendfill\"/><g class=\"legendlines\"/><g class=\"legendsymbols\"><g class=\"legendpoints\"><path class=\"legendundefined\" d=\"M6,6H-6V-6H6Z\" transform=\"translate(20,0)\" style=\"stroke-width: 0px; fill: rgb(99, 110, 250); fill-opacity: 1;\"/></g></g></g><rect class=\"legendtoggle\" x=\"0\" y=\"-9.5\" width=\"104.109375\" height=\"19\" style=\"fill: rgb(0, 0, 0); fill-opacity: 0;\"/></g><g class=\"traces\" transform=\"translate(0,33.5)\" style=\"opacity: 1;\"><text class=\"legendtext\" text-anchor=\"start\" x=\"40\" y=\"4.680000000000001\" style=\"font-family: 'Open Sans', verdana, arial, sans-serif; font-size: 12px; fill: rgb(42, 63, 95); fill-opacity: 1; white-space: pre;\">production</text><g class=\"layers\" style=\"opacity: 0.4;\"><g class=\"legendfill\"/><g class=\"legendlines\"/><g class=\"legendsymbols\"><g class=\"legendpoints\"><path class=\"legendundefined\" d=\"M6,6H-6V-6H6Z\" transform=\"translate(20,0)\" style=\"stroke-width: 0px; fill: rgb(239, 85, 59); fill-opacity: 1;\"/></g></g></g><rect class=\"legendtoggle\" x=\"0\" y=\"-9.5\" width=\"104.109375\" height=\"19\" style=\"fill: rgb(0, 0, 0); fill-opacity: 0;\"/></g></g></g><rect class=\"scrollbar\" rx=\"20\" ry=\"3\" width=\"0\" height=\"0\" x=\"0\" y=\"0\" style=\"fill: rgb(128, 139, 164); fill-opacity: 1;\"/></g><g class=\"g-gtitle\"><text class=\"gtitle\" x=\"35\" y=\"50\" text-anchor=\"start\" dy=\"0em\" style=\"font-family: 'Open Sans', verdana, arial, sans-serif; font-size: 17px; fill: rgb(42, 63, 95); opacity: 1; font-weight: normal; white-space: pre;\">statewise_population_per_sqmile Distribution</text></g><g class=\"g-xtitle\"><text class=\"xtitle\" x=\"324\" y=\"260.8\" text-anchor=\"middle\" style=\"font-family: 'Open Sans', verdana, arial, sans-serif; font-size: 14px; fill: rgb(42, 63, 95); opacity: 1; font-weight: normal; white-space: pre;\">statewise_population_per_sqmile</text></g><g class=\"g-ytitle\"><text class=\"ytitle\" transform=\"rotate(-90,19.309375000000003,160)\" x=\"19.309375000000003\" y=\"160\" text-anchor=\"middle\" style=\"font-family: 'Open Sans', verdana, arial, sans-serif; font-size: 14px; fill: rgb(42, 63, 95); opacity: 1; font-weight: normal; white-space: pre;\">probability density</text></g></g></svg>"
     },
     "metadata": {},
     "output_type": "display_data"
    },
    {
     "name": "stderr",
     "output_type": "stream",
     "text": [
      "11:02:33 INFO:drift detected for warehouse_ID.value\n",
      "11:02:33 INFO:drift_score : 2.1994752167153156e-17\n",
      "11:02:33 INFO:stattest_name : chi-square p_value\n",
      "11:02:33 INFO:raw_feature_importance : 0.33883628249168396\n",
      "11:02:33 INFO:relative_feature_importance : 0.14505267143249512\n",
      "11:02:33 INFO:feature_importance_weighted_drift_score : 1.5163286515125726e-16\n"
     ]
    },
    {
     "data": {
      "image/svg+xml": "<svg class=\"main-svg\" xmlns=\"http://www.w3.org/2000/svg\" xmlns:xlink=\"http://www.w3.org/1999/xlink\" width=\"700\" height=\"300\" style=\"\" viewBox=\"0 0 700 300\"><rect x=\"0\" y=\"0\" width=\"700\" height=\"300\" style=\"fill: rgb(255, 255, 255); fill-opacity: 1;\"/><defs id=\"defs-84b185\"><g class=\"clips\"><clipPath id=\"clip84b185xyplot\" class=\"plotclip\"><rect width=\"488\" height=\"120\"/></clipPath><clipPath class=\"axesclip\" id=\"clip84b185x\"><rect x=\"80\" y=\"0\" width=\"488\" height=\"300\"/></clipPath><clipPath class=\"axesclip\" id=\"clip84b185y\"><rect x=\"0\" y=\"100\" width=\"700\" height=\"120\"/></clipPath><clipPath class=\"axesclip\" id=\"clip84b185xy\"><rect x=\"80\" y=\"100\" width=\"488\" height=\"120\"/></clipPath></g><g class=\"gradients\"/><g class=\"patterns\"/></defs><g class=\"bglayer\"><rect class=\"bg\" x=\"80\" y=\"100\" width=\"488\" height=\"120\" style=\"fill: rgb(229, 236, 246); fill-opacity: 1; stroke-width: 0;\"/></g><g class=\"layer-below\"><g class=\"imagelayer\"/><g class=\"shapelayer\"/></g><g class=\"cartesianlayer\"><g class=\"subplot xy\"><g class=\"layer-subplot\"><g class=\"shapelayer\"/><g class=\"imagelayer\"/></g><g class=\"minor-gridlayer\"><g class=\"x\"/><g class=\"y\"/></g><g class=\"gridlayer\"><g class=\"x\"/><g class=\"y\"><path class=\"ygrid crisp\" transform=\"translate(0,186.67000000000002)\" d=\"M80,0h488\" style=\"stroke: rgb(255, 255, 255); stroke-opacity: 1; stroke-width: 1px;\"/><path class=\"ygrid crisp\" transform=\"translate(0,153.32999999999998)\" d=\"M80,0h488\" style=\"stroke: rgb(255, 255, 255); stroke-opacity: 1; stroke-width: 1px;\"/><path class=\"ygrid crisp\" transform=\"translate(0,120)\" d=\"M80,0h488\" style=\"stroke: rgb(255, 255, 255); stroke-opacity: 1; stroke-width: 1px;\"/></g></g><g class=\"zerolinelayer\"><path class=\"yzl zl crisp\" transform=\"translate(0,220)\" d=\"M80,0h488\" style=\"stroke: rgb(255, 255, 255); stroke-opacity: 1; stroke-width: 2px;\"/></g><path class=\"xlines-below\"/><path class=\"ylines-below\"/><g class=\"overlines-below\"/><g class=\"xaxislayer-below\"/><g class=\"yaxislayer-below\"/><g class=\"overaxes-below\"/><g class=\"plot\" transform=\"translate(80,100)\" clip-path=\"url(#clip84b185xyplot)\"><g class=\"barlayer mlayer\"><g class=\"trace bars\" style=\"opacity: 0.4;\"><g class=\"points\"><g class=\"point\"><path d=\"M12.2,120V57.33H109.8V120Z\" style=\"vector-effect: non-scaling-stroke; opacity: 1; stroke-width: 0px; fill: rgb(99, 110, 250); fill-opacity: 1;\"/></g><g class=\"point\"><path d=\"M134.2,120V76H231.8V120Z\" style=\"vector-effect: non-scaling-stroke; opacity: 1; stroke-width: 0px; fill: rgb(99, 110, 250); fill-opacity: 1;\"/></g><g class=\"point\"><path d=\"M256.2,120V7.33H353.8V120Z\" style=\"vector-effect: non-scaling-stroke; opacity: 1; stroke-width: 0px; fill: rgb(99, 110, 250); fill-opacity: 1;\"/></g><g class=\"point\"><path d=\"M378.2,120V6H475.8V120Z\" style=\"vector-effect: non-scaling-stroke; opacity: 1; stroke-width: 0px; fill: rgb(99, 110, 250); fill-opacity: 1;\"/></g></g></g><g class=\"trace bars\" style=\"opacity: 0.4;\"><g class=\"points\"><g class=\"point\"><path d=\"M12.2,120V34H109.8V120Z\" style=\"vector-effect: non-scaling-stroke; opacity: 1; stroke-width: 0px; fill: rgb(239, 85, 59); fill-opacity: 1;\"/></g><g class=\"point\"><path d=\"M134.2,120V34H231.8V120Z\" style=\"vector-effect: non-scaling-stroke; opacity: 1; stroke-width: 0px; fill: rgb(239, 85, 59); fill-opacity: 1;\"/></g><g class=\"point\"><path d=\"M256.2,120V36.67H353.8V120Z\" style=\"vector-effect: non-scaling-stroke; opacity: 1; stroke-width: 0px; fill: rgb(239, 85, 59); fill-opacity: 1;\"/></g><g class=\"point\"><path d=\"M378.2,120V42H475.8V120Z\" style=\"vector-effect: non-scaling-stroke; opacity: 1; stroke-width: 0px; fill: rgb(239, 85, 59); fill-opacity: 1;\"/></g></g></g></g></g><g class=\"overplot\"/><path class=\"xlines-above crisp\" d=\"M0,0\" style=\"fill: none;\"/><path class=\"ylines-above crisp\" d=\"M0,0\" style=\"fill: none;\"/><g class=\"overlines-above\"/><g class=\"xaxislayer-above\"><g class=\"xtick\"><text text-anchor=\"middle\" x=\"0\" y=\"233\" transform=\"translate(141,0)\" style=\"font-family: 'Open Sans', verdana, arial, sans-serif; font-size: 12px; fill: rgb(42, 63, 95); fill-opacity: 1; white-space: pre; opacity: 1;\">WH_0x3eb</text></g><g class=\"xtick\"><text text-anchor=\"middle\" x=\"0\" y=\"233\" transform=\"translate(263,0)\" style=\"font-family: 'Open Sans', verdana, arial, sans-serif; font-size: 12px; fill: rgb(42, 63, 95); fill-opacity: 1; white-space: pre; opacity: 1;\">WH_0x3ec</text></g><g class=\"xtick\"><text text-anchor=\"middle\" x=\"0\" y=\"233\" transform=\"translate(385,0)\" style=\"font-family: 'Open Sans', verdana, arial, sans-serif; font-size: 12px; fill: rgb(42, 63, 95); fill-opacity: 1; white-space: pre; opacity: 1;\">WH_0x3ea</text></g><g class=\"xtick\"><text text-anchor=\"middle\" x=\"0\" y=\"233\" transform=\"translate(507,0)\" style=\"font-family: 'Open Sans', verdana, arial, sans-serif; font-size: 12px; fill: rgb(42, 63, 95); fill-opacity: 1; white-space: pre; opacity: 1;\">WH_0x3e9</text></g></g><g class=\"yaxislayer-above\"><g class=\"ytick\"><text text-anchor=\"end\" x=\"79\" y=\"4.199999999999999\" transform=\"translate(0,220)\" style=\"font-family: 'Open Sans', verdana, arial, sans-serif; font-size: 12px; fill: rgb(42, 63, 95); fill-opacity: 1; white-space: pre; opacity: 1;\">0</text></g><g class=\"ytick\"><text text-anchor=\"end\" x=\"79\" y=\"4.199999999999999\" style=\"font-family: 'Open Sans', verdana, arial, sans-serif; font-size: 12px; fill: rgb(42, 63, 95); fill-opacity: 1; white-space: pre; opacity: 1;\" transform=\"translate(0,186.67000000000002)\">0.1</text></g><g class=\"ytick\"><text text-anchor=\"end\" x=\"79\" y=\"4.199999999999999\" style=\"font-family: 'Open Sans', verdana, arial, sans-serif; font-size: 12px; fill: rgb(42, 63, 95); fill-opacity: 1; white-space: pre; opacity: 1;\" transform=\"translate(0,153.32999999999998)\">0.2</text></g><g class=\"ytick\"><text text-anchor=\"end\" x=\"79\" y=\"4.199999999999999\" style=\"font-family: 'Open Sans', verdana, arial, sans-serif; font-size: 12px; fill: rgb(42, 63, 95); fill-opacity: 1; white-space: pre; opacity: 1;\" transform=\"translate(0,120)\">0.3</text></g></g><g class=\"overaxes-above\"/></g></g><g class=\"polarlayer\"/><g class=\"smithlayer\"/><g class=\"ternarylayer\"/><g class=\"geolayer\"/><g class=\"funnelarealayer\"/><g class=\"pielayer\"/><g class=\"iciclelayer\"/><g class=\"treemaplayer\"/><g class=\"sunburstlayer\"/><g class=\"glimages\"/><defs id=\"topdefs-84b185\"><g class=\"clips\"/><clipPath id=\"legend84b185\"><rect width=\"110\" height=\"48\" x=\"0\" y=\"0\"/></clipPath></defs><g class=\"layer-above\"><g class=\"imagelayer\"/><g class=\"shapelayer\"/></g><g class=\"infolayer\"><g class=\"legend\" pointer-events=\"all\" transform=\"translate(577.76,100)\"><rect class=\"bg\" shape-rendering=\"crispEdges\" width=\"110\" height=\"48\" x=\"0\" y=\"0\" style=\"stroke: rgb(68, 68, 68); stroke-opacity: 1; fill: rgb(255, 255, 255); fill-opacity: 1; stroke-width: 0px;\"/><g class=\"scrollbox\" transform=\"\" clip-path=\"url(#legend84b185)\"><g class=\"groups\"><g class=\"traces\" transform=\"translate(0,14.5)\" style=\"opacity: 1;\"><text class=\"legendtext\" text-anchor=\"start\" x=\"40\" y=\"4.680000000000001\" style=\"font-family: 'Open Sans', verdana, arial, sans-serif; font-size: 12px; fill: rgb(42, 63, 95); fill-opacity: 1; white-space: pre;\">training</text><g class=\"layers\" style=\"opacity: 0.4;\"><g class=\"legendfill\"/><g class=\"legendlines\"/><g class=\"legendsymbols\"><g class=\"legendpoints\"><path class=\"legendundefined\" d=\"M6,6H-6V-6H6Z\" transform=\"translate(20,0)\" style=\"stroke-width: 0px; fill: rgb(99, 110, 250); fill-opacity: 1;\"/></g></g></g><rect class=\"legendtoggle\" x=\"0\" y=\"-9.5\" width=\"104.109375\" height=\"19\" style=\"fill: rgb(0, 0, 0); fill-opacity: 0;\"/></g><g class=\"traces\" transform=\"translate(0,33.5)\" style=\"opacity: 1;\"><text class=\"legendtext\" text-anchor=\"start\" x=\"40\" y=\"4.680000000000001\" style=\"font-family: 'Open Sans', verdana, arial, sans-serif; font-size: 12px; fill: rgb(42, 63, 95); fill-opacity: 1; white-space: pre;\">production</text><g class=\"layers\" style=\"opacity: 0.4;\"><g class=\"legendfill\"/><g class=\"legendlines\"/><g class=\"legendsymbols\"><g class=\"legendpoints\"><path class=\"legendundefined\" d=\"M6,6H-6V-6H6Z\" transform=\"translate(20,0)\" style=\"stroke-width: 0px; fill: rgb(239, 85, 59); fill-opacity: 1;\"/></g></g></g><rect class=\"legendtoggle\" x=\"0\" y=\"-9.5\" width=\"104.109375\" height=\"19\" style=\"fill: rgb(0, 0, 0); fill-opacity: 0;\"/></g></g></g><rect class=\"scrollbar\" rx=\"20\" ry=\"3\" width=\"0\" height=\"0\" x=\"0\" y=\"0\" style=\"fill: rgb(128, 139, 164); fill-opacity: 1;\"/></g><g class=\"g-gtitle\"><text class=\"gtitle\" x=\"35\" y=\"50\" text-anchor=\"start\" dy=\"0em\" style=\"font-family: 'Open Sans', verdana, arial, sans-serif; font-size: 17px; fill: rgb(42, 63, 95); opacity: 1; font-weight: normal; white-space: pre;\">warehouse_ID Distribution</text></g><g class=\"g-xtitle\"><text class=\"xtitle\" x=\"324\" y=\"260.8\" text-anchor=\"middle\" style=\"font-family: 'Open Sans', verdana, arial, sans-serif; font-size: 14px; fill: rgb(42, 63, 95); opacity: 1; font-weight: normal; white-space: pre;\">warehouse_ID</text></g><g class=\"g-ytitle\"><text class=\"ytitle\" transform=\"rotate(-90,34.575,160)\" x=\"34.575\" y=\"160\" text-anchor=\"middle\" style=\"font-family: 'Open Sans', verdana, arial, sans-serif; font-size: 14px; fill: rgb(42, 63, 95); opacity: 1; font-weight: normal; white-space: pre;\">probability density</text></g></g></svg>"
     },
     "metadata": {},
     "output_type": "display_data"
    },
    {
     "name": "stderr",
     "output_type": "stream",
     "text": [
      "11:02:33 INFO:drift detected for Product_Type.value\n",
      "11:02:33 INFO:drift_score : 6.285873708211653e-07\n",
      "11:02:33 INFO:stattest_name : Z-test p_value\n",
      "11:02:33 INFO:raw_feature_importance : 2.3359534740448\n",
      "11:02:33 INFO:relative_feature_importance : 1.0\n",
      "11:02:33 INFO:feature_importance_weighted_drift_score : 6.285873708211653e-07\n"
     ]
    },
    {
     "data": {
      "image/svg+xml": "<svg class=\"main-svg\" xmlns=\"http://www.w3.org/2000/svg\" xmlns:xlink=\"http://www.w3.org/1999/xlink\" width=\"700\" height=\"300\" style=\"\" viewBox=\"0 0 700 300\"><rect x=\"0\" y=\"0\" width=\"700\" height=\"300\" style=\"fill: rgb(255, 255, 255); fill-opacity: 1;\"/><defs id=\"defs-bf9756\"><g class=\"clips\"><clipPath id=\"clipbf9756xyplot\" class=\"plotclip\"><rect width=\"488\" height=\"120\"/></clipPath><clipPath class=\"axesclip\" id=\"clipbf9756x\"><rect x=\"80\" y=\"0\" width=\"488\" height=\"300\"/></clipPath><clipPath class=\"axesclip\" id=\"clipbf9756y\"><rect x=\"0\" y=\"100\" width=\"700\" height=\"120\"/></clipPath><clipPath class=\"axesclip\" id=\"clipbf9756xy\"><rect x=\"80\" y=\"100\" width=\"488\" height=\"120\"/></clipPath></g><g class=\"gradients\"/><g class=\"patterns\"/></defs><g class=\"bglayer\"><rect class=\"bg\" x=\"80\" y=\"100\" width=\"488\" height=\"120\" style=\"fill: rgb(229, 236, 246); fill-opacity: 1; stroke-width: 0;\"/></g><g class=\"layer-below\"><g class=\"imagelayer\"/><g class=\"shapelayer\"/></g><g class=\"cartesianlayer\"><g class=\"subplot xy\"><g class=\"layer-subplot\"><g class=\"shapelayer\"/><g class=\"imagelayer\"/></g><g class=\"minor-gridlayer\"><g class=\"x\"/><g class=\"y\"/></g><g class=\"gridlayer\"><g class=\"x\"/><g class=\"y\"><path class=\"ygrid crisp\" transform=\"translate(0,184.81)\" d=\"M80,0h488\" style=\"stroke: rgb(255, 255, 255); stroke-opacity: 1; stroke-width: 1px;\"/><path class=\"ygrid crisp\" transform=\"translate(0,149.63)\" d=\"M80,0h488\" style=\"stroke: rgb(255, 255, 255); stroke-opacity: 1; stroke-width: 1px;\"/><path class=\"ygrid crisp\" transform=\"translate(0,114.44)\" d=\"M80,0h488\" style=\"stroke: rgb(255, 255, 255); stroke-opacity: 1; stroke-width: 1px;\"/></g></g><g class=\"zerolinelayer\"><path class=\"yzl zl crisp\" transform=\"translate(0,220)\" d=\"M80,0h488\" style=\"stroke: rgb(255, 255, 255); stroke-opacity: 1; stroke-width: 2px;\"/></g><path class=\"xlines-below\"/><path class=\"ylines-below\"/><g class=\"overlines-below\"/><g class=\"xaxislayer-below\"/><g class=\"yaxislayer-below\"/><g class=\"overaxes-below\"/><g class=\"plot\" transform=\"translate(80,100)\" clip-path=\"url(#clipbf9756xyplot)\"><g class=\"barlayer mlayer\"><g class=\"trace bars\" style=\"opacity: 0.4;\"><g class=\"points\"><g class=\"point\"><path d=\"M24.4,120V6H219.6V120Z\" style=\"vector-effect: non-scaling-stroke; opacity: 1; stroke-width: 0px; fill: rgb(99, 110, 250); fill-opacity: 1;\"/></g><g class=\"point\"><path d=\"M268.4,120V58.07H463.6V120Z\" style=\"vector-effect: non-scaling-stroke; opacity: 1; stroke-width: 0px; fill: rgb(99, 110, 250); fill-opacity: 1;\"/></g></g></g><g class=\"trace bars\" style=\"opacity: 0.4;\"><g class=\"points\"><g class=\"point\"><path d=\"M24.4,120V33.44H219.6V120Z\" style=\"vector-effect: non-scaling-stroke; opacity: 1; stroke-width: 0px; fill: rgb(239, 85, 59); fill-opacity: 1;\"/></g><g class=\"point\"><path d=\"M268.4,120V30.63H463.6V120Z\" style=\"vector-effect: non-scaling-stroke; opacity: 1; stroke-width: 0px; fill: rgb(239, 85, 59); fill-opacity: 1;\"/></g></g></g></g></g><g class=\"overplot\"/><path class=\"xlines-above crisp\" d=\"M0,0\" style=\"fill: none;\"/><path class=\"ylines-above crisp\" d=\"M0,0\" style=\"fill: none;\"/><g class=\"overlines-above\"/><g class=\"xaxislayer-above\"><g class=\"xtick\"><text text-anchor=\"middle\" x=\"0\" y=\"233\" transform=\"translate(202,0)\" style=\"font-family: 'Open Sans', verdana, arial, sans-serif; font-size: 12px; fill: rgb(42, 63, 95); fill-opacity: 1; white-space: pre; opacity: 1;\">Type_A</text></g><g class=\"xtick\"><text text-anchor=\"middle\" x=\"0\" y=\"233\" transform=\"translate(446,0)\" style=\"font-family: 'Open Sans', verdana, arial, sans-serif; font-size: 12px; fill: rgb(42, 63, 95); fill-opacity: 1; white-space: pre; opacity: 1;\">Type_B</text></g></g><g class=\"yaxislayer-above\"><g class=\"ytick\"><text text-anchor=\"end\" x=\"79\" y=\"4.199999999999999\" transform=\"translate(0,220)\" style=\"font-family: 'Open Sans', verdana, arial, sans-serif; font-size: 12px; fill: rgb(42, 63, 95); fill-opacity: 1; white-space: pre; opacity: 1;\">0</text></g><g class=\"ytick\"><text text-anchor=\"end\" x=\"79\" y=\"4.199999999999999\" style=\"font-family: 'Open Sans', verdana, arial, sans-serif; font-size: 12px; fill: rgb(42, 63, 95); fill-opacity: 1; white-space: pre; opacity: 1;\" transform=\"translate(0,184.81)\">0.2</text></g><g class=\"ytick\"><text text-anchor=\"end\" x=\"79\" y=\"4.199999999999999\" style=\"font-family: 'Open Sans', verdana, arial, sans-serif; font-size: 12px; fill: rgb(42, 63, 95); fill-opacity: 1; white-space: pre; opacity: 1;\" transform=\"translate(0,149.63)\">0.4</text></g><g class=\"ytick\"><text text-anchor=\"end\" x=\"79\" y=\"4.199999999999999\" style=\"font-family: 'Open Sans', verdana, arial, sans-serif; font-size: 12px; fill: rgb(42, 63, 95); fill-opacity: 1; white-space: pre; opacity: 1;\" transform=\"translate(0,114.44)\">0.6</text></g></g><g class=\"overaxes-above\"/></g></g><g class=\"polarlayer\"/><g class=\"smithlayer\"/><g class=\"ternarylayer\"/><g class=\"geolayer\"/><g class=\"funnelarealayer\"/><g class=\"pielayer\"/><g class=\"iciclelayer\"/><g class=\"treemaplayer\"/><g class=\"sunburstlayer\"/><g class=\"glimages\"/><defs id=\"topdefs-bf9756\"><g class=\"clips\"/><clipPath id=\"legendbf9756\"><rect width=\"110\" height=\"48\" x=\"0\" y=\"0\"/></clipPath></defs><g class=\"layer-above\"><g class=\"imagelayer\"/><g class=\"shapelayer\"/></g><g class=\"infolayer\"><g class=\"legend\" pointer-events=\"all\" transform=\"translate(577.76,100)\"><rect class=\"bg\" shape-rendering=\"crispEdges\" width=\"110\" height=\"48\" x=\"0\" y=\"0\" style=\"stroke: rgb(68, 68, 68); stroke-opacity: 1; fill: rgb(255, 255, 255); fill-opacity: 1; stroke-width: 0px;\"/><g class=\"scrollbox\" transform=\"\" clip-path=\"url(#legendbf9756)\"><g class=\"groups\"><g class=\"traces\" transform=\"translate(0,14.5)\" style=\"opacity: 1;\"><text class=\"legendtext\" text-anchor=\"start\" x=\"40\" y=\"4.680000000000001\" style=\"font-family: 'Open Sans', verdana, arial, sans-serif; font-size: 12px; fill: rgb(42, 63, 95); fill-opacity: 1; white-space: pre;\">training</text><g class=\"layers\" style=\"opacity: 0.4;\"><g class=\"legendfill\"/><g class=\"legendlines\"/><g class=\"legendsymbols\"><g class=\"legendpoints\"><path class=\"legendundefined\" d=\"M6,6H-6V-6H6Z\" transform=\"translate(20,0)\" style=\"stroke-width: 0px; fill: rgb(99, 110, 250); fill-opacity: 1;\"/></g></g></g><rect class=\"legendtoggle\" x=\"0\" y=\"-9.5\" width=\"104.109375\" height=\"19\" style=\"fill: rgb(0, 0, 0); fill-opacity: 0;\"/></g><g class=\"traces\" transform=\"translate(0,33.5)\" style=\"opacity: 1;\"><text class=\"legendtext\" text-anchor=\"start\" x=\"40\" y=\"4.680000000000001\" style=\"font-family: 'Open Sans', verdana, arial, sans-serif; font-size: 12px; fill: rgb(42, 63, 95); fill-opacity: 1; white-space: pre;\">production</text><g class=\"layers\" style=\"opacity: 0.4;\"><g class=\"legendfill\"/><g class=\"legendlines\"/><g class=\"legendsymbols\"><g class=\"legendpoints\"><path class=\"legendundefined\" d=\"M6,6H-6V-6H6Z\" transform=\"translate(20,0)\" style=\"stroke-width: 0px; fill: rgb(239, 85, 59); fill-opacity: 1;\"/></g></g></g><rect class=\"legendtoggle\" x=\"0\" y=\"-9.5\" width=\"104.109375\" height=\"19\" style=\"fill: rgb(0, 0, 0); fill-opacity: 0;\"/></g></g></g><rect class=\"scrollbar\" rx=\"20\" ry=\"3\" width=\"0\" height=\"0\" x=\"0\" y=\"0\" style=\"fill: rgb(128, 139, 164); fill-opacity: 1;\"/></g><g class=\"g-gtitle\"><text class=\"gtitle\" x=\"35\" y=\"50\" text-anchor=\"start\" dy=\"0em\" style=\"font-family: 'Open Sans', verdana, arial, sans-serif; font-size: 17px; fill: rgb(42, 63, 95); opacity: 1; font-weight: normal; white-space: pre;\">Product_Type Distribution</text></g><g class=\"g-xtitle\"><text class=\"xtitle\" x=\"324\" y=\"260.8\" text-anchor=\"middle\" style=\"font-family: 'Open Sans', verdana, arial, sans-serif; font-size: 14px; fill: rgb(42, 63, 95); opacity: 1; font-weight: normal; white-space: pre;\">Product_Type</text></g><g class=\"g-ytitle\"><text class=\"ytitle\" transform=\"rotate(-90,34.575,160)\" x=\"34.575\" y=\"160\" text-anchor=\"middle\" style=\"font-family: 'Open Sans', verdana, arial, sans-serif; font-size: 14px; fill: rgb(42, 63, 95); opacity: 1; font-weight: normal; white-space: pre;\">probability density</text></g></g></svg>"
     },
     "metadata": {},
     "output_type": "display_data"
    },
    {
     "data": {
      "text/plain": [
       "True"
      ]
     },
     "execution_count": 326,
     "metadata": {},
     "output_type": "execute_result"
    }
   ],
   "source": [
    "test_mlflow(experiment_name = 'mlflow drift detection test')"
   ]
  },
  {
   "cell_type": "markdown",
   "id": "54fd2d36",
   "metadata": {},
   "source": [
    "#### Simulate model on data from 2019-03-01 to 2020-11-15"
   ]
  },
  {
   "cell_type": "code",
   "execution_count": 327,
   "id": "50130bfa",
   "metadata": {},
   "outputs": [],
   "source": [
    "simulate_df = df[df.date >= datetime(2019,3,1)]"
   ]
  },
  {
   "cell_type": "code",
   "execution_count": 354,
   "metadata": {},
   "outputs": [
    {
     "data": {
      "text/plain": [
       "(3992, 31)"
      ]
     },
     "execution_count": 354,
     "metadata": {},
     "output_type": "execute_result"
    }
   ],
   "source": [
    "final_X_transform.sample(n=10).index"
   ]
  },
  {
   "cell_type": "code",
   "execution_count": 374,
   "id": "512acbdb",
   "metadata": {},
   "outputs": [
    {
     "data": {
      "text/plain": [
       "ID\n",
       "0x28e6     8.3\n",
       "0x35c5     4.0\n",
       "0x2992     8.0\n",
       "0x2a0f     3.9\n",
       "0x2a22    10.0\n",
       "0x42ea     8.7\n",
       "0x2b5c     6.3\n",
       "0x2b6b     3.7\n",
       "0x4e2f     3.6\n",
       "0x43d4     7.8\n",
       "Name: daily_dispatch_count, dtype: float64"
      ]
     },
     "execution_count": 374,
     "metadata": {},
     "output_type": "execute_result"
    }
   ],
   "source": [
    "final_y.loc[final_y.index.isin(final_X_transform.sample(n=10).index)]"
   ]
  },
  {
   "cell_type": "code",
   "execution_count": 364,
   "id": "45e01019",
   "metadata": {},
   "outputs": [],
   "source": [
    "@mlflow_runner\n",
    "def simulate_Weekly_experiment(df, model, preds, experiment_name, week_num,plot_display =False):\n",
    "    # Get weekly data\n",
    "        global final_X_transform\n",
    "        global final_y\n",
    "        row = df.iloc[0]\n",
    "        dt = row['date']\n",
    "        start = dt - timedelta(days=row['date'].weekday())\n",
    "        end = start + timedelta(days=6)\n",
    "        sub_df = df.set_index('date')[start:end]\n",
    "        sub_df = sub_df.reset_index().set_index('ID')\n",
    "        df = df[(df.date.dt.date > end.date())]\n",
    "        print(f'Experiment week {week_num}')\n",
    "        print('---------------------------------')\n",
    "        print(f\"Experiment start date : {start.to_pydatetime()}\")\n",
    "        print(f\"Experiment end_date : {end.to_pydatetime()}\")\n",
    "        mlflow.log_param('experiment_week',week_num)\n",
    "        mlflow.log_param('week_begin_experiment_start_date',start)\n",
    "        mlflow.log_param('week_end_experiment_end_date',end)\n",
    "        \n",
    "        # Transform sub_df to X, y\n",
    "        X_prod,y_prod = split_features_target(sub_df)\n",
    "        X_prod_transformed = ht.transform(X_prod)\n",
    "        \n",
    "        mlflow.log_dict(X_prod_transformed.to_dict(), 'input_features.json')\n",
    "        mlflow.log_dict(y_prod.to_dict(), 'target.json')\n",
    "        # weekly_prediction\n",
    "        weekly_predictions = model.predict(X_prod_transformed)\n",
    "\n",
    "        mlflow.log_dict(pd.Series(weekly_predictions,name=y_prod.name, index = y_prod.index).to_dict(),'weekly_predictions.json')\n",
    "        # Predict for X,y\n",
    "        scores_dict = get_scores(y_prod,weekly_predictions,f\"weekly\")\n",
    "        mlflow.log_metrics(scores_dict)\n",
    "        preds.extend(weekly_predictions.tolist())\n",
    "        ht.fit(X_prod)\n",
    "        reference_data = final_X_transform.sample(n = X_prod_transformed.shape[0])\n",
    "        \n",
    "        print(reference_data.index)\n",
    "        print(final_y.index)\n",
    "        if test_for_drift(reference_data, final_y.loc[final_y.index.isin(reference_data.index)], X_prod_transformed, y_prod.loc[reference_data.index], reg, plot_display, mlflow_log=True):\n",
    "            # retrain model\n",
    "            # test for drift an\n",
    "            logging.info('Retraining model')\n",
    "            model.fit(X_prod_transformed, y_prod)\n",
    "        else:\n",
    "            logging.info('No Drift detection')\n",
    "        final_X_transform = final_X_transform.append(X_prod_transformed)\n",
    "        final_y = final_y.append(y_prod)\n",
    "        return df, preds"
   ]
  },
  {
   "cell_type": "code",
   "execution_count": 365,
   "id": "9c2ef2a0",
   "metadata": {},
   "outputs": [
    {
     "data": {
      "text/html": [
       "<div>\n",
       "<style scoped>\n",
       "    .dataframe tbody tr th:only-of-type {\n",
       "        vertical-align: middle;\n",
       "    }\n",
       "\n",
       "    .dataframe tbody tr th {\n",
       "        vertical-align: top;\n",
       "    }\n",
       "\n",
       "    .dataframe thead th {\n",
       "        text-align: right;\n",
       "    }\n",
       "</style>\n",
       "<table border=\"1\" class=\"dataframe\">\n",
       "  <thead>\n",
       "    <tr style=\"text-align: right;\">\n",
       "      <th></th>\n",
       "      <th>feature</th>\n",
       "      <th>drift_detected</th>\n",
       "      <th>relative_feature_importance</th>\n",
       "      <th>feature_importance_weighted_drift_score</th>\n",
       "      <th>feature_importance_weighted_drift_detected</th>\n",
       "    </tr>\n",
       "  </thead>\n",
       "  <tbody>\n",
       "    <tr>\n",
       "      <th>0</th>\n",
       "      <td>statewise_population_per_sqmile.value</td>\n",
       "      <td>True</td>\n",
       "      <td>0.023679</td>\n",
       "      <td>5.691117e-12</td>\n",
       "      <td>True</td>\n",
       "    </tr>\n",
       "    <tr>\n",
       "      <th>1</th>\n",
       "      <td>state_cases.value</td>\n",
       "      <td>False</td>\n",
       "      <td>0.000000</td>\n",
       "      <td>1.000000e+00</td>\n",
       "      <td>False</td>\n",
       "    </tr>\n",
       "    <tr>\n",
       "      <th>2</th>\n",
       "      <td>state_deaths.value</td>\n",
       "      <td>False</td>\n",
       "      <td>0.000000</td>\n",
       "      <td>1.000000e+00</td>\n",
       "      <td>False</td>\n",
       "    </tr>\n",
       "    <tr>\n",
       "      <th>3</th>\n",
       "      <td>warehouse_ID.value</td>\n",
       "      <td>True</td>\n",
       "      <td>0.148271</td>\n",
       "      <td>9.088875e-13</td>\n",
       "      <td>True</td>\n",
       "    </tr>\n",
       "    <tr>\n",
       "      <th>4</th>\n",
       "      <td>Product_Type.value</td>\n",
       "      <td>True</td>\n",
       "      <td>1.000000</td>\n",
       "      <td>3.729947e-06</td>\n",
       "      <td>True</td>\n",
       "    </tr>\n",
       "    <tr>\n",
       "      <th>5</th>\n",
       "      <td>is_weekend.value</td>\n",
       "      <td>False</td>\n",
       "      <td>0.190749</td>\n",
       "      <td>3.812507e+00</td>\n",
       "      <td>False</td>\n",
       "    </tr>\n",
       "    <tr>\n",
       "      <th>6</th>\n",
       "      <td>is_warehouse_closed.value</td>\n",
       "      <td>False</td>\n",
       "      <td>0.000000</td>\n",
       "      <td>1.000000e+00</td>\n",
       "      <td>False</td>\n",
       "    </tr>\n",
       "    <tr>\n",
       "      <th>7</th>\n",
       "      <td>state.value</td>\n",
       "      <td>True</td>\n",
       "      <td>0.000000</td>\n",
       "      <td>1.000000e+00</td>\n",
       "      <td>False</td>\n",
       "    </tr>\n",
       "    <tr>\n",
       "      <th>8</th>\n",
       "      <td>day_of_week.value</td>\n",
       "      <td>False</td>\n",
       "      <td>0.088007</td>\n",
       "      <td>9.275321e+00</td>\n",
       "      <td>False</td>\n",
       "    </tr>\n",
       "    <tr>\n",
       "      <th>9</th>\n",
       "      <td>is_holiday.value</td>\n",
       "      <td>True</td>\n",
       "      <td>0.000773</td>\n",
       "      <td>1.848090e+01</td>\n",
       "      <td>False</td>\n",
       "    </tr>\n",
       "    <tr>\n",
       "      <th>10</th>\n",
       "      <td>county.value</td>\n",
       "      <td>True</td>\n",
       "      <td>0.000000</td>\n",
       "      <td>1.000000e+00</td>\n",
       "      <td>False</td>\n",
       "    </tr>\n",
       "  </tbody>\n",
       "</table>\n",
       "</div>"
      ],
      "text/plain": [
       "                                  feature  drift_detected  \\\n",
       "0   statewise_population_per_sqmile.value            True   \n",
       "1                       state_cases.value           False   \n",
       "2                      state_deaths.value           False   \n",
       "3                      warehouse_ID.value            True   \n",
       "4                      Product_Type.value            True   \n",
       "5                        is_weekend.value           False   \n",
       "6               is_warehouse_closed.value           False   \n",
       "7                             state.value            True   \n",
       "8                       day_of_week.value           False   \n",
       "9                        is_holiday.value            True   \n",
       "10                           county.value            True   \n",
       "\n",
       "    relative_feature_importance  feature_importance_weighted_drift_score  \\\n",
       "0                      0.023679                             5.691117e-12   \n",
       "1                      0.000000                             1.000000e+00   \n",
       "2                      0.000000                             1.000000e+00   \n",
       "3                      0.148271                             9.088875e-13   \n",
       "4                      1.000000                             3.729947e-06   \n",
       "5                      0.190749                             3.812507e+00   \n",
       "6                      0.000000                             1.000000e+00   \n",
       "7                      0.000000                             1.000000e+00   \n",
       "8                      0.088007                             9.275321e+00   \n",
       "9                      0.000773                             1.848090e+01   \n",
       "10                     0.000000                             1.000000e+00   \n",
       "\n",
       "    feature_importance_weighted_drift_detected  \n",
       "0                                         True  \n",
       "1                                        False  \n",
       "2                                        False  \n",
       "3                                         True  \n",
       "4                                         True  \n",
       "5                                        False  \n",
       "6                                        False  \n",
       "7                                        False  \n",
       "8                                        False  \n",
       "9                                        False  \n",
       "10                                       False  "
      ]
     },
     "execution_count": 365,
     "metadata": {},
     "output_type": "execute_result"
    }
   ],
   "source": [
    "weighted_drift_scores[['feature','drift_detected','relative_feature_importance','feature_importance_weighted_drift_score','feature_importance_weighted_drift_detected']]"
   ]
  },
  {
   "cell_type": "code",
   "execution_count": 366,
   "id": "245dc46d",
   "metadata": {},
   "outputs": [],
   "source": [
    "def simulate_model(df, model, experiment_name, plot_display =False):\n",
    "    \n",
    "    preds = []\n",
    "    df = df.reset_index()\n",
    "    current_df = df\n",
    "    week_num = 1\n",
    "    while current_df.shape[0] > 0:\n",
    "\n",
    "        current_df, preds = simulate_Weekly_experiment(current_df, model, preds, experiment_name = experiment_name, \n",
    "        week_num=week_num, plot_display = plot_display)\n",
    "        week_num +=1\n",
    "    return preds   "
   ]
  },
  {
   "cell_type": "code",
   "execution_count": 375,
   "id": "b4ca0118",
   "metadata": {},
   "outputs": [
    {
     "name": "stdout",
     "output_type": "stream",
     "text": [
      "Experiment week 1\n",
      "---------------------------------\n",
      "Experiment start date : 2019-02-25 00:00:00\n",
      "Experiment end_date : 2019-03-03 00:00:00\n",
      "Index(['0x431e', '0x36f4', '0x4e55', '0x35a6', '0x4c39', '0x3656', '0x36b8',\n",
      "       '0x2b4d', '0x4cd2', '0x4de2', '0x42d2', '0x369a', '0x43d8', '0x42a2',\n",
      "       '0x43e5', '0x56b9', '0x4dca', '0x28eb', '0x428b', '0x29da', '0x3734',\n",
      "       '0x4c87', '0x370e', '0x275d', '0x3615', '0x2ae9', '0x56b5', '0x4d96',\n",
      "       '0x43ed', '0x4d56'],\n",
      "      dtype='object', name='ID')\n",
      "Index(['0x2710', '0x33e6', '0x2711', '0x33e7', '0x2712', '0x33e8', '0x2713',\n",
      "       '0x33e9', '0x2714', '0x33ea',\n",
      "       ...\n",
      "       '0x2bca', '0x2bcb', '0x38a0', '0x38a1', '0x4408', '0x4409', '0x4e80',\n",
      "       '0x4e81', '0x570e', '0x570f'],\n",
      "      dtype='object', name='ID', length=3992)\n"
     ]
    },
    {
     "ename": "KeyError",
     "evalue": "\"None of [Index(['0x431e', '0x36f4', '0x4e55', '0x35a6', '0x4c39', '0x3656', '0x36b8',\\n       '0x2b4d', '0x4cd2', '0x4de2', '0x42d2', '0x369a', '0x43d8', '0x42a2',\\n       '0x43e5', '0x56b9', '0x4dca', '0x28eb', '0x428b', '0x29da', '0x3734',\\n       '0x4c87', '0x370e', '0x275d', '0x3615', '0x2ae9', '0x56b5', '0x4d96',\\n       '0x43ed', '0x4d56'],\\n      dtype='object', name='ID')] are in the [index]\"",
     "output_type": "error",
     "traceback": [
      "\u001b[1;31m---------------------------------------------------------------------------\u001b[0m",
      "\u001b[1;31mKeyError\u001b[0m                                  Traceback (most recent call last)",
      "\u001b[1;32mc:\\Users\\shree\\projects\\ML_Monitoring\\Feature_importance_weighted_drift_detection_and_automated_retraining\\demand_forecasting_detection_and_handling_of_sudden_drift_druing_covid.ipynb Cell 72'\u001b[0m in \u001b[0;36m<cell line: 1>\u001b[1;34m()\u001b[0m\n\u001b[1;32m----> <a href='vscode-notebook-cell:/c%3A/Users/shree/projects/ML_Monitoring/Feature_importance_weighted_drift_detection_and_automated_retraining/demand_forecasting_detection_and_handling_of_sudden_drift_druing_covid.ipynb#ch0000060?line=0'>1</a>\u001b[0m preds \u001b[39m=\u001b[39m simulate_model(simulate_df, reg_final, experiment_name\u001b[39m=\u001b[39;49m\u001b[39m'\u001b[39;49m\u001b[39mweekly_ml_monitoring\u001b[39;49m\u001b[39m'\u001b[39;49m)\n",
      "\u001b[1;32mc:\\Users\\shree\\projects\\ML_Monitoring\\Feature_importance_weighted_drift_detection_and_automated_retraining\\demand_forecasting_detection_and_handling_of_sudden_drift_druing_covid.ipynb Cell 71'\u001b[0m in \u001b[0;36msimulate_model\u001b[1;34m(df, model, experiment_name, plot_display)\u001b[0m\n\u001b[0;32m      <a href='vscode-notebook-cell:/c%3A/Users/shree/projects/ML_Monitoring/Feature_importance_weighted_drift_detection_and_automated_retraining/demand_forecasting_detection_and_handling_of_sudden_drift_druing_covid.ipynb#ch0000059?line=5'>6</a>\u001b[0m week_num \u001b[39m=\u001b[39m \u001b[39m1\u001b[39m\n\u001b[0;32m      <a href='vscode-notebook-cell:/c%3A/Users/shree/projects/ML_Monitoring/Feature_importance_weighted_drift_detection_and_automated_retraining/demand_forecasting_detection_and_handling_of_sudden_drift_druing_covid.ipynb#ch0000059?line=6'>7</a>\u001b[0m \u001b[39mwhile\u001b[39;00m current_df\u001b[39m.\u001b[39mshape[\u001b[39m0\u001b[39m] \u001b[39m>\u001b[39m \u001b[39m0\u001b[39m:\n\u001b[1;32m----> <a href='vscode-notebook-cell:/c%3A/Users/shree/projects/ML_Monitoring/Feature_importance_weighted_drift_detection_and_automated_retraining/demand_forecasting_detection_and_handling_of_sudden_drift_druing_covid.ipynb#ch0000059?line=8'>9</a>\u001b[0m     current_df, preds \u001b[39m=\u001b[39m simulate_Weekly_experiment(current_df, model, preds, experiment_name \u001b[39m=\u001b[39;49m experiment_name, \n\u001b[0;32m     <a href='vscode-notebook-cell:/c%3A/Users/shree/projects/ML_Monitoring/Feature_importance_weighted_drift_detection_and_automated_retraining/demand_forecasting_detection_and_handling_of_sudden_drift_druing_covid.ipynb#ch0000059?line=9'>10</a>\u001b[0m     week_num\u001b[39m=\u001b[39;49mweek_num, plot_display \u001b[39m=\u001b[39;49m plot_display)\n\u001b[0;32m     <a href='vscode-notebook-cell:/c%3A/Users/shree/projects/ML_Monitoring/Feature_importance_weighted_drift_detection_and_automated_retraining/demand_forecasting_detection_and_handling_of_sudden_drift_druing_covid.ipynb#ch0000059?line=10'>11</a>\u001b[0m     week_num \u001b[39m+\u001b[39m\u001b[39m=\u001b[39m\u001b[39m1\u001b[39m\n\u001b[0;32m     <a href='vscode-notebook-cell:/c%3A/Users/shree/projects/ML_Monitoring/Feature_importance_weighted_drift_detection_and_automated_retraining/demand_forecasting_detection_and_handling_of_sudden_drift_druing_covid.ipynb#ch0000059?line=11'>12</a>\u001b[0m \u001b[39mreturn\u001b[39;00m preds\n",
      "\u001b[1;32mc:\\Users\\shree\\projects\\ML_Monitoring\\Feature_importance_weighted_drift_detection_and_automated_retraining\\demand_forecasting_detection_and_handling_of_sudden_drift_druing_covid.ipynb Cell 5'\u001b[0m in \u001b[0;36mmlflow_runner.<locals>.wrapper\u001b[1;34m(*args, **kwargs)\u001b[0m\n\u001b[0;32m     <a href='vscode-notebook-cell:/c%3A/Users/shree/projects/ML_Monitoring/Feature_importance_weighted_drift_detection_and_automated_retraining/demand_forecasting_detection_and_handling_of_sudden_drift_druing_covid.ipynb#ch0000004?line=14'>15</a>\u001b[0m \u001b[39mfinally\u001b[39;00m:\n\u001b[0;32m     <a href='vscode-notebook-cell:/c%3A/Users/shree/projects/ML_Monitoring/Feature_importance_weighted_drift_detection_and_automated_retraining/demand_forecasting_detection_and_handling_of_sudden_drift_druing_covid.ipynb#ch0000004?line=15'>16</a>\u001b[0m     \u001b[39mwith\u001b[39;00m mlflow\u001b[39m.\u001b[39mstart_run() \u001b[39mas\u001b[39;00m run:\n\u001b[1;32m---> <a href='vscode-notebook-cell:/c%3A/Users/shree/projects/ML_Monitoring/Feature_importance_weighted_drift_detection_and_automated_retraining/demand_forecasting_detection_and_handling_of_sudden_drift_druing_covid.ipynb#ch0000004?line=16'>17</a>\u001b[0m         rv \u001b[39m=\u001b[39m func(\u001b[39m*\u001b[39margs, \u001b[39m*\u001b[39m\u001b[39m*\u001b[39mkwargs)\n\u001b[0;32m     <a href='vscode-notebook-cell:/c%3A/Users/shree/projects/ML_Monitoring/Feature_importance_weighted_drift_detection_and_automated_retraining/demand_forecasting_detection_and_handling_of_sudden_drift_druing_covid.ipynb#ch0000004?line=17'>18</a>\u001b[0m     \u001b[39mreturn\u001b[39;00m rv\n",
      "\u001b[1;32mc:\\Users\\shree\\projects\\ML_Monitoring\\Feature_importance_weighted_drift_detection_and_automated_retraining\\demand_forecasting_detection_and_handling_of_sudden_drift_druing_covid.ipynb Cell 69'\u001b[0m in \u001b[0;36msimulate_Weekly_experiment\u001b[1;34m(df, model, preds, experiment_name, week_num, plot_display)\u001b[0m\n\u001b[0;32m     <a href='vscode-notebook-cell:/c%3A/Users/shree/projects/ML_Monitoring/Feature_importance_weighted_drift_detection_and_automated_retraining/demand_forecasting_detection_and_handling_of_sudden_drift_druing_covid.ipynb#ch0000058?line=37'>38</a>\u001b[0m \u001b[39mprint\u001b[39m(reference_data\u001b[39m.\u001b[39mindex)\n\u001b[0;32m     <a href='vscode-notebook-cell:/c%3A/Users/shree/projects/ML_Monitoring/Feature_importance_weighted_drift_detection_and_automated_retraining/demand_forecasting_detection_and_handling_of_sudden_drift_druing_covid.ipynb#ch0000058?line=38'>39</a>\u001b[0m \u001b[39mprint\u001b[39m(final_y\u001b[39m.\u001b[39mindex)\n\u001b[1;32m---> <a href='vscode-notebook-cell:/c%3A/Users/shree/projects/ML_Monitoring/Feature_importance_weighted_drift_detection_and_automated_retraining/demand_forecasting_detection_and_handling_of_sudden_drift_druing_covid.ipynb#ch0000058?line=39'>40</a>\u001b[0m \u001b[39mif\u001b[39;00m test_for_drift(reference_data, final_y\u001b[39m.\u001b[39mloc[final_y\u001b[39m.\u001b[39mindex\u001b[39m.\u001b[39misin(reference_data\u001b[39m.\u001b[39mindex)], X_prod_transformed, y_prod\u001b[39m.\u001b[39;49mloc[reference_data\u001b[39m.\u001b[39;49mindex], reg, plot_display, mlflow_log\u001b[39m=\u001b[39m\u001b[39mTrue\u001b[39;00m):\n\u001b[0;32m     <a href='vscode-notebook-cell:/c%3A/Users/shree/projects/ML_Monitoring/Feature_importance_weighted_drift_detection_and_automated_retraining/demand_forecasting_detection_and_handling_of_sudden_drift_druing_covid.ipynb#ch0000058?line=40'>41</a>\u001b[0m     \u001b[39m# retrain model\u001b[39;00m\n\u001b[0;32m     <a href='vscode-notebook-cell:/c%3A/Users/shree/projects/ML_Monitoring/Feature_importance_weighted_drift_detection_and_automated_retraining/demand_forecasting_detection_and_handling_of_sudden_drift_druing_covid.ipynb#ch0000058?line=41'>42</a>\u001b[0m     \u001b[39m# test for drift an\u001b[39;00m\n\u001b[0;32m     <a href='vscode-notebook-cell:/c%3A/Users/shree/projects/ML_Monitoring/Feature_importance_weighted_drift_detection_and_automated_retraining/demand_forecasting_detection_and_handling_of_sudden_drift_druing_covid.ipynb#ch0000058?line=42'>43</a>\u001b[0m     logging\u001b[39m.\u001b[39minfo(\u001b[39m'\u001b[39m\u001b[39mRetraining model\u001b[39m\u001b[39m'\u001b[39m)\n\u001b[0;32m     <a href='vscode-notebook-cell:/c%3A/Users/shree/projects/ML_Monitoring/Feature_importance_weighted_drift_detection_and_automated_retraining/demand_forecasting_detection_and_handling_of_sudden_drift_druing_covid.ipynb#ch0000058?line=43'>44</a>\u001b[0m     model\u001b[39m.\u001b[39mfit(X_prod_transformed, y_prod)\n",
      "File \u001b[1;32md:\\anaconda\\envs\\anaconda_env\\lib\\site-packages\\pandas\\core\\indexing.py:931\u001b[0m, in \u001b[0;36m_LocationIndexer.__getitem__\u001b[1;34m(self, key)\u001b[0m\n\u001b[0;32m    928\u001b[0m axis \u001b[39m=\u001b[39m \u001b[39mself\u001b[39m\u001b[39m.\u001b[39maxis \u001b[39mor\u001b[39;00m \u001b[39m0\u001b[39m\n\u001b[0;32m    930\u001b[0m maybe_callable \u001b[39m=\u001b[39m com\u001b[39m.\u001b[39mapply_if_callable(key, \u001b[39mself\u001b[39m\u001b[39m.\u001b[39mobj)\n\u001b[1;32m--> 931\u001b[0m \u001b[39mreturn\u001b[39;00m \u001b[39mself\u001b[39;49m\u001b[39m.\u001b[39;49m_getitem_axis(maybe_callable, axis\u001b[39m=\u001b[39;49maxis)\n",
      "File \u001b[1;32md:\\anaconda\\envs\\anaconda_env\\lib\\site-packages\\pandas\\core\\indexing.py:1153\u001b[0m, in \u001b[0;36m_LocIndexer._getitem_axis\u001b[1;34m(self, key, axis)\u001b[0m\n\u001b[0;32m   1150\u001b[0m     \u001b[39mif\u001b[39;00m \u001b[39mhasattr\u001b[39m(key, \u001b[39m\"\u001b[39m\u001b[39mndim\u001b[39m\u001b[39m\"\u001b[39m) \u001b[39mand\u001b[39;00m key\u001b[39m.\u001b[39mndim \u001b[39m>\u001b[39m \u001b[39m1\u001b[39m:\n\u001b[0;32m   1151\u001b[0m         \u001b[39mraise\u001b[39;00m \u001b[39mValueError\u001b[39;00m(\u001b[39m\"\u001b[39m\u001b[39mCannot index with multidimensional key\u001b[39m\u001b[39m\"\u001b[39m)\n\u001b[1;32m-> 1153\u001b[0m     \u001b[39mreturn\u001b[39;00m \u001b[39mself\u001b[39;49m\u001b[39m.\u001b[39;49m_getitem_iterable(key, axis\u001b[39m=\u001b[39;49maxis)\n\u001b[0;32m   1155\u001b[0m \u001b[39m# nested tuple slicing\u001b[39;00m\n\u001b[0;32m   1156\u001b[0m \u001b[39mif\u001b[39;00m is_nested_tuple(key, labels):\n",
      "File \u001b[1;32md:\\anaconda\\envs\\anaconda_env\\lib\\site-packages\\pandas\\core\\indexing.py:1093\u001b[0m, in \u001b[0;36m_LocIndexer._getitem_iterable\u001b[1;34m(self, key, axis)\u001b[0m\n\u001b[0;32m   1090\u001b[0m \u001b[39mself\u001b[39m\u001b[39m.\u001b[39m_validate_key(key, axis)\n\u001b[0;32m   1092\u001b[0m \u001b[39m# A collection of keys\u001b[39;00m\n\u001b[1;32m-> 1093\u001b[0m keyarr, indexer \u001b[39m=\u001b[39m \u001b[39mself\u001b[39;49m\u001b[39m.\u001b[39;49m_get_listlike_indexer(key, axis)\n\u001b[0;32m   1094\u001b[0m \u001b[39mreturn\u001b[39;00m \u001b[39mself\u001b[39m\u001b[39m.\u001b[39mobj\u001b[39m.\u001b[39m_reindex_with_indexers(\n\u001b[0;32m   1095\u001b[0m     {axis: [keyarr, indexer]}, copy\u001b[39m=\u001b[39m\u001b[39mTrue\u001b[39;00m, allow_dups\u001b[39m=\u001b[39m\u001b[39mTrue\u001b[39;00m\n\u001b[0;32m   1096\u001b[0m )\n",
      "File \u001b[1;32md:\\anaconda\\envs\\anaconda_env\\lib\\site-packages\\pandas\\core\\indexing.py:1314\u001b[0m, in \u001b[0;36m_LocIndexer._get_listlike_indexer\u001b[1;34m(self, key, axis)\u001b[0m\n\u001b[0;32m   1311\u001b[0m \u001b[39melse\u001b[39;00m:\n\u001b[0;32m   1312\u001b[0m     keyarr, indexer, new_indexer \u001b[39m=\u001b[39m ax\u001b[39m.\u001b[39m_reindex_non_unique(keyarr)\n\u001b[1;32m-> 1314\u001b[0m \u001b[39mself\u001b[39;49m\u001b[39m.\u001b[39;49m_validate_read_indexer(keyarr, indexer, axis)\n\u001b[0;32m   1316\u001b[0m \u001b[39mif\u001b[39;00m needs_i8_conversion(ax\u001b[39m.\u001b[39mdtype) \u001b[39mor\u001b[39;00m \u001b[39misinstance\u001b[39m(\n\u001b[0;32m   1317\u001b[0m     ax, (IntervalIndex, CategoricalIndex)\n\u001b[0;32m   1318\u001b[0m ):\n\u001b[0;32m   1319\u001b[0m     \u001b[39m# For CategoricalIndex take instead of reindex to preserve dtype.\u001b[39;00m\n\u001b[0;32m   1320\u001b[0m     \u001b[39m#  For IntervalIndex this is to map integers to the Intervals they match to.\u001b[39;00m\n\u001b[0;32m   1321\u001b[0m     keyarr \u001b[39m=\u001b[39m ax\u001b[39m.\u001b[39mtake(indexer)\n",
      "File \u001b[1;32md:\\anaconda\\envs\\anaconda_env\\lib\\site-packages\\pandas\\core\\indexing.py:1374\u001b[0m, in \u001b[0;36m_LocIndexer._validate_read_indexer\u001b[1;34m(self, key, indexer, axis)\u001b[0m\n\u001b[0;32m   1372\u001b[0m     \u001b[39mif\u001b[39;00m use_interval_msg:\n\u001b[0;32m   1373\u001b[0m         key \u001b[39m=\u001b[39m \u001b[39mlist\u001b[39m(key)\n\u001b[1;32m-> 1374\u001b[0m     \u001b[39mraise\u001b[39;00m \u001b[39mKeyError\u001b[39;00m(\u001b[39mf\u001b[39m\u001b[39m\"\u001b[39m\u001b[39mNone of [\u001b[39m\u001b[39m{\u001b[39;00mkey\u001b[39m}\u001b[39;00m\u001b[39m] are in the [\u001b[39m\u001b[39m{\u001b[39;00maxis_name\u001b[39m}\u001b[39;00m\u001b[39m]\u001b[39m\u001b[39m\"\u001b[39m)\n\u001b[0;32m   1376\u001b[0m not_found \u001b[39m=\u001b[39m \u001b[39mlist\u001b[39m(ensure_index(key)[missing_mask\u001b[39m.\u001b[39mnonzero()[\u001b[39m0\u001b[39m]]\u001b[39m.\u001b[39munique())\n\u001b[0;32m   1377\u001b[0m \u001b[39mraise\u001b[39;00m \u001b[39mKeyError\u001b[39;00m(\u001b[39mf\u001b[39m\u001b[39m\"\u001b[39m\u001b[39m{\u001b[39;00mnot_found\u001b[39m}\u001b[39;00m\u001b[39m not in index\u001b[39m\u001b[39m\"\u001b[39m)\n",
      "\u001b[1;31mKeyError\u001b[0m: \"None of [Index(['0x431e', '0x36f4', '0x4e55', '0x35a6', '0x4c39', '0x3656', '0x36b8',\\n       '0x2b4d', '0x4cd2', '0x4de2', '0x42d2', '0x369a', '0x43d8', '0x42a2',\\n       '0x43e5', '0x56b9', '0x4dca', '0x28eb', '0x428b', '0x29da', '0x3734',\\n       '0x4c87', '0x370e', '0x275d', '0x3615', '0x2ae9', '0x56b5', '0x4d96',\\n       '0x43ed', '0x4d56'],\\n      dtype='object', name='ID')] are in the [index]\""
     ]
    }
   ],
   "source": [
    "preds = simulate_model(simulate_df, reg_final, experiment_name='weekly_ml_monitoring')"
   ]
  },
  {
   "cell_type": "markdown",
   "id": "ed27f370",
   "metadata": {},
   "source": [
    "#### Drift detection graphs"
   ]
  },
  {
   "cell_type": "code",
   "execution_count": 256,
   "id": "98d58f44",
   "metadata": {},
   "outputs": [],
   "source": [
    "expirement_results = mlflow.search_runs(experiment_names=['weekly_ml_monitoring'])"
   ]
  },
  {
   "cell_type": "code",
   "execution_count": 257,
   "id": "73898a73",
   "metadata": {},
   "outputs": [],
   "source": [
    "expirement_results.set_index('params.week_end_experiment_end_date',inplace=True)\n",
    "expirement_results.sort_index(ascending=True,inplace=True)"
   ]
  },
  {
   "cell_type": "code",
   "execution_count": 258,
   "id": "77f027a9",
   "metadata": {},
   "outputs": [
    {
     "data": {
      "text/html": [
       "<div>\n",
       "<style scoped>\n",
       "    .dataframe tbody tr th:only-of-type {\n",
       "        vertical-align: middle;\n",
       "    }\n",
       "\n",
       "    .dataframe tbody tr th {\n",
       "        vertical-align: top;\n",
       "    }\n",
       "\n",
       "    .dataframe thead th {\n",
       "        text-align: right;\n",
       "    }\n",
       "</style>\n",
       "<table border=\"1\" class=\"dataframe\">\n",
       "  <thead>\n",
       "    <tr style=\"text-align: right;\">\n",
       "      <th></th>\n",
       "      <th>run_id</th>\n",
       "      <th>experiment_id</th>\n",
       "      <th>status</th>\n",
       "      <th>artifact_uri</th>\n",
       "      <th>start_time</th>\n",
       "      <th>end_time</th>\n",
       "      <th>metrics.weekly_mse</th>\n",
       "      <th>metrics.weekly_rmse</th>\n",
       "      <th>metrics.weekly_mape</th>\n",
       "      <th>metrics.weekly_mae</th>\n",
       "      <th>...</th>\n",
       "      <th>params.is_holiday.value_feature_importance_weighted_drift_detected</th>\n",
       "      <th>params.warehouse_ID.value_raw_feature_importance</th>\n",
       "      <th>params.statewise_population_per_sqmile.value_raw_feature_importance</th>\n",
       "      <th>params.is_warehouse_closed.value_drift_score</th>\n",
       "      <th>params.is_weekend.value_raw_feature_importance</th>\n",
       "      <th>params.Product_Type.value_feature_importance_weighted_drift_detected</th>\n",
       "      <th>params.day_of_week.value_relative_feature_importance</th>\n",
       "      <th>tags.mlflow.source.type</th>\n",
       "      <th>tags.mlflow.user</th>\n",
       "      <th>tags.mlflow.source.name</th>\n",
       "    </tr>\n",
       "    <tr>\n",
       "      <th>params.week_end_experiment_end_date</th>\n",
       "      <th></th>\n",
       "      <th></th>\n",
       "      <th></th>\n",
       "      <th></th>\n",
       "      <th></th>\n",
       "      <th></th>\n",
       "      <th></th>\n",
       "      <th></th>\n",
       "      <th></th>\n",
       "      <th></th>\n",
       "      <th></th>\n",
       "      <th></th>\n",
       "      <th></th>\n",
       "      <th></th>\n",
       "      <th></th>\n",
       "      <th></th>\n",
       "      <th></th>\n",
       "      <th></th>\n",
       "      <th></th>\n",
       "      <th></th>\n",
       "      <th></th>\n",
       "    </tr>\n",
       "  </thead>\n",
       "  <tbody>\n",
       "    <tr>\n",
       "      <th>2019-03-03 00:00:00</th>\n",
       "      <td>3f62247c967f4572828f1f24d0dddf87</td>\n",
       "      <td>2</td>\n",
       "      <td>FINISHED</td>\n",
       "      <td>file:///C:/Users/shree/projects/ML_Monitoring/...</td>\n",
       "      <td>2022-06-28 06:19:06.956000+00:00</td>\n",
       "      <td>2022-06-28 06:19:07.990000+00:00</td>\n",
       "      <td>0.578857</td>\n",
       "      <td>0.760827</td>\n",
       "      <td>1.162311e-01</td>\n",
       "      <td>0.624194</td>\n",
       "      <td>...</td>\n",
       "      <td>False</td>\n",
       "      <td>0.3413332402706146</td>\n",
       "      <td>0.07447593659162521</td>\n",
       "      <td>0.0</td>\n",
       "      <td>0.5882567763328552</td>\n",
       "      <td>True</td>\n",
       "      <td>0.10281465202569962</td>\n",
       "      <td>LOCAL</td>\n",
       "      <td>shree</td>\n",
       "      <td>d:\\anaconda\\envs\\anaconda_env\\lib\\site-package...</td>\n",
       "    </tr>\n",
       "    <tr>\n",
       "      <th>2019-03-03 00:00:00</th>\n",
       "      <td>233e6d65806c4765ab1730f4fea499a2</td>\n",
       "      <td>2</td>\n",
       "      <td>FINISHED</td>\n",
       "      <td>file:///C:/Users/shree/projects/ML_Monitoring/...</td>\n",
       "      <td>2022-06-28 06:24:19.019000+00:00</td>\n",
       "      <td>2022-06-28 06:24:20.097000+00:00</td>\n",
       "      <td>0.578857</td>\n",
       "      <td>0.760827</td>\n",
       "      <td>1.162311e-01</td>\n",
       "      <td>0.624194</td>\n",
       "      <td>...</td>\n",
       "      <td>False</td>\n",
       "      <td>0.3413332402706146</td>\n",
       "      <td>0.07447593659162521</td>\n",
       "      <td>0.0</td>\n",
       "      <td>0.5882567763328552</td>\n",
       "      <td>True</td>\n",
       "      <td>0.10281465202569962</td>\n",
       "      <td>LOCAL</td>\n",
       "      <td>shree</td>\n",
       "      <td>d:\\anaconda\\envs\\anaconda_env\\lib\\site-package...</td>\n",
       "    </tr>\n",
       "    <tr>\n",
       "      <th>2019-03-03 00:00:00</th>\n",
       "      <td>388f8b8352ef44e8b844374d09dba615</td>\n",
       "      <td>2</td>\n",
       "      <td>FAILED</td>\n",
       "      <td>file:///C:/Users/shree/projects/ML_Monitoring/...</td>\n",
       "      <td>2022-06-29 04:40:20.462000+00:00</td>\n",
       "      <td>2022-06-29 04:40:20.720000+00:00</td>\n",
       "      <td>0.578857</td>\n",
       "      <td>0.760827</td>\n",
       "      <td>1.162311e-01</td>\n",
       "      <td>0.624194</td>\n",
       "      <td>...</td>\n",
       "      <td>None</td>\n",
       "      <td>None</td>\n",
       "      <td>None</td>\n",
       "      <td>None</td>\n",
       "      <td>None</td>\n",
       "      <td>None</td>\n",
       "      <td>None</td>\n",
       "      <td>LOCAL</td>\n",
       "      <td>shree</td>\n",
       "      <td>d:\\anaconda\\envs\\anaconda_env\\lib\\site-package...</td>\n",
       "    </tr>\n",
       "    <tr>\n",
       "      <th>2019-03-03 00:00:00</th>\n",
       "      <td>8e004dbf8c0f4558b0347b1382d65253</td>\n",
       "      <td>2</td>\n",
       "      <td>FAILED</td>\n",
       "      <td>file:///C:/Users/shree/projects/ML_Monitoring/...</td>\n",
       "      <td>2022-06-29 04:43:45.010000+00:00</td>\n",
       "      <td>2022-06-29 04:43:45.304000+00:00</td>\n",
       "      <td>3.833653</td>\n",
       "      <td>1.957972</td>\n",
       "      <td>2.421320e-01</td>\n",
       "      <td>1.537056</td>\n",
       "      <td>...</td>\n",
       "      <td>None</td>\n",
       "      <td>None</td>\n",
       "      <td>None</td>\n",
       "      <td>None</td>\n",
       "      <td>None</td>\n",
       "      <td>None</td>\n",
       "      <td>None</td>\n",
       "      <td>LOCAL</td>\n",
       "      <td>shree</td>\n",
       "      <td>d:\\anaconda\\envs\\anaconda_env\\lib\\site-package...</td>\n",
       "    </tr>\n",
       "    <tr>\n",
       "      <th>2019-03-03 00:00:00</th>\n",
       "      <td>920ee66b8ff742618acb68271a534ce6</td>\n",
       "      <td>2</td>\n",
       "      <td>FAILED</td>\n",
       "      <td>file:///C:/Users/shree/projects/ML_Monitoring/...</td>\n",
       "      <td>2022-06-29 04:45:06.945000+00:00</td>\n",
       "      <td>2022-06-29 04:45:07.202000+00:00</td>\n",
       "      <td>3.833653</td>\n",
       "      <td>1.957972</td>\n",
       "      <td>2.421320e-01</td>\n",
       "      <td>1.537056</td>\n",
       "      <td>...</td>\n",
       "      <td>None</td>\n",
       "      <td>None</td>\n",
       "      <td>None</td>\n",
       "      <td>None</td>\n",
       "      <td>None</td>\n",
       "      <td>None</td>\n",
       "      <td>None</td>\n",
       "      <td>LOCAL</td>\n",
       "      <td>shree</td>\n",
       "      <td>d:\\anaconda\\envs\\anaconda_env\\lib\\site-package...</td>\n",
       "    </tr>\n",
       "    <tr>\n",
       "      <th>...</th>\n",
       "      <td>...</td>\n",
       "      <td>...</td>\n",
       "      <td>...</td>\n",
       "      <td>...</td>\n",
       "      <td>...</td>\n",
       "      <td>...</td>\n",
       "      <td>...</td>\n",
       "      <td>...</td>\n",
       "      <td>...</td>\n",
       "      <td>...</td>\n",
       "      <td>...</td>\n",
       "      <td>...</td>\n",
       "      <td>...</td>\n",
       "      <td>...</td>\n",
       "      <td>...</td>\n",
       "      <td>...</td>\n",
       "      <td>...</td>\n",
       "      <td>...</td>\n",
       "      <td>...</td>\n",
       "      <td>...</td>\n",
       "      <td>...</td>\n",
       "    </tr>\n",
       "    <tr>\n",
       "      <th>2020-11-08 00:00:00</th>\n",
       "      <td>bf52a02f23da4a3887089f86ffdd8268</td>\n",
       "      <td>2</td>\n",
       "      <td>FINISHED</td>\n",
       "      <td>file:///C:/Users/shree/projects/ML_Monitoring/...</td>\n",
       "      <td>2022-06-29 04:53:23.029000+00:00</td>\n",
       "      <td>2022-06-29 04:53:24.346000+00:00</td>\n",
       "      <td>6.163768</td>\n",
       "      <td>2.482694</td>\n",
       "      <td>1.204077e+14</td>\n",
       "      <td>1.924483</td>\n",
       "      <td>...</td>\n",
       "      <td>False</td>\n",
       "      <td>0.36078178882598877</td>\n",
       "      <td>0.0559806190431118</td>\n",
       "      <td>0.8145357185616025</td>\n",
       "      <td>0.4534967839717865</td>\n",
       "      <td>True</td>\n",
       "      <td>0.08779085427522659</td>\n",
       "      <td>LOCAL</td>\n",
       "      <td>shree</td>\n",
       "      <td>d:\\anaconda\\envs\\anaconda_env\\lib\\site-package...</td>\n",
       "    </tr>\n",
       "    <tr>\n",
       "      <th>2020-11-15 00:00:00</th>\n",
       "      <td>76f032413aa94c08bc6259f2e248e054</td>\n",
       "      <td>2</td>\n",
       "      <td>FINISHED</td>\n",
       "      <td>file:///C:/Users/shree/projects/ML_Monitoring/...</td>\n",
       "      <td>2022-06-28 06:20:51.172000+00:00</td>\n",
       "      <td>2022-06-28 06:20:52.588000+00:00</td>\n",
       "      <td>6.485387</td>\n",
       "      <td>2.546642</td>\n",
       "      <td>1.597630e+14</td>\n",
       "      <td>1.960821</td>\n",
       "      <td>...</td>\n",
       "      <td>False</td>\n",
       "      <td>0.3696640431880951</td>\n",
       "      <td>0.055968452244997025</td>\n",
       "      <td>0.8325546111576977</td>\n",
       "      <td>0.4301363229751587</td>\n",
       "      <td>True</td>\n",
       "      <td>0.0870433822274208</td>\n",
       "      <td>LOCAL</td>\n",
       "      <td>shree</td>\n",
       "      <td>d:\\anaconda\\envs\\anaconda_env\\lib\\site-package...</td>\n",
       "    </tr>\n",
       "    <tr>\n",
       "      <th>2020-11-15 00:00:00</th>\n",
       "      <td>94c8438adddd465ca4505315ffb37bc1</td>\n",
       "      <td>2</td>\n",
       "      <td>FINISHED</td>\n",
       "      <td>file:///C:/Users/shree/projects/ML_Monitoring/...</td>\n",
       "      <td>2022-06-28 06:26:13.483000+00:00</td>\n",
       "      <td>2022-06-28 06:26:14.636000+00:00</td>\n",
       "      <td>6.485387</td>\n",
       "      <td>2.546642</td>\n",
       "      <td>1.597630e+14</td>\n",
       "      <td>1.960821</td>\n",
       "      <td>...</td>\n",
       "      <td>False</td>\n",
       "      <td>0.3696640431880951</td>\n",
       "      <td>0.055968452244997025</td>\n",
       "      <td>0.8325546111576977</td>\n",
       "      <td>0.4301363229751587</td>\n",
       "      <td>True</td>\n",
       "      <td>0.0870433822274208</td>\n",
       "      <td>LOCAL</td>\n",
       "      <td>shree</td>\n",
       "      <td>d:\\anaconda\\envs\\anaconda_env\\lib\\site-package...</td>\n",
       "    </tr>\n",
       "    <tr>\n",
       "      <th>2020-11-15 00:00:00</th>\n",
       "      <td>4d415bb770904f3fb21869a818a2a2ff</td>\n",
       "      <td>2</td>\n",
       "      <td>FINISHED</td>\n",
       "      <td>file:///C:/Users/shree/projects/ML_Monitoring/...</td>\n",
       "      <td>2022-06-29 04:53:24.379000+00:00</td>\n",
       "      <td>2022-06-29 04:53:25.775000+00:00</td>\n",
       "      <td>6.485387</td>\n",
       "      <td>2.546642</td>\n",
       "      <td>1.597630e+14</td>\n",
       "      <td>1.960821</td>\n",
       "      <td>...</td>\n",
       "      <td>False</td>\n",
       "      <td>0.3696640431880951</td>\n",
       "      <td>0.055968452244997025</td>\n",
       "      <td>0.8146817146967652</td>\n",
       "      <td>0.4301363229751587</td>\n",
       "      <td>True</td>\n",
       "      <td>0.0870433822274208</td>\n",
       "      <td>LOCAL</td>\n",
       "      <td>shree</td>\n",
       "      <td>d:\\anaconda\\envs\\anaconda_env\\lib\\site-package...</td>\n",
       "    </tr>\n",
       "    <tr>\n",
       "      <th>NaN</th>\n",
       "      <td>807073339cc8411b92eead0b555568c3</td>\n",
       "      <td>2</td>\n",
       "      <td>FAILED</td>\n",
       "      <td>file:///C:/Users/shree/projects/ML_Monitoring/...</td>\n",
       "      <td>2022-06-29 04:49:26.456000+00:00</td>\n",
       "      <td>2022-06-29 04:49:26.483000+00:00</td>\n",
       "      <td>NaN</td>\n",
       "      <td>NaN</td>\n",
       "      <td>NaN</td>\n",
       "      <td>NaN</td>\n",
       "      <td>...</td>\n",
       "      <td>None</td>\n",
       "      <td>None</td>\n",
       "      <td>None</td>\n",
       "      <td>None</td>\n",
       "      <td>None</td>\n",
       "      <td>None</td>\n",
       "      <td>None</td>\n",
       "      <td>LOCAL</td>\n",
       "      <td>shree</td>\n",
       "      <td>d:\\anaconda\\envs\\anaconda_env\\lib\\site-package...</td>\n",
       "    </tr>\n",
       "  </tbody>\n",
       "</table>\n",
       "<p>275 rows × 81 columns</p>\n",
       "</div>"
      ],
      "text/plain": [
       "                                                               run_id  \\\n",
       "params.week_end_experiment_end_date                                     \n",
       "2019-03-03 00:00:00                  3f62247c967f4572828f1f24d0dddf87   \n",
       "2019-03-03 00:00:00                  233e6d65806c4765ab1730f4fea499a2   \n",
       "2019-03-03 00:00:00                  388f8b8352ef44e8b844374d09dba615   \n",
       "2019-03-03 00:00:00                  8e004dbf8c0f4558b0347b1382d65253   \n",
       "2019-03-03 00:00:00                  920ee66b8ff742618acb68271a534ce6   \n",
       "...                                                               ...   \n",
       "2020-11-08 00:00:00                  bf52a02f23da4a3887089f86ffdd8268   \n",
       "2020-11-15 00:00:00                  76f032413aa94c08bc6259f2e248e054   \n",
       "2020-11-15 00:00:00                  94c8438adddd465ca4505315ffb37bc1   \n",
       "2020-11-15 00:00:00                  4d415bb770904f3fb21869a818a2a2ff   \n",
       "NaN                                  807073339cc8411b92eead0b555568c3   \n",
       "\n",
       "                                    experiment_id    status  \\\n",
       "params.week_end_experiment_end_date                           \n",
       "2019-03-03 00:00:00                             2  FINISHED   \n",
       "2019-03-03 00:00:00                             2  FINISHED   \n",
       "2019-03-03 00:00:00                             2    FAILED   \n",
       "2019-03-03 00:00:00                             2    FAILED   \n",
       "2019-03-03 00:00:00                             2    FAILED   \n",
       "...                                           ...       ...   \n",
       "2020-11-08 00:00:00                             2  FINISHED   \n",
       "2020-11-15 00:00:00                             2  FINISHED   \n",
       "2020-11-15 00:00:00                             2  FINISHED   \n",
       "2020-11-15 00:00:00                             2  FINISHED   \n",
       "NaN                                             2    FAILED   \n",
       "\n",
       "                                                                          artifact_uri  \\\n",
       "params.week_end_experiment_end_date                                                      \n",
       "2019-03-03 00:00:00                  file:///C:/Users/shree/projects/ML_Monitoring/...   \n",
       "2019-03-03 00:00:00                  file:///C:/Users/shree/projects/ML_Monitoring/...   \n",
       "2019-03-03 00:00:00                  file:///C:/Users/shree/projects/ML_Monitoring/...   \n",
       "2019-03-03 00:00:00                  file:///C:/Users/shree/projects/ML_Monitoring/...   \n",
       "2019-03-03 00:00:00                  file:///C:/Users/shree/projects/ML_Monitoring/...   \n",
       "...                                                                                ...   \n",
       "2020-11-08 00:00:00                  file:///C:/Users/shree/projects/ML_Monitoring/...   \n",
       "2020-11-15 00:00:00                  file:///C:/Users/shree/projects/ML_Monitoring/...   \n",
       "2020-11-15 00:00:00                  file:///C:/Users/shree/projects/ML_Monitoring/...   \n",
       "2020-11-15 00:00:00                  file:///C:/Users/shree/projects/ML_Monitoring/...   \n",
       "NaN                                  file:///C:/Users/shree/projects/ML_Monitoring/...   \n",
       "\n",
       "                                                          start_time  \\\n",
       "params.week_end_experiment_end_date                                    \n",
       "2019-03-03 00:00:00                 2022-06-28 06:19:06.956000+00:00   \n",
       "2019-03-03 00:00:00                 2022-06-28 06:24:19.019000+00:00   \n",
       "2019-03-03 00:00:00                 2022-06-29 04:40:20.462000+00:00   \n",
       "2019-03-03 00:00:00                 2022-06-29 04:43:45.010000+00:00   \n",
       "2019-03-03 00:00:00                 2022-06-29 04:45:06.945000+00:00   \n",
       "...                                                              ...   \n",
       "2020-11-08 00:00:00                 2022-06-29 04:53:23.029000+00:00   \n",
       "2020-11-15 00:00:00                 2022-06-28 06:20:51.172000+00:00   \n",
       "2020-11-15 00:00:00                 2022-06-28 06:26:13.483000+00:00   \n",
       "2020-11-15 00:00:00                 2022-06-29 04:53:24.379000+00:00   \n",
       "NaN                                 2022-06-29 04:49:26.456000+00:00   \n",
       "\n",
       "                                                            end_time  \\\n",
       "params.week_end_experiment_end_date                                    \n",
       "2019-03-03 00:00:00                 2022-06-28 06:19:07.990000+00:00   \n",
       "2019-03-03 00:00:00                 2022-06-28 06:24:20.097000+00:00   \n",
       "2019-03-03 00:00:00                 2022-06-29 04:40:20.720000+00:00   \n",
       "2019-03-03 00:00:00                 2022-06-29 04:43:45.304000+00:00   \n",
       "2019-03-03 00:00:00                 2022-06-29 04:45:07.202000+00:00   \n",
       "...                                                              ...   \n",
       "2020-11-08 00:00:00                 2022-06-29 04:53:24.346000+00:00   \n",
       "2020-11-15 00:00:00                 2022-06-28 06:20:52.588000+00:00   \n",
       "2020-11-15 00:00:00                 2022-06-28 06:26:14.636000+00:00   \n",
       "2020-11-15 00:00:00                 2022-06-29 04:53:25.775000+00:00   \n",
       "NaN                                 2022-06-29 04:49:26.483000+00:00   \n",
       "\n",
       "                                     metrics.weekly_mse  metrics.weekly_rmse  \\\n",
       "params.week_end_experiment_end_date                                            \n",
       "2019-03-03 00:00:00                            0.578857             0.760827   \n",
       "2019-03-03 00:00:00                            0.578857             0.760827   \n",
       "2019-03-03 00:00:00                            0.578857             0.760827   \n",
       "2019-03-03 00:00:00                            3.833653             1.957972   \n",
       "2019-03-03 00:00:00                            3.833653             1.957972   \n",
       "...                                                 ...                  ...   \n",
       "2020-11-08 00:00:00                            6.163768             2.482694   \n",
       "2020-11-15 00:00:00                            6.485387             2.546642   \n",
       "2020-11-15 00:00:00                            6.485387             2.546642   \n",
       "2020-11-15 00:00:00                            6.485387             2.546642   \n",
       "NaN                                                 NaN                  NaN   \n",
       "\n",
       "                                     metrics.weekly_mape  metrics.weekly_mae  \\\n",
       "params.week_end_experiment_end_date                                            \n",
       "2019-03-03 00:00:00                         1.162311e-01            0.624194   \n",
       "2019-03-03 00:00:00                         1.162311e-01            0.624194   \n",
       "2019-03-03 00:00:00                         1.162311e-01            0.624194   \n",
       "2019-03-03 00:00:00                         2.421320e-01            1.537056   \n",
       "2019-03-03 00:00:00                         2.421320e-01            1.537056   \n",
       "...                                                  ...                 ...   \n",
       "2020-11-08 00:00:00                         1.204077e+14            1.924483   \n",
       "2020-11-15 00:00:00                         1.597630e+14            1.960821   \n",
       "2020-11-15 00:00:00                         1.597630e+14            1.960821   \n",
       "2020-11-15 00:00:00                         1.597630e+14            1.960821   \n",
       "NaN                                                  NaN                 NaN   \n",
       "\n",
       "                                     ...  \\\n",
       "params.week_end_experiment_end_date  ...   \n",
       "2019-03-03 00:00:00                  ...   \n",
       "2019-03-03 00:00:00                  ...   \n",
       "2019-03-03 00:00:00                  ...   \n",
       "2019-03-03 00:00:00                  ...   \n",
       "2019-03-03 00:00:00                  ...   \n",
       "...                                  ...   \n",
       "2020-11-08 00:00:00                  ...   \n",
       "2020-11-15 00:00:00                  ...   \n",
       "2020-11-15 00:00:00                  ...   \n",
       "2020-11-15 00:00:00                  ...   \n",
       "NaN                                  ...   \n",
       "\n",
       "                                    params.is_holiday.value_feature_importance_weighted_drift_detected  \\\n",
       "params.week_end_experiment_end_date                                                                      \n",
       "2019-03-03 00:00:00                                                              False                   \n",
       "2019-03-03 00:00:00                                                              False                   \n",
       "2019-03-03 00:00:00                                                               None                   \n",
       "2019-03-03 00:00:00                                                               None                   \n",
       "2019-03-03 00:00:00                                                               None                   \n",
       "...                                                                                ...                   \n",
       "2020-11-08 00:00:00                                                              False                   \n",
       "2020-11-15 00:00:00                                                              False                   \n",
       "2020-11-15 00:00:00                                                              False                   \n",
       "2020-11-15 00:00:00                                                              False                   \n",
       "NaN                                                                               None                   \n",
       "\n",
       "                                    params.warehouse_ID.value_raw_feature_importance  \\\n",
       "params.week_end_experiment_end_date                                                    \n",
       "2019-03-03 00:00:00                                               0.3413332402706146   \n",
       "2019-03-03 00:00:00                                               0.3413332402706146   \n",
       "2019-03-03 00:00:00                                                             None   \n",
       "2019-03-03 00:00:00                                                             None   \n",
       "2019-03-03 00:00:00                                                             None   \n",
       "...                                                                              ...   \n",
       "2020-11-08 00:00:00                                              0.36078178882598877   \n",
       "2020-11-15 00:00:00                                               0.3696640431880951   \n",
       "2020-11-15 00:00:00                                               0.3696640431880951   \n",
       "2020-11-15 00:00:00                                               0.3696640431880951   \n",
       "NaN                                                                             None   \n",
       "\n",
       "                                    params.statewise_population_per_sqmile.value_raw_feature_importance  \\\n",
       "params.week_end_experiment_end_date                                                                       \n",
       "2019-03-03 00:00:00                                                0.07447593659162521                    \n",
       "2019-03-03 00:00:00                                                0.07447593659162521                    \n",
       "2019-03-03 00:00:00                                                               None                    \n",
       "2019-03-03 00:00:00                                                               None                    \n",
       "2019-03-03 00:00:00                                                               None                    \n",
       "...                                                                                ...                    \n",
       "2020-11-08 00:00:00                                                 0.0559806190431118                    \n",
       "2020-11-15 00:00:00                                               0.055968452244997025                    \n",
       "2020-11-15 00:00:00                                               0.055968452244997025                    \n",
       "2020-11-15 00:00:00                                               0.055968452244997025                    \n",
       "NaN                                                                               None                    \n",
       "\n",
       "                                    params.is_warehouse_closed.value_drift_score  \\\n",
       "params.week_end_experiment_end_date                                                \n",
       "2019-03-03 00:00:00                                                          0.0   \n",
       "2019-03-03 00:00:00                                                          0.0   \n",
       "2019-03-03 00:00:00                                                         None   \n",
       "2019-03-03 00:00:00                                                         None   \n",
       "2019-03-03 00:00:00                                                         None   \n",
       "...                                                                          ...   \n",
       "2020-11-08 00:00:00                                           0.8145357185616025   \n",
       "2020-11-15 00:00:00                                           0.8325546111576977   \n",
       "2020-11-15 00:00:00                                           0.8325546111576977   \n",
       "2020-11-15 00:00:00                                           0.8146817146967652   \n",
       "NaN                                                                         None   \n",
       "\n",
       "                                    params.is_weekend.value_raw_feature_importance  \\\n",
       "params.week_end_experiment_end_date                                                  \n",
       "2019-03-03 00:00:00                                             0.5882567763328552   \n",
       "2019-03-03 00:00:00                                             0.5882567763328552   \n",
       "2019-03-03 00:00:00                                                           None   \n",
       "2019-03-03 00:00:00                                                           None   \n",
       "2019-03-03 00:00:00                                                           None   \n",
       "...                                                                            ...   \n",
       "2020-11-08 00:00:00                                             0.4534967839717865   \n",
       "2020-11-15 00:00:00                                             0.4301363229751587   \n",
       "2020-11-15 00:00:00                                             0.4301363229751587   \n",
       "2020-11-15 00:00:00                                             0.4301363229751587   \n",
       "NaN                                                                           None   \n",
       "\n",
       "                                    params.Product_Type.value_feature_importance_weighted_drift_detected  \\\n",
       "params.week_end_experiment_end_date                                                                        \n",
       "2019-03-03 00:00:00                                                               True                     \n",
       "2019-03-03 00:00:00                                                               True                     \n",
       "2019-03-03 00:00:00                                                               None                     \n",
       "2019-03-03 00:00:00                                                               None                     \n",
       "2019-03-03 00:00:00                                                               None                     \n",
       "...                                                                                ...                     \n",
       "2020-11-08 00:00:00                                                               True                     \n",
       "2020-11-15 00:00:00                                                               True                     \n",
       "2020-11-15 00:00:00                                                               True                     \n",
       "2020-11-15 00:00:00                                                               True                     \n",
       "NaN                                                                               None                     \n",
       "\n",
       "                                    params.day_of_week.value_relative_feature_importance  \\\n",
       "params.week_end_experiment_end_date                                                        \n",
       "2019-03-03 00:00:00                                                0.10281465202569962     \n",
       "2019-03-03 00:00:00                                                0.10281465202569962     \n",
       "2019-03-03 00:00:00                                                               None     \n",
       "2019-03-03 00:00:00                                                               None     \n",
       "2019-03-03 00:00:00                                                               None     \n",
       "...                                                                                ...     \n",
       "2020-11-08 00:00:00                                                0.08779085427522659     \n",
       "2020-11-15 00:00:00                                                 0.0870433822274208     \n",
       "2020-11-15 00:00:00                                                 0.0870433822274208     \n",
       "2020-11-15 00:00:00                                                 0.0870433822274208     \n",
       "NaN                                                                               None     \n",
       "\n",
       "                                    tags.mlflow.source.type tags.mlflow.user  \\\n",
       "params.week_end_experiment_end_date                                            \n",
       "2019-03-03 00:00:00                                   LOCAL            shree   \n",
       "2019-03-03 00:00:00                                   LOCAL            shree   \n",
       "2019-03-03 00:00:00                                   LOCAL            shree   \n",
       "2019-03-03 00:00:00                                   LOCAL            shree   \n",
       "2019-03-03 00:00:00                                   LOCAL            shree   \n",
       "...                                                     ...              ...   \n",
       "2020-11-08 00:00:00                                   LOCAL            shree   \n",
       "2020-11-15 00:00:00                                   LOCAL            shree   \n",
       "2020-11-15 00:00:00                                   LOCAL            shree   \n",
       "2020-11-15 00:00:00                                   LOCAL            shree   \n",
       "NaN                                                   LOCAL            shree   \n",
       "\n",
       "                                                               tags.mlflow.source.name  \n",
       "params.week_end_experiment_end_date                                                     \n",
       "2019-03-03 00:00:00                  d:\\anaconda\\envs\\anaconda_env\\lib\\site-package...  \n",
       "2019-03-03 00:00:00                  d:\\anaconda\\envs\\anaconda_env\\lib\\site-package...  \n",
       "2019-03-03 00:00:00                  d:\\anaconda\\envs\\anaconda_env\\lib\\site-package...  \n",
       "2019-03-03 00:00:00                  d:\\anaconda\\envs\\anaconda_env\\lib\\site-package...  \n",
       "2019-03-03 00:00:00                  d:\\anaconda\\envs\\anaconda_env\\lib\\site-package...  \n",
       "...                                                                                ...  \n",
       "2020-11-08 00:00:00                  d:\\anaconda\\envs\\anaconda_env\\lib\\site-package...  \n",
       "2020-11-15 00:00:00                  d:\\anaconda\\envs\\anaconda_env\\lib\\site-package...  \n",
       "2020-11-15 00:00:00                  d:\\anaconda\\envs\\anaconda_env\\lib\\site-package...  \n",
       "2020-11-15 00:00:00                  d:\\anaconda\\envs\\anaconda_env\\lib\\site-package...  \n",
       "NaN                                  d:\\anaconda\\envs\\anaconda_env\\lib\\site-package...  \n",
       "\n",
       "[275 rows x 81 columns]"
      ]
     },
     "execution_count": 258,
     "metadata": {},
     "output_type": "execute_result"
    }
   ],
   "source": [
    "expirement_results"
   ]
  },
  {
   "cell_type": "code",
   "execution_count": 259,
   "id": "2f57fddc",
   "metadata": {},
   "outputs": [
    {
     "data": {
      "text/plain": [
       "'file:///C:/Users/shree/projects/ML_Monitoring/Feature_importance_weighted_drift_detection_and_automated_retraining/mlruns/2/3f62247c967f4572828f1f24d0dddf87/artifacts'"
      ]
     },
     "execution_count": 259,
     "metadata": {},
     "output_type": "execute_result"
    }
   ],
   "source": [
    "expirement_results.artifact_uri.iloc[0]"
   ]
  },
  {
   "cell_type": "code",
   "execution_count": 260,
   "id": "8e9214c9",
   "metadata": {},
   "outputs": [],
   "source": [
    "all_cols = expirement_results.columns\n",
    "drift_detection_cols = all_cols[all_cols.str.endswith('drift_detected')]\n",
    "drift_score_cols = all_cols[all_cols.str.endswith('drift_score')]"
   ]
  },
  {
   "cell_type": "code",
   "execution_count": 261,
   "id": "5d4186c4",
   "metadata": {},
   "outputs": [],
   "source": [
    "for col in drift_detection_cols:\n",
    "    expirement_results[col] = expirement_results[col].replace([None],False).replace('False',False).astype(bool).astype(int)"
   ]
  },
  {
   "cell_type": "code",
   "execution_count": 262,
   "id": "575f515d",
   "metadata": {},
   "outputs": [],
   "source": [
    "for col in drift_score_cols:\n",
    "    expirement_results[col] = expirement_results[col].replace([None],0).astype(float)"
   ]
  },
  {
   "cell_type": "code",
   "execution_count": 263,
   "id": "8c6b8f8f",
   "metadata": {},
   "outputs": [],
   "source": [
    "drift_detected_cols = []\n",
    "for col in drift_detection_cols:\n",
    "    if expirement_results[col].sum() > 0:\n",
    "        drift_detected_cols.append(col)\n"
   ]
  },
  {
   "cell_type": "code",
   "execution_count": 264,
   "id": "77e54ce0",
   "metadata": {},
   "outputs": [
    {
     "data": {
      "text/plain": [
       "['params.warehouse_ID.value_feature_importance_weighted_drift_detected',\n",
       " 'params.is_weekend.value_feature_importance_weighted_drift_detected',\n",
       " 'params.Product_Type.value_feature_importance_weighted_drift_detected']"
      ]
     },
     "execution_count": 264,
     "metadata": {},
     "output_type": "execute_result"
    }
   ],
   "source": [
    "drift_detected_cols"
   ]
  },
  {
   "cell_type": "code",
   "execution_count": 265,
   "id": "c4216a0a",
   "metadata": {},
   "outputs": [],
   "source": [
    "drift_detected_features = pd.Series(drift_detected_cols).map(lambda x:x.split('.')[1]).str.replace('_drift_detected','').to_list()"
   ]
  },
  {
   "cell_type": "code",
   "execution_count": 266,
   "id": "867f8dff",
   "metadata": {},
   "outputs": [],
   "source": [
    "drift_detected_experiment_cols = all_cols[[any([(feature in col) for feature in drift_detected_features]) for col in all_cols.to_list()]]"
   ]
  },
  {
   "cell_type": "code",
   "execution_count": 267,
   "id": "ead71010",
   "metadata": {},
   "outputs": [],
   "source": [
    "drift_detected_experiment_results = expirement_results[drift_detected_experiment_cols]"
   ]
  },
  {
   "cell_type": "code",
   "execution_count": 268,
   "id": "a473c7ec",
   "metadata": {},
   "outputs": [
    {
     "ename": "ValueError",
     "evalue": "Value of 'y' is not the name of a column in 'data_frame'. Expected one of ['params.Product_Type.value_stattest_name', 'params.Product_Type.value_feature_importance_weighted_drift_score', 'params.is_weekend.value_stattest_name', 'params.warehouse_ID.value_drift_score', 'params.is_weekend.value_relative_feature_importance', 'params.warehouse_ID.value_relative_feature_importance', 'params.is_weekend.value_drift_score', 'params.warehouse_ID.value_feature_importance_weighted_drift_score', 'params.is_weekend.value_feature_importance_weighted_drift_score', 'params.Product_Type.value_raw_feature_importance', 'params.Product_Type.value_drift_score', 'params.Product_Type.value_relative_feature_importance', 'params.warehouse_ID.value_feature_importance_weighted_drift_detected', 'params.is_weekend.value_feature_importance_weighted_drift_detected', 'params.warehouse_ID.value_stattest_name', 'params.warehouse_ID.value_raw_feature_importance', 'params.is_weekend.value_raw_feature_importance', 'params.Product_Type.value_feature_importance_weighted_drift_detected'] but received: params.daily_dispatch_count_target_drift_score",
     "output_type": "error",
     "traceback": [
      "\u001b[1;31m---------------------------------------------------------------------------\u001b[0m",
      "\u001b[1;31mValueError\u001b[0m                                Traceback (most recent call last)",
      "\u001b[1;32mc:\\Users\\shree\\projects\\ML_Monitoring\\Feature_importance_weighted_drift_detection_and_automated_retraining\\demand_forecasting_detection_and_handling_of_sudden_drift_druing_covid.ipynb Cell 81'\u001b[0m in \u001b[0;36m<cell line: 1>\u001b[1;34m()\u001b[0m\n\u001b[1;32m----> <a href='vscode-notebook-cell:/c%3A/Users/shree/projects/ML_Monitoring/Feature_importance_weighted_drift_detection_and_automated_retraining/demand_forecasting_detection_and_handling_of_sudden_drift_druing_covid.ipynb#ch0000074?line=0'>1</a>\u001b[0m fig \u001b[39m=\u001b[39m px\u001b[39m.\u001b[39;49mline(drift_detected_experiment_results,  y\u001b[39m=\u001b[39;49m\u001b[39m'\u001b[39;49m\u001b[39mparams.daily_dispatch_count_target_drift_score\u001b[39;49m\u001b[39m'\u001b[39;49m, markers\u001b[39m=\u001b[39;49m\u001b[39mTrue\u001b[39;49;00m)\n\u001b[0;32m      <a href='vscode-notebook-cell:/c%3A/Users/shree/projects/ML_Monitoring/Feature_importance_weighted_drift_detection_and_automated_retraining/demand_forecasting_detection_and_handling_of_sudden_drift_druing_covid.ipynb#ch0000074?line=1'>2</a>\u001b[0m fig\u001b[39m.\u001b[39mshow()\n",
      "File \u001b[1;32md:\\anaconda\\envs\\anaconda_env\\lib\\site-packages\\plotly\\express\\_chart_types.py:264\u001b[0m, in \u001b[0;36mline\u001b[1;34m(data_frame, x, y, line_group, color, line_dash, symbol, hover_name, hover_data, custom_data, text, facet_row, facet_col, facet_col_wrap, facet_row_spacing, facet_col_spacing, error_x, error_x_minus, error_y, error_y_minus, animation_frame, animation_group, category_orders, labels, orientation, color_discrete_sequence, color_discrete_map, line_dash_sequence, line_dash_map, symbol_sequence, symbol_map, markers, log_x, log_y, range_x, range_y, line_shape, render_mode, title, template, width, height)\u001b[0m\n\u001b[0;32m    216\u001b[0m \u001b[39mdef\u001b[39;00m \u001b[39mline\u001b[39m(\n\u001b[0;32m    217\u001b[0m     data_frame\u001b[39m=\u001b[39m\u001b[39mNone\u001b[39;00m,\n\u001b[0;32m    218\u001b[0m     x\u001b[39m=\u001b[39m\u001b[39mNone\u001b[39;00m,\n\u001b[1;32m   (...)\u001b[0m\n\u001b[0;32m    258\u001b[0m     height\u001b[39m=\u001b[39m\u001b[39mNone\u001b[39;00m,\n\u001b[0;32m    259\u001b[0m ) \u001b[39m-\u001b[39m\u001b[39m>\u001b[39m go\u001b[39m.\u001b[39mFigure:\n\u001b[0;32m    260\u001b[0m     \u001b[39m\"\"\"\u001b[39;00m\n\u001b[0;32m    261\u001b[0m \u001b[39m    In a 2D line plot, each row of `data_frame` is represented as vertex of\u001b[39;00m\n\u001b[0;32m    262\u001b[0m \u001b[39m    a polyline mark in 2D space.\u001b[39;00m\n\u001b[0;32m    263\u001b[0m \u001b[39m    \"\"\"\u001b[39;00m\n\u001b[1;32m--> 264\u001b[0m     \u001b[39mreturn\u001b[39;00m make_figure(args\u001b[39m=\u001b[39;49m\u001b[39mlocals\u001b[39;49m(), constructor\u001b[39m=\u001b[39;49mgo\u001b[39m.\u001b[39;49mScatter)\n",
      "File \u001b[1;32md:\\anaconda\\envs\\anaconda_env\\lib\\site-packages\\plotly\\express\\_core.py:1948\u001b[0m, in \u001b[0;36mmake_figure\u001b[1;34m(args, constructor, trace_patch, layout_patch)\u001b[0m\n\u001b[0;32m   1945\u001b[0m layout_patch \u001b[39m=\u001b[39m layout_patch \u001b[39mor\u001b[39;00m {}\n\u001b[0;32m   1946\u001b[0m apply_default_cascade(args)\n\u001b[1;32m-> 1948\u001b[0m args \u001b[39m=\u001b[39m build_dataframe(args, constructor)\n\u001b[0;32m   1949\u001b[0m \u001b[39mif\u001b[39;00m constructor \u001b[39min\u001b[39;00m [go\u001b[39m.\u001b[39mTreemap, go\u001b[39m.\u001b[39mSunburst, go\u001b[39m.\u001b[39mIcicle] \u001b[39mand\u001b[39;00m args[\u001b[39m\"\u001b[39m\u001b[39mpath\u001b[39m\u001b[39m\"\u001b[39m] \u001b[39mis\u001b[39;00m \u001b[39mnot\u001b[39;00m \u001b[39mNone\u001b[39;00m:\n\u001b[0;32m   1950\u001b[0m     args \u001b[39m=\u001b[39m process_dataframe_hierarchy(args)\n",
      "File \u001b[1;32md:\\anaconda\\envs\\anaconda_env\\lib\\site-packages\\plotly\\express\\_core.py:1405\u001b[0m, in \u001b[0;36mbuild_dataframe\u001b[1;34m(args, constructor)\u001b[0m\n\u001b[0;32m   1402\u001b[0m     args[\u001b[39m\"\u001b[39m\u001b[39mcolor\u001b[39m\u001b[39m\"\u001b[39m] \u001b[39m=\u001b[39m \u001b[39mNone\u001b[39;00m\n\u001b[0;32m   1403\u001b[0m \u001b[39m# now that things have been prepped, we do the systematic rewriting of `args`\u001b[39;00m\n\u001b[1;32m-> 1405\u001b[0m df_output, wide_id_vars \u001b[39m=\u001b[39m process_args_into_dataframe(\n\u001b[0;32m   1406\u001b[0m     args, wide_mode, var_name, value_name\n\u001b[0;32m   1407\u001b[0m )\n\u001b[0;32m   1409\u001b[0m \u001b[39m# now that `df_output` exists and `args` contains only references, we complete\u001b[39;00m\n\u001b[0;32m   1410\u001b[0m \u001b[39m# the special-case and wide-mode handling by further rewriting args and/or mutating\u001b[39;00m\n\u001b[0;32m   1411\u001b[0m \u001b[39m# df_output\u001b[39;00m\n\u001b[0;32m   1413\u001b[0m count_name \u001b[39m=\u001b[39m _escape_col_name(df_output, \u001b[39m\"\u001b[39m\u001b[39mcount\u001b[39m\u001b[39m\"\u001b[39m, [var_name, value_name])\n",
      "File \u001b[1;32md:\\anaconda\\envs\\anaconda_env\\lib\\site-packages\\plotly\\express\\_core.py:1207\u001b[0m, in \u001b[0;36mprocess_args_into_dataframe\u001b[1;34m(args, wide_mode, var_name, value_name)\u001b[0m\n\u001b[0;32m   1205\u001b[0m         \u001b[39mif\u001b[39;00m argument \u001b[39m==\u001b[39m \u001b[39m\"\u001b[39m\u001b[39mindex\u001b[39m\u001b[39m\"\u001b[39m:\n\u001b[0;32m   1206\u001b[0m             err_msg \u001b[39m+\u001b[39m\u001b[39m=\u001b[39m \u001b[39m\"\u001b[39m\u001b[39m\\n\u001b[39;00m\u001b[39m To use the index, pass it in directly as `df.index`.\u001b[39m\u001b[39m\"\u001b[39m\n\u001b[1;32m-> 1207\u001b[0m         \u001b[39mraise\u001b[39;00m \u001b[39mValueError\u001b[39;00m(err_msg)\n\u001b[0;32m   1208\u001b[0m \u001b[39melif\u001b[39;00m length \u001b[39mand\u001b[39;00m \u001b[39mlen\u001b[39m(df_input[argument]) \u001b[39m!=\u001b[39m length:\n\u001b[0;32m   1209\u001b[0m     \u001b[39mraise\u001b[39;00m \u001b[39mValueError\u001b[39;00m(\n\u001b[0;32m   1210\u001b[0m         \u001b[39m\"\u001b[39m\u001b[39mAll arguments should have the same length. \u001b[39m\u001b[39m\"\u001b[39m\n\u001b[0;32m   1211\u001b[0m         \u001b[39m\"\u001b[39m\u001b[39mThe length of column argument `df[\u001b[39m\u001b[39m%s\u001b[39;00m\u001b[39m]` is \u001b[39m\u001b[39m%d\u001b[39;00m\u001b[39m, whereas the \u001b[39m\u001b[39m\"\u001b[39m\n\u001b[1;32m   (...)\u001b[0m\n\u001b[0;32m   1218\u001b[0m         )\n\u001b[0;32m   1219\u001b[0m     )\n",
      "\u001b[1;31mValueError\u001b[0m: Value of 'y' is not the name of a column in 'data_frame'. Expected one of ['params.Product_Type.value_stattest_name', 'params.Product_Type.value_feature_importance_weighted_drift_score', 'params.is_weekend.value_stattest_name', 'params.warehouse_ID.value_drift_score', 'params.is_weekend.value_relative_feature_importance', 'params.warehouse_ID.value_relative_feature_importance', 'params.is_weekend.value_drift_score', 'params.warehouse_ID.value_feature_importance_weighted_drift_score', 'params.is_weekend.value_feature_importance_weighted_drift_score', 'params.Product_Type.value_raw_feature_importance', 'params.Product_Type.value_drift_score', 'params.Product_Type.value_relative_feature_importance', 'params.warehouse_ID.value_feature_importance_weighted_drift_detected', 'params.is_weekend.value_feature_importance_weighted_drift_detected', 'params.warehouse_ID.value_stattest_name', 'params.warehouse_ID.value_raw_feature_importance', 'params.is_weekend.value_raw_feature_importance', 'params.Product_Type.value_feature_importance_weighted_drift_detected'] but received: params.daily_dispatch_count_target_drift_score"
     ]
    }
   ],
   "source": [
    "fig = px.line(drift_detected_experiment_results,  y='params.daily_dispatch_count_target_drift_score', markers=True)\n",
    "fig.show()"
   ]
  },
  {
   "cell_type": "code",
   "execution_count": null,
   "id": "4fd2eb80",
   "metadata": {},
   "outputs": [
    {
     "data": {
      "application/vnd.plotly.v1+json": {
       "config": {
        "plotlyServerURL": "https://plot.ly"
       },
       "data": [
        {
         "hovertemplate": "params.week_end_experiment_end_date=%{x}<br>params.Product_Type.value_feature_importance_weighted_drift_detected=%{y}<extra></extra>",
         "legendgroup": "",
         "line": {
          "color": "#636efa",
          "dash": "solid"
         },
         "marker": {
          "symbol": "circle"
         },
         "mode": "lines+markers",
         "name": "",
         "orientation": "v",
         "showlegend": false,
         "type": "scatter",
         "x": [
          "2018-12-30 00:00:00",
          "2018-12-30 00:00:00",
          "2018-12-30 00:00:00",
          "2018-12-30 00:00:00",
          "2019-01-06 00:00:00",
          "2019-01-06 00:00:00",
          "2019-01-06 00:00:00",
          "2019-01-13 00:00:00",
          "2019-01-13 00:00:00",
          "2019-01-13 00:00:00",
          "2019-01-20 00:00:00",
          "2019-01-20 00:00:00",
          "2019-01-20 00:00:00",
          "2019-01-27 00:00:00",
          "2019-01-27 00:00:00",
          "2019-01-27 00:00:00",
          "2019-02-03 00:00:00",
          "2019-02-03 00:00:00",
          "2019-02-03 00:00:00",
          "2019-02-10 00:00:00",
          "2019-02-10 00:00:00",
          "2019-02-10 00:00:00",
          "2019-02-17 00:00:00",
          "2019-02-17 00:00:00",
          "2019-02-17 00:00:00",
          "2019-02-24 00:00:00",
          "2019-02-24 00:00:00",
          "2019-02-24 00:00:00",
          "2019-03-03 00:00:00",
          "2019-03-03 00:00:00",
          "2019-03-03 00:00:00",
          "2019-03-03 00:00:00",
          "2019-03-03 00:00:00",
          "2019-03-03 00:00:00",
          "2019-03-03 00:00:00",
          "2019-03-10 00:00:00",
          "2019-03-10 00:00:00",
          "2019-03-10 00:00:00",
          "2019-03-10 00:00:00",
          "2019-03-17 00:00:00",
          "2019-03-17 00:00:00",
          "2019-03-17 00:00:00",
          "2019-03-17 00:00:00",
          "2019-03-24 00:00:00",
          "2019-03-24 00:00:00",
          "2019-03-24 00:00:00",
          "2019-03-24 00:00:00",
          "2019-03-31 00:00:00",
          "2019-03-31 00:00:00",
          "2019-03-31 00:00:00",
          "2019-03-31 00:00:00",
          "2019-04-07 00:00:00",
          "2019-04-07 00:00:00",
          "2019-04-07 00:00:00",
          "2019-04-07 00:00:00",
          "2019-04-14 00:00:00",
          "2019-04-14 00:00:00",
          "2019-04-14 00:00:00",
          "2019-04-14 00:00:00",
          "2019-04-21 00:00:00",
          "2019-04-21 00:00:00",
          "2019-04-21 00:00:00",
          "2019-04-21 00:00:00",
          "2019-04-28 00:00:00",
          "2019-04-28 00:00:00",
          "2019-04-28 00:00:00",
          "2019-04-28 00:00:00",
          "2019-05-05 00:00:00",
          "2019-05-05 00:00:00",
          "2019-05-05 00:00:00",
          "2019-05-05 00:00:00",
          "2019-05-12 00:00:00",
          "2019-05-12 00:00:00",
          "2019-05-12 00:00:00",
          "2019-05-12 00:00:00",
          "2019-05-19 00:00:00",
          "2019-05-19 00:00:00",
          "2019-05-19 00:00:00",
          "2019-05-19 00:00:00",
          "2019-05-26 00:00:00",
          "2019-05-26 00:00:00",
          "2019-05-26 00:00:00",
          "2019-05-26 00:00:00",
          "2019-06-02 00:00:00",
          "2019-06-02 00:00:00",
          "2019-06-02 00:00:00",
          "2019-06-02 00:00:00",
          "2019-06-09 00:00:00",
          "2019-06-09 00:00:00",
          "2019-06-09 00:00:00",
          "2019-06-09 00:00:00",
          "2019-06-16 00:00:00",
          "2019-06-16 00:00:00",
          "2019-06-16 00:00:00",
          "2019-06-16 00:00:00",
          "2019-06-23 00:00:00",
          "2019-06-23 00:00:00",
          "2019-06-23 00:00:00",
          "2019-06-23 00:00:00",
          "2019-06-30 00:00:00",
          "2019-06-30 00:00:00",
          "2019-06-30 00:00:00",
          "2019-06-30 00:00:00",
          "2019-07-07 00:00:00",
          "2019-07-07 00:00:00",
          "2019-07-07 00:00:00",
          "2019-07-07 00:00:00",
          "2019-07-14 00:00:00",
          "2019-07-14 00:00:00",
          "2019-07-14 00:00:00",
          "2019-07-14 00:00:00",
          "2019-07-21 00:00:00",
          "2019-07-21 00:00:00",
          "2019-07-21 00:00:00",
          "2019-07-21 00:00:00",
          "2019-07-28 00:00:00",
          "2019-07-28 00:00:00",
          "2019-07-28 00:00:00",
          "2019-07-28 00:00:00",
          "2019-08-04 00:00:00",
          "2019-08-04 00:00:00",
          "2019-08-04 00:00:00",
          "2019-08-04 00:00:00",
          "2019-08-11 00:00:00",
          "2019-08-11 00:00:00",
          "2019-08-11 00:00:00",
          "2019-08-11 00:00:00",
          "2019-08-18 00:00:00",
          "2019-08-18 00:00:00",
          "2019-08-18 00:00:00",
          "2019-08-18 00:00:00",
          "2019-08-25 00:00:00",
          "2019-08-25 00:00:00",
          "2019-08-25 00:00:00",
          "2019-08-25 00:00:00",
          "2019-09-01 00:00:00",
          "2019-09-01 00:00:00",
          "2019-09-01 00:00:00",
          "2019-09-01 00:00:00",
          "2019-09-08 00:00:00",
          "2019-09-08 00:00:00",
          "2019-09-08 00:00:00",
          "2019-09-08 00:00:00",
          "2019-09-15 00:00:00",
          "2019-09-15 00:00:00",
          "2019-09-15 00:00:00",
          "2019-09-15 00:00:00",
          "2019-09-22 00:00:00",
          "2019-09-22 00:00:00",
          "2019-09-22 00:00:00",
          "2019-09-22 00:00:00",
          "2019-09-29 00:00:00",
          "2019-09-29 00:00:00",
          "2019-09-29 00:00:00",
          "2019-09-29 00:00:00",
          "2019-10-06 00:00:00",
          "2019-10-06 00:00:00",
          "2019-10-06 00:00:00",
          "2019-10-06 00:00:00",
          "2019-10-13 00:00:00",
          "2019-10-13 00:00:00",
          "2019-10-13 00:00:00",
          "2019-10-13 00:00:00",
          "2019-10-20 00:00:00",
          "2019-10-20 00:00:00",
          "2019-10-20 00:00:00",
          "2019-10-20 00:00:00",
          "2019-10-27 00:00:00",
          "2019-10-27 00:00:00",
          "2019-10-27 00:00:00",
          "2019-10-27 00:00:00",
          "2019-11-03 00:00:00",
          "2019-11-03 00:00:00",
          "2019-11-03 00:00:00",
          "2019-11-03 00:00:00",
          "2019-11-10 00:00:00",
          "2019-11-10 00:00:00",
          "2019-11-10 00:00:00",
          "2019-11-10 00:00:00",
          "2019-11-17 00:00:00",
          "2019-11-17 00:00:00",
          "2019-11-17 00:00:00",
          "2019-11-17 00:00:00",
          "2019-11-24 00:00:00",
          "2019-11-24 00:00:00",
          "2019-11-24 00:00:00",
          "2019-11-24 00:00:00",
          "2019-12-01 00:00:00",
          "2019-12-01 00:00:00",
          "2019-12-01 00:00:00",
          "2019-12-01 00:00:00",
          "2019-12-08 00:00:00",
          "2019-12-08 00:00:00",
          "2019-12-08 00:00:00",
          "2019-12-08 00:00:00",
          "2019-12-15 00:00:00",
          "2019-12-15 00:00:00",
          "2019-12-15 00:00:00",
          "2019-12-15 00:00:00",
          "2019-12-22 00:00:00",
          "2019-12-22 00:00:00",
          "2019-12-22 00:00:00",
          "2019-12-22 00:00:00",
          "2019-12-29 00:00:00",
          "2019-12-29 00:00:00",
          "2019-12-29 00:00:00",
          "2019-12-29 00:00:00",
          "2020-01-05 00:00:00",
          "2020-01-05 00:00:00",
          "2020-01-05 00:00:00",
          "2020-01-05 00:00:00",
          "2020-01-12 00:00:00",
          "2020-01-12 00:00:00",
          "2020-01-12 00:00:00",
          "2020-01-12 00:00:00",
          "2020-01-19 00:00:00",
          "2020-01-19 00:00:00",
          "2020-01-19 00:00:00",
          "2020-01-19 00:00:00",
          "2020-01-26 00:00:00",
          "2020-01-26 00:00:00",
          "2020-01-26 00:00:00",
          "2020-01-26 00:00:00",
          "2020-02-02 00:00:00",
          "2020-02-02 00:00:00",
          "2020-02-02 00:00:00",
          "2020-02-02 00:00:00",
          "2020-02-09 00:00:00",
          "2020-02-09 00:00:00",
          "2020-02-09 00:00:00",
          "2020-02-09 00:00:00",
          "2020-02-16 00:00:00",
          "2020-02-16 00:00:00",
          "2020-02-16 00:00:00",
          "2020-02-16 00:00:00",
          "2020-02-23 00:00:00",
          "2020-02-23 00:00:00",
          "2020-02-23 00:00:00",
          "2020-02-23 00:00:00",
          "2020-03-01 00:00:00",
          "2020-03-01 00:00:00",
          "2020-03-01 00:00:00",
          "2020-03-01 00:00:00",
          "2020-03-08 00:00:00",
          "2020-03-08 00:00:00",
          "2020-03-08 00:00:00",
          "2020-03-08 00:00:00",
          "2020-03-15 00:00:00",
          "2020-03-15 00:00:00",
          "2020-03-15 00:00:00",
          "2020-03-15 00:00:00",
          "2020-03-22 00:00:00",
          "2020-03-22 00:00:00",
          "2020-03-22 00:00:00",
          "2020-03-22 00:00:00",
          "2020-03-29 00:00:00",
          "2020-03-29 00:00:00",
          "2020-03-29 00:00:00",
          "2020-03-29 00:00:00",
          "2020-04-05 00:00:00",
          "2020-04-05 00:00:00",
          "2020-04-05 00:00:00",
          "2020-04-05 00:00:00",
          "2020-04-12 00:00:00",
          "2020-04-12 00:00:00",
          "2020-04-12 00:00:00",
          "2020-04-12 00:00:00",
          "2020-04-19 00:00:00",
          "2020-04-19 00:00:00",
          "2020-04-19 00:00:00",
          "2020-04-19 00:00:00",
          "2020-04-26 00:00:00",
          "2020-04-26 00:00:00",
          "2020-04-26 00:00:00",
          "2020-04-26 00:00:00",
          "2020-05-03 00:00:00",
          "2020-05-03 00:00:00",
          "2020-05-03 00:00:00",
          "2020-05-03 00:00:00",
          "2020-05-10 00:00:00",
          "2020-05-10 00:00:00",
          "2020-05-10 00:00:00",
          "2020-05-10 00:00:00",
          "2020-05-17 00:00:00",
          "2020-05-17 00:00:00",
          "2020-05-17 00:00:00",
          "2020-05-17 00:00:00",
          "2020-05-24 00:00:00",
          "2020-05-24 00:00:00",
          "2020-05-24 00:00:00",
          "2020-05-24 00:00:00",
          "2020-05-31 00:00:00",
          "2020-05-31 00:00:00",
          "2020-05-31 00:00:00",
          "2020-05-31 00:00:00",
          "2020-06-07 00:00:00",
          "2020-06-07 00:00:00",
          "2020-06-07 00:00:00",
          "2020-06-07 00:00:00",
          "2020-06-14 00:00:00",
          "2020-06-14 00:00:00",
          "2020-06-14 00:00:00",
          "2020-06-14 00:00:00",
          "2020-06-21 00:00:00",
          "2020-06-21 00:00:00",
          "2020-06-21 00:00:00",
          "2020-06-21 00:00:00",
          "2020-06-28 00:00:00",
          "2020-06-28 00:00:00",
          "2020-06-28 00:00:00",
          "2020-06-28 00:00:00",
          "2020-07-05 00:00:00",
          "2020-07-05 00:00:00",
          "2020-07-05 00:00:00",
          "2020-07-05 00:00:00",
          "2020-07-12 00:00:00",
          "2020-07-12 00:00:00",
          "2020-07-12 00:00:00",
          "2020-07-12 00:00:00",
          "2020-07-19 00:00:00",
          "2020-07-19 00:00:00",
          "2020-07-19 00:00:00",
          "2020-07-19 00:00:00",
          "2020-07-26 00:00:00",
          "2020-07-26 00:00:00",
          "2020-07-26 00:00:00",
          "2020-07-26 00:00:00",
          "2020-08-02 00:00:00",
          "2020-08-02 00:00:00",
          "2020-08-02 00:00:00",
          "2020-08-02 00:00:00",
          "2020-08-09 00:00:00",
          "2020-08-09 00:00:00",
          "2020-08-09 00:00:00",
          "2020-08-09 00:00:00",
          "2020-08-16 00:00:00",
          "2020-08-16 00:00:00",
          "2020-08-16 00:00:00",
          "2020-08-16 00:00:00",
          "2020-08-23 00:00:00",
          "2020-08-23 00:00:00",
          "2020-08-23 00:00:00",
          "2020-08-23 00:00:00",
          "2020-08-30 00:00:00",
          "2020-08-30 00:00:00",
          "2020-08-30 00:00:00",
          "2020-08-30 00:00:00",
          "2020-09-06 00:00:00",
          "2020-09-06 00:00:00",
          "2020-09-06 00:00:00",
          "2020-09-06 00:00:00",
          "2020-09-13 00:00:00",
          "2020-09-13 00:00:00",
          "2020-09-13 00:00:00",
          "2020-09-13 00:00:00",
          "2020-09-20 00:00:00",
          "2020-09-20 00:00:00",
          "2020-09-20 00:00:00",
          "2020-09-20 00:00:00",
          "2020-09-27 00:00:00",
          "2020-09-27 00:00:00",
          "2020-09-27 00:00:00",
          "2020-09-27 00:00:00",
          "2020-10-04 00:00:00",
          "2020-10-04 00:00:00",
          "2020-10-04 00:00:00",
          "2020-10-04 00:00:00",
          "2020-10-11 00:00:00",
          "2020-10-11 00:00:00",
          "2020-10-11 00:00:00",
          "2020-10-11 00:00:00",
          "2020-10-18 00:00:00",
          "2020-10-18 00:00:00",
          "2020-10-18 00:00:00",
          "2020-10-18 00:00:00",
          "2020-10-25 00:00:00",
          "2020-10-25 00:00:00",
          "2020-10-25 00:00:00",
          "2020-10-25 00:00:00",
          "2020-11-01 00:00:00",
          "2020-11-01 00:00:00",
          "2020-11-01 00:00:00",
          "2020-11-01 00:00:00",
          "2020-11-08 00:00:00",
          "2020-11-08 00:00:00",
          "2020-11-08 00:00:00",
          "2020-11-08 00:00:00",
          "2020-11-15 00:00:00",
          "2020-11-15 00:00:00",
          "2020-11-15 00:00:00",
          "2020-11-15 00:00:00"
         ],
         "xaxis": "x",
         "y": [
          1,
          1,
          0,
          1,
          1,
          1,
          1,
          1,
          1,
          1,
          1,
          1,
          1,
          1,
          1,
          1,
          1,
          1,
          1,
          1,
          1,
          1,
          1,
          1,
          1,
          1,
          1,
          1,
          1,
          1,
          1,
          1,
          1,
          1,
          1,
          1,
          1,
          1,
          1,
          1,
          1,
          1,
          1,
          1,
          1,
          1,
          1,
          1,
          1,
          1,
          1,
          1,
          1,
          1,
          1,
          1,
          1,
          1,
          1,
          1,
          1,
          1,
          1,
          1,
          1,
          1,
          1,
          1,
          1,
          1,
          1,
          1,
          1,
          1,
          1,
          1,
          1,
          1,
          1,
          1,
          1,
          1,
          1,
          1,
          1,
          1,
          1,
          1,
          1,
          1,
          1,
          1,
          1,
          1,
          1,
          1,
          1,
          1,
          1,
          1,
          1,
          1,
          1,
          1,
          1,
          1,
          1,
          1,
          1,
          1,
          1,
          1,
          1,
          1,
          1,
          1,
          1,
          1,
          1,
          1,
          1,
          1,
          1,
          1,
          1,
          1,
          1,
          1,
          1,
          1,
          1,
          1,
          1,
          1,
          1,
          1,
          1,
          1,
          1,
          1,
          1,
          1,
          1,
          1,
          1,
          1,
          1,
          1,
          1,
          1,
          1,
          1,
          1,
          1,
          1,
          1,
          1,
          1,
          1,
          1,
          1,
          1,
          1,
          1,
          1,
          1,
          1,
          1,
          1,
          1,
          1,
          1,
          1,
          1,
          1,
          1,
          1,
          1,
          1,
          1,
          1,
          1,
          1,
          1,
          1,
          1,
          1,
          1,
          1,
          1,
          1,
          1,
          1,
          1,
          1,
          1,
          1,
          1,
          1,
          1,
          1,
          1,
          1,
          1,
          1,
          1,
          1,
          1,
          1,
          1,
          1,
          1,
          1,
          1,
          1,
          1,
          1,
          1,
          1,
          1,
          1,
          1,
          1,
          1,
          1,
          1,
          1,
          1,
          1,
          1,
          1,
          1,
          1,
          1,
          1,
          1,
          1,
          1,
          1,
          1,
          1,
          1,
          1,
          1,
          1,
          1,
          1,
          1,
          1,
          1,
          1,
          1,
          1,
          1,
          1,
          1,
          1,
          1,
          1,
          1,
          1,
          1,
          1,
          1,
          1,
          1,
          1,
          1,
          1,
          1,
          1,
          1,
          1,
          1,
          1,
          1,
          1,
          1,
          1,
          1,
          1,
          1,
          1,
          1,
          1,
          1,
          1,
          1,
          1,
          1,
          1,
          1,
          1,
          1,
          1,
          1,
          1,
          1,
          1,
          1,
          1,
          1,
          1,
          1,
          1,
          1,
          1,
          1,
          1,
          1,
          1,
          1,
          1,
          1,
          1,
          1,
          1,
          1,
          1,
          1,
          1,
          1,
          1,
          1,
          1,
          1,
          1,
          1,
          1,
          1,
          1,
          1,
          1,
          1,
          1,
          1,
          1,
          1,
          1,
          1,
          1,
          1,
          1,
          1,
          1,
          1,
          1,
          1,
          1,
          1,
          1,
          1,
          1,
          1,
          1,
          1,
          1,
          1,
          1,
          1,
          1,
          1,
          1,
          1,
          1,
          1,
          1,
          1,
          1,
          1,
          1,
          1,
          1,
          1,
          1,
          1,
          1,
          1,
          1,
          1,
          1,
          1,
          1,
          1,
          1,
          1,
          1,
          1,
          1,
          1,
          1
         ],
         "yaxis": "y"
        }
       ],
       "layout": {
        "legend": {
         "tracegroupgap": 0
        },
        "margin": {
         "t": 60
        },
        "template": {
         "data": {
          "bar": [
           {
            "error_x": {
             "color": "#2a3f5f"
            },
            "error_y": {
             "color": "#2a3f5f"
            },
            "marker": {
             "line": {
              "color": "#E5ECF6",
              "width": 0.5
             },
             "pattern": {
              "fillmode": "overlay",
              "size": 10,
              "solidity": 0.2
             }
            },
            "type": "bar"
           }
          ],
          "barpolar": [
           {
            "marker": {
             "line": {
              "color": "#E5ECF6",
              "width": 0.5
             },
             "pattern": {
              "fillmode": "overlay",
              "size": 10,
              "solidity": 0.2
             }
            },
            "type": "barpolar"
           }
          ],
          "carpet": [
           {
            "aaxis": {
             "endlinecolor": "#2a3f5f",
             "gridcolor": "white",
             "linecolor": "white",
             "minorgridcolor": "white",
             "startlinecolor": "#2a3f5f"
            },
            "baxis": {
             "endlinecolor": "#2a3f5f",
             "gridcolor": "white",
             "linecolor": "white",
             "minorgridcolor": "white",
             "startlinecolor": "#2a3f5f"
            },
            "type": "carpet"
           }
          ],
          "choropleth": [
           {
            "colorbar": {
             "outlinewidth": 0,
             "ticks": ""
            },
            "type": "choropleth"
           }
          ],
          "contour": [
           {
            "colorbar": {
             "outlinewidth": 0,
             "ticks": ""
            },
            "colorscale": [
             [
              0,
              "#0d0887"
             ],
             [
              0.1111111111111111,
              "#46039f"
             ],
             [
              0.2222222222222222,
              "#7201a8"
             ],
             [
              0.3333333333333333,
              "#9c179e"
             ],
             [
              0.4444444444444444,
              "#bd3786"
             ],
             [
              0.5555555555555556,
              "#d8576b"
             ],
             [
              0.6666666666666666,
              "#ed7953"
             ],
             [
              0.7777777777777778,
              "#fb9f3a"
             ],
             [
              0.8888888888888888,
              "#fdca26"
             ],
             [
              1,
              "#f0f921"
             ]
            ],
            "type": "contour"
           }
          ],
          "contourcarpet": [
           {
            "colorbar": {
             "outlinewidth": 0,
             "ticks": ""
            },
            "type": "contourcarpet"
           }
          ],
          "heatmap": [
           {
            "colorbar": {
             "outlinewidth": 0,
             "ticks": ""
            },
            "colorscale": [
             [
              0,
              "#0d0887"
             ],
             [
              0.1111111111111111,
              "#46039f"
             ],
             [
              0.2222222222222222,
              "#7201a8"
             ],
             [
              0.3333333333333333,
              "#9c179e"
             ],
             [
              0.4444444444444444,
              "#bd3786"
             ],
             [
              0.5555555555555556,
              "#d8576b"
             ],
             [
              0.6666666666666666,
              "#ed7953"
             ],
             [
              0.7777777777777778,
              "#fb9f3a"
             ],
             [
              0.8888888888888888,
              "#fdca26"
             ],
             [
              1,
              "#f0f921"
             ]
            ],
            "type": "heatmap"
           }
          ],
          "heatmapgl": [
           {
            "colorbar": {
             "outlinewidth": 0,
             "ticks": ""
            },
            "colorscale": [
             [
              0,
              "#0d0887"
             ],
             [
              0.1111111111111111,
              "#46039f"
             ],
             [
              0.2222222222222222,
              "#7201a8"
             ],
             [
              0.3333333333333333,
              "#9c179e"
             ],
             [
              0.4444444444444444,
              "#bd3786"
             ],
             [
              0.5555555555555556,
              "#d8576b"
             ],
             [
              0.6666666666666666,
              "#ed7953"
             ],
             [
              0.7777777777777778,
              "#fb9f3a"
             ],
             [
              0.8888888888888888,
              "#fdca26"
             ],
             [
              1,
              "#f0f921"
             ]
            ],
            "type": "heatmapgl"
           }
          ],
          "histogram": [
           {
            "marker": {
             "pattern": {
              "fillmode": "overlay",
              "size": 10,
              "solidity": 0.2
             }
            },
            "type": "histogram"
           }
          ],
          "histogram2d": [
           {
            "colorbar": {
             "outlinewidth": 0,
             "ticks": ""
            },
            "colorscale": [
             [
              0,
              "#0d0887"
             ],
             [
              0.1111111111111111,
              "#46039f"
             ],
             [
              0.2222222222222222,
              "#7201a8"
             ],
             [
              0.3333333333333333,
              "#9c179e"
             ],
             [
              0.4444444444444444,
              "#bd3786"
             ],
             [
              0.5555555555555556,
              "#d8576b"
             ],
             [
              0.6666666666666666,
              "#ed7953"
             ],
             [
              0.7777777777777778,
              "#fb9f3a"
             ],
             [
              0.8888888888888888,
              "#fdca26"
             ],
             [
              1,
              "#f0f921"
             ]
            ],
            "type": "histogram2d"
           }
          ],
          "histogram2dcontour": [
           {
            "colorbar": {
             "outlinewidth": 0,
             "ticks": ""
            },
            "colorscale": [
             [
              0,
              "#0d0887"
             ],
             [
              0.1111111111111111,
              "#46039f"
             ],
             [
              0.2222222222222222,
              "#7201a8"
             ],
             [
              0.3333333333333333,
              "#9c179e"
             ],
             [
              0.4444444444444444,
              "#bd3786"
             ],
             [
              0.5555555555555556,
              "#d8576b"
             ],
             [
              0.6666666666666666,
              "#ed7953"
             ],
             [
              0.7777777777777778,
              "#fb9f3a"
             ],
             [
              0.8888888888888888,
              "#fdca26"
             ],
             [
              1,
              "#f0f921"
             ]
            ],
            "type": "histogram2dcontour"
           }
          ],
          "mesh3d": [
           {
            "colorbar": {
             "outlinewidth": 0,
             "ticks": ""
            },
            "type": "mesh3d"
           }
          ],
          "parcoords": [
           {
            "line": {
             "colorbar": {
              "outlinewidth": 0,
              "ticks": ""
             }
            },
            "type": "parcoords"
           }
          ],
          "pie": [
           {
            "automargin": true,
            "type": "pie"
           }
          ],
          "scatter": [
           {
            "fillpattern": {
             "fillmode": "overlay",
             "size": 10,
             "solidity": 0.2
            },
            "type": "scatter"
           }
          ],
          "scatter3d": [
           {
            "line": {
             "colorbar": {
              "outlinewidth": 0,
              "ticks": ""
             }
            },
            "marker": {
             "colorbar": {
              "outlinewidth": 0,
              "ticks": ""
             }
            },
            "type": "scatter3d"
           }
          ],
          "scattercarpet": [
           {
            "marker": {
             "colorbar": {
              "outlinewidth": 0,
              "ticks": ""
             }
            },
            "type": "scattercarpet"
           }
          ],
          "scattergeo": [
           {
            "marker": {
             "colorbar": {
              "outlinewidth": 0,
              "ticks": ""
             }
            },
            "type": "scattergeo"
           }
          ],
          "scattergl": [
           {
            "marker": {
             "colorbar": {
              "outlinewidth": 0,
              "ticks": ""
             }
            },
            "type": "scattergl"
           }
          ],
          "scattermapbox": [
           {
            "marker": {
             "colorbar": {
              "outlinewidth": 0,
              "ticks": ""
             }
            },
            "type": "scattermapbox"
           }
          ],
          "scatterpolar": [
           {
            "marker": {
             "colorbar": {
              "outlinewidth": 0,
              "ticks": ""
             }
            },
            "type": "scatterpolar"
           }
          ],
          "scatterpolargl": [
           {
            "marker": {
             "colorbar": {
              "outlinewidth": 0,
              "ticks": ""
             }
            },
            "type": "scatterpolargl"
           }
          ],
          "scatterternary": [
           {
            "marker": {
             "colorbar": {
              "outlinewidth": 0,
              "ticks": ""
             }
            },
            "type": "scatterternary"
           }
          ],
          "surface": [
           {
            "colorbar": {
             "outlinewidth": 0,
             "ticks": ""
            },
            "colorscale": [
             [
              0,
              "#0d0887"
             ],
             [
              0.1111111111111111,
              "#46039f"
             ],
             [
              0.2222222222222222,
              "#7201a8"
             ],
             [
              0.3333333333333333,
              "#9c179e"
             ],
             [
              0.4444444444444444,
              "#bd3786"
             ],
             [
              0.5555555555555556,
              "#d8576b"
             ],
             [
              0.6666666666666666,
              "#ed7953"
             ],
             [
              0.7777777777777778,
              "#fb9f3a"
             ],
             [
              0.8888888888888888,
              "#fdca26"
             ],
             [
              1,
              "#f0f921"
             ]
            ],
            "type": "surface"
           }
          ],
          "table": [
           {
            "cells": {
             "fill": {
              "color": "#EBF0F8"
             },
             "line": {
              "color": "white"
             }
            },
            "header": {
             "fill": {
              "color": "#C8D4E3"
             },
             "line": {
              "color": "white"
             }
            },
            "type": "table"
           }
          ]
         },
         "layout": {
          "annotationdefaults": {
           "arrowcolor": "#2a3f5f",
           "arrowhead": 0,
           "arrowwidth": 1
          },
          "autotypenumbers": "strict",
          "coloraxis": {
           "colorbar": {
            "outlinewidth": 0,
            "ticks": ""
           }
          },
          "colorscale": {
           "diverging": [
            [
             0,
             "#8e0152"
            ],
            [
             0.1,
             "#c51b7d"
            ],
            [
             0.2,
             "#de77ae"
            ],
            [
             0.3,
             "#f1b6da"
            ],
            [
             0.4,
             "#fde0ef"
            ],
            [
             0.5,
             "#f7f7f7"
            ],
            [
             0.6,
             "#e6f5d0"
            ],
            [
             0.7,
             "#b8e186"
            ],
            [
             0.8,
             "#7fbc41"
            ],
            [
             0.9,
             "#4d9221"
            ],
            [
             1,
             "#276419"
            ]
           ],
           "sequential": [
            [
             0,
             "#0d0887"
            ],
            [
             0.1111111111111111,
             "#46039f"
            ],
            [
             0.2222222222222222,
             "#7201a8"
            ],
            [
             0.3333333333333333,
             "#9c179e"
            ],
            [
             0.4444444444444444,
             "#bd3786"
            ],
            [
             0.5555555555555556,
             "#d8576b"
            ],
            [
             0.6666666666666666,
             "#ed7953"
            ],
            [
             0.7777777777777778,
             "#fb9f3a"
            ],
            [
             0.8888888888888888,
             "#fdca26"
            ],
            [
             1,
             "#f0f921"
            ]
           ],
           "sequentialminus": [
            [
             0,
             "#0d0887"
            ],
            [
             0.1111111111111111,
             "#46039f"
            ],
            [
             0.2222222222222222,
             "#7201a8"
            ],
            [
             0.3333333333333333,
             "#9c179e"
            ],
            [
             0.4444444444444444,
             "#bd3786"
            ],
            [
             0.5555555555555556,
             "#d8576b"
            ],
            [
             0.6666666666666666,
             "#ed7953"
            ],
            [
             0.7777777777777778,
             "#fb9f3a"
            ],
            [
             0.8888888888888888,
             "#fdca26"
            ],
            [
             1,
             "#f0f921"
            ]
           ]
          },
          "colorway": [
           "#636efa",
           "#EF553B",
           "#00cc96",
           "#ab63fa",
           "#FFA15A",
           "#19d3f3",
           "#FF6692",
           "#B6E880",
           "#FF97FF",
           "#FECB52"
          ],
          "font": {
           "color": "#2a3f5f"
          },
          "geo": {
           "bgcolor": "white",
           "lakecolor": "white",
           "landcolor": "#E5ECF6",
           "showlakes": true,
           "showland": true,
           "subunitcolor": "white"
          },
          "hoverlabel": {
           "align": "left"
          },
          "hovermode": "closest",
          "mapbox": {
           "style": "light"
          },
          "paper_bgcolor": "white",
          "plot_bgcolor": "#E5ECF6",
          "polar": {
           "angularaxis": {
            "gridcolor": "white",
            "linecolor": "white",
            "ticks": ""
           },
           "bgcolor": "#E5ECF6",
           "radialaxis": {
            "gridcolor": "white",
            "linecolor": "white",
            "ticks": ""
           }
          },
          "scene": {
           "xaxis": {
            "backgroundcolor": "#E5ECF6",
            "gridcolor": "white",
            "gridwidth": 2,
            "linecolor": "white",
            "showbackground": true,
            "ticks": "",
            "zerolinecolor": "white"
           },
           "yaxis": {
            "backgroundcolor": "#E5ECF6",
            "gridcolor": "white",
            "gridwidth": 2,
            "linecolor": "white",
            "showbackground": true,
            "ticks": "",
            "zerolinecolor": "white"
           },
           "zaxis": {
            "backgroundcolor": "#E5ECF6",
            "gridcolor": "white",
            "gridwidth": 2,
            "linecolor": "white",
            "showbackground": true,
            "ticks": "",
            "zerolinecolor": "white"
           }
          },
          "shapedefaults": {
           "line": {
            "color": "#2a3f5f"
           }
          },
          "ternary": {
           "aaxis": {
            "gridcolor": "white",
            "linecolor": "white",
            "ticks": ""
           },
           "baxis": {
            "gridcolor": "white",
            "linecolor": "white",
            "ticks": ""
           },
           "bgcolor": "#E5ECF6",
           "caxis": {
            "gridcolor": "white",
            "linecolor": "white",
            "ticks": ""
           }
          },
          "title": {
           "x": 0.05
          },
          "xaxis": {
           "automargin": true,
           "gridcolor": "white",
           "linecolor": "white",
           "ticks": "",
           "title": {
            "standoff": 15
           },
           "zerolinecolor": "white",
           "zerolinewidth": 2
          },
          "yaxis": {
           "automargin": true,
           "gridcolor": "white",
           "linecolor": "white",
           "ticks": "",
           "title": {
            "standoff": 15
           },
           "zerolinecolor": "white",
           "zerolinewidth": 2
          }
         }
        },
        "xaxis": {
         "anchor": "y",
         "domain": [
          0,
          1
         ],
         "title": {
          "text": "params.week_end_experiment_end_date"
         }
        },
        "yaxis": {
         "anchor": "x",
         "domain": [
          0,
          1
         ],
         "title": {
          "text": "params.Product_Type.value_feature_importance_weighted_drift_detected"
         }
        }
       }
      },
      "text/html": [
       "<div>                            <div id=\"1b133f4b-af8e-42a6-9e99-dd8b32a909ff\" class=\"plotly-graph-div\" style=\"height:525px; width:100%;\"></div>            <script type=\"text/javascript\">                require([\"plotly\"], function(Plotly) {                    window.PLOTLYENV=window.PLOTLYENV || {};                                    if (document.getElementById(\"1b133f4b-af8e-42a6-9e99-dd8b32a909ff\")) {                    Plotly.newPlot(                        \"1b133f4b-af8e-42a6-9e99-dd8b32a909ff\",                        [{\"hovertemplate\":\"params.week_end_experiment_end_date=%{x}<br>params.Product_Type.value_feature_importance_weighted_drift_detected=%{y}<extra></extra>\",\"legendgroup\":\"\",\"line\":{\"color\":\"#636efa\",\"dash\":\"solid\"},\"marker\":{\"symbol\":\"circle\"},\"mode\":\"lines+markers\",\"name\":\"\",\"orientation\":\"v\",\"showlegend\":false,\"x\":[\"2018-12-30 00:00:00\",\"2018-12-30 00:00:00\",\"2018-12-30 00:00:00\",\"2018-12-30 00:00:00\",\"2019-01-06 00:00:00\",\"2019-01-06 00:00:00\",\"2019-01-06 00:00:00\",\"2019-01-13 00:00:00\",\"2019-01-13 00:00:00\",\"2019-01-13 00:00:00\",\"2019-01-20 00:00:00\",\"2019-01-20 00:00:00\",\"2019-01-20 00:00:00\",\"2019-01-27 00:00:00\",\"2019-01-27 00:00:00\",\"2019-01-27 00:00:00\",\"2019-02-03 00:00:00\",\"2019-02-03 00:00:00\",\"2019-02-03 00:00:00\",\"2019-02-10 00:00:00\",\"2019-02-10 00:00:00\",\"2019-02-10 00:00:00\",\"2019-02-17 00:00:00\",\"2019-02-17 00:00:00\",\"2019-02-17 00:00:00\",\"2019-02-24 00:00:00\",\"2019-02-24 00:00:00\",\"2019-02-24 00:00:00\",\"2019-03-03 00:00:00\",\"2019-03-03 00:00:00\",\"2019-03-03 00:00:00\",\"2019-03-03 00:00:00\",\"2019-03-03 00:00:00\",\"2019-03-03 00:00:00\",\"2019-03-03 00:00:00\",\"2019-03-10 00:00:00\",\"2019-03-10 00:00:00\",\"2019-03-10 00:00:00\",\"2019-03-10 00:00:00\",\"2019-03-17 00:00:00\",\"2019-03-17 00:00:00\",\"2019-03-17 00:00:00\",\"2019-03-17 00:00:00\",\"2019-03-24 00:00:00\",\"2019-03-24 00:00:00\",\"2019-03-24 00:00:00\",\"2019-03-24 00:00:00\",\"2019-03-31 00:00:00\",\"2019-03-31 00:00:00\",\"2019-03-31 00:00:00\",\"2019-03-31 00:00:00\",\"2019-04-07 00:00:00\",\"2019-04-07 00:00:00\",\"2019-04-07 00:00:00\",\"2019-04-07 00:00:00\",\"2019-04-14 00:00:00\",\"2019-04-14 00:00:00\",\"2019-04-14 00:00:00\",\"2019-04-14 00:00:00\",\"2019-04-21 00:00:00\",\"2019-04-21 00:00:00\",\"2019-04-21 00:00:00\",\"2019-04-21 00:00:00\",\"2019-04-28 00:00:00\",\"2019-04-28 00:00:00\",\"2019-04-28 00:00:00\",\"2019-04-28 00:00:00\",\"2019-05-05 00:00:00\",\"2019-05-05 00:00:00\",\"2019-05-05 00:00:00\",\"2019-05-05 00:00:00\",\"2019-05-12 00:00:00\",\"2019-05-12 00:00:00\",\"2019-05-12 00:00:00\",\"2019-05-12 00:00:00\",\"2019-05-19 00:00:00\",\"2019-05-19 00:00:00\",\"2019-05-19 00:00:00\",\"2019-05-19 00:00:00\",\"2019-05-26 00:00:00\",\"2019-05-26 00:00:00\",\"2019-05-26 00:00:00\",\"2019-05-26 00:00:00\",\"2019-06-02 00:00:00\",\"2019-06-02 00:00:00\",\"2019-06-02 00:00:00\",\"2019-06-02 00:00:00\",\"2019-06-09 00:00:00\",\"2019-06-09 00:00:00\",\"2019-06-09 00:00:00\",\"2019-06-09 00:00:00\",\"2019-06-16 00:00:00\",\"2019-06-16 00:00:00\",\"2019-06-16 00:00:00\",\"2019-06-16 00:00:00\",\"2019-06-23 00:00:00\",\"2019-06-23 00:00:00\",\"2019-06-23 00:00:00\",\"2019-06-23 00:00:00\",\"2019-06-30 00:00:00\",\"2019-06-30 00:00:00\",\"2019-06-30 00:00:00\",\"2019-06-30 00:00:00\",\"2019-07-07 00:00:00\",\"2019-07-07 00:00:00\",\"2019-07-07 00:00:00\",\"2019-07-07 00:00:00\",\"2019-07-14 00:00:00\",\"2019-07-14 00:00:00\",\"2019-07-14 00:00:00\",\"2019-07-14 00:00:00\",\"2019-07-21 00:00:00\",\"2019-07-21 00:00:00\",\"2019-07-21 00:00:00\",\"2019-07-21 00:00:00\",\"2019-07-28 00:00:00\",\"2019-07-28 00:00:00\",\"2019-07-28 00:00:00\",\"2019-07-28 00:00:00\",\"2019-08-04 00:00:00\",\"2019-08-04 00:00:00\",\"2019-08-04 00:00:00\",\"2019-08-04 00:00:00\",\"2019-08-11 00:00:00\",\"2019-08-11 00:00:00\",\"2019-08-11 00:00:00\",\"2019-08-11 00:00:00\",\"2019-08-18 00:00:00\",\"2019-08-18 00:00:00\",\"2019-08-18 00:00:00\",\"2019-08-18 00:00:00\",\"2019-08-25 00:00:00\",\"2019-08-25 00:00:00\",\"2019-08-25 00:00:00\",\"2019-08-25 00:00:00\",\"2019-09-01 00:00:00\",\"2019-09-01 00:00:00\",\"2019-09-01 00:00:00\",\"2019-09-01 00:00:00\",\"2019-09-08 00:00:00\",\"2019-09-08 00:00:00\",\"2019-09-08 00:00:00\",\"2019-09-08 00:00:00\",\"2019-09-15 00:00:00\",\"2019-09-15 00:00:00\",\"2019-09-15 00:00:00\",\"2019-09-15 00:00:00\",\"2019-09-22 00:00:00\",\"2019-09-22 00:00:00\",\"2019-09-22 00:00:00\",\"2019-09-22 00:00:00\",\"2019-09-29 00:00:00\",\"2019-09-29 00:00:00\",\"2019-09-29 00:00:00\",\"2019-09-29 00:00:00\",\"2019-10-06 00:00:00\",\"2019-10-06 00:00:00\",\"2019-10-06 00:00:00\",\"2019-10-06 00:00:00\",\"2019-10-13 00:00:00\",\"2019-10-13 00:00:00\",\"2019-10-13 00:00:00\",\"2019-10-13 00:00:00\",\"2019-10-20 00:00:00\",\"2019-10-20 00:00:00\",\"2019-10-20 00:00:00\",\"2019-10-20 00:00:00\",\"2019-10-27 00:00:00\",\"2019-10-27 00:00:00\",\"2019-10-27 00:00:00\",\"2019-10-27 00:00:00\",\"2019-11-03 00:00:00\",\"2019-11-03 00:00:00\",\"2019-11-03 00:00:00\",\"2019-11-03 00:00:00\",\"2019-11-10 00:00:00\",\"2019-11-10 00:00:00\",\"2019-11-10 00:00:00\",\"2019-11-10 00:00:00\",\"2019-11-17 00:00:00\",\"2019-11-17 00:00:00\",\"2019-11-17 00:00:00\",\"2019-11-17 00:00:00\",\"2019-11-24 00:00:00\",\"2019-11-24 00:00:00\",\"2019-11-24 00:00:00\",\"2019-11-24 00:00:00\",\"2019-12-01 00:00:00\",\"2019-12-01 00:00:00\",\"2019-12-01 00:00:00\",\"2019-12-01 00:00:00\",\"2019-12-08 00:00:00\",\"2019-12-08 00:00:00\",\"2019-12-08 00:00:00\",\"2019-12-08 00:00:00\",\"2019-12-15 00:00:00\",\"2019-12-15 00:00:00\",\"2019-12-15 00:00:00\",\"2019-12-15 00:00:00\",\"2019-12-22 00:00:00\",\"2019-12-22 00:00:00\",\"2019-12-22 00:00:00\",\"2019-12-22 00:00:00\",\"2019-12-29 00:00:00\",\"2019-12-29 00:00:00\",\"2019-12-29 00:00:00\",\"2019-12-29 00:00:00\",\"2020-01-05 00:00:00\",\"2020-01-05 00:00:00\",\"2020-01-05 00:00:00\",\"2020-01-05 00:00:00\",\"2020-01-12 00:00:00\",\"2020-01-12 00:00:00\",\"2020-01-12 00:00:00\",\"2020-01-12 00:00:00\",\"2020-01-19 00:00:00\",\"2020-01-19 00:00:00\",\"2020-01-19 00:00:00\",\"2020-01-19 00:00:00\",\"2020-01-26 00:00:00\",\"2020-01-26 00:00:00\",\"2020-01-26 00:00:00\",\"2020-01-26 00:00:00\",\"2020-02-02 00:00:00\",\"2020-02-02 00:00:00\",\"2020-02-02 00:00:00\",\"2020-02-02 00:00:00\",\"2020-02-09 00:00:00\",\"2020-02-09 00:00:00\",\"2020-02-09 00:00:00\",\"2020-02-09 00:00:00\",\"2020-02-16 00:00:00\",\"2020-02-16 00:00:00\",\"2020-02-16 00:00:00\",\"2020-02-16 00:00:00\",\"2020-02-23 00:00:00\",\"2020-02-23 00:00:00\",\"2020-02-23 00:00:00\",\"2020-02-23 00:00:00\",\"2020-03-01 00:00:00\",\"2020-03-01 00:00:00\",\"2020-03-01 00:00:00\",\"2020-03-01 00:00:00\",\"2020-03-08 00:00:00\",\"2020-03-08 00:00:00\",\"2020-03-08 00:00:00\",\"2020-03-08 00:00:00\",\"2020-03-15 00:00:00\",\"2020-03-15 00:00:00\",\"2020-03-15 00:00:00\",\"2020-03-15 00:00:00\",\"2020-03-22 00:00:00\",\"2020-03-22 00:00:00\",\"2020-03-22 00:00:00\",\"2020-03-22 00:00:00\",\"2020-03-29 00:00:00\",\"2020-03-29 00:00:00\",\"2020-03-29 00:00:00\",\"2020-03-29 00:00:00\",\"2020-04-05 00:00:00\",\"2020-04-05 00:00:00\",\"2020-04-05 00:00:00\",\"2020-04-05 00:00:00\",\"2020-04-12 00:00:00\",\"2020-04-12 00:00:00\",\"2020-04-12 00:00:00\",\"2020-04-12 00:00:00\",\"2020-04-19 00:00:00\",\"2020-04-19 00:00:00\",\"2020-04-19 00:00:00\",\"2020-04-19 00:00:00\",\"2020-04-26 00:00:00\",\"2020-04-26 00:00:00\",\"2020-04-26 00:00:00\",\"2020-04-26 00:00:00\",\"2020-05-03 00:00:00\",\"2020-05-03 00:00:00\",\"2020-05-03 00:00:00\",\"2020-05-03 00:00:00\",\"2020-05-10 00:00:00\",\"2020-05-10 00:00:00\",\"2020-05-10 00:00:00\",\"2020-05-10 00:00:00\",\"2020-05-17 00:00:00\",\"2020-05-17 00:00:00\",\"2020-05-17 00:00:00\",\"2020-05-17 00:00:00\",\"2020-05-24 00:00:00\",\"2020-05-24 00:00:00\",\"2020-05-24 00:00:00\",\"2020-05-24 00:00:00\",\"2020-05-31 00:00:00\",\"2020-05-31 00:00:00\",\"2020-05-31 00:00:00\",\"2020-05-31 00:00:00\",\"2020-06-07 00:00:00\",\"2020-06-07 00:00:00\",\"2020-06-07 00:00:00\",\"2020-06-07 00:00:00\",\"2020-06-14 00:00:00\",\"2020-06-14 00:00:00\",\"2020-06-14 00:00:00\",\"2020-06-14 00:00:00\",\"2020-06-21 00:00:00\",\"2020-06-21 00:00:00\",\"2020-06-21 00:00:00\",\"2020-06-21 00:00:00\",\"2020-06-28 00:00:00\",\"2020-06-28 00:00:00\",\"2020-06-28 00:00:00\",\"2020-06-28 00:00:00\",\"2020-07-05 00:00:00\",\"2020-07-05 00:00:00\",\"2020-07-05 00:00:00\",\"2020-07-05 00:00:00\",\"2020-07-12 00:00:00\",\"2020-07-12 00:00:00\",\"2020-07-12 00:00:00\",\"2020-07-12 00:00:00\",\"2020-07-19 00:00:00\",\"2020-07-19 00:00:00\",\"2020-07-19 00:00:00\",\"2020-07-19 00:00:00\",\"2020-07-26 00:00:00\",\"2020-07-26 00:00:00\",\"2020-07-26 00:00:00\",\"2020-07-26 00:00:00\",\"2020-08-02 00:00:00\",\"2020-08-02 00:00:00\",\"2020-08-02 00:00:00\",\"2020-08-02 00:00:00\",\"2020-08-09 00:00:00\",\"2020-08-09 00:00:00\",\"2020-08-09 00:00:00\",\"2020-08-09 00:00:00\",\"2020-08-16 00:00:00\",\"2020-08-16 00:00:00\",\"2020-08-16 00:00:00\",\"2020-08-16 00:00:00\",\"2020-08-23 00:00:00\",\"2020-08-23 00:00:00\",\"2020-08-23 00:00:00\",\"2020-08-23 00:00:00\",\"2020-08-30 00:00:00\",\"2020-08-30 00:00:00\",\"2020-08-30 00:00:00\",\"2020-08-30 00:00:00\",\"2020-09-06 00:00:00\",\"2020-09-06 00:00:00\",\"2020-09-06 00:00:00\",\"2020-09-06 00:00:00\",\"2020-09-13 00:00:00\",\"2020-09-13 00:00:00\",\"2020-09-13 00:00:00\",\"2020-09-13 00:00:00\",\"2020-09-20 00:00:00\",\"2020-09-20 00:00:00\",\"2020-09-20 00:00:00\",\"2020-09-20 00:00:00\",\"2020-09-27 00:00:00\",\"2020-09-27 00:00:00\",\"2020-09-27 00:00:00\",\"2020-09-27 00:00:00\",\"2020-10-04 00:00:00\",\"2020-10-04 00:00:00\",\"2020-10-04 00:00:00\",\"2020-10-04 00:00:00\",\"2020-10-11 00:00:00\",\"2020-10-11 00:00:00\",\"2020-10-11 00:00:00\",\"2020-10-11 00:00:00\",\"2020-10-18 00:00:00\",\"2020-10-18 00:00:00\",\"2020-10-18 00:00:00\",\"2020-10-18 00:00:00\",\"2020-10-25 00:00:00\",\"2020-10-25 00:00:00\",\"2020-10-25 00:00:00\",\"2020-10-25 00:00:00\",\"2020-11-01 00:00:00\",\"2020-11-01 00:00:00\",\"2020-11-01 00:00:00\",\"2020-11-01 00:00:00\",\"2020-11-08 00:00:00\",\"2020-11-08 00:00:00\",\"2020-11-08 00:00:00\",\"2020-11-08 00:00:00\",\"2020-11-15 00:00:00\",\"2020-11-15 00:00:00\",\"2020-11-15 00:00:00\",\"2020-11-15 00:00:00\"],\"xaxis\":\"x\",\"y\":[1,1,0,1,1,1,1,1,1,1,1,1,1,1,1,1,1,1,1,1,1,1,1,1,1,1,1,1,1,1,1,1,1,1,1,1,1,1,1,1,1,1,1,1,1,1,1,1,1,1,1,1,1,1,1,1,1,1,1,1,1,1,1,1,1,1,1,1,1,1,1,1,1,1,1,1,1,1,1,1,1,1,1,1,1,1,1,1,1,1,1,1,1,1,1,1,1,1,1,1,1,1,1,1,1,1,1,1,1,1,1,1,1,1,1,1,1,1,1,1,1,1,1,1,1,1,1,1,1,1,1,1,1,1,1,1,1,1,1,1,1,1,1,1,1,1,1,1,1,1,1,1,1,1,1,1,1,1,1,1,1,1,1,1,1,1,1,1,1,1,1,1,1,1,1,1,1,1,1,1,1,1,1,1,1,1,1,1,1,1,1,1,1,1,1,1,1,1,1,1,1,1,1,1,1,1,1,1,1,1,1,1,1,1,1,1,1,1,1,1,1,1,1,1,1,1,1,1,1,1,1,1,1,1,1,1,1,1,1,1,1,1,1,1,1,1,1,1,1,1,1,1,1,1,1,1,1,1,1,1,1,1,1,1,1,1,1,1,1,1,1,1,1,1,1,1,1,1,1,1,1,1,1,1,1,1,1,1,1,1,1,1,1,1,1,1,1,1,1,1,1,1,1,1,1,1,1,1,1,1,1,1,1,1,1,1,1,1,1,1,1,1,1,1,1,1,1,1,1,1,1,1,1,1,1,1,1,1,1,1,1,1,1,1,1,1,1,1,1,1,1,1,1,1,1,1,1,1,1,1,1,1,1,1,1,1,1,1,1,1,1,1,1,1,1,1,1,1,1,1,1,1,1,1,1,1,1,1,1,1,1],\"yaxis\":\"y\",\"type\":\"scatter\"}],                        {\"template\":{\"data\":{\"histogram2dcontour\":[{\"type\":\"histogram2dcontour\",\"colorbar\":{\"outlinewidth\":0,\"ticks\":\"\"},\"colorscale\":[[0.0,\"#0d0887\"],[0.1111111111111111,\"#46039f\"],[0.2222222222222222,\"#7201a8\"],[0.3333333333333333,\"#9c179e\"],[0.4444444444444444,\"#bd3786\"],[0.5555555555555556,\"#d8576b\"],[0.6666666666666666,\"#ed7953\"],[0.7777777777777778,\"#fb9f3a\"],[0.8888888888888888,\"#fdca26\"],[1.0,\"#f0f921\"]]}],\"choropleth\":[{\"type\":\"choropleth\",\"colorbar\":{\"outlinewidth\":0,\"ticks\":\"\"}}],\"histogram2d\":[{\"type\":\"histogram2d\",\"colorbar\":{\"outlinewidth\":0,\"ticks\":\"\"},\"colorscale\":[[0.0,\"#0d0887\"],[0.1111111111111111,\"#46039f\"],[0.2222222222222222,\"#7201a8\"],[0.3333333333333333,\"#9c179e\"],[0.4444444444444444,\"#bd3786\"],[0.5555555555555556,\"#d8576b\"],[0.6666666666666666,\"#ed7953\"],[0.7777777777777778,\"#fb9f3a\"],[0.8888888888888888,\"#fdca26\"],[1.0,\"#f0f921\"]]}],\"heatmap\":[{\"type\":\"heatmap\",\"colorbar\":{\"outlinewidth\":0,\"ticks\":\"\"},\"colorscale\":[[0.0,\"#0d0887\"],[0.1111111111111111,\"#46039f\"],[0.2222222222222222,\"#7201a8\"],[0.3333333333333333,\"#9c179e\"],[0.4444444444444444,\"#bd3786\"],[0.5555555555555556,\"#d8576b\"],[0.6666666666666666,\"#ed7953\"],[0.7777777777777778,\"#fb9f3a\"],[0.8888888888888888,\"#fdca26\"],[1.0,\"#f0f921\"]]}],\"heatmapgl\":[{\"type\":\"heatmapgl\",\"colorbar\":{\"outlinewidth\":0,\"ticks\":\"\"},\"colorscale\":[[0.0,\"#0d0887\"],[0.1111111111111111,\"#46039f\"],[0.2222222222222222,\"#7201a8\"],[0.3333333333333333,\"#9c179e\"],[0.4444444444444444,\"#bd3786\"],[0.5555555555555556,\"#d8576b\"],[0.6666666666666666,\"#ed7953\"],[0.7777777777777778,\"#fb9f3a\"],[0.8888888888888888,\"#fdca26\"],[1.0,\"#f0f921\"]]}],\"contourcarpet\":[{\"type\":\"contourcarpet\",\"colorbar\":{\"outlinewidth\":0,\"ticks\":\"\"}}],\"contour\":[{\"type\":\"contour\",\"colorbar\":{\"outlinewidth\":0,\"ticks\":\"\"},\"colorscale\":[[0.0,\"#0d0887\"],[0.1111111111111111,\"#46039f\"],[0.2222222222222222,\"#7201a8\"],[0.3333333333333333,\"#9c179e\"],[0.4444444444444444,\"#bd3786\"],[0.5555555555555556,\"#d8576b\"],[0.6666666666666666,\"#ed7953\"],[0.7777777777777778,\"#fb9f3a\"],[0.8888888888888888,\"#fdca26\"],[1.0,\"#f0f921\"]]}],\"surface\":[{\"type\":\"surface\",\"colorbar\":{\"outlinewidth\":0,\"ticks\":\"\"},\"colorscale\":[[0.0,\"#0d0887\"],[0.1111111111111111,\"#46039f\"],[0.2222222222222222,\"#7201a8\"],[0.3333333333333333,\"#9c179e\"],[0.4444444444444444,\"#bd3786\"],[0.5555555555555556,\"#d8576b\"],[0.6666666666666666,\"#ed7953\"],[0.7777777777777778,\"#fb9f3a\"],[0.8888888888888888,\"#fdca26\"],[1.0,\"#f0f921\"]]}],\"mesh3d\":[{\"type\":\"mesh3d\",\"colorbar\":{\"outlinewidth\":0,\"ticks\":\"\"}}],\"scatter\":[{\"fillpattern\":{\"fillmode\":\"overlay\",\"size\":10,\"solidity\":0.2},\"type\":\"scatter\"}],\"parcoords\":[{\"type\":\"parcoords\",\"line\":{\"colorbar\":{\"outlinewidth\":0,\"ticks\":\"\"}}}],\"scatterpolargl\":[{\"type\":\"scatterpolargl\",\"marker\":{\"colorbar\":{\"outlinewidth\":0,\"ticks\":\"\"}}}],\"bar\":[{\"error_x\":{\"color\":\"#2a3f5f\"},\"error_y\":{\"color\":\"#2a3f5f\"},\"marker\":{\"line\":{\"color\":\"#E5ECF6\",\"width\":0.5},\"pattern\":{\"fillmode\":\"overlay\",\"size\":10,\"solidity\":0.2}},\"type\":\"bar\"}],\"scattergeo\":[{\"type\":\"scattergeo\",\"marker\":{\"colorbar\":{\"outlinewidth\":0,\"ticks\":\"\"}}}],\"scatterpolar\":[{\"type\":\"scatterpolar\",\"marker\":{\"colorbar\":{\"outlinewidth\":0,\"ticks\":\"\"}}}],\"histogram\":[{\"marker\":{\"pattern\":{\"fillmode\":\"overlay\",\"size\":10,\"solidity\":0.2}},\"type\":\"histogram\"}],\"scattergl\":[{\"type\":\"scattergl\",\"marker\":{\"colorbar\":{\"outlinewidth\":0,\"ticks\":\"\"}}}],\"scatter3d\":[{\"type\":\"scatter3d\",\"line\":{\"colorbar\":{\"outlinewidth\":0,\"ticks\":\"\"}},\"marker\":{\"colorbar\":{\"outlinewidth\":0,\"ticks\":\"\"}}}],\"scattermapbox\":[{\"type\":\"scattermapbox\",\"marker\":{\"colorbar\":{\"outlinewidth\":0,\"ticks\":\"\"}}}],\"scatterternary\":[{\"type\":\"scatterternary\",\"marker\":{\"colorbar\":{\"outlinewidth\":0,\"ticks\":\"\"}}}],\"scattercarpet\":[{\"type\":\"scattercarpet\",\"marker\":{\"colorbar\":{\"outlinewidth\":0,\"ticks\":\"\"}}}],\"carpet\":[{\"aaxis\":{\"endlinecolor\":\"#2a3f5f\",\"gridcolor\":\"white\",\"linecolor\":\"white\",\"minorgridcolor\":\"white\",\"startlinecolor\":\"#2a3f5f\"},\"baxis\":{\"endlinecolor\":\"#2a3f5f\",\"gridcolor\":\"white\",\"linecolor\":\"white\",\"minorgridcolor\":\"white\",\"startlinecolor\":\"#2a3f5f\"},\"type\":\"carpet\"}],\"table\":[{\"cells\":{\"fill\":{\"color\":\"#EBF0F8\"},\"line\":{\"color\":\"white\"}},\"header\":{\"fill\":{\"color\":\"#C8D4E3\"},\"line\":{\"color\":\"white\"}},\"type\":\"table\"}],\"barpolar\":[{\"marker\":{\"line\":{\"color\":\"#E5ECF6\",\"width\":0.5},\"pattern\":{\"fillmode\":\"overlay\",\"size\":10,\"solidity\":0.2}},\"type\":\"barpolar\"}],\"pie\":[{\"automargin\":true,\"type\":\"pie\"}]},\"layout\":{\"autotypenumbers\":\"strict\",\"colorway\":[\"#636efa\",\"#EF553B\",\"#00cc96\",\"#ab63fa\",\"#FFA15A\",\"#19d3f3\",\"#FF6692\",\"#B6E880\",\"#FF97FF\",\"#FECB52\"],\"font\":{\"color\":\"#2a3f5f\"},\"hovermode\":\"closest\",\"hoverlabel\":{\"align\":\"left\"},\"paper_bgcolor\":\"white\",\"plot_bgcolor\":\"#E5ECF6\",\"polar\":{\"bgcolor\":\"#E5ECF6\",\"angularaxis\":{\"gridcolor\":\"white\",\"linecolor\":\"white\",\"ticks\":\"\"},\"radialaxis\":{\"gridcolor\":\"white\",\"linecolor\":\"white\",\"ticks\":\"\"}},\"ternary\":{\"bgcolor\":\"#E5ECF6\",\"aaxis\":{\"gridcolor\":\"white\",\"linecolor\":\"white\",\"ticks\":\"\"},\"baxis\":{\"gridcolor\":\"white\",\"linecolor\":\"white\",\"ticks\":\"\"},\"caxis\":{\"gridcolor\":\"white\",\"linecolor\":\"white\",\"ticks\":\"\"}},\"coloraxis\":{\"colorbar\":{\"outlinewidth\":0,\"ticks\":\"\"}},\"colorscale\":{\"sequential\":[[0.0,\"#0d0887\"],[0.1111111111111111,\"#46039f\"],[0.2222222222222222,\"#7201a8\"],[0.3333333333333333,\"#9c179e\"],[0.4444444444444444,\"#bd3786\"],[0.5555555555555556,\"#d8576b\"],[0.6666666666666666,\"#ed7953\"],[0.7777777777777778,\"#fb9f3a\"],[0.8888888888888888,\"#fdca26\"],[1.0,\"#f0f921\"]],\"sequentialminus\":[[0.0,\"#0d0887\"],[0.1111111111111111,\"#46039f\"],[0.2222222222222222,\"#7201a8\"],[0.3333333333333333,\"#9c179e\"],[0.4444444444444444,\"#bd3786\"],[0.5555555555555556,\"#d8576b\"],[0.6666666666666666,\"#ed7953\"],[0.7777777777777778,\"#fb9f3a\"],[0.8888888888888888,\"#fdca26\"],[1.0,\"#f0f921\"]],\"diverging\":[[0,\"#8e0152\"],[0.1,\"#c51b7d\"],[0.2,\"#de77ae\"],[0.3,\"#f1b6da\"],[0.4,\"#fde0ef\"],[0.5,\"#f7f7f7\"],[0.6,\"#e6f5d0\"],[0.7,\"#b8e186\"],[0.8,\"#7fbc41\"],[0.9,\"#4d9221\"],[1,\"#276419\"]]},\"xaxis\":{\"gridcolor\":\"white\",\"linecolor\":\"white\",\"ticks\":\"\",\"title\":{\"standoff\":15},\"zerolinecolor\":\"white\",\"automargin\":true,\"zerolinewidth\":2},\"yaxis\":{\"gridcolor\":\"white\",\"linecolor\":\"white\",\"ticks\":\"\",\"title\":{\"standoff\":15},\"zerolinecolor\":\"white\",\"automargin\":true,\"zerolinewidth\":2},\"scene\":{\"xaxis\":{\"backgroundcolor\":\"#E5ECF6\",\"gridcolor\":\"white\",\"linecolor\":\"white\",\"showbackground\":true,\"ticks\":\"\",\"zerolinecolor\":\"white\",\"gridwidth\":2},\"yaxis\":{\"backgroundcolor\":\"#E5ECF6\",\"gridcolor\":\"white\",\"linecolor\":\"white\",\"showbackground\":true,\"ticks\":\"\",\"zerolinecolor\":\"white\",\"gridwidth\":2},\"zaxis\":{\"backgroundcolor\":\"#E5ECF6\",\"gridcolor\":\"white\",\"linecolor\":\"white\",\"showbackground\":true,\"ticks\":\"\",\"zerolinecolor\":\"white\",\"gridwidth\":2}},\"shapedefaults\":{\"line\":{\"color\":\"#2a3f5f\"}},\"annotationdefaults\":{\"arrowcolor\":\"#2a3f5f\",\"arrowhead\":0,\"arrowwidth\":1},\"geo\":{\"bgcolor\":\"white\",\"landcolor\":\"#E5ECF6\",\"subunitcolor\":\"white\",\"showland\":true,\"showlakes\":true,\"lakecolor\":\"white\"},\"title\":{\"x\":0.05},\"mapbox\":{\"style\":\"light\"}}},\"xaxis\":{\"anchor\":\"y\",\"domain\":[0.0,1.0],\"title\":{\"text\":\"params.week_end_experiment_end_date\"}},\"yaxis\":{\"anchor\":\"x\",\"domain\":[0.0,1.0],\"title\":{\"text\":\"params.Product_Type.value_feature_importance_weighted_drift_detected\"}},\"legend\":{\"tracegroupgap\":0},\"margin\":{\"t\":60}},                        {\"responsive\": true}                    ).then(function(){\n",
       "                            \n",
       "var gd = document.getElementById('1b133f4b-af8e-42a6-9e99-dd8b32a909ff');\n",
       "var x = new MutationObserver(function (mutations, observer) {{\n",
       "        var display = window.getComputedStyle(gd).display;\n",
       "        if (!display || display === 'none') {{\n",
       "            console.log([gd, 'removed!']);\n",
       "            Plotly.purge(gd);\n",
       "            observer.disconnect();\n",
       "        }}\n",
       "}});\n",
       "\n",
       "// Listen for the removal of the full notebook cells\n",
       "var notebookContainer = gd.closest('#notebook-container');\n",
       "if (notebookContainer) {{\n",
       "    x.observe(notebookContainer, {childList: true});\n",
       "}}\n",
       "\n",
       "// Listen for the clearing of the current output cell\n",
       "var outputEl = gd.closest('.output');\n",
       "if (outputEl) {{\n",
       "    x.observe(outputEl, {childList: true});\n",
       "}}\n",
       "\n",
       "                        })                };                });            </script>        </div>"
      ]
     },
     "metadata": {},
     "output_type": "display_data"
    }
   ],
   "source": [
    "fig = px.line(drift_detected_experiment_results,  y='params.Product_Type.value_feature_importance_weighted_drift_detected', markers=True)\n",
    "fig.show()"
   ]
  },
  {
   "cell_type": "code",
   "execution_count": null,
   "id": "73506130",
   "metadata": {},
   "outputs": [
    {
     "data": {
      "application/vnd.plotly.v1+json": {
       "config": {
        "plotlyServerURL": "https://plot.ly"
       },
       "data": [
        {
         "hovertemplate": "params.week_end_experiment_end_date=%{x}<br>params.daily_dispatch_count_drift_detected=%{y}<extra></extra>",
         "legendgroup": "",
         "line": {
          "color": "#636efa",
          "dash": "solid"
         },
         "marker": {
          "symbol": "circle"
         },
         "mode": "lines+markers",
         "name": "",
         "orientation": "v",
         "showlegend": false,
         "type": "scatter",
         "x": [
          "2018-12-30 00:00:00",
          "2018-12-30 00:00:00",
          "2018-12-30 00:00:00",
          "2018-12-30 00:00:00",
          "2019-01-06 00:00:00",
          "2019-01-06 00:00:00",
          "2019-01-06 00:00:00",
          "2019-01-13 00:00:00",
          "2019-01-13 00:00:00",
          "2019-01-13 00:00:00",
          "2019-01-20 00:00:00",
          "2019-01-20 00:00:00",
          "2019-01-20 00:00:00",
          "2019-01-27 00:00:00",
          "2019-01-27 00:00:00",
          "2019-01-27 00:00:00",
          "2019-02-03 00:00:00",
          "2019-02-03 00:00:00",
          "2019-02-03 00:00:00",
          "2019-02-10 00:00:00",
          "2019-02-10 00:00:00",
          "2019-02-10 00:00:00",
          "2019-02-17 00:00:00",
          "2019-02-17 00:00:00",
          "2019-02-17 00:00:00",
          "2019-02-24 00:00:00",
          "2019-02-24 00:00:00",
          "2019-02-24 00:00:00",
          "2019-03-03 00:00:00",
          "2019-03-03 00:00:00",
          "2019-03-03 00:00:00",
          "2019-03-03 00:00:00",
          "2019-03-03 00:00:00",
          "2019-03-03 00:00:00",
          "2019-03-03 00:00:00",
          "2019-03-10 00:00:00",
          "2019-03-10 00:00:00",
          "2019-03-10 00:00:00",
          "2019-03-10 00:00:00",
          "2019-03-17 00:00:00",
          "2019-03-17 00:00:00",
          "2019-03-17 00:00:00",
          "2019-03-17 00:00:00",
          "2019-03-24 00:00:00",
          "2019-03-24 00:00:00",
          "2019-03-24 00:00:00",
          "2019-03-24 00:00:00",
          "2019-03-31 00:00:00",
          "2019-03-31 00:00:00",
          "2019-03-31 00:00:00",
          "2019-03-31 00:00:00",
          "2019-04-07 00:00:00",
          "2019-04-07 00:00:00",
          "2019-04-07 00:00:00",
          "2019-04-07 00:00:00",
          "2019-04-14 00:00:00",
          "2019-04-14 00:00:00",
          "2019-04-14 00:00:00",
          "2019-04-14 00:00:00",
          "2019-04-21 00:00:00",
          "2019-04-21 00:00:00",
          "2019-04-21 00:00:00",
          "2019-04-21 00:00:00",
          "2019-04-28 00:00:00",
          "2019-04-28 00:00:00",
          "2019-04-28 00:00:00",
          "2019-04-28 00:00:00",
          "2019-05-05 00:00:00",
          "2019-05-05 00:00:00",
          "2019-05-05 00:00:00",
          "2019-05-05 00:00:00",
          "2019-05-12 00:00:00",
          "2019-05-12 00:00:00",
          "2019-05-12 00:00:00",
          "2019-05-12 00:00:00",
          "2019-05-19 00:00:00",
          "2019-05-19 00:00:00",
          "2019-05-19 00:00:00",
          "2019-05-19 00:00:00",
          "2019-05-26 00:00:00",
          "2019-05-26 00:00:00",
          "2019-05-26 00:00:00",
          "2019-05-26 00:00:00",
          "2019-06-02 00:00:00",
          "2019-06-02 00:00:00",
          "2019-06-02 00:00:00",
          "2019-06-02 00:00:00",
          "2019-06-09 00:00:00",
          "2019-06-09 00:00:00",
          "2019-06-09 00:00:00",
          "2019-06-09 00:00:00",
          "2019-06-16 00:00:00",
          "2019-06-16 00:00:00",
          "2019-06-16 00:00:00",
          "2019-06-16 00:00:00",
          "2019-06-23 00:00:00",
          "2019-06-23 00:00:00",
          "2019-06-23 00:00:00",
          "2019-06-23 00:00:00",
          "2019-06-30 00:00:00",
          "2019-06-30 00:00:00",
          "2019-06-30 00:00:00",
          "2019-06-30 00:00:00",
          "2019-07-07 00:00:00",
          "2019-07-07 00:00:00",
          "2019-07-07 00:00:00",
          "2019-07-07 00:00:00",
          "2019-07-14 00:00:00",
          "2019-07-14 00:00:00",
          "2019-07-14 00:00:00",
          "2019-07-14 00:00:00",
          "2019-07-21 00:00:00",
          "2019-07-21 00:00:00",
          "2019-07-21 00:00:00",
          "2019-07-21 00:00:00",
          "2019-07-28 00:00:00",
          "2019-07-28 00:00:00",
          "2019-07-28 00:00:00",
          "2019-07-28 00:00:00",
          "2019-08-04 00:00:00",
          "2019-08-04 00:00:00",
          "2019-08-04 00:00:00",
          "2019-08-04 00:00:00",
          "2019-08-11 00:00:00",
          "2019-08-11 00:00:00",
          "2019-08-11 00:00:00",
          "2019-08-11 00:00:00",
          "2019-08-18 00:00:00",
          "2019-08-18 00:00:00",
          "2019-08-18 00:00:00",
          "2019-08-18 00:00:00",
          "2019-08-25 00:00:00",
          "2019-08-25 00:00:00",
          "2019-08-25 00:00:00",
          "2019-08-25 00:00:00",
          "2019-09-01 00:00:00",
          "2019-09-01 00:00:00",
          "2019-09-01 00:00:00",
          "2019-09-01 00:00:00",
          "2019-09-08 00:00:00",
          "2019-09-08 00:00:00",
          "2019-09-08 00:00:00",
          "2019-09-08 00:00:00",
          "2019-09-15 00:00:00",
          "2019-09-15 00:00:00",
          "2019-09-15 00:00:00",
          "2019-09-15 00:00:00",
          "2019-09-22 00:00:00",
          "2019-09-22 00:00:00",
          "2019-09-22 00:00:00",
          "2019-09-22 00:00:00",
          "2019-09-29 00:00:00",
          "2019-09-29 00:00:00",
          "2019-09-29 00:00:00",
          "2019-09-29 00:00:00",
          "2019-10-06 00:00:00",
          "2019-10-06 00:00:00",
          "2019-10-06 00:00:00",
          "2019-10-06 00:00:00",
          "2019-10-13 00:00:00",
          "2019-10-13 00:00:00",
          "2019-10-13 00:00:00",
          "2019-10-13 00:00:00",
          "2019-10-20 00:00:00",
          "2019-10-20 00:00:00",
          "2019-10-20 00:00:00",
          "2019-10-20 00:00:00",
          "2019-10-27 00:00:00",
          "2019-10-27 00:00:00",
          "2019-10-27 00:00:00",
          "2019-10-27 00:00:00",
          "2019-11-03 00:00:00",
          "2019-11-03 00:00:00",
          "2019-11-03 00:00:00",
          "2019-11-03 00:00:00",
          "2019-11-10 00:00:00",
          "2019-11-10 00:00:00",
          "2019-11-10 00:00:00",
          "2019-11-10 00:00:00",
          "2019-11-17 00:00:00",
          "2019-11-17 00:00:00",
          "2019-11-17 00:00:00",
          "2019-11-17 00:00:00",
          "2019-11-24 00:00:00",
          "2019-11-24 00:00:00",
          "2019-11-24 00:00:00",
          "2019-11-24 00:00:00",
          "2019-12-01 00:00:00",
          "2019-12-01 00:00:00",
          "2019-12-01 00:00:00",
          "2019-12-01 00:00:00",
          "2019-12-08 00:00:00",
          "2019-12-08 00:00:00",
          "2019-12-08 00:00:00",
          "2019-12-08 00:00:00",
          "2019-12-15 00:00:00",
          "2019-12-15 00:00:00",
          "2019-12-15 00:00:00",
          "2019-12-15 00:00:00",
          "2019-12-22 00:00:00",
          "2019-12-22 00:00:00",
          "2019-12-22 00:00:00",
          "2019-12-22 00:00:00",
          "2019-12-29 00:00:00",
          "2019-12-29 00:00:00",
          "2019-12-29 00:00:00",
          "2019-12-29 00:00:00",
          "2020-01-05 00:00:00",
          "2020-01-05 00:00:00",
          "2020-01-05 00:00:00",
          "2020-01-05 00:00:00",
          "2020-01-12 00:00:00",
          "2020-01-12 00:00:00",
          "2020-01-12 00:00:00",
          "2020-01-12 00:00:00",
          "2020-01-19 00:00:00",
          "2020-01-19 00:00:00",
          "2020-01-19 00:00:00",
          "2020-01-19 00:00:00",
          "2020-01-26 00:00:00",
          "2020-01-26 00:00:00",
          "2020-01-26 00:00:00",
          "2020-01-26 00:00:00",
          "2020-02-02 00:00:00",
          "2020-02-02 00:00:00",
          "2020-02-02 00:00:00",
          "2020-02-02 00:00:00",
          "2020-02-09 00:00:00",
          "2020-02-09 00:00:00",
          "2020-02-09 00:00:00",
          "2020-02-09 00:00:00",
          "2020-02-16 00:00:00",
          "2020-02-16 00:00:00",
          "2020-02-16 00:00:00",
          "2020-02-16 00:00:00",
          "2020-02-23 00:00:00",
          "2020-02-23 00:00:00",
          "2020-02-23 00:00:00",
          "2020-02-23 00:00:00",
          "2020-03-01 00:00:00",
          "2020-03-01 00:00:00",
          "2020-03-01 00:00:00",
          "2020-03-01 00:00:00",
          "2020-03-08 00:00:00",
          "2020-03-08 00:00:00",
          "2020-03-08 00:00:00",
          "2020-03-08 00:00:00",
          "2020-03-15 00:00:00",
          "2020-03-15 00:00:00",
          "2020-03-15 00:00:00",
          "2020-03-15 00:00:00",
          "2020-03-22 00:00:00",
          "2020-03-22 00:00:00",
          "2020-03-22 00:00:00",
          "2020-03-22 00:00:00",
          "2020-03-29 00:00:00",
          "2020-03-29 00:00:00",
          "2020-03-29 00:00:00",
          "2020-03-29 00:00:00",
          "2020-04-05 00:00:00",
          "2020-04-05 00:00:00",
          "2020-04-05 00:00:00",
          "2020-04-05 00:00:00",
          "2020-04-12 00:00:00",
          "2020-04-12 00:00:00",
          "2020-04-12 00:00:00",
          "2020-04-12 00:00:00",
          "2020-04-19 00:00:00",
          "2020-04-19 00:00:00",
          "2020-04-19 00:00:00",
          "2020-04-19 00:00:00",
          "2020-04-26 00:00:00",
          "2020-04-26 00:00:00",
          "2020-04-26 00:00:00",
          "2020-04-26 00:00:00",
          "2020-05-03 00:00:00",
          "2020-05-03 00:00:00",
          "2020-05-03 00:00:00",
          "2020-05-03 00:00:00",
          "2020-05-10 00:00:00",
          "2020-05-10 00:00:00",
          "2020-05-10 00:00:00",
          "2020-05-10 00:00:00",
          "2020-05-17 00:00:00",
          "2020-05-17 00:00:00",
          "2020-05-17 00:00:00",
          "2020-05-17 00:00:00",
          "2020-05-24 00:00:00",
          "2020-05-24 00:00:00",
          "2020-05-24 00:00:00",
          "2020-05-24 00:00:00",
          "2020-05-31 00:00:00",
          "2020-05-31 00:00:00",
          "2020-05-31 00:00:00",
          "2020-05-31 00:00:00",
          "2020-06-07 00:00:00",
          "2020-06-07 00:00:00",
          "2020-06-07 00:00:00",
          "2020-06-07 00:00:00",
          "2020-06-14 00:00:00",
          "2020-06-14 00:00:00",
          "2020-06-14 00:00:00",
          "2020-06-14 00:00:00",
          "2020-06-21 00:00:00",
          "2020-06-21 00:00:00",
          "2020-06-21 00:00:00",
          "2020-06-21 00:00:00",
          "2020-06-28 00:00:00",
          "2020-06-28 00:00:00",
          "2020-06-28 00:00:00",
          "2020-06-28 00:00:00",
          "2020-07-05 00:00:00",
          "2020-07-05 00:00:00",
          "2020-07-05 00:00:00",
          "2020-07-05 00:00:00",
          "2020-07-12 00:00:00",
          "2020-07-12 00:00:00",
          "2020-07-12 00:00:00",
          "2020-07-12 00:00:00",
          "2020-07-19 00:00:00",
          "2020-07-19 00:00:00",
          "2020-07-19 00:00:00",
          "2020-07-19 00:00:00",
          "2020-07-26 00:00:00",
          "2020-07-26 00:00:00",
          "2020-07-26 00:00:00",
          "2020-07-26 00:00:00",
          "2020-08-02 00:00:00",
          "2020-08-02 00:00:00",
          "2020-08-02 00:00:00",
          "2020-08-02 00:00:00",
          "2020-08-09 00:00:00",
          "2020-08-09 00:00:00",
          "2020-08-09 00:00:00",
          "2020-08-09 00:00:00",
          "2020-08-16 00:00:00",
          "2020-08-16 00:00:00",
          "2020-08-16 00:00:00",
          "2020-08-16 00:00:00",
          "2020-08-23 00:00:00",
          "2020-08-23 00:00:00",
          "2020-08-23 00:00:00",
          "2020-08-23 00:00:00",
          "2020-08-30 00:00:00",
          "2020-08-30 00:00:00",
          "2020-08-30 00:00:00",
          "2020-08-30 00:00:00",
          "2020-09-06 00:00:00",
          "2020-09-06 00:00:00",
          "2020-09-06 00:00:00",
          "2020-09-06 00:00:00",
          "2020-09-13 00:00:00",
          "2020-09-13 00:00:00",
          "2020-09-13 00:00:00",
          "2020-09-13 00:00:00",
          "2020-09-20 00:00:00",
          "2020-09-20 00:00:00",
          "2020-09-20 00:00:00",
          "2020-09-20 00:00:00",
          "2020-09-27 00:00:00",
          "2020-09-27 00:00:00",
          "2020-09-27 00:00:00",
          "2020-09-27 00:00:00",
          "2020-10-04 00:00:00",
          "2020-10-04 00:00:00",
          "2020-10-04 00:00:00",
          "2020-10-04 00:00:00",
          "2020-10-11 00:00:00",
          "2020-10-11 00:00:00",
          "2020-10-11 00:00:00",
          "2020-10-11 00:00:00",
          "2020-10-18 00:00:00",
          "2020-10-18 00:00:00",
          "2020-10-18 00:00:00",
          "2020-10-18 00:00:00",
          "2020-10-25 00:00:00",
          "2020-10-25 00:00:00",
          "2020-10-25 00:00:00",
          "2020-10-25 00:00:00",
          "2020-11-01 00:00:00",
          "2020-11-01 00:00:00",
          "2020-11-01 00:00:00",
          "2020-11-01 00:00:00",
          "2020-11-08 00:00:00",
          "2020-11-08 00:00:00",
          "2020-11-08 00:00:00",
          "2020-11-08 00:00:00",
          "2020-11-15 00:00:00",
          "2020-11-15 00:00:00",
          "2020-11-15 00:00:00",
          "2020-11-15 00:00:00"
         ],
         "xaxis": "x",
         "y": [
          1,
          1,
          1,
          1,
          1,
          1,
          1,
          1,
          1,
          1,
          1,
          1,
          1,
          1,
          1,
          1,
          1,
          1,
          1,
          1,
          1,
          1,
          1,
          1,
          1,
          1,
          1,
          1,
          0,
          0,
          1,
          1,
          1,
          1,
          1,
          1,
          1,
          0,
          0,
          0,
          0,
          1,
          1,
          0,
          0,
          1,
          1,
          0,
          1,
          0,
          1,
          1,
          1,
          0,
          0,
          1,
          0,
          1,
          0,
          0,
          0,
          1,
          1,
          1,
          0,
          1,
          0,
          1,
          1,
          0,
          0,
          0,
          1,
          0,
          1,
          0,
          0,
          1,
          1,
          0,
          1,
          0,
          1,
          1,
          1,
          0,
          0,
          1,
          0,
          0,
          1,
          0,
          0,
          1,
          1,
          1,
          1,
          0,
          0,
          1,
          1,
          0,
          0,
          1,
          0,
          0,
          1,
          1,
          0,
          0,
          1,
          1,
          0,
          0,
          1,
          0,
          1,
          0,
          1,
          1,
          0,
          0,
          1,
          1,
          0,
          0,
          1,
          0,
          0,
          1,
          1,
          0,
          0,
          1,
          1,
          1,
          1,
          0,
          0,
          1,
          0,
          1,
          0,
          1,
          0,
          1,
          0,
          0,
          0,
          1,
          1,
          0,
          0,
          1,
          1,
          1,
          0,
          0,
          1,
          0,
          0,
          1,
          1,
          1,
          0,
          1,
          0,
          1,
          0,
          1,
          0,
          0,
          0,
          1,
          1,
          1,
          0,
          0,
          1,
          1,
          1,
          0,
          0,
          1,
          0,
          1,
          0,
          1,
          0,
          1,
          0,
          1,
          1,
          0,
          0,
          1,
          0,
          1,
          0,
          1,
          0,
          1,
          0,
          1,
          1,
          0,
          0,
          1,
          0,
          0,
          1,
          1,
          0,
          1,
          0,
          0,
          1,
          0,
          1,
          0,
          0,
          1,
          1,
          1,
          0,
          0,
          1,
          1,
          1,
          0,
          0,
          1,
          0,
          0,
          1,
          1,
          0,
          1,
          0,
          1,
          0,
          0,
          1,
          0,
          0,
          1,
          1,
          0,
          1,
          1,
          0,
          1,
          1,
          0,
          0,
          1,
          1,
          0,
          0,
          1,
          1,
          0,
          0,
          0,
          1,
          0,
          1,
          0,
          1,
          0,
          1,
          1,
          0,
          1,
          0,
          0,
          0,
          1,
          1,
          0,
          0,
          1,
          1,
          0,
          0,
          1,
          1,
          0,
          1,
          1,
          0,
          0,
          1,
          1,
          0,
          1,
          1,
          0,
          0,
          0,
          1,
          1,
          0,
          1,
          0,
          1,
          0,
          0,
          1,
          0,
          1,
          1,
          1,
          0,
          0,
          0,
          1,
          0,
          1,
          0,
          0,
          1,
          1,
          0,
          0,
          1,
          1,
          1,
          0,
          1,
          0,
          1,
          0,
          1,
          0,
          0,
          1,
          0,
          1,
          0,
          1,
          0,
          1,
          1,
          1,
          0,
          0,
          0,
          0,
          1,
          1,
          1,
          0,
          0,
          1,
          1,
          0,
          0,
          1,
          0,
          0,
          1,
          1,
          1,
          0,
          0,
          1,
          0,
          1,
          0,
          1,
          1,
          0,
          1,
          0,
          1,
          0,
          0,
          1,
          1,
          0,
          1,
          0,
          1,
          0,
          0,
          1,
          1,
          0,
          1,
          0
         ],
         "yaxis": "y"
        }
       ],
       "layout": {
        "legend": {
         "tracegroupgap": 0
        },
        "margin": {
         "t": 60
        },
        "template": {
         "data": {
          "bar": [
           {
            "error_x": {
             "color": "#2a3f5f"
            },
            "error_y": {
             "color": "#2a3f5f"
            },
            "marker": {
             "line": {
              "color": "#E5ECF6",
              "width": 0.5
             },
             "pattern": {
              "fillmode": "overlay",
              "size": 10,
              "solidity": 0.2
             }
            },
            "type": "bar"
           }
          ],
          "barpolar": [
           {
            "marker": {
             "line": {
              "color": "#E5ECF6",
              "width": 0.5
             },
             "pattern": {
              "fillmode": "overlay",
              "size": 10,
              "solidity": 0.2
             }
            },
            "type": "barpolar"
           }
          ],
          "carpet": [
           {
            "aaxis": {
             "endlinecolor": "#2a3f5f",
             "gridcolor": "white",
             "linecolor": "white",
             "minorgridcolor": "white",
             "startlinecolor": "#2a3f5f"
            },
            "baxis": {
             "endlinecolor": "#2a3f5f",
             "gridcolor": "white",
             "linecolor": "white",
             "minorgridcolor": "white",
             "startlinecolor": "#2a3f5f"
            },
            "type": "carpet"
           }
          ],
          "choropleth": [
           {
            "colorbar": {
             "outlinewidth": 0,
             "ticks": ""
            },
            "type": "choropleth"
           }
          ],
          "contour": [
           {
            "colorbar": {
             "outlinewidth": 0,
             "ticks": ""
            },
            "colorscale": [
             [
              0,
              "#0d0887"
             ],
             [
              0.1111111111111111,
              "#46039f"
             ],
             [
              0.2222222222222222,
              "#7201a8"
             ],
             [
              0.3333333333333333,
              "#9c179e"
             ],
             [
              0.4444444444444444,
              "#bd3786"
             ],
             [
              0.5555555555555556,
              "#d8576b"
             ],
             [
              0.6666666666666666,
              "#ed7953"
             ],
             [
              0.7777777777777778,
              "#fb9f3a"
             ],
             [
              0.8888888888888888,
              "#fdca26"
             ],
             [
              1,
              "#f0f921"
             ]
            ],
            "type": "contour"
           }
          ],
          "contourcarpet": [
           {
            "colorbar": {
             "outlinewidth": 0,
             "ticks": ""
            },
            "type": "contourcarpet"
           }
          ],
          "heatmap": [
           {
            "colorbar": {
             "outlinewidth": 0,
             "ticks": ""
            },
            "colorscale": [
             [
              0,
              "#0d0887"
             ],
             [
              0.1111111111111111,
              "#46039f"
             ],
             [
              0.2222222222222222,
              "#7201a8"
             ],
             [
              0.3333333333333333,
              "#9c179e"
             ],
             [
              0.4444444444444444,
              "#bd3786"
             ],
             [
              0.5555555555555556,
              "#d8576b"
             ],
             [
              0.6666666666666666,
              "#ed7953"
             ],
             [
              0.7777777777777778,
              "#fb9f3a"
             ],
             [
              0.8888888888888888,
              "#fdca26"
             ],
             [
              1,
              "#f0f921"
             ]
            ],
            "type": "heatmap"
           }
          ],
          "heatmapgl": [
           {
            "colorbar": {
             "outlinewidth": 0,
             "ticks": ""
            },
            "colorscale": [
             [
              0,
              "#0d0887"
             ],
             [
              0.1111111111111111,
              "#46039f"
             ],
             [
              0.2222222222222222,
              "#7201a8"
             ],
             [
              0.3333333333333333,
              "#9c179e"
             ],
             [
              0.4444444444444444,
              "#bd3786"
             ],
             [
              0.5555555555555556,
              "#d8576b"
             ],
             [
              0.6666666666666666,
              "#ed7953"
             ],
             [
              0.7777777777777778,
              "#fb9f3a"
             ],
             [
              0.8888888888888888,
              "#fdca26"
             ],
             [
              1,
              "#f0f921"
             ]
            ],
            "type": "heatmapgl"
           }
          ],
          "histogram": [
           {
            "marker": {
             "pattern": {
              "fillmode": "overlay",
              "size": 10,
              "solidity": 0.2
             }
            },
            "type": "histogram"
           }
          ],
          "histogram2d": [
           {
            "colorbar": {
             "outlinewidth": 0,
             "ticks": ""
            },
            "colorscale": [
             [
              0,
              "#0d0887"
             ],
             [
              0.1111111111111111,
              "#46039f"
             ],
             [
              0.2222222222222222,
              "#7201a8"
             ],
             [
              0.3333333333333333,
              "#9c179e"
             ],
             [
              0.4444444444444444,
              "#bd3786"
             ],
             [
              0.5555555555555556,
              "#d8576b"
             ],
             [
              0.6666666666666666,
              "#ed7953"
             ],
             [
              0.7777777777777778,
              "#fb9f3a"
             ],
             [
              0.8888888888888888,
              "#fdca26"
             ],
             [
              1,
              "#f0f921"
             ]
            ],
            "type": "histogram2d"
           }
          ],
          "histogram2dcontour": [
           {
            "colorbar": {
             "outlinewidth": 0,
             "ticks": ""
            },
            "colorscale": [
             [
              0,
              "#0d0887"
             ],
             [
              0.1111111111111111,
              "#46039f"
             ],
             [
              0.2222222222222222,
              "#7201a8"
             ],
             [
              0.3333333333333333,
              "#9c179e"
             ],
             [
              0.4444444444444444,
              "#bd3786"
             ],
             [
              0.5555555555555556,
              "#d8576b"
             ],
             [
              0.6666666666666666,
              "#ed7953"
             ],
             [
              0.7777777777777778,
              "#fb9f3a"
             ],
             [
              0.8888888888888888,
              "#fdca26"
             ],
             [
              1,
              "#f0f921"
             ]
            ],
            "type": "histogram2dcontour"
           }
          ],
          "mesh3d": [
           {
            "colorbar": {
             "outlinewidth": 0,
             "ticks": ""
            },
            "type": "mesh3d"
           }
          ],
          "parcoords": [
           {
            "line": {
             "colorbar": {
              "outlinewidth": 0,
              "ticks": ""
             }
            },
            "type": "parcoords"
           }
          ],
          "pie": [
           {
            "automargin": true,
            "type": "pie"
           }
          ],
          "scatter": [
           {
            "fillpattern": {
             "fillmode": "overlay",
             "size": 10,
             "solidity": 0.2
            },
            "type": "scatter"
           }
          ],
          "scatter3d": [
           {
            "line": {
             "colorbar": {
              "outlinewidth": 0,
              "ticks": ""
             }
            },
            "marker": {
             "colorbar": {
              "outlinewidth": 0,
              "ticks": ""
             }
            },
            "type": "scatter3d"
           }
          ],
          "scattercarpet": [
           {
            "marker": {
             "colorbar": {
              "outlinewidth": 0,
              "ticks": ""
             }
            },
            "type": "scattercarpet"
           }
          ],
          "scattergeo": [
           {
            "marker": {
             "colorbar": {
              "outlinewidth": 0,
              "ticks": ""
             }
            },
            "type": "scattergeo"
           }
          ],
          "scattergl": [
           {
            "marker": {
             "colorbar": {
              "outlinewidth": 0,
              "ticks": ""
             }
            },
            "type": "scattergl"
           }
          ],
          "scattermapbox": [
           {
            "marker": {
             "colorbar": {
              "outlinewidth": 0,
              "ticks": ""
             }
            },
            "type": "scattermapbox"
           }
          ],
          "scatterpolar": [
           {
            "marker": {
             "colorbar": {
              "outlinewidth": 0,
              "ticks": ""
             }
            },
            "type": "scatterpolar"
           }
          ],
          "scatterpolargl": [
           {
            "marker": {
             "colorbar": {
              "outlinewidth": 0,
              "ticks": ""
             }
            },
            "type": "scatterpolargl"
           }
          ],
          "scatterternary": [
           {
            "marker": {
             "colorbar": {
              "outlinewidth": 0,
              "ticks": ""
             }
            },
            "type": "scatterternary"
           }
          ],
          "surface": [
           {
            "colorbar": {
             "outlinewidth": 0,
             "ticks": ""
            },
            "colorscale": [
             [
              0,
              "#0d0887"
             ],
             [
              0.1111111111111111,
              "#46039f"
             ],
             [
              0.2222222222222222,
              "#7201a8"
             ],
             [
              0.3333333333333333,
              "#9c179e"
             ],
             [
              0.4444444444444444,
              "#bd3786"
             ],
             [
              0.5555555555555556,
              "#d8576b"
             ],
             [
              0.6666666666666666,
              "#ed7953"
             ],
             [
              0.7777777777777778,
              "#fb9f3a"
             ],
             [
              0.8888888888888888,
              "#fdca26"
             ],
             [
              1,
              "#f0f921"
             ]
            ],
            "type": "surface"
           }
          ],
          "table": [
           {
            "cells": {
             "fill": {
              "color": "#EBF0F8"
             },
             "line": {
              "color": "white"
             }
            },
            "header": {
             "fill": {
              "color": "#C8D4E3"
             },
             "line": {
              "color": "white"
             }
            },
            "type": "table"
           }
          ]
         },
         "layout": {
          "annotationdefaults": {
           "arrowcolor": "#2a3f5f",
           "arrowhead": 0,
           "arrowwidth": 1
          },
          "autotypenumbers": "strict",
          "coloraxis": {
           "colorbar": {
            "outlinewidth": 0,
            "ticks": ""
           }
          },
          "colorscale": {
           "diverging": [
            [
             0,
             "#8e0152"
            ],
            [
             0.1,
             "#c51b7d"
            ],
            [
             0.2,
             "#de77ae"
            ],
            [
             0.3,
             "#f1b6da"
            ],
            [
             0.4,
             "#fde0ef"
            ],
            [
             0.5,
             "#f7f7f7"
            ],
            [
             0.6,
             "#e6f5d0"
            ],
            [
             0.7,
             "#b8e186"
            ],
            [
             0.8,
             "#7fbc41"
            ],
            [
             0.9,
             "#4d9221"
            ],
            [
             1,
             "#276419"
            ]
           ],
           "sequential": [
            [
             0,
             "#0d0887"
            ],
            [
             0.1111111111111111,
             "#46039f"
            ],
            [
             0.2222222222222222,
             "#7201a8"
            ],
            [
             0.3333333333333333,
             "#9c179e"
            ],
            [
             0.4444444444444444,
             "#bd3786"
            ],
            [
             0.5555555555555556,
             "#d8576b"
            ],
            [
             0.6666666666666666,
             "#ed7953"
            ],
            [
             0.7777777777777778,
             "#fb9f3a"
            ],
            [
             0.8888888888888888,
             "#fdca26"
            ],
            [
             1,
             "#f0f921"
            ]
           ],
           "sequentialminus": [
            [
             0,
             "#0d0887"
            ],
            [
             0.1111111111111111,
             "#46039f"
            ],
            [
             0.2222222222222222,
             "#7201a8"
            ],
            [
             0.3333333333333333,
             "#9c179e"
            ],
            [
             0.4444444444444444,
             "#bd3786"
            ],
            [
             0.5555555555555556,
             "#d8576b"
            ],
            [
             0.6666666666666666,
             "#ed7953"
            ],
            [
             0.7777777777777778,
             "#fb9f3a"
            ],
            [
             0.8888888888888888,
             "#fdca26"
            ],
            [
             1,
             "#f0f921"
            ]
           ]
          },
          "colorway": [
           "#636efa",
           "#EF553B",
           "#00cc96",
           "#ab63fa",
           "#FFA15A",
           "#19d3f3",
           "#FF6692",
           "#B6E880",
           "#FF97FF",
           "#FECB52"
          ],
          "font": {
           "color": "#2a3f5f"
          },
          "geo": {
           "bgcolor": "white",
           "lakecolor": "white",
           "landcolor": "#E5ECF6",
           "showlakes": true,
           "showland": true,
           "subunitcolor": "white"
          },
          "hoverlabel": {
           "align": "left"
          },
          "hovermode": "closest",
          "mapbox": {
           "style": "light"
          },
          "paper_bgcolor": "white",
          "plot_bgcolor": "#E5ECF6",
          "polar": {
           "angularaxis": {
            "gridcolor": "white",
            "linecolor": "white",
            "ticks": ""
           },
           "bgcolor": "#E5ECF6",
           "radialaxis": {
            "gridcolor": "white",
            "linecolor": "white",
            "ticks": ""
           }
          },
          "scene": {
           "xaxis": {
            "backgroundcolor": "#E5ECF6",
            "gridcolor": "white",
            "gridwidth": 2,
            "linecolor": "white",
            "showbackground": true,
            "ticks": "",
            "zerolinecolor": "white"
           },
           "yaxis": {
            "backgroundcolor": "#E5ECF6",
            "gridcolor": "white",
            "gridwidth": 2,
            "linecolor": "white",
            "showbackground": true,
            "ticks": "",
            "zerolinecolor": "white"
           },
           "zaxis": {
            "backgroundcolor": "#E5ECF6",
            "gridcolor": "white",
            "gridwidth": 2,
            "linecolor": "white",
            "showbackground": true,
            "ticks": "",
            "zerolinecolor": "white"
           }
          },
          "shapedefaults": {
           "line": {
            "color": "#2a3f5f"
           }
          },
          "ternary": {
           "aaxis": {
            "gridcolor": "white",
            "linecolor": "white",
            "ticks": ""
           },
           "baxis": {
            "gridcolor": "white",
            "linecolor": "white",
            "ticks": ""
           },
           "bgcolor": "#E5ECF6",
           "caxis": {
            "gridcolor": "white",
            "linecolor": "white",
            "ticks": ""
           }
          },
          "title": {
           "x": 0.05
          },
          "xaxis": {
           "automargin": true,
           "gridcolor": "white",
           "linecolor": "white",
           "ticks": "",
           "title": {
            "standoff": 15
           },
           "zerolinecolor": "white",
           "zerolinewidth": 2
          },
          "yaxis": {
           "automargin": true,
           "gridcolor": "white",
           "linecolor": "white",
           "ticks": "",
           "title": {
            "standoff": 15
           },
           "zerolinecolor": "white",
           "zerolinewidth": 2
          }
         }
        },
        "xaxis": {
         "anchor": "y",
         "domain": [
          0,
          1
         ],
         "title": {
          "text": "params.week_end_experiment_end_date"
         }
        },
        "yaxis": {
         "anchor": "x",
         "domain": [
          0,
          1
         ],
         "title": {
          "text": "params.daily_dispatch_count_drift_detected"
         }
        }
       }
      },
      "text/html": [
       "<div>                            <div id=\"a4e7fd65-a1d5-4156-8592-f09f4eba3ae3\" class=\"plotly-graph-div\" style=\"height:525px; width:100%;\"></div>            <script type=\"text/javascript\">                require([\"plotly\"], function(Plotly) {                    window.PLOTLYENV=window.PLOTLYENV || {};                                    if (document.getElementById(\"a4e7fd65-a1d5-4156-8592-f09f4eba3ae3\")) {                    Plotly.newPlot(                        \"a4e7fd65-a1d5-4156-8592-f09f4eba3ae3\",                        [{\"hovertemplate\":\"params.week_end_experiment_end_date=%{x}<br>params.daily_dispatch_count_drift_detected=%{y}<extra></extra>\",\"legendgroup\":\"\",\"line\":{\"color\":\"#636efa\",\"dash\":\"solid\"},\"marker\":{\"symbol\":\"circle\"},\"mode\":\"lines+markers\",\"name\":\"\",\"orientation\":\"v\",\"showlegend\":false,\"x\":[\"2018-12-30 00:00:00\",\"2018-12-30 00:00:00\",\"2018-12-30 00:00:00\",\"2018-12-30 00:00:00\",\"2019-01-06 00:00:00\",\"2019-01-06 00:00:00\",\"2019-01-06 00:00:00\",\"2019-01-13 00:00:00\",\"2019-01-13 00:00:00\",\"2019-01-13 00:00:00\",\"2019-01-20 00:00:00\",\"2019-01-20 00:00:00\",\"2019-01-20 00:00:00\",\"2019-01-27 00:00:00\",\"2019-01-27 00:00:00\",\"2019-01-27 00:00:00\",\"2019-02-03 00:00:00\",\"2019-02-03 00:00:00\",\"2019-02-03 00:00:00\",\"2019-02-10 00:00:00\",\"2019-02-10 00:00:00\",\"2019-02-10 00:00:00\",\"2019-02-17 00:00:00\",\"2019-02-17 00:00:00\",\"2019-02-17 00:00:00\",\"2019-02-24 00:00:00\",\"2019-02-24 00:00:00\",\"2019-02-24 00:00:00\",\"2019-03-03 00:00:00\",\"2019-03-03 00:00:00\",\"2019-03-03 00:00:00\",\"2019-03-03 00:00:00\",\"2019-03-03 00:00:00\",\"2019-03-03 00:00:00\",\"2019-03-03 00:00:00\",\"2019-03-10 00:00:00\",\"2019-03-10 00:00:00\",\"2019-03-10 00:00:00\",\"2019-03-10 00:00:00\",\"2019-03-17 00:00:00\",\"2019-03-17 00:00:00\",\"2019-03-17 00:00:00\",\"2019-03-17 00:00:00\",\"2019-03-24 00:00:00\",\"2019-03-24 00:00:00\",\"2019-03-24 00:00:00\",\"2019-03-24 00:00:00\",\"2019-03-31 00:00:00\",\"2019-03-31 00:00:00\",\"2019-03-31 00:00:00\",\"2019-03-31 00:00:00\",\"2019-04-07 00:00:00\",\"2019-04-07 00:00:00\",\"2019-04-07 00:00:00\",\"2019-04-07 00:00:00\",\"2019-04-14 00:00:00\",\"2019-04-14 00:00:00\",\"2019-04-14 00:00:00\",\"2019-04-14 00:00:00\",\"2019-04-21 00:00:00\",\"2019-04-21 00:00:00\",\"2019-04-21 00:00:00\",\"2019-04-21 00:00:00\",\"2019-04-28 00:00:00\",\"2019-04-28 00:00:00\",\"2019-04-28 00:00:00\",\"2019-04-28 00:00:00\",\"2019-05-05 00:00:00\",\"2019-05-05 00:00:00\",\"2019-05-05 00:00:00\",\"2019-05-05 00:00:00\",\"2019-05-12 00:00:00\",\"2019-05-12 00:00:00\",\"2019-05-12 00:00:00\",\"2019-05-12 00:00:00\",\"2019-05-19 00:00:00\",\"2019-05-19 00:00:00\",\"2019-05-19 00:00:00\",\"2019-05-19 00:00:00\",\"2019-05-26 00:00:00\",\"2019-05-26 00:00:00\",\"2019-05-26 00:00:00\",\"2019-05-26 00:00:00\",\"2019-06-02 00:00:00\",\"2019-06-02 00:00:00\",\"2019-06-02 00:00:00\",\"2019-06-02 00:00:00\",\"2019-06-09 00:00:00\",\"2019-06-09 00:00:00\",\"2019-06-09 00:00:00\",\"2019-06-09 00:00:00\",\"2019-06-16 00:00:00\",\"2019-06-16 00:00:00\",\"2019-06-16 00:00:00\",\"2019-06-16 00:00:00\",\"2019-06-23 00:00:00\",\"2019-06-23 00:00:00\",\"2019-06-23 00:00:00\",\"2019-06-23 00:00:00\",\"2019-06-30 00:00:00\",\"2019-06-30 00:00:00\",\"2019-06-30 00:00:00\",\"2019-06-30 00:00:00\",\"2019-07-07 00:00:00\",\"2019-07-07 00:00:00\",\"2019-07-07 00:00:00\",\"2019-07-07 00:00:00\",\"2019-07-14 00:00:00\",\"2019-07-14 00:00:00\",\"2019-07-14 00:00:00\",\"2019-07-14 00:00:00\",\"2019-07-21 00:00:00\",\"2019-07-21 00:00:00\",\"2019-07-21 00:00:00\",\"2019-07-21 00:00:00\",\"2019-07-28 00:00:00\",\"2019-07-28 00:00:00\",\"2019-07-28 00:00:00\",\"2019-07-28 00:00:00\",\"2019-08-04 00:00:00\",\"2019-08-04 00:00:00\",\"2019-08-04 00:00:00\",\"2019-08-04 00:00:00\",\"2019-08-11 00:00:00\",\"2019-08-11 00:00:00\",\"2019-08-11 00:00:00\",\"2019-08-11 00:00:00\",\"2019-08-18 00:00:00\",\"2019-08-18 00:00:00\",\"2019-08-18 00:00:00\",\"2019-08-18 00:00:00\",\"2019-08-25 00:00:00\",\"2019-08-25 00:00:00\",\"2019-08-25 00:00:00\",\"2019-08-25 00:00:00\",\"2019-09-01 00:00:00\",\"2019-09-01 00:00:00\",\"2019-09-01 00:00:00\",\"2019-09-01 00:00:00\",\"2019-09-08 00:00:00\",\"2019-09-08 00:00:00\",\"2019-09-08 00:00:00\",\"2019-09-08 00:00:00\",\"2019-09-15 00:00:00\",\"2019-09-15 00:00:00\",\"2019-09-15 00:00:00\",\"2019-09-15 00:00:00\",\"2019-09-22 00:00:00\",\"2019-09-22 00:00:00\",\"2019-09-22 00:00:00\",\"2019-09-22 00:00:00\",\"2019-09-29 00:00:00\",\"2019-09-29 00:00:00\",\"2019-09-29 00:00:00\",\"2019-09-29 00:00:00\",\"2019-10-06 00:00:00\",\"2019-10-06 00:00:00\",\"2019-10-06 00:00:00\",\"2019-10-06 00:00:00\",\"2019-10-13 00:00:00\",\"2019-10-13 00:00:00\",\"2019-10-13 00:00:00\",\"2019-10-13 00:00:00\",\"2019-10-20 00:00:00\",\"2019-10-20 00:00:00\",\"2019-10-20 00:00:00\",\"2019-10-20 00:00:00\",\"2019-10-27 00:00:00\",\"2019-10-27 00:00:00\",\"2019-10-27 00:00:00\",\"2019-10-27 00:00:00\",\"2019-11-03 00:00:00\",\"2019-11-03 00:00:00\",\"2019-11-03 00:00:00\",\"2019-11-03 00:00:00\",\"2019-11-10 00:00:00\",\"2019-11-10 00:00:00\",\"2019-11-10 00:00:00\",\"2019-11-10 00:00:00\",\"2019-11-17 00:00:00\",\"2019-11-17 00:00:00\",\"2019-11-17 00:00:00\",\"2019-11-17 00:00:00\",\"2019-11-24 00:00:00\",\"2019-11-24 00:00:00\",\"2019-11-24 00:00:00\",\"2019-11-24 00:00:00\",\"2019-12-01 00:00:00\",\"2019-12-01 00:00:00\",\"2019-12-01 00:00:00\",\"2019-12-01 00:00:00\",\"2019-12-08 00:00:00\",\"2019-12-08 00:00:00\",\"2019-12-08 00:00:00\",\"2019-12-08 00:00:00\",\"2019-12-15 00:00:00\",\"2019-12-15 00:00:00\",\"2019-12-15 00:00:00\",\"2019-12-15 00:00:00\",\"2019-12-22 00:00:00\",\"2019-12-22 00:00:00\",\"2019-12-22 00:00:00\",\"2019-12-22 00:00:00\",\"2019-12-29 00:00:00\",\"2019-12-29 00:00:00\",\"2019-12-29 00:00:00\",\"2019-12-29 00:00:00\",\"2020-01-05 00:00:00\",\"2020-01-05 00:00:00\",\"2020-01-05 00:00:00\",\"2020-01-05 00:00:00\",\"2020-01-12 00:00:00\",\"2020-01-12 00:00:00\",\"2020-01-12 00:00:00\",\"2020-01-12 00:00:00\",\"2020-01-19 00:00:00\",\"2020-01-19 00:00:00\",\"2020-01-19 00:00:00\",\"2020-01-19 00:00:00\",\"2020-01-26 00:00:00\",\"2020-01-26 00:00:00\",\"2020-01-26 00:00:00\",\"2020-01-26 00:00:00\",\"2020-02-02 00:00:00\",\"2020-02-02 00:00:00\",\"2020-02-02 00:00:00\",\"2020-02-02 00:00:00\",\"2020-02-09 00:00:00\",\"2020-02-09 00:00:00\",\"2020-02-09 00:00:00\",\"2020-02-09 00:00:00\",\"2020-02-16 00:00:00\",\"2020-02-16 00:00:00\",\"2020-02-16 00:00:00\",\"2020-02-16 00:00:00\",\"2020-02-23 00:00:00\",\"2020-02-23 00:00:00\",\"2020-02-23 00:00:00\",\"2020-02-23 00:00:00\",\"2020-03-01 00:00:00\",\"2020-03-01 00:00:00\",\"2020-03-01 00:00:00\",\"2020-03-01 00:00:00\",\"2020-03-08 00:00:00\",\"2020-03-08 00:00:00\",\"2020-03-08 00:00:00\",\"2020-03-08 00:00:00\",\"2020-03-15 00:00:00\",\"2020-03-15 00:00:00\",\"2020-03-15 00:00:00\",\"2020-03-15 00:00:00\",\"2020-03-22 00:00:00\",\"2020-03-22 00:00:00\",\"2020-03-22 00:00:00\",\"2020-03-22 00:00:00\",\"2020-03-29 00:00:00\",\"2020-03-29 00:00:00\",\"2020-03-29 00:00:00\",\"2020-03-29 00:00:00\",\"2020-04-05 00:00:00\",\"2020-04-05 00:00:00\",\"2020-04-05 00:00:00\",\"2020-04-05 00:00:00\",\"2020-04-12 00:00:00\",\"2020-04-12 00:00:00\",\"2020-04-12 00:00:00\",\"2020-04-12 00:00:00\",\"2020-04-19 00:00:00\",\"2020-04-19 00:00:00\",\"2020-04-19 00:00:00\",\"2020-04-19 00:00:00\",\"2020-04-26 00:00:00\",\"2020-04-26 00:00:00\",\"2020-04-26 00:00:00\",\"2020-04-26 00:00:00\",\"2020-05-03 00:00:00\",\"2020-05-03 00:00:00\",\"2020-05-03 00:00:00\",\"2020-05-03 00:00:00\",\"2020-05-10 00:00:00\",\"2020-05-10 00:00:00\",\"2020-05-10 00:00:00\",\"2020-05-10 00:00:00\",\"2020-05-17 00:00:00\",\"2020-05-17 00:00:00\",\"2020-05-17 00:00:00\",\"2020-05-17 00:00:00\",\"2020-05-24 00:00:00\",\"2020-05-24 00:00:00\",\"2020-05-24 00:00:00\",\"2020-05-24 00:00:00\",\"2020-05-31 00:00:00\",\"2020-05-31 00:00:00\",\"2020-05-31 00:00:00\",\"2020-05-31 00:00:00\",\"2020-06-07 00:00:00\",\"2020-06-07 00:00:00\",\"2020-06-07 00:00:00\",\"2020-06-07 00:00:00\",\"2020-06-14 00:00:00\",\"2020-06-14 00:00:00\",\"2020-06-14 00:00:00\",\"2020-06-14 00:00:00\",\"2020-06-21 00:00:00\",\"2020-06-21 00:00:00\",\"2020-06-21 00:00:00\",\"2020-06-21 00:00:00\",\"2020-06-28 00:00:00\",\"2020-06-28 00:00:00\",\"2020-06-28 00:00:00\",\"2020-06-28 00:00:00\",\"2020-07-05 00:00:00\",\"2020-07-05 00:00:00\",\"2020-07-05 00:00:00\",\"2020-07-05 00:00:00\",\"2020-07-12 00:00:00\",\"2020-07-12 00:00:00\",\"2020-07-12 00:00:00\",\"2020-07-12 00:00:00\",\"2020-07-19 00:00:00\",\"2020-07-19 00:00:00\",\"2020-07-19 00:00:00\",\"2020-07-19 00:00:00\",\"2020-07-26 00:00:00\",\"2020-07-26 00:00:00\",\"2020-07-26 00:00:00\",\"2020-07-26 00:00:00\",\"2020-08-02 00:00:00\",\"2020-08-02 00:00:00\",\"2020-08-02 00:00:00\",\"2020-08-02 00:00:00\",\"2020-08-09 00:00:00\",\"2020-08-09 00:00:00\",\"2020-08-09 00:00:00\",\"2020-08-09 00:00:00\",\"2020-08-16 00:00:00\",\"2020-08-16 00:00:00\",\"2020-08-16 00:00:00\",\"2020-08-16 00:00:00\",\"2020-08-23 00:00:00\",\"2020-08-23 00:00:00\",\"2020-08-23 00:00:00\",\"2020-08-23 00:00:00\",\"2020-08-30 00:00:00\",\"2020-08-30 00:00:00\",\"2020-08-30 00:00:00\",\"2020-08-30 00:00:00\",\"2020-09-06 00:00:00\",\"2020-09-06 00:00:00\",\"2020-09-06 00:00:00\",\"2020-09-06 00:00:00\",\"2020-09-13 00:00:00\",\"2020-09-13 00:00:00\",\"2020-09-13 00:00:00\",\"2020-09-13 00:00:00\",\"2020-09-20 00:00:00\",\"2020-09-20 00:00:00\",\"2020-09-20 00:00:00\",\"2020-09-20 00:00:00\",\"2020-09-27 00:00:00\",\"2020-09-27 00:00:00\",\"2020-09-27 00:00:00\",\"2020-09-27 00:00:00\",\"2020-10-04 00:00:00\",\"2020-10-04 00:00:00\",\"2020-10-04 00:00:00\",\"2020-10-04 00:00:00\",\"2020-10-11 00:00:00\",\"2020-10-11 00:00:00\",\"2020-10-11 00:00:00\",\"2020-10-11 00:00:00\",\"2020-10-18 00:00:00\",\"2020-10-18 00:00:00\",\"2020-10-18 00:00:00\",\"2020-10-18 00:00:00\",\"2020-10-25 00:00:00\",\"2020-10-25 00:00:00\",\"2020-10-25 00:00:00\",\"2020-10-25 00:00:00\",\"2020-11-01 00:00:00\",\"2020-11-01 00:00:00\",\"2020-11-01 00:00:00\",\"2020-11-01 00:00:00\",\"2020-11-08 00:00:00\",\"2020-11-08 00:00:00\",\"2020-11-08 00:00:00\",\"2020-11-08 00:00:00\",\"2020-11-15 00:00:00\",\"2020-11-15 00:00:00\",\"2020-11-15 00:00:00\",\"2020-11-15 00:00:00\"],\"xaxis\":\"x\",\"y\":[1,1,1,1,1,1,1,1,1,1,1,1,1,1,1,1,1,1,1,1,1,1,1,1,1,1,1,1,0,0,1,1,1,1,1,1,1,0,0,0,0,1,1,0,0,1,1,0,1,0,1,1,1,0,0,1,0,1,0,0,0,1,1,1,0,1,0,1,1,0,0,0,1,0,1,0,0,1,1,0,1,0,1,1,1,0,0,1,0,0,1,0,0,1,1,1,1,0,0,1,1,0,0,1,0,0,1,1,0,0,1,1,0,0,1,0,1,0,1,1,0,0,1,1,0,0,1,0,0,1,1,0,0,1,1,1,1,0,0,1,0,1,0,1,0,1,0,0,0,1,1,0,0,1,1,1,0,0,1,0,0,1,1,1,0,1,0,1,0,1,0,0,0,1,1,1,0,0,1,1,1,0,0,1,0,1,0,1,0,1,0,1,1,0,0,1,0,1,0,1,0,1,0,1,1,0,0,1,0,0,1,1,0,1,0,0,1,0,1,0,0,1,1,1,0,0,1,1,1,0,0,1,0,0,1,1,0,1,0,1,0,0,1,0,0,1,1,0,1,1,0,1,1,0,0,1,1,0,0,1,1,0,0,0,1,0,1,0,1,0,1,1,0,1,0,0,0,1,1,0,0,1,1,0,0,1,1,0,1,1,0,0,1,1,0,1,1,0,0,0,1,1,0,1,0,1,0,0,1,0,1,1,1,0,0,0,1,0,1,0,0,1,1,0,0,1,1,1,0,1,0,1,0,1,0,0,1,0,1,0,1,0,1,1,1,0,0,0,0,1,1,1,0,0,1,1,0,0,1,0,0,1,1,1,0,0,1,0,1,0,1,1,0,1,0,1,0,0,1,1,0,1,0,1,0,0,1,1,0,1,0],\"yaxis\":\"y\",\"type\":\"scatter\"}],                        {\"template\":{\"data\":{\"histogram2dcontour\":[{\"type\":\"histogram2dcontour\",\"colorbar\":{\"outlinewidth\":0,\"ticks\":\"\"},\"colorscale\":[[0.0,\"#0d0887\"],[0.1111111111111111,\"#46039f\"],[0.2222222222222222,\"#7201a8\"],[0.3333333333333333,\"#9c179e\"],[0.4444444444444444,\"#bd3786\"],[0.5555555555555556,\"#d8576b\"],[0.6666666666666666,\"#ed7953\"],[0.7777777777777778,\"#fb9f3a\"],[0.8888888888888888,\"#fdca26\"],[1.0,\"#f0f921\"]]}],\"choropleth\":[{\"type\":\"choropleth\",\"colorbar\":{\"outlinewidth\":0,\"ticks\":\"\"}}],\"histogram2d\":[{\"type\":\"histogram2d\",\"colorbar\":{\"outlinewidth\":0,\"ticks\":\"\"},\"colorscale\":[[0.0,\"#0d0887\"],[0.1111111111111111,\"#46039f\"],[0.2222222222222222,\"#7201a8\"],[0.3333333333333333,\"#9c179e\"],[0.4444444444444444,\"#bd3786\"],[0.5555555555555556,\"#d8576b\"],[0.6666666666666666,\"#ed7953\"],[0.7777777777777778,\"#fb9f3a\"],[0.8888888888888888,\"#fdca26\"],[1.0,\"#f0f921\"]]}],\"heatmap\":[{\"type\":\"heatmap\",\"colorbar\":{\"outlinewidth\":0,\"ticks\":\"\"},\"colorscale\":[[0.0,\"#0d0887\"],[0.1111111111111111,\"#46039f\"],[0.2222222222222222,\"#7201a8\"],[0.3333333333333333,\"#9c179e\"],[0.4444444444444444,\"#bd3786\"],[0.5555555555555556,\"#d8576b\"],[0.6666666666666666,\"#ed7953\"],[0.7777777777777778,\"#fb9f3a\"],[0.8888888888888888,\"#fdca26\"],[1.0,\"#f0f921\"]]}],\"heatmapgl\":[{\"type\":\"heatmapgl\",\"colorbar\":{\"outlinewidth\":0,\"ticks\":\"\"},\"colorscale\":[[0.0,\"#0d0887\"],[0.1111111111111111,\"#46039f\"],[0.2222222222222222,\"#7201a8\"],[0.3333333333333333,\"#9c179e\"],[0.4444444444444444,\"#bd3786\"],[0.5555555555555556,\"#d8576b\"],[0.6666666666666666,\"#ed7953\"],[0.7777777777777778,\"#fb9f3a\"],[0.8888888888888888,\"#fdca26\"],[1.0,\"#f0f921\"]]}],\"contourcarpet\":[{\"type\":\"contourcarpet\",\"colorbar\":{\"outlinewidth\":0,\"ticks\":\"\"}}],\"contour\":[{\"type\":\"contour\",\"colorbar\":{\"outlinewidth\":0,\"ticks\":\"\"},\"colorscale\":[[0.0,\"#0d0887\"],[0.1111111111111111,\"#46039f\"],[0.2222222222222222,\"#7201a8\"],[0.3333333333333333,\"#9c179e\"],[0.4444444444444444,\"#bd3786\"],[0.5555555555555556,\"#d8576b\"],[0.6666666666666666,\"#ed7953\"],[0.7777777777777778,\"#fb9f3a\"],[0.8888888888888888,\"#fdca26\"],[1.0,\"#f0f921\"]]}],\"surface\":[{\"type\":\"surface\",\"colorbar\":{\"outlinewidth\":0,\"ticks\":\"\"},\"colorscale\":[[0.0,\"#0d0887\"],[0.1111111111111111,\"#46039f\"],[0.2222222222222222,\"#7201a8\"],[0.3333333333333333,\"#9c179e\"],[0.4444444444444444,\"#bd3786\"],[0.5555555555555556,\"#d8576b\"],[0.6666666666666666,\"#ed7953\"],[0.7777777777777778,\"#fb9f3a\"],[0.8888888888888888,\"#fdca26\"],[1.0,\"#f0f921\"]]}],\"mesh3d\":[{\"type\":\"mesh3d\",\"colorbar\":{\"outlinewidth\":0,\"ticks\":\"\"}}],\"scatter\":[{\"fillpattern\":{\"fillmode\":\"overlay\",\"size\":10,\"solidity\":0.2},\"type\":\"scatter\"}],\"parcoords\":[{\"type\":\"parcoords\",\"line\":{\"colorbar\":{\"outlinewidth\":0,\"ticks\":\"\"}}}],\"scatterpolargl\":[{\"type\":\"scatterpolargl\",\"marker\":{\"colorbar\":{\"outlinewidth\":0,\"ticks\":\"\"}}}],\"bar\":[{\"error_x\":{\"color\":\"#2a3f5f\"},\"error_y\":{\"color\":\"#2a3f5f\"},\"marker\":{\"line\":{\"color\":\"#E5ECF6\",\"width\":0.5},\"pattern\":{\"fillmode\":\"overlay\",\"size\":10,\"solidity\":0.2}},\"type\":\"bar\"}],\"scattergeo\":[{\"type\":\"scattergeo\",\"marker\":{\"colorbar\":{\"outlinewidth\":0,\"ticks\":\"\"}}}],\"scatterpolar\":[{\"type\":\"scatterpolar\",\"marker\":{\"colorbar\":{\"outlinewidth\":0,\"ticks\":\"\"}}}],\"histogram\":[{\"marker\":{\"pattern\":{\"fillmode\":\"overlay\",\"size\":10,\"solidity\":0.2}},\"type\":\"histogram\"}],\"scattergl\":[{\"type\":\"scattergl\",\"marker\":{\"colorbar\":{\"outlinewidth\":0,\"ticks\":\"\"}}}],\"scatter3d\":[{\"type\":\"scatter3d\",\"line\":{\"colorbar\":{\"outlinewidth\":0,\"ticks\":\"\"}},\"marker\":{\"colorbar\":{\"outlinewidth\":0,\"ticks\":\"\"}}}],\"scattermapbox\":[{\"type\":\"scattermapbox\",\"marker\":{\"colorbar\":{\"outlinewidth\":0,\"ticks\":\"\"}}}],\"scatterternary\":[{\"type\":\"scatterternary\",\"marker\":{\"colorbar\":{\"outlinewidth\":0,\"ticks\":\"\"}}}],\"scattercarpet\":[{\"type\":\"scattercarpet\",\"marker\":{\"colorbar\":{\"outlinewidth\":0,\"ticks\":\"\"}}}],\"carpet\":[{\"aaxis\":{\"endlinecolor\":\"#2a3f5f\",\"gridcolor\":\"white\",\"linecolor\":\"white\",\"minorgridcolor\":\"white\",\"startlinecolor\":\"#2a3f5f\"},\"baxis\":{\"endlinecolor\":\"#2a3f5f\",\"gridcolor\":\"white\",\"linecolor\":\"white\",\"minorgridcolor\":\"white\",\"startlinecolor\":\"#2a3f5f\"},\"type\":\"carpet\"}],\"table\":[{\"cells\":{\"fill\":{\"color\":\"#EBF0F8\"},\"line\":{\"color\":\"white\"}},\"header\":{\"fill\":{\"color\":\"#C8D4E3\"},\"line\":{\"color\":\"white\"}},\"type\":\"table\"}],\"barpolar\":[{\"marker\":{\"line\":{\"color\":\"#E5ECF6\",\"width\":0.5},\"pattern\":{\"fillmode\":\"overlay\",\"size\":10,\"solidity\":0.2}},\"type\":\"barpolar\"}],\"pie\":[{\"automargin\":true,\"type\":\"pie\"}]},\"layout\":{\"autotypenumbers\":\"strict\",\"colorway\":[\"#636efa\",\"#EF553B\",\"#00cc96\",\"#ab63fa\",\"#FFA15A\",\"#19d3f3\",\"#FF6692\",\"#B6E880\",\"#FF97FF\",\"#FECB52\"],\"font\":{\"color\":\"#2a3f5f\"},\"hovermode\":\"closest\",\"hoverlabel\":{\"align\":\"left\"},\"paper_bgcolor\":\"white\",\"plot_bgcolor\":\"#E5ECF6\",\"polar\":{\"bgcolor\":\"#E5ECF6\",\"angularaxis\":{\"gridcolor\":\"white\",\"linecolor\":\"white\",\"ticks\":\"\"},\"radialaxis\":{\"gridcolor\":\"white\",\"linecolor\":\"white\",\"ticks\":\"\"}},\"ternary\":{\"bgcolor\":\"#E5ECF6\",\"aaxis\":{\"gridcolor\":\"white\",\"linecolor\":\"white\",\"ticks\":\"\"},\"baxis\":{\"gridcolor\":\"white\",\"linecolor\":\"white\",\"ticks\":\"\"},\"caxis\":{\"gridcolor\":\"white\",\"linecolor\":\"white\",\"ticks\":\"\"}},\"coloraxis\":{\"colorbar\":{\"outlinewidth\":0,\"ticks\":\"\"}},\"colorscale\":{\"sequential\":[[0.0,\"#0d0887\"],[0.1111111111111111,\"#46039f\"],[0.2222222222222222,\"#7201a8\"],[0.3333333333333333,\"#9c179e\"],[0.4444444444444444,\"#bd3786\"],[0.5555555555555556,\"#d8576b\"],[0.6666666666666666,\"#ed7953\"],[0.7777777777777778,\"#fb9f3a\"],[0.8888888888888888,\"#fdca26\"],[1.0,\"#f0f921\"]],\"sequentialminus\":[[0.0,\"#0d0887\"],[0.1111111111111111,\"#46039f\"],[0.2222222222222222,\"#7201a8\"],[0.3333333333333333,\"#9c179e\"],[0.4444444444444444,\"#bd3786\"],[0.5555555555555556,\"#d8576b\"],[0.6666666666666666,\"#ed7953\"],[0.7777777777777778,\"#fb9f3a\"],[0.8888888888888888,\"#fdca26\"],[1.0,\"#f0f921\"]],\"diverging\":[[0,\"#8e0152\"],[0.1,\"#c51b7d\"],[0.2,\"#de77ae\"],[0.3,\"#f1b6da\"],[0.4,\"#fde0ef\"],[0.5,\"#f7f7f7\"],[0.6,\"#e6f5d0\"],[0.7,\"#b8e186\"],[0.8,\"#7fbc41\"],[0.9,\"#4d9221\"],[1,\"#276419\"]]},\"xaxis\":{\"gridcolor\":\"white\",\"linecolor\":\"white\",\"ticks\":\"\",\"title\":{\"standoff\":15},\"zerolinecolor\":\"white\",\"automargin\":true,\"zerolinewidth\":2},\"yaxis\":{\"gridcolor\":\"white\",\"linecolor\":\"white\",\"ticks\":\"\",\"title\":{\"standoff\":15},\"zerolinecolor\":\"white\",\"automargin\":true,\"zerolinewidth\":2},\"scene\":{\"xaxis\":{\"backgroundcolor\":\"#E5ECF6\",\"gridcolor\":\"white\",\"linecolor\":\"white\",\"showbackground\":true,\"ticks\":\"\",\"zerolinecolor\":\"white\",\"gridwidth\":2},\"yaxis\":{\"backgroundcolor\":\"#E5ECF6\",\"gridcolor\":\"white\",\"linecolor\":\"white\",\"showbackground\":true,\"ticks\":\"\",\"zerolinecolor\":\"white\",\"gridwidth\":2},\"zaxis\":{\"backgroundcolor\":\"#E5ECF6\",\"gridcolor\":\"white\",\"linecolor\":\"white\",\"showbackground\":true,\"ticks\":\"\",\"zerolinecolor\":\"white\",\"gridwidth\":2}},\"shapedefaults\":{\"line\":{\"color\":\"#2a3f5f\"}},\"annotationdefaults\":{\"arrowcolor\":\"#2a3f5f\",\"arrowhead\":0,\"arrowwidth\":1},\"geo\":{\"bgcolor\":\"white\",\"landcolor\":\"#E5ECF6\",\"subunitcolor\":\"white\",\"showland\":true,\"showlakes\":true,\"lakecolor\":\"white\"},\"title\":{\"x\":0.05},\"mapbox\":{\"style\":\"light\"}}},\"xaxis\":{\"anchor\":\"y\",\"domain\":[0.0,1.0],\"title\":{\"text\":\"params.week_end_experiment_end_date\"}},\"yaxis\":{\"anchor\":\"x\",\"domain\":[0.0,1.0],\"title\":{\"text\":\"params.daily_dispatch_count_drift_detected\"}},\"legend\":{\"tracegroupgap\":0},\"margin\":{\"t\":60}},                        {\"responsive\": true}                    ).then(function(){\n",
       "                            \n",
       "var gd = document.getElementById('a4e7fd65-a1d5-4156-8592-f09f4eba3ae3');\n",
       "var x = new MutationObserver(function (mutations, observer) {{\n",
       "        var display = window.getComputedStyle(gd).display;\n",
       "        if (!display || display === 'none') {{\n",
       "            console.log([gd, 'removed!']);\n",
       "            Plotly.purge(gd);\n",
       "            observer.disconnect();\n",
       "        }}\n",
       "}});\n",
       "\n",
       "// Listen for the removal of the full notebook cells\n",
       "var notebookContainer = gd.closest('#notebook-container');\n",
       "if (notebookContainer) {{\n",
       "    x.observe(notebookContainer, {childList: true});\n",
       "}}\n",
       "\n",
       "// Listen for the clearing of the current output cell\n",
       "var outputEl = gd.closest('.output');\n",
       "if (outputEl) {{\n",
       "    x.observe(outputEl, {childList: true});\n",
       "}}\n",
       "\n",
       "                        })                };                });            </script>        </div>"
      ]
     },
     "metadata": {},
     "output_type": "display_data"
    }
   ],
   "source": [
    "fig = px.line(drift_detected_experiment_results,  y='params.daily_dispatch_count_drift_detected', markers=True)\n",
    "fig.show()"
   ]
  },
  {
   "cell_type": "code",
   "execution_count": null,
   "id": "b6a5927a",
   "metadata": {},
   "outputs": [
    {
     "data": {
      "application/vnd.plotly.v1+json": {
       "config": {
        "plotlyServerURL": "https://plot.ly"
       },
       "data": [
        {
         "hovertemplate": "params.week_end_experiment_end_date=%{x}<br>params.Product_Type.value_drift_score=%{y}<extra></extra>",
         "legendgroup": "",
         "line": {
          "color": "#636efa",
          "dash": "solid"
         },
         "marker": {
          "symbol": "circle"
         },
         "mode": "lines+markers",
         "name": "",
         "orientation": "v",
         "showlegend": false,
         "type": "scatter",
         "x": [
          "2018-12-30 00:00:00",
          "2018-12-30 00:00:00",
          "2018-12-30 00:00:00",
          "2018-12-30 00:00:00",
          "2019-01-06 00:00:00",
          "2019-01-06 00:00:00",
          "2019-01-06 00:00:00",
          "2019-01-13 00:00:00",
          "2019-01-13 00:00:00",
          "2019-01-13 00:00:00",
          "2019-01-20 00:00:00",
          "2019-01-20 00:00:00",
          "2019-01-20 00:00:00",
          "2019-01-27 00:00:00",
          "2019-01-27 00:00:00",
          "2019-01-27 00:00:00",
          "2019-02-03 00:00:00",
          "2019-02-03 00:00:00",
          "2019-02-03 00:00:00",
          "2019-02-10 00:00:00",
          "2019-02-10 00:00:00",
          "2019-02-10 00:00:00",
          "2019-02-17 00:00:00",
          "2019-02-17 00:00:00",
          "2019-02-17 00:00:00",
          "2019-02-24 00:00:00",
          "2019-02-24 00:00:00",
          "2019-02-24 00:00:00",
          "2019-03-03 00:00:00",
          "2019-03-03 00:00:00",
          "2019-03-03 00:00:00",
          "2019-03-03 00:00:00",
          "2019-03-03 00:00:00",
          "2019-03-03 00:00:00",
          "2019-03-03 00:00:00",
          "2019-03-10 00:00:00",
          "2019-03-10 00:00:00",
          "2019-03-10 00:00:00",
          "2019-03-10 00:00:00",
          "2019-03-17 00:00:00",
          "2019-03-17 00:00:00",
          "2019-03-17 00:00:00",
          "2019-03-17 00:00:00",
          "2019-03-24 00:00:00",
          "2019-03-24 00:00:00",
          "2019-03-24 00:00:00",
          "2019-03-24 00:00:00",
          "2019-03-31 00:00:00",
          "2019-03-31 00:00:00",
          "2019-03-31 00:00:00",
          "2019-03-31 00:00:00",
          "2019-04-07 00:00:00",
          "2019-04-07 00:00:00",
          "2019-04-07 00:00:00",
          "2019-04-07 00:00:00",
          "2019-04-14 00:00:00",
          "2019-04-14 00:00:00",
          "2019-04-14 00:00:00",
          "2019-04-14 00:00:00",
          "2019-04-21 00:00:00",
          "2019-04-21 00:00:00",
          "2019-04-21 00:00:00",
          "2019-04-21 00:00:00",
          "2019-04-28 00:00:00",
          "2019-04-28 00:00:00",
          "2019-04-28 00:00:00",
          "2019-04-28 00:00:00",
          "2019-05-05 00:00:00",
          "2019-05-05 00:00:00",
          "2019-05-05 00:00:00",
          "2019-05-05 00:00:00",
          "2019-05-12 00:00:00",
          "2019-05-12 00:00:00",
          "2019-05-12 00:00:00",
          "2019-05-12 00:00:00",
          "2019-05-19 00:00:00",
          "2019-05-19 00:00:00",
          "2019-05-19 00:00:00",
          "2019-05-19 00:00:00",
          "2019-05-26 00:00:00",
          "2019-05-26 00:00:00",
          "2019-05-26 00:00:00",
          "2019-05-26 00:00:00",
          "2019-06-02 00:00:00",
          "2019-06-02 00:00:00",
          "2019-06-02 00:00:00",
          "2019-06-02 00:00:00",
          "2019-06-09 00:00:00",
          "2019-06-09 00:00:00",
          "2019-06-09 00:00:00",
          "2019-06-09 00:00:00",
          "2019-06-16 00:00:00",
          "2019-06-16 00:00:00",
          "2019-06-16 00:00:00",
          "2019-06-16 00:00:00",
          "2019-06-23 00:00:00",
          "2019-06-23 00:00:00",
          "2019-06-23 00:00:00",
          "2019-06-23 00:00:00",
          "2019-06-30 00:00:00",
          "2019-06-30 00:00:00",
          "2019-06-30 00:00:00",
          "2019-06-30 00:00:00",
          "2019-07-07 00:00:00",
          "2019-07-07 00:00:00",
          "2019-07-07 00:00:00",
          "2019-07-07 00:00:00",
          "2019-07-14 00:00:00",
          "2019-07-14 00:00:00",
          "2019-07-14 00:00:00",
          "2019-07-14 00:00:00",
          "2019-07-21 00:00:00",
          "2019-07-21 00:00:00",
          "2019-07-21 00:00:00",
          "2019-07-21 00:00:00",
          "2019-07-28 00:00:00",
          "2019-07-28 00:00:00",
          "2019-07-28 00:00:00",
          "2019-07-28 00:00:00",
          "2019-08-04 00:00:00",
          "2019-08-04 00:00:00",
          "2019-08-04 00:00:00",
          "2019-08-04 00:00:00",
          "2019-08-11 00:00:00",
          "2019-08-11 00:00:00",
          "2019-08-11 00:00:00",
          "2019-08-11 00:00:00",
          "2019-08-18 00:00:00",
          "2019-08-18 00:00:00",
          "2019-08-18 00:00:00",
          "2019-08-18 00:00:00",
          "2019-08-25 00:00:00",
          "2019-08-25 00:00:00",
          "2019-08-25 00:00:00",
          "2019-08-25 00:00:00",
          "2019-09-01 00:00:00",
          "2019-09-01 00:00:00",
          "2019-09-01 00:00:00",
          "2019-09-01 00:00:00",
          "2019-09-08 00:00:00",
          "2019-09-08 00:00:00",
          "2019-09-08 00:00:00",
          "2019-09-08 00:00:00",
          "2019-09-15 00:00:00",
          "2019-09-15 00:00:00",
          "2019-09-15 00:00:00",
          "2019-09-15 00:00:00",
          "2019-09-22 00:00:00",
          "2019-09-22 00:00:00",
          "2019-09-22 00:00:00",
          "2019-09-22 00:00:00",
          "2019-09-29 00:00:00",
          "2019-09-29 00:00:00",
          "2019-09-29 00:00:00",
          "2019-09-29 00:00:00",
          "2019-10-06 00:00:00",
          "2019-10-06 00:00:00",
          "2019-10-06 00:00:00",
          "2019-10-06 00:00:00",
          "2019-10-13 00:00:00",
          "2019-10-13 00:00:00",
          "2019-10-13 00:00:00",
          "2019-10-13 00:00:00",
          "2019-10-20 00:00:00",
          "2019-10-20 00:00:00",
          "2019-10-20 00:00:00",
          "2019-10-20 00:00:00",
          "2019-10-27 00:00:00",
          "2019-10-27 00:00:00",
          "2019-10-27 00:00:00",
          "2019-10-27 00:00:00",
          "2019-11-03 00:00:00",
          "2019-11-03 00:00:00",
          "2019-11-03 00:00:00",
          "2019-11-03 00:00:00",
          "2019-11-10 00:00:00",
          "2019-11-10 00:00:00",
          "2019-11-10 00:00:00",
          "2019-11-10 00:00:00",
          "2019-11-17 00:00:00",
          "2019-11-17 00:00:00",
          "2019-11-17 00:00:00",
          "2019-11-17 00:00:00",
          "2019-11-24 00:00:00",
          "2019-11-24 00:00:00",
          "2019-11-24 00:00:00",
          "2019-11-24 00:00:00",
          "2019-12-01 00:00:00",
          "2019-12-01 00:00:00",
          "2019-12-01 00:00:00",
          "2019-12-01 00:00:00",
          "2019-12-08 00:00:00",
          "2019-12-08 00:00:00",
          "2019-12-08 00:00:00",
          "2019-12-08 00:00:00",
          "2019-12-15 00:00:00",
          "2019-12-15 00:00:00",
          "2019-12-15 00:00:00",
          "2019-12-15 00:00:00",
          "2019-12-22 00:00:00",
          "2019-12-22 00:00:00",
          "2019-12-22 00:00:00",
          "2019-12-22 00:00:00",
          "2019-12-29 00:00:00",
          "2019-12-29 00:00:00",
          "2019-12-29 00:00:00",
          "2019-12-29 00:00:00",
          "2020-01-05 00:00:00",
          "2020-01-05 00:00:00",
          "2020-01-05 00:00:00",
          "2020-01-05 00:00:00",
          "2020-01-12 00:00:00",
          "2020-01-12 00:00:00",
          "2020-01-12 00:00:00",
          "2020-01-12 00:00:00",
          "2020-01-19 00:00:00",
          "2020-01-19 00:00:00",
          "2020-01-19 00:00:00",
          "2020-01-19 00:00:00",
          "2020-01-26 00:00:00",
          "2020-01-26 00:00:00",
          "2020-01-26 00:00:00",
          "2020-01-26 00:00:00",
          "2020-02-02 00:00:00",
          "2020-02-02 00:00:00",
          "2020-02-02 00:00:00",
          "2020-02-02 00:00:00",
          "2020-02-09 00:00:00",
          "2020-02-09 00:00:00",
          "2020-02-09 00:00:00",
          "2020-02-09 00:00:00",
          "2020-02-16 00:00:00",
          "2020-02-16 00:00:00",
          "2020-02-16 00:00:00",
          "2020-02-16 00:00:00",
          "2020-02-23 00:00:00",
          "2020-02-23 00:00:00",
          "2020-02-23 00:00:00",
          "2020-02-23 00:00:00",
          "2020-03-01 00:00:00",
          "2020-03-01 00:00:00",
          "2020-03-01 00:00:00",
          "2020-03-01 00:00:00",
          "2020-03-08 00:00:00",
          "2020-03-08 00:00:00",
          "2020-03-08 00:00:00",
          "2020-03-08 00:00:00",
          "2020-03-15 00:00:00",
          "2020-03-15 00:00:00",
          "2020-03-15 00:00:00",
          "2020-03-15 00:00:00",
          "2020-03-22 00:00:00",
          "2020-03-22 00:00:00",
          "2020-03-22 00:00:00",
          "2020-03-22 00:00:00",
          "2020-03-29 00:00:00",
          "2020-03-29 00:00:00",
          "2020-03-29 00:00:00",
          "2020-03-29 00:00:00",
          "2020-04-05 00:00:00",
          "2020-04-05 00:00:00",
          "2020-04-05 00:00:00",
          "2020-04-05 00:00:00",
          "2020-04-12 00:00:00",
          "2020-04-12 00:00:00",
          "2020-04-12 00:00:00",
          "2020-04-12 00:00:00",
          "2020-04-19 00:00:00",
          "2020-04-19 00:00:00",
          "2020-04-19 00:00:00",
          "2020-04-19 00:00:00",
          "2020-04-26 00:00:00",
          "2020-04-26 00:00:00",
          "2020-04-26 00:00:00",
          "2020-04-26 00:00:00",
          "2020-05-03 00:00:00",
          "2020-05-03 00:00:00",
          "2020-05-03 00:00:00",
          "2020-05-03 00:00:00",
          "2020-05-10 00:00:00",
          "2020-05-10 00:00:00",
          "2020-05-10 00:00:00",
          "2020-05-10 00:00:00",
          "2020-05-17 00:00:00",
          "2020-05-17 00:00:00",
          "2020-05-17 00:00:00",
          "2020-05-17 00:00:00",
          "2020-05-24 00:00:00",
          "2020-05-24 00:00:00",
          "2020-05-24 00:00:00",
          "2020-05-24 00:00:00",
          "2020-05-31 00:00:00",
          "2020-05-31 00:00:00",
          "2020-05-31 00:00:00",
          "2020-05-31 00:00:00",
          "2020-06-07 00:00:00",
          "2020-06-07 00:00:00",
          "2020-06-07 00:00:00",
          "2020-06-07 00:00:00",
          "2020-06-14 00:00:00",
          "2020-06-14 00:00:00",
          "2020-06-14 00:00:00",
          "2020-06-14 00:00:00",
          "2020-06-21 00:00:00",
          "2020-06-21 00:00:00",
          "2020-06-21 00:00:00",
          "2020-06-21 00:00:00",
          "2020-06-28 00:00:00",
          "2020-06-28 00:00:00",
          "2020-06-28 00:00:00",
          "2020-06-28 00:00:00",
          "2020-07-05 00:00:00",
          "2020-07-05 00:00:00",
          "2020-07-05 00:00:00",
          "2020-07-05 00:00:00",
          "2020-07-12 00:00:00",
          "2020-07-12 00:00:00",
          "2020-07-12 00:00:00",
          "2020-07-12 00:00:00",
          "2020-07-19 00:00:00",
          "2020-07-19 00:00:00",
          "2020-07-19 00:00:00",
          "2020-07-19 00:00:00",
          "2020-07-26 00:00:00",
          "2020-07-26 00:00:00",
          "2020-07-26 00:00:00",
          "2020-07-26 00:00:00",
          "2020-08-02 00:00:00",
          "2020-08-02 00:00:00",
          "2020-08-02 00:00:00",
          "2020-08-02 00:00:00",
          "2020-08-09 00:00:00",
          "2020-08-09 00:00:00",
          "2020-08-09 00:00:00",
          "2020-08-09 00:00:00",
          "2020-08-16 00:00:00",
          "2020-08-16 00:00:00",
          "2020-08-16 00:00:00",
          "2020-08-16 00:00:00",
          "2020-08-23 00:00:00",
          "2020-08-23 00:00:00",
          "2020-08-23 00:00:00",
          "2020-08-23 00:00:00",
          "2020-08-30 00:00:00",
          "2020-08-30 00:00:00",
          "2020-08-30 00:00:00",
          "2020-08-30 00:00:00",
          "2020-09-06 00:00:00",
          "2020-09-06 00:00:00",
          "2020-09-06 00:00:00",
          "2020-09-06 00:00:00",
          "2020-09-13 00:00:00",
          "2020-09-13 00:00:00",
          "2020-09-13 00:00:00",
          "2020-09-13 00:00:00",
          "2020-09-20 00:00:00",
          "2020-09-20 00:00:00",
          "2020-09-20 00:00:00",
          "2020-09-20 00:00:00",
          "2020-09-27 00:00:00",
          "2020-09-27 00:00:00",
          "2020-09-27 00:00:00",
          "2020-09-27 00:00:00",
          "2020-10-04 00:00:00",
          "2020-10-04 00:00:00",
          "2020-10-04 00:00:00",
          "2020-10-04 00:00:00",
          "2020-10-11 00:00:00",
          "2020-10-11 00:00:00",
          "2020-10-11 00:00:00",
          "2020-10-11 00:00:00",
          "2020-10-18 00:00:00",
          "2020-10-18 00:00:00",
          "2020-10-18 00:00:00",
          "2020-10-18 00:00:00",
          "2020-10-25 00:00:00",
          "2020-10-25 00:00:00",
          "2020-10-25 00:00:00",
          "2020-10-25 00:00:00",
          "2020-11-01 00:00:00",
          "2020-11-01 00:00:00",
          "2020-11-01 00:00:00",
          "2020-11-01 00:00:00",
          "2020-11-08 00:00:00",
          "2020-11-08 00:00:00",
          "2020-11-08 00:00:00",
          "2020-11-08 00:00:00",
          "2020-11-15 00:00:00",
          "2020-11-15 00:00:00",
          "2020-11-15 00:00:00",
          "2020-11-15 00:00:00"
         ],
         "xaxis": "x",
         "y": [
          0.8325546111576977,
          0.8325546111576977,
          0,
          0.8325546111576977,
          0.8325546111576977,
          0.8325546111576977,
          0.8325546111576977,
          0.8325546111576977,
          0.8325546111576977,
          0.8325546111576977,
          0.8325546111576977,
          0.8325546111576977,
          0.8325546111576977,
          0.8325546111576977,
          0.8325546111576977,
          0.8325546111576977,
          0.8325546111576977,
          0.8325546111576977,
          0.8325546111576977,
          0.8325546111576977,
          0.8325546111576977,
          0.8325546111576977,
          0.8325546111576977,
          0.8325546111576977,
          0.8325546111576977,
          0.8325546111576977,
          0.8325546111576977,
          0.8325546111576977,
          0.8325546111576977,
          0.8325546111576977,
          0.8325546111576977,
          0.8325546111576977,
          0.8325546111576977,
          0.8325546111576977,
          0.8325546111576977,
          0.8325546111576977,
          0.8325546111576977,
          0.8325546111576977,
          0.8325546111576977,
          0.8325546111576977,
          0.8325546111576977,
          0.8325546111576977,
          0.8325546111576977,
          0.8325546111576977,
          0.8325546111576977,
          0.8325546111576977,
          0.8325546111576977,
          0.8325546111576977,
          0.8325546111576977,
          0.8325546111576977,
          0.8325546111576977,
          0.8325546111576977,
          0.8325546111576977,
          0.8325546111576977,
          0.8325546111576977,
          0.8325546111576977,
          0.8325546111576977,
          0.8325546111576977,
          0.8325546111576977,
          0.8325546111576977,
          0.8325546111576977,
          0.8325546111576977,
          0.8325546111576977,
          0.8325546111576977,
          0.8325546111576977,
          0.8325546111576977,
          0.8325546111576977,
          0.8325546111576977,
          0.8325546111576977,
          0.8325546111576977,
          0.8325546111576977,
          0.8325546111576977,
          0.8325546111576977,
          0.8325546111576977,
          0.8325546111576977,
          0.8325546111576977,
          0.8325546111576977,
          0.8325546111576977,
          0.8325546111576977,
          0.8325546111576977,
          0.8325546111576977,
          0.8325546111576977,
          0.8325546111576977,
          0.8325546111576977,
          0.8325546111576977,
          0.8325546111576977,
          0.8325546111576977,
          0.8325546111576977,
          0.8325546111576977,
          0.8325546111576977,
          0.8325546111576977,
          0.8325546111576977,
          0.8325546111576977,
          0.8325546111576977,
          0.8325546111576977,
          0.8325546111576977,
          0.8325546111576977,
          0.8325546111576977,
          0.8325546111576977,
          0.8325546111576977,
          0.8325546111576977,
          0.8325546111576977,
          0.8325546111576977,
          0.8325546111576977,
          0.8325546111576977,
          0.8325546111576977,
          0.8325546111576977,
          0.8325546111576977,
          0.8325546111576977,
          0.8325546111576977,
          0.8325546111576977,
          0.8325546111576977,
          0.8325546111576977,
          0.8325546111576977,
          0.8325546111576977,
          0.8325546111576977,
          0.8325546111576977,
          0.8325546111576977,
          0.8325546111576977,
          0.8325546111576977,
          0.8325546111576977,
          0.8325546111576977,
          0.8325546111576977,
          0.8325546111576977,
          0.8325546111576977,
          0.8325546111576977,
          0.8325546111576977,
          0.8325546111576977,
          0.8325546111576977,
          0.8325546111576977,
          0.8325546111576977,
          0.8325546111576977,
          0.8325546111576977,
          0.8325546111576977,
          0.8325546111576977,
          0.8325546111576977,
          0.8325546111576977,
          0.8325546111576977,
          0.8325546111576977,
          0.8325546111576977,
          0.8325546111576977,
          0.8325546111576977,
          0.8325546111576977,
          0.8325546111576977,
          0.8325546111576977,
          0.8325546111576977,
          0.8325546111576977,
          0.8325546111576977,
          0.8325546111576977,
          0.8325546111576977,
          0.8325546111576977,
          0.8325546111576977,
          0.8325546111576977,
          0.8325546111576977,
          0.8325546111576977,
          0.8325546111576977,
          0.8325546111576977,
          0.8325546111576977,
          0.8325546111576977,
          0.8325546111576977,
          0.8325546111576977,
          0.8325546111576977,
          0.8325546111576977,
          0.8325546111576977,
          0.8325546111576977,
          0.8325546111576977,
          0.8325546111576977,
          0.8325546111576977,
          0.8325546111576977,
          0.8325546111576977,
          0.8325546111576977,
          0.8325546111576977,
          0.8325546111576977,
          0.8325546111576977,
          0.8325546111576977,
          0.8325546111576977,
          0.8325546111576977,
          0.8325546111576977,
          0.8325546111576977,
          0.8325546111576977,
          0.8325546111576977,
          0.8325546111576977,
          0.8325546111576977,
          0.8325546111576977,
          0.8325546111576977,
          0.8325546111576977,
          0.8325546111576977,
          0.8325546111576977,
          0.8325546111576977,
          0.8325546111576977,
          0.8325546111576977,
          0.8325546111576977,
          0.8325546111576977,
          0.8325546111576977,
          0.8325546111576977,
          0.8325546111576977,
          0.8325546111576977,
          0.8325546111576977,
          0.8325546111576977,
          0.8325546111576977,
          0.8325546111576977,
          0.8325546111576977,
          0.8325546111576977,
          0.8325546111576977,
          0.8325546111576977,
          0.8325546111576977,
          0.8325546111576977,
          0.8325546111576977,
          0.8325546111576977,
          0.8325546111576977,
          0.8325546111576977,
          0.8325546111576977,
          0.8325546111576977,
          0.8325546111576977,
          0.8325546111576977,
          0.8325546111576977,
          0.8325546111576977,
          0.8325546111576977,
          0.8325546111576977,
          0.8325546111576977,
          0.8325546111576977,
          0.8325546111576977,
          0.8325546111576977,
          0.8325546111576977,
          0.8325546111576977,
          0.8325546111576977,
          0.8325546111576977,
          0.8325546111576977,
          0.8325546111576977,
          0.8325546111576977,
          0.8325546111576977,
          0.8325546111576977,
          0.8325546111576977,
          0.8325546111576977,
          0.8325546111576977,
          0.8325546111576977,
          0.8325546111576977,
          0.8325546111576977,
          0.8325546111576977,
          0.8325546111576977,
          0.8325546111576977,
          0.8325546111576977,
          0.8325546111576977,
          0.8325546111576977,
          0.8325546111576977,
          0.8325546111576977,
          0.8325546111576977,
          0.8325546111576977,
          0.8325546111576977,
          0.8325546111576977,
          0.8325546111576977,
          0.8325546111576977,
          0.8325546111576977,
          0.8325546111576977,
          0.8325546111576977,
          0.8325546111576977,
          0.8325546111576977,
          0.8325546111576977,
          0.8325546111576977,
          0.8325546111576977,
          0.8325546111576977,
          0.8325546111576977,
          0.8325546111576977,
          0.8325546111576977,
          0.8325546111576977,
          0.8325546111576977,
          0.8325546111576977,
          0.8325546111576977,
          0.8325546111576977,
          0.8325546111576977,
          0.8325546111576977,
          0.8325546111576977,
          0.8325546111576977,
          0.8325546111576977,
          0.8325546111576977,
          0.8325546111576977,
          0.8325546111576977,
          0.8325546111576977,
          0.8325546111576977,
          0.8325546111576977,
          0.8325546111576977,
          0.8325546111576977,
          0.8325546111576977,
          0.8325546111576977,
          0.8325546111576977,
          0.8325546111576977,
          0.8325546111576977,
          0.8325546111576977,
          0.8325546111576977,
          0.8325546111576977,
          0.8325546111576977,
          0.8325546111576977,
          0.8325546111576977,
          0.8325546111576977,
          0.8325546111576977,
          0.8325546111576977,
          0.8325546111576977,
          0.8325546111576977,
          0.8325546111576977,
          0.8325546111576977,
          0.8325546111576977,
          0.8325546111576977,
          0.8325546111576977,
          0.8325546111576977,
          0.8325546111576977,
          0.8325546111576977,
          0.8325546111576977,
          0.8325546111576977,
          0.8325546111576977,
          0.8325546111576977,
          0.8325546111576977,
          0.8325546111576977,
          0.8325546111576977,
          0.8325546111576977,
          0.8325546111576977,
          0.8325546111576977,
          0.8325546111576977,
          0.8325546111576977,
          0.8325546111576977,
          0.8325546111576977,
          0.8325546111576977,
          0.8325546111576977,
          0.8325546111576977,
          0.8325546111576977,
          0.8325546111576977,
          0.8325546111576977,
          0.8325546111576977,
          0.8325546111576977,
          0.8325546111576977,
          0.8325546111576977,
          0.8325546111576977,
          0.8325546111576977,
          0.8325546111576977,
          0.8325546111576977,
          0.8325546111576977,
          0.8325546111576977,
          0.8325546111576977,
          0.8325546111576977,
          0.8325546111576977,
          0.8325546111576977,
          0.8325546111576977,
          0.8325546111576977,
          0.8325546111576977,
          0.8325546111576977,
          0.8325546111576977,
          0.8325546111576977,
          0.8325546111576977,
          0.8325546111576977,
          0.8325546111576977,
          0.8325546111576977,
          0.8325546111576977,
          0.8325546111576977,
          0.8325546111576977,
          0.8325546111576977,
          0.8325546111576977,
          0.8325546111576977,
          0.8325546111576977,
          0.8325546111576977,
          0.8325546111576977,
          0.8325546111576977,
          0.8325546111576977,
          0.8325546111576977,
          0.8325546111576977,
          0.8325546111576977,
          0.8325546111576977,
          0.8325546111576977,
          0.8325546111576977,
          0.8325546111576977,
          0.8325546111576977,
          0.8325546111576977,
          0.8325546111576977,
          0.8325546111576977,
          0.8325546111576977,
          0.8325546111576977,
          0.8325546111576977,
          0.8325546111576977,
          0.8325546111576977,
          0.8325546111576977,
          0.8325546111576977,
          0.8325546111576977,
          0.8325546111576977,
          0.8325546111576977,
          0.8325546111576977,
          0.8325546111576977,
          0.8325546111576977,
          0.8325546111576977,
          0.8325546111576977,
          0.8325546111576977,
          0.8325546111576977,
          0.8325546111576977,
          0.8325546111576977
         ],
         "yaxis": "y"
        }
       ],
       "layout": {
        "legend": {
         "tracegroupgap": 0
        },
        "margin": {
         "t": 60
        },
        "template": {
         "data": {
          "bar": [
           {
            "error_x": {
             "color": "#2a3f5f"
            },
            "error_y": {
             "color": "#2a3f5f"
            },
            "marker": {
             "line": {
              "color": "#E5ECF6",
              "width": 0.5
             },
             "pattern": {
              "fillmode": "overlay",
              "size": 10,
              "solidity": 0.2
             }
            },
            "type": "bar"
           }
          ],
          "barpolar": [
           {
            "marker": {
             "line": {
              "color": "#E5ECF6",
              "width": 0.5
             },
             "pattern": {
              "fillmode": "overlay",
              "size": 10,
              "solidity": 0.2
             }
            },
            "type": "barpolar"
           }
          ],
          "carpet": [
           {
            "aaxis": {
             "endlinecolor": "#2a3f5f",
             "gridcolor": "white",
             "linecolor": "white",
             "minorgridcolor": "white",
             "startlinecolor": "#2a3f5f"
            },
            "baxis": {
             "endlinecolor": "#2a3f5f",
             "gridcolor": "white",
             "linecolor": "white",
             "minorgridcolor": "white",
             "startlinecolor": "#2a3f5f"
            },
            "type": "carpet"
           }
          ],
          "choropleth": [
           {
            "colorbar": {
             "outlinewidth": 0,
             "ticks": ""
            },
            "type": "choropleth"
           }
          ],
          "contour": [
           {
            "colorbar": {
             "outlinewidth": 0,
             "ticks": ""
            },
            "colorscale": [
             [
              0,
              "#0d0887"
             ],
             [
              0.1111111111111111,
              "#46039f"
             ],
             [
              0.2222222222222222,
              "#7201a8"
             ],
             [
              0.3333333333333333,
              "#9c179e"
             ],
             [
              0.4444444444444444,
              "#bd3786"
             ],
             [
              0.5555555555555556,
              "#d8576b"
             ],
             [
              0.6666666666666666,
              "#ed7953"
             ],
             [
              0.7777777777777778,
              "#fb9f3a"
             ],
             [
              0.8888888888888888,
              "#fdca26"
             ],
             [
              1,
              "#f0f921"
             ]
            ],
            "type": "contour"
           }
          ],
          "contourcarpet": [
           {
            "colorbar": {
             "outlinewidth": 0,
             "ticks": ""
            },
            "type": "contourcarpet"
           }
          ],
          "heatmap": [
           {
            "colorbar": {
             "outlinewidth": 0,
             "ticks": ""
            },
            "colorscale": [
             [
              0,
              "#0d0887"
             ],
             [
              0.1111111111111111,
              "#46039f"
             ],
             [
              0.2222222222222222,
              "#7201a8"
             ],
             [
              0.3333333333333333,
              "#9c179e"
             ],
             [
              0.4444444444444444,
              "#bd3786"
             ],
             [
              0.5555555555555556,
              "#d8576b"
             ],
             [
              0.6666666666666666,
              "#ed7953"
             ],
             [
              0.7777777777777778,
              "#fb9f3a"
             ],
             [
              0.8888888888888888,
              "#fdca26"
             ],
             [
              1,
              "#f0f921"
             ]
            ],
            "type": "heatmap"
           }
          ],
          "heatmapgl": [
           {
            "colorbar": {
             "outlinewidth": 0,
             "ticks": ""
            },
            "colorscale": [
             [
              0,
              "#0d0887"
             ],
             [
              0.1111111111111111,
              "#46039f"
             ],
             [
              0.2222222222222222,
              "#7201a8"
             ],
             [
              0.3333333333333333,
              "#9c179e"
             ],
             [
              0.4444444444444444,
              "#bd3786"
             ],
             [
              0.5555555555555556,
              "#d8576b"
             ],
             [
              0.6666666666666666,
              "#ed7953"
             ],
             [
              0.7777777777777778,
              "#fb9f3a"
             ],
             [
              0.8888888888888888,
              "#fdca26"
             ],
             [
              1,
              "#f0f921"
             ]
            ],
            "type": "heatmapgl"
           }
          ],
          "histogram": [
           {
            "marker": {
             "pattern": {
              "fillmode": "overlay",
              "size": 10,
              "solidity": 0.2
             }
            },
            "type": "histogram"
           }
          ],
          "histogram2d": [
           {
            "colorbar": {
             "outlinewidth": 0,
             "ticks": ""
            },
            "colorscale": [
             [
              0,
              "#0d0887"
             ],
             [
              0.1111111111111111,
              "#46039f"
             ],
             [
              0.2222222222222222,
              "#7201a8"
             ],
             [
              0.3333333333333333,
              "#9c179e"
             ],
             [
              0.4444444444444444,
              "#bd3786"
             ],
             [
              0.5555555555555556,
              "#d8576b"
             ],
             [
              0.6666666666666666,
              "#ed7953"
             ],
             [
              0.7777777777777778,
              "#fb9f3a"
             ],
             [
              0.8888888888888888,
              "#fdca26"
             ],
             [
              1,
              "#f0f921"
             ]
            ],
            "type": "histogram2d"
           }
          ],
          "histogram2dcontour": [
           {
            "colorbar": {
             "outlinewidth": 0,
             "ticks": ""
            },
            "colorscale": [
             [
              0,
              "#0d0887"
             ],
             [
              0.1111111111111111,
              "#46039f"
             ],
             [
              0.2222222222222222,
              "#7201a8"
             ],
             [
              0.3333333333333333,
              "#9c179e"
             ],
             [
              0.4444444444444444,
              "#bd3786"
             ],
             [
              0.5555555555555556,
              "#d8576b"
             ],
             [
              0.6666666666666666,
              "#ed7953"
             ],
             [
              0.7777777777777778,
              "#fb9f3a"
             ],
             [
              0.8888888888888888,
              "#fdca26"
             ],
             [
              1,
              "#f0f921"
             ]
            ],
            "type": "histogram2dcontour"
           }
          ],
          "mesh3d": [
           {
            "colorbar": {
             "outlinewidth": 0,
             "ticks": ""
            },
            "type": "mesh3d"
           }
          ],
          "parcoords": [
           {
            "line": {
             "colorbar": {
              "outlinewidth": 0,
              "ticks": ""
             }
            },
            "type": "parcoords"
           }
          ],
          "pie": [
           {
            "automargin": true,
            "type": "pie"
           }
          ],
          "scatter": [
           {
            "fillpattern": {
             "fillmode": "overlay",
             "size": 10,
             "solidity": 0.2
            },
            "type": "scatter"
           }
          ],
          "scatter3d": [
           {
            "line": {
             "colorbar": {
              "outlinewidth": 0,
              "ticks": ""
             }
            },
            "marker": {
             "colorbar": {
              "outlinewidth": 0,
              "ticks": ""
             }
            },
            "type": "scatter3d"
           }
          ],
          "scattercarpet": [
           {
            "marker": {
             "colorbar": {
              "outlinewidth": 0,
              "ticks": ""
             }
            },
            "type": "scattercarpet"
           }
          ],
          "scattergeo": [
           {
            "marker": {
             "colorbar": {
              "outlinewidth": 0,
              "ticks": ""
             }
            },
            "type": "scattergeo"
           }
          ],
          "scattergl": [
           {
            "marker": {
             "colorbar": {
              "outlinewidth": 0,
              "ticks": ""
             }
            },
            "type": "scattergl"
           }
          ],
          "scattermapbox": [
           {
            "marker": {
             "colorbar": {
              "outlinewidth": 0,
              "ticks": ""
             }
            },
            "type": "scattermapbox"
           }
          ],
          "scatterpolar": [
           {
            "marker": {
             "colorbar": {
              "outlinewidth": 0,
              "ticks": ""
             }
            },
            "type": "scatterpolar"
           }
          ],
          "scatterpolargl": [
           {
            "marker": {
             "colorbar": {
              "outlinewidth": 0,
              "ticks": ""
             }
            },
            "type": "scatterpolargl"
           }
          ],
          "scatterternary": [
           {
            "marker": {
             "colorbar": {
              "outlinewidth": 0,
              "ticks": ""
             }
            },
            "type": "scatterternary"
           }
          ],
          "surface": [
           {
            "colorbar": {
             "outlinewidth": 0,
             "ticks": ""
            },
            "colorscale": [
             [
              0,
              "#0d0887"
             ],
             [
              0.1111111111111111,
              "#46039f"
             ],
             [
              0.2222222222222222,
              "#7201a8"
             ],
             [
              0.3333333333333333,
              "#9c179e"
             ],
             [
              0.4444444444444444,
              "#bd3786"
             ],
             [
              0.5555555555555556,
              "#d8576b"
             ],
             [
              0.6666666666666666,
              "#ed7953"
             ],
             [
              0.7777777777777778,
              "#fb9f3a"
             ],
             [
              0.8888888888888888,
              "#fdca26"
             ],
             [
              1,
              "#f0f921"
             ]
            ],
            "type": "surface"
           }
          ],
          "table": [
           {
            "cells": {
             "fill": {
              "color": "#EBF0F8"
             },
             "line": {
              "color": "white"
             }
            },
            "header": {
             "fill": {
              "color": "#C8D4E3"
             },
             "line": {
              "color": "white"
             }
            },
            "type": "table"
           }
          ]
         },
         "layout": {
          "annotationdefaults": {
           "arrowcolor": "#2a3f5f",
           "arrowhead": 0,
           "arrowwidth": 1
          },
          "autotypenumbers": "strict",
          "coloraxis": {
           "colorbar": {
            "outlinewidth": 0,
            "ticks": ""
           }
          },
          "colorscale": {
           "diverging": [
            [
             0,
             "#8e0152"
            ],
            [
             0.1,
             "#c51b7d"
            ],
            [
             0.2,
             "#de77ae"
            ],
            [
             0.3,
             "#f1b6da"
            ],
            [
             0.4,
             "#fde0ef"
            ],
            [
             0.5,
             "#f7f7f7"
            ],
            [
             0.6,
             "#e6f5d0"
            ],
            [
             0.7,
             "#b8e186"
            ],
            [
             0.8,
             "#7fbc41"
            ],
            [
             0.9,
             "#4d9221"
            ],
            [
             1,
             "#276419"
            ]
           ],
           "sequential": [
            [
             0,
             "#0d0887"
            ],
            [
             0.1111111111111111,
             "#46039f"
            ],
            [
             0.2222222222222222,
             "#7201a8"
            ],
            [
             0.3333333333333333,
             "#9c179e"
            ],
            [
             0.4444444444444444,
             "#bd3786"
            ],
            [
             0.5555555555555556,
             "#d8576b"
            ],
            [
             0.6666666666666666,
             "#ed7953"
            ],
            [
             0.7777777777777778,
             "#fb9f3a"
            ],
            [
             0.8888888888888888,
             "#fdca26"
            ],
            [
             1,
             "#f0f921"
            ]
           ],
           "sequentialminus": [
            [
             0,
             "#0d0887"
            ],
            [
             0.1111111111111111,
             "#46039f"
            ],
            [
             0.2222222222222222,
             "#7201a8"
            ],
            [
             0.3333333333333333,
             "#9c179e"
            ],
            [
             0.4444444444444444,
             "#bd3786"
            ],
            [
             0.5555555555555556,
             "#d8576b"
            ],
            [
             0.6666666666666666,
             "#ed7953"
            ],
            [
             0.7777777777777778,
             "#fb9f3a"
            ],
            [
             0.8888888888888888,
             "#fdca26"
            ],
            [
             1,
             "#f0f921"
            ]
           ]
          },
          "colorway": [
           "#636efa",
           "#EF553B",
           "#00cc96",
           "#ab63fa",
           "#FFA15A",
           "#19d3f3",
           "#FF6692",
           "#B6E880",
           "#FF97FF",
           "#FECB52"
          ],
          "font": {
           "color": "#2a3f5f"
          },
          "geo": {
           "bgcolor": "white",
           "lakecolor": "white",
           "landcolor": "#E5ECF6",
           "showlakes": true,
           "showland": true,
           "subunitcolor": "white"
          },
          "hoverlabel": {
           "align": "left"
          },
          "hovermode": "closest",
          "mapbox": {
           "style": "light"
          },
          "paper_bgcolor": "white",
          "plot_bgcolor": "#E5ECF6",
          "polar": {
           "angularaxis": {
            "gridcolor": "white",
            "linecolor": "white",
            "ticks": ""
           },
           "bgcolor": "#E5ECF6",
           "radialaxis": {
            "gridcolor": "white",
            "linecolor": "white",
            "ticks": ""
           }
          },
          "scene": {
           "xaxis": {
            "backgroundcolor": "#E5ECF6",
            "gridcolor": "white",
            "gridwidth": 2,
            "linecolor": "white",
            "showbackground": true,
            "ticks": "",
            "zerolinecolor": "white"
           },
           "yaxis": {
            "backgroundcolor": "#E5ECF6",
            "gridcolor": "white",
            "gridwidth": 2,
            "linecolor": "white",
            "showbackground": true,
            "ticks": "",
            "zerolinecolor": "white"
           },
           "zaxis": {
            "backgroundcolor": "#E5ECF6",
            "gridcolor": "white",
            "gridwidth": 2,
            "linecolor": "white",
            "showbackground": true,
            "ticks": "",
            "zerolinecolor": "white"
           }
          },
          "shapedefaults": {
           "line": {
            "color": "#2a3f5f"
           }
          },
          "ternary": {
           "aaxis": {
            "gridcolor": "white",
            "linecolor": "white",
            "ticks": ""
           },
           "baxis": {
            "gridcolor": "white",
            "linecolor": "white",
            "ticks": ""
           },
           "bgcolor": "#E5ECF6",
           "caxis": {
            "gridcolor": "white",
            "linecolor": "white",
            "ticks": ""
           }
          },
          "title": {
           "x": 0.05
          },
          "xaxis": {
           "automargin": true,
           "gridcolor": "white",
           "linecolor": "white",
           "ticks": "",
           "title": {
            "standoff": 15
           },
           "zerolinecolor": "white",
           "zerolinewidth": 2
          },
          "yaxis": {
           "automargin": true,
           "gridcolor": "white",
           "linecolor": "white",
           "ticks": "",
           "title": {
            "standoff": 15
           },
           "zerolinecolor": "white",
           "zerolinewidth": 2
          }
         }
        },
        "xaxis": {
         "anchor": "y",
         "domain": [
          0,
          1
         ],
         "title": {
          "text": "params.week_end_experiment_end_date"
         }
        },
        "yaxis": {
         "anchor": "x",
         "domain": [
          0,
          1
         ],
         "title": {
          "text": "params.Product_Type.value_drift_score"
         }
        }
       }
      },
      "text/html": [
       "<div>                            <div id=\"cf3e6bb7-fb53-4ddf-ba34-2b85ca82a1af\" class=\"plotly-graph-div\" style=\"height:525px; width:100%;\"></div>            <script type=\"text/javascript\">                require([\"plotly\"], function(Plotly) {                    window.PLOTLYENV=window.PLOTLYENV || {};                                    if (document.getElementById(\"cf3e6bb7-fb53-4ddf-ba34-2b85ca82a1af\")) {                    Plotly.newPlot(                        \"cf3e6bb7-fb53-4ddf-ba34-2b85ca82a1af\",                        [{\"hovertemplate\":\"params.week_end_experiment_end_date=%{x}<br>params.Product_Type.value_drift_score=%{y}<extra></extra>\",\"legendgroup\":\"\",\"line\":{\"color\":\"#636efa\",\"dash\":\"solid\"},\"marker\":{\"symbol\":\"circle\"},\"mode\":\"lines+markers\",\"name\":\"\",\"orientation\":\"v\",\"showlegend\":false,\"x\":[\"2018-12-30 00:00:00\",\"2018-12-30 00:00:00\",\"2018-12-30 00:00:00\",\"2018-12-30 00:00:00\",\"2019-01-06 00:00:00\",\"2019-01-06 00:00:00\",\"2019-01-06 00:00:00\",\"2019-01-13 00:00:00\",\"2019-01-13 00:00:00\",\"2019-01-13 00:00:00\",\"2019-01-20 00:00:00\",\"2019-01-20 00:00:00\",\"2019-01-20 00:00:00\",\"2019-01-27 00:00:00\",\"2019-01-27 00:00:00\",\"2019-01-27 00:00:00\",\"2019-02-03 00:00:00\",\"2019-02-03 00:00:00\",\"2019-02-03 00:00:00\",\"2019-02-10 00:00:00\",\"2019-02-10 00:00:00\",\"2019-02-10 00:00:00\",\"2019-02-17 00:00:00\",\"2019-02-17 00:00:00\",\"2019-02-17 00:00:00\",\"2019-02-24 00:00:00\",\"2019-02-24 00:00:00\",\"2019-02-24 00:00:00\",\"2019-03-03 00:00:00\",\"2019-03-03 00:00:00\",\"2019-03-03 00:00:00\",\"2019-03-03 00:00:00\",\"2019-03-03 00:00:00\",\"2019-03-03 00:00:00\",\"2019-03-03 00:00:00\",\"2019-03-10 00:00:00\",\"2019-03-10 00:00:00\",\"2019-03-10 00:00:00\",\"2019-03-10 00:00:00\",\"2019-03-17 00:00:00\",\"2019-03-17 00:00:00\",\"2019-03-17 00:00:00\",\"2019-03-17 00:00:00\",\"2019-03-24 00:00:00\",\"2019-03-24 00:00:00\",\"2019-03-24 00:00:00\",\"2019-03-24 00:00:00\",\"2019-03-31 00:00:00\",\"2019-03-31 00:00:00\",\"2019-03-31 00:00:00\",\"2019-03-31 00:00:00\",\"2019-04-07 00:00:00\",\"2019-04-07 00:00:00\",\"2019-04-07 00:00:00\",\"2019-04-07 00:00:00\",\"2019-04-14 00:00:00\",\"2019-04-14 00:00:00\",\"2019-04-14 00:00:00\",\"2019-04-14 00:00:00\",\"2019-04-21 00:00:00\",\"2019-04-21 00:00:00\",\"2019-04-21 00:00:00\",\"2019-04-21 00:00:00\",\"2019-04-28 00:00:00\",\"2019-04-28 00:00:00\",\"2019-04-28 00:00:00\",\"2019-04-28 00:00:00\",\"2019-05-05 00:00:00\",\"2019-05-05 00:00:00\",\"2019-05-05 00:00:00\",\"2019-05-05 00:00:00\",\"2019-05-12 00:00:00\",\"2019-05-12 00:00:00\",\"2019-05-12 00:00:00\",\"2019-05-12 00:00:00\",\"2019-05-19 00:00:00\",\"2019-05-19 00:00:00\",\"2019-05-19 00:00:00\",\"2019-05-19 00:00:00\",\"2019-05-26 00:00:00\",\"2019-05-26 00:00:00\",\"2019-05-26 00:00:00\",\"2019-05-26 00:00:00\",\"2019-06-02 00:00:00\",\"2019-06-02 00:00:00\",\"2019-06-02 00:00:00\",\"2019-06-02 00:00:00\",\"2019-06-09 00:00:00\",\"2019-06-09 00:00:00\",\"2019-06-09 00:00:00\",\"2019-06-09 00:00:00\",\"2019-06-16 00:00:00\",\"2019-06-16 00:00:00\",\"2019-06-16 00:00:00\",\"2019-06-16 00:00:00\",\"2019-06-23 00:00:00\",\"2019-06-23 00:00:00\",\"2019-06-23 00:00:00\",\"2019-06-23 00:00:00\",\"2019-06-30 00:00:00\",\"2019-06-30 00:00:00\",\"2019-06-30 00:00:00\",\"2019-06-30 00:00:00\",\"2019-07-07 00:00:00\",\"2019-07-07 00:00:00\",\"2019-07-07 00:00:00\",\"2019-07-07 00:00:00\",\"2019-07-14 00:00:00\",\"2019-07-14 00:00:00\",\"2019-07-14 00:00:00\",\"2019-07-14 00:00:00\",\"2019-07-21 00:00:00\",\"2019-07-21 00:00:00\",\"2019-07-21 00:00:00\",\"2019-07-21 00:00:00\",\"2019-07-28 00:00:00\",\"2019-07-28 00:00:00\",\"2019-07-28 00:00:00\",\"2019-07-28 00:00:00\",\"2019-08-04 00:00:00\",\"2019-08-04 00:00:00\",\"2019-08-04 00:00:00\",\"2019-08-04 00:00:00\",\"2019-08-11 00:00:00\",\"2019-08-11 00:00:00\",\"2019-08-11 00:00:00\",\"2019-08-11 00:00:00\",\"2019-08-18 00:00:00\",\"2019-08-18 00:00:00\",\"2019-08-18 00:00:00\",\"2019-08-18 00:00:00\",\"2019-08-25 00:00:00\",\"2019-08-25 00:00:00\",\"2019-08-25 00:00:00\",\"2019-08-25 00:00:00\",\"2019-09-01 00:00:00\",\"2019-09-01 00:00:00\",\"2019-09-01 00:00:00\",\"2019-09-01 00:00:00\",\"2019-09-08 00:00:00\",\"2019-09-08 00:00:00\",\"2019-09-08 00:00:00\",\"2019-09-08 00:00:00\",\"2019-09-15 00:00:00\",\"2019-09-15 00:00:00\",\"2019-09-15 00:00:00\",\"2019-09-15 00:00:00\",\"2019-09-22 00:00:00\",\"2019-09-22 00:00:00\",\"2019-09-22 00:00:00\",\"2019-09-22 00:00:00\",\"2019-09-29 00:00:00\",\"2019-09-29 00:00:00\",\"2019-09-29 00:00:00\",\"2019-09-29 00:00:00\",\"2019-10-06 00:00:00\",\"2019-10-06 00:00:00\",\"2019-10-06 00:00:00\",\"2019-10-06 00:00:00\",\"2019-10-13 00:00:00\",\"2019-10-13 00:00:00\",\"2019-10-13 00:00:00\",\"2019-10-13 00:00:00\",\"2019-10-20 00:00:00\",\"2019-10-20 00:00:00\",\"2019-10-20 00:00:00\",\"2019-10-20 00:00:00\",\"2019-10-27 00:00:00\",\"2019-10-27 00:00:00\",\"2019-10-27 00:00:00\",\"2019-10-27 00:00:00\",\"2019-11-03 00:00:00\",\"2019-11-03 00:00:00\",\"2019-11-03 00:00:00\",\"2019-11-03 00:00:00\",\"2019-11-10 00:00:00\",\"2019-11-10 00:00:00\",\"2019-11-10 00:00:00\",\"2019-11-10 00:00:00\",\"2019-11-17 00:00:00\",\"2019-11-17 00:00:00\",\"2019-11-17 00:00:00\",\"2019-11-17 00:00:00\",\"2019-11-24 00:00:00\",\"2019-11-24 00:00:00\",\"2019-11-24 00:00:00\",\"2019-11-24 00:00:00\",\"2019-12-01 00:00:00\",\"2019-12-01 00:00:00\",\"2019-12-01 00:00:00\",\"2019-12-01 00:00:00\",\"2019-12-08 00:00:00\",\"2019-12-08 00:00:00\",\"2019-12-08 00:00:00\",\"2019-12-08 00:00:00\",\"2019-12-15 00:00:00\",\"2019-12-15 00:00:00\",\"2019-12-15 00:00:00\",\"2019-12-15 00:00:00\",\"2019-12-22 00:00:00\",\"2019-12-22 00:00:00\",\"2019-12-22 00:00:00\",\"2019-12-22 00:00:00\",\"2019-12-29 00:00:00\",\"2019-12-29 00:00:00\",\"2019-12-29 00:00:00\",\"2019-12-29 00:00:00\",\"2020-01-05 00:00:00\",\"2020-01-05 00:00:00\",\"2020-01-05 00:00:00\",\"2020-01-05 00:00:00\",\"2020-01-12 00:00:00\",\"2020-01-12 00:00:00\",\"2020-01-12 00:00:00\",\"2020-01-12 00:00:00\",\"2020-01-19 00:00:00\",\"2020-01-19 00:00:00\",\"2020-01-19 00:00:00\",\"2020-01-19 00:00:00\",\"2020-01-26 00:00:00\",\"2020-01-26 00:00:00\",\"2020-01-26 00:00:00\",\"2020-01-26 00:00:00\",\"2020-02-02 00:00:00\",\"2020-02-02 00:00:00\",\"2020-02-02 00:00:00\",\"2020-02-02 00:00:00\",\"2020-02-09 00:00:00\",\"2020-02-09 00:00:00\",\"2020-02-09 00:00:00\",\"2020-02-09 00:00:00\",\"2020-02-16 00:00:00\",\"2020-02-16 00:00:00\",\"2020-02-16 00:00:00\",\"2020-02-16 00:00:00\",\"2020-02-23 00:00:00\",\"2020-02-23 00:00:00\",\"2020-02-23 00:00:00\",\"2020-02-23 00:00:00\",\"2020-03-01 00:00:00\",\"2020-03-01 00:00:00\",\"2020-03-01 00:00:00\",\"2020-03-01 00:00:00\",\"2020-03-08 00:00:00\",\"2020-03-08 00:00:00\",\"2020-03-08 00:00:00\",\"2020-03-08 00:00:00\",\"2020-03-15 00:00:00\",\"2020-03-15 00:00:00\",\"2020-03-15 00:00:00\",\"2020-03-15 00:00:00\",\"2020-03-22 00:00:00\",\"2020-03-22 00:00:00\",\"2020-03-22 00:00:00\",\"2020-03-22 00:00:00\",\"2020-03-29 00:00:00\",\"2020-03-29 00:00:00\",\"2020-03-29 00:00:00\",\"2020-03-29 00:00:00\",\"2020-04-05 00:00:00\",\"2020-04-05 00:00:00\",\"2020-04-05 00:00:00\",\"2020-04-05 00:00:00\",\"2020-04-12 00:00:00\",\"2020-04-12 00:00:00\",\"2020-04-12 00:00:00\",\"2020-04-12 00:00:00\",\"2020-04-19 00:00:00\",\"2020-04-19 00:00:00\",\"2020-04-19 00:00:00\",\"2020-04-19 00:00:00\",\"2020-04-26 00:00:00\",\"2020-04-26 00:00:00\",\"2020-04-26 00:00:00\",\"2020-04-26 00:00:00\",\"2020-05-03 00:00:00\",\"2020-05-03 00:00:00\",\"2020-05-03 00:00:00\",\"2020-05-03 00:00:00\",\"2020-05-10 00:00:00\",\"2020-05-10 00:00:00\",\"2020-05-10 00:00:00\",\"2020-05-10 00:00:00\",\"2020-05-17 00:00:00\",\"2020-05-17 00:00:00\",\"2020-05-17 00:00:00\",\"2020-05-17 00:00:00\",\"2020-05-24 00:00:00\",\"2020-05-24 00:00:00\",\"2020-05-24 00:00:00\",\"2020-05-24 00:00:00\",\"2020-05-31 00:00:00\",\"2020-05-31 00:00:00\",\"2020-05-31 00:00:00\",\"2020-05-31 00:00:00\",\"2020-06-07 00:00:00\",\"2020-06-07 00:00:00\",\"2020-06-07 00:00:00\",\"2020-06-07 00:00:00\",\"2020-06-14 00:00:00\",\"2020-06-14 00:00:00\",\"2020-06-14 00:00:00\",\"2020-06-14 00:00:00\",\"2020-06-21 00:00:00\",\"2020-06-21 00:00:00\",\"2020-06-21 00:00:00\",\"2020-06-21 00:00:00\",\"2020-06-28 00:00:00\",\"2020-06-28 00:00:00\",\"2020-06-28 00:00:00\",\"2020-06-28 00:00:00\",\"2020-07-05 00:00:00\",\"2020-07-05 00:00:00\",\"2020-07-05 00:00:00\",\"2020-07-05 00:00:00\",\"2020-07-12 00:00:00\",\"2020-07-12 00:00:00\",\"2020-07-12 00:00:00\",\"2020-07-12 00:00:00\",\"2020-07-19 00:00:00\",\"2020-07-19 00:00:00\",\"2020-07-19 00:00:00\",\"2020-07-19 00:00:00\",\"2020-07-26 00:00:00\",\"2020-07-26 00:00:00\",\"2020-07-26 00:00:00\",\"2020-07-26 00:00:00\",\"2020-08-02 00:00:00\",\"2020-08-02 00:00:00\",\"2020-08-02 00:00:00\",\"2020-08-02 00:00:00\",\"2020-08-09 00:00:00\",\"2020-08-09 00:00:00\",\"2020-08-09 00:00:00\",\"2020-08-09 00:00:00\",\"2020-08-16 00:00:00\",\"2020-08-16 00:00:00\",\"2020-08-16 00:00:00\",\"2020-08-16 00:00:00\",\"2020-08-23 00:00:00\",\"2020-08-23 00:00:00\",\"2020-08-23 00:00:00\",\"2020-08-23 00:00:00\",\"2020-08-30 00:00:00\",\"2020-08-30 00:00:00\",\"2020-08-30 00:00:00\",\"2020-08-30 00:00:00\",\"2020-09-06 00:00:00\",\"2020-09-06 00:00:00\",\"2020-09-06 00:00:00\",\"2020-09-06 00:00:00\",\"2020-09-13 00:00:00\",\"2020-09-13 00:00:00\",\"2020-09-13 00:00:00\",\"2020-09-13 00:00:00\",\"2020-09-20 00:00:00\",\"2020-09-20 00:00:00\",\"2020-09-20 00:00:00\",\"2020-09-20 00:00:00\",\"2020-09-27 00:00:00\",\"2020-09-27 00:00:00\",\"2020-09-27 00:00:00\",\"2020-09-27 00:00:00\",\"2020-10-04 00:00:00\",\"2020-10-04 00:00:00\",\"2020-10-04 00:00:00\",\"2020-10-04 00:00:00\",\"2020-10-11 00:00:00\",\"2020-10-11 00:00:00\",\"2020-10-11 00:00:00\",\"2020-10-11 00:00:00\",\"2020-10-18 00:00:00\",\"2020-10-18 00:00:00\",\"2020-10-18 00:00:00\",\"2020-10-18 00:00:00\",\"2020-10-25 00:00:00\",\"2020-10-25 00:00:00\",\"2020-10-25 00:00:00\",\"2020-10-25 00:00:00\",\"2020-11-01 00:00:00\",\"2020-11-01 00:00:00\",\"2020-11-01 00:00:00\",\"2020-11-01 00:00:00\",\"2020-11-08 00:00:00\",\"2020-11-08 00:00:00\",\"2020-11-08 00:00:00\",\"2020-11-08 00:00:00\",\"2020-11-15 00:00:00\",\"2020-11-15 00:00:00\",\"2020-11-15 00:00:00\",\"2020-11-15 00:00:00\"],\"xaxis\":\"x\",\"y\":[0.8325546111576977,0.8325546111576977,0.0,0.8325546111576977,0.8325546111576977,0.8325546111576977,0.8325546111576977,0.8325546111576977,0.8325546111576977,0.8325546111576977,0.8325546111576977,0.8325546111576977,0.8325546111576977,0.8325546111576977,0.8325546111576977,0.8325546111576977,0.8325546111576977,0.8325546111576977,0.8325546111576977,0.8325546111576977,0.8325546111576977,0.8325546111576977,0.8325546111576977,0.8325546111576977,0.8325546111576977,0.8325546111576977,0.8325546111576977,0.8325546111576977,0.8325546111576977,0.8325546111576977,0.8325546111576977,0.8325546111576977,0.8325546111576977,0.8325546111576977,0.8325546111576977,0.8325546111576977,0.8325546111576977,0.8325546111576977,0.8325546111576977,0.8325546111576977,0.8325546111576977,0.8325546111576977,0.8325546111576977,0.8325546111576977,0.8325546111576977,0.8325546111576977,0.8325546111576977,0.8325546111576977,0.8325546111576977,0.8325546111576977,0.8325546111576977,0.8325546111576977,0.8325546111576977,0.8325546111576977,0.8325546111576977,0.8325546111576977,0.8325546111576977,0.8325546111576977,0.8325546111576977,0.8325546111576977,0.8325546111576977,0.8325546111576977,0.8325546111576977,0.8325546111576977,0.8325546111576977,0.8325546111576977,0.8325546111576977,0.8325546111576977,0.8325546111576977,0.8325546111576977,0.8325546111576977,0.8325546111576977,0.8325546111576977,0.8325546111576977,0.8325546111576977,0.8325546111576977,0.8325546111576977,0.8325546111576977,0.8325546111576977,0.8325546111576977,0.8325546111576977,0.8325546111576977,0.8325546111576977,0.8325546111576977,0.8325546111576977,0.8325546111576977,0.8325546111576977,0.8325546111576977,0.8325546111576977,0.8325546111576977,0.8325546111576977,0.8325546111576977,0.8325546111576977,0.8325546111576977,0.8325546111576977,0.8325546111576977,0.8325546111576977,0.8325546111576977,0.8325546111576977,0.8325546111576977,0.8325546111576977,0.8325546111576977,0.8325546111576977,0.8325546111576977,0.8325546111576977,0.8325546111576977,0.8325546111576977,0.8325546111576977,0.8325546111576977,0.8325546111576977,0.8325546111576977,0.8325546111576977,0.8325546111576977,0.8325546111576977,0.8325546111576977,0.8325546111576977,0.8325546111576977,0.8325546111576977,0.8325546111576977,0.8325546111576977,0.8325546111576977,0.8325546111576977,0.8325546111576977,0.8325546111576977,0.8325546111576977,0.8325546111576977,0.8325546111576977,0.8325546111576977,0.8325546111576977,0.8325546111576977,0.8325546111576977,0.8325546111576977,0.8325546111576977,0.8325546111576977,0.8325546111576977,0.8325546111576977,0.8325546111576977,0.8325546111576977,0.8325546111576977,0.8325546111576977,0.8325546111576977,0.8325546111576977,0.8325546111576977,0.8325546111576977,0.8325546111576977,0.8325546111576977,0.8325546111576977,0.8325546111576977,0.8325546111576977,0.8325546111576977,0.8325546111576977,0.8325546111576977,0.8325546111576977,0.8325546111576977,0.8325546111576977,0.8325546111576977,0.8325546111576977,0.8325546111576977,0.8325546111576977,0.8325546111576977,0.8325546111576977,0.8325546111576977,0.8325546111576977,0.8325546111576977,0.8325546111576977,0.8325546111576977,0.8325546111576977,0.8325546111576977,0.8325546111576977,0.8325546111576977,0.8325546111576977,0.8325546111576977,0.8325546111576977,0.8325546111576977,0.8325546111576977,0.8325546111576977,0.8325546111576977,0.8325546111576977,0.8325546111576977,0.8325546111576977,0.8325546111576977,0.8325546111576977,0.8325546111576977,0.8325546111576977,0.8325546111576977,0.8325546111576977,0.8325546111576977,0.8325546111576977,0.8325546111576977,0.8325546111576977,0.8325546111576977,0.8325546111576977,0.8325546111576977,0.8325546111576977,0.8325546111576977,0.8325546111576977,0.8325546111576977,0.8325546111576977,0.8325546111576977,0.8325546111576977,0.8325546111576977,0.8325546111576977,0.8325546111576977,0.8325546111576977,0.8325546111576977,0.8325546111576977,0.8325546111576977,0.8325546111576977,0.8325546111576977,0.8325546111576977,0.8325546111576977,0.8325546111576977,0.8325546111576977,0.8325546111576977,0.8325546111576977,0.8325546111576977,0.8325546111576977,0.8325546111576977,0.8325546111576977,0.8325546111576977,0.8325546111576977,0.8325546111576977,0.8325546111576977,0.8325546111576977,0.8325546111576977,0.8325546111576977,0.8325546111576977,0.8325546111576977,0.8325546111576977,0.8325546111576977,0.8325546111576977,0.8325546111576977,0.8325546111576977,0.8325546111576977,0.8325546111576977,0.8325546111576977,0.8325546111576977,0.8325546111576977,0.8325546111576977,0.8325546111576977,0.8325546111576977,0.8325546111576977,0.8325546111576977,0.8325546111576977,0.8325546111576977,0.8325546111576977,0.8325546111576977,0.8325546111576977,0.8325546111576977,0.8325546111576977,0.8325546111576977,0.8325546111576977,0.8325546111576977,0.8325546111576977,0.8325546111576977,0.8325546111576977,0.8325546111576977,0.8325546111576977,0.8325546111576977,0.8325546111576977,0.8325546111576977,0.8325546111576977,0.8325546111576977,0.8325546111576977,0.8325546111576977,0.8325546111576977,0.8325546111576977,0.8325546111576977,0.8325546111576977,0.8325546111576977,0.8325546111576977,0.8325546111576977,0.8325546111576977,0.8325546111576977,0.8325546111576977,0.8325546111576977,0.8325546111576977,0.8325546111576977,0.8325546111576977,0.8325546111576977,0.8325546111576977,0.8325546111576977,0.8325546111576977,0.8325546111576977,0.8325546111576977,0.8325546111576977,0.8325546111576977,0.8325546111576977,0.8325546111576977,0.8325546111576977,0.8325546111576977,0.8325546111576977,0.8325546111576977,0.8325546111576977,0.8325546111576977,0.8325546111576977,0.8325546111576977,0.8325546111576977,0.8325546111576977,0.8325546111576977,0.8325546111576977,0.8325546111576977,0.8325546111576977,0.8325546111576977,0.8325546111576977,0.8325546111576977,0.8325546111576977,0.8325546111576977,0.8325546111576977,0.8325546111576977,0.8325546111576977,0.8325546111576977,0.8325546111576977,0.8325546111576977,0.8325546111576977,0.8325546111576977,0.8325546111576977,0.8325546111576977,0.8325546111576977,0.8325546111576977,0.8325546111576977,0.8325546111576977,0.8325546111576977,0.8325546111576977,0.8325546111576977,0.8325546111576977,0.8325546111576977,0.8325546111576977,0.8325546111576977,0.8325546111576977,0.8325546111576977,0.8325546111576977,0.8325546111576977,0.8325546111576977,0.8325546111576977,0.8325546111576977,0.8325546111576977,0.8325546111576977,0.8325546111576977,0.8325546111576977,0.8325546111576977,0.8325546111576977,0.8325546111576977,0.8325546111576977,0.8325546111576977,0.8325546111576977,0.8325546111576977,0.8325546111576977,0.8325546111576977,0.8325546111576977,0.8325546111576977,0.8325546111576977,0.8325546111576977,0.8325546111576977,0.8325546111576977,0.8325546111576977,0.8325546111576977,0.8325546111576977,0.8325546111576977,0.8325546111576977,0.8325546111576977,0.8325546111576977,0.8325546111576977,0.8325546111576977,0.8325546111576977,0.8325546111576977,0.8325546111576977,0.8325546111576977,0.8325546111576977,0.8325546111576977,0.8325546111576977,0.8325546111576977,0.8325546111576977,0.8325546111576977,0.8325546111576977,0.8325546111576977,0.8325546111576977,0.8325546111576977,0.8325546111576977,0.8325546111576977,0.8325546111576977,0.8325546111576977,0.8325546111576977,0.8325546111576977,0.8325546111576977,0.8325546111576977,0.8325546111576977,0.8325546111576977,0.8325546111576977,0.8325546111576977,0.8325546111576977],\"yaxis\":\"y\",\"type\":\"scatter\"}],                        {\"template\":{\"data\":{\"histogram2dcontour\":[{\"type\":\"histogram2dcontour\",\"colorbar\":{\"outlinewidth\":0,\"ticks\":\"\"},\"colorscale\":[[0.0,\"#0d0887\"],[0.1111111111111111,\"#46039f\"],[0.2222222222222222,\"#7201a8\"],[0.3333333333333333,\"#9c179e\"],[0.4444444444444444,\"#bd3786\"],[0.5555555555555556,\"#d8576b\"],[0.6666666666666666,\"#ed7953\"],[0.7777777777777778,\"#fb9f3a\"],[0.8888888888888888,\"#fdca26\"],[1.0,\"#f0f921\"]]}],\"choropleth\":[{\"type\":\"choropleth\",\"colorbar\":{\"outlinewidth\":0,\"ticks\":\"\"}}],\"histogram2d\":[{\"type\":\"histogram2d\",\"colorbar\":{\"outlinewidth\":0,\"ticks\":\"\"},\"colorscale\":[[0.0,\"#0d0887\"],[0.1111111111111111,\"#46039f\"],[0.2222222222222222,\"#7201a8\"],[0.3333333333333333,\"#9c179e\"],[0.4444444444444444,\"#bd3786\"],[0.5555555555555556,\"#d8576b\"],[0.6666666666666666,\"#ed7953\"],[0.7777777777777778,\"#fb9f3a\"],[0.8888888888888888,\"#fdca26\"],[1.0,\"#f0f921\"]]}],\"heatmap\":[{\"type\":\"heatmap\",\"colorbar\":{\"outlinewidth\":0,\"ticks\":\"\"},\"colorscale\":[[0.0,\"#0d0887\"],[0.1111111111111111,\"#46039f\"],[0.2222222222222222,\"#7201a8\"],[0.3333333333333333,\"#9c179e\"],[0.4444444444444444,\"#bd3786\"],[0.5555555555555556,\"#d8576b\"],[0.6666666666666666,\"#ed7953\"],[0.7777777777777778,\"#fb9f3a\"],[0.8888888888888888,\"#fdca26\"],[1.0,\"#f0f921\"]]}],\"heatmapgl\":[{\"type\":\"heatmapgl\",\"colorbar\":{\"outlinewidth\":0,\"ticks\":\"\"},\"colorscale\":[[0.0,\"#0d0887\"],[0.1111111111111111,\"#46039f\"],[0.2222222222222222,\"#7201a8\"],[0.3333333333333333,\"#9c179e\"],[0.4444444444444444,\"#bd3786\"],[0.5555555555555556,\"#d8576b\"],[0.6666666666666666,\"#ed7953\"],[0.7777777777777778,\"#fb9f3a\"],[0.8888888888888888,\"#fdca26\"],[1.0,\"#f0f921\"]]}],\"contourcarpet\":[{\"type\":\"contourcarpet\",\"colorbar\":{\"outlinewidth\":0,\"ticks\":\"\"}}],\"contour\":[{\"type\":\"contour\",\"colorbar\":{\"outlinewidth\":0,\"ticks\":\"\"},\"colorscale\":[[0.0,\"#0d0887\"],[0.1111111111111111,\"#46039f\"],[0.2222222222222222,\"#7201a8\"],[0.3333333333333333,\"#9c179e\"],[0.4444444444444444,\"#bd3786\"],[0.5555555555555556,\"#d8576b\"],[0.6666666666666666,\"#ed7953\"],[0.7777777777777778,\"#fb9f3a\"],[0.8888888888888888,\"#fdca26\"],[1.0,\"#f0f921\"]]}],\"surface\":[{\"type\":\"surface\",\"colorbar\":{\"outlinewidth\":0,\"ticks\":\"\"},\"colorscale\":[[0.0,\"#0d0887\"],[0.1111111111111111,\"#46039f\"],[0.2222222222222222,\"#7201a8\"],[0.3333333333333333,\"#9c179e\"],[0.4444444444444444,\"#bd3786\"],[0.5555555555555556,\"#d8576b\"],[0.6666666666666666,\"#ed7953\"],[0.7777777777777778,\"#fb9f3a\"],[0.8888888888888888,\"#fdca26\"],[1.0,\"#f0f921\"]]}],\"mesh3d\":[{\"type\":\"mesh3d\",\"colorbar\":{\"outlinewidth\":0,\"ticks\":\"\"}}],\"scatter\":[{\"fillpattern\":{\"fillmode\":\"overlay\",\"size\":10,\"solidity\":0.2},\"type\":\"scatter\"}],\"parcoords\":[{\"type\":\"parcoords\",\"line\":{\"colorbar\":{\"outlinewidth\":0,\"ticks\":\"\"}}}],\"scatterpolargl\":[{\"type\":\"scatterpolargl\",\"marker\":{\"colorbar\":{\"outlinewidth\":0,\"ticks\":\"\"}}}],\"bar\":[{\"error_x\":{\"color\":\"#2a3f5f\"},\"error_y\":{\"color\":\"#2a3f5f\"},\"marker\":{\"line\":{\"color\":\"#E5ECF6\",\"width\":0.5},\"pattern\":{\"fillmode\":\"overlay\",\"size\":10,\"solidity\":0.2}},\"type\":\"bar\"}],\"scattergeo\":[{\"type\":\"scattergeo\",\"marker\":{\"colorbar\":{\"outlinewidth\":0,\"ticks\":\"\"}}}],\"scatterpolar\":[{\"type\":\"scatterpolar\",\"marker\":{\"colorbar\":{\"outlinewidth\":0,\"ticks\":\"\"}}}],\"histogram\":[{\"marker\":{\"pattern\":{\"fillmode\":\"overlay\",\"size\":10,\"solidity\":0.2}},\"type\":\"histogram\"}],\"scattergl\":[{\"type\":\"scattergl\",\"marker\":{\"colorbar\":{\"outlinewidth\":0,\"ticks\":\"\"}}}],\"scatter3d\":[{\"type\":\"scatter3d\",\"line\":{\"colorbar\":{\"outlinewidth\":0,\"ticks\":\"\"}},\"marker\":{\"colorbar\":{\"outlinewidth\":0,\"ticks\":\"\"}}}],\"scattermapbox\":[{\"type\":\"scattermapbox\",\"marker\":{\"colorbar\":{\"outlinewidth\":0,\"ticks\":\"\"}}}],\"scatterternary\":[{\"type\":\"scatterternary\",\"marker\":{\"colorbar\":{\"outlinewidth\":0,\"ticks\":\"\"}}}],\"scattercarpet\":[{\"type\":\"scattercarpet\",\"marker\":{\"colorbar\":{\"outlinewidth\":0,\"ticks\":\"\"}}}],\"carpet\":[{\"aaxis\":{\"endlinecolor\":\"#2a3f5f\",\"gridcolor\":\"white\",\"linecolor\":\"white\",\"minorgridcolor\":\"white\",\"startlinecolor\":\"#2a3f5f\"},\"baxis\":{\"endlinecolor\":\"#2a3f5f\",\"gridcolor\":\"white\",\"linecolor\":\"white\",\"minorgridcolor\":\"white\",\"startlinecolor\":\"#2a3f5f\"},\"type\":\"carpet\"}],\"table\":[{\"cells\":{\"fill\":{\"color\":\"#EBF0F8\"},\"line\":{\"color\":\"white\"}},\"header\":{\"fill\":{\"color\":\"#C8D4E3\"},\"line\":{\"color\":\"white\"}},\"type\":\"table\"}],\"barpolar\":[{\"marker\":{\"line\":{\"color\":\"#E5ECF6\",\"width\":0.5},\"pattern\":{\"fillmode\":\"overlay\",\"size\":10,\"solidity\":0.2}},\"type\":\"barpolar\"}],\"pie\":[{\"automargin\":true,\"type\":\"pie\"}]},\"layout\":{\"autotypenumbers\":\"strict\",\"colorway\":[\"#636efa\",\"#EF553B\",\"#00cc96\",\"#ab63fa\",\"#FFA15A\",\"#19d3f3\",\"#FF6692\",\"#B6E880\",\"#FF97FF\",\"#FECB52\"],\"font\":{\"color\":\"#2a3f5f\"},\"hovermode\":\"closest\",\"hoverlabel\":{\"align\":\"left\"},\"paper_bgcolor\":\"white\",\"plot_bgcolor\":\"#E5ECF6\",\"polar\":{\"bgcolor\":\"#E5ECF6\",\"angularaxis\":{\"gridcolor\":\"white\",\"linecolor\":\"white\",\"ticks\":\"\"},\"radialaxis\":{\"gridcolor\":\"white\",\"linecolor\":\"white\",\"ticks\":\"\"}},\"ternary\":{\"bgcolor\":\"#E5ECF6\",\"aaxis\":{\"gridcolor\":\"white\",\"linecolor\":\"white\",\"ticks\":\"\"},\"baxis\":{\"gridcolor\":\"white\",\"linecolor\":\"white\",\"ticks\":\"\"},\"caxis\":{\"gridcolor\":\"white\",\"linecolor\":\"white\",\"ticks\":\"\"}},\"coloraxis\":{\"colorbar\":{\"outlinewidth\":0,\"ticks\":\"\"}},\"colorscale\":{\"sequential\":[[0.0,\"#0d0887\"],[0.1111111111111111,\"#46039f\"],[0.2222222222222222,\"#7201a8\"],[0.3333333333333333,\"#9c179e\"],[0.4444444444444444,\"#bd3786\"],[0.5555555555555556,\"#d8576b\"],[0.6666666666666666,\"#ed7953\"],[0.7777777777777778,\"#fb9f3a\"],[0.8888888888888888,\"#fdca26\"],[1.0,\"#f0f921\"]],\"sequentialminus\":[[0.0,\"#0d0887\"],[0.1111111111111111,\"#46039f\"],[0.2222222222222222,\"#7201a8\"],[0.3333333333333333,\"#9c179e\"],[0.4444444444444444,\"#bd3786\"],[0.5555555555555556,\"#d8576b\"],[0.6666666666666666,\"#ed7953\"],[0.7777777777777778,\"#fb9f3a\"],[0.8888888888888888,\"#fdca26\"],[1.0,\"#f0f921\"]],\"diverging\":[[0,\"#8e0152\"],[0.1,\"#c51b7d\"],[0.2,\"#de77ae\"],[0.3,\"#f1b6da\"],[0.4,\"#fde0ef\"],[0.5,\"#f7f7f7\"],[0.6,\"#e6f5d0\"],[0.7,\"#b8e186\"],[0.8,\"#7fbc41\"],[0.9,\"#4d9221\"],[1,\"#276419\"]]},\"xaxis\":{\"gridcolor\":\"white\",\"linecolor\":\"white\",\"ticks\":\"\",\"title\":{\"standoff\":15},\"zerolinecolor\":\"white\",\"automargin\":true,\"zerolinewidth\":2},\"yaxis\":{\"gridcolor\":\"white\",\"linecolor\":\"white\",\"ticks\":\"\",\"title\":{\"standoff\":15},\"zerolinecolor\":\"white\",\"automargin\":true,\"zerolinewidth\":2},\"scene\":{\"xaxis\":{\"backgroundcolor\":\"#E5ECF6\",\"gridcolor\":\"white\",\"linecolor\":\"white\",\"showbackground\":true,\"ticks\":\"\",\"zerolinecolor\":\"white\",\"gridwidth\":2},\"yaxis\":{\"backgroundcolor\":\"#E5ECF6\",\"gridcolor\":\"white\",\"linecolor\":\"white\",\"showbackground\":true,\"ticks\":\"\",\"zerolinecolor\":\"white\",\"gridwidth\":2},\"zaxis\":{\"backgroundcolor\":\"#E5ECF6\",\"gridcolor\":\"white\",\"linecolor\":\"white\",\"showbackground\":true,\"ticks\":\"\",\"zerolinecolor\":\"white\",\"gridwidth\":2}},\"shapedefaults\":{\"line\":{\"color\":\"#2a3f5f\"}},\"annotationdefaults\":{\"arrowcolor\":\"#2a3f5f\",\"arrowhead\":0,\"arrowwidth\":1},\"geo\":{\"bgcolor\":\"white\",\"landcolor\":\"#E5ECF6\",\"subunitcolor\":\"white\",\"showland\":true,\"showlakes\":true,\"lakecolor\":\"white\"},\"title\":{\"x\":0.05},\"mapbox\":{\"style\":\"light\"}}},\"xaxis\":{\"anchor\":\"y\",\"domain\":[0.0,1.0],\"title\":{\"text\":\"params.week_end_experiment_end_date\"}},\"yaxis\":{\"anchor\":\"x\",\"domain\":[0.0,1.0],\"title\":{\"text\":\"params.Product_Type.value_drift_score\"}},\"legend\":{\"tracegroupgap\":0},\"margin\":{\"t\":60}},                        {\"responsive\": true}                    ).then(function(){\n",
       "                            \n",
       "var gd = document.getElementById('cf3e6bb7-fb53-4ddf-ba34-2b85ca82a1af');\n",
       "var x = new MutationObserver(function (mutations, observer) {{\n",
       "        var display = window.getComputedStyle(gd).display;\n",
       "        if (!display || display === 'none') {{\n",
       "            console.log([gd, 'removed!']);\n",
       "            Plotly.purge(gd);\n",
       "            observer.disconnect();\n",
       "        }}\n",
       "}});\n",
       "\n",
       "// Listen for the removal of the full notebook cells\n",
       "var notebookContainer = gd.closest('#notebook-container');\n",
       "if (notebookContainer) {{\n",
       "    x.observe(notebookContainer, {childList: true});\n",
       "}}\n",
       "\n",
       "// Listen for the clearing of the current output cell\n",
       "var outputEl = gd.closest('.output');\n",
       "if (outputEl) {{\n",
       "    x.observe(outputEl, {childList: true});\n",
       "}}\n",
       "\n",
       "                        })                };                });            </script>        </div>"
      ]
     },
     "metadata": {},
     "output_type": "display_data"
    }
   ],
   "source": [
    "fig = px.line(drift_detected_experiment_results,  y='params.Product_Type.value_drift_score', markers=True)\n",
    "fig.show()"
   ]
  },
  {
   "cell_type": "code",
   "execution_count": null,
   "id": "e65b3642",
   "metadata": {},
   "outputs": [
    {
     "data": {
      "text/html": [
       "<div>\n",
       "<style scoped>\n",
       "    .dataframe tbody tr th:only-of-type {\n",
       "        vertical-align: middle;\n",
       "    }\n",
       "\n",
       "    .dataframe tbody tr th {\n",
       "        vertical-align: top;\n",
       "    }\n",
       "\n",
       "    .dataframe thead th {\n",
       "        text-align: right;\n",
       "    }\n",
       "</style>\n",
       "<table border=\"1\" class=\"dataframe\">\n",
       "  <thead>\n",
       "    <tr style=\"text-align: right;\">\n",
       "      <th></th>\n",
       "      <th>params.warehouse_ID.value_raw_feature_importance</th>\n",
       "      <th>params.statewise_population_per_sqmile.value_drift_score</th>\n",
       "      <th>params.state_cases.value_feature_importance_weighted_drift_score</th>\n",
       "      <th>params.is_warehouse_closed.value_feature_importance_weighted_drift_score</th>\n",
       "      <th>params.statewise_population_per_sqmile.value_relative_feature_importance</th>\n",
       "      <th>params.is_weekend.value_stattest_name</th>\n",
       "      <th>params.state.value_drift_score</th>\n",
       "      <th>params.state.value_relative_feature_importance</th>\n",
       "      <th>params.is_warehouse_closed.value_stattest_name</th>\n",
       "      <th>params.county.value_feature_importance_weighted_drift_detected</th>\n",
       "      <th>...</th>\n",
       "      <th>params.county.value_raw_feature_importance</th>\n",
       "      <th>params.Product_Type.value_drift_score</th>\n",
       "      <th>params.warehouse_ID.value_drift_score</th>\n",
       "      <th>params.state_deaths.value_feature_importance_weighted_drift_score</th>\n",
       "      <th>params.state.value_feature_importance_weighted_drift_score</th>\n",
       "      <th>params.warehouse_ID.value_relative_feature_importance</th>\n",
       "      <th>params.state_cases.value_feature_importance_weighted_drift_detected</th>\n",
       "      <th>params.daily_dispatch_count_target_stattest_name</th>\n",
       "      <th>params.daily_dispatch_count_target_drift_score</th>\n",
       "      <th>params.daily_dispatch_count_drift_detected</th>\n",
       "    </tr>\n",
       "    <tr>\n",
       "      <th>params.week_end_experiment_end_date</th>\n",
       "      <th></th>\n",
       "      <th></th>\n",
       "      <th></th>\n",
       "      <th></th>\n",
       "      <th></th>\n",
       "      <th></th>\n",
       "      <th></th>\n",
       "      <th></th>\n",
       "      <th></th>\n",
       "      <th></th>\n",
       "      <th></th>\n",
       "      <th></th>\n",
       "      <th></th>\n",
       "      <th></th>\n",
       "      <th></th>\n",
       "      <th></th>\n",
       "      <th></th>\n",
       "      <th></th>\n",
       "      <th></th>\n",
       "      <th></th>\n",
       "      <th></th>\n",
       "    </tr>\n",
       "  </thead>\n",
       "  <tbody>\n",
       "    <tr>\n",
       "      <th>2018-12-30 00:00:00</th>\n",
       "      <td>0.02292817272245884</td>\n",
       "      <td>0.588372</td>\n",
       "      <td>0.000000e+00</td>\n",
       "      <td>0.000000</td>\n",
       "      <td>0.0</td>\n",
       "      <td>Jensen-Shannon distance</td>\n",
       "      <td>0.832555</td>\n",
       "      <td>0.0</td>\n",
       "      <td>Jensen-Shannon distance</td>\n",
       "      <td>0</td>\n",
       "      <td>...</td>\n",
       "      <td>0.0</td>\n",
       "      <td>0.832555</td>\n",
       "      <td>0.832555</td>\n",
       "      <td>0.000000</td>\n",
       "      <td>0.000000</td>\n",
       "      <td>0.013138306327164173</td>\n",
       "      <td>0</td>\n",
       "      <td>distance</td>\n",
       "      <td>0.850697</td>\n",
       "      <td>1</td>\n",
       "    </tr>\n",
       "    <tr>\n",
       "      <th>2018-12-30 00:00:00</th>\n",
       "      <td>0.026244498789310455</td>\n",
       "      <td>0.588372</td>\n",
       "      <td>0.000000e+00</td>\n",
       "      <td>0.000000</td>\n",
       "      <td>0.02968338318169117</td>\n",
       "      <td>Jensen-Shannon distance</td>\n",
       "      <td>0.832555</td>\n",
       "      <td>0.0</td>\n",
       "      <td>Jensen-Shannon distance</td>\n",
       "      <td>0</td>\n",
       "      <td>...</td>\n",
       "      <td>0.0</td>\n",
       "      <td>0.832555</td>\n",
       "      <td>0.832555</td>\n",
       "      <td>0.000000</td>\n",
       "      <td>0.000000</td>\n",
       "      <td>0.014780729077756405</td>\n",
       "      <td>0</td>\n",
       "      <td>distance</td>\n",
       "      <td>0.850697</td>\n",
       "      <td>1</td>\n",
       "    </tr>\n",
       "    <tr>\n",
       "      <th>2018-12-30 00:00:00</th>\n",
       "      <td>None</td>\n",
       "      <td>0.000000</td>\n",
       "      <td>0.000000e+00</td>\n",
       "      <td>0.000000</td>\n",
       "      <td>None</td>\n",
       "      <td>None</td>\n",
       "      <td>0.000000</td>\n",
       "      <td>None</td>\n",
       "      <td>None</td>\n",
       "      <td>0</td>\n",
       "      <td>...</td>\n",
       "      <td>None</td>\n",
       "      <td>0.000000</td>\n",
       "      <td>0.000000</td>\n",
       "      <td>0.000000</td>\n",
       "      <td>0.000000</td>\n",
       "      <td>None</td>\n",
       "      <td>0</td>\n",
       "      <td>distance</td>\n",
       "      <td>0.850697</td>\n",
       "      <td>1</td>\n",
       "    </tr>\n",
       "    <tr>\n",
       "      <th>2018-12-30 00:00:00</th>\n",
       "      <td>0.017281191423535347</td>\n",
       "      <td>0.588372</td>\n",
       "      <td>0.000000e+00</td>\n",
       "      <td>0.000000</td>\n",
       "      <td>0.002893036464229226</td>\n",
       "      <td>Jensen-Shannon distance</td>\n",
       "      <td>0.832555</td>\n",
       "      <td>0.0</td>\n",
       "      <td>Jensen-Shannon distance</td>\n",
       "      <td>0</td>\n",
       "      <td>...</td>\n",
       "      <td>0.0</td>\n",
       "      <td>0.832555</td>\n",
       "      <td>0.832555</td>\n",
       "      <td>0.000000</td>\n",
       "      <td>0.000000</td>\n",
       "      <td>0.007265902124345303</td>\n",
       "      <td>0</td>\n",
       "      <td>distance</td>\n",
       "      <td>0.850697</td>\n",
       "      <td>1</td>\n",
       "    </tr>\n",
       "    <tr>\n",
       "      <th>2019-01-06 00:00:00</th>\n",
       "      <td>0.028664948418736458</td>\n",
       "      <td>0.270989</td>\n",
       "      <td>0.000000e+00</td>\n",
       "      <td>0.000000</td>\n",
       "      <td>0.0</td>\n",
       "      <td>Jensen-Shannon distance</td>\n",
       "      <td>0.832555</td>\n",
       "      <td>0.0</td>\n",
       "      <td>Jensen-Shannon distance</td>\n",
       "      <td>0</td>\n",
       "      <td>...</td>\n",
       "      <td>0.0</td>\n",
       "      <td>0.832555</td>\n",
       "      <td>0.832555</td>\n",
       "      <td>0.000000</td>\n",
       "      <td>0.000000</td>\n",
       "      <td>0.01135654840618372</td>\n",
       "      <td>0</td>\n",
       "      <td>distance</td>\n",
       "      <td>0.760357</td>\n",
       "      <td>1</td>\n",
       "    </tr>\n",
       "    <tr>\n",
       "      <th>...</th>\n",
       "      <td>...</td>\n",
       "      <td>...</td>\n",
       "      <td>...</td>\n",
       "      <td>...</td>\n",
       "      <td>...</td>\n",
       "      <td>...</td>\n",
       "      <td>...</td>\n",
       "      <td>...</td>\n",
       "      <td>...</td>\n",
       "      <td>...</td>\n",
       "      <td>...</td>\n",
       "      <td>...</td>\n",
       "      <td>...</td>\n",
       "      <td>...</td>\n",
       "      <td>...</td>\n",
       "      <td>...</td>\n",
       "      <td>...</td>\n",
       "      <td>...</td>\n",
       "      <td>...</td>\n",
       "      <td>...</td>\n",
       "      <td>...</td>\n",
       "    </tr>\n",
       "    <tr>\n",
       "      <th>2020-11-08 00:00:00</th>\n",
       "      <td>0.6924689412117004</td>\n",
       "      <td>0.000000</td>\n",
       "      <td>0.000000e+00</td>\n",
       "      <td>0.099654</td>\n",
       "      <td>None</td>\n",
       "      <td>Jensen-Shannon distance</td>\n",
       "      <td>0.832555</td>\n",
       "      <td>0.0745820552110672</td>\n",
       "      <td>Jensen-Shannon distance</td>\n",
       "      <td>0</td>\n",
       "      <td>...</td>\n",
       "      <td>0.0</td>\n",
       "      <td>0.832555</td>\n",
       "      <td>0.832555</td>\n",
       "      <td>0.000000</td>\n",
       "      <td>0.062094</td>\n",
       "      <td>0.3131217360496521</td>\n",
       "      <td>0</td>\n",
       "      <td>distance</td>\n",
       "      <td>1.191264</td>\n",
       "      <td>1</td>\n",
       "    </tr>\n",
       "    <tr>\n",
       "      <th>2020-11-15 00:00:00</th>\n",
       "      <td>0.07313749194145203</td>\n",
       "      <td>0.354193</td>\n",
       "      <td>1.006836e+08</td>\n",
       "      <td>0.082321</td>\n",
       "      <td>0.0</td>\n",
       "      <td>Jensen-Shannon distance</td>\n",
       "      <td>0.832555</td>\n",
       "      <td>0.00015179661568254232</td>\n",
       "      <td>Jensen-Shannon distance</td>\n",
       "      <td>0</td>\n",
       "      <td>...</td>\n",
       "      <td>0.0</td>\n",
       "      <td>0.832555</td>\n",
       "      <td>0.832555</td>\n",
       "      <td>516194.346449</td>\n",
       "      <td>0.000126</td>\n",
       "      <td>0.038636695593595505</td>\n",
       "      <td>1</td>\n",
       "      <td>distance</td>\n",
       "      <td>1.139090</td>\n",
       "      <td>1</td>\n",
       "    </tr>\n",
       "    <tr>\n",
       "      <th>2020-11-15 00:00:00</th>\n",
       "      <td>0.07313749194145203</td>\n",
       "      <td>0.354193</td>\n",
       "      <td>1.006836e+08</td>\n",
       "      <td>0.082321</td>\n",
       "      <td>0.0</td>\n",
       "      <td>Jensen-Shannon distance</td>\n",
       "      <td>0.832555</td>\n",
       "      <td>0.00015179661568254232</td>\n",
       "      <td>Jensen-Shannon distance</td>\n",
       "      <td>0</td>\n",
       "      <td>...</td>\n",
       "      <td>0.0</td>\n",
       "      <td>0.832555</td>\n",
       "      <td>0.832555</td>\n",
       "      <td>516194.346449</td>\n",
       "      <td>0.000126</td>\n",
       "      <td>0.038636695593595505</td>\n",
       "      <td>1</td>\n",
       "      <td>None</td>\n",
       "      <td>0.000000</td>\n",
       "      <td>0</td>\n",
       "    </tr>\n",
       "    <tr>\n",
       "      <th>2020-11-15 00:00:00</th>\n",
       "      <td>0.6925688982009888</td>\n",
       "      <td>0.000000</td>\n",
       "      <td>0.000000e+00</td>\n",
       "      <td>0.100450</td>\n",
       "      <td>None</td>\n",
       "      <td>Jensen-Shannon distance</td>\n",
       "      <td>0.832555</td>\n",
       "      <td>0.19884724915027618</td>\n",
       "      <td>Jensen-Shannon distance</td>\n",
       "      <td>0</td>\n",
       "      <td>...</td>\n",
       "      <td>0.0</td>\n",
       "      <td>0.832555</td>\n",
       "      <td>0.832555</td>\n",
       "      <td>0.000000</td>\n",
       "      <td>0.165551</td>\n",
       "      <td>0.3557678163051605</td>\n",
       "      <td>0</td>\n",
       "      <td>distance</td>\n",
       "      <td>1.139090</td>\n",
       "      <td>1</td>\n",
       "    </tr>\n",
       "    <tr>\n",
       "      <th>2020-11-15 00:00:00</th>\n",
       "      <td>0.07313749194145203</td>\n",
       "      <td>0.354193</td>\n",
       "      <td>1.006836e+08</td>\n",
       "      <td>0.082321</td>\n",
       "      <td>0.0</td>\n",
       "      <td>Jensen-Shannon distance</td>\n",
       "      <td>0.832555</td>\n",
       "      <td>0.00015179661568254232</td>\n",
       "      <td>Jensen-Shannon distance</td>\n",
       "      <td>0</td>\n",
       "      <td>...</td>\n",
       "      <td>0.0</td>\n",
       "      <td>0.832555</td>\n",
       "      <td>0.832555</td>\n",
       "      <td>516194.346449</td>\n",
       "      <td>0.000126</td>\n",
       "      <td>0.038636695593595505</td>\n",
       "      <td>1</td>\n",
       "      <td>None</td>\n",
       "      <td>0.000000</td>\n",
       "      <td>0</td>\n",
       "    </tr>\n",
       "  </tbody>\n",
       "</table>\n",
       "<p>391 rows × 57 columns</p>\n",
       "</div>"
      ],
      "text/plain": [
       "                                    params.warehouse_ID.value_raw_feature_importance  \\\n",
       "params.week_end_experiment_end_date                                                    \n",
       "2018-12-30 00:00:00                                              0.02292817272245884   \n",
       "2018-12-30 00:00:00                                             0.026244498789310455   \n",
       "2018-12-30 00:00:00                                                             None   \n",
       "2018-12-30 00:00:00                                             0.017281191423535347   \n",
       "2019-01-06 00:00:00                                             0.028664948418736458   \n",
       "...                                                                              ...   \n",
       "2020-11-08 00:00:00                                               0.6924689412117004   \n",
       "2020-11-15 00:00:00                                              0.07313749194145203   \n",
       "2020-11-15 00:00:00                                              0.07313749194145203   \n",
       "2020-11-15 00:00:00                                               0.6925688982009888   \n",
       "2020-11-15 00:00:00                                              0.07313749194145203   \n",
       "\n",
       "                                     params.statewise_population_per_sqmile.value_drift_score  \\\n",
       "params.week_end_experiment_end_date                                                             \n",
       "2018-12-30 00:00:00                                                           0.588372          \n",
       "2018-12-30 00:00:00                                                           0.588372          \n",
       "2018-12-30 00:00:00                                                           0.000000          \n",
       "2018-12-30 00:00:00                                                           0.588372          \n",
       "2019-01-06 00:00:00                                                           0.270989          \n",
       "...                                                                                ...          \n",
       "2020-11-08 00:00:00                                                           0.000000          \n",
       "2020-11-15 00:00:00                                                           0.354193          \n",
       "2020-11-15 00:00:00                                                           0.354193          \n",
       "2020-11-15 00:00:00                                                           0.000000          \n",
       "2020-11-15 00:00:00                                                           0.354193          \n",
       "\n",
       "                                     params.state_cases.value_feature_importance_weighted_drift_score  \\\n",
       "params.week_end_experiment_end_date                                                                     \n",
       "2018-12-30 00:00:00                                                       0.000000e+00                  \n",
       "2018-12-30 00:00:00                                                       0.000000e+00                  \n",
       "2018-12-30 00:00:00                                                       0.000000e+00                  \n",
       "2018-12-30 00:00:00                                                       0.000000e+00                  \n",
       "2019-01-06 00:00:00                                                       0.000000e+00                  \n",
       "...                                                                                ...                  \n",
       "2020-11-08 00:00:00                                                       0.000000e+00                  \n",
       "2020-11-15 00:00:00                                                       1.006836e+08                  \n",
       "2020-11-15 00:00:00                                                       1.006836e+08                  \n",
       "2020-11-15 00:00:00                                                       0.000000e+00                  \n",
       "2020-11-15 00:00:00                                                       1.006836e+08                  \n",
       "\n",
       "                                     params.is_warehouse_closed.value_feature_importance_weighted_drift_score  \\\n",
       "params.week_end_experiment_end_date                                                                             \n",
       "2018-12-30 00:00:00                                                           0.000000                          \n",
       "2018-12-30 00:00:00                                                           0.000000                          \n",
       "2018-12-30 00:00:00                                                           0.000000                          \n",
       "2018-12-30 00:00:00                                                           0.000000                          \n",
       "2019-01-06 00:00:00                                                           0.000000                          \n",
       "...                                                                                ...                          \n",
       "2020-11-08 00:00:00                                                           0.099654                          \n",
       "2020-11-15 00:00:00                                                           0.082321                          \n",
       "2020-11-15 00:00:00                                                           0.082321                          \n",
       "2020-11-15 00:00:00                                                           0.100450                          \n",
       "2020-11-15 00:00:00                                                           0.082321                          \n",
       "\n",
       "                                    params.statewise_population_per_sqmile.value_relative_feature_importance  \\\n",
       "params.week_end_experiment_end_date                                                                            \n",
       "2018-12-30 00:00:00                                                                0.0                         \n",
       "2018-12-30 00:00:00                                                0.02968338318169117                         \n",
       "2018-12-30 00:00:00                                                               None                         \n",
       "2018-12-30 00:00:00                                               0.002893036464229226                         \n",
       "2019-01-06 00:00:00                                                                0.0                         \n",
       "...                                                                                ...                         \n",
       "2020-11-08 00:00:00                                                               None                         \n",
       "2020-11-15 00:00:00                                                                0.0                         \n",
       "2020-11-15 00:00:00                                                                0.0                         \n",
       "2020-11-15 00:00:00                                                               None                         \n",
       "2020-11-15 00:00:00                                                                0.0                         \n",
       "\n",
       "                                    params.is_weekend.value_stattest_name  \\\n",
       "params.week_end_experiment_end_date                                         \n",
       "2018-12-30 00:00:00                               Jensen-Shannon distance   \n",
       "2018-12-30 00:00:00                               Jensen-Shannon distance   \n",
       "2018-12-30 00:00:00                                                  None   \n",
       "2018-12-30 00:00:00                               Jensen-Shannon distance   \n",
       "2019-01-06 00:00:00                               Jensen-Shannon distance   \n",
       "...                                                                   ...   \n",
       "2020-11-08 00:00:00                               Jensen-Shannon distance   \n",
       "2020-11-15 00:00:00                               Jensen-Shannon distance   \n",
       "2020-11-15 00:00:00                               Jensen-Shannon distance   \n",
       "2020-11-15 00:00:00                               Jensen-Shannon distance   \n",
       "2020-11-15 00:00:00                               Jensen-Shannon distance   \n",
       "\n",
       "                                     params.state.value_drift_score  \\\n",
       "params.week_end_experiment_end_date                                   \n",
       "2018-12-30 00:00:00                                        0.832555   \n",
       "2018-12-30 00:00:00                                        0.832555   \n",
       "2018-12-30 00:00:00                                        0.000000   \n",
       "2018-12-30 00:00:00                                        0.832555   \n",
       "2019-01-06 00:00:00                                        0.832555   \n",
       "...                                                             ...   \n",
       "2020-11-08 00:00:00                                        0.832555   \n",
       "2020-11-15 00:00:00                                        0.832555   \n",
       "2020-11-15 00:00:00                                        0.832555   \n",
       "2020-11-15 00:00:00                                        0.832555   \n",
       "2020-11-15 00:00:00                                        0.832555   \n",
       "\n",
       "                                    params.state.value_relative_feature_importance  \\\n",
       "params.week_end_experiment_end_date                                                  \n",
       "2018-12-30 00:00:00                                                            0.0   \n",
       "2018-12-30 00:00:00                                                            0.0   \n",
       "2018-12-30 00:00:00                                                           None   \n",
       "2018-12-30 00:00:00                                                            0.0   \n",
       "2019-01-06 00:00:00                                                            0.0   \n",
       "...                                                                            ...   \n",
       "2020-11-08 00:00:00                                             0.0745820552110672   \n",
       "2020-11-15 00:00:00                                         0.00015179661568254232   \n",
       "2020-11-15 00:00:00                                         0.00015179661568254232   \n",
       "2020-11-15 00:00:00                                            0.19884724915027618   \n",
       "2020-11-15 00:00:00                                         0.00015179661568254232   \n",
       "\n",
       "                                    params.is_warehouse_closed.value_stattest_name  \\\n",
       "params.week_end_experiment_end_date                                                  \n",
       "2018-12-30 00:00:00                                        Jensen-Shannon distance   \n",
       "2018-12-30 00:00:00                                        Jensen-Shannon distance   \n",
       "2018-12-30 00:00:00                                                           None   \n",
       "2018-12-30 00:00:00                                        Jensen-Shannon distance   \n",
       "2019-01-06 00:00:00                                        Jensen-Shannon distance   \n",
       "...                                                                            ...   \n",
       "2020-11-08 00:00:00                                        Jensen-Shannon distance   \n",
       "2020-11-15 00:00:00                                        Jensen-Shannon distance   \n",
       "2020-11-15 00:00:00                                        Jensen-Shannon distance   \n",
       "2020-11-15 00:00:00                                        Jensen-Shannon distance   \n",
       "2020-11-15 00:00:00                                        Jensen-Shannon distance   \n",
       "\n",
       "                                     params.county.value_feature_importance_weighted_drift_detected  \\\n",
       "params.week_end_experiment_end_date                                                                   \n",
       "2018-12-30 00:00:00                                                                  0                \n",
       "2018-12-30 00:00:00                                                                  0                \n",
       "2018-12-30 00:00:00                                                                  0                \n",
       "2018-12-30 00:00:00                                                                  0                \n",
       "2019-01-06 00:00:00                                                                  0                \n",
       "...                                                                                ...                \n",
       "2020-11-08 00:00:00                                                                  0                \n",
       "2020-11-15 00:00:00                                                                  0                \n",
       "2020-11-15 00:00:00                                                                  0                \n",
       "2020-11-15 00:00:00                                                                  0                \n",
       "2020-11-15 00:00:00                                                                  0                \n",
       "\n",
       "                                     ...  \\\n",
       "params.week_end_experiment_end_date  ...   \n",
       "2018-12-30 00:00:00                  ...   \n",
       "2018-12-30 00:00:00                  ...   \n",
       "2018-12-30 00:00:00                  ...   \n",
       "2018-12-30 00:00:00                  ...   \n",
       "2019-01-06 00:00:00                  ...   \n",
       "...                                  ...   \n",
       "2020-11-08 00:00:00                  ...   \n",
       "2020-11-15 00:00:00                  ...   \n",
       "2020-11-15 00:00:00                  ...   \n",
       "2020-11-15 00:00:00                  ...   \n",
       "2020-11-15 00:00:00                  ...   \n",
       "\n",
       "                                     params.county.value_raw_feature_importance  \\\n",
       "params.week_end_experiment_end_date                                               \n",
       "2018-12-30 00:00:00                                                         0.0   \n",
       "2018-12-30 00:00:00                                                         0.0   \n",
       "2018-12-30 00:00:00                                                        None   \n",
       "2018-12-30 00:00:00                                                         0.0   \n",
       "2019-01-06 00:00:00                                                         0.0   \n",
       "...                                                                         ...   \n",
       "2020-11-08 00:00:00                                                         0.0   \n",
       "2020-11-15 00:00:00                                                         0.0   \n",
       "2020-11-15 00:00:00                                                         0.0   \n",
       "2020-11-15 00:00:00                                                         0.0   \n",
       "2020-11-15 00:00:00                                                         0.0   \n",
       "\n",
       "                                    params.Product_Type.value_drift_score  \\\n",
       "params.week_end_experiment_end_date                                         \n",
       "2018-12-30 00:00:00                                              0.832555   \n",
       "2018-12-30 00:00:00                                              0.832555   \n",
       "2018-12-30 00:00:00                                              0.000000   \n",
       "2018-12-30 00:00:00                                              0.832555   \n",
       "2019-01-06 00:00:00                                              0.832555   \n",
       "...                                                                   ...   \n",
       "2020-11-08 00:00:00                                              0.832555   \n",
       "2020-11-15 00:00:00                                              0.832555   \n",
       "2020-11-15 00:00:00                                              0.832555   \n",
       "2020-11-15 00:00:00                                              0.832555   \n",
       "2020-11-15 00:00:00                                              0.832555   \n",
       "\n",
       "                                     params.warehouse_ID.value_drift_score  \\\n",
       "params.week_end_experiment_end_date                                          \n",
       "2018-12-30 00:00:00                                               0.832555   \n",
       "2018-12-30 00:00:00                                               0.832555   \n",
       "2018-12-30 00:00:00                                               0.000000   \n",
       "2018-12-30 00:00:00                                               0.832555   \n",
       "2019-01-06 00:00:00                                               0.832555   \n",
       "...                                                                    ...   \n",
       "2020-11-08 00:00:00                                               0.832555   \n",
       "2020-11-15 00:00:00                                               0.832555   \n",
       "2020-11-15 00:00:00                                               0.832555   \n",
       "2020-11-15 00:00:00                                               0.832555   \n",
       "2020-11-15 00:00:00                                               0.832555   \n",
       "\n",
       "                                    params.state_deaths.value_feature_importance_weighted_drift_score  \\\n",
       "params.week_end_experiment_end_date                                                                     \n",
       "2018-12-30 00:00:00                                                           0.000000                  \n",
       "2018-12-30 00:00:00                                                           0.000000                  \n",
       "2018-12-30 00:00:00                                                           0.000000                  \n",
       "2018-12-30 00:00:00                                                           0.000000                  \n",
       "2019-01-06 00:00:00                                                           0.000000                  \n",
       "...                                                                                ...                  \n",
       "2020-11-08 00:00:00                                                           0.000000                  \n",
       "2020-11-15 00:00:00                                                      516194.346449                  \n",
       "2020-11-15 00:00:00                                                      516194.346449                  \n",
       "2020-11-15 00:00:00                                                           0.000000                  \n",
       "2020-11-15 00:00:00                                                      516194.346449                  \n",
       "\n",
       "                                    params.state.value_feature_importance_weighted_drift_score  \\\n",
       "params.week_end_experiment_end_date                                                              \n",
       "2018-12-30 00:00:00                                                           0.000000           \n",
       "2018-12-30 00:00:00                                                           0.000000           \n",
       "2018-12-30 00:00:00                                                           0.000000           \n",
       "2018-12-30 00:00:00                                                           0.000000           \n",
       "2019-01-06 00:00:00                                                           0.000000           \n",
       "...                                                                                ...           \n",
       "2020-11-08 00:00:00                                                           0.062094           \n",
       "2020-11-15 00:00:00                                                           0.000126           \n",
       "2020-11-15 00:00:00                                                           0.000126           \n",
       "2020-11-15 00:00:00                                                           0.165551           \n",
       "2020-11-15 00:00:00                                                           0.000126           \n",
       "\n",
       "                                    params.warehouse_ID.value_relative_feature_importance  \\\n",
       "params.week_end_experiment_end_date                                                         \n",
       "2018-12-30 00:00:00                                               0.013138306327164173      \n",
       "2018-12-30 00:00:00                                               0.014780729077756405      \n",
       "2018-12-30 00:00:00                                                               None      \n",
       "2018-12-30 00:00:00                                               0.007265902124345303      \n",
       "2019-01-06 00:00:00                                                0.01135654840618372      \n",
       "...                                                                                ...      \n",
       "2020-11-08 00:00:00                                                 0.3131217360496521      \n",
       "2020-11-15 00:00:00                                               0.038636695593595505      \n",
       "2020-11-15 00:00:00                                               0.038636695593595505      \n",
       "2020-11-15 00:00:00                                                 0.3557678163051605      \n",
       "2020-11-15 00:00:00                                               0.038636695593595505      \n",
       "\n",
       "                                    params.state_cases.value_feature_importance_weighted_drift_detected  \\\n",
       "params.week_end_experiment_end_date                                                                       \n",
       "2018-12-30 00:00:00                                                                  0                    \n",
       "2018-12-30 00:00:00                                                                  0                    \n",
       "2018-12-30 00:00:00                                                                  0                    \n",
       "2018-12-30 00:00:00                                                                  0                    \n",
       "2019-01-06 00:00:00                                                                  0                    \n",
       "...                                                                                ...                    \n",
       "2020-11-08 00:00:00                                                                  0                    \n",
       "2020-11-15 00:00:00                                                                  1                    \n",
       "2020-11-15 00:00:00                                                                  1                    \n",
       "2020-11-15 00:00:00                                                                  0                    \n",
       "2020-11-15 00:00:00                                                                  1                    \n",
       "\n",
       "                                     params.daily_dispatch_count_target_stattest_name  \\\n",
       "params.week_end_experiment_end_date                                                     \n",
       "2018-12-30 00:00:00                                                          distance   \n",
       "2018-12-30 00:00:00                                                          distance   \n",
       "2018-12-30 00:00:00                                                          distance   \n",
       "2018-12-30 00:00:00                                                          distance   \n",
       "2019-01-06 00:00:00                                                          distance   \n",
       "...                                                                               ...   \n",
       "2020-11-08 00:00:00                                                          distance   \n",
       "2020-11-15 00:00:00                                                          distance   \n",
       "2020-11-15 00:00:00                                                              None   \n",
       "2020-11-15 00:00:00                                                          distance   \n",
       "2020-11-15 00:00:00                                                              None   \n",
       "\n",
       "                                     params.daily_dispatch_count_target_drift_score  \\\n",
       "params.week_end_experiment_end_date                                                   \n",
       "2018-12-30 00:00:00                                                        0.850697   \n",
       "2018-12-30 00:00:00                                                        0.850697   \n",
       "2018-12-30 00:00:00                                                        0.850697   \n",
       "2018-12-30 00:00:00                                                        0.850697   \n",
       "2019-01-06 00:00:00                                                        0.760357   \n",
       "...                                                                             ...   \n",
       "2020-11-08 00:00:00                                                        1.191264   \n",
       "2020-11-15 00:00:00                                                        1.139090   \n",
       "2020-11-15 00:00:00                                                        0.000000   \n",
       "2020-11-15 00:00:00                                                        1.139090   \n",
       "2020-11-15 00:00:00                                                        0.000000   \n",
       "\n",
       "                                     params.daily_dispatch_count_drift_detected  \n",
       "params.week_end_experiment_end_date                                              \n",
       "2018-12-30 00:00:00                                                           1  \n",
       "2018-12-30 00:00:00                                                           1  \n",
       "2018-12-30 00:00:00                                                           1  \n",
       "2018-12-30 00:00:00                                                           1  \n",
       "2019-01-06 00:00:00                                                           1  \n",
       "...                                                                         ...  \n",
       "2020-11-08 00:00:00                                                           1  \n",
       "2020-11-15 00:00:00                                                           1  \n",
       "2020-11-15 00:00:00                                                           0  \n",
       "2020-11-15 00:00:00                                                           1  \n",
       "2020-11-15 00:00:00                                                           0  \n",
       "\n",
       "[391 rows x 57 columns]"
      ]
     },
     "execution_count": 692,
     "metadata": {},
     "output_type": "execute_result"
    }
   ],
   "source": [
    "drift_detected_experiment_results"
   ]
  },
  {
   "cell_type": "code",
   "execution_count": null,
   "id": "60b0a695",
   "metadata": {},
   "outputs": [],
   "source": []
  }
 ],
 "metadata": {
  "hide_input": false,
  "kernelspec": {
   "display_name": "anaconda_env",
   "language": "python",
   "name": "anaconda_env"
  },
  "language_info": {
   "codemirror_mode": {
    "name": "ipython",
    "version": 3
   },
   "file_extension": ".py",
   "mimetype": "text/x-python",
   "name": "python",
   "nbconvert_exporter": "python",
   "pygments_lexer": "ipython3",
   "version": "3.9.12"
  },
  "toc": {
   "base_numbering": 1,
   "nav_menu": {},
   "number_sections": true,
   "sideBar": true,
   "skip_h1_title": false,
   "title_cell": "Table of Contents",
   "title_sidebar": "Contents",
   "toc_cell": false,
   "toc_position": {
    "height": "calc(100% - 180px)",
    "left": "10px",
    "top": "150px",
    "width": "384px"
   },
   "toc_section_display": true,
   "toc_window_display": false
  },
  "varInspector": {
   "cols": {
    "lenName": 16,
    "lenType": 16,
    "lenVar": 40
   },
   "kernels_config": {
    "python": {
     "delete_cmd_postfix": "",
     "delete_cmd_prefix": "del ",
     "library": "var_list.py",
     "varRefreshCmd": "print(var_dic_list())"
    },
    "r": {
     "delete_cmd_postfix": ") ",
     "delete_cmd_prefix": "rm(",
     "library": "var_list.r",
     "varRefreshCmd": "cat(var_dic_list()) "
    }
   },
   "types_to_exclude": [
    "module",
    "function",
    "builtin_function_or_method",
    "instance",
    "_Feature"
   ],
   "window_display": false
  }
 },
 "nbformat": 4,
 "nbformat_minor": 5
}
