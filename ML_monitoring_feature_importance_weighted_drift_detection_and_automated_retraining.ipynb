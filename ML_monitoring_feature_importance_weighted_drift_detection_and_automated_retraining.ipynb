{
 "cells": [
  {
   "cell_type": "markdown",
   "id": "bc63de82",
   "metadata": {},
   "source": [
    "# ML Monitoring - Feature importance weighted drift detection and automated-retraining\n",
    "\n",
    "## Overview\n",
    "\n",
    "Every model over time is impacted by model performance decay due to data drift and concept drift. One of many solution is to perform drift detection and set up automated retraining of the model. Drift in every feature does't have the same impact on model performance. In this project we combine feature importance of a particular feature with its drift score obtained through statistical test to determine wether to retrain model or not. Thus model will be retrained only when there is drift on features with higher importance and also when feature with lower importance faces higher data drift.\n",
    "\n",
    "## Dataset:\n",
    "\n",
    "* Contains warehouse demand data from 2017-01-01 to 2020-11-15\n",
    "* Working with preprocessed data\n",
    "* No data leakage as missing values were filled without requirement of any transformation\n",
    "\n",
    "## Assumptions\n",
    "\n",
    "* Initial model deployment on march 2019\n",
    "* True labels/ actual demand available over the weekend\n",
    "* Model monitored on weekly basis"
   ]
  },
  {
   "cell_type": "markdown",
   "id": "20bc077d",
   "metadata": {},
   "source": [
    "## Libraries"
   ]
  },
  {
   "cell_type": "code",
   "execution_count": 98,
   "id": "2150e659",
   "metadata": {},
   "outputs": [],
   "source": [
    "import pandas as pd\n",
    "import numpy as np\n",
    "from datetime import date,datetime,timedelta\n",
    "import time\n",
    "from sklearn.model_selection import train_test_split\n",
    "from rdt import HyperTransformer\n",
    "import xgboost as xgb\n",
    "import traceback\n",
    "import shap\n",
    "import logging\n",
    "from importlib import reload\n",
    "import logging\n",
    "from sklearn.metrics import mean_squared_error, mean_absolute_percentage_error, mean_absolute_error\n",
    "from evidently import ColumnMapping\n",
    "from evidently.model_profile import Profile\n",
    "from evidently.model_profile.sections import DataDriftProfileSection, NumTargetDriftProfileSection\n",
    "import plotly.graph_objects as go\n",
    "from plotly.subplots import make_subplots\n",
    "import plotly.express as px\n",
    "import json\n",
    "import mlflow\n",
    "from functools import wraps\n",
    "from mlflow.tracking import MlflowClient\n",
    "import plotly.io as pio\n",
    "import warnings\n",
    "warnings.filterwarnings(\"ignore\")\n",
    "# remove static rendering to allow interactive mode\n",
    "#pio.renderers.default = \"notebook\"\n",
    "pio.renderers.default = \"svg\"\n",
    "%matplotlib inline"
   ]
  },
  {
   "cell_type": "code",
   "execution_count": 5,
   "id": "a8149581",
   "metadata": {},
   "outputs": [],
   "source": [
    "# set up logging\n",
    "reload(logging)\n",
    "logging.basicConfig(format='%(asctime)s %(levelname)s:%(message)s', level=logging.INFO, datefmt='%I:%M:%S')"
   ]
  },
  {
   "cell_type": "code",
   "execution_count": 6,
   "id": "9a7fe6d4",
   "metadata": {},
   "outputs": [],
   "source": [
    "# mlflow runner\n",
    "def mlflow_runner(func):\n",
    "    @wraps(func)\n",
    "    def wrapper(*args, **kwargs):\n",
    "        # log into MLflow\n",
    "        client = MlflowClient()\n",
    "        experiment_name = kwargs['experiment_name']\n",
    "        run_name = kwargs['run_name']\n",
    "        try:\n",
    "            mlflow.set_experiment(experiment_name)\n",
    "        except Exception:\n",
    "            logging.error('Experiment does not exists')\n",
    "            logging.error('Stack trace:{}'.format(traceback.format_exc()))\n",
    "            experiment_id = mlflow.create_experiment(experiment_name)\n",
    "            mlflow.set_experiment(experiment_name)\n",
    "        finally:\n",
    "            with mlflow.start_run(run_name=run_name) as run:\n",
    "                rv = func(*args, **kwargs)\n",
    "            return rv\n",
    "\n",
    "    return wrapper"
   ]
  },
  {
   "cell_type": "markdown",
   "id": "fe10566d",
   "metadata": {},
   "source": [
    "## Data"
   ]
  },
  {
   "cell_type": "markdown",
   "id": "2e080f13",
   "metadata": {},
   "source": [
    "### Load data"
   ]
  },
  {
   "cell_type": "code",
   "execution_count": 7,
   "id": "3b082e99",
   "metadata": {},
   "outputs": [],
   "source": [
    "df = pd.read_csv('cpp_demand_forecasting_clean_data_v2.csv', index_col=0)"
   ]
  },
  {
   "cell_type": "code",
   "execution_count": 8,
   "id": "f2e957d5",
   "metadata": {},
   "outputs": [
    {
     "name": "stderr",
     "output_type": "stream",
     "text": [
      "09:13:41 INFO:dataset shape : (13315, 33)\n"
     ]
    }
   ],
   "source": [
    "logging.info(f'dataset shape : {df.shape}')"
   ]
  },
  {
   "cell_type": "code",
   "execution_count": 9,
   "id": "2de736f2",
   "metadata": {},
   "outputs": [],
   "source": [
    "# set random state\n",
    "rng = np.random.RandomState(0)"
   ]
  },
  {
   "cell_type": "code",
   "execution_count": 11,
   "id": "7ce62229",
   "metadata": {},
   "outputs": [
    {
     "data": {
      "text/html": [
       "<div>\n",
       "<style scoped>\n",
       "    .dataframe tbody tr th:only-of-type {\n",
       "        vertical-align: middle;\n",
       "    }\n",
       "\n",
       "    .dataframe tbody tr th {\n",
       "        vertical-align: top;\n",
       "    }\n",
       "\n",
       "    .dataframe thead th {\n",
       "        text-align: right;\n",
       "    }\n",
       "</style>\n",
       "<table border=\"1\" class=\"dataframe\">\n",
       "  <thead>\n",
       "    <tr style=\"text-align: right;\">\n",
       "      <th></th>\n",
       "      <th>date</th>\n",
       "      <th>warehouse_ID</th>\n",
       "      <th>Latitude</th>\n",
       "      <th>Longitude</th>\n",
       "      <th>Product_Type</th>\n",
       "      <th>year</th>\n",
       "      <th>month</th>\n",
       "      <th>is_weekend</th>\n",
       "      <th>is_warehouse_closed</th>\n",
       "      <th>daily_dispatch_count</th>\n",
       "      <th>...</th>\n",
       "      <th>statewise_land_area_per_sqmile</th>\n",
       "      <th>statewise_population_per_sqmile</th>\n",
       "      <th>statewise_geographic_region</th>\n",
       "      <th>geographic_region_division</th>\n",
       "      <th>statewise_median_age</th>\n",
       "      <th>statewise_median_household_income</th>\n",
       "      <th>total_count</th>\n",
       "      <th>yearly_count</th>\n",
       "      <th>monthly_count</th>\n",
       "      <th>weekly_count</th>\n",
       "    </tr>\n",
       "    <tr>\n",
       "      <th>ID</th>\n",
       "      <th></th>\n",
       "      <th></th>\n",
       "      <th></th>\n",
       "      <th></th>\n",
       "      <th></th>\n",
       "      <th></th>\n",
       "      <th></th>\n",
       "      <th></th>\n",
       "      <th></th>\n",
       "      <th></th>\n",
       "      <th></th>\n",
       "      <th></th>\n",
       "      <th></th>\n",
       "      <th></th>\n",
       "      <th></th>\n",
       "      <th></th>\n",
       "      <th></th>\n",
       "      <th></th>\n",
       "      <th></th>\n",
       "      <th></th>\n",
       "      <th></th>\n",
       "    </tr>\n",
       "  </thead>\n",
       "  <tbody>\n",
       "    <tr>\n",
       "      <th>0x2710</th>\n",
       "      <td>2017-01-01</td>\n",
       "      <td>WH_0x3e9</td>\n",
       "      <td>41.681471</td>\n",
       "      <td>-72.794746</td>\n",
       "      <td>Type_A</td>\n",
       "      <td>2017</td>\n",
       "      <td>1</td>\n",
       "      <td>Yes</td>\n",
       "      <td>No</td>\n",
       "      <td>5.5</td>\n",
       "      <td>...</td>\n",
       "      <td>4842</td>\n",
       "      <td>744.722016</td>\n",
       "      <td>new_england</td>\n",
       "      <td>north_east</td>\n",
       "      <td>41.2</td>\n",
       "      <td>78833</td>\n",
       "      <td>0</td>\n",
       "      <td>0</td>\n",
       "      <td>0</td>\n",
       "      <td>0</td>\n",
       "    </tr>\n",
       "    <tr>\n",
       "      <th>0x33e6</th>\n",
       "      <td>2017-01-01</td>\n",
       "      <td>WH_0x3ea</td>\n",
       "      <td>38.749077</td>\n",
       "      <td>-105.183060</td>\n",
       "      <td>Type_A</td>\n",
       "      <td>2017</td>\n",
       "      <td>1</td>\n",
       "      <td>Yes</td>\n",
       "      <td>No</td>\n",
       "      <td>6.1</td>\n",
       "      <td>...</td>\n",
       "      <td>103642</td>\n",
       "      <td>56.078318</td>\n",
       "      <td>mountain</td>\n",
       "      <td>west</td>\n",
       "      <td>37.3</td>\n",
       "      <td>41053</td>\n",
       "      <td>0</td>\n",
       "      <td>0</td>\n",
       "      <td>0</td>\n",
       "      <td>0</td>\n",
       "    </tr>\n",
       "  </tbody>\n",
       "</table>\n",
       "<p>2 rows × 33 columns</p>\n",
       "</div>"
      ],
      "text/plain": [
       "              date warehouse_ID   Latitude   Longitude Product_Type  year  \\\n",
       "ID                                                                          \n",
       "0x2710  2017-01-01     WH_0x3e9  41.681471  -72.794746       Type_A  2017   \n",
       "0x33e6  2017-01-01     WH_0x3ea  38.749077 -105.183060       Type_A  2017   \n",
       "\n",
       "        month is_weekend is_warehouse_closed  daily_dispatch_count  ...  \\\n",
       "ID                                                                  ...   \n",
       "0x2710      1        Yes                  No                   5.5  ...   \n",
       "0x33e6      1        Yes                  No                   6.1  ...   \n",
       "\n",
       "        statewise_land_area_per_sqmile  statewise_population_per_sqmile  \\\n",
       "ID                                                                        \n",
       "0x2710                            4842                       744.722016   \n",
       "0x33e6                          103642                        56.078318   \n",
       "\n",
       "       statewise_geographic_region geographic_region_division  \\\n",
       "ID                                                              \n",
       "0x2710                 new_england                 north_east   \n",
       "0x33e6                    mountain                       west   \n",
       "\n",
       "        statewise_median_age  statewise_median_household_income  total_count  \\\n",
       "ID                                                                             \n",
       "0x2710                  41.2                              78833            0   \n",
       "0x33e6                  37.3                              41053            0   \n",
       "\n",
       "        yearly_count  monthly_count  weekly_count  \n",
       "ID                                                 \n",
       "0x2710             0              0             0  \n",
       "0x33e6             0              0             0  \n",
       "\n",
       "[2 rows x 33 columns]"
      ]
     },
     "execution_count": 11,
     "metadata": {},
     "output_type": "execute_result"
    }
   ],
   "source": [
    "df.head(2)"
   ]
  },
  {
   "cell_type": "code",
   "execution_count": 12,
   "id": "b32c9da2",
   "metadata": {},
   "outputs": [],
   "source": [
    "df.date = pd.to_datetime(df.date)"
   ]
  },
  {
   "cell_type": "markdown",
   "id": "9a90b42c",
   "metadata": {},
   "source": [
    "<b> Data available during initial model deployment is from 2017-01-01 to 2019-03-01"
   ]
  },
  {
   "cell_type": "code",
   "execution_count": 13,
   "id": "29f7d1f2",
   "metadata": {},
   "outputs": [],
   "source": [
    "intial_df = df[df.date < datetime(2019,3,1)]"
   ]
  },
  {
   "cell_type": "code",
   "execution_count": 14,
   "id": "644635c4",
   "metadata": {},
   "outputs": [],
   "source": [
    "# Split the dataset\n",
    "train_df, test_df = train_test_split(intial_df,\n",
    "                                     test_size=0.3,\n",
    "                                     shuffle=False,\n",
    "                                     random_state=rng)\n",
    "eval_df, serve_df = train_test_split(test_df,\n",
    "                                     test_size=0.5,\n",
    "                                     shuffle=False,\n",
    "                                     random_state=rng)"
   ]
  },
  {
   "cell_type": "code",
   "execution_count": 15,
   "id": "430f225a",
   "metadata": {},
   "outputs": [
    {
     "name": "stderr",
     "output_type": "stream",
     "text": [
      "10:21:52 INFO:train_df shape : (2794, 33)\n",
      "10:21:52 INFO:eval_df shape : (599, 33)\n",
      "10:21:52 INFO:serve_df shape : (599, 33)\n"
     ]
    }
   ],
   "source": [
    "logging.info(f'train_df shape : {train_df.shape}')\n",
    "logging.info(f'eval_df shape : {eval_df.shape}')\n",
    "logging.info(f'serve_df shape : {serve_df.shape}')"
   ]
  },
  {
   "cell_type": "markdown",
   "id": "c82dfa3e",
   "metadata": {},
   "source": [
    "### Data preprocessing"
   ]
  },
  {
   "cell_type": "code",
   "execution_count": 16,
   "id": "96ed4416",
   "metadata": {},
   "outputs": [],
   "source": [
    "def split_features_target(df):\n",
    "    target =  'daily_dispatch_count'\n",
    "    drop_feats = ['weekly_dispatch_count']\n",
    "    y = df[target]\n",
    "    X = df.drop(columns = drop_feats+[target])\n",
    "    return X,y"
   ]
  },
  {
   "cell_type": "code",
   "execution_count": 17,
   "id": "bf66ace6",
   "metadata": {},
   "outputs": [],
   "source": [
    "X,y = split_features_target(train_df)\n",
    "X_eval,y_eval = split_features_target(eval_df)\n",
    "X_serve,y_serve = split_features_target(serve_df)"
   ]
  },
  {
   "cell_type": "markdown",
   "id": "9d8fa920",
   "metadata": {},
   "source": [
    "### Data transformation"
   ]
  },
  {
   "cell_type": "code",
   "execution_count": 18,
   "id": "d2d332e6",
   "metadata": {},
   "outputs": [],
   "source": [
    "ht = HyperTransformer()"
   ]
  },
  {
   "cell_type": "code",
   "execution_count": 19,
   "id": "2a7a1fae",
   "metadata": {},
   "outputs": [
    {
     "name": "stdout",
     "output_type": "stream",
     "text": [
      "Detecting a new config from the data ... SUCCESS\n",
      "Setting the new config ... SUCCESS\n",
      "Config:\n",
      "{\n",
      "    \"sdtypes\": {\n",
      "        \"date\": \"datetime\",\n",
      "        \"warehouse_ID\": \"categorical\",\n",
      "        \"Latitude\": \"numerical\",\n",
      "        \"Longitude\": \"numerical\",\n",
      "        \"Product_Type\": \"categorical\",\n",
      "        \"year\": \"numerical\",\n",
      "        \"month\": \"numerical\",\n",
      "        \"is_weekend\": \"categorical\",\n",
      "        \"is_warehouse_closed\": \"categorical\",\n",
      "        \"week\": \"numerical\",\n",
      "        \"state\": \"categorical\",\n",
      "        \"county\": \"categorical\",\n",
      "        \"state_cases\": \"numerical\",\n",
      "        \"state_deaths\": \"numerical\",\n",
      "        \"county_cases\": \"numerical\",\n",
      "        \"county_deaths\": \"numerical\",\n",
      "        \"day_of_week\": \"numerical\",\n",
      "        \"days_since_warehouse_started\": \"numerical\",\n",
      "        \"state_abbr\": \"categorical\",\n",
      "        \"is_holiday\": \"numerical\",\n",
      "        \"statewise_population\": \"numerical\",\n",
      "        \"statewise_land_area_per_sqmile\": \"numerical\",\n",
      "        \"statewise_population_per_sqmile\": \"numerical\",\n",
      "        \"statewise_geographic_region\": \"categorical\",\n",
      "        \"geographic_region_division\": \"categorical\",\n",
      "        \"statewise_median_age\": \"numerical\",\n",
      "        \"statewise_median_household_income\": \"numerical\",\n",
      "        \"total_count\": \"numerical\",\n",
      "        \"yearly_count\": \"numerical\",\n",
      "        \"monthly_count\": \"numerical\",\n",
      "        \"weekly_count\": \"numerical\"\n",
      "    },\n",
      "    \"transformers\": {\n",
      "        \"date\": UnixTimestampEncoder(missing_value_replacement='mean'),\n",
      "        \"warehouse_ID\": FrequencyEncoder(),\n",
      "        \"Latitude\": FloatFormatter(missing_value_replacement='mean'),\n",
      "        \"Longitude\": FloatFormatter(missing_value_replacement='mean'),\n",
      "        \"Product_Type\": FrequencyEncoder(),\n",
      "        \"year\": FloatFormatter(missing_value_replacement='mean'),\n",
      "        \"month\": FloatFormatter(missing_value_replacement='mean'),\n",
      "        \"is_weekend\": FrequencyEncoder(),\n",
      "        \"is_warehouse_closed\": FrequencyEncoder(),\n",
      "        \"week\": FloatFormatter(missing_value_replacement='mean'),\n",
      "        \"state\": FrequencyEncoder(),\n",
      "        \"county\": FrequencyEncoder(),\n",
      "        \"state_cases\": FloatFormatter(missing_value_replacement='mean'),\n",
      "        \"state_deaths\": FloatFormatter(missing_value_replacement='mean'),\n",
      "        \"county_cases\": FloatFormatter(missing_value_replacement='mean'),\n",
      "        \"county_deaths\": FloatFormatter(missing_value_replacement='mean'),\n",
      "        \"day_of_week\": FloatFormatter(missing_value_replacement='mean'),\n",
      "        \"days_since_warehouse_started\": FloatFormatter(missing_value_replacement='mean'),\n",
      "        \"state_abbr\": FrequencyEncoder(),\n",
      "        \"is_holiday\": FloatFormatter(missing_value_replacement='mean'),\n",
      "        \"statewise_population\": FloatFormatter(missing_value_replacement='mean'),\n",
      "        \"statewise_land_area_per_sqmile\": FloatFormatter(missing_value_replacement='mean'),\n",
      "        \"statewise_population_per_sqmile\": FloatFormatter(missing_value_replacement='mean'),\n",
      "        \"statewise_geographic_region\": FrequencyEncoder(),\n",
      "        \"geographic_region_division\": FrequencyEncoder(),\n",
      "        \"statewise_median_age\": FloatFormatter(missing_value_replacement='mean'),\n",
      "        \"statewise_median_household_income\": FloatFormatter(missing_value_replacement='mean'),\n",
      "        \"total_count\": FloatFormatter(missing_value_replacement='mean'),\n",
      "        \"yearly_count\": FloatFormatter(missing_value_replacement='mean'),\n",
      "        \"monthly_count\": FloatFormatter(missing_value_replacement='mean'),\n",
      "        \"weekly_count\": FloatFormatter(missing_value_replacement='mean')\n",
      "    }\n",
      "}\n"
     ]
    }
   ],
   "source": [
    "ht.detect_initial_config(data=X)"
   ]
  },
  {
   "cell_type": "code",
   "execution_count": 20,
   "id": "2cc976fc",
   "metadata": {},
   "outputs": [],
   "source": [
    "ht.fit(X)\n",
    "X_transformed = ht.transform(X)\n",
    "X_eval_transformed = ht.transform(X_eval)\n",
    "X_serve_transformed = ht.transform(X_serve)"
   ]
  },
  {
   "cell_type": "markdown",
   "id": "687fe7af",
   "metadata": {},
   "source": [
    "## Modelling"
   ]
  },
  {
   "cell_type": "code",
   "execution_count": 21,
   "id": "abf1f83c",
   "metadata": {},
   "outputs": [],
   "source": [
    "@mlflow_runner\n",
    "def fit_model(X,y, X_test,y_test, params=None,mlflow_log = False, experiment_name=None, run_name = None):\n",
    "    if params:\n",
    "        reg = xgb.XGBRegressor(**params)\n",
    "    else:\n",
    "        reg = xgb.XGBRegressor()\n",
    "    reg.fit(X,y,eval_set=[(X_test,y_test)],early_stopping_rounds=10,verbose=False)\n",
    "    if mlflow_log:\n",
    "        mlflow.log_dict(reg.get_params(),'xgboost_regressor_params')\n",
    "        \n",
    "    return reg"
   ]
  },
  {
   "cell_type": "code",
   "execution_count": 22,
   "id": "6de3ac8d",
   "metadata": {},
   "outputs": [],
   "source": [
    "reg = fit_model(X_transformed,y, X_eval_transformed,y_eval, mlflow_log=True,experiment_name='warehouse_demand_forecasting',run_name=str(int(time.mktime(datetime.now().timetuple()))))"
   ]
  },
  {
   "cell_type": "markdown",
   "id": "3504fbd4",
   "metadata": {},
   "source": [
    "#### Model evaluation"
   ]
  },
  {
   "cell_type": "code",
   "execution_count": 26,
   "id": "a466160e",
   "metadata": {},
   "outputs": [],
   "source": [
    "def rewrite_name(df_type, error_type):\n",
    "    return f\"{df_type}{'_'}{error_type}\"\n",
    "\n",
    "def get_scores(y_actual, y_predicted,df_type='train'):\n",
    "    #y_predicted = np.expm1(y_predicted)\n",
    "    #y_actual = np.expm1(y_actual)\n",
    "    rmse = mean_squared_error(y_actual, y_predicted, squared=False)\n",
    "    mse = mean_squared_error(y_actual, y_predicted, squared=True)\n",
    "    mae = mean_absolute_error(y_actual, y_predicted)\n",
    "    mape = mean_absolute_percentage_error(y_actual, y_predicted)\n",
    "    return {rewrite_name(df_type, 'rmse'):rmse, rewrite_name(df_type, 'mse'):mse, rewrite_name(df_type, 'mae'):mae, rewrite_name(df_type, 'mape'):mape}\n",
    "\n",
    "def dataset_results(X,y, model, df_type):\n",
    "\n",
    "    y_pred = model.predict(X)\n",
    "    \n",
    "    return get_scores(y,y_pred,df_type)\n",
    "    "
   ]
  },
  {
   "cell_type": "markdown",
   "id": "893a6ea5",
   "metadata": {},
   "source": [
    "#### Train score"
   ]
  },
  {
   "cell_type": "code",
   "execution_count": 27,
   "id": "fd277adc",
   "metadata": {},
   "outputs": [
    {
     "data": {
      "text/plain": [
       "{'train_rmse': 0.8588220704988938,\n",
       " 'train_mse': 0.7375753487760068,\n",
       " 'train_mae': 0.6316703897078888,\n",
       " 'train_mape': 0.0849176099824632}"
      ]
     },
     "execution_count": 27,
     "metadata": {},
     "output_type": "execute_result"
    }
   ],
   "source": [
    "dataset_results(X_transformed,y, reg, 'train')"
   ]
  },
  {
   "cell_type": "markdown",
   "id": "ddbbe97e",
   "metadata": {},
   "source": [
    "#### Eval score"
   ]
  },
  {
   "cell_type": "code",
   "execution_count": 28,
   "id": "1823f7fa",
   "metadata": {},
   "outputs": [
    {
     "data": {
      "text/plain": [
       "{'eval_rmse': 0.9780817870850148,\n",
       " 'eval_mse': 0.9566439822274162,\n",
       " 'eval_mae': 0.7291432013694751,\n",
       " 'eval_mape': 0.11933018414067095}"
      ]
     },
     "execution_count": 28,
     "metadata": {},
     "output_type": "execute_result"
    }
   ],
   "source": [
    "dataset_results(X_eval_transformed,y_eval, reg, 'eval')"
   ]
  },
  {
   "cell_type": "markdown",
   "id": "d5e8910e",
   "metadata": {},
   "source": [
    "#### Serve score"
   ]
  },
  {
   "cell_type": "code",
   "execution_count": 29,
   "id": "7546784a",
   "metadata": {},
   "outputs": [
    {
     "data": {
      "text/plain": [
       "{'serve_rmse': 1.0211735976710992,\n",
       " 'serve_mse': 1.042795516580536,\n",
       " 'serve_mae': 0.7812815489474441,\n",
       " 'serve_mape': 0.16795888150791288}"
      ]
     },
     "execution_count": 29,
     "metadata": {},
     "output_type": "execute_result"
    }
   ],
   "source": [
    "dataset_results(X_serve_transformed,y_serve, reg, 'serve')"
   ]
  },
  {
   "cell_type": "markdown",
   "id": "efeb5727",
   "metadata": {},
   "source": [
    "#### Final model trained using data from 2017-01-01 to 2019-03-01"
   ]
  },
  {
   "cell_type": "code",
   "execution_count": 44,
   "id": "dc30ba2b",
   "metadata": {},
   "outputs": [],
   "source": [
    "final_X, final_y = split_features_target(intial_df)\n",
    "ht.fit(final_X)\n",
    "final_X_transform = ht.transform(final_X)\n",
    "reg_final = fit_model(final_X_transform,final_y, X_eval_transformed,y_eval, mlflow_log=True,experiment_name='warehouse_demand_forecasting',run_name=str(int(time.mktime(datetime.now().timetuple()))))"
   ]
  },
  {
   "cell_type": "code",
   "execution_count": 45,
   "id": "3aa9a45a",
   "metadata": {},
   "outputs": [
    {
     "data": {
      "text/html": [
       "<div>\n",
       "<style scoped>\n",
       "    .dataframe tbody tr th:only-of-type {\n",
       "        vertical-align: middle;\n",
       "    }\n",
       "\n",
       "    .dataframe tbody tr th {\n",
       "        vertical-align: top;\n",
       "    }\n",
       "\n",
       "    .dataframe thead th {\n",
       "        text-align: right;\n",
       "    }\n",
       "</style>\n",
       "<table border=\"1\" class=\"dataframe\">\n",
       "  <thead>\n",
       "    <tr style=\"text-align: right;\">\n",
       "      <th></th>\n",
       "      <th>date.value</th>\n",
       "      <th>warehouse_ID.value</th>\n",
       "      <th>Latitude.value</th>\n",
       "      <th>Longitude.value</th>\n",
       "      <th>Product_Type.value</th>\n",
       "      <th>year.value</th>\n",
       "      <th>month.value</th>\n",
       "      <th>is_weekend.value</th>\n",
       "      <th>is_warehouse_closed.value</th>\n",
       "      <th>week.value</th>\n",
       "      <th>...</th>\n",
       "      <th>statewise_land_area_per_sqmile.value</th>\n",
       "      <th>statewise_population_per_sqmile.value</th>\n",
       "      <th>statewise_geographic_region.value</th>\n",
       "      <th>geographic_region_division.value</th>\n",
       "      <th>statewise_median_age.value</th>\n",
       "      <th>statewise_median_household_income.value</th>\n",
       "      <th>total_count.value</th>\n",
       "      <th>yearly_count.value</th>\n",
       "      <th>monthly_count.value</th>\n",
       "      <th>weekly_count.value</th>\n",
       "    </tr>\n",
       "    <tr>\n",
       "      <th>ID</th>\n",
       "      <th></th>\n",
       "      <th></th>\n",
       "      <th></th>\n",
       "      <th></th>\n",
       "      <th></th>\n",
       "      <th></th>\n",
       "      <th></th>\n",
       "      <th></th>\n",
       "      <th></th>\n",
       "      <th></th>\n",
       "      <th></th>\n",
       "      <th></th>\n",
       "      <th></th>\n",
       "      <th></th>\n",
       "      <th></th>\n",
       "      <th></th>\n",
       "      <th></th>\n",
       "      <th></th>\n",
       "      <th></th>\n",
       "      <th></th>\n",
       "      <th></th>\n",
       "    </tr>\n",
       "  </thead>\n",
       "  <tbody>\n",
       "    <tr>\n",
       "      <th>0x2710</th>\n",
       "      <td>1.483229e+18</td>\n",
       "      <td>0.151804</td>\n",
       "      <td>41.681471</td>\n",
       "      <td>-72.794746</td>\n",
       "      <td>0.295842</td>\n",
       "      <td>2017</td>\n",
       "      <td>1</td>\n",
       "      <td>0.857966</td>\n",
       "      <td>0.5</td>\n",
       "      <td>52</td>\n",
       "      <td>...</td>\n",
       "      <td>4842</td>\n",
       "      <td>744.722016</td>\n",
       "      <td>0.667335</td>\n",
       "      <td>0.681864</td>\n",
       "      <td>41.2</td>\n",
       "      <td>78833</td>\n",
       "      <td>0</td>\n",
       "      <td>0</td>\n",
       "      <td>0</td>\n",
       "      <td>0</td>\n",
       "    </tr>\n",
       "    <tr>\n",
       "      <th>0x33e6</th>\n",
       "      <td>1.483229e+18</td>\n",
       "      <td>0.455411</td>\n",
       "      <td>38.749077</td>\n",
       "      <td>-105.183060</td>\n",
       "      <td>0.295842</td>\n",
       "      <td>2017</td>\n",
       "      <td>1</td>\n",
       "      <td>0.857966</td>\n",
       "      <td>0.5</td>\n",
       "      <td>52</td>\n",
       "      <td>...</td>\n",
       "      <td>103642</td>\n",
       "      <td>56.078318</td>\n",
       "      <td>0.257766</td>\n",
       "      <td>0.257766</td>\n",
       "      <td>37.3</td>\n",
       "      <td>41053</td>\n",
       "      <td>0</td>\n",
       "      <td>0</td>\n",
       "      <td>0</td>\n",
       "      <td>0</td>\n",
       "    </tr>\n",
       "    <tr>\n",
       "      <th>0x2711</th>\n",
       "      <td>1.483315e+18</td>\n",
       "      <td>0.151804</td>\n",
       "      <td>41.681471</td>\n",
       "      <td>-72.794746</td>\n",
       "      <td>0.295842</td>\n",
       "      <td>2017</td>\n",
       "      <td>1</td>\n",
       "      <td>0.357966</td>\n",
       "      <td>0.5</td>\n",
       "      <td>1</td>\n",
       "      <td>...</td>\n",
       "      <td>4842</td>\n",
       "      <td>744.722016</td>\n",
       "      <td>0.667335</td>\n",
       "      <td>0.681864</td>\n",
       "      <td>41.2</td>\n",
       "      <td>78833</td>\n",
       "      <td>1</td>\n",
       "      <td>1</td>\n",
       "      <td>1</td>\n",
       "      <td>0</td>\n",
       "    </tr>\n",
       "    <tr>\n",
       "      <th>0x33e7</th>\n",
       "      <td>1.483315e+18</td>\n",
       "      <td>0.455411</td>\n",
       "      <td>38.749077</td>\n",
       "      <td>-105.183060</td>\n",
       "      <td>0.295842</td>\n",
       "      <td>2017</td>\n",
       "      <td>1</td>\n",
       "      <td>0.357966</td>\n",
       "      <td>0.5</td>\n",
       "      <td>1</td>\n",
       "      <td>...</td>\n",
       "      <td>103642</td>\n",
       "      <td>56.078318</td>\n",
       "      <td>0.257766</td>\n",
       "      <td>0.257766</td>\n",
       "      <td>37.3</td>\n",
       "      <td>41053</td>\n",
       "      <td>1</td>\n",
       "      <td>1</td>\n",
       "      <td>1</td>\n",
       "      <td>0</td>\n",
       "    </tr>\n",
       "    <tr>\n",
       "      <th>0x2712</th>\n",
       "      <td>1.483402e+18</td>\n",
       "      <td>0.151804</td>\n",
       "      <td>41.681471</td>\n",
       "      <td>-72.794746</td>\n",
       "      <td>0.295842</td>\n",
       "      <td>2017</td>\n",
       "      <td>1</td>\n",
       "      <td>0.357966</td>\n",
       "      <td>0.5</td>\n",
       "      <td>1</td>\n",
       "      <td>...</td>\n",
       "      <td>4842</td>\n",
       "      <td>744.722016</td>\n",
       "      <td>0.667335</td>\n",
       "      <td>0.681864</td>\n",
       "      <td>41.2</td>\n",
       "      <td>78833</td>\n",
       "      <td>2</td>\n",
       "      <td>2</td>\n",
       "      <td>2</td>\n",
       "      <td>1</td>\n",
       "    </tr>\n",
       "  </tbody>\n",
       "</table>\n",
       "<p>5 rows × 31 columns</p>\n",
       "</div>"
      ],
      "text/plain": [
       "          date.value  warehouse_ID.value  Latitude.value  Longitude.value  \\\n",
       "ID                                                                          \n",
       "0x2710  1.483229e+18            0.151804       41.681471       -72.794746   \n",
       "0x33e6  1.483229e+18            0.455411       38.749077      -105.183060   \n",
       "0x2711  1.483315e+18            0.151804       41.681471       -72.794746   \n",
       "0x33e7  1.483315e+18            0.455411       38.749077      -105.183060   \n",
       "0x2712  1.483402e+18            0.151804       41.681471       -72.794746   \n",
       "\n",
       "        Product_Type.value  year.value  month.value  is_weekend.value  \\\n",
       "ID                                                                      \n",
       "0x2710            0.295842        2017            1          0.857966   \n",
       "0x33e6            0.295842        2017            1          0.857966   \n",
       "0x2711            0.295842        2017            1          0.357966   \n",
       "0x33e7            0.295842        2017            1          0.357966   \n",
       "0x2712            0.295842        2017            1          0.357966   \n",
       "\n",
       "        is_warehouse_closed.value  week.value  ...  \\\n",
       "ID                                             ...   \n",
       "0x2710                        0.5          52  ...   \n",
       "0x33e6                        0.5          52  ...   \n",
       "0x2711                        0.5           1  ...   \n",
       "0x33e7                        0.5           1  ...   \n",
       "0x2712                        0.5           1  ...   \n",
       "\n",
       "        statewise_land_area_per_sqmile.value  \\\n",
       "ID                                             \n",
       "0x2710                                  4842   \n",
       "0x33e6                                103642   \n",
       "0x2711                                  4842   \n",
       "0x33e7                                103642   \n",
       "0x2712                                  4842   \n",
       "\n",
       "        statewise_population_per_sqmile.value  \\\n",
       "ID                                              \n",
       "0x2710                             744.722016   \n",
       "0x33e6                              56.078318   \n",
       "0x2711                             744.722016   \n",
       "0x33e7                              56.078318   \n",
       "0x2712                             744.722016   \n",
       "\n",
       "        statewise_geographic_region.value  geographic_region_division.value  \\\n",
       "ID                                                                            \n",
       "0x2710                           0.667335                          0.681864   \n",
       "0x33e6                           0.257766                          0.257766   \n",
       "0x2711                           0.667335                          0.681864   \n",
       "0x33e7                           0.257766                          0.257766   \n",
       "0x2712                           0.667335                          0.681864   \n",
       "\n",
       "        statewise_median_age.value  statewise_median_household_income.value  \\\n",
       "ID                                                                            \n",
       "0x2710                        41.2                                    78833   \n",
       "0x33e6                        37.3                                    41053   \n",
       "0x2711                        41.2                                    78833   \n",
       "0x33e7                        37.3                                    41053   \n",
       "0x2712                        41.2                                    78833   \n",
       "\n",
       "        total_count.value  yearly_count.value  monthly_count.value  \\\n",
       "ID                                                                   \n",
       "0x2710                  0                   0                    0   \n",
       "0x33e6                  0                   0                    0   \n",
       "0x2711                  1                   1                    1   \n",
       "0x33e7                  1                   1                    1   \n",
       "0x2712                  2                   2                    2   \n",
       "\n",
       "        weekly_count.value  \n",
       "ID                          \n",
       "0x2710                   0  \n",
       "0x33e6                   0  \n",
       "0x2711                   0  \n",
       "0x33e7                   0  \n",
       "0x2712                   1  \n",
       "\n",
       "[5 rows x 31 columns]"
      ]
     },
     "execution_count": 45,
     "metadata": {},
     "output_type": "execute_result"
    }
   ],
   "source": [
    "final_X_transform.head()"
   ]
  },
  {
   "cell_type": "code",
   "execution_count": 46,
   "id": "f50d82f1",
   "metadata": {},
   "outputs": [
    {
     "data": {
      "text/plain": [
       "ID\n",
       "0x2710    5.5\n",
       "0x33e6    6.1\n",
       "0x2711    4.8\n",
       "0x33e7    6.7\n",
       "0x2712    5.8\n",
       "Name: daily_dispatch_count, dtype: float64"
      ]
     },
     "execution_count": 46,
     "metadata": {},
     "output_type": "execute_result"
    }
   ],
   "source": [
    "final_y.head()"
   ]
  },
  {
   "cell_type": "markdown",
   "id": "06ca9616",
   "metadata": {},
   "source": [
    "### Feature attribution weighted drift detection"
   ]
  },
  {
   "cell_type": "code",
   "execution_count": 47,
   "id": "7c90ef31",
   "metadata": {},
   "outputs": [],
   "source": [
    "def get_feature_importance(model, X):\n",
    "    # DF, based on which importance is checked\n",
    "\n",
    "    # Explain model predictions using shap library:\n",
    "    explainer = shap.TreeExplainer(model)\n",
    "    shap_scores = explainer.shap_values(X)\n",
    "\n",
    "    # mean of absolute shap values for every feature\n",
    "    mean_abs_shap_values = pd.Series(\n",
    "        np.abs(shap_scores).mean(axis=0),\n",
    "        index=X.columns).sort_values(ascending=False)\n",
    "    return mean_abs_shap_values"
   ]
  },
  {
   "cell_type": "code",
   "execution_count": 48,
   "id": "12b275d4",
   "metadata": {},
   "outputs": [],
   "source": [
    "def get_relative_feature_importance_to_max(feature_importance):\n",
    "    \n",
    "    # maximum feature importance\n",
    "    max_feature_importance = feature_importance.max()\n",
    "\n",
    "    # relative_feature_importance_to_max is relative feature importance w.r.t max_feature_importance\n",
    "    relative_feature_importance_to_max = feature_importance / max_feature_importance\n",
    "    return relative_feature_importance_to_max.to_dict()"
   ]
  },
  {
   "cell_type": "code",
   "execution_count": 49,
   "id": "4b8b02f4",
   "metadata": {},
   "outputs": [],
   "source": [
    "numerical_features = [\n",
    "    'statewise_population_per_sqmile', 'state_cases', 'state_deaths'\n",
    "]\n",
    "numerical_features_value = [\n",
    "    feature + '.value' for feature in numerical_features\n",
    "]\n",
    "categorical_features = [\n",
    "    'warehouse_ID', 'Product_Type', 'is_weekend', 'is_warehouse_closed',\n",
    "    'state', 'day_of_week', 'is_holiday', 'county'\n",
    "]\n",
    "categorical_features_value = [\n",
    "    feature + '.value' for feature in categorical_features\n",
    "]\n",
    "column_mapping = ColumnMapping(id='ID',\n",
    "                               datetime='date',\n",
    "                               numerical_features=numerical_features_value,\n",
    "                               categorical_features=categorical_features_value,\n",
    "                               task='regression',\n",
    "                               target='daily_dispatch_count',\n",
    "                               prediction='y_pred')"
   ]
  },
  {
   "cell_type": "code",
   "execution_count": 50,
   "id": "919f9d05",
   "metadata": {},
   "outputs": [],
   "source": [
    "def get_drift_profile(reference, production, profile, mlflow_log=False):\n",
    "\n",
    "    drift_profile = Profile(sections=[profile()])\n",
    "    drift_profile.calculate(reference,\n",
    "                                 production,\n",
    "                                 column_mapping=column_mapping)\n",
    "    report = drift_profile.json()\n",
    "    drift_profile_report = json.loads(report)\n",
    "    \n",
    "    if mlflow_log:\n",
    "        if profile == DataDriftProfileSection:\n",
    "            name = 'data_drift_profile'\n",
    "        elif profile == NumTargetDriftProfileSection:\n",
    "            name = 'num_target_drift_profile'\n",
    "        else:\n",
    "            pass\n",
    "        mlflow.log_dict(drift_profile_report, f\"{name}.json\")\n",
    "    \n",
    "    \n",
    "    return drift_profile_report"
   ]
  },
  {
   "cell_type": "code",
   "execution_count": 51,
   "id": "ce721f93",
   "metadata": {},
   "outputs": [],
   "source": [
    "def get_data_drift(drift_profile):\n",
    "\n",
    "    drifts = []\n",
    "    for feature in column_mapping.numerical_features + column_mapping.categorical_features:\n",
    "        drifts.append(\n",
    "            (feature, drift_profile['data_drift']['data']['metrics'][feature]['drift_score'], \n",
    "             drift_profile['data_drift']['data']['metrics'][feature]['stattest_name'], \n",
    "             drift_profile['data_drift']['data']['metrics'][feature]['drift_detected']))\n",
    "    return  pd.DataFrame(\n",
    "        drifts,\n",
    "        columns=['feature', 'drift_score', 'stattest_name', 'drift_detected'])"
   ]
  },
  {
   "cell_type": "code",
   "execution_count": 52,
   "id": "6389e86e",
   "metadata": {},
   "outputs": [],
   "source": [
    "def get_weighted_data_drift_score(drift, feature_importance, relative_feature_importance_to_max_dict, threshold, stattest_type):\n",
    "    \n",
    "    #feature_importance\n",
    "    drift['feature_importance'] = drift['feature'].map(feature_importance)\n",
    "    \n",
    "    # map relative feature importance\n",
    "    drift['relative_feature_importance'] = drift['feature'].map(relative_feature_importance_to_max_dict)\n",
    "    if stattest_type == 'p_value':\n",
    "        # relative feature importance weighted drift score\n",
    "        inverse_feature_importance_wrt_max_feature_importance = (drift.relative_feature_importance.max() / drift.relative_feature_importance)\n",
    "        drift['feature_importance_weighted_drift_score'] = (drift.drift_score * inverse_feature_importance_wrt_max_feature_importance).replace(np.inf, 1)\n",
    "        #drift['feature_importance_weighted_drift_score'] = drift.apply(lambda x:1 if x['relative_feature_importance']<=0.0 else x['feature_importance_weighted_drift_score'], axis=1)\n",
    "        # drift detection based on the weighted drift score based on threshold\n",
    "        drift['feature_importance_weighted_drift_detected'] = drift[\n",
    "            'feature_importance_weighted_drift_score'] < threshold\n",
    "    else:\n",
    "        # relative feature importance weighted drift score\n",
    "        drift['feature_importance_weighted_drift_score'] = drift[\n",
    "            'relative_feature_importance'] * drift['drift_score']\n",
    "\n",
    "        # drift detection based on the weighted drift score based on threshold\n",
    "        drift['feature_importance_weighted_drift_detected'] = drift[\n",
    "            'feature_importance_weighted_drift_score'] > threshold\n",
    "\n",
    "    return drift"
   ]
  },
  {
   "cell_type": "code",
   "execution_count": 53,
   "id": "f67fc66c",
   "metadata": {},
   "outputs": [],
   "source": [
    "def is_weighted_data_drift_detected(data_drift_profile, production,  model):\n",
    "    drift_detected = False\n",
    "    \n",
    "    feature_importance = get_feature_importance(model, production)\n",
    "    # relative feature importance based on mean shap values\n",
    "    relative_feature_importance_to_max_dict = get_relative_feature_importance_to_max(feature_importance)\n",
    "    drift_scores = get_data_drift(data_drift_profile)\n",
    "    stattest_type = drift_scores['stattest_name'].iloc[0].split()[1]\n",
    "    if stattest_type == 'p_value':\n",
    "        threshold = 0.05\n",
    "    else:\n",
    "        threshold = 0.1\n",
    "    weighted_drift_scores = get_weighted_data_drift_score(drift_scores, feature_importance, relative_feature_importance_to_max_dict,\n",
    "                                                     threshold, stattest_type)\n",
    "\n",
    "    if weighted_drift_scores['feature_importance_weighted_drift_detected'].sum(\n",
    "    ) > 0:\n",
    "        drift_detected = True\n",
    "    else:\n",
    "        drift_detected = False\n",
    "    return drift_detected, weighted_drift_scores"
   ]
  },
  {
   "cell_type": "code",
   "execution_count": 54,
   "id": "ff083a07",
   "metadata": {},
   "outputs": [],
   "source": [
    "def overlay_distribution(data1, data2, feature,  opacity=0.5, plot_display = True, mlflow_log=False):\n",
    "    normalization_type = 'probability density'\n",
    "    fig = go.Figure()\n",
    "    fig.add_trace(go.Histogram(x=data1, name=\"training\",\n",
    "                  histnorm=normalization_type))\n",
    "    fig.add_trace(go.Histogram(x=data2, name=\"production\",\n",
    "                  histnorm=normalization_type))\n",
    "    feature = feature.split('.')[0]\n",
    "    # Overlay both histograms\n",
    "    fig.update_layout(barmode='overlay', title=feature+\" Distribution\",\n",
    "                      xaxis_title=feature,\n",
    "                      yaxis_title=normalization_type, autosize=False,\n",
    "                      width=700,\n",
    "                      height=300)\n",
    "    # Reduce opacity to see both histograms\n",
    "    fig.update_traces(opacity=opacity)\n",
    "    if mlflow_log:\n",
    "        mlflow.log_figure(fig, f\"{feature}_Distribution.html\")\n",
    "    if plot_display:\n",
    "        fig.show()\n"
   ]
  },
  {
   "cell_type": "code",
   "execution_count": 55,
   "id": "f0f4ae38",
   "metadata": {},
   "outputs": [],
   "source": [
    "def display_drifted_features(reference, production, drift_df, plot_display = False, mlflow_log = False):\n",
    "    reference_rdt = ht.reverse_transform(reference)\n",
    "    production_rdt = ht.reverse_transform(production)\n",
    "    for index, row in drift_df.iterrows():\n",
    "        if row['feature_importance_weighted_drift_detected']:\n",
    "\n",
    "            logging.info(f\"drift detected for {row['feature']}\")\n",
    "            logging.info(f\"drift_score : {row['drift_score']}\")\n",
    "            logging.info(f\"stattest_name : {row['stattest_name']}\")\n",
    "            logging.info(f\"raw_feature_importance : {row['feature_importance']}\") \n",
    "            logging.info(f\"relative_feature_importance : {row['relative_feature_importance']}\") \n",
    "            logging.info(f\"feature_importance_weighted_drift_score : {row['feature_importance_weighted_drift_score']}\")\n",
    "            \n",
    "            overlay_distribution(reference_rdt[row['feature'].split('.')[0]], production_rdt[row['feature'].split('.')[0]], row['feature'], opacity = .4, \n",
    "            plot_display = plot_display, mlflow_log=True)\n",
    "        if mlflow_log:\n",
    "                mlflow.log_param(f\"{row['feature']}_feature_importance_weighted_drift_detected\", row['feature_importance_weighted_drift_detected'])\n",
    "                mlflow.log_param(f\"{row['feature']}_drift_score\", row['drift_score'])\n",
    "                mlflow.log_param(f\"{row['feature']}_stattest_name\", row['stattest_name'])\n",
    "                mlflow.log_param(f\"{row['feature']}_raw_feature_importance\", row['feature_importance'])\n",
    "                mlflow.log_param(f\"{row['feature']}_relative_feature_importance\", row['relative_feature_importance'])\n",
    "                mlflow.log_param(f\"{row['feature']}_feature_importance_weighted_drift_score\", row['feature_importance_weighted_drift_score'])\n",
    "\n",
    "    "
   ]
  },
  {
   "cell_type": "code",
   "execution_count": 56,
   "id": "37eebb67",
   "metadata": {},
   "outputs": [],
   "source": [
    "def display_target_drift(y_reference, y_production, target_name, target_drift_detected, drift_score, stattest_type, plot_display = False, mlflow_log = False):\n",
    "    logging.info(f\"Target drift detected for for {target_name}\")\n",
    "    logging.info(f\"drift_score : {drift_score}\")\n",
    "    logging.info(f\"stattest_name : {stattest_type}\")\n",
    "    if mlflow_log:\n",
    "        mlflow.log_param(f\"{target_name}_drift_detected\", target_drift_detected)\n",
    "        mlflow.log_param(f\"{target_name}_target_drift_score\", drift_score)\n",
    "        mlflow.log_param(f\"{target_name}_target_stattest_name\", stattest_type)\n",
    "    overlay_distribution(y_reference, y_production, target_name, opacity = .4, plot_display = plot_display, mlflow_log=True)\n",
    "            "
   ]
  },
  {
   "cell_type": "markdown",
   "id": "33a95bad",
   "metadata": {},
   "source": [
    "#### How feature importance weighted data drift is calculated?\n",
    "\n"
   ]
  },
  {
   "cell_type": "code",
   "execution_count": 57,
   "id": "12534f9f",
   "metadata": {},
   "outputs": [],
   "source": [
    "# set up reference and prod data\n",
    "reference_data = X_transformed.sample(500)\n",
    "prod_data = X_eval_transformed.sample(500)\n"
   ]
  },
  {
   "cell_type": "code",
   "execution_count": 58,
   "id": "f95e58ca",
   "metadata": {},
   "outputs": [
    {
     "data": {
      "text/html": [
       "<div>\n",
       "<style scoped>\n",
       "    .dataframe tbody tr th:only-of-type {\n",
       "        vertical-align: middle;\n",
       "    }\n",
       "\n",
       "    .dataframe tbody tr th {\n",
       "        vertical-align: top;\n",
       "    }\n",
       "\n",
       "    .dataframe thead th {\n",
       "        text-align: right;\n",
       "    }\n",
       "</style>\n",
       "<table border=\"1\" class=\"dataframe\">\n",
       "  <thead>\n",
       "    <tr style=\"text-align: right;\">\n",
       "      <th></th>\n",
       "      <th>feature</th>\n",
       "      <th>drift_score</th>\n",
       "      <th>stattest_name</th>\n",
       "      <th>drift_detected</th>\n",
       "    </tr>\n",
       "  </thead>\n",
       "  <tbody>\n",
       "    <tr>\n",
       "      <th>0</th>\n",
       "      <td>statewise_population_per_sqmile.value</td>\n",
       "      <td>4.367223e-16</td>\n",
       "      <td>chi-square p_value</td>\n",
       "      <td>True</td>\n",
       "    </tr>\n",
       "    <tr>\n",
       "      <th>3</th>\n",
       "      <td>warehouse_ID.value</td>\n",
       "      <td>4.367223e-16</td>\n",
       "      <td>chi-square p_value</td>\n",
       "      <td>True</td>\n",
       "    </tr>\n",
       "    <tr>\n",
       "      <th>7</th>\n",
       "      <td>state.value</td>\n",
       "      <td>4.367223e-16</td>\n",
       "      <td>chi-square p_value</td>\n",
       "      <td>True</td>\n",
       "    </tr>\n",
       "    <tr>\n",
       "      <th>10</th>\n",
       "      <td>county.value</td>\n",
       "      <td>4.367223e-16</td>\n",
       "      <td>chi-square p_value</td>\n",
       "      <td>True</td>\n",
       "    </tr>\n",
       "    <tr>\n",
       "      <th>4</th>\n",
       "      <td>Product_Type.value</td>\n",
       "      <td>4.500382e-06</td>\n",
       "      <td>Z-test p_value</td>\n",
       "      <td>True</td>\n",
       "    </tr>\n",
       "    <tr>\n",
       "      <th>9</th>\n",
       "      <td>is_holiday.value</td>\n",
       "      <td>1.457467e-03</td>\n",
       "      <td>Z-test p_value</td>\n",
       "      <td>True</td>\n",
       "    </tr>\n",
       "    <tr>\n",
       "      <th>8</th>\n",
       "      <td>day_of_week.value</td>\n",
       "      <td>6.556379e-01</td>\n",
       "      <td>chi-square p_value</td>\n",
       "      <td>False</td>\n",
       "    </tr>\n",
       "    <tr>\n",
       "      <th>5</th>\n",
       "      <td>is_weekend.value</td>\n",
       "      <td>8.355271e-01</td>\n",
       "      <td>Z-test p_value</td>\n",
       "      <td>False</td>\n",
       "    </tr>\n",
       "    <tr>\n",
       "      <th>1</th>\n",
       "      <td>state_cases.value</td>\n",
       "      <td>1.000000e+00</td>\n",
       "      <td>Z-test p_value</td>\n",
       "      <td>False</td>\n",
       "    </tr>\n",
       "    <tr>\n",
       "      <th>2</th>\n",
       "      <td>state_deaths.value</td>\n",
       "      <td>1.000000e+00</td>\n",
       "      <td>Z-test p_value</td>\n",
       "      <td>False</td>\n",
       "    </tr>\n",
       "    <tr>\n",
       "      <th>6</th>\n",
       "      <td>is_warehouse_closed.value</td>\n",
       "      <td>1.000000e+00</td>\n",
       "      <td>Z-test p_value</td>\n",
       "      <td>False</td>\n",
       "    </tr>\n",
       "  </tbody>\n",
       "</table>\n",
       "</div>"
      ],
      "text/plain": [
       "                                  feature   drift_score       stattest_name  \\\n",
       "0   statewise_population_per_sqmile.value  4.367223e-16  chi-square p_value   \n",
       "3                      warehouse_ID.value  4.367223e-16  chi-square p_value   \n",
       "7                             state.value  4.367223e-16  chi-square p_value   \n",
       "10                           county.value  4.367223e-16  chi-square p_value   \n",
       "4                      Product_Type.value  4.500382e-06      Z-test p_value   \n",
       "9                        is_holiday.value  1.457467e-03      Z-test p_value   \n",
       "8                       day_of_week.value  6.556379e-01  chi-square p_value   \n",
       "5                        is_weekend.value  8.355271e-01      Z-test p_value   \n",
       "1                       state_cases.value  1.000000e+00      Z-test p_value   \n",
       "2                      state_deaths.value  1.000000e+00      Z-test p_value   \n",
       "6               is_warehouse_closed.value  1.000000e+00      Z-test p_value   \n",
       "\n",
       "    drift_detected  \n",
       "0             True  \n",
       "3             True  \n",
       "7             True  \n",
       "10            True  \n",
       "4             True  \n",
       "9             True  \n",
       "8            False  \n",
       "5            False  \n",
       "1            False  \n",
       "2            False  \n",
       "6            False  "
      ]
     },
     "execution_count": 58,
     "metadata": {},
     "output_type": "execute_result"
    }
   ],
   "source": [
    "# Perform statistical tests and obtain data drift profile\n",
    "data_drift_profile = get_drift_profile(reference_data, prod_data,\n",
    "                                           DataDriftProfileSection)\n",
    "# get drift profile in tablular format\n",
    "drift_scores = get_data_drift(data_drift_profile)\n",
    "\n",
    "drift_scores.sort_values(by='drift_score')"
   ]
  },
  {
   "cell_type": "markdown",
   "id": "6396acf1",
   "metadata": {},
   "source": [
    "##### drift detected without feature importance wightage for these features - statewise_population_per_sqmile.value, warehouse_ID.value, Product_Type.value, state.value, county.value\t"
   ]
  },
  {
   "cell_type": "code",
   "execution_count": 59,
   "id": "828f1965",
   "metadata": {},
   "outputs": [
    {
     "data": {
      "text/plain": [
       "Product_Type.value    2.320021\n",
       "is_weekend.value      0.442543\n",
       "warehouse_ID.value    0.343991\n",
       "day_of_week.value     0.204179\n",
       "date.value            0.159709\n",
       "dtype: float32"
      ]
     },
     "execution_count": 59,
     "metadata": {},
     "output_type": "execute_result"
    }
   ],
   "source": [
    "# Obtain feature importance\n",
    "feature_importance = get_feature_importance(reg, X_eval_transformed)\n",
    "feature_importance.head(5)"
   ]
  },
  {
   "cell_type": "code",
   "execution_count": 60,
   "id": "4903cd51",
   "metadata": {},
   "outputs": [
    {
     "data": {
      "text/plain": [
       "Product_Type.value    1.000000\n",
       "is_weekend.value      0.190749\n",
       "warehouse_ID.value    0.148271\n",
       "day_of_week.value     0.088007\n",
       "date.value            0.068839\n",
       "dtype: float64"
      ]
     },
     "execution_count": 60,
     "metadata": {},
     "output_type": "execute_result"
    }
   ],
   "source": [
    "# Convert feature importance to relative feature importance w.r.t most important feature for the model(Product_Type.value)\n",
    "relative_feature_importance_to_max_dict = get_relative_feature_importance_to_max(feature_importance)\n",
    "pd.Series(relative_feature_importance_to_max_dict).sort_values(ascending=False).head(5)"
   ]
  },
  {
   "cell_type": "code",
   "execution_count": 61,
   "id": "f1195994",
   "metadata": {},
   "outputs": [
    {
     "data": {
      "text/html": [
       "<div>\n",
       "<style scoped>\n",
       "    .dataframe tbody tr th:only-of-type {\n",
       "        vertical-align: middle;\n",
       "    }\n",
       "\n",
       "    .dataframe tbody tr th {\n",
       "        vertical-align: top;\n",
       "    }\n",
       "\n",
       "    .dataframe thead th {\n",
       "        text-align: right;\n",
       "    }\n",
       "</style>\n",
       "<table border=\"1\" class=\"dataframe\">\n",
       "  <thead>\n",
       "    <tr style=\"text-align: right;\">\n",
       "      <th></th>\n",
       "      <th>feature</th>\n",
       "      <th>drift_score</th>\n",
       "      <th>stattest_name</th>\n",
       "      <th>drift_detected</th>\n",
       "      <th>feature_importance</th>\n",
       "      <th>relative_feature_importance</th>\n",
       "      <th>feature_importance_weighted_drift_score</th>\n",
       "      <th>feature_importance_weighted_drift_detected</th>\n",
       "    </tr>\n",
       "  </thead>\n",
       "  <tbody>\n",
       "    <tr>\n",
       "      <th>3</th>\n",
       "      <td>warehouse_ID.value</td>\n",
       "      <td>4.367223e-16</td>\n",
       "      <td>chi-square p_value</td>\n",
       "      <td>True</td>\n",
       "      <td>0.343991</td>\n",
       "      <td>0.148271</td>\n",
       "      <td>2.945442e-15</td>\n",
       "      <td>True</td>\n",
       "    </tr>\n",
       "    <tr>\n",
       "      <th>0</th>\n",
       "      <td>statewise_population_per_sqmile.value</td>\n",
       "      <td>4.367223e-16</td>\n",
       "      <td>chi-square p_value</td>\n",
       "      <td>True</td>\n",
       "      <td>0.054936</td>\n",
       "      <td>0.023679</td>\n",
       "      <td>1.844326e-14</td>\n",
       "      <td>True</td>\n",
       "    </tr>\n",
       "    <tr>\n",
       "      <th>4</th>\n",
       "      <td>Product_Type.value</td>\n",
       "      <td>4.500382e-06</td>\n",
       "      <td>Z-test p_value</td>\n",
       "      <td>True</td>\n",
       "      <td>2.320021</td>\n",
       "      <td>1.000000</td>\n",
       "      <td>4.500382e-06</td>\n",
       "      <td>True</td>\n",
       "    </tr>\n",
       "    <tr>\n",
       "      <th>1</th>\n",
       "      <td>state_cases.value</td>\n",
       "      <td>1.000000e+00</td>\n",
       "      <td>Z-test p_value</td>\n",
       "      <td>False</td>\n",
       "      <td>0.000000</td>\n",
       "      <td>0.000000</td>\n",
       "      <td>1.000000e+00</td>\n",
       "      <td>False</td>\n",
       "    </tr>\n",
       "    <tr>\n",
       "      <th>2</th>\n",
       "      <td>state_deaths.value</td>\n",
       "      <td>1.000000e+00</td>\n",
       "      <td>Z-test p_value</td>\n",
       "      <td>False</td>\n",
       "      <td>0.000000</td>\n",
       "      <td>0.000000</td>\n",
       "      <td>1.000000e+00</td>\n",
       "      <td>False</td>\n",
       "    </tr>\n",
       "    <tr>\n",
       "      <th>6</th>\n",
       "      <td>is_warehouse_closed.value</td>\n",
       "      <td>1.000000e+00</td>\n",
       "      <td>Z-test p_value</td>\n",
       "      <td>False</td>\n",
       "      <td>0.000000</td>\n",
       "      <td>0.000000</td>\n",
       "      <td>1.000000e+00</td>\n",
       "      <td>False</td>\n",
       "    </tr>\n",
       "    <tr>\n",
       "      <th>7</th>\n",
       "      <td>state.value</td>\n",
       "      <td>4.367223e-16</td>\n",
       "      <td>chi-square p_value</td>\n",
       "      <td>True</td>\n",
       "      <td>0.000000</td>\n",
       "      <td>0.000000</td>\n",
       "      <td>1.000000e+00</td>\n",
       "      <td>False</td>\n",
       "    </tr>\n",
       "    <tr>\n",
       "      <th>10</th>\n",
       "      <td>county.value</td>\n",
       "      <td>4.367223e-16</td>\n",
       "      <td>chi-square p_value</td>\n",
       "      <td>True</td>\n",
       "      <td>0.000000</td>\n",
       "      <td>0.000000</td>\n",
       "      <td>1.000000e+00</td>\n",
       "      <td>False</td>\n",
       "    </tr>\n",
       "    <tr>\n",
       "      <th>9</th>\n",
       "      <td>is_holiday.value</td>\n",
       "      <td>1.457467e-03</td>\n",
       "      <td>Z-test p_value</td>\n",
       "      <td>True</td>\n",
       "      <td>0.001792</td>\n",
       "      <td>0.000773</td>\n",
       "      <td>1.886405e+00</td>\n",
       "      <td>False</td>\n",
       "    </tr>\n",
       "    <tr>\n",
       "      <th>5</th>\n",
       "      <td>is_weekend.value</td>\n",
       "      <td>8.355271e-01</td>\n",
       "      <td>Z-test p_value</td>\n",
       "      <td>False</td>\n",
       "      <td>0.442543</td>\n",
       "      <td>0.190749</td>\n",
       "      <td>4.380234e+00</td>\n",
       "      <td>False</td>\n",
       "    </tr>\n",
       "    <tr>\n",
       "      <th>8</th>\n",
       "      <td>day_of_week.value</td>\n",
       "      <td>6.556379e-01</td>\n",
       "      <td>chi-square p_value</td>\n",
       "      <td>False</td>\n",
       "      <td>0.204179</td>\n",
       "      <td>0.088007</td>\n",
       "      <td>7.449806e+00</td>\n",
       "      <td>False</td>\n",
       "    </tr>\n",
       "  </tbody>\n",
       "</table>\n",
       "</div>"
      ],
      "text/plain": [
       "                                  feature   drift_score       stattest_name  \\\n",
       "3                      warehouse_ID.value  4.367223e-16  chi-square p_value   \n",
       "0   statewise_population_per_sqmile.value  4.367223e-16  chi-square p_value   \n",
       "4                      Product_Type.value  4.500382e-06      Z-test p_value   \n",
       "1                       state_cases.value  1.000000e+00      Z-test p_value   \n",
       "2                      state_deaths.value  1.000000e+00      Z-test p_value   \n",
       "6               is_warehouse_closed.value  1.000000e+00      Z-test p_value   \n",
       "7                             state.value  4.367223e-16  chi-square p_value   \n",
       "10                           county.value  4.367223e-16  chi-square p_value   \n",
       "9                        is_holiday.value  1.457467e-03      Z-test p_value   \n",
       "5                        is_weekend.value  8.355271e-01      Z-test p_value   \n",
       "8                       day_of_week.value  6.556379e-01  chi-square p_value   \n",
       "\n",
       "    drift_detected  feature_importance  relative_feature_importance  \\\n",
       "3             True            0.343991                     0.148271   \n",
       "0             True            0.054936                     0.023679   \n",
       "4             True            2.320021                     1.000000   \n",
       "1            False            0.000000                     0.000000   \n",
       "2            False            0.000000                     0.000000   \n",
       "6            False            0.000000                     0.000000   \n",
       "7             True            0.000000                     0.000000   \n",
       "10            True            0.000000                     0.000000   \n",
       "9             True            0.001792                     0.000773   \n",
       "5            False            0.442543                     0.190749   \n",
       "8            False            0.204179                     0.088007   \n",
       "\n",
       "    feature_importance_weighted_drift_score  \\\n",
       "3                              2.945442e-15   \n",
       "0                              1.844326e-14   \n",
       "4                              4.500382e-06   \n",
       "1                              1.000000e+00   \n",
       "2                              1.000000e+00   \n",
       "6                              1.000000e+00   \n",
       "7                              1.000000e+00   \n",
       "10                             1.000000e+00   \n",
       "9                              1.886405e+00   \n",
       "5                              4.380234e+00   \n",
       "8                              7.449806e+00   \n",
       "\n",
       "    feature_importance_weighted_drift_detected  \n",
       "3                                         True  \n",
       "0                                         True  \n",
       "4                                         True  \n",
       "1                                        False  \n",
       "2                                        False  \n",
       "6                                        False  \n",
       "7                                        False  \n",
       "10                                       False  \n",
       "9                                        False  \n",
       "5                                        False  \n",
       "8                                        False  "
      ]
     },
     "execution_count": 61,
     "metadata": {},
     "output_type": "execute_result"
    }
   ],
   "source": [
    "weighted_drift_scores = get_weighted_data_drift_score(drift_scores, feature_importance, relative_feature_importance_to_max_dict,\n",
    "                                                     threshold = 0.05, stattest_type = 'p_value')\n",
    "weighted_drift_scores.sort_values(by='feature_importance_weighted_drift_score')"
   ]
  },
  {
   "cell_type": "markdown",
   "id": "a80c8505",
   "metadata": {},
   "source": [
    "##### drift detected with feature importance wightage for these features - statewise_population_per_sqmile.value, warehouse_ID.value, Product_Type.value\t\n",
    "\n",
    "<b>state.value and county.value are not detected because of high feature importance weighted p_value</b>"
   ]
  },
  {
   "cell_type": "markdown",
   "id": "1b65acc7",
   "metadata": {},
   "source": [
    "#### Test for target drift"
   ]
  },
  {
   "cell_type": "code",
   "execution_count": 62,
   "id": "4ec5f57c",
   "metadata": {},
   "outputs": [],
   "source": [
    "def determine_test_type(reference):\n",
    "\n",
    "    num_data = reference.shape[0]\n",
    "\n",
    "    if num_data <= 1000:\n",
    "        return 'p_value'\n",
    "    else:\n",
    "        return 'distance'"
   ]
  },
  {
   "cell_type": "code",
   "execution_count": 63,
   "id": "c7a4ccc9",
   "metadata": {},
   "outputs": [],
   "source": [
    "def test_target_drift(X_reference, y_reference, X_production, y_production, plot_display = False, mlflow_log = False):\n",
    "    target_drift_detected = False\n",
    "    # get target drift report\n",
    "    if column_mapping.task == 'regression':\n",
    "        profile = NumTargetDriftProfileSection\n",
    "        drift_name = 'num_target_drift'\n",
    "    else:\n",
    "        pass\n",
    "    target_drift_profile = get_drift_profile(X_reference.join(y_reference), X_production.join(y_production), profile, mlflow_log)\n",
    "    \n",
    "    drift_score = target_drift_profile[drift_name]['data']['metrics']['target_drift']\n",
    "    target_name = target_drift_profile[drift_name]['data']['utility_columns']['target']\n",
    "    stattest_type = determine_test_type(X_reference)\n",
    "    if stattest_type == 'p_value':\n",
    "        threshold = 0.05\n",
    "        if drift_score <= threshold:\n",
    "\n",
    "            target_drift_detected = True\n",
    "\n",
    "    else:\n",
    "        threshold = 0.1\n",
    "        if drift_score >= threshold:\n",
    "\n",
    "            target_drift_detected = True\n",
    "   \n",
    "    if mlflow_log:\n",
    "        display_target_drift(y_reference, y_production, target_name, target_drift_detected, drift_score, stattest_type, plot_display, mlflow_log = True)\n",
    "    return target_drift_detected\n",
    "      "
   ]
  },
  {
   "cell_type": "code",
   "execution_count": 64,
   "id": "7deb4137",
   "metadata": {},
   "outputs": [],
   "source": [
    "def test_for_drift(X_reference, y_reference, X_production, y_production, model, plot_display = False, mlflow_log = False):\n",
    "\n",
    "    \n",
    "    target_drift_detected = test_target_drift(X_reference, y_reference, X_production, y_production, mlflow_log)\n",
    "\n",
    "    logging.info(f\"target drift detect: {target_drift_detected}\")\n",
    "    # get data drift report\n",
    "    data_drift_profile = get_drift_profile(X_reference, X_production,\n",
    "                                           DataDriftProfileSection, mlflow_log)\n",
    "    # data drift detected?\n",
    "    drift_detected, drift_df = is_weighted_data_drift_detected(data_drift_profile,\n",
    "                                                     X_production,  model)\n",
    "    \n",
    "    if drift_detected:\n",
    "        logging.info('data set drift detected')\n",
    "        display_drifted_features(X_reference, X_production, drift_df, plot_display, mlflow_log)\n",
    "    else:\n",
    "        logging.info('drift not detected')\n",
    "    drift_detected = drift_detected or target_drift_detected\n",
    "    return drift_detected"
   ]
  },
  {
   "cell_type": "code",
   "execution_count": 65,
   "id": "a7e03226",
   "metadata": {},
   "outputs": [],
   "source": [
    "@mlflow_runner\n",
    "def test_mlflow(experiment_name, run_name = None):\n",
    "    # Log parameters\n",
    "    mlflow.log_param(\"begin\", datetime(2020,1,2))\n",
    "    mlflow.log_param(\"end\", datetime(2022,1,2))\n",
    "    mlflow.log_dict(X_transformed.sample(500).to_dict(), 'input_features.json')\n",
    "    mlflow.log_dict(X_eval_transformed.sample(500).to_dict(), 'target.json')\n",
    "    return test_for_drift(X_transformed.sample(500), y.sample(500), X_eval_transformed.sample(500), y_eval.sample(500) ,reg, plot_display = True, mlflow_log = True)\n"
   ]
  },
  {
   "cell_type": "code",
   "execution_count": 67,
   "id": "9c4b160c",
   "metadata": {},
   "outputs": [
    {
     "name": "stderr",
     "output_type": "stream",
     "text": [
      "10:53:54 INFO:target drift detect: True\n",
      "10:53:54 INFO:data set drift detected\n",
      "10:53:54 INFO:drift detected for statewise_population_per_sqmile.value\n",
      "10:53:54 INFO:drift_score : 1.2165486125703933e-13\n",
      "10:53:54 INFO:stattest_name : chi-square p_value\n",
      "10:53:54 INFO:raw_feature_importance : 0.055149808526039124\n",
      "10:53:54 INFO:relative_feature_importance : 0.02396475151181221\n",
      "10:53:54 INFO:feature_importance_weighted_drift_score : 5.076408207156904e-12\n"
     ]
    },
    {
     "data": {
      "image/svg+xml": "<svg class=\"main-svg\" xmlns=\"http://www.w3.org/2000/svg\" xmlns:xlink=\"http://www.w3.org/1999/xlink\" width=\"700\" height=\"300\" style=\"\" viewBox=\"0 0 700 300\"><rect x=\"0\" y=\"0\" width=\"700\" height=\"300\" style=\"fill: rgb(255, 255, 255); fill-opacity: 1;\"/><defs id=\"defs-fa8896\"><g class=\"clips\"><clipPath id=\"clipfa8896xyplot\" class=\"plotclip\"><rect width=\"488\" height=\"120\"/></clipPath><clipPath class=\"axesclip\" id=\"clipfa8896x\"><rect x=\"80\" y=\"0\" width=\"488\" height=\"300\"/></clipPath><clipPath class=\"axesclip\" id=\"clipfa8896y\"><rect x=\"0\" y=\"100\" width=\"700\" height=\"120\"/></clipPath><clipPath class=\"axesclip\" id=\"clipfa8896xy\"><rect x=\"80\" y=\"100\" width=\"488\" height=\"120\"/></clipPath></g><g class=\"gradients\"/><g class=\"patterns\"/></defs><g class=\"bglayer\"><rect class=\"bg\" x=\"80\" y=\"100\" width=\"488\" height=\"120\" style=\"fill: rgb(229, 236, 246); fill-opacity: 1; stroke-width: 0;\"/></g><g class=\"layer-below\"><g class=\"imagelayer\"/><g class=\"shapelayer\"/></g><g class=\"cartesianlayer\"><g class=\"subplot xy\"><g class=\"layer-subplot\"><g class=\"shapelayer\"/><g class=\"imagelayer\"/></g><g class=\"minor-gridlayer\"><g class=\"x\"/><g class=\"y\"/></g><g class=\"gridlayer\"><g class=\"x\"/><g class=\"y\"><path class=\"ygrid crisp\" transform=\"translate(0,189.19)\" d=\"M80,0h488\" style=\"stroke: rgb(255, 255, 255); stroke-opacity: 1; stroke-width: 1px;\"/><path class=\"ygrid crisp\" transform=\"translate(0,158.38)\" d=\"M80,0h488\" style=\"stroke: rgb(255, 255, 255); stroke-opacity: 1; stroke-width: 1px;\"/><path class=\"ygrid crisp\" transform=\"translate(0,127.57)\" d=\"M80,0h488\" style=\"stroke: rgb(255, 255, 255); stroke-opacity: 1; stroke-width: 1px;\"/></g></g><g class=\"zerolinelayer\"><path class=\"yzl zl crisp\" transform=\"translate(0,220)\" d=\"M80,0h488\" style=\"stroke: rgb(255, 255, 255); stroke-opacity: 1; stroke-width: 2px;\"/></g><path class=\"xlines-below\"/><path class=\"ylines-below\"/><g class=\"overlines-below\"/><g class=\"xaxislayer-below\"/><g class=\"yaxislayer-below\"/><g class=\"overaxes-below\"/><g class=\"plot\" transform=\"translate(80,100)\" clip-path=\"url(#clipfa8896xyplot)\"><g class=\"barlayer mlayer\"><g class=\"trace bars\" shape-rendering=\"crispEdges\" style=\"opacity: 0.4;\"><g class=\"points\"><g class=\"point\"><path d=\"M0,120V16.48H61V120Z\" style=\"vector-effect: non-scaling-stroke; opacity: 1; stroke-width: 0px; fill: rgb(99, 110, 250); fill-opacity: 1;\"/></g><g class=\"point\"><path d=\"M0,0Z\" style=\"vector-effect: non-scaling-stroke; opacity: 1; stroke-width: 0px; fill: rgb(99, 110, 250); fill-opacity: 1;\"/></g><g class=\"point\"><path d=\"M0,0Z\" style=\"vector-effect: non-scaling-stroke; opacity: 1; stroke-width: 0px; fill: rgb(99, 110, 250); fill-opacity: 1;\"/></g><g class=\"point\"><path d=\"M0,0Z\" style=\"vector-effect: non-scaling-stroke; opacity: 1; stroke-width: 0px; fill: rgb(99, 110, 250); fill-opacity: 1;\"/></g><g class=\"point\"><path d=\"M0,0Z\" style=\"vector-effect: non-scaling-stroke; opacity: 1; stroke-width: 0px; fill: rgb(99, 110, 250); fill-opacity: 1;\"/></g><g class=\"point\"><path d=\"M0,0Z\" style=\"vector-effect: non-scaling-stroke; opacity: 1; stroke-width: 0px; fill: rgb(99, 110, 250); fill-opacity: 1;\"/></g><g class=\"point\"><path d=\"M0,0Z\" style=\"vector-effect: non-scaling-stroke; opacity: 1; stroke-width: 0px; fill: rgb(99, 110, 250); fill-opacity: 1;\"/></g><g class=\"point\"><path d=\"M427,120V69.47H488V120Z\" style=\"vector-effect: non-scaling-stroke; opacity: 1; stroke-width: 0px; fill: rgb(99, 110, 250); fill-opacity: 1;\"/></g></g></g><g class=\"trace bars\" shape-rendering=\"crispEdges\" style=\"opacity: 0.4;\"><g class=\"points\"><g class=\"point\"><path d=\"M0,120V6H61V120Z\" style=\"vector-effect: non-scaling-stroke; opacity: 1; stroke-width: 0px; fill: rgb(239, 85, 59); fill-opacity: 1;\"/></g><g class=\"point\"><path d=\"M0,0Z\" style=\"vector-effect: non-scaling-stroke; opacity: 1; stroke-width: 0px; fill: rgb(239, 85, 59); fill-opacity: 1;\"/></g><g class=\"point\"><path d=\"M0,0Z\" style=\"vector-effect: non-scaling-stroke; opacity: 1; stroke-width: 0px; fill: rgb(239, 85, 59); fill-opacity: 1;\"/></g><g class=\"point\"><path d=\"M0,0Z\" style=\"vector-effect: non-scaling-stroke; opacity: 1; stroke-width: 0px; fill: rgb(239, 85, 59); fill-opacity: 1;\"/></g><g class=\"point\"><path d=\"M0,0Z\" style=\"vector-effect: non-scaling-stroke; opacity: 1; stroke-width: 0px; fill: rgb(239, 85, 59); fill-opacity: 1;\"/></g><g class=\"point\"><path d=\"M0,0Z\" style=\"vector-effect: non-scaling-stroke; opacity: 1; stroke-width: 0px; fill: rgb(239, 85, 59); fill-opacity: 1;\"/></g><g class=\"point\"><path d=\"M0,0Z\" style=\"vector-effect: non-scaling-stroke; opacity: 1; stroke-width: 0px; fill: rgb(239, 85, 59); fill-opacity: 1;\"/></g><g class=\"point\"><path d=\"M427,120V79.95H488V120Z\" style=\"vector-effect: non-scaling-stroke; opacity: 1; stroke-width: 0px; fill: rgb(239, 85, 59); fill-opacity: 1;\"/></g></g></g></g></g><g class=\"overplot\"/><path class=\"xlines-above crisp\" d=\"M0,0\" style=\"fill: none;\"/><path class=\"ylines-above crisp\" d=\"M0,0\" style=\"fill: none;\"/><g class=\"overlines-above\"/><g class=\"xaxislayer-above\"><g class=\"xtick\"><text text-anchor=\"middle\" x=\"0\" y=\"233\" transform=\"translate(80,0)\" style=\"font-family: 'Open Sans', verdana, arial, sans-serif; font-size: 12px; fill: rgb(42, 63, 95); fill-opacity: 1; white-space: pre; opacity: 1;\">0</text></g><g class=\"xtick\"><text text-anchor=\"middle\" x=\"0\" y=\"233\" style=\"font-family: 'Open Sans', verdana, arial, sans-serif; font-size: 12px; fill: rgb(42, 63, 95); fill-opacity: 1; white-space: pre; opacity: 1;\" transform=\"translate(202,0)\">200</text></g><g class=\"xtick\"><text text-anchor=\"middle\" x=\"0\" y=\"233\" style=\"font-family: 'Open Sans', verdana, arial, sans-serif; font-size: 12px; fill: rgb(42, 63, 95); fill-opacity: 1; white-space: pre; opacity: 1;\" transform=\"translate(324,0)\">400</text></g><g class=\"xtick\"><text text-anchor=\"middle\" x=\"0\" y=\"233\" style=\"font-family: 'Open Sans', verdana, arial, sans-serif; font-size: 12px; fill: rgb(42, 63, 95); fill-opacity: 1; white-space: pre; opacity: 1;\" transform=\"translate(446,0)\">600</text></g><g class=\"xtick\"><text text-anchor=\"middle\" x=\"0\" y=\"233\" style=\"font-family: 'Open Sans', verdana, arial, sans-serif; font-size: 12px; fill: rgb(42, 63, 95); fill-opacity: 1; white-space: pre; opacity: 1;\" transform=\"translate(568,0)\">800</text></g></g><g class=\"yaxislayer-above\"><g class=\"ytick\"><text text-anchor=\"end\" x=\"79\" y=\"4.199999999999999\" transform=\"translate(0,220)\" style=\"font-family: 'Open Sans', verdana, arial, sans-serif; font-size: 12px; fill: rgb(42, 63, 95); fill-opacity: 1; white-space: pre; opacity: 1;\">0</text></g><g class=\"ytick\"><text text-anchor=\"end\" x=\"79\" y=\"4.199999999999999\" style=\"font-family: 'Open Sans', verdana, arial, sans-serif; font-size: 12px; fill: rgb(42, 63, 95); fill-opacity: 1; white-space: pre; opacity: 1;\" transform=\"translate(0,189.19)\">0.002</text></g><g class=\"ytick\"><text text-anchor=\"end\" x=\"79\" y=\"4.199999999999999\" style=\"font-family: 'Open Sans', verdana, arial, sans-serif; font-size: 12px; fill: rgb(42, 63, 95); fill-opacity: 1; white-space: pre; opacity: 1;\" transform=\"translate(0,158.38)\">0.004</text></g><g class=\"ytick\"><text text-anchor=\"end\" x=\"79\" y=\"4.199999999999999\" style=\"font-family: 'Open Sans', verdana, arial, sans-serif; font-size: 12px; fill: rgb(42, 63, 95); fill-opacity: 1; white-space: pre; opacity: 1;\" transform=\"translate(0,127.57)\">0.006</text></g></g><g class=\"overaxes-above\"/></g></g><g class=\"polarlayer\"/><g class=\"smithlayer\"/><g class=\"ternarylayer\"/><g class=\"geolayer\"/><g class=\"funnelarealayer\"/><g class=\"pielayer\"/><g class=\"iciclelayer\"/><g class=\"treemaplayer\"/><g class=\"sunburstlayer\"/><g class=\"glimages\"/><defs id=\"topdefs-fa8896\"><g class=\"clips\"/><clipPath id=\"legendfa8896\"><rect width=\"110\" height=\"48\" x=\"0\" y=\"0\"/></clipPath></defs><g class=\"layer-above\"><g class=\"imagelayer\"/><g class=\"shapelayer\"/></g><g class=\"infolayer\"><g class=\"legend\" pointer-events=\"all\" transform=\"translate(577.76,100)\"><rect class=\"bg\" shape-rendering=\"crispEdges\" width=\"110\" height=\"48\" x=\"0\" y=\"0\" style=\"stroke: rgb(68, 68, 68); stroke-opacity: 1; fill: rgb(255, 255, 255); fill-opacity: 1; stroke-width: 0px;\"/><g class=\"scrollbox\" transform=\"\" clip-path=\"url(#legendfa8896)\"><g class=\"groups\"><g class=\"traces\" transform=\"translate(0,14.5)\" style=\"opacity: 1;\"><text class=\"legendtext\" text-anchor=\"start\" x=\"40\" y=\"4.680000000000001\" style=\"font-family: 'Open Sans', verdana, arial, sans-serif; font-size: 12px; fill: rgb(42, 63, 95); fill-opacity: 1; white-space: pre;\">training</text><g class=\"layers\" style=\"opacity: 0.4;\"><g class=\"legendfill\"/><g class=\"legendlines\"/><g class=\"legendsymbols\"><g class=\"legendpoints\"><path class=\"legendundefined\" d=\"M6,6H-6V-6H6Z\" transform=\"translate(20,0)\" style=\"stroke-width: 0px; fill: rgb(99, 110, 250); fill-opacity: 1;\"/></g></g></g><rect class=\"legendtoggle\" x=\"0\" y=\"-9.5\" width=\"104.109375\" height=\"19\" style=\"fill: rgb(0, 0, 0); fill-opacity: 0;\"/></g><g class=\"traces\" transform=\"translate(0,33.5)\" style=\"opacity: 1;\"><text class=\"legendtext\" text-anchor=\"start\" x=\"40\" y=\"4.680000000000001\" style=\"font-family: 'Open Sans', verdana, arial, sans-serif; font-size: 12px; fill: rgb(42, 63, 95); fill-opacity: 1; white-space: pre;\">production</text><g class=\"layers\" style=\"opacity: 0.4;\"><g class=\"legendfill\"/><g class=\"legendlines\"/><g class=\"legendsymbols\"><g class=\"legendpoints\"><path class=\"legendundefined\" d=\"M6,6H-6V-6H6Z\" transform=\"translate(20,0)\" style=\"stroke-width: 0px; fill: rgb(239, 85, 59); fill-opacity: 1;\"/></g></g></g><rect class=\"legendtoggle\" x=\"0\" y=\"-9.5\" width=\"104.109375\" height=\"19\" style=\"fill: rgb(0, 0, 0); fill-opacity: 0;\"/></g></g></g><rect class=\"scrollbar\" rx=\"20\" ry=\"3\" width=\"0\" height=\"0\" x=\"0\" y=\"0\" style=\"fill: rgb(128, 139, 164); fill-opacity: 1;\"/></g><g class=\"g-gtitle\"><text class=\"gtitle\" x=\"35\" y=\"50\" text-anchor=\"start\" dy=\"0em\" style=\"font-family: 'Open Sans', verdana, arial, sans-serif; font-size: 17px; fill: rgb(42, 63, 95); opacity: 1; font-weight: normal; white-space: pre;\">statewise_population_per_sqmile Distribution</text></g><g class=\"g-xtitle\"><text class=\"xtitle\" x=\"324\" y=\"260.8\" text-anchor=\"middle\" style=\"font-family: 'Open Sans', verdana, arial, sans-serif; font-size: 14px; fill: rgb(42, 63, 95); opacity: 1; font-weight: normal; white-space: pre;\">statewise_population_per_sqmile</text></g><g class=\"g-ytitle\"><text class=\"ytitle\" transform=\"rotate(-90,19.309375000000003,160)\" x=\"19.309375000000003\" y=\"160\" text-anchor=\"middle\" style=\"font-family: 'Open Sans', verdana, arial, sans-serif; font-size: 14px; fill: rgb(42, 63, 95); opacity: 1; font-weight: normal; white-space: pre;\">probability density</text></g></g></svg>"
     },
     "metadata": {},
     "output_type": "display_data"
    },
    {
     "name": "stderr",
     "output_type": "stream",
     "text": [
      "10:53:55 INFO:drift detected for warehouse_ID.value\n",
      "10:53:55 INFO:drift_score : 1.2165486125703978e-13\n",
      "10:53:55 INFO:stattest_name : chi-square p_value\n",
      "10:53:55 INFO:raw_feature_importance : 0.34772932529449463\n",
      "10:53:55 INFO:relative_feature_importance : 0.1511020064353943\n",
      "10:53:55 INFO:feature_importance_weighted_drift_score : 8.051174443474711e-13\n"
     ]
    },
    {
     "data": {
      "image/svg+xml": "<svg class=\"main-svg\" xmlns=\"http://www.w3.org/2000/svg\" xmlns:xlink=\"http://www.w3.org/1999/xlink\" width=\"700\" height=\"300\" style=\"\" viewBox=\"0 0 700 300\"><rect x=\"0\" y=\"0\" width=\"700\" height=\"300\" style=\"fill: rgb(255, 255, 255); fill-opacity: 1;\"/><defs id=\"defs-d95ed7\"><g class=\"clips\"><clipPath id=\"clipd95ed7xyplot\" class=\"plotclip\"><rect width=\"488\" height=\"120\"/></clipPath><clipPath class=\"axesclip\" id=\"clipd95ed7x\"><rect x=\"80\" y=\"0\" width=\"488\" height=\"300\"/></clipPath><clipPath class=\"axesclip\" id=\"clipd95ed7y\"><rect x=\"0\" y=\"100\" width=\"700\" height=\"120\"/></clipPath><clipPath class=\"axesclip\" id=\"clipd95ed7xy\"><rect x=\"80\" y=\"100\" width=\"488\" height=\"120\"/></clipPath></g><g class=\"gradients\"/><g class=\"patterns\"/></defs><g class=\"bglayer\"><rect class=\"bg\" x=\"80\" y=\"100\" width=\"488\" height=\"120\" style=\"fill: rgb(229, 236, 246); fill-opacity: 1; stroke-width: 0;\"/></g><g class=\"layer-below\"><g class=\"imagelayer\"/><g class=\"shapelayer\"/></g><g class=\"cartesianlayer\"><g class=\"subplot xy\"><g class=\"layer-subplot\"><g class=\"shapelayer\"/><g class=\"imagelayer\"/></g><g class=\"minor-gridlayer\"><g class=\"x\"/><g class=\"y\"/></g><g class=\"gridlayer\"><g class=\"x\"/><g class=\"y\"><path class=\"ygrid crisp\" transform=\"translate(0,185.24)\" d=\"M80,0h488\" style=\"stroke: rgb(255, 255, 255); stroke-opacity: 1; stroke-width: 1px;\"/><path class=\"ygrid crisp\" transform=\"translate(0,150.49)\" d=\"M80,0h488\" style=\"stroke: rgb(255, 255, 255); stroke-opacity: 1; stroke-width: 1px;\"/><path class=\"ygrid crisp\" transform=\"translate(0,115.73)\" d=\"M80,0h488\" style=\"stroke: rgb(255, 255, 255); stroke-opacity: 1; stroke-width: 1px;\"/></g></g><g class=\"zerolinelayer\"><path class=\"yzl zl crisp\" transform=\"translate(0,220)\" d=\"M80,0h488\" style=\"stroke: rgb(255, 255, 255); stroke-opacity: 1; stroke-width: 2px;\"/></g><path class=\"xlines-below\"/><path class=\"ylines-below\"/><g class=\"overlines-below\"/><g class=\"xaxislayer-below\"/><g class=\"yaxislayer-below\"/><g class=\"overaxes-below\"/><g class=\"plot\" transform=\"translate(80,100)\" clip-path=\"url(#clipd95ed7xyplot)\"><g class=\"barlayer mlayer\"><g class=\"trace bars\" style=\"opacity: 0.4;\"><g class=\"points\"><g class=\"point\"><path d=\"M12.2,120V6H109.8V120Z\" style=\"vector-effect: non-scaling-stroke; opacity: 1; stroke-width: 0px; fill: rgb(99, 110, 250); fill-opacity: 1;\"/></g><g class=\"point\"><path d=\"M134.2,120V79.68H231.8V120Z\" style=\"vector-effect: non-scaling-stroke; opacity: 1; stroke-width: 0px; fill: rgb(99, 110, 250); fill-opacity: 1;\"/></g><g class=\"point\"><path d=\"M256.2,120V7.39H353.8V120Z\" style=\"vector-effect: non-scaling-stroke; opacity: 1; stroke-width: 0px; fill: rgb(99, 110, 250); fill-opacity: 1;\"/></g><g class=\"point\"><path d=\"M378.2,120V39.37H475.8V120Z\" style=\"vector-effect: non-scaling-stroke; opacity: 1; stroke-width: 0px; fill: rgb(99, 110, 250); fill-opacity: 1;\"/></g></g></g><g class=\"trace bars\" style=\"opacity: 0.4;\"><g class=\"points\"><g class=\"point\"><path d=\"M12.2,120V29.63H109.8V120Z\" style=\"vector-effect: non-scaling-stroke; opacity: 1; stroke-width: 0px; fill: rgb(239, 85, 59); fill-opacity: 1;\"/></g><g class=\"point\"><path d=\"M134.2,120V34.5H231.8V120Z\" style=\"vector-effect: non-scaling-stroke; opacity: 1; stroke-width: 0px; fill: rgb(239, 85, 59); fill-opacity: 1;\"/></g><g class=\"point\"><path d=\"M256.2,120V39.37H353.8V120Z\" style=\"vector-effect: non-scaling-stroke; opacity: 1; stroke-width: 0px; fill: rgb(239, 85, 59); fill-opacity: 1;\"/></g><g class=\"point\"><path d=\"M378.2,120V28.94H475.8V120Z\" style=\"vector-effect: non-scaling-stroke; opacity: 1; stroke-width: 0px; fill: rgb(239, 85, 59); fill-opacity: 1;\"/></g></g></g></g></g><g class=\"overplot\"/><path class=\"xlines-above crisp\" d=\"M0,0\" style=\"fill: none;\"/><path class=\"ylines-above crisp\" d=\"M0,0\" style=\"fill: none;\"/><g class=\"overlines-above\"/><g class=\"xaxislayer-above\"><g class=\"xtick\"><text text-anchor=\"middle\" x=\"0\" y=\"233\" transform=\"translate(141,0)\" style=\"font-family: 'Open Sans', verdana, arial, sans-serif; font-size: 12px; fill: rgb(42, 63, 95); fill-opacity: 1; white-space: pre; opacity: 1;\">WH_0x3e9</text></g><g class=\"xtick\"><text text-anchor=\"middle\" x=\"0\" y=\"233\" transform=\"translate(263,0)\" style=\"font-family: 'Open Sans', verdana, arial, sans-serif; font-size: 12px; fill: rgb(42, 63, 95); fill-opacity: 1; white-space: pre; opacity: 1;\">WH_0x3ec</text></g><g class=\"xtick\"><text text-anchor=\"middle\" x=\"0\" y=\"233\" transform=\"translate(385,0)\" style=\"font-family: 'Open Sans', verdana, arial, sans-serif; font-size: 12px; fill: rgb(42, 63, 95); fill-opacity: 1; white-space: pre; opacity: 1;\">WH_0x3ea</text></g><g class=\"xtick\"><text text-anchor=\"middle\" x=\"0\" y=\"233\" transform=\"translate(507,0)\" style=\"font-family: 'Open Sans', verdana, arial, sans-serif; font-size: 12px; fill: rgb(42, 63, 95); fill-opacity: 1; white-space: pre; opacity: 1;\">WH_0x3eb</text></g></g><g class=\"yaxislayer-above\"><g class=\"ytick\"><text text-anchor=\"end\" x=\"79\" y=\"4.199999999999999\" transform=\"translate(0,220)\" style=\"font-family: 'Open Sans', verdana, arial, sans-serif; font-size: 12px; fill: rgb(42, 63, 95); fill-opacity: 1; white-space: pre; opacity: 1;\">0</text></g><g class=\"ytick\"><text text-anchor=\"end\" x=\"79\" y=\"4.199999999999999\" style=\"font-family: 'Open Sans', verdana, arial, sans-serif; font-size: 12px; fill: rgb(42, 63, 95); fill-opacity: 1; white-space: pre; opacity: 1;\" transform=\"translate(0,185.24)\">0.1</text></g><g class=\"ytick\"><text text-anchor=\"end\" x=\"79\" y=\"4.199999999999999\" style=\"font-family: 'Open Sans', verdana, arial, sans-serif; font-size: 12px; fill: rgb(42, 63, 95); fill-opacity: 1; white-space: pre; opacity: 1;\" transform=\"translate(0,150.49)\">0.2</text></g><g class=\"ytick\"><text text-anchor=\"end\" x=\"79\" y=\"4.199999999999999\" style=\"font-family: 'Open Sans', verdana, arial, sans-serif; font-size: 12px; fill: rgb(42, 63, 95); fill-opacity: 1; white-space: pre; opacity: 1;\" transform=\"translate(0,115.73)\">0.3</text></g></g><g class=\"overaxes-above\"/></g></g><g class=\"polarlayer\"/><g class=\"smithlayer\"/><g class=\"ternarylayer\"/><g class=\"geolayer\"/><g class=\"funnelarealayer\"/><g class=\"pielayer\"/><g class=\"iciclelayer\"/><g class=\"treemaplayer\"/><g class=\"sunburstlayer\"/><g class=\"glimages\"/><defs id=\"topdefs-d95ed7\"><g class=\"clips\"/><clipPath id=\"legendd95ed7\"><rect width=\"110\" height=\"48\" x=\"0\" y=\"0\"/></clipPath></defs><g class=\"layer-above\"><g class=\"imagelayer\"/><g class=\"shapelayer\"/></g><g class=\"infolayer\"><g class=\"legend\" pointer-events=\"all\" transform=\"translate(577.76,100)\"><rect class=\"bg\" shape-rendering=\"crispEdges\" width=\"110\" height=\"48\" x=\"0\" y=\"0\" style=\"stroke: rgb(68, 68, 68); stroke-opacity: 1; fill: rgb(255, 255, 255); fill-opacity: 1; stroke-width: 0px;\"/><g class=\"scrollbox\" transform=\"\" clip-path=\"url(#legendd95ed7)\"><g class=\"groups\"><g class=\"traces\" transform=\"translate(0,14.5)\" style=\"opacity: 1;\"><text class=\"legendtext\" text-anchor=\"start\" x=\"40\" y=\"4.680000000000001\" style=\"font-family: 'Open Sans', verdana, arial, sans-serif; font-size: 12px; fill: rgb(42, 63, 95); fill-opacity: 1; white-space: pre;\">training</text><g class=\"layers\" style=\"opacity: 0.4;\"><g class=\"legendfill\"/><g class=\"legendlines\"/><g class=\"legendsymbols\"><g class=\"legendpoints\"><path class=\"legendundefined\" d=\"M6,6H-6V-6H6Z\" transform=\"translate(20,0)\" style=\"stroke-width: 0px; fill: rgb(99, 110, 250); fill-opacity: 1;\"/></g></g></g><rect class=\"legendtoggle\" x=\"0\" y=\"-9.5\" width=\"104.109375\" height=\"19\" style=\"fill: rgb(0, 0, 0); fill-opacity: 0;\"/></g><g class=\"traces\" transform=\"translate(0,33.5)\" style=\"opacity: 1;\"><text class=\"legendtext\" text-anchor=\"start\" x=\"40\" y=\"4.680000000000001\" style=\"font-family: 'Open Sans', verdana, arial, sans-serif; font-size: 12px; fill: rgb(42, 63, 95); fill-opacity: 1; white-space: pre;\">production</text><g class=\"layers\" style=\"opacity: 0.4;\"><g class=\"legendfill\"/><g class=\"legendlines\"/><g class=\"legendsymbols\"><g class=\"legendpoints\"><path class=\"legendundefined\" d=\"M6,6H-6V-6H6Z\" transform=\"translate(20,0)\" style=\"stroke-width: 0px; fill: rgb(239, 85, 59); fill-opacity: 1;\"/></g></g></g><rect class=\"legendtoggle\" x=\"0\" y=\"-9.5\" width=\"104.109375\" height=\"19\" style=\"fill: rgb(0, 0, 0); fill-opacity: 0;\"/></g></g></g><rect class=\"scrollbar\" rx=\"20\" ry=\"3\" width=\"0\" height=\"0\" x=\"0\" y=\"0\" style=\"fill: rgb(128, 139, 164); fill-opacity: 1;\"/></g><g class=\"g-gtitle\"><text class=\"gtitle\" x=\"35\" y=\"50\" text-anchor=\"start\" dy=\"0em\" style=\"font-family: 'Open Sans', verdana, arial, sans-serif; font-size: 17px; fill: rgb(42, 63, 95); opacity: 1; font-weight: normal; white-space: pre;\">warehouse_ID Distribution</text></g><g class=\"g-xtitle\"><text class=\"xtitle\" x=\"324\" y=\"260.8\" text-anchor=\"middle\" style=\"font-family: 'Open Sans', verdana, arial, sans-serif; font-size: 14px; fill: rgb(42, 63, 95); opacity: 1; font-weight: normal; white-space: pre;\">warehouse_ID</text></g><g class=\"g-ytitle\"><text class=\"ytitle\" transform=\"rotate(-90,34.575,160)\" x=\"34.575\" y=\"160\" text-anchor=\"middle\" style=\"font-family: 'Open Sans', verdana, arial, sans-serif; font-size: 14px; fill: rgb(42, 63, 95); opacity: 1; font-weight: normal; white-space: pre;\">probability density</text></g></g></svg>"
     },
     "metadata": {},
     "output_type": "display_data"
    },
    {
     "name": "stderr",
     "output_type": "stream",
     "text": [
      "10:53:55 INFO:drift detected for Product_Type.value\n",
      "10:53:55 INFO:drift_score : 0.00035027264131759495\n",
      "10:53:55 INFO:stattest_name : Z-test p_value\n",
      "10:53:55 INFO:raw_feature_importance : 2.301288604736328\n",
      "10:53:55 INFO:relative_feature_importance : 1.0\n",
      "10:53:55 INFO:feature_importance_weighted_drift_score : 0.00035027264131759495\n"
     ]
    },
    {
     "data": {
      "image/svg+xml": "<svg class=\"main-svg\" xmlns=\"http://www.w3.org/2000/svg\" xmlns:xlink=\"http://www.w3.org/1999/xlink\" width=\"700\" height=\"300\" style=\"\" viewBox=\"0 0 700 300\"><rect x=\"0\" y=\"0\" width=\"700\" height=\"300\" style=\"fill: rgb(255, 255, 255); fill-opacity: 1;\"/><defs id=\"defs-ce76ee\"><g class=\"clips\"><clipPath id=\"clipce76eexyplot\" class=\"plotclip\"><rect width=\"488\" height=\"120\"/></clipPath><clipPath class=\"axesclip\" id=\"clipce76eex\"><rect x=\"80\" y=\"0\" width=\"488\" height=\"300\"/></clipPath><clipPath class=\"axesclip\" id=\"clipce76eey\"><rect x=\"0\" y=\"100\" width=\"700\" height=\"120\"/></clipPath><clipPath class=\"axesclip\" id=\"clipce76eexy\"><rect x=\"80\" y=\"100\" width=\"488\" height=\"120\"/></clipPath></g><g class=\"gradients\"/><g class=\"patterns\"/></defs><g class=\"bglayer\"><rect class=\"bg\" x=\"80\" y=\"100\" width=\"488\" height=\"120\" style=\"fill: rgb(229, 236, 246); fill-opacity: 1; stroke-width: 0;\"/></g><g class=\"layer-below\"><g class=\"imagelayer\"/><g class=\"shapelayer\"/></g><g class=\"cartesianlayer\"><g class=\"subplot xy\"><g class=\"layer-subplot\"><g class=\"shapelayer\"/><g class=\"imagelayer\"/></g><g class=\"minor-gridlayer\"><g class=\"x\"/><g class=\"y\"/></g><g class=\"gridlayer\"><g class=\"x\"/><g class=\"y\"><path class=\"ygrid crisp\" transform=\"translate(0,183.45999999999998)\" d=\"M80,0h488\" style=\"stroke: rgb(255, 255, 255); stroke-opacity: 1; stroke-width: 1px;\"/><path class=\"ygrid crisp\" transform=\"translate(0,146.92000000000002)\" d=\"M80,0h488\" style=\"stroke: rgb(255, 255, 255); stroke-opacity: 1; stroke-width: 1px;\"/><path class=\"ygrid crisp\" transform=\"translate(0,110.38)\" d=\"M80,0h488\" style=\"stroke: rgb(255, 255, 255); stroke-opacity: 1; stroke-width: 1px;\"/></g></g><g class=\"zerolinelayer\"><path class=\"yzl zl crisp\" transform=\"translate(0,220)\" d=\"M80,0h488\" style=\"stroke: rgb(255, 255, 255); stroke-opacity: 1; stroke-width: 2px;\"/></g><path class=\"xlines-below\"/><path class=\"ylines-below\"/><g class=\"overlines-below\"/><g class=\"xaxislayer-below\"/><g class=\"yaxislayer-below\"/><g class=\"overaxes-below\"/><g class=\"plot\" transform=\"translate(80,100)\" clip-path=\"url(#clipce76eexyplot)\"><g class=\"barlayer mlayer\"><g class=\"trace bars\" style=\"opacity: 0.4;\"><g class=\"points\"><g class=\"point\"><path d=\"M24.4,120V51.31H219.6V120Z\" style=\"vector-effect: non-scaling-stroke; opacity: 1; stroke-width: 0px; fill: rgb(99, 110, 250); fill-opacity: 1;\"/></g><g class=\"point\"><path d=\"M268.4,120V6H463.6V120Z\" style=\"vector-effect: non-scaling-stroke; opacity: 1; stroke-width: 0px; fill: rgb(99, 110, 250); fill-opacity: 1;\"/></g></g></g><g class=\"trace bars\" style=\"opacity: 0.4;\"><g class=\"points\"><g class=\"point\"><path d=\"M24.4,120V30.85H219.6V120Z\" style=\"vector-effect: non-scaling-stroke; opacity: 1; stroke-width: 0px; fill: rgb(239, 85, 59); fill-opacity: 1;\"/></g><g class=\"point\"><path d=\"M268.4,120V26.46H463.6V120Z\" style=\"vector-effect: non-scaling-stroke; opacity: 1; stroke-width: 0px; fill: rgb(239, 85, 59); fill-opacity: 1;\"/></g></g></g></g></g><g class=\"overplot\"/><path class=\"xlines-above crisp\" d=\"M0,0\" style=\"fill: none;\"/><path class=\"ylines-above crisp\" d=\"M0,0\" style=\"fill: none;\"/><g class=\"overlines-above\"/><g class=\"xaxislayer-above\"><g class=\"xtick\"><text text-anchor=\"middle\" x=\"0\" y=\"233\" transform=\"translate(202,0)\" style=\"font-family: 'Open Sans', verdana, arial, sans-serif; font-size: 12px; fill: rgb(42, 63, 95); fill-opacity: 1; white-space: pre; opacity: 1;\">Type_B</text></g><g class=\"xtick\"><text text-anchor=\"middle\" x=\"0\" y=\"233\" transform=\"translate(446,0)\" style=\"font-family: 'Open Sans', verdana, arial, sans-serif; font-size: 12px; fill: rgb(42, 63, 95); fill-opacity: 1; white-space: pre; opacity: 1;\">Type_A</text></g></g><g class=\"yaxislayer-above\"><g class=\"ytick\"><text text-anchor=\"end\" x=\"79\" y=\"4.199999999999999\" transform=\"translate(0,220)\" style=\"font-family: 'Open Sans', verdana, arial, sans-serif; font-size: 12px; fill: rgb(42, 63, 95); fill-opacity: 1; white-space: pre; opacity: 1;\">0</text></g><g class=\"ytick\"><text text-anchor=\"end\" x=\"79\" y=\"4.199999999999999\" style=\"font-family: 'Open Sans', verdana, arial, sans-serif; font-size: 12px; fill: rgb(42, 63, 95); fill-opacity: 1; white-space: pre; opacity: 1;\" transform=\"translate(0,183.45999999999998)\">0.2</text></g><g class=\"ytick\"><text text-anchor=\"end\" x=\"79\" y=\"4.199999999999999\" style=\"font-family: 'Open Sans', verdana, arial, sans-serif; font-size: 12px; fill: rgb(42, 63, 95); fill-opacity: 1; white-space: pre; opacity: 1;\" transform=\"translate(0,146.92000000000002)\">0.4</text></g><g class=\"ytick\"><text text-anchor=\"end\" x=\"79\" y=\"4.199999999999999\" style=\"font-family: 'Open Sans', verdana, arial, sans-serif; font-size: 12px; fill: rgb(42, 63, 95); fill-opacity: 1; white-space: pre; opacity: 1;\" transform=\"translate(0,110.38)\">0.6</text></g></g><g class=\"overaxes-above\"/></g></g><g class=\"polarlayer\"/><g class=\"smithlayer\"/><g class=\"ternarylayer\"/><g class=\"geolayer\"/><g class=\"funnelarealayer\"/><g class=\"pielayer\"/><g class=\"iciclelayer\"/><g class=\"treemaplayer\"/><g class=\"sunburstlayer\"/><g class=\"glimages\"/><defs id=\"topdefs-ce76ee\"><g class=\"clips\"/><clipPath id=\"legendce76ee\"><rect width=\"110\" height=\"48\" x=\"0\" y=\"0\"/></clipPath></defs><g class=\"layer-above\"><g class=\"imagelayer\"/><g class=\"shapelayer\"/></g><g class=\"infolayer\"><g class=\"legend\" pointer-events=\"all\" transform=\"translate(577.76,100)\"><rect class=\"bg\" shape-rendering=\"crispEdges\" width=\"110\" height=\"48\" x=\"0\" y=\"0\" style=\"stroke: rgb(68, 68, 68); stroke-opacity: 1; fill: rgb(255, 255, 255); fill-opacity: 1; stroke-width: 0px;\"/><g class=\"scrollbox\" transform=\"\" clip-path=\"url(#legendce76ee)\"><g class=\"groups\"><g class=\"traces\" transform=\"translate(0,14.5)\" style=\"opacity: 1;\"><text class=\"legendtext\" text-anchor=\"start\" x=\"40\" y=\"4.680000000000001\" style=\"font-family: 'Open Sans', verdana, arial, sans-serif; font-size: 12px; fill: rgb(42, 63, 95); fill-opacity: 1; white-space: pre;\">training</text><g class=\"layers\" style=\"opacity: 0.4;\"><g class=\"legendfill\"/><g class=\"legendlines\"/><g class=\"legendsymbols\"><g class=\"legendpoints\"><path class=\"legendundefined\" d=\"M6,6H-6V-6H6Z\" transform=\"translate(20,0)\" style=\"stroke-width: 0px; fill: rgb(99, 110, 250); fill-opacity: 1;\"/></g></g></g><rect class=\"legendtoggle\" x=\"0\" y=\"-9.5\" width=\"104.109375\" height=\"19\" style=\"fill: rgb(0, 0, 0); fill-opacity: 0;\"/></g><g class=\"traces\" transform=\"translate(0,33.5)\" style=\"opacity: 1;\"><text class=\"legendtext\" text-anchor=\"start\" x=\"40\" y=\"4.680000000000001\" style=\"font-family: 'Open Sans', verdana, arial, sans-serif; font-size: 12px; fill: rgb(42, 63, 95); fill-opacity: 1; white-space: pre;\">production</text><g class=\"layers\" style=\"opacity: 0.4;\"><g class=\"legendfill\"/><g class=\"legendlines\"/><g class=\"legendsymbols\"><g class=\"legendpoints\"><path class=\"legendundefined\" d=\"M6,6H-6V-6H6Z\" transform=\"translate(20,0)\" style=\"stroke-width: 0px; fill: rgb(239, 85, 59); fill-opacity: 1;\"/></g></g></g><rect class=\"legendtoggle\" x=\"0\" y=\"-9.5\" width=\"104.109375\" height=\"19\" style=\"fill: rgb(0, 0, 0); fill-opacity: 0;\"/></g></g></g><rect class=\"scrollbar\" rx=\"20\" ry=\"3\" width=\"0\" height=\"0\" x=\"0\" y=\"0\" style=\"fill: rgb(128, 139, 164); fill-opacity: 1;\"/></g><g class=\"g-gtitle\"><text class=\"gtitle\" x=\"35\" y=\"50\" text-anchor=\"start\" dy=\"0em\" style=\"font-family: 'Open Sans', verdana, arial, sans-serif; font-size: 17px; fill: rgb(42, 63, 95); opacity: 1; font-weight: normal; white-space: pre;\">Product_Type Distribution</text></g><g class=\"g-xtitle\"><text class=\"xtitle\" x=\"324\" y=\"260.8\" text-anchor=\"middle\" style=\"font-family: 'Open Sans', verdana, arial, sans-serif; font-size: 14px; fill: rgb(42, 63, 95); opacity: 1; font-weight: normal; white-space: pre;\">Product_Type</text></g><g class=\"g-ytitle\"><text class=\"ytitle\" transform=\"rotate(-90,34.575,160)\" x=\"34.575\" y=\"160\" text-anchor=\"middle\" style=\"font-family: 'Open Sans', verdana, arial, sans-serif; font-size: 14px; fill: rgb(42, 63, 95); opacity: 1; font-weight: normal; white-space: pre;\">probability density</text></g></g></svg>"
     },
     "metadata": {},
     "output_type": "display_data"
    },
    {
     "data": {
      "text/plain": [
       "True"
      ]
     },
     "execution_count": 67,
     "metadata": {},
     "output_type": "execute_result"
    }
   ],
   "source": [
    "test_mlflow(experiment_name = 'mlflow drift detection test', run_name=str(int(time.mktime(datetime.now().timetuple()))))"
   ]
  },
  {
   "cell_type": "markdown",
   "id": "54fd2d36",
   "metadata": {},
   "source": [
    "#### Simulate model on data from 2019-04-01 to 2020-11-15"
   ]
  },
  {
   "cell_type": "code",
   "execution_count": 72,
   "id": "50130bfa",
   "metadata": {},
   "outputs": [],
   "source": [
    "simulate_df = df[df.date >= datetime(2019,3,1)]"
   ]
  },
  {
   "cell_type": "code",
   "execution_count": 73,
   "id": "45e01019",
   "metadata": {},
   "outputs": [],
   "source": [
    "@mlflow_runner\n",
    "def simulate_Weekly_experiment(df, preds, experiment_name, run_name, week_num,plot_display =False):\n",
    "    # Get weekly data\n",
    "        global final_X_transform\n",
    "        global final_y\n",
    "        global reg_final\n",
    "        row = df.iloc[0]\n",
    "        dt = row['date']\n",
    "        start = dt - timedelta(days=row['date'].weekday())\n",
    "        end = start + timedelta(days=6)\n",
    "        sub_df = df.set_index('date')[start:end]\n",
    "        sub_df = sub_df.reset_index().set_index('ID')\n",
    "        df = df[(df.date.dt.date > end.date())]\n",
    "        print(f'Experiment week {week_num}')\n",
    "        print('---------------------------------')\n",
    "        print(f\"Experiment start date : {start.to_pydatetime()}\")\n",
    "        print(f\"Experiment end_date : {end.to_pydatetime()}\")\n",
    "        mlflow.log_param('experiment_week',week_num)\n",
    "        mlflow.log_param('week_begin_experiment_start_date',start)\n",
    "        mlflow.log_param('week_end_experiment_end_date',end)\n",
    "        \n",
    "        # Transform sub_df to X, y\n",
    "        X_prod,y_prod = split_features_target(sub_df)\n",
    "        X_prod_transformed = ht.transform(X_prod)\n",
    "        \n",
    "        mlflow.log_dict(X_prod_transformed.to_dict(), 'input_features.json')\n",
    "        mlflow.log_dict(y_prod.to_dict(), 'target.json')\n",
    "        # weekly_prediction\n",
    "        weekly_predictions = reg_final.predict(X_prod_transformed)\n",
    "        \n",
    "        mlflow.log_dict(pd.Series(weekly_predictions,name=y_prod.name, index = y_prod.index).to_dict(),'weekly_predictions.json')\n",
    "        # Predict for X,y\n",
    "        scores_dict = get_scores(y_prod,weekly_predictions,f\"weekly\")\n",
    "        mlflow.log_metrics(scores_dict)\n",
    "        preds.extend(weekly_predictions.tolist())\n",
    "        ht.fit(X_prod)\n",
    "        #reference_data = final_X_transform.sample(n = X_prod_transformed.shape[0])\n",
    "        #reference_target = final_y.loc[final_y.index.isin(reference_data.index)].reindex(reference_data.index)\n",
    "        \n",
    "        if test_for_drift(final_X_transform, final_y, X_prod_transformed, y_prod, reg_final, plot_display, mlflow_log=True):\n",
    "            # retrain model\n",
    "            # test for drift an\n",
    "            logging.info('Retraining model')\n",
    "            reg_final.fit(X_prod_transformed, y_prod)\n",
    "        else:\n",
    "            logging.info('No Drift detection')\n",
    "        final_X_transform = final_X_transform.append(X_prod_transformed)\n",
    "        final_y = final_y.append(y_prod)\n",
    "        print(final_X_transform.shape)\n",
    "        print(final_y.shape)\n",
    "        return df, preds"
   ]
  },
  {
   "cell_type": "code",
   "execution_count": 70,
   "id": "245dc46d",
   "metadata": {},
   "outputs": [],
   "source": [
    "def simulate_model(df, experiment_name, run_name, plot_display =False):\n",
    "    \n",
    "    preds = []\n",
    "    df = df.reset_index()\n",
    "    current_df = df\n",
    "    month_num = 1\n",
    "    while current_df.shape[0] > 0:\n",
    "\n",
    "        current_df, preds = simulate_monthly_experiment(current_df, preds, experiment_name = experiment_name,  run_name=run_name,\n",
    "        month_num=month_num, plot_display = plot_display)\n",
    "        month_num +=1\n",
    "    return preds   "
   ]
  },
  {
   "cell_type": "code",
   "execution_count": 74,
   "id": "b4ca0118",
   "metadata": {},
   "outputs": [
    {
     "name": "stderr",
     "output_type": "stream",
     "text": [
      "2022/07/14 11:22:59 INFO mlflow.tracking.fluent: Experiment with name 'monthly_ml_monitoring' does not exist. Creating a new experiment.\n"
     ]
    },
    {
     "name": "stdout",
     "output_type": "stream",
     "text": [
      "Experiment week 1\n",
      "---------------------------------\n",
      "Experiment start date : 2019-02-25 00:00:00\n",
      "Experiment end_date : 2019-03-03 00:00:00\n"
     ]
    },
    {
     "name": "stderr",
     "output_type": "stream",
     "text": [
      "11:22:59 INFO:target drift detect: True\n",
      "11:23:00 INFO:drift not detected\n",
      "11:23:00 INFO:Retraining model\n"
     ]
    },
    {
     "name": "stdout",
     "output_type": "stream",
     "text": [
      "(4022, 31)\n",
      "(4022,)\n",
      "Experiment week 2\n",
      "---------------------------------\n",
      "Experiment start date : 2019-03-04 00:00:00\n",
      "Experiment end_date : 2019-03-10 00:00:00\n"
     ]
    },
    {
     "name": "stderr",
     "output_type": "stream",
     "text": [
      "11:23:00 INFO:target drift detect: True\n",
      "11:23:00 INFO:data set drift detected\n",
      "11:23:01 INFO:drift detected for Product_Type.value\n",
      "11:23:01 INFO:drift_score : 0.8325546111576977\n",
      "11:23:01 INFO:stattest_name : Jensen-Shannon distance\n",
      "11:23:01 INFO:raw_feature_importance : 2.193288564682007\n",
      "11:23:01 INFO:relative_feature_importance : 1.0\n",
      "11:23:01 INFO:feature_importance_weighted_drift_score : 0.8325546111576977\n",
      "11:23:01 INFO:Retraining model\n"
     ]
    },
    {
     "name": "stdout",
     "output_type": "stream",
     "text": [
      "(4092, 31)\n",
      "(4092,)\n",
      "Experiment week 3\n",
      "---------------------------------\n",
      "Experiment start date : 2019-03-11 00:00:00\n",
      "Experiment end_date : 2019-03-17 00:00:00\n"
     ]
    },
    {
     "name": "stderr",
     "output_type": "stream",
     "text": [
      "11:23:03 INFO:target drift detect: True\n",
      "11:23:03 INFO:data set drift detected\n",
      "11:23:03 INFO:drift detected for Product_Type.value\n",
      "11:23:03 INFO:drift_score : 0.8060545427663132\n",
      "11:23:03 INFO:stattest_name : Jensen-Shannon distance\n",
      "11:23:03 INFO:raw_feature_importance : 2.0501251220703125\n",
      "11:23:03 INFO:relative_feature_importance : 1.0\n",
      "11:23:03 INFO:feature_importance_weighted_drift_score : 0.8060545427663132\n",
      "11:23:04 INFO:Retraining model\n"
     ]
    },
    {
     "name": "stdout",
     "output_type": "stream",
     "text": [
      "(4162, 31)\n",
      "(4162,)\n",
      "Experiment week 4\n",
      "---------------------------------\n",
      "Experiment start date : 2019-03-18 00:00:00\n",
      "Experiment end_date : 2019-03-24 00:00:00\n"
     ]
    },
    {
     "name": "stderr",
     "output_type": "stream",
     "text": [
      "11:23:05 INFO:target drift detect: True\n",
      "11:23:05 INFO:data set drift detected\n",
      "11:23:06 INFO:drift detected for Product_Type.value\n",
      "11:23:06 INFO:drift_score : 0.7867637942388346\n",
      "11:23:06 INFO:stattest_name : Jensen-Shannon distance\n",
      "11:23:06 INFO:raw_feature_importance : 2.158252477645874\n",
      "11:23:06 INFO:relative_feature_importance : 1.0\n",
      "11:23:06 INFO:feature_importance_weighted_drift_score : 0.7867637942388346\n",
      "11:23:06 INFO:Retraining model\n"
     ]
    },
    {
     "name": "stdout",
     "output_type": "stream",
     "text": [
      "(4232, 31)\n",
      "(4232,)\n",
      "Experiment week 5\n",
      "---------------------------------\n",
      "Experiment start date : 2019-03-25 00:00:00\n",
      "Experiment end_date : 2019-03-31 00:00:00\n"
     ]
    },
    {
     "name": "stderr",
     "output_type": "stream",
     "text": [
      "11:23:07 INFO:target drift detect: True\n",
      "11:23:07 INFO:data set drift detected\n",
      "11:23:08 INFO:drift detected for Product_Type.value\n",
      "11:23:08 INFO:drift_score : 0.7702046767484584\n",
      "11:23:08 INFO:stattest_name : Jensen-Shannon distance\n",
      "11:23:08 INFO:raw_feature_importance : 1.9569185972213745\n",
      "11:23:08 INFO:relative_feature_importance : 1.0\n",
      "11:23:08 INFO:feature_importance_weighted_drift_score : 0.7702046767484584\n",
      "11:23:08 INFO:Retraining model\n"
     ]
    },
    {
     "name": "stdout",
     "output_type": "stream",
     "text": [
      "(4302, 31)\n",
      "(4302,)\n",
      "Experiment week 6\n",
      "---------------------------------\n",
      "Experiment start date : 2019-04-01 00:00:00\n",
      "Experiment end_date : 2019-04-07 00:00:00\n"
     ]
    },
    {
     "name": "stderr",
     "output_type": "stream",
     "text": [
      "11:23:10 INFO:target drift detect: True\n",
      "11:23:10 INFO:data set drift detected\n",
      "11:23:11 INFO:drift detected for Product_Type.value\n",
      "11:23:11 INFO:drift_score : 0.7554193633815949\n",
      "11:23:11 INFO:stattest_name : Jensen-Shannon distance\n",
      "11:23:11 INFO:raw_feature_importance : 2.2027387619018555\n",
      "11:23:11 INFO:relative_feature_importance : 1.0\n",
      "11:23:11 INFO:feature_importance_weighted_drift_score : 0.7554193633815949\n",
      "11:23:11 INFO:Retraining model\n"
     ]
    },
    {
     "name": "stdout",
     "output_type": "stream",
     "text": [
      "(4372, 31)\n",
      "(4372,)\n",
      "Experiment week 7\n",
      "---------------------------------\n",
      "Experiment start date : 2019-04-08 00:00:00\n",
      "Experiment end_date : 2019-04-14 00:00:00\n"
     ]
    },
    {
     "name": "stderr",
     "output_type": "stream",
     "text": [
      "11:23:14 INFO:target drift detect: False\n",
      "11:23:14 INFO:data set drift detected\n",
      "11:23:15 INFO:drift detected for Product_Type.value\n",
      "11:23:15 INFO:drift_score : 0.7419485455515465\n",
      "11:23:15 INFO:stattest_name : Jensen-Shannon distance\n",
      "11:23:15 INFO:raw_feature_importance : 2.483466386795044\n",
      "11:23:15 INFO:relative_feature_importance : 1.0\n",
      "11:23:15 INFO:feature_importance_weighted_drift_score : 0.7419485455515465\n",
      "11:23:15 INFO:Retraining model\n"
     ]
    },
    {
     "name": "stdout",
     "output_type": "stream",
     "text": [
      "(4442, 31)\n",
      "(4442,)\n",
      "Experiment week 8\n",
      "---------------------------------\n",
      "Experiment start date : 2019-04-15 00:00:00\n",
      "Experiment end_date : 2019-04-21 00:00:00\n"
     ]
    },
    {
     "name": "stderr",
     "output_type": "stream",
     "text": [
      "11:23:18 INFO:target drift detect: True\n",
      "11:23:18 INFO:data set drift detected\n",
      "11:23:18 INFO:drift detected for Product_Type.value\n",
      "11:23:18 INFO:drift_score : 0.7295190331766476\n",
      "11:23:18 INFO:stattest_name : Jensen-Shannon distance\n",
      "11:23:18 INFO:raw_feature_importance : 2.3496620655059814\n",
      "11:23:18 INFO:relative_feature_importance : 1.0\n",
      "11:23:18 INFO:feature_importance_weighted_drift_score : 0.7295190331766476\n",
      "11:23:19 INFO:Retraining model\n"
     ]
    },
    {
     "name": "stdout",
     "output_type": "stream",
     "text": [
      "(4512, 31)\n",
      "(4512,)\n",
      "Experiment week 9\n",
      "---------------------------------\n",
      "Experiment start date : 2019-04-22 00:00:00\n",
      "Experiment end_date : 2019-04-28 00:00:00\n"
     ]
    },
    {
     "name": "stderr",
     "output_type": "stream",
     "text": [
      "11:23:21 INFO:target drift detect: True\n",
      "11:23:21 INFO:data set drift detected\n",
      "11:23:22 INFO:drift detected for Product_Type.value\n",
      "11:23:22 INFO:drift_score : 0.7179486416460911\n",
      "11:23:22 INFO:stattest_name : Jensen-Shannon distance\n",
      "11:23:22 INFO:raw_feature_importance : 2.249964952468872\n",
      "11:23:22 INFO:relative_feature_importance : 1.0\n",
      "11:23:22 INFO:feature_importance_weighted_drift_score : 0.7179486416460911\n",
      "11:23:22 INFO:Retraining model\n"
     ]
    },
    {
     "name": "stdout",
     "output_type": "stream",
     "text": [
      "(4582, 31)\n",
      "(4582,)\n",
      "Experiment week 10\n",
      "---------------------------------\n",
      "Experiment start date : 2019-04-29 00:00:00\n",
      "Experiment end_date : 2019-05-05 00:00:00\n"
     ]
    },
    {
     "name": "stderr",
     "output_type": "stream",
     "text": [
      "11:23:23 INFO:target drift detect: True\n",
      "11:23:23 INFO:data set drift detected\n",
      "11:23:24 INFO:drift detected for Product_Type.value\n",
      "11:23:24 INFO:drift_score : 0.7071068064697682\n",
      "11:23:24 INFO:stattest_name : Jensen-Shannon distance\n",
      "11:23:24 INFO:raw_feature_importance : 2.6990270614624023\n",
      "11:23:24 INFO:relative_feature_importance : 1.0\n",
      "11:23:24 INFO:feature_importance_weighted_drift_score : 0.7071068064697682\n",
      "11:23:24 INFO:Retraining model\n"
     ]
    },
    {
     "name": "stdout",
     "output_type": "stream",
     "text": [
      "(4660, 31)\n",
      "(4660,)\n",
      "Experiment week 11\n",
      "---------------------------------\n",
      "Experiment start date : 2019-05-06 00:00:00\n",
      "Experiment end_date : 2019-05-12 00:00:00\n"
     ]
    },
    {
     "name": "stderr",
     "output_type": "stream",
     "text": [
      "11:23:26 INFO:target drift detect: True\n",
      "11:23:26 INFO:data set drift detected\n",
      "11:23:27 INFO:drift detected for Product_Type.value\n",
      "11:23:27 INFO:drift_score : 0.6957646668148844\n",
      "11:23:27 INFO:stattest_name : Jensen-Shannon distance\n",
      "11:23:27 INFO:raw_feature_importance : 2.5503623485565186\n",
      "11:23:27 INFO:relative_feature_importance : 1.0\n",
      "11:23:27 INFO:feature_importance_weighted_drift_score : 0.6957646668148844\n",
      "11:23:27 INFO:Retraining model\n"
     ]
    },
    {
     "name": "stdout",
     "output_type": "stream",
     "text": [
      "(4744, 31)\n",
      "(4744,)\n",
      "Experiment week 12\n",
      "---------------------------------\n",
      "Experiment start date : 2019-05-13 00:00:00\n",
      "Experiment end_date : 2019-05-19 00:00:00\n"
     ]
    },
    {
     "name": "stderr",
     "output_type": "stream",
     "text": [
      "11:23:28 INFO:target drift detect: True\n",
      "11:23:29 INFO:data set drift detected\n",
      "11:23:29 INFO:drift detected for Product_Type.value\n",
      "11:23:29 INFO:drift_score : 0.6843057225852544\n",
      "11:23:29 INFO:stattest_name : Jensen-Shannon distance\n",
      "11:23:29 INFO:raw_feature_importance : 2.596639633178711\n",
      "11:23:29 INFO:relative_feature_importance : 1.0\n",
      "11:23:29 INFO:feature_importance_weighted_drift_score : 0.6843057225852544\n",
      "11:23:30 INFO:Retraining model\n"
     ]
    },
    {
     "name": "stdout",
     "output_type": "stream",
     "text": [
      "(4828, 31)\n",
      "(4828,)\n",
      "Experiment week 13\n",
      "---------------------------------\n",
      "Experiment start date : 2019-05-20 00:00:00\n",
      "Experiment end_date : 2019-05-26 00:00:00\n"
     ]
    },
    {
     "name": "stderr",
     "output_type": "stream",
     "text": [
      "11:23:31 INFO:target drift detect: False\n",
      "11:23:32 INFO:data set drift detected\n",
      "11:23:32 INFO:drift detected for Product_Type.value\n",
      "11:23:32 INFO:drift_score : 0.6735310398648455\n",
      "11:23:32 INFO:stattest_name : Jensen-Shannon distance\n",
      "11:23:32 INFO:raw_feature_importance : 2.5374693870544434\n",
      "11:23:32 INFO:relative_feature_importance : 1.0\n",
      "11:23:32 INFO:feature_importance_weighted_drift_score : 0.6735310398648455\n",
      "11:23:33 INFO:Retraining model\n"
     ]
    },
    {
     "name": "stdout",
     "output_type": "stream",
     "text": [
      "(4912, 31)\n",
      "(4912,)\n",
      "Experiment week 14\n",
      "---------------------------------\n",
      "Experiment start date : 2019-05-27 00:00:00\n",
      "Experiment end_date : 2019-06-02 00:00:00\n"
     ]
    },
    {
     "name": "stderr",
     "output_type": "stream",
     "text": [
      "11:23:35 INFO:target drift detect: True\n",
      "11:23:35 INFO:data set drift detected\n",
      "11:23:35 INFO:drift detected for Product_Type.value\n",
      "11:23:35 INFO:drift_score : 0.6633593952999148\n",
      "11:23:35 INFO:stattest_name : Jensen-Shannon distance\n",
      "11:23:35 INFO:raw_feature_importance : 2.295356035232544\n",
      "11:23:35 INFO:relative_feature_importance : 1.0\n",
      "11:23:35 INFO:feature_importance_weighted_drift_score : 0.6633593952999148\n",
      "11:23:36 INFO:Retraining model\n"
     ]
    },
    {
     "name": "stdout",
     "output_type": "stream",
     "text": [
      "(4996, 31)\n",
      "(4996,)\n",
      "Experiment week 15\n",
      "---------------------------------\n",
      "Experiment start date : 2019-06-03 00:00:00\n",
      "Experiment end_date : 2019-06-09 00:00:00\n"
     ]
    },
    {
     "name": "stderr",
     "output_type": "stream",
     "text": [
      "11:23:37 INFO:target drift detect: True\n",
      "11:23:37 INFO:data set drift detected\n",
      "11:23:38 INFO:drift detected for Product_Type.value\n",
      "11:23:38 INFO:drift_score : 0.6537247661727477\n",
      "11:23:38 INFO:stattest_name : Jensen-Shannon distance\n",
      "11:23:38 INFO:raw_feature_importance : 2.56994366645813\n",
      "11:23:38 INFO:relative_feature_importance : 1.0\n",
      "11:23:38 INFO:feature_importance_weighted_drift_score : 0.6537247661727477\n",
      "11:23:38 INFO:Retraining model\n"
     ]
    },
    {
     "name": "stdout",
     "output_type": "stream",
     "text": [
      "(5080, 31)\n",
      "(5080,)\n",
      "Experiment week 16\n",
      "---------------------------------\n",
      "Experiment start date : 2019-06-10 00:00:00\n",
      "Experiment end_date : 2019-06-16 00:00:00\n"
     ]
    },
    {
     "name": "stderr",
     "output_type": "stream",
     "text": [
      "11:23:40 INFO:target drift detect: True\n",
      "11:23:40 INFO:data set drift detected\n",
      "11:23:41 INFO:drift detected for Product_Type.value\n",
      "11:23:41 INFO:drift_score : 0.6445724612298418\n",
      "11:23:41 INFO:stattest_name : Jensen-Shannon distance\n",
      "11:23:41 INFO:raw_feature_importance : 2.5322442054748535\n",
      "11:23:41 INFO:relative_feature_importance : 1.0\n",
      "11:23:41 INFO:feature_importance_weighted_drift_score : 0.6445724612298418\n",
      "11:23:41 INFO:Retraining model\n"
     ]
    },
    {
     "name": "stdout",
     "output_type": "stream",
     "text": [
      "(5164, 31)\n",
      "(5164,)\n",
      "Experiment week 17\n",
      "---------------------------------\n",
      "Experiment start date : 2019-06-17 00:00:00\n",
      "Experiment end_date : 2019-06-23 00:00:00\n"
     ]
    },
    {
     "name": "stderr",
     "output_type": "stream",
     "text": [
      "11:23:45 INFO:target drift detect: True\n",
      "11:23:45 INFO:data set drift detected\n",
      "11:23:46 INFO:drift detected for Product_Type.value\n",
      "11:23:46 INFO:drift_score : 0.635856469676383\n",
      "11:23:46 INFO:stattest_name : Jensen-Shannon distance\n",
      "11:23:46 INFO:raw_feature_importance : 2.4850659370422363\n",
      "11:23:46 INFO:relative_feature_importance : 1.0\n",
      "11:23:46 INFO:feature_importance_weighted_drift_score : 0.635856469676383\n",
      "11:23:46 INFO:Retraining model\n"
     ]
    },
    {
     "name": "stdout",
     "output_type": "stream",
     "text": [
      "(5248, 31)\n",
      "(5248,)\n",
      "Experiment week 18\n",
      "---------------------------------\n",
      "Experiment start date : 2019-06-24 00:00:00\n",
      "Experiment end_date : 2019-06-30 00:00:00\n"
     ]
    },
    {
     "name": "stderr",
     "output_type": "stream",
     "text": [
      "11:23:48 INFO:target drift detect: True\n",
      "11:23:48 INFO:data set drift detected\n",
      "11:23:49 INFO:drift detected for Product_Type.value\n",
      "11:23:49 INFO:drift_score : 0.6275375813368586\n",
      "11:23:49 INFO:stattest_name : Jensen-Shannon distance\n",
      "11:23:49 INFO:raw_feature_importance : 2.4968647956848145\n",
      "11:23:49 INFO:relative_feature_importance : 1.0\n",
      "11:23:49 INFO:feature_importance_weighted_drift_score : 0.6275375813368586\n",
      "11:23:49 INFO:Retraining model\n"
     ]
    },
    {
     "name": "stdout",
     "output_type": "stream",
     "text": [
      "(5332, 31)\n",
      "(5332,)\n",
      "Experiment week 19\n",
      "---------------------------------\n",
      "Experiment start date : 2019-07-01 00:00:00\n",
      "Experiment end_date : 2019-07-07 00:00:00\n"
     ]
    },
    {
     "name": "stderr",
     "output_type": "stream",
     "text": [
      "11:23:51 INFO:target drift detect: True\n",
      "11:23:51 INFO:data set drift detected\n",
      "11:23:51 INFO:drift detected for Product_Type.value\n",
      "11:23:51 INFO:drift_score : 0.6195820150555587\n",
      "11:23:51 INFO:stattest_name : Jensen-Shannon distance\n",
      "11:23:51 INFO:raw_feature_importance : 2.901125192642212\n",
      "11:23:51 INFO:relative_feature_importance : 1.0\n",
      "11:23:51 INFO:feature_importance_weighted_drift_score : 0.6195820150555587\n",
      "11:23:52 INFO:Retraining model\n"
     ]
    },
    {
     "name": "stdout",
     "output_type": "stream",
     "text": [
      "(5416, 31)\n",
      "(5416,)\n",
      "Experiment week 20\n",
      "---------------------------------\n",
      "Experiment start date : 2019-07-08 00:00:00\n",
      "Experiment end_date : 2019-07-14 00:00:00\n"
     ]
    },
    {
     "name": "stderr",
     "output_type": "stream",
     "text": [
      "11:23:53 INFO:target drift detect: True\n",
      "11:23:53 INFO:data set drift detected\n",
      "11:23:54 INFO:drift detected for Product_Type.value\n",
      "11:23:54 INFO:drift_score : 0.6119603935263707\n",
      "11:23:54 INFO:stattest_name : Jensen-Shannon distance\n",
      "11:23:54 INFO:raw_feature_importance : 2.8008570671081543\n",
      "11:23:54 INFO:relative_feature_importance : 1.0\n",
      "11:23:54 INFO:feature_importance_weighted_drift_score : 0.6119603935263707\n",
      "11:23:54 INFO:Retraining model\n"
     ]
    },
    {
     "name": "stdout",
     "output_type": "stream",
     "text": [
      "(5500, 31)\n",
      "(5500,)\n",
      "Experiment week 21\n",
      "---------------------------------\n",
      "Experiment start date : 2019-07-15 00:00:00\n",
      "Experiment end_date : 2019-07-21 00:00:00\n"
     ]
    },
    {
     "name": "stderr",
     "output_type": "stream",
     "text": [
      "11:23:55 INFO:target drift detect: True\n",
      "11:23:56 INFO:data set drift detected\n",
      "11:23:56 INFO:drift detected for Product_Type.value\n",
      "11:23:56 INFO:drift_score : 0.6046469611083302\n",
      "11:23:56 INFO:stattest_name : Jensen-Shannon distance\n",
      "11:23:56 INFO:raw_feature_importance : 3.0304081439971924\n",
      "11:23:56 INFO:relative_feature_importance : 1.0\n",
      "11:23:56 INFO:feature_importance_weighted_drift_score : 0.6046469611083302\n",
      "11:23:57 INFO:Retraining model\n"
     ]
    },
    {
     "name": "stdout",
     "output_type": "stream",
     "text": [
      "(5584, 31)\n",
      "(5584,)\n",
      "Experiment week 22\n",
      "---------------------------------\n",
      "Experiment start date : 2019-07-22 00:00:00\n",
      "Experiment end_date : 2019-07-28 00:00:00\n"
     ]
    },
    {
     "name": "stderr",
     "output_type": "stream",
     "text": [
      "11:24:00 INFO:target drift detect: True\n",
      "11:24:01 INFO:data set drift detected\n",
      "11:24:01 INFO:drift detected for Product_Type.value\n",
      "11:24:01 INFO:drift_score : 0.5976189763145171\n",
      "11:24:01 INFO:stattest_name : Jensen-Shannon distance\n",
      "11:24:01 INFO:raw_feature_importance : 3.036762237548828\n",
      "11:24:01 INFO:relative_feature_importance : 1.0\n",
      "11:24:01 INFO:feature_importance_weighted_drift_score : 0.5976189763145171\n",
      "11:24:02 INFO:Retraining model\n"
     ]
    },
    {
     "name": "stdout",
     "output_type": "stream",
     "text": [
      "(5668, 31)\n",
      "(5668,)\n",
      "Experiment week 23\n",
      "---------------------------------\n",
      "Experiment start date : 2019-07-29 00:00:00\n",
      "Experiment end_date : 2019-08-04 00:00:00\n"
     ]
    },
    {
     "name": "stderr",
     "output_type": "stream",
     "text": [
      "11:24:03 INFO:target drift detect: True\n",
      "11:24:03 INFO:data set drift detected\n",
      "11:24:04 INFO:drift detected for Product_Type.value\n",
      "11:24:04 INFO:drift_score : 0.5908562325790003\n",
      "11:24:04 INFO:stattest_name : Jensen-Shannon distance\n",
      "11:24:04 INFO:raw_feature_importance : 2.738304853439331\n",
      "11:24:04 INFO:relative_feature_importance : 1.0\n",
      "11:24:04 INFO:feature_importance_weighted_drift_score : 0.5908562325790003\n",
      "11:24:04 INFO:Retraining model\n"
     ]
    },
    {
     "name": "stdout",
     "output_type": "stream",
     "text": [
      "(5752, 31)\n",
      "(5752,)\n",
      "Experiment week 24\n",
      "---------------------------------\n",
      "Experiment start date : 2019-08-05 00:00:00\n",
      "Experiment end_date : 2019-08-11 00:00:00\n"
     ]
    },
    {
     "name": "stderr",
     "output_type": "stream",
     "text": [
      "11:24:06 INFO:target drift detect: False\n",
      "11:24:06 INFO:data set drift detected\n",
      "11:24:07 INFO:drift detected for Product_Type.value\n",
      "11:24:07 INFO:drift_score : 0.5843406750113375\n",
      "11:24:07 INFO:stattest_name : Jensen-Shannon distance\n",
      "11:24:07 INFO:raw_feature_importance : 2.48544979095459\n",
      "11:24:07 INFO:relative_feature_importance : 1.0\n",
      "11:24:07 INFO:feature_importance_weighted_drift_score : 0.5843406750113375\n",
      "11:24:07 INFO:Retraining model\n"
     ]
    },
    {
     "name": "stdout",
     "output_type": "stream",
     "text": [
      "(5836, 31)\n",
      "(5836,)\n",
      "Experiment week 25\n",
      "---------------------------------\n",
      "Experiment start date : 2019-08-12 00:00:00\n",
      "Experiment end_date : 2019-08-18 00:00:00\n"
     ]
    },
    {
     "name": "stderr",
     "output_type": "stream",
     "text": [
      "11:24:09 INFO:target drift detect: True\n",
      "11:24:09 INFO:data set drift detected\n",
      "11:24:09 INFO:drift detected for Product_Type.value\n",
      "11:24:09 INFO:drift_score : 0.5780560901755926\n",
      "11:24:09 INFO:stattest_name : Jensen-Shannon distance\n",
      "11:24:09 INFO:raw_feature_importance : 2.433576822280884\n",
      "11:24:09 INFO:relative_feature_importance : 1.0\n",
      "11:24:09 INFO:feature_importance_weighted_drift_score : 0.5780560901755926\n",
      "11:24:10 INFO:Retraining model\n"
     ]
    },
    {
     "name": "stdout",
     "output_type": "stream",
     "text": [
      "(5920, 31)\n",
      "(5920,)\n",
      "Experiment week 26\n",
      "---------------------------------\n",
      "Experiment start date : 2019-08-19 00:00:00\n",
      "Experiment end_date : 2019-08-25 00:00:00\n"
     ]
    },
    {
     "name": "stderr",
     "output_type": "stream",
     "text": [
      "11:24:12 INFO:target drift detect: False\n",
      "11:24:13 INFO:data set drift detected\n",
      "11:24:13 INFO:drift detected for Product_Type.value\n",
      "11:24:13 INFO:drift_score : 0.5719878522489589\n",
      "11:24:13 INFO:stattest_name : Jensen-Shannon distance\n",
      "11:24:13 INFO:raw_feature_importance : 2.361478090286255\n",
      "11:24:13 INFO:relative_feature_importance : 1.0\n",
      "11:24:13 INFO:feature_importance_weighted_drift_score : 0.5719878522489589\n",
      "11:24:13 INFO:Retraining model\n"
     ]
    },
    {
     "name": "stdout",
     "output_type": "stream",
     "text": [
      "(6004, 31)\n",
      "(6004,)\n",
      "Experiment week 27\n",
      "---------------------------------\n",
      "Experiment start date : 2019-08-26 00:00:00\n",
      "Experiment end_date : 2019-09-01 00:00:00\n"
     ]
    },
    {
     "name": "stderr",
     "output_type": "stream",
     "text": [
      "11:24:15 INFO:target drift detect: False\n",
      "11:24:15 INFO:data set drift detected\n",
      "11:24:15 INFO:drift detected for Product_Type.value\n",
      "11:24:15 INFO:drift_score : 0.5661227132872191\n",
      "11:24:15 INFO:stattest_name : Jensen-Shannon distance\n",
      "11:24:15 INFO:raw_feature_importance : 2.460589647293091\n",
      "11:24:15 INFO:relative_feature_importance : 1.0\n",
      "11:24:15 INFO:feature_importance_weighted_drift_score : 0.5661227132872191\n",
      "11:24:16 INFO:Retraining model\n"
     ]
    },
    {
     "name": "stdout",
     "output_type": "stream",
     "text": [
      "(6088, 31)\n",
      "(6088,)\n",
      "Experiment week 28\n",
      "---------------------------------\n",
      "Experiment start date : 2019-09-02 00:00:00\n",
      "Experiment end_date : 2019-09-08 00:00:00\n"
     ]
    },
    {
     "name": "stderr",
     "output_type": "stream",
     "text": [
      "11:24:18 INFO:target drift detect: False\n",
      "11:24:18 INFO:data set drift detected\n",
      "11:24:19 INFO:drift detected for Product_Type.value\n",
      "11:24:19 INFO:drift_score : 0.5604486284082165\n",
      "11:24:19 INFO:stattest_name : Jensen-Shannon distance\n",
      "11:24:19 INFO:raw_feature_importance : 2.2670881748199463\n",
      "11:24:19 INFO:relative_feature_importance : 1.0\n",
      "11:24:19 INFO:feature_importance_weighted_drift_score : 0.5604486284082165\n",
      "11:24:19 INFO:Retraining model\n"
     ]
    },
    {
     "name": "stdout",
     "output_type": "stream",
     "text": [
      "(6172, 31)\n",
      "(6172,)\n",
      "Experiment week 29\n",
      "---------------------------------\n",
      "Experiment start date : 2019-09-09 00:00:00\n",
      "Experiment end_date : 2019-09-15 00:00:00\n"
     ]
    },
    {
     "name": "stderr",
     "output_type": "stream",
     "text": [
      "11:24:21 INFO:target drift detect: False\n",
      "11:24:21 INFO:data set drift detected\n",
      "11:24:21 INFO:drift detected for Product_Type.value\n",
      "11:24:21 INFO:drift_score : 0.5549546089176464\n",
      "11:24:21 INFO:stattest_name : Jensen-Shannon distance\n",
      "11:24:21 INFO:raw_feature_importance : 2.366988182067871\n",
      "11:24:21 INFO:relative_feature_importance : 1.0\n",
      "11:24:21 INFO:feature_importance_weighted_drift_score : 0.5549546089176464\n",
      "11:24:22 INFO:Retraining model\n"
     ]
    },
    {
     "name": "stdout",
     "output_type": "stream",
     "text": [
      "(6256, 31)\n",
      "(6256,)\n",
      "Experiment week 30\n",
      "---------------------------------\n",
      "Experiment start date : 2019-09-16 00:00:00\n",
      "Experiment end_date : 2019-09-22 00:00:00\n"
     ]
    },
    {
     "name": "stderr",
     "output_type": "stream",
     "text": [
      "11:24:23 INFO:target drift detect: False\n",
      "11:24:23 INFO:data set drift detected\n",
      "11:24:24 INFO:drift detected for Product_Type.value\n",
      "11:24:24 INFO:drift_score : 0.5496305980146298\n",
      "11:24:24 INFO:stattest_name : Jensen-Shannon distance\n",
      "11:24:24 INFO:raw_feature_importance : 2.3027725219726562\n",
      "11:24:24 INFO:relative_feature_importance : 1.0\n",
      "11:24:24 INFO:feature_importance_weighted_drift_score : 0.5496305980146298\n",
      "11:24:24 INFO:Retraining model\n"
     ]
    },
    {
     "name": "stdout",
     "output_type": "stream",
     "text": [
      "(6340, 31)\n",
      "(6340,)\n",
      "Experiment week 31\n",
      "---------------------------------\n",
      "Experiment start date : 2019-09-23 00:00:00\n",
      "Experiment end_date : 2019-09-29 00:00:00\n"
     ]
    },
    {
     "name": "stderr",
     "output_type": "stream",
     "text": [
      "11:24:26 INFO:target drift detect: False\n",
      "11:24:26 INFO:data set drift detected\n",
      "11:24:26 INFO:drift detected for Product_Type.value\n",
      "11:24:26 INFO:drift_score : 0.5444673649071998\n",
      "11:24:26 INFO:stattest_name : Jensen-Shannon distance\n",
      "11:24:26 INFO:raw_feature_importance : 2.18032169342041\n",
      "11:24:26 INFO:relative_feature_importance : 1.0\n",
      "11:24:26 INFO:feature_importance_weighted_drift_score : 0.5444673649071998\n",
      "11:24:27 INFO:Retraining model\n"
     ]
    },
    {
     "name": "stdout",
     "output_type": "stream",
     "text": [
      "(6424, 31)\n",
      "(6424,)\n",
      "Experiment week 32\n",
      "---------------------------------\n",
      "Experiment start date : 2019-09-30 00:00:00\n",
      "Experiment end_date : 2019-10-06 00:00:00\n"
     ]
    },
    {
     "name": "stderr",
     "output_type": "stream",
     "text": [
      "11:24:28 INFO:target drift detect: True\n",
      "11:24:28 INFO:data set drift detected\n",
      "11:24:29 INFO:drift detected for Product_Type.value\n",
      "11:24:29 INFO:drift_score : 0.5394564140610963\n",
      "11:24:29 INFO:stattest_name : Jensen-Shannon distance\n",
      "11:24:29 INFO:raw_feature_importance : 2.314099073410034\n",
      "11:24:29 INFO:relative_feature_importance : 1.0\n",
      "11:24:29 INFO:feature_importance_weighted_drift_score : 0.5394564140610963\n",
      "11:24:29 INFO:Retraining model\n"
     ]
    },
    {
     "name": "stdout",
     "output_type": "stream",
     "text": [
      "(6508, 31)\n",
      "(6508,)\n",
      "Experiment week 33\n",
      "---------------------------------\n",
      "Experiment start date : 2019-10-07 00:00:00\n",
      "Experiment end_date : 2019-10-13 00:00:00\n"
     ]
    },
    {
     "name": "stderr",
     "output_type": "stream",
     "text": [
      "11:24:31 INFO:target drift detect: True\n",
      "11:24:31 INFO:data set drift detected\n",
      "11:24:31 INFO:drift detected for Product_Type.value\n",
      "11:24:31 INFO:drift_score : 0.5345899069822945\n",
      "11:24:31 INFO:stattest_name : Jensen-Shannon distance\n",
      "11:24:31 INFO:raw_feature_importance : 2.3092122077941895\n",
      "11:24:31 INFO:relative_feature_importance : 1.0\n",
      "11:24:31 INFO:feature_importance_weighted_drift_score : 0.5345899069822945\n",
      "11:24:32 INFO:Retraining model\n"
     ]
    },
    {
     "name": "stdout",
     "output_type": "stream",
     "text": [
      "(6592, 31)\n",
      "(6592,)\n",
      "Experiment week 34\n",
      "---------------------------------\n",
      "Experiment start date : 2019-10-14 00:00:00\n",
      "Experiment end_date : 2019-10-20 00:00:00\n"
     ]
    },
    {
     "name": "stderr",
     "output_type": "stream",
     "text": [
      "11:24:33 INFO:target drift detect: True\n",
      "11:24:33 INFO:data set drift detected\n",
      "11:24:33 INFO:drift detected for Product_Type.value\n",
      "11:24:33 INFO:drift_score : 0.529860594452486\n",
      "11:24:33 INFO:stattest_name : Jensen-Shannon distance\n",
      "11:24:33 INFO:raw_feature_importance : 2.0150303840637207\n",
      "11:24:33 INFO:relative_feature_importance : 1.0\n",
      "11:24:33 INFO:feature_importance_weighted_drift_score : 0.529860594452486\n",
      "11:24:34 INFO:Retraining model\n"
     ]
    },
    {
     "name": "stdout",
     "output_type": "stream",
     "text": [
      "(6676, 31)\n",
      "(6676,)\n",
      "Experiment week 35\n",
      "---------------------------------\n",
      "Experiment start date : 2019-10-21 00:00:00\n",
      "Experiment end_date : 2019-10-27 00:00:00\n"
     ]
    },
    {
     "name": "stderr",
     "output_type": "stream",
     "text": [
      "11:24:35 INFO:target drift detect: True\n",
      "11:24:35 INFO:data set drift detected\n",
      "11:24:36 INFO:drift detected for warehouse_ID.value\n",
      "11:24:36 INFO:drift_score : 0.5914921920924988\n",
      "11:24:36 INFO:stattest_name : Jensen-Shannon distance\n",
      "11:24:36 INFO:raw_feature_importance : 0.37373003363609314\n",
      "11:24:36 INFO:relative_feature_importance : 0.18184258043766022\n",
      "11:24:36 INFO:feature_importance_weighted_drift_score : 0.10755846651882818\n",
      "11:24:36 INFO:drift detected for Product_Type.value\n",
      "11:24:36 INFO:drift_score : 0.525261757538282\n",
      "11:24:36 INFO:stattest_name : Jensen-Shannon distance\n",
      "11:24:36 INFO:raw_feature_importance : 2.05523943901062\n",
      "11:24:36 INFO:relative_feature_importance : 1.0\n",
      "11:24:36 INFO:feature_importance_weighted_drift_score : 0.525261757538282\n",
      "11:24:36 INFO:Retraining model\n"
     ]
    },
    {
     "name": "stdout",
     "output_type": "stream",
     "text": [
      "(6760, 31)\n",
      "(6760,)\n",
      "Experiment week 36\n",
      "---------------------------------\n",
      "Experiment start date : 2019-10-28 00:00:00\n",
      "Experiment end_date : 2019-11-03 00:00:00\n"
     ]
    },
    {
     "name": "stderr",
     "output_type": "stream",
     "text": [
      "11:24:40 INFO:target drift detect: True\n",
      "11:24:40 INFO:data set drift detected\n",
      "11:24:40 INFO:drift detected for Product_Type.value\n",
      "11:24:40 INFO:drift_score : 0.5207871560086539\n",
      "11:24:40 INFO:stattest_name : Jensen-Shannon distance\n",
      "11:24:40 INFO:raw_feature_importance : 2.206885814666748\n",
      "11:24:40 INFO:relative_feature_importance : 1.0\n",
      "11:24:40 INFO:feature_importance_weighted_drift_score : 0.5207871560086539\n",
      "11:24:41 INFO:Retraining model\n"
     ]
    },
    {
     "name": "stdout",
     "output_type": "stream",
     "text": [
      "(6844, 31)\n",
      "(6844,)\n",
      "Experiment week 37\n",
      "---------------------------------\n",
      "Experiment start date : 2019-11-04 00:00:00\n",
      "Experiment end_date : 2019-11-10 00:00:00\n"
     ]
    },
    {
     "name": "stderr",
     "output_type": "stream",
     "text": [
      "11:24:43 INFO:target drift detect: True\n",
      "11:24:44 INFO:data set drift detected\n",
      "11:24:44 INFO:drift detected for Product_Type.value\n",
      "11:24:44 INFO:drift_score : 0.5164309830423907\n",
      "11:24:44 INFO:stattest_name : Jensen-Shannon distance\n",
      "11:24:44 INFO:raw_feature_importance : 2.2605092525482178\n",
      "11:24:44 INFO:relative_feature_importance : 1.0\n",
      "11:24:44 INFO:feature_importance_weighted_drift_score : 0.5164309830423907\n",
      "11:24:45 INFO:Retraining model\n"
     ]
    },
    {
     "name": "stdout",
     "output_type": "stream",
     "text": [
      "(6928, 31)\n",
      "(6928,)\n",
      "Experiment week 38\n",
      "---------------------------------\n",
      "Experiment start date : 2019-11-11 00:00:00\n",
      "Experiment end_date : 2019-11-17 00:00:00\n"
     ]
    },
    {
     "name": "stderr",
     "output_type": "stream",
     "text": [
      "11:24:47 INFO:target drift detect: False\n",
      "11:24:47 INFO:data set drift detected\n",
      "11:24:47 INFO:drift detected for Product_Type.value\n",
      "11:24:47 INFO:drift_score : 0.5121878253037974\n",
      "11:24:47 INFO:stattest_name : Jensen-Shannon distance\n",
      "11:24:47 INFO:raw_feature_importance : 2.4199869632720947\n",
      "11:24:47 INFO:relative_feature_importance : 1.0\n",
      "11:24:47 INFO:feature_importance_weighted_drift_score : 0.5121878253037974\n",
      "11:24:48 INFO:Retraining model\n"
     ]
    },
    {
     "name": "stdout",
     "output_type": "stream",
     "text": [
      "(7012, 31)\n",
      "(7012,)\n",
      "Experiment week 39\n",
      "---------------------------------\n",
      "Experiment start date : 2019-11-18 00:00:00\n",
      "Experiment end_date : 2019-11-24 00:00:00\n"
     ]
    },
    {
     "name": "stderr",
     "output_type": "stream",
     "text": [
      "11:24:49 INFO:target drift detect: False\n",
      "11:24:49 INFO:data set drift detected\n",
      "11:24:49 INFO:drift detected for Product_Type.value\n",
      "11:24:49 INFO:drift_score : 0.5080526276221318\n",
      "11:24:49 INFO:stattest_name : Jensen-Shannon distance\n",
      "11:24:49 INFO:raw_feature_importance : 2.2703731060028076\n",
      "11:24:49 INFO:relative_feature_importance : 1.0\n",
      "11:24:49 INFO:feature_importance_weighted_drift_score : 0.5080526276221318\n",
      "11:24:50 INFO:Retraining model\n"
     ]
    },
    {
     "name": "stdout",
     "output_type": "stream",
     "text": [
      "(7096, 31)\n",
      "(7096,)\n",
      "Experiment week 40\n",
      "---------------------------------\n",
      "Experiment start date : 2019-11-25 00:00:00\n",
      "Experiment end_date : 2019-12-01 00:00:00\n"
     ]
    },
    {
     "name": "stderr",
     "output_type": "stream",
     "text": [
      "11:24:51 INFO:target drift detect: True\n",
      "11:24:51 INFO:data set drift detected\n",
      "11:24:52 INFO:drift detected for Product_Type.value\n",
      "11:24:52 INFO:drift_score : 0.5040206616370503\n",
      "11:24:52 INFO:stattest_name : Jensen-Shannon distance\n",
      "11:24:52 INFO:raw_feature_importance : 2.4322173595428467\n",
      "11:24:52 INFO:relative_feature_importance : 1.0\n",
      "11:24:52 INFO:feature_importance_weighted_drift_score : 0.5040206616370503\n",
      "11:24:52 INFO:Retraining model\n"
     ]
    },
    {
     "name": "stdout",
     "output_type": "stream",
     "text": [
      "(7180, 31)\n",
      "(7180,)\n",
      "Experiment week 41\n",
      "---------------------------------\n",
      "Experiment start date : 2019-12-02 00:00:00\n",
      "Experiment end_date : 2019-12-08 00:00:00\n"
     ]
    },
    {
     "name": "stderr",
     "output_type": "stream",
     "text": [
      "11:24:54 INFO:target drift detect: True\n",
      "11:24:54 INFO:data set drift detected\n",
      "11:24:54 INFO:drift detected for Product_Type.value\n",
      "11:24:54 INFO:drift_score : 0.5000874978752199\n",
      "11:24:54 INFO:stattest_name : Jensen-Shannon distance\n",
      "11:24:54 INFO:raw_feature_importance : 2.0557711124420166\n",
      "11:24:54 INFO:relative_feature_importance : 1.0\n",
      "11:24:54 INFO:feature_importance_weighted_drift_score : 0.5000874978752199\n",
      "11:24:55 INFO:Retraining model\n"
     ]
    },
    {
     "name": "stdout",
     "output_type": "stream",
     "text": [
      "(7264, 31)\n",
      "(7264,)\n",
      "Experiment week 42\n",
      "---------------------------------\n",
      "Experiment start date : 2019-12-09 00:00:00\n",
      "Experiment end_date : 2019-12-15 00:00:00\n"
     ]
    },
    {
     "name": "stderr",
     "output_type": "stream",
     "text": [
      "11:24:56 INFO:target drift detect: True\n",
      "11:24:56 INFO:data set drift detected\n",
      "11:24:57 INFO:drift detected for Product_Type.value\n",
      "11:24:57 INFO:drift_score : 0.49624898080726704\n",
      "11:24:57 INFO:stattest_name : Jensen-Shannon distance\n",
      "11:24:57 INFO:raw_feature_importance : 1.6530424356460571\n",
      "11:24:57 INFO:relative_feature_importance : 1.0\n",
      "11:24:57 INFO:feature_importance_weighted_drift_score : 0.49624898080726704\n",
      "11:24:57 INFO:Retraining model\n"
     ]
    },
    {
     "name": "stdout",
     "output_type": "stream",
     "text": [
      "(7348, 31)\n",
      "(7348,)\n",
      "Experiment week 43\n",
      "---------------------------------\n",
      "Experiment start date : 2019-12-16 00:00:00\n",
      "Experiment end_date : 2019-12-22 00:00:00\n"
     ]
    },
    {
     "name": "stderr",
     "output_type": "stream",
     "text": [
      "11:24:59 INFO:target drift detect: True\n",
      "11:25:00 INFO:data set drift detected\n",
      "11:25:00 INFO:drift detected for Product_Type.value\n",
      "11:25:00 INFO:drift_score : 0.49250120650323276\n",
      "11:25:00 INFO:stattest_name : Jensen-Shannon distance\n",
      "11:25:00 INFO:raw_feature_importance : 1.7424237728118896\n",
      "11:25:00 INFO:relative_feature_importance : 1.0\n",
      "11:25:00 INFO:feature_importance_weighted_drift_score : 0.49250120650323276\n",
      "11:25:01 INFO:Retraining model\n"
     ]
    },
    {
     "name": "stdout",
     "output_type": "stream",
     "text": [
      "(7432, 31)\n",
      "(7432,)\n",
      "Experiment week 44\n",
      "---------------------------------\n",
      "Experiment start date : 2019-12-23 00:00:00\n",
      "Experiment end_date : 2019-12-29 00:00:00\n"
     ]
    },
    {
     "name": "stderr",
     "output_type": "stream",
     "text": [
      "11:25:03 INFO:target drift detect: True\n",
      "11:25:04 INFO:data set drift detected\n",
      "11:25:04 INFO:drift detected for Product_Type.value\n",
      "11:25:04 INFO:drift_score : 0.4888405025616896\n",
      "11:25:04 INFO:stattest_name : Jensen-Shannon distance\n",
      "11:25:04 INFO:raw_feature_importance : 1.7624571323394775\n",
      "11:25:04 INFO:relative_feature_importance : 1.0\n",
      "11:25:04 INFO:feature_importance_weighted_drift_score : 0.4888405025616896\n",
      "11:25:04 INFO:Retraining model\n"
     ]
    },
    {
     "name": "stdout",
     "output_type": "stream",
     "text": [
      "(7516, 31)\n",
      "(7516,)\n",
      "Experiment week 45\n",
      "---------------------------------\n",
      "Experiment start date : 2019-12-30 00:00:00\n",
      "Experiment end_date : 2020-01-05 00:00:00\n"
     ]
    },
    {
     "name": "stderr",
     "output_type": "stream",
     "text": [
      "11:25:07 INFO:target drift detect: True\n",
      "11:25:07 INFO:data set drift detected\n",
      "11:25:08 INFO:drift detected for Product_Type.value\n",
      "11:25:08 INFO:drift_score : 0.4852634100349826\n",
      "11:25:08 INFO:stattest_name : Jensen-Shannon distance\n",
      "11:25:08 INFO:raw_feature_importance : 1.4919816255569458\n",
      "11:25:08 INFO:relative_feature_importance : 1.0\n",
      "11:25:08 INFO:feature_importance_weighted_drift_score : 0.4852634100349826\n",
      "11:25:08 INFO:Retraining model\n"
     ]
    },
    {
     "name": "stdout",
     "output_type": "stream",
     "text": [
      "(7608, 31)\n",
      "(7608,)\n",
      "Experiment week 46\n",
      "---------------------------------\n",
      "Experiment start date : 2020-01-06 00:00:00\n",
      "Experiment end_date : 2020-01-12 00:00:00\n"
     ]
    },
    {
     "name": "stderr",
     "output_type": "stream",
     "text": [
      "11:25:11 INFO:target drift detect: True\n",
      "11:25:12 INFO:data set drift detected\n",
      "11:25:12 INFO:drift detected for Product_Type.value\n",
      "11:25:12 INFO:drift_score : 0.48143772094478526\n",
      "11:25:12 INFO:stattest_name : Jensen-Shannon distance\n",
      "11:25:12 INFO:raw_feature_importance : 1.5941250324249268\n",
      "11:25:12 INFO:relative_feature_importance : 1.0\n",
      "11:25:12 INFO:feature_importance_weighted_drift_score : 0.48143772094478526\n",
      "11:25:13 INFO:Retraining model\n"
     ]
    },
    {
     "name": "stdout",
     "output_type": "stream",
     "text": [
      "(7706, 31)\n",
      "(7706,)\n",
      "Experiment week 47\n",
      "---------------------------------\n",
      "Experiment start date : 2020-01-13 00:00:00\n",
      "Experiment end_date : 2020-01-19 00:00:00\n"
     ]
    },
    {
     "name": "stderr",
     "output_type": "stream",
     "text": [
      "11:25:14 INFO:target drift detect: True\n",
      "11:25:14 INFO:data set drift detected\n",
      "11:25:15 INFO:drift detected for Product_Type.value\n",
      "11:25:15 INFO:drift_score : 0.47746402069154176\n",
      "11:25:15 INFO:stattest_name : Jensen-Shannon distance\n",
      "11:25:15 INFO:raw_feature_importance : 1.683242917060852\n",
      "11:25:15 INFO:relative_feature_importance : 1.0\n",
      "11:25:15 INFO:feature_importance_weighted_drift_score : 0.47746402069154176\n",
      "11:25:15 INFO:Retraining model\n"
     ]
    },
    {
     "name": "stdout",
     "output_type": "stream",
     "text": [
      "(7804, 31)\n",
      "(7804,)\n",
      "Experiment week 48\n",
      "---------------------------------\n",
      "Experiment start date : 2020-01-20 00:00:00\n",
      "Experiment end_date : 2020-01-26 00:00:00\n"
     ]
    },
    {
     "name": "stderr",
     "output_type": "stream",
     "text": [
      "11:25:17 INFO:target drift detect: True\n",
      "11:25:18 INFO:data set drift detected\n",
      "11:25:18 INFO:drift detected for Product_Type.value\n",
      "11:25:18 INFO:drift_score : 0.4735905369579477\n",
      "11:25:18 INFO:stattest_name : Jensen-Shannon distance\n",
      "11:25:18 INFO:raw_feature_importance : 1.5880743265151978\n",
      "11:25:18 INFO:relative_feature_importance : 1.0\n",
      "11:25:18 INFO:feature_importance_weighted_drift_score : 0.4735905369579477\n",
      "11:25:18 INFO:Retraining model\n"
     ]
    },
    {
     "name": "stdout",
     "output_type": "stream",
     "text": [
      "(7902, 31)\n",
      "(7902,)\n",
      "Experiment week 49\n",
      "---------------------------------\n",
      "Experiment start date : 2020-01-27 00:00:00\n",
      "Experiment end_date : 2020-02-02 00:00:00\n"
     ]
    },
    {
     "name": "stderr",
     "output_type": "stream",
     "text": [
      "11:25:20 INFO:target drift detect: True\n",
      "11:25:20 INFO:data set drift detected\n",
      "11:25:20 INFO:drift detected for Product_Type.value\n",
      "11:25:20 INFO:drift_score : 0.4698129781172319\n",
      "11:25:20 INFO:stattest_name : Jensen-Shannon distance\n",
      "11:25:20 INFO:raw_feature_importance : 1.6035696268081665\n",
      "11:25:20 INFO:relative_feature_importance : 1.0\n",
      "11:25:20 INFO:feature_importance_weighted_drift_score : 0.4698129781172319\n",
      "11:25:21 INFO:Retraining model\n"
     ]
    },
    {
     "name": "stdout",
     "output_type": "stream",
     "text": [
      "(8002, 31)\n",
      "(8002,)\n",
      "Experiment week 50\n",
      "---------------------------------\n",
      "Experiment start date : 2020-02-03 00:00:00\n",
      "Experiment end_date : 2020-02-09 00:00:00\n"
     ]
    },
    {
     "name": "stderr",
     "output_type": "stream",
     "text": [
      "11:25:22 INFO:target drift detect: True\n",
      "11:25:22 INFO:data set drift detected\n",
      "11:25:23 INFO:drift detected for warehouse_ID.value\n",
      "11:25:23 INFO:drift_score : 0.8325546111576977\n",
      "11:25:23 INFO:stattest_name : Jensen-Shannon distance\n",
      "11:25:23 INFO:raw_feature_importance : 0.2620079219341278\n",
      "11:25:23 INFO:relative_feature_importance : 0.15556128323078156\n",
      "11:25:23 INFO:feature_importance_weighted_drift_score : 0.12951326367139582\n",
      "11:25:23 INFO:drift detected for Product_Type.value\n",
      "11:25:23 INFO:drift_score : 0.46605302667537596\n",
      "11:25:23 INFO:stattest_name : Jensen-Shannon distance\n",
      "11:25:23 INFO:raw_feature_importance : 1.6842745542526245\n",
      "11:25:23 INFO:relative_feature_importance : 1.0\n",
      "11:25:23 INFO:feature_importance_weighted_drift_score : 0.46605302667537596\n",
      "11:25:23 INFO:Retraining model\n"
     ]
    },
    {
     "name": "stdout",
     "output_type": "stream",
     "text": [
      "(8114, 31)\n",
      "(8114,)\n",
      "Experiment week 51\n",
      "---------------------------------\n",
      "Experiment start date : 2020-02-10 00:00:00\n",
      "Experiment end_date : 2020-02-16 00:00:00\n"
     ]
    },
    {
     "name": "stderr",
     "output_type": "stream",
     "text": [
      "11:25:25 INFO:target drift detect: True\n",
      "11:25:26 INFO:data set drift detected\n",
      "11:25:26 INFO:drift detected for Product_Type.value\n",
      "11:25:26 INFO:drift_score : 0.4619505202208473\n",
      "11:25:26 INFO:stattest_name : Jensen-Shannon distance\n",
      "11:25:26 INFO:raw_feature_importance : 1.7227860689163208\n",
      "11:25:26 INFO:relative_feature_importance : 1.0\n",
      "11:25:26 INFO:feature_importance_weighted_drift_score : 0.4619505202208473\n",
      "11:25:27 INFO:Retraining model\n"
     ]
    },
    {
     "name": "stdout",
     "output_type": "stream",
     "text": [
      "(8226, 31)\n",
      "(8226,)\n",
      "Experiment week 52\n",
      "---------------------------------\n",
      "Experiment start date : 2020-02-17 00:00:00\n",
      "Experiment end_date : 2020-02-23 00:00:00\n"
     ]
    },
    {
     "name": "stderr",
     "output_type": "stream",
     "text": [
      "11:25:30 INFO:target drift detect: True\n",
      "11:25:30 INFO:data set drift detected\n",
      "11:25:31 INFO:drift detected for Product_Type.value\n",
      "11:25:31 INFO:drift_score : 0.4579577053991994\n",
      "11:25:31 INFO:stattest_name : Jensen-Shannon distance\n",
      "11:25:31 INFO:raw_feature_importance : 1.6459057331085205\n",
      "11:25:31 INFO:relative_feature_importance : 1.0\n",
      "11:25:31 INFO:feature_importance_weighted_drift_score : 0.4579577053991994\n",
      "11:25:31 INFO:Retraining model\n"
     ]
    },
    {
     "name": "stdout",
     "output_type": "stream",
     "text": [
      "(8338, 31)\n",
      "(8338,)\n",
      "Experiment week 53\n",
      "---------------------------------\n",
      "Experiment start date : 2020-02-24 00:00:00\n",
      "Experiment end_date : 2020-03-01 00:00:00\n"
     ]
    },
    {
     "name": "stderr",
     "output_type": "stream",
     "text": [
      "11:25:33 INFO:target drift detect: True\n",
      "11:25:34 INFO:data set drift detected\n",
      "11:25:34 INFO:drift detected for Product_Type.value\n",
      "11:25:34 INFO:drift_score : 0.4540696323383307\n",
      "11:25:34 INFO:stattest_name : Jensen-Shannon distance\n",
      "11:25:34 INFO:raw_feature_importance : 1.8433468341827393\n",
      "11:25:34 INFO:relative_feature_importance : 1.0\n",
      "11:25:34 INFO:feature_importance_weighted_drift_score : 0.4540696323383307\n",
      "11:25:34 INFO:Retraining model\n"
     ]
    },
    {
     "name": "stdout",
     "output_type": "stream",
     "text": [
      "(8450, 31)\n",
      "(8450,)\n",
      "Experiment week 54\n",
      "---------------------------------\n",
      "Experiment start date : 2020-03-02 00:00:00\n",
      "Experiment end_date : 2020-03-08 00:00:00\n"
     ]
    },
    {
     "name": "stderr",
     "output_type": "stream",
     "text": [
      "11:25:37 INFO:target drift detect: True\n",
      "11:25:38 INFO:data set drift detected\n",
      "11:25:38 INFO:drift detected for state_cases.value\n",
      "11:25:38 INFO:drift_score : 14.464802134028796\n",
      "11:25:38 INFO:stattest_name : Wasserstein distance (normed)\n",
      "11:25:38 INFO:raw_feature_importance : 0.1375526487827301\n",
      "11:25:38 INFO:relative_feature_importance : 0.06835038214921951\n",
      "11:25:38 INFO:feature_importance_weighted_drift_score : 0.9886747535737141\n",
      "11:25:38 INFO:drift detected for Product_Type.value\n",
      "11:25:38 INFO:drift_score : 0.4502816675757374\n",
      "11:25:38 INFO:stattest_name : Jensen-Shannon distance\n",
      "11:25:38 INFO:raw_feature_importance : 2.0124635696411133\n",
      "11:25:38 INFO:relative_feature_importance : 1.0\n",
      "11:25:38 INFO:feature_importance_weighted_drift_score : 0.4502816675757374\n",
      "11:25:38 INFO:Retraining model\n"
     ]
    },
    {
     "name": "stdout",
     "output_type": "stream",
     "text": [
      "(8562, 31)\n",
      "(8562,)\n",
      "Experiment week 55\n",
      "---------------------------------\n",
      "Experiment start date : 2020-03-09 00:00:00\n",
      "Experiment end_date : 2020-03-15 00:00:00\n"
     ]
    },
    {
     "name": "stderr",
     "output_type": "stream",
     "text": [
      "11:25:40 INFO:target drift detect: True\n",
      "11:25:40 INFO:data set drift detected\n",
      "11:25:41 INFO:drift detected for state_cases.value\n",
      "11:25:41 INFO:drift_score : 50.022307083254994\n",
      "11:25:41 INFO:stattest_name : Wasserstein distance (normed)\n",
      "11:25:41 INFO:raw_feature_importance : 0.315552294254303\n",
      "11:25:41 INFO:relative_feature_importance : 0.2524249255657196\n",
      "11:25:41 INFO:feature_importance_weighted_drift_score : 12.62687714211621\n",
      "11:25:41 INFO:drift detected for Product_Type.value\n",
      "11:25:41 INFO:drift_score : 0.4465894677886207\n",
      "11:25:41 INFO:stattest_name : Jensen-Shannon distance\n",
      "11:25:41 INFO:raw_feature_importance : 1.2500836849212646\n",
      "11:25:41 INFO:relative_feature_importance : 1.0\n",
      "11:25:41 INFO:feature_importance_weighted_drift_score : 0.4465894677886207\n",
      "11:25:41 INFO:Retraining model\n"
     ]
    },
    {
     "name": "stdout",
     "output_type": "stream",
     "text": [
      "(8674, 31)\n",
      "(8674,)\n",
      "Experiment week 56\n",
      "---------------------------------\n",
      "Experiment start date : 2020-03-16 00:00:00\n",
      "Experiment end_date : 2020-03-22 00:00:00\n"
     ]
    },
    {
     "name": "stderr",
     "output_type": "stream",
     "text": [
      "11:25:43 INFO:target drift detect: True\n",
      "11:25:44 INFO:data set drift detected\n",
      "11:25:44 INFO:drift detected for state_cases.value\n",
      "11:25:44 INFO:drift_score : 52.33781516230011\n",
      "11:25:44 INFO:stattest_name : Wasserstein distance (normed)\n",
      "11:25:44 INFO:raw_feature_importance : 0.09526854008436203\n",
      "11:25:44 INFO:relative_feature_importance : 0.09667555242776871\n",
      "11:25:44 INFO:feature_importance_weighted_drift_score : 5.0597871936778125\n",
      "11:25:44 INFO:drift detected for state_deaths.value\n",
      "11:25:44 INFO:drift_score : 22.00070228154435\n",
      "11:25:44 INFO:stattest_name : Wasserstein distance (normed)\n",
      "11:25:44 INFO:raw_feature_importance : 0.06549281626939774\n",
      "11:25:44 INFO:relative_feature_importance : 0.06646007299423218\n",
      "11:25:44 INFO:feature_importance_weighted_drift_score : 1.4621682795558077\n",
      "11:25:45 INFO:drift detected for Product_Type.value\n",
      "11:25:45 INFO:drift_score : 0.44298895621091267\n",
      "11:25:45 INFO:stattest_name : Jensen-Shannon distance\n",
      "11:25:45 INFO:raw_feature_importance : 0.985446035861969\n",
      "11:25:45 INFO:relative_feature_importance : 1.0\n",
      "11:25:45 INFO:feature_importance_weighted_drift_score : 0.44298895621091267\n",
      "11:25:45 INFO:Retraining model\n"
     ]
    },
    {
     "name": "stdout",
     "output_type": "stream",
     "text": [
      "(8786, 31)\n",
      "(8786,)\n",
      "Experiment week 57\n",
      "---------------------------------\n",
      "Experiment start date : 2020-03-23 00:00:00\n",
      "Experiment end_date : 2020-03-29 00:00:00\n"
     ]
    },
    {
     "name": "stderr",
     "output_type": "stream",
     "text": [
      "11:25:46 INFO:target drift detect: True\n",
      "11:25:47 INFO:data set drift detected\n",
      "11:25:47 INFO:drift detected for state_cases.value\n",
      "11:25:47 INFO:drift_score : 34.70612869335814\n",
      "11:25:47 INFO:stattest_name : Wasserstein distance (normed)\n",
      "11:25:47 INFO:raw_feature_importance : 0.2905508577823639\n",
      "11:25:47 INFO:relative_feature_importance : 0.24120187759399414\n",
      "11:25:47 INFO:feature_importance_weighted_drift_score : 8.371183404856778\n",
      "11:25:47 INFO:drift detected for state_deaths.value\n",
      "11:25:47 INFO:drift_score : 34.768310889306996\n",
      "11:25:47 INFO:stattest_name : Wasserstein distance (normed)\n",
      "11:25:47 INFO:raw_feature_importance : 0.10752590000629425\n",
      "11:25:47 INFO:relative_feature_importance : 0.08926302939653397\n",
      "11:25:47 INFO:feature_importance_weighted_drift_score : 3.1035247569800424\n",
      "11:25:47 INFO:drift detected for Product_Type.value\n",
      "11:25:47 INFO:drift_score : 0.4394763014107068\n",
      "11:25:47 INFO:stattest_name : Jensen-Shannon distance\n",
      "11:25:47 INFO:raw_feature_importance : 1.2045961618423462\n",
      "11:25:47 INFO:relative_feature_importance : 1.0\n",
      "11:25:47 INFO:feature_importance_weighted_drift_score : 0.4394763014107068\n",
      "11:25:48 INFO:Retraining model\n"
     ]
    },
    {
     "name": "stdout",
     "output_type": "stream",
     "text": [
      "(8898, 31)\n",
      "(8898,)\n",
      "Experiment week 58\n",
      "---------------------------------\n",
      "Experiment start date : 2020-03-30 00:00:00\n",
      "Experiment end_date : 2020-04-05 00:00:00\n"
     ]
    },
    {
     "name": "stderr",
     "output_type": "stream",
     "text": [
      "11:25:50 INFO:target drift detect: True\n",
      "11:25:50 INFO:data set drift detected\n",
      "11:25:50 INFO:drift detected for state_cases.value\n",
      "11:25:50 INFO:drift_score : 20.94967829112206\n",
      "11:25:50 INFO:stattest_name : Wasserstein distance (normed)\n",
      "11:25:50 INFO:raw_feature_importance : 0.3998843729496002\n",
      "11:25:50 INFO:relative_feature_importance : 0.3018978536128998\n",
      "11:25:50 INFO:feature_importance_weighted_drift_score : 6.324662909970511\n",
      "11:25:51 INFO:drift detected for state_deaths.value\n",
      "11:25:51 INFO:drift_score : 29.232745509734595\n",
      "11:25:51 INFO:stattest_name : Wasserstein distance (normed)\n",
      "11:25:51 INFO:raw_feature_importance : 0.06417149305343628\n",
      "11:25:51 INFO:relative_feature_importance : 0.04844709113240242\n",
      "11:25:51 INFO:feature_importance_weighted_drift_score : 1.4162414857604395\n",
      "11:25:51 INFO:drift detected for Product_Type.value\n",
      "11:25:51 INFO:drift_score : 0.43604789814747336\n",
      "11:25:51 INFO:stattest_name : Jensen-Shannon distance\n",
      "11:25:51 INFO:raw_feature_importance : 1.324568510055542\n",
      "11:25:51 INFO:relative_feature_importance : 1.0\n",
      "11:25:51 INFO:feature_importance_weighted_drift_score : 0.43604789814747336\n",
      "11:25:51 INFO:Retraining model\n"
     ]
    },
    {
     "name": "stdout",
     "output_type": "stream",
     "text": [
      "(9010, 31)\n",
      "(9010,)\n",
      "Experiment week 59\n",
      "---------------------------------\n",
      "Experiment start date : 2020-04-06 00:00:00\n",
      "Experiment end_date : 2020-04-12 00:00:00\n"
     ]
    },
    {
     "name": "stderr",
     "output_type": "stream",
     "text": [
      "11:25:53 INFO:target drift detect: True\n",
      "11:25:53 INFO:data set drift detected\n",
      "11:25:54 INFO:drift detected for state_cases.value\n",
      "11:25:54 INFO:drift_score : 13.019147008070663\n",
      "11:25:54 INFO:stattest_name : Wasserstein distance (normed)\n",
      "11:25:54 INFO:raw_feature_importance : 0.7047041654586792\n",
      "11:25:54 INFO:relative_feature_importance : 0.4145298898220062\n",
      "11:25:54 INFO:feature_importance_weighted_drift_score : 5.396825574832034\n",
      "11:25:54 INFO:drift detected for state_deaths.value\n",
      "11:25:54 INFO:drift_score : 19.185101036012785\n",
      "11:25:54 INFO:stattest_name : Wasserstein distance (normed)\n",
      "11:25:54 INFO:raw_feature_importance : 0.09517351537942886\n",
      "11:25:54 INFO:relative_feature_importance : 0.05598415806889534\n",
      "11:25:54 INFO:feature_importance_weighted_drift_score : 1.0740617289678676\n",
      "11:25:54 INFO:drift detected for Product_Type.value\n",
      "11:25:54 INFO:drift_score : 0.4327003500670382\n",
      "11:25:54 INFO:stattest_name : Jensen-Shannon distance\n",
      "11:25:54 INFO:raw_feature_importance : 1.7000080347061157\n",
      "11:25:54 INFO:relative_feature_importance : 1.0\n",
      "11:25:54 INFO:feature_importance_weighted_drift_score : 0.4327003500670382\n",
      "11:25:54 INFO:Retraining model\n"
     ]
    },
    {
     "name": "stdout",
     "output_type": "stream",
     "text": [
      "(9122, 31)\n",
      "(9122,)\n",
      "Experiment week 60\n",
      "---------------------------------\n",
      "Experiment start date : 2020-04-13 00:00:00\n",
      "Experiment end_date : 2020-04-19 00:00:00\n"
     ]
    },
    {
     "name": "stderr",
     "output_type": "stream",
     "text": [
      "11:25:56 INFO:target drift detect: True\n",
      "11:25:56 INFO:data set drift detected\n",
      "11:25:56 INFO:drift detected for state_cases.value\n",
      "11:25:56 INFO:drift_score : 9.429764575762082\n",
      "11:25:56 INFO:stattest_name : Wasserstein distance (normed)\n",
      "11:25:56 INFO:raw_feature_importance : 0.5167227983474731\n",
      "11:25:56 INFO:relative_feature_importance : 0.34140345454216003\n",
      "11:25:56 INFO:feature_importance_weighted_drift_score : 3.219354201684461\n",
      "11:25:56 INFO:drift detected for state_deaths.value\n",
      "11:25:56 INFO:drift_score : 13.197300157976434\n",
      "11:25:56 INFO:stattest_name : Wasserstein distance (normed)\n",
      "11:25:56 INFO:raw_feature_importance : 0.32162532210350037\n",
      "11:25:56 INFO:relative_feature_importance : 0.21250078082084656\n",
      "11:25:56 INFO:feature_importance_weighted_drift_score : 2.8044365882970737\n",
      "11:25:57 INFO:drift detected for Product_Type.value\n",
      "11:25:57 INFO:drift_score : 0.42943045402486635\n",
      "11:25:57 INFO:stattest_name : Jensen-Shannon distance\n",
      "11:25:57 INFO:raw_feature_importance : 1.513525366783142\n",
      "11:25:57 INFO:relative_feature_importance : 1.0\n",
      "11:25:57 INFO:feature_importance_weighted_drift_score : 0.42943045402486635\n",
      "11:25:57 INFO:Retraining model\n"
     ]
    },
    {
     "name": "stdout",
     "output_type": "stream",
     "text": [
      "(9234, 31)\n",
      "(9234,)\n",
      "Experiment week 61\n",
      "---------------------------------\n",
      "Experiment start date : 2020-04-20 00:00:00\n",
      "Experiment end_date : 2020-04-26 00:00:00\n"
     ]
    },
    {
     "name": "stderr",
     "output_type": "stream",
     "text": [
      "11:25:58 INFO:target drift detect: True\n",
      "11:25:59 INFO:data set drift detected\n",
      "11:25:59 INFO:drift detected for state_cases.value\n",
      "11:25:59 INFO:drift_score : 7.757552085764382\n",
      "11:25:59 INFO:stattest_name : Wasserstein distance (normed)\n",
      "11:25:59 INFO:raw_feature_importance : 0.5933514833450317\n",
      "11:25:59 INFO:relative_feature_importance : 0.4107882082462311\n",
      "11:25:59 INFO:feature_importance_weighted_drift_score : 3.186710921687963\n",
      "11:25:59 INFO:drift detected for state_deaths.value\n",
      "11:25:59 INFO:drift_score : 10.105984890649665\n",
      "11:25:59 INFO:stattest_name : Wasserstein distance (normed)\n",
      "11:25:59 INFO:raw_feature_importance : 0.068808913230896\n",
      "11:25:59 INFO:relative_feature_importance : 0.047637682408094406\n",
      "11:25:59 INFO:feature_importance_weighted_drift_score : 0.48142569864176943\n",
      "11:25:59 INFO:drift detected for Product_Type.value\n",
      "11:25:59 INFO:drift_score : 0.426235185855806\n",
      "11:25:59 INFO:stattest_name : Jensen-Shannon distance\n",
      "11:25:59 INFO:raw_feature_importance : 1.4444218873977661\n",
      "11:25:59 INFO:relative_feature_importance : 1.0\n",
      "11:25:59 INFO:feature_importance_weighted_drift_score : 0.426235185855806\n",
      "11:26:00 INFO:Retraining model\n"
     ]
    },
    {
     "name": "stdout",
     "output_type": "stream",
     "text": [
      "(9346, 31)\n",
      "(9346,)\n",
      "Experiment week 62\n",
      "---------------------------------\n",
      "Experiment start date : 2020-04-27 00:00:00\n",
      "Experiment end_date : 2020-05-03 00:00:00\n"
     ]
    },
    {
     "name": "stderr",
     "output_type": "stream",
     "text": [
      "11:26:01 INFO:target drift detect: True\n",
      "11:26:01 INFO:data set drift detected\n",
      "11:26:02 INFO:drift detected for state_cases.value\n",
      "11:26:02 INFO:drift_score : 7.130275632403941\n",
      "11:26:02 INFO:stattest_name : Wasserstein distance (normed)\n",
      "11:26:02 INFO:raw_feature_importance : 0.7120670676231384\n",
      "11:26:02 INFO:relative_feature_importance : 0.40463340282440186\n",
      "11:26:02 INFO:feature_importance_weighted_drift_score : 2.8851476922155204\n",
      "11:26:02 INFO:drift detected for state_deaths.value\n",
      "11:26:02 INFO:drift_score : 8.318530711405284\n",
      "11:26:02 INFO:stattest_name : Wasserstein distance (normed)\n",
      "11:26:02 INFO:raw_feature_importance : 0.22720515727996826\n",
      "11:26:02 INFO:relative_feature_importance : 0.12910974025726318\n",
      "11:26:02 INFO:feature_importance_weighted_drift_score : 1.0740033394716029\n",
      "11:26:02 INFO:drift detected for Product_Type.value\n",
      "11:26:02 INFO:drift_score : 0.42311168743192884\n",
      "11:26:02 INFO:stattest_name : Jensen-Shannon distance\n",
      "11:26:02 INFO:raw_feature_importance : 1.759783148765564\n",
      "11:26:02 INFO:relative_feature_importance : 1.0\n",
      "11:26:02 INFO:feature_importance_weighted_drift_score : 0.42311168743192884\n",
      "11:26:02 INFO:Retraining model\n"
     ]
    },
    {
     "name": "stdout",
     "output_type": "stream",
     "text": [
      "(9462, 31)\n",
      "(9462,)\n",
      "Experiment week 63\n",
      "---------------------------------\n",
      "Experiment start date : 2020-05-04 00:00:00\n",
      "Experiment end_date : 2020-05-10 00:00:00\n"
     ]
    },
    {
     "name": "stderr",
     "output_type": "stream",
     "text": [
      "11:26:05 INFO:target drift detect: True\n",
      "11:26:05 INFO:data set drift detected\n",
      "11:26:05 INFO:drift detected for state_cases.value\n",
      "11:26:05 INFO:drift_score : 6.848836447417566\n",
      "11:26:05 INFO:stattest_name : Wasserstein distance (normed)\n",
      "11:26:05 INFO:raw_feature_importance : 0.3973872661590576\n",
      "11:26:05 INFO:relative_feature_importance : 0.22954177856445312\n",
      "11:26:05 INFO:feature_importance_weighted_drift_score : 1.5720940992372787\n",
      "11:26:05 INFO:drift detected for state_deaths.value\n",
      "11:26:05 INFO:drift_score : 7.500646429009861\n",
      "11:26:05 INFO:stattest_name : Wasserstein distance (normed)\n",
      "11:26:05 INFO:raw_feature_importance : 0.1195889413356781\n",
      "11:26:05 INFO:relative_feature_importance : 0.06907784938812256\n",
      "11:26:05 INFO:feature_importance_weighted_drift_score : 0.5181285243367025\n",
      "11:26:06 INFO:drift detected for Product_Type.value\n",
      "11:26:06 INFO:drift_score : 0.4199494128101876\n",
      "11:26:06 INFO:stattest_name : Jensen-Shannon distance\n",
      "11:26:06 INFO:raw_feature_importance : 1.73121976852417\n",
      "11:26:06 INFO:relative_feature_importance : 1.0\n",
      "11:26:06 INFO:feature_importance_weighted_drift_score : 0.4199494128101876\n",
      "11:26:06 INFO:Retraining model\n"
     ]
    },
    {
     "name": "stdout",
     "output_type": "stream",
     "text": [
      "(9588, 31)\n",
      "(9588,)\n",
      "Experiment week 64\n",
      "---------------------------------\n",
      "Experiment start date : 2020-05-11 00:00:00\n",
      "Experiment end_date : 2020-05-17 00:00:00\n"
     ]
    },
    {
     "name": "stderr",
     "output_type": "stream",
     "text": [
      "11:26:07 INFO:target drift detect: True\n",
      "11:26:08 INFO:data set drift detected\n",
      "11:26:08 INFO:drift detected for state_cases.value\n",
      "11:26:08 INFO:drift_score : 5.757053086297718\n",
      "11:26:08 INFO:stattest_name : Wasserstein distance (normed)\n",
      "11:26:08 INFO:raw_feature_importance : 0.17426182329654694\n",
      "11:26:08 INFO:relative_feature_importance : 0.08971912413835526\n",
      "11:26:08 INFO:feature_importance_weighted_drift_score : 0.5165177605206462\n",
      "11:26:08 INFO:drift detected for state_deaths.value\n",
      "11:26:08 INFO:drift_score : 6.2021353612002965\n",
      "11:26:08 INFO:stattest_name : Wasserstein distance (normed)\n",
      "11:26:08 INFO:raw_feature_importance : 0.08568695187568665\n",
      "11:26:08 INFO:relative_feature_importance : 0.04411613568663597\n",
      "11:26:08 INFO:feature_importance_weighted_drift_score : 0.27361424514159527\n",
      "11:26:08 INFO:drift detected for Product_Type.value\n",
      "11:26:08 INFO:drift_score : 0.4165951634489085\n",
      "11:26:08 INFO:stattest_name : Jensen-Shannon distance\n",
      "11:26:08 INFO:raw_feature_importance : 1.9423041343688965\n",
      "11:26:08 INFO:relative_feature_importance : 1.0\n",
      "11:26:08 INFO:feature_importance_weighted_drift_score : 0.4165951634489085\n",
      "11:26:08 INFO:Retraining model\n"
     ]
    },
    {
     "name": "stdout",
     "output_type": "stream",
     "text": [
      "(9714, 31)\n",
      "(9714,)\n",
      "Experiment week 65\n",
      "---------------------------------\n",
      "Experiment start date : 2020-05-18 00:00:00\n",
      "Experiment end_date : 2020-05-24 00:00:00\n"
     ]
    },
    {
     "name": "stderr",
     "output_type": "stream",
     "text": [
      "11:26:10 INFO:target drift detect: True\n",
      "11:26:10 INFO:data set drift detected\n",
      "11:26:10 INFO:drift detected for state_cases.value\n",
      "11:26:10 INFO:drift_score : 5.079977326310352\n",
      "11:26:10 INFO:stattest_name : Wasserstein distance (normed)\n",
      "11:26:10 INFO:raw_feature_importance : 0.3973068296909332\n",
      "11:26:10 INFO:relative_feature_importance : 0.2056981474161148\n",
      "11:26:10 INFO:feature_importance_weighted_drift_score : 1.0449419249379075\n",
      "11:26:11 INFO:drift detected for state_deaths.value\n",
      "11:26:11 INFO:drift_score : 5.377500785968052\n",
      "11:26:11 INFO:stattest_name : Wasserstein distance (normed)\n",
      "11:26:11 INFO:raw_feature_importance : 0.09487119317054749\n",
      "11:26:11 INFO:relative_feature_importance : 0.04911777749657631\n",
      "11:26:11 INFO:feature_importance_weighted_drift_score : 0.264130887092843\n",
      "11:26:11 INFO:drift detected for Product_Type.value\n",
      "11:26:11 INFO:drift_score : 0.4133215385227546\n",
      "11:26:11 INFO:stattest_name : Jensen-Shannon distance\n",
      "11:26:11 INFO:raw_feature_importance : 1.9315041303634644\n",
      "11:26:11 INFO:relative_feature_importance : 1.0\n",
      "11:26:11 INFO:feature_importance_weighted_drift_score : 0.4133215385227546\n",
      "11:26:11 INFO:Retraining model\n"
     ]
    },
    {
     "name": "stdout",
     "output_type": "stream",
     "text": [
      "(9840, 31)\n",
      "(9840,)\n",
      "Experiment week 66\n",
      "---------------------------------\n",
      "Experiment start date : 2020-05-25 00:00:00\n",
      "Experiment end_date : 2020-05-31 00:00:00\n"
     ]
    },
    {
     "name": "stderr",
     "output_type": "stream",
     "text": [
      "11:26:13 INFO:target drift detect: True\n",
      "11:26:13 INFO:data set drift detected\n",
      "11:26:13 INFO:drift detected for state_cases.value\n",
      "11:26:13 INFO:drift_score : 4.5442425936964606\n",
      "11:26:13 INFO:stattest_name : Wasserstein distance (normed)\n",
      "11:26:13 INFO:raw_feature_importance : 0.19142261147499084\n",
      "11:26:13 INFO:relative_feature_importance : 0.09610733389854431\n",
      "11:26:13 INFO:feature_importance_weighted_drift_score : 0.4367350402683728\n",
      "11:26:13 INFO:drift detected for state_deaths.value\n",
      "11:26:13 INFO:drift_score : 4.716880060212138\n",
      "11:26:13 INFO:stattest_name : Wasserstein distance (normed)\n",
      "11:26:13 INFO:raw_feature_importance : 0.07581911981105804\n",
      "11:26:13 INFO:relative_feature_importance : 0.03806641697883606\n",
      "11:26:13 INFO:feature_importance_weighted_drift_score : 0.1795547232111926\n",
      "11:26:14 INFO:drift detected for Product_Type.value\n",
      "11:26:14 INFO:drift_score : 0.4101252977691626\n",
      "11:26:14 INFO:stattest_name : Jensen-Shannon distance\n",
      "11:26:14 INFO:raw_feature_importance : 1.9917587041854858\n",
      "11:26:14 INFO:relative_feature_importance : 1.0\n",
      "11:26:14 INFO:feature_importance_weighted_drift_score : 0.4101252977691626\n",
      "11:26:14 INFO:Retraining model\n"
     ]
    },
    {
     "name": "stdout",
     "output_type": "stream",
     "text": [
      "(9966, 31)\n",
      "(9966,)\n",
      "Experiment week 67\n",
      "---------------------------------\n",
      "Experiment start date : 2020-06-01 00:00:00\n",
      "Experiment end_date : 2020-06-07 00:00:00\n"
     ]
    },
    {
     "name": "stderr",
     "output_type": "stream",
     "text": [
      "11:26:15 INFO:target drift detect: True\n",
      "11:26:16 INFO:data set drift detected\n",
      "11:26:16 INFO:drift detected for state_cases.value\n",
      "11:26:16 INFO:drift_score : 3.7640482734523038\n",
      "11:26:16 INFO:stattest_name : Wasserstein distance (normed)\n",
      "11:26:16 INFO:raw_feature_importance : 0.31477269530296326\n",
      "11:26:16 INFO:relative_feature_importance : 0.1366763710975647\n",
      "11:26:16 INFO:feature_importance_weighted_drift_score : 0.5144564586515148\n",
      "11:26:16 INFO:drift detected for Product_Type.value\n",
      "11:26:16 INFO:drift_score : 0.4070033837765449\n",
      "11:26:16 INFO:stattest_name : Jensen-Shannon distance\n",
      "11:26:16 INFO:raw_feature_importance : 2.303051233291626\n",
      "11:26:16 INFO:relative_feature_importance : 1.0\n",
      "11:26:16 INFO:feature_importance_weighted_drift_score : 0.4070033837765449\n",
      "11:26:17 INFO:Retraining model\n"
     ]
    },
    {
     "name": "stdout",
     "output_type": "stream",
     "text": [
      "(10104, 31)\n",
      "(10104,)\n",
      "Experiment week 68\n",
      "---------------------------------\n",
      "Experiment start date : 2020-06-08 00:00:00\n",
      "Experiment end_date : 2020-06-14 00:00:00\n"
     ]
    },
    {
     "name": "stderr",
     "output_type": "stream",
     "text": [
      "11:26:18 INFO:target drift detect: True\n",
      "11:26:19 INFO:data set drift detected\n",
      "11:26:19 INFO:drift detected for state_cases.value\n",
      "11:26:19 INFO:drift_score : 3.4856225253848367\n",
      "11:26:19 INFO:stattest_name : Wasserstein distance (normed)\n",
      "11:26:19 INFO:raw_feature_importance : 0.337686687707901\n",
      "11:26:19 INFO:relative_feature_importance : 0.15420615673065186\n",
      "11:26:19 INFO:feature_importance_weighted_drift_score : 0.5375044534533847\n",
      "11:26:19 INFO:drift detected for Product_Type.value\n",
      "11:26:19 INFO:drift_score : 0.4036660123931445\n",
      "11:26:19 INFO:stattest_name : Jensen-Shannon distance\n",
      "11:26:19 INFO:raw_feature_importance : 2.1898391246795654\n",
      "11:26:19 INFO:relative_feature_importance : 1.0\n",
      "11:26:19 INFO:feature_importance_weighted_drift_score : 0.4036660123931445\n",
      "11:26:20 INFO:Retraining model\n"
     ]
    },
    {
     "name": "stdout",
     "output_type": "stream",
     "text": [
      "(10244, 31)\n",
      "(10244,)\n",
      "Experiment week 69\n",
      "---------------------------------\n",
      "Experiment start date : 2020-06-15 00:00:00\n",
      "Experiment end_date : 2020-06-21 00:00:00\n"
     ]
    },
    {
     "name": "stderr",
     "output_type": "stream",
     "text": [
      "11:26:21 INFO:target drift detect: True\n",
      "11:26:22 INFO:data set drift detected\n",
      "11:26:22 INFO:drift detected for state_cases.value\n",
      "11:26:22 INFO:drift_score : 3.426368574634212\n",
      "11:26:22 INFO:stattest_name : Wasserstein distance (normed)\n",
      "11:26:22 INFO:raw_feature_importance : 0.35847651958465576\n",
      "11:26:22 INFO:relative_feature_importance : 0.184648334980011\n",
      "11:26:22 INFO:feature_importance_weighted_drift_score : 0.6326732523340407\n",
      "11:26:22 INFO:drift detected for Product_Type.value\n",
      "11:26:22 INFO:drift_score : 0.4003641696095874\n",
      "11:26:22 INFO:stattest_name : Jensen-Shannon distance\n",
      "11:26:22 INFO:raw_feature_importance : 1.9414012432098389\n",
      "11:26:22 INFO:relative_feature_importance : 1.0\n",
      "11:26:22 INFO:feature_importance_weighted_drift_score : 0.4003641696095874\n",
      "11:26:23 INFO:Retraining model\n"
     ]
    },
    {
     "name": "stdout",
     "output_type": "stream",
     "text": [
      "(10384, 31)\n",
      "(10384,)\n",
      "Experiment week 70\n",
      "---------------------------------\n",
      "Experiment start date : 2020-06-22 00:00:00\n",
      "Experiment end_date : 2020-06-28 00:00:00\n"
     ]
    },
    {
     "name": "stderr",
     "output_type": "stream",
     "text": [
      "11:26:24 INFO:target drift detect: True\n",
      "11:26:25 INFO:data set drift detected\n",
      "11:26:25 INFO:drift detected for state_cases.value\n",
      "11:26:25 INFO:drift_score : 3.560312529365879\n",
      "11:26:25 INFO:stattest_name : Wasserstein distance (normed)\n",
      "11:26:25 INFO:raw_feature_importance : 0.40522798895835876\n",
      "11:26:25 INFO:relative_feature_importance : 0.2022198736667633\n",
      "11:26:25 INFO:feature_importance_weighted_drift_score : 0.7199659499025626\n",
      "11:26:25 INFO:drift detected for state_deaths.value\n",
      "11:26:25 INFO:drift_score : 3.049951188069609\n",
      "11:26:25 INFO:stattest_name : Wasserstein distance (normed)\n",
      "11:26:25 INFO:raw_feature_importance : 0.11374913156032562\n",
      "11:26:25 INFO:relative_feature_importance : 0.05676393583416939\n",
      "11:26:25 INFO:feature_importance_weighted_drift_score : 0.17312723353693196\n",
      "11:26:25 INFO:drift detected for Product_Type.value\n",
      "11:26:25 INFO:drift_score : 0.39714332823383136\n",
      "11:26:25 INFO:stattest_name : Jensen-Shannon distance\n",
      "11:26:25 INFO:raw_feature_importance : 2.0038979053497314\n",
      "11:26:25 INFO:relative_feature_importance : 1.0\n",
      "11:26:25 INFO:feature_importance_weighted_drift_score : 0.39714332823383136\n",
      "11:26:26 INFO:Retraining model\n"
     ]
    },
    {
     "name": "stdout",
     "output_type": "stream",
     "text": [
      "(10524, 31)\n",
      "(10524,)\n",
      "Experiment week 71\n",
      "---------------------------------\n",
      "Experiment start date : 2020-06-29 00:00:00\n",
      "Experiment end_date : 2020-07-05 00:00:00\n"
     ]
    },
    {
     "name": "stderr",
     "output_type": "stream",
     "text": [
      "11:26:28 INFO:target drift detect: True\n",
      "11:26:29 INFO:data set drift detected\n",
      "11:26:29 INFO:drift detected for state_cases.value\n",
      "11:26:29 INFO:drift_score : 3.870678088323906\n",
      "11:26:29 INFO:stattest_name : Wasserstein distance (normed)\n",
      "11:26:29 INFO:raw_feature_importance : 0.38578087091445923\n",
      "11:26:29 INFO:relative_feature_importance : 0.18280573189258575\n",
      "11:26:29 INFO:feature_importance_weighted_drift_score : 0.7075821408566463\n",
      "11:26:29 INFO:drift detected for state_deaths.value\n",
      "11:26:29 INFO:drift_score : 2.8724466305266376\n",
      "11:26:29 INFO:stattest_name : Wasserstein distance (normed)\n",
      "11:26:29 INFO:raw_feature_importance : 0.09310607612133026\n",
      "11:26:29 INFO:relative_feature_importance : 0.04411914944648743\n",
      "11:26:29 INFO:feature_importance_weighted_drift_score : 0.12672990216926397\n",
      "11:26:29 INFO:drift detected for Product_Type.value\n",
      "11:26:29 INFO:drift_score : 0.3940001770343163\n",
      "11:26:29 INFO:stattest_name : Jensen-Shannon distance\n",
      "11:26:29 INFO:raw_feature_importance : 2.110332489013672\n",
      "11:26:29 INFO:relative_feature_importance : 1.0\n",
      "11:26:29 INFO:feature_importance_weighted_drift_score : 0.3940001770343163\n",
      "11:26:30 INFO:Retraining model\n"
     ]
    },
    {
     "name": "stdout",
     "output_type": "stream",
     "text": [
      "(10664, 31)\n",
      "(10664,)\n",
      "Experiment week 72\n",
      "---------------------------------\n",
      "Experiment start date : 2020-07-06 00:00:00\n",
      "Experiment end_date : 2020-07-12 00:00:00\n"
     ]
    },
    {
     "name": "stderr",
     "output_type": "stream",
     "text": [
      "11:26:31 INFO:target drift detect: True\n",
      "11:26:32 INFO:data set drift detected\n",
      "11:26:32 INFO:drift detected for state_cases.value\n",
      "11:26:32 INFO:drift_score : 4.10151657158617\n",
      "11:26:32 INFO:stattest_name : Wasserstein distance (normed)\n",
      "11:26:32 INFO:raw_feature_importance : 0.31476840376853943\n",
      "11:26:32 INFO:relative_feature_importance : 0.1488395631313324\n",
      "11:26:32 INFO:feature_importance_weighted_drift_score : 0.6104679346908057\n",
      "11:26:32 INFO:drift detected for Product_Type.value\n",
      "11:26:32 INFO:drift_score : 0.39093159420811546\n",
      "11:26:32 INFO:stattest_name : Jensen-Shannon distance\n",
      "11:26:32 INFO:raw_feature_importance : 2.114816665649414\n",
      "11:26:32 INFO:relative_feature_importance : 1.0\n",
      "11:26:32 INFO:feature_importance_weighted_drift_score : 0.39093159420811546\n",
      "11:26:33 INFO:Retraining model\n"
     ]
    },
    {
     "name": "stdout",
     "output_type": "stream",
     "text": [
      "(10804, 31)\n",
      "(10804,)\n",
      "Experiment week 73\n",
      "---------------------------------\n",
      "Experiment start date : 2020-07-13 00:00:00\n",
      "Experiment end_date : 2020-07-19 00:00:00\n"
     ]
    },
    {
     "name": "stderr",
     "output_type": "stream",
     "text": [
      "11:26:35 INFO:target drift detect: True\n",
      "11:26:36 INFO:data set drift detected\n",
      "11:26:36 INFO:drift detected for state_cases.value\n",
      "11:26:36 INFO:drift_score : 4.253624779804333\n",
      "11:26:36 INFO:stattest_name : Wasserstein distance (normed)\n",
      "11:26:36 INFO:raw_feature_importance : 0.10659253597259521\n",
      "11:26:36 INFO:relative_feature_importance : 0.039547767490148544\n",
      "11:26:36 INFO:feature_importance_weighted_drift_score : 0.1682213637820361\n",
      "11:26:36 INFO:drift detected for state_deaths.value\n",
      "11:26:36 INFO:drift_score : 2.722362300235844\n",
      "11:26:36 INFO:stattest_name : Wasserstein distance (normed)\n",
      "11:26:36 INFO:raw_feature_importance : 0.2140805572271347\n",
      "11:26:36 INFO:relative_feature_importance : 0.07942777872085571\n",
      "11:26:36 INFO:feature_importance_weighted_drift_score : 0.2162311903811324\n",
      "11:26:36 INFO:drift detected for Product_Type.value\n",
      "11:26:36 INFO:drift_score : 0.3879346334592443\n",
      "11:26:36 INFO:stattest_name : Jensen-Shannon distance\n",
      "11:26:36 INFO:raw_feature_importance : 2.6952857971191406\n",
      "11:26:36 INFO:relative_feature_importance : 1.0\n",
      "11:26:36 INFO:feature_importance_weighted_drift_score : 0.3879346334592443\n",
      "11:26:37 INFO:Retraining model\n"
     ]
    },
    {
     "name": "stdout",
     "output_type": "stream",
     "text": [
      "(10944, 31)\n",
      "(10944,)\n",
      "Experiment week 74\n",
      "---------------------------------\n",
      "Experiment start date : 2020-07-20 00:00:00\n",
      "Experiment end_date : 2020-07-26 00:00:00\n"
     ]
    },
    {
     "name": "stderr",
     "output_type": "stream",
     "text": [
      "11:26:39 INFO:target drift detect: True\n",
      "11:26:40 INFO:data set drift detected\n",
      "11:26:40 INFO:drift detected for state_cases.value\n",
      "11:26:40 INFO:drift_score : 4.168259752223653\n",
      "11:26:40 INFO:stattest_name : Wasserstein distance (normed)\n",
      "11:26:40 INFO:raw_feature_importance : 0.3595024049282074\n",
      "11:26:40 INFO:relative_feature_importance : 0.16112303733825684\n",
      "11:26:40 INFO:feature_importance_weighted_drift_score : 0.6716026716930849\n",
      "11:26:40 INFO:drift detected for state_deaths.value\n",
      "11:26:40 INFO:drift_score : 2.729890348997288\n",
      "11:26:40 INFO:stattest_name : Wasserstein distance (normed)\n",
      "11:26:40 INFO:raw_feature_importance : 0.3718280494213104\n",
      "11:26:40 INFO:relative_feature_importance : 0.16664718091487885\n",
      "11:26:40 INFO:feature_importance_weighted_drift_score : 0.4549285308671328\n",
      "11:26:40 INFO:drift detected for Product_Type.value\n",
      "11:26:40 INFO:drift_score : 0.38500651132567465\n",
      "11:26:40 INFO:stattest_name : Jensen-Shannon distance\n",
      "11:26:40 INFO:raw_feature_importance : 2.231229066848755\n",
      "11:26:40 INFO:relative_feature_importance : 1.0\n",
      "11:26:40 INFO:feature_importance_weighted_drift_score : 0.38500651132567465\n",
      "11:26:41 INFO:Retraining model\n"
     ]
    },
    {
     "name": "stdout",
     "output_type": "stream",
     "text": [
      "(11084, 31)\n",
      "(11084,)\n",
      "Experiment week 75\n",
      "---------------------------------\n",
      "Experiment start date : 2020-07-27 00:00:00\n",
      "Experiment end_date : 2020-08-02 00:00:00\n"
     ]
    },
    {
     "name": "stderr",
     "output_type": "stream",
     "text": [
      "11:26:42 INFO:target drift detect: True\n",
      "11:26:43 INFO:data set drift detected\n",
      "11:26:43 INFO:drift detected for state_cases.value\n",
      "11:26:43 INFO:drift_score : 3.956529551987357\n",
      "11:26:43 INFO:stattest_name : Wasserstein distance (normed)\n",
      "11:26:43 INFO:raw_feature_importance : 0.5293304324150085\n",
      "11:26:43 INFO:relative_feature_importance : 0.22591984272003174\n",
      "11:26:43 INFO:feature_importance_weighted_drift_score : 0.8938585341021413\n",
      "11:26:43 INFO:drift detected for state_deaths.value\n",
      "11:26:43 INFO:drift_score : 2.765764234932739\n",
      "11:26:44 INFO:stattest_name : Wasserstein distance (normed)\n",
      "11:26:44 INFO:raw_feature_importance : 0.09328734129667282\n",
      "11:26:44 INFO:relative_feature_importance : 0.03981532156467438\n",
      "11:26:44 INFO:feature_importance_weighted_drift_score : 0.11011979238592261\n",
      "11:26:44 INFO:drift detected for Product_Type.value\n",
      "11:26:44 INFO:drift_score : 0.38214459562298503\n",
      "11:26:44 INFO:stattest_name : Jensen-Shannon distance\n",
      "11:26:44 INFO:raw_feature_importance : 2.343001127243042\n",
      "11:26:44 INFO:relative_feature_importance : 1.0\n",
      "11:26:44 INFO:feature_importance_weighted_drift_score : 0.38214459562298503\n",
      "11:26:44 INFO:Retraining model\n"
     ]
    },
    {
     "name": "stdout",
     "output_type": "stream",
     "text": [
      "(11224, 31)\n",
      "(11224,)\n",
      "Experiment week 76\n",
      "---------------------------------\n",
      "Experiment start date : 2020-08-03 00:00:00\n",
      "Experiment end_date : 2020-08-09 00:00:00\n"
     ]
    },
    {
     "name": "stderr",
     "output_type": "stream",
     "text": [
      "11:26:48 INFO:target drift detect: True\n",
      "11:26:49 INFO:data set drift detected\n",
      "11:26:49 INFO:drift detected for state_cases.value\n",
      "11:26:49 INFO:drift_score : 3.650719716828573\n",
      "11:26:49 INFO:stattest_name : Wasserstein distance (normed)\n",
      "11:26:49 INFO:raw_feature_importance : 0.2581194341182709\n",
      "11:26:49 INFO:relative_feature_importance : 0.1070653647184372\n",
      "11:26:49 INFO:feature_importance_weighted_drift_score : 0.39086563796704094\n",
      "11:26:50 INFO:drift detected for state_deaths.value\n",
      "11:26:50 INFO:drift_score : 2.789658598686292\n",
      "11:26:50 INFO:stattest_name : Wasserstein distance (normed)\n",
      "11:26:50 INFO:raw_feature_importance : 0.5201802849769592\n",
      "11:26:50 INFO:relative_feature_importance : 0.2157655954360962\n",
      "11:26:50 INFO:feature_importance_weighted_drift_score : 0.6019123486089735\n",
      "11:26:50 INFO:drift detected for Product_Type.value\n",
      "11:26:50 INFO:drift_score : 0.3793463948886426\n",
      "11:26:50 INFO:stattest_name : Jensen-Shannon distance\n",
      "11:26:50 INFO:raw_feature_importance : 2.410858392715454\n",
      "11:26:50 INFO:relative_feature_importance : 1.0\n",
      "11:26:50 INFO:feature_importance_weighted_drift_score : 0.3793463948886426\n",
      "11:26:50 INFO:Retraining model\n"
     ]
    },
    {
     "name": "stdout",
     "output_type": "stream",
     "text": [
      "(11364, 31)\n",
      "(11364,)\n",
      "Experiment week 77\n",
      "---------------------------------\n",
      "Experiment start date : 2020-08-10 00:00:00\n",
      "Experiment end_date : 2020-08-16 00:00:00\n"
     ]
    },
    {
     "name": "stderr",
     "output_type": "stream",
     "text": [
      "11:26:52 INFO:target drift detect: True\n",
      "11:26:53 INFO:data set drift detected\n",
      "11:26:53 INFO:drift detected for state_cases.value\n",
      "11:26:53 INFO:drift_score : 3.3799684290056606\n",
      "11:26:53 INFO:stattest_name : Wasserstein distance (normed)\n",
      "11:26:53 INFO:raw_feature_importance : 0.14852099120616913\n",
      "11:26:53 INFO:relative_feature_importance : 0.06714899837970734\n",
      "11:26:53 INFO:feature_importance_weighted_drift_score : 0.22696149456276304\n",
      "11:26:53 INFO:drift detected for Product_Type.value\n",
      "11:26:53 INFO:drift_score : 0.3766095487247719\n",
      "11:26:53 INFO:stattest_name : Jensen-Shannon distance\n",
      "11:26:53 INFO:raw_feature_importance : 2.2118124961853027\n",
      "11:26:53 INFO:relative_feature_importance : 1.0\n",
      "11:26:53 INFO:feature_importance_weighted_drift_score : 0.3766095487247719\n",
      "11:26:54 INFO:Retraining model\n"
     ]
    },
    {
     "name": "stdout",
     "output_type": "stream",
     "text": [
      "(11504, 31)\n",
      "(11504,)\n",
      "Experiment week 78\n",
      "---------------------------------\n",
      "Experiment start date : 2020-08-17 00:00:00\n",
      "Experiment end_date : 2020-08-23 00:00:00\n"
     ]
    },
    {
     "name": "stderr",
     "output_type": "stream",
     "text": [
      "11:26:56 INFO:target drift detect: True\n",
      "11:26:56 INFO:data set drift detected\n",
      "11:26:57 INFO:drift detected for state_cases.value\n",
      "11:26:57 INFO:drift_score : 3.124572540778624\n",
      "11:26:57 INFO:stattest_name : Wasserstein distance (normed)\n",
      "11:26:57 INFO:raw_feature_importance : 0.24569153785705566\n",
      "11:26:57 INFO:relative_feature_importance : 0.10978168994188309\n",
      "11:26:57 INFO:feature_importance_weighted_drift_score : 0.3430208538726807\n",
      "11:26:57 INFO:drift detected for state_deaths.value\n",
      "11:26:57 INFO:drift_score : 2.763027798971128\n",
      "11:26:57 INFO:stattest_name : Wasserstein distance (normed)\n",
      "11:26:57 INFO:raw_feature_importance : 0.13883493840694427\n",
      "11:26:57 INFO:relative_feature_importance : 0.06203524023294449\n",
      "11:26:57 INFO:feature_importance_weighted_drift_score : 0.17140509327947778\n",
      "11:26:57 INFO:drift detected for Product_Type.value\n",
      "11:26:57 INFO:drift_score : 0.3739318189492627\n",
      "11:26:57 INFO:stattest_name : Jensen-Shannon distance\n",
      "11:26:57 INFO:raw_feature_importance : 2.2380011081695557\n",
      "11:26:57 INFO:relative_feature_importance : 1.0\n",
      "11:26:57 INFO:feature_importance_weighted_drift_score : 0.3739318189492627\n",
      "11:26:57 INFO:Retraining model\n"
     ]
    },
    {
     "name": "stdout",
     "output_type": "stream",
     "text": [
      "(11644, 31)\n",
      "(11644,)\n",
      "Experiment week 79\n",
      "---------------------------------\n",
      "Experiment start date : 2020-08-24 00:00:00\n",
      "Experiment end_date : 2020-08-30 00:00:00\n"
     ]
    },
    {
     "name": "stderr",
     "output_type": "stream",
     "text": [
      "11:27:01 INFO:target drift detect: True\n",
      "11:27:02 INFO:data set drift detected\n",
      "11:27:02 INFO:drift detected for state_cases.value\n",
      "11:27:02 INFO:drift_score : 2.907146516379698\n",
      "11:27:02 INFO:stattest_name : Wasserstein distance (normed)\n",
      "11:27:02 INFO:raw_feature_importance : 0.1644936501979828\n",
      "11:27:02 INFO:relative_feature_importance : 0.07774798572063446\n",
      "11:27:02 INFO:feature_importance_weighted_drift_score : 0.22602478584328098\n",
      "11:27:02 INFO:drift detected for Product_Type.value\n",
      "11:27:02 INFO:drift_score : 0.37131108147546366\n",
      "11:27:02 INFO:stattest_name : Jensen-Shannon distance\n",
      "11:27:02 INFO:raw_feature_importance : 2.1157288551330566\n",
      "11:27:02 INFO:relative_feature_importance : 1.0\n",
      "11:27:02 INFO:feature_importance_weighted_drift_score : 0.37131108147546366\n",
      "11:27:03 INFO:Retraining model\n"
     ]
    },
    {
     "name": "stdout",
     "output_type": "stream",
     "text": [
      "(11784, 31)\n",
      "(11784,)\n",
      "Experiment week 80\n",
      "---------------------------------\n",
      "Experiment start date : 2020-08-31 00:00:00\n",
      "Experiment end_date : 2020-09-06 00:00:00\n"
     ]
    },
    {
     "name": "stderr",
     "output_type": "stream",
     "text": [
      "11:27:04 INFO:target drift detect: True\n",
      "11:27:05 INFO:data set drift detected\n",
      "11:27:05 INFO:drift detected for state_cases.value\n",
      "11:27:05 INFO:drift_score : 2.7446858220518453\n",
      "11:27:05 INFO:stattest_name : Wasserstein distance (normed)\n",
      "11:27:05 INFO:raw_feature_importance : 0.26444506645202637\n",
      "11:27:05 INFO:relative_feature_importance : 0.14096355438232422\n",
      "11:27:05 INFO:feature_importance_weighted_drift_score : 0.38690066913919957\n",
      "11:27:05 INFO:drift detected for state_deaths.value\n",
      "11:27:05 INFO:drift_score : 2.6210033844666043\n",
      "11:27:05 INFO:stattest_name : Wasserstein distance (normed)\n",
      "11:27:05 INFO:raw_feature_importance : 0.2268466353416443\n",
      "11:27:05 INFO:relative_feature_importance : 0.1209215521812439\n",
      "11:27:05 INFO:feature_importance_weighted_drift_score : 0.31693579752199535\n",
      "11:27:06 INFO:drift detected for Product_Type.value\n",
      "11:27:06 INFO:drift_score : 0.3687453188497668\n",
      "11:27:06 INFO:stattest_name : Jensen-Shannon distance\n",
      "11:27:06 INFO:raw_feature_importance : 1.8759818077087402\n",
      "11:27:06 INFO:relative_feature_importance : 1.0\n",
      "11:27:06 INFO:feature_importance_weighted_drift_score : 0.3687453188497668\n",
      "11:27:06 INFO:Retraining model\n"
     ]
    },
    {
     "name": "stdout",
     "output_type": "stream",
     "text": [
      "(11924, 31)\n",
      "(11924,)\n",
      "Experiment week 81\n",
      "---------------------------------\n",
      "Experiment start date : 2020-09-07 00:00:00\n",
      "Experiment end_date : 2020-09-13 00:00:00\n"
     ]
    },
    {
     "name": "stderr",
     "output_type": "stream",
     "text": [
      "11:27:07 INFO:target drift detect: True\n",
      "11:27:08 INFO:data set drift detected\n",
      "11:27:08 INFO:drift detected for state_cases.value\n",
      "11:27:08 INFO:drift_score : 2.5968859898955854\n",
      "11:27:08 INFO:stattest_name : Wasserstein distance (normed)\n",
      "11:27:08 INFO:raw_feature_importance : 0.3141692280769348\n",
      "11:27:08 INFO:relative_feature_importance : 0.18073993921279907\n",
      "11:27:08 INFO:feature_importance_weighted_drift_score : 0.46936101595629764\n",
      "11:27:08 INFO:drift detected for state_deaths.value\n",
      "11:27:08 INFO:drift_score : 2.538321727516296\n",
      "11:27:08 INFO:stattest_name : Wasserstein distance (normed)\n",
      "11:27:08 INFO:raw_feature_importance : 0.18557043373584747\n",
      "11:27:08 INFO:relative_feature_importance : 0.10675771534442902\n",
      "11:27:08 INFO:feature_importance_weighted_drift_score : 0.27098542843876405\n",
      "11:27:08 INFO:drift detected for Product_Type.value\n",
      "11:27:08 INFO:drift_score : 0.36623261338426377\n",
      "11:27:08 INFO:stattest_name : Jensen-Shannon distance\n",
      "11:27:08 INFO:raw_feature_importance : 1.738239049911499\n",
      "11:27:08 INFO:relative_feature_importance : 1.0\n",
      "11:27:08 INFO:feature_importance_weighted_drift_score : 0.36623261338426377\n",
      "11:27:09 INFO:Retraining model\n"
     ]
    },
    {
     "name": "stdout",
     "output_type": "stream",
     "text": [
      "(12064, 31)\n",
      "(12064,)\n",
      "Experiment week 82\n",
      "---------------------------------\n",
      "Experiment start date : 2020-09-14 00:00:00\n",
      "Experiment end_date : 2020-09-20 00:00:00\n"
     ]
    },
    {
     "name": "stderr",
     "output_type": "stream",
     "text": [
      "11:27:10 INFO:target drift detect: True\n",
      "11:27:11 INFO:data set drift detected\n",
      "11:27:11 INFO:drift detected for state_cases.value\n",
      "11:27:11 INFO:drift_score : 2.477446814616341\n",
      "11:27:11 INFO:stattest_name : Wasserstein distance (normed)\n",
      "11:27:11 INFO:raw_feature_importance : 0.49998584389686584\n",
      "11:27:11 INFO:relative_feature_importance : 0.2646099925041199\n",
      "11:27:11 INFO:feature_importance_weighted_drift_score : 0.6555571830449857\n",
      "11:27:11 INFO:drift detected for state_deaths.value\n",
      "11:27:11 INFO:drift_score : 2.473295964908228\n",
      "11:27:11 INFO:stattest_name : Wasserstein distance (normed)\n",
      "11:27:11 INFO:raw_feature_importance : 0.08179820328950882\n",
      "11:27:11 INFO:relative_feature_importance : 0.04329046979546547\n",
      "11:27:11 INFO:feature_importance_weighted_drift_score : 0.10707014426410626\n",
      "11:27:12 INFO:drift detected for Product_Type.value\n",
      "11:27:12 INFO:drift_score : 0.36377114082856743\n",
      "11:27:12 INFO:stattest_name : Jensen-Shannon distance\n",
      "11:27:12 INFO:raw_feature_importance : 1.8895198106765747\n",
      "11:27:12 INFO:relative_feature_importance : 1.0\n",
      "11:27:12 INFO:feature_importance_weighted_drift_score : 0.36377114082856743\n",
      "11:27:12 INFO:Retraining model\n"
     ]
    },
    {
     "name": "stdout",
     "output_type": "stream",
     "text": [
      "(12204, 31)\n",
      "(12204,)\n",
      "Experiment week 83\n",
      "---------------------------------\n",
      "Experiment start date : 2020-09-21 00:00:00\n",
      "Experiment end_date : 2020-09-27 00:00:00\n"
     ]
    },
    {
     "name": "stderr",
     "output_type": "stream",
     "text": [
      "11:27:14 INFO:target drift detect: True\n",
      "11:27:15 INFO:data set drift detected\n",
      "11:27:15 INFO:drift detected for state_cases.value\n",
      "11:27:15 INFO:drift_score : 2.381029561751756\n",
      "11:27:15 INFO:stattest_name : Wasserstein distance (normed)\n",
      "11:27:15 INFO:raw_feature_importance : 0.3957287073135376\n",
      "11:27:15 INFO:relative_feature_importance : 0.21787194907665253\n",
      "11:27:15 INFO:feature_importance_weighted_drift_score : 0.5187595514279829\n",
      "11:27:15 INFO:drift detected for state_deaths.value\n",
      "11:27:15 INFO:drift_score : 2.4062165501172137\n",
      "11:27:15 INFO:stattest_name : Wasserstein distance (normed)\n",
      "11:27:15 INFO:raw_feature_importance : 0.20993058383464813\n",
      "11:27:15 INFO:relative_feature_importance : 0.11557915061712265\n",
      "11:27:15 INFO:feature_importance_weighted_drift_score : 0.2781084650634107\n",
      "11:27:15 INFO:drift detected for Product_Type.value\n",
      "11:27:15 INFO:drift_score : 0.36135916453091355\n",
      "11:27:15 INFO:stattest_name : Jensen-Shannon distance\n",
      "11:27:15 INFO:raw_feature_importance : 1.8163361549377441\n",
      "11:27:15 INFO:relative_feature_importance : 1.0\n",
      "11:27:15 INFO:feature_importance_weighted_drift_score : 0.36135916453091355\n",
      "11:27:16 INFO:Retraining model\n"
     ]
    },
    {
     "name": "stdout",
     "output_type": "stream",
     "text": [
      "(12344, 31)\n",
      "(12344,)\n",
      "Experiment week 84\n",
      "---------------------------------\n",
      "Experiment start date : 2020-09-28 00:00:00\n",
      "Experiment end_date : 2020-10-04 00:00:00\n"
     ]
    },
    {
     "name": "stderr",
     "output_type": "stream",
     "text": [
      "11:27:18 INFO:target drift detect: True\n",
      "11:27:18 INFO:data set drift detected\n",
      "11:27:19 INFO:drift detected for state_cases.value\n",
      "11:27:19 INFO:drift_score : 2.2970876742604203\n",
      "11:27:19 INFO:stattest_name : Wasserstein distance (normed)\n",
      "11:27:19 INFO:raw_feature_importance : 0.16220787167549133\n",
      "11:27:19 INFO:relative_feature_importance : 0.09193377941846848\n",
      "11:27:19 INFO:feature_importance_weighted_drift_score : 0.21117995155034025\n",
      "11:27:19 INFO:drift detected for state_deaths.value\n",
      "11:27:19 INFO:drift_score : 2.3417850984028328\n",
      "11:27:19 INFO:stattest_name : Wasserstein distance (normed)\n",
      "11:27:19 INFO:raw_feature_importance : 0.07846782356500626\n",
      "11:27:19 INFO:relative_feature_importance : 0.0444728322327137\n",
      "11:27:19 INFO:feature_importance_weighted_drift_score : 0.10414581580633812\n",
      "11:27:19 INFO:drift detected for Product_Type.value\n",
      "11:27:19 INFO:drift_score : 0.3589950300439789\n",
      "11:27:19 INFO:stattest_name : Jensen-Shannon distance\n",
      "11:27:19 INFO:raw_feature_importance : 1.7643990516662598\n",
      "11:27:19 INFO:relative_feature_importance : 1.0\n",
      "11:27:19 INFO:feature_importance_weighted_drift_score : 0.3589950300439789\n",
      "11:27:19 INFO:Retraining model\n"
     ]
    },
    {
     "name": "stdout",
     "output_type": "stream",
     "text": [
      "(12484, 31)\n",
      "(12484,)\n",
      "Experiment week 85\n",
      "---------------------------------\n",
      "Experiment start date : 2020-10-05 00:00:00\n",
      "Experiment end_date : 2020-10-11 00:00:00\n"
     ]
    },
    {
     "name": "stderr",
     "output_type": "stream",
     "text": [
      "11:27:21 INFO:target drift detect: True\n",
      "11:27:21 INFO:data set drift detected\n",
      "11:27:22 INFO:drift detected for state_cases.value\n",
      "11:27:22 INFO:drift_score : 2.231271494963795\n",
      "11:27:22 INFO:stattest_name : Wasserstein distance (normed)\n",
      "11:27:22 INFO:raw_feature_importance : 0.39631199836730957\n",
      "11:27:22 INFO:relative_feature_importance : 0.2217966765165329\n",
      "11:27:22 INFO:feature_importance_weighted_drift_score : 0.49488860198904555\n",
      "11:27:22 INFO:drift detected for Product_Type.value\n",
      "11:27:22 INFO:drift_score : 0.35667716013551404\n",
      "11:27:22 INFO:stattest_name : Jensen-Shannon distance\n",
      "11:27:22 INFO:raw_feature_importance : 1.7868256568908691\n",
      "11:27:22 INFO:relative_feature_importance : 1.0\n",
      "11:27:22 INFO:feature_importance_weighted_drift_score : 0.35667716013551404\n",
      "11:27:22 INFO:drift detected for is_warehouse_closed.value\n",
      "11:27:22 INFO:drift_score : 0.8138717287275922\n",
      "11:27:22 INFO:stattest_name : Jensen-Shannon distance\n",
      "11:27:22 INFO:raw_feature_importance : 0.3737929165363312\n",
      "11:27:22 INFO:relative_feature_importance : 0.20919384062290192\n",
      "11:27:22 INFO:feature_importance_weighted_drift_score : 0.1702569527069256\n",
      "11:27:22 INFO:Retraining model\n"
     ]
    },
    {
     "name": "stdout",
     "output_type": "stream",
     "text": [
      "(12624, 31)\n",
      "(12624,)\n",
      "Experiment week 86\n",
      "---------------------------------\n",
      "Experiment start date : 2020-10-12 00:00:00\n",
      "Experiment end_date : 2020-10-18 00:00:00\n"
     ]
    },
    {
     "name": "stderr",
     "output_type": "stream",
     "text": [
      "11:27:24 INFO:target drift detect: True\n",
      "11:27:25 INFO:data set drift detected\n",
      "11:27:25 INFO:drift detected for state_cases.value\n",
      "11:27:25 INFO:drift_score : 2.196740551303242\n",
      "11:27:25 INFO:stattest_name : Wasserstein distance (normed)\n",
      "11:27:25 INFO:raw_feature_importance : 0.3049793243408203\n",
      "11:27:25 INFO:relative_feature_importance : 0.19811764359474182\n",
      "11:27:25 INFO:feature_importance_weighted_drift_score : 0.4352130616132123\n",
      "11:27:25 INFO:drift detected for state_deaths.value\n",
      "11:27:25 INFO:drift_score : 2.2356854799891472\n",
      "11:27:25 INFO:stattest_name : Wasserstein distance (normed)\n",
      "11:27:25 INFO:raw_feature_importance : 0.07346110790967941\n",
      "11:27:25 INFO:relative_feature_importance : 0.047721076756715775\n",
      "11:27:25 INFO:feature_importance_weighted_drift_score : 0.10668931839443704\n",
      "11:27:25 INFO:drift detected for Product_Type.value\n",
      "11:27:25 INFO:drift_score : 0.3544040501679968\n",
      "11:27:25 INFO:stattest_name : Jensen-Shannon distance\n",
      "11:27:25 INFO:raw_feature_importance : 1.5393849611282349\n",
      "11:27:25 INFO:relative_feature_importance : 1.0\n",
      "11:27:25 INFO:feature_importance_weighted_drift_score : 0.3544040501679968\n",
      "11:27:25 INFO:drift detected for is_warehouse_closed.value\n",
      "11:27:25 INFO:drift_score : 0.8325546111576977\n",
      "11:27:25 INFO:stattest_name : Jensen-Shannon distance\n",
      "11:27:25 INFO:raw_feature_importance : 0.2313889116048813\n",
      "11:27:25 INFO:relative_feature_importance : 0.15031257271766663\n",
      "11:27:25 INFO:feature_importance_weighted_drift_score : 0.1251434255310701\n",
      "11:27:26 INFO:Retraining model\n"
     ]
    },
    {
     "name": "stdout",
     "output_type": "stream",
     "text": [
      "(12764, 31)\n",
      "(12764,)\n",
      "Experiment week 87\n",
      "---------------------------------\n",
      "Experiment start date : 2020-10-19 00:00:00\n",
      "Experiment end_date : 2020-10-25 00:00:00\n"
     ]
    },
    {
     "name": "stderr",
     "output_type": "stream",
     "text": [
      "11:27:27 INFO:target drift detect: True\n",
      "11:27:27 INFO:data set drift detected\n",
      "11:27:28 INFO:drift detected for state_cases.value\n",
      "11:27:28 INFO:drift_score : 2.1884196253837005\n",
      "11:27:28 INFO:stattest_name : Wasserstein distance (normed)\n",
      "11:27:28 INFO:raw_feature_importance : 0.2918088436126709\n",
      "11:27:28 INFO:relative_feature_importance : 0.22681094706058502\n",
      "11:27:28 INFO:feature_importance_weighted_drift_score : 0.4963575277992478\n",
      "11:27:28 INFO:drift detected for state_deaths.value\n",
      "11:27:28 INFO:drift_score : 2.185161258988501\n",
      "11:27:28 INFO:stattest_name : Wasserstein distance (normed)\n",
      "11:27:28 INFO:raw_feature_importance : 0.0718553438782692\n",
      "11:27:28 INFO:relative_feature_importance : 0.055850185453891754\n",
      "11:27:28 INFO:feature_importance_weighted_drift_score : 0.12204166156116739\n",
      "11:27:28 INFO:drift detected for Product_Type.value\n",
      "11:27:28 INFO:drift_score : 0.35217426381516637\n",
      "11:27:28 INFO:stattest_name : Jensen-Shannon distance\n",
      "11:27:28 INFO:raw_feature_importance : 1.286573052406311\n",
      "11:27:28 INFO:relative_feature_importance : 1.0\n",
      "11:27:28 INFO:feature_importance_weighted_drift_score : 0.35217426381516637\n",
      "11:27:28 INFO:drift detected for is_warehouse_closed.value\n",
      "11:27:28 INFO:drift_score : 0.8142243094404829\n",
      "11:27:28 INFO:stattest_name : Jensen-Shannon distance\n",
      "11:27:28 INFO:raw_feature_importance : 0.28129124641418457\n",
      "11:27:28 INFO:relative_feature_importance : 0.21863605082035065\n",
      "11:27:28 INFO:feature_importance_weighted_drift_score : 0.17801878749799432\n",
      "11:27:28 INFO:Retraining model\n"
     ]
    },
    {
     "name": "stdout",
     "output_type": "stream",
     "text": [
      "(12904, 31)\n",
      "(12904,)\n",
      "Experiment week 88\n",
      "---------------------------------\n",
      "Experiment start date : 2020-10-26 00:00:00\n",
      "Experiment end_date : 2020-11-01 00:00:00\n"
     ]
    },
    {
     "name": "stderr",
     "output_type": "stream",
     "text": [
      "11:27:30 INFO:target drift detect: True\n",
      "11:27:30 INFO:data set drift detected\n",
      "11:27:31 INFO:drift detected for state_cases.value\n",
      "11:27:31 INFO:drift_score : 2.209644775838894\n",
      "11:27:31 INFO:stattest_name : Wasserstein distance (normed)\n",
      "11:27:31 INFO:raw_feature_importance : 0.3180224597454071\n",
      "11:27:31 INFO:relative_feature_importance : 0.1775600165128708\n",
      "11:27:31 INFO:feature_importance_weighted_drift_score : 0.3923445628855327\n",
      "11:27:31 INFO:drift detected for state_deaths.value\n",
      "11:27:31 INFO:drift_score : 2.129735672228421\n",
      "11:27:31 INFO:stattest_name : Wasserstein distance (normed)\n",
      "11:27:31 INFO:raw_feature_importance : 0.14335769414901733\n",
      "11:27:31 INFO:relative_feature_importance : 0.08004023879766464\n",
      "11:27:31 INFO:feature_importance_weighted_drift_score : 0.17046455178106765\n",
      "11:27:31 INFO:drift detected for Product_Type.value\n",
      "11:27:31 INFO:drift_score : 0.3499864290865\n",
      "11:27:31 INFO:stattest_name : Jensen-Shannon distance\n",
      "11:27:31 INFO:raw_feature_importance : 1.7910702228546143\n",
      "11:27:31 INFO:relative_feature_importance : 1.0\n",
      "11:27:31 INFO:feature_importance_weighted_drift_score : 0.3499864290865\n",
      "11:27:31 INFO:drift detected for is_warehouse_closed.value\n",
      "11:27:31 INFO:drift_score : 0.8325546111576978\n",
      "11:27:31 INFO:stattest_name : Jensen-Shannon distance\n",
      "11:27:31 INFO:raw_feature_importance : 0.2645847797393799\n",
      "11:27:31 INFO:relative_feature_importance : 0.14772440493106842\n",
      "11:27:31 INFO:feature_importance_weighted_drift_score : 0.12298863450588797\n",
      "11:27:31 INFO:Retraining model\n"
     ]
    },
    {
     "name": "stdout",
     "output_type": "stream",
     "text": [
      "(13044, 31)\n",
      "(13044,)\n",
      "Experiment week 89\n",
      "---------------------------------\n",
      "Experiment start date : 2020-11-02 00:00:00\n",
      "Experiment end_date : 2020-11-08 00:00:00\n"
     ]
    },
    {
     "name": "stderr",
     "output_type": "stream",
     "text": [
      "11:27:34 INFO:target drift detect: True\n",
      "11:27:35 INFO:data set drift detected\n",
      "11:27:35 INFO:drift detected for state_cases.value\n",
      "11:27:35 INFO:drift_score : 2.2691057205931338\n",
      "11:27:35 INFO:stattest_name : Wasserstein distance (normed)\n",
      "11:27:35 INFO:raw_feature_importance : 0.47404026985168457\n",
      "11:27:35 INFO:relative_feature_importance : 0.22392073273658752\n",
      "11:27:35 INFO:feature_importance_weighted_drift_score : 0.5080998156119969\n",
      "11:27:35 INFO:drift detected for state_deaths.value\n",
      "11:27:35 INFO:drift_score : 2.0887491932285354\n",
      "11:27:35 INFO:stattest_name : Wasserstein distance (normed)\n",
      "11:27:35 INFO:raw_feature_importance : 0.1438775211572647\n",
      "11:27:35 INFO:relative_feature_importance : 0.06796291470527649\n",
      "11:27:35 INFO:feature_importance_weighted_drift_score : 0.14195748326010602\n",
      "11:27:35 INFO:drift detected for Product_Type.value\n",
      "11:27:35 INFO:drift_score : 0.3478392346335639\n",
      "11:27:35 INFO:stattest_name : Jensen-Shannon distance\n",
      "11:27:35 INFO:raw_feature_importance : 2.1170003414154053\n",
      "11:27:35 INFO:relative_feature_importance : 1.0\n",
      "11:27:35 INFO:feature_importance_weighted_drift_score : 0.3478392346335639\n",
      "11:27:35 INFO:drift detected for is_warehouse_closed.value\n",
      "11:27:35 INFO:drift_score : 0.8145357185616025\n",
      "11:27:35 INFO:stattest_name : Jensen-Shannon distance\n",
      "11:27:35 INFO:raw_feature_importance : 0.26737654209136963\n",
      "11:27:36 INFO:relative_feature_importance : 0.12629970908164978\n",
      "11:27:36 INFO:feature_importance_weighted_drift_score : 0.10287562429094295\n",
      "11:27:36 INFO:Retraining model\n"
     ]
    },
    {
     "name": "stdout",
     "output_type": "stream",
     "text": [
      "(13184, 31)\n",
      "(13184,)\n",
      "Experiment week 90\n",
      "---------------------------------\n",
      "Experiment start date : 2020-11-09 00:00:00\n",
      "Experiment end_date : 2020-11-15 00:00:00\n"
     ]
    },
    {
     "name": "stderr",
     "output_type": "stream",
     "text": [
      "11:27:37 INFO:target drift detect: True\n",
      "11:27:38 INFO:data set drift detected\n",
      "11:27:38 INFO:drift detected for state_cases.value\n",
      "11:27:38 INFO:drift_score : 2.3698025036032675\n",
      "11:27:38 INFO:stattest_name : Wasserstein distance (normed)\n",
      "11:27:38 INFO:raw_feature_importance : 0.5278695225715637\n",
      "11:27:38 INFO:relative_feature_importance : 0.2788601815700531\n",
      "11:27:38 INFO:feature_importance_weighted_drift_score : 0.6608435564399736\n",
      "11:27:38 INFO:drift detected for state_deaths.value\n",
      "11:27:38 INFO:drift_score : 2.0768341639076144\n",
      "11:27:38 INFO:stattest_name : Wasserstein distance (normed)\n",
      "11:27:38 INFO:raw_feature_importance : 0.13175906240940094\n",
      "11:27:38 INFO:relative_feature_importance : 0.06960499286651611\n",
      "11:27:38 INFO:feature_importance_weighted_drift_score : 0.14455802716372645\n",
      "11:27:38 INFO:drift detected for Product_Type.value\n",
      "11:27:38 INFO:drift_score : 0.34574006448587846\n",
      "11:27:38 INFO:stattest_name : Jensen-Shannon distance\n",
      "11:27:38 INFO:raw_feature_importance : 1.8929541110992432\n",
      "11:27:38 INFO:relative_feature_importance : 1.0\n",
      "11:27:38 INFO:feature_importance_weighted_drift_score : 0.34574006448587846\n",
      "11:27:39 INFO:Retraining model\n"
     ]
    },
    {
     "name": "stdout",
     "output_type": "stream",
     "text": [
      "(13315, 31)\n",
      "(13315,)\n"
     ]
    }
   ],
   "source": [
    "preds = simulate_model(simulate_df, experiment_name='monthly_ml_monitoring', run_name=str(int(time.mktime(datetime.now().timetuple()))))"
   ]
  },
  {
   "cell_type": "markdown",
   "id": "ed27f370",
   "metadata": {},
   "source": [
    "### Drift detection graphs"
   ]
  },
  {
   "cell_type": "code",
   "execution_count": 75,
   "id": "98d58f44",
   "metadata": {},
   "outputs": [],
   "source": [
    "expirement_results = mlflow.search_runs(experiment_names=['monthly_ml_monitoring'])"
   ]
  },
  {
   "cell_type": "code",
   "execution_count": 77,
   "id": "73898a73",
   "metadata": {},
   "outputs": [],
   "source": [
    "expirement_results.set_index('params.week_end_experiment_end_date',inplace=True)\n",
    "expirement_results.sort_index(ascending=True,inplace=True)"
   ]
  },
  {
   "cell_type": "code",
   "execution_count": 78,
   "id": "77f027a9",
   "metadata": {},
   "outputs": [
    {
     "data": {
      "text/html": [
       "<div>\n",
       "<style scoped>\n",
       "    .dataframe tbody tr th:only-of-type {\n",
       "        vertical-align: middle;\n",
       "    }\n",
       "\n",
       "    .dataframe tbody tr th {\n",
       "        vertical-align: top;\n",
       "    }\n",
       "\n",
       "    .dataframe thead th {\n",
       "        text-align: right;\n",
       "    }\n",
       "</style>\n",
       "<table border=\"1\" class=\"dataframe\">\n",
       "  <thead>\n",
       "    <tr style=\"text-align: right;\">\n",
       "      <th></th>\n",
       "      <th>run_id</th>\n",
       "      <th>experiment_id</th>\n",
       "      <th>status</th>\n",
       "      <th>artifact_uri</th>\n",
       "      <th>start_time</th>\n",
       "      <th>end_time</th>\n",
       "      <th>metrics.weekly_mae</th>\n",
       "      <th>metrics.weekly_mse</th>\n",
       "      <th>metrics.weekly_rmse</th>\n",
       "      <th>metrics.weekly_mape</th>\n",
       "      <th>...</th>\n",
       "      <th>params.state.value_drift_score</th>\n",
       "      <th>params.Product_Type.value_relative_feature_importance</th>\n",
       "      <th>params.state_cases.value_drift_score</th>\n",
       "      <th>params.state_deaths.value_relative_feature_importance</th>\n",
       "      <th>params.state.value_feature_importance_weighted_drift_score</th>\n",
       "      <th>params.state_cases.value_relative_feature_importance</th>\n",
       "      <th>tags.mlflow.user</th>\n",
       "      <th>tags.mlflow.source.type</th>\n",
       "      <th>tags.mlflow.source.name</th>\n",
       "      <th>tags.mlflow.runName</th>\n",
       "    </tr>\n",
       "    <tr>\n",
       "      <th>params.week_end_experiment_end_date</th>\n",
       "      <th></th>\n",
       "      <th></th>\n",
       "      <th></th>\n",
       "      <th></th>\n",
       "      <th></th>\n",
       "      <th></th>\n",
       "      <th></th>\n",
       "      <th></th>\n",
       "      <th></th>\n",
       "      <th></th>\n",
       "      <th></th>\n",
       "      <th></th>\n",
       "      <th></th>\n",
       "      <th></th>\n",
       "      <th></th>\n",
       "      <th></th>\n",
       "      <th></th>\n",
       "      <th></th>\n",
       "      <th></th>\n",
       "      <th></th>\n",
       "      <th></th>\n",
       "    </tr>\n",
       "  </thead>\n",
       "  <tbody>\n",
       "    <tr>\n",
       "      <th>2019-03-03 00:00:00</th>\n",
       "      <td>ad0cc11d1cf3489f992fdf2b45ba7fcd</td>\n",
       "      <td>3</td>\n",
       "      <td>FINISHED</td>\n",
       "      <td>file:///C:/Users/shree/projects/ML_Monitoring/...</td>\n",
       "      <td>2022-07-14 05:52:59.596000+00:00</td>\n",
       "      <td>2022-07-14 05:53:00.267000+00:00</td>\n",
       "      <td>0.624194</td>\n",
       "      <td>0.578857</td>\n",
       "      <td>0.760827</td>\n",
       "      <td>1.162311e-01</td>\n",
       "      <td>...</td>\n",
       "      <td>None</td>\n",
       "      <td>None</td>\n",
       "      <td>None</td>\n",
       "      <td>None</td>\n",
       "      <td>None</td>\n",
       "      <td>None</td>\n",
       "      <td>shree</td>\n",
       "      <td>LOCAL</td>\n",
       "      <td>d:\\anaconda\\envs\\anaconda_env\\lib\\site-package...</td>\n",
       "      <td>1657777979</td>\n",
       "    </tr>\n",
       "    <tr>\n",
       "      <th>2019-03-10 00:00:00</th>\n",
       "      <td>5ba1b47c0752484e94040409072babf4</td>\n",
       "      <td>3</td>\n",
       "      <td>FINISHED</td>\n",
       "      <td>file:///C:/Users/shree/projects/ML_Monitoring/...</td>\n",
       "      <td>2022-07-14 05:53:00.306000+00:00</td>\n",
       "      <td>2022-07-14 05:53:02.800000+00:00</td>\n",
       "      <td>0.796085</td>\n",
       "      <td>1.046402</td>\n",
       "      <td>1.022938</td>\n",
       "      <td>1.344980e-01</td>\n",
       "      <td>...</td>\n",
       "      <td>0.8325546111576977</td>\n",
       "      <td>1.0</td>\n",
       "      <td>0.0</td>\n",
       "      <td>0.0</td>\n",
       "      <td>0.0</td>\n",
       "      <td>0.0</td>\n",
       "      <td>shree</td>\n",
       "      <td>LOCAL</td>\n",
       "      <td>d:\\anaconda\\envs\\anaconda_env\\lib\\site-package...</td>\n",
       "      <td>1657777979</td>\n",
       "    </tr>\n",
       "    <tr>\n",
       "      <th>2019-03-17 00:00:00</th>\n",
       "      <td>2c31c75c90714935b67965efc25fe3c3</td>\n",
       "      <td>3</td>\n",
       "      <td>FINISHED</td>\n",
       "      <td>file:///C:/Users/shree/projects/ML_Monitoring/...</td>\n",
       "      <td>2022-07-14 05:53:02.840000+00:00</td>\n",
       "      <td>2022-07-14 05:53:05.173000+00:00</td>\n",
       "      <td>0.840071</td>\n",
       "      <td>1.151997</td>\n",
       "      <td>1.073311</td>\n",
       "      <td>1.451302e-01</td>\n",
       "      <td>...</td>\n",
       "      <td>0.8060545427663132</td>\n",
       "      <td>1.0</td>\n",
       "      <td>0.0</td>\n",
       "      <td>0.0</td>\n",
       "      <td>0.0</td>\n",
       "      <td>0.0</td>\n",
       "      <td>shree</td>\n",
       "      <td>LOCAL</td>\n",
       "      <td>d:\\anaconda\\envs\\anaconda_env\\lib\\site-package...</td>\n",
       "      <td>1657777979</td>\n",
       "    </tr>\n",
       "    <tr>\n",
       "      <th>2019-03-24 00:00:00</th>\n",
       "      <td>b938b4fd97c1476fb6c04238c83de543</td>\n",
       "      <td>3</td>\n",
       "      <td>FINISHED</td>\n",
       "      <td>file:///C:/Users/shree/projects/ML_Monitoring/...</td>\n",
       "      <td>2022-07-14 05:53:05.214000+00:00</td>\n",
       "      <td>2022-07-14 05:53:07.294000+00:00</td>\n",
       "      <td>0.911516</td>\n",
       "      <td>1.390461</td>\n",
       "      <td>1.179178</td>\n",
       "      <td>1.487099e-01</td>\n",
       "      <td>...</td>\n",
       "      <td>0.7867637942388347</td>\n",
       "      <td>1.0</td>\n",
       "      <td>0.0</td>\n",
       "      <td>0.0</td>\n",
       "      <td>0.0</td>\n",
       "      <td>0.0</td>\n",
       "      <td>shree</td>\n",
       "      <td>LOCAL</td>\n",
       "      <td>d:\\anaconda\\envs\\anaconda_env\\lib\\site-package...</td>\n",
       "      <td>1657777979</td>\n",
       "    </tr>\n",
       "    <tr>\n",
       "      <th>2019-03-31 00:00:00</th>\n",
       "      <td>e2e3625602c441deb4ad10fe31f780d1</td>\n",
       "      <td>3</td>\n",
       "      <td>FINISHED</td>\n",
       "      <td>file:///C:/Users/shree/projects/ML_Monitoring/...</td>\n",
       "      <td>2022-07-14 05:53:07.333000+00:00</td>\n",
       "      <td>2022-07-14 05:53:10.061000+00:00</td>\n",
       "      <td>0.754504</td>\n",
       "      <td>1.135950</td>\n",
       "      <td>1.065810</td>\n",
       "      <td>1.229435e-01</td>\n",
       "      <td>...</td>\n",
       "      <td>0.7702046767484585</td>\n",
       "      <td>1.0</td>\n",
       "      <td>0.0</td>\n",
       "      <td>0.0</td>\n",
       "      <td>0.0</td>\n",
       "      <td>0.0</td>\n",
       "      <td>shree</td>\n",
       "      <td>LOCAL</td>\n",
       "      <td>d:\\anaconda\\envs\\anaconda_env\\lib\\site-package...</td>\n",
       "      <td>1657777979</td>\n",
       "    </tr>\n",
       "    <tr>\n",
       "      <th>...</th>\n",
       "      <td>...</td>\n",
       "      <td>...</td>\n",
       "      <td>...</td>\n",
       "      <td>...</td>\n",
       "      <td>...</td>\n",
       "      <td>...</td>\n",
       "      <td>...</td>\n",
       "      <td>...</td>\n",
       "      <td>...</td>\n",
       "      <td>...</td>\n",
       "      <td>...</td>\n",
       "      <td>...</td>\n",
       "      <td>...</td>\n",
       "      <td>...</td>\n",
       "      <td>...</td>\n",
       "      <td>...</td>\n",
       "      <td>...</td>\n",
       "      <td>...</td>\n",
       "      <td>...</td>\n",
       "      <td>...</td>\n",
       "      <td>...</td>\n",
       "    </tr>\n",
       "    <tr>\n",
       "      <th>2020-10-18 00:00:00</th>\n",
       "      <td>3452edd5be0c476ea1c5da7b3e2eba01</td>\n",
       "      <td>3</td>\n",
       "      <td>FINISHED</td>\n",
       "      <td>file:///C:/Users/shree/projects/ML_Monitoring/...</td>\n",
       "      <td>2022-07-14 05:57:24.171000+00:00</td>\n",
       "      <td>2022-07-14 05:57:26.759000+00:00</td>\n",
       "      <td>1.720055</td>\n",
       "      <td>5.615238</td>\n",
       "      <td>2.369649</td>\n",
       "      <td>2.391764e+14</td>\n",
       "      <td>...</td>\n",
       "      <td>0.6249851696957709</td>\n",
       "      <td>1.0</td>\n",
       "      <td>2.196740551303242</td>\n",
       "      <td>0.047721076756715775</td>\n",
       "      <td>0.005008001371070647</td>\n",
       "      <td>0.19811764359474182</td>\n",
       "      <td>shree</td>\n",
       "      <td>LOCAL</td>\n",
       "      <td>d:\\anaconda\\envs\\anaconda_env\\lib\\site-package...</td>\n",
       "      <td>1657777979</td>\n",
       "    </tr>\n",
       "    <tr>\n",
       "      <th>2020-10-25 00:00:00</th>\n",
       "      <td>762b4bf7261f45ac98617d4a600e6581</td>\n",
       "      <td>3</td>\n",
       "      <td>FINISHED</td>\n",
       "      <td>file:///C:/Users/shree/projects/ML_Monitoring/...</td>\n",
       "      <td>2022-07-14 05:57:26.803000+00:00</td>\n",
       "      <td>2022-07-14 05:57:29.816000+00:00</td>\n",
       "      <td>1.508034</td>\n",
       "      <td>4.106824</td>\n",
       "      <td>2.026530</td>\n",
       "      <td>6.010202e+13</td>\n",
       "      <td>...</td>\n",
       "      <td>0.6193404609592438</td>\n",
       "      <td>1.0</td>\n",
       "      <td>2.1884196253837005</td>\n",
       "      <td>0.055850185453891754</td>\n",
       "      <td>0.00656891885948145</td>\n",
       "      <td>0.22681094706058502</td>\n",
       "      <td>shree</td>\n",
       "      <td>LOCAL</td>\n",
       "      <td>d:\\anaconda\\envs\\anaconda_env\\lib\\site-package...</td>\n",
       "      <td>1657777979</td>\n",
       "    </tr>\n",
       "    <tr>\n",
       "      <th>2020-11-01 00:00:00</th>\n",
       "      <td>9546a7ea040a4099917cf69320008c66</td>\n",
       "      <td>3</td>\n",
       "      <td>FINISHED</td>\n",
       "      <td>file:///C:/Users/shree/projects/ML_Monitoring/...</td>\n",
       "      <td>2022-07-14 05:57:29.873000+00:00</td>\n",
       "      <td>2022-07-14 05:57:34.042000+00:00</td>\n",
       "      <td>1.514220</td>\n",
       "      <td>4.177197</td>\n",
       "      <td>2.043819</td>\n",
       "      <td>5.921566e+13</td>\n",
       "      <td>...</td>\n",
       "      <td>0.6138708488370642</td>\n",
       "      <td>1.0</td>\n",
       "      <td>2.209644775838894</td>\n",
       "      <td>0.08004023879766464</td>\n",
       "      <td>0.0010669519629371647</td>\n",
       "      <td>0.1775600165128708</td>\n",
       "      <td>shree</td>\n",
       "      <td>LOCAL</td>\n",
       "      <td>d:\\anaconda\\envs\\anaconda_env\\lib\\site-package...</td>\n",
       "      <td>1657777979</td>\n",
       "    </tr>\n",
       "    <tr>\n",
       "      <th>2020-11-08 00:00:00</th>\n",
       "      <td>d471f342dbc649dbb6308742bd654a70</td>\n",
       "      <td>3</td>\n",
       "      <td>FINISHED</td>\n",
       "      <td>file:///C:/Users/shree/projects/ML_Monitoring/...</td>\n",
       "      <td>2022-07-14 05:57:34.099000+00:00</td>\n",
       "      <td>2022-07-14 05:57:37.034000+00:00</td>\n",
       "      <td>1.924483</td>\n",
       "      <td>6.163768</td>\n",
       "      <td>2.482694</td>\n",
       "      <td>1.204077e+14</td>\n",
       "      <td>...</td>\n",
       "      <td>0.6085659002389079</td>\n",
       "      <td>1.0</td>\n",
       "      <td>2.2691057205931338</td>\n",
       "      <td>0.06796291470527649</td>\n",
       "      <td>0.002717852484555022</td>\n",
       "      <td>0.22392073273658752</td>\n",
       "      <td>shree</td>\n",
       "      <td>LOCAL</td>\n",
       "      <td>d:\\anaconda\\envs\\anaconda_env\\lib\\site-package...</td>\n",
       "      <td>1657777979</td>\n",
       "    </tr>\n",
       "    <tr>\n",
       "      <th>2020-11-15 00:00:00</th>\n",
       "      <td>d53a6a78a4414a2aa186aaa4951b45d0</td>\n",
       "      <td>3</td>\n",
       "      <td>FINISHED</td>\n",
       "      <td>file:///C:/Users/shree/projects/ML_Monitoring/...</td>\n",
       "      <td>2022-07-14 05:57:37.078000+00:00</td>\n",
       "      <td>2022-07-14 05:57:41.228000+00:00</td>\n",
       "      <td>1.960821</td>\n",
       "      <td>6.485387</td>\n",
       "      <td>2.546642</td>\n",
       "      <td>1.597630e+14</td>\n",
       "      <td>...</td>\n",
       "      <td>0.6030640363437914</td>\n",
       "      <td>1.0</td>\n",
       "      <td>2.3698025036032675</td>\n",
       "      <td>0.06960499286651611</td>\n",
       "      <td>9.154307975684123e-05</td>\n",
       "      <td>0.2788601815700531</td>\n",
       "      <td>shree</td>\n",
       "      <td>LOCAL</td>\n",
       "      <td>d:\\anaconda\\envs\\anaconda_env\\lib\\site-package...</td>\n",
       "      <td>1657777979</td>\n",
       "    </tr>\n",
       "  </tbody>\n",
       "</table>\n",
       "<p>90 rows × 82 columns</p>\n",
       "</div>"
      ],
      "text/plain": [
       "                                                               run_id  \\\n",
       "params.week_end_experiment_end_date                                     \n",
       "2019-03-03 00:00:00                  ad0cc11d1cf3489f992fdf2b45ba7fcd   \n",
       "2019-03-10 00:00:00                  5ba1b47c0752484e94040409072babf4   \n",
       "2019-03-17 00:00:00                  2c31c75c90714935b67965efc25fe3c3   \n",
       "2019-03-24 00:00:00                  b938b4fd97c1476fb6c04238c83de543   \n",
       "2019-03-31 00:00:00                  e2e3625602c441deb4ad10fe31f780d1   \n",
       "...                                                               ...   \n",
       "2020-10-18 00:00:00                  3452edd5be0c476ea1c5da7b3e2eba01   \n",
       "2020-10-25 00:00:00                  762b4bf7261f45ac98617d4a600e6581   \n",
       "2020-11-01 00:00:00                  9546a7ea040a4099917cf69320008c66   \n",
       "2020-11-08 00:00:00                  d471f342dbc649dbb6308742bd654a70   \n",
       "2020-11-15 00:00:00                  d53a6a78a4414a2aa186aaa4951b45d0   \n",
       "\n",
       "                                    experiment_id    status  \\\n",
       "params.week_end_experiment_end_date                           \n",
       "2019-03-03 00:00:00                             3  FINISHED   \n",
       "2019-03-10 00:00:00                             3  FINISHED   \n",
       "2019-03-17 00:00:00                             3  FINISHED   \n",
       "2019-03-24 00:00:00                             3  FINISHED   \n",
       "2019-03-31 00:00:00                             3  FINISHED   \n",
       "...                                           ...       ...   \n",
       "2020-10-18 00:00:00                             3  FINISHED   \n",
       "2020-10-25 00:00:00                             3  FINISHED   \n",
       "2020-11-01 00:00:00                             3  FINISHED   \n",
       "2020-11-08 00:00:00                             3  FINISHED   \n",
       "2020-11-15 00:00:00                             3  FINISHED   \n",
       "\n",
       "                                                                          artifact_uri  \\\n",
       "params.week_end_experiment_end_date                                                      \n",
       "2019-03-03 00:00:00                  file:///C:/Users/shree/projects/ML_Monitoring/...   \n",
       "2019-03-10 00:00:00                  file:///C:/Users/shree/projects/ML_Monitoring/...   \n",
       "2019-03-17 00:00:00                  file:///C:/Users/shree/projects/ML_Monitoring/...   \n",
       "2019-03-24 00:00:00                  file:///C:/Users/shree/projects/ML_Monitoring/...   \n",
       "2019-03-31 00:00:00                  file:///C:/Users/shree/projects/ML_Monitoring/...   \n",
       "...                                                                                ...   \n",
       "2020-10-18 00:00:00                  file:///C:/Users/shree/projects/ML_Monitoring/...   \n",
       "2020-10-25 00:00:00                  file:///C:/Users/shree/projects/ML_Monitoring/...   \n",
       "2020-11-01 00:00:00                  file:///C:/Users/shree/projects/ML_Monitoring/...   \n",
       "2020-11-08 00:00:00                  file:///C:/Users/shree/projects/ML_Monitoring/...   \n",
       "2020-11-15 00:00:00                  file:///C:/Users/shree/projects/ML_Monitoring/...   \n",
       "\n",
       "                                                          start_time  \\\n",
       "params.week_end_experiment_end_date                                    \n",
       "2019-03-03 00:00:00                 2022-07-14 05:52:59.596000+00:00   \n",
       "2019-03-10 00:00:00                 2022-07-14 05:53:00.306000+00:00   \n",
       "2019-03-17 00:00:00                 2022-07-14 05:53:02.840000+00:00   \n",
       "2019-03-24 00:00:00                 2022-07-14 05:53:05.214000+00:00   \n",
       "2019-03-31 00:00:00                 2022-07-14 05:53:07.333000+00:00   \n",
       "...                                                              ...   \n",
       "2020-10-18 00:00:00                 2022-07-14 05:57:24.171000+00:00   \n",
       "2020-10-25 00:00:00                 2022-07-14 05:57:26.803000+00:00   \n",
       "2020-11-01 00:00:00                 2022-07-14 05:57:29.873000+00:00   \n",
       "2020-11-08 00:00:00                 2022-07-14 05:57:34.099000+00:00   \n",
       "2020-11-15 00:00:00                 2022-07-14 05:57:37.078000+00:00   \n",
       "\n",
       "                                                            end_time  \\\n",
       "params.week_end_experiment_end_date                                    \n",
       "2019-03-03 00:00:00                 2022-07-14 05:53:00.267000+00:00   \n",
       "2019-03-10 00:00:00                 2022-07-14 05:53:02.800000+00:00   \n",
       "2019-03-17 00:00:00                 2022-07-14 05:53:05.173000+00:00   \n",
       "2019-03-24 00:00:00                 2022-07-14 05:53:07.294000+00:00   \n",
       "2019-03-31 00:00:00                 2022-07-14 05:53:10.061000+00:00   \n",
       "...                                                              ...   \n",
       "2020-10-18 00:00:00                 2022-07-14 05:57:26.759000+00:00   \n",
       "2020-10-25 00:00:00                 2022-07-14 05:57:29.816000+00:00   \n",
       "2020-11-01 00:00:00                 2022-07-14 05:57:34.042000+00:00   \n",
       "2020-11-08 00:00:00                 2022-07-14 05:57:37.034000+00:00   \n",
       "2020-11-15 00:00:00                 2022-07-14 05:57:41.228000+00:00   \n",
       "\n",
       "                                     metrics.weekly_mae  metrics.weekly_mse  \\\n",
       "params.week_end_experiment_end_date                                           \n",
       "2019-03-03 00:00:00                            0.624194            0.578857   \n",
       "2019-03-10 00:00:00                            0.796085            1.046402   \n",
       "2019-03-17 00:00:00                            0.840071            1.151997   \n",
       "2019-03-24 00:00:00                            0.911516            1.390461   \n",
       "2019-03-31 00:00:00                            0.754504            1.135950   \n",
       "...                                                 ...                 ...   \n",
       "2020-10-18 00:00:00                            1.720055            5.615238   \n",
       "2020-10-25 00:00:00                            1.508034            4.106824   \n",
       "2020-11-01 00:00:00                            1.514220            4.177197   \n",
       "2020-11-08 00:00:00                            1.924483            6.163768   \n",
       "2020-11-15 00:00:00                            1.960821            6.485387   \n",
       "\n",
       "                                     metrics.weekly_rmse  metrics.weekly_mape  \\\n",
       "params.week_end_experiment_end_date                                             \n",
       "2019-03-03 00:00:00                             0.760827         1.162311e-01   \n",
       "2019-03-10 00:00:00                             1.022938         1.344980e-01   \n",
       "2019-03-17 00:00:00                             1.073311         1.451302e-01   \n",
       "2019-03-24 00:00:00                             1.179178         1.487099e-01   \n",
       "2019-03-31 00:00:00                             1.065810         1.229435e-01   \n",
       "...                                                  ...                  ...   \n",
       "2020-10-18 00:00:00                             2.369649         2.391764e+14   \n",
       "2020-10-25 00:00:00                             2.026530         6.010202e+13   \n",
       "2020-11-01 00:00:00                             2.043819         5.921566e+13   \n",
       "2020-11-08 00:00:00                             2.482694         1.204077e+14   \n",
       "2020-11-15 00:00:00                             2.546642         1.597630e+14   \n",
       "\n",
       "                                     ... params.state.value_drift_score  \\\n",
       "params.week_end_experiment_end_date  ...                                  \n",
       "2019-03-03 00:00:00                  ...                           None   \n",
       "2019-03-10 00:00:00                  ...             0.8325546111576977   \n",
       "2019-03-17 00:00:00                  ...             0.8060545427663132   \n",
       "2019-03-24 00:00:00                  ...             0.7867637942388347   \n",
       "2019-03-31 00:00:00                  ...             0.7702046767484585   \n",
       "...                                  ...                            ...   \n",
       "2020-10-18 00:00:00                  ...             0.6249851696957709   \n",
       "2020-10-25 00:00:00                  ...             0.6193404609592438   \n",
       "2020-11-01 00:00:00                  ...             0.6138708488370642   \n",
       "2020-11-08 00:00:00                  ...             0.6085659002389079   \n",
       "2020-11-15 00:00:00                  ...             0.6030640363437914   \n",
       "\n",
       "                                    params.Product_Type.value_relative_feature_importance  \\\n",
       "params.week_end_experiment_end_date                                                         \n",
       "2019-03-03 00:00:00                                                               None      \n",
       "2019-03-10 00:00:00                                                                1.0      \n",
       "2019-03-17 00:00:00                                                                1.0      \n",
       "2019-03-24 00:00:00                                                                1.0      \n",
       "2019-03-31 00:00:00                                                                1.0      \n",
       "...                                                                                ...      \n",
       "2020-10-18 00:00:00                                                                1.0      \n",
       "2020-10-25 00:00:00                                                                1.0      \n",
       "2020-11-01 00:00:00                                                                1.0      \n",
       "2020-11-08 00:00:00                                                                1.0      \n",
       "2020-11-15 00:00:00                                                                1.0      \n",
       "\n",
       "                                    params.state_cases.value_drift_score  \\\n",
       "params.week_end_experiment_end_date                                        \n",
       "2019-03-03 00:00:00                                                 None   \n",
       "2019-03-10 00:00:00                                                  0.0   \n",
       "2019-03-17 00:00:00                                                  0.0   \n",
       "2019-03-24 00:00:00                                                  0.0   \n",
       "2019-03-31 00:00:00                                                  0.0   \n",
       "...                                                                  ...   \n",
       "2020-10-18 00:00:00                                    2.196740551303242   \n",
       "2020-10-25 00:00:00                                   2.1884196253837005   \n",
       "2020-11-01 00:00:00                                    2.209644775838894   \n",
       "2020-11-08 00:00:00                                   2.2691057205931338   \n",
       "2020-11-15 00:00:00                                   2.3698025036032675   \n",
       "\n",
       "                                    params.state_deaths.value_relative_feature_importance  \\\n",
       "params.week_end_experiment_end_date                                                         \n",
       "2019-03-03 00:00:00                                                               None      \n",
       "2019-03-10 00:00:00                                                                0.0      \n",
       "2019-03-17 00:00:00                                                                0.0      \n",
       "2019-03-24 00:00:00                                                                0.0      \n",
       "2019-03-31 00:00:00                                                                0.0      \n",
       "...                                                                                ...      \n",
       "2020-10-18 00:00:00                                               0.047721076756715775      \n",
       "2020-10-25 00:00:00                                               0.055850185453891754      \n",
       "2020-11-01 00:00:00                                                0.08004023879766464      \n",
       "2020-11-08 00:00:00                                                0.06796291470527649      \n",
       "2020-11-15 00:00:00                                                0.06960499286651611      \n",
       "\n",
       "                                    params.state.value_feature_importance_weighted_drift_score  \\\n",
       "params.week_end_experiment_end_date                                                              \n",
       "2019-03-03 00:00:00                                                               None           \n",
       "2019-03-10 00:00:00                                                                0.0           \n",
       "2019-03-17 00:00:00                                                                0.0           \n",
       "2019-03-24 00:00:00                                                                0.0           \n",
       "2019-03-31 00:00:00                                                                0.0           \n",
       "...                                                                                ...           \n",
       "2020-10-18 00:00:00                                               0.005008001371070647           \n",
       "2020-10-25 00:00:00                                                0.00656891885948145           \n",
       "2020-11-01 00:00:00                                              0.0010669519629371647           \n",
       "2020-11-08 00:00:00                                               0.002717852484555022           \n",
       "2020-11-15 00:00:00                                              9.154307975684123e-05           \n",
       "\n",
       "                                    params.state_cases.value_relative_feature_importance  \\\n",
       "params.week_end_experiment_end_date                                                        \n",
       "2019-03-03 00:00:00                                                               None     \n",
       "2019-03-10 00:00:00                                                                0.0     \n",
       "2019-03-17 00:00:00                                                                0.0     \n",
       "2019-03-24 00:00:00                                                                0.0     \n",
       "2019-03-31 00:00:00                                                                0.0     \n",
       "...                                                                                ...     \n",
       "2020-10-18 00:00:00                                                0.19811764359474182     \n",
       "2020-10-25 00:00:00                                                0.22681094706058502     \n",
       "2020-11-01 00:00:00                                                 0.1775600165128708     \n",
       "2020-11-08 00:00:00                                                0.22392073273658752     \n",
       "2020-11-15 00:00:00                                                 0.2788601815700531     \n",
       "\n",
       "                                    tags.mlflow.user tags.mlflow.source.type  \\\n",
       "params.week_end_experiment_end_date                                            \n",
       "2019-03-03 00:00:00                            shree                   LOCAL   \n",
       "2019-03-10 00:00:00                            shree                   LOCAL   \n",
       "2019-03-17 00:00:00                            shree                   LOCAL   \n",
       "2019-03-24 00:00:00                            shree                   LOCAL   \n",
       "2019-03-31 00:00:00                            shree                   LOCAL   \n",
       "...                                              ...                     ...   \n",
       "2020-10-18 00:00:00                            shree                   LOCAL   \n",
       "2020-10-25 00:00:00                            shree                   LOCAL   \n",
       "2020-11-01 00:00:00                            shree                   LOCAL   \n",
       "2020-11-08 00:00:00                            shree                   LOCAL   \n",
       "2020-11-15 00:00:00                            shree                   LOCAL   \n",
       "\n",
       "                                                               tags.mlflow.source.name  \\\n",
       "params.week_end_experiment_end_date                                                      \n",
       "2019-03-03 00:00:00                  d:\\anaconda\\envs\\anaconda_env\\lib\\site-package...   \n",
       "2019-03-10 00:00:00                  d:\\anaconda\\envs\\anaconda_env\\lib\\site-package...   \n",
       "2019-03-17 00:00:00                  d:\\anaconda\\envs\\anaconda_env\\lib\\site-package...   \n",
       "2019-03-24 00:00:00                  d:\\anaconda\\envs\\anaconda_env\\lib\\site-package...   \n",
       "2019-03-31 00:00:00                  d:\\anaconda\\envs\\anaconda_env\\lib\\site-package...   \n",
       "...                                                                                ...   \n",
       "2020-10-18 00:00:00                  d:\\anaconda\\envs\\anaconda_env\\lib\\site-package...   \n",
       "2020-10-25 00:00:00                  d:\\anaconda\\envs\\anaconda_env\\lib\\site-package...   \n",
       "2020-11-01 00:00:00                  d:\\anaconda\\envs\\anaconda_env\\lib\\site-package...   \n",
       "2020-11-08 00:00:00                  d:\\anaconda\\envs\\anaconda_env\\lib\\site-package...   \n",
       "2020-11-15 00:00:00                  d:\\anaconda\\envs\\anaconda_env\\lib\\site-package...   \n",
       "\n",
       "                                    tags.mlflow.runName  \n",
       "params.week_end_experiment_end_date                      \n",
       "2019-03-03 00:00:00                          1657777979  \n",
       "2019-03-10 00:00:00                          1657777979  \n",
       "2019-03-17 00:00:00                          1657777979  \n",
       "2019-03-24 00:00:00                          1657777979  \n",
       "2019-03-31 00:00:00                          1657777979  \n",
       "...                                                 ...  \n",
       "2020-10-18 00:00:00                          1657777979  \n",
       "2020-10-25 00:00:00                          1657777979  \n",
       "2020-11-01 00:00:00                          1657777979  \n",
       "2020-11-08 00:00:00                          1657777979  \n",
       "2020-11-15 00:00:00                          1657777979  \n",
       "\n",
       "[90 rows x 82 columns]"
      ]
     },
     "execution_count": 78,
     "metadata": {},
     "output_type": "execute_result"
    }
   ],
   "source": [
    "expirement_results"
   ]
  },
  {
   "cell_type": "code",
   "execution_count": 79,
   "id": "2f57fddc",
   "metadata": {},
   "outputs": [
    {
     "data": {
      "text/plain": [
       "'file:///C:/Users/shree/projects/ML_Monitoring/Feature_importance_weighted_drift_detection_and_automated_retraining/mlruns/3/ad0cc11d1cf3489f992fdf2b45ba7fcd/artifacts'"
      ]
     },
     "execution_count": 79,
     "metadata": {},
     "output_type": "execute_result"
    }
   ],
   "source": [
    "expirement_results.artifact_uri.iloc[0]"
   ]
  },
  {
   "cell_type": "code",
   "execution_count": 80,
   "id": "8e9214c9",
   "metadata": {},
   "outputs": [],
   "source": [
    "all_cols = expirement_results.columns\n",
    "drift_detection_cols = all_cols[all_cols.str.endswith('drift_detected')]\n",
    "drift_score_cols = all_cols[all_cols.str.endswith('drift_score')]"
   ]
  },
  {
   "cell_type": "code",
   "execution_count": 81,
   "id": "5d4186c4",
   "metadata": {},
   "outputs": [],
   "source": [
    "for col in drift_detection_cols:\n",
    "    expirement_results[col] = expirement_results[col].replace([None],False).replace('False',False).astype(bool).astype(int)"
   ]
  },
  {
   "cell_type": "code",
   "execution_count": 82,
   "id": "575f515d",
   "metadata": {},
   "outputs": [],
   "source": [
    "for col in drift_score_cols:\n",
    "    expirement_results[col] = expirement_results[col].replace([None],0).astype(float)"
   ]
  },
  {
   "cell_type": "code",
   "execution_count": 83,
   "id": "8c6b8f8f",
   "metadata": {},
   "outputs": [],
   "source": [
    "drift_detected_cols = []\n",
    "for col in drift_detection_cols:\n",
    "    if expirement_results[col].sum() > 0:\n",
    "        drift_detected_cols.append(col)\n"
   ]
  },
  {
   "cell_type": "code",
   "execution_count": 84,
   "id": "77e54ce0",
   "metadata": {},
   "outputs": [
    {
     "data": {
      "text/plain": [
       "['params.is_warehouse_closed.value_feature_importance_weighted_drift_detected',\n",
       " 'params.state_cases.value_feature_importance_weighted_drift_detected',\n",
       " 'params.state_deaths.value_feature_importance_weighted_drift_detected',\n",
       " 'params.warehouse_ID.value_feature_importance_weighted_drift_detected',\n",
       " 'params.Product_Type.value_feature_importance_weighted_drift_detected']"
      ]
     },
     "execution_count": 84,
     "metadata": {},
     "output_type": "execute_result"
    }
   ],
   "source": [
    "drift_detected_cols"
   ]
  },
  {
   "cell_type": "code",
   "execution_count": 85,
   "id": "c4216a0a",
   "metadata": {},
   "outputs": [],
   "source": [
    "drift_detected_features = pd.Series(drift_detected_cols).map(lambda x:x.split('.')[1]).str.replace('_drift_detected','').to_list()"
   ]
  },
  {
   "cell_type": "code",
   "execution_count": 86,
   "id": "867f8dff",
   "metadata": {},
   "outputs": [],
   "source": [
    "drift_detected_experiment_cols = all_cols[[any([(feature in col) for feature in drift_detected_features]) for col in all_cols.to_list()]]"
   ]
  },
  {
   "cell_type": "code",
   "execution_count": 87,
   "id": "ead71010",
   "metadata": {},
   "outputs": [],
   "source": [
    "drift_detected_experiment_results = expirement_results[drift_detected_experiment_cols]"
   ]
  },
  {
   "cell_type": "markdown",
   "id": "902c815f",
   "metadata": {},
   "source": [
    "#### Drift in warehouse ID"
   ]
  },
  {
   "cell_type": "code",
   "execution_count": 148,
   "id": "225c2257",
   "metadata": {},
   "outputs": [],
   "source": [
    "import os"
   ]
  },
  {
   "cell_type": "code",
   "execution_count": 151,
   "id": "8fabd663",
   "metadata": {},
   "outputs": [],
   "source": [
    "def save_plots(figure, feature):\n",
    "    if not os.path.exists('plots'):\n",
    "        os.mkdir('plots')\n",
    "    figure.write_html(os.path.join('plots',f\"{feature}_drift_detection_plots.html\"))"
   ]
  },
  {
   "cell_type": "code",
   "execution_count": 154,
   "id": "817c9421",
   "metadata": {},
   "outputs": [],
   "source": [
    "def plot_drift_detection(df, feature):\n",
    "    fig = make_subplots(rows=1, cols=3,  shared_xaxes=True, shared_yaxes=True, \n",
    "    subplot_titles=(\"original drift score\", \"feature importance weighted drift score\", \"feature importance weighted drift detected\"))\n",
    "\n",
    "    fig.add_trace(\n",
    "        go.Scatter(x=df.index, y=df[f'params.{feature}.value_drift_score']),\n",
    "        row=1, col=1\n",
    "    )\n",
    "\n",
    "    fig.add_trace(\n",
    "        go.Scatter(x=df.index, y=df[f'params.{feature}.value_feature_importance_weighted_drift_score']),\n",
    "        row=1, col=2\n",
    "    )\n",
    "\n",
    "    fig.add_trace(\n",
    "        go.Scatter(x=df.index, y=df[f'params.{feature}.value_feature_importance_weighted_drift_detected']),\n",
    "        row=1, col=3\n",
    "    )\n",
    "\n",
    "    fig.update_layout(height=500, width=1500, title_text=f\"Drift plots for {feature}\" , showlegend=False)\n",
    "    save_plots(fig, feature)\n",
    "    fig.show()"
   ]
  },
  {
   "cell_type": "code",
   "execution_count": 155,
   "id": "b6a5927a",
   "metadata": {},
   "outputs": [
    {
     "data": {
      "image/svg+xml": "<svg class=\"main-svg\" xmlns=\"http://www.w3.org/2000/svg\" xmlns:xlink=\"http://www.w3.org/1999/xlink\" width=\"1500\" height=\"500\" style=\"\" viewBox=\"0 0 1500 500\"><rect x=\"0\" y=\"0\" width=\"1500\" height=\"500\" style=\"fill: rgb(255, 255, 255); fill-opacity: 1;\"/><defs id=\"defs-bb63aa\"><g class=\"clips\"><clipPath id=\"clipbb63aaxyplot\" class=\"plotclip\"><rect width=\"387.11111111111114\" height=\"320\"/></clipPath><clipPath id=\"clipbb63aax2y2plot\" class=\"plotclip\"><rect width=\"387.11111111111114\" height=\"320\"/></clipPath><clipPath id=\"clipbb63aax3y3plot\" class=\"plotclip\"><rect width=\"387.1111111111111\" height=\"320\"/></clipPath><clipPath class=\"axesclip\" id=\"clipbb63aax\"><rect x=\"80\" y=\"0\" width=\"387.11111111111114\" height=\"500\"/></clipPath><clipPath class=\"axesclip\" id=\"clipbb63aay\"><rect x=\"0\" y=\"100\" width=\"1500\" height=\"320\"/></clipPath><clipPath class=\"axesclip\" id=\"clipbb63aaxy\"><rect x=\"80\" y=\"100\" width=\"387.11111111111114\" height=\"320\"/></clipPath><clipPath class=\"axesclip\" id=\"clipbb63aay2\"><rect x=\"0\" y=\"100\" width=\"1500\" height=\"320\"/></clipPath><clipPath class=\"axesclip\" id=\"clipbb63aaxy2\"><rect x=\"80\" y=\"100\" width=\"387.11111111111114\" height=\"320\"/></clipPath><clipPath class=\"axesclip\" id=\"clipbb63aay3\"><rect x=\"0\" y=\"100\" width=\"1500\" height=\"320\"/></clipPath><clipPath class=\"axesclip\" id=\"clipbb63aaxy3\"><rect x=\"80\" y=\"100\" width=\"387.11111111111114\" height=\"320\"/></clipPath><clipPath class=\"axesclip\" id=\"clipbb63aax2\"><rect x=\"556.4444444444445\" y=\"0\" width=\"387.11111111111114\" height=\"500\"/></clipPath><clipPath class=\"axesclip\" id=\"clipbb63aax2y\"><rect x=\"556.4444444444445\" y=\"100\" width=\"387.11111111111114\" height=\"320\"/></clipPath><clipPath class=\"axesclip\" id=\"clipbb63aax2y2\"><rect x=\"556.4444444444445\" y=\"100\" width=\"387.11111111111114\" height=\"320\"/></clipPath><clipPath class=\"axesclip\" id=\"clipbb63aax2y3\"><rect x=\"556.4444444444445\" y=\"100\" width=\"387.11111111111114\" height=\"320\"/></clipPath><clipPath class=\"axesclip\" id=\"clipbb63aax3\"><rect x=\"1032.888888888889\" y=\"0\" width=\"387.1111111111111\" height=\"500\"/></clipPath><clipPath class=\"axesclip\" id=\"clipbb63aax3y\"><rect x=\"1032.888888888889\" y=\"100\" width=\"387.1111111111111\" height=\"320\"/></clipPath><clipPath class=\"axesclip\" id=\"clipbb63aax3y2\"><rect x=\"1032.888888888889\" y=\"100\" width=\"387.1111111111111\" height=\"320\"/></clipPath><clipPath class=\"axesclip\" id=\"clipbb63aax3y3\"><rect x=\"1032.888888888889\" y=\"100\" width=\"387.1111111111111\" height=\"320\"/></clipPath></g><g class=\"gradients\"/><g class=\"patterns\"/></defs><g class=\"bglayer\"><rect class=\"bg\" x=\"80\" y=\"100\" width=\"387.11111111111114\" height=\"320\" style=\"fill: rgb(229, 236, 246); fill-opacity: 1; stroke-width: 0;\"/><rect class=\"bg\" x=\"556.4444444444445\" y=\"100\" width=\"387.11111111111114\" height=\"320\" style=\"fill: rgb(229, 236, 246); fill-opacity: 1; stroke-width: 0;\"/><rect class=\"bg\" x=\"1032.888888888889\" y=\"100\" width=\"387.1111111111111\" height=\"320\" style=\"fill: rgb(229, 236, 246); fill-opacity: 1; stroke-width: 0;\"/></g><g class=\"layer-below\"><g class=\"imagelayer\"/><g class=\"shapelayer\"/></g><g class=\"cartesianlayer\"><g class=\"subplot xy\"><g class=\"layer-subplot\"><g class=\"shapelayer\"/><g class=\"imagelayer\"/></g><g class=\"minor-gridlayer\"><g class=\"x\"/><g class=\"y\"/></g><g class=\"gridlayer\"><g class=\"x\"><path class=\"xgrid crisp\" transform=\"translate(151.01,0)\" d=\"M0,100v320\" style=\"stroke: rgb(255, 255, 255); stroke-opacity: 1; stroke-width: 1px;\"/><path class=\"xgrid crisp\" transform=\"translate(266.64,0)\" d=\"M0,100v320\" style=\"stroke: rgb(255, 255, 255); stroke-opacity: 1; stroke-width: 1px;\"/><path class=\"xgrid crisp\" transform=\"translate(381.02,0)\" d=\"M0,100v320\" style=\"stroke: rgb(255, 255, 255); stroke-opacity: 1; stroke-width: 1px;\"/></g><g class=\"y\"><path class=\"ygrid crisp\" transform=\"translate(0,346.4)\" d=\"M80,0h387.11111111111114\" style=\"stroke: rgb(255, 255, 255); stroke-opacity: 1; stroke-width: 1px;\"/><path class=\"ygrid crisp\" transform=\"translate(0,288.8)\" d=\"M80,0h387.11111111111114\" style=\"stroke: rgb(255, 255, 255); stroke-opacity: 1; stroke-width: 1px;\"/><path class=\"ygrid crisp\" transform=\"translate(0,231.2)\" d=\"M80,0h387.11111111111114\" style=\"stroke: rgb(255, 255, 255); stroke-opacity: 1; stroke-width: 1px;\"/><path class=\"ygrid crisp\" transform=\"translate(0,173.6)\" d=\"M80,0h387.11111111111114\" style=\"stroke: rgb(255, 255, 255); stroke-opacity: 1; stroke-width: 1px;\"/><path class=\"ygrid crisp\" transform=\"translate(0,116)\" d=\"M80,0h387.11111111111114\" style=\"stroke: rgb(255, 255, 255); stroke-opacity: 1; stroke-width: 1px;\"/></g></g><g class=\"zerolinelayer\"><path class=\"yzl zl crisp\" transform=\"translate(0,404)\" d=\"M80,0h387.11111111111114\" style=\"stroke: rgb(255, 255, 255); stroke-opacity: 1; stroke-width: 2px;\"/></g><path class=\"xlines-below\"/><path class=\"ylines-below\"/><g class=\"overlines-below\"/><g class=\"xaxislayer-below\"/><g class=\"yaxislayer-below\"/><g class=\"overaxes-below\"/><g class=\"plot\" transform=\"translate(80,100)\" clip-path=\"url(#clipbb63aaxyplot)\"><g class=\"scatterlayer mlayer\"><g class=\"trace scatter trace129376\" style=\"stroke-miterlimit: 2; opacity: 1;\"><g class=\"fills\"/><g class=\"errorbars\"/><g class=\"lines\"><path class=\"js-line\" d=\"M0,64.22L4.4,71.86L8.8,77.41L17.6,86.44L21.99,90.32L35.19,100.33L39.59,64.22L43.99,64.22L48.39,71.96L57.19,82.41L61.59,86.72L74.78,97.62L79.18,100.77L92.38,109.21L96.78,111.74L114.37,120.8L118.77,122.84L140.77,132L145.17,133.65L171.56,142.58L175.96,143.92L189.16,147.68L193.56,64.22L206.75,78.43L211.15,64.22L215.55,64.22L219.95,70.55L228.75,79.29L233.15,82.95L246.34,92.33L250.74,95.07L263.94,102.49L268.34,64.22L272.74,68.69L277.14,74.41L285.93,82.3L290.33,64.86L294.73,81.31L299.13,86.68L307.93,94.32L312.33,97.54L325.53,105.88L329.92,108.33L347.52,117.03L351.92,118.97L373.91,127.69L378.31,129.26L387.11,132.15\" style=\"vector-effect: non-scaling-stroke; fill: none; stroke: rgb(99, 110, 250); stroke-opacity: 1; stroke-width: 2px; opacity: 1;\"/></g><g class=\"points\"/><g class=\"text\"/></g></g></g><g class=\"overplot\"/><path class=\"xlines-above crisp\" d=\"M0,0\" style=\"fill: none;\"/><path class=\"ylines-above crisp\" d=\"M0,0\" style=\"fill: none;\"/><g class=\"overlines-above\"/><g class=\"xaxislayer-above\"><g class=\"xtick\"><text text-anchor=\"middle\" x=\"0\" y=\"433\" transform=\"translate(151.01,0)\" style=\"font-family: 'Open Sans', verdana, arial, sans-serif; font-size: 12px; fill: rgb(42, 63, 95); fill-opacity: 1; white-space: pre; opacity: 1;\">Jul 2019</text></g><g class=\"xtick\"><text text-anchor=\"middle\" x=\"0\" y=\"433\" style=\"font-family: 'Open Sans', verdana, arial, sans-serif; font-size: 12px; fill: rgb(42, 63, 95); fill-opacity: 1; white-space: pre; opacity: 1;\" transform=\"translate(266.64,0)\">Jan 2020</text></g><g class=\"xtick\"><text text-anchor=\"middle\" x=\"0\" y=\"433\" style=\"font-family: 'Open Sans', verdana, arial, sans-serif; font-size: 12px; fill: rgb(42, 63, 95); fill-opacity: 1; white-space: pre; opacity: 1;\" transform=\"translate(381.02,0)\">Jul 2020</text></g></g><g class=\"yaxislayer-above\"><g class=\"ytick\"><text text-anchor=\"end\" x=\"79\" y=\"4.199999999999999\" transform=\"translate(0,404)\" style=\"font-family: 'Open Sans', verdana, arial, sans-serif; font-size: 12px; fill: rgb(42, 63, 95); fill-opacity: 1; white-space: pre; opacity: 1;\">0</text></g><g class=\"ytick\"><text text-anchor=\"end\" x=\"79\" y=\"4.199999999999999\" style=\"font-family: 'Open Sans', verdana, arial, sans-serif; font-size: 12px; fill: rgb(42, 63, 95); fill-opacity: 1; white-space: pre; opacity: 1;\" transform=\"translate(0,346.4)\">0.2</text></g><g class=\"ytick\"><text text-anchor=\"end\" x=\"79\" y=\"4.199999999999999\" style=\"font-family: 'Open Sans', verdana, arial, sans-serif; font-size: 12px; fill: rgb(42, 63, 95); fill-opacity: 1; white-space: pre; opacity: 1;\" transform=\"translate(0,288.8)\">0.4</text></g><g class=\"ytick\"><text text-anchor=\"end\" x=\"79\" y=\"4.199999999999999\" style=\"font-family: 'Open Sans', verdana, arial, sans-serif; font-size: 12px; fill: rgb(42, 63, 95); fill-opacity: 1; white-space: pre; opacity: 1;\" transform=\"translate(0,231.2)\">0.6</text></g><g class=\"ytick\"><text text-anchor=\"end\" x=\"79\" y=\"4.199999999999999\" style=\"font-family: 'Open Sans', verdana, arial, sans-serif; font-size: 12px; fill: rgb(42, 63, 95); fill-opacity: 1; white-space: pre; opacity: 1;\" transform=\"translate(0,173.6)\">0.8</text></g><g class=\"ytick\"><text text-anchor=\"end\" x=\"79\" y=\"4.199999999999999\" style=\"font-family: 'Open Sans', verdana, arial, sans-serif; font-size: 12px; fill: rgb(42, 63, 95); fill-opacity: 1; white-space: pre; opacity: 1;\" transform=\"translate(0,116)\">1</text></g></g><g class=\"overaxes-above\"/></g><g class=\"subplot x2y2\"><g class=\"layer-subplot\"><g class=\"shapelayer\"/><g class=\"imagelayer\"/></g><g class=\"minor-gridlayer\"><g class=\"x2\"/><g class=\"y2\"/></g><g class=\"gridlayer\"><g class=\"x2\"><path class=\"x2grid crisp\" transform=\"translate(627.4544444444444,0)\" d=\"M0,100v320\" style=\"stroke: rgb(255, 255, 255); stroke-opacity: 1; stroke-width: 1px;\"/><path class=\"x2grid crisp\" transform=\"translate(743.0844444444444,0)\" d=\"M0,100v320\" style=\"stroke: rgb(255, 255, 255); stroke-opacity: 1; stroke-width: 1px;\"/><path class=\"x2grid crisp\" transform=\"translate(857.4644444444444,0)\" d=\"M0,100v320\" style=\"stroke: rgb(255, 255, 255); stroke-opacity: 1; stroke-width: 1px;\"/></g><g class=\"y2\"><path class=\"y2grid crisp\" transform=\"translate(0,346.4)\" d=\"M556.4444444444445,0h387.11111111111114\" style=\"stroke: rgb(255, 255, 255); stroke-opacity: 1; stroke-width: 1px;\"/><path class=\"y2grid crisp\" transform=\"translate(0,288.8)\" d=\"M556.4444444444445,0h387.11111111111114\" style=\"stroke: rgb(255, 255, 255); stroke-opacity: 1; stroke-width: 1px;\"/><path class=\"y2grid crisp\" transform=\"translate(0,231.2)\" d=\"M556.4444444444445,0h387.11111111111114\" style=\"stroke: rgb(255, 255, 255); stroke-opacity: 1; stroke-width: 1px;\"/><path class=\"y2grid crisp\" transform=\"translate(0,173.6)\" d=\"M556.4444444444445,0h387.11111111111114\" style=\"stroke: rgb(255, 255, 255); stroke-opacity: 1; stroke-width: 1px;\"/><path class=\"y2grid crisp\" transform=\"translate(0,116)\" d=\"M556.4444444444445,0h387.11111111111114\" style=\"stroke: rgb(255, 255, 255); stroke-opacity: 1; stroke-width: 1px;\"/></g></g><g class=\"zerolinelayer\"><path class=\"y2zl zl crisp\" transform=\"translate(0,404)\" d=\"M556.4444444444445,0h387.11111111111114\" style=\"stroke: rgb(255, 255, 255); stroke-opacity: 1; stroke-width: 2px;\"/></g><path class=\"xlines-below\"/><path class=\"ylines-below\"/><g class=\"overlines-below\"/><g class=\"xaxislayer-below\"/><g class=\"yaxislayer-below\"/><g class=\"overaxes-below\"/><g class=\"plot\" transform=\"translate(556.4444444444445,100)\" clip-path=\"url(#clipbb63aax2y2plot)\"><g class=\"scatterlayer mlayer\"><g class=\"trace scatter trace0382c5\" style=\"stroke-miterlimit: 2; opacity: 1;\"><g class=\"fills\"/><g class=\"errorbars\"/><g class=\"lines\"><path class=\"js-line\" d=\"M0,292.77L4.4,302.58L8.8,292.91L13.2,288.75L17.6,298.8L21.99,285.3L26.39,298.76L30.79,291.08L35.19,295.61L39.59,288.97L43.99,297.73L48.39,296.43L52.79,290.01L57.19,292.77L61.59,298.11L65.98,297.66L70.38,300.18L74.78,288.13L79.18,289.18L83.58,284.87L87.98,290.54L92.38,300.08L96.78,301.6L101.18,295.9L105.58,287.7L109.97,299.5L114.37,295L118.77,285.04L123.17,282.75L127.57,299.67L131.97,287.5L136.37,300.13L140.77,288.81L145.17,273.02L149.57,295.07L153.96,302.04L158.36,287.67L162.76,300.18L167.16,296.55L171.56,291.49L175.96,301.4L180.36,291.8L184.76,298.57L193.56,299.67L197.95,298.82L202.35,297.12L206.75,293.89L211.15,266.7L215.55,298.34L219.95,291.88L224.35,297.63L228.75,294.41L233.15,293.09L237.55,288.34L241.94,295.22L246.34,294.34L250.74,298.2L255.14,298.01L259.54,295.35L263.94,300.89L268.34,292.09L272.74,300.53L277.14,293.36L285.93,301.21L290.33,293.78L294.73,300.7L299.13,295.64L303.53,297.42L307.93,296.02L312.33,301.97L316.73,300.91L321.13,299.06L325.53,300.34L329.92,297.95L334.32,300.71L338.72,297.87L343.12,298.39L347.52,294.25L351.92,297.25L360.72,297.29L365.12,299.81L369.52,285.09L373.91,291.38L378.31,299.34L382.71,301.64L387.11,297.36\" style=\"vector-effect: non-scaling-stroke; fill: none; stroke: rgb(239, 85, 59); stroke-opacity: 1; stroke-width: 2px; opacity: 1;\"/></g><g class=\"points\"/><g class=\"text\"/></g></g></g><g class=\"overplot\"/><path class=\"xlines-above crisp\" d=\"M0,0\" style=\"fill: none;\"/><path class=\"ylines-above crisp\" d=\"M0,0\" style=\"fill: none;\"/><g class=\"overlines-above\"/><g class=\"xaxislayer-above\"><g class=\"x2tick\"><text text-anchor=\"middle\" x=\"0\" y=\"433\" transform=\"translate(627.4544444444444,0)\" style=\"font-family: 'Open Sans', verdana, arial, sans-serif; font-size: 12px; fill: rgb(42, 63, 95); fill-opacity: 1; white-space: pre; opacity: 1;\">Jul 2019</text></g><g class=\"x2tick\"><text text-anchor=\"middle\" x=\"0\" y=\"433\" style=\"font-family: 'Open Sans', verdana, arial, sans-serif; font-size: 12px; fill: rgb(42, 63, 95); fill-opacity: 1; white-space: pre; opacity: 1;\" transform=\"translate(743.0844444444444,0)\">Jan 2020</text></g><g class=\"x2tick\"><text text-anchor=\"middle\" x=\"0\" y=\"433\" style=\"font-family: 'Open Sans', verdana, arial, sans-serif; font-size: 12px; fill: rgb(42, 63, 95); fill-opacity: 1; white-space: pre; opacity: 1;\" transform=\"translate(857.4644444444444,0)\">Jul 2020</text></g></g><g class=\"yaxislayer-above\"/><g class=\"overaxes-above\"/></g><g class=\"subplot x3y3\"><g class=\"layer-subplot\"><g class=\"shapelayer\"/><g class=\"imagelayer\"/></g><g class=\"minor-gridlayer\"><g class=\"x3\"/><g class=\"y3\"/></g><g class=\"gridlayer\"><g class=\"x3\"><path class=\"x3grid crisp\" transform=\"translate(1103.898888888889,0)\" d=\"M0,100v320\" style=\"stroke: rgb(255, 255, 255); stroke-opacity: 1; stroke-width: 1px;\"/><path class=\"x3grid crisp\" transform=\"translate(1219.528888888889,0)\" d=\"M0,100v320\" style=\"stroke: rgb(255, 255, 255); stroke-opacity: 1; stroke-width: 1px;\"/><path class=\"x3grid crisp\" transform=\"translate(1333.908888888889,0)\" d=\"M0,100v320\" style=\"stroke: rgb(255, 255, 255); stroke-opacity: 1; stroke-width: 1px;\"/></g><g class=\"y3\"><path class=\"y3grid crisp\" transform=\"translate(0,346.4)\" d=\"M1032.888888888889,0h387.1111111111111\" style=\"stroke: rgb(255, 255, 255); stroke-opacity: 1; stroke-width: 1px;\"/><path class=\"y3grid crisp\" transform=\"translate(0,288.8)\" d=\"M1032.888888888889,0h387.1111111111111\" style=\"stroke: rgb(255, 255, 255); stroke-opacity: 1; stroke-width: 1px;\"/><path class=\"y3grid crisp\" transform=\"translate(0,231.2)\" d=\"M1032.888888888889,0h387.1111111111111\" style=\"stroke: rgb(255, 255, 255); stroke-opacity: 1; stroke-width: 1px;\"/><path class=\"y3grid crisp\" transform=\"translate(0,173.6)\" d=\"M1032.888888888889,0h387.1111111111111\" style=\"stroke: rgb(255, 255, 255); stroke-opacity: 1; stroke-width: 1px;\"/><path class=\"y3grid crisp\" transform=\"translate(0,116)\" d=\"M1032.888888888889,0h387.1111111111111\" style=\"stroke: rgb(255, 255, 255); stroke-opacity: 1; stroke-width: 1px;\"/></g></g><g class=\"zerolinelayer\"><path class=\"y3zl zl crisp\" transform=\"translate(0,404)\" d=\"M1032.888888888889,0h387.1111111111111\" style=\"stroke: rgb(255, 255, 255); stroke-opacity: 1; stroke-width: 2px;\"/></g><path class=\"xlines-below\"/><path class=\"ylines-below\"/><g class=\"overlines-below\"/><g class=\"xaxislayer-below\"/><g class=\"yaxislayer-below\"/><g class=\"overaxes-below\"/><g class=\"plot\" transform=\"translate(1032.888888888889,100)\" clip-path=\"url(#clipbb63aax3y3plot)\"><g class=\"scatterlayer mlayer\"><g class=\"trace scatter traceb7eba1\" style=\"stroke-miterlimit: 2; opacity: 1;\"><g class=\"fills\"/><g class=\"errorbars\"/><g class=\"lines\"><path class=\"js-line\" d=\"M0,304L140.77,304L145.17,16L149.57,304L153.96,304L206.75,304L211.15,16L215.55,304L219.95,304L387.11,304\" style=\"vector-effect: non-scaling-stroke; fill: none; stroke: rgb(0, 204, 150); stroke-opacity: 1; stroke-width: 2px; opacity: 1;\"/></g><g class=\"points\"/><g class=\"text\"/></g></g></g><g class=\"overplot\"/><path class=\"xlines-above crisp\" d=\"M0,0\" style=\"fill: none;\"/><path class=\"ylines-above crisp\" d=\"M0,0\" style=\"fill: none;\"/><g class=\"overlines-above\"/><g class=\"xaxislayer-above\"><g class=\"x3tick\"><text text-anchor=\"middle\" x=\"0\" y=\"433\" transform=\"translate(1103.898888888889,0)\" style=\"font-family: 'Open Sans', verdana, arial, sans-serif; font-size: 12px; fill: rgb(42, 63, 95); fill-opacity: 1; white-space: pre; opacity: 1;\">Jul 2019</text></g><g class=\"x3tick\"><text text-anchor=\"middle\" x=\"0\" y=\"433\" style=\"font-family: 'Open Sans', verdana, arial, sans-serif; font-size: 12px; fill: rgb(42, 63, 95); fill-opacity: 1; white-space: pre; opacity: 1;\" transform=\"translate(1219.528888888889,0)\">Jan 2020</text></g><g class=\"x3tick\"><text text-anchor=\"middle\" x=\"0\" y=\"433\" style=\"font-family: 'Open Sans', verdana, arial, sans-serif; font-size: 12px; fill: rgb(42, 63, 95); fill-opacity: 1; white-space: pre; opacity: 1;\" transform=\"translate(1333.908888888889,0)\">Jul 2020</text></g></g><g class=\"yaxislayer-above\"/><g class=\"overaxes-above\"/></g></g><g class=\"polarlayer\"/><g class=\"smithlayer\"/><g class=\"ternarylayer\"/><g class=\"geolayer\"/><g class=\"funnelarealayer\"/><g class=\"pielayer\"/><g class=\"iciclelayer\"/><g class=\"treemaplayer\"/><g class=\"sunburstlayer\"/><g class=\"glimages\"/><defs id=\"topdefs-bb63aa\"><g class=\"clips\"/></defs><g class=\"layer-above\"><g class=\"imagelayer\"/><g class=\"shapelayer\"/></g><g class=\"infolayer\"><g class=\"g-gtitle\"><text class=\"gtitle\" x=\"75\" y=\"50\" text-anchor=\"start\" dy=\"0em\" style=\"font-family: 'Open Sans', verdana, arial, sans-serif; font-size: 17px; fill: rgb(42, 63, 95); opacity: 1; font-weight: normal; white-space: pre;\">Drift plots for warehouse_ID</text></g><g class=\"g-xtitle\"/><g class=\"g-x2title\"/><g class=\"g-x3title\"/><g class=\"g-ytitle\"/><g class=\"g-y2title\"/><g class=\"g-y3title\"/><g class=\"annotation\" data-index=\"0\" style=\"opacity: 1;\"><g class=\"annotation-text-g\" transform=\"rotate(0,273.55555555555554,88.5)\"><g class=\"cursor-pointer\" transform=\"translate(198,77)\"><rect class=\"bg\" x=\"0.5\" y=\"0.5\" width=\"150\" height=\"22\" style=\"stroke-width: 1px; stroke: rgb(0, 0, 0); stroke-opacity: 0; fill: rgb(0, 0, 0); fill-opacity: 0;\"/><text class=\"annotation-text\" text-anchor=\"middle\" x=\"75.265625\" y=\"18\" style=\"font-family: 'Open Sans', verdana, arial, sans-serif; font-size: 16px; fill: rgb(42, 63, 95); fill-opacity: 1; white-space: pre;\">original drift score</text></g></g></g><g class=\"annotation\" data-index=\"1\" style=\"opacity: 1;\"><g class=\"annotation-text-g\" transform=\"rotate(0,750,88.49999999999999)\"><g class=\"cursor-pointer\" transform=\"translate(588,77)\"><rect class=\"bg\" x=\"0.5\" y=\"0.5\" width=\"323\" height=\"22\" style=\"stroke-width: 1px; stroke: rgb(0, 0, 0); stroke-opacity: 0; fill: rgb(0, 0, 0); fill-opacity: 0;\"/><text class=\"annotation-text\" text-anchor=\"middle\" x=\"161.609375\" y=\"18\" style=\"font-family: 'Open Sans', verdana, arial, sans-serif; font-size: 16px; fill: rgb(42, 63, 95); fill-opacity: 1; white-space: pre;\">feature importance weighted drift score</text></g></g></g><g class=\"annotation\" data-index=\"2\" style=\"opacity: 1;\"><g class=\"annotation-text-g\" transform=\"rotate(0,1226.4444444444446,88.49999999999999)\"><g class=\"cursor-pointer\" transform=\"translate(1051,77)\"><rect class=\"bg\" x=\"0.5\" y=\"0.5\" width=\"349\" height=\"22\" style=\"stroke-width: 1px; stroke: rgb(0, 0, 0); stroke-opacity: 0; fill: rgb(0, 0, 0); fill-opacity: 0;\"/><text class=\"annotation-text\" text-anchor=\"middle\" x=\"174.96875\" y=\"18\" style=\"font-family: 'Open Sans', verdana, arial, sans-serif; font-size: 16px; fill: rgb(42, 63, 95); fill-opacity: 1; white-space: pre;\">feature importance weighted drift detected</text></g></g></g></g></svg>"
     },
     "metadata": {},
     "output_type": "display_data"
    }
   ],
   "source": [
    "plot_drift_detection(drift_detected_experiment_results.iloc[1:], 'warehouse_ID')"
   ]
  },
  {
   "cell_type": "markdown",
   "id": "b9a28d32",
   "metadata": {},
   "source": [
    "#### Drift in product type"
   ]
  },
  {
   "cell_type": "code",
   "execution_count": 156,
   "id": "75151161",
   "metadata": {},
   "outputs": [
    {
     "data": {
      "image/svg+xml": "<svg class=\"main-svg\" xmlns=\"http://www.w3.org/2000/svg\" xmlns:xlink=\"http://www.w3.org/1999/xlink\" width=\"1500\" height=\"500\" style=\"\" viewBox=\"0 0 1500 500\"><rect x=\"0\" y=\"0\" width=\"1500\" height=\"500\" style=\"fill: rgb(255, 255, 255); fill-opacity: 1;\"/><defs id=\"defs-b9de7b\"><g class=\"clips\"><clipPath id=\"clipb9de7bxyplot\" class=\"plotclip\"><rect width=\"387.11111111111114\" height=\"320\"/></clipPath><clipPath id=\"clipb9de7bx2y2plot\" class=\"plotclip\"><rect width=\"387.11111111111114\" height=\"320\"/></clipPath><clipPath id=\"clipb9de7bx3y3plot\" class=\"plotclip\"><rect width=\"387.1111111111111\" height=\"320\"/></clipPath><clipPath class=\"axesclip\" id=\"clipb9de7bx\"><rect x=\"80\" y=\"0\" width=\"387.11111111111114\" height=\"500\"/></clipPath><clipPath class=\"axesclip\" id=\"clipb9de7by\"><rect x=\"0\" y=\"100\" width=\"1500\" height=\"320\"/></clipPath><clipPath class=\"axesclip\" id=\"clipb9de7bxy\"><rect x=\"80\" y=\"100\" width=\"387.11111111111114\" height=\"320\"/></clipPath><clipPath class=\"axesclip\" id=\"clipb9de7by2\"><rect x=\"0\" y=\"100\" width=\"1500\" height=\"320\"/></clipPath><clipPath class=\"axesclip\" id=\"clipb9de7bxy2\"><rect x=\"80\" y=\"100\" width=\"387.11111111111114\" height=\"320\"/></clipPath><clipPath class=\"axesclip\" id=\"clipb9de7by3\"><rect x=\"0\" y=\"100\" width=\"1500\" height=\"320\"/></clipPath><clipPath class=\"axesclip\" id=\"clipb9de7bxy3\"><rect x=\"80\" y=\"100\" width=\"387.11111111111114\" height=\"320\"/></clipPath><clipPath class=\"axesclip\" id=\"clipb9de7bx2\"><rect x=\"556.4444444444445\" y=\"0\" width=\"387.11111111111114\" height=\"500\"/></clipPath><clipPath class=\"axesclip\" id=\"clipb9de7bx2y\"><rect x=\"556.4444444444445\" y=\"100\" width=\"387.11111111111114\" height=\"320\"/></clipPath><clipPath class=\"axesclip\" id=\"clipb9de7bx2y2\"><rect x=\"556.4444444444445\" y=\"100\" width=\"387.11111111111114\" height=\"320\"/></clipPath><clipPath class=\"axesclip\" id=\"clipb9de7bx2y3\"><rect x=\"556.4444444444445\" y=\"100\" width=\"387.11111111111114\" height=\"320\"/></clipPath><clipPath class=\"axesclip\" id=\"clipb9de7bx3\"><rect x=\"1032.888888888889\" y=\"0\" width=\"387.1111111111111\" height=\"500\"/></clipPath><clipPath class=\"axesclip\" id=\"clipb9de7bx3y\"><rect x=\"1032.888888888889\" y=\"100\" width=\"387.1111111111111\" height=\"320\"/></clipPath><clipPath class=\"axesclip\" id=\"clipb9de7bx3y2\"><rect x=\"1032.888888888889\" y=\"100\" width=\"387.1111111111111\" height=\"320\"/></clipPath><clipPath class=\"axesclip\" id=\"clipb9de7bx3y3\"><rect x=\"1032.888888888889\" y=\"100\" width=\"387.1111111111111\" height=\"320\"/></clipPath></g><g class=\"gradients\"/><g class=\"patterns\"/></defs><g class=\"bglayer\"><rect class=\"bg\" x=\"80\" y=\"100\" width=\"387.11111111111114\" height=\"320\" style=\"fill: rgb(229, 236, 246); fill-opacity: 1; stroke-width: 0;\"/><rect class=\"bg\" x=\"556.4444444444445\" y=\"100\" width=\"387.11111111111114\" height=\"320\" style=\"fill: rgb(229, 236, 246); fill-opacity: 1; stroke-width: 0;\"/><rect class=\"bg\" x=\"1032.888888888889\" y=\"100\" width=\"387.1111111111111\" height=\"320\" style=\"fill: rgb(229, 236, 246); fill-opacity: 1; stroke-width: 0;\"/></g><g class=\"layer-below\"><g class=\"imagelayer\"/><g class=\"shapelayer\"/></g><g class=\"cartesianlayer\"><g class=\"subplot xy\"><g class=\"layer-subplot\"><g class=\"shapelayer\"/><g class=\"imagelayer\"/></g><g class=\"minor-gridlayer\"><g class=\"x\"/><g class=\"y\"/></g><g class=\"gridlayer\"><g class=\"x\"><path class=\"xgrid crisp\" transform=\"translate(151.01,0)\" d=\"M0,100v320\" style=\"stroke: rgb(255, 255, 255); stroke-opacity: 1; stroke-width: 1px;\"/><path class=\"xgrid crisp\" transform=\"translate(266.64,0)\" d=\"M0,100v320\" style=\"stroke: rgb(255, 255, 255); stroke-opacity: 1; stroke-width: 1px;\"/><path class=\"xgrid crisp\" transform=\"translate(381.02,0)\" d=\"M0,100v320\" style=\"stroke: rgb(255, 255, 255); stroke-opacity: 1; stroke-width: 1px;\"/></g><g class=\"y\"><path class=\"ygrid crisp\" transform=\"translate(0,380.12)\" d=\"M80,0h387.11111111111114\" style=\"stroke: rgb(255, 255, 255); stroke-opacity: 1; stroke-width: 1px;\"/><path class=\"ygrid crisp\" transform=\"translate(0,336.1)\" d=\"M80,0h387.11111111111114\" style=\"stroke: rgb(255, 255, 255); stroke-opacity: 1; stroke-width: 1px;\"/><path class=\"ygrid crisp\" transform=\"translate(0,292.08000000000004)\" d=\"M80,0h387.11111111111114\" style=\"stroke: rgb(255, 255, 255); stroke-opacity: 1; stroke-width: 1px;\"/><path class=\"ygrid crisp\" transform=\"translate(0,248.06)\" d=\"M80,0h387.11111111111114\" style=\"stroke: rgb(255, 255, 255); stroke-opacity: 1; stroke-width: 1px;\"/><path class=\"ygrid crisp\" transform=\"translate(0,204.04000000000002)\" d=\"M80,0h387.11111111111114\" style=\"stroke: rgb(255, 255, 255); stroke-opacity: 1; stroke-width: 1px;\"/><path class=\"ygrid crisp\" transform=\"translate(0,160.02)\" d=\"M80,0h387.11111111111114\" style=\"stroke: rgb(255, 255, 255); stroke-opacity: 1; stroke-width: 1px;\"/><path class=\"ygrid crisp\" transform=\"translate(0,116)\" d=\"M80,0h387.11111111111114\" style=\"stroke: rgb(255, 255, 255); stroke-opacity: 1; stroke-width: 1px;\"/></g></g><g class=\"zerolinelayer\"/><path class=\"xlines-below\"/><path class=\"ylines-below\"/><g class=\"overlines-below\"/><g class=\"xaxislayer-below\"/><g class=\"yaxislayer-below\"/><g class=\"overaxes-below\"/><g class=\"plot\" transform=\"translate(80,100)\" clip-path=\"url(#clipb9de7bxyplot)\"><g class=\"scatterlayer mlayer\"><g class=\"trace scatter trace3e6c6a\" style=\"stroke-miterlimit: 2; opacity: 1;\"><g class=\"fills\"/><g class=\"errorbars\"/><g class=\"lines\"><path class=\"js-line\" d=\"M0,89.71L4.4,101.37L8.8,109.86L17.6,123.66L21.99,129.59L35.19,144.93L39.59,149.92L52.79,164.19L57.19,168.43L70.38,179.95L74.78,183.46L92.38,196.1L96.78,198.97L114.37,209.49L118.77,211.91L140.77,222.95L145.17,224.98L171.56,236.06L175.96,237.75L255.14,267.16L259.54,268.57L334.32,291.59L338.72,292.74L373.91,301.17L378.31,302.13L387.11,304\" style=\"vector-effect: non-scaling-stroke; fill: none; stroke: rgb(99, 110, 250); stroke-opacity: 1; stroke-width: 2px; opacity: 1;\"/></g><g class=\"points\"/><g class=\"text\"/></g></g></g><g class=\"overplot\"/><path class=\"xlines-above crisp\" d=\"M0,0\" style=\"fill: none;\"/><path class=\"ylines-above crisp\" d=\"M0,0\" style=\"fill: none;\"/><g class=\"overlines-above\"/><g class=\"xaxislayer-above\"><g class=\"xtick\"><text text-anchor=\"middle\" x=\"0\" y=\"433\" transform=\"translate(151.01,0)\" style=\"font-family: 'Open Sans', verdana, arial, sans-serif; font-size: 12px; fill: rgb(42, 63, 95); fill-opacity: 1; white-space: pre; opacity: 1;\">Jul 2019</text></g><g class=\"xtick\"><text text-anchor=\"middle\" x=\"0\" y=\"433\" style=\"font-family: 'Open Sans', verdana, arial, sans-serif; font-size: 12px; fill: rgb(42, 63, 95); fill-opacity: 1; white-space: pre; opacity: 1;\" transform=\"translate(266.64,0)\">Jan 2020</text></g><g class=\"xtick\"><text text-anchor=\"middle\" x=\"0\" y=\"433\" style=\"font-family: 'Open Sans', verdana, arial, sans-serif; font-size: 12px; fill: rgb(42, 63, 95); fill-opacity: 1; white-space: pre; opacity: 1;\" transform=\"translate(381.02,0)\">Jul 2020</text></g></g><g class=\"yaxislayer-above\"><g class=\"ytick\"><text text-anchor=\"end\" x=\"79\" y=\"4.199999999999999\" transform=\"translate(0,380.12)\" style=\"font-family: 'Open Sans', verdana, arial, sans-serif; font-size: 12px; fill: rgb(42, 63, 95); fill-opacity: 1; white-space: pre; opacity: 1;\">0.4</text></g><g class=\"ytick\"><text text-anchor=\"end\" x=\"79\" y=\"4.199999999999999\" style=\"font-family: 'Open Sans', verdana, arial, sans-serif; font-size: 12px; fill: rgb(42, 63, 95); fill-opacity: 1; white-space: pre; opacity: 1;\" transform=\"translate(0,336.1)\">0.5</text></g><g class=\"ytick\"><text text-anchor=\"end\" x=\"79\" y=\"4.199999999999999\" style=\"font-family: 'Open Sans', verdana, arial, sans-serif; font-size: 12px; fill: rgb(42, 63, 95); fill-opacity: 1; white-space: pre; opacity: 1;\" transform=\"translate(0,292.08000000000004)\">0.6</text></g><g class=\"ytick\"><text text-anchor=\"end\" x=\"79\" y=\"4.199999999999999\" style=\"font-family: 'Open Sans', verdana, arial, sans-serif; font-size: 12px; fill: rgb(42, 63, 95); fill-opacity: 1; white-space: pre; opacity: 1;\" transform=\"translate(0,248.06)\">0.7</text></g><g class=\"ytick\"><text text-anchor=\"end\" x=\"79\" y=\"4.199999999999999\" style=\"font-family: 'Open Sans', verdana, arial, sans-serif; font-size: 12px; fill: rgb(42, 63, 95); fill-opacity: 1; white-space: pre; opacity: 1;\" transform=\"translate(0,204.04000000000002)\">0.8</text></g><g class=\"ytick\"><text text-anchor=\"end\" x=\"79\" y=\"4.199999999999999\" style=\"font-family: 'Open Sans', verdana, arial, sans-serif; font-size: 12px; fill: rgb(42, 63, 95); fill-opacity: 1; white-space: pre; opacity: 1;\" transform=\"translate(0,160.02)\">0.9</text></g><g class=\"ytick\"><text text-anchor=\"end\" x=\"79\" y=\"4.199999999999999\" style=\"font-family: 'Open Sans', verdana, arial, sans-serif; font-size: 12px; fill: rgb(42, 63, 95); fill-opacity: 1; white-space: pre; opacity: 1;\" transform=\"translate(0,116)\">1</text></g></g><g class=\"overaxes-above\"/></g><g class=\"subplot x2y2\"><g class=\"layer-subplot\"><g class=\"shapelayer\"/><g class=\"imagelayer\"/></g><g class=\"minor-gridlayer\"><g class=\"x2\"/><g class=\"y2\"/></g><g class=\"gridlayer\"><g class=\"x2\"><path class=\"x2grid crisp\" transform=\"translate(627.4544444444444,0)\" d=\"M0,100v320\" style=\"stroke: rgb(255, 255, 255); stroke-opacity: 1; stroke-width: 1px;\"/><path class=\"x2grid crisp\" transform=\"translate(743.0844444444444,0)\" d=\"M0,100v320\" style=\"stroke: rgb(255, 255, 255); stroke-opacity: 1; stroke-width: 1px;\"/><path class=\"x2grid crisp\" transform=\"translate(857.4644444444444,0)\" d=\"M0,100v320\" style=\"stroke: rgb(255, 255, 255); stroke-opacity: 1; stroke-width: 1px;\"/></g><g class=\"y2\"><path class=\"y2grid crisp\" transform=\"translate(0,380.12)\" d=\"M556.4444444444445,0h387.11111111111114\" style=\"stroke: rgb(255, 255, 255); stroke-opacity: 1; stroke-width: 1px;\"/><path class=\"y2grid crisp\" transform=\"translate(0,336.1)\" d=\"M556.4444444444445,0h387.11111111111114\" style=\"stroke: rgb(255, 255, 255); stroke-opacity: 1; stroke-width: 1px;\"/><path class=\"y2grid crisp\" transform=\"translate(0,292.08000000000004)\" d=\"M556.4444444444445,0h387.11111111111114\" style=\"stroke: rgb(255, 255, 255); stroke-opacity: 1; stroke-width: 1px;\"/><path class=\"y2grid crisp\" transform=\"translate(0,248.06)\" d=\"M556.4444444444445,0h387.11111111111114\" style=\"stroke: rgb(255, 255, 255); stroke-opacity: 1; stroke-width: 1px;\"/><path class=\"y2grid crisp\" transform=\"translate(0,204.04000000000002)\" d=\"M556.4444444444445,0h387.11111111111114\" style=\"stroke: rgb(255, 255, 255); stroke-opacity: 1; stroke-width: 1px;\"/><path class=\"y2grid crisp\" transform=\"translate(0,160.02)\" d=\"M556.4444444444445,0h387.11111111111114\" style=\"stroke: rgb(255, 255, 255); stroke-opacity: 1; stroke-width: 1px;\"/><path class=\"y2grid crisp\" transform=\"translate(0,116)\" d=\"M556.4444444444445,0h387.11111111111114\" style=\"stroke: rgb(255, 255, 255); stroke-opacity: 1; stroke-width: 1px;\"/></g></g><g class=\"zerolinelayer\"/><path class=\"xlines-below\"/><path class=\"ylines-below\"/><g class=\"overlines-below\"/><g class=\"xaxislayer-below\"/><g class=\"yaxislayer-below\"/><g class=\"overaxes-below\"/><g class=\"plot\" transform=\"translate(556.4444444444445,100)\" clip-path=\"url(#clipb9de7bx2y2plot)\"><g class=\"scatterlayer mlayer\"><g class=\"trace scatter traceb75bf3\" style=\"stroke-miterlimit: 2; opacity: 1;\"><g class=\"fills\"/><g class=\"errorbars\"/><g class=\"lines\"><path class=\"js-line\" d=\"M0,89.71L4.4,101.37L8.8,109.86L17.6,123.66L21.99,129.59L35.19,144.93L39.59,149.92L52.79,164.19L57.19,168.43L70.38,179.95L74.78,183.46L92.38,196.1L96.78,198.97L114.37,209.49L118.77,211.91L140.77,222.95L145.17,224.98L171.56,236.06L175.96,237.75L255.14,267.16L259.54,268.57L334.32,291.59L338.72,292.74L373.91,301.17L378.31,302.13L387.11,304\" style=\"vector-effect: non-scaling-stroke; fill: none; stroke: rgb(239, 85, 59); stroke-opacity: 1; stroke-width: 2px; opacity: 1;\"/></g><g class=\"points\"/><g class=\"text\"/></g></g></g><g class=\"overplot\"/><path class=\"xlines-above crisp\" d=\"M0,0\" style=\"fill: none;\"/><path class=\"ylines-above crisp\" d=\"M0,0\" style=\"fill: none;\"/><g class=\"overlines-above\"/><g class=\"xaxislayer-above\"><g class=\"x2tick\"><text text-anchor=\"middle\" x=\"0\" y=\"433\" transform=\"translate(627.4544444444444,0)\" style=\"font-family: 'Open Sans', verdana, arial, sans-serif; font-size: 12px; fill: rgb(42, 63, 95); fill-opacity: 1; white-space: pre; opacity: 1;\">Jul 2019</text></g><g class=\"x2tick\"><text text-anchor=\"middle\" x=\"0\" y=\"433\" style=\"font-family: 'Open Sans', verdana, arial, sans-serif; font-size: 12px; fill: rgb(42, 63, 95); fill-opacity: 1; white-space: pre; opacity: 1;\" transform=\"translate(743.0844444444444,0)\">Jan 2020</text></g><g class=\"x2tick\"><text text-anchor=\"middle\" x=\"0\" y=\"433\" style=\"font-family: 'Open Sans', verdana, arial, sans-serif; font-size: 12px; fill: rgb(42, 63, 95); fill-opacity: 1; white-space: pre; opacity: 1;\" transform=\"translate(857.4644444444444,0)\">Jul 2020</text></g></g><g class=\"yaxislayer-above\"/><g class=\"overaxes-above\"/></g><g class=\"subplot x3y3\"><g class=\"layer-subplot\"><g class=\"shapelayer\"/><g class=\"imagelayer\"/></g><g class=\"minor-gridlayer\"><g class=\"x3\"/><g class=\"y3\"/></g><g class=\"gridlayer\"><g class=\"x3\"><path class=\"x3grid crisp\" transform=\"translate(1103.898888888889,0)\" d=\"M0,100v320\" style=\"stroke: rgb(255, 255, 255); stroke-opacity: 1; stroke-width: 1px;\"/><path class=\"x3grid crisp\" transform=\"translate(1219.528888888889,0)\" d=\"M0,100v320\" style=\"stroke: rgb(255, 255, 255); stroke-opacity: 1; stroke-width: 1px;\"/><path class=\"x3grid crisp\" transform=\"translate(1333.908888888889,0)\" d=\"M0,100v320\" style=\"stroke: rgb(255, 255, 255); stroke-opacity: 1; stroke-width: 1px;\"/></g><g class=\"y3\"><path class=\"y3grid crisp\" transform=\"translate(0,380.12)\" d=\"M1032.888888888889,0h387.1111111111111\" style=\"stroke: rgb(255, 255, 255); stroke-opacity: 1; stroke-width: 1px;\"/><path class=\"y3grid crisp\" transform=\"translate(0,336.1)\" d=\"M1032.888888888889,0h387.1111111111111\" style=\"stroke: rgb(255, 255, 255); stroke-opacity: 1; stroke-width: 1px;\"/><path class=\"y3grid crisp\" transform=\"translate(0,292.08000000000004)\" d=\"M1032.888888888889,0h387.1111111111111\" style=\"stroke: rgb(255, 255, 255); stroke-opacity: 1; stroke-width: 1px;\"/><path class=\"y3grid crisp\" transform=\"translate(0,248.06)\" d=\"M1032.888888888889,0h387.1111111111111\" style=\"stroke: rgb(255, 255, 255); stroke-opacity: 1; stroke-width: 1px;\"/><path class=\"y3grid crisp\" transform=\"translate(0,204.04000000000002)\" d=\"M1032.888888888889,0h387.1111111111111\" style=\"stroke: rgb(255, 255, 255); stroke-opacity: 1; stroke-width: 1px;\"/><path class=\"y3grid crisp\" transform=\"translate(0,160.02)\" d=\"M1032.888888888889,0h387.1111111111111\" style=\"stroke: rgb(255, 255, 255); stroke-opacity: 1; stroke-width: 1px;\"/><path class=\"y3grid crisp\" transform=\"translate(0,116)\" d=\"M1032.888888888889,0h387.1111111111111\" style=\"stroke: rgb(255, 255, 255); stroke-opacity: 1; stroke-width: 1px;\"/></g></g><g class=\"zerolinelayer\"/><path class=\"xlines-below\"/><path class=\"ylines-below\"/><g class=\"overlines-below\"/><g class=\"xaxislayer-below\"/><g class=\"yaxislayer-below\"/><g class=\"overaxes-below\"/><g class=\"plot\" transform=\"translate(1032.888888888889,100)\" clip-path=\"url(#clipb9de7bx3y3plot)\"><g class=\"scatterlayer mlayer\"><g class=\"trace scatter tracee05ce7\" style=\"stroke-miterlimit: 2; opacity: 1;\"><g class=\"fills\"/><g class=\"errorbars\"/><g class=\"lines\"><path class=\"js-line\" d=\"M0,16L387.11,16\" style=\"vector-effect: non-scaling-stroke; fill: none; stroke: rgb(0, 204, 150); stroke-opacity: 1; stroke-width: 2px; opacity: 1;\"/></g><g class=\"points\"/><g class=\"text\"/></g></g></g><g class=\"overplot\"/><path class=\"xlines-above crisp\" d=\"M0,0\" style=\"fill: none;\"/><path class=\"ylines-above crisp\" d=\"M0,0\" style=\"fill: none;\"/><g class=\"overlines-above\"/><g class=\"xaxislayer-above\"><g class=\"x3tick\"><text text-anchor=\"middle\" x=\"0\" y=\"433\" transform=\"translate(1103.898888888889,0)\" style=\"font-family: 'Open Sans', verdana, arial, sans-serif; font-size: 12px; fill: rgb(42, 63, 95); fill-opacity: 1; white-space: pre; opacity: 1;\">Jul 2019</text></g><g class=\"x3tick\"><text text-anchor=\"middle\" x=\"0\" y=\"433\" style=\"font-family: 'Open Sans', verdana, arial, sans-serif; font-size: 12px; fill: rgb(42, 63, 95); fill-opacity: 1; white-space: pre; opacity: 1;\" transform=\"translate(1219.528888888889,0)\">Jan 2020</text></g><g class=\"x3tick\"><text text-anchor=\"middle\" x=\"0\" y=\"433\" style=\"font-family: 'Open Sans', verdana, arial, sans-serif; font-size: 12px; fill: rgb(42, 63, 95); fill-opacity: 1; white-space: pre; opacity: 1;\" transform=\"translate(1333.908888888889,0)\">Jul 2020</text></g></g><g class=\"yaxislayer-above\"/><g class=\"overaxes-above\"/></g></g><g class=\"polarlayer\"/><g class=\"smithlayer\"/><g class=\"ternarylayer\"/><g class=\"geolayer\"/><g class=\"funnelarealayer\"/><g class=\"pielayer\"/><g class=\"iciclelayer\"/><g class=\"treemaplayer\"/><g class=\"sunburstlayer\"/><g class=\"glimages\"/><defs id=\"topdefs-b9de7b\"><g class=\"clips\"/></defs><g class=\"layer-above\"><g class=\"imagelayer\"/><g class=\"shapelayer\"/></g><g class=\"infolayer\"><g class=\"g-gtitle\"><text class=\"gtitle\" x=\"75\" y=\"50\" text-anchor=\"start\" dy=\"0em\" style=\"font-family: 'Open Sans', verdana, arial, sans-serif; font-size: 17px; fill: rgb(42, 63, 95); opacity: 1; font-weight: normal; white-space: pre;\">Drift plots for Product_Type</text></g><g class=\"g-xtitle\"/><g class=\"g-x2title\"/><g class=\"g-x3title\"/><g class=\"g-ytitle\"/><g class=\"g-y2title\"/><g class=\"g-y3title\"/><g class=\"annotation\" data-index=\"0\" style=\"opacity: 1;\"><g class=\"annotation-text-g\" transform=\"rotate(0,273.55555555555554,88.5)\"><g class=\"cursor-pointer\" transform=\"translate(198,77)\"><rect class=\"bg\" x=\"0.5\" y=\"0.5\" width=\"150\" height=\"22\" style=\"stroke-width: 1px; stroke: rgb(0, 0, 0); stroke-opacity: 0; fill: rgb(0, 0, 0); fill-opacity: 0;\"/><text class=\"annotation-text\" text-anchor=\"middle\" x=\"75.265625\" y=\"18\" style=\"font-family: 'Open Sans', verdana, arial, sans-serif; font-size: 16px; fill: rgb(42, 63, 95); fill-opacity: 1; white-space: pre;\">original drift score</text></g></g></g><g class=\"annotation\" data-index=\"1\" style=\"opacity: 1;\"><g class=\"annotation-text-g\" transform=\"rotate(0,750,88.49999999999999)\"><g class=\"cursor-pointer\" transform=\"translate(588,77)\"><rect class=\"bg\" x=\"0.5\" y=\"0.5\" width=\"323\" height=\"22\" style=\"stroke-width: 1px; stroke: rgb(0, 0, 0); stroke-opacity: 0; fill: rgb(0, 0, 0); fill-opacity: 0;\"/><text class=\"annotation-text\" text-anchor=\"middle\" x=\"161.609375\" y=\"18\" style=\"font-family: 'Open Sans', verdana, arial, sans-serif; font-size: 16px; fill: rgb(42, 63, 95); fill-opacity: 1; white-space: pre;\">feature importance weighted drift score</text></g></g></g><g class=\"annotation\" data-index=\"2\" style=\"opacity: 1;\"><g class=\"annotation-text-g\" transform=\"rotate(0,1226.4444444444446,88.49999999999999)\"><g class=\"cursor-pointer\" transform=\"translate(1051,77)\"><rect class=\"bg\" x=\"0.5\" y=\"0.5\" width=\"349\" height=\"22\" style=\"stroke-width: 1px; stroke: rgb(0, 0, 0); stroke-opacity: 0; fill: rgb(0, 0, 0); fill-opacity: 0;\"/><text class=\"annotation-text\" text-anchor=\"middle\" x=\"174.96875\" y=\"18\" style=\"font-family: 'Open Sans', verdana, arial, sans-serif; font-size: 16px; fill: rgb(42, 63, 95); fill-opacity: 1; white-space: pre;\">feature importance weighted drift detected</text></g></g></g></g></svg>"
     },
     "metadata": {},
     "output_type": "display_data"
    }
   ],
   "source": [
    "plot_drift_detection(drift_detected_experiment_results.iloc[1:], 'Product_Type')"
   ]
  },
  {
   "cell_type": "markdown",
   "id": "3e94770a",
   "metadata": {},
   "source": [
    "#### Drift in covid cases per state"
   ]
  },
  {
   "cell_type": "code",
   "execution_count": 157,
   "id": "eedaa70a",
   "metadata": {},
   "outputs": [
    {
     "data": {
      "image/svg+xml": "<svg class=\"main-svg\" xmlns=\"http://www.w3.org/2000/svg\" xmlns:xlink=\"http://www.w3.org/1999/xlink\" width=\"1500\" height=\"500\" style=\"\" viewBox=\"0 0 1500 500\"><rect x=\"0\" y=\"0\" width=\"1500\" height=\"500\" style=\"fill: rgb(255, 255, 255); fill-opacity: 1;\"/><defs id=\"defs-291df9\"><g class=\"clips\"><clipPath id=\"clip291df9xyplot\" class=\"plotclip\"><rect width=\"387.11111111111114\" height=\"320\"/></clipPath><clipPath id=\"clip291df9x2y2plot\" class=\"plotclip\"><rect width=\"387.11111111111114\" height=\"320\"/></clipPath><clipPath id=\"clip291df9x3y3plot\" class=\"plotclip\"><rect width=\"387.1111111111111\" height=\"320\"/></clipPath><clipPath class=\"axesclip\" id=\"clip291df9x\"><rect x=\"80\" y=\"0\" width=\"387.11111111111114\" height=\"500\"/></clipPath><clipPath class=\"axesclip\" id=\"clip291df9y\"><rect x=\"0\" y=\"100\" width=\"1500\" height=\"320\"/></clipPath><clipPath class=\"axesclip\" id=\"clip291df9xy\"><rect x=\"80\" y=\"100\" width=\"387.11111111111114\" height=\"320\"/></clipPath><clipPath class=\"axesclip\" id=\"clip291df9y2\"><rect x=\"0\" y=\"100\" width=\"1500\" height=\"320\"/></clipPath><clipPath class=\"axesclip\" id=\"clip291df9xy2\"><rect x=\"80\" y=\"100\" width=\"387.11111111111114\" height=\"320\"/></clipPath><clipPath class=\"axesclip\" id=\"clip291df9y3\"><rect x=\"0\" y=\"100\" width=\"1500\" height=\"320\"/></clipPath><clipPath class=\"axesclip\" id=\"clip291df9xy3\"><rect x=\"80\" y=\"100\" width=\"387.11111111111114\" height=\"320\"/></clipPath><clipPath class=\"axesclip\" id=\"clip291df9x2\"><rect x=\"556.4444444444445\" y=\"0\" width=\"387.11111111111114\" height=\"500\"/></clipPath><clipPath class=\"axesclip\" id=\"clip291df9x2y\"><rect x=\"556.4444444444445\" y=\"100\" width=\"387.11111111111114\" height=\"320\"/></clipPath><clipPath class=\"axesclip\" id=\"clip291df9x2y2\"><rect x=\"556.4444444444445\" y=\"100\" width=\"387.11111111111114\" height=\"320\"/></clipPath><clipPath class=\"axesclip\" id=\"clip291df9x2y3\"><rect x=\"556.4444444444445\" y=\"100\" width=\"387.11111111111114\" height=\"320\"/></clipPath><clipPath class=\"axesclip\" id=\"clip291df9x3\"><rect x=\"1032.888888888889\" y=\"0\" width=\"387.1111111111111\" height=\"500\"/></clipPath><clipPath class=\"axesclip\" id=\"clip291df9x3y\"><rect x=\"1032.888888888889\" y=\"100\" width=\"387.1111111111111\" height=\"320\"/></clipPath><clipPath class=\"axesclip\" id=\"clip291df9x3y2\"><rect x=\"1032.888888888889\" y=\"100\" width=\"387.1111111111111\" height=\"320\"/></clipPath><clipPath class=\"axesclip\" id=\"clip291df9x3y3\"><rect x=\"1032.888888888889\" y=\"100\" width=\"387.1111111111111\" height=\"320\"/></clipPath></g><g class=\"gradients\"/><g class=\"patterns\"/></defs><g class=\"bglayer\"><rect class=\"bg\" x=\"80\" y=\"100\" width=\"387.11111111111114\" height=\"320\" style=\"fill: rgb(229, 236, 246); fill-opacity: 1; stroke-width: 0;\"/><rect class=\"bg\" x=\"556.4444444444445\" y=\"100\" width=\"387.11111111111114\" height=\"320\" style=\"fill: rgb(229, 236, 246); fill-opacity: 1; stroke-width: 0;\"/><rect class=\"bg\" x=\"1032.888888888889\" y=\"100\" width=\"387.1111111111111\" height=\"320\" style=\"fill: rgb(229, 236, 246); fill-opacity: 1; stroke-width: 0;\"/></g><g class=\"layer-below\"><g class=\"imagelayer\"/><g class=\"shapelayer\"/></g><g class=\"cartesianlayer\"><g class=\"subplot xy\"><g class=\"layer-subplot\"><g class=\"shapelayer\"/><g class=\"imagelayer\"/></g><g class=\"minor-gridlayer\"><g class=\"x\"/><g class=\"y\"/></g><g class=\"gridlayer\"><g class=\"x\"><path class=\"xgrid crisp\" transform=\"translate(151.01,0)\" d=\"M0,100v320\" style=\"stroke: rgb(255, 255, 255); stroke-opacity: 1; stroke-width: 1px;\"/><path class=\"xgrid crisp\" transform=\"translate(266.64,0)\" d=\"M0,100v320\" style=\"stroke: rgb(255, 255, 255); stroke-opacity: 1; stroke-width: 1px;\"/><path class=\"xgrid crisp\" transform=\"translate(381.02,0)\" d=\"M0,100v320\" style=\"stroke: rgb(255, 255, 255); stroke-opacity: 1; stroke-width: 1px;\"/></g><g class=\"y\"><path class=\"ygrid crisp\" transform=\"translate(0,348.97)\" d=\"M80,0h387.11111111111114\" style=\"stroke: rgb(255, 255, 255); stroke-opacity: 1; stroke-width: 1px;\"/><path class=\"ygrid crisp\" transform=\"translate(0,293.95)\" d=\"M80,0h387.11111111111114\" style=\"stroke: rgb(255, 255, 255); stroke-opacity: 1; stroke-width: 1px;\"/><path class=\"ygrid crisp\" transform=\"translate(0,238.92)\" d=\"M80,0h387.11111111111114\" style=\"stroke: rgb(255, 255, 255); stroke-opacity: 1; stroke-width: 1px;\"/><path class=\"ygrid crisp\" transform=\"translate(0,183.89)\" d=\"M80,0h387.11111111111114\" style=\"stroke: rgb(255, 255, 255); stroke-opacity: 1; stroke-width: 1px;\"/><path class=\"ygrid crisp\" transform=\"translate(0,128.86)\" d=\"M80,0h387.11111111111114\" style=\"stroke: rgb(255, 255, 255); stroke-opacity: 1; stroke-width: 1px;\"/></g></g><g class=\"zerolinelayer\"><path class=\"yzl zl crisp\" transform=\"translate(0,404)\" d=\"M80,0h387.11111111111114\" style=\"stroke: rgb(255, 255, 255); stroke-opacity: 1; stroke-width: 2px;\"/></g><path class=\"xlines-below\"/><path class=\"ylines-below\"/><g class=\"overlines-below\"/><g class=\"xaxislayer-below\"/><g class=\"yaxislayer-below\"/><g class=\"overaxes-below\"/><g class=\"plot\" transform=\"translate(80,100)\" clip-path=\"url(#clip291df9xyplot)\"><g class=\"scatterlayer mlayer\"><g class=\"trace scatter trace17f0dd\" style=\"stroke-miterlimit: 2; opacity: 1;\"><g class=\"fills\"/><g class=\"errorbars\"/><g class=\"lines\"><path class=\"js-line\" d=\"M0,304L197.95,304L202.35,303.06L206.75,302.21L211.15,302.39L224.35,302.38L228.75,224.4L233.15,28.74L237.55,16L241.94,113.02L246.34,188.72L250.74,232.36L255.14,252.11L259.54,261.31L263.94,264.76L268.34,266.31L272.74,272.32L285.93,283.29L290.33,284.82L294.73,285.15L299.13,284.41L307.93,281.43L312.33,280.59L321.13,282.23L325.53,283.91L338.72,288L343.12,288.9L356.32,290.9L360.72,291.36L373.91,291.96L378.31,291.84L387.11,290.96\" style=\"vector-effect: non-scaling-stroke; fill: none; stroke: rgb(99, 110, 250); stroke-opacity: 1; stroke-width: 2px; opacity: 1;\"/></g><g class=\"points\"/><g class=\"text\"/></g></g></g><g class=\"overplot\"/><path class=\"xlines-above crisp\" d=\"M0,0\" style=\"fill: none;\"/><path class=\"ylines-above crisp\" d=\"M0,0\" style=\"fill: none;\"/><g class=\"overlines-above\"/><g class=\"xaxislayer-above\"><g class=\"xtick\"><text text-anchor=\"middle\" x=\"0\" y=\"433\" transform=\"translate(151.01,0)\" style=\"font-family: 'Open Sans', verdana, arial, sans-serif; font-size: 12px; fill: rgb(42, 63, 95); fill-opacity: 1; white-space: pre; opacity: 1;\">Jul 2019</text></g><g class=\"xtick\"><text text-anchor=\"middle\" x=\"0\" y=\"433\" style=\"font-family: 'Open Sans', verdana, arial, sans-serif; font-size: 12px; fill: rgb(42, 63, 95); fill-opacity: 1; white-space: pre; opacity: 1;\" transform=\"translate(266.64,0)\">Jan 2020</text></g><g class=\"xtick\"><text text-anchor=\"middle\" x=\"0\" y=\"433\" style=\"font-family: 'Open Sans', verdana, arial, sans-serif; font-size: 12px; fill: rgb(42, 63, 95); fill-opacity: 1; white-space: pre; opacity: 1;\" transform=\"translate(381.02,0)\">Jul 2020</text></g></g><g class=\"yaxislayer-above\"><g class=\"ytick\"><text text-anchor=\"end\" x=\"79\" y=\"4.199999999999999\" transform=\"translate(0,404)\" style=\"font-family: 'Open Sans', verdana, arial, sans-serif; font-size: 12px; fill: rgb(42, 63, 95); fill-opacity: 1; white-space: pre; opacity: 1;\">0</text></g><g class=\"ytick\"><text text-anchor=\"end\" x=\"79\" y=\"4.199999999999999\" style=\"font-family: 'Open Sans', verdana, arial, sans-serif; font-size: 12px; fill: rgb(42, 63, 95); fill-opacity: 1; white-space: pre; opacity: 1;\" transform=\"translate(0,348.97)\">10</text></g><g class=\"ytick\"><text text-anchor=\"end\" x=\"79\" y=\"4.199999999999999\" style=\"font-family: 'Open Sans', verdana, arial, sans-serif; font-size: 12px; fill: rgb(42, 63, 95); fill-opacity: 1; white-space: pre; opacity: 1;\" transform=\"translate(0,293.95)\">20</text></g><g class=\"ytick\"><text text-anchor=\"end\" x=\"79\" y=\"4.199999999999999\" style=\"font-family: 'Open Sans', verdana, arial, sans-serif; font-size: 12px; fill: rgb(42, 63, 95); fill-opacity: 1; white-space: pre; opacity: 1;\" transform=\"translate(0,238.92)\">30</text></g><g class=\"ytick\"><text text-anchor=\"end\" x=\"79\" y=\"4.199999999999999\" style=\"font-family: 'Open Sans', verdana, arial, sans-serif; font-size: 12px; fill: rgb(42, 63, 95); fill-opacity: 1; white-space: pre; opacity: 1;\" transform=\"translate(0,183.89)\">40</text></g><g class=\"ytick\"><text text-anchor=\"end\" x=\"79\" y=\"4.199999999999999\" style=\"font-family: 'Open Sans', verdana, arial, sans-serif; font-size: 12px; fill: rgb(42, 63, 95); fill-opacity: 1; white-space: pre; opacity: 1;\" transform=\"translate(0,128.86)\">50</text></g></g><g class=\"overaxes-above\"/></g><g class=\"subplot x2y2\"><g class=\"layer-subplot\"><g class=\"shapelayer\"/><g class=\"imagelayer\"/></g><g class=\"minor-gridlayer\"><g class=\"x2\"/><g class=\"y2\"/></g><g class=\"gridlayer\"><g class=\"x2\"><path class=\"x2grid crisp\" transform=\"translate(627.4544444444444,0)\" d=\"M0,100v320\" style=\"stroke: rgb(255, 255, 255); stroke-opacity: 1; stroke-width: 1px;\"/><path class=\"x2grid crisp\" transform=\"translate(743.0844444444444,0)\" d=\"M0,100v320\" style=\"stroke: rgb(255, 255, 255); stroke-opacity: 1; stroke-width: 1px;\"/><path class=\"x2grid crisp\" transform=\"translate(857.4644444444444,0)\" d=\"M0,100v320\" style=\"stroke: rgb(255, 255, 255); stroke-opacity: 1; stroke-width: 1px;\"/></g><g class=\"y2\"><path class=\"y2grid crisp\" transform=\"translate(0,348.97)\" d=\"M556.4444444444445,0h387.11111111111114\" style=\"stroke: rgb(255, 255, 255); stroke-opacity: 1; stroke-width: 1px;\"/><path class=\"y2grid crisp\" transform=\"translate(0,293.95)\" d=\"M556.4444444444445,0h387.11111111111114\" style=\"stroke: rgb(255, 255, 255); stroke-opacity: 1; stroke-width: 1px;\"/><path class=\"y2grid crisp\" transform=\"translate(0,238.92)\" d=\"M556.4444444444445,0h387.11111111111114\" style=\"stroke: rgb(255, 255, 255); stroke-opacity: 1; stroke-width: 1px;\"/><path class=\"y2grid crisp\" transform=\"translate(0,183.89)\" d=\"M556.4444444444445,0h387.11111111111114\" style=\"stroke: rgb(255, 255, 255); stroke-opacity: 1; stroke-width: 1px;\"/><path class=\"y2grid crisp\" transform=\"translate(0,128.86)\" d=\"M556.4444444444445,0h387.11111111111114\" style=\"stroke: rgb(255, 255, 255); stroke-opacity: 1; stroke-width: 1px;\"/></g></g><g class=\"zerolinelayer\"><path class=\"y2zl zl crisp\" transform=\"translate(0,404)\" d=\"M556.4444444444445,0h387.11111111111114\" style=\"stroke: rgb(255, 255, 255); stroke-opacity: 1; stroke-width: 2px;\"/></g><path class=\"xlines-below\"/><path class=\"ylines-below\"/><g class=\"overlines-below\"/><g class=\"xaxislayer-below\"/><g class=\"yaxislayer-below\"/><g class=\"overaxes-below\"/><g class=\"plot\" transform=\"translate(556.4444444444445,100)\" clip-path=\"url(#clip291df9x2y2plot)\"><g class=\"scatterlayer mlayer\"><g class=\"trace scatter trace7ab0d2\" style=\"stroke-miterlimit: 2; opacity: 1;\"><g class=\"fills\"/><g class=\"errorbars\"/><g class=\"lines\"><path class=\"js-line\" d=\"M0,304L224.35,303.98L228.75,298.56L233.15,234.52L237.55,276.16L241.94,257.94L246.34,269.2L250.74,274.3L255.14,286.28L259.54,286.46L263.94,288.12L272.74,301.16L277.14,298.25L281.54,301.6L285.93,301.17L303.53,300.11L307.93,300.64L312.33,303.07L316.73,300.3L321.13,299.08L325.53,301.85L329.92,302.75L334.32,302.11L338.72,302.76L343.12,301.87L351.92,300.39L356.32,301.15L360.72,302.84L365.12,301.28L378.31,301.84L382.71,301.2L387.11,300.36\" style=\"vector-effect: non-scaling-stroke; fill: none; stroke: rgb(239, 85, 59); stroke-opacity: 1; stroke-width: 2px; opacity: 1;\"/></g><g class=\"points\"/><g class=\"text\"/></g></g></g><g class=\"overplot\"/><path class=\"xlines-above crisp\" d=\"M0,0\" style=\"fill: none;\"/><path class=\"ylines-above crisp\" d=\"M0,0\" style=\"fill: none;\"/><g class=\"overlines-above\"/><g class=\"xaxislayer-above\"><g class=\"x2tick\"><text text-anchor=\"middle\" x=\"0\" y=\"433\" transform=\"translate(627.4544444444444,0)\" style=\"font-family: 'Open Sans', verdana, arial, sans-serif; font-size: 12px; fill: rgb(42, 63, 95); fill-opacity: 1; white-space: pre; opacity: 1;\">Jul 2019</text></g><g class=\"x2tick\"><text text-anchor=\"middle\" x=\"0\" y=\"433\" style=\"font-family: 'Open Sans', verdana, arial, sans-serif; font-size: 12px; fill: rgb(42, 63, 95); fill-opacity: 1; white-space: pre; opacity: 1;\" transform=\"translate(743.0844444444444,0)\">Jan 2020</text></g><g class=\"x2tick\"><text text-anchor=\"middle\" x=\"0\" y=\"433\" style=\"font-family: 'Open Sans', verdana, arial, sans-serif; font-size: 12px; fill: rgb(42, 63, 95); fill-opacity: 1; white-space: pre; opacity: 1;\" transform=\"translate(857.4644444444444,0)\">Jul 2020</text></g></g><g class=\"yaxislayer-above\"/><g class=\"overaxes-above\"/></g><g class=\"subplot x3y3\"><g class=\"layer-subplot\"><g class=\"shapelayer\"/><g class=\"imagelayer\"/></g><g class=\"minor-gridlayer\"><g class=\"x3\"/><g class=\"y3\"/></g><g class=\"gridlayer\"><g class=\"x3\"><path class=\"x3grid crisp\" transform=\"translate(1103.898888888889,0)\" d=\"M0,100v320\" style=\"stroke: rgb(255, 255, 255); stroke-opacity: 1; stroke-width: 1px;\"/><path class=\"x3grid crisp\" transform=\"translate(1219.528888888889,0)\" d=\"M0,100v320\" style=\"stroke: rgb(255, 255, 255); stroke-opacity: 1; stroke-width: 1px;\"/><path class=\"x3grid crisp\" transform=\"translate(1333.908888888889,0)\" d=\"M0,100v320\" style=\"stroke: rgb(255, 255, 255); stroke-opacity: 1; stroke-width: 1px;\"/></g><g class=\"y3\"><path class=\"y3grid crisp\" transform=\"translate(0,348.97)\" d=\"M1032.888888888889,0h387.1111111111111\" style=\"stroke: rgb(255, 255, 255); stroke-opacity: 1; stroke-width: 1px;\"/><path class=\"y3grid crisp\" transform=\"translate(0,293.95)\" d=\"M1032.888888888889,0h387.1111111111111\" style=\"stroke: rgb(255, 255, 255); stroke-opacity: 1; stroke-width: 1px;\"/><path class=\"y3grid crisp\" transform=\"translate(0,238.92)\" d=\"M1032.888888888889,0h387.1111111111111\" style=\"stroke: rgb(255, 255, 255); stroke-opacity: 1; stroke-width: 1px;\"/><path class=\"y3grid crisp\" transform=\"translate(0,183.89)\" d=\"M1032.888888888889,0h387.1111111111111\" style=\"stroke: rgb(255, 255, 255); stroke-opacity: 1; stroke-width: 1px;\"/><path class=\"y3grid crisp\" transform=\"translate(0,128.86)\" d=\"M1032.888888888889,0h387.1111111111111\" style=\"stroke: rgb(255, 255, 255); stroke-opacity: 1; stroke-width: 1px;\"/></g></g><g class=\"zerolinelayer\"><path class=\"y3zl zl crisp\" transform=\"translate(0,404)\" d=\"M1032.888888888889,0h387.1111111111111\" style=\"stroke: rgb(255, 255, 255); stroke-opacity: 1; stroke-width: 2px;\"/></g><path class=\"xlines-below\"/><path class=\"ylines-below\"/><g class=\"overlines-below\"/><g class=\"xaxislayer-below\"/><g class=\"yaxislayer-below\"/><g class=\"overaxes-below\"/><g class=\"plot\" transform=\"translate(1032.888888888889,100)\" clip-path=\"url(#clip291df9x3y3plot)\"><g class=\"scatterlayer mlayer\"><g class=\"trace scatter tracec8e69d\" style=\"stroke-miterlimit: 2; opacity: 1;\"><g class=\"fills\"/><g class=\"errorbars\"/><g class=\"lines\"><path class=\"js-line\" d=\"M0,304L224.35,304L228.75,298.5L387.11,298.5\" style=\"vector-effect: non-scaling-stroke; fill: none; stroke: rgb(0, 204, 150); stroke-opacity: 1; stroke-width: 2px; opacity: 1;\"/></g><g class=\"points\"/><g class=\"text\"/></g></g></g><g class=\"overplot\"/><path class=\"xlines-above crisp\" d=\"M0,0\" style=\"fill: none;\"/><path class=\"ylines-above crisp\" d=\"M0,0\" style=\"fill: none;\"/><g class=\"overlines-above\"/><g class=\"xaxislayer-above\"><g class=\"x3tick\"><text text-anchor=\"middle\" x=\"0\" y=\"433\" transform=\"translate(1103.898888888889,0)\" style=\"font-family: 'Open Sans', verdana, arial, sans-serif; font-size: 12px; fill: rgb(42, 63, 95); fill-opacity: 1; white-space: pre; opacity: 1;\">Jul 2019</text></g><g class=\"x3tick\"><text text-anchor=\"middle\" x=\"0\" y=\"433\" style=\"font-family: 'Open Sans', verdana, arial, sans-serif; font-size: 12px; fill: rgb(42, 63, 95); fill-opacity: 1; white-space: pre; opacity: 1;\" transform=\"translate(1219.528888888889,0)\">Jan 2020</text></g><g class=\"x3tick\"><text text-anchor=\"middle\" x=\"0\" y=\"433\" style=\"font-family: 'Open Sans', verdana, arial, sans-serif; font-size: 12px; fill: rgb(42, 63, 95); fill-opacity: 1; white-space: pre; opacity: 1;\" transform=\"translate(1333.908888888889,0)\">Jul 2020</text></g></g><g class=\"yaxislayer-above\"/><g class=\"overaxes-above\"/></g></g><g class=\"polarlayer\"/><g class=\"smithlayer\"/><g class=\"ternarylayer\"/><g class=\"geolayer\"/><g class=\"funnelarealayer\"/><g class=\"pielayer\"/><g class=\"iciclelayer\"/><g class=\"treemaplayer\"/><g class=\"sunburstlayer\"/><g class=\"glimages\"/><defs id=\"topdefs-291df9\"><g class=\"clips\"/></defs><g class=\"layer-above\"><g class=\"imagelayer\"/><g class=\"shapelayer\"/></g><g class=\"infolayer\"><g class=\"g-gtitle\"><text class=\"gtitle\" x=\"75\" y=\"50\" text-anchor=\"start\" dy=\"0em\" style=\"font-family: 'Open Sans', verdana, arial, sans-serif; font-size: 17px; fill: rgb(42, 63, 95); opacity: 1; font-weight: normal; white-space: pre;\">Drift plots for state_cases</text></g><g class=\"g-xtitle\"/><g class=\"g-x2title\"/><g class=\"g-x3title\"/><g class=\"g-ytitle\"/><g class=\"g-y2title\"/><g class=\"g-y3title\"/><g class=\"annotation\" data-index=\"0\" style=\"opacity: 1;\"><g class=\"annotation-text-g\" transform=\"rotate(0,273.55555555555554,88.5)\"><g class=\"cursor-pointer\" transform=\"translate(198,77)\"><rect class=\"bg\" x=\"0.5\" y=\"0.5\" width=\"150\" height=\"22\" style=\"stroke-width: 1px; stroke: rgb(0, 0, 0); stroke-opacity: 0; fill: rgb(0, 0, 0); fill-opacity: 0;\"/><text class=\"annotation-text\" text-anchor=\"middle\" x=\"75.265625\" y=\"18\" style=\"font-family: 'Open Sans', verdana, arial, sans-serif; font-size: 16px; fill: rgb(42, 63, 95); fill-opacity: 1; white-space: pre;\">original drift score</text></g></g></g><g class=\"annotation\" data-index=\"1\" style=\"opacity: 1;\"><g class=\"annotation-text-g\" transform=\"rotate(0,750,88.49999999999999)\"><g class=\"cursor-pointer\" transform=\"translate(588,77)\"><rect class=\"bg\" x=\"0.5\" y=\"0.5\" width=\"323\" height=\"22\" style=\"stroke-width: 1px; stroke: rgb(0, 0, 0); stroke-opacity: 0; fill: rgb(0, 0, 0); fill-opacity: 0;\"/><text class=\"annotation-text\" text-anchor=\"middle\" x=\"161.609375\" y=\"18\" style=\"font-family: 'Open Sans', verdana, arial, sans-serif; font-size: 16px; fill: rgb(42, 63, 95); fill-opacity: 1; white-space: pre;\">feature importance weighted drift score</text></g></g></g><g class=\"annotation\" data-index=\"2\" style=\"opacity: 1;\"><g class=\"annotation-text-g\" transform=\"rotate(0,1226.4444444444446,88.49999999999999)\"><g class=\"cursor-pointer\" transform=\"translate(1051,77)\"><rect class=\"bg\" x=\"0.5\" y=\"0.5\" width=\"349\" height=\"22\" style=\"stroke-width: 1px; stroke: rgb(0, 0, 0); stroke-opacity: 0; fill: rgb(0, 0, 0); fill-opacity: 0;\"/><text class=\"annotation-text\" text-anchor=\"middle\" x=\"174.96875\" y=\"18\" style=\"font-family: 'Open Sans', verdana, arial, sans-serif; font-size: 16px; fill: rgb(42, 63, 95); fill-opacity: 1; white-space: pre;\">feature importance weighted drift detected</text></g></g></g></g></svg>"
     },
     "metadata": {},
     "output_type": "display_data"
    }
   ],
   "source": [
    "plot_drift_detection(drift_detected_experiment_results.iloc[1:], 'state_cases')"
   ]
  },
  {
   "cell_type": "markdown",
   "id": "41b497c5",
   "metadata": {},
   "source": [
    "#### Drift in covid deaths per state"
   ]
  },
  {
   "cell_type": "code",
   "execution_count": 158,
   "id": "a7841b95",
   "metadata": {},
   "outputs": [
    {
     "data": {
      "image/svg+xml": "<svg class=\"main-svg\" xmlns=\"http://www.w3.org/2000/svg\" xmlns:xlink=\"http://www.w3.org/1999/xlink\" width=\"1500\" height=\"500\" style=\"\" viewBox=\"0 0 1500 500\"><rect x=\"0\" y=\"0\" width=\"1500\" height=\"500\" style=\"fill: rgb(255, 255, 255); fill-opacity: 1;\"/><defs id=\"defs-ee9a4c\"><g class=\"clips\"><clipPath id=\"clipee9a4cxyplot\" class=\"plotclip\"><rect width=\"387.11111111111114\" height=\"320\"/></clipPath><clipPath id=\"clipee9a4cx2y2plot\" class=\"plotclip\"><rect width=\"387.11111111111114\" height=\"320\"/></clipPath><clipPath id=\"clipee9a4cx3y3plot\" class=\"plotclip\"><rect width=\"387.1111111111111\" height=\"320\"/></clipPath><clipPath class=\"axesclip\" id=\"clipee9a4cx\"><rect x=\"80\" y=\"0\" width=\"387.11111111111114\" height=\"500\"/></clipPath><clipPath class=\"axesclip\" id=\"clipee9a4cy\"><rect x=\"0\" y=\"100\" width=\"1500\" height=\"320\"/></clipPath><clipPath class=\"axesclip\" id=\"clipee9a4cxy\"><rect x=\"80\" y=\"100\" width=\"387.11111111111114\" height=\"320\"/></clipPath><clipPath class=\"axesclip\" id=\"clipee9a4cy2\"><rect x=\"0\" y=\"100\" width=\"1500\" height=\"320\"/></clipPath><clipPath class=\"axesclip\" id=\"clipee9a4cxy2\"><rect x=\"80\" y=\"100\" width=\"387.11111111111114\" height=\"320\"/></clipPath><clipPath class=\"axesclip\" id=\"clipee9a4cy3\"><rect x=\"0\" y=\"100\" width=\"1500\" height=\"320\"/></clipPath><clipPath class=\"axesclip\" id=\"clipee9a4cxy3\"><rect x=\"80\" y=\"100\" width=\"387.11111111111114\" height=\"320\"/></clipPath><clipPath class=\"axesclip\" id=\"clipee9a4cx2\"><rect x=\"556.4444444444445\" y=\"0\" width=\"387.11111111111114\" height=\"500\"/></clipPath><clipPath class=\"axesclip\" id=\"clipee9a4cx2y\"><rect x=\"556.4444444444445\" y=\"100\" width=\"387.11111111111114\" height=\"320\"/></clipPath><clipPath class=\"axesclip\" id=\"clipee9a4cx2y2\"><rect x=\"556.4444444444445\" y=\"100\" width=\"387.11111111111114\" height=\"320\"/></clipPath><clipPath class=\"axesclip\" id=\"clipee9a4cx2y3\"><rect x=\"556.4444444444445\" y=\"100\" width=\"387.11111111111114\" height=\"320\"/></clipPath><clipPath class=\"axesclip\" id=\"clipee9a4cx3\"><rect x=\"1032.888888888889\" y=\"0\" width=\"387.1111111111111\" height=\"500\"/></clipPath><clipPath class=\"axesclip\" id=\"clipee9a4cx3y\"><rect x=\"1032.888888888889\" y=\"100\" width=\"387.1111111111111\" height=\"320\"/></clipPath><clipPath class=\"axesclip\" id=\"clipee9a4cx3y2\"><rect x=\"1032.888888888889\" y=\"100\" width=\"387.1111111111111\" height=\"320\"/></clipPath><clipPath class=\"axesclip\" id=\"clipee9a4cx3y3\"><rect x=\"1032.888888888889\" y=\"100\" width=\"387.1111111111111\" height=\"320\"/></clipPath></g><g class=\"gradients\"/><g class=\"patterns\"/></defs><g class=\"bglayer\"><rect class=\"bg\" x=\"80\" y=\"100\" width=\"387.11111111111114\" height=\"320\" style=\"fill: rgb(229, 236, 246); fill-opacity: 1; stroke-width: 0;\"/><rect class=\"bg\" x=\"556.4444444444445\" y=\"100\" width=\"387.11111111111114\" height=\"320\" style=\"fill: rgb(229, 236, 246); fill-opacity: 1; stroke-width: 0;\"/><rect class=\"bg\" x=\"1032.888888888889\" y=\"100\" width=\"387.1111111111111\" height=\"320\" style=\"fill: rgb(229, 236, 246); fill-opacity: 1; stroke-width: 0;\"/></g><g class=\"layer-below\"><g class=\"imagelayer\"/><g class=\"shapelayer\"/></g><g class=\"cartesianlayer\"><g class=\"subplot xy\"><g class=\"layer-subplot\"><g class=\"shapelayer\"/><g class=\"imagelayer\"/></g><g class=\"minor-gridlayer\"><g class=\"x\"/><g class=\"y\"/></g><g class=\"gridlayer\"><g class=\"x\"><path class=\"xgrid crisp\" transform=\"translate(151.01,0)\" d=\"M0,100v320\" style=\"stroke: rgb(255, 255, 255); stroke-opacity: 1; stroke-width: 1px;\"/><path class=\"xgrid crisp\" transform=\"translate(266.64,0)\" d=\"M0,100v320\" style=\"stroke: rgb(255, 255, 255); stroke-opacity: 1; stroke-width: 1px;\"/><path class=\"xgrid crisp\" transform=\"translate(381.02,0)\" d=\"M0,100v320\" style=\"stroke: rgb(255, 255, 255); stroke-opacity: 1; stroke-width: 1px;\"/></g><g class=\"y\"><path class=\"ygrid crisp\" transform=\"translate(0,362.58)\" d=\"M80,0h387.11111111111114\" style=\"stroke: rgb(255, 255, 255); stroke-opacity: 1; stroke-width: 1px;\"/><path class=\"ygrid crisp\" transform=\"translate(0,321.16999999999996)\" d=\"M80,0h387.11111111111114\" style=\"stroke: rgb(255, 255, 255); stroke-opacity: 1; stroke-width: 1px;\"/><path class=\"ygrid crisp\" transform=\"translate(0,279.75)\" d=\"M80,0h387.11111111111114\" style=\"stroke: rgb(255, 255, 255); stroke-opacity: 1; stroke-width: 1px;\"/><path class=\"ygrid crisp\" transform=\"translate(0,238.33)\" d=\"M80,0h387.11111111111114\" style=\"stroke: rgb(255, 255, 255); stroke-opacity: 1; stroke-width: 1px;\"/><path class=\"ygrid crisp\" transform=\"translate(0,196.91)\" d=\"M80,0h387.11111111111114\" style=\"stroke: rgb(255, 255, 255); stroke-opacity: 1; stroke-width: 1px;\"/><path class=\"ygrid crisp\" transform=\"translate(0,155.5)\" d=\"M80,0h387.11111111111114\" style=\"stroke: rgb(255, 255, 255); stroke-opacity: 1; stroke-width: 1px;\"/><path class=\"ygrid crisp\" transform=\"translate(0,114.08)\" d=\"M80,0h387.11111111111114\" style=\"stroke: rgb(255, 255, 255); stroke-opacity: 1; stroke-width: 1px;\"/></g></g><g class=\"zerolinelayer\"><path class=\"yzl zl crisp\" transform=\"translate(0,404)\" d=\"M80,0h387.11111111111114\" style=\"stroke: rgb(255, 255, 255); stroke-opacity: 1; stroke-width: 2px;\"/></g><path class=\"xlines-below\"/><path class=\"ylines-below\"/><g class=\"overlines-below\"/><g class=\"xaxislayer-below\"/><g class=\"yaxislayer-below\"/><g class=\"overaxes-below\"/><g class=\"plot\" transform=\"translate(80,100)\" clip-path=\"url(#clipee9a4cxyplot)\"><g class=\"scatterlayer mlayer\"><g class=\"trace scatter trace1ed153\" style=\"stroke-miterlimit: 2; opacity: 1;\"><g class=\"fills\"/><g class=\"errorbars\"/><g class=\"lines\"><path class=\"js-line\" d=\"M0,304L224.35,304L228.75,302.37L233.15,301.1L237.55,121.76L241.94,16L246.34,61.85L250.74,145.08L255.14,194.68L259.54,220.29L263.94,235.09L268.34,241.87L272.74,252.63L285.93,271.84L290.33,274.54L299.13,278.74L303.53,280.21L312.33,281.45L316.73,281.39L329.92,280.86L334.32,281.11L378.31,286.36L382.71,286.7L387.11,286.8\" style=\"vector-effect: non-scaling-stroke; fill: none; stroke: rgb(99, 110, 250); stroke-opacity: 1; stroke-width: 2px; opacity: 1;\"/></g><g class=\"points\"/><g class=\"text\"/></g></g></g><g class=\"overplot\"/><path class=\"xlines-above crisp\" d=\"M0,0\" style=\"fill: none;\"/><path class=\"ylines-above crisp\" d=\"M0,0\" style=\"fill: none;\"/><g class=\"overlines-above\"/><g class=\"xaxislayer-above\"><g class=\"xtick\"><text text-anchor=\"middle\" x=\"0\" y=\"433\" transform=\"translate(151.01,0)\" style=\"font-family: 'Open Sans', verdana, arial, sans-serif; font-size: 12px; fill: rgb(42, 63, 95); fill-opacity: 1; white-space: pre; opacity: 1;\">Jul 2019</text></g><g class=\"xtick\"><text text-anchor=\"middle\" x=\"0\" y=\"433\" style=\"font-family: 'Open Sans', verdana, arial, sans-serif; font-size: 12px; fill: rgb(42, 63, 95); fill-opacity: 1; white-space: pre; opacity: 1;\" transform=\"translate(266.64,0)\">Jan 2020</text></g><g class=\"xtick\"><text text-anchor=\"middle\" x=\"0\" y=\"433\" style=\"font-family: 'Open Sans', verdana, arial, sans-serif; font-size: 12px; fill: rgb(42, 63, 95); fill-opacity: 1; white-space: pre; opacity: 1;\" transform=\"translate(381.02,0)\">Jul 2020</text></g></g><g class=\"yaxislayer-above\"><g class=\"ytick\"><text text-anchor=\"end\" x=\"79\" y=\"4.199999999999999\" transform=\"translate(0,404)\" style=\"font-family: 'Open Sans', verdana, arial, sans-serif; font-size: 12px; fill: rgb(42, 63, 95); fill-opacity: 1; white-space: pre; opacity: 1;\">0</text></g><g class=\"ytick\"><text text-anchor=\"end\" x=\"79\" y=\"4.199999999999999\" style=\"font-family: 'Open Sans', verdana, arial, sans-serif; font-size: 12px; fill: rgb(42, 63, 95); fill-opacity: 1; white-space: pre; opacity: 1;\" transform=\"translate(0,362.58)\">5</text></g><g class=\"ytick\"><text text-anchor=\"end\" x=\"79\" y=\"4.199999999999999\" style=\"font-family: 'Open Sans', verdana, arial, sans-serif; font-size: 12px; fill: rgb(42, 63, 95); fill-opacity: 1; white-space: pre; opacity: 1;\" transform=\"translate(0,321.16999999999996)\">10</text></g><g class=\"ytick\"><text text-anchor=\"end\" x=\"79\" y=\"4.199999999999999\" style=\"font-family: 'Open Sans', verdana, arial, sans-serif; font-size: 12px; fill: rgb(42, 63, 95); fill-opacity: 1; white-space: pre; opacity: 1;\" transform=\"translate(0,279.75)\">15</text></g><g class=\"ytick\"><text text-anchor=\"end\" x=\"79\" y=\"4.199999999999999\" style=\"font-family: 'Open Sans', verdana, arial, sans-serif; font-size: 12px; fill: rgb(42, 63, 95); fill-opacity: 1; white-space: pre; opacity: 1;\" transform=\"translate(0,238.33)\">20</text></g><g class=\"ytick\"><text text-anchor=\"end\" x=\"79\" y=\"4.199999999999999\" style=\"font-family: 'Open Sans', verdana, arial, sans-serif; font-size: 12px; fill: rgb(42, 63, 95); fill-opacity: 1; white-space: pre; opacity: 1;\" transform=\"translate(0,196.91)\">25</text></g><g class=\"ytick\"><text text-anchor=\"end\" x=\"79\" y=\"4.199999999999999\" style=\"font-family: 'Open Sans', verdana, arial, sans-serif; font-size: 12px; fill: rgb(42, 63, 95); fill-opacity: 1; white-space: pre; opacity: 1;\" transform=\"translate(0,155.5)\">30</text></g><g class=\"ytick\"><text text-anchor=\"end\" x=\"79\" y=\"4.199999999999999\" style=\"font-family: 'Open Sans', verdana, arial, sans-serif; font-size: 12px; fill: rgb(42, 63, 95); fill-opacity: 1; white-space: pre; opacity: 1;\" transform=\"translate(0,114.08)\">35</text></g></g><g class=\"overaxes-above\"/></g><g class=\"subplot x2y2\"><g class=\"layer-subplot\"><g class=\"shapelayer\"/><g class=\"imagelayer\"/></g><g class=\"minor-gridlayer\"><g class=\"x2\"/><g class=\"y2\"/></g><g class=\"gridlayer\"><g class=\"x2\"><path class=\"x2grid crisp\" transform=\"translate(627.4544444444444,0)\" d=\"M0,100v320\" style=\"stroke: rgb(255, 255, 255); stroke-opacity: 1; stroke-width: 1px;\"/><path class=\"x2grid crisp\" transform=\"translate(743.0844444444444,0)\" d=\"M0,100v320\" style=\"stroke: rgb(255, 255, 255); stroke-opacity: 1; stroke-width: 1px;\"/><path class=\"x2grid crisp\" transform=\"translate(857.4644444444444,0)\" d=\"M0,100v320\" style=\"stroke: rgb(255, 255, 255); stroke-opacity: 1; stroke-width: 1px;\"/></g><g class=\"y2\"><path class=\"y2grid crisp\" transform=\"translate(0,362.58)\" d=\"M556.4444444444445,0h387.11111111111114\" style=\"stroke: rgb(255, 255, 255); stroke-opacity: 1; stroke-width: 1px;\"/><path class=\"y2grid crisp\" transform=\"translate(0,321.16999999999996)\" d=\"M556.4444444444445,0h387.11111111111114\" style=\"stroke: rgb(255, 255, 255); stroke-opacity: 1; stroke-width: 1px;\"/><path class=\"y2grid crisp\" transform=\"translate(0,279.75)\" d=\"M556.4444444444445,0h387.11111111111114\" style=\"stroke: rgb(255, 255, 255); stroke-opacity: 1; stroke-width: 1px;\"/><path class=\"y2grid crisp\" transform=\"translate(0,238.33)\" d=\"M556.4444444444445,0h387.11111111111114\" style=\"stroke: rgb(255, 255, 255); stroke-opacity: 1; stroke-width: 1px;\"/><path class=\"y2grid crisp\" transform=\"translate(0,196.91)\" d=\"M556.4444444444445,0h387.11111111111114\" style=\"stroke: rgb(255, 255, 255); stroke-opacity: 1; stroke-width: 1px;\"/><path class=\"y2grid crisp\" transform=\"translate(0,155.5)\" d=\"M556.4444444444445,0h387.11111111111114\" style=\"stroke: rgb(255, 255, 255); stroke-opacity: 1; stroke-width: 1px;\"/><path class=\"y2grid crisp\" transform=\"translate(0,114.08)\" d=\"M556.4444444444445,0h387.11111111111114\" style=\"stroke: rgb(255, 255, 255); stroke-opacity: 1; stroke-width: 1px;\"/></g></g><g class=\"zerolinelayer\"><path class=\"y2zl zl crisp\" transform=\"translate(0,404)\" d=\"M556.4444444444445,0h387.11111111111114\" style=\"stroke: rgb(255, 255, 255); stroke-opacity: 1; stroke-width: 2px;\"/></g><path class=\"xlines-below\"/><path class=\"ylines-below\"/><g class=\"overlines-below\"/><g class=\"xaxislayer-below\"/><g class=\"yaxislayer-below\"/><g class=\"overaxes-below\"/><g class=\"plot\" transform=\"translate(556.4444444444445,100)\" clip-path=\"url(#clipee9a4cx2y2plot)\"><g class=\"scatterlayer mlayer\"><g class=\"trace scatter trace7878a0\" style=\"stroke-miterlimit: 2; opacity: 1;\"><g class=\"fills\"/><g class=\"errorbars\"/><g class=\"lines\"><path class=\"js-line\" d=\"M0,304L233.15,303.98L237.55,291.89L241.94,278.29L246.34,292.27L250.74,295.1L255.14,280.77L259.54,300.01L263.94,295.1L268.34,299.71L272.74,301.73L281.54,302.51L285.93,303.24L294.73,303.51L299.13,302.57L307.93,303.23L312.33,302.21L316.73,300.23L321.13,303.09L325.53,299.01L329.92,303.47L334.32,302.58L338.72,303.59L343.12,301.37L347.52,301.76L351.92,303.11L356.32,301.7L360.72,303.14L365.12,303.2L387.11,302.8\" style=\"vector-effect: non-scaling-stroke; fill: none; stroke: rgb(239, 85, 59); stroke-opacity: 1; stroke-width: 2px; opacity: 1;\"/></g><g class=\"points\"/><g class=\"text\"/></g></g></g><g class=\"overplot\"/><path class=\"xlines-above crisp\" d=\"M0,0\" style=\"fill: none;\"/><path class=\"ylines-above crisp\" d=\"M0,0\" style=\"fill: none;\"/><g class=\"overlines-above\"/><g class=\"xaxislayer-above\"><g class=\"x2tick\"><text text-anchor=\"middle\" x=\"0\" y=\"433\" transform=\"translate(627.4544444444444,0)\" style=\"font-family: 'Open Sans', verdana, arial, sans-serif; font-size: 12px; fill: rgb(42, 63, 95); fill-opacity: 1; white-space: pre; opacity: 1;\">Jul 2019</text></g><g class=\"x2tick\"><text text-anchor=\"middle\" x=\"0\" y=\"433\" style=\"font-family: 'Open Sans', verdana, arial, sans-serif; font-size: 12px; fill: rgb(42, 63, 95); fill-opacity: 1; white-space: pre; opacity: 1;\" transform=\"translate(743.0844444444444,0)\">Jan 2020</text></g><g class=\"x2tick\"><text text-anchor=\"middle\" x=\"0\" y=\"433\" style=\"font-family: 'Open Sans', verdana, arial, sans-serif; font-size: 12px; fill: rgb(42, 63, 95); fill-opacity: 1; white-space: pre; opacity: 1;\" transform=\"translate(857.4644444444444,0)\">Jul 2020</text></g></g><g class=\"yaxislayer-above\"/><g class=\"overaxes-above\"/></g><g class=\"subplot x3y3\"><g class=\"layer-subplot\"><g class=\"shapelayer\"/><g class=\"imagelayer\"/></g><g class=\"minor-gridlayer\"><g class=\"x3\"/><g class=\"y3\"/></g><g class=\"gridlayer\"><g class=\"x3\"><path class=\"x3grid crisp\" transform=\"translate(1103.898888888889,0)\" d=\"M0,100v320\" style=\"stroke: rgb(255, 255, 255); stroke-opacity: 1; stroke-width: 1px;\"/><path class=\"x3grid crisp\" transform=\"translate(1219.528888888889,0)\" d=\"M0,100v320\" style=\"stroke: rgb(255, 255, 255); stroke-opacity: 1; stroke-width: 1px;\"/><path class=\"x3grid crisp\" transform=\"translate(1333.908888888889,0)\" d=\"M0,100v320\" style=\"stroke: rgb(255, 255, 255); stroke-opacity: 1; stroke-width: 1px;\"/></g><g class=\"y3\"><path class=\"y3grid crisp\" transform=\"translate(0,362.58)\" d=\"M1032.888888888889,0h387.1111111111111\" style=\"stroke: rgb(255, 255, 255); stroke-opacity: 1; stroke-width: 1px;\"/><path class=\"y3grid crisp\" transform=\"translate(0,321.16999999999996)\" d=\"M1032.888888888889,0h387.1111111111111\" style=\"stroke: rgb(255, 255, 255); stroke-opacity: 1; stroke-width: 1px;\"/><path class=\"y3grid crisp\" transform=\"translate(0,279.75)\" d=\"M1032.888888888889,0h387.1111111111111\" style=\"stroke: rgb(255, 255, 255); stroke-opacity: 1; stroke-width: 1px;\"/><path class=\"y3grid crisp\" transform=\"translate(0,238.33)\" d=\"M1032.888888888889,0h387.1111111111111\" style=\"stroke: rgb(255, 255, 255); stroke-opacity: 1; stroke-width: 1px;\"/><path class=\"y3grid crisp\" transform=\"translate(0,196.91)\" d=\"M1032.888888888889,0h387.1111111111111\" style=\"stroke: rgb(255, 255, 255); stroke-opacity: 1; stroke-width: 1px;\"/><path class=\"y3grid crisp\" transform=\"translate(0,155.5)\" d=\"M1032.888888888889,0h387.1111111111111\" style=\"stroke: rgb(255, 255, 255); stroke-opacity: 1; stroke-width: 1px;\"/><path class=\"y3grid crisp\" transform=\"translate(0,114.08)\" d=\"M1032.888888888889,0h387.1111111111111\" style=\"stroke: rgb(255, 255, 255); stroke-opacity: 1; stroke-width: 1px;\"/></g></g><g class=\"zerolinelayer\"><path class=\"y3zl zl crisp\" transform=\"translate(0,404)\" d=\"M1032.888888888889,0h387.1111111111111\" style=\"stroke: rgb(255, 255, 255); stroke-opacity: 1; stroke-width: 2px;\"/></g><path class=\"xlines-below\"/><path class=\"ylines-below\"/><g class=\"overlines-below\"/><g class=\"xaxislayer-below\"/><g class=\"yaxislayer-below\"/><g class=\"overaxes-below\"/><g class=\"plot\" transform=\"translate(1032.888888888889,100)\" clip-path=\"url(#clipee9a4cx3y3plot)\"><g class=\"scatterlayer mlayer\"><g class=\"trace scatter trace523846\" style=\"stroke-miterlimit: 2; opacity: 1;\"><g class=\"fills\"/><g class=\"errorbars\"/><g class=\"lines\"><path class=\"js-line\" d=\"M0,304L233.15,304L237.55,295.72L281.54,295.72L285.93,304L294.73,304L299.13,295.72L303.53,295.72L307.93,304L312.33,295.72L316.73,295.72L325.53,295.72L329.92,304L334.32,295.72L338.72,304L343.12,295.72L347.52,295.72L360.72,295.72L365.12,304L369.52,295.72L373.91,295.72L387.11,295.72\" style=\"vector-effect: non-scaling-stroke; fill: none; stroke: rgb(0, 204, 150); stroke-opacity: 1; stroke-width: 2px; opacity: 1;\"/></g><g class=\"points\"/><g class=\"text\"/></g></g></g><g class=\"overplot\"/><path class=\"xlines-above crisp\" d=\"M0,0\" style=\"fill: none;\"/><path class=\"ylines-above crisp\" d=\"M0,0\" style=\"fill: none;\"/><g class=\"overlines-above\"/><g class=\"xaxislayer-above\"><g class=\"x3tick\"><text text-anchor=\"middle\" x=\"0\" y=\"433\" transform=\"translate(1103.898888888889,0)\" style=\"font-family: 'Open Sans', verdana, arial, sans-serif; font-size: 12px; fill: rgb(42, 63, 95); fill-opacity: 1; white-space: pre; opacity: 1;\">Jul 2019</text></g><g class=\"x3tick\"><text text-anchor=\"middle\" x=\"0\" y=\"433\" style=\"font-family: 'Open Sans', verdana, arial, sans-serif; font-size: 12px; fill: rgb(42, 63, 95); fill-opacity: 1; white-space: pre; opacity: 1;\" transform=\"translate(1219.528888888889,0)\">Jan 2020</text></g><g class=\"x3tick\"><text text-anchor=\"middle\" x=\"0\" y=\"433\" style=\"font-family: 'Open Sans', verdana, arial, sans-serif; font-size: 12px; fill: rgb(42, 63, 95); fill-opacity: 1; white-space: pre; opacity: 1;\" transform=\"translate(1333.908888888889,0)\">Jul 2020</text></g></g><g class=\"yaxislayer-above\"/><g class=\"overaxes-above\"/></g></g><g class=\"polarlayer\"/><g class=\"smithlayer\"/><g class=\"ternarylayer\"/><g class=\"geolayer\"/><g class=\"funnelarealayer\"/><g class=\"pielayer\"/><g class=\"iciclelayer\"/><g class=\"treemaplayer\"/><g class=\"sunburstlayer\"/><g class=\"glimages\"/><defs id=\"topdefs-ee9a4c\"><g class=\"clips\"/></defs><g class=\"layer-above\"><g class=\"imagelayer\"/><g class=\"shapelayer\"/></g><g class=\"infolayer\"><g class=\"g-gtitle\"><text class=\"gtitle\" x=\"75\" y=\"50\" text-anchor=\"start\" dy=\"0em\" style=\"font-family: 'Open Sans', verdana, arial, sans-serif; font-size: 17px; fill: rgb(42, 63, 95); opacity: 1; font-weight: normal; white-space: pre;\">Drift plots for state_deaths</text></g><g class=\"g-xtitle\"/><g class=\"g-x2title\"/><g class=\"g-x3title\"/><g class=\"g-ytitle\"/><g class=\"g-y2title\"/><g class=\"g-y3title\"/><g class=\"annotation\" data-index=\"0\" style=\"opacity: 1;\"><g class=\"annotation-text-g\" transform=\"rotate(0,273.55555555555554,88.5)\"><g class=\"cursor-pointer\" transform=\"translate(198,77)\"><rect class=\"bg\" x=\"0.5\" y=\"0.5\" width=\"150\" height=\"22\" style=\"stroke-width: 1px; stroke: rgb(0, 0, 0); stroke-opacity: 0; fill: rgb(0, 0, 0); fill-opacity: 0;\"/><text class=\"annotation-text\" text-anchor=\"middle\" x=\"75.265625\" y=\"18\" style=\"font-family: 'Open Sans', verdana, arial, sans-serif; font-size: 16px; fill: rgb(42, 63, 95); fill-opacity: 1; white-space: pre;\">original drift score</text></g></g></g><g class=\"annotation\" data-index=\"1\" style=\"opacity: 1;\"><g class=\"annotation-text-g\" transform=\"rotate(0,750,88.49999999999999)\"><g class=\"cursor-pointer\" transform=\"translate(588,77)\"><rect class=\"bg\" x=\"0.5\" y=\"0.5\" width=\"323\" height=\"22\" style=\"stroke-width: 1px; stroke: rgb(0, 0, 0); stroke-opacity: 0; fill: rgb(0, 0, 0); fill-opacity: 0;\"/><text class=\"annotation-text\" text-anchor=\"middle\" x=\"161.609375\" y=\"18\" style=\"font-family: 'Open Sans', verdana, arial, sans-serif; font-size: 16px; fill: rgb(42, 63, 95); fill-opacity: 1; white-space: pre;\">feature importance weighted drift score</text></g></g></g><g class=\"annotation\" data-index=\"2\" style=\"opacity: 1;\"><g class=\"annotation-text-g\" transform=\"rotate(0,1226.4444444444446,88.49999999999999)\"><g class=\"cursor-pointer\" transform=\"translate(1051,77)\"><rect class=\"bg\" x=\"0.5\" y=\"0.5\" width=\"349\" height=\"22\" style=\"stroke-width: 1px; stroke: rgb(0, 0, 0); stroke-opacity: 0; fill: rgb(0, 0, 0); fill-opacity: 0;\"/><text class=\"annotation-text\" text-anchor=\"middle\" x=\"174.96875\" y=\"18\" style=\"font-family: 'Open Sans', verdana, arial, sans-serif; font-size: 16px; fill: rgb(42, 63, 95); fill-opacity: 1; white-space: pre;\">feature importance weighted drift detected</text></g></g></g></g></svg>"
     },
     "metadata": {},
     "output_type": "display_data"
    }
   ],
   "source": [
    "plot_drift_detection(drift_detected_experiment_results.iloc[1:], 'state_deaths')"
   ]
  },
  {
   "cell_type": "code",
   "execution_count": 159,
   "id": "0441c361",
   "metadata": {},
   "outputs": [
    {
     "data": {
      "image/svg+xml": "<svg class=\"main-svg\" xmlns=\"http://www.w3.org/2000/svg\" xmlns:xlink=\"http://www.w3.org/1999/xlink\" width=\"700\" height=\"500\" style=\"\" viewBox=\"0 0 700 500\"><rect x=\"0\" y=\"0\" width=\"700\" height=\"500\" style=\"fill: rgb(255, 255, 255); fill-opacity: 1;\"/><defs id=\"defs-64c3a5\"><g class=\"clips\"><clipPath id=\"clip64c3a5xyplot\" class=\"plotclip\"><rect width=\"540\" height=\"360\"/></clipPath><clipPath class=\"axesclip\" id=\"clip64c3a5x\"><rect x=\"80\" y=\"0\" width=\"540\" height=\"500\"/></clipPath><clipPath class=\"axesclip\" id=\"clip64c3a5y\"><rect x=\"0\" y=\"60\" width=\"700\" height=\"360\"/></clipPath><clipPath class=\"axesclip\" id=\"clip64c3a5xy\"><rect x=\"80\" y=\"60\" width=\"540\" height=\"360\"/></clipPath></g><g class=\"gradients\"/><g class=\"patterns\"/></defs><g class=\"bglayer\"><rect class=\"bg\" x=\"80\" y=\"60\" width=\"540\" height=\"360\" style=\"fill: rgb(229, 236, 246); fill-opacity: 1; stroke-width: 0;\"/></g><g class=\"layer-below\"><g class=\"imagelayer\"/><g class=\"shapelayer\"/></g><g class=\"cartesianlayer\"><g class=\"subplot xy\"><g class=\"layer-subplot\"><g class=\"shapelayer\"/><g class=\"imagelayer\"/></g><g class=\"minor-gridlayer\"><g class=\"x\"/><g class=\"y\"/></g><g class=\"gridlayer\"><g class=\"x\"><path class=\"xgrid crisp\" transform=\"translate(133.02,0)\" d=\"M0,60v360\" style=\"stroke: rgb(255, 255, 255); stroke-opacity: 1; stroke-width: 1px;\"/><path class=\"xgrid crisp\" transform=\"translate(202.92000000000002,0)\" d=\"M0,60v360\" style=\"stroke: rgb(255, 255, 255); stroke-opacity: 1; stroke-width: 1px;\"/><path class=\"xgrid crisp\" transform=\"translate(273.58000000000004,0)\" d=\"M0,60v360\" style=\"stroke: rgb(255, 255, 255); stroke-opacity: 1; stroke-width: 1px;\"/><path class=\"xgrid crisp\" transform=\"translate(344.24,0)\" d=\"M0,60v360\" style=\"stroke: rgb(255, 255, 255); stroke-opacity: 1; stroke-width: 1px;\"/><path class=\"xgrid crisp\" transform=\"translate(414.13,0)\" d=\"M0,60v360\" style=\"stroke: rgb(255, 255, 255); stroke-opacity: 1; stroke-width: 1px;\"/><path class=\"xgrid crisp\" transform=\"translate(484.03,0)\" d=\"M0,60v360\" style=\"stroke: rgb(255, 255, 255); stroke-opacity: 1; stroke-width: 1px;\"/><path class=\"xgrid crisp\" transform=\"translate(554.69,0)\" d=\"M0,60v360\" style=\"stroke: rgb(255, 255, 255); stroke-opacity: 1; stroke-width: 1px;\"/></g><g class=\"y\"><path class=\"ygrid crisp\" transform=\"translate(0,363.98)\" d=\"M80,0h540\" style=\"stroke: rgb(255, 255, 255); stroke-opacity: 1; stroke-width: 1px;\"/><path class=\"ygrid crisp\" transform=\"translate(0,292.35)\" d=\"M80,0h540\" style=\"stroke: rgb(255, 255, 255); stroke-opacity: 1; stroke-width: 1px;\"/><path class=\"ygrid crisp\" transform=\"translate(0,220.71)\" d=\"M80,0h540\" style=\"stroke: rgb(255, 255, 255); stroke-opacity: 1; stroke-width: 1px;\"/><path class=\"ygrid crisp\" transform=\"translate(0,149.07)\" d=\"M80,0h540\" style=\"stroke: rgb(255, 255, 255); stroke-opacity: 1; stroke-width: 1px;\"/><path class=\"ygrid crisp\" transform=\"translate(0,77.43)\" d=\"M80,0h540\" style=\"stroke: rgb(255, 255, 255); stroke-opacity: 1; stroke-width: 1px;\"/></g></g><g class=\"zerolinelayer\"/><path class=\"xlines-below\"/><path class=\"ylines-below\"/><g class=\"overlines-below\"/><g class=\"xaxislayer-below\"/><g class=\"yaxislayer-below\"/><g class=\"overaxes-below\"/><g class=\"plot\" transform=\"translate(80,60)\" clip-path=\"url(#clip64c3a5xyplot)\"><g class=\"scatterlayer mlayer\"><g class=\"trace scatter tracec83249\" style=\"stroke-miterlimit: 2; opacity: 1;\"><g class=\"fills\"/><g class=\"errorbars\"/><g class=\"lines\"><path class=\"js-line\" d=\"M30.75,338.25L36.13,300.7L41.5,293.48L46.88,278.31L52.26,294.55L57.63,244.17L63.01,280.18L68.38,227.93L73.76,209.72L79.14,238.97L84.51,282.44L89.89,275.19L95.27,294.77L100.64,266.58L106.02,272.31L111.4,239.44L116.77,213.35L122.15,220.42L127.53,234.14L132.9,273.54L138.28,237.79L143.65,258.08L149.03,265.09L154.41,253.04L159.78,276.44L165.16,259.08L170.54,248.55L175.91,284.21L181.29,280.61L186.67,282.46L192.04,234.66L197.42,297.77L202.79,311.35L208.17,272.28L213.55,282.25L218.92,296.36L224.3,296.07L229.68,277.35L235.05,275.5L240.43,256.22L245.81,320.45L251.18,308.96L256.56,330.43L261.94,318.86L267.31,288.98L272.69,315.5L278.06,306.96L283.44,333.11L288.82,328.1L294.19,305.28L299.57,319.26L304.95,302.05L310.32,313.95L315.7,85.48L321.08,206.6L326.45,179.05L331.83,221.61L337.21,123.75L342.58,181.41L347.96,181.72L353.33,124.05L358.71,190.23L364.09,171.59L369.46,162L374.84,158.63L380.22,189.18L385.59,125.46L390.97,57.66L396.35,21.75L401.72,63.63L407.1,35.05L412.47,52.04L417.85,81.31L423.23,79.53L428.6,78.66L433.98,62.07L439.36,65.07L444.73,87.23L450.11,95.21L455.49,110.82L460.86,25.09L466.24,88.51L471.62,71.4L476.99,106.2L482.37,86.11L487.74,107.75L493.12,156.91L498.5,154.43L503.87,91.55L509.25,82.39\" style=\"vector-effect: non-scaling-stroke; fill: none; stroke: rgb(99, 110, 250); stroke-opacity: 1; stroke-width: 2px; opacity: 1;\"/></g><g class=\"points\"><path class=\"point\" transform=\"translate(30.75,338.25)\" d=\"M3,0A3,3 0 1,1 0,-3A3,3 0 0,1 3,0Z\" style=\"opacity: 1; stroke-width: 0px; fill: rgb(99, 110, 250); fill-opacity: 1;\"/><path class=\"point\" transform=\"translate(36.13,300.7)\" d=\"M3,0A3,3 0 1,1 0,-3A3,3 0 0,1 3,0Z\" style=\"opacity: 1; stroke-width: 0px; fill: rgb(99, 110, 250); fill-opacity: 1;\"/><path class=\"point\" transform=\"translate(41.5,293.48)\" d=\"M3,0A3,3 0 1,1 0,-3A3,3 0 0,1 3,0Z\" style=\"opacity: 1; stroke-width: 0px; fill: rgb(99, 110, 250); fill-opacity: 1;\"/><path class=\"point\" transform=\"translate(46.88,278.31)\" d=\"M3,0A3,3 0 1,1 0,-3A3,3 0 0,1 3,0Z\" style=\"opacity: 1; stroke-width: 0px; fill: rgb(99, 110, 250); fill-opacity: 1;\"/><path class=\"point\" transform=\"translate(52.26,294.55)\" d=\"M3,0A3,3 0 1,1 0,-3A3,3 0 0,1 3,0Z\" style=\"opacity: 1; stroke-width: 0px; fill: rgb(99, 110, 250); fill-opacity: 1;\"/><path class=\"point\" transform=\"translate(57.63,244.17)\" d=\"M3,0A3,3 0 1,1 0,-3A3,3 0 0,1 3,0Z\" style=\"opacity: 1; stroke-width: 0px; fill: rgb(99, 110, 250); fill-opacity: 1;\"/><path class=\"point\" transform=\"translate(63.01,280.18)\" d=\"M3,0A3,3 0 1,1 0,-3A3,3 0 0,1 3,0Z\" style=\"opacity: 1; stroke-width: 0px; fill: rgb(99, 110, 250); fill-opacity: 1;\"/><path class=\"point\" transform=\"translate(68.38,227.93)\" d=\"M3,0A3,3 0 1,1 0,-3A3,3 0 0,1 3,0Z\" style=\"opacity: 1; stroke-width: 0px; fill: rgb(99, 110, 250); fill-opacity: 1;\"/><path class=\"point\" transform=\"translate(73.76,209.72)\" d=\"M3,0A3,3 0 1,1 0,-3A3,3 0 0,1 3,0Z\" style=\"opacity: 1; stroke-width: 0px; fill: rgb(99, 110, 250); fill-opacity: 1;\"/><path class=\"point\" transform=\"translate(79.14,238.97)\" d=\"M3,0A3,3 0 1,1 0,-3A3,3 0 0,1 3,0Z\" style=\"opacity: 1; stroke-width: 0px; fill: rgb(99, 110, 250); fill-opacity: 1;\"/><path class=\"point\" transform=\"translate(84.51,282.44)\" d=\"M3,0A3,3 0 1,1 0,-3A3,3 0 0,1 3,0Z\" style=\"opacity: 1; stroke-width: 0px; fill: rgb(99, 110, 250); fill-opacity: 1;\"/><path class=\"point\" transform=\"translate(89.89,275.19)\" d=\"M3,0A3,3 0 1,1 0,-3A3,3 0 0,1 3,0Z\" style=\"opacity: 1; stroke-width: 0px; fill: rgb(99, 110, 250); fill-opacity: 1;\"/><path class=\"point\" transform=\"translate(95.27,294.77)\" d=\"M3,0A3,3 0 1,1 0,-3A3,3 0 0,1 3,0Z\" style=\"opacity: 1; stroke-width: 0px; fill: rgb(99, 110, 250); fill-opacity: 1;\"/><path class=\"point\" transform=\"translate(100.64,266.58)\" d=\"M3,0A3,3 0 1,1 0,-3A3,3 0 0,1 3,0Z\" style=\"opacity: 1; stroke-width: 0px; fill: rgb(99, 110, 250); fill-opacity: 1;\"/><path class=\"point\" transform=\"translate(106.02,272.31)\" d=\"M3,0A3,3 0 1,1 0,-3A3,3 0 0,1 3,0Z\" style=\"opacity: 1; stroke-width: 0px; fill: rgb(99, 110, 250); fill-opacity: 1;\"/><path class=\"point\" transform=\"translate(111.4,239.44)\" d=\"M3,0A3,3 0 1,1 0,-3A3,3 0 0,1 3,0Z\" style=\"opacity: 1; stroke-width: 0px; fill: rgb(99, 110, 250); fill-opacity: 1;\"/><path class=\"point\" transform=\"translate(116.77,213.35)\" d=\"M3,0A3,3 0 1,1 0,-3A3,3 0 0,1 3,0Z\" style=\"opacity: 1; stroke-width: 0px; fill: rgb(99, 110, 250); fill-opacity: 1;\"/><path class=\"point\" transform=\"translate(122.15,220.42)\" d=\"M3,0A3,3 0 1,1 0,-3A3,3 0 0,1 3,0Z\" style=\"opacity: 1; stroke-width: 0px; fill: rgb(99, 110, 250); fill-opacity: 1;\"/><path class=\"point\" transform=\"translate(127.53,234.14)\" d=\"M3,0A3,3 0 1,1 0,-3A3,3 0 0,1 3,0Z\" style=\"opacity: 1; stroke-width: 0px; fill: rgb(99, 110, 250); fill-opacity: 1;\"/><path class=\"point\" transform=\"translate(132.9,273.54)\" d=\"M3,0A3,3 0 1,1 0,-3A3,3 0 0,1 3,0Z\" style=\"opacity: 1; stroke-width: 0px; fill: rgb(99, 110, 250); fill-opacity: 1;\"/><path class=\"point\" transform=\"translate(138.28,237.79)\" d=\"M3,0A3,3 0 1,1 0,-3A3,3 0 0,1 3,0Z\" style=\"opacity: 1; stroke-width: 0px; fill: rgb(99, 110, 250); fill-opacity: 1;\"/><path class=\"point\" transform=\"translate(143.65,258.08)\" d=\"M3,0A3,3 0 1,1 0,-3A3,3 0 0,1 3,0Z\" style=\"opacity: 1; stroke-width: 0px; fill: rgb(99, 110, 250); fill-opacity: 1;\"/><path class=\"point\" transform=\"translate(149.03,265.09)\" d=\"M3,0A3,3 0 1,1 0,-3A3,3 0 0,1 3,0Z\" style=\"opacity: 1; stroke-width: 0px; fill: rgb(99, 110, 250); fill-opacity: 1;\"/><path class=\"point\" transform=\"translate(154.41,253.04)\" d=\"M3,0A3,3 0 1,1 0,-3A3,3 0 0,1 3,0Z\" style=\"opacity: 1; stroke-width: 0px; fill: rgb(99, 110, 250); fill-opacity: 1;\"/><path class=\"point\" transform=\"translate(159.78,276.44)\" d=\"M3,0A3,3 0 1,1 0,-3A3,3 0 0,1 3,0Z\" style=\"opacity: 1; stroke-width: 0px; fill: rgb(99, 110, 250); fill-opacity: 1;\"/><path class=\"point\" transform=\"translate(165.16,259.08)\" d=\"M3,0A3,3 0 1,1 0,-3A3,3 0 0,1 3,0Z\" style=\"opacity: 1; stroke-width: 0px; fill: rgb(99, 110, 250); fill-opacity: 1;\"/><path class=\"point\" transform=\"translate(170.54,248.55)\" d=\"M3,0A3,3 0 1,1 0,-3A3,3 0 0,1 3,0Z\" style=\"opacity: 1; stroke-width: 0px; fill: rgb(99, 110, 250); fill-opacity: 1;\"/><path class=\"point\" transform=\"translate(175.91,284.21)\" d=\"M3,0A3,3 0 1,1 0,-3A3,3 0 0,1 3,0Z\" style=\"opacity: 1; stroke-width: 0px; fill: rgb(99, 110, 250); fill-opacity: 1;\"/><path class=\"point\" transform=\"translate(181.29,280.61)\" d=\"M3,0A3,3 0 1,1 0,-3A3,3 0 0,1 3,0Z\" style=\"opacity: 1; stroke-width: 0px; fill: rgb(99, 110, 250); fill-opacity: 1;\"/><path class=\"point\" transform=\"translate(186.67,282.46)\" d=\"M3,0A3,3 0 1,1 0,-3A3,3 0 0,1 3,0Z\" style=\"opacity: 1; stroke-width: 0px; fill: rgb(99, 110, 250); fill-opacity: 1;\"/><path class=\"point\" transform=\"translate(192.04,234.66)\" d=\"M3,0A3,3 0 1,1 0,-3A3,3 0 0,1 3,0Z\" style=\"opacity: 1; stroke-width: 0px; fill: rgb(99, 110, 250); fill-opacity: 1;\"/><path class=\"point\" transform=\"translate(197.42,297.77)\" d=\"M3,0A3,3 0 1,1 0,-3A3,3 0 0,1 3,0Z\" style=\"opacity: 1; stroke-width: 0px; fill: rgb(99, 110, 250); fill-opacity: 1;\"/><path class=\"point\" transform=\"translate(202.79,311.35)\" d=\"M3,0A3,3 0 1,1 0,-3A3,3 0 0,1 3,0Z\" style=\"opacity: 1; stroke-width: 0px; fill: rgb(99, 110, 250); fill-opacity: 1;\"/><path class=\"point\" transform=\"translate(208.17,272.28)\" d=\"M3,0A3,3 0 1,1 0,-3A3,3 0 0,1 3,0Z\" style=\"opacity: 1; stroke-width: 0px; fill: rgb(99, 110, 250); fill-opacity: 1;\"/><path class=\"point\" transform=\"translate(213.55,282.25)\" d=\"M3,0A3,3 0 1,1 0,-3A3,3 0 0,1 3,0Z\" style=\"opacity: 1; stroke-width: 0px; fill: rgb(99, 110, 250); fill-opacity: 1;\"/><path class=\"point\" transform=\"translate(218.92,296.36)\" d=\"M3,0A3,3 0 1,1 0,-3A3,3 0 0,1 3,0Z\" style=\"opacity: 1; stroke-width: 0px; fill: rgb(99, 110, 250); fill-opacity: 1;\"/><path class=\"point\" transform=\"translate(224.3,296.07)\" d=\"M3,0A3,3 0 1,1 0,-3A3,3 0 0,1 3,0Z\" style=\"opacity: 1; stroke-width: 0px; fill: rgb(99, 110, 250); fill-opacity: 1;\"/><path class=\"point\" transform=\"translate(229.68,277.35)\" d=\"M3,0A3,3 0 1,1 0,-3A3,3 0 0,1 3,0Z\" style=\"opacity: 1; stroke-width: 0px; fill: rgb(99, 110, 250); fill-opacity: 1;\"/><path class=\"point\" transform=\"translate(235.05,275.5)\" d=\"M3,0A3,3 0 1,1 0,-3A3,3 0 0,1 3,0Z\" style=\"opacity: 1; stroke-width: 0px; fill: rgb(99, 110, 250); fill-opacity: 1;\"/><path class=\"point\" transform=\"translate(240.43,256.22)\" d=\"M3,0A3,3 0 1,1 0,-3A3,3 0 0,1 3,0Z\" style=\"opacity: 1; stroke-width: 0px; fill: rgb(99, 110, 250); fill-opacity: 1;\"/><path class=\"point\" transform=\"translate(245.81,320.45)\" d=\"M3,0A3,3 0 1,1 0,-3A3,3 0 0,1 3,0Z\" style=\"opacity: 1; stroke-width: 0px; fill: rgb(99, 110, 250); fill-opacity: 1;\"/><path class=\"point\" transform=\"translate(251.18,308.96)\" d=\"M3,0A3,3 0 1,1 0,-3A3,3 0 0,1 3,0Z\" style=\"opacity: 1; stroke-width: 0px; fill: rgb(99, 110, 250); fill-opacity: 1;\"/><path class=\"point\" transform=\"translate(256.56,330.43)\" d=\"M3,0A3,3 0 1,1 0,-3A3,3 0 0,1 3,0Z\" style=\"opacity: 1; stroke-width: 0px; fill: rgb(99, 110, 250); fill-opacity: 1;\"/><path class=\"point\" transform=\"translate(261.94,318.86)\" d=\"M3,0A3,3 0 1,1 0,-3A3,3 0 0,1 3,0Z\" style=\"opacity: 1; stroke-width: 0px; fill: rgb(99, 110, 250); fill-opacity: 1;\"/><path class=\"point\" transform=\"translate(267.31,288.98)\" d=\"M3,0A3,3 0 1,1 0,-3A3,3 0 0,1 3,0Z\" style=\"opacity: 1; stroke-width: 0px; fill: rgb(99, 110, 250); fill-opacity: 1;\"/><path class=\"point\" transform=\"translate(272.69,315.5)\" d=\"M3,0A3,3 0 1,1 0,-3A3,3 0 0,1 3,0Z\" style=\"opacity: 1; stroke-width: 0px; fill: rgb(99, 110, 250); fill-opacity: 1;\"/><path class=\"point\" transform=\"translate(278.06,306.96)\" d=\"M3,0A3,3 0 1,1 0,-3A3,3 0 0,1 3,0Z\" style=\"opacity: 1; stroke-width: 0px; fill: rgb(99, 110, 250); fill-opacity: 1;\"/><path class=\"point\" transform=\"translate(283.44,333.11)\" d=\"M3,0A3,3 0 1,1 0,-3A3,3 0 0,1 3,0Z\" style=\"opacity: 1; stroke-width: 0px; fill: rgb(99, 110, 250); fill-opacity: 1;\"/><path class=\"point\" transform=\"translate(288.82,328.1)\" d=\"M3,0A3,3 0 1,1 0,-3A3,3 0 0,1 3,0Z\" style=\"opacity: 1; stroke-width: 0px; fill: rgb(99, 110, 250); fill-opacity: 1;\"/><path class=\"point\" transform=\"translate(294.19,305.28)\" d=\"M3,0A3,3 0 1,1 0,-3A3,3 0 0,1 3,0Z\" style=\"opacity: 1; stroke-width: 0px; fill: rgb(99, 110, 250); fill-opacity: 1;\"/><path class=\"point\" transform=\"translate(299.57,319.26)\" d=\"M3,0A3,3 0 1,1 0,-3A3,3 0 0,1 3,0Z\" style=\"opacity: 1; stroke-width: 0px; fill: rgb(99, 110, 250); fill-opacity: 1;\"/><path class=\"point\" transform=\"translate(304.95,302.05)\" d=\"M3,0A3,3 0 1,1 0,-3A3,3 0 0,1 3,0Z\" style=\"opacity: 1; stroke-width: 0px; fill: rgb(99, 110, 250); fill-opacity: 1;\"/><path class=\"point\" transform=\"translate(310.32,313.95)\" d=\"M3,0A3,3 0 1,1 0,-3A3,3 0 0,1 3,0Z\" style=\"opacity: 1; stroke-width: 0px; fill: rgb(99, 110, 250); fill-opacity: 1;\"/><path class=\"point\" transform=\"translate(315.7,85.48)\" d=\"M3,0A3,3 0 1,1 0,-3A3,3 0 0,1 3,0Z\" style=\"opacity: 1; stroke-width: 0px; fill: rgb(99, 110, 250); fill-opacity: 1;\"/><path class=\"point\" transform=\"translate(321.08,206.6)\" d=\"M3,0A3,3 0 1,1 0,-3A3,3 0 0,1 3,0Z\" style=\"opacity: 1; stroke-width: 0px; fill: rgb(99, 110, 250); fill-opacity: 1;\"/><path class=\"point\" transform=\"translate(326.45,179.05)\" d=\"M3,0A3,3 0 1,1 0,-3A3,3 0 0,1 3,0Z\" style=\"opacity: 1; stroke-width: 0px; fill: rgb(99, 110, 250); fill-opacity: 1;\"/><path class=\"point\" transform=\"translate(331.83,221.61)\" d=\"M3,0A3,3 0 1,1 0,-3A3,3 0 0,1 3,0Z\" style=\"opacity: 1; stroke-width: 0px; fill: rgb(99, 110, 250); fill-opacity: 1;\"/><path class=\"point\" transform=\"translate(337.21,123.75)\" d=\"M3,0A3,3 0 1,1 0,-3A3,3 0 0,1 3,0Z\" style=\"opacity: 1; stroke-width: 0px; fill: rgb(99, 110, 250); fill-opacity: 1;\"/><path class=\"point\" transform=\"translate(342.58,181.41)\" d=\"M3,0A3,3 0 1,1 0,-3A3,3 0 0,1 3,0Z\" style=\"opacity: 1; stroke-width: 0px; fill: rgb(99, 110, 250); fill-opacity: 1;\"/><path class=\"point\" transform=\"translate(347.96,181.72)\" d=\"M3,0A3,3 0 1,1 0,-3A3,3 0 0,1 3,0Z\" style=\"opacity: 1; stroke-width: 0px; fill: rgb(99, 110, 250); fill-opacity: 1;\"/><path class=\"point\" transform=\"translate(353.33,124.05)\" d=\"M3,0A3,3 0 1,1 0,-3A3,3 0 0,1 3,0Z\" style=\"opacity: 1; stroke-width: 0px; fill: rgb(99, 110, 250); fill-opacity: 1;\"/><path class=\"point\" transform=\"translate(358.71,190.23)\" d=\"M3,0A3,3 0 1,1 0,-3A3,3 0 0,1 3,0Z\" style=\"opacity: 1; stroke-width: 0px; fill: rgb(99, 110, 250); fill-opacity: 1;\"/><path class=\"point\" transform=\"translate(364.09,171.59)\" d=\"M3,0A3,3 0 1,1 0,-3A3,3 0 0,1 3,0Z\" style=\"opacity: 1; stroke-width: 0px; fill: rgb(99, 110, 250); fill-opacity: 1;\"/><path class=\"point\" transform=\"translate(369.46,162)\" d=\"M3,0A3,3 0 1,1 0,-3A3,3 0 0,1 3,0Z\" style=\"opacity: 1; stroke-width: 0px; fill: rgb(99, 110, 250); fill-opacity: 1;\"/><path class=\"point\" transform=\"translate(374.84,158.63)\" d=\"M3,0A3,3 0 1,1 0,-3A3,3 0 0,1 3,0Z\" style=\"opacity: 1; stroke-width: 0px; fill: rgb(99, 110, 250); fill-opacity: 1;\"/><path class=\"point\" transform=\"translate(380.22,189.18)\" d=\"M3,0A3,3 0 1,1 0,-3A3,3 0 0,1 3,0Z\" style=\"opacity: 1; stroke-width: 0px; fill: rgb(99, 110, 250); fill-opacity: 1;\"/><path class=\"point\" transform=\"translate(385.59,125.46)\" d=\"M3,0A3,3 0 1,1 0,-3A3,3 0 0,1 3,0Z\" style=\"opacity: 1; stroke-width: 0px; fill: rgb(99, 110, 250); fill-opacity: 1;\"/><path class=\"point\" transform=\"translate(390.97,57.66)\" d=\"M3,0A3,3 0 1,1 0,-3A3,3 0 0,1 3,0Z\" style=\"opacity: 1; stroke-width: 0px; fill: rgb(99, 110, 250); fill-opacity: 1;\"/><path class=\"point\" transform=\"translate(396.35,21.75)\" d=\"M3,0A3,3 0 1,1 0,-3A3,3 0 0,1 3,0Z\" style=\"opacity: 1; stroke-width: 0px; fill: rgb(99, 110, 250); fill-opacity: 1;\"/><path class=\"point\" transform=\"translate(401.72,63.63)\" d=\"M3,0A3,3 0 1,1 0,-3A3,3 0 0,1 3,0Z\" style=\"opacity: 1; stroke-width: 0px; fill: rgb(99, 110, 250); fill-opacity: 1;\"/><path class=\"point\" transform=\"translate(407.1,35.05)\" d=\"M3,0A3,3 0 1,1 0,-3A3,3 0 0,1 3,0Z\" style=\"opacity: 1; stroke-width: 0px; fill: rgb(99, 110, 250); fill-opacity: 1;\"/><path class=\"point\" transform=\"translate(412.47,52.04)\" d=\"M3,0A3,3 0 1,1 0,-3A3,3 0 0,1 3,0Z\" style=\"opacity: 1; stroke-width: 0px; fill: rgb(99, 110, 250); fill-opacity: 1;\"/><path class=\"point\" transform=\"translate(417.85,81.31)\" d=\"M3,0A3,3 0 1,1 0,-3A3,3 0 0,1 3,0Z\" style=\"opacity: 1; stroke-width: 0px; fill: rgb(99, 110, 250); fill-opacity: 1;\"/><path class=\"point\" transform=\"translate(423.23,79.53)\" d=\"M3,0A3,3 0 1,1 0,-3A3,3 0 0,1 3,0Z\" style=\"opacity: 1; stroke-width: 0px; fill: rgb(99, 110, 250); fill-opacity: 1;\"/><path class=\"point\" transform=\"translate(428.6,78.66)\" d=\"M3,0A3,3 0 1,1 0,-3A3,3 0 0,1 3,0Z\" style=\"opacity: 1; stroke-width: 0px; fill: rgb(99, 110, 250); fill-opacity: 1;\"/><path class=\"point\" transform=\"translate(433.98,62.07)\" d=\"M3,0A3,3 0 1,1 0,-3A3,3 0 0,1 3,0Z\" style=\"opacity: 1; stroke-width: 0px; fill: rgb(99, 110, 250); fill-opacity: 1;\"/><path class=\"point\" transform=\"translate(439.36,65.07)\" d=\"M3,0A3,3 0 1,1 0,-3A3,3 0 0,1 3,0Z\" style=\"opacity: 1; stroke-width: 0px; fill: rgb(99, 110, 250); fill-opacity: 1;\"/><path class=\"point\" transform=\"translate(444.73,87.23)\" d=\"M3,0A3,3 0 1,1 0,-3A3,3 0 0,1 3,0Z\" style=\"opacity: 1; stroke-width: 0px; fill: rgb(99, 110, 250); fill-opacity: 1;\"/><path class=\"point\" transform=\"translate(450.11,95.21)\" d=\"M3,0A3,3 0 1,1 0,-3A3,3 0 0,1 3,0Z\" style=\"opacity: 1; stroke-width: 0px; fill: rgb(99, 110, 250); fill-opacity: 1;\"/><path class=\"point\" transform=\"translate(455.49,110.82)\" d=\"M3,0A3,3 0 1,1 0,-3A3,3 0 0,1 3,0Z\" style=\"opacity: 1; stroke-width: 0px; fill: rgb(99, 110, 250); fill-opacity: 1;\"/><path class=\"point\" transform=\"translate(460.86,25.09)\" d=\"M3,0A3,3 0 1,1 0,-3A3,3 0 0,1 3,0Z\" style=\"opacity: 1; stroke-width: 0px; fill: rgb(99, 110, 250); fill-opacity: 1;\"/><path class=\"point\" transform=\"translate(466.24,88.51)\" d=\"M3,0A3,3 0 1,1 0,-3A3,3 0 0,1 3,0Z\" style=\"opacity: 1; stroke-width: 0px; fill: rgb(99, 110, 250); fill-opacity: 1;\"/><path class=\"point\" transform=\"translate(471.62,71.4)\" d=\"M3,0A3,3 0 1,1 0,-3A3,3 0 0,1 3,0Z\" style=\"opacity: 1; stroke-width: 0px; fill: rgb(99, 110, 250); fill-opacity: 1;\"/><path class=\"point\" transform=\"translate(476.99,106.2)\" d=\"M3,0A3,3 0 1,1 0,-3A3,3 0 0,1 3,0Z\" style=\"opacity: 1; stroke-width: 0px; fill: rgb(99, 110, 250); fill-opacity: 1;\"/><path class=\"point\" transform=\"translate(482.37,86.11)\" d=\"M3,0A3,3 0 1,1 0,-3A3,3 0 0,1 3,0Z\" style=\"opacity: 1; stroke-width: 0px; fill: rgb(99, 110, 250); fill-opacity: 1;\"/><path class=\"point\" transform=\"translate(487.74,107.75)\" d=\"M3,0A3,3 0 1,1 0,-3A3,3 0 0,1 3,0Z\" style=\"opacity: 1; stroke-width: 0px; fill: rgb(99, 110, 250); fill-opacity: 1;\"/><path class=\"point\" transform=\"translate(493.12,156.91)\" d=\"M3,0A3,3 0 1,1 0,-3A3,3 0 0,1 3,0Z\" style=\"opacity: 1; stroke-width: 0px; fill: rgb(99, 110, 250); fill-opacity: 1;\"/><path class=\"point\" transform=\"translate(498.5,154.43)\" d=\"M3,0A3,3 0 1,1 0,-3A3,3 0 0,1 3,0Z\" style=\"opacity: 1; stroke-width: 0px; fill: rgb(99, 110, 250); fill-opacity: 1;\"/><path class=\"point\" transform=\"translate(503.87,91.55)\" d=\"M3,0A3,3 0 1,1 0,-3A3,3 0 0,1 3,0Z\" style=\"opacity: 1; stroke-width: 0px; fill: rgb(99, 110, 250); fill-opacity: 1;\"/><path class=\"point\" transform=\"translate(509.25,82.39)\" d=\"M3,0A3,3 0 1,1 0,-3A3,3 0 0,1 3,0Z\" style=\"opacity: 1; stroke-width: 0px; fill: rgb(99, 110, 250); fill-opacity: 1;\"/></g><g class=\"text\"/></g></g></g><g class=\"overplot\"/><path class=\"xlines-above crisp\" d=\"M0,0\" style=\"fill: none;\"/><path class=\"ylines-above crisp\" d=\"M0,0\" style=\"fill: none;\"/><g class=\"overlines-above\"/><g class=\"xaxislayer-above\"><g class=\"xtick\"><text text-anchor=\"middle\" x=\"0\" y=\"433\" transform=\"translate(133.02,0)\" style=\"font-family: 'Open Sans', verdana, arial, sans-serif; font-size: 12px; fill: rgb(42, 63, 95); fill-opacity: 1; white-space: pre; opacity: 1;\">Apr 2019</text></g><g class=\"xtick\"><text text-anchor=\"middle\" x=\"0\" y=\"433\" style=\"font-family: 'Open Sans', verdana, arial, sans-serif; font-size: 12px; fill: rgb(42, 63, 95); fill-opacity: 1; white-space: pre; opacity: 1;\" transform=\"translate(202.92000000000002,0)\">Jul 2019</text></g><g class=\"xtick\"><text text-anchor=\"middle\" x=\"0\" y=\"433\" style=\"font-family: 'Open Sans', verdana, arial, sans-serif; font-size: 12px; fill: rgb(42, 63, 95); fill-opacity: 1; white-space: pre; opacity: 1;\" transform=\"translate(273.58000000000004,0)\">Oct 2019</text></g><g class=\"xtick\"><text text-anchor=\"middle\" x=\"0\" y=\"433\" style=\"font-family: 'Open Sans', verdana, arial, sans-serif; font-size: 12px; fill: rgb(42, 63, 95); fill-opacity: 1; white-space: pre; opacity: 1;\" transform=\"translate(344.24,0)\">Jan 2020</text></g><g class=\"xtick\"><text text-anchor=\"middle\" x=\"0\" y=\"433\" style=\"font-family: 'Open Sans', verdana, arial, sans-serif; font-size: 12px; fill: rgb(42, 63, 95); fill-opacity: 1; white-space: pre; opacity: 1;\" transform=\"translate(414.13,0)\">Apr 2020</text></g><g class=\"xtick\"><text text-anchor=\"middle\" x=\"0\" y=\"433\" style=\"font-family: 'Open Sans', verdana, arial, sans-serif; font-size: 12px; fill: rgb(42, 63, 95); fill-opacity: 1; white-space: pre; opacity: 1;\" transform=\"translate(484.03,0)\">Jul 2020</text></g><g class=\"xtick\"><text text-anchor=\"middle\" x=\"0\" y=\"433\" style=\"font-family: 'Open Sans', verdana, arial, sans-serif; font-size: 12px; fill: rgb(42, 63, 95); fill-opacity: 1; white-space: pre; opacity: 1;\" transform=\"translate(554.69,0)\">Oct 2020</text></g></g><g class=\"yaxislayer-above\"><g class=\"ytick\"><text text-anchor=\"end\" x=\"79\" y=\"4.199999999999999\" transform=\"translate(0,363.98)\" style=\"font-family: 'Open Sans', verdana, arial, sans-serif; font-size: 12px; fill: rgb(42, 63, 95); fill-opacity: 1; white-space: pre; opacity: 1;\">1</text></g><g class=\"ytick\"><text text-anchor=\"end\" x=\"79\" y=\"4.199999999999999\" style=\"font-family: 'Open Sans', verdana, arial, sans-serif; font-size: 12px; fill: rgb(42, 63, 95); fill-opacity: 1; white-space: pre; opacity: 1;\" transform=\"translate(0,292.35)\">1.5</text></g><g class=\"ytick\"><text text-anchor=\"end\" x=\"79\" y=\"4.199999999999999\" style=\"font-family: 'Open Sans', verdana, arial, sans-serif; font-size: 12px; fill: rgb(42, 63, 95); fill-opacity: 1; white-space: pre; opacity: 1;\" transform=\"translate(0,220.71)\">2</text></g><g class=\"ytick\"><text text-anchor=\"end\" x=\"79\" y=\"4.199999999999999\" style=\"font-family: 'Open Sans', verdana, arial, sans-serif; font-size: 12px; fill: rgb(42, 63, 95); fill-opacity: 1; white-space: pre; opacity: 1;\" transform=\"translate(0,149.07)\">2.5</text></g><g class=\"ytick\"><text text-anchor=\"end\" x=\"79\" y=\"4.199999999999999\" style=\"font-family: 'Open Sans', verdana, arial, sans-serif; font-size: 12px; fill: rgb(42, 63, 95); fill-opacity: 1; white-space: pre; opacity: 1;\" transform=\"translate(0,77.43)\">3</text></g></g><g class=\"overaxes-above\"/></g></g><g class=\"polarlayer\"/><g class=\"smithlayer\"/><g class=\"ternarylayer\"/><g class=\"geolayer\"/><g class=\"funnelarealayer\"/><g class=\"pielayer\"/><g class=\"iciclelayer\"/><g class=\"treemaplayer\"/><g class=\"sunburstlayer\"/><g class=\"glimages\"/><defs id=\"topdefs-64c3a5\"><g class=\"clips\"/></defs><g class=\"layer-above\"><g class=\"imagelayer\"/><g class=\"shapelayer\"/></g><g class=\"infolayer\"><g class=\"g-gtitle\"/><g class=\"g-xtitle\"><text class=\"xtitle\" x=\"350\" y=\"460.8\" text-anchor=\"middle\" style=\"font-family: 'Open Sans', verdana, arial, sans-serif; font-size: 14px; fill: rgb(42, 63, 95); opacity: 1; font-weight: normal; white-space: pre;\">params.week_end_experiment_end_date</text></g><g class=\"g-ytitle\"><text class=\"ytitle\" transform=\"rotate(-90,34.575,240)\" x=\"34.575\" y=\"240\" text-anchor=\"middle\" style=\"font-family: 'Open Sans', verdana, arial, sans-serif; font-size: 14px; fill: rgb(42, 63, 95); opacity: 1; font-weight: normal; white-space: pre;\">metrics.weekly_rmse</text></g></g></svg>"
     },
     "metadata": {},
     "output_type": "display_data"
    }
   ],
   "source": [
    "fig = px.line(expirement_results,  y='metrics.weekly_rmse', markers=True)\n",
    "fig.show()"
   ]
  },
  {
   "cell_type": "code",
   "execution_count": null,
   "id": "f7a95131",
   "metadata": {},
   "outputs": [],
   "source": []
  }
 ],
 "metadata": {
  "hide_input": false,
  "kernelspec": {
   "display_name": "anaconda_env",
   "language": "python",
   "name": "anaconda_env"
  },
  "language_info": {
   "codemirror_mode": {
    "name": "ipython",
    "version": 3
   },
   "file_extension": ".py",
   "mimetype": "text/x-python",
   "name": "python",
   "nbconvert_exporter": "python",
   "pygments_lexer": "ipython3",
   "version": "3.9.12"
  },
  "toc": {
   "base_numbering": 1,
   "nav_menu": {},
   "number_sections": true,
   "sideBar": true,
   "skip_h1_title": false,
   "title_cell": "Table of Contents",
   "title_sidebar": "Contents",
   "toc_cell": false,
   "toc_position": {
    "height": "calc(100% - 180px)",
    "left": "10px",
    "top": "150px",
    "width": "384px"
   },
   "toc_section_display": true,
   "toc_window_display": false
  },
  "varInspector": {
   "cols": {
    "lenName": 16,
    "lenType": 16,
    "lenVar": 40
   },
   "kernels_config": {
    "python": {
     "delete_cmd_postfix": "",
     "delete_cmd_prefix": "del ",
     "library": "var_list.py",
     "varRefreshCmd": "print(var_dic_list())"
    },
    "r": {
     "delete_cmd_postfix": ") ",
     "delete_cmd_prefix": "rm(",
     "library": "var_list.r",
     "varRefreshCmd": "cat(var_dic_list()) "
    }
   },
   "types_to_exclude": [
    "module",
    "function",
    "builtin_function_or_method",
    "instance",
    "_Feature"
   ],
   "window_display": false
  }
 },
 "nbformat": 4,
 "nbformat_minor": 5
}
